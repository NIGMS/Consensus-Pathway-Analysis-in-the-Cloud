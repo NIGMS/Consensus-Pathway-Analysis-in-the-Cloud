{
 "cells": [
  {
   "cell_type": "markdown",
   "id": "68e3537d",
   "metadata": {
    "editable": true,
    "slideshow": {
     "slide_type": ""
    },
    "tags": []
   },
   "source": [
    "# Processing Expression Data\n",
    "\n",
    "![](./images/Module1/Data_Processing.jpg)\n",
    "\n",
    "### Learning Objectives:\n",
    "1. Explore data that is accessible from Gene Expression Omnibus (GEO) database.\n",
    "2. Be familiar with navigating the GEO website.\n",
    "3. Use R command-line interface to download data from GEO.\n",
    "4. Understand the associated tools and databases for processing the downloaded data.\n",
    "5. Save processed data on Google Cloud Storage bucket.\n",
    "\n",
    "### Neccessary Files:\n",
    "This module requires the following file types as input:\n",
    "1. A gene expression/read count matrix file. The matrix file is a table that contains the gene expression/read counts for each gene in each sample. The matrix can be saved in any format, e.g., TXT, CSV, TSV, etc, depending on what data processing pipelines that users use to generate the matrix file. The rows in the matrix are genes while the columns are samples. An example of gene expression matrix is shown as below:\n",
    "\n",
    "|             | GSM119615          | GSM119616          | GSM119617          | GSM119618          | GSM119619          \n",
    "|:-----------:|:------------------:|:------------------:|:------------------:|:------------------:|:------------------:|\n",
    "| 1007_s_at | 3.04323425517482 | 3.05515684574341 | 3.14427732331235 | 3.15037838740089 | 3.08433619779214 |\n",
    "| 1053_at   | 1.6989741372678  | 1.64505044064649 | 1.61853660336629 | 1.58921620872969 | 1.67627846534405 |\n",
    "| 117_at    | 1.79575122130175 | 1.77071939589223 | 1.8055973820331  | 1.99579428666963 | 1.68806828653924 |\n",
    "| 121_at    | 2.55317399472689 | 2.66845569269254 | 2.80145009438891 | 2.78421648767123 | 2.58863789167533 |\n",
    "| 1255_g_at | 1.62669072298292 | 1.94005524422883 | 1.66316207819754 | 1.48387481399009 | 2.35409631475498 |\n",
    "| 1294_at   | 2.15769922107969 | 2.10854830137981 | 2.132317337458   | 2.22314803446085 | 2.10343010241396 |\n",
    "| 1316_at   | 2.73283077324695 | 2.77202911328326 | 2.8260604261457  | 2.89151133821962 | 2.81511829114971 |\n",
    "| 1320_at   | 1.87645993353949 | 1.59382141967117 | 1.75432635895642 | 1.64210915908087 | 1.60903888696797 |\n",
    "\n",
    "2. A spreadsheet containing sample information, which can be CSV or TSV format. In this spreadsheet, each row represents a sample, and each column represents its attribute, e.g., sample ID, disease status, tissue, platform, etc. An example of this spreadsheet is shown as below:\n",
    "\n",
    "|             | title              | sampleID     | Sex.ch1            | condition          | region                            |\n",
    "|:-----------:|:------------------:|:------------------:|:------------------:|:------------------:|:---------------------------------:|\n",
    "| GSM119615 | EC control 1     | GSM119615        | male             | normal           | organ.region..entorhinal.cortex.|\n",
    "| GSM119616 | EC control 2     | GSM119616        | male             | normal           | organ.region..entorhinal.cortex.|\n",
    "| GSM119617 | EC control 3     | GSM119617        | male             | normal           | organ.region..entorhinal.cortex.|\n",
    "| GSM119618 | EC control 4     | GSM119618        | male             | normal           | organ.region..entorhinal.cortex.|\n",
    "| GSM119619 | EC control 5     | GSM119619        | female           | normal           | organ.region..entorhinal.cortex.|\n",
    "\n",
    "<ins>**Note for users:**</ins> In our training modules of consensus pathway analysis, we will forcus on working with the processed data provided as a table, which ensures the reproducibility of all of the analyses introduced. \n",
    "Therefore, if users would like to learn how to process the raw data, we recommend users to learn it from other sources or looking into other training modules in this NIH NGIMS Sanbox project <a href=\"https://github.com/NIGMS/NIGMS-Sandbox/\"> https://github.com/NIGMS/NIGMS-Sandbox/</a>, which consists the training sessions from processing high-throughput data to many different downstream analysis such as pathway analysis or multi omics data integration.\n",
    "\n",
    "\n",
    "### Table of Contents\n",
    "\n",
    "1. [Manually Upload Data to Cloud](#dt-manual)\n",
    "\n",
    "2. [Query Public Data Using R Command Lines:](#dt-query)\n",
    "\n",
    "3. [Process Data For Downstream Analysis](#dt-process)\n",
    "\n",
    "   - 3.1. [Data normalization](#dp-dtnorm)\n",
    "   - 3.2. [Samples Condition Extraction](#dp-samplextract)\n",
    "   - 3.3. [Gene IDs Conversion](#dp-convert)\n",
    "  \n",
    "4. [Exporting the Data](#dt-export)\n",
    "5. [Storing files in a Google Cloud Bucket](#dt-cloud)"
   ]
  },
  {
   "cell_type": "markdown",
   "id": "a992013a-eeef-47a7-bf24-537f7768f0f2",
   "metadata": {},
   "source": [
    "<!-- headings -->\n",
    "<a id=\"dt-manual\"></a>\n",
    "## 1. Manually Upload Data to Cloud\n",
    "### Upload data to Vertex AI Instance\n",
    "Users can upload the data directly to the cloud by simply using the user interface of this Jupyter Notebook. The instructions are shown in the following figure:\n",
    "![](./images/Module1/Data_Uploading_VAI.png)\n",
    "\n",
    "### Upload data to Cloud Storage Bucket\n",
    "Alternately, users can also upload their data to the Cloud Storage Bucket. The data may be lost after users delete the Vertex AI Instance, so storing them to the Cloud Storage Bucket allows users to use the data anytime they want. The instructions to upload the data to the Cloud Storage Bucket are shown in the following figure:\n",
    "1. On the webpage of Google Cloud account, find and select `Cloud Storage`, then select `Buckets`.\n",
    "2. Select `CREATE` button to create a new bucket.\n",
    "3. Enter the information such as name, region, etc, required for creating the bucket. Note that users can define the access control in this step, and edit the access later once users wants to share their data.\n",
    "4. Click `CREATE` once the all required information are provided.\n",
    "5. The dashboard listing all the buckets users created is shown in the figure below:\n",
    "![](./images/Module1/Data_CloudBucket.png)\n",
    "7. Click on the bucket's name and start upload data to the bucket as following figure:\n",
    "![](./images/Module1/Data_Uploading_CloudBucket.png)\n",
    "\n",
    "Once the uploading is done, users can simply load the data to their instance by running the following command syntax in R code block: `system(\"gsutil cp gs://<BUCKET-NAME>/<FILE-NAME> <DESTINATION>\")`. For example, we run the following command lines to load the data we store in the Cloud Storage Bucket:"
   ]
  },
  {
   "cell_type": "code",
   "execution_count": 2,
   "id": "dd7fda88-9c43-49e5-a464-d504fb200512",
   "metadata": {},
   "outputs": [],
   "source": [
    "# Download the files from Cloud Storage Bucket to the \"data\" folder in current directory\n",
    "system(\"gsutil cp gs://ccpa_bucket/GSE5281.csv ./data/\")\n",
    "system(\"gsutil cp gs://ccpa_bucket/GSE5281_SampleInfo.csv ./data/\")"
   ]
  },
  {
   "attachments": {},
   "cell_type": "markdown",
   "id": "5ae77e2e",
   "metadata": {
    "editable": true,
    "jp-MarkdownHeadingCollapsed": true,
    "slideshow": {
     "slide_type": ""
    },
    "tags": []
   },
   "source": [
    "<!-- headings -->\n",
    "<a id=\"dt-query\"></a>\n",
    "## 2. Query Public Data Using R Command Lines:\n",
    "Users can also using R to query expression data from many public databases such as: Gene Expression Omnibus (GEO), The Cancer Genome Atlas (TCGA), etc.\n",
    "There are many R packages specifically built for querying data from these database. In this section, we will download and process the two Alzheimer's datasets from GE), with accession numbers: GSE5281 (Microarray) and GSE153873 (RNA-Seq), using the `GEOQuery` R package. For other databases, we suggest users to look for the designated packages on many R communities such as CRAN or BioConductor.\n",
    "\n",
    "### Browsing data on The Gene Expression Omnibus (GEO):\n",
    "The Gene Expression Omnibus (GEO) is a public repository that accumulates and serves gene expression data, such as microarray, next-generation sequencing, and other forms of high-throughput functional genomic data, from thousands of studies submitted by the scientific community. \n",
    "The data come with written descriptions of experimental design, sample characteristics, and methodology for studies of high-throughput gene expression and genomics. \n",
    "\n",
    "Browsing the content on the GEO website is user-friendly and relatively straightforward. First, users need to navigate to <a href=\"https://www.ncbi.nlm.nih.gov/geo/\"> https://www.ncbi.nlm.nih.gov/geo/</a>. The GEO website interface is shown in the figure below:\n",
    "\n",
    "![](./images/Module1/GEO_Website.png)\n",
    "\n",
    "The most straight-forward is to click on the contents under the `Browse Content` column.\n",
    "For example, if we click on the `Series`, we can see the following web page:\n",
    "\n",
    "![](./images/Module1/GEO_Website_Screening.png)\n",
    "\n",
    "From the figure, we can see the list data series that are available on GEO, provided with basic information about the series including accession ID, title, type of sequencing platform, organism, number of samples, referenced dataset ID, list of supplementary files, contact person and release data. Of note, the `Supplementary` column also specifies whether there are available raw data in the series. We can apply the filter in these columns to find the datasets that matched our research. Given the data series of interest, we can click on the accession number to further explore the data. \n",
    "\n",
    "Alternatively, if we know the accession number, we can provide it to the search box on the homepage. Now, we will search for the two datasets that we are going to use in the learning module.\n",
    "The GEO website interface with the searching procedure of the example dataset is shown in the figure below:\n",
    "\n",
    "![](./images/Module1/GEO_Website_Searchbox.png)\n",
    "\n",
    "When the searching process is done, a webpage with a detailed record of the example dataset such as published date, title, organism, experiment type, dataset summary, etc. will be shown in the figure below:\n",
    "\n",
    "![](./images/Module1/GEO_Dataset_Page.png)\n",
    "\n",
    "At the bottom of the dataset page, users will find additional information about the dataset such as sequencing platform, number of samples, project ID, and links to download the expression data. Users can also click the `(http)` hyperlink to download all the samples or click `(custom)` to select and download the samples of interest. Note that, expression data downloaded at this step may be raw data and additional data processing needs to be done locally for further analysis."
   ]
  },
  {
   "cell_type": "markdown",
   "id": "61e0d237-cf6a-465c-93f8-d9bbc6d93a6d",
   "metadata": {
    "editable": true,
    "slideshow": {
     "slide_type": ""
    },
    "tags": []
   },
   "source": [
    "To display the quiz in all the learning sub-modules, it is necessary to have the `IRdisplay` package pre-installed.\n",
    "This package allows quizzes written in `html` format to show up in the notebook. Users can install the `IRdisplay` using the following command:\n",
    "```\n",
    "suppressWarnings(if (!require(\"IRdisplay\")) install.packages(\"IRdisplay\"))\n",
    "suppressWarnings(library(IRdisplay))\n",
    "```\n"
   ]
  },
  {
   "cell_type": "code",
   "execution_count": 3,
   "id": "02d33273-5c2e-42fb-85f7-1b2943631f5a",
   "metadata": {
    "tags": []
   },
   "outputs": [
    {
     "data": {
      "text/html": [
       "<iframe src=\"./Quizzes/Quiz_Submodule1.html\" width=100% height=250></iframe>"
      ]
     },
     "metadata": {},
     "output_type": "display_data"
    }
   ],
   "source": [
    "# Run the following command to take the quiz\n",
    "IRdisplay::display_html('<iframe src=\"./Quizzes/Quiz_Submodule1.html\" width=100% height=250></iframe>')"
   ]
  },
  {
   "cell_type": "markdown",
   "id": "13964320",
   "metadata": {},
   "source": [
    "### Access GEO Data Using R Command Line\n",
    "\n",
    "Getting data from GEO is quite easy using <a href=\"https://bioconductor.org/packages/release/bioc/html/GEOquery.html\">GEOquery</a> R package available in <a href=\"https://bioconductor.org/\">Bioconductor</a>. Before starting, users will need to install the GEOquery package using the following command."
   ]
  },
  {
   "cell_type": "code",
   "execution_count": 4,
   "id": "86a5586b-b450-4557-84fe-a6d24eda03a1",
   "metadata": {},
   "outputs": [],
   "source": [
    "# Specify path to install site packages\n",
    "# .libPaths(\"/home/jupyter/.R/library\")\n",
    ".libPaths(\"/home/han/R/x86_64-pc-linux-gnu-library/4.1\")"
   ]
  },
  {
   "cell_type": "code",
   "execution_count": 5,
   "id": "77bf03b8",
   "metadata": {
    "pycharm": {
     "is_executing": true
    },
    "tags": []
   },
   "outputs": [],
   "source": [
    "# Install required package\n",
    "suppressMessages({\n",
    "    \n",
    "    if (!require(\"BiocManager\", quietly = TRUE)) {\n",
    "        suppressWarnings(install.packages(\"BiocManager\"))\n",
    "\n",
    "    }  \n",
    "    suppressWarnings(BiocManager::install(\"GEOquery\", update = F))\n",
    "})\n",
    "\n",
    "# Check if the package is installed\n",
    "suppressMessages(library(\"GEOquery\"))"
   ]
  },
  {
   "cell_type": "markdown",
   "id": "1624fe5a",
   "metadata": {},
   "source": [
    "#### Access GEO Microarray Dataset: GSE5281\n",
    "We can use the `getGEO` function from the `GEOquery` package to download GEO dataset. First, users have to specify the accession ID of the dataset. For this demonstration, we will use the same dataset `GSE48350`."
   ]
  },
  {
   "cell_type": "code",
   "execution_count": 6,
   "id": "6e56fd57-3a91-4715-962b-07f43324c519",
   "metadata": {
    "tags": []
   },
   "outputs": [],
   "source": [
    "# Specify GEO accession ID\n",
    "accession_ID <- \"GSE5281\"\n",
    "\n",
    "# Specify directory to save the data\n",
    "save_Path <- \"./data\"\n",
    "\n",
    "# Download the data\n",
    "suppressMessages({\n",
    "    gse <- getGEO(GEO = accession_ID, destdir = save_Path)\n",
    "})"
   ]
  },
  {
   "cell_type": "markdown",
   "id": "c983800f-61f1-49e4-9f51-2431875ada39",
   "metadata": {},
   "source": [
    "To use the `getGEO` function, you need to pass the following arguments:\n",
    "\n",
    "- `GEO`: A character string representing the GEO accession ID\n",
    "- `destdir`: A character string representing the destination directory to save the downloaded data.\n",
    "\n",
    "The `getGEO` function will return a list of `ExpressionSet` objects. This list can contain more than 1 object. It is because some datasets on GEO may be derived from different microarray platforms. Therefore, each object in the returned list is with repect to data generated from a particular platform.\n",
    "We can find out how many platforms were used by checking the length of the `gse` object."
   ]
  },
  {
   "cell_type": "code",
   "execution_count": 7,
   "id": "1d028647",
   "metadata": {
    "pycharm": {
     "is_executing": true
    },
    "scrolled": true,
    "tags": []
   },
   "outputs": [
    {
     "name": "stderr",
     "output_type": "stream",
     "text": [
      "Number of platforms: 1\n",
      "\n"
     ]
    }
   ],
   "source": [
    "# Check how many platforms used\n",
    "message(paste0(\"Number of platforms: \", length(gse)))"
   ]
  },
  {
   "cell_type": "markdown",
   "id": "6a3cdf0c-578d-4fed-a98a-7c4341af2e7e",
   "metadata": {},
   "source": [
    "The result shows that we have only one dataset that belongs to the microarray platform mentioned GEO dataset page.\n",
    "Next, we can access the gene expression matrix, samples and genes information using the specific accesor functions as follows:"
   ]
  },
  {
   "cell_type": "code",
   "execution_count": 8,
   "id": "99e9ee50-8a54-4a03-956c-72ee4cad4bf4",
   "metadata": {
    "pycharm": {
     "is_executing": true
    },
    "tags": []
   },
   "outputs": [
    {
     "name": "stdout",
     "output_type": "stream",
     "text": [
      "[1] \"The dataset contains 161 samples and 54675 genes\"\n"
     ]
    }
   ],
   "source": [
    "# Extract the dataset from the gse object\n",
    "data <- gse[[1]]\n",
    "\n",
    "# Access to the gene expression matrix\n",
    "GSE5281Exprs <- exprs(data)\n",
    "\n",
    "# Access to the samples information\n",
    "GSE5281Samples <- pData(data)\n",
    "\n",
    "# Check the number of samples and genes\n",
    "print(paste0(\"The dataset contains \", dim(GSE5281Exprs)[2] , \" samples and \", dim(GSE5281Exprs)[1], \" genes\"))"
   ]
  },
  {
   "cell_type": "code",
   "execution_count": 9,
   "id": "fff0d9e1-c932-4cd8-bb22-2e9c1421b14f",
   "metadata": {
    "tags": []
   },
   "outputs": [
    {
     "data": {
      "text/html": [
       "<iframe src=\"./Quizzes/Quiz_Submodule1-1.html\" width=100% height=250></iframe>"
      ]
     },
     "metadata": {},
     "output_type": "display_data"
    }
   ],
   "source": [
    "# Run the following command to take the quiz\n",
    "IRdisplay::display_html('<iframe src=\"./Quizzes/Quiz_Submodule1-1.html\" width=100% height=250></iframe>')"
   ]
  },
  {
   "cell_type": "markdown",
   "id": "56de1fc1",
   "metadata": {},
   "source": [
    "We can check the data tables we have just accessed by specifying the indexes of rows and columns as follows:"
   ]
  },
  {
   "cell_type": "code",
   "execution_count": 10,
   "id": "3ac10fe6-138e-490b-b4a7-e8b292ab93c1",
   "metadata": {},
   "outputs": [
    {
     "name": "stderr",
     "output_type": "stream",
     "text": [
      "The example of gene expression matrix\n",
      "\n"
     ]
    },
    {
     "data": {
      "text/html": [
       "<table class=\"dataframe\">\n",
       "<caption>A matrix: 10 × 10 of type dbl</caption>\n",
       "<thead>\n",
       "\t<tr><th></th><th scope=col>GSM119615</th><th scope=col>GSM119616</th><th scope=col>GSM119617</th><th scope=col>GSM119618</th><th scope=col>GSM119619</th><th scope=col>GSM119620</th><th scope=col>GSM119621</th><th scope=col>GSM119622</th><th scope=col>GSM119623</th><th scope=col>GSM119624</th></tr>\n",
       "</thead>\n",
       "<tbody>\n",
       "\t<tr><th scope=row>1007_s_at</th><td>693.973300</td><td>807.145140</td><td>1722.625000</td><td>1668.05750</td><td>2231.29690</td><td>990.541000</td><td>1396.82420</td><td>1026.056500</td><td>736.770300</td><td>938.81710</td></tr>\n",
       "\t<tr><th scope=row>1053_at</th><td>  9.755318</td><td> 19.052270</td><td>  13.060389</td><td>  14.65225</td><td> 138.67683</td><td>  7.186742</td><td>  10.17089</td><td>  34.056934</td><td>  7.829473</td><td> 40.23533</td></tr>\n",
       "\t<tr><th scope=row>117_at</th><td> 13.346846</td><td> 18.217276</td><td>  97.425470</td><td>  98.19795</td><td> 106.46844</td><td> 98.710520</td><td> 164.32666</td><td>  46.306164</td><td> 35.067910</td><td> 72.86490</td></tr>\n",
       "\t<tr><th scope=row>121_at</th><td>173.092450</td><td>289.315400</td><td> 537.182800</td><td> 496.34656</td><td> 477.86517</td><td>355.092000</td><td> 467.56790</td><td> 294.583280</td><td>224.524060</td><td>298.28473</td></tr>\n",
       "\t<tr><th scope=row>1255_g_at</th><td> 52.616950</td><td>110.375984</td><td>  99.021736</td><td>  17.30677</td><td> 628.81616</td><td>105.254600</td><td> 142.26918</td><td> 123.016136</td><td>183.396910</td><td>180.81425</td></tr>\n",
       "\t<tr><th scope=row>1294_at</th><td> 67.753624</td><td> 96.780740</td><td>  76.282050</td><td> 189.81960</td><td> 276.47656</td><td>130.088290</td><td> 131.51334</td><td> 109.670810</td><td> 63.197280</td><td> 78.26386</td></tr>\n",
       "\t<tr><th scope=row>1316_at</th><td>209.412200</td><td>470.433070</td><td> 908.266360</td><td>1029.78850</td><td>1366.78370</td><td>624.679260</td><td>1589.27660</td><td> 858.423000</td><td>643.095000</td><td>412.51947</td></tr>\n",
       "\t<tr><th scope=row>1320_at</th><td> 10.765010</td><td>  3.834024</td><td>   7.970618</td><td>   3.46938</td><td>  11.24563</td><td> 22.197855</td><td>   7.77328</td><td>   7.727498</td><td>  4.196418</td><td> 12.77877</td></tr>\n",
       "\t<tr><th scope=row>1405_i_at</th><td> 10.559881</td><td> 27.871660</td><td> 121.391370</td><td>  48.15317</td><td>   3.13764</td><td>  8.126172</td><td>  73.90697</td><td>   9.745271</td><td>  6.104734</td><td> 16.48073</td></tr>\n",
       "\t<tr><th scope=row>1431_at</th><td> 38.878853</td><td> 73.023575</td><td>  17.437328</td><td>  10.58778</td><td> 147.82320</td><td> 24.068861</td><td>  24.42770</td><td>  58.589240</td><td> 84.349400</td><td> 36.49381</td></tr>\n",
       "</tbody>\n",
       "</table>\n"
      ],
      "text/latex": [
       "A matrix: 10 × 10 of type dbl\n",
       "\\begin{tabular}{r|llllllllll}\n",
       "  & GSM119615 & GSM119616 & GSM119617 & GSM119618 & GSM119619 & GSM119620 & GSM119621 & GSM119622 & GSM119623 & GSM119624\\\\\n",
       "\\hline\n",
       "\t1007\\_s\\_at & 693.973300 & 807.145140 & 1722.625000 & 1668.05750 & 2231.29690 & 990.541000 & 1396.82420 & 1026.056500 & 736.770300 & 938.81710\\\\\n",
       "\t1053\\_at &   9.755318 &  19.052270 &   13.060389 &   14.65225 &  138.67683 &   7.186742 &   10.17089 &   34.056934 &   7.829473 &  40.23533\\\\\n",
       "\t117\\_at &  13.346846 &  18.217276 &   97.425470 &   98.19795 &  106.46844 &  98.710520 &  164.32666 &   46.306164 &  35.067910 &  72.86490\\\\\n",
       "\t121\\_at & 173.092450 & 289.315400 &  537.182800 &  496.34656 &  477.86517 & 355.092000 &  467.56790 &  294.583280 & 224.524060 & 298.28473\\\\\n",
       "\t1255\\_g\\_at &  52.616950 & 110.375984 &   99.021736 &   17.30677 &  628.81616 & 105.254600 &  142.26918 &  123.016136 & 183.396910 & 180.81425\\\\\n",
       "\t1294\\_at &  67.753624 &  96.780740 &   76.282050 &  189.81960 &  276.47656 & 130.088290 &  131.51334 &  109.670810 &  63.197280 &  78.26386\\\\\n",
       "\t1316\\_at & 209.412200 & 470.433070 &  908.266360 & 1029.78850 & 1366.78370 & 624.679260 & 1589.27660 &  858.423000 & 643.095000 & 412.51947\\\\\n",
       "\t1320\\_at &  10.765010 &   3.834024 &    7.970618 &    3.46938 &   11.24563 &  22.197855 &    7.77328 &    7.727498 &   4.196418 &  12.77877\\\\\n",
       "\t1405\\_i\\_at &  10.559881 &  27.871660 &  121.391370 &   48.15317 &    3.13764 &   8.126172 &   73.90697 &    9.745271 &   6.104734 &  16.48073\\\\\n",
       "\t1431\\_at &  38.878853 &  73.023575 &   17.437328 &   10.58778 &  147.82320 &  24.068861 &   24.42770 &   58.589240 &  84.349400 &  36.49381\\\\\n",
       "\\end{tabular}\n"
      ],
      "text/markdown": [
       "\n",
       "A matrix: 10 × 10 of type dbl\n",
       "\n",
       "| <!--/--> | GSM119615 | GSM119616 | GSM119617 | GSM119618 | GSM119619 | GSM119620 | GSM119621 | GSM119622 | GSM119623 | GSM119624 |\n",
       "|---|---|---|---|---|---|---|---|---|---|---|\n",
       "| 1007_s_at | 693.973300 | 807.145140 | 1722.625000 | 1668.05750 | 2231.29690 | 990.541000 | 1396.82420 | 1026.056500 | 736.770300 | 938.81710 |\n",
       "| 1053_at |   9.755318 |  19.052270 |   13.060389 |   14.65225 |  138.67683 |   7.186742 |   10.17089 |   34.056934 |   7.829473 |  40.23533 |\n",
       "| 117_at |  13.346846 |  18.217276 |   97.425470 |   98.19795 |  106.46844 |  98.710520 |  164.32666 |   46.306164 |  35.067910 |  72.86490 |\n",
       "| 121_at | 173.092450 | 289.315400 |  537.182800 |  496.34656 |  477.86517 | 355.092000 |  467.56790 |  294.583280 | 224.524060 | 298.28473 |\n",
       "| 1255_g_at |  52.616950 | 110.375984 |   99.021736 |   17.30677 |  628.81616 | 105.254600 |  142.26918 |  123.016136 | 183.396910 | 180.81425 |\n",
       "| 1294_at |  67.753624 |  96.780740 |   76.282050 |  189.81960 |  276.47656 | 130.088290 |  131.51334 |  109.670810 |  63.197280 |  78.26386 |\n",
       "| 1316_at | 209.412200 | 470.433070 |  908.266360 | 1029.78850 | 1366.78370 | 624.679260 | 1589.27660 |  858.423000 | 643.095000 | 412.51947 |\n",
       "| 1320_at |  10.765010 |   3.834024 |    7.970618 |    3.46938 |   11.24563 |  22.197855 |    7.77328 |    7.727498 |   4.196418 |  12.77877 |\n",
       "| 1405_i_at |  10.559881 |  27.871660 |  121.391370 |   48.15317 |    3.13764 |   8.126172 |   73.90697 |    9.745271 |   6.104734 |  16.48073 |\n",
       "| 1431_at |  38.878853 |  73.023575 |   17.437328 |   10.58778 |  147.82320 |  24.068861 |   24.42770 |   58.589240 |  84.349400 |  36.49381 |\n",
       "\n"
      ],
      "text/plain": [
       "          GSM119615  GSM119616  GSM119617   GSM119618  GSM119619  GSM119620 \n",
       "1007_s_at 693.973300 807.145140 1722.625000 1668.05750 2231.29690 990.541000\n",
       "1053_at     9.755318  19.052270   13.060389   14.65225  138.67683   7.186742\n",
       "117_at     13.346846  18.217276   97.425470   98.19795  106.46844  98.710520\n",
       "121_at    173.092450 289.315400  537.182800  496.34656  477.86517 355.092000\n",
       "1255_g_at  52.616950 110.375984   99.021736   17.30677  628.81616 105.254600\n",
       "1294_at    67.753624  96.780740   76.282050  189.81960  276.47656 130.088290\n",
       "1316_at   209.412200 470.433070  908.266360 1029.78850 1366.78370 624.679260\n",
       "1320_at    10.765010   3.834024    7.970618    3.46938   11.24563  22.197855\n",
       "1405_i_at  10.559881  27.871660  121.391370   48.15317    3.13764   8.126172\n",
       "1431_at    38.878853  73.023575   17.437328   10.58778  147.82320  24.068861\n",
       "          GSM119621  GSM119622   GSM119623  GSM119624\n",
       "1007_s_at 1396.82420 1026.056500 736.770300 938.81710\n",
       "1053_at     10.17089   34.056934   7.829473  40.23533\n",
       "117_at     164.32666   46.306164  35.067910  72.86490\n",
       "121_at     467.56790  294.583280 224.524060 298.28473\n",
       "1255_g_at  142.26918  123.016136 183.396910 180.81425\n",
       "1294_at    131.51334  109.670810  63.197280  78.26386\n",
       "1316_at   1589.27660  858.423000 643.095000 412.51947\n",
       "1320_at      7.77328    7.727498   4.196418  12.77877\n",
       "1405_i_at   73.90697    9.745271   6.104734  16.48073\n",
       "1431_at     24.42770   58.589240  84.349400  36.49381"
      ]
     },
     "metadata": {},
     "output_type": "display_data"
    }
   ],
   "source": [
    "message(\"The example of gene expression matrix\")\n",
    "GSE5281Exprs[1:10, 1:10]"
   ]
  },
  {
   "cell_type": "code",
   "execution_count": 11,
   "id": "6530b7bb-a037-4187-ac2b-e544302714d4",
   "metadata": {},
   "outputs": [
    {
     "name": "stderr",
     "output_type": "stream",
     "text": [
      "Example of sample information table\n",
      "\n"
     ]
    },
    {
     "data": {
      "text/html": [
       "<table class=\"dataframe\">\n",
       "<caption>A data.frame: 10 × 10</caption>\n",
       "<thead>\n",
       "\t<tr><th></th><th scope=col>title</th><th scope=col>geo_accession</th><th scope=col>status</th><th scope=col>submission_date</th><th scope=col>last_update_date</th><th scope=col>type</th><th scope=col>channel_count</th><th scope=col>source_name_ch1</th><th scope=col>organism_ch1</th><th scope=col>characteristics_ch1</th></tr>\n",
       "\t<tr><th></th><th scope=col>&lt;chr&gt;</th><th scope=col>&lt;chr&gt;</th><th scope=col>&lt;chr&gt;</th><th scope=col>&lt;chr&gt;</th><th scope=col>&lt;chr&gt;</th><th scope=col>&lt;chr&gt;</th><th scope=col>&lt;chr&gt;</th><th scope=col>&lt;chr&gt;</th><th scope=col>&lt;chr&gt;</th><th scope=col>&lt;chr&gt;</th></tr>\n",
       "</thead>\n",
       "<tbody>\n",
       "\t<tr><th scope=row>GSM119615</th><td>EC control 1 </td><td>GSM119615</td><td>Public on Jul 10 2006</td><td>Jul 10 2006</td><td>Jun 26 2019</td><td>RNA</td><td>1</td><td>brain, Entorhinal Cortex</td><td>Homo sapiens</td><td>Sample Amount: 10 ug</td></tr>\n",
       "\t<tr><th scope=row>GSM119616</th><td>EC control 2 </td><td>GSM119616</td><td>Public on Jul 10 2006</td><td>Jul 10 2006</td><td>Jun 26 2019</td><td>RNA</td><td>1</td><td>brain, Entorhinal Cortex</td><td>Homo sapiens</td><td>Sample Amount: 10 ug</td></tr>\n",
       "\t<tr><th scope=row>GSM119617</th><td>EC control 3 </td><td>GSM119617</td><td>Public on Jul 10 2006</td><td>Jul 10 2006</td><td>Jun 26 2019</td><td>RNA</td><td>1</td><td>brain, Entorhinal Cortex</td><td>Homo sapiens</td><td>Sample Amount: 10 ug</td></tr>\n",
       "\t<tr><th scope=row>GSM119618</th><td>EC control 4 </td><td>GSM119618</td><td>Public on Jul 10 2006</td><td>Jul 10 2006</td><td>Jun 26 2019</td><td>RNA</td><td>1</td><td>brain, Entorhinal Cortex</td><td>Homo sapiens</td><td>Sample Amount: 10 ug</td></tr>\n",
       "\t<tr><th scope=row>GSM119619</th><td>EC control 5 </td><td>GSM119619</td><td>Public on Jul 10 2006</td><td>Jul 10 2006</td><td>Jun 26 2019</td><td>RNA</td><td>1</td><td>brain, Entorhinal Cortex</td><td>Homo sapiens</td><td>Sample Amount: 10 ug</td></tr>\n",
       "\t<tr><th scope=row>GSM119620</th><td>EC control 6 </td><td>GSM119620</td><td>Public on Jul 10 2006</td><td>Jul 10 2006</td><td>Jun 26 2019</td><td>RNA</td><td>1</td><td>brain, Entorhinal Cortex</td><td>Homo sapiens</td><td>Sample Amount: 10 ug</td></tr>\n",
       "\t<tr><th scope=row>GSM119621</th><td>EC control 7 </td><td>GSM119621</td><td>Public on Jul 10 2006</td><td>Jul 10 2006</td><td>Jun 26 2019</td><td>RNA</td><td>1</td><td>brain, Entorhinal Cortex</td><td>Homo sapiens</td><td>Sample Amount: 10 ug</td></tr>\n",
       "\t<tr><th scope=row>GSM119622</th><td>EC control 8 </td><td>GSM119622</td><td>Public on Jul 10 2006</td><td>Jul 10 2006</td><td>Jun 26 2019</td><td>RNA</td><td>1</td><td>brain, Entorhinal Cortex</td><td>Homo sapiens</td><td>Sample Amount: 10 ug</td></tr>\n",
       "\t<tr><th scope=row>GSM119623</th><td>EC control 9 </td><td>GSM119623</td><td>Public on Jul 10 2006</td><td>Jul 10 2006</td><td>Jun 26 2019</td><td>RNA</td><td>1</td><td>brain, Entorhinal Cortex</td><td>Homo sapiens</td><td>Sample Amount: 10 ug</td></tr>\n",
       "\t<tr><th scope=row>GSM119624</th><td>EC control 10</td><td>GSM119624</td><td>Public on Jul 10 2006</td><td>Jul 10 2006</td><td>Jun 26 2019</td><td>RNA</td><td>1</td><td>brain, Entorhinal Cortex</td><td>Homo sapiens</td><td>Sample Amount: 10 ug</td></tr>\n",
       "</tbody>\n",
       "</table>\n"
      ],
      "text/latex": [
       "A data.frame: 10 × 10\n",
       "\\begin{tabular}{r|llllllllll}\n",
       "  & title & geo\\_accession & status & submission\\_date & last\\_update\\_date & type & channel\\_count & source\\_name\\_ch1 & organism\\_ch1 & characteristics\\_ch1\\\\\n",
       "  & <chr> & <chr> & <chr> & <chr> & <chr> & <chr> & <chr> & <chr> & <chr> & <chr>\\\\\n",
       "\\hline\n",
       "\tGSM119615 & EC control 1  & GSM119615 & Public on Jul 10 2006 & Jul 10 2006 & Jun 26 2019 & RNA & 1 & brain, Entorhinal Cortex & Homo sapiens & Sample Amount: 10 ug\\\\\n",
       "\tGSM119616 & EC control 2  & GSM119616 & Public on Jul 10 2006 & Jul 10 2006 & Jun 26 2019 & RNA & 1 & brain, Entorhinal Cortex & Homo sapiens & Sample Amount: 10 ug\\\\\n",
       "\tGSM119617 & EC control 3  & GSM119617 & Public on Jul 10 2006 & Jul 10 2006 & Jun 26 2019 & RNA & 1 & brain, Entorhinal Cortex & Homo sapiens & Sample Amount: 10 ug\\\\\n",
       "\tGSM119618 & EC control 4  & GSM119618 & Public on Jul 10 2006 & Jul 10 2006 & Jun 26 2019 & RNA & 1 & brain, Entorhinal Cortex & Homo sapiens & Sample Amount: 10 ug\\\\\n",
       "\tGSM119619 & EC control 5  & GSM119619 & Public on Jul 10 2006 & Jul 10 2006 & Jun 26 2019 & RNA & 1 & brain, Entorhinal Cortex & Homo sapiens & Sample Amount: 10 ug\\\\\n",
       "\tGSM119620 & EC control 6  & GSM119620 & Public on Jul 10 2006 & Jul 10 2006 & Jun 26 2019 & RNA & 1 & brain, Entorhinal Cortex & Homo sapiens & Sample Amount: 10 ug\\\\\n",
       "\tGSM119621 & EC control 7  & GSM119621 & Public on Jul 10 2006 & Jul 10 2006 & Jun 26 2019 & RNA & 1 & brain, Entorhinal Cortex & Homo sapiens & Sample Amount: 10 ug\\\\\n",
       "\tGSM119622 & EC control 8  & GSM119622 & Public on Jul 10 2006 & Jul 10 2006 & Jun 26 2019 & RNA & 1 & brain, Entorhinal Cortex & Homo sapiens & Sample Amount: 10 ug\\\\\n",
       "\tGSM119623 & EC control 9  & GSM119623 & Public on Jul 10 2006 & Jul 10 2006 & Jun 26 2019 & RNA & 1 & brain, Entorhinal Cortex & Homo sapiens & Sample Amount: 10 ug\\\\\n",
       "\tGSM119624 & EC control 10 & GSM119624 & Public on Jul 10 2006 & Jul 10 2006 & Jun 26 2019 & RNA & 1 & brain, Entorhinal Cortex & Homo sapiens & Sample Amount: 10 ug\\\\\n",
       "\\end{tabular}\n"
      ],
      "text/markdown": [
       "\n",
       "A data.frame: 10 × 10\n",
       "\n",
       "| <!--/--> | title &lt;chr&gt; | geo_accession &lt;chr&gt; | status &lt;chr&gt; | submission_date &lt;chr&gt; | last_update_date &lt;chr&gt; | type &lt;chr&gt; | channel_count &lt;chr&gt; | source_name_ch1 &lt;chr&gt; | organism_ch1 &lt;chr&gt; | characteristics_ch1 &lt;chr&gt; |\n",
       "|---|---|---|---|---|---|---|---|---|---|---|\n",
       "| GSM119615 | EC control 1  | GSM119615 | Public on Jul 10 2006 | Jul 10 2006 | Jun 26 2019 | RNA | 1 | brain, Entorhinal Cortex | Homo sapiens | Sample Amount: 10 ug |\n",
       "| GSM119616 | EC control 2  | GSM119616 | Public on Jul 10 2006 | Jul 10 2006 | Jun 26 2019 | RNA | 1 | brain, Entorhinal Cortex | Homo sapiens | Sample Amount: 10 ug |\n",
       "| GSM119617 | EC control 3  | GSM119617 | Public on Jul 10 2006 | Jul 10 2006 | Jun 26 2019 | RNA | 1 | brain, Entorhinal Cortex | Homo sapiens | Sample Amount: 10 ug |\n",
       "| GSM119618 | EC control 4  | GSM119618 | Public on Jul 10 2006 | Jul 10 2006 | Jun 26 2019 | RNA | 1 | brain, Entorhinal Cortex | Homo sapiens | Sample Amount: 10 ug |\n",
       "| GSM119619 | EC control 5  | GSM119619 | Public on Jul 10 2006 | Jul 10 2006 | Jun 26 2019 | RNA | 1 | brain, Entorhinal Cortex | Homo sapiens | Sample Amount: 10 ug |\n",
       "| GSM119620 | EC control 6  | GSM119620 | Public on Jul 10 2006 | Jul 10 2006 | Jun 26 2019 | RNA | 1 | brain, Entorhinal Cortex | Homo sapiens | Sample Amount: 10 ug |\n",
       "| GSM119621 | EC control 7  | GSM119621 | Public on Jul 10 2006 | Jul 10 2006 | Jun 26 2019 | RNA | 1 | brain, Entorhinal Cortex | Homo sapiens | Sample Amount: 10 ug |\n",
       "| GSM119622 | EC control 8  | GSM119622 | Public on Jul 10 2006 | Jul 10 2006 | Jun 26 2019 | RNA | 1 | brain, Entorhinal Cortex | Homo sapiens | Sample Amount: 10 ug |\n",
       "| GSM119623 | EC control 9  | GSM119623 | Public on Jul 10 2006 | Jul 10 2006 | Jun 26 2019 | RNA | 1 | brain, Entorhinal Cortex | Homo sapiens | Sample Amount: 10 ug |\n",
       "| GSM119624 | EC control 10 | GSM119624 | Public on Jul 10 2006 | Jul 10 2006 | Jun 26 2019 | RNA | 1 | brain, Entorhinal Cortex | Homo sapiens | Sample Amount: 10 ug |\n",
       "\n"
      ],
      "text/plain": [
       "          title         geo_accession status                submission_date\n",
       "GSM119615 EC control 1  GSM119615     Public on Jul 10 2006 Jul 10 2006    \n",
       "GSM119616 EC control 2  GSM119616     Public on Jul 10 2006 Jul 10 2006    \n",
       "GSM119617 EC control 3  GSM119617     Public on Jul 10 2006 Jul 10 2006    \n",
       "GSM119618 EC control 4  GSM119618     Public on Jul 10 2006 Jul 10 2006    \n",
       "GSM119619 EC control 5  GSM119619     Public on Jul 10 2006 Jul 10 2006    \n",
       "GSM119620 EC control 6  GSM119620     Public on Jul 10 2006 Jul 10 2006    \n",
       "GSM119621 EC control 7  GSM119621     Public on Jul 10 2006 Jul 10 2006    \n",
       "GSM119622 EC control 8  GSM119622     Public on Jul 10 2006 Jul 10 2006    \n",
       "GSM119623 EC control 9  GSM119623     Public on Jul 10 2006 Jul 10 2006    \n",
       "GSM119624 EC control 10 GSM119624     Public on Jul 10 2006 Jul 10 2006    \n",
       "          last_update_date type channel_count source_name_ch1         \n",
       "GSM119615 Jun 26 2019      RNA  1             brain, Entorhinal Cortex\n",
       "GSM119616 Jun 26 2019      RNA  1             brain, Entorhinal Cortex\n",
       "GSM119617 Jun 26 2019      RNA  1             brain, Entorhinal Cortex\n",
       "GSM119618 Jun 26 2019      RNA  1             brain, Entorhinal Cortex\n",
       "GSM119619 Jun 26 2019      RNA  1             brain, Entorhinal Cortex\n",
       "GSM119620 Jun 26 2019      RNA  1             brain, Entorhinal Cortex\n",
       "GSM119621 Jun 26 2019      RNA  1             brain, Entorhinal Cortex\n",
       "GSM119622 Jun 26 2019      RNA  1             brain, Entorhinal Cortex\n",
       "GSM119623 Jun 26 2019      RNA  1             brain, Entorhinal Cortex\n",
       "GSM119624 Jun 26 2019      RNA  1             brain, Entorhinal Cortex\n",
       "          organism_ch1 characteristics_ch1 \n",
       "GSM119615 Homo sapiens Sample Amount: 10 ug\n",
       "GSM119616 Homo sapiens Sample Amount: 10 ug\n",
       "GSM119617 Homo sapiens Sample Amount: 10 ug\n",
       "GSM119618 Homo sapiens Sample Amount: 10 ug\n",
       "GSM119619 Homo sapiens Sample Amount: 10 ug\n",
       "GSM119620 Homo sapiens Sample Amount: 10 ug\n",
       "GSM119621 Homo sapiens Sample Amount: 10 ug\n",
       "GSM119622 Homo sapiens Sample Amount: 10 ug\n",
       "GSM119623 Homo sapiens Sample Amount: 10 ug\n",
       "GSM119624 Homo sapiens Sample Amount: 10 ug"
      ]
     },
     "metadata": {},
     "output_type": "display_data"
    }
   ],
   "source": [
    "message(\"Example of sample information table\")\n",
    "GSE5281Samples[1:10, 1:10]"
   ]
  },
  {
   "cell_type": "markdown",
   "id": "53c0c982-5c63-483a-9012-9f1c6a15cfae",
   "metadata": {
    "pycharm": {
     "is_executing": true
    },
    "tags": []
   },
   "source": [
    "The ```GSE5281Samples``` contains the metadata of each sample such as title, status, GEO accession, submission data, etc. "
   ]
  },
  {
   "attachments": {},
   "cell_type": "markdown",
   "id": "dba429e6-ae01-465e-98cd-1f39fa91f621",
   "metadata": {},
   "source": [
    "#### Access GEO RNA-Seq Dataset: GSE153873\n",
    "\n",
    "Microarray data deposited on GEO are usually processed by the authors. In contrast, RNA-Seq data deposited on GEO database are read count matrix without any data normalization. Therefore, there are no `Series Matrix File(s)` available to download. However, the count matrix file is saved as **Supplementary File**. To download it, we will use the function ```getGEOSuppFiles``` instead."
   ]
  },
  {
   "cell_type": "code",
   "execution_count": 12,
   "id": "a6967ee7-fa40-4f44-8e2d-89275a8ccc29",
   "metadata": {},
   "outputs": [
    {
     "data": {
      "text/html": [
       "<style>\n",
       ".list-inline {list-style: none; margin:0; padding: 0}\n",
       ".list-inline>li {display: inline-block}\n",
       ".list-inline>li:not(:last-child)::after {content: \"\\00b7\"; padding: 0 .5ex}\n",
       "</style>\n",
       "<ol class=list-inline><li>'GPL18573.soft.gz'</li><li>'GSE153873_AD.vs.Old_diff.genes.xlsx'</li><li>'GSE153873_series_matrix.txt.gz'</li><li>'GSE153873_summary_count.ercc.txt.gz'</li><li>'GSE153873_summary_count.star.txt.gz'</li></ol>\n"
      ],
      "text/latex": [
       "\\begin{enumerate*}\n",
       "\\item 'GPL18573.soft.gz'\n",
       "\\item 'GSE153873\\_AD.vs.Old\\_diff.genes.xlsx'\n",
       "\\item 'GSE153873\\_series\\_matrix.txt.gz'\n",
       "\\item 'GSE153873\\_summary\\_count.ercc.txt.gz'\n",
       "\\item 'GSE153873\\_summary\\_count.star.txt.gz'\n",
       "\\end{enumerate*}\n"
      ],
      "text/markdown": [
       "1. 'GPL18573.soft.gz'\n",
       "2. 'GSE153873_AD.vs.Old_diff.genes.xlsx'\n",
       "3. 'GSE153873_series_matrix.txt.gz'\n",
       "4. 'GSE153873_summary_count.ercc.txt.gz'\n",
       "5. 'GSE153873_summary_count.star.txt.gz'\n",
       "\n",
       "\n"
      ],
      "text/plain": [
       "[1] \"GPL18573.soft.gz\"                    \"GSE153873_AD.vs.Old_diff.genes.xlsx\"\n",
       "[3] \"GSE153873_series_matrix.txt.gz\"      \"GSE153873_summary_count.ercc.txt.gz\"\n",
       "[5] \"GSE153873_summary_count.star.txt.gz\""
      ]
     },
     "metadata": {},
     "output_type": "display_data"
    }
   ],
   "source": [
    "# Specify GEO accession ID\n",
    "accession_ID <- \"GSE153873\"\n",
    "\n",
    "# Specify directory to save the data\n",
    "save_Path <- \"./data/GSE153873\"\n",
    "\n",
    "# Download supplentary files\n",
    "tmp <- getGEOSuppFiles(GEO = accession_ID, baseDir = \"./data\", fetch_files = TRUE)\n",
    "\n",
    "# Check files in the directory\n",
    "list.files(save_Path)"
   ]
  },
  {
   "attachments": {},
   "cell_type": "markdown",
   "id": "6c780912-0ef6-406b-8653-2fe543e9ffcc",
   "metadata": {},
   "source": [
    "In this code snippet, we use the function getGEOSuppFiles() to download the supplementary files of the dataset GSE153873. The function has the following parameters: \n",
    "- `GEO` – a character parameter that specifies the GEO accession number,\n",
    "- `baseDir` – a character parameter that specifies the directory for downloaded data, and\n",
    "- `fetch_files` – a logical parameter, with TRUE means telling the function to actually download the files and FALSE telling the function to just return the filenames that would have been downloaded.\n",
    "\n",
    "The function returns a data frame in which row names represent the full path to the downloaded files. . We can check the downloaded file in this folder using the function `list.files()`. As we can see in the console output, the raw count data is saved under the name `GSE153873_summary_count.star.txt.gz`. To get the data matrix, users need to run the following command lines:"
   ]
  },
  {
   "cell_type": "code",
   "execution_count": 13,
   "id": "47f53922-7c04-44c3-a6a1-655ba0851119",
   "metadata": {},
   "outputs": [
    {
     "name": "stderr",
     "output_type": "stream",
     "text": [
      "Examine the read count matrix\n",
      "\n"
     ]
    },
    {
     "data": {
      "text/html": [
       "<table class=\"dataframe\">\n",
       "<caption>A data.frame: 10 × 10</caption>\n",
       "<thead>\n",
       "\t<tr><th></th><th scope=col>20-1T-AD</th><th scope=col>13-11T-Old</th><th scope=col>15-13T-Old</th><th scope=col>16-14T-Old</th><th scope=col>3-17T-Young</th><th scope=col>5-18T-Young</th><th scope=col>7-19T-Young</th><th scope=col>21-1A-AD</th><th scope=col>23-2A-AD</th><th scope=col>26-3A-AD</th></tr>\n",
       "\t<tr><th></th><th scope=col>&lt;int&gt;</th><th scope=col>&lt;int&gt;</th><th scope=col>&lt;int&gt;</th><th scope=col>&lt;int&gt;</th><th scope=col>&lt;int&gt;</th><th scope=col>&lt;int&gt;</th><th scope=col>&lt;int&gt;</th><th scope=col>&lt;int&gt;</th><th scope=col>&lt;int&gt;</th><th scope=col>&lt;int&gt;</th></tr>\n",
       "</thead>\n",
       "<tbody>\n",
       "\t<tr><th scope=row>SGIP1</th><td>1405</td><td>1405</td><td>1169</td><td>2408</td><td> 859</td><td>1164</td><td>1402</td><td>1441</td><td>1003</td><td>1265</td></tr>\n",
       "\t<tr><th scope=row>NECAP2</th><td> 295</td><td> 460</td><td> 334</td><td> 347</td><td> 617</td><td> 585</td><td> 372</td><td> 343</td><td> 374</td><td> 315</td></tr>\n",
       "\t<tr><th scope=row>AZIN2</th><td> 356</td><td> 306</td><td> 385</td><td> 507</td><td> 787</td><td> 751</td><td> 577</td><td> 238</td><td> 209</td><td> 241</td></tr>\n",
       "\t<tr><th scope=row>AGBL4</th><td> 191</td><td> 200</td><td> 173</td><td> 323</td><td>  36</td><td>  89</td><td> 184</td><td> 229</td><td> 129</td><td> 154</td></tr>\n",
       "\t<tr><th scope=row>CLIC4</th><td> 876</td><td>1443</td><td> 639</td><td> 792</td><td>4806</td><td>5968</td><td>1392</td><td>1117</td><td>1247</td><td> 929</td></tr>\n",
       "\t<tr><th scope=row>SLC45A1</th><td> 291</td><td> 329</td><td> 298</td><td> 636</td><td> 139</td><td> 204</td><td> 278</td><td> 193</td><td> 152</td><td> 178</td></tr>\n",
       "\t<tr><th scope=row>TGFBR3</th><td> 639</td><td> 650</td><td> 506</td><td> 370</td><td> 425</td><td> 447</td><td> 282</td><td> 792</td><td> 727</td><td> 461</td></tr>\n",
       "\t<tr><th scope=row>DBT</th><td> 623</td><td> 726</td><td> 513</td><td> 633</td><td> 751</td><td> 758</td><td> 498</td><td> 714</td><td> 756</td><td> 655</td></tr>\n",
       "\t<tr><th scope=row>PRUNE1</th><td> 297</td><td> 237</td><td> 200</td><td> 390</td><td> 231</td><td> 254</td><td> 252</td><td> 342</td><td> 228</td><td> 300</td></tr>\n",
       "\t<tr><th scope=row>C1orf21</th><td>2456</td><td>2006</td><td>2092</td><td>3146</td><td> 848</td><td>1147</td><td>1551</td><td>2325</td><td>2439</td><td>2471</td></tr>\n",
       "</tbody>\n",
       "</table>\n"
      ],
      "text/latex": [
       "A data.frame: 10 × 10\n",
       "\\begin{tabular}{r|llllllllll}\n",
       "  & 20-1T-AD & 13-11T-Old & 15-13T-Old & 16-14T-Old & 3-17T-Young & 5-18T-Young & 7-19T-Young & 21-1A-AD & 23-2A-AD & 26-3A-AD\\\\\n",
       "  & <int> & <int> & <int> & <int> & <int> & <int> & <int> & <int> & <int> & <int>\\\\\n",
       "\\hline\n",
       "\tSGIP1 & 1405 & 1405 & 1169 & 2408 &  859 & 1164 & 1402 & 1441 & 1003 & 1265\\\\\n",
       "\tNECAP2 &  295 &  460 &  334 &  347 &  617 &  585 &  372 &  343 &  374 &  315\\\\\n",
       "\tAZIN2 &  356 &  306 &  385 &  507 &  787 &  751 &  577 &  238 &  209 &  241\\\\\n",
       "\tAGBL4 &  191 &  200 &  173 &  323 &   36 &   89 &  184 &  229 &  129 &  154\\\\\n",
       "\tCLIC4 &  876 & 1443 &  639 &  792 & 4806 & 5968 & 1392 & 1117 & 1247 &  929\\\\\n",
       "\tSLC45A1 &  291 &  329 &  298 &  636 &  139 &  204 &  278 &  193 &  152 &  178\\\\\n",
       "\tTGFBR3 &  639 &  650 &  506 &  370 &  425 &  447 &  282 &  792 &  727 &  461\\\\\n",
       "\tDBT &  623 &  726 &  513 &  633 &  751 &  758 &  498 &  714 &  756 &  655\\\\\n",
       "\tPRUNE1 &  297 &  237 &  200 &  390 &  231 &  254 &  252 &  342 &  228 &  300\\\\\n",
       "\tC1orf21 & 2456 & 2006 & 2092 & 3146 &  848 & 1147 & 1551 & 2325 & 2439 & 2471\\\\\n",
       "\\end{tabular}\n"
      ],
      "text/markdown": [
       "\n",
       "A data.frame: 10 × 10\n",
       "\n",
       "| <!--/--> | 20-1T-AD &lt;int&gt; | 13-11T-Old &lt;int&gt; | 15-13T-Old &lt;int&gt; | 16-14T-Old &lt;int&gt; | 3-17T-Young &lt;int&gt; | 5-18T-Young &lt;int&gt; | 7-19T-Young &lt;int&gt; | 21-1A-AD &lt;int&gt; | 23-2A-AD &lt;int&gt; | 26-3A-AD &lt;int&gt; |\n",
       "|---|---|---|---|---|---|---|---|---|---|---|\n",
       "| SGIP1 | 1405 | 1405 | 1169 | 2408 |  859 | 1164 | 1402 | 1441 | 1003 | 1265 |\n",
       "| NECAP2 |  295 |  460 |  334 |  347 |  617 |  585 |  372 |  343 |  374 |  315 |\n",
       "| AZIN2 |  356 |  306 |  385 |  507 |  787 |  751 |  577 |  238 |  209 |  241 |\n",
       "| AGBL4 |  191 |  200 |  173 |  323 |   36 |   89 |  184 |  229 |  129 |  154 |\n",
       "| CLIC4 |  876 | 1443 |  639 |  792 | 4806 | 5968 | 1392 | 1117 | 1247 |  929 |\n",
       "| SLC45A1 |  291 |  329 |  298 |  636 |  139 |  204 |  278 |  193 |  152 |  178 |\n",
       "| TGFBR3 |  639 |  650 |  506 |  370 |  425 |  447 |  282 |  792 |  727 |  461 |\n",
       "| DBT |  623 |  726 |  513 |  633 |  751 |  758 |  498 |  714 |  756 |  655 |\n",
       "| PRUNE1 |  297 |  237 |  200 |  390 |  231 |  254 |  252 |  342 |  228 |  300 |\n",
       "| C1orf21 | 2456 | 2006 | 2092 | 3146 |  848 | 1147 | 1551 | 2325 | 2439 | 2471 |\n",
       "\n"
      ],
      "text/plain": [
       "        20-1T-AD 13-11T-Old 15-13T-Old 16-14T-Old 3-17T-Young 5-18T-Young\n",
       "SGIP1   1405     1405       1169       2408        859        1164       \n",
       "NECAP2   295      460        334        347        617         585       \n",
       "AZIN2    356      306        385        507        787         751       \n",
       "AGBL4    191      200        173        323         36          89       \n",
       "CLIC4    876     1443        639        792       4806        5968       \n",
       "SLC45A1  291      329        298        636        139         204       \n",
       "TGFBR3   639      650        506        370        425         447       \n",
       "DBT      623      726        513        633        751         758       \n",
       "PRUNE1   297      237        200        390        231         254       \n",
       "C1orf21 2456     2006       2092       3146        848        1147       \n",
       "        7-19T-Young 21-1A-AD 23-2A-AD 26-3A-AD\n",
       "SGIP1   1402        1441     1003     1265    \n",
       "NECAP2   372         343      374      315    \n",
       "AZIN2    577         238      209      241    \n",
       "AGBL4    184         229      129      154    \n",
       "CLIC4   1392        1117     1247      929    \n",
       "SLC45A1  278         193      152      178    \n",
       "TGFBR3   282         792      727      461    \n",
       "DBT      498         714      756      655    \n",
       "PRUNE1   252         342      228      300    \n",
       "C1orf21 1551        2325     2439     2471    "
      ]
     },
     "metadata": {},
     "output_type": "display_data"
    }
   ],
   "source": [
    "# Get the path to the count matrix file:\n",
    "countsFile <- file.path(save_Path, \"GSE153873_summary_count.star.txt.gz\")\n",
    "\n",
    "# Read the count matrix file:\n",
    "GSE153873Exprs <- read.table(countsFile, header = TRUE, sep = \"\\t\", fill = 0, row.names = 1, check.names = FALSE)\n",
    "\n",
    "# Examine the RNASeqExprs:\n",
    "message(\"Examine the read count matrix\")\n",
    "GSE153873Exprs[1:10, 1:10]"
   ]
  },
  {
   "cell_type": "markdown",
   "id": "79881b80-f625-4e42-9cbb-9ba6b2d5c788",
   "metadata": {},
   "source": [
    "As we can see, the count matrix file has rows as genes and columns as samples. Similar to the microarray dataset, we use the `getGEO` function to get the sample information as follows:"
   ]
  },
  {
   "cell_type": "code",
   "execution_count": 14,
   "id": "831d4b54-6eb4-4d82-afc0-983869c1e909",
   "metadata": {},
   "outputs": [],
   "source": [
    "# Download the dataset\n",
    "suppressMessages({\n",
    "    gse <- getGEO(GEO = accession_ID, destdir = save_Path)\n",
    "})\n",
    "\n",
    "# Extract the dataset from the gse list:\n",
    "data <- gse[[1]]"
   ]
  },
  {
   "cell_type": "code",
   "execution_count": 15,
   "id": "128fd5cf-2b94-4966-8e0e-8a56098543dd",
   "metadata": {},
   "outputs": [
    {
     "name": "stderr",
     "output_type": "stream",
     "text": [
      "Examine the sample information\n",
      "\n"
     ]
    },
    {
     "data": {
      "text/html": [
       "<table class=\"dataframe\">\n",
       "<caption>A data.frame: 10 × 10</caption>\n",
       "<thead>\n",
       "\t<tr><th></th><th scope=col>title</th><th scope=col>geo_accession</th><th scope=col>status</th><th scope=col>submission_date</th><th scope=col>last_update_date</th><th scope=col>type</th><th scope=col>channel_count</th><th scope=col>source_name_ch1</th><th scope=col>organism_ch1</th><th scope=col>characteristics_ch1</th></tr>\n",
       "\t<tr><th></th><th scope=col>&lt;chr&gt;</th><th scope=col>&lt;chr&gt;</th><th scope=col>&lt;chr&gt;</th><th scope=col>&lt;chr&gt;</th><th scope=col>&lt;chr&gt;</th><th scope=col>&lt;chr&gt;</th><th scope=col>&lt;chr&gt;</th><th scope=col>&lt;chr&gt;</th><th scope=col>&lt;chr&gt;</th><th scope=col>&lt;chr&gt;</th></tr>\n",
       "</thead>\n",
       "<tbody>\n",
       "\t<tr><th scope=row>GSM4656348</th><td>13-11T-Old </td><td>GSM4656348</td><td>Public on Jul 07 2020</td><td>Jul 06 2020</td><td>Oct 13 2020</td><td>SRA</td><td>1</td><td>Frozen postmortem brain tissue</td><td>Homo sapiens</td><td>tissue: Lateral temporal lobe</td></tr>\n",
       "\t<tr><th scope=row>GSM4656349</th><td>15-13T-Old </td><td>GSM4656349</td><td>Public on Jul 07 2020</td><td>Jul 06 2020</td><td>Oct 13 2020</td><td>SRA</td><td>1</td><td>Frozen postmortem brain tissue</td><td>Homo sapiens</td><td>tissue: Lateral temporal lobe</td></tr>\n",
       "\t<tr><th scope=row>GSM4656350</th><td>20-1T-AD   </td><td>GSM4656350</td><td>Public on Jul 07 2020</td><td>Jul 06 2020</td><td>Oct 13 2020</td><td>SRA</td><td>1</td><td>Frozen postmortem brain tissue</td><td>Homo sapiens</td><td>tissue: Lateral temporal lobe</td></tr>\n",
       "\t<tr><th scope=row>GSM4656351</th><td>16-14T-Old </td><td>GSM4656351</td><td>Public on Jul 07 2020</td><td>Jul 06 2020</td><td>Oct 13 2020</td><td>SRA</td><td>1</td><td>Frozen postmortem brain tissue</td><td>Homo sapiens</td><td>tissue: Lateral temporal lobe</td></tr>\n",
       "\t<tr><th scope=row>GSM4656352</th><td>3-17T-Young</td><td>GSM4656352</td><td>Public on Jul 07 2020</td><td>Jul 06 2020</td><td>Oct 13 2020</td><td>SRA</td><td>1</td><td>Frozen postmortem brain tissue</td><td>Homo sapiens</td><td>tissue: Lateral temporal lobe</td></tr>\n",
       "\t<tr><th scope=row>GSM4656353</th><td>5-18T-Young</td><td>GSM4656353</td><td>Public on Jul 07 2020</td><td>Jul 06 2020</td><td>Oct 13 2020</td><td>SRA</td><td>1</td><td>Frozen postmortem brain tissue</td><td>Homo sapiens</td><td>tissue: Lateral temporal lobe</td></tr>\n",
       "\t<tr><th scope=row>GSM4656354</th><td>7-19T-Young</td><td>GSM4656354</td><td>Public on Jul 07 2020</td><td>Jul 06 2020</td><td>Oct 13 2020</td><td>SRA</td><td>1</td><td>Frozen postmortem brain tissue</td><td>Homo sapiens</td><td>tissue: Lateral temporal lobe</td></tr>\n",
       "\t<tr><th scope=row>GSM4656355</th><td>21-1A-AD   </td><td>GSM4656355</td><td>Public on Jul 07 2020</td><td>Jul 06 2020</td><td>Oct 13 2020</td><td>SRA</td><td>1</td><td>Frozen postmortem brain tissue</td><td>Homo sapiens</td><td>tissue: Lateral temporal lobe</td></tr>\n",
       "\t<tr><th scope=row>GSM4656356</th><td>23-2A-AD   </td><td>GSM4656356</td><td>Public on Jul 07 2020</td><td>Jul 06 2020</td><td>Oct 13 2020</td><td>SRA</td><td>1</td><td>Frozen postmortem brain tissue</td><td>Homo sapiens</td><td>tissue: Lateral temporal lobe</td></tr>\n",
       "\t<tr><th scope=row>GSM4656357</th><td>26-3A-AD   </td><td>GSM4656357</td><td>Public on Jul 07 2020</td><td>Jul 06 2020</td><td>Oct 13 2020</td><td>SRA</td><td>1</td><td>Frozen postmortem brain tissue</td><td>Homo sapiens</td><td>tissue: Lateral temporal lobe</td></tr>\n",
       "</tbody>\n",
       "</table>\n"
      ],
      "text/latex": [
       "A data.frame: 10 × 10\n",
       "\\begin{tabular}{r|llllllllll}\n",
       "  & title & geo\\_accession & status & submission\\_date & last\\_update\\_date & type & channel\\_count & source\\_name\\_ch1 & organism\\_ch1 & characteristics\\_ch1\\\\\n",
       "  & <chr> & <chr> & <chr> & <chr> & <chr> & <chr> & <chr> & <chr> & <chr> & <chr>\\\\\n",
       "\\hline\n",
       "\tGSM4656348 & 13-11T-Old  & GSM4656348 & Public on Jul 07 2020 & Jul 06 2020 & Oct 13 2020 & SRA & 1 & Frozen postmortem brain tissue & Homo sapiens & tissue: Lateral temporal lobe\\\\\n",
       "\tGSM4656349 & 15-13T-Old  & GSM4656349 & Public on Jul 07 2020 & Jul 06 2020 & Oct 13 2020 & SRA & 1 & Frozen postmortem brain tissue & Homo sapiens & tissue: Lateral temporal lobe\\\\\n",
       "\tGSM4656350 & 20-1T-AD    & GSM4656350 & Public on Jul 07 2020 & Jul 06 2020 & Oct 13 2020 & SRA & 1 & Frozen postmortem brain tissue & Homo sapiens & tissue: Lateral temporal lobe\\\\\n",
       "\tGSM4656351 & 16-14T-Old  & GSM4656351 & Public on Jul 07 2020 & Jul 06 2020 & Oct 13 2020 & SRA & 1 & Frozen postmortem brain tissue & Homo sapiens & tissue: Lateral temporal lobe\\\\\n",
       "\tGSM4656352 & 3-17T-Young & GSM4656352 & Public on Jul 07 2020 & Jul 06 2020 & Oct 13 2020 & SRA & 1 & Frozen postmortem brain tissue & Homo sapiens & tissue: Lateral temporal lobe\\\\\n",
       "\tGSM4656353 & 5-18T-Young & GSM4656353 & Public on Jul 07 2020 & Jul 06 2020 & Oct 13 2020 & SRA & 1 & Frozen postmortem brain tissue & Homo sapiens & tissue: Lateral temporal lobe\\\\\n",
       "\tGSM4656354 & 7-19T-Young & GSM4656354 & Public on Jul 07 2020 & Jul 06 2020 & Oct 13 2020 & SRA & 1 & Frozen postmortem brain tissue & Homo sapiens & tissue: Lateral temporal lobe\\\\\n",
       "\tGSM4656355 & 21-1A-AD    & GSM4656355 & Public on Jul 07 2020 & Jul 06 2020 & Oct 13 2020 & SRA & 1 & Frozen postmortem brain tissue & Homo sapiens & tissue: Lateral temporal lobe\\\\\n",
       "\tGSM4656356 & 23-2A-AD    & GSM4656356 & Public on Jul 07 2020 & Jul 06 2020 & Oct 13 2020 & SRA & 1 & Frozen postmortem brain tissue & Homo sapiens & tissue: Lateral temporal lobe\\\\\n",
       "\tGSM4656357 & 26-3A-AD    & GSM4656357 & Public on Jul 07 2020 & Jul 06 2020 & Oct 13 2020 & SRA & 1 & Frozen postmortem brain tissue & Homo sapiens & tissue: Lateral temporal lobe\\\\\n",
       "\\end{tabular}\n"
      ],
      "text/markdown": [
       "\n",
       "A data.frame: 10 × 10\n",
       "\n",
       "| <!--/--> | title &lt;chr&gt; | geo_accession &lt;chr&gt; | status &lt;chr&gt; | submission_date &lt;chr&gt; | last_update_date &lt;chr&gt; | type &lt;chr&gt; | channel_count &lt;chr&gt; | source_name_ch1 &lt;chr&gt; | organism_ch1 &lt;chr&gt; | characteristics_ch1 &lt;chr&gt; |\n",
       "|---|---|---|---|---|---|---|---|---|---|---|\n",
       "| GSM4656348 | 13-11T-Old  | GSM4656348 | Public on Jul 07 2020 | Jul 06 2020 | Oct 13 2020 | SRA | 1 | Frozen postmortem brain tissue | Homo sapiens | tissue: Lateral temporal lobe |\n",
       "| GSM4656349 | 15-13T-Old  | GSM4656349 | Public on Jul 07 2020 | Jul 06 2020 | Oct 13 2020 | SRA | 1 | Frozen postmortem brain tissue | Homo sapiens | tissue: Lateral temporal lobe |\n",
       "| GSM4656350 | 20-1T-AD    | GSM4656350 | Public on Jul 07 2020 | Jul 06 2020 | Oct 13 2020 | SRA | 1 | Frozen postmortem brain tissue | Homo sapiens | tissue: Lateral temporal lobe |\n",
       "| GSM4656351 | 16-14T-Old  | GSM4656351 | Public on Jul 07 2020 | Jul 06 2020 | Oct 13 2020 | SRA | 1 | Frozen postmortem brain tissue | Homo sapiens | tissue: Lateral temporal lobe |\n",
       "| GSM4656352 | 3-17T-Young | GSM4656352 | Public on Jul 07 2020 | Jul 06 2020 | Oct 13 2020 | SRA | 1 | Frozen postmortem brain tissue | Homo sapiens | tissue: Lateral temporal lobe |\n",
       "| GSM4656353 | 5-18T-Young | GSM4656353 | Public on Jul 07 2020 | Jul 06 2020 | Oct 13 2020 | SRA | 1 | Frozen postmortem brain tissue | Homo sapiens | tissue: Lateral temporal lobe |\n",
       "| GSM4656354 | 7-19T-Young | GSM4656354 | Public on Jul 07 2020 | Jul 06 2020 | Oct 13 2020 | SRA | 1 | Frozen postmortem brain tissue | Homo sapiens | tissue: Lateral temporal lobe |\n",
       "| GSM4656355 | 21-1A-AD    | GSM4656355 | Public on Jul 07 2020 | Jul 06 2020 | Oct 13 2020 | SRA | 1 | Frozen postmortem brain tissue | Homo sapiens | tissue: Lateral temporal lobe |\n",
       "| GSM4656356 | 23-2A-AD    | GSM4656356 | Public on Jul 07 2020 | Jul 06 2020 | Oct 13 2020 | SRA | 1 | Frozen postmortem brain tissue | Homo sapiens | tissue: Lateral temporal lobe |\n",
       "| GSM4656357 | 26-3A-AD    | GSM4656357 | Public on Jul 07 2020 | Jul 06 2020 | Oct 13 2020 | SRA | 1 | Frozen postmortem brain tissue | Homo sapiens | tissue: Lateral temporal lobe |\n",
       "\n"
      ],
      "text/plain": [
       "           title       geo_accession status                submission_date\n",
       "GSM4656348 13-11T-Old  GSM4656348    Public on Jul 07 2020 Jul 06 2020    \n",
       "GSM4656349 15-13T-Old  GSM4656349    Public on Jul 07 2020 Jul 06 2020    \n",
       "GSM4656350 20-1T-AD    GSM4656350    Public on Jul 07 2020 Jul 06 2020    \n",
       "GSM4656351 16-14T-Old  GSM4656351    Public on Jul 07 2020 Jul 06 2020    \n",
       "GSM4656352 3-17T-Young GSM4656352    Public on Jul 07 2020 Jul 06 2020    \n",
       "GSM4656353 5-18T-Young GSM4656353    Public on Jul 07 2020 Jul 06 2020    \n",
       "GSM4656354 7-19T-Young GSM4656354    Public on Jul 07 2020 Jul 06 2020    \n",
       "GSM4656355 21-1A-AD    GSM4656355    Public on Jul 07 2020 Jul 06 2020    \n",
       "GSM4656356 23-2A-AD    GSM4656356    Public on Jul 07 2020 Jul 06 2020    \n",
       "GSM4656357 26-3A-AD    GSM4656357    Public on Jul 07 2020 Jul 06 2020    \n",
       "           last_update_date type channel_count source_name_ch1               \n",
       "GSM4656348 Oct 13 2020      SRA  1             Frozen postmortem brain tissue\n",
       "GSM4656349 Oct 13 2020      SRA  1             Frozen postmortem brain tissue\n",
       "GSM4656350 Oct 13 2020      SRA  1             Frozen postmortem brain tissue\n",
       "GSM4656351 Oct 13 2020      SRA  1             Frozen postmortem brain tissue\n",
       "GSM4656352 Oct 13 2020      SRA  1             Frozen postmortem brain tissue\n",
       "GSM4656353 Oct 13 2020      SRA  1             Frozen postmortem brain tissue\n",
       "GSM4656354 Oct 13 2020      SRA  1             Frozen postmortem brain tissue\n",
       "GSM4656355 Oct 13 2020      SRA  1             Frozen postmortem brain tissue\n",
       "GSM4656356 Oct 13 2020      SRA  1             Frozen postmortem brain tissue\n",
       "GSM4656357 Oct 13 2020      SRA  1             Frozen postmortem brain tissue\n",
       "           organism_ch1 characteristics_ch1          \n",
       "GSM4656348 Homo sapiens tissue: Lateral temporal lobe\n",
       "GSM4656349 Homo sapiens tissue: Lateral temporal lobe\n",
       "GSM4656350 Homo sapiens tissue: Lateral temporal lobe\n",
       "GSM4656351 Homo sapiens tissue: Lateral temporal lobe\n",
       "GSM4656352 Homo sapiens tissue: Lateral temporal lobe\n",
       "GSM4656353 Homo sapiens tissue: Lateral temporal lobe\n",
       "GSM4656354 Homo sapiens tissue: Lateral temporal lobe\n",
       "GSM4656355 Homo sapiens tissue: Lateral temporal lobe\n",
       "GSM4656356 Homo sapiens tissue: Lateral temporal lobe\n",
       "GSM4656357 Homo sapiens tissue: Lateral temporal lobe"
      ]
     },
     "metadata": {},
     "output_type": "display_data"
    }
   ],
   "source": [
    "# Access to the sample information table:\n",
    "GSE153873Samples <- pData(data)\n",
    "\n",
    "# Examine the RNASeqSamples\n",
    "message(\"Examine the sample information\")\n",
    "GSE153873Samples[1:10, 1:10]"
   ]
  },
  {
   "cell_type": "markdown",
   "id": "b8678d88-94bf-4c37-bc07-769b48cfa2e9",
   "metadata": {},
   "source": [
    "<!-- headings -->\n",
    "<a id=\"dt-process\"></a>\n",
    "## 3. Process Data For Downstream Analysis"
   ]
  },
  {
   "cell_type": "markdown",
   "id": "96aafb5f",
   "metadata": {},
   "source": [
    "Once the data is downloaded, we need to perform data processing to prepare the data for differential analysis and pathway analysis. The data processing includes the following steps: (i) Data normalization, (ii) Sample condition extraction, and (iii) Gene IDs conversion.\n",
    "\n",
    "<!-- headings -->\n",
    "<a id=\"dp-dtnorm\"></a>\n",
    "### 3.1. Data normalization\n",
    "Typically, data normalization can be performed for quality assurance. However, different downstream analysis methods may require different data normalization techniques. Therefore, we suggest users to consult these methods' document to choose the most appropriate normalization technique. For example, if a method requires the expression to be in log-scale normalization, we can check the scale the data as follows:"
   ]
  },
  {
   "cell_type": "code",
   "execution_count": 16,
   "id": "cc084af7-8440-4ddc-8757-57094b2052c2",
   "metadata": {},
   "outputs": [
    {
     "data": {
      "text/plain": [
       "   GSM119615           GSM119616           GSM119617          GSM119618       \n",
       " Min.   :    0.075   Min.   :    0.074   Min.   :    0.25   Min.   :    0.33  \n",
       " 1st Qu.:   13.880   1st Qu.:   13.943   1st Qu.:   24.50   1st Qu.:   22.16  \n",
       " Median :   44.928   Median :   47.379   Median :   80.73   Median :   71.63  \n",
       " Mean   :  222.780   Mean   :  233.425   Mean   :  226.92   Mean   :  234.00  \n",
       " 3rd Qu.:  151.931   3rd Qu.:  158.202   3rd Qu.:  187.48   3rd Qu.:  178.68  \n",
       " Max.   :19236.023   Max.   :26390.730   Max.   :75634.99   Max.   :58651.38  \n",
       "   GSM119619       \n",
       " Min.   :    0.29  \n",
       " 1st Qu.:   32.79  \n",
       " Median :  117.42  \n",
       " Mean   :  771.06  \n",
       " 3rd Qu.:  475.33  \n",
       " Max.   :68655.84  "
      ]
     },
     "metadata": {},
     "output_type": "display_data"
    }
   ],
   "source": [
    "# Show a summary of the expression data using the summary function\n",
    "summary(GSE5281Exprs[, 1:5])"
   ]
  },
  {
   "cell_type": "code",
   "execution_count": 17,
   "id": "9cad09d9-8936-4a53-9dde-1b5e04ed845b",
   "metadata": {},
   "outputs": [
    {
     "data": {
      "text/html": [
       "<style>\n",
       ".list-inline {list-style: none; margin:0; padding: 0}\n",
       ".list-inline>li {display: inline-block}\n",
       ".list-inline>li:not(:last-child)::after {content: \"\\00b7\"; padding: 0 .5ex}\n",
       "</style>\n",
       "<ol class=list-inline><li>0.0553793</li><li>528043.5</li></ol>\n"
      ],
      "text/latex": [
       "\\begin{enumerate*}\n",
       "\\item 0.0553793\n",
       "\\item 528043.5\n",
       "\\end{enumerate*}\n"
      ],
      "text/markdown": [
       "1. 0.0553793\n",
       "2. 528043.5\n",
       "\n",
       "\n"
      ],
      "text/plain": [
       "[1] 5.537930e-02 5.280435e+05"
      ]
     },
     "metadata": {},
     "output_type": "display_data"
    }
   ],
   "source": [
    "# Show value range of the expression data using the range function\n",
    "range(GSE5281Exprs)"
   ]
  },
  {
   "cell_type": "markdown",
   "id": "a114ba82-ef45-4b29-977c-5c4dc4516aac",
   "metadata": {},
   "source": [
    "From the summary of the data above, we can clearly see that the maximum expression values can be in the scale of thousands, while the average expression values in each sample are below one. One common step is to perform quartile filtering to remove the outlier and missing expression values. Also, we will need to perform a transformation to ensure the distributions of all samples are similar. Then, a `boxplot` can also be generated to see if the data have been correctly normalized. We can use the sample code below to perform all of those steps."
   ]
  },
  {
   "cell_type": "code",
   "execution_count": 18,
   "id": "e9835afa-ab8e-4557-94b0-5f262694b4fd",
   "metadata": {},
   "outputs": [
    {
     "data": {
      "image/png": "[encoded data removed]",
      "text/plain": [
       "plot without title"
      ]
     },
     "metadata": {
      "image/png": {
       "height": 420,
       "width": 420
      }
     },
     "output_type": "display_data"
    }
   ],
   "source": [
    "# Calculate the data quantile and remove the NA value\n",
    "qx <- as.numeric(quantile(GSE5281Exprs, c(0., 0.25, 0.5, 0.75, 0.99, 1.0), na.rm = T))\n",
    "# Define LogC variable (boolean) to decide whether or not to perform the log transformation\n",
    "# If 99% of the data > 100 or (range > 50 and 25% of the data > 0), LogC = True and perform log transformation\n",
    "LogC <- (qx[5] > 100) ||\n",
    "    (qx[6]-qx[1] > 50 && qx[2] > 0)\n",
    "# Replace negative values with NA and perform log transformation if logC is True\n",
    "if (LogC) {\n",
    "    GSE5281Exprs[which(GSE5281Exprs <= 0)] <- NaN #\n",
    "    norm_expression_data <- log2(GSE5281Exprs+1)\n",
    "}\n",
    "# Plot the boxplot of 10 samples\n",
    "boxplot(x = norm_expression_data[, 1:10], outline = FALSE)"
   ]
  },
  {
   "cell_type": "markdown",
   "id": "8715d0dd-051e-4cd7-833d-5fe5e3df73aa",
   "metadata": {},
   "source": [
    "**Notes:** Most of the packages for analyzing RNA-Seq data embed a normalization process in their functions. Therefore, we will not perform data normalization for the GSE153873 dataset we have just downloaded."
   ]
  },
  {
   "cell_type": "code",
   "execution_count": 19,
   "id": "f2da7e05-3a18-4b11-afd4-20d2bea75aa8",
   "metadata": {
    "tags": []
   },
   "outputs": [
    {
     "data": {
      "text/html": [
       "<iframe src=\"./Quizzes/Quiz_Submodule1-2.html\" width=100% height=250></iframe>"
      ]
     },
     "metadata": {},
     "output_type": "display_data"
    }
   ],
   "source": [
    "# Run the following command to take the quiz\n",
    "IRdisplay::display_html('<iframe src=\"./Quizzes/Quiz_Submodule1-2.html\" width=100% height=250></iframe>')"
   ]
  },
  {
   "attachments": {},
   "cell_type": "markdown",
   "id": "74400910",
   "metadata": {},
   "source": [
    "<!-- headings -->\n",
    "<a id=\"dp-samplextract\"></a>\n",
    "### 3.2. Samples Condition Extraction\n",
    "In pathway analysis, it is crucial to determine which conditions of sample are being compared to one another. \n",
    ". In our example, we are comparing gene expression between two patient groups: *normal* and *Alzheimer’s*. To this aim, users can execute the following code snippets\n",
    "\n",
    "#### Microarray dataset: GSE5281"
   ]
  },
  {
   "cell_type": "code",
   "execution_count": 45,
   "id": "b91698e2-2362-4941-a822-0906facfe3bd",
   "metadata": {},
   "outputs": [
    {
     "data": {
      "text/html": [
       "<table class=\"dataframe\">\n",
       "<caption>A data.frame: 6 × 72</caption>\n",
       "<thead>\n",
       "\t<tr><th></th><th scope=col>title</th><th scope=col>geo_accession</th><th scope=col>status</th><th scope=col>submission_date</th><th scope=col>last_update_date</th><th scope=col>type</th><th scope=col>channel_count</th><th scope=col>source_name_ch1</th><th scope=col>organism_ch1</th><th scope=col>characteristics_ch1</th><th scope=col>⋯</th><th scope=col>organ/tissue type:ch1</th><th scope=col>Organ/Tissue Type:ch1</th><th scope=col>organism:ch1</th><th scope=col>Organism:ch1</th><th scope=col>sample amount:ch1</th><th scope=col>Sample Amount:ch1</th><th scope=col>sex:ch1</th><th scope=col>Sex:ch1</th><th scope=col>condition</th><th scope=col>region</th></tr>\n",
       "\t<tr><th></th><th scope=col>&lt;chr&gt;</th><th scope=col>&lt;chr&gt;</th><th scope=col>&lt;chr&gt;</th><th scope=col>&lt;chr&gt;</th><th scope=col>&lt;chr&gt;</th><th scope=col>&lt;chr&gt;</th><th scope=col>&lt;chr&gt;</th><th scope=col>&lt;chr&gt;</th><th scope=col>&lt;chr&gt;</th><th scope=col>&lt;chr&gt;</th><th scope=col>⋯</th><th scope=col>&lt;chr&gt;</th><th scope=col>&lt;chr&gt;</th><th scope=col>&lt;chr&gt;</th><th scope=col>&lt;chr&gt;</th><th scope=col>&lt;chr&gt;</th><th scope=col>&lt;chr&gt;</th><th scope=col>&lt;chr&gt;</th><th scope=col>&lt;chr&gt;</th><th scope=col>&lt;fct&gt;</th><th scope=col>&lt;fct&gt;</th></tr>\n",
       "</thead>\n",
       "<tbody>\n",
       "\t<tr><th scope=row>GSM119615</th><td>EC control 1</td><td>GSM119615</td><td>Public on Jul 10 2006</td><td>Jul 10 2006</td><td>Jun 26 2019</td><td>RNA</td><td>1</td><td>brain, Entorhinal Cortex</td><td>Homo sapiens</td><td>Sample Amount: 10 ug</td><td>⋯</td><td>NA</td><td>brain </td><td>NA</td><td>Human </td><td>NA</td><td>10 ug</td><td>NA</td><td>male   </td><td>c</td><td>organ.region..entorhinal.cortex.</td></tr>\n",
       "\t<tr><th scope=row>GSM119616</th><td>EC control 2</td><td>GSM119616</td><td>Public on Jul 10 2006</td><td>Jul 10 2006</td><td>Jun 26 2019</td><td>RNA</td><td>1</td><td>brain, Entorhinal Cortex</td><td>Homo sapiens</td><td>Sample Amount: 10 ug</td><td>⋯</td><td>NA</td><td>brain </td><td>NA</td><td>Human </td><td>NA</td><td>10 ug</td><td>NA</td><td>male   </td><td>c</td><td>organ.region..entorhinal.cortex.</td></tr>\n",
       "\t<tr><th scope=row>GSM119617</th><td>EC control 3</td><td>GSM119617</td><td>Public on Jul 10 2006</td><td>Jul 10 2006</td><td>Jun 26 2019</td><td>RNA</td><td>1</td><td>brain, Entorhinal Cortex</td><td>Homo sapiens</td><td>Sample Amount: 10 ug</td><td>⋯</td><td>NA</td><td>brain </td><td>NA</td><td>Human </td><td>NA</td><td>10 ug</td><td>NA</td><td>male   </td><td>c</td><td>organ.region..entorhinal.cortex.</td></tr>\n",
       "\t<tr><th scope=row>GSM119618</th><td>EC control 4</td><td>GSM119618</td><td>Public on Jul 10 2006</td><td>Jul 10 2006</td><td>Jun 26 2019</td><td>RNA</td><td>1</td><td>brain, Entorhinal Cortex</td><td>Homo sapiens</td><td>Sample Amount: 10 ug</td><td>⋯</td><td>NA</td><td>brain </td><td>NA</td><td>Human </td><td>NA</td><td>10 ug</td><td>NA</td><td>male   </td><td>c</td><td>organ.region..entorhinal.cortex.</td></tr>\n",
       "\t<tr><th scope=row>GSM119619</th><td>EC control 5</td><td>GSM119619</td><td>Public on Jul 10 2006</td><td>Jul 10 2006</td><td>Jun 26 2019</td><td>RNA</td><td>1</td><td>brain, Entorhinal Cortex</td><td>Homo sapiens</td><td>Sample Amount: 10 ug</td><td>⋯</td><td>NA</td><td>brain </td><td>NA</td><td>Human </td><td>NA</td><td>10 ug</td><td>NA</td><td>female </td><td>c</td><td>organ.region..entorhinal.cortex.</td></tr>\n",
       "\t<tr><th scope=row>GSM119620</th><td>EC control 6</td><td>GSM119620</td><td>Public on Jul 10 2006</td><td>Jul 10 2006</td><td>Jun 26 2019</td><td>RNA</td><td>1</td><td>brain, Entorhinal Cortex</td><td>Homo sapiens</td><td>Sample Amount: 10 ug</td><td>⋯</td><td>NA</td><td>brain </td><td>NA</td><td>Human </td><td>NA</td><td>10 ug</td><td>NA</td><td>male   </td><td>c</td><td>organ.region..entorhinal.cortex.</td></tr>\n",
       "</tbody>\n",
       "</table>\n"
      ],
      "text/latex": [
       "A data.frame: 6 × 72\n",
       "\\begin{tabular}{r|lllllllllllllllllllll}\n",
       "  & title & geo\\_accession & status & submission\\_date & last\\_update\\_date & type & channel\\_count & source\\_name\\_ch1 & organism\\_ch1 & characteristics\\_ch1 & ⋯ & organ/tissue type:ch1 & Organ/Tissue Type:ch1 & organism:ch1 & Organism:ch1 & sample amount:ch1 & Sample Amount:ch1 & sex:ch1 & Sex:ch1 & condition & region\\\\\n",
       "  & <chr> & <chr> & <chr> & <chr> & <chr> & <chr> & <chr> & <chr> & <chr> & <chr> & ⋯ & <chr> & <chr> & <chr> & <chr> & <chr> & <chr> & <chr> & <chr> & <fct> & <fct>\\\\\n",
       "\\hline\n",
       "\tGSM119615 & EC control 1 & GSM119615 & Public on Jul 10 2006 & Jul 10 2006 & Jun 26 2019 & RNA & 1 & brain, Entorhinal Cortex & Homo sapiens & Sample Amount: 10 ug & ⋯ & NA & brain  & NA & Human  & NA & 10 ug & NA & male    & c & organ.region..entorhinal.cortex.\\\\\n",
       "\tGSM119616 & EC control 2 & GSM119616 & Public on Jul 10 2006 & Jul 10 2006 & Jun 26 2019 & RNA & 1 & brain, Entorhinal Cortex & Homo sapiens & Sample Amount: 10 ug & ⋯ & NA & brain  & NA & Human  & NA & 10 ug & NA & male    & c & organ.region..entorhinal.cortex.\\\\\n",
       "\tGSM119617 & EC control 3 & GSM119617 & Public on Jul 10 2006 & Jul 10 2006 & Jun 26 2019 & RNA & 1 & brain, Entorhinal Cortex & Homo sapiens & Sample Amount: 10 ug & ⋯ & NA & brain  & NA & Human  & NA & 10 ug & NA & male    & c & organ.region..entorhinal.cortex.\\\\\n",
       "\tGSM119618 & EC control 4 & GSM119618 & Public on Jul 10 2006 & Jul 10 2006 & Jun 26 2019 & RNA & 1 & brain, Entorhinal Cortex & Homo sapiens & Sample Amount: 10 ug & ⋯ & NA & brain  & NA & Human  & NA & 10 ug & NA & male    & c & organ.region..entorhinal.cortex.\\\\\n",
       "\tGSM119619 & EC control 5 & GSM119619 & Public on Jul 10 2006 & Jul 10 2006 & Jun 26 2019 & RNA & 1 & brain, Entorhinal Cortex & Homo sapiens & Sample Amount: 10 ug & ⋯ & NA & brain  & NA & Human  & NA & 10 ug & NA & female  & c & organ.region..entorhinal.cortex.\\\\\n",
       "\tGSM119620 & EC control 6 & GSM119620 & Public on Jul 10 2006 & Jul 10 2006 & Jun 26 2019 & RNA & 1 & brain, Entorhinal Cortex & Homo sapiens & Sample Amount: 10 ug & ⋯ & NA & brain  & NA & Human  & NA & 10 ug & NA & male    & c & organ.region..entorhinal.cortex.\\\\\n",
       "\\end{tabular}\n"
      ],
      "text/markdown": [
       "\n",
       "A data.frame: 6 × 72\n",
       "\n",
       "| <!--/--> | title &lt;chr&gt; | geo_accession &lt;chr&gt; | status &lt;chr&gt; | submission_date &lt;chr&gt; | last_update_date &lt;chr&gt; | type &lt;chr&gt; | channel_count &lt;chr&gt; | source_name_ch1 &lt;chr&gt; | organism_ch1 &lt;chr&gt; | characteristics_ch1 &lt;chr&gt; | ⋯ ⋯ | organ/tissue type:ch1 &lt;chr&gt; | Organ/Tissue Type:ch1 &lt;chr&gt; | organism:ch1 &lt;chr&gt; | Organism:ch1 &lt;chr&gt; | sample amount:ch1 &lt;chr&gt; | Sample Amount:ch1 &lt;chr&gt; | sex:ch1 &lt;chr&gt; | Sex:ch1 &lt;chr&gt; | condition &lt;fct&gt; | region &lt;fct&gt; |\n",
       "|---|---|---|---|---|---|---|---|---|---|---|---|---|---|---|---|---|---|---|---|---|---|\n",
       "| GSM119615 | EC control 1 | GSM119615 | Public on Jul 10 2006 | Jul 10 2006 | Jun 26 2019 | RNA | 1 | brain, Entorhinal Cortex | Homo sapiens | Sample Amount: 10 ug | ⋯ | NA | brain  | NA | Human  | NA | 10 ug | NA | male    | c | organ.region..entorhinal.cortex. |\n",
       "| GSM119616 | EC control 2 | GSM119616 | Public on Jul 10 2006 | Jul 10 2006 | Jun 26 2019 | RNA | 1 | brain, Entorhinal Cortex | Homo sapiens | Sample Amount: 10 ug | ⋯ | NA | brain  | NA | Human  | NA | 10 ug | NA | male    | c | organ.region..entorhinal.cortex. |\n",
       "| GSM119617 | EC control 3 | GSM119617 | Public on Jul 10 2006 | Jul 10 2006 | Jun 26 2019 | RNA | 1 | brain, Entorhinal Cortex | Homo sapiens | Sample Amount: 10 ug | ⋯ | NA | brain  | NA | Human  | NA | 10 ug | NA | male    | c | organ.region..entorhinal.cortex. |\n",
       "| GSM119618 | EC control 4 | GSM119618 | Public on Jul 10 2006 | Jul 10 2006 | Jun 26 2019 | RNA | 1 | brain, Entorhinal Cortex | Homo sapiens | Sample Amount: 10 ug | ⋯ | NA | brain  | NA | Human  | NA | 10 ug | NA | male    | c | organ.region..entorhinal.cortex. |\n",
       "| GSM119619 | EC control 5 | GSM119619 | Public on Jul 10 2006 | Jul 10 2006 | Jun 26 2019 | RNA | 1 | brain, Entorhinal Cortex | Homo sapiens | Sample Amount: 10 ug | ⋯ | NA | brain  | NA | Human  | NA | 10 ug | NA | female  | c | organ.region..entorhinal.cortex. |\n",
       "| GSM119620 | EC control 6 | GSM119620 | Public on Jul 10 2006 | Jul 10 2006 | Jun 26 2019 | RNA | 1 | brain, Entorhinal Cortex | Homo sapiens | Sample Amount: 10 ug | ⋯ | NA | brain  | NA | Human  | NA | 10 ug | NA | male    | c | organ.region..entorhinal.cortex. |\n",
       "\n"
      ],
      "text/plain": [
       "          title        geo_accession status                submission_date\n",
       "GSM119615 EC control 1 GSM119615     Public on Jul 10 2006 Jul 10 2006    \n",
       "GSM119616 EC control 2 GSM119616     Public on Jul 10 2006 Jul 10 2006    \n",
       "GSM119617 EC control 3 GSM119617     Public on Jul 10 2006 Jul 10 2006    \n",
       "GSM119618 EC control 4 GSM119618     Public on Jul 10 2006 Jul 10 2006    \n",
       "GSM119619 EC control 5 GSM119619     Public on Jul 10 2006 Jul 10 2006    \n",
       "GSM119620 EC control 6 GSM119620     Public on Jul 10 2006 Jul 10 2006    \n",
       "          last_update_date type channel_count source_name_ch1         \n",
       "GSM119615 Jun 26 2019      RNA  1             brain, Entorhinal Cortex\n",
       "GSM119616 Jun 26 2019      RNA  1             brain, Entorhinal Cortex\n",
       "GSM119617 Jun 26 2019      RNA  1             brain, Entorhinal Cortex\n",
       "GSM119618 Jun 26 2019      RNA  1             brain, Entorhinal Cortex\n",
       "GSM119619 Jun 26 2019      RNA  1             brain, Entorhinal Cortex\n",
       "GSM119620 Jun 26 2019      RNA  1             brain, Entorhinal Cortex\n",
       "          organism_ch1 characteristics_ch1  ⋯ organ/tissue type:ch1\n",
       "GSM119615 Homo sapiens Sample Amount: 10 ug ⋯ NA                   \n",
       "GSM119616 Homo sapiens Sample Amount: 10 ug ⋯ NA                   \n",
       "GSM119617 Homo sapiens Sample Amount: 10 ug ⋯ NA                   \n",
       "GSM119618 Homo sapiens Sample Amount: 10 ug ⋯ NA                   \n",
       "GSM119619 Homo sapiens Sample Amount: 10 ug ⋯ NA                   \n",
       "GSM119620 Homo sapiens Sample Amount: 10 ug ⋯ NA                   \n",
       "          Organ/Tissue Type:ch1 organism:ch1 Organism:ch1 sample amount:ch1\n",
       "GSM119615 brain                 NA           Human        NA               \n",
       "GSM119616 brain                 NA           Human        NA               \n",
       "GSM119617 brain                 NA           Human        NA               \n",
       "GSM119618 brain                 NA           Human        NA               \n",
       "GSM119619 brain                 NA           Human        NA               \n",
       "GSM119620 brain                 NA           Human        NA               \n",
       "          Sample Amount:ch1 sex:ch1 Sex:ch1 condition\n",
       "GSM119615 10 ug             NA      male    c        \n",
       "GSM119616 10 ug             NA      male    c        \n",
       "GSM119617 10 ug             NA      male    c        \n",
       "GSM119618 10 ug             NA      male    c        \n",
       "GSM119619 10 ug             NA      female  c        \n",
       "GSM119620 10 ug             NA      male    c        \n",
       "          region                          \n",
       "GSM119615 organ.region..entorhinal.cortex.\n",
       "GSM119616 organ.region..entorhinal.cortex.\n",
       "GSM119617 organ.region..entorhinal.cortex.\n",
       "GSM119618 organ.region..entorhinal.cortex.\n",
       "GSM119619 organ.region..entorhinal.cortex.\n",
       "GSM119620 organ.region..entorhinal.cortex."
      ]
     },
     "metadata": {},
     "output_type": "display_data"
    }
   ],
   "source": [
    "head(GSE5281Samples)"
   ]
  },
  {
   "cell_type": "code",
   "execution_count": 44,
   "id": "3b2b116b-dbc0-4d2f-b57d-c68765991574",
   "metadata": {},
   "outputs": [
    {
     "data": {
      "text/html": [
       "<table class=\"dataframe\">\n",
       "<caption>A matrix: 6 × 161 of type dbl</caption>\n",
       "<thead>\n",
       "\t<tr><th></th><th scope=col>GSM119615</th><th scope=col>GSM119616</th><th scope=col>GSM119617</th><th scope=col>GSM119618</th><th scope=col>GSM119619</th><th scope=col>GSM119620</th><th scope=col>GSM119621</th><th scope=col>GSM119622</th><th scope=col>GSM119623</th><th scope=col>GSM119624</th><th scope=col>⋯</th><th scope=col>GSM238945</th><th scope=col>GSM238946</th><th scope=col>GSM238947</th><th scope=col>GSM238948</th><th scope=col>GSM238949</th><th scope=col>GSM238951</th><th scope=col>GSM238952</th><th scope=col>GSM238953</th><th scope=col>GSM238955</th><th scope=col>GSM238963</th></tr>\n",
       "</thead>\n",
       "<tbody>\n",
       "\t<tr><th scope=row>1007_s_at</th><td>693.973300</td><td>807.14514</td><td>1722.62500</td><td>1668.05750</td><td>2231.2969</td><td>990.541000</td><td>1396.82420</td><td>1026.05650</td><td>736.770300</td><td>938.81710</td><td>⋯</td><td>983.1340</td><td>855.5980</td><td>2074.2300</td><td>1385.89000</td><td>1390.9400</td><td>904.4160</td><td>1319.0900</td><td>783.2270</td><td>1552.96000</td><td>2845.4500</td></tr>\n",
       "\t<tr><th scope=row>1053_at</th><td>  9.755318</td><td> 19.05227</td><td>  13.06039</td><td>  14.65225</td><td> 138.6768</td><td>  7.186742</td><td>  10.17089</td><td>  34.05693</td><td>  7.829473</td><td> 40.23533</td><td>⋯</td><td> 78.0901</td><td> 57.5839</td><td>   4.9474</td><td>  11.06460</td><td>  78.2078</td><td> 50.5737</td><td>  13.7651</td><td> 56.3892</td><td>   6.97840</td><td>  33.0147</td></tr>\n",
       "\t<tr><th scope=row>117_at</th><td> 13.346846</td><td> 18.21728</td><td>  97.42547</td><td>  98.19795</td><td> 106.4684</td><td> 98.710520</td><td> 164.32666</td><td>  46.30616</td><td> 35.067910</td><td> 72.86490</td><td>⋯</td><td> 35.8215</td><td>106.8380</td><td>  87.6188</td><td>  39.50480</td><td> 117.6100</td><td> 20.6184</td><td>  31.4041</td><td> 41.2217</td><td>  40.48350</td><td>  19.1316</td></tr>\n",
       "\t<tr><th scope=row>121_at</th><td>173.092450</td><td>289.31540</td><td> 537.18280</td><td> 496.34656</td><td> 477.8652</td><td>355.092000</td><td> 467.56790</td><td> 294.58328</td><td>224.524060</td><td>298.28473</td><td>⋯</td><td>114.5470</td><td>174.5280</td><td> 180.7250</td><td> 238.92100</td><td> 221.8730</td><td>153.4310</td><td> 262.5170</td><td>136.9680</td><td> 284.89900</td><td> 404.0750</td></tr>\n",
       "\t<tr><th scope=row>1255_g_at</th><td> 52.616950</td><td>110.37598</td><td>  99.02174</td><td>  17.30677</td><td> 628.8162</td><td>105.254600</td><td> 142.26918</td><td> 123.01614</td><td>183.396910</td><td>180.81425</td><td>⋯</td><td> 18.8389</td><td> 80.0143</td><td>  69.0884</td><td>   5.82269</td><td>  44.7857</td><td> 11.4650</td><td>  30.3939</td><td> 40.7314</td><td>   4.34157</td><td>  42.2666</td></tr>\n",
       "\t<tr><th scope=row>1294_at</th><td> 67.753624</td><td> 96.78074</td><td>  76.28205</td><td> 189.81960</td><td> 276.4766</td><td>130.088290</td><td> 131.51334</td><td> 109.67081</td><td> 63.197280</td><td> 78.26386</td><td>⋯</td><td>108.4450</td><td> 43.1492</td><td> 106.4890</td><td> 146.65600</td><td> 176.9270</td><td> 33.5637</td><td> 199.4440</td><td> 34.5873</td><td> 141.75700</td><td> 334.6160</td></tr>\n",
       "</tbody>\n",
       "</table>\n"
      ],
      "text/latex": [
       "A matrix: 6 × 161 of type dbl\n",
       "\\begin{tabular}{r|lllllllllllllllllllll}\n",
       "  & GSM119615 & GSM119616 & GSM119617 & GSM119618 & GSM119619 & GSM119620 & GSM119621 & GSM119622 & GSM119623 & GSM119624 & ⋯ & GSM238945 & GSM238946 & GSM238947 & GSM238948 & GSM238949 & GSM238951 & GSM238952 & GSM238953 & GSM238955 & GSM238963\\\\\n",
       "\\hline\n",
       "\t1007\\_s\\_at & 693.973300 & 807.14514 & 1722.62500 & 1668.05750 & 2231.2969 & 990.541000 & 1396.82420 & 1026.05650 & 736.770300 & 938.81710 & ⋯ & 983.1340 & 855.5980 & 2074.2300 & 1385.89000 & 1390.9400 & 904.4160 & 1319.0900 & 783.2270 & 1552.96000 & 2845.4500\\\\\n",
       "\t1053\\_at &   9.755318 &  19.05227 &   13.06039 &   14.65225 &  138.6768 &   7.186742 &   10.17089 &   34.05693 &   7.829473 &  40.23533 & ⋯ &  78.0901 &  57.5839 &    4.9474 &   11.06460 &   78.2078 &  50.5737 &   13.7651 &  56.3892 &    6.97840 &   33.0147\\\\\n",
       "\t117\\_at &  13.346846 &  18.21728 &   97.42547 &   98.19795 &  106.4684 &  98.710520 &  164.32666 &   46.30616 &  35.067910 &  72.86490 & ⋯ &  35.8215 & 106.8380 &   87.6188 &   39.50480 &  117.6100 &  20.6184 &   31.4041 &  41.2217 &   40.48350 &   19.1316\\\\\n",
       "\t121\\_at & 173.092450 & 289.31540 &  537.18280 &  496.34656 &  477.8652 & 355.092000 &  467.56790 &  294.58328 & 224.524060 & 298.28473 & ⋯ & 114.5470 & 174.5280 &  180.7250 &  238.92100 &  221.8730 & 153.4310 &  262.5170 & 136.9680 &  284.89900 &  404.0750\\\\\n",
       "\t1255\\_g\\_at &  52.616950 & 110.37598 &   99.02174 &   17.30677 &  628.8162 & 105.254600 &  142.26918 &  123.01614 & 183.396910 & 180.81425 & ⋯ &  18.8389 &  80.0143 &   69.0884 &    5.82269 &   44.7857 &  11.4650 &   30.3939 &  40.7314 &    4.34157 &   42.2666\\\\\n",
       "\t1294\\_at &  67.753624 &  96.78074 &   76.28205 &  189.81960 &  276.4766 & 130.088290 &  131.51334 &  109.67081 &  63.197280 &  78.26386 & ⋯ & 108.4450 &  43.1492 &  106.4890 &  146.65600 &  176.9270 &  33.5637 &  199.4440 &  34.5873 &  141.75700 &  334.6160\\\\\n",
       "\\end{tabular}\n"
      ],
      "text/markdown": [
       "\n",
       "A matrix: 6 × 161 of type dbl\n",
       "\n",
       "| <!--/--> | GSM119615 | GSM119616 | GSM119617 | GSM119618 | GSM119619 | GSM119620 | GSM119621 | GSM119622 | GSM119623 | GSM119624 | ⋯ | GSM238945 | GSM238946 | GSM238947 | GSM238948 | GSM238949 | GSM238951 | GSM238952 | GSM238953 | GSM238955 | GSM238963 |\n",
       "|---|---|---|---|---|---|---|---|---|---|---|---|---|---|---|---|---|---|---|---|---|---|\n",
       "| 1007_s_at | 693.973300 | 807.14514 | 1722.62500 | 1668.05750 | 2231.2969 | 990.541000 | 1396.82420 | 1026.05650 | 736.770300 | 938.81710 | ⋯ | 983.1340 | 855.5980 | 2074.2300 | 1385.89000 | 1390.9400 | 904.4160 | 1319.0900 | 783.2270 | 1552.96000 | 2845.4500 |\n",
       "| 1053_at |   9.755318 |  19.05227 |   13.06039 |   14.65225 |  138.6768 |   7.186742 |   10.17089 |   34.05693 |   7.829473 |  40.23533 | ⋯ |  78.0901 |  57.5839 |    4.9474 |   11.06460 |   78.2078 |  50.5737 |   13.7651 |  56.3892 |    6.97840 |   33.0147 |\n",
       "| 117_at |  13.346846 |  18.21728 |   97.42547 |   98.19795 |  106.4684 |  98.710520 |  164.32666 |   46.30616 |  35.067910 |  72.86490 | ⋯ |  35.8215 | 106.8380 |   87.6188 |   39.50480 |  117.6100 |  20.6184 |   31.4041 |  41.2217 |   40.48350 |   19.1316 |\n",
       "| 121_at | 173.092450 | 289.31540 |  537.18280 |  496.34656 |  477.8652 | 355.092000 |  467.56790 |  294.58328 | 224.524060 | 298.28473 | ⋯ | 114.5470 | 174.5280 |  180.7250 |  238.92100 |  221.8730 | 153.4310 |  262.5170 | 136.9680 |  284.89900 |  404.0750 |\n",
       "| 1255_g_at |  52.616950 | 110.37598 |   99.02174 |   17.30677 |  628.8162 | 105.254600 |  142.26918 |  123.01614 | 183.396910 | 180.81425 | ⋯ |  18.8389 |  80.0143 |   69.0884 |    5.82269 |   44.7857 |  11.4650 |   30.3939 |  40.7314 |    4.34157 |   42.2666 |\n",
       "| 1294_at |  67.753624 |  96.78074 |   76.28205 |  189.81960 |  276.4766 | 130.088290 |  131.51334 |  109.67081 |  63.197280 |  78.26386 | ⋯ | 108.4450 |  43.1492 |  106.4890 |  146.65600 |  176.9270 |  33.5637 |  199.4440 |  34.5873 |  141.75700 |  334.6160 |\n",
       "\n"
      ],
      "text/plain": [
       "          GSM119615  GSM119616 GSM119617  GSM119618  GSM119619 GSM119620 \n",
       "1007_s_at 693.973300 807.14514 1722.62500 1668.05750 2231.2969 990.541000\n",
       "1053_at     9.755318  19.05227   13.06039   14.65225  138.6768   7.186742\n",
       "117_at     13.346846  18.21728   97.42547   98.19795  106.4684  98.710520\n",
       "121_at    173.092450 289.31540  537.18280  496.34656  477.8652 355.092000\n",
       "1255_g_at  52.616950 110.37598   99.02174   17.30677  628.8162 105.254600\n",
       "1294_at    67.753624  96.78074   76.28205  189.81960  276.4766 130.088290\n",
       "          GSM119621  GSM119622  GSM119623  GSM119624 ⋯ GSM238945 GSM238946\n",
       "1007_s_at 1396.82420 1026.05650 736.770300 938.81710 ⋯ 983.1340  855.5980 \n",
       "1053_at     10.17089   34.05693   7.829473  40.23533 ⋯  78.0901   57.5839 \n",
       "117_at     164.32666   46.30616  35.067910  72.86490 ⋯  35.8215  106.8380 \n",
       "121_at     467.56790  294.58328 224.524060 298.28473 ⋯ 114.5470  174.5280 \n",
       "1255_g_at  142.26918  123.01614 183.396910 180.81425 ⋯  18.8389   80.0143 \n",
       "1294_at    131.51334  109.67081  63.197280  78.26386 ⋯ 108.4450   43.1492 \n",
       "          GSM238947 GSM238948  GSM238949 GSM238951 GSM238952 GSM238953\n",
       "1007_s_at 2074.2300 1385.89000 1390.9400 904.4160  1319.0900 783.2270 \n",
       "1053_at      4.9474   11.06460   78.2078  50.5737    13.7651  56.3892 \n",
       "117_at      87.6188   39.50480  117.6100  20.6184    31.4041  41.2217 \n",
       "121_at     180.7250  238.92100  221.8730 153.4310   262.5170 136.9680 \n",
       "1255_g_at   69.0884    5.82269   44.7857  11.4650    30.3939  40.7314 \n",
       "1294_at    106.4890  146.65600  176.9270  33.5637   199.4440  34.5873 \n",
       "          GSM238955  GSM238963\n",
       "1007_s_at 1552.96000 2845.4500\n",
       "1053_at      6.97840   33.0147\n",
       "117_at      40.48350   19.1316\n",
       "121_at     284.89900  404.0750\n",
       "1255_g_at    4.34157   42.2666\n",
       "1294_at    141.75700  334.6160"
      ]
     },
     "metadata": {},
     "output_type": "display_data"
    }
   ],
   "source": [
    "head(GSE5281Exprs)"
   ]
  },
  {
   "cell_type": "code",
   "execution_count": 46,
   "id": "b805a146",
   "metadata": {
    "tags": []
   },
   "outputs": [],
   "source": [
    "# Add a column specifying the condition of each sample (normal - c or Alzheimer's - d)\n",
    "GSE5281Samples$condition <- ifelse(grepl(\"normal\", GSE5281Samples$characteristics_ch1.8), \"c\", \"d\")\n",
    "\n",
    "# Factorize the new column\n",
    "GSE5281Samples$condition <- factor(GSE5281Samples$condition)\n",
    "\n",
    "# Add a new column to specify the region of the sample tissue,\n",
    "# use make.names() to remove special characters and\n",
    "# use tolower() to make all characters lowercase\n",
    "GSE5281Samples$region <- make.names(GSE5281Samples$characteristics_ch1.4)\n",
    "GSE5281Samples$region <- tolower(GSE5281Samples$region)\n",
    "\n",
    "# Factorize the newly added column\n",
    "GSE5281Samples$region <- factor(GSE5281Samples$region)\n",
    "\n",
    "# Reorder the samples to match the samples order in the expression data\n",
    "GSE5281Samples <- GSE5281Samples[order(match(rownames(GSE5281Samples), colnames(GSE5281Exprs))), ]"
   ]
  },
  {
   "attachments": {},
   "cell_type": "markdown",
   "id": "33963c0d",
   "metadata": {},
   "source": [
    "The samples of the GSE5281 dataset fall into two conditions: *normal* and *Alzheimer’s,* which are specified in the `characteristics_ch1.8` column. Each sample is also associated with a specific brain region, such as the entorhinal cortex, hippocampus, primary visual cortex, and so on, denoted in the `characteristics_ch1.4` column. Consequently, both attributes serve as conditions to determine the groups of patients.\n",
    "\n",
    "The initial step in the code snippet involves the addition of two new columns that represent the sample’s condition and the associated brain region to the sample information. These new columns are essentially cleaner versions of the original `characteristics_ch1.8` and `characteristics_ch1.4` columns. The original columns are often manually curated and may contain special characters or duplicated data, which could potentially lead to errors in the analysis. Hence, it is crucial to perform data cleaning before proceeding with any further steps. We can check the statisitcs of the two new columns as follows:\n"
   ]
  },
  {
   "cell_type": "code",
   "execution_count": 47,
   "id": "5640f260",
   "metadata": {
    "tags": []
   },
   "outputs": [
    {
     "data": {
      "text/plain": [
       " condition                                   region  \n",
       " c:74      organ.region..entorhinal.cortex.     :23  \n",
       " d:87      organ.region..hippocampus.           :23  \n",
       "           organ.region..medial.temporal.gyrus. :28  \n",
       "           organ.region..posterior.cingulate.   :13  \n",
       "           organ.region..posterior.singulate.   : 9  \n",
       "           organ.region..primary.visual.cortex. :31  \n",
       "           organ.region..superior.frontal.gyrus.:34  "
      ]
     },
     "metadata": {},
     "output_type": "display_data"
    }
   ],
   "source": [
    "# Examine the newly added columns\n",
    "summary(GSE5281Samples[, c(\"condition\", \"region\")])"
   ]
  },
  {
   "cell_type": "markdown",
   "id": "9681a2c7-c3ed-48ec-939f-16d576f76295",
   "metadata": {},
   "source": [
    "#### RNA-Seq dataset: GSE153873"
   ]
  },
  {
   "cell_type": "code",
   "execution_count": 55,
   "id": "97b40843-7011-43a5-9d5b-90281f66e8fc",
   "metadata": {},
   "outputs": [
    {
     "data": {
      "text/html": [
       "<style>\n",
       ".dl-inline {width: auto; margin:0; padding: 0}\n",
       ".dl-inline>dt, .dl-inline>dd {float: none; width: auto; display: inline-block}\n",
       ".dl-inline>dt::after {content: \":\\0020\"; padding-right: .5ex}\n",
       ".dl-inline>dt:not(:first-of-type) {padding-left: .5ex}\n",
       "</style><dl class=dl-inline><dt>c</dt><dd>18</dd><dt>d</dt><dd>12</dd></dl>\n"
      ],
      "text/latex": [
       "\\begin{description*}\n",
       "\\item[c] 18\n",
       "\\item[d] 12\n",
       "\\end{description*}\n"
      ],
      "text/markdown": [
       "c\n",
       ":   18d\n",
       ":   12\n",
       "\n"
      ],
      "text/plain": [
       " c  d \n",
       "18 12 "
      ]
     },
     "metadata": {},
     "output_type": "display_data"
    }
   ],
   "source": [
    "# Add a column specifying the condition of the sample,\n",
    "# which can be either normal - c or alzheimer - d\n",
    "RNASeqSampleConditions <- ifelse(grepl(\"Alzheimer\", GSE153873Samples$characteristics_ch1.1), \"d\", \"c\")\n",
    "\n",
    "# Factorize the newly added column\n",
    "GSE153873Samples$condition <- factor(RNASeqSampleConditions)\n",
    "\n",
    "# Reorder the samples to match the samples order in the expression data\n",
    "GSE153873Samples <- GSE153873Samples[order(match(GSE153873Samples$title, colnames(GSE153873Exprs))), ]\n",
    "\n",
    "# Examine the newly added column\n",
    "summary(GSE153873Samples[, c(\"condition\")])"
   ]
  },
  {
   "attachments": {},
   "cell_type": "markdown",
   "id": "c2249f71-4ef8-4514-adc1-4557a03b71c3",
   "metadata": {},
   "source": [
    "For this dataset, the `characteristics_ch1.1` column defines the two conditions of the samples: normal and Alzheimer’s. Therefore, we added the `condition` into the `GSE153873Samples` to represent the groups of patients."
   ]
  },
  {
   "attachments": {},
   "cell_type": "markdown",
   "id": "29013050-344d-47b5-bc48-19bfe1b07a30",
   "metadata": {},
   "source": [
    "<!-- headings -->\n",
    "<a id=\"dp-convert\"></a>\n",
    "### 3.3. Gene IDs Conversion\n",
    "\n",
    "In this section, we will create a gene IDs conversion data frame that will be used to convert the gene IDs used in the dataset into the common IDs such as Symbol or Entrez ID. It will be useful in the gene set or pathway analysis, which requires that gene sets and expression data use the same type of gene IDs (e.g., usually Entrez Gene ID or Gene symbol). Dependent on the platform used to generate the expression data, there exists an R package that can be used to annotate the genes in the data to Entrez Gene ID or Gene symbol. For example, the platform of the dataset GSE5281 is GPL570, which has an annotation package on Bioconductor named *hgu133plus2.db*. The list of available annotation packages can be found at: <a href=\"https://bioconductor.org/packages/3.18/data/annotation/\"> https://bioconductor.org/packages/3.18/data/annotation/</a>.\n",
    "\n",
    "#### Microarray Dataset: GSE5281\n",
    "\n",
    "To create the gene IDs mapping data frame, users can execute the following code snippets:"
   ]
  },
  {
   "cell_type": "code",
   "execution_count": 56,
   "id": "17d7f9f8-1b4d-4e9d-b227-a7e51fd76260",
   "metadata": {},
   "outputs": [
    {
     "name": "stderr",
     "output_type": "stream",
     "text": [
      "'getOption(\"repos\")' replaces Bioconductor standard repositories, see\n",
      "'help(\"repositories\", package = \"BiocManager\")' for details.\n",
      "Replacement repositories:\n",
      "    CRAN: https://cran.r-project.org\n",
      "\n",
      "Bioconductor version 3.18 (BiocManager 1.30.22), R 4.3.2 (2023-10-31)\n",
      "\n",
      "Warning message:\n",
      "“package(s) not installed when version(s) same as or greater than current; use\n",
      "  `force = TRUE` to re-install: 'hgu133plus2.db'”\n",
      "'select()' returned 1:many mapping between keys and columns\n",
      "\n"
     ]
    }
   ],
   "source": [
    "# Install the genome wide annotation database for human\n",
    "if (!require(\"BiocManager\", quietly = TRUE))\n",
    " install.packages(\"BiocManager\")\n",
    "BiocManager::install(\"hgu133plus2.db\", update = F)\n",
    "\n",
    "# Load the hgu133plus2.db\n",
    "library(hgu133plus2.db)\n",
    "\n",
    "# Mappping for GSE5281\n",
    "GSE5281Genes <- rownames(GSE5281Exprs) \n",
    "GSE5281GenesMapping <- AnnotationDbi::select(x = hgu133plus2.db, \n",
    "                                        keys = GSE5281Genes, \n",
    "                                        columns = c(\"PROBEID\", \"SYMBOL\", \"ENTREZID\")) \n",
    "colnames(GSE5281GenesMapping) <- c(\"FROM\", \"SYMBOL\", \"ENTREZID\")"
   ]
  },
  {
   "cell_type": "markdown",
   "id": "044f488d-3418-44a9-bb77-8ef8539526fa",
   "metadata": {},
   "source": [
    "To perform the gene IDs mapping, we utilize the `select()` function from the AnnotationDbi package to query various genome-wide annotation databases and to convert gene IDs to the desired IDs. This function requires the following parameters: `x` – an *AnnotationDb* object such as *hgu133plus2.db*, `keys` – a vector containing the current IDs, and `columns` – a vector specifying which types of data (i.e., ID types) can be returned as output. In our example, we choose to return: PROBE ID, SYMBOL, and ENTREZ ID. We then rename the columns of the returned data frame as \"FROM\", \"SYMBOL\", and \"ENTREZID\", respectively. Users can examine this dataframe as follows:"
   ]
  },
  {
   "cell_type": "code",
   "execution_count": 57,
   "id": "79cabbbb-3e47-478a-89f2-e91f5402941e",
   "metadata": {},
   "outputs": [
    {
     "data": {
      "text/html": [
       "<table class=\"dataframe\">\n",
       "<caption>A data.frame: 6 × 3</caption>\n",
       "<thead>\n",
       "\t<tr><th></th><th scope=col>FROM</th><th scope=col>SYMBOL</th><th scope=col>ENTREZID</th></tr>\n",
       "\t<tr><th></th><th scope=col>&lt;chr&gt;</th><th scope=col>&lt;chr&gt;</th><th scope=col>&lt;chr&gt;</th></tr>\n",
       "</thead>\n",
       "<tbody>\n",
       "\t<tr><th scope=row>1</th><td>1007_s_at</td><td>DDR1  </td><td>780 </td></tr>\n",
       "\t<tr><th scope=row>2</th><td>1053_at  </td><td>RFC2  </td><td>5982</td></tr>\n",
       "\t<tr><th scope=row>3</th><td>117_at   </td><td>HSPA6 </td><td>3310</td></tr>\n",
       "\t<tr><th scope=row>4</th><td>121_at   </td><td>PAX8  </td><td>7849</td></tr>\n",
       "\t<tr><th scope=row>5</th><td>1255_g_at</td><td>GUCA1A</td><td>2978</td></tr>\n",
       "\t<tr><th scope=row>6</th><td>1294_at  </td><td>UBA7  </td><td>7318</td></tr>\n",
       "</tbody>\n",
       "</table>\n"
      ],
      "text/latex": [
       "A data.frame: 6 × 3\n",
       "\\begin{tabular}{r|lll}\n",
       "  & FROM & SYMBOL & ENTREZID\\\\\n",
       "  & <chr> & <chr> & <chr>\\\\\n",
       "\\hline\n",
       "\t1 & 1007\\_s\\_at & DDR1   & 780 \\\\\n",
       "\t2 & 1053\\_at   & RFC2   & 5982\\\\\n",
       "\t3 & 117\\_at    & HSPA6  & 3310\\\\\n",
       "\t4 & 121\\_at    & PAX8   & 7849\\\\\n",
       "\t5 & 1255\\_g\\_at & GUCA1A & 2978\\\\\n",
       "\t6 & 1294\\_at   & UBA7   & 7318\\\\\n",
       "\\end{tabular}\n"
      ],
      "text/markdown": [
       "\n",
       "A data.frame: 6 × 3\n",
       "\n",
       "| <!--/--> | FROM &lt;chr&gt; | SYMBOL &lt;chr&gt; | ENTREZID &lt;chr&gt; |\n",
       "|---|---|---|---|\n",
       "| 1 | 1007_s_at | DDR1   | 780  |\n",
       "| 2 | 1053_at   | RFC2   | 5982 |\n",
       "| 3 | 117_at    | HSPA6  | 3310 |\n",
       "| 4 | 121_at    | PAX8   | 7849 |\n",
       "| 5 | 1255_g_at | GUCA1A | 2978 |\n",
       "| 6 | 1294_at   | UBA7   | 7318 |\n",
       "\n"
      ],
      "text/plain": [
       "  FROM      SYMBOL ENTREZID\n",
       "1 1007_s_at DDR1   780     \n",
       "2 1053_at   RFC2   5982    \n",
       "3 117_at    HSPA6  3310    \n",
       "4 121_at    PAX8   7849    \n",
       "5 1255_g_at GUCA1A 2978    \n",
       "6 1294_at   UBA7   7318    "
      ]
     },
     "metadata": {},
     "output_type": "display_data"
    }
   ],
   "source": [
    "# Examine the mapping dataframe for GSE5281\n",
    "head(GSE5281GenesMapping)"
   ]
  },
  {
   "cell_type": "markdown",
   "id": "79dbecef-c1cf-4bd3-8f5f-247b13e80bab",
   "metadata": {},
   "source": [
    "#### RNA-Seq Dataset: GSE153873\n",
    "\n",
    "To create the gene IDs mapping for this dataset, we can run the following command lines:"
   ]
  },
  {
   "cell_type": "code",
   "execution_count": 58,
   "id": "b16a84d9-f1c0-4ae4-98c4-b5d0edd86a52",
   "metadata": {},
   "outputs": [
    {
     "name": "stderr",
     "output_type": "stream",
     "text": [
      "'select()' returned 1:many mapping between keys and columns\n",
      "\n"
     ]
    },
    {
     "data": {
      "text/html": [
       "<table class=\"dataframe\">\n",
       "<caption>A data.frame: 10 × 3</caption>\n",
       "<thead>\n",
       "\t<tr><th></th><th scope=col>FROM</th><th scope=col>SYMBOL</th><th scope=col>ENTREZID</th></tr>\n",
       "\t<tr><th></th><th scope=col>&lt;chr&gt;</th><th scope=col>&lt;chr&gt;</th><th scope=col>&lt;chr&gt;</th></tr>\n",
       "</thead>\n",
       "<tbody>\n",
       "\t<tr><th scope=row>1</th><td>SGIP1  </td><td>SGIP1  </td><td>84251 </td></tr>\n",
       "\t<tr><th scope=row>2</th><td>NECAP2 </td><td>NECAP2 </td><td>55707 </td></tr>\n",
       "\t<tr><th scope=row>3</th><td>AZIN2  </td><td>AZIN2  </td><td>113451</td></tr>\n",
       "\t<tr><th scope=row>4</th><td>AGBL4  </td><td>AGBL4  </td><td>84871 </td></tr>\n",
       "\t<tr><th scope=row>5</th><td>CLIC4  </td><td>CLIC4  </td><td>25932 </td></tr>\n",
       "\t<tr><th scope=row>6</th><td>SLC45A1</td><td>SLC45A1</td><td>50651 </td></tr>\n",
       "\t<tr><th scope=row>7</th><td>TGFBR3 </td><td>TGFBR3 </td><td>7049  </td></tr>\n",
       "\t<tr><th scope=row>8</th><td>DBT    </td><td>DBT    </td><td>1629  </td></tr>\n",
       "\t<tr><th scope=row>9</th><td>PRUNE1 </td><td>PRUNE1 </td><td>58497 </td></tr>\n",
       "\t<tr><th scope=row>10</th><td>C1orf21</td><td>C1orf21</td><td>81563 </td></tr>\n",
       "</tbody>\n",
       "</table>\n"
      ],
      "text/latex": [
       "A data.frame: 10 × 3\n",
       "\\begin{tabular}{r|lll}\n",
       "  & FROM & SYMBOL & ENTREZID\\\\\n",
       "  & <chr> & <chr> & <chr>\\\\\n",
       "\\hline\n",
       "\t1 & SGIP1   & SGIP1   & 84251 \\\\\n",
       "\t2 & NECAP2  & NECAP2  & 55707 \\\\\n",
       "\t3 & AZIN2   & AZIN2   & 113451\\\\\n",
       "\t4 & AGBL4   & AGBL4   & 84871 \\\\\n",
       "\t5 & CLIC4   & CLIC4   & 25932 \\\\\n",
       "\t6 & SLC45A1 & SLC45A1 & 50651 \\\\\n",
       "\t7 & TGFBR3  & TGFBR3  & 7049  \\\\\n",
       "\t8 & DBT     & DBT     & 1629  \\\\\n",
       "\t9 & PRUNE1  & PRUNE1  & 58497 \\\\\n",
       "\t10 & C1orf21 & C1orf21 & 81563 \\\\\n",
       "\\end{tabular}\n"
      ],
      "text/markdown": [
       "\n",
       "A data.frame: 10 × 3\n",
       "\n",
       "| <!--/--> | FROM &lt;chr&gt; | SYMBOL &lt;chr&gt; | ENTREZID &lt;chr&gt; |\n",
       "|---|---|---|---|\n",
       "| 1 | SGIP1   | SGIP1   | 84251  |\n",
       "| 2 | NECAP2  | NECAP2  | 55707  |\n",
       "| 3 | AZIN2   | AZIN2   | 113451 |\n",
       "| 4 | AGBL4   | AGBL4   | 84871  |\n",
       "| 5 | CLIC4   | CLIC4   | 25932  |\n",
       "| 6 | SLC45A1 | SLC45A1 | 50651  |\n",
       "| 7 | TGFBR3  | TGFBR3  | 7049   |\n",
       "| 8 | DBT     | DBT     | 1629   |\n",
       "| 9 | PRUNE1  | PRUNE1  | 58497  |\n",
       "| 10 | C1orf21 | C1orf21 | 81563  |\n",
       "\n"
      ],
      "text/plain": [
       "   FROM    SYMBOL  ENTREZID\n",
       "1  SGIP1   SGIP1   84251   \n",
       "2  NECAP2  NECAP2  55707   \n",
       "3  AZIN2   AZIN2   113451  \n",
       "4  AGBL4   AGBL4   84871   \n",
       "5  CLIC4   CLIC4   25932   \n",
       "6  SLC45A1 SLC45A1 50651   \n",
       "7  TGFBR3  TGFBR3  7049    \n",
       "8  DBT     DBT     1629    \n",
       "9  PRUNE1  PRUNE1  58497   \n",
       "10 C1orf21 C1orf21 81563   "
      ]
     },
     "metadata": {},
     "output_type": "display_data"
    }
   ],
   "source": [
    "# Install the genome wide annotation database for human\n",
    "# if (!require(\"BiocManager\", quietly = TRUE))\n",
    "#  install.packages(\"BiocManager\")\n",
    "# BiocManager::install(\"org.Hs.eg.db\")\n",
    "\n",
    "# Load the annotation database\n",
    "library(org.Hs.eg.db)\n",
    "\n",
    "# Get current gene IDs used in RNA-Seq dataset\n",
    "GSE153873Genes <- rownames(GSE153873Exprs)\n",
    "\n",
    "# Create a mapping dataframe\n",
    "GSE153873GenesMapping <- AnnotationDbi::select(\n",
    "    x = org.Hs.eg.db, \n",
    "    keys = GSE153873Genes, \n",
    "    keytype = \"SYMBOL\", \n",
    "    columns = c(\"SYMBOL\", \"ENTREZID\"))\n",
    "\n",
    "GSE153873GenesMapping <- data.frame(\n",
    "    FROM = GSE153873GenesMapping[,\"SYMBOL\"],\n",
    "    SYMBOL = GSE153873GenesMapping[,\"SYMBOL\"],\n",
    "    ENTREZID = GSE153873GenesMapping[,\"ENTREZID\"],\n",
    "    stringsAsFactors = FALSE)\n",
    "\n",
    "GSE153873GenesMapping[1:10,]"
   ]
  },
  {
   "cell_type": "markdown",
   "id": "ff6f6666-152f-4468-b60c-c4827fcecf36",
   "metadata": {},
   "source": [
    "For this dataset, gene symbols are used as the IDs. To create the mapping dataframe, we need to load the package `org.Hs.eg.db` package for human’s genome-wide annotation. Users can install this package from Bioconductor following the provided instructions in our code snippet. After installation, it is necessary to load this database and input it as a parameter for the `select(`) function, whose parameters are set to be: `x` – an AnnotationDb `org.Hs.eg.db`, `keys` – a vector containing the current IDs `GSE153873Genes`, `keytype` – a character parameter indicating the type of current gene IDs `SYMBOL`, and `columns` – a vector specifying which types of data are returned as output."
   ]
  },
  {
   "cell_type": "markdown",
   "id": "b0209857-88b4-422e-b64b-fbea32ebf1d1",
   "metadata": {},
   "source": [
    "<!-- headings -->\n",
    "<a id=\"dt-export\"></a>\n",
    "## 4. Exporting the Data\n",
    "When we have successfully retrieved expression data from GEO, we can export the expression data to a `.csv` file format for inspection in other software such as Excel using the `write_csv` function from `readr` package.\n",
    "In the code below, we will save the raw expression matrix, normalized expression matrix, and grouping information to  `.csv` files."
   ]
  },
  {
   "cell_type": "code",
   "execution_count": 59,
   "id": "e9ac959e-68f2-43aa-aac0-6e2e9eebd68b",
   "metadata": {
    "tags": []
   },
   "outputs": [],
   "source": [
    "# Convert raw and normalized expression matrix to data frames and save them to csv files\n",
    "expression_data <- as.data.frame(GSE5281Exprs)\n",
    "norm_expression_data <- as.data.frame(norm_expression_data)\n",
    "\n",
    "# Create a sub-directory data folder to save the expression matrix if it is not available\n",
    "dir <- getwd()\n",
    "subDir <- \"/data/export/\"\n",
    "path <- paste0(dir, subDir)\n",
    "# check if the saving folder exists\n",
    "if (!file.exists(path)){\n",
    "    dir.create(file.path(path))\n",
    "}\n",
    "# Save expression values and group to the csv files format in the local folder\n",
    "write.csv(expression_data, file = \"./data/export/raw_GSE5281.csv\")\n",
    "write.csv(norm_expression_data, file = \"./data/export/normalized_GSE5281.csv\")\n",
    "write.csv(GSE5281Samples, file = \"./data/samples_GSE5281.csv\")\n",
    "write.csv(GSE5281GenesMapping, file = \"./data/genes_GSE5281.csv\")"
   ]
  },
  {
   "cell_type": "markdown",
   "id": "23a731f6",
   "metadata": {},
   "source": [
    "The `.csv` format is a very simple format that might not suitable to store big datasets.\n",
    "We can export the expression data to `.rds` format, which is more memory efficient for loading and saving the data.\n",
    "We can save all the relevant data in a `list` and write to the disk using the built in `saveRDS` function."
   ]
  },
  {
   "cell_type": "code",
   "execution_count": 60,
   "id": "665869cc",
   "metadata": {
    "tags": []
   },
   "outputs": [],
   "source": [
    "# Putting expression data, sample groups, and gene IDs mapping into a list\n",
    "GSE5281Dataset <- list(expression_data = GSE5281Exprs, \n",
    "                       samples = GSE5281Samples, \n",
    "                       genes = GSE5281GenesMapping)\n",
    "\n",
    "GSE153873Dataset <- list(expression_data = GSE153873Exprs, \n",
    "                       samples = GSE153873Samples, \n",
    "                       genes = GSE153873GenesMapping)\n",
    "\n",
    "# Save the data to the local disk using rds format\n",
    "saveRDS(GSE5281Dataset, file = \"./data/GSE5281.rds\")\n",
    "saveRDS(GSE153873Dataset, file = \"./data/GSE153873.rds\")"
   ]
  },
  {
   "cell_type": "code",
   "execution_count": 61,
   "id": "0aff6682-1d47-4937-997b-412f52db6bb3",
   "metadata": {},
   "outputs": [
    {
     "data": {
      "text/html": [
       "<table class=\"dataframe\">\n",
       "<caption>A matrix: 54675 × 161 of type dbl</caption>\n",
       "<thead>\n",
       "\t<tr><th></th><th scope=col>GSM119615</th><th scope=col>GSM119616</th><th scope=col>GSM119617</th><th scope=col>GSM119618</th><th scope=col>GSM119619</th><th scope=col>GSM119620</th><th scope=col>GSM119621</th><th scope=col>GSM119622</th><th scope=col>GSM119623</th><th scope=col>GSM119624</th><th scope=col>⋯</th><th scope=col>GSM238945</th><th scope=col>GSM238946</th><th scope=col>GSM238947</th><th scope=col>GSM238948</th><th scope=col>GSM238949</th><th scope=col>GSM238951</th><th scope=col>GSM238952</th><th scope=col>GSM238953</th><th scope=col>GSM238955</th><th scope=col>GSM238963</th></tr>\n",
       "</thead>\n",
       "<tbody>\n",
       "\t<tr><th scope=row>1007_s_at</th><td>693.973300</td><td>807.145140</td><td>1722.625000</td><td>1668.057500</td><td>2231.296900</td><td>990.541000</td><td>1396.824200</td><td>1026.056500</td><td>736.770300</td><td>938.817100</td><td>⋯</td><td>983.13400</td><td>855.59800</td><td>2074.23000</td><td>1385.89000</td><td>1390.94000</td><td>904.416000</td><td>1319.09000</td><td>783.22700</td><td>1552.96000</td><td>2845.45000</td></tr>\n",
       "\t<tr><th scope=row>1053_at</th><td>  9.755318</td><td> 19.052270</td><td>  13.060389</td><td>  14.652245</td><td> 138.676830</td><td>  7.186742</td><td>  10.170890</td><td>  34.056934</td><td>  7.829473</td><td> 40.235332</td><td>⋯</td><td> 78.09010</td><td> 57.58390</td><td>   4.94740</td><td>  11.06460</td><td>  78.20780</td><td> 50.573700</td><td>  13.76510</td><td> 56.38920</td><td>   6.97840</td><td>  33.01470</td></tr>\n",
       "\t<tr><th scope=row>117_at</th><td> 13.346846</td><td> 18.217276</td><td>  97.425470</td><td>  98.197945</td><td> 106.468440</td><td> 98.710520</td><td> 164.326660</td><td>  46.306164</td><td> 35.067910</td><td> 72.864900</td><td>⋯</td><td> 35.82150</td><td>106.83800</td><td>  87.61880</td><td>  39.50480</td><td> 117.61000</td><td> 20.618400</td><td>  31.40410</td><td> 41.22170</td><td>  40.48350</td><td>  19.13160</td></tr>\n",
       "\t<tr><th scope=row>121_at</th><td>173.092450</td><td>289.315400</td><td> 537.182800</td><td> 496.346560</td><td> 477.865170</td><td>355.092000</td><td> 467.567900</td><td> 294.583280</td><td>224.524060</td><td>298.284730</td><td>⋯</td><td>114.54700</td><td>174.52800</td><td> 180.72500</td><td> 238.92100</td><td> 221.87300</td><td>153.431000</td><td> 262.51700</td><td>136.96800</td><td> 284.89900</td><td> 404.07500</td></tr>\n",
       "\t<tr><th scope=row>1255_g_at</th><td> 52.616950</td><td>110.375984</td><td>  99.021736</td><td>  17.306772</td><td> 628.816160</td><td>105.254600</td><td> 142.269180</td><td> 123.016136</td><td>183.396910</td><td>180.814250</td><td>⋯</td><td> 18.83890</td><td> 80.01430</td><td>  69.08840</td><td>   5.82269</td><td>  44.78570</td><td> 11.465000</td><td>  30.39390</td><td> 40.73140</td><td>   4.34157</td><td>  42.26660</td></tr>\n",
       "\t<tr><th scope=row>1294_at</th><td> 67.753624</td><td> 96.780740</td><td>  76.282050</td><td> 189.819600</td><td> 276.476560</td><td>130.088290</td><td> 131.513340</td><td> 109.670810</td><td> 63.197280</td><td> 78.263855</td><td>⋯</td><td>108.44500</td><td> 43.14920</td><td> 106.48900</td><td> 146.65600</td><td> 176.92700</td><td> 33.563700</td><td> 199.44400</td><td> 34.58730</td><td> 141.75700</td><td> 334.61600</td></tr>\n",
       "\t<tr><th scope=row>1316_at</th><td>209.412200</td><td>470.433070</td><td> 908.266360</td><td>1029.788500</td><td>1366.783700</td><td>624.679260</td><td>1589.276600</td><td> 858.423000</td><td>643.095000</td><td>412.519470</td><td>⋯</td><td>635.70400</td><td>869.73100</td><td>1201.68000</td><td>1423.64000</td><td>1004.63000</td><td>622.961000</td><td>1080.42000</td><td>461.37500</td><td> 834.70200</td><td>1352.03000</td></tr>\n",
       "\t<tr><th scope=row>1320_at</th><td> 10.765010</td><td>  3.834024</td><td>   7.970618</td><td>   3.469380</td><td>  11.245625</td><td> 22.197855</td><td>   7.773280</td><td>   7.727498</td><td>  4.196418</td><td> 12.778767</td><td>⋯</td><td> 25.01560</td><td>  5.78831</td><td>   2.98114</td><td>   4.69030</td><td>  37.30940</td><td>  3.838540</td><td>  13.28010</td><td>  1.52516</td><td>   4.16623</td><td>  21.88330</td></tr>\n",
       "\t<tr><th scope=row>1405_i_at</th><td> 10.559881</td><td> 27.871660</td><td> 121.391370</td><td>  48.153168</td><td>   3.137640</td><td>  8.126172</td><td>  73.906970</td><td>   9.745271</td><td>  6.104734</td><td> 16.480728</td><td>⋯</td><td>  7.63653</td><td>  5.90447</td><td>  19.35500</td><td>   2.40904</td><td>   7.54855</td><td>  4.756360</td><td>   3.32188</td><td>  3.21515</td><td>  13.73080</td><td>  43.41040</td></tr>\n",
       "\t<tr><th scope=row>1431_at</th><td> 38.878853</td><td> 73.023575</td><td>  17.437328</td><td>  10.587775</td><td> 147.823200</td><td> 24.068861</td><td>  24.427702</td><td>  58.589240</td><td> 84.349400</td><td> 36.493810</td><td>⋯</td><td> 54.13290</td><td> 49.85080</td><td>  14.52490</td><td> 104.79500</td><td>  70.76400</td><td> 38.902300</td><td>  52.81760</td><td> 31.23220</td><td>  11.59510</td><td>  28.18700</td></tr>\n",
       "\t<tr><th scope=row>1438_at</th><td>  5.484453</td><td> 19.886892</td><td>  27.643036</td><td>  68.110080</td><td>  17.465767</td><td> 21.237518</td><td>  67.104590</td><td>   6.816291</td><td>  7.751206</td><td> 12.703977</td><td>⋯</td><td>  6.76476</td><td> 39.20890</td><td>  52.38490</td><td>  10.65140</td><td>   4.46224</td><td>  4.909690</td><td>   2.39246</td><td>  6.18627</td><td>  10.53120</td><td>   5.07273</td></tr>\n",
       "\t<tr><th scope=row>1487_at</th><td>116.533130</td><td>252.857710</td><td> 444.598450</td><td> 291.672420</td><td> 293.538000</td><td>405.519500</td><td> 204.258290</td><td> 293.013980</td><td>209.791500</td><td>305.473200</td><td>⋯</td><td>162.33300</td><td>190.32700</td><td> 266.90000</td><td> 222.63500</td><td> 192.76400</td><td>213.538000</td><td> 212.72700</td><td>220.38500</td><td> 324.72300</td><td> 460.84900</td></tr>\n",
       "\t<tr><th scope=row>1494_f_at</th><td> 73.790130</td><td> 79.242720</td><td> 164.864640</td><td> 149.778210</td><td> 219.186230</td><td>138.255900</td><td> 165.007420</td><td>  88.898766</td><td>111.283080</td><td>114.842260</td><td>⋯</td><td> 39.29120</td><td>114.36800</td><td> 106.91200</td><td>  83.96010</td><td>  92.00250</td><td> 37.097200</td><td>  51.08940</td><td> 20.97060</td><td> 110.55200</td><td> 131.24500</td></tr>\n",
       "\t<tr><th scope=row>1552256_a_at</th><td>225.461470</td><td>473.120850</td><td> 529.132450</td><td> 425.397670</td><td> 729.881800</td><td>393.883000</td><td> 486.921450</td><td> 456.503660</td><td>528.402340</td><td>360.546300</td><td>⋯</td><td>291.11800</td><td> 57.80250</td><td> 257.35300</td><td> 246.84500</td><td> 325.11600</td><td>259.267000</td><td> 254.73300</td><td>207.98400</td><td> 205.26900</td><td>1034.69000</td></tr>\n",
       "\t<tr><th scope=row>1552257_a_at</th><td>297.571700</td><td>370.229280</td><td> 454.599180</td><td> 374.796540</td><td>1024.286000</td><td>358.414300</td><td> 705.964360</td><td> 359.039430</td><td>420.157680</td><td>403.711270</td><td>⋯</td><td>483.81500</td><td>687.29200</td><td> 474.70000</td><td> 479.79300</td><td> 756.68500</td><td>265.102000</td><td> 420.40600</td><td>351.53300</td><td> 396.49000</td><td> 756.06100</td></tr>\n",
       "\t<tr><th scope=row>1552258_at</th><td> 42.922966</td><td> 30.042309</td><td>  70.641660</td><td> 100.327500</td><td>  46.742317</td><td> 68.277510</td><td> 136.465850</td><td>   4.789156</td><td> 61.653824</td><td> 25.775404</td><td>⋯</td><td>  6.30482</td><td> 70.78080</td><td>  16.55980</td><td>  91.97670</td><td>  71.56100</td><td> 11.451100</td><td>  39.20660</td><td> 27.03200</td><td>  48.05600</td><td>  94.20330</td></tr>\n",
       "\t<tr><th scope=row>1552261_at</th><td> 19.755875</td><td>  3.287976</td><td>  71.643800</td><td>  54.237900</td><td>  23.917818</td><td> 52.335900</td><td>  90.524430</td><td>  53.892185</td><td> 29.267605</td><td> 67.561150</td><td>⋯</td><td> 26.85480</td><td>136.42000</td><td>  80.02930</td><td>  12.14200</td><td>  50.06720</td><td> 39.351300</td><td>  12.84980</td><td> 10.35760</td><td>  11.43900</td><td>  59.19930</td></tr>\n",
       "\t<tr><th scope=row>1552263_at</th><td>  7.579159</td><td> 50.133670</td><td>  73.103640</td><td> 111.523926</td><td> 135.911350</td><td>122.731064</td><td>  31.780657</td><td>  32.656002</td><td> 66.755110</td><td> 37.518166</td><td>⋯</td><td> 19.23590</td><td>169.43800</td><td>  23.21900</td><td>   1.78109</td><td>  34.09140</td><td>  2.852100</td><td>  11.60730</td><td> 26.07860</td><td>  40.63420</td><td>   4.97204</td></tr>\n",
       "\t<tr><th scope=row>1552264_a_at</th><td> 51.649340</td><td> 65.331116</td><td> 117.597790</td><td>  72.039580</td><td> 151.724660</td><td> 81.840810</td><td>  76.355990</td><td>  33.175117</td><td> 36.340103</td><td>  7.425225</td><td>⋯</td><td>  4.66061</td><td>  6.24086</td><td>  32.68860</td><td>   4.45250</td><td>  46.55490</td><td>  3.637810</td><td>  49.04940</td><td> 19.39370</td><td>   5.87274</td><td>  67.65290</td></tr>\n",
       "\t<tr><th scope=row>1552266_at</th><td> 56.689617</td><td> 36.677937</td><td>  34.379310</td><td>  97.554280</td><td>  60.972233</td><td>112.636760</td><td>  69.396996</td><td> 104.845420</td><td> 10.159379</td><td> 64.256610</td><td>⋯</td><td> 76.79320</td><td> 20.84770</td><td>  83.74590</td><td> 150.75400</td><td>  43.29430</td><td> 30.584100</td><td>  37.99000</td><td> 49.09710</td><td>  87.65800</td><td>   3.49814</td></tr>\n",
       "\t<tr><th scope=row>1552269_at</th><td>  2.655222</td><td>  3.063504</td><td>  10.420430</td><td>   6.711966</td><td>   7.482860</td><td>  2.431454</td><td>   9.643306</td><td>   1.810808</td><td> 30.152750</td><td>  4.793575</td><td>⋯</td><td> 23.36470</td><td> 36.41590</td><td>  18.97150</td><td>   3.98392</td><td>   2.55239</td><td>  2.640110</td><td>  15.46510</td><td>  8.83116</td><td>  31.22010</td><td>  51.81450</td></tr>\n",
       "\t<tr><th scope=row>1552271_at</th><td> 14.917539</td><td>  7.018197</td><td>  51.647556</td><td>  42.625465</td><td>  68.929690</td><td> 17.669218</td><td>  32.969585</td><td>  10.978026</td><td>  8.321659</td><td> 25.219751</td><td>⋯</td><td>  9.22646</td><td> 34.92220</td><td>   8.42527</td><td>   7.48148</td><td>  14.93800</td><td>  5.005330</td><td>   8.22339</td><td>  4.05201</td><td>  12.83150</td><td>  46.57270</td></tr>\n",
       "\t<tr><th scope=row>1552272_a_at</th><td> 54.411297</td><td> 89.180200</td><td> 208.393660</td><td> 250.295460</td><td>  34.422283</td><td>113.068954</td><td> 176.360060</td><td>  83.938520</td><td> 78.439640</td><td> 74.286446</td><td>⋯</td><td> 25.82650</td><td> 75.16380</td><td>  10.12600</td><td>   9.69401</td><td>  52.90680</td><td> 39.350000</td><td>  75.70940</td><td> 20.31020</td><td> 107.41700</td><td>  58.09420</td></tr>\n",
       "\t<tr><th scope=row>1552274_at</th><td>201.603970</td><td>349.416140</td><td> 659.617250</td><td> 447.052580</td><td> 868.336060</td><td>519.647950</td><td> 654.066960</td><td> 269.042630</td><td>470.706400</td><td>228.361130</td><td>⋯</td><td>183.26600</td><td> 86.24970</td><td>  23.93100</td><td> 199.22400</td><td> 180.24400</td><td>222.813000</td><td> 255.68800</td><td>163.64500</td><td> 330.12400</td><td> 442.43100</td></tr>\n",
       "\t<tr><th scope=row>1552275_s_at</th><td>158.081250</td><td>204.652220</td><td> 324.835200</td><td> 281.171360</td><td> 688.879460</td><td>175.084610</td><td> 512.205500</td><td> 182.223340</td><td>261.964750</td><td>214.837770</td><td>⋯</td><td>339.20500</td><td>227.68000</td><td> 165.44900</td><td> 351.41700</td><td> 181.44300</td><td>352.710000</td><td> 330.86800</td><td>222.07400</td><td> 491.47500</td><td> 498.62000</td></tr>\n",
       "\t<tr><th scope=row>1552276_a_at</th><td> 10.250906</td><td> 29.194675</td><td> 114.587550</td><td>  32.327640</td><td>  39.920013</td><td>  5.173283</td><td>  26.920113</td><td>  35.646580</td><td> 28.430414</td><td> 98.876650</td><td>⋯</td><td> 50.69500</td><td>  7.47189</td><td>  62.85090</td><td>  14.10950</td><td> 102.62900</td><td> 11.376100</td><td>  31.89740</td><td>  3.82322</td><td>  55.01950</td><td>   9.48109</td></tr>\n",
       "\t<tr><th scope=row>1552277_a_at</th><td> 85.110560</td><td>165.024860</td><td> 269.468320</td><td> 224.952040</td><td> 352.500980</td><td>142.081000</td><td> 127.192320</td><td> 130.335160</td><td>253.553680</td><td>172.859160</td><td>⋯</td><td> 99.87310</td><td> 27.14580</td><td>  76.28030</td><td> 204.53000</td><td>   2.99062</td><td> 97.672800</td><td>  69.59400</td><td>101.35400</td><td>  67.90700</td><td> 142.64600</td></tr>\n",
       "\t<tr><th scope=row>1552278_a_at</th><td> 48.826140</td><td> 65.580185</td><td> 207.674360</td><td>  38.072820</td><td> 197.202990</td><td>137.885300</td><td> 129.675780</td><td>  50.091618</td><td> 12.817143</td><td> 75.175630</td><td>⋯</td><td> 33.93570</td><td>  7.85649</td><td>  65.24050</td><td> 151.05300</td><td> 138.46600</td><td> 58.299200</td><td>  48.84940</td><td> 31.38310</td><td>  25.52730</td><td>  69.67960</td></tr>\n",
       "\t<tr><th scope=row>1552279_a_at</th><td> 87.422890</td><td>137.388730</td><td> 159.269260</td><td> 203.500430</td><td> 167.328460</td><td>148.589540</td><td> 229.966320</td><td>  92.622660</td><td>133.824160</td><td>102.450226</td><td>⋯</td><td> 81.58880</td><td>178.87700</td><td>  54.42340</td><td> 242.62500</td><td> 153.45900</td><td> 71.029000</td><td> 116.18500</td><td> 70.11850</td><td> 276.84700</td><td> 110.46100</td></tr>\n",
       "\t<tr><th scope=row>1552280_at</th><td> 12.392481</td><td>  5.797967</td><td>  93.024240</td><td>  24.288298</td><td>   9.229171</td><td> 15.815872</td><td>  81.703470</td><td>   6.664076</td><td>  5.652517</td><td> 38.113144</td><td>⋯</td><td> 12.61220</td><td> 54.52330</td><td>  40.06170</td><td>  36.96980</td><td>  16.61230</td><td>  0.902492</td><td>  30.73150</td><td>  3.26545</td><td>   5.90937</td><td>  62.16600</td></tr>\n",
       "\t<tr><th scope=row>⋮</th><td>⋮</td><td>⋮</td><td>⋮</td><td>⋮</td><td>⋮</td><td>⋮</td><td>⋮</td><td>⋮</td><td>⋮</td><td>⋮</td><td>⋱</td><td>⋮</td><td>⋮</td><td>⋮</td><td>⋮</td><td>⋮</td><td>⋮</td><td>⋮</td><td>⋮</td><td>⋮</td><td>⋮</td></tr>\n",
       "\t<tr><th scope=row>AFFX-PheX-3_at</th><td>  799.140200</td><td>1.469975e+01</td><td>   70.623030</td><td>   69.423090</td><td> 5715.165000</td><td>   20.448574</td><td>   34.714420</td><td>   14.941455</td><td>1.731761e+01</td><td>   25.354300</td><td>⋯</td><td> 2619.69000</td><td>1.29648e+04</td><td>11182.40000</td><td> 7109.1300</td><td> 4760.30000</td><td> 1128.89000</td><td> 3290.11000</td><td> 1581.88000</td><td>10412.90000</td><td> 6719.87000</td></tr>\n",
       "\t<tr><th scope=row>AFFX-PheX-5_at</th><td>   80.598760</td><td>7.664094e+00</td><td>   25.939754</td><td>    3.515020</td><td>  902.239140</td><td>   16.740881</td><td>    6.046320</td><td>    4.059562</td><td>1.750180e+00</td><td>   22.407670</td><td>⋯</td><td>  309.64100</td><td>1.48410e+03</td><td> 1701.47000</td><td>  698.6710</td><td>  612.43700</td><td>  190.77800</td><td>  433.50400</td><td>  241.10400</td><td>  802.33900</td><td>  866.53100</td></tr>\n",
       "\t<tr><th scope=row>AFFX-PheX-M_at</th><td>  308.765660</td><td>2.282215e+00</td><td>    3.082529</td><td>    9.552471</td><td> 3367.465000</td><td>    4.207030</td><td>   14.007323</td><td>    4.076465</td><td>1.783865e+01</td><td>   11.197813</td><td>⋯</td><td> 1310.69000</td><td>5.98842e+03</td><td> 6717.66000</td><td> 3525.2000</td><td> 2304.20000</td><td>  612.28300</td><td> 1737.32000</td><td>  729.73400</td><td> 4383.72000</td><td> 3346.74000</td></tr>\n",
       "\t<tr><th scope=row>AFFX-r2-Bs-dap-3_at</th><td> 6194.911600</td><td>6.172896e-01</td><td>   69.205880</td><td>    5.079363</td><td>34836.890000</td><td>    3.640544</td><td>   36.439090</td><td>    2.756255</td><td>1.938309e+00</td><td>    3.072119</td><td>⋯</td><td>16931.80000</td><td>5.56084e+04</td><td>44797.90000</td><td>37726.9000</td><td>27690.80000</td><td>10838.60000</td><td>25131.20000</td><td>12020.70000</td><td>46823.40000</td><td>49708.60000</td></tr>\n",
       "\t<tr><th scope=row>AFFX-r2-Bs-dap-5_at</th><td>  108.541794</td><td>4.258958e+00</td><td>    5.781343</td><td>    4.590869</td><td> 2026.488000</td><td>    2.753163</td><td>   16.345154</td><td>    1.864361</td><td>1.388282e+00</td><td>    3.047672</td><td>⋯</td><td>  904.16700</td><td>2.67846e+03</td><td> 2859.46000</td><td> 2070.1900</td><td> 1099.15000</td><td>  656.22800</td><td> 1377.26000</td><td>  545.27400</td><td> 1944.16000</td><td> 2556.22000</td></tr>\n",
       "\t<tr><th scope=row>AFFX-r2-Bs-dap-M_at</th><td> 2028.572800</td><td>1.365906e+00</td><td>   57.731537</td><td>    2.282401</td><td>16761.877000</td><td>   13.908889</td><td>   47.549267</td><td>   12.510062</td><td>1.038438e+01</td><td>   19.629787</td><td>⋯</td><td> 5517.57000</td><td>2.36905e+04</td><td>24282.10000</td><td>15118.0000</td><td> 9905.64000</td><td> 5784.66000</td><td>19191.60000</td><td> 5330.69000</td><td>15124.70000</td><td>22625.10000</td></tr>\n",
       "\t<tr><th scope=row>AFFX-r2-Bs-lys-3_at</th><td>  828.969200</td><td>1.762120e+01</td><td>   48.762936</td><td>    2.876273</td><td> 3448.157200</td><td>   34.023273</td><td>   52.285297</td><td>    9.703902</td><td>1.730966e+01</td><td>   12.003414</td><td>⋯</td><td> 1567.97000</td><td>6.07848e+03</td><td> 4860.83000</td><td> 3204.0700</td><td> 2829.26000</td><td> 1041.05000</td><td> 2654.41000</td><td>  962.21700</td><td> 3378.87000</td><td> 5338.17000</td></tr>\n",
       "\t<tr><th scope=row>AFFX-r2-Bs-lys-5_at</th><td>   49.812200</td><td>2.127623e+00</td><td>   12.538875</td><td>   19.739923</td><td>  485.028780</td><td>    1.853139</td><td>   57.903780</td><td>    2.442586</td><td>9.221884e-01</td><td>    4.704135</td><td>⋯</td><td>  125.17300</td><td>5.79382e+02</td><td>  366.04400</td><td>  181.7540</td><td>  206.13100</td><td>   75.55660</td><td>  150.32300</td><td>   58.72500</td><td>  285.82300</td><td>  322.45000</td></tr>\n",
       "\t<tr><th scope=row>AFFX-r2-Bs-lys-M_at</th><td>  465.345430</td><td>1.209513e+00</td><td>   38.581352</td><td>   22.794958</td><td> 1995.121800</td><td>   11.364210</td><td>    6.420361</td><td>    1.873263</td><td>2.177053e+00</td><td>   27.830956</td><td>⋯</td><td>  990.17900</td><td>4.24233e+03</td><td> 3252.09000</td><td> 1741.9700</td><td> 1935.30000</td><td>  552.77600</td><td> 1377.62000</td><td>  597.92600</td><td> 1962.89000</td><td> 3931.75000</td></tr>\n",
       "\t<tr><th scope=row>AFFX-r2-Bs-phe-3_at</th><td> 1118.705400</td><td>8.375128e+00</td><td>   75.063850</td><td>   52.136030</td><td> 9783.694000</td><td>   52.627030</td><td>  145.755660</td><td>   51.862095</td><td>2.733352e+00</td><td>   52.704407</td><td>⋯</td><td> 3933.82000</td><td>1.55347e+04</td><td>14371.20000</td><td> 7685.1900</td><td> 4187.98000</td><td> 1835.00000</td><td> 4690.36000</td><td> 2094.69000</td><td>10307.90000</td><td> 8774.90000</td></tr>\n",
       "\t<tr><th scope=row>AFFX-r2-Bs-phe-5_at</th><td>  127.210760</td><td>8.547265e-01</td><td>   71.461910</td><td>   42.519880</td><td> 1647.213600</td><td>    8.966128</td><td>   48.789143</td><td>    3.932580</td><td>2.190636e+01</td><td>    2.320556</td><td>⋯</td><td>  625.08900</td><td>2.20857e+03</td><td> 2478.26000</td><td> 1362.6700</td><td>  845.38000</td><td>  318.79400</td><td>  661.54600</td><td>  335.38000</td><td> 1207.49000</td><td> 1062.40000</td></tr>\n",
       "\t<tr><th scope=row>AFFX-r2-Bs-phe-M_at</th><td>  346.272900</td><td>2.710897e+01</td><td>    8.914477</td><td>    5.738951</td><td> 3866.058800</td><td>    7.662843</td><td>   67.212920</td><td>    6.291887</td><td>2.815225e+01</td><td>   25.077130</td><td>⋯</td><td> 1553.12000</td><td>6.18349e+03</td><td> 7384.09000</td><td> 3613.0700</td><td> 2473.67000</td><td>  662.99300</td><td> 1976.41000</td><td>  801.35900</td><td> 5241.66000</td><td> 3021.26000</td></tr>\n",
       "\t<tr><th scope=row>AFFX-r2-Bs-thr-3_s_at</th><td> 2271.309600</td><td>7.673651e+00</td><td>   45.994278</td><td>   11.571333</td><td>17090.176000</td><td>    3.842200</td><td>   14.578441</td><td>   21.834393</td><td>2.730827e+00</td><td>   21.490696</td><td>⋯</td><td> 9582.13000</td><td>3.56540e+04</td><td>34361.30000</td><td>21750.5000</td><td>13416.10000</td><td> 4991.69000</td><td>11772.10000</td><td> 5412.39000</td><td>26339.50000</td><td>22801.20000</td></tr>\n",
       "\t<tr><th scope=row>AFFX-r2-Bs-thr-5_s_at</th><td>   93.839540</td><td>2.302768e+01</td><td>   81.607770</td><td>    3.031969</td><td>  838.317200</td><td>   16.303972</td><td>   32.533836</td><td>    3.001868</td><td>2.564222e+01</td><td>   52.853600</td><td>⋯</td><td>  580.13100</td><td>1.85174e+03</td><td> 2169.26000</td><td> 1257.6100</td><td>  641.11600</td><td>  248.54000</td><td>  379.96200</td><td>  205.95000</td><td> 1145.51000</td><td>  892.39800</td></tr>\n",
       "\t<tr><th scope=row>AFFX-r2-Bs-thr-M_s_at</th><td>  419.656070</td><td>1.532272e+00</td><td>   18.921083</td><td>  108.536330</td><td> 4391.477000</td><td>   55.864677</td><td>   89.895150</td><td>   31.540342</td><td>6.353110e+00</td><td>   12.001079</td><td>⋯</td><td> 2346.43000</td><td>1.04974e+04</td><td>15019.10000</td><td> 8070.6200</td><td> 3738.26000</td><td> 1147.35000</td><td> 2349.29000</td><td> 1162.14000</td><td> 5503.19000</td><td> 5747.19000</td></tr>\n",
       "\t<tr><th scope=row>AFFX-r2-Ec-bioB-3_at</th><td>  375.285700</td><td>3.077727e+02</td><td>  566.191000</td><td>  888.445900</td><td> 1379.972900</td><td>  594.208500</td><td> 1228.946400</td><td>  459.389800</td><td>4.792100e+02</td><td>  361.182460</td><td>⋯</td><td> 1393.37000</td><td>4.35122e+03</td><td> 2698.16000</td><td> 2885.5500</td><td> 2964.06000</td><td>  763.40500</td><td> 1814.79000</td><td>  789.53700</td><td> 3831.41000</td><td> 3558.19000</td></tr>\n",
       "\t<tr><th scope=row>AFFX-r2-Ec-bioB-5_at</th><td>  550.115700</td><td>2.396358e+02</td><td>  558.534360</td><td>  647.922000</td><td> 1590.832000</td><td>  609.481000</td><td> 1187.192700</td><td>  610.141200</td><td>4.787850e+02</td><td>  452.436680</td><td>⋯</td><td> 1636.22000</td><td>3.96481e+03</td><td> 2931.43000</td><td> 2960.0900</td><td> 3153.59000</td><td>  970.28600</td><td> 2280.25000</td><td>  919.08800</td><td> 3470.63000</td><td> 3574.09000</td></tr>\n",
       "\t<tr><th scope=row>AFFX-r2-Ec-bioB-M_at</th><td>  403.328280</td><td>2.368778e+02</td><td>  359.537500</td><td>  474.259060</td><td> 1720.710700</td><td>  448.954250</td><td>  994.898860</td><td>  525.579100</td><td>3.840139e+02</td><td>  376.334350</td><td>⋯</td><td> 1536.37000</td><td>4.38735e+03</td><td> 2924.86000</td><td> 3106.1500</td><td> 2483.65000</td><td>  910.31400</td><td> 2052.38000</td><td>  882.11100</td><td> 3531.10000</td><td> 2844.80000</td></tr>\n",
       "\t<tr><th scope=row>AFFX-r2-Ec-bioC-3_at</th><td> 1030.648000</td><td>9.650499e+02</td><td> 1878.997300</td><td> 2000.841300</td><td> 3835.657200</td><td> 1619.824000</td><td> 4168.624000</td><td> 2143.165300</td><td>1.720703e+03</td><td> 1617.556500</td><td>⋯</td><td> 3497.97000</td><td>7.76548e+03</td><td> 6726.48000</td><td> 6632.6300</td><td> 5431.98000</td><td> 2523.08000</td><td> 4997.28000</td><td> 2282.91000</td><td> 6800.16000</td><td> 9482.37000</td></tr>\n",
       "\t<tr><th scope=row>AFFX-r2-Ec-bioC-5_at</th><td>  999.028260</td><td>8.360003e+02</td><td> 1702.250100</td><td> 2060.180400</td><td> 3302.973000</td><td> 1814.482500</td><td> 3687.964600</td><td> 2013.464600</td><td>1.403077e+03</td><td> 1507.807300</td><td>⋯</td><td> 3255.67000</td><td>8.50465e+03</td><td> 6033.22000</td><td> 5767.6800</td><td> 5739.64000</td><td> 2096.67000</td><td> 4450.59000</td><td> 1909.69000</td><td> 6963.57000</td><td> 8753.13000</td></tr>\n",
       "\t<tr><th scope=row>AFFX-r2-Ec-bioD-3_at</th><td> 4114.250000</td><td>5.400458e+03</td><td>11152.886000</td><td>14431.408000</td><td>15043.503000</td><td>11302.579000</td><td>25951.880000</td><td>12030.639000</td><td>8.546722e+03</td><td> 8597.459000</td><td>⋯</td><td>16330.50000</td><td>3.92170e+04</td><td>29413.40000</td><td>29373.9000</td><td>28841.80000</td><td>10425.10000</td><td>22824.10000</td><td>10408.90000</td><td>36402.20000</td><td>42444.30000</td></tr>\n",
       "\t<tr><th scope=row>AFFX-r2-Ec-bioD-5_at</th><td> 4114.576700</td><td>4.465091e+03</td><td> 8695.538000</td><td>10365.053000</td><td>14511.482000</td><td> 9113.888000</td><td>16733.525000</td><td> 9510.949000</td><td>7.087432e+03</td><td> 7381.880400</td><td>⋯</td><td>14709.20000</td><td>3.74770e+04</td><td>27954.00000</td><td>27955.1000</td><td>28205.70000</td><td> 8889.75000</td><td>18763.30000</td><td> 8662.22000</td><td>32577.60000</td><td>34364.20000</td></tr>\n",
       "\t<tr><th scope=row>AFFX-r2-P1-cre-3_at</th><td>13951.371000</td><td>1.985415e+04</td><td>47580.984000</td><td>45601.290000</td><td>50365.547000</td><td>36254.090000</td><td>70227.280000</td><td>36646.867000</td><td>3.138912e+04</td><td>27935.940000</td><td>⋯</td><td>47087.50000</td><td>1.12111e+05</td><td>84523.20000</td><td>84719.6000</td><td>87100.40000</td><td>28356.90000</td><td>50764.20000</td><td>27686.60000</td><td>95516.80000</td><td>91821.00000</td></tr>\n",
       "\t<tr><th scope=row>AFFX-r2-P1-cre-5_at</th><td> 9590.616000</td><td>1.449660e+04</td><td>33593.055000</td><td>33553.914000</td><td>37182.836000</td><td>28733.100000</td><td>56858.520000</td><td>27644.191000</td><td>2.335666e+04</td><td>21766.600000</td><td>⋯</td><td>36038.30000</td><td>8.97401e+04</td><td>68196.20000</td><td>67746.1000</td><td>70949.40000</td><td>22105.40000</td><td>44972.40000</td><td>21462.60000</td><td>75816.80000</td><td>72011.20000</td></tr>\n",
       "\t<tr><th scope=row>AFFX-ThrX-3_at</th><td> 1821.608200</td><td>2.171030e+01</td><td>   36.736942</td><td>    5.882349</td><td>13262.363000</td><td>   14.434994</td><td>   10.715485</td><td>    5.828534</td><td>1.072256e+01</td><td>    8.189967</td><td>⋯</td><td> 6730.06000</td><td>2.80576e+04</td><td>28278.70000</td><td>17816.9000</td><td>10702.70000</td><td> 3480.11000</td><td> 8376.44000</td><td> 4099.04000</td><td>18781.20000</td><td>18406.90000</td></tr>\n",
       "\t<tr><th scope=row>AFFX-ThrX-5_at</th><td>   46.302326</td><td>5.705804e+00</td><td>   30.422820</td><td>    6.936473</td><td>  448.497340</td><td>   28.413843</td><td>   11.918980</td><td>    3.923356</td><td>1.425013e+01</td><td>    6.387569</td><td>⋯</td><td>  351.38400</td><td>1.14810e+03</td><td> 1139.84000</td><td>  689.1840</td><td>  346.30700</td><td>  140.44300</td><td>  237.00200</td><td>  136.47500</td><td>  744.86000</td><td>  508.20300</td></tr>\n",
       "\t<tr><th scope=row>AFFX-ThrX-M_at</th><td>  279.892550</td><td>3.477558e+00</td><td>    6.315493</td><td>   17.975550</td><td> 3133.012200</td><td>    7.277436</td><td>   69.250970</td><td>   27.650482</td><td>1.874873e+01</td><td>    2.100605</td><td>⋯</td><td> 1642.06000</td><td>6.85323e+03</td><td> 9776.78000</td><td> 4727.5900</td><td> 2344.04000</td><td>  904.46400</td><td> 1809.77000</td><td>  816.25200</td><td> 3920.09000</td><td> 3482.83000</td></tr>\n",
       "\t<tr><th scope=row>AFFX-TrpnX-3_at</th><td>    9.149380</td><td>1.878478e+00</td><td>    8.501900</td><td>    6.254964</td><td>   29.297655</td><td>    3.096380</td><td>   10.467917</td><td>    8.064908</td><td>8.410315e+00</td><td>    3.726756</td><td>⋯</td><td>    7.52713</td><td>2.75023e+00</td><td>   36.43110</td><td>   67.1059</td><td>    5.71708</td><td>    4.60019</td><td>    5.04322</td><td>   14.44700</td><td>   42.46360</td><td>    7.63197</td></tr>\n",
       "\t<tr><th scope=row>AFFX-TrpnX-5_at</th><td>    5.280712</td><td>3.469311e+00</td><td>   23.347307</td><td>   58.965458</td><td>   28.627400</td><td>    5.922369</td><td>   46.583836</td><td>    7.823233</td><td>1.740191e+01</td><td>    5.499322</td><td>⋯</td><td>   26.46670</td><td>5.88146e+01</td><td>    7.31434</td><td>   79.7225</td><td>   57.59190</td><td>    2.26764</td><td>    6.63889</td><td>    5.15024</td><td>    7.38756</td><td>   66.95930</td></tr>\n",
       "\t<tr><th scope=row>AFFX-TrpnX-M_at</th><td>    7.380331</td><td>3.117868e+00</td><td>   67.153730</td><td>    9.972722</td><td>    2.507613</td><td>    4.711027</td><td>   10.538683</td><td>    1.971074</td><td>1.830465e+01</td><td>    2.633168</td><td>⋯</td><td>   19.27290</td><td>4.38626e+00</td><td>   15.05010</td><td>    8.4198</td><td>    2.24515</td><td>    1.99870</td><td>    1.20378</td><td>    1.31510</td><td>   30.04950</td><td>   52.17980</td></tr>\n",
       "</tbody>\n",
       "</table>\n"
      ],
      "text/latex": [
       "A matrix: 54675 × 161 of type dbl\n",
       "\\begin{tabular}{r|lllllllllllllllllllll}\n",
       "  & GSM119615 & GSM119616 & GSM119617 & GSM119618 & GSM119619 & GSM119620 & GSM119621 & GSM119622 & GSM119623 & GSM119624 & ⋯ & GSM238945 & GSM238946 & GSM238947 & GSM238948 & GSM238949 & GSM238951 & GSM238952 & GSM238953 & GSM238955 & GSM238963\\\\\n",
       "\\hline\n",
       "\t1007\\_s\\_at & 693.973300 & 807.145140 & 1722.625000 & 1668.057500 & 2231.296900 & 990.541000 & 1396.824200 & 1026.056500 & 736.770300 & 938.817100 & ⋯ & 983.13400 & 855.59800 & 2074.23000 & 1385.89000 & 1390.94000 & 904.416000 & 1319.09000 & 783.22700 & 1552.96000 & 2845.45000\\\\\n",
       "\t1053\\_at &   9.755318 &  19.052270 &   13.060389 &   14.652245 &  138.676830 &   7.186742 &   10.170890 &   34.056934 &   7.829473 &  40.235332 & ⋯ &  78.09010 &  57.58390 &    4.94740 &   11.06460 &   78.20780 &  50.573700 &   13.76510 &  56.38920 &    6.97840 &   33.01470\\\\\n",
       "\t117\\_at &  13.346846 &  18.217276 &   97.425470 &   98.197945 &  106.468440 &  98.710520 &  164.326660 &   46.306164 &  35.067910 &  72.864900 & ⋯ &  35.82150 & 106.83800 &   87.61880 &   39.50480 &  117.61000 &  20.618400 &   31.40410 &  41.22170 &   40.48350 &   19.13160\\\\\n",
       "\t121\\_at & 173.092450 & 289.315400 &  537.182800 &  496.346560 &  477.865170 & 355.092000 &  467.567900 &  294.583280 & 224.524060 & 298.284730 & ⋯ & 114.54700 & 174.52800 &  180.72500 &  238.92100 &  221.87300 & 153.431000 &  262.51700 & 136.96800 &  284.89900 &  404.07500\\\\\n",
       "\t1255\\_g\\_at &  52.616950 & 110.375984 &   99.021736 &   17.306772 &  628.816160 & 105.254600 &  142.269180 &  123.016136 & 183.396910 & 180.814250 & ⋯ &  18.83890 &  80.01430 &   69.08840 &    5.82269 &   44.78570 &  11.465000 &   30.39390 &  40.73140 &    4.34157 &   42.26660\\\\\n",
       "\t1294\\_at &  67.753624 &  96.780740 &   76.282050 &  189.819600 &  276.476560 & 130.088290 &  131.513340 &  109.670810 &  63.197280 &  78.263855 & ⋯ & 108.44500 &  43.14920 &  106.48900 &  146.65600 &  176.92700 &  33.563700 &  199.44400 &  34.58730 &  141.75700 &  334.61600\\\\\n",
       "\t1316\\_at & 209.412200 & 470.433070 &  908.266360 & 1029.788500 & 1366.783700 & 624.679260 & 1589.276600 &  858.423000 & 643.095000 & 412.519470 & ⋯ & 635.70400 & 869.73100 & 1201.68000 & 1423.64000 & 1004.63000 & 622.961000 & 1080.42000 & 461.37500 &  834.70200 & 1352.03000\\\\\n",
       "\t1320\\_at &  10.765010 &   3.834024 &    7.970618 &    3.469380 &   11.245625 &  22.197855 &    7.773280 &    7.727498 &   4.196418 &  12.778767 & ⋯ &  25.01560 &   5.78831 &    2.98114 &    4.69030 &   37.30940 &   3.838540 &   13.28010 &   1.52516 &    4.16623 &   21.88330\\\\\n",
       "\t1405\\_i\\_at &  10.559881 &  27.871660 &  121.391370 &   48.153168 &    3.137640 &   8.126172 &   73.906970 &    9.745271 &   6.104734 &  16.480728 & ⋯ &   7.63653 &   5.90447 &   19.35500 &    2.40904 &    7.54855 &   4.756360 &    3.32188 &   3.21515 &   13.73080 &   43.41040\\\\\n",
       "\t1431\\_at &  38.878853 &  73.023575 &   17.437328 &   10.587775 &  147.823200 &  24.068861 &   24.427702 &   58.589240 &  84.349400 &  36.493810 & ⋯ &  54.13290 &  49.85080 &   14.52490 &  104.79500 &   70.76400 &  38.902300 &   52.81760 &  31.23220 &   11.59510 &   28.18700\\\\\n",
       "\t1438\\_at &   5.484453 &  19.886892 &   27.643036 &   68.110080 &   17.465767 &  21.237518 &   67.104590 &    6.816291 &   7.751206 &  12.703977 & ⋯ &   6.76476 &  39.20890 &   52.38490 &   10.65140 &    4.46224 &   4.909690 &    2.39246 &   6.18627 &   10.53120 &    5.07273\\\\\n",
       "\t1487\\_at & 116.533130 & 252.857710 &  444.598450 &  291.672420 &  293.538000 & 405.519500 &  204.258290 &  293.013980 & 209.791500 & 305.473200 & ⋯ & 162.33300 & 190.32700 &  266.90000 &  222.63500 &  192.76400 & 213.538000 &  212.72700 & 220.38500 &  324.72300 &  460.84900\\\\\n",
       "\t1494\\_f\\_at &  73.790130 &  79.242720 &  164.864640 &  149.778210 &  219.186230 & 138.255900 &  165.007420 &   88.898766 & 111.283080 & 114.842260 & ⋯ &  39.29120 & 114.36800 &  106.91200 &   83.96010 &   92.00250 &  37.097200 &   51.08940 &  20.97060 &  110.55200 &  131.24500\\\\\n",
       "\t1552256\\_a\\_at & 225.461470 & 473.120850 &  529.132450 &  425.397670 &  729.881800 & 393.883000 &  486.921450 &  456.503660 & 528.402340 & 360.546300 & ⋯ & 291.11800 &  57.80250 &  257.35300 &  246.84500 &  325.11600 & 259.267000 &  254.73300 & 207.98400 &  205.26900 & 1034.69000\\\\\n",
       "\t1552257\\_a\\_at & 297.571700 & 370.229280 &  454.599180 &  374.796540 & 1024.286000 & 358.414300 &  705.964360 &  359.039430 & 420.157680 & 403.711270 & ⋯ & 483.81500 & 687.29200 &  474.70000 &  479.79300 &  756.68500 & 265.102000 &  420.40600 & 351.53300 &  396.49000 &  756.06100\\\\\n",
       "\t1552258\\_at &  42.922966 &  30.042309 &   70.641660 &  100.327500 &   46.742317 &  68.277510 &  136.465850 &    4.789156 &  61.653824 &  25.775404 & ⋯ &   6.30482 &  70.78080 &   16.55980 &   91.97670 &   71.56100 &  11.451100 &   39.20660 &  27.03200 &   48.05600 &   94.20330\\\\\n",
       "\t1552261\\_at &  19.755875 &   3.287976 &   71.643800 &   54.237900 &   23.917818 &  52.335900 &   90.524430 &   53.892185 &  29.267605 &  67.561150 & ⋯ &  26.85480 & 136.42000 &   80.02930 &   12.14200 &   50.06720 &  39.351300 &   12.84980 &  10.35760 &   11.43900 &   59.19930\\\\\n",
       "\t1552263\\_at &   7.579159 &  50.133670 &   73.103640 &  111.523926 &  135.911350 & 122.731064 &   31.780657 &   32.656002 &  66.755110 &  37.518166 & ⋯ &  19.23590 & 169.43800 &   23.21900 &    1.78109 &   34.09140 &   2.852100 &   11.60730 &  26.07860 &   40.63420 &    4.97204\\\\\n",
       "\t1552264\\_a\\_at &  51.649340 &  65.331116 &  117.597790 &   72.039580 &  151.724660 &  81.840810 &   76.355990 &   33.175117 &  36.340103 &   7.425225 & ⋯ &   4.66061 &   6.24086 &   32.68860 &    4.45250 &   46.55490 &   3.637810 &   49.04940 &  19.39370 &    5.87274 &   67.65290\\\\\n",
       "\t1552266\\_at &  56.689617 &  36.677937 &   34.379310 &   97.554280 &   60.972233 & 112.636760 &   69.396996 &  104.845420 &  10.159379 &  64.256610 & ⋯ &  76.79320 &  20.84770 &   83.74590 &  150.75400 &   43.29430 &  30.584100 &   37.99000 &  49.09710 &   87.65800 &    3.49814\\\\\n",
       "\t1552269\\_at &   2.655222 &   3.063504 &   10.420430 &    6.711966 &    7.482860 &   2.431454 &    9.643306 &    1.810808 &  30.152750 &   4.793575 & ⋯ &  23.36470 &  36.41590 &   18.97150 &    3.98392 &    2.55239 &   2.640110 &   15.46510 &   8.83116 &   31.22010 &   51.81450\\\\\n",
       "\t1552271\\_at &  14.917539 &   7.018197 &   51.647556 &   42.625465 &   68.929690 &  17.669218 &   32.969585 &   10.978026 &   8.321659 &  25.219751 & ⋯ &   9.22646 &  34.92220 &    8.42527 &    7.48148 &   14.93800 &   5.005330 &    8.22339 &   4.05201 &   12.83150 &   46.57270\\\\\n",
       "\t1552272\\_a\\_at &  54.411297 &  89.180200 &  208.393660 &  250.295460 &   34.422283 & 113.068954 &  176.360060 &   83.938520 &  78.439640 &  74.286446 & ⋯ &  25.82650 &  75.16380 &   10.12600 &    9.69401 &   52.90680 &  39.350000 &   75.70940 &  20.31020 &  107.41700 &   58.09420\\\\\n",
       "\t1552274\\_at & 201.603970 & 349.416140 &  659.617250 &  447.052580 &  868.336060 & 519.647950 &  654.066960 &  269.042630 & 470.706400 & 228.361130 & ⋯ & 183.26600 &  86.24970 &   23.93100 &  199.22400 &  180.24400 & 222.813000 &  255.68800 & 163.64500 &  330.12400 &  442.43100\\\\\n",
       "\t1552275\\_s\\_at & 158.081250 & 204.652220 &  324.835200 &  281.171360 &  688.879460 & 175.084610 &  512.205500 &  182.223340 & 261.964750 & 214.837770 & ⋯ & 339.20500 & 227.68000 &  165.44900 &  351.41700 &  181.44300 & 352.710000 &  330.86800 & 222.07400 &  491.47500 &  498.62000\\\\\n",
       "\t1552276\\_a\\_at &  10.250906 &  29.194675 &  114.587550 &   32.327640 &   39.920013 &   5.173283 &   26.920113 &   35.646580 &  28.430414 &  98.876650 & ⋯ &  50.69500 &   7.47189 &   62.85090 &   14.10950 &  102.62900 &  11.376100 &   31.89740 &   3.82322 &   55.01950 &    9.48109\\\\\n",
       "\t1552277\\_a\\_at &  85.110560 & 165.024860 &  269.468320 &  224.952040 &  352.500980 & 142.081000 &  127.192320 &  130.335160 & 253.553680 & 172.859160 & ⋯ &  99.87310 &  27.14580 &   76.28030 &  204.53000 &    2.99062 &  97.672800 &   69.59400 & 101.35400 &   67.90700 &  142.64600\\\\\n",
       "\t1552278\\_a\\_at &  48.826140 &  65.580185 &  207.674360 &   38.072820 &  197.202990 & 137.885300 &  129.675780 &   50.091618 &  12.817143 &  75.175630 & ⋯ &  33.93570 &   7.85649 &   65.24050 &  151.05300 &  138.46600 &  58.299200 &   48.84940 &  31.38310 &   25.52730 &   69.67960\\\\\n",
       "\t1552279\\_a\\_at &  87.422890 & 137.388730 &  159.269260 &  203.500430 &  167.328460 & 148.589540 &  229.966320 &   92.622660 & 133.824160 & 102.450226 & ⋯ &  81.58880 & 178.87700 &   54.42340 &  242.62500 &  153.45900 &  71.029000 &  116.18500 &  70.11850 &  276.84700 &  110.46100\\\\\n",
       "\t1552280\\_at &  12.392481 &   5.797967 &   93.024240 &   24.288298 &    9.229171 &  15.815872 &   81.703470 &    6.664076 &   5.652517 &  38.113144 & ⋯ &  12.61220 &  54.52330 &   40.06170 &   36.96980 &   16.61230 &   0.902492 &   30.73150 &   3.26545 &    5.90937 &   62.16600\\\\\n",
       "\t⋮ & ⋮ & ⋮ & ⋮ & ⋮ & ⋮ & ⋮ & ⋮ & ⋮ & ⋮ & ⋮ & ⋱ & ⋮ & ⋮ & ⋮ & ⋮ & ⋮ & ⋮ & ⋮ & ⋮ & ⋮ & ⋮\\\\\n",
       "\tAFFX-PheX-3\\_at &   799.140200 & 1.469975e+01 &    70.623030 &    69.423090 &  5715.165000 &    20.448574 &    34.714420 &    14.941455 & 1.731761e+01 &    25.354300 & ⋯ &  2619.69000 & 1.29648e+04 & 11182.40000 &  7109.1300 &  4760.30000 &  1128.89000 &  3290.11000 &  1581.88000 & 10412.90000 &  6719.87000\\\\\n",
       "\tAFFX-PheX-5\\_at &    80.598760 & 7.664094e+00 &    25.939754 &     3.515020 &   902.239140 &    16.740881 &     6.046320 &     4.059562 & 1.750180e+00 &    22.407670 & ⋯ &   309.64100 & 1.48410e+03 &  1701.47000 &   698.6710 &   612.43700 &   190.77800 &   433.50400 &   241.10400 &   802.33900 &   866.53100\\\\\n",
       "\tAFFX-PheX-M\\_at &   308.765660 & 2.282215e+00 &     3.082529 &     9.552471 &  3367.465000 &     4.207030 &    14.007323 &     4.076465 & 1.783865e+01 &    11.197813 & ⋯ &  1310.69000 & 5.98842e+03 &  6717.66000 &  3525.2000 &  2304.20000 &   612.28300 &  1737.32000 &   729.73400 &  4383.72000 &  3346.74000\\\\\n",
       "\tAFFX-r2-Bs-dap-3\\_at &  6194.911600 & 6.172896e-01 &    69.205880 &     5.079363 & 34836.890000 &     3.640544 &    36.439090 &     2.756255 & 1.938309e+00 &     3.072119 & ⋯ & 16931.80000 & 5.56084e+04 & 44797.90000 & 37726.9000 & 27690.80000 & 10838.60000 & 25131.20000 & 12020.70000 & 46823.40000 & 49708.60000\\\\\n",
       "\tAFFX-r2-Bs-dap-5\\_at &   108.541794 & 4.258958e+00 &     5.781343 &     4.590869 &  2026.488000 &     2.753163 &    16.345154 &     1.864361 & 1.388282e+00 &     3.047672 & ⋯ &   904.16700 & 2.67846e+03 &  2859.46000 &  2070.1900 &  1099.15000 &   656.22800 &  1377.26000 &   545.27400 &  1944.16000 &  2556.22000\\\\\n",
       "\tAFFX-r2-Bs-dap-M\\_at &  2028.572800 & 1.365906e+00 &    57.731537 &     2.282401 & 16761.877000 &    13.908889 &    47.549267 &    12.510062 & 1.038438e+01 &    19.629787 & ⋯ &  5517.57000 & 2.36905e+04 & 24282.10000 & 15118.0000 &  9905.64000 &  5784.66000 & 19191.60000 &  5330.69000 & 15124.70000 & 22625.10000\\\\\n",
       "\tAFFX-r2-Bs-lys-3\\_at &   828.969200 & 1.762120e+01 &    48.762936 &     2.876273 &  3448.157200 &    34.023273 &    52.285297 &     9.703902 & 1.730966e+01 &    12.003414 & ⋯ &  1567.97000 & 6.07848e+03 &  4860.83000 &  3204.0700 &  2829.26000 &  1041.05000 &  2654.41000 &   962.21700 &  3378.87000 &  5338.17000\\\\\n",
       "\tAFFX-r2-Bs-lys-5\\_at &    49.812200 & 2.127623e+00 &    12.538875 &    19.739923 &   485.028780 &     1.853139 &    57.903780 &     2.442586 & 9.221884e-01 &     4.704135 & ⋯ &   125.17300 & 5.79382e+02 &   366.04400 &   181.7540 &   206.13100 &    75.55660 &   150.32300 &    58.72500 &   285.82300 &   322.45000\\\\\n",
       "\tAFFX-r2-Bs-lys-M\\_at &   465.345430 & 1.209513e+00 &    38.581352 &    22.794958 &  1995.121800 &    11.364210 &     6.420361 &     1.873263 & 2.177053e+00 &    27.830956 & ⋯ &   990.17900 & 4.24233e+03 &  3252.09000 &  1741.9700 &  1935.30000 &   552.77600 &  1377.62000 &   597.92600 &  1962.89000 &  3931.75000\\\\\n",
       "\tAFFX-r2-Bs-phe-3\\_at &  1118.705400 & 8.375128e+00 &    75.063850 &    52.136030 &  9783.694000 &    52.627030 &   145.755660 &    51.862095 & 2.733352e+00 &    52.704407 & ⋯ &  3933.82000 & 1.55347e+04 & 14371.20000 &  7685.1900 &  4187.98000 &  1835.00000 &  4690.36000 &  2094.69000 & 10307.90000 &  8774.90000\\\\\n",
       "\tAFFX-r2-Bs-phe-5\\_at &   127.210760 & 8.547265e-01 &    71.461910 &    42.519880 &  1647.213600 &     8.966128 &    48.789143 &     3.932580 & 2.190636e+01 &     2.320556 & ⋯ &   625.08900 & 2.20857e+03 &  2478.26000 &  1362.6700 &   845.38000 &   318.79400 &   661.54600 &   335.38000 &  1207.49000 &  1062.40000\\\\\n",
       "\tAFFX-r2-Bs-phe-M\\_at &   346.272900 & 2.710897e+01 &     8.914477 &     5.738951 &  3866.058800 &     7.662843 &    67.212920 &     6.291887 & 2.815225e+01 &    25.077130 & ⋯ &  1553.12000 & 6.18349e+03 &  7384.09000 &  3613.0700 &  2473.67000 &   662.99300 &  1976.41000 &   801.35900 &  5241.66000 &  3021.26000\\\\\n",
       "\tAFFX-r2-Bs-thr-3\\_s\\_at &  2271.309600 & 7.673651e+00 &    45.994278 &    11.571333 & 17090.176000 &     3.842200 &    14.578441 &    21.834393 & 2.730827e+00 &    21.490696 & ⋯ &  9582.13000 & 3.56540e+04 & 34361.30000 & 21750.5000 & 13416.10000 &  4991.69000 & 11772.10000 &  5412.39000 & 26339.50000 & 22801.20000\\\\\n",
       "\tAFFX-r2-Bs-thr-5\\_s\\_at &    93.839540 & 2.302768e+01 &    81.607770 &     3.031969 &   838.317200 &    16.303972 &    32.533836 &     3.001868 & 2.564222e+01 &    52.853600 & ⋯ &   580.13100 & 1.85174e+03 &  2169.26000 &  1257.6100 &   641.11600 &   248.54000 &   379.96200 &   205.95000 &  1145.51000 &   892.39800\\\\\n",
       "\tAFFX-r2-Bs-thr-M\\_s\\_at &   419.656070 & 1.532272e+00 &    18.921083 &   108.536330 &  4391.477000 &    55.864677 &    89.895150 &    31.540342 & 6.353110e+00 &    12.001079 & ⋯ &  2346.43000 & 1.04974e+04 & 15019.10000 &  8070.6200 &  3738.26000 &  1147.35000 &  2349.29000 &  1162.14000 &  5503.19000 &  5747.19000\\\\\n",
       "\tAFFX-r2-Ec-bioB-3\\_at &   375.285700 & 3.077727e+02 &   566.191000 &   888.445900 &  1379.972900 &   594.208500 &  1228.946400 &   459.389800 & 4.792100e+02 &   361.182460 & ⋯ &  1393.37000 & 4.35122e+03 &  2698.16000 &  2885.5500 &  2964.06000 &   763.40500 &  1814.79000 &   789.53700 &  3831.41000 &  3558.19000\\\\\n",
       "\tAFFX-r2-Ec-bioB-5\\_at &   550.115700 & 2.396358e+02 &   558.534360 &   647.922000 &  1590.832000 &   609.481000 &  1187.192700 &   610.141200 & 4.787850e+02 &   452.436680 & ⋯ &  1636.22000 & 3.96481e+03 &  2931.43000 &  2960.0900 &  3153.59000 &   970.28600 &  2280.25000 &   919.08800 &  3470.63000 &  3574.09000\\\\\n",
       "\tAFFX-r2-Ec-bioB-M\\_at &   403.328280 & 2.368778e+02 &   359.537500 &   474.259060 &  1720.710700 &   448.954250 &   994.898860 &   525.579100 & 3.840139e+02 &   376.334350 & ⋯ &  1536.37000 & 4.38735e+03 &  2924.86000 &  3106.1500 &  2483.65000 &   910.31400 &  2052.38000 &   882.11100 &  3531.10000 &  2844.80000\\\\\n",
       "\tAFFX-r2-Ec-bioC-3\\_at &  1030.648000 & 9.650499e+02 &  1878.997300 &  2000.841300 &  3835.657200 &  1619.824000 &  4168.624000 &  2143.165300 & 1.720703e+03 &  1617.556500 & ⋯ &  3497.97000 & 7.76548e+03 &  6726.48000 &  6632.6300 &  5431.98000 &  2523.08000 &  4997.28000 &  2282.91000 &  6800.16000 &  9482.37000\\\\\n",
       "\tAFFX-r2-Ec-bioC-5\\_at &   999.028260 & 8.360003e+02 &  1702.250100 &  2060.180400 &  3302.973000 &  1814.482500 &  3687.964600 &  2013.464600 & 1.403077e+03 &  1507.807300 & ⋯ &  3255.67000 & 8.50465e+03 &  6033.22000 &  5767.6800 &  5739.64000 &  2096.67000 &  4450.59000 &  1909.69000 &  6963.57000 &  8753.13000\\\\\n",
       "\tAFFX-r2-Ec-bioD-3\\_at &  4114.250000 & 5.400458e+03 & 11152.886000 & 14431.408000 & 15043.503000 & 11302.579000 & 25951.880000 & 12030.639000 & 8.546722e+03 &  8597.459000 & ⋯ & 16330.50000 & 3.92170e+04 & 29413.40000 & 29373.9000 & 28841.80000 & 10425.10000 & 22824.10000 & 10408.90000 & 36402.20000 & 42444.30000\\\\\n",
       "\tAFFX-r2-Ec-bioD-5\\_at &  4114.576700 & 4.465091e+03 &  8695.538000 & 10365.053000 & 14511.482000 &  9113.888000 & 16733.525000 &  9510.949000 & 7.087432e+03 &  7381.880400 & ⋯ & 14709.20000 & 3.74770e+04 & 27954.00000 & 27955.1000 & 28205.70000 &  8889.75000 & 18763.30000 &  8662.22000 & 32577.60000 & 34364.20000\\\\\n",
       "\tAFFX-r2-P1-cre-3\\_at & 13951.371000 & 1.985415e+04 & 47580.984000 & 45601.290000 & 50365.547000 & 36254.090000 & 70227.280000 & 36646.867000 & 3.138912e+04 & 27935.940000 & ⋯ & 47087.50000 & 1.12111e+05 & 84523.20000 & 84719.6000 & 87100.40000 & 28356.90000 & 50764.20000 & 27686.60000 & 95516.80000 & 91821.00000\\\\\n",
       "\tAFFX-r2-P1-cre-5\\_at &  9590.616000 & 1.449660e+04 & 33593.055000 & 33553.914000 & 37182.836000 & 28733.100000 & 56858.520000 & 27644.191000 & 2.335666e+04 & 21766.600000 & ⋯ & 36038.30000 & 8.97401e+04 & 68196.20000 & 67746.1000 & 70949.40000 & 22105.40000 & 44972.40000 & 21462.60000 & 75816.80000 & 72011.20000\\\\\n",
       "\tAFFX-ThrX-3\\_at &  1821.608200 & 2.171030e+01 &    36.736942 &     5.882349 & 13262.363000 &    14.434994 &    10.715485 &     5.828534 & 1.072256e+01 &     8.189967 & ⋯ &  6730.06000 & 2.80576e+04 & 28278.70000 & 17816.9000 & 10702.70000 &  3480.11000 &  8376.44000 &  4099.04000 & 18781.20000 & 18406.90000\\\\\n",
       "\tAFFX-ThrX-5\\_at &    46.302326 & 5.705804e+00 &    30.422820 &     6.936473 &   448.497340 &    28.413843 &    11.918980 &     3.923356 & 1.425013e+01 &     6.387569 & ⋯ &   351.38400 & 1.14810e+03 &  1139.84000 &   689.1840 &   346.30700 &   140.44300 &   237.00200 &   136.47500 &   744.86000 &   508.20300\\\\\n",
       "\tAFFX-ThrX-M\\_at &   279.892550 & 3.477558e+00 &     6.315493 &    17.975550 &  3133.012200 &     7.277436 &    69.250970 &    27.650482 & 1.874873e+01 &     2.100605 & ⋯ &  1642.06000 & 6.85323e+03 &  9776.78000 &  4727.5900 &  2344.04000 &   904.46400 &  1809.77000 &   816.25200 &  3920.09000 &  3482.83000\\\\\n",
       "\tAFFX-TrpnX-3\\_at &     9.149380 & 1.878478e+00 &     8.501900 &     6.254964 &    29.297655 &     3.096380 &    10.467917 &     8.064908 & 8.410315e+00 &     3.726756 & ⋯ &     7.52713 & 2.75023e+00 &    36.43110 &    67.1059 &     5.71708 &     4.60019 &     5.04322 &    14.44700 &    42.46360 &     7.63197\\\\\n",
       "\tAFFX-TrpnX-5\\_at &     5.280712 & 3.469311e+00 &    23.347307 &    58.965458 &    28.627400 &     5.922369 &    46.583836 &     7.823233 & 1.740191e+01 &     5.499322 & ⋯ &    26.46670 & 5.88146e+01 &     7.31434 &    79.7225 &    57.59190 &     2.26764 &     6.63889 &     5.15024 &     7.38756 &    66.95930\\\\\n",
       "\tAFFX-TrpnX-M\\_at &     7.380331 & 3.117868e+00 &    67.153730 &     9.972722 &     2.507613 &     4.711027 &    10.538683 &     1.971074 & 1.830465e+01 &     2.633168 & ⋯ &    19.27290 & 4.38626e+00 &    15.05010 &     8.4198 &     2.24515 &     1.99870 &     1.20378 &     1.31510 &    30.04950 &    52.17980\\\\\n",
       "\\end{tabular}\n"
      ],
      "text/markdown": [
       "\n",
       "A matrix: 54675 × 161 of type dbl\n",
       "\n",
       "| <!--/--> | GSM119615 | GSM119616 | GSM119617 | GSM119618 | GSM119619 | GSM119620 | GSM119621 | GSM119622 | GSM119623 | GSM119624 | ⋯ | GSM238945 | GSM238946 | GSM238947 | GSM238948 | GSM238949 | GSM238951 | GSM238952 | GSM238953 | GSM238955 | GSM238963 |\n",
       "|---|---|---|---|---|---|---|---|---|---|---|---|---|---|---|---|---|---|---|---|---|---|\n",
       "| 1007_s_at | 693.973300 | 807.145140 | 1722.625000 | 1668.057500 | 2231.296900 | 990.541000 | 1396.824200 | 1026.056500 | 736.770300 | 938.817100 | ⋯ | 983.13400 | 855.59800 | 2074.23000 | 1385.89000 | 1390.94000 | 904.416000 | 1319.09000 | 783.22700 | 1552.96000 | 2845.45000 |\n",
       "| 1053_at |   9.755318 |  19.052270 |   13.060389 |   14.652245 |  138.676830 |   7.186742 |   10.170890 |   34.056934 |   7.829473 |  40.235332 | ⋯ |  78.09010 |  57.58390 |    4.94740 |   11.06460 |   78.20780 |  50.573700 |   13.76510 |  56.38920 |    6.97840 |   33.01470 |\n",
       "| 117_at |  13.346846 |  18.217276 |   97.425470 |   98.197945 |  106.468440 |  98.710520 |  164.326660 |   46.306164 |  35.067910 |  72.864900 | ⋯ |  35.82150 | 106.83800 |   87.61880 |   39.50480 |  117.61000 |  20.618400 |   31.40410 |  41.22170 |   40.48350 |   19.13160 |\n",
       "| 121_at | 173.092450 | 289.315400 |  537.182800 |  496.346560 |  477.865170 | 355.092000 |  467.567900 |  294.583280 | 224.524060 | 298.284730 | ⋯ | 114.54700 | 174.52800 |  180.72500 |  238.92100 |  221.87300 | 153.431000 |  262.51700 | 136.96800 |  284.89900 |  404.07500 |\n",
       "| 1255_g_at |  52.616950 | 110.375984 |   99.021736 |   17.306772 |  628.816160 | 105.254600 |  142.269180 |  123.016136 | 183.396910 | 180.814250 | ⋯ |  18.83890 |  80.01430 |   69.08840 |    5.82269 |   44.78570 |  11.465000 |   30.39390 |  40.73140 |    4.34157 |   42.26660 |\n",
       "| 1294_at |  67.753624 |  96.780740 |   76.282050 |  189.819600 |  276.476560 | 130.088290 |  131.513340 |  109.670810 |  63.197280 |  78.263855 | ⋯ | 108.44500 |  43.14920 |  106.48900 |  146.65600 |  176.92700 |  33.563700 |  199.44400 |  34.58730 |  141.75700 |  334.61600 |\n",
       "| 1316_at | 209.412200 | 470.433070 |  908.266360 | 1029.788500 | 1366.783700 | 624.679260 | 1589.276600 |  858.423000 | 643.095000 | 412.519470 | ⋯ | 635.70400 | 869.73100 | 1201.68000 | 1423.64000 | 1004.63000 | 622.961000 | 1080.42000 | 461.37500 |  834.70200 | 1352.03000 |\n",
       "| 1320_at |  10.765010 |   3.834024 |    7.970618 |    3.469380 |   11.245625 |  22.197855 |    7.773280 |    7.727498 |   4.196418 |  12.778767 | ⋯ |  25.01560 |   5.78831 |    2.98114 |    4.69030 |   37.30940 |   3.838540 |   13.28010 |   1.52516 |    4.16623 |   21.88330 |\n",
       "| 1405_i_at |  10.559881 |  27.871660 |  121.391370 |   48.153168 |    3.137640 |   8.126172 |   73.906970 |    9.745271 |   6.104734 |  16.480728 | ⋯ |   7.63653 |   5.90447 |   19.35500 |    2.40904 |    7.54855 |   4.756360 |    3.32188 |   3.21515 |   13.73080 |   43.41040 |\n",
       "| 1431_at |  38.878853 |  73.023575 |   17.437328 |   10.587775 |  147.823200 |  24.068861 |   24.427702 |   58.589240 |  84.349400 |  36.493810 | ⋯ |  54.13290 |  49.85080 |   14.52490 |  104.79500 |   70.76400 |  38.902300 |   52.81760 |  31.23220 |   11.59510 |   28.18700 |\n",
       "| 1438_at |   5.484453 |  19.886892 |   27.643036 |   68.110080 |   17.465767 |  21.237518 |   67.104590 |    6.816291 |   7.751206 |  12.703977 | ⋯ |   6.76476 |  39.20890 |   52.38490 |   10.65140 |    4.46224 |   4.909690 |    2.39246 |   6.18627 |   10.53120 |    5.07273 |\n",
       "| 1487_at | 116.533130 | 252.857710 |  444.598450 |  291.672420 |  293.538000 | 405.519500 |  204.258290 |  293.013980 | 209.791500 | 305.473200 | ⋯ | 162.33300 | 190.32700 |  266.90000 |  222.63500 |  192.76400 | 213.538000 |  212.72700 | 220.38500 |  324.72300 |  460.84900 |\n",
       "| 1494_f_at |  73.790130 |  79.242720 |  164.864640 |  149.778210 |  219.186230 | 138.255900 |  165.007420 |   88.898766 | 111.283080 | 114.842260 | ⋯ |  39.29120 | 114.36800 |  106.91200 |   83.96010 |   92.00250 |  37.097200 |   51.08940 |  20.97060 |  110.55200 |  131.24500 |\n",
       "| 1552256_a_at | 225.461470 | 473.120850 |  529.132450 |  425.397670 |  729.881800 | 393.883000 |  486.921450 |  456.503660 | 528.402340 | 360.546300 | ⋯ | 291.11800 |  57.80250 |  257.35300 |  246.84500 |  325.11600 | 259.267000 |  254.73300 | 207.98400 |  205.26900 | 1034.69000 |\n",
       "| 1552257_a_at | 297.571700 | 370.229280 |  454.599180 |  374.796540 | 1024.286000 | 358.414300 |  705.964360 |  359.039430 | 420.157680 | 403.711270 | ⋯ | 483.81500 | 687.29200 |  474.70000 |  479.79300 |  756.68500 | 265.102000 |  420.40600 | 351.53300 |  396.49000 |  756.06100 |\n",
       "| 1552258_at |  42.922966 |  30.042309 |   70.641660 |  100.327500 |   46.742317 |  68.277510 |  136.465850 |    4.789156 |  61.653824 |  25.775404 | ⋯ |   6.30482 |  70.78080 |   16.55980 |   91.97670 |   71.56100 |  11.451100 |   39.20660 |  27.03200 |   48.05600 |   94.20330 |\n",
       "| 1552261_at |  19.755875 |   3.287976 |   71.643800 |   54.237900 |   23.917818 |  52.335900 |   90.524430 |   53.892185 |  29.267605 |  67.561150 | ⋯ |  26.85480 | 136.42000 |   80.02930 |   12.14200 |   50.06720 |  39.351300 |   12.84980 |  10.35760 |   11.43900 |   59.19930 |\n",
       "| 1552263_at |   7.579159 |  50.133670 |   73.103640 |  111.523926 |  135.911350 | 122.731064 |   31.780657 |   32.656002 |  66.755110 |  37.518166 | ⋯ |  19.23590 | 169.43800 |   23.21900 |    1.78109 |   34.09140 |   2.852100 |   11.60730 |  26.07860 |   40.63420 |    4.97204 |\n",
       "| 1552264_a_at |  51.649340 |  65.331116 |  117.597790 |   72.039580 |  151.724660 |  81.840810 |   76.355990 |   33.175117 |  36.340103 |   7.425225 | ⋯ |   4.66061 |   6.24086 |   32.68860 |    4.45250 |   46.55490 |   3.637810 |   49.04940 |  19.39370 |    5.87274 |   67.65290 |\n",
       "| 1552266_at |  56.689617 |  36.677937 |   34.379310 |   97.554280 |   60.972233 | 112.636760 |   69.396996 |  104.845420 |  10.159379 |  64.256610 | ⋯ |  76.79320 |  20.84770 |   83.74590 |  150.75400 |   43.29430 |  30.584100 |   37.99000 |  49.09710 |   87.65800 |    3.49814 |\n",
       "| 1552269_at |   2.655222 |   3.063504 |   10.420430 |    6.711966 |    7.482860 |   2.431454 |    9.643306 |    1.810808 |  30.152750 |   4.793575 | ⋯ |  23.36470 |  36.41590 |   18.97150 |    3.98392 |    2.55239 |   2.640110 |   15.46510 |   8.83116 |   31.22010 |   51.81450 |\n",
       "| 1552271_at |  14.917539 |   7.018197 |   51.647556 |   42.625465 |   68.929690 |  17.669218 |   32.969585 |   10.978026 |   8.321659 |  25.219751 | ⋯ |   9.22646 |  34.92220 |    8.42527 |    7.48148 |   14.93800 |   5.005330 |    8.22339 |   4.05201 |   12.83150 |   46.57270 |\n",
       "| 1552272_a_at |  54.411297 |  89.180200 |  208.393660 |  250.295460 |   34.422283 | 113.068954 |  176.360060 |   83.938520 |  78.439640 |  74.286446 | ⋯ |  25.82650 |  75.16380 |   10.12600 |    9.69401 |   52.90680 |  39.350000 |   75.70940 |  20.31020 |  107.41700 |   58.09420 |\n",
       "| 1552274_at | 201.603970 | 349.416140 |  659.617250 |  447.052580 |  868.336060 | 519.647950 |  654.066960 |  269.042630 | 470.706400 | 228.361130 | ⋯ | 183.26600 |  86.24970 |   23.93100 |  199.22400 |  180.24400 | 222.813000 |  255.68800 | 163.64500 |  330.12400 |  442.43100 |\n",
       "| 1552275_s_at | 158.081250 | 204.652220 |  324.835200 |  281.171360 |  688.879460 | 175.084610 |  512.205500 |  182.223340 | 261.964750 | 214.837770 | ⋯ | 339.20500 | 227.68000 |  165.44900 |  351.41700 |  181.44300 | 352.710000 |  330.86800 | 222.07400 |  491.47500 |  498.62000 |\n",
       "| 1552276_a_at |  10.250906 |  29.194675 |  114.587550 |   32.327640 |   39.920013 |   5.173283 |   26.920113 |   35.646580 |  28.430414 |  98.876650 | ⋯ |  50.69500 |   7.47189 |   62.85090 |   14.10950 |  102.62900 |  11.376100 |   31.89740 |   3.82322 |   55.01950 |    9.48109 |\n",
       "| 1552277_a_at |  85.110560 | 165.024860 |  269.468320 |  224.952040 |  352.500980 | 142.081000 |  127.192320 |  130.335160 | 253.553680 | 172.859160 | ⋯ |  99.87310 |  27.14580 |   76.28030 |  204.53000 |    2.99062 |  97.672800 |   69.59400 | 101.35400 |   67.90700 |  142.64600 |\n",
       "| 1552278_a_at |  48.826140 |  65.580185 |  207.674360 |   38.072820 |  197.202990 | 137.885300 |  129.675780 |   50.091618 |  12.817143 |  75.175630 | ⋯ |  33.93570 |   7.85649 |   65.24050 |  151.05300 |  138.46600 |  58.299200 |   48.84940 |  31.38310 |   25.52730 |   69.67960 |\n",
       "| 1552279_a_at |  87.422890 | 137.388730 |  159.269260 |  203.500430 |  167.328460 | 148.589540 |  229.966320 |   92.622660 | 133.824160 | 102.450226 | ⋯ |  81.58880 | 178.87700 |   54.42340 |  242.62500 |  153.45900 |  71.029000 |  116.18500 |  70.11850 |  276.84700 |  110.46100 |\n",
       "| 1552280_at |  12.392481 |   5.797967 |   93.024240 |   24.288298 |    9.229171 |  15.815872 |   81.703470 |    6.664076 |   5.652517 |  38.113144 | ⋯ |  12.61220 |  54.52330 |   40.06170 |   36.96980 |   16.61230 |   0.902492 |   30.73150 |   3.26545 |    5.90937 |   62.16600 |\n",
       "| ⋮ | ⋮ | ⋮ | ⋮ | ⋮ | ⋮ | ⋮ | ⋮ | ⋮ | ⋮ | ⋮ | ⋱ | ⋮ | ⋮ | ⋮ | ⋮ | ⋮ | ⋮ | ⋮ | ⋮ | ⋮ | ⋮ |\n",
       "| AFFX-PheX-3_at |   799.140200 | 1.469975e+01 |    70.623030 |    69.423090 |  5715.165000 |    20.448574 |    34.714420 |    14.941455 | 1.731761e+01 |    25.354300 | ⋯ |  2619.69000 | 1.29648e+04 | 11182.40000 |  7109.1300 |  4760.30000 |  1128.89000 |  3290.11000 |  1581.88000 | 10412.90000 |  6719.87000 |\n",
       "| AFFX-PheX-5_at |    80.598760 | 7.664094e+00 |    25.939754 |     3.515020 |   902.239140 |    16.740881 |     6.046320 |     4.059562 | 1.750180e+00 |    22.407670 | ⋯ |   309.64100 | 1.48410e+03 |  1701.47000 |   698.6710 |   612.43700 |   190.77800 |   433.50400 |   241.10400 |   802.33900 |   866.53100 |\n",
       "| AFFX-PheX-M_at |   308.765660 | 2.282215e+00 |     3.082529 |     9.552471 |  3367.465000 |     4.207030 |    14.007323 |     4.076465 | 1.783865e+01 |    11.197813 | ⋯ |  1310.69000 | 5.98842e+03 |  6717.66000 |  3525.2000 |  2304.20000 |   612.28300 |  1737.32000 |   729.73400 |  4383.72000 |  3346.74000 |\n",
       "| AFFX-r2-Bs-dap-3_at |  6194.911600 | 6.172896e-01 |    69.205880 |     5.079363 | 34836.890000 |     3.640544 |    36.439090 |     2.756255 | 1.938309e+00 |     3.072119 | ⋯ | 16931.80000 | 5.56084e+04 | 44797.90000 | 37726.9000 | 27690.80000 | 10838.60000 | 25131.20000 | 12020.70000 | 46823.40000 | 49708.60000 |\n",
       "| AFFX-r2-Bs-dap-5_at |   108.541794 | 4.258958e+00 |     5.781343 |     4.590869 |  2026.488000 |     2.753163 |    16.345154 |     1.864361 | 1.388282e+00 |     3.047672 | ⋯ |   904.16700 | 2.67846e+03 |  2859.46000 |  2070.1900 |  1099.15000 |   656.22800 |  1377.26000 |   545.27400 |  1944.16000 |  2556.22000 |\n",
       "| AFFX-r2-Bs-dap-M_at |  2028.572800 | 1.365906e+00 |    57.731537 |     2.282401 | 16761.877000 |    13.908889 |    47.549267 |    12.510062 | 1.038438e+01 |    19.629787 | ⋯ |  5517.57000 | 2.36905e+04 | 24282.10000 | 15118.0000 |  9905.64000 |  5784.66000 | 19191.60000 |  5330.69000 | 15124.70000 | 22625.10000 |\n",
       "| AFFX-r2-Bs-lys-3_at |   828.969200 | 1.762120e+01 |    48.762936 |     2.876273 |  3448.157200 |    34.023273 |    52.285297 |     9.703902 | 1.730966e+01 |    12.003414 | ⋯ |  1567.97000 | 6.07848e+03 |  4860.83000 |  3204.0700 |  2829.26000 |  1041.05000 |  2654.41000 |   962.21700 |  3378.87000 |  5338.17000 |\n",
       "| AFFX-r2-Bs-lys-5_at |    49.812200 | 2.127623e+00 |    12.538875 |    19.739923 |   485.028780 |     1.853139 |    57.903780 |     2.442586 | 9.221884e-01 |     4.704135 | ⋯ |   125.17300 | 5.79382e+02 |   366.04400 |   181.7540 |   206.13100 |    75.55660 |   150.32300 |    58.72500 |   285.82300 |   322.45000 |\n",
       "| AFFX-r2-Bs-lys-M_at |   465.345430 | 1.209513e+00 |    38.581352 |    22.794958 |  1995.121800 |    11.364210 |     6.420361 |     1.873263 | 2.177053e+00 |    27.830956 | ⋯ |   990.17900 | 4.24233e+03 |  3252.09000 |  1741.9700 |  1935.30000 |   552.77600 |  1377.62000 |   597.92600 |  1962.89000 |  3931.75000 |\n",
       "| AFFX-r2-Bs-phe-3_at |  1118.705400 | 8.375128e+00 |    75.063850 |    52.136030 |  9783.694000 |    52.627030 |   145.755660 |    51.862095 | 2.733352e+00 |    52.704407 | ⋯ |  3933.82000 | 1.55347e+04 | 14371.20000 |  7685.1900 |  4187.98000 |  1835.00000 |  4690.36000 |  2094.69000 | 10307.90000 |  8774.90000 |\n",
       "| AFFX-r2-Bs-phe-5_at |   127.210760 | 8.547265e-01 |    71.461910 |    42.519880 |  1647.213600 |     8.966128 |    48.789143 |     3.932580 | 2.190636e+01 |     2.320556 | ⋯ |   625.08900 | 2.20857e+03 |  2478.26000 |  1362.6700 |   845.38000 |   318.79400 |   661.54600 |   335.38000 |  1207.49000 |  1062.40000 |\n",
       "| AFFX-r2-Bs-phe-M_at |   346.272900 | 2.710897e+01 |     8.914477 |     5.738951 |  3866.058800 |     7.662843 |    67.212920 |     6.291887 | 2.815225e+01 |    25.077130 | ⋯ |  1553.12000 | 6.18349e+03 |  7384.09000 |  3613.0700 |  2473.67000 |   662.99300 |  1976.41000 |   801.35900 |  5241.66000 |  3021.26000 |\n",
       "| AFFX-r2-Bs-thr-3_s_at |  2271.309600 | 7.673651e+00 |    45.994278 |    11.571333 | 17090.176000 |     3.842200 |    14.578441 |    21.834393 | 2.730827e+00 |    21.490696 | ⋯ |  9582.13000 | 3.56540e+04 | 34361.30000 | 21750.5000 | 13416.10000 |  4991.69000 | 11772.10000 |  5412.39000 | 26339.50000 | 22801.20000 |\n",
       "| AFFX-r2-Bs-thr-5_s_at |    93.839540 | 2.302768e+01 |    81.607770 |     3.031969 |   838.317200 |    16.303972 |    32.533836 |     3.001868 | 2.564222e+01 |    52.853600 | ⋯ |   580.13100 | 1.85174e+03 |  2169.26000 |  1257.6100 |   641.11600 |   248.54000 |   379.96200 |   205.95000 |  1145.51000 |   892.39800 |\n",
       "| AFFX-r2-Bs-thr-M_s_at |   419.656070 | 1.532272e+00 |    18.921083 |   108.536330 |  4391.477000 |    55.864677 |    89.895150 |    31.540342 | 6.353110e+00 |    12.001079 | ⋯ |  2346.43000 | 1.04974e+04 | 15019.10000 |  8070.6200 |  3738.26000 |  1147.35000 |  2349.29000 |  1162.14000 |  5503.19000 |  5747.19000 |\n",
       "| AFFX-r2-Ec-bioB-3_at |   375.285700 | 3.077727e+02 |   566.191000 |   888.445900 |  1379.972900 |   594.208500 |  1228.946400 |   459.389800 | 4.792100e+02 |   361.182460 | ⋯ |  1393.37000 | 4.35122e+03 |  2698.16000 |  2885.5500 |  2964.06000 |   763.40500 |  1814.79000 |   789.53700 |  3831.41000 |  3558.19000 |\n",
       "| AFFX-r2-Ec-bioB-5_at |   550.115700 | 2.396358e+02 |   558.534360 |   647.922000 |  1590.832000 |   609.481000 |  1187.192700 |   610.141200 | 4.787850e+02 |   452.436680 | ⋯ |  1636.22000 | 3.96481e+03 |  2931.43000 |  2960.0900 |  3153.59000 |   970.28600 |  2280.25000 |   919.08800 |  3470.63000 |  3574.09000 |\n",
       "| AFFX-r2-Ec-bioB-M_at |   403.328280 | 2.368778e+02 |   359.537500 |   474.259060 |  1720.710700 |   448.954250 |   994.898860 |   525.579100 | 3.840139e+02 |   376.334350 | ⋯ |  1536.37000 | 4.38735e+03 |  2924.86000 |  3106.1500 |  2483.65000 |   910.31400 |  2052.38000 |   882.11100 |  3531.10000 |  2844.80000 |\n",
       "| AFFX-r2-Ec-bioC-3_at |  1030.648000 | 9.650499e+02 |  1878.997300 |  2000.841300 |  3835.657200 |  1619.824000 |  4168.624000 |  2143.165300 | 1.720703e+03 |  1617.556500 | ⋯ |  3497.97000 | 7.76548e+03 |  6726.48000 |  6632.6300 |  5431.98000 |  2523.08000 |  4997.28000 |  2282.91000 |  6800.16000 |  9482.37000 |\n",
       "| AFFX-r2-Ec-bioC-5_at |   999.028260 | 8.360003e+02 |  1702.250100 |  2060.180400 |  3302.973000 |  1814.482500 |  3687.964600 |  2013.464600 | 1.403077e+03 |  1507.807300 | ⋯ |  3255.67000 | 8.50465e+03 |  6033.22000 |  5767.6800 |  5739.64000 |  2096.67000 |  4450.59000 |  1909.69000 |  6963.57000 |  8753.13000 |\n",
       "| AFFX-r2-Ec-bioD-3_at |  4114.250000 | 5.400458e+03 | 11152.886000 | 14431.408000 | 15043.503000 | 11302.579000 | 25951.880000 | 12030.639000 | 8.546722e+03 |  8597.459000 | ⋯ | 16330.50000 | 3.92170e+04 | 29413.40000 | 29373.9000 | 28841.80000 | 10425.10000 | 22824.10000 | 10408.90000 | 36402.20000 | 42444.30000 |\n",
       "| AFFX-r2-Ec-bioD-5_at |  4114.576700 | 4.465091e+03 |  8695.538000 | 10365.053000 | 14511.482000 |  9113.888000 | 16733.525000 |  9510.949000 | 7.087432e+03 |  7381.880400 | ⋯ | 14709.20000 | 3.74770e+04 | 27954.00000 | 27955.1000 | 28205.70000 |  8889.75000 | 18763.30000 |  8662.22000 | 32577.60000 | 34364.20000 |\n",
       "| AFFX-r2-P1-cre-3_at | 13951.371000 | 1.985415e+04 | 47580.984000 | 45601.290000 | 50365.547000 | 36254.090000 | 70227.280000 | 36646.867000 | 3.138912e+04 | 27935.940000 | ⋯ | 47087.50000 | 1.12111e+05 | 84523.20000 | 84719.6000 | 87100.40000 | 28356.90000 | 50764.20000 | 27686.60000 | 95516.80000 | 91821.00000 |\n",
       "| AFFX-r2-P1-cre-5_at |  9590.616000 | 1.449660e+04 | 33593.055000 | 33553.914000 | 37182.836000 | 28733.100000 | 56858.520000 | 27644.191000 | 2.335666e+04 | 21766.600000 | ⋯ | 36038.30000 | 8.97401e+04 | 68196.20000 | 67746.1000 | 70949.40000 | 22105.40000 | 44972.40000 | 21462.60000 | 75816.80000 | 72011.20000 |\n",
       "| AFFX-ThrX-3_at |  1821.608200 | 2.171030e+01 |    36.736942 |     5.882349 | 13262.363000 |    14.434994 |    10.715485 |     5.828534 | 1.072256e+01 |     8.189967 | ⋯ |  6730.06000 | 2.80576e+04 | 28278.70000 | 17816.9000 | 10702.70000 |  3480.11000 |  8376.44000 |  4099.04000 | 18781.20000 | 18406.90000 |\n",
       "| AFFX-ThrX-5_at |    46.302326 | 5.705804e+00 |    30.422820 |     6.936473 |   448.497340 |    28.413843 |    11.918980 |     3.923356 | 1.425013e+01 |     6.387569 | ⋯ |   351.38400 | 1.14810e+03 |  1139.84000 |   689.1840 |   346.30700 |   140.44300 |   237.00200 |   136.47500 |   744.86000 |   508.20300 |\n",
       "| AFFX-ThrX-M_at |   279.892550 | 3.477558e+00 |     6.315493 |    17.975550 |  3133.012200 |     7.277436 |    69.250970 |    27.650482 | 1.874873e+01 |     2.100605 | ⋯ |  1642.06000 | 6.85323e+03 |  9776.78000 |  4727.5900 |  2344.04000 |   904.46400 |  1809.77000 |   816.25200 |  3920.09000 |  3482.83000 |\n",
       "| AFFX-TrpnX-3_at |     9.149380 | 1.878478e+00 |     8.501900 |     6.254964 |    29.297655 |     3.096380 |    10.467917 |     8.064908 | 8.410315e+00 |     3.726756 | ⋯ |     7.52713 | 2.75023e+00 |    36.43110 |    67.1059 |     5.71708 |     4.60019 |     5.04322 |    14.44700 |    42.46360 |     7.63197 |\n",
       "| AFFX-TrpnX-5_at |     5.280712 | 3.469311e+00 |    23.347307 |    58.965458 |    28.627400 |     5.922369 |    46.583836 |     7.823233 | 1.740191e+01 |     5.499322 | ⋯ |    26.46670 | 5.88146e+01 |     7.31434 |    79.7225 |    57.59190 |     2.26764 |     6.63889 |     5.15024 |     7.38756 |    66.95930 |\n",
       "| AFFX-TrpnX-M_at |     7.380331 | 3.117868e+00 |    67.153730 |     9.972722 |     2.507613 |     4.711027 |    10.538683 |     1.971074 | 1.830465e+01 |     2.633168 | ⋯ |    19.27290 | 4.38626e+00 |    15.05010 |     8.4198 |     2.24515 |     1.99870 |     1.20378 |     1.31510 |    30.04950 |    52.17980 |\n",
       "\n"
      ],
      "text/plain": [
       "                      GSM119615    GSM119616    GSM119617    GSM119618   \n",
       "1007_s_at             693.973300   807.145140   1722.625000  1668.057500 \n",
       "1053_at                 9.755318    19.052270     13.060389    14.652245 \n",
       "117_at                 13.346846    18.217276     97.425470    98.197945 \n",
       "121_at                173.092450   289.315400    537.182800   496.346560 \n",
       "1255_g_at              52.616950   110.375984     99.021736    17.306772 \n",
       "1294_at                67.753624    96.780740     76.282050   189.819600 \n",
       "1316_at               209.412200   470.433070    908.266360  1029.788500 \n",
       "1320_at                10.765010     3.834024      7.970618     3.469380 \n",
       "1405_i_at              10.559881    27.871660    121.391370    48.153168 \n",
       "1431_at                38.878853    73.023575     17.437328    10.587775 \n",
       "1438_at                 5.484453    19.886892     27.643036    68.110080 \n",
       "1487_at               116.533130   252.857710    444.598450   291.672420 \n",
       "1494_f_at              73.790130    79.242720    164.864640   149.778210 \n",
       "1552256_a_at          225.461470   473.120850    529.132450   425.397670 \n",
       "1552257_a_at          297.571700   370.229280    454.599180   374.796540 \n",
       "1552258_at             42.922966    30.042309     70.641660   100.327500 \n",
       "1552261_at             19.755875     3.287976     71.643800    54.237900 \n",
       "1552263_at              7.579159    50.133670     73.103640   111.523926 \n",
       "1552264_a_at           51.649340    65.331116    117.597790    72.039580 \n",
       "1552266_at             56.689617    36.677937     34.379310    97.554280 \n",
       "1552269_at              2.655222     3.063504     10.420430     6.711966 \n",
       "1552271_at             14.917539     7.018197     51.647556    42.625465 \n",
       "1552272_a_at           54.411297    89.180200    208.393660   250.295460 \n",
       "1552274_at            201.603970   349.416140    659.617250   447.052580 \n",
       "1552275_s_at          158.081250   204.652220    324.835200   281.171360 \n",
       "1552276_a_at           10.250906    29.194675    114.587550    32.327640 \n",
       "1552277_a_at           85.110560   165.024860    269.468320   224.952040 \n",
       "1552278_a_at           48.826140    65.580185    207.674360    38.072820 \n",
       "1552279_a_at           87.422890   137.388730    159.269260   203.500430 \n",
       "1552280_at             12.392481     5.797967     93.024240    24.288298 \n",
       "⋮                     ⋮            ⋮            ⋮            ⋮           \n",
       "AFFX-PheX-3_at          799.140200 1.469975e+01    70.623030    69.423090\n",
       "AFFX-PheX-5_at           80.598760 7.664094e+00    25.939754     3.515020\n",
       "AFFX-PheX-M_at          308.765660 2.282215e+00     3.082529     9.552471\n",
       "AFFX-r2-Bs-dap-3_at    6194.911600 6.172896e-01    69.205880     5.079363\n",
       "AFFX-r2-Bs-dap-5_at     108.541794 4.258958e+00     5.781343     4.590869\n",
       "AFFX-r2-Bs-dap-M_at    2028.572800 1.365906e+00    57.731537     2.282401\n",
       "AFFX-r2-Bs-lys-3_at     828.969200 1.762120e+01    48.762936     2.876273\n",
       "AFFX-r2-Bs-lys-5_at      49.812200 2.127623e+00    12.538875    19.739923\n",
       "AFFX-r2-Bs-lys-M_at     465.345430 1.209513e+00    38.581352    22.794958\n",
       "AFFX-r2-Bs-phe-3_at    1118.705400 8.375128e+00    75.063850    52.136030\n",
       "AFFX-r2-Bs-phe-5_at     127.210760 8.547265e-01    71.461910    42.519880\n",
       "AFFX-r2-Bs-phe-M_at     346.272900 2.710897e+01     8.914477     5.738951\n",
       "AFFX-r2-Bs-thr-3_s_at  2271.309600 7.673651e+00    45.994278    11.571333\n",
       "AFFX-r2-Bs-thr-5_s_at    93.839540 2.302768e+01    81.607770     3.031969\n",
       "AFFX-r2-Bs-thr-M_s_at   419.656070 1.532272e+00    18.921083   108.536330\n",
       "AFFX-r2-Ec-bioB-3_at    375.285700 3.077727e+02   566.191000   888.445900\n",
       "AFFX-r2-Ec-bioB-5_at    550.115700 2.396358e+02   558.534360   647.922000\n",
       "AFFX-r2-Ec-bioB-M_at    403.328280 2.368778e+02   359.537500   474.259060\n",
       "AFFX-r2-Ec-bioC-3_at   1030.648000 9.650499e+02  1878.997300  2000.841300\n",
       "AFFX-r2-Ec-bioC-5_at    999.028260 8.360003e+02  1702.250100  2060.180400\n",
       "AFFX-r2-Ec-bioD-3_at   4114.250000 5.400458e+03 11152.886000 14431.408000\n",
       "AFFX-r2-Ec-bioD-5_at   4114.576700 4.465091e+03  8695.538000 10365.053000\n",
       "AFFX-r2-P1-cre-3_at   13951.371000 1.985415e+04 47580.984000 45601.290000\n",
       "AFFX-r2-P1-cre-5_at    9590.616000 1.449660e+04 33593.055000 33553.914000\n",
       "AFFX-ThrX-3_at         1821.608200 2.171030e+01    36.736942     5.882349\n",
       "AFFX-ThrX-5_at           46.302326 5.705804e+00    30.422820     6.936473\n",
       "AFFX-ThrX-M_at          279.892550 3.477558e+00     6.315493    17.975550\n",
       "AFFX-TrpnX-3_at           9.149380 1.878478e+00     8.501900     6.254964\n",
       "AFFX-TrpnX-5_at           5.280712 3.469311e+00    23.347307    58.965458\n",
       "AFFX-TrpnX-M_at           7.380331 3.117868e+00    67.153730     9.972722\n",
       "                      GSM119619    GSM119620    GSM119621    GSM119622   \n",
       "1007_s_at             2231.296900  990.541000   1396.824200  1026.056500 \n",
       "1053_at                138.676830    7.186742     10.170890    34.056934 \n",
       "117_at                 106.468440   98.710520    164.326660    46.306164 \n",
       "121_at                 477.865170  355.092000    467.567900   294.583280 \n",
       "1255_g_at              628.816160  105.254600    142.269180   123.016136 \n",
       "1294_at                276.476560  130.088290    131.513340   109.670810 \n",
       "1316_at               1366.783700  624.679260   1589.276600   858.423000 \n",
       "1320_at                 11.245625   22.197855      7.773280     7.727498 \n",
       "1405_i_at                3.137640    8.126172     73.906970     9.745271 \n",
       "1431_at                147.823200   24.068861     24.427702    58.589240 \n",
       "1438_at                 17.465767   21.237518     67.104590     6.816291 \n",
       "1487_at                293.538000  405.519500    204.258290   293.013980 \n",
       "1494_f_at              219.186230  138.255900    165.007420    88.898766 \n",
       "1552256_a_at           729.881800  393.883000    486.921450   456.503660 \n",
       "1552257_a_at          1024.286000  358.414300    705.964360   359.039430 \n",
       "1552258_at              46.742317   68.277510    136.465850     4.789156 \n",
       "1552261_at              23.917818   52.335900     90.524430    53.892185 \n",
       "1552263_at             135.911350  122.731064     31.780657    32.656002 \n",
       "1552264_a_at           151.724660   81.840810     76.355990    33.175117 \n",
       "1552266_at              60.972233  112.636760     69.396996   104.845420 \n",
       "1552269_at               7.482860    2.431454      9.643306     1.810808 \n",
       "1552271_at              68.929690   17.669218     32.969585    10.978026 \n",
       "1552272_a_at            34.422283  113.068954    176.360060    83.938520 \n",
       "1552274_at             868.336060  519.647950    654.066960   269.042630 \n",
       "1552275_s_at           688.879460  175.084610    512.205500   182.223340 \n",
       "1552276_a_at            39.920013    5.173283     26.920113    35.646580 \n",
       "1552277_a_at           352.500980  142.081000    127.192320   130.335160 \n",
       "1552278_a_at           197.202990  137.885300    129.675780    50.091618 \n",
       "1552279_a_at           167.328460  148.589540    229.966320    92.622660 \n",
       "1552280_at               9.229171   15.815872     81.703470     6.664076 \n",
       "⋮                     ⋮            ⋮            ⋮            ⋮           \n",
       "AFFX-PheX-3_at         5715.165000    20.448574    34.714420    14.941455\n",
       "AFFX-PheX-5_at          902.239140    16.740881     6.046320     4.059562\n",
       "AFFX-PheX-M_at         3367.465000     4.207030    14.007323     4.076465\n",
       "AFFX-r2-Bs-dap-3_at   34836.890000     3.640544    36.439090     2.756255\n",
       "AFFX-r2-Bs-dap-5_at    2026.488000     2.753163    16.345154     1.864361\n",
       "AFFX-r2-Bs-dap-M_at   16761.877000    13.908889    47.549267    12.510062\n",
       "AFFX-r2-Bs-lys-3_at    3448.157200    34.023273    52.285297     9.703902\n",
       "AFFX-r2-Bs-lys-5_at     485.028780     1.853139    57.903780     2.442586\n",
       "AFFX-r2-Bs-lys-M_at    1995.121800    11.364210     6.420361     1.873263\n",
       "AFFX-r2-Bs-phe-3_at    9783.694000    52.627030   145.755660    51.862095\n",
       "AFFX-r2-Bs-phe-5_at    1647.213600     8.966128    48.789143     3.932580\n",
       "AFFX-r2-Bs-phe-M_at    3866.058800     7.662843    67.212920     6.291887\n",
       "AFFX-r2-Bs-thr-3_s_at 17090.176000     3.842200    14.578441    21.834393\n",
       "AFFX-r2-Bs-thr-5_s_at   838.317200    16.303972    32.533836     3.001868\n",
       "AFFX-r2-Bs-thr-M_s_at  4391.477000    55.864677    89.895150    31.540342\n",
       "AFFX-r2-Ec-bioB-3_at   1379.972900   594.208500  1228.946400   459.389800\n",
       "AFFX-r2-Ec-bioB-5_at   1590.832000   609.481000  1187.192700   610.141200\n",
       "AFFX-r2-Ec-bioB-M_at   1720.710700   448.954250   994.898860   525.579100\n",
       "AFFX-r2-Ec-bioC-3_at   3835.657200  1619.824000  4168.624000  2143.165300\n",
       "AFFX-r2-Ec-bioC-5_at   3302.973000  1814.482500  3687.964600  2013.464600\n",
       "AFFX-r2-Ec-bioD-3_at  15043.503000 11302.579000 25951.880000 12030.639000\n",
       "AFFX-r2-Ec-bioD-5_at  14511.482000  9113.888000 16733.525000  9510.949000\n",
       "AFFX-r2-P1-cre-3_at   50365.547000 36254.090000 70227.280000 36646.867000\n",
       "AFFX-r2-P1-cre-5_at   37182.836000 28733.100000 56858.520000 27644.191000\n",
       "AFFX-ThrX-3_at        13262.363000    14.434994    10.715485     5.828534\n",
       "AFFX-ThrX-5_at          448.497340    28.413843    11.918980     3.923356\n",
       "AFFX-ThrX-M_at         3133.012200     7.277436    69.250970    27.650482\n",
       "AFFX-TrpnX-3_at          29.297655     3.096380    10.467917     8.064908\n",
       "AFFX-TrpnX-5_at          28.627400     5.922369    46.583836     7.823233\n",
       "AFFX-TrpnX-M_at           2.507613     4.711027    10.538683     1.971074\n",
       "                      GSM119623    GSM119624    ⋯ GSM238945   GSM238946  \n",
       "1007_s_at             736.770300   938.817100   ⋯ 983.13400   855.59800  \n",
       "1053_at                 7.829473    40.235332   ⋯  78.09010    57.58390  \n",
       "117_at                 35.067910    72.864900   ⋯  35.82150   106.83800  \n",
       "121_at                224.524060   298.284730   ⋯ 114.54700   174.52800  \n",
       "1255_g_at             183.396910   180.814250   ⋯  18.83890    80.01430  \n",
       "1294_at                63.197280    78.263855   ⋯ 108.44500    43.14920  \n",
       "1316_at               643.095000   412.519470   ⋯ 635.70400   869.73100  \n",
       "1320_at                 4.196418    12.778767   ⋯  25.01560     5.78831  \n",
       "1405_i_at               6.104734    16.480728   ⋯   7.63653     5.90447  \n",
       "1431_at                84.349400    36.493810   ⋯  54.13290    49.85080  \n",
       "1438_at                 7.751206    12.703977   ⋯   6.76476    39.20890  \n",
       "1487_at               209.791500   305.473200   ⋯ 162.33300   190.32700  \n",
       "1494_f_at             111.283080   114.842260   ⋯  39.29120   114.36800  \n",
       "1552256_a_at          528.402340   360.546300   ⋯ 291.11800    57.80250  \n",
       "1552257_a_at          420.157680   403.711270   ⋯ 483.81500   687.29200  \n",
       "1552258_at             61.653824    25.775404   ⋯   6.30482    70.78080  \n",
       "1552261_at             29.267605    67.561150   ⋯  26.85480   136.42000  \n",
       "1552263_at             66.755110    37.518166   ⋯  19.23590   169.43800  \n",
       "1552264_a_at           36.340103     7.425225   ⋯   4.66061     6.24086  \n",
       "1552266_at             10.159379    64.256610   ⋯  76.79320    20.84770  \n",
       "1552269_at             30.152750     4.793575   ⋯  23.36470    36.41590  \n",
       "1552271_at              8.321659    25.219751   ⋯   9.22646    34.92220  \n",
       "1552272_a_at           78.439640    74.286446   ⋯  25.82650    75.16380  \n",
       "1552274_at            470.706400   228.361130   ⋯ 183.26600    86.24970  \n",
       "1552275_s_at          261.964750   214.837770   ⋯ 339.20500   227.68000  \n",
       "1552276_a_at           28.430414    98.876650   ⋯  50.69500     7.47189  \n",
       "1552277_a_at          253.553680   172.859160   ⋯  99.87310    27.14580  \n",
       "1552278_a_at           12.817143    75.175630   ⋯  33.93570     7.85649  \n",
       "1552279_a_at          133.824160   102.450226   ⋯  81.58880   178.87700  \n",
       "1552280_at              5.652517    38.113144   ⋯  12.61220    54.52330  \n",
       "⋮                     ⋮            ⋮            ⋱ ⋮           ⋮          \n",
       "AFFX-PheX-3_at        1.731761e+01    25.354300 ⋯  2619.69000 1.29648e+04\n",
       "AFFX-PheX-5_at        1.750180e+00    22.407670 ⋯   309.64100 1.48410e+03\n",
       "AFFX-PheX-M_at        1.783865e+01    11.197813 ⋯  1310.69000 5.98842e+03\n",
       "AFFX-r2-Bs-dap-3_at   1.938309e+00     3.072119 ⋯ 16931.80000 5.56084e+04\n",
       "AFFX-r2-Bs-dap-5_at   1.388282e+00     3.047672 ⋯   904.16700 2.67846e+03\n",
       "AFFX-r2-Bs-dap-M_at   1.038438e+01    19.629787 ⋯  5517.57000 2.36905e+04\n",
       "AFFX-r2-Bs-lys-3_at   1.730966e+01    12.003414 ⋯  1567.97000 6.07848e+03\n",
       "AFFX-r2-Bs-lys-5_at   9.221884e-01     4.704135 ⋯   125.17300 5.79382e+02\n",
       "AFFX-r2-Bs-lys-M_at   2.177053e+00    27.830956 ⋯   990.17900 4.24233e+03\n",
       "AFFX-r2-Bs-phe-3_at   2.733352e+00    52.704407 ⋯  3933.82000 1.55347e+04\n",
       "AFFX-r2-Bs-phe-5_at   2.190636e+01     2.320556 ⋯   625.08900 2.20857e+03\n",
       "AFFX-r2-Bs-phe-M_at   2.815225e+01    25.077130 ⋯  1553.12000 6.18349e+03\n",
       "AFFX-r2-Bs-thr-3_s_at 2.730827e+00    21.490696 ⋯  9582.13000 3.56540e+04\n",
       "AFFX-r2-Bs-thr-5_s_at 2.564222e+01    52.853600 ⋯   580.13100 1.85174e+03\n",
       "AFFX-r2-Bs-thr-M_s_at 6.353110e+00    12.001079 ⋯  2346.43000 1.04974e+04\n",
       "AFFX-r2-Ec-bioB-3_at  4.792100e+02   361.182460 ⋯  1393.37000 4.35122e+03\n",
       "AFFX-r2-Ec-bioB-5_at  4.787850e+02   452.436680 ⋯  1636.22000 3.96481e+03\n",
       "AFFX-r2-Ec-bioB-M_at  3.840139e+02   376.334350 ⋯  1536.37000 4.38735e+03\n",
       "AFFX-r2-Ec-bioC-3_at  1.720703e+03  1617.556500 ⋯  3497.97000 7.76548e+03\n",
       "AFFX-r2-Ec-bioC-5_at  1.403077e+03  1507.807300 ⋯  3255.67000 8.50465e+03\n",
       "AFFX-r2-Ec-bioD-3_at  8.546722e+03  8597.459000 ⋯ 16330.50000 3.92170e+04\n",
       "AFFX-r2-Ec-bioD-5_at  7.087432e+03  7381.880400 ⋯ 14709.20000 3.74770e+04\n",
       "AFFX-r2-P1-cre-3_at   3.138912e+04 27935.940000 ⋯ 47087.50000 1.12111e+05\n",
       "AFFX-r2-P1-cre-5_at   2.335666e+04 21766.600000 ⋯ 36038.30000 8.97401e+04\n",
       "AFFX-ThrX-3_at        1.072256e+01     8.189967 ⋯  6730.06000 2.80576e+04\n",
       "AFFX-ThrX-5_at        1.425013e+01     6.387569 ⋯   351.38400 1.14810e+03\n",
       "AFFX-ThrX-M_at        1.874873e+01     2.100605 ⋯  1642.06000 6.85323e+03\n",
       "AFFX-TrpnX-3_at       8.410315e+00     3.726756 ⋯     7.52713 2.75023e+00\n",
       "AFFX-TrpnX-5_at       1.740191e+01     5.499322 ⋯    26.46670 5.88146e+01\n",
       "AFFX-TrpnX-M_at       1.830465e+01     2.633168 ⋯    19.27290 4.38626e+00\n",
       "                      GSM238947   GSM238948  GSM238949   GSM238951  \n",
       "1007_s_at             2074.23000  1385.89000 1390.94000  904.416000 \n",
       "1053_at                  4.94740    11.06460   78.20780   50.573700 \n",
       "117_at                  87.61880    39.50480  117.61000   20.618400 \n",
       "121_at                 180.72500   238.92100  221.87300  153.431000 \n",
       "1255_g_at               69.08840     5.82269   44.78570   11.465000 \n",
       "1294_at                106.48900   146.65600  176.92700   33.563700 \n",
       "1316_at               1201.68000  1423.64000 1004.63000  622.961000 \n",
       "1320_at                  2.98114     4.69030   37.30940    3.838540 \n",
       "1405_i_at               19.35500     2.40904    7.54855    4.756360 \n",
       "1431_at                 14.52490   104.79500   70.76400   38.902300 \n",
       "1438_at                 52.38490    10.65140    4.46224    4.909690 \n",
       "1487_at                266.90000   222.63500  192.76400  213.538000 \n",
       "1494_f_at              106.91200    83.96010   92.00250   37.097200 \n",
       "1552256_a_at           257.35300   246.84500  325.11600  259.267000 \n",
       "1552257_a_at           474.70000   479.79300  756.68500  265.102000 \n",
       "1552258_at              16.55980    91.97670   71.56100   11.451100 \n",
       "1552261_at              80.02930    12.14200   50.06720   39.351300 \n",
       "1552263_at              23.21900     1.78109   34.09140    2.852100 \n",
       "1552264_a_at            32.68860     4.45250   46.55490    3.637810 \n",
       "1552266_at              83.74590   150.75400   43.29430   30.584100 \n",
       "1552269_at              18.97150     3.98392    2.55239    2.640110 \n",
       "1552271_at               8.42527     7.48148   14.93800    5.005330 \n",
       "1552272_a_at            10.12600     9.69401   52.90680   39.350000 \n",
       "1552274_at              23.93100   199.22400  180.24400  222.813000 \n",
       "1552275_s_at           165.44900   351.41700  181.44300  352.710000 \n",
       "1552276_a_at            62.85090    14.10950  102.62900   11.376100 \n",
       "1552277_a_at            76.28030   204.53000    2.99062   97.672800 \n",
       "1552278_a_at            65.24050   151.05300  138.46600   58.299200 \n",
       "1552279_a_at            54.42340   242.62500  153.45900   71.029000 \n",
       "1552280_at              40.06170    36.96980   16.61230    0.902492 \n",
       "⋮                     ⋮           ⋮          ⋮           ⋮          \n",
       "AFFX-PheX-3_at        11182.40000  7109.1300  4760.30000  1128.89000\n",
       "AFFX-PheX-5_at         1701.47000   698.6710   612.43700   190.77800\n",
       "AFFX-PheX-M_at         6717.66000  3525.2000  2304.20000   612.28300\n",
       "AFFX-r2-Bs-dap-3_at   44797.90000 37726.9000 27690.80000 10838.60000\n",
       "AFFX-r2-Bs-dap-5_at    2859.46000  2070.1900  1099.15000   656.22800\n",
       "AFFX-r2-Bs-dap-M_at   24282.10000 15118.0000  9905.64000  5784.66000\n",
       "AFFX-r2-Bs-lys-3_at    4860.83000  3204.0700  2829.26000  1041.05000\n",
       "AFFX-r2-Bs-lys-5_at     366.04400   181.7540   206.13100    75.55660\n",
       "AFFX-r2-Bs-lys-M_at    3252.09000  1741.9700  1935.30000   552.77600\n",
       "AFFX-r2-Bs-phe-3_at   14371.20000  7685.1900  4187.98000  1835.00000\n",
       "AFFX-r2-Bs-phe-5_at    2478.26000  1362.6700   845.38000   318.79400\n",
       "AFFX-r2-Bs-phe-M_at    7384.09000  3613.0700  2473.67000   662.99300\n",
       "AFFX-r2-Bs-thr-3_s_at 34361.30000 21750.5000 13416.10000  4991.69000\n",
       "AFFX-r2-Bs-thr-5_s_at  2169.26000  1257.6100   641.11600   248.54000\n",
       "AFFX-r2-Bs-thr-M_s_at 15019.10000  8070.6200  3738.26000  1147.35000\n",
       "AFFX-r2-Ec-bioB-3_at   2698.16000  2885.5500  2964.06000   763.40500\n",
       "AFFX-r2-Ec-bioB-5_at   2931.43000  2960.0900  3153.59000   970.28600\n",
       "AFFX-r2-Ec-bioB-M_at   2924.86000  3106.1500  2483.65000   910.31400\n",
       "AFFX-r2-Ec-bioC-3_at   6726.48000  6632.6300  5431.98000  2523.08000\n",
       "AFFX-r2-Ec-bioC-5_at   6033.22000  5767.6800  5739.64000  2096.67000\n",
       "AFFX-r2-Ec-bioD-3_at  29413.40000 29373.9000 28841.80000 10425.10000\n",
       "AFFX-r2-Ec-bioD-5_at  27954.00000 27955.1000 28205.70000  8889.75000\n",
       "AFFX-r2-P1-cre-3_at   84523.20000 84719.6000 87100.40000 28356.90000\n",
       "AFFX-r2-P1-cre-5_at   68196.20000 67746.1000 70949.40000 22105.40000\n",
       "AFFX-ThrX-3_at        28278.70000 17816.9000 10702.70000  3480.11000\n",
       "AFFX-ThrX-5_at         1139.84000   689.1840   346.30700   140.44300\n",
       "AFFX-ThrX-M_at         9776.78000  4727.5900  2344.04000   904.46400\n",
       "AFFX-TrpnX-3_at          36.43110    67.1059     5.71708     4.60019\n",
       "AFFX-TrpnX-5_at           7.31434    79.7225    57.59190     2.26764\n",
       "AFFX-TrpnX-M_at          15.05010     8.4198     2.24515     1.99870\n",
       "                      GSM238952   GSM238953   GSM238955   GSM238963  \n",
       "1007_s_at             1319.09000  783.22700   1552.96000  2845.45000 \n",
       "1053_at                 13.76510   56.38920      6.97840    33.01470 \n",
       "117_at                  31.40410   41.22170     40.48350    19.13160 \n",
       "121_at                 262.51700  136.96800    284.89900   404.07500 \n",
       "1255_g_at               30.39390   40.73140      4.34157    42.26660 \n",
       "1294_at                199.44400   34.58730    141.75700   334.61600 \n",
       "1316_at               1080.42000  461.37500    834.70200  1352.03000 \n",
       "1320_at                 13.28010    1.52516      4.16623    21.88330 \n",
       "1405_i_at                3.32188    3.21515     13.73080    43.41040 \n",
       "1431_at                 52.81760   31.23220     11.59510    28.18700 \n",
       "1438_at                  2.39246    6.18627     10.53120     5.07273 \n",
       "1487_at                212.72700  220.38500    324.72300   460.84900 \n",
       "1494_f_at               51.08940   20.97060    110.55200   131.24500 \n",
       "1552256_a_at           254.73300  207.98400    205.26900  1034.69000 \n",
       "1552257_a_at           420.40600  351.53300    396.49000   756.06100 \n",
       "1552258_at              39.20660   27.03200     48.05600    94.20330 \n",
       "1552261_at              12.84980   10.35760     11.43900    59.19930 \n",
       "1552263_at              11.60730   26.07860     40.63420     4.97204 \n",
       "1552264_a_at            49.04940   19.39370      5.87274    67.65290 \n",
       "1552266_at              37.99000   49.09710     87.65800     3.49814 \n",
       "1552269_at              15.46510    8.83116     31.22010    51.81450 \n",
       "1552271_at               8.22339    4.05201     12.83150    46.57270 \n",
       "1552272_a_at            75.70940   20.31020    107.41700    58.09420 \n",
       "1552274_at             255.68800  163.64500    330.12400   442.43100 \n",
       "1552275_s_at           330.86800  222.07400    491.47500   498.62000 \n",
       "1552276_a_at            31.89740    3.82322     55.01950     9.48109 \n",
       "1552277_a_at            69.59400  101.35400     67.90700   142.64600 \n",
       "1552278_a_at            48.84940   31.38310     25.52730    69.67960 \n",
       "1552279_a_at           116.18500   70.11850    276.84700   110.46100 \n",
       "1552280_at              30.73150    3.26545      5.90937    62.16600 \n",
       "⋮                     ⋮           ⋮           ⋮           ⋮          \n",
       "AFFX-PheX-3_at         3290.11000  1581.88000 10412.90000  6719.87000\n",
       "AFFX-PheX-5_at          433.50400   241.10400   802.33900   866.53100\n",
       "AFFX-PheX-M_at         1737.32000   729.73400  4383.72000  3346.74000\n",
       "AFFX-r2-Bs-dap-3_at   25131.20000 12020.70000 46823.40000 49708.60000\n",
       "AFFX-r2-Bs-dap-5_at    1377.26000   545.27400  1944.16000  2556.22000\n",
       "AFFX-r2-Bs-dap-M_at   19191.60000  5330.69000 15124.70000 22625.10000\n",
       "AFFX-r2-Bs-lys-3_at    2654.41000   962.21700  3378.87000  5338.17000\n",
       "AFFX-r2-Bs-lys-5_at     150.32300    58.72500   285.82300   322.45000\n",
       "AFFX-r2-Bs-lys-M_at    1377.62000   597.92600  1962.89000  3931.75000\n",
       "AFFX-r2-Bs-phe-3_at    4690.36000  2094.69000 10307.90000  8774.90000\n",
       "AFFX-r2-Bs-phe-5_at     661.54600   335.38000  1207.49000  1062.40000\n",
       "AFFX-r2-Bs-phe-M_at    1976.41000   801.35900  5241.66000  3021.26000\n",
       "AFFX-r2-Bs-thr-3_s_at 11772.10000  5412.39000 26339.50000 22801.20000\n",
       "AFFX-r2-Bs-thr-5_s_at   379.96200   205.95000  1145.51000   892.39800\n",
       "AFFX-r2-Bs-thr-M_s_at  2349.29000  1162.14000  5503.19000  5747.19000\n",
       "AFFX-r2-Ec-bioB-3_at   1814.79000   789.53700  3831.41000  3558.19000\n",
       "AFFX-r2-Ec-bioB-5_at   2280.25000   919.08800  3470.63000  3574.09000\n",
       "AFFX-r2-Ec-bioB-M_at   2052.38000   882.11100  3531.10000  2844.80000\n",
       "AFFX-r2-Ec-bioC-3_at   4997.28000  2282.91000  6800.16000  9482.37000\n",
       "AFFX-r2-Ec-bioC-5_at   4450.59000  1909.69000  6963.57000  8753.13000\n",
       "AFFX-r2-Ec-bioD-3_at  22824.10000 10408.90000 36402.20000 42444.30000\n",
       "AFFX-r2-Ec-bioD-5_at  18763.30000  8662.22000 32577.60000 34364.20000\n",
       "AFFX-r2-P1-cre-3_at   50764.20000 27686.60000 95516.80000 91821.00000\n",
       "AFFX-r2-P1-cre-5_at   44972.40000 21462.60000 75816.80000 72011.20000\n",
       "AFFX-ThrX-3_at         8376.44000  4099.04000 18781.20000 18406.90000\n",
       "AFFX-ThrX-5_at          237.00200   136.47500   744.86000   508.20300\n",
       "AFFX-ThrX-M_at         1809.77000   816.25200  3920.09000  3482.83000\n",
       "AFFX-TrpnX-3_at           5.04322    14.44700    42.46360     7.63197\n",
       "AFFX-TrpnX-5_at           6.63889     5.15024     7.38756    66.95930\n",
       "AFFX-TrpnX-M_at           1.20378     1.31510    30.04950    52.17980"
      ]
     },
     "metadata": {},
     "output_type": "display_data"
    }
   ],
   "source": [
    "GSE5281Exprs"
   ]
  },
  {
   "cell_type": "markdown",
   "id": "c1d21b08-f3f3-4b02-83f9-2c118536261a",
   "metadata": {},
   "source": [
    "<!-- headings -->\n",
    "<a id=\"dt-cloud\"></a>\n",
    "## 5. Storing files in a Google Cloud Bucket"
   ]
  },
  {
   "cell_type": "markdown",
   "id": "53ec290a-3150-4914-b4e1-426cd08e734c",
   "metadata": {},
   "source": [
    "To run gsutil commands, the user can either create a code cell within the Jupyter notebook by clicking the + button at the top or \n",
    "click on File -> New -> Terminal to open the terminal \n",
    " \n",
    " \n",
    "To create buckets in R, it is best to use the system command that allows you to run bash commands in R. One thing to note is that the bucket must be named following some rules. Please check out the rules [here](https://cloud.google.com/storage/docs/buckets)."
   ]
  },
  {
   "cell_type": "code",
   "execution_count": 29,
   "id": "63c970a8-885c-43a0-94ae-1e86c34cc252",
   "metadata": {
    "tags": []
   },
   "outputs": [
    {
     "ename": "ERROR",
     "evalue": "Error in system(\"gsutil mb gs://ccpa_bucket\", intern = TRUE): error in running command\n",
     "output_type": "error",
     "traceback": [
      "Error in system(\"gsutil mb gs://ccpa_bucket\", intern = TRUE): error in running command\nTraceback:\n"
     ]
    }
   ],
   "source": [
    "# Set our bucket name, remember it needs to be unique\n",
    "# Replace <BUCKET_NAME> with the name of your bucket\n",
    "system(\"gsutil mb gs://ccpa_bucket\", intern = TRUE)"
   ]
  },
  {
   "cell_type": "markdown",
   "id": "9ade9695",
   "metadata": {},
   "source": [
    "The command to copy data from the local disk to the Google Cloud Bucket is as follows:\n",
    "\n",
    "`gsutil cp PATH_TO_LOCAL_FOLDER gs://PATH_IN_GOOGLE_BUCKET`\n",
    "\n",
    "For example, if we want to copy the file `./data/GSE5281.rds` we can use the following command."
   ]
  },
  {
   "cell_type": "code",
   "execution_count": null,
   "id": "f5eccf36-1d99-4cc6-914b-511f3306606c",
   "metadata": {
    "tags": []
   },
   "outputs": [],
   "source": [
    "# Replace <BUCKET_NAME> with name of your bucket that was perviously made\n",
    "system(\"gsutil cp ./data/GSE5281.rds gs://ccpa_bucket\", intern = TRUE)\n",
    "\n"
   ]
  },
  {
   "cell_type": "markdown",
   "id": "6eda8b49-b1ac-4d3a-8922-b7d12859e04a",
   "metadata": {},
   "source": [
    "We can download files from Google Cloud Bucket using the following command. Here we are downloading the data to current directory of this notebook."
   ]
  },
  {
   "cell_type": "code",
   "execution_count": null,
   "id": "741e6e0d-943d-4c79-86d5-f0ad25cfca75",
   "metadata": {
    "tags": []
   },
   "outputs": [],
   "source": [
    "system(\"gsutil cp gs://ccpa_bucket/GSE5281.rds ./\")"
   ]
  },
  {
   "cell_type": "markdown",
   "id": "b06fc324-a8d7-460b-824e-99a59dfed3da",
   "metadata": {},
   "source": [
    "Now we can try to load the data file that we have just downloaded from Google Cloud Bucket."
   ]
  },
  {
   "cell_type": "code",
   "execution_count": null,
   "id": "b583748a-b808-4009-9819-b3107306cff7",
   "metadata": {
    "tags": []
   },
   "outputs": [],
   "source": [
    "# Load the data downloaded from Google Cloud Bucket in current directory\n",
    "data <- readRDS(\"./GSE5281.rds\")\n",
    "# Print out the keys of the data list\n",
    "names(data)"
   ]
  },
  {
   "cell_type": "markdown",
   "id": "88509c9c-2fbf-4e9b-9ed1-22ec5a0d5af4",
   "metadata": {},
   "source": [
    " We will also save the data for the `GSE153873` dataset."
   ]
  },
  {
   "cell_type": "code",
   "execution_count": null,
   "id": "a00e7b9d-5784-46cd-b0e4-5672cf623c13",
   "metadata": {},
   "outputs": [],
   "source": [
    "# Replace <BUCKET_NAME> with name of your bucket that was perviously made\n",
    "system(\"gsutil cp ./data/GSE153873.rds gs://ccpa_bucket\", intern = TRUE)"
   ]
  },
  {
   "cell_type": "code",
   "execution_count": null,
   "id": "8821d7aa-989e-44ce-a832-73e1b0209241",
   "metadata": {},
   "outputs": [],
   "source": []
  },
  {
   "cell_type": "code",
   "execution_count": null,
   "id": "75deed91-8373-425f-91e1-5c364768ffa3",
   "metadata": {
    "tags": []
   },
   "outputs": [],
   "source": [
    "sessionInfo()"
   ]
  },
  {
   "cell_type": "code",
   "execution_count": null,
   "id": "72f4fbc7-458b-445c-b050-c20f44a1adac",
   "metadata": {},
   "outputs": [],
   "source": []
  }
 ],
 "metadata": {
  "celltoolbar": "Tags",
  "environment": {
   "kernel": "ir",
   "name": ".m114",
   "type": "gcloud",
   "uri": "gcr.io/deeplearning-platform-release/:m114"
  },
  "kernelspec": {
   "display_name": "R",
   "language": "R",
   "name": "ir"
  },
  "language_info": {
   "codemirror_mode": "r",
   "file_extension": ".r",
   "mimetype": "text/x-r-source",
   "name": "R",
   "pygments_lexer": "r",
   "version": "4.3.2"
  },
  "toc-showcode": true
 },
 "nbformat": 4,
 "nbformat_minor": 5
}
