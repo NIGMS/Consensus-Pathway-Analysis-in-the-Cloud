{
 "cells": [
  {
   "cell_type": "markdown",
   "id": "d3716dad",
   "metadata": {},
   "source": [
    "# Meta Analysis\n",
    "![](./images/Module5/Module5.jpg)\n",
    "\n",
    "\n",
    "Meta pathway analysis using multiple omics data is a rapidly emerging field in bioinformatics and systems biology that allows for the integration of diverse omics data from genomics, transcriptomics, proteomics, metabolomics, and other molecular biology disciplines. By integrating multiple omics data, meta pathway analysis aims to provide a comprehensive understanding of the cellular functions and molecular mechanisms underlying biological processes in a given organism. This approach offers a powerful means to investigate the complex interplay between genes, proteins, and metabolites in different biological contexts, such as disease states or environmental conditions. Moreover, meta pathway analysis can identify key regulatory pathways and molecular signatures that are critical for the development of targeted therapeutics and precision medicine. Overall, the integration of multiple omics data through meta pathway analysis has the potential to reveal new insights into the underlying biology of complex diseases and to guide the development of personalized treatments. In this submodule, we will demonstrate the power of meta-analysis to find the significant pathways for Alzheimer and Parkinson diseases.\n",
    "\n",
    "## Learning Objectives:\n",
    "1. Downloading processed data\n",
    "2. Performing enrichment analysis using FGSEA and plotting results\n",
    "3. Performing meta-analysis and plotting results"
   ]
  },
  {
   "cell_type": "code",
   "execution_count": 1,
   "id": "b06f9d8d-6188-49bc-b557-2b63e30ddcd1",
   "metadata": {},
   "outputs": [
    {
     "data": {
      "text/html": [
       "<iframe src=\"./Quizzes/Quiz_Submodule5.html\" width=100% height=250></iframe>"
      ]
     },
     "metadata": {},
     "output_type": "display_data"
    }
   ],
   "source": [
    "#Run the following command to take the quiz\n",
    "IRdisplay::display_html('<iframe src=\"./Quizzes/Quiz_Submodule5.html\" width=100% height=250></iframe>')"
   ]
  },
  {
   "cell_type": "markdown",
   "id": "c160f6a2",
   "metadata": {},
   "source": [
    "## Loading Datasets\n",
    "In this submodule 5, we will use datasets available from the Gene Expression Omnibus (GEO) repository. The datasets analyzed for Alzheimer disease is available under accession number `GSE5281`. This dataset contains genes that are preferentially expressed during the course of Alzheimer’s disease (AD) collected from 5 different brain regions: 1) entorhinal cortex (EC) 2) hippocampus (HIP) 3) medial temporal gyrus (MTG) 4) posterior cingulate 5) superior frontal gyrus and 6) primary visual cortex. In this submodule, we will perform analysis using data generated from EC, HIP, and MTG.\n",
    "\n",
    "The datasets analyzed for Parkinson disease are available under accession numbers `GSE99039` and `GSE20292`. The first dataset contains 558 blood-based gene signature characterizing Idiopathic Parkinson's disease while the second dataset has 29 transcriptional analyses of whole substantia nigra in Parkinson's disease. Users can follow the instructions provided in submodules 1 and 2 to download and perform genes ID mapping. In this submodule, we will load the preprocessed data stored in the NIGMS Google Cloud Storage bucket to perform analysis. The code to load all datasets is presented as follows:"
   ]
  },
  {
   "cell_type": "code",
   "execution_count": 2,
   "id": "0738ddf5",
   "metadata": {},
   "outputs": [],
   "source": [
    "# A vector to store all data IDs\n",
    "data.IDs <- c(\"GSE5281-EC\", \"GSE5281-HIP\", \"GSE5281-MTG\", \"GSE99039\", \"GSE20292\")\n",
    "# A loop to read data information and store into a list\n",
    "allData <- lapply(data.IDs, function(id){\n",
    "  f <- paste0( \"https://storage.googleapis.com/nigms-sandbox/nosi-unr/\", id, \".rds\")\n",
    "  if (!file.exists(f)) return(readRDS(url(f), \"rb\"))\n",
    "  return(NULL)\n",
    "})"
   ]
  },
  {
   "cell_type": "markdown",
   "id": "722ce8e2",
   "metadata": {},
   "source": [
    "## Installing Required Libraries\n",
    "In this submodule, we will install several libraries to perform enrichment analysis, meta-analysis and visualization. We will install package `fgsea` to perform enrichment analysis. For visualization purposes, we will use `ggpubr` and `cowplot`. `ggpubr` provides a range of functions that enable users to create publication-ready plots, including barplots, boxplots, scatterplots, histograms, and heatmaps. `cowplot` provides the ability to create custom layouts for complex multi-panel figures. The package includes functions for arranging plots in a grid, as well as for adding margins, padding, and labels. The package also includes features for aligning plots, adjusting font sizes and colors, and exporting plots to different file formats. To perform meta-analysis, we will use the `meta` R package which provides functions for conducting fixed-effect and random-effects meta-analyses, as well as for conducting sensitivity analyses, subgroup analyses, and meta-regression analyses. The package also provides tools for assessing the heterogeneity of the studies included in the analysis and for creating forest plots to visualize the results. Lastly, packages include `stringr` and `matrixStats` provide utility functions to manipulate input matrices. The package `fgsea` can be downloaded from Bioconductor while other packages can be installed from CRAN. The code to install all packages is presented below:"
   ]
  },
  {
   "cell_type": "code",
   "execution_count": 3,
   "id": "2df627ec",
   "metadata": {},
   "outputs": [],
   "source": [
    "suppressMessages({if (!require(\"BiocManager\", quietly = TRUE))\n",
    "    suppressWarnings(install.packages(\"BiocManager\"))\n",
    "    suppressWarnings(if (!require(\"fgsea\")) BiocManager::install(\"fgsea\", update = F))\n",
    "})"
   ]
  },
  {
   "cell_type": "code",
   "execution_count": 4,
   "id": "acdb01c0",
   "metadata": {},
   "outputs": [],
   "source": [
    "suppressMessages({\n",
    "  # Installing all packages\n",
    "  suppressWarnings(if (!require(\"stringr\")) install.packages(\"stringr\"))\n",
    "  suppressWarnings(if (!require(\"meta\")) install.packages(\"meta\"))\n",
    "  suppressWarnings(if (!require(\"matrixStats\")) install.packages(\"matrixStats\"))\n",
    "  suppressWarnings(if (!require(\"cowplot\")) install.packages(\"cowplot\"))\n",
    "  suppressWarnings(if (!require(\"ggpubr\")) install.packages(\"ggpubr\"))\n",
    "  suppressWarnings(if (!require(\"dplyr\")) install.packages(\"dplyr\"))\n",
    "  suppressWarnings(if (!require(\"tidyr\")) install.packages(\"tidyr\"))\n",
    "\n",
    "  # Loading all packages\n",
    "  suppressPackageStartupMessages({library(fgsea)})\n",
    "  suppressPackageStartupMessages({library(stringr)})\n",
    "  suppressPackageStartupMessages({library(meta)})\n",
    "  suppressPackageStartupMessages({library(matrixStats)})\n",
    "  suppressPackageStartupMessages({library(cowplot)})\n",
    "  suppressPackageStartupMessages({library(ggpubr)})\n",
    "  suppressPackageStartupMessages({library(dplyr)})\n",
    "  suppressPackageStartupMessages({library(tidyr)})\n",
    "})"
   ]
  },
  {
   "cell_type": "markdown",
   "id": "bf359ea8",
   "metadata": {},
   "source": [
    "## Utility Function\n",
    "To perform enrichment analysis we will need a helper function to obtain pathway information from the KEGG database.\n",
    "The `getKEGGGeneSet` shown below will access to KEGG database and download all the genesets for all the human pathways.\n",
    "The result will be stored in a list.\n"
   ]
  },
  {
   "cell_type": "code",
   "execution_count": 5,
   "id": "73462f12",
   "metadata": {},
   "outputs": [],
   "source": [
    "getKEGGGeneSet <- function(org){\n",
    "  # Get data from the KEGG database and save it to a data frame\n",
    "  geneLink <- read.table(paste0(\"https://rest.kegg.jp/link/\", org, \"/pathway\"),\n",
    "                         sep = \"\\t\", header = F,\n",
    "                         stringsAsFactors = F);\n",
    "  # Name the data columns\n",
    "  colnames(geneLink) <- c(\"geneset\", \"gene\")\n",
    "\n",
    "  # Get genes for each geneset and store the result in a list\n",
    "  geneLink <- geneLink %>%\n",
    "           group_by(geneset) %>%\n",
    "          group_split() %>%\n",
    "          lapply(function(dat){\n",
    "    list(\n",
    "      name = dat$geneset[1] %>% as.character(),\n",
    "      genes = dat$gene %>% as.character()\n",
    "    )\n",
    "  })\n",
    "\n",
    "  # Set names of the list based on the geneset name\n",
    "  names(geneLink) <- geneLink %>% lapply(function(gl) gl$name)\n",
    "  \n",
    "  # Extract only the genes for each geneset\n",
    "  geneLink <- geneLink %>% lapply(function(gl) gl$genes)\n",
    "  \n",
    "  # Keep only genesets with at least 5 genes\n",
    "  keeps <- geneLink %>% lapply(length) %>% unlist() %>% `>=`(5) %>% which() %>% names()\n",
    "  geneLink <- geneLink[keeps]\n",
    "  \n",
    "  # Return the final list of genesets\n",
    "  return(geneLink)\n",
    "}"
   ]
  },
  {
   "cell_type": "markdown",
   "id": "d42cb6c7",
   "metadata": {},
   "source": [
    "## Enrichment Analysis using FGSEA\n",
    "In this section, we will perform enrichment analysis using the `fgsea` package for all methods.\n",
    "FGSEA is an extension of the widely used Gene Set Enrichment Analysis (GSEA) method, which computes\n",
    "an enrichment score for each gene set by comparing the distribution of genes in the set with the\n",
    " distribution of all genes. FGSEA, on the other hand, uses a fast algorithm to estimate the p-value\n",
    " for each gene set, based on the empirical distribution of the enrichment score obtained by permuting\n",
    " the gene labels in the ranked list.\n",
    "\n",
    "The basic steps in performing FGSEA are as follows:\n",
    "\n",
    "1. Rank the genes according to a certain metric, such as gene expression or differential expression.\n",
    "2. Define a set of genes of interest, such as a pathway or a gene ontology term.\n",
    "3. Compute the enrichment score for each gene set based on the ranks of its member genes in the ranked list.\n",
    "4. Generate a null distribution of enrichment scores by permuting the gene labels in the ranked list.\n",
    "5. Compute the p-value for each gene set by comparing its observed enrichment score with the null distribution.\n",
    "6. Correct for multiple testing, for example, by using the false discovery rate (FDR) or the Bonferroni method.\n",
    "\n",
    "To run the method `fgsea` we use 1,000 permutations and the signal-to-noise ratio (SNR) is set to the ratio of differences\n",
    "of mean and standard deviation between control and disease groups.\n",
    "Now, we need to get the geneset and do parameter settings."
   ]
  },
  {
   "cell_type": "code",
   "execution_count": 6,
   "id": "9426a7ed-7bc8-451a-837a-62187eecebca",
   "metadata": {},
   "outputs": [
    {
     "data": {
      "text/html": [
       "<iframe src=\"./Quizzes/Quiz_Submodule5-1.html\" width=100% height=250></iframe>"
      ]
     },
     "metadata": {},
     "output_type": "display_data"
    }
   ],
   "source": [
    "#Run the following command to take the quiz\n",
    "IRdisplay::display_html('<iframe src=\"./Quizzes/Quiz_Submodule5-1.html\" width=100% height=250></iframe>')"
   ]
  },
  {
   "cell_type": "code",
   "execution_count": 7,
   "id": "4e4ed793",
   "metadata": {},
   "outputs": [],
   "source": [
    "# Assign names to all datasets\n",
    "names(allData) <- data.IDs\n",
    "# Remove empty dataset\n",
    "allData <- allData[!sapply(allData, is.null)]\n",
    "# Get all human geneset\n",
    "geneSet <- getKEGGGeneSet(\"hsa\")\n",
    "# Get unique geneset\n",
    "genes <- unique(unlist(geneSet))\n",
    "# Parameter to set the number of permutations\n",
    "perm <- 1000\n"
   ]
  },
  {
   "cell_type": "markdown",
   "id": "c9a1d8ca",
   "metadata": {},
   "source": [
    "We can check the number of pathways for human using the following command:"
   ]
  },
  {
   "cell_type": "code",
   "execution_count": 8,
   "id": "3d20512a",
   "metadata": {},
   "outputs": [
    {
     "name": "stdout",
     "output_type": "stream",
     "text": [
      "[1] \"The number of pathways is: 352\"\n"
     ]
    }
   ],
   "source": [
    "print(paste0(\"The number of pathways is: \", length(geneSet)))"
   ]
  },
  {
   "cell_type": "markdown",
   "id": "9bf83c88",
   "metadata": {},
   "source": [
    "We can view the names of the first 10 pathways using the following command:\n"
   ]
  },
  {
   "cell_type": "code",
   "execution_count": 9,
   "id": "5225e057",
   "metadata": {},
   "outputs": [
    {
     "data": {
      "text/html": [
       "<style>\n",
       ".list-inline {list-style: none; margin:0; padding: 0}\n",
       ".list-inline>li {display: inline-block}\n",
       ".list-inline>li:not(:last-child)::after {content: \"\\00b7\"; padding: 0 .5ex}\n",
       "</style>\n",
       "<ol class=list-inline><li>'path:hsa00010'</li><li>'path:hsa00020'</li><li>'path:hsa00030'</li><li>'path:hsa00040'</li><li>'path:hsa00051'</li><li>'path:hsa00052'</li><li>'path:hsa00053'</li><li>'path:hsa00061'</li><li>'path:hsa00062'</li><li>'path:hsa00071'</li></ol>\n"
      ],
      "text/latex": [
       "\\begin{enumerate*}\n",
       "\\item 'path:hsa00010'\n",
       "\\item 'path:hsa00020'\n",
       "\\item 'path:hsa00030'\n",
       "\\item 'path:hsa00040'\n",
       "\\item 'path:hsa00051'\n",
       "\\item 'path:hsa00052'\n",
       "\\item 'path:hsa00053'\n",
       "\\item 'path:hsa00061'\n",
       "\\item 'path:hsa00062'\n",
       "\\item 'path:hsa00071'\n",
       "\\end{enumerate*}\n"
      ],
      "text/markdown": [
       "1. 'path:hsa00010'\n",
       "2. 'path:hsa00020'\n",
       "3. 'path:hsa00030'\n",
       "4. 'path:hsa00040'\n",
       "5. 'path:hsa00051'\n",
       "6. 'path:hsa00052'\n",
       "7. 'path:hsa00053'\n",
       "8. 'path:hsa00061'\n",
       "9. 'path:hsa00062'\n",
       "10. 'path:hsa00071'\n",
       "\n",
       "\n"
      ],
      "text/plain": [
       " [1] \"path:hsa00010\" \"path:hsa00020\" \"path:hsa00030\" \"path:hsa00040\"\n",
       " [5] \"path:hsa00051\" \"path:hsa00052\" \"path:hsa00053\" \"path:hsa00061\"\n",
       " [9] \"path:hsa00062\" \"path:hsa00071\""
      ]
     },
     "metadata": {},
     "output_type": "display_data"
    }
   ],
   "source": [
    "names(geneSet)[1:10]"
   ]
  },
  {
   "cell_type": "markdown",
   "id": "b6fee7cb",
   "metadata": {},
   "source": [
    "We can view the name of first 10 genes of the first pathway using the following command:"
   ]
  },
  {
   "cell_type": "code",
   "execution_count": 10,
   "id": "b4840a79",
   "metadata": {},
   "outputs": [
    {
     "data": {
      "text/html": [
       "<style>\n",
       ".list-inline {list-style: none; margin:0; padding: 0}\n",
       ".list-inline>li {display: inline-block}\n",
       ".list-inline>li:not(:last-child)::after {content: \"\\00b7\"; padding: 0 .5ex}\n",
       "</style>\n",
       "<ol class=list-inline><li>'hsa:10327'</li><li>'hsa:124'</li><li>'hsa:125'</li><li>'hsa:126'</li><li>'hsa:127'</li><li>'hsa:128'</li><li>'hsa:130'</li><li>'hsa:130589'</li><li>'hsa:131'</li><li>'hsa:160287'</li></ol>\n"
      ],
      "text/latex": [
       "\\begin{enumerate*}\n",
       "\\item 'hsa:10327'\n",
       "\\item 'hsa:124'\n",
       "\\item 'hsa:125'\n",
       "\\item 'hsa:126'\n",
       "\\item 'hsa:127'\n",
       "\\item 'hsa:128'\n",
       "\\item 'hsa:130'\n",
       "\\item 'hsa:130589'\n",
       "\\item 'hsa:131'\n",
       "\\item 'hsa:160287'\n",
       "\\end{enumerate*}\n"
      ],
      "text/markdown": [
       "1. 'hsa:10327'\n",
       "2. 'hsa:124'\n",
       "3. 'hsa:125'\n",
       "4. 'hsa:126'\n",
       "5. 'hsa:127'\n",
       "6. 'hsa:128'\n",
       "7. 'hsa:130'\n",
       "8. 'hsa:130589'\n",
       "9. 'hsa:131'\n",
       "10. 'hsa:160287'\n",
       "\n",
       "\n"
      ],
      "text/plain": [
       " [1] \"hsa:10327\"  \"hsa:124\"    \"hsa:125\"    \"hsa:126\"    \"hsa:127\"   \n",
       " [6] \"hsa:128\"    \"hsa:130\"    \"hsa:130589\" \"hsa:131\"    \"hsa:160287\""
      ]
     },
     "metadata": {},
     "output_type": "display_data"
    }
   ],
   "source": [
    "geneSet$`path:hsa00010`[1:10]"
   ]
  },
  {
   "cell_type": "markdown",
   "id": "e3dbc1f6",
   "metadata": {},
   "source": [
    "Now, we can perform enrichment analysis for all datasets using the following script"
   ]
  },
  {
   "cell_type": "code",
   "execution_count": 11,
   "id": "8b0b34ee",
   "metadata": {},
   "outputs": [],
   "source": [
    "allEnrichmentResult <- lapply(1:length(allData), function(iteration){\n",
    "  # Set seed for reproducibility\n",
    "  set.seed(iteration)\n",
    "  # Get the data\n",
    "  data <- allData[[iteration]]\n",
    "  data <- data[[1]]\n",
    "  # Get expression matrix\n",
    "  exprs <- data$expression\n",
    "  # Get group information (control vs disease)\n",
    "  group <- data$group\n",
    "  annotation <- data$annotation\n",
    "  exprs <- exprs[intersect(genes, rownames(exprs)), ]\n",
    "  control.samples <- names(group[group == \"c\"])\n",
    "  disease.samples <- names(group[group == \"d\"])\n",
    "  exprs <- as.matrix(exprs)\n",
    "  # Calculate signal to noise\n",
    "  snr <- (rowMeans(exprs[, disease.samples]) -\n",
    "           rowMeans(exprs[, control.samples]))/(rowSds(exprs[, disease.samples]) +\n",
    "          rowSds(exprs[, control.samples]))\n",
    "  # Perform enrichment analysis\n",
    "  res <- suppressWarnings(fgsea(pathways = geneSet,\n",
    "               stats = snr,\n",
    "               nperm=perm))\n",
    "\n",
    "  res$pvals$sample.size <- ncol(exprs)\n",
    "  # Store results in a list\n",
    "  list(\n",
    "    id = names(allData)[iteration],\n",
    "    data = data,\n",
    "    res = res\n",
    "  )\n",
    "})\n",
    "# Assign names using dataset ID to the results\n",
    "names(allEnrichmentResult) <- names(allData)"
   ]
  },
  {
   "cell_type": "markdown",
   "id": "3b482aaf",
   "metadata": {},
   "source": [
    "We can view the enrichment analysis result for the first dataset using the following command. The result is saved in a data frame in which the first three columns contain pathway names, p-value, and adjusted p-value. The next column has the Enrichment Score calculated by walking down the ranked list of genes, and at each step, adding the running sum of the enrichment score for the gene set. The enrichment score is defined as the difference between the proportion of genes in the gene set that are up-regulated and the proportion of genes in the gene set that are down-regulated, multiplied by the degree of differential expression. The next column has the Normalized Enrichment Score (NES) that takes into account both the enrichment of the gene set and its size, and it is normalized to correct for the multiple hypothesis testing performed in the analysis.\n",
    "\n",
    "In the next column, the NES score is calculated as the maximum deviation of the enrichment score from the expected null distribution, divided by the standard deviation of the scores of all possible permutations of the gene set labels. nMoreExtreme is a statistical metric to estimate the significance of the enrichment score of a gene set in a ranked list of genes. The \"size\" column of a gene set is an important factor that can affect the interpretation of the enrichment analysis results. The \"leadingEdge\" column is a subset of genes within a gene set that contribute most to the enrichment signal of the gene set in a ranked list of genes."
   ]
  },
  {
   "cell_type": "code",
   "execution_count": 12,
   "id": "dc77ac2c",
   "metadata": {},
   "outputs": [
    {
     "data": {
      "text/html": [
       "<table class=\"dataframe\">\n",
       "<caption>A data.table: 10 × 9</caption>\n",
       "<thead>\n",
       "\t<tr><th scope=col>pathway</th><th scope=col>pval</th><th scope=col>padj</th><th scope=col>ES</th><th scope=col>NES</th><th scope=col>nMoreExtreme</th><th scope=col>size</th><th scope=col>leadingEdge</th><th scope=col>pvals</th></tr>\n",
       "\t<tr><th scope=col>&lt;chr&gt;</th><th scope=col>&lt;dbl&gt;</th><th scope=col>&lt;dbl&gt;</th><th scope=col>&lt;dbl&gt;</th><th scope=col>&lt;dbl&gt;</th><th scope=col>&lt;dbl&gt;</th><th scope=col>&lt;int&gt;</th><th scope=col>&lt;list&gt;</th><th scope=col>&lt;int&gt;</th></tr>\n",
       "</thead>\n",
       "<tbody>\n",
       "\t<tr><td>path:hsa00010</td><td>0.222672065</td><td>0.40823212</td><td>-0.2425178</td><td>-1.1564081</td><td>109</td><td>65</td><td>hsa:2597 , hsa:226  , hsa:5315 , hsa:92579, hsa:10327, hsa:7167 , hsa:3939 , hsa:2821 , hsa:5211 , hsa:3098 , hsa:5106 , hsa:5213 , hsa:5230 , hsa:8789 , hsa:2023 , hsa:2203 , hsa:2026 , hsa:219  , hsa:230  , hsa:55902, hsa:229  , hsa:2027 , hsa:5232 , hsa:26330, hsa:5236 , hsa:3101 , hsa:131  , hsa:218  , hsa:80201, hsa:124  , hsa:130  , hsa:83440, hsa:5160 , hsa:222  </td><td>100</td></tr>\n",
       "\t<tr><td>path:hsa00020</td><td>0.436647173</td><td>0.60511734</td><td>-0.2534974</td><td>-0.9983618</td><td>223</td><td>29</td><td>hsa:3421, hsa:47  , hsa:1431</td><td>100</td></tr>\n",
       "\t<tr><td>path:hsa00030</td><td>0.113899614</td><td>0.26175869</td><td>-0.3512174</td><td>-1.3953947</td><td> 58</td><td>30</td><td>hsa:2539  , hsa:226   , hsa:25796 , hsa:2821  , hsa:5211  , hsa:5213  , hsa:8277  , hsa:23729 , hsa:8789  , hsa:414328, hsa:2203  , hsa:230   , hsa:229   , hsa:7086  </td><td>100</td></tr>\n",
       "\t<tr><td>path:hsa00040</td><td>0.290448343</td><td>0.47552473</td><td>-0.2979671</td><td>-1.1269066</td><td>148</td><td>25</td><td>hsa:6652 , hsa:27294, hsa:10327, hsa:54576, hsa:54658, hsa:55277, hsa:54578, hsa:54659, hsa:9942 , hsa:54600, hsa:54490, hsa:57016</td><td>100</td></tr>\n",
       "\t<tr><td>path:hsa00051</td><td>0.007984032</td><td>0.04130728</td><td>-0.4214276</td><td>-1.7004662</td><td>  3</td><td>33</td><td>hsa:7264 , hsa:6652 , hsa:226  , hsa:5373 , hsa:7167 , hsa:29925, hsa:5211 , hsa:3098 , hsa:29926, hsa:5213 , hsa:5207 , hsa:5372 , hsa:3795 , hsa:8789 , hsa:55556, hsa:2203 , hsa:230  , hsa:229  , hsa:26007</td><td>100</td></tr>\n",
       "\t<tr><td>path:hsa00052</td><td>0.574218750</td><td>0.72969314</td><td>-0.2261545</td><td>-0.9043736</td><td>293</td><td>31</td><td>hsa:92579, hsa:5211 , hsa:3098 , hsa:2582 , hsa:2592 , hsa:5213 </td><td>100</td></tr>\n",
       "\t<tr><td>path:hsa00053</td><td>0.942574257</td><td>0.98401901</td><td>-0.1717049</td><td>-0.6207135</td><td>475</td><td>22</td><td>hsa:10327, hsa:54576, hsa:54658, hsa:54578, hsa:54659, hsa:219  , hsa:54600, hsa:54490</td><td>100</td></tr>\n",
       "\t<tr><td>path:hsa00061</td><td>0.589583333</td><td>0.74119048</td><td> 0.2761290</td><td> 0.9033157</td><td>282</td><td>17</td><td>hsa:32   , hsa:84869, hsa:2180 , hsa:23305, hsa:51703, hsa:2181 , hsa:23205</td><td>100</td></tr>\n",
       "\t<tr><td>path:hsa00062</td><td>0.086705202</td><td>0.21383061</td><td>-0.3731616</td><td>-1.4302969</td><td> 44</td><td>26</td><td>hsa:9524  , hsa:11332 , hsa:3033  , hsa:401494, hsa:117145, hsa:51495 , hsa:9200  , hsa:51144 , hsa:9374  , hsa:79071 , hsa:51102 , hsa:3030  </td><td>100</td></tr>\n",
       "\t<tr><td>path:hsa00071</td><td>0.048289738</td><td>0.14528195</td><td> 0.3348668</td><td> 1.4294068</td><td> 23</td><td>43</td><td>hsa:1375  , hsa:51    , hsa:2180  , hsa:34    , hsa:10449 , hsa:30    , hsa:217   , hsa:38    , hsa:3032  , hsa:224   , hsa:125   , hsa:23305 , hsa:51703 , hsa:1962  , hsa:36    , hsa:1376  , hsa:127   , hsa:2181  , hsa:10455 , hsa:113612, hsa:23205 , hsa:501   , hsa:223   </td><td>100</td></tr>\n",
       "</tbody>\n",
       "</table>\n"
      ],
      "text/latex": [
       "A data.table: 10 × 9\n",
       "\\begin{tabular}{lllllllll}\n",
       " pathway & pval & padj & ES & NES & nMoreExtreme & size & leadingEdge & pvals\\\\\n",
       " <chr> & <dbl> & <dbl> & <dbl> & <dbl> & <dbl> & <int> & <list> & <int>\\\\\n",
       "\\hline\n",
       "\t path:hsa00010 & 0.222672065 & 0.40823212 & -0.2425178 & -1.1564081 & 109 & 65 & hsa:2597 , hsa:226  , hsa:5315 , hsa:92579, hsa:10327, hsa:7167 , hsa:3939 , hsa:2821 , hsa:5211 , hsa:3098 , hsa:5106 , hsa:5213 , hsa:5230 , hsa:8789 , hsa:2023 , hsa:2203 , hsa:2026 , hsa:219  , hsa:230  , hsa:55902, hsa:229  , hsa:2027 , hsa:5232 , hsa:26330, hsa:5236 , hsa:3101 , hsa:131  , hsa:218  , hsa:80201, hsa:124  , hsa:130  , hsa:83440, hsa:5160 , hsa:222   & 100\\\\\n",
       "\t path:hsa00020 & 0.436647173 & 0.60511734 & -0.2534974 & -0.9983618 & 223 & 29 & hsa:3421, hsa:47  , hsa:1431 & 100\\\\\n",
       "\t path:hsa00030 & 0.113899614 & 0.26175869 & -0.3512174 & -1.3953947 &  58 & 30 & hsa:2539  , hsa:226   , hsa:25796 , hsa:2821  , hsa:5211  , hsa:5213  , hsa:8277  , hsa:23729 , hsa:8789  , hsa:414328, hsa:2203  , hsa:230   , hsa:229   , hsa:7086   & 100\\\\\n",
       "\t path:hsa00040 & 0.290448343 & 0.47552473 & -0.2979671 & -1.1269066 & 148 & 25 & hsa:6652 , hsa:27294, hsa:10327, hsa:54576, hsa:54658, hsa:55277, hsa:54578, hsa:54659, hsa:9942 , hsa:54600, hsa:54490, hsa:57016 & 100\\\\\n",
       "\t path:hsa00051 & 0.007984032 & 0.04130728 & -0.4214276 & -1.7004662 &   3 & 33 & hsa:7264 , hsa:6652 , hsa:226  , hsa:5373 , hsa:7167 , hsa:29925, hsa:5211 , hsa:3098 , hsa:29926, hsa:5213 , hsa:5207 , hsa:5372 , hsa:3795 , hsa:8789 , hsa:55556, hsa:2203 , hsa:230  , hsa:229  , hsa:26007 & 100\\\\\n",
       "\t path:hsa00052 & 0.574218750 & 0.72969314 & -0.2261545 & -0.9043736 & 293 & 31 & hsa:92579, hsa:5211 , hsa:3098 , hsa:2582 , hsa:2592 , hsa:5213  & 100\\\\\n",
       "\t path:hsa00053 & 0.942574257 & 0.98401901 & -0.1717049 & -0.6207135 & 475 & 22 & hsa:10327, hsa:54576, hsa:54658, hsa:54578, hsa:54659, hsa:219  , hsa:54600, hsa:54490 & 100\\\\\n",
       "\t path:hsa00061 & 0.589583333 & 0.74119048 &  0.2761290 &  0.9033157 & 282 & 17 & hsa:32   , hsa:84869, hsa:2180 , hsa:23305, hsa:51703, hsa:2181 , hsa:23205 & 100\\\\\n",
       "\t path:hsa00062 & 0.086705202 & 0.21383061 & -0.3731616 & -1.4302969 &  44 & 26 & hsa:9524  , hsa:11332 , hsa:3033  , hsa:401494, hsa:117145, hsa:51495 , hsa:9200  , hsa:51144 , hsa:9374  , hsa:79071 , hsa:51102 , hsa:3030   & 100\\\\\n",
       "\t path:hsa00071 & 0.048289738 & 0.14528195 &  0.3348668 &  1.4294068 &  23 & 43 & hsa:1375  , hsa:51    , hsa:2180  , hsa:34    , hsa:10449 , hsa:30    , hsa:217   , hsa:38    , hsa:3032  , hsa:224   , hsa:125   , hsa:23305 , hsa:51703 , hsa:1962  , hsa:36    , hsa:1376  , hsa:127   , hsa:2181  , hsa:10455 , hsa:113612, hsa:23205 , hsa:501   , hsa:223    & 100\\\\\n",
       "\\end{tabular}\n"
      ],
      "text/markdown": [
       "\n",
       "A data.table: 10 × 9\n",
       "\n",
       "| pathway &lt;chr&gt; | pval &lt;dbl&gt; | padj &lt;dbl&gt; | ES &lt;dbl&gt; | NES &lt;dbl&gt; | nMoreExtreme &lt;dbl&gt; | size &lt;int&gt; | leadingEdge &lt;list&gt; | pvals &lt;int&gt; |\n",
       "|---|---|---|---|---|---|---|---|---|\n",
       "| path:hsa00010 | 0.222672065 | 0.40823212 | -0.2425178 | -1.1564081 | 109 | 65 | hsa:2597 , hsa:226  , hsa:5315 , hsa:92579, hsa:10327, hsa:7167 , hsa:3939 , hsa:2821 , hsa:5211 , hsa:3098 , hsa:5106 , hsa:5213 , hsa:5230 , hsa:8789 , hsa:2023 , hsa:2203 , hsa:2026 , hsa:219  , hsa:230  , hsa:55902, hsa:229  , hsa:2027 , hsa:5232 , hsa:26330, hsa:5236 , hsa:3101 , hsa:131  , hsa:218  , hsa:80201, hsa:124  , hsa:130  , hsa:83440, hsa:5160 , hsa:222   | 100 |\n",
       "| path:hsa00020 | 0.436647173 | 0.60511734 | -0.2534974 | -0.9983618 | 223 | 29 | hsa:3421, hsa:47  , hsa:1431 | 100 |\n",
       "| path:hsa00030 | 0.113899614 | 0.26175869 | -0.3512174 | -1.3953947 |  58 | 30 | hsa:2539  , hsa:226   , hsa:25796 , hsa:2821  , hsa:5211  , hsa:5213  , hsa:8277  , hsa:23729 , hsa:8789  , hsa:414328, hsa:2203  , hsa:230   , hsa:229   , hsa:7086   | 100 |\n",
       "| path:hsa00040 | 0.290448343 | 0.47552473 | -0.2979671 | -1.1269066 | 148 | 25 | hsa:6652 , hsa:27294, hsa:10327, hsa:54576, hsa:54658, hsa:55277, hsa:54578, hsa:54659, hsa:9942 , hsa:54600, hsa:54490, hsa:57016 | 100 |\n",
       "| path:hsa00051 | 0.007984032 | 0.04130728 | -0.4214276 | -1.7004662 |   3 | 33 | hsa:7264 , hsa:6652 , hsa:226  , hsa:5373 , hsa:7167 , hsa:29925, hsa:5211 , hsa:3098 , hsa:29926, hsa:5213 , hsa:5207 , hsa:5372 , hsa:3795 , hsa:8789 , hsa:55556, hsa:2203 , hsa:230  , hsa:229  , hsa:26007 | 100 |\n",
       "| path:hsa00052 | 0.574218750 | 0.72969314 | -0.2261545 | -0.9043736 | 293 | 31 | hsa:92579, hsa:5211 , hsa:3098 , hsa:2582 , hsa:2592 , hsa:5213  | 100 |\n",
       "| path:hsa00053 | 0.942574257 | 0.98401901 | -0.1717049 | -0.6207135 | 475 | 22 | hsa:10327, hsa:54576, hsa:54658, hsa:54578, hsa:54659, hsa:219  , hsa:54600, hsa:54490 | 100 |\n",
       "| path:hsa00061 | 0.589583333 | 0.74119048 |  0.2761290 |  0.9033157 | 282 | 17 | hsa:32   , hsa:84869, hsa:2180 , hsa:23305, hsa:51703, hsa:2181 , hsa:23205 | 100 |\n",
       "| path:hsa00062 | 0.086705202 | 0.21383061 | -0.3731616 | -1.4302969 |  44 | 26 | hsa:9524  , hsa:11332 , hsa:3033  , hsa:401494, hsa:117145, hsa:51495 , hsa:9200  , hsa:51144 , hsa:9374  , hsa:79071 , hsa:51102 , hsa:3030   | 100 |\n",
       "| path:hsa00071 | 0.048289738 | 0.14528195 |  0.3348668 |  1.4294068 |  23 | 43 | hsa:1375  , hsa:51    , hsa:2180  , hsa:34    , hsa:10449 , hsa:30    , hsa:217   , hsa:38    , hsa:3032  , hsa:224   , hsa:125   , hsa:23305 , hsa:51703 , hsa:1962  , hsa:36    , hsa:1376  , hsa:127   , hsa:2181  , hsa:10455 , hsa:113612, hsa:23205 , hsa:501   , hsa:223    | 100 |\n",
       "\n"
      ],
      "text/plain": [
       "   pathway       pval        padj       ES         NES        nMoreExtreme size\n",
       "1  path:hsa00010 0.222672065 0.40823212 -0.2425178 -1.1564081 109          65  \n",
       "2  path:hsa00020 0.436647173 0.60511734 -0.2534974 -0.9983618 223          29  \n",
       "3  path:hsa00030 0.113899614 0.26175869 -0.3512174 -1.3953947  58          30  \n",
       "4  path:hsa00040 0.290448343 0.47552473 -0.2979671 -1.1269066 148          25  \n",
       "5  path:hsa00051 0.007984032 0.04130728 -0.4214276 -1.7004662   3          33  \n",
       "6  path:hsa00052 0.574218750 0.72969314 -0.2261545 -0.9043736 293          31  \n",
       "7  path:hsa00053 0.942574257 0.98401901 -0.1717049 -0.6207135 475          22  \n",
       "8  path:hsa00061 0.589583333 0.74119048  0.2761290  0.9033157 282          17  \n",
       "9  path:hsa00062 0.086705202 0.21383061 -0.3731616 -1.4302969  44          26  \n",
       "10 path:hsa00071 0.048289738 0.14528195  0.3348668  1.4294068  23          43  \n",
       "   leadingEdge                                                                                                                                                                                                                                                                                                                                                                         \n",
       "1  hsa:2597 , hsa:226  , hsa:5315 , hsa:92579, hsa:10327, hsa:7167 , hsa:3939 , hsa:2821 , hsa:5211 , hsa:3098 , hsa:5106 , hsa:5213 , hsa:5230 , hsa:8789 , hsa:2023 , hsa:2203 , hsa:2026 , hsa:219  , hsa:230  , hsa:55902, hsa:229  , hsa:2027 , hsa:5232 , hsa:26330, hsa:5236 , hsa:3101 , hsa:131  , hsa:218  , hsa:80201, hsa:124  , hsa:130  , hsa:83440, hsa:5160 , hsa:222  \n",
       "2  hsa:3421, hsa:47  , hsa:1431                                                                                                                                                                                                                                                                                                                                                        \n",
       "3  hsa:2539  , hsa:226   , hsa:25796 , hsa:2821  , hsa:5211  , hsa:5213  , hsa:8277  , hsa:23729 , hsa:8789  , hsa:414328, hsa:2203  , hsa:230   , hsa:229   , hsa:7086                                                                                                                                                                                                                \n",
       "4  hsa:6652 , hsa:27294, hsa:10327, hsa:54576, hsa:54658, hsa:55277, hsa:54578, hsa:54659, hsa:9942 , hsa:54600, hsa:54490, hsa:57016                                                                                                                                                                                                                                                  \n",
       "5  hsa:7264 , hsa:6652 , hsa:226  , hsa:5373 , hsa:7167 , hsa:29925, hsa:5211 , hsa:3098 , hsa:29926, hsa:5213 , hsa:5207 , hsa:5372 , hsa:3795 , hsa:8789 , hsa:55556, hsa:2203 , hsa:230  , hsa:229  , hsa:26007                                                                                                                                                                     \n",
       "6  hsa:92579, hsa:5211 , hsa:3098 , hsa:2582 , hsa:2592 , hsa:5213                                                                                                                                                                                                                                                                                                                     \n",
       "7  hsa:10327, hsa:54576, hsa:54658, hsa:54578, hsa:54659, hsa:219  , hsa:54600, hsa:54490                                                                                                                                                                                                                                                                                              \n",
       "8  hsa:32   , hsa:84869, hsa:2180 , hsa:23305, hsa:51703, hsa:2181 , hsa:23205                                                                                                                                                                                                                                                                                                         \n",
       "9  hsa:9524  , hsa:11332 , hsa:3033  , hsa:401494, hsa:117145, hsa:51495 , hsa:9200  , hsa:51144 , hsa:9374  , hsa:79071 , hsa:51102 , hsa:3030                                                                                                                                                                                                                                        \n",
       "10 hsa:1375  , hsa:51    , hsa:2180  , hsa:34    , hsa:10449 , hsa:30    , hsa:217   , hsa:38    , hsa:3032  , hsa:224   , hsa:125   , hsa:23305 , hsa:51703 , hsa:1962  , hsa:36    , hsa:1376  , hsa:127   , hsa:2181  , hsa:10455 , hsa:113612, hsa:23205 , hsa:501   , hsa:223                                                                                                     \n",
       "   pvals\n",
       "1  100  \n",
       "2  100  \n",
       "3  100  \n",
       "4  100  \n",
       "5  100  \n",
       "6  100  \n",
       "7  100  \n",
       "8  100  \n",
       "9  100  \n",
       "10 100  "
      ]
     },
     "metadata": {},
     "output_type": "display_data"
    }
   ],
   "source": [
    "allEnrichmentResult$`GSE5281-EC`$res[1:10,]"
   ]
  },
  {
   "cell_type": "markdown",
   "id": "fba82663",
   "metadata": {},
   "source": [
    "We can select the significant pathways and calculate the statistics of NES scores. The result is stored in a list which contains the name of datasets (IDs), results of enrichment analysis generated from the FGSEA method and statistics of NES score."
   ]
  },
  {
   "cell_type": "code",
   "execution_count": 66,
   "id": "b120457e",
   "metadata": {},
   "outputs": [],
   "source": [
    "# Apply a function to each element in allEnrichmentResult\n",
    "plots.enrichment.data <- allEnrichmentResult %>% lapply(function(data){\n",
    "\n",
    "  # Extract necessary data for plotting\n",
    "  plot.data <- data$res\n",
    "  rownames(plot.data) <- plot.data$pathway\n",
    "  plot.data$dataset <- data$id\n",
    "  \n",
    "  # Calculate standardized NES deviation (NES.sd) for better visualization\n",
    "  plot.data$NES.sd = abs((plot.data$NES - ifelse(plot.data$NES > 0, 1, -1))/qnorm(plot.data$pval))\n",
    "  # Limit the NES.sd values to a maximum of 0.5\n",
    "  sd <- plot.data$NES.sd\n",
    "  sd[sd > 0.5] <- 0.5\n",
    "  # Calculate minimum and maximum values for the plot\n",
    "  plot.data$min <- plot.data$NES - sd*2\n",
    "  plot.data$max <- plot.data$NES + sd*2\n",
    "  # Clip extreme values to ensure they are within reasonable limits\n",
    "  plot.data$min[plot.data$min < -2.5] <- -2.5\n",
    "  plot.data$max[plot.data$max > 2.5] <- 2.5\n",
    "  # Extract ES values for the corresponding gene set\n",
    "  ES.df <- as.data.frame(data$res$ES)\n",
    "  rownames(ES.df) <- names(geneSet)\n",
    "\n",
    "  # Return a list containing the dataset id, plotting data, and ES values\n",
    "  list(\n",
    "    id = data$id,\n",
    "    res = plot.data,\n",
    "    ES = ES.df\n",
    "  )\n",
    "})\n"
   ]
  },
  {
   "cell_type": "markdown",
   "id": "59d8d686",
   "metadata": {},
   "source": [
    "To view the summary of NES scores for the first ten pathways in the first dataset, we can use the following command:"
   ]
  },
  {
   "cell_type": "code",
   "execution_count": 67,
   "id": "cc6e6f63",
   "metadata": {
    "collapsed": false,
    "jupyter": {
     "outputs_hidden": false
    }
   },
   "outputs": [
    {
     "data": {
      "text/html": [
       "<table class=\"dataframe\">\n",
       "<caption>A data.table: 10 × 4</caption>\n",
       "<thead>\n",
       "\t<tr><th scope=col>pathway</th><th scope=col>NES.sd</th><th scope=col>min</th><th scope=col>max</th></tr>\n",
       "\t<tr><th scope=col>&lt;chr&gt;</th><th scope=col>&lt;dbl&gt;</th><th scope=col>&lt;dbl&gt;</th><th scope=col>&lt;dbl&gt;</th></tr>\n",
       "</thead>\n",
       "<tbody>\n",
       "\t<tr><td>path:hsa00010</td><td>0.20493724</td><td>-1.56628259</td><td>-0.74653362</td></tr>\n",
       "\t<tr><td>path:hsa00020</td><td>0.01027267</td><td>-1.01890711</td><td>-0.97781641</td></tr>\n",
       "\t<tr><td>path:hsa00030</td><td>0.32784345</td><td>-2.05108163</td><td>-0.73970783</td></tr>\n",
       "\t<tr><td>path:hsa00040</td><td>0.22987189</td><td>-1.58665041</td><td>-0.66716284</td></tr>\n",
       "\t<tr><td>path:hsa00051</td><td>0.29069272</td><td>-2.28185160</td><td>-1.11908072</td></tr>\n",
       "\t<tr><td>path:hsa00052</td><td>0.51102893</td><td>-1.90437363</td><td> 0.09562637</td></tr>\n",
       "\t<tr><td>path:hsa00053</td><td>0.24054852</td><td>-1.10181051</td><td>-0.13961644</td></tr>\n",
       "\t<tr><td>path:hsa00061</td><td>0.42691250</td><td> 0.04949071</td><td> 1.75714073</td></tr>\n",
       "\t<tr><td>path:hsa00062</td><td>0.31608642</td><td>-2.06246979</td><td>-0.79812411</td></tr>\n",
       "\t<tr><td>path:hsa00071</td><td>0.25841922</td><td> 0.91256836</td><td> 1.94624522</td></tr>\n",
       "</tbody>\n",
       "</table>\n"
      ],
      "text/latex": [
       "A data.table: 10 × 4\n",
       "\\begin{tabular}{llll}\n",
       " pathway & NES.sd & min & max\\\\\n",
       " <chr> & <dbl> & <dbl> & <dbl>\\\\\n",
       "\\hline\n",
       "\t path:hsa00010 & 0.20493724 & -1.56628259 & -0.74653362\\\\\n",
       "\t path:hsa00020 & 0.01027267 & -1.01890711 & -0.97781641\\\\\n",
       "\t path:hsa00030 & 0.32784345 & -2.05108163 & -0.73970783\\\\\n",
       "\t path:hsa00040 & 0.22987189 & -1.58665041 & -0.66716284\\\\\n",
       "\t path:hsa00051 & 0.29069272 & -2.28185160 & -1.11908072\\\\\n",
       "\t path:hsa00052 & 0.51102893 & -1.90437363 &  0.09562637\\\\\n",
       "\t path:hsa00053 & 0.24054852 & -1.10181051 & -0.13961644\\\\\n",
       "\t path:hsa00061 & 0.42691250 &  0.04949071 &  1.75714073\\\\\n",
       "\t path:hsa00062 & 0.31608642 & -2.06246979 & -0.79812411\\\\\n",
       "\t path:hsa00071 & 0.25841922 &  0.91256836 &  1.94624522\\\\\n",
       "\\end{tabular}\n"
      ],
      "text/markdown": [
       "\n",
       "A data.table: 10 × 4\n",
       "\n",
       "| pathway &lt;chr&gt; | NES.sd &lt;dbl&gt; | min &lt;dbl&gt; | max &lt;dbl&gt; |\n",
       "|---|---|---|---|\n",
       "| path:hsa00010 | 0.20493724 | -1.56628259 | -0.74653362 |\n",
       "| path:hsa00020 | 0.01027267 | -1.01890711 | -0.97781641 |\n",
       "| path:hsa00030 | 0.32784345 | -2.05108163 | -0.73970783 |\n",
       "| path:hsa00040 | 0.22987189 | -1.58665041 | -0.66716284 |\n",
       "| path:hsa00051 | 0.29069272 | -2.28185160 | -1.11908072 |\n",
       "| path:hsa00052 | 0.51102893 | -1.90437363 |  0.09562637 |\n",
       "| path:hsa00053 | 0.24054852 | -1.10181051 | -0.13961644 |\n",
       "| path:hsa00061 | 0.42691250 |  0.04949071 |  1.75714073 |\n",
       "| path:hsa00062 | 0.31608642 | -2.06246979 | -0.79812411 |\n",
       "| path:hsa00071 | 0.25841922 |  0.91256836 |  1.94624522 |\n",
       "\n"
      ],
      "text/plain": [
       "   pathway       NES.sd     min         max        \n",
       "1  path:hsa00010 0.20493724 -1.56628259 -0.74653362\n",
       "2  path:hsa00020 0.01027267 -1.01890711 -0.97781641\n",
       "3  path:hsa00030 0.32784345 -2.05108163 -0.73970783\n",
       "4  path:hsa00040 0.22987189 -1.58665041 -0.66716284\n",
       "5  path:hsa00051 0.29069272 -2.28185160 -1.11908072\n",
       "6  path:hsa00052 0.51102893 -1.90437363  0.09562637\n",
       "7  path:hsa00053 0.24054852 -1.10181051 -0.13961644\n",
       "8  path:hsa00061 0.42691250  0.04949071  1.75714073\n",
       "9  path:hsa00062 0.31608642 -2.06246979 -0.79812411\n",
       "10 path:hsa00071 0.25841922  0.91256836  1.94624522"
      ]
     },
     "metadata": {},
     "output_type": "display_data"
    }
   ],
   "source": [
    "plots.enrichment.data$`GSE5281-EC`$res[1:10,c(1,11:13)]"
   ]
  },
  {
   "cell_type": "markdown",
   "id": "704a62e4-7498-4ad4-b089-c63de1f2f6c2",
   "metadata": {},
   "source": [
    "Next we can use `ggplot` library to visualize the NES scores of each pathway across all datasets.\n",
    "\n",
    "Used **arguments** of the `ggplot` function:\n",
    "- `data` (*data.frame*): Default dataset to use for plot. If not already a *data.frame*, will be converted to one by `fortify()`. If not specified, must be supplied in each layer added to the plot.\n",
    "- `mapping` (*list*): Default list of aesthetic mappings to use for plot. If not specified, must be supplied in each layer added to the plot."
   ]
  },
  {
   "cell_type": "code",
   "execution_count": 75,
   "id": "cea63877",
   "metadata": {},
   "outputs": [],
   "source": [
    "# We will pick ten pathways for visualization\n",
    "picked.pathways.names <- names(geneSet)[1:10]\n",
    "\n",
    "# This is the main script to plot the enrichment score for each pathway.\n",
    "# The script will generate the plot for each dataset and store in a list\n",
    "plts <- plots.enrichment.data %>% lapply(function(data){\n",
    "  # Set the title of each plot by the dataset name\n",
    "  name_plot <- data$id\n",
    "  # Get the data for plotting\n",
    "  plot.data <- data$res \n",
    "  # Filter the data for the selected pathways\n",
    "  plot.data <- plot.data %>%\n",
    "    filter(pathway %in% picked.pathways.names)\n",
    "  # Plot the pathway score for each dataset\n",
    "  ggplot(data = plot.data, mapping = aes(y = pathway, x = NES, xmin = min, xmax = max)) +  theme_minimal() +\n",
    "    geom_vline(xintercept = c(-1,1), colour=\"#FA8072\", linetype = \"longdash\") +\n",
    "    geom_vline(xintercept = c(0), colour=\"black\", linetype = \"longdash\") +\n",
    "    geom_errorbarh(height=.1) + theme_bw() +\n",
    "    geom_point(size = 1, color = \"red\") +\n",
    "    theme(axis.title.y = element_blank(),\n",
    "          axis.text.y = element_blank(),\n",
    "          axis.ticks.y = element_blank(),\n",
    "          plot.margin = unit(c(5,5,5,5), \"pt\"),\n",
    "          panel.grid.major = element_blank(),\n",
    "          panel.grid.minor = element_blank(),\n",
    "          plot.title = element_text(hjust = 0.5, face = \"bold\", size = 12),\n",
    "          axis.text.x = element_text(face = \"bold\", size = 12),\n",
    "          axis.title.x = element_text(face = \"bold\", size = 12)) +\n",
    "    labs(x = \"NES\", title = name_plot) + \n",
    "    xlim(-2.5, 2.5)\n",
    "})\n"
   ]
  },
  {
   "cell_type": "markdown",
   "id": "43ea7ecc",
   "metadata": {},
   "source": [
    "After running the above script, we will get a list that contains the plots of five datasets. Now we can arrange the plots in one row using the `gridExtra` function available in the `cowplot` package."
   ]
  },
  {
   "cell_type": "code",
   "execution_count": 76,
   "id": "ac1ba2ff",
   "metadata": {
    "collapsed": false,
    "jupyter": {
     "outputs_hidden": false
    }
   },
   "outputs": [
    {
     "data": {
      "image/png": "[encoded data removed]",
      "text/plain": [
       "plot without title"
      ]
     },
     "metadata": {
      "image/png": {
       "height": 420,
       "width": 420
      }
     },
     "output_type": "display_data"
    }
   ],
   "source": [
    "gridExtra::grid.arrange(grobs = c(\n",
    "  list(\n",
    "    ggplot(plts[[1]]$data, aes(y = pathway, x = \"\")) +\n",
    "            labs(y = \"Pathway\", title = \"\", x = \"\") +\n",
    "            theme_minimal() +\n",
    "      theme(panel.grid.major.x = element_blank(),\n",
    "            plot.margin = unit(c(2,0,2,5), \"pt\"),\n",
    "            axis.text = element_text(face = \"bold\", size = 12),\n",
    "            axis.title.y = element_text(face = \"bold\", size = 12))\n",
    "  ),\n",
    "  plts\n",
    "), nrow = 1, widths = c(1, rep(1, length(plts))))"
   ]
  },
  {
   "cell_type": "markdown",
   "id": "a092a6a2",
   "metadata": {},
   "source": [
    "The previous plot only shows the pathway score for each dataset. It does not provide us the overview for each disease. Therefore, we can plot the overlay of enrichment plots for all datasets with the same disease (group) using the following script."
   ]
  },
  {
   "cell_type": "code",
   "execution_count": 77,
   "id": "23b4daea",
   "metadata": {},
   "outputs": [],
   "source": [
    "# Get the list of datasets that belong to one certain disease\n",
    "groups <- list(\n",
    "  \"ALZHEIMER\" = c(\"GSE5281-EC\", \"GSE5281-HIP\", \"GSE5281-MTG\"),\n",
    "  \"PARKINSON\" = c(\"GSE99039\", \"GSE20292\")\n",
    ")\n",
    "\n",
    "# Combine the data\n",
    "allCombinedData <- lapply(plots.enrichment.data, function(data) data$res)\n",
    "allCombinedData <- as.data.frame(do.call(rbind, allCombinedData))\n",
    "allCombinedData$disease <- \"NA\"\n",
    "# Get the combined data for each group of disease\n",
    "for (cat in names(groups)){\n",
    "  allCombinedData$disease[allCombinedData$dataset %in% groups[[cat]]]  <- cat\n",
    "}\n",
    "\n",
    "allCombinedData <- allCombinedData %>% filter(pathway %in% picked.pathways.names)\n",
    "\n",
    "# Plot the boxplot for each pathway using the combined data, the plot for\n",
    "# each disease will be stored in a list. Here, we want to plot the NES scores for\n",
    "# two diseases. Therefore, the result list will have two elements.\n",
    "\n",
    "plts <- allCombinedData %>% group_by(disease) %>% group_split() %>% lapply(function(data){\n",
    "  data$pathway <- factor(data$pathway,\n",
    "                         levels = picked.pathways.names[length(picked.pathways.names):1])\n",
    "\n",
    "  ggplot(data = data, mapping = aes(x=NES, y=pathway, group=dataset, col=dataset, fill=dataset)) +\n",
    "    theme_minimal() +\n",
    "    geom_point(position = position_dodge(0.7)) +\n",
    "    geom_rect(\n",
    "      aes(\n",
    "        xmin=-Inf, xmax=Inf, ymin=as.numeric(pathway)-0.5, ymax=as.numeric(pathway)+0.5\n",
    "      ),\n",
    "      fill = ifelse((as.numeric(data$pathway)%%2 == 0), \"white\", \"#eeeeee\"),\n",
    "      color = \"white\"\n",
    "    ) +\n",
    "    geom_point(position = position_dodge(0.7)) +\n",
    "    geom_vline(xintercept = c(-1,1), colour=\"#FA8072\", linetype = \"longdash\") +\n",
    "    geom_vline(xintercept = c(0), colour=\"grey\", linetype = \"solid\") +\n",
    "    geom_errorbarh(height=.3, aes(xmin = min, xmax = max), position = position_dodge(0.7)) +\n",
    "          theme_bw() +\n",
    "    xlim(-2.5, 2.5) +\n",
    "    theme(axis.title.y=element_blank(),\n",
    "          axis.text.y=element_blank(),\n",
    "          axis.ticks.y=element_blank(),\n",
    "          plot.margin = unit(c(5,5,5,5), \"pt\"),\n",
    "          panel.grid.major = element_blank(),\n",
    "          panel.grid.minor = element_blank(),\n",
    "          plot.title = element_text(hjust = 0.5, face = \"bold\", size = 12),\n",
    "          axis.text.x = element_text(face = \"bold\", size = 12),\n",
    "          axis.title.x = element_text(face = \"bold\", size = 12),\n",
    "          legend.position=\"top\",\n",
    "          legend.title = element_blank(),\n",
    "          legend.text = element_text(face = \"bold\", size = 10)) +\n",
    "    guides(color=guide_legend(ncol=1)) +\n",
    "    labs(title = data$disease[1])\n",
    "})\n",
    "\n",
    "plotsAllLegends <- list()\n",
    "plotsAllTitles <- list()\n",
    "\n",
    "for(j in 1:length(plts)){\n",
    "  p <- plts[[j]]\n",
    "  legendP <- get_legend(p)\n",
    "  titleP <- get_title(p)\n",
    "\n",
    "  plotsAllLegends[[j]] <- legendP\n",
    "  plotsAllTitles[[j]] <- titleP\n",
    "}\n",
    "\n",
    "\n",
    "plotsWithoutLegend <- lapply(plts, function(plt){\n",
    "  plt <- plt + theme(legend.position = \"none\",\n",
    "                     title = element_blank(),\n",
    "                     plot.title = element_blank())\n",
    "})\n",
    "\n",
    "gs_titles <- lapply(plotsAllTitles, function(p)\n",
    "  as_ggplot(p) + theme(\n",
    "    legend.margin=margin(c(0,0,0,0))))\n",
    "\n",
    "gs_legends <- lapply(plotsAllLegends, function(p)\n",
    "  as_ggplot(p) + theme(\n",
    "    legend.margin=margin(c(0,0,0,0))))\n",
    "\n",
    "listAll <- c(gs_titles, gs_legends, c(\n",
    "  list(\n",
    "    ggplot(plts[[1]]$data, aes(y = pathway, x = \"\")) +\n",
    "            labs(y = \"Pathway\", title = \"\", x = \"\") + theme_minimal() +\n",
    "      theme(panel.grid.major.x = element_blank(),\n",
    "            plot.margin = unit(c(2,0,2,5), \"pt\"),\n",
    "            axis.text = element_text(face = \"bold\", size = 12),\n",
    "            axis.title.y = element_text(face = \"bold\", size = 12))\n",
    "  ),\n",
    "  plotsWithoutLegend\n",
    "))"
   ]
  },
  {
   "cell_type": "markdown",
   "id": "5fea1867",
   "metadata": {},
   "source": [
    "After getting the plot for each disease, we can arrange the plots in one row using the `gridExtra` function available in the `cowplot` package."
   ]
  },
  {
   "cell_type": "code",
   "execution_count": 78,
   "id": "cb3a681a",
   "metadata": {
    "collapsed": false,
    "jupyter": {
     "outputs_hidden": false
    }
   },
   "outputs": [
    {
     "data": {
      "image/png": "[encoded data removed]",
      "text/plain": [
       "plot without title"
      ]
     },
     "metadata": {
      "image/png": {
       "height": 420,
       "width": 420
      }
     },
     "output_type": "display_data"
    }
   ],
   "source": [
    "gridExtra::grid.arrange(\n",
    "  grobs = listAll,\n",
    "  widths = c(5, rep(8,2)),\n",
    "  heights = c(0.4, 1.1, 8),\n",
    "  layout_matrix = rbind(c(NA, rep(1:2)),\n",
    "                        c(NA, rep(3:4)),\n",
    "                        c(rep(5:7)))\n",
    ")"
   ]
  },
  {
   "cell_type": "markdown",
   "id": "5322a209",
   "metadata": {},
   "source": [
    "From the figure above, we see that the same pathway in different datasets has different enrichment scores. The score might be significant in one dataset but it is not significant in other datasets. Therefore, it is necessary to perform meta-analysis to increase the statistical power of each pathway."
   ]
  },
  {
   "cell_type": "markdown",
   "id": "d1762f83",
   "metadata": {},
   "source": [
    "## Meta-Analysis\n",
    "In this section, we will perform a generic inverse variance meta-analysis using `metagen` function available in the `meta` package. `metagen` is a statistical method used in meta-analysis to combine the results of multiple studies that have measured the same effect size, typically using different sample sizes and study designs. This method involves pooling the effect sizes from each study, weighted by the inverse of their variance, in order to obtain an overall estimate of the effect size and its confidence interval.\n",
    "\n",
    "The basic idea behind the generic inverse variance meta-analysis is that studies with larger sample sizes, which tend to have smaller variance, should be given more weight in the meta-analysis than studies with smaller sample sizes, which tend to have larger variance. This is achieved by weighting each study's effect size estimate by the inverse of its variance, which is a measure of the precision of the estimate.\n",
    "\n",
    "The generic inverse variance meta-analysis is often used in meta-analyses of randomized controlled trials or observational studies, where the effect size is typically reported as a mean difference or a standardized mean difference between two groups, or as a hazard ratio or odds ratio for a binary outcome. This method assumes that the effect size estimates from each study are independent and normally distributed around the true effect size, and that there is no systematic bias or heterogeneity in the effect size estimates across studies."
   ]
  },
  {
   "cell_type": "markdown",
   "id": "55416c2b-94fd-4f50-a0d3-8a7e0f58c591",
   "metadata": {},
   "source": [
    "Used **arguments** of the `metagen` function:\n",
    "- `TE` (*numeric vector*): Estimate of treatment effect, e.g., log hazard ratio or risk difference.\n",
    "- `seTE` (*numeric vector*): Standard error of treatment estimate.\n",
    "- `studlab` (*vector*): An optional vector with study labels.\n",
    "- `data` (*data.frame*): An optional data frame containing the study information.\n",
    "- `sm` (*character*): A character string indicating underlying summary measure, e.g., \"RD\", \"RR\", \"OR\", \"ASD\", \"HR\", \"MD\", \"SMD\", or \"ROM\".\n",
    "- `n.e` (*integer*): Number of observations in experimental group.\n",
    "- `method.tau` (*character*): A character string indicating which method is used to estimate the between-study variance. Either \"DL\", \"PM\", \"REML\", \"ML\", \"HS\", \"SJ\", \"HE\", or \"EB\", can be abbreviated.\n",
    "- `hakn` (*boolean*): A logical indicating whether method by Hartung and Knapp should be used to adjust test statistics and confidence intervals."
   ]
  },
  {
   "cell_type": "code",
   "execution_count": 79,
   "id": "be40d873",
   "metadata": {},
   "outputs": [],
   "source": [
    "# Get combined data from the individual datasets in plots.enrichment.data\n",
    "allCombinedData <- lapply(plots.enrichment.data, function(data) data$res)\n",
    "allCombinedData <- as.data.frame(do.call(rbind, allCombinedData))\n",
    "allCombinedData$disease <- \"NA\"\n",
    "\n",
    "# Assign diseases to the combined data based on dataset grouping\n",
    "for (cat in names(groups)){\n",
    "  allCombinedData$disease[allCombinedData$dataset %in% groups[[cat]]] <- cat\n",
    "}\n",
    "\n",
    "# Performing meta-analysis on groups of datasets with the same disease\n",
    "metaESRes <- allCombinedData %>%\n",
    "  group_by(disease, pathway) %>%\n",
    "  group_split() %>%\n",
    "  lapply(function(data){\n",
    "\n",
    "    # Drop rows with missing data\n",
    "    data <- drop_na(data)\n",
    "\n",
    "    # Perform meta-analysis using the metagen function\n",
    "    res <- suppressWarnings(meta::metagen(\n",
    "      data = data,\n",
    "      studlab = pathway,\n",
    "      TE = NES,\n",
    "      seTE = NES.sd,\n",
    "      sm = \"SMD\",\n",
    "      n.e = NULL,\n",
    "      #n.e = sample.size,\n",
    "      method.tau = \"REML\",\n",
    "      hakn = TRUE\n",
    "    ))\n",
    "\n",
    "    # Extract combined NES and related information\n",
    "    NES.combined <- res$TE.fixed\n",
    "    NES.combined.sd <- res$seTE.fixed\n",
    "\n",
    "    # Calculate p-value\n",
    "    pval <- pnorm((ifelse(NES.combined > 0, 1, -1) - NES.combined)/NES.combined.sd)\n",
    "    if (NES.combined < 0) pval <- 1 - pval\n",
    "\n",
    "    # Create a data frame with meta-analysis results\n",
    "    data.frame(\n",
    "      disease = data$disease[1],\n",
    "      pathway = data$pathway[1],\n",
    "      NES.combined = NES.combined,\n",
    "      NES.combined.sd = NES.combined.sd,\n",
    "      pval.combined = pval,\n",
    "      count = nrow(data),\n",
    "      stringsAsFactors = FALSE\n",
    "    )\n",
    "  }) %>%\n",
    "  do.call(what = rbind) %>%\n",
    "  as.data.frame()\n"
   ]
  },
  {
   "cell_type": "markdown",
   "id": "cc21d85d",
   "metadata": {},
   "source": [
    "After performing a meta-analysis, we can calculate the adjusted p-value meta enrichment scores. We will use the function `p.adjust` to calculate adjusted P-values for multiple comparisons. The result is saved into a data frame.\n",
    "\n",
    "Used **arguments** of the `p.adjust` function:\n",
    "- `p` (*numeric vector*): Numeric vector of p-values (possibly with NAs). Any other R object is coerced by as.numeric.\n",
    "- `method` (*character*): Correction method, can be one of these: \"holm\", \"hochberg\", \"hommel\", \"bonferroni\", \"BH\", \"BY\",  \"fdr\", \"none\"."
   ]
  },
  {
   "cell_type": "code",
   "execution_count": 80,
   "id": "2e5c562b",
   "metadata": {
    "collapsed": false,
    "jupyter": {
     "outputs_hidden": false
    }
   },
   "outputs": [],
   "source": [
    "# Computing adjusted meta p-values\n",
    "metaESRes <- metaESRes %>%\n",
    "         group_by(disease) %>%\n",
    "        group_split() %>%\n",
    "        lapply(function(r){\n",
    "  r$p.fdr <- p.adjust(p = r$pval.combined, method = \"fdr\")\n",
    "  r\n",
    "}) %>% do.call(what = rbind)"
   ]
  },
  {
   "cell_type": "markdown",
   "id": "3a142bce",
   "metadata": {},
   "source": [
    "We can plot meta analysis result using the script that we have developed previously."
   ]
  },
  {
   "cell_type": "code",
   "execution_count": 81,
   "id": "2c00e117",
   "metadata": {},
   "outputs": [
    {
     "data": {
      "image/png": "[encoded data removed]",
      "text/plain": [
       "plot without title"
      ]
     },
     "metadata": {
      "image/png": {
       "height": 420,
       "width": 420
      }
     },
     "output_type": "display_data"
    }
   ],
   "source": [
    "plts <- metaESRes %>% group_by(disease) %>% group_split() %>% lapply(function(plotDat){\n",
    "  plotDat <- data.frame(plotDat)\n",
    "  rownames(plotDat) <- plotDat$pathway\n",
    "  plotDat <- plotDat[picked.pathways.names, ]\n",
    "  plotDat$pathway <- factor(plotDat$pathway,\n",
    "                            levels = picked.pathways.names[length(picked.pathways.names):1])\n",
    "\n",
    "  sd <- plotDat$NES.combined.sd\n",
    "  sd[sd > 0.5] <- 0.5\n",
    "\n",
    "  plotDat$min <- plotDat$NES.combined - sd*2\n",
    "  plotDat$max <- plotDat$NES.combined + sd*2\n",
    "\n",
    "  plotDat$min[plotDat$min < -2.5] <- -2.5\n",
    "  plotDat$max[plotDat$max > 2.5] <- 2.5\n",
    "\n",
    "  ggplot(plotDat, aes(y = pathway, x = NES.combined, xmin=min, xmax = max)) +\n",
    "          theme_minimal() +\n",
    "    geom_vline(xintercept = c(-1,1), colour=\"#FA8072\", linetype = \"longdash\") +\n",
    "    geom_vline(xintercept = c(0), colour=\"black\", linetype = \"longdash\") +\n",
    "    geom_errorbarh(height=.1) + theme_bw() +\n",
    "    geom_point(size = 1, color = \"red\") +\n",
    "    theme(axis.title.y=element_blank(),\n",
    "          axis.text.y=element_blank(),\n",
    "          axis.ticks.y=element_blank(),\n",
    "          plot.margin = unit(c(5,5,5,5), \"pt\"),\n",
    "          panel.grid.major = element_blank(),\n",
    "          panel.grid.minor = element_blank(),\n",
    "          plot.title = element_text(hjust = 0.5, face = \"bold\", size = 12),\n",
    "          axis.text.x = element_text(face = \"bold\", size = 12),\n",
    "          axis.title.x = element_text(face = \"bold\", size = 12)) +\n",
    "    labs(x = \"NES\", title = paste0(plotDat$disease[1], \" (\",plotDat$count[1],\")\")) +\n",
    "    xlim(-2.5, 2.5)\n",
    "})\n",
    "\n",
    "gridExtra::grid.arrange(grobs = c(\n",
    "  list(\n",
    "    ggplot(plts[[1]]$data, aes(y = pathway, x = \"\")) +\n",
    "            labs(y = \"Pathway\", title = \"\", x = \"\") +\n",
    "            theme_minimal() +\n",
    "      theme(panel.grid.major.x = element_blank(),\n",
    "            plot.margin = unit(c(2,0,2,5), \"pt\"),\n",
    "            axis.text = element_text(face = \"bold\",\n",
    "                                     size = 12),\n",
    "            axis.title.y = element_text(face = \"bold\", size = 12))\n",
    "  ),\n",
    "  plts\n",
    "), nrow = 1, widths = c(0.6, rep(1, length(plts))))\n"
   ]
  },
  {
   "cell_type": "markdown",
   "id": "3995ad4a",
   "metadata": {},
   "source": [
    "From the above figure, we see that the enrichment scores produced from a meta-analysis using multiple datasets are more significant compared with the ones calculated from a single dataset.\n"
   ]
  },
  {
   "cell_type": "markdown",
   "id": "6689ec42-f456-442b-a48f-44fc34c98dc7",
   "metadata": {},
   "source": [
    "# Conclusion"
   ]
  },
  {
   "cell_type": "markdown",
   "id": "25ae2dee-4300-4789-a096-f9ae008ada4e",
   "metadata": {},
   "source": [
    " In this course, we have successfully completed pathway analysis using omics data in five submodules that cover different aspects of bioinformatics analysis. The first submodule, Data Processing, introduces the fundamental concepts of preprocessing and quality control of microarray data obtained from Gene Expression Omnibus. The second submodule, Differential Expression Analysis, focuses on how to analyze gene expression data to identify genes that are differentially expressed between two or more conditions. The third submodule, Gene Set and Pathway shows us how to use different R libraries to obtain pathways and GO terms with associated gene lists. The fourth submodule, Enrichment Analysis, focuses on the identification of enriched biological pathways or functional categories within a set of genes of interest. Finally, the fifth submodule, Meta Analysis, covers the techniques of meta-analysis which is a statistical approach to combine the results of multiple independent studies. Overall, the cloud learning module provides a comprehensive and practical guide for researchers to analyze and interpret their genomic data using various bioinformatics tools and techniques."
   ]
  },
  {
   "cell_type": "code",
   "execution_count": null,
   "id": "87e833c8-b97d-4bc6-a0db-65047e2bb295",
   "metadata": {},
   "outputs": [],
   "source": [
    "sessionInfo()"
   ]
  },
  {
   "cell_type": "code",
   "execution_count": null,
   "id": "042ae4f4-07c2-4393-aa18-7074b1c7f539",
   "metadata": {},
   "outputs": [],
   "source": []
  }
 ],
 "metadata": {
  "celltoolbar": "Tags",
  "environment": {
   "kernel": "ir",
   "name": "r-cpu.4-2.m107",
   "type": "gcloud",
   "uri": "gcr.io/deeplearning-platform-release/r-cpu.4-2:m107"
  },
  "kernelspec": {
   "display_name": "R",
   "language": "R",
   "name": "ir"
  },
  "language_info": {
   "codemirror_mode": "r",
   "file_extension": ".r",
   "mimetype": "text/x-r-source",
   "name": "R",
   "pygments_lexer": "r",
   "version": "4.3.2"
  },
  "toc-showcode": true,
  "widgets": {
   "application/vnd.jupyter.widget-state+json": {
    "state": {},
    "version_major": 2,
    "version_minor": 0
   }
  }
 },
 "nbformat": 4,
 "nbformat_minor": 5
}
