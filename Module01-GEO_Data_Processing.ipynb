{
 "cells": [
  {
   "cell_type": "markdown",
   "id": "68e3537d",
   "metadata": {},
   "source": [
    " # GEO Data Processing\n",
    "\n",
    "![](./images/Module1/Data_Processing.jpg)\n",
    "\n",
    "## Learning Objectives:\n",
    "1. Understand the type of data that is accessible from GEO.\n",
    "2. Demonstrate how to navigate the GEO website, search for datasets using accession number, and select samples.\n",
    "3. Use command-line to download data from GEO.\n",
    "4. Perform data pre-processing, normalization, loading and saving the expression matrix."
   ]
  },
  {
   "cell_type": "markdown",
   "id": "5ae77e2e",
   "metadata": {},
   "source": [
    "## Accessing Public GEO Sequencing Data\n",
    "The Gene Expression Omnibus (GEO) is a public repository that archives and freely distributes comprehensive sets of microarray, next-generation sequencing, and other forms of high-throughput functional genomic data submitted by the scientific community. In addition to data storage, the website provides set of web-based tools and applications to help users query and download the studies and gene expression patterns stored in GEO.\n",
    "### Searching and accessing data on GEO\n",
    "Searching for GEO is relatively straight forward. First, users need to navigate to\n",
    "<a href=\"https://www.ncbi.nlm.nih.gov/geo/\"> https://www.ncbi.nlm.nih.gov/geo/</a>.\n",
    "There are multiple ways to search datasets but the simplest way is to provide the accession number in the search box. We will use an example dataset with the accession number\n",
    "<a href=\"https://www.ncbi.nlm.nih.gov/geo/query/acc.cgi?acc=GSE48350\">GSE48350</a> for demonstration.\n",
    "The GEO website interface with searching procedure of the example dataset is shown in the figure below:\n",
    "![](./images/Module1/GEO_Website.png)\n",
    "\n",
    "When the searching process is done, a webpage with detailed record of the example dataset such as published date, title, organism, experiment type, dataset summary etc. will be shown in the figure below:\n",
    "\n",
    "![](./images/Module1/GEO_Dataset_Page.png)\n",
    "\n",
    "We can see that the dataset GSE48350 was published in Apr 21, 2014 which focuses on Human Alzheimer's\n",
    "Disease using microarray sequencing technology. Samples were primary collected from 4 brain regions:\n",
    "hippocampus (HC), entorhinal cortex (EC), superior frontal cortex (SCG), post-central gyrus (PCG) of normal and disease patients."
   ]
  },
  {
   "cell_type": "markdown",
   "id": "61e0d237-cf6a-465c-93f8-d9bbc6d93a6d",
   "metadata": {},
   "source": [
    "To display the quiz in all the learning sub-modules, it is necessary to have `IRdisplay` package pre-installed.\n",
    "This package allow quizzes written in `html` format to show up in the notebook. Users can install the `IRdisplay` using the following command:\n",
    "```\n",
    "suppressWarnings(if (!require(\"IRdisplay\")) install.packages(\"IRdisplay\"))\n",
    "suppressWarnings(library(IRdisplay))\n",
    "```\n"
   ]
  },
  {
   "cell_type": "code",
   "execution_count": null,
   "id": "02d33273-5c2e-42fb-85f7-1b2943631f5a",
   "metadata": {},
   "outputs": [],
   "source": [
    "#Run the following command to take the quiz\n",
    "IRdisplay::display_html('<iframe src=\"./Quizzes/Quiz_Submodule1.html\" width=100% height=250></iframe>')"
   ]
  },
  {
   "cell_type": "markdown",
   "id": "ec25fd7e",
   "metadata": {
    "tags": []
   },
   "source": [
    "## Downloading Data Using Web-interface\n",
    "At the bottom of the dataset page, users will find additional information about the dataset such as sequencing platform, number of samples, project ID and links to download the expression data.\n",
    "The exact places to find this information are shown in the figure below:\n",
    "\n",
    "![](./images/Module1/Manual_Download.png)\n",
    "\n",
    "The dataset GSE48350 was sequenced using Affymetrix Human Genome U133 Plus 2.0 Array and the whole dataset contains 253 samples. The summary table at the bottom of the page show the all the data generated from the experiment. Users can click \"(http)\" hyperlink to download all the samples or click \"(custom)\" to select and download the samples of interest. Note that, expression data download from this step is raw data and additional data processing needs to be done locally for further analysis."
   ]
  },
  {
   "cell_type": "markdown",
   "id": "13964320",
   "metadata": {},
   "source": [
    "## Accessing GEO Data Using R Command Line\n",
    "### Downloading and pre-processing the data\n",
    "\n",
    "Getting data from GEO is really quite easy using <a href=\"https://bioconductor.org/packages/release/bioc/html/GEOquery.html\">GEOquery</a> R package available in <a href=\"https://bioconductor.org/\">Bioconductor</a>. Before starting, user will need to install the GEOquery package using the following command."
   ]
  },
  {
   "cell_type": "code",
   "execution_count": null,
   "id": "77bf03b8",
   "metadata": {
    "pycharm": {
     "is_executing": true
    }
   },
   "outputs": [],
   "source": [
    "suppressMessages({if (!require(\"BiocManager\", quietly = TRUE))\n",
    "    suppressWarnings(install.packages(\"BiocManager\"))\n",
    "    suppressWarnings(BiocManager::install(\"GEOquery\", update = F))\n",
    "})"
   ]
  },
  {
   "cell_type": "markdown",
   "id": "1624fe5a",
   "metadata": {},
   "source": [
    "We can use the `getGEO` function from the `GEOquery` package to download GEO dataset. First, users have to specify the accession ID of the dataset. For this demonstration, we will use the same dataset `GSE48350`."
   ]
  },
  {
   "cell_type": "code",
   "execution_count": null,
   "id": "6e56fd57-3a91-4715-962b-07f43324c519",
   "metadata": {},
   "outputs": [],
   "source": [
    "suppressMessages(library(\"GEOquery\"))\n",
    "## change my_id to be the dataset that you want.\n",
    "accession_ID <- \"GSE48350\"\n",
    "suppressMessages({gse <- getGEO(accession_ID,GSEMatrix =TRUE, AnnotGPL=TRUE)})"
   ]
  },
  {
   "cell_type": "markdown",
   "id": "968c77a6",
   "metadata": {},
   "source": [
    "Some datasets on GEO may be derived from different microarray platforms. Therefore the object `gse` can be a list of different datasets.\n",
    "You can find out how many platforms were used by checking the length of the `gse` object."
   ]
  },
  {
   "cell_type": "code",
   "execution_count": null,
   "id": "1d028647",
   "metadata": {
    "pycharm": {
     "is_executing": true
    }
   },
   "outputs": [],
   "source": [
    "## check how many platforms used\n",
    "if (length(gse) > 1) idx <- grep(\"GPL570\", attr(gse, \"names\")) else idx <- 1\n",
    "data <- gse[[idx]]\n",
    "print(paste0(\"Number of platforms: \",length(data)))"
   ]
  },
  {
   "cell_type": "markdown",
   "id": "b459eea8",
   "metadata": {},
   "source": [
    "The result shows that we have only one dataset that belongs to microarray platform mentioned GEO dataset page.\n",
    "Next, we can access the samples information and genes using the command below:"
   ]
  },
  {
   "cell_type": "code",
   "execution_count": null,
   "id": "2c31ce74",
   "metadata": {
    "pycharm": {
     "is_executing": true
    }
   },
   "outputs": [],
   "source": [
    "# Get the samples information\n",
    "samples <- pData(data)\n",
    "# Get the genes information\n",
    "genes <- fData(data)\n",
    "# Check the number of samples and genes\n",
    "print(paste0(\"The dataset contains \", dim(samples)[1] ,\" samples and \",dim(genes)[1],\" genes\"))"
   ]
  },
  {
   "cell_type": "code",
   "execution_count": null,
   "id": "fff0d9e1-c932-4cd8-bb22-2e9c1421b14f",
   "metadata": {},
   "outputs": [],
   "source": [
    "#Run the following command to take the quiz\n",
    "IRdisplay::display_html('<iframe src=\"./Quizzes/Quiz_Submodule1-1.html\" width=100% height=250></iframe>')"
   ]
  },
  {
   "cell_type": "markdown",
   "id": "56de1fc1",
   "metadata": {},
   "source": [
    "The ```samples``` contain the metadata of each sample such as title, status, GEO accession, submission data etc. while the ```genes```\n",
    "dataframe shows us the probeID, title, gene symbol, gene ID, and many more. We can inspect the detail of the first several rows and columns\n",
    "of ```samples``` and ```genes``` dataframe using the following command:"
   ]
  },
  {
   "cell_type": "code",
   "execution_count": null,
   "id": "1fbcf2d2",
   "metadata": {
    "pycharm": {
     "is_executing": true
    }
   },
   "outputs": [],
   "source": [
    "samples[1:5,1:4]\n",
    "genes[1:5,1:5]"
   ]
  },
  {
   "cell_type": "markdown",
   "id": "0983f7f4",
   "metadata": {},
   "source": [
    "To inspect the expression data of the first few rows and samples, we can use this command"
   ]
  },
  {
   "cell_type": "code",
   "execution_count": null,
   "id": "b86fd83b",
   "metadata": {
    "pycharm": {
     "is_executing": true
    }
   },
   "outputs": [],
   "source": [
    "head(exprs(data)[,1:5])"
   ]
  },
  {
   "cell_type": "markdown",
   "id": "dcc74770",
   "metadata": {},
   "source": [
    "The `summary` function can then be used to print the distributions of each sample and\n",
    "the `range` function can help to check for the expression value range."
   ]
  },
  {
   "cell_type": "code",
   "execution_count": null,
   "id": "27bce30c",
   "metadata": {},
   "outputs": [],
   "source": [
    "summary(exprs(data)[,1:5])\n",
    "range(exprs(data))\n"
   ]
  },
  {
   "cell_type": "markdown",
   "id": "96aafb5f",
   "metadata": {},
   "source": [
    "From the summary of the data above, we clearly see that the maximum expression values can be in the scale of thousands while the average expression values in each sample are below one. Therefore, pre-processing and normalization are required for quality assurance. One common step is to perform quartile filtering to remove the outlier and missing expression values. Also, we will need to perform a $log_2$ transformation to ensure the distributions of all samples are similar. Then, a `boxplot` can also be generated to see if the data have been correctly normalized. We can use the sample code below to perform all of those steps."
   ]
  },
  {
   "cell_type": "code",
   "execution_count": null,
   "id": "29bda34b",
   "metadata": {},
   "outputs": [],
   "source": [
    "# Get expression matrix\n",
    "expression_data <- exprs(data)\n",
    "# Calculate data quantile and remove the NA value\n",
    "qx <- as.numeric(quantile(expression_data, c(0., 0.25, 0.5, 0.75, 0.99, 1.0), na.rm=T))\n",
    "LogC <- (qx[5] > 100) ||\n",
    "  (qx[6]-qx[1] > 50 && qx[2] > 0)\n",
    "\n",
    "# Replace negative values by NA and perform log transformation\n",
    "if (LogC) {\n",
    "   expression_data[which(expression_data <= 0)] <- NaN #\n",
    "    norm_expression_data <- log2(expression_data+1)\n",
    "}\n",
    "# Plot the boxplot of 10 samples\n",
    "boxplot(norm_expression_data[,1:10],outline=FALSE)"
   ]
  },
  {
   "cell_type": "code",
   "execution_count": null,
   "id": "f2da7e05-3a18-4b11-afd4-20d2bea75aa8",
   "metadata": {},
   "outputs": [],
   "source": [
    "#Run the following command to take the quiz\n",
    "IRdisplay::display_html('<iframe src=\"./Quizzes/Quiz_Submodule1-2.html\" width=100% height=250></iframe>')"
   ]
  },
  {
   "cell_type": "markdown",
   "id": "74400910",
   "metadata": {},
   "source": [
    "### Samples and Groups Selection\n",
    "In this learning course, we focus on analyzing two groups: *disease* and *control* from the *entorhinal cortex* region of the ```GSE48350``` dataset . Therefore, we need to select the samples\n",
    "that belong to *entorhinal cortex* region and form a group that has two classes. To select the samples that belong to the *entorhinal cortex*, we can use the following command:"
   ]
  },
  {
   "cell_type": "code",
   "execution_count": null,
   "id": "b805a146",
   "metadata": {},
   "outputs": [],
   "source": [
    "# Select sample from Entorhinal Cortex region\n",
    "idx <- grep(\"entorhinal\", samples$`brain region:ch1`)\n",
    "samples = samples[idx,]\n",
    "# Get expression and normalized expression data for samples collected from entorhinal cortex region\n",
    "expression_data = expression_data[,idx]\n",
    "norm_expression_data = norm_expression_data[,idx]"
   ]
  },
  {
   "cell_type": "markdown",
   "id": "33963c0d",
   "metadata": {},
   "source": [
    "To check how many samples belong to the *entorhinal cortex* region, we can use the following command:"
   ]
  },
  {
   "cell_type": "code",
   "execution_count": null,
   "id": "5640f260",
   "metadata": {},
   "outputs": [],
   "source": [
    "# Print out new number genes and samples\n",
    "print(paste0(\"#Genes: \",dim(norm_expression_data)[1],\" - #Samples: \",dim(norm_expression_data)[2]))"
   ]
  },
  {
   "cell_type": "markdown",
   "id": "66b15c60",
   "metadata": {},
   "source": [
    "In order to perform differential expression analysis in the later submodule, we need to group patients into two groups: “disease” and “control”. From the samples source name, patients diagnosed with Alzheimer’s Disease are annotated with ‘AD’.\n",
    "Therefore, any samples that contain string ‘AD’ are labelled by ‘d’ (condition/disease) and the remaining samples are assigned to ‘c’ (control/normal).\n",
    "The code to group the samples is presented below:"
   ]
  },
  {
   "cell_type": "code",
   "execution_count": null,
   "id": "9ccaca6f",
   "metadata": {},
   "outputs": [],
   "source": [
    "# Select disease samples\n",
    "disease_idx <- grep(\"AD\", samples$source_name_ch1)\n",
    "# Create a vector to store label\n",
    "groups <- rep(\"X\", nrow(samples))\n",
    "# Annotate disease samples as \"d\"\n",
    "groups[disease_idx] <- \"d\"\n",
    "# Control samples are labeled as \"c\"\n",
    "groups[which(groups!=\"d\")] <- \"c\"\n",
    "groups <- factor(groups)"
   ]
  },
  {
   "cell_type": "markdown",
   "id": "a9bfe875",
   "metadata": {},
   "source": [
    "To see the number of *control* and *disease*, we can use the following command:"
   ]
  },
  {
   "cell_type": "code",
   "execution_count": null,
   "id": "bff2353e",
   "metadata": {},
   "outputs": [],
   "source": [
    "table(groups)"
   ]
  },
  {
   "cell_type": "markdown",
   "id": "b0209857-88b4-422e-b64b-fbea32ebf1d1",
   "metadata": {},
   "source": [
    "## Exporting the Data\n",
    "When we have successfully retrieved expression data from GEO, we can export the expression data to a `.csv` file format for inspection in other software such as Excel using the `write_csv` function from `readr` package.\n",
    "In the code below, we will save the raw expression matrix, normalized expression matrix, and grouping information to  `.csv` files."
   ]
  },
  {
   "cell_type": "code",
   "execution_count": null,
   "id": "0f39641e",
   "metadata": {},
   "outputs": [],
   "source": [
    "# Convert raw and normalized expression matrix to datafames and save them to the csv file\n",
    "expression_data <- as.data.frame(expression_data)\n",
    "norm_expression_data <- as.data.frame(norm_expression_data)\n",
    "# Convert group to a dataframe\n",
    "groups <- as.data.frame(groups)\n",
    "# Create a sub-directory data folder to save the expression matrix if it is not available\n",
    "dir <- getwd()\n",
    "subDir <- \"/data\"\n",
    "path <- paste0(dir,subDir)\n",
    "if (!file.exists(path)){\n",
    "    dir.create(file.path(path))\n",
    "}\n",
    "# Save expresion values and group to the csv files format in the local folder\n",
    "write.csv(expression_data, file=\"./data/raw_GSE48350.csv\")\n",
    "write.csv(norm_expression_data, file=\"./data/normalized_GSE48350.csv\")\n",
    "write.csv(groups, file=\"./data/groups_GSE48350.csv\")"
   ]
  },
  {
   "cell_type": "markdown",
   "id": "23a731f6",
   "metadata": {},
   "source": [
    "The `.csv` format is a very simple format that might not suitable to store big datasets.\n",
    "We can export the expression data to `.rds` format, which is more memory efficient for loading and saving the data.\n",
    "We can save all the relevant data in a `list` and write to the disk using the built in `saveRDS` function."
   ]
  },
  {
   "cell_type": "code",
   "execution_count": null,
   "id": "665869cc",
   "metadata": {},
   "outputs": [],
   "source": [
    "# Putting raw data, normalized data, and groups into a list\n",
    "dat <- list(expression_data = expression_data, norm_expression_data = norm_expression_data, groups = groups)\n",
    "# Save the data to the local disk using rds format\n",
    "saveRDS(dat, file=\"./data/GSE48350.rds\")\n"
   ]
  },
  {
   "cell_type": "markdown",
   "id": "c1d21b08-f3f3-4b02-83f9-2c118536261a",
   "metadata": {},
   "source": [
    "## Storing files in a Google Cloud Bucket"
   ]
  },
  {
   "cell_type": "markdown",
   "id": "53ec290a-3150-4914-b4e1-426cd08e734c",
   "metadata": {},
   "source": [
    "To run gsutil commands the user can either create a code cell within the Jupyter notebook by clicking the + button at the top or \n",
    "click on File -> New -> Terminal to open the terminal \n",
    " \n",
    " \n",
    "To create buckets in R its best to use the `system` command that allows you to run bash commands in R."
   ]
  },
  {
   "cell_type": "code",
   "execution_count": null,
   "id": "63c970a8-885c-43a0-94ae-1e86c34cc252",
   "metadata": {},
   "outputs": [],
   "source": [
    "#set our bucket name, remember it needs to be unique\n",
    "#replace <BUCKET_NAME> with the name of your bucket\n",
    "system('gsutil mb gs://<BUCKET_NAME>', intern = TRUE)"
   ]
  },
  {
   "cell_type": "markdown",
   "id": "9ade9695",
   "metadata": {},
   "source": [
    "The command to copy data from the local disk to the Google Cloud Bucket is as follows:\n",
    "\n",
    "`gsutil cp PATH_TO_LOCAL_FOLDER gs://PATH_IN_GOOGLE_BUCKET`\n",
    "\n",
    "For example, if we want to copy the file `./data/GSE48350.rds` we can use the following command."
   ]
  },
  {
   "cell_type": "code",
   "execution_count": null,
   "id": "f5eccf36-1d99-4cc6-914b-511f3306606c",
   "metadata": {},
   "outputs": [],
   "source": [
    "#replace <BUCKET_NAME> with name of your bucket that was perviously made\n",
    "system(\"gsutil cp ./data/GSE48350.rds gs://<BUCKET_NAME>\", intern = TRUE)"
   ]
  },
  {
   "cell_type": "markdown",
   "id": "1ef6c72b",
   "metadata": {},
   "source": [
    "## Gene ID Mapping\n",
    "\n",
    "![](./images/Module1/Gene_ID_Conversion.jpg)\n",
    "## Learning Objectives:\n",
    "1. Understand different probe set ID.\n",
    "2. Map probe IDs into gene identifiers and symbols."
   ]
  },
  {
   "cell_type": "markdown",
   "id": "1e8f26b4",
   "metadata": {},
   "source": [
    "## Understanding Different Probe Set ID\n",
    "\n",
    "Gene set or pathway analysis requires that gene sets and expression data use the same type of gene ID\n",
    "(Entrez Gene ID, Gene symbol or probe set ID etc). However, this is frequently not true for the data we have.\n",
    "For example, our gene sets mostly use Entrez Gene ID, but microarray datasets are frequently labeled by probe\n",
    "set ID (or RefSeq transcript ID, etc.). Therefore, we need to map the probe set IDs to Entrez gene ID.\n",
    "Here, we will use `GSE48350` dataset that we have used in the previous section for demonstration of gene ID mapping.\n",
    "In order to know what kind of probe set ID, we need to navigate to GEO record page of `GSE48350`. Under the `Platform`\n",
    "tab, we can find the probe ID information.\n",
    "![probID](./images/Module1/ProbeID.png)"
   ]
  },
  {
   "cell_type": "markdown",
   "id": "3f2e5579",
   "metadata": {},
   "source": [
    "From the record page, we know that the dataset was generated from 1 platform using the Affymetrix Human Genome U133 Plus 2.0 Array.\n",
    "To convert or map the probe set IDs to Entrez gene ID, we need to find the corresponding annotation package from\n",
    "<a href=\"https://bioconductor.org/\">Bioconductor</a>. For analyzed data, we need to use the `hgu133plus2.db` and `AnnotationDbi` databases.\n",
    "We can install the package using following R command:"
   ]
  },
  {
   "cell_type": "code",
   "execution_count": null,
   "id": "5fb6d5b0",
   "metadata": {},
   "outputs": [],
   "source": [
    "suppressMessages({if (!require(\"BiocManager\", quietly = TRUE))\n",
    "    suppressWarnings(install.packages(\"BiocManager\"))\n",
    "    suppressWarnings(BiocManager::install(\"hgu133plus2.db\", update = F))\n",
    "    suppressWarnings(BiocManager::install(\"AnnotationDbi\", update = F))\n",
    "})"
   ]
  },
  {
   "cell_type": "markdown",
   "id": "8bee6afb",
   "metadata": {},
   "source": [
    "In the data processing section, we successfully downloaded the dataset `GSE48350` and saved it to the `data` sub-directory.\n",
    "Now we can load the dataset and check for the Probe Set ID names by using the following command."
   ]
  },
  {
   "cell_type": "code",
   "execution_count": null,
   "id": "bae8d0ed",
   "metadata": {},
   "outputs": [],
   "source": [
    "data = readRDS(\"./data/GSE48350.rds\")\n",
    "expression_data = data$expression_data\n",
    "probeIDs = rownames(expression_data)\n",
    "head(probeIDs)"
   ]
  },
  {
   "cell_type": "markdown",
   "id": "7d6c37a9",
   "metadata": {},
   "source": [
    "## Mapping Probe IDs Into Gene Identifiers And Symbols\n",
    "For pathway analysis, databases like Gene Ontology and KEGG use gene symbol annotation. Therefore, Probe set IDs should be mapped to gene symbol to be used in the later submodules. We can use the pre-annotated databases which are available from Bioconductor to map the probe IDs to the gene symbol. `AnnotationDbi` is an R package that provides an interface for connecting and querying various annotation databases using SQLite data storage while `hgu133plus2.db` is database to perform Probe IDs to gene symbol mapping for human data. We can use the following command to map the Probe set IDs:"
   ]
  },
  {
   "cell_type": "code",
   "execution_count": null,
   "id": "e75ae09a",
   "metadata": {},
   "outputs": [],
   "source": [
    "suppressMessages({\n",
    "  library(hgu133plus2.db)\n",
    "  library(AnnotationDbi)\n",
    "})"
   ]
  },
  {
   "cell_type": "code",
   "execution_count": null,
   "id": "eb5a9160",
   "metadata": {},
   "outputs": [],
   "source": [
    "suppressMessages({\n",
    "annotLookup <- AnnotationDbi::select(hgu133plus2.db, keys = probeIDs, columns = c('PROBEID','GENENAME','SYMBOL'))\n",
    "})"
   ]
  },
  {
   "cell_type": "code",
   "execution_count": null,
   "id": "ecea1cd0",
   "metadata": {},
   "outputs": [],
   "source": [
    "head(annotLookup)"
   ]
  },
  {
   "cell_type": "code",
   "execution_count": null,
   "id": "4648674c-3292-48ed-b891-f3fbe91affa9",
   "metadata": {},
   "outputs": [],
   "source": [
    "#Run the following command to take the quiz\n",
    "IRdisplay::display_html('<iframe src=\"./Quizzes/Quiz_Submodule1-3.html\" width=100% height=250></iframe>')"
   ]
  },
  {
   "cell_type": "markdown",
   "id": "c3f0cef5",
   "metadata": {},
   "source": [
    "We can check the number of probe IDs that mapped to the unique gene symbols using the following command:"
   ]
  },
  {
   "cell_type": "code",
   "execution_count": null,
   "id": "0379ec35",
   "metadata": {},
   "outputs": [],
   "source": [
    "# Check number of the probe IDs\n",
    "print(paste0(\"There are \",length(unique(annotLookup$PROBEID)),\" probe IDs that mapped to \",length(unique(annotLookup$SYMBOL)),\" gene symbols\"))"
   ]
  },
  {
   "cell_type": "markdown",
   "id": "6247efff",
   "metadata": {},
   "source": [
    "From the lookup table we can spot that a single gene symbol can be mapped to multiple probe IDs. In the next submodule, we will discuss how these mapped gene symbols can be used to identify which genes are differentially expressed. \n"
   ]
  },
  {
   "cell_type": "code",
   "execution_count": null,
   "id": "75deed91-8373-425f-91e1-5c364768ffa3",
   "metadata": {},
   "outputs": [],
   "source": [
    "sessionInfo()"
   ]
  },
  {
   "cell_type": "code",
   "execution_count": null,
   "id": "72f4fbc7-458b-445c-b050-c20f44a1adac",
   "metadata": {},
   "outputs": [],
   "source": []
  }
 ],
 "metadata": {
  "celltoolbar": "Tags",
  "environment": {
   "kernel": "ir",
   "name": "r-cpu.4-2.m107",
   "type": "gcloud",
   "uri": "gcr.io/deeplearning-platform-release/r-cpu.4-2:m107"
  },
  "kernelspec": {
   "display_name": "R",
   "language": "R",
   "name": "ir"
  },
  "language_info": {
   "codemirror_mode": "r",
   "file_extension": ".r",
   "mimetype": "text/x-r-source",
   "name": "R",
   "pygments_lexer": "r",
   "version": "4.2.3"
  },
  "toc-showcode": true
 },
 "nbformat": 4,
 "nbformat_minor": 5
}
