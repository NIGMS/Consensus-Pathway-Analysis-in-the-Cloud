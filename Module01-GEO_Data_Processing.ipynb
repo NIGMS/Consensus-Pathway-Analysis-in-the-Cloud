{
 "cells": [
  {
   "cell_type": "markdown",
   "id": "68e3537d",
   "metadata": {},
   "source": [
    " # GEO Data Processing\n",
    "\n",
    "![](./images/Module1/Data_Processing.jpg)\n",
    "\n",
    "## Learning Objectives:\n",
    "1. Understand the type of data that is accessible from GEO.\n",
    "2. Demonstrate how to navigate the GEO website, search for datasets using accession number, and select samples.\n",
    "3. Use command-line to download data from GEO.\n",
    "4. Perform data pre-processing, normalization, loading and saving the expression matrix."
   ]
  },
  {
   "cell_type": "markdown",
   "id": "5ae77e2e",
   "metadata": {},
   "source": [
    "## Accessing Public GEO Sequencing Data\n",
    "The Gene Expression Omnibus (GEO) is a public repository that archives and freely distributes comprehensive sets of microarray, next-generation sequencing, and other forms of high-throughput functional genomic data submitted by the scientific community. In addition to data storage, the website provides set of web-based tools and applications to help users query and download the studies and gene expression patterns stored in GEO.\n",
    "### Searching and accessing data on GEO\n",
    "Searching for GEO is relatively straightforward. First, users need to navigate to\n",
    "<a href=\"https://www.ncbi.nlm.nih.gov/geo/\"> https://www.ncbi.nlm.nih.gov/geo/</a>.\n",
    "There are multiple ways to search for datasets but the simplest way is to provide the accession number in the search box. We will use an example dataset with the accession number\n",
    "<a href=\"https://www.ncbi.nlm.nih.gov/geo/query/acc.cgi?acc=GSE48350\">GSE48350</a> for demonstration.\n",
    "The GEO website interface with the searching procedure of the example dataset is shown in the figure below:\n",
    "\n",
    "![](./images/Module1/GEO_Website.png)\n",
    "\n",
    "When the searching process is done, a webpage with a detailed record of the example dataset such as published date, title, organism, experiment type, dataset summary, etc. will be shown in the figure below:\n",
    "\n",
    "![](./images/Module1/GEO_Dataset_Page.png)\n",
    "\n",
    "We can see that the dataset GSE48350 was published on Apr 21, 2014, which focuses on Human Alzheimer's\n",
    "Disease using microarray sequencing technology. Samples were primarily collected from 4 brain regions:\n",
    "hippocampus (HC), entorhinal cortex (EC), superior frontal cortex (SCG), and post-central gyrus (PCG) of normal and disease patients."
   ]
  },
  {
   "cell_type": "markdown",
   "id": "61e0d237-cf6a-465c-93f8-d9bbc6d93a6d",
   "metadata": {},
   "source": [
    "To display the quiz in all the learning sub-modules, it is necessary to have the `IRdisplay` package pre-installed.\n",
    "This package allows quizzes written in `html` format to show up in the notebook. Users can install the `IRdisplay` using the following command:\n",
    "```\n",
    "suppressWarnings(if (!require(\"IRdisplay\")) install.packages(\"IRdisplay\"))\n",
    "suppressWarnings(library(IRdisplay))\n",
    "```\n"
   ]
  },
  {
   "cell_type": "code",
   "execution_count": 1,
   "id": "02d33273-5c2e-42fb-85f7-1b2943631f5a",
   "metadata": {},
   "outputs": [
    {
     "data": {
      "text/html": [
       "<iframe src=\"./Quizzes/Quiz_Submodule1.html\" width=100% height=250></iframe>"
      ]
     },
     "metadata": {},
     "output_type": "display_data"
    }
   ],
   "source": [
    "#Run the following command to take the quiz\n",
    "IRdisplay::display_html('<iframe src=\"./Quizzes/Quiz_Submodule1.html\" width=100% height=250></iframe>')"
   ]
  },
  {
   "cell_type": "markdown",
   "id": "ec25fd7e",
   "metadata": {
    "tags": []
   },
   "source": [
    "## Downloading Data Using Web-interface\n",
    "At the bottom of the dataset page, users will find additional information about the dataset such as sequencing platform, number of samples, project ID, and links to download the expression data.\n",
    "The exact places to find this information are shown in the figure below:\n",
    "\n",
    "![](./images/Module1/Manual_Download.png)\n",
    "\n",
    "The dataset GSE48350 was sequenced using Affymetrix Human Genome U133 Plus 2.0 Array and the whole dataset contains 253 samples. The summary table at the bottom of the page shows all the data generated from the experiment. Users can click the \"(http)\" hyperlink to download all the samples or click \"(custom)\" to select and download the samples of interest. Note that, expression data downloaded at this step is raw data and additional data processing needs to be done locally for further analysis."
   ]
  },
  {
   "cell_type": "markdown",
   "id": "13964320",
   "metadata": {},
   "source": [
    "## Accessing GEO Data Using R Command Line\n",
    "### Downloading and pre-processing the data\n",
    "\n",
    "Getting data from GEO is quite easy using <a href=\"https://bioconductor.org/packages/release/bioc/html/GEOquery.html\">GEOquery</a> R package available in <a href=\"https://bioconductor.org/\">Bioconductor</a>. Before starting, users will need to install the GEOquery package using the following command."
   ]
  },
  {
   "cell_type": "code",
   "execution_count": 36,
   "id": "77bf03b8",
   "metadata": {
    "pycharm": {
     "is_executing": true
    }
   },
   "outputs": [],
   "source": [
    "suppressMessages({if (!require(\"BiocManager\", quietly = TRUE))\n",
    "    suppressWarnings(install.packages(\"BiocManager\"))\n",
    "    suppressWarnings(BiocManager::install(\"GEOquery\", update = F))\n",
    "})"
   ]
  },
  {
   "cell_type": "markdown",
   "id": "1624fe5a",
   "metadata": {},
   "source": [
    "We can use the `getGEO` function from the `GEOquery` package to download GEO dataset. First, users have to specify the accession ID of the dataset. For this demonstration, we will use the same dataset `GSE48350`.\n",
    "\n",
    "Some used **arguments** of `getGEO` function:\n",
    "- `GEO` (*String*): A string ID representing a GEO dataset for download and parsing. (eg., 'GDS505','GSE2','GSM2','GPL96')\n",
    "- `GSEMatrix` (*Boolean*): Telling GEOquery whether or not to use GSE Series Matrix files from GEO. The parsing of these files can be many orders-of-magnitude faster than parsing the GSE SOFT format files. Defaults to TRUE, meaning that the SOFT format parsing will not occur; set to FALSE if you for some reason need other columns from the GSE records.\n",
    "- `AnnotGPL` (*Boolean*): Defaults to FALSE as to whether or not to use the Annotation GPL information. These files contain up-to-date information remapped from Entrez Gene on a regular basis. However, they do not exist for all GPLs; in general, they are only available for GPLs referenced by a GDS.\n",
    "\n",
    ".....\r\n",
    " ...."
   ]
  },
  {
   "cell_type": "code",
   "execution_count": 37,
   "id": "6e56fd57-3a91-4715-962b-07f43324c519",
   "metadata": {},
   "outputs": [
    {
     "data": {
      "text/html": [
       "'character'"
      ],
      "text/latex": [
       "'character'"
      ],
      "text/markdown": [
       "'character'"
      ],
      "text/plain": [
       "[1] \"character\""
      ]
     },
     "metadata": {},
     "output_type": "display_data"
    }
   ],
   "source": [
    "suppressMessages(library(\"GEOquery\"))\n",
    "## change accession_ID to be the dataset that you want.\n",
    "accession_ID <- \"GSE48350\"\n",
    "suppressMessages({gse <- getGEO(GEO = accession_ID, GSEMatrix = TRUE, AnnotGPL = TRUE)})"
   ]
  },
  {
   "cell_type": "markdown",
   "id": "968c77a6",
   "metadata": {},
   "source": [
    "Some datasets on GEO may be derived from different microarray platforms. Therefore, the object `gse` can be a list of different datasets.\n",
    "You can find out how many platforms were used by checking the length of the `gse` object."
   ]
  },
  {
   "cell_type": "code",
   "execution_count": 7,
   "id": "1d028647",
   "metadata": {
    "pycharm": {
     "is_executing": true
    }
   },
   "outputs": [
    {
     "name": "stdout",
     "output_type": "stream",
     "text": [
      "[1] \"Number of platforms: 1\"\n"
     ]
    }
   ],
   "source": [
    "## check how many platforms used\n",
    "if (length(gse) > 1) idx <- grep(\"GPL570\", attr(gse, \"names\")) else idx <- 1\n",
    "data <- gse[[idx]]\n",
    "print(paste0(\"Number of platforms: \", length(data)))"
   ]
  },
  {
   "cell_type": "markdown",
   "id": "b459eea8",
   "metadata": {},
   "source": [
    "The result shows that we have only one dataset that belongs to the microarray platform mentioned GEO dataset page.\n",
    "Next, we can access the samples information and genes using the command below:"
   ]
  },
  {
   "cell_type": "code",
   "execution_count": 8,
   "id": "2c31ce74",
   "metadata": {
    "pycharm": {
     "is_executing": true
    }
   },
   "outputs": [
    {
     "name": "stdout",
     "output_type": "stream",
     "text": [
      "[1] \"The dataset contains 253 samples and 54675 genes\"\n"
     ]
    }
   ],
   "source": [
    "# Get the samples information\n",
    "samples <- pData(data)\n",
    "# Get the genes information\n",
    "genes <- fData(data)\n",
    "# Check the number of samples and genes\n",
    "print(paste0(\"The dataset contains \", dim(samples)[1] , \" samples and \", dim(genes)[1], \" genes\"))"
   ]
  },
  {
   "cell_type": "code",
   "execution_count": 6,
   "id": "fff0d9e1-c932-4cd8-bb22-2e9c1421b14f",
   "metadata": {},
   "outputs": [
    {
     "data": {
      "text/html": [
       "<iframe src=\"./Quizzes/Quiz_Submodule1-1.html\" width=100% height=250></iframe>"
      ]
     },
     "metadata": {},
     "output_type": "display_data"
    }
   ],
   "source": [
    "#Run the following command to take the quiz\n",
    "IRdisplay::display_html('<iframe src=\"./Quizzes/Quiz_Submodule1-1.html\" width=100% height=250></iframe>')"
   ]
  },
  {
   "cell_type": "markdown",
   "id": "56de1fc1",
   "metadata": {},
   "source": [
    "The ```samples``` contains the metadata of each sample such as title, status, GEO accession, submission data, etc. While the ```genes```\n",
    "dataframe shows us the probeID, title, gene symbol, gene ID, and many more. We can inspect the detail of the first several rows and columns\n",
    "of ```samples``` and ```genes``` dataframe using the following command:"
   ]
  },
  {
   "cell_type": "code",
   "execution_count": 9,
   "id": "1fbcf2d2",
   "metadata": {
    "pycharm": {
     "is_executing": true
    }
   },
   "outputs": [
    {
     "data": {
      "text/html": [
       "<table class=\"dataframe\">\n",
       "<caption>A data.frame: 5 × 4</caption>\n",
       "<thead>\n",
       "\t<tr><th></th><th scope=col>title</th><th scope=col>geo_accession</th><th scope=col>status</th><th scope=col>submission_date</th></tr>\n",
       "\t<tr><th></th><th scope=col>&lt;chr&gt;</th><th scope=col>&lt;chr&gt;</th><th scope=col>&lt;chr&gt;</th><th scope=col>&lt;chr&gt;</th></tr>\n",
       "</thead>\n",
       "<tbody>\n",
       "\t<tr><th scope=row>GSM300166</th><td>PostcentralGyrus_female_91yrs_indiv10    </td><td>GSM300166</td><td>Public on Oct 09 2008</td><td>Jun 25 2008</td></tr>\n",
       "\t<tr><th scope=row>GSM300167</th><td>SuperiorFrontalGyrus_female_91yrs_indiv10</td><td>GSM300167</td><td>Public on Oct 09 2008</td><td>Jun 25 2008</td></tr>\n",
       "\t<tr><th scope=row>GSM300168</th><td>Hippocampus_female_96yrs_indiv105        </td><td>GSM300168</td><td>Public on Oct 09 2008</td><td>Jun 25 2008</td></tr>\n",
       "\t<tr><th scope=row>GSM300169</th><td>Hippocampus_male_82yrs_indiv106          </td><td>GSM300169</td><td>Public on Oct 09 2008</td><td>Jun 25 2008</td></tr>\n",
       "\t<tr><th scope=row>GSM300170</th><td>Hippocampus_male_84yrs_indiv108          </td><td>GSM300170</td><td>Public on Oct 09 2008</td><td>Jun 25 2008</td></tr>\n",
       "</tbody>\n",
       "</table>\n"
      ],
      "text/latex": [
       "A data.frame: 5 × 4\n",
       "\\begin{tabular}{r|llll}\n",
       "  & title & geo\\_accession & status & submission\\_date\\\\\n",
       "  & <chr> & <chr> & <chr> & <chr>\\\\\n",
       "\\hline\n",
       "\tGSM300166 & PostcentralGyrus\\_female\\_91yrs\\_indiv10     & GSM300166 & Public on Oct 09 2008 & Jun 25 2008\\\\\n",
       "\tGSM300167 & SuperiorFrontalGyrus\\_female\\_91yrs\\_indiv10 & GSM300167 & Public on Oct 09 2008 & Jun 25 2008\\\\\n",
       "\tGSM300168 & Hippocampus\\_female\\_96yrs\\_indiv105         & GSM300168 & Public on Oct 09 2008 & Jun 25 2008\\\\\n",
       "\tGSM300169 & Hippocampus\\_male\\_82yrs\\_indiv106           & GSM300169 & Public on Oct 09 2008 & Jun 25 2008\\\\\n",
       "\tGSM300170 & Hippocampus\\_male\\_84yrs\\_indiv108           & GSM300170 & Public on Oct 09 2008 & Jun 25 2008\\\\\n",
       "\\end{tabular}\n"
      ],
      "text/markdown": [
       "\n",
       "A data.frame: 5 × 4\n",
       "\n",
       "| <!--/--> | title &lt;chr&gt; | geo_accession &lt;chr&gt; | status &lt;chr&gt; | submission_date &lt;chr&gt; |\n",
       "|---|---|---|---|---|\n",
       "| GSM300166 | PostcentralGyrus_female_91yrs_indiv10     | GSM300166 | Public on Oct 09 2008 | Jun 25 2008 |\n",
       "| GSM300167 | SuperiorFrontalGyrus_female_91yrs_indiv10 | GSM300167 | Public on Oct 09 2008 | Jun 25 2008 |\n",
       "| GSM300168 | Hippocampus_female_96yrs_indiv105         | GSM300168 | Public on Oct 09 2008 | Jun 25 2008 |\n",
       "| GSM300169 | Hippocampus_male_82yrs_indiv106           | GSM300169 | Public on Oct 09 2008 | Jun 25 2008 |\n",
       "| GSM300170 | Hippocampus_male_84yrs_indiv108           | GSM300170 | Public on Oct 09 2008 | Jun 25 2008 |\n",
       "\n"
      ],
      "text/plain": [
       "          title                                     geo_accession\n",
       "GSM300166 PostcentralGyrus_female_91yrs_indiv10     GSM300166    \n",
       "GSM300167 SuperiorFrontalGyrus_female_91yrs_indiv10 GSM300167    \n",
       "GSM300168 Hippocampus_female_96yrs_indiv105         GSM300168    \n",
       "GSM300169 Hippocampus_male_82yrs_indiv106           GSM300169    \n",
       "GSM300170 Hippocampus_male_84yrs_indiv108           GSM300170    \n",
       "          status                submission_date\n",
       "GSM300166 Public on Oct 09 2008 Jun 25 2008    \n",
       "GSM300167 Public on Oct 09 2008 Jun 25 2008    \n",
       "GSM300168 Public on Oct 09 2008 Jun 25 2008    \n",
       "GSM300169 Public on Oct 09 2008 Jun 25 2008    \n",
       "GSM300170 Public on Oct 09 2008 Jun 25 2008    "
      ]
     },
     "metadata": {},
     "output_type": "display_data"
    },
    {
     "data": {
      "text/html": [
       "<table class=\"dataframe\">\n",
       "<caption>A data.frame: 5 × 5</caption>\n",
       "<thead>\n",
       "\t<tr><th></th><th scope=col>ID</th><th scope=col>Gene title</th><th scope=col>Gene symbol</th><th scope=col>Gene ID</th><th scope=col>UniGene title</th></tr>\n",
       "\t<tr><th></th><th scope=col>&lt;chr&gt;</th><th scope=col>&lt;chr&gt;</th><th scope=col>&lt;chr&gt;</th><th scope=col>&lt;chr&gt;</th><th scope=col>&lt;chr&gt;</th></tr>\n",
       "</thead>\n",
       "<tbody>\n",
       "\t<tr><th scope=row>1007_s_at</th><td>1007_s_at</td><td>microRNA 4640///discoidin domain receptor tyrosine kinase 1</td><td>MIR4640///DDR1</td><td>100616237///780</td><td></td></tr>\n",
       "\t<tr><th scope=row>1053_at</th><td>1053_at  </td><td>replication factor C subunit 2                             </td><td>RFC2          </td><td>5982           </td><td></td></tr>\n",
       "\t<tr><th scope=row>117_at</th><td>117_at   </td><td>heat shock protein family A (Hsp70) member 6               </td><td>HSPA6         </td><td>3310           </td><td></td></tr>\n",
       "\t<tr><th scope=row>121_at</th><td>121_at   </td><td>paired box 8                                               </td><td>PAX8          </td><td>7849           </td><td></td></tr>\n",
       "\t<tr><th scope=row>1255_g_at</th><td>1255_g_at</td><td>guanylate cyclase activator 1A                             </td><td>GUCA1A        </td><td>2978           </td><td></td></tr>\n",
       "</tbody>\n",
       "</table>\n"
      ],
      "text/latex": [
       "A data.frame: 5 × 5\n",
       "\\begin{tabular}{r|lllll}\n",
       "  & ID & Gene title & Gene symbol & Gene ID & UniGene title\\\\\n",
       "  & <chr> & <chr> & <chr> & <chr> & <chr>\\\\\n",
       "\\hline\n",
       "\t1007\\_s\\_at & 1007\\_s\\_at & microRNA 4640///discoidin domain receptor tyrosine kinase 1 & MIR4640///DDR1 & 100616237///780 & \\\\\n",
       "\t1053\\_at & 1053\\_at   & replication factor C subunit 2                              & RFC2           & 5982            & \\\\\n",
       "\t117\\_at & 117\\_at    & heat shock protein family A (Hsp70) member 6                & HSPA6          & 3310            & \\\\\n",
       "\t121\\_at & 121\\_at    & paired box 8                                                & PAX8           & 7849            & \\\\\n",
       "\t1255\\_g\\_at & 1255\\_g\\_at & guanylate cyclase activator 1A                              & GUCA1A         & 2978            & \\\\\n",
       "\\end{tabular}\n"
      ],
      "text/markdown": [
       "\n",
       "A data.frame: 5 × 5\n",
       "\n",
       "| <!--/--> | ID &lt;chr&gt; | Gene title &lt;chr&gt; | Gene symbol &lt;chr&gt; | Gene ID &lt;chr&gt; | UniGene title &lt;chr&gt; |\n",
       "|---|---|---|---|---|---|\n",
       "| 1007_s_at | 1007_s_at | microRNA 4640///discoidin domain receptor tyrosine kinase 1 | MIR4640///DDR1 | 100616237///780 | <!----> |\n",
       "| 1053_at | 1053_at   | replication factor C subunit 2                              | RFC2           | 5982            | <!----> |\n",
       "| 117_at | 117_at    | heat shock protein family A (Hsp70) member 6                | HSPA6          | 3310            | <!----> |\n",
       "| 121_at | 121_at    | paired box 8                                                | PAX8           | 7849            | <!----> |\n",
       "| 1255_g_at | 1255_g_at | guanylate cyclase activator 1A                              | GUCA1A         | 2978            | <!----> |\n",
       "\n"
      ],
      "text/plain": [
       "          ID        Gene title                                                 \n",
       "1007_s_at 1007_s_at microRNA 4640///discoidin domain receptor tyrosine kinase 1\n",
       "1053_at   1053_at   replication factor C subunit 2                             \n",
       "117_at    117_at    heat shock protein family A (Hsp70) member 6               \n",
       "121_at    121_at    paired box 8                                               \n",
       "1255_g_at 1255_g_at guanylate cyclase activator 1A                             \n",
       "          Gene symbol    Gene ID         UniGene title\n",
       "1007_s_at MIR4640///DDR1 100616237///780              \n",
       "1053_at   RFC2           5982                         \n",
       "117_at    HSPA6          3310                         \n",
       "121_at    PAX8           7849                         \n",
       "1255_g_at GUCA1A         2978                         "
      ]
     },
     "metadata": {},
     "output_type": "display_data"
    }
   ],
   "source": [
    "# Show the first several rows and columns of samples\n",
    "samples[1:5, 1:4]\n",
    "# Show the first several rows and columns of genes\n",
    "genes[1:5, 1:5]"
   ]
  },
  {
   "cell_type": "markdown",
   "id": "0983f7f4",
   "metadata": {},
   "source": [
    "To inspect the expression data of the first few rows and samples, we can use this command:"
   ]
  },
  {
   "cell_type": "code",
   "execution_count": 12,
   "id": "b86fd83b",
   "metadata": {
    "pycharm": {
     "is_executing": true
    }
   },
   "outputs": [
    {
     "data": {
      "text/html": [
       "<table class=\"dataframe\">\n",
       "<caption>A matrix: 6 × 5 of type dbl</caption>\n",
       "<thead>\n",
       "\t<tr><th></th><th scope=col>GSM300166</th><th scope=col>GSM300167</th><th scope=col>GSM300168</th><th scope=col>GSM300169</th><th scope=col>GSM300170</th></tr>\n",
       "</thead>\n",
       "<tbody>\n",
       "\t<tr><th scope=row>1007_s_at</th><td>0.8880162</td><td>1.4355185</td><td>1.6096015</td><td>1.754960</td><td>1.820730</td></tr>\n",
       "\t<tr><th scope=row>1053_at</th><td>0.6664604</td><td>0.8858521</td><td>1.8590777</td><td>1.036666</td><td>1.421393</td></tr>\n",
       "\t<tr><th scope=row>117_at</th><td>0.8596384</td><td>1.0620298</td><td>3.0973945</td><td>2.243655</td><td>5.060301</td></tr>\n",
       "\t<tr><th scope=row>121_at</th><td>0.9751495</td><td>1.0507448</td><td>0.9822838</td><td>1.198237</td><td>1.039529</td></tr>\n",
       "\t<tr><th scope=row>1255_g_at</th><td>0.4912547</td><td>0.5375254</td><td>3.1796446</td><td>1.514290</td><td>2.185801</td></tr>\n",
       "\t<tr><th scope=row>1294_at</th><td>0.8344268</td><td>0.9291890</td><td>1.5193694</td><td>1.557089</td><td>1.641263</td></tr>\n",
       "</tbody>\n",
       "</table>\n"
      ],
      "text/latex": [
       "A matrix: 6 × 5 of type dbl\n",
       "\\begin{tabular}{r|lllll}\n",
       "  & GSM300166 & GSM300167 & GSM300168 & GSM300169 & GSM300170\\\\\n",
       "\\hline\n",
       "\t1007\\_s\\_at & 0.8880162 & 1.4355185 & 1.6096015 & 1.754960 & 1.820730\\\\\n",
       "\t1053\\_at & 0.6664604 & 0.8858521 & 1.8590777 & 1.036666 & 1.421393\\\\\n",
       "\t117\\_at & 0.8596384 & 1.0620298 & 3.0973945 & 2.243655 & 5.060301\\\\\n",
       "\t121\\_at & 0.9751495 & 1.0507448 & 0.9822838 & 1.198237 & 1.039529\\\\\n",
       "\t1255\\_g\\_at & 0.4912547 & 0.5375254 & 3.1796446 & 1.514290 & 2.185801\\\\\n",
       "\t1294\\_at & 0.8344268 & 0.9291890 & 1.5193694 & 1.557089 & 1.641263\\\\\n",
       "\\end{tabular}\n"
      ],
      "text/markdown": [
       "\n",
       "A matrix: 6 × 5 of type dbl\n",
       "\n",
       "| <!--/--> | GSM300166 | GSM300167 | GSM300168 | GSM300169 | GSM300170 |\n",
       "|---|---|---|---|---|---|\n",
       "| 1007_s_at | 0.8880162 | 1.4355185 | 1.6096015 | 1.754960 | 1.820730 |\n",
       "| 1053_at | 0.6664604 | 0.8858521 | 1.8590777 | 1.036666 | 1.421393 |\n",
       "| 117_at | 0.8596384 | 1.0620298 | 3.0973945 | 2.243655 | 5.060301 |\n",
       "| 121_at | 0.9751495 | 1.0507448 | 0.9822838 | 1.198237 | 1.039529 |\n",
       "| 1255_g_at | 0.4912547 | 0.5375254 | 3.1796446 | 1.514290 | 2.185801 |\n",
       "| 1294_at | 0.8344268 | 0.9291890 | 1.5193694 | 1.557089 | 1.641263 |\n",
       "\n"
      ],
      "text/plain": [
       "          GSM300166 GSM300167 GSM300168 GSM300169 GSM300170\n",
       "1007_s_at 0.8880162 1.4355185 1.6096015 1.754960  1.820730 \n",
       "1053_at   0.6664604 0.8858521 1.8590777 1.036666  1.421393 \n",
       "117_at    0.8596384 1.0620298 3.0973945 2.243655  5.060301 \n",
       "121_at    0.9751495 1.0507448 0.9822838 1.198237  1.039529 \n",
       "1255_g_at 0.4912547 0.5375254 3.1796446 1.514290  2.185801 \n",
       "1294_at   0.8344268 0.9291890 1.5193694 1.557089  1.641263 "
      ]
     },
     "metadata": {},
     "output_type": "display_data"
    }
   ],
   "source": [
    "# Show the first few rows of the expression data\n",
    "head(exprs(data)[, 1:5])"
   ]
  },
  {
   "cell_type": "markdown",
   "id": "dcc74770",
   "metadata": {},
   "source": [
    "The `summary` function can then be used to print the distributions of each sample and\n",
    "the `range` function can help to check for the expression value range."
   ]
  },
  {
   "cell_type": "code",
   "execution_count": 13,
   "id": "27bce30c",
   "metadata": {},
   "outputs": [
    {
     "data": {
      "text/plain": [
       "   GSM300166          GSM300167          GSM300168         GSM300169       \n",
       " Min.   :  0.0100   Min.   :  0.0100   Min.   : 0.0100   Min.   : 0.01942  \n",
       " 1st Qu.:  0.6366   1st Qu.:  0.6519   1st Qu.: 0.3342   1st Qu.: 0.32045  \n",
       " Median :  0.8622   Median :  0.8828   Median : 0.7756   Median : 0.75063  \n",
       " Mean   :  0.9193   Mean   :  0.9492   Mean   : 0.9274   Mean   : 0.87928  \n",
       " 3rd Qu.:  1.0903   3rd Qu.:  1.0880   3rd Qu.: 1.1929   3rd Qu.: 1.15987  \n",
       " Max.   :335.6746   Max.   :531.7116   Max.   :99.4657   Max.   :26.46015  \n",
       "   GSM300170       \n",
       " Min.   : 0.01098  \n",
       " 1st Qu.: 0.32324  \n",
       " Median : 0.77234  \n",
       " Mean   : 0.93768  \n",
       " 3rd Qu.: 1.21978  \n",
       " Max.   :83.41583  "
      ]
     },
     "metadata": {},
     "output_type": "display_data"
    },
    {
     "data": {
      "text/html": [
       "<style>\n",
       ".list-inline {list-style: none; margin:0; padding: 0}\n",
       ".list-inline>li {display: inline-block}\n",
       ".list-inline>li:not(:last-child)::after {content: \"\\00b7\"; padding: 0 .5ex}\n",
       "</style>\n",
       "<ol class=list-inline><li>0.01</li><li>1438.7626</li></ol>\n"
      ],
      "text/latex": [
       "\\begin{enumerate*}\n",
       "\\item 0.01\n",
       "\\item 1438.7626\n",
       "\\end{enumerate*}\n"
      ],
      "text/markdown": [
       "1. 0.01\n",
       "2. 1438.7626\n",
       "\n",
       "\n"
      ],
      "text/plain": [
       "[1]    0.010 1438.763"
      ]
     },
     "metadata": {},
     "output_type": "display_data"
    }
   ],
   "source": [
    "# Show a summary of the expression data using the summary function\n",
    "summary(exprs(data)[, 1:5])\n",
    "# Show value range of the expression data using the range function\n",
    "range(exprs(data))"
   ]
  },
  {
   "cell_type": "markdown",
   "id": "96aafb5f",
   "metadata": {},
   "source": [
    "From the summary of the data above, we can clearly see that the maximum expression values can be in the scale of thousands, while the average expression values in each sample are below one. Therefore, pre-processing and normalization are required for quality assurance. One common step is to perform quartile filtering to remove the outlier and missing expression values. Also, we will need to perform a $log_2$ transformation to ensure the distributions of all samples are similar. Then, a `boxplot` can also be generated to see if the data have been correctly normalized. We can use the sample code below to perform all of those steps."
   ]
  },
  {
   "cell_type": "code",
   "execution_count": 20,
   "id": "29bda34b",
   "metadata": {},
   "outputs": [
    {
     "data": {
      "image/png": "[encoded data removed]",
      "text/plain": [
       "plot without title"
      ]
     },
     "metadata": {
      "image/png": {
       "height": 420,
       "width": 420
      }
     },
     "output_type": "display_data"
    }
   ],
   "source": [
    "# Get expression matrix\n",
    "expression_data <- exprs(data)\n",
    "# Calculate the data quantile and remove the NA value\n",
    "qx <- as.numeric(quantile(expression_data, c(0., 0.25, 0.5, 0.75, 0.99, 1.0), na.rm = T))\n",
    "# Define LogC variable (boolean) to decide whether or not to perform the log transformation\n",
    "# If 99% of the data > 100 or (range > 50 and 25% of the data > 0), LogC = True and perform log transformation\n",
    "LogC <- (qx[5] > 100) ||\n",
    "  (qx[6]-qx[1] > 50 && qx[2] > 0)\n",
    "# Replace negative values with NA and perform log transformation if logC is True\n",
    "if (LogC) {\n",
    "    expression_data[which(expression_data <= 0)] <- NaN #\n",
    "    norm_expression_data <- log2(expression_data+1)\n",
    "}\n",
    "# Plot the boxplot of 10 samples\n",
    "boxplot(x = norm_expression_data[, 1:10], outline=FALSE)"
   ]
  },
  {
   "cell_type": "code",
   "execution_count": 18,
   "id": "f2da7e05-3a18-4b11-afd4-20d2bea75aa8",
   "metadata": {},
   "outputs": [
    {
     "data": {
      "text/html": [
       "<iframe src=\"./Quizzes/Quiz_Submodule1-2.html\" width=100% height=250></iframe>"
      ]
     },
     "metadata": {},
     "output_type": "display_data"
    }
   ],
   "source": [
    "#Run the following command to take the quiz\n",
    "IRdisplay::display_html('<iframe src=\"./Quizzes/Quiz_Submodule1-2.html\" width=100% height=250></iframe>')"
   ]
  },
  {
   "cell_type": "markdown",
   "id": "74400910",
   "metadata": {},
   "source": [
    "### Samples and Groups Selection\n",
    "In this learning course, we focus on analyzing two groups: *disease* and *control* from the *entorhinal cortex* region of the ```GSE48350``` dataset . Therefore, we need to select the samples\n",
    "that belong to *entorhinal cortex* region and form a group that has two classes. To select the samples that belong to the *entorhinal cortex*, we can use the following command:"
   ]
  },
  {
   "cell_type": "code",
   "execution_count": 21,
   "id": "b805a146",
   "metadata": {},
   "outputs": [],
   "source": [
    "# Select samples from the Entorhinal Cortex region\n",
    "idx <- grep(\"entorhinal\", samples$`brain region:ch1`)\n",
    "samples = samples[idx, ]\n",
    "# Get expression and normalized expression data for samples collected from the entorhinal cortex region\n",
    "expression_data = expression_data[, idx]\n",
    "norm_expression_data = norm_expression_data[, idx]"
   ]
  },
  {
   "cell_type": "markdown",
   "id": "33963c0d",
   "metadata": {},
   "source": [
    "To check how many samples belong to the *entorhinal cortex* region, we can use the following command:"
   ]
  },
  {
   "cell_type": "code",
   "execution_count": 22,
   "id": "5640f260",
   "metadata": {},
   "outputs": [
    {
     "name": "stdout",
     "output_type": "stream",
     "text": [
      "[1] \"#Genes: 54675 - #Samples: 54\"\n"
     ]
    }
   ],
   "source": [
    "# Print out the new number of genes and samples\n",
    "print(paste0(\"#Genes: \", dim(norm_expression_data)[1], \" - #Samples: \", dim(norm_expression_data)[2]))"
   ]
  },
  {
   "cell_type": "markdown",
   "id": "66b15c60",
   "metadata": {},
   "source": [
    "In order to perform differential expression analysis in the later submodule, we need to group patients into two groups: “disease” and “control”. From the samples source name, patients diagnosed with Alzheimer’s Disease are annotated with ‘AD’.\n",
    "Therefore, any samples that contain the string ‘AD’ are labeled by ‘d’ (condition/disease) and the remaining samples are assigned to ‘c’ (control/normal).\n",
    "The code to group the samples is presented below:"
   ]
  },
  {
   "cell_type": "code",
   "execution_count": 23,
   "id": "9ccaca6f",
   "metadata": {},
   "outputs": [],
   "source": [
    "# Select disease samples\n",
    "disease_idx <- grep(\"AD\", samples$source_name_ch1)\n",
    "# Create a vector to store the label\n",
    "groups <- rep(\"X\", nrow(samples))\n",
    "# Annotate disease samples as \"d\"\n",
    "groups[disease_idx] <- \"d\"\n",
    "# Control samples are labeled as \"c\"\n",
    "groups[which(groups!=\"d\")] <- \"c\"\n",
    "groups <- factor(groups)"
   ]
  },
  {
   "cell_type": "markdown",
   "id": "a9bfe875",
   "metadata": {},
   "source": [
    "To see the number of *control* and *disease*, we can use the following command:"
   ]
  },
  {
   "cell_type": "code",
   "execution_count": 24,
   "id": "bff2353e",
   "metadata": {},
   "outputs": [
    {
     "data": {
      "text/plain": [
       "groups\n",
       " c  d \n",
       "39 15 "
      ]
     },
     "metadata": {},
     "output_type": "display_data"
    }
   ],
   "source": [
    "# show the number of control and disease in groups variable\n",
    "table(groups)"
   ]
  },
  {
   "cell_type": "markdown",
   "id": "b0209857-88b4-422e-b64b-fbea32ebf1d1",
   "metadata": {},
   "source": [
    "## Exporting the Data\n",
    "When we have successfully retrieved expression data from GEO, we can export the expression data to a `.csv` file format for inspection in other software such as Excel using the `write_csv` function from `readr` package.\n",
    "In the code below, we will save the raw expression matrix, normalized expression matrix, and grouping information to  `.csv` files."
   ]
  },
  {
   "cell_type": "code",
   "execution_count": 27,
   "id": "0f39641e",
   "metadata": {},
   "outputs": [],
   "source": [
    "# Convert raw and normalized expression matrix to data frames and save them to csv files\n",
    "expression_data <- as.data.frame(expression_data)\n",
    "norm_expression_data <- as.data.frame(norm_expression_data)\n",
    "# Convert group to a data frame\n",
    "groups <- as.data.frame(groups)\n",
    "# Create a sub-directory data folder to save the expression matrix if it is not available\n",
    "dir <- getwd()\n",
    "subDir <- \"/data\"\n",
    "path <- paste0(dir, subDir)\n",
    "# check if the saving folder exists\n",
    "if (!file.exists(path)){\n",
    "    dir.create(file.path(path))\n",
    "}\n",
    "# Save expression values and group to the csv files format in the local folder\n",
    "write.csv(expression_data, file = \"./data/raw_GSE48350.csv\")\n",
    "write.csv(norm_expression_data, file = \"./data/normalized_GSE48350.csv\")\n",
    "write.csv(groups, file = \"./data/groups_GSE48350.csv\")"
   ]
  },
  {
   "cell_type": "markdown",
   "id": "23a731f6",
   "metadata": {},
   "source": [
    "The `.csv` format is a very simple format that might not suitable to store big datasets.\n",
    "We can export the expression data to `.rds` format, which is more memory efficient for loading and saving the data.\n",
    "We can save all the relevant data in a `list` and write to the disk using the built in `saveRDS` function."
   ]
  },
  {
   "cell_type": "code",
   "execution_count": 26,
   "id": "665869cc",
   "metadata": {},
   "outputs": [],
   "source": [
    "# Putting raw data, normalized data, and groups into a list\n",
    "dat <- list(expression_data = expression_data, norm_expression_data = norm_expression_data, groups = groups)\n",
    "# Save the data to the local disk using rds format\n",
    "saveRDS(dat, file=\"./data/GSE48350.rds\")\n"
   ]
  },
  {
   "cell_type": "markdown",
   "id": "c1d21b08-f3f3-4b02-83f9-2c118536261a",
   "metadata": {},
   "source": [
    "## Storing files in a Google Cloud Bucket"
   ]
  },
  {
   "cell_type": "markdown",
   "id": "53ec290a-3150-4914-b4e1-426cd08e734c",
   "metadata": {},
   "source": [
    "To run gsutil commands, the user can either create a code cell within the Jupyter notebook by clicking the + button at the top or \n",
    "click on File -> New -> Terminal to open the terminal \n",
    " \n",
    " \n",
    "To create buckets in R, it is best to use the `system` command that allows you to run bash commands in R."
   ]
  },
  {
   "cell_type": "code",
   "execution_count": null,
   "id": "63c970a8-885c-43a0-94ae-1e86c34cc252",
   "metadata": {},
   "outputs": [],
   "source": [
    "#set our bucket name, remember it needs to be unique\n",
    "#replace <BUCKET_NAME> with the name of your bucket\n",
    "system('gsutil mb gs://<BUCKET_NAME>', intern = TRUE)"
   ]
  },
  {
   "cell_type": "markdown",
   "id": "9ade9695",
   "metadata": {},
   "source": [
    "The command to copy data from the local disk to the Google Cloud Bucket is as follows:\n",
    "\n",
    "`gsutil cp PATH_TO_LOCAL_FOLDER gs://PATH_IN_GOOGLE_BUCKET`\n",
    "\n",
    "For example, if we want to copy the file `./data/GSE48350.rds` we can use the following command."
   ]
  },
  {
   "cell_type": "code",
   "execution_count": null,
   "id": "f5eccf36-1d99-4cc6-914b-511f3306606c",
   "metadata": {},
   "outputs": [],
   "source": [
    "#replace <BUCKET_NAME> with name of your bucket that was perviously made\n",
    "system(\"gsutil cp ./data/GSE48350.rds gs://<BUCKET_NAME>\", intern = TRUE)"
   ]
  },
  {
   "cell_type": "markdown",
   "id": "1ef6c72b",
   "metadata": {},
   "source": [
    "## Gene ID Mapping\n",
    "\n",
    "![](./images/Module1/Gene_ID_Conversion.jpg)\n",
    "## Learning Objectives:\n",
    "1. Understand different probe set ID.\n",
    "2. Map probe IDs into gene identifiers and symbols."
   ]
  },
  {
   "cell_type": "markdown",
   "id": "1e8f26b4",
   "metadata": {},
   "source": [
    "## Understanding Different Probe Set ID\n",
    "\n",
    "Gene set or pathway analysis requires that gene sets and expression data use the same type of gene ID\n",
    "(Entrez Gene ID, Gene symbol or probe set ID, etc). However, this is frequently not true for the data we have.\n",
    "For example, our gene sets mostly use Entrez Gene ID, but microarray datasets are frequently labeled by probe\n",
    "set ID (or RefSeq transcript ID, etc.). Therefore, we need to map the probe set IDs to the Entrez gene ID.\n",
    "Here, we will use the `GSE48350` dataset that we have used in the previous section for demonstration of gene ID mapping.\n",
    "To know what kind of probe set ID, we need to navigate to the GEO record page of `GSE48350`. Under the `Platform`\n",
    "tab, we can find the probe ID information.\n",
    "\n",
    "![probID](./images/Module1/ProbeID.png)"
   ]
  },
  {
   "cell_type": "markdown",
   "id": "3f2e5579",
   "metadata": {},
   "source": [
    "From the record page, we know that the dataset was generated from 1 platform using the Affymetrix Human Genome U133 Plus 2.0 Array.\n",
    "To convert or map the probe set IDs to Entrez gene ID, we need to find the corresponding annotation package from\n",
    "<a href=\"https://bioconductor.org/\">Bioconductor</a>. For analyzed data, we need to use the `hgu133plus2.db` and `AnnotationDbi` databases.\n",
    "We can install the package using the following R command:"
   ]
  },
  {
   "cell_type": "code",
   "execution_count": 28,
   "id": "5fb6d5b0",
   "metadata": {},
   "outputs": [],
   "source": [
    "suppressMessages({if (!require(\"BiocManager\", quietly = TRUE))\n",
    "    suppressWarnings(install.packages(\"BiocManager\"))\n",
    "    suppressWarnings(BiocManager::install(\"hgu133plus2.db\", update = F))\n",
    "    suppressWarnings(BiocManager::install(\"AnnotationDbi\", update = F))\n",
    "})"
   ]
  },
  {
   "cell_type": "markdown",
   "id": "8bee6afb",
   "metadata": {},
   "source": [
    "In the data processing section, we successfully downloaded the dataset `GSE48350` and saved it to the `data` sub-directory.\n",
    "Now we can load the dataset and check for the Probe Set ID names by using the following command."
   ]
  },
  {
   "cell_type": "code",
   "execution_count": 31,
   "id": "bae8d0ed",
   "metadata": {},
   "outputs": [
    {
     "data": {
      "text/html": [
       "<style>\n",
       ".list-inline {list-style: none; margin:0; padding: 0}\n",
       ".list-inline>li {display: inline-block}\n",
       ".list-inline>li:not(:last-child)::after {content: \"\\00b7\"; padding: 0 .5ex}\n",
       "</style>\n",
       "<ol class=list-inline><li>'1007_s_at'</li><li>'1053_at'</li><li>'117_at'</li><li>'121_at'</li><li>'1255_g_at'</li><li>'1294_at'</li></ol>\n"
      ],
      "text/latex": [
       "\\begin{enumerate*}\n",
       "\\item '1007\\_s\\_at'\n",
       "\\item '1053\\_at'\n",
       "\\item '117\\_at'\n",
       "\\item '121\\_at'\n",
       "\\item '1255\\_g\\_at'\n",
       "\\item '1294\\_at'\n",
       "\\end{enumerate*}\n"
      ],
      "text/markdown": [
       "1. '1007_s_at'\n",
       "2. '1053_at'\n",
       "3. '117_at'\n",
       "4. '121_at'\n",
       "5. '1255_g_at'\n",
       "6. '1294_at'\n",
       "\n",
       "\n"
      ],
      "text/plain": [
       "[1] \"1007_s_at\" \"1053_at\"   \"117_at\"    \"121_at\"    \"1255_g_at\" \"1294_at\"  "
      ]
     },
     "metadata": {},
     "output_type": "display_data"
    }
   ],
   "source": [
    "# Load the previously saved dataset and get the expression data\n",
    "data = readRDS(\"./data/GSE48350.rds\")\n",
    "expression_data = data$expression_data\n",
    "# Get all the probe IDs and print out the first few one\n",
    "probeIDs = rownames(expression_data)\n",
    "head(probeIDs)"
   ]
  },
  {
   "cell_type": "markdown",
   "id": "7d6c37a9",
   "metadata": {},
   "source": [
    "## Mapping Probe IDs Into Gene Identifiers And Symbols\n",
    "For pathway analysis, databases like Gene Ontology and KEGG use gene symbol annotation. Therefore, Probe set IDs should be mapped to gene symbol to be used in the later submodules. We can use the pre-annotated databases which are available from Bioconductor to map the probe IDs to the gene symbol. `AnnotationDbi` is an R package that provides an interface for connecting and querying various annotation databases using SQLite data storage while `hgu133plus2.db` is database to perform Probe IDs to gene symbol mapping for human data. We can use the following command to map the Probe set IDs:"
   ]
  },
  {
   "cell_type": "code",
   "execution_count": 32,
   "id": "e75ae09a",
   "metadata": {},
   "outputs": [],
   "source": [
    "suppressMessages({\n",
    "  library(hgu133plus2.db)\n",
    "  library(AnnotationDbi)\n",
    "})"
   ]
  },
  {
   "cell_type": "code",
   "execution_count": 33,
   "id": "eb5a9160",
   "metadata": {},
   "outputs": [],
   "source": [
    "# Map all the probe IDs to their symbols using AnnotationDbi and hgu133plus2.db and create an annotation lookup data frame\n",
    "suppressMessages({\n",
    "annotLookup <- AnnotationDbi::select(hgu133plus2.db, keys = probeIDs, columns = c('PROBEID','GENENAME','SYMBOL'))\n",
    "})"
   ]
  },
  {
   "cell_type": "code",
   "execution_count": 34,
   "id": "ecea1cd0",
   "metadata": {},
   "outputs": [
    {
     "data": {
      "text/html": [
       "<table class=\"dataframe\">\n",
       "<caption>A data.frame: 6 × 3</caption>\n",
       "<thead>\n",
       "\t<tr><th></th><th scope=col>PROBEID</th><th scope=col>GENENAME</th><th scope=col>SYMBOL</th></tr>\n",
       "\t<tr><th></th><th scope=col>&lt;chr&gt;</th><th scope=col>&lt;chr&gt;</th><th scope=col>&lt;chr&gt;</th></tr>\n",
       "</thead>\n",
       "<tbody>\n",
       "\t<tr><th scope=row>1</th><td>1007_s_at</td><td>discoidin domain receptor tyrosine kinase 1 </td><td>DDR1  </td></tr>\n",
       "\t<tr><th scope=row>2</th><td>1053_at  </td><td>replication factor C subunit 2              </td><td>RFC2  </td></tr>\n",
       "\t<tr><th scope=row>3</th><td>117_at   </td><td>heat shock protein family A (Hsp70) member 6</td><td>HSPA6 </td></tr>\n",
       "\t<tr><th scope=row>4</th><td>121_at   </td><td>paired box 8                                </td><td>PAX8  </td></tr>\n",
       "\t<tr><th scope=row>5</th><td>1255_g_at</td><td>guanylate cyclase activator 1A              </td><td>GUCA1A</td></tr>\n",
       "\t<tr><th scope=row>6</th><td>1294_at  </td><td>ubiquitin like modifier activating enzyme 7 </td><td>UBA7  </td></tr>\n",
       "</tbody>\n",
       "</table>\n"
      ],
      "text/latex": [
       "A data.frame: 6 × 3\n",
       "\\begin{tabular}{r|lll}\n",
       "  & PROBEID & GENENAME & SYMBOL\\\\\n",
       "  & <chr> & <chr> & <chr>\\\\\n",
       "\\hline\n",
       "\t1 & 1007\\_s\\_at & discoidin domain receptor tyrosine kinase 1  & DDR1  \\\\\n",
       "\t2 & 1053\\_at   & replication factor C subunit 2               & RFC2  \\\\\n",
       "\t3 & 117\\_at    & heat shock protein family A (Hsp70) member 6 & HSPA6 \\\\\n",
       "\t4 & 121\\_at    & paired box 8                                 & PAX8  \\\\\n",
       "\t5 & 1255\\_g\\_at & guanylate cyclase activator 1A               & GUCA1A\\\\\n",
       "\t6 & 1294\\_at   & ubiquitin like modifier activating enzyme 7  & UBA7  \\\\\n",
       "\\end{tabular}\n"
      ],
      "text/markdown": [
       "\n",
       "A data.frame: 6 × 3\n",
       "\n",
       "| <!--/--> | PROBEID &lt;chr&gt; | GENENAME &lt;chr&gt; | SYMBOL &lt;chr&gt; |\n",
       "|---|---|---|---|\n",
       "| 1 | 1007_s_at | discoidin domain receptor tyrosine kinase 1  | DDR1   |\n",
       "| 2 | 1053_at   | replication factor C subunit 2               | RFC2   |\n",
       "| 3 | 117_at    | heat shock protein family A (Hsp70) member 6 | HSPA6  |\n",
       "| 4 | 121_at    | paired box 8                                 | PAX8   |\n",
       "| 5 | 1255_g_at | guanylate cyclase activator 1A               | GUCA1A |\n",
       "| 6 | 1294_at   | ubiquitin like modifier activating enzyme 7  | UBA7   |\n",
       "\n"
      ],
      "text/plain": [
       "  PROBEID   GENENAME                                     SYMBOL\n",
       "1 1007_s_at discoidin domain receptor tyrosine kinase 1  DDR1  \n",
       "2 1053_at   replication factor C subunit 2               RFC2  \n",
       "3 117_at    heat shock protein family A (Hsp70) member 6 HSPA6 \n",
       "4 121_at    paired box 8                                 PAX8  \n",
       "5 1255_g_at guanylate cyclase activator 1A               GUCA1A\n",
       "6 1294_at   ubiquitin like modifier activating enzyme 7  UBA7  "
      ]
     },
     "metadata": {},
     "output_type": "display_data"
    }
   ],
   "source": [
    "# Show the first few rows of the annotation lookup data frame\n",
    "head(annotLookup)"
   ]
  },
  {
   "cell_type": "code",
   "execution_count": 30,
   "id": "4648674c-3292-48ed-b891-f3fbe91affa9",
   "metadata": {},
   "outputs": [
    {
     "data": {
      "text/html": [
       "<iframe src=\"./Quizzes/Quiz_Submodule1-3.html\" width=100% height=250></iframe>"
      ]
     },
     "metadata": {},
     "output_type": "display_data"
    }
   ],
   "source": [
    "#Run the following command to take the quiz\n",
    "IRdisplay::display_html('<iframe src=\"./Quizzes/Quiz_Submodule1-3.html\" width=100% height=250></iframe>')"
   ]
  },
  {
   "cell_type": "markdown",
   "id": "c3f0cef5",
   "metadata": {},
   "source": [
    "We can check the number of probe IDs that mapped to the unique gene symbols using the following command:"
   ]
  },
  {
   "cell_type": "code",
   "execution_count": 35,
   "id": "0379ec35",
   "metadata": {},
   "outputs": [
    {
     "name": "stdout",
     "output_type": "stream",
     "text": [
      "[1] \"There are 54675 probe IDs that mapped to 22186 gene symbols\"\n"
     ]
    }
   ],
   "source": [
    "# Check the number of probe IDs\n",
    "print(paste0(\"There are \", length(unique(annotLookup$PROBEID)),\" probe IDs that mapped to \", length(unique(annotLookup$SYMBOL)), \" gene symbols\"))"
   ]
  },
  {
   "cell_type": "markdown",
   "id": "6247efff",
   "metadata": {},
   "source": [
    "From the lookup table we can spot that a single gene symbol can be mapped to multiple probe IDs. In the next submodule, we will discuss how these mapped gene symbols can be used to identify which genes are differentially expressed. \n"
   ]
  },
  {
   "cell_type": "code",
   "execution_count": 32,
   "id": "75deed91-8373-425f-91e1-5c364768ffa3",
   "metadata": {},
   "outputs": [
    {
     "data": {
      "text/plain": [
       "R version 4.3.2 (2023-10-31 ucrt)\n",
       "Platform: x86_64-w64-mingw32/x64 (64-bit)\n",
       "Running under: Windows 10 x64 (build 19045)\n",
       "\n",
       "Matrix products: default\n",
       "\n",
       "\n",
       "locale:\n",
       "[1] LC_COLLATE=English_United States.utf8 \n",
       "[2] LC_CTYPE=English_United States.utf8   \n",
       "[3] LC_MONETARY=English_United States.utf8\n",
       "[4] LC_NUMERIC=C                          \n",
       "[5] LC_TIME=English_United States.utf8    \n",
       "\n",
       "time zone: America/Chicago\n",
       "tzcode source: internal\n",
       "\n",
       "attached base packages:\n",
       "[1] stats4    stats     graphics  grDevices utils     datasets  methods  \n",
       "[8] base     \n",
       "\n",
       "other attached packages:\n",
       "[1] hgu133plus2.db_3.13.0 org.Hs.eg.db_3.18.0   AnnotationDbi_1.64.1 \n",
       "[4] IRanges_2.36.0        S4Vectors_0.40.2      GEOquery_2.70.0      \n",
       "[7] Biobase_2.62.0        BiocGenerics_0.48.1   BiocManager_1.30.22  \n",
       "\n",
       "loaded via a namespace (and not attached):\n",
       " [1] utf8_1.2.4              generics_0.1.3          tidyr_1.3.0            \n",
       " [4] bitops_1.0-7            xml2_1.3.6              RSQLite_2.3.4          \n",
       " [7] hms_1.1.3               digest_0.6.33           magrittr_2.0.3         \n",
       "[10] evaluate_0.23           pbdZMQ_0.3-10           fastmap_1.1.1          \n",
       "[13] blob_1.2.4              R.oo_1.25.0             jsonlite_1.8.8         \n",
       "[16] R.utils_2.12.3          GenomeInfoDb_1.38.2     DBI_1.2.0              \n",
       "[19] limma_3.58.1            httr_1.4.7              purrr_1.0.2            \n",
       "[22] fansi_1.0.6             Biostrings_2.70.1       cli_3.6.2              \n",
       "[25] rlang_1.1.2             crayon_1.5.2            XVector_0.42.0         \n",
       "[28] R.methodsS3_1.8.2       bit64_4.0.5             base64enc_0.1-3        \n",
       "[31] withr_2.5.2             repr_1.1.6              cachem_1.0.8           \n",
       "[34] tools_4.3.2             tzdb_0.4.0              uuid_1.1-1             \n",
       "[37] memoise_2.0.1           dplyr_1.1.4             GenomeInfoDbData_1.2.11\n",
       "[40] curl_5.2.0              IRdisplay_1.1           png_0.1-8              \n",
       "[43] vctrs_0.6.5             R6_2.5.1                lifecycle_1.0.4        \n",
       "[46] zlibbioc_1.48.0         KEGGREST_1.42.0         bit_4.0.5              \n",
       "[49] pkgconfig_2.0.3         pillar_1.9.0            data.table_1.14.10     \n",
       "[52] glue_1.6.2              statmod_1.5.0           tibble_3.2.1           \n",
       "[55] tidyselect_1.2.0        IRkernel_1.3.2          htmltools_0.5.7        \n",
       "[58] readr_2.1.4             compiler_4.3.2          RCurl_1.98-1.13        "
      ]
     },
     "metadata": {},
     "output_type": "display_data"
    }
   ],
   "source": [
    "sessionInfo()"
   ]
  },
  {
   "cell_type": "code",
   "execution_count": null,
   "id": "72f4fbc7-458b-445c-b050-c20f44a1adac",
   "metadata": {},
   "outputs": [],
   "source": []
  }
 ],
 "metadata": {
  "celltoolbar": "Tags",
  "environment": {
   "kernel": "ir",
   "name": "r-cpu.4-2.m107",
   "type": "gcloud",
   "uri": "gcr.io/deeplearning-platform-release/r-cpu.4-2:m107"
  },
  "kernelspec": {
   "display_name": "R",
   "language": "R",
   "name": "ir"
  },
  "language_info": {
   "codemirror_mode": "r",
   "file_extension": ".r",
   "mimetype": "text/x-r-source",
   "name": "R",
   "pygments_lexer": "r",
   "version": "4.3.2"
  },
  "toc-showcode": true
 },
 "nbformat": 4,
 "nbformat_minor": 5
}
