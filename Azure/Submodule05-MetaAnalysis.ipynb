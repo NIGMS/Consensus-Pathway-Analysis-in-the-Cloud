{
 "cells": [
  {
   "cell_type": "markdown",
   "id": "d3716dad",
   "metadata": {},
   "source": [
    "# Meta Analysis\n",
    "![](./images/Module5/Module5.jpg)\n",
    "\n",
    "## Overview\n",
    "\n",
    "Meta pathway analysis using multiple omics data is a rapidly emerging field in bioinformatics and systems biology that allows for the integration of diverse omics data from genomics, transcriptomics, proteomics, metabolomics, and other molecular biology disciplines. By integrating multiple omics data, meta pathway analysis aims to provide a comprehensive understanding of the cellular functions and molecular mechanisms underlying biological processes in a given organism. This approach offers a powerful means to investigate the complex interplay between genes, proteins, and metabolites in different biological contexts, such as disease states or environmental conditions. Moreover, meta pathway analysis can identify key regulatory pathways and molecular signatures that are critical for the development of targeted therapeutics and precision medicine. Overall, the integration of multiple omics data through meta pathway analysis has the potential to reveal new insights into the underlying biology of complex diseases and to guide the development of personalized treatments. In this submodule, we will demonstrate the power of meta-analysis to find the significant pathways for Alzheimer and Parkinson diseases.\n",
    "\n",
    "## Learning Objectives:\n",
    "1. Downloading processed data\n",
    "2. Performing enrichment analysis using FGSEA and plotting results\n",
    "3. Performing meta-analysis and plotting results\n",
    "\n",
    "## Prerequisites\n",
    "\n",
    "**R Packages:** The notebook uses several R packages:\n",
    "* `fgsea` \n",
    "* `stringr`\n",
    "* `meta`\n",
    "* `matrixStats`\n",
    "* `cowplot`\n",
    "* `ggpubr`\n",
    "* `dplyr`\n",
    "* `tidyr`\n",
    "* `ggvenn`\n",
    "* `ggnewscale`\n",
    "* `BiocManager`\n",
    "* `gridExtra` (used implicitly in the `grid.arrange` call)\n",
    "\n",
    "## Get Started\n",
    "\n",
    "### **Important: Choose \"R\" kernel to run the notebook.**\n",
    "\n",
    "### Table of Contents\n",
    "\n",
    "1. [Example Analyses using FGSEA](#EA-main)\n",
    "2. [Meta-Analysis](#meta-main)"
   ]
  },
  {
   "cell_type": "code",
   "execution_count": null,
   "id": "b06f9d8d-6188-49bc-b557-2b63e30ddcd1",
   "metadata": {},
   "outputs": [],
   "source": [
    "#Run the following command to take the quiz\n",
    "IRdisplay::display_html('<iframe src=\"../Quizzes/Quiz_Submodule5.html\" width=100% height=250></iframe>')"
   ]
  },
  {
   "cell_type": "markdown",
   "id": "c160f6a2",
   "metadata": {},
   "source": [
    "### Data loading\n",
    "In this submodule 5, we will the two datasets (GSE5281 and GSE153873) that we have been using throughout the 4 previous submodules. We will examine the result of the `fgsea` pathway analysis method on each dataset and use a meta-analysis method to combine the results. We will first need to load the differential analysis results of the two dataset to perform pathway analysis using `fgsea`. "
   ]
  },
  {
   "cell_type": "code",
   "execution_count": null,
   "id": "4dc2b0b3-e21d-47b3-9465-b38891a27a07",
   "metadata": {},
   "outputs": [],
   "source": [
    "# Download the GSE48350.rds file to the \"data\" folder in current directory\n",
    "# Replace <STORAGEACCOUNT-NAME> with the name of your storage account\n",
    "system(\"az storage blob download --account-name <STORAGEACCOUNT-NAME> --container-name data --name GSE5281.rds --file ./data/GSE5281.rds\", intern = TRUE)\n",
    "system(\"az storage blob download --account-name <STORAGEACCOUNT-NAME> --container-name data --name GSE153873.rds --file ./data/GSE153873.rds\", intern = TRUE)\n",
    "\n",
    "# Download the GO_terms.gmt, KEGG_pathways.gmt, REACTOME_pathways.gmt files to the \"data\" folder in current directory\n",
    "# Replace <STORAGEACCOUNT-NAME> with the name of your storage account\n",
    "system(\"az storage blob download --account-name <STORAGEACCOUNT-NAME> --container-name data --name GO_terms.gmt --file ./data/GO_terms.gmt\", intern = TRUE)\n",
    "system(\"az storage blob download --account-name <STORAGEACCOUNT-NAME> --container-name data --name KEGG_pathways.gmt --file ./data/KEGG_pathways.gmt\", intern = TRUE)\n",
    "system(\"az storage blob download --account-name <STORAGEACCOUNT-NAME> --container-name data --name REACTOME_pathways.gmt --file ./data/REACTOME_pathways.gmt\", intern = TRUE)"
   ]
  },
  {
   "cell_type": "code",
   "execution_count": 1,
   "id": "f6b0505b-8279-4432-8f1e-f70208315c34",
   "metadata": {},
   "outputs": [
    {
     "data": {
      "text/html": [
       "<table class=\"dataframe\">\n",
       "<caption>A data.frame: 6 × 7</caption>\n",
       "<thead>\n",
       "\t<tr><th></th><th scope=col>SYMBOL</th><th scope=col>p.value</th><th scope=col>pFDR</th><th scope=col>statistic</th><th scope=col>logFC</th><th scope=col>avgExpr</th><th scope=col>sampleSize</th></tr>\n",
       "\t<tr><th></th><th scope=col>&lt;chr&gt;</th><th scope=col>&lt;dbl&gt;</th><th scope=col>&lt;dbl&gt;</th><th scope=col>&lt;dbl&gt;</th><th scope=col>&lt;dbl&gt;</th><th scope=col>&lt;dbl&gt;</th><th scope=col>&lt;int&gt;</th></tr>\n",
       "</thead>\n",
       "<tbody>\n",
       "\t<tr><th scope=row>LOC101926975</th><td>LOC101926975</td><td>3.656235e-09</td><td>9.921193e-05</td><td>-8.344000</td><td>-1.8227116</td><td> 3.023096</td><td>30</td></tr>\n",
       "\t<tr><th scope=row>ZNF596</th><td>ZNF596      </td><td>1.039453e-07</td><td>9.436325e-04</td><td>-7.031987</td><td>-0.9139531</td><td> 6.144073</td><td>30</td></tr>\n",
       "\t<tr><th scope=row>MED29</th><td>MED29       </td><td>1.043264e-07</td><td>9.436325e-04</td><td>-7.030596</td><td>-0.7998715</td><td>10.203245</td><td>30</td></tr>\n",
       "\t<tr><th scope=row>RABGEF1</th><td>RABGEF1     </td><td>2.890031e-07</td><td>1.751271e-03</td><td>-6.646324</td><td>-0.3878036</td><td> 9.562289</td><td>30</td></tr>\n",
       "\t<tr><th scope=row>DPH2</th><td>DPH2        </td><td>3.573454e-07</td><td>1.751271e-03</td><td>-6.566992</td><td>-0.7689566</td><td> 7.747132</td><td>30</td></tr>\n",
       "\t<tr><th scope=row>ALB</th><td>ALB         </td><td>3.872351e-07</td><td>1.751271e-03</td><td>-6.537030</td><td>-2.0374944</td><td> 3.125139</td><td>30</td></tr>\n",
       "</tbody>\n",
       "</table>\n"
      ],
      "text/latex": [
       "A data.frame: 6 × 7\n",
       "\\begin{tabular}{r|lllllll}\n",
       "  & SYMBOL & p.value & pFDR & statistic & logFC & avgExpr & sampleSize\\\\\n",
       "  & <chr> & <dbl> & <dbl> & <dbl> & <dbl> & <dbl> & <int>\\\\\n",
       "\\hline\n",
       "\tLOC101926975 & LOC101926975 & 3.656235e-09 & 9.921193e-05 & -8.344000 & -1.8227116 &  3.023096 & 30\\\\\n",
       "\tZNF596 & ZNF596       & 1.039453e-07 & 9.436325e-04 & -7.031987 & -0.9139531 &  6.144073 & 30\\\\\n",
       "\tMED29 & MED29        & 1.043264e-07 & 9.436325e-04 & -7.030596 & -0.7998715 & 10.203245 & 30\\\\\n",
       "\tRABGEF1 & RABGEF1      & 2.890031e-07 & 1.751271e-03 & -6.646324 & -0.3878036 &  9.562289 & 30\\\\\n",
       "\tDPH2 & DPH2         & 3.573454e-07 & 1.751271e-03 & -6.566992 & -0.7689566 &  7.747132 & 30\\\\\n",
       "\tALB & ALB          & 3.872351e-07 & 1.751271e-03 & -6.537030 & -2.0374944 &  3.125139 & 30\\\\\n",
       "\\end{tabular}\n"
      ],
      "text/markdown": [
       "\n",
       "A data.frame: 6 × 7\n",
       "\n",
       "| <!--/--> | SYMBOL &lt;chr&gt; | p.value &lt;dbl&gt; | pFDR &lt;dbl&gt; | statistic &lt;dbl&gt; | logFC &lt;dbl&gt; | avgExpr &lt;dbl&gt; | sampleSize &lt;int&gt; |\n",
       "|---|---|---|---|---|---|---|---|\n",
       "| LOC101926975 | LOC101926975 | 3.656235e-09 | 9.921193e-05 | -8.344000 | -1.8227116 |  3.023096 | 30 |\n",
       "| ZNF596 | ZNF596       | 1.039453e-07 | 9.436325e-04 | -7.031987 | -0.9139531 |  6.144073 | 30 |\n",
       "| MED29 | MED29        | 1.043264e-07 | 9.436325e-04 | -7.030596 | -0.7998715 | 10.203245 | 30 |\n",
       "| RABGEF1 | RABGEF1      | 2.890031e-07 | 1.751271e-03 | -6.646324 | -0.3878036 |  9.562289 | 30 |\n",
       "| DPH2 | DPH2         | 3.573454e-07 | 1.751271e-03 | -6.566992 | -0.7689566 |  7.747132 | 30 |\n",
       "| ALB | ALB          | 3.872351e-07 | 1.751271e-03 | -6.537030 | -2.0374944 |  3.125139 | 30 |\n",
       "\n"
      ],
      "text/plain": [
       "             SYMBOL       p.value      pFDR         statistic logFC     \n",
       "LOC101926975 LOC101926975 3.656235e-09 9.921193e-05 -8.344000 -1.8227116\n",
       "ZNF596       ZNF596       1.039453e-07 9.436325e-04 -7.031987 -0.9139531\n",
       "MED29        MED29        1.043264e-07 9.436325e-04 -7.030596 -0.7998715\n",
       "RABGEF1      RABGEF1      2.890031e-07 1.751271e-03 -6.646324 -0.3878036\n",
       "DPH2         DPH2         3.573454e-07 1.751271e-03 -6.566992 -0.7689566\n",
       "ALB          ALB          3.872351e-07 1.751271e-03 -6.537030 -2.0374944\n",
       "             avgExpr   sampleSize\n",
       "LOC101926975  3.023096 30        \n",
       "ZNF596        6.144073 30        \n",
       "MED29        10.203245 30        \n",
       "RABGEF1       9.562289 30        \n",
       "DPH2          7.747132 30        \n",
       "ALB           3.125139 30        "
      ]
     },
     "metadata": {},
     "output_type": "display_data"
    }
   ],
   "source": [
    "# Load previously saved data\n",
    "gse5281Data <- readRDS(\"./data/GSE5281.rds\")\n",
    "gse5281LimmaRes <- gse5281Data$limma_results\n",
    "gse5281LimmaRes$sampleSize <- ncol(gse5281Data$expression_data)\n",
    "# Load previously saved data\n",
    "gse153873Data <- readRDS(\"./data/GSE153873.rds\")\n",
    "gse153873LimmaRes <- gse153873Data$limma_results\n",
    "gse153873LimmaRes$sampleSize <- ncol(gse153873Data$expression_data)\n",
    "head(gse153873LimmaRes)"
   ]
  },
  {
   "cell_type": "code",
   "execution_count": 2,
   "id": "d9041eee-8b23-4061-a44d-cc46072fae06",
   "metadata": {},
   "outputs": [],
   "source": [
    "allDEData <- list(GSE5281 = gse5281LimmaRes, GSE153873 = gse153873LimmaRes)"
   ]
  },
  {
   "cell_type": "markdown",
   "id": "722ce8e2",
   "metadata": {},
   "source": [
    "### Loading Required Libraries\n",
    "In this submodule, we will load several libraries to perform enrichment analysis, meta-analysis, and visualization. We will use the package `fgsea` for enrichment analysis. For visualization purposes, we will use `ggpubr` and `cowplot`. `ggpubr` offers a variety of functions for creating publication-ready plots such as barplots, boxplots, scatterplots, histograms, and heatmaps. Meanwhile, `cowplot` enables the creation of custom layouts for complex multi-panel figures, allowing features like arranging plots in a grid, adding margins, padding, labels, aligning plots, adjusting font sizes and colors, and exporting plots to different file formats. Additionally, we will include the `ggvenn` package to create a Venn diagram. `ggvenn` facilitates the generation of visually appealing Venn diagrams for better representation of set relationships. To enhance heatmap visualization, we will also incorporate the `ggnewscale` package.\n",
    "\n",
    "For meta-analysis, we will utilize the `meta` R package, which provides functions for fixed-effect and random-effects meta-analyses, sensitivity analyses, subgroup analyses, meta-regression analyses, assessing study heterogeneity, and creating forest plots to visualize results.\n",
    "\n",
    "Lastly, utility functions for manipulating input matrices will be obtained from the `stringr` and `matrixStats` packages."
   ]
  },
  {
   "cell_type": "code",
   "execution_count": 3,
   "id": "686ff148-7a98-439e-8435-e923b7a4c34e",
   "metadata": {},
   "outputs": [],
   "source": [
    ".libPaths(\"/home/azureuser\")"
   ]
  },
  {
   "cell_type": "code",
   "execution_count": null,
   "id": "2b35384d-f6c1-4a3f-a8d0-579fc825437f",
   "metadata": {},
   "outputs": [],
   "source": [
    "suppressMessages(install.packages(\"meta\", lib = \"/home/azureuser\"))\n",
    "suppressMessages(install.packages(\"ggpubr\", lib = \"/home/azureuser\"))"
   ]
  },
  {
   "cell_type": "code",
   "execution_count": 4,
   "id": "acdb01c0",
   "metadata": {},
   "outputs": [
    {
     "name": "stderr",
     "output_type": "stream",
     "text": [
      "Warning message in check_dep_version():\n",
      "“ABI version mismatch: \n",
      "lme4 was built with Matrix ABI version 0\n",
      "Current Matrix ABI version is 2\n",
      "Please re-install lme4 from source or restore original ‘Matrix’ package”\n"
     ]
    }
   ],
   "source": [
    "# Loading the packages\n",
    "suppressMessages({\n",
    "    suppressPackageStartupMessages({library(fgsea)})\n",
    "    suppressPackageStartupMessages({library(stringr)})\n",
    "    suppressPackageStartupMessages({library(meta)})\n",
    "    suppressPackageStartupMessages({library(matrixStats)})\n",
    "    suppressPackageStartupMessages({library(cowplot)})\n",
    "    suppressPackageStartupMessages({library(ggpubr)})\n",
    "    suppressPackageStartupMessages({library(dplyr)})\n",
    "    suppressPackageStartupMessages({library(tidyr)})\n",
    "    suppressPackageStartupMessages({library(ggvenn)})\n",
    "    suppressPackageStartupMessages({library(ggnewscale)})\n",
    "                     \n",
    "})\n"
   ]
  },
  {
   "cell_type": "markdown",
   "id": "d42cb6c7",
   "metadata": {},
   "source": [
    "<!-- headings -->\n",
    "<a id=\"EA-main\"></a>\n",
    "## 1. Example Analyses using FGSEA\n",
    "In this section, we will perform enrichment analysis using the `fgsea` package for two datasets that we have been using throughout the previous submodules. Then in the next section, we will learn how to use meta-pathway analysis to combine the results of the two datasets.\n"
   ]
  },
  {
   "cell_type": "code",
   "execution_count": null,
   "id": "9426a7ed-7bc8-451a-837a-62187eecebca",
   "metadata": {},
   "outputs": [],
   "source": [
    "#Run the following command to take the quiz\n",
    "IRdisplay::display_html('<iframe src=\"../Quizzes/Quiz_Submodule5-1.html\" width=100% height=250></iframe>')"
   ]
  },
  {
   "cell_type": "markdown",
   "id": "5e3f7436-6c72-4ec6-8122-60ef7e1a1293",
   "metadata": {},
   "source": [
    "To perform enrichment analysis using FGSEA, we can load the KEGG pathways for the analyses using the `gmtPathways` of the `fgsea` package as follows."
   ]
  },
  {
   "cell_type": "code",
   "execution_count": 5,
   "id": "4e4ed793",
   "metadata": {},
   "outputs": [],
   "source": [
    "# Get all human geneset\n",
    "geneSet <- gmtPathways(\"./data/KEGG_pathways.gmt\")\n",
    "# Get unique geneset\n",
    "genes <- unique(unlist(geneSet))\n",
    "# Parameter to set the number of permutations\n",
    "perm <- 1000"
   ]
  },
  {
   "cell_type": "markdown",
   "id": "e3dbc1f6",
   "metadata": {},
   "source": [
    "Now, we can perform enrichment analysis for the two datasets using the following script"
   ]
  },
  {
   "cell_type": "code",
   "execution_count": 6,
   "id": "8b0b34ee",
   "metadata": {},
   "outputs": [],
   "source": [
    "allEnrichmentResult <- lapply(1:length(allDEData), function(iteration){\n",
    "    exprs <- allDEData[[iteration]]\n",
    "    # Set seed for reproducibility\n",
    "    set.seed(iteration)\n",
    "    stats <- exprs$statistic\n",
    "    names(stats) <- rownames(exprs)\n",
    "    # Perform enrichment analysis\n",
    "    res <- suppressWarnings(fgsea(pathways = geneSet,\n",
    "                                   stats = stats, nperm = perm))\n",
    "    res$pvals$sample.size <- ncol(exprs)\n",
    "    # Store results in a list\n",
    "    list(\n",
    "        id = names(allDEData)[iteration],\n",
    "        data = data,\n",
    "        res = res\n",
    "    )\n",
    "})\n",
    "# Assign names using dataset ID to the results\n",
    "names(allEnrichmentResult) <- names(allDEData)\n"
   ]
  },
  {
   "cell_type": "markdown",
   "id": "3b482aaf",
   "metadata": {},
   "source": [
    "We can view the enrichment analysis result for the first dataset using the following command. The result is saved in a data frame in which the first three columns contain pathway names, p-value, and adjusted p-value. The next column has the Enrichment Score calculated by walking down the ranked list of genes, and at each step, adding the running sum of the enrichment score for the gene set. The enrichment score is defined as the difference between the proportion of genes in the gene set that are up-regulated and the proportion of genes in the gene set that are down-regulated, multiplied by the degree of differential expression. The next column has the Normalized Enrichment Score (NES) that takes into account both the enrichment of the gene set and its size, and it is normalized to correct for the multiple hypothesis testing performed in the analysis.\n",
    "\n",
    "In the next column, the NES score is calculated as the maximum deviation of the enrichment score from the expected null distribution, divided by the standard deviation of the scores of all possible permutations of the gene set labels. MoreExtreme is a statistical metric to estimate the significance of the enrichment score of a gene set in a ranked list of genes. The \"size\" column of a gene set is an important factor that can affect the interpretation of the enrichment analysis results. The \"leadingEdge\" column is a subset of genes within a gene set that contribute most to the enrichment signal of the gene set in a ranked list of genes."
   ]
  },
  {
   "cell_type": "code",
   "execution_count": 7,
   "id": "dc77ac2c",
   "metadata": {},
   "outputs": [
    {
     "data": {
      "text/html": [
       "<table class=\"dataframe\">\n",
       "<caption>A data.table: 10 × 9</caption>\n",
       "<thead>\n",
       "\t<tr><th scope=col>pathway</th><th scope=col>pval</th><th scope=col>padj</th><th scope=col>ES</th><th scope=col>NES</th><th scope=col>nMoreExtreme</th><th scope=col>size</th><th scope=col>leadingEdge</th><th scope=col>pvals</th></tr>\n",
       "\t<tr><th scope=col>&lt;chr&gt;</th><th scope=col>&lt;dbl&gt;</th><th scope=col>&lt;dbl&gt;</th><th scope=col>&lt;dbl&gt;</th><th scope=col>&lt;dbl&gt;</th><th scope=col>&lt;dbl&gt;</th><th scope=col>&lt;int&gt;</th><th scope=col>&lt;list&gt;</th><th scope=col>&lt;int&gt;</th></tr>\n",
       "</thead>\n",
       "<tbody>\n",
       "\t<tr><td>hsa00010</td><td>0.003731343</td><td>0.02802477</td><td>-0.5074830</td><td>-1.7015463</td><td>  2</td><td>65</td><td>GPI    , ENO2   , TPI1   , PFKM   , LDHA   , HK1    , GAPDH  , AKR1A1 , PDHB   , ALDOA  , DLD    , PGAM1  , BPGM   , PKM    , LDHB   , ALDOC  , ENO1   , PFKP   , ADPGK  , ALDH3A2, DLAT   , FBP2   , LDHC   , G6PC3  , PDHA1  , MINPP1 , ACSS2  </td><td>7</td></tr>\n",
       "\t<tr><td>hsa00020</td><td>0.001416431</td><td>0.01250000</td><td>-0.6973236</td><td>-2.0443930</td><td>  0</td><td>30</td><td>IDH3G , SDHB  , MDH1  , SDHA  , IDH3B , PDHB  , DLD   , SUCLA2, IDH3A , ACO2  , MDH2  , ACLY  , CS    , ACO1  , SUCLG1, OGDHL , SDHC  , FH    , DLAT  </td><td>7</td></tr>\n",
       "\t<tr><td>hsa00030</td><td>0.006877579</td><td>0.04197384</td><td>-0.5587710</td><td>-1.6608781</td><td>  4</td><td>31</td><td>GPI   , PFKM  , ALDOA , TALDO1, IDNK  , PRPS2 , TKT   , ALDOC , PFKP  , RBKS  </td><td>7</td></tr>\n",
       "\t<tr><td>hsa00040</td><td>0.404401651</td><td>0.60233664</td><td>-0.3541911</td><td>-1.0527896</td><td>293</td><td>31</td><td>AKR1A1, UGP2  , AKR1B1, DHDH  , FGGY  </td><td>7</td></tr>\n",
       "\t<tr><td>hsa00051</td><td>0.001356852</td><td>0.01250000</td><td>-0.6092873</td><td>-1.8458417</td><td>  0</td><td>33</td><td>TPI1  , PFKM  , HK1   , ALDOA , GMDS  , TIGAR , AKR1B1, PMM1  , GFUS  , ALDOC , MPI   , PMM2  , PFKP  , ENOSF1</td><td>7</td></tr>\n",
       "\t<tr><td>hsa00052</td><td>0.502063274</td><td>0.68950938</td><td>-0.3256861</td><td>-0.9680620</td><td>364</td><td>31</td><td>PFKM  , HK1   , UGP2  , AKR1B1</td><td>7</td></tr>\n",
       "\t<tr><td>hsa00053</td><td>0.752542373</td><td>0.87097527</td><td> 0.2419708</td><td> 0.8151665</td><td>221</td><td>27</td><td>UGDH   , GUSB   , ALDH9A1, UGT1A7 , UGT1A5 , UGT1A3 , UGT1A9 , UGT1A10, UGT1A8 , UGT1A6 , UGT1A4 , UGT1A1 </td><td>7</td></tr>\n",
       "\t<tr><td>hsa00500</td><td>0.014725569</td><td>0.06839639</td><td>-0.5113808</td><td>-1.5795264</td><td> 10</td><td>36</td><td>GPI  , HK1  , GYG1 , UGP2 , PYGB , AMY2B, AMY2A, AMY1C, AMY1B, AMY1A, GBE1 </td><td>7</td></tr>\n",
       "\t<tr><td>hsa00620</td><td>0.001282051</td><td>0.01250000</td><td>-0.5949568</td><td>-1.9186591</td><td>  0</td><td>47</td><td>ME3    , LDHA   , MDH1   , ACACA  , HAGH   , AKR1A1 , PDHB   , GLO1   , ACYP2  , DLD    , GRHPR  , ME2    , MDH2   , PKM    , ACAT2  , LDHB   , ACYP1  , FH     , ALDH3A2, DLAT   , ME1    , LDHC   , LDHD   , PDHA1  , ACSS2  </td><td>7</td></tr>\n",
       "\t<tr><td>hsa00630</td><td>0.028885832</td><td>0.10621561</td><td>-0.5126062</td><td>-1.5236590</td><td> 20</td><td>31</td><td>MDH1 , DLD  , GRHPR, ACO2 , PGP  , MDH2 , PCCA , CS   , ACAT2, ACO1 </td><td>7</td></tr>\n",
       "</tbody>\n",
       "</table>\n"
      ],
      "text/latex": [
       "A data.table: 10 × 9\n",
       "\\begin{tabular}{lllllllll}\n",
       " pathway & pval & padj & ES & NES & nMoreExtreme & size & leadingEdge & pvals\\\\\n",
       " <chr> & <dbl> & <dbl> & <dbl> & <dbl> & <dbl> & <int> & <list> & <int>\\\\\n",
       "\\hline\n",
       "\t hsa00010 & 0.003731343 & 0.02802477 & -0.5074830 & -1.7015463 &   2 & 65 & GPI    , ENO2   , TPI1   , PFKM   , LDHA   , HK1    , GAPDH  , AKR1A1 , PDHB   , ALDOA  , DLD    , PGAM1  , BPGM   , PKM    , LDHB   , ALDOC  , ENO1   , PFKP   , ADPGK  , ALDH3A2, DLAT   , FBP2   , LDHC   , G6PC3  , PDHA1  , MINPP1 , ACSS2   & 7\\\\\n",
       "\t hsa00020 & 0.001416431 & 0.01250000 & -0.6973236 & -2.0443930 &   0 & 30 & IDH3G , SDHB  , MDH1  , SDHA  , IDH3B , PDHB  , DLD   , SUCLA2, IDH3A , ACO2  , MDH2  , ACLY  , CS    , ACO1  , SUCLG1, OGDHL , SDHC  , FH    , DLAT   & 7\\\\\n",
       "\t hsa00030 & 0.006877579 & 0.04197384 & -0.5587710 & -1.6608781 &   4 & 31 & GPI   , PFKM  , ALDOA , TALDO1, IDNK  , PRPS2 , TKT   , ALDOC , PFKP  , RBKS   & 7\\\\\n",
       "\t hsa00040 & 0.404401651 & 0.60233664 & -0.3541911 & -1.0527896 & 293 & 31 & AKR1A1, UGP2  , AKR1B1, DHDH  , FGGY   & 7\\\\\n",
       "\t hsa00051 & 0.001356852 & 0.01250000 & -0.6092873 & -1.8458417 &   0 & 33 & TPI1  , PFKM  , HK1   , ALDOA , GMDS  , TIGAR , AKR1B1, PMM1  , GFUS  , ALDOC , MPI   , PMM2  , PFKP  , ENOSF1 & 7\\\\\n",
       "\t hsa00052 & 0.502063274 & 0.68950938 & -0.3256861 & -0.9680620 & 364 & 31 & PFKM  , HK1   , UGP2  , AKR1B1 & 7\\\\\n",
       "\t hsa00053 & 0.752542373 & 0.87097527 &  0.2419708 &  0.8151665 & 221 & 27 & UGDH   , GUSB   , ALDH9A1, UGT1A7 , UGT1A5 , UGT1A3 , UGT1A9 , UGT1A10, UGT1A8 , UGT1A6 , UGT1A4 , UGT1A1  & 7\\\\\n",
       "\t hsa00500 & 0.014725569 & 0.06839639 & -0.5113808 & -1.5795264 &  10 & 36 & GPI  , HK1  , GYG1 , UGP2 , PYGB , AMY2B, AMY2A, AMY1C, AMY1B, AMY1A, GBE1  & 7\\\\\n",
       "\t hsa00620 & 0.001282051 & 0.01250000 & -0.5949568 & -1.9186591 &   0 & 47 & ME3    , LDHA   , MDH1   , ACACA  , HAGH   , AKR1A1 , PDHB   , GLO1   , ACYP2  , DLD    , GRHPR  , ME2    , MDH2   , PKM    , ACAT2  , LDHB   , ACYP1  , FH     , ALDH3A2, DLAT   , ME1    , LDHC   , LDHD   , PDHA1  , ACSS2   & 7\\\\\n",
       "\t hsa00630 & 0.028885832 & 0.10621561 & -0.5126062 & -1.5236590 &  20 & 31 & MDH1 , DLD  , GRHPR, ACO2 , PGP  , MDH2 , PCCA , CS   , ACAT2, ACO1  & 7\\\\\n",
       "\\end{tabular}\n"
      ],
      "text/markdown": [
       "\n",
       "A data.table: 10 × 9\n",
       "\n",
       "| pathway &lt;chr&gt; | pval &lt;dbl&gt; | padj &lt;dbl&gt; | ES &lt;dbl&gt; | NES &lt;dbl&gt; | nMoreExtreme &lt;dbl&gt; | size &lt;int&gt; | leadingEdge &lt;list&gt; | pvals &lt;int&gt; |\n",
       "|---|---|---|---|---|---|---|---|---|\n",
       "| hsa00010 | 0.003731343 | 0.02802477 | -0.5074830 | -1.7015463 |   2 | 65 | GPI    , ENO2   , TPI1   , PFKM   , LDHA   , HK1    , GAPDH  , AKR1A1 , PDHB   , ALDOA  , DLD    , PGAM1  , BPGM   , PKM    , LDHB   , ALDOC  , ENO1   , PFKP   , ADPGK  , ALDH3A2, DLAT   , FBP2   , LDHC   , G6PC3  , PDHA1  , MINPP1 , ACSS2   | 7 |\n",
       "| hsa00020 | 0.001416431 | 0.01250000 | -0.6973236 | -2.0443930 |   0 | 30 | IDH3G , SDHB  , MDH1  , SDHA  , IDH3B , PDHB  , DLD   , SUCLA2, IDH3A , ACO2  , MDH2  , ACLY  , CS    , ACO1  , SUCLG1, OGDHL , SDHC  , FH    , DLAT   | 7 |\n",
       "| hsa00030 | 0.006877579 | 0.04197384 | -0.5587710 | -1.6608781 |   4 | 31 | GPI   , PFKM  , ALDOA , TALDO1, IDNK  , PRPS2 , TKT   , ALDOC , PFKP  , RBKS   | 7 |\n",
       "| hsa00040 | 0.404401651 | 0.60233664 | -0.3541911 | -1.0527896 | 293 | 31 | AKR1A1, UGP2  , AKR1B1, DHDH  , FGGY   | 7 |\n",
       "| hsa00051 | 0.001356852 | 0.01250000 | -0.6092873 | -1.8458417 |   0 | 33 | TPI1  , PFKM  , HK1   , ALDOA , GMDS  , TIGAR , AKR1B1, PMM1  , GFUS  , ALDOC , MPI   , PMM2  , PFKP  , ENOSF1 | 7 |\n",
       "| hsa00052 | 0.502063274 | 0.68950938 | -0.3256861 | -0.9680620 | 364 | 31 | PFKM  , HK1   , UGP2  , AKR1B1 | 7 |\n",
       "| hsa00053 | 0.752542373 | 0.87097527 |  0.2419708 |  0.8151665 | 221 | 27 | UGDH   , GUSB   , ALDH9A1, UGT1A7 , UGT1A5 , UGT1A3 , UGT1A9 , UGT1A10, UGT1A8 , UGT1A6 , UGT1A4 , UGT1A1  | 7 |\n",
       "| hsa00500 | 0.014725569 | 0.06839639 | -0.5113808 | -1.5795264 |  10 | 36 | GPI  , HK1  , GYG1 , UGP2 , PYGB , AMY2B, AMY2A, AMY1C, AMY1B, AMY1A, GBE1  | 7 |\n",
       "| hsa00620 | 0.001282051 | 0.01250000 | -0.5949568 | -1.9186591 |   0 | 47 | ME3    , LDHA   , MDH1   , ACACA  , HAGH   , AKR1A1 , PDHB   , GLO1   , ACYP2  , DLD    , GRHPR  , ME2    , MDH2   , PKM    , ACAT2  , LDHB   , ACYP1  , FH     , ALDH3A2, DLAT   , ME1    , LDHC   , LDHD   , PDHA1  , ACSS2   | 7 |\n",
       "| hsa00630 | 0.028885832 | 0.10621561 | -0.5126062 | -1.5236590 |  20 | 31 | MDH1 , DLD  , GRHPR, ACO2 , PGP  , MDH2 , PCCA , CS   , ACAT2, ACO1  | 7 |\n",
       "\n"
      ],
      "text/plain": [
       "   pathway  pval        padj       ES         NES        nMoreExtreme size\n",
       "1  hsa00010 0.003731343 0.02802477 -0.5074830 -1.7015463   2          65  \n",
       "2  hsa00020 0.001416431 0.01250000 -0.6973236 -2.0443930   0          30  \n",
       "3  hsa00030 0.006877579 0.04197384 -0.5587710 -1.6608781   4          31  \n",
       "4  hsa00040 0.404401651 0.60233664 -0.3541911 -1.0527896 293          31  \n",
       "5  hsa00051 0.001356852 0.01250000 -0.6092873 -1.8458417   0          33  \n",
       "6  hsa00052 0.502063274 0.68950938 -0.3256861 -0.9680620 364          31  \n",
       "7  hsa00053 0.752542373 0.87097527  0.2419708  0.8151665 221          27  \n",
       "8  hsa00500 0.014725569 0.06839639 -0.5113808 -1.5795264  10          36  \n",
       "9  hsa00620 0.001282051 0.01250000 -0.5949568 -1.9186591   0          47  \n",
       "10 hsa00630 0.028885832 0.10621561 -0.5126062 -1.5236590  20          31  \n",
       "   leadingEdge                                                                                                                                                                                                                                      \n",
       "1  GPI    , ENO2   , TPI1   , PFKM   , LDHA   , HK1    , GAPDH  , AKR1A1 , PDHB   , ALDOA  , DLD    , PGAM1  , BPGM   , PKM    , LDHB   , ALDOC  , ENO1   , PFKP   , ADPGK  , ALDH3A2, DLAT   , FBP2   , LDHC   , G6PC3  , PDHA1  , MINPP1 , ACSS2  \n",
       "2  IDH3G , SDHB  , MDH1  , SDHA  , IDH3B , PDHB  , DLD   , SUCLA2, IDH3A , ACO2  , MDH2  , ACLY  , CS    , ACO1  , SUCLG1, OGDHL , SDHC  , FH    , DLAT                                                                                             \n",
       "3  GPI   , PFKM  , ALDOA , TALDO1, IDNK  , PRPS2 , TKT   , ALDOC , PFKP  , RBKS                                                                                                                                                                     \n",
       "4  AKR1A1, UGP2  , AKR1B1, DHDH  , FGGY                                                                                                                                                                                                             \n",
       "5  TPI1  , PFKM  , HK1   , ALDOA , GMDS  , TIGAR , AKR1B1, PMM1  , GFUS  , ALDOC , MPI   , PMM2  , PFKP  , ENOSF1                                                                                                                                   \n",
       "6  PFKM  , HK1   , UGP2  , AKR1B1                                                                                                                                                                                                                   \n",
       "7  UGDH   , GUSB   , ALDH9A1, UGT1A7 , UGT1A5 , UGT1A3 , UGT1A9 , UGT1A10, UGT1A8 , UGT1A6 , UGT1A4 , UGT1A1                                                                                                                                        \n",
       "8  GPI  , HK1  , GYG1 , UGP2 , PYGB , AMY2B, AMY2A, AMY1C, AMY1B, AMY1A, GBE1                                                                                                                                                                       \n",
       "9  ME3    , LDHA   , MDH1   , ACACA  , HAGH   , AKR1A1 , PDHB   , GLO1   , ACYP2  , DLD    , GRHPR  , ME2    , MDH2   , PKM    , ACAT2  , LDHB   , ACYP1  , FH     , ALDH3A2, DLAT   , ME1    , LDHC   , LDHD   , PDHA1  , ACSS2                    \n",
       "10 MDH1 , DLD  , GRHPR, ACO2 , PGP  , MDH2 , PCCA , CS   , ACAT2, ACO1                                                                                                                                                                              \n",
       "   pvals\n",
       "1  7    \n",
       "2  7    \n",
       "3  7    \n",
       "4  7    \n",
       "5  7    \n",
       "6  7    \n",
       "7  7    \n",
       "8  7    \n",
       "9  7    \n",
       "10 7    "
      ]
     },
     "metadata": {},
     "output_type": "display_data"
    }
   ],
   "source": [
    "allEnrichmentResult[[\"GSE5281\"]]$res[1:10, ]"
   ]
  },
  {
   "cell_type": "markdown",
   "id": "14ab24c1-e059-4e48-b1ec-52bbe4e7cd1d",
   "metadata": {},
   "source": [
    "To prepare plotting data for the meta-analysis and the visualization methods, we will use the following code. We can select the significant pathways and calculate the statistics of NES scores. The result is stored in a list which contains the name of datasets (IDs), results of enrichment analysis generated from the FGSEA method, and statistics of the NES score."
   ]
  },
  {
   "cell_type": "code",
   "execution_count": 10,
   "id": "b120457e",
   "metadata": {},
   "outputs": [],
   "source": [
    "# Apply a function to each element in allEnrichmentResult\n",
    "plots.enrichment.data <- lapply(allEnrichmentResult, function(data){\n",
    "\n",
    "    # Extract necessary data for plotting\n",
    "    plot.data <- data$res\n",
    "    rownames(plot.data) <- plot.data$pathway\n",
    "    plot.data$dataset <- data$id\n",
    "    \n",
    "    # Calculate standardized NES deviation (NES.sd) for better visualization\n",
    "    plot.data$NES.sd = abs((plot.data$NES - ifelse(plot.data$NES > 0, 1, -1))/qnorm(plot.data$pval))\n",
    "    \n",
    "    # Limit the NES.sd values to a maximum of 0.5\n",
    "    sd <- plot.data$NES.sd\n",
    "    sd[sd > 0.5] <- 0.5\n",
    "    \n",
    "    # Calculate minimum and maximum values for the plot\n",
    "    plot.data$min <- plot.data$NES - sd*2\n",
    "    plot.data$max <- plot.data$NES + sd*2\n",
    "    \n",
    "    # Clip extreme values to ensure they are within reasonable limits\n",
    "    plot.data$min[plot.data$min < -2.5] <- -2.5\n",
    "    plot.data$max[plot.data$max > 2.5] <- 2.5\n",
    "\n",
    "    plot.data <- plot.data[order(plot.data$padj), ]\n",
    "    # Extract ES values for the corresponding gene set\n",
    "    ES.df <- as.data.frame(data$res$ES)\n",
    "    rownames(ES.df) <- names(geneSet)\n",
    "    \n",
    "    # Return a list containing the dataset id, plotting data, and ES values\n",
    "    list(\n",
    "        id = data$id,\n",
    "        res = plot.data,\n",
    "        ES = ES.df\n",
    "    )\n",
    "})\n"
   ]
  },
  {
   "cell_type": "markdown",
   "id": "d1762f83",
   "metadata": {},
   "source": [
    "<!-- headings -->\n",
    "<a id=\"meta-main\"></a>\n",
    "## 2. Meta-Analysis\n",
    "In this section, we will perform a generic inverse variance meta-analysis using `metagen` function available in the `meta` package. `metagen` is a statistical method used in meta-analysis to combine the results of multiple studies that have measured the same effect size, typically using different sample sizes and study designs. This method involves pooling the effect sizes from each study, weighted by the inverse of their variance, in order to obtain an overall estimate of the effect size and its confidence interval.\n",
    "\n",
    "The basic idea behind the generic inverse variance meta-analysis is that studies with larger sample sizes, which tend to have smaller variance, should be given more weight in the meta-analysis than studies with smaller sample sizes, which tend to have larger variance. This is achieved by weighting each study's effect size estimate by the inverse of its variance, which is a measure of the precision of the estimate.\n",
    "\n",
    "The generic inverse variance meta-analysis is often used in meta-analyses of randomized controlled trials or observational studies, where the effect size is typically reported as a mean difference or a standardized mean difference between two groups, or as a hazard ratio or odds ratio for a binary outcome. This method assumes that the effect size estimates from each study are independent and normally distributed around the true effect size, and that there is no systematic bias or heterogeneity in the effect size estimates across studies."
   ]
  },
  {
   "cell_type": "code",
   "execution_count": 11,
   "id": "be40d873",
   "metadata": {},
   "outputs": [],
   "source": [
    "# Get combined data from the individual datasets in plots.enrichment.data\n",
    "allCombinedData <- lapply(plots.enrichment.data, function(data) data$res)\n",
    "allCombinedData <- as.data.frame(do.call(rbind, allCombinedData))\n",
    "allCombinedData$disease <- \"NA\"\n",
    "\n",
    "# Assign diseases to the combined data based on dataset grouping\n",
    "for (cat in names(groups)) {\n",
    "  allCombinedData$disease[allCombinedData$dataset %in% groups[[cat]]] <- cat\n",
    "}\n",
    "\n",
    "# Performing meta-analysis on groups of datasets with the same disease\n",
    "metaESRes <- lapply(split(allCombinedData, ~pathway), function(data) {\n",
    "  # Drop rows with missing data\n",
    "  data <- drop_na(data)\n",
    "\n",
    "  # Perform meta-analysis using the metagen function\n",
    "  res <- suppressWarnings(meta::metagen(\n",
    "    data = data,\n",
    "    studlab = pathway,\n",
    "    TE = NES,\n",
    "    seTE = NES.sd,\n",
    "    sm = \"SMD\",\n",
    "    n.e = NULL,\n",
    "    method.tau = \"REML\",\n",
    "    hakn = TRUE\n",
    "  ))\n",
    "\n",
    "  # Extract combined NES and related information\n",
    "  NES.combined <- res$TE.fixed\n",
    "  NES.combined.sd <- res$seTE.fixed\n",
    "\n",
    "  # Handle NA values before calculations\n",
    "  if(is.na(NES.combined) || is.na(NES.combined.sd)) {\n",
    "       return(data.frame(\n",
    "         disease = data$disease[1],\n",
    "         pathway = data$pathway[1],\n",
    "         NES.combined = NA,\n",
    "         NES.combined.sd = NA,\n",
    "         pval.combined = NA,\n",
    "         count = nrow(data),\n",
    "         stringsAsFactors = FALSE\n",
    "         ))\n",
    "  }\n",
    "\n",
    "\n",
    "  # Calculate p-value\n",
    "  pval <- pnorm((ifelse(NES.combined > 0, 1, -1) - NES.combined)/NES.combined.sd)\n",
    "  if (NES.combined < 0) pval <- 1 - pval\n",
    "\n",
    "  # Create a data frame with meta-analysis results\n",
    "  data.frame(\n",
    "    disease = data$disease[1],\n",
    "    pathway = data$pathway[1],\n",
    "    NES.combined = NES.combined,\n",
    "    NES.combined.sd = NES.combined.sd,\n",
    "    pval.combined = pval,\n",
    "    count = nrow(data),\n",
    "    stringsAsFactors = FALSE\n",
    "  )\n",
    "})  \n",
    "\n",
    "metaESRes <- do.call(rbind, metaESRes)\n",
    "metaESRes <- as.data.frame(metaESRes)"
   ]
  },
  {
   "cell_type": "code",
   "execution_count": 12,
   "id": "7bb9d604-e9af-4e60-aba1-9a95ca572a75",
   "metadata": {},
   "outputs": [
    {
     "data": {
      "text/html": [
       "<table class=\"dataframe\">\n",
       "<caption>A data.frame: 6 × 6</caption>\n",
       "<thead>\n",
       "\t<tr><th></th><th scope=col>disease</th><th scope=col>pathway</th><th scope=col>NES.combined</th><th scope=col>NES.combined.sd</th><th scope=col>pval.combined</th><th scope=col>count</th></tr>\n",
       "\t<tr><th></th><th scope=col>&lt;chr&gt;</th><th scope=col>&lt;chr&gt;</th><th scope=col>&lt;dbl&gt;</th><th scope=col>&lt;dbl&gt;</th><th scope=col>&lt;dbl&gt;</th><th scope=col>&lt;int&gt;</th></tr>\n",
       "</thead>\n",
       "<tbody>\n",
       "\t<tr><th scope=row>hsa00010</th><td>NA</td><td>hsa00010</td><td>-1.842034</td><td>0.2128790</td><td>3.819381e-05</td><td>2</td></tr>\n",
       "\t<tr><th scope=row>hsa00020</th><td>NA</td><td>hsa00020</td><td>-2.137878</td><td>0.2691679</td><td>1.182089e-05</td><td>2</td></tr>\n",
       "\t<tr><th scope=row>hsa00030</th><td>NA</td><td>hsa00030</td><td>-1.774990</td><td>0.2014044</td><td>5.955982e-05</td><td>2</td></tr>\n",
       "\t<tr><th scope=row>hsa00040</th><td>NA</td><td>hsa00040</td><td>-1.008216</td><td>0.1800634</td><td>4.818034e-01</td><td>2</td></tr>\n",
       "\t<tr><th scope=row>hsa00051</th><td>NA</td><td>hsa00051</td><td>-1.756895</td><td>0.1893488</td><td>3.202664e-05</td><td>2</td></tr>\n",
       "\t<tr><th scope=row>hsa00052</th><td>NA</td><td>hsa00052</td><td>-1.125235</td><td>0.2303883</td><td>2.933644e-01</td><td>2</td></tr>\n",
       "</tbody>\n",
       "</table>\n"
      ],
      "text/latex": [
       "A data.frame: 6 × 6\n",
       "\\begin{tabular}{r|llllll}\n",
       "  & disease & pathway & NES.combined & NES.combined.sd & pval.combined & count\\\\\n",
       "  & <chr> & <chr> & <dbl> & <dbl> & <dbl> & <int>\\\\\n",
       "\\hline\n",
       "\thsa00010 & NA & hsa00010 & -1.842034 & 0.2128790 & 3.819381e-05 & 2\\\\\n",
       "\thsa00020 & NA & hsa00020 & -2.137878 & 0.2691679 & 1.182089e-05 & 2\\\\\n",
       "\thsa00030 & NA & hsa00030 & -1.774990 & 0.2014044 & 5.955982e-05 & 2\\\\\n",
       "\thsa00040 & NA & hsa00040 & -1.008216 & 0.1800634 & 4.818034e-01 & 2\\\\\n",
       "\thsa00051 & NA & hsa00051 & -1.756895 & 0.1893488 & 3.202664e-05 & 2\\\\\n",
       "\thsa00052 & NA & hsa00052 & -1.125235 & 0.2303883 & 2.933644e-01 & 2\\\\\n",
       "\\end{tabular}\n"
      ],
      "text/markdown": [
       "\n",
       "A data.frame: 6 × 6\n",
       "\n",
       "| <!--/--> | disease &lt;chr&gt; | pathway &lt;chr&gt; | NES.combined &lt;dbl&gt; | NES.combined.sd &lt;dbl&gt; | pval.combined &lt;dbl&gt; | count &lt;int&gt; |\n",
       "|---|---|---|---|---|---|---|\n",
       "| hsa00010 | NA | hsa00010 | -1.842034 | 0.2128790 | 3.819381e-05 | 2 |\n",
       "| hsa00020 | NA | hsa00020 | -2.137878 | 0.2691679 | 1.182089e-05 | 2 |\n",
       "| hsa00030 | NA | hsa00030 | -1.774990 | 0.2014044 | 5.955982e-05 | 2 |\n",
       "| hsa00040 | NA | hsa00040 | -1.008216 | 0.1800634 | 4.818034e-01 | 2 |\n",
       "| hsa00051 | NA | hsa00051 | -1.756895 | 0.1893488 | 3.202664e-05 | 2 |\n",
       "| hsa00052 | NA | hsa00052 | -1.125235 | 0.2303883 | 2.933644e-01 | 2 |\n",
       "\n"
      ],
      "text/plain": [
       "         disease pathway  NES.combined NES.combined.sd pval.combined count\n",
       "hsa00010 NA      hsa00010 -1.842034    0.2128790       3.819381e-05  2    \n",
       "hsa00020 NA      hsa00020 -2.137878    0.2691679       1.182089e-05  2    \n",
       "hsa00030 NA      hsa00030 -1.774990    0.2014044       5.955982e-05  2    \n",
       "hsa00040 NA      hsa00040 -1.008216    0.1800634       4.818034e-01  2    \n",
       "hsa00051 NA      hsa00051 -1.756895    0.1893488       3.202664e-05  2    \n",
       "hsa00052 NA      hsa00052 -1.125235    0.2303883       2.933644e-01  2    "
      ]
     },
     "metadata": {},
     "output_type": "display_data"
    }
   ],
   "source": [
    "head(metaESRes)"
   ]
  },
  {
   "cell_type": "markdown",
   "id": "c97c250f-c18f-4d40-94bc-4db2f2db4ad2",
   "metadata": {},
   "source": [
    "To use the `metagen` function, we need to pass the following arguments:\n",
    "\n",
    "- `TE`: A numeric vector specifying the estimate of treatment effect, e.g., log hazard ratio or risk difference.\n",
    "- `seTE`: A numeric vector specifying the standard error of the treatment estimate.\n",
    "- `studlab`: An optional vector with study labels.\n",
    "- `data`: An optional data frame containing the study information.\n",
    "- `sm`: A character string specifying underlying summary measure, e.g., \"RD\", \"RR\", \"OR\", \"ASD\", \"HR\", \"MD\", \"SMD\", or \"ROM\".\n",
    "- `n.e`: Number of observations in experimental group.\n",
    "- `method.tau`: A character string specifying which method is used to estimate the between-study variance. Either \"DL\", \"PM\", \"REML\", \"ML\", \"HS\", \"SJ\", \"HE\", or \"EB\", can be abbreviated.\n",
    "- `hakn`: A logical specifying whether the method by Hartung and Knapp should be used to adjust test statistics and confidence intervals.\n",
    "\n",
    "The `metagen` function returns an object of class c(\"metagen\", \"meta\") that contains the analysis results."
   ]
  },
  {
   "cell_type": "markdown",
   "id": "cc21d85d",
   "metadata": {},
   "source": [
    "After performing a meta-analysis, we can calculate the adjusted p-value meta enrichment scores. We will use the function `p.adjust` to calculate adjusted P-values for multiple comparisons. The result is saved in a data frame."
   ]
  },
  {
   "cell_type": "code",
   "execution_count": null,
   "id": "2e5c562b",
   "metadata": {},
   "outputs": [],
   "source": [
    "# Computing adjusted meta p-values\n",
    "metaESRes$padj.combined <- p.adjust(p = metaESRes$pval.combined, method = \"BH\")\n",
    "head(metaESRes)"
   ]
  },
  {
   "cell_type": "markdown",
   "id": "4982d89c-15ec-4f1d-90a3-fb09c2692de8",
   "metadata": {},
   "source": [
    "To use the `p.adjust` function, we need to pass the following arguments:\n",
    "\n",
    "- `p`: Numeric vector of p-values (possibly with NAs). Any other R object is coerced by as.numeric.\n",
    "- `method`: A character string specifying a correction method, can be one of these: \"holm\", \"hochberg\", \"hommel\", \"bonferroni\", \"BH\", \"BY\",  \"fdr\", \"none\".\n",
    "\n",
    "The `p.adjust` function returns a numeric vector of adjusted p-values."
   ]
  },
  {
   "cell_type": "code",
   "execution_count": null,
   "id": "adb6f9f7-0c38-44dd-abba-eaecca76154e",
   "metadata": {},
   "outputs": [],
   "source": [
    "#' This function creates a forest plot to visualize pathway analysis results.\n",
    "#' \n",
    "#' @param pathways A vector of pathway names.\n",
    "#' @param NES A vector of Normalized Enrichment Scores (NES) for each pathway.\n",
    "#' @param padj A vector of adjusted p-values for each pathway.\n",
    "#' \n",
    "#' @return A ggplot object representing the forest plot.\n",
    "plotForest <- function(pathways, NES, padj) {\n",
    "  # Calculate standard deviation for error bars, limiting to a maximum of 1.5\n",
    "  sd <- abs(NES / qnorm(padj))\n",
    "  sd[sd > 1.5] <- 1.5\n",
    "  \n",
    "  # Create a ggplot object for the forest plot\n",
    "  ggplot() + theme_minimal() + \n",
    "    theme(\n",
    "      panel.border = element_rect(colour = \"black\", fill = NA, linewidth=1),\n",
    "      axis.text.y = element_blank()\n",
    "    ) +\n",
    "    # Plot points for NES with red color\n",
    "    geom_point(aes(x = NES, y = pathways), size = 2, color = \"red\") +\n",
    "    # Add error bars using standard deviation\n",
    "    geom_errorbarh(aes(xmin = pmax(NES - sd * 2, -3), xmax = pmin(NES + sd * 2, 3), y = pathways), height = .1) +\n",
    "    # Add vertical dashed lines at -1, 0, and 1\n",
    "    geom_vline(xintercept = c(-1, 0, 1), colour = c(\"#FA8072\", \"black\", \"#FA8072\"), linetype = \"longdash\") +\n",
    "    # Set x-axis limits\n",
    "    xlim(-3, 3) + \n",
    "    # Remove y-axis labels\n",
    "    labs(y = NULL)\n",
    "}\n"
   ]
  },
  {
   "cell_type": "markdown",
   "id": "3a142bce",
   "metadata": {},
   "source": [
    "We can plot meta-analysis result along with the original results to see the efficiency of the meta-analysis."
   ]
  },
  {
   "cell_type": "code",
   "execution_count": null,
   "id": "b1b48b22-cbce-4fb0-9c56-07ffbdde2d45",
   "metadata": {},
   "outputs": [],
   "source": [
    "# Select 20 top pathways for plotting\n",
    "nPathways <- 20\n",
    "pathways <- metaESRes[order(metaESRes$padj.combined), ]$pathway[1:nPathways]"
   ]
  },
  {
   "cell_type": "code",
   "execution_count": null,
   "id": "0ff3afe7-2518-47eb-a853-037ed0c6ee05",
   "metadata": {},
   "outputs": [],
   "source": [
    "# Prepare the plot data for the Microarray dataset\n",
    "plotGSE5281data <- plots.enrichment.data[[\"GSE5281\"]]$res\n",
    "plotGSE153873data <- plots.enrichment.data[[\"GSE153873\"]]$res\n",
    "\n",
    "# Prepare the plot data for the RNA-Seq dataset\n",
    "plotGSE5281data <- plotGSE5281data[plotGSE5281data$pathway %in% pathways, ]\n",
    "plotGSE153873data <- plotGSE153873data[plotGSE153873data$pathway %in% pathways, ]\n",
    "\n",
    "metaESResPlot <- metaESRes[1:nPathways, ]\n",
    "\n",
    "# Create forest plots for each analysis result\n",
    "p1 <- plotForest(pathways = pathways, plotGSE5281data$NES, plotGSE5281data$padj)\n",
    "p2 <- plotForest(pathways = pathways, plotGSE153873data$NES, plotGSE153873data$padj)\n",
    "metaplt <- plotForest(pathways = pathways, metaESResPlot$NES.combined, metaESResPlot$padj.combined) \n",
    "\n"
   ]
  },
  {
   "cell_type": "code",
   "execution_count": null,
   "id": "9067fbad-d9e5-4c34-a77a-d4936363a086",
   "metadata": {},
   "outputs": [],
   "source": [
    "options(repr.plot.width = 10, repr.plot.height = 10)\n",
    "\n",
    "# Combine the three plots and show\n",
    "plt <- gridExtra::grid.arrange(\n",
    "    p1 + ggtitle(\"GSE5281\") + \n",
    "        scale_y_discrete(labels = pathways) +\n",
    "        theme(axis.text.y = element_text(hjust = 1)),\n",
    "    p2 + ggtitle(\"GSE153873\"),\n",
    "    metaplt + ggtitle(\"Meta-analysis\"),\n",
    "    ncol = 3,\n",
    "    widths = c(1.13,1,1)\n",
    ")\n",
    "plt"
   ]
  },
  {
   "cell_type": "markdown",
   "id": "3995ad4a",
   "metadata": {},
   "source": [
    "From the above figure, we see that the enrichment scores produced from a meta-analysis using multiple datasets are more significant compared with those calculated from a single dataset.\n"
   ]
  },
  {
   "cell_type": "markdown",
   "id": "abf89cc7-10d1-47bc-997f-00851215db13",
   "metadata": {},
   "source": [
    "We can plot either a Venn diagram or a Heatmap to show the differences between the pathway analysis results of different datasets. For the Venn diagram, we can still utilize the function `plotVenn` which was previously used in [submodule 2](Submodule02-DifferentialAnalysis.ipynb). "
   ]
  },
  {
   "cell_type": "code",
   "execution_count": null,
   "id": "2b095e4e-1103-4b4c-924a-e65971beaf7a",
   "metadata": {},
   "outputs": [],
   "source": [
    "#' @ description This function generates a Venn diagram to visualize the overlap of significant pathways \n",
    "#'                 between multiple sets of results.\n",
    "#'\n",
    "#' @param aResults A list containing multiple sets of pathway analysis results.\n",
    "#'                 Each element in the list should be a data frame containing pathway analysis results..\n",
    "#' @param pThreshold The significance threshold for filtering differentially expressed genes (default: 0.05).\n",
    "#' @param useFDR A logical value indicating whether to use normal p-value or FDR p-value to filter out the significant pathways\n",
    "#'\n",
    "#' @return A Venn diagram displaying the overlap of differentially expressed genes or features among the specified result sets.\n",
    "\n",
    "plotVenn <- function(aResults, pThreshold = 0.05, useFDR = TRUE) {\n",
    "    if (length(aResults) < 2) {\n",
    "        stop(\"The number of DE results must be at least 2.\")\n",
    "    }\n",
    "\n",
    "    for (Res in aResults) {\n",
    "        if (useFDR && !(\"pFDR\" %in% colnames(Res))) {\n",
    "            stop(\"The F DR adjusted p-value column is not in the results data frame.\")\n",
    "        } else {\n",
    "            if (!(\"p.value\" %in% colnames(Res))) {\n",
    "                stop(\"The p.value column is not in the results data frame.\")\n",
    "            }\n",
    "        }\n",
    "\n",
    "       \n",
    "    }\n",
    "\n",
    "    plotDat <- lapply(aResults, function(Res) {\n",
    "            filtered_df <- filter(data.frame(Res),\n",
    "                (\n",
    "                    if (useFDR) {\n",
    "                        .data$pFDR < pThreshold\n",
    "                    } else {\n",
    "                        .data$p.value < pThreshold\n",
    "                    }\n",
    "                )\n",
    "            )\n",
    "            filtered_df[[\"ID\"]]\n",
    "    })\n",
    "    \n",
    "    if (is.null(names(plotDat))) {\n",
    "        names(plotDat) <- paste0(\"Dataset \", seq_along(plotDat))\n",
    "    }\n",
    "    pR <- ggvenn::ggvenn(plotDat,\n",
    "           fill_color = c(\n",
    "               \"#316b9d\",\n",
    "               # \"#fce397\",\n",
    "               # \"#99cc83\",\n",
    "               \"#f77a65\",\n",
    "               \"#a6a1d0\",\n",
    "               \"#fea9c4\",\n",
    "               \"#74e7bc\",\n",
    "               \"#febb73\",\n",
    "               \"#1db4db\",\n",
    "               \"#ffc5a6\",\n",
    "               \"#b6c9fa\",\n",
    "               \"#ee5437\"),\n",
    "           stroke_size = 0.5,\n",
    "           set_name_size = 4,\n",
    "           fill_alpha = 0.75,\n",
    "\n",
    "    ) \n",
    "    \n",
    "    pR \n",
    "}\n"
   ]
  },
  {
   "cell_type": "markdown",
   "id": "e34c0637-cab3-4121-a8ce-e040d6d78c9f",
   "metadata": {},
   "source": [
    "We can now use visualization methods to compare the differences between the pathway analysis results of different datasets and the meta-pathway analysis result. We need to prepare the plot data first, we will include the meta-result in the plot data to create a Venn diagram and a heatmap plot."
   ]
  },
  {
   "cell_type": "code",
   "execution_count": null,
   "id": "b5383001-60cd-4201-bf24-787378ea699b",
   "metadata": {},
   "outputs": [],
   "source": [
    "# Create plot data for the Microarray dataset\n",
    "GSE5281_result <- plots.enrichment.data[[\"GSE5281\"]]$res\n",
    "GSE5281_result$p.value <- GSE5281_result$pval\n",
    "GSE5281_result$ID <- GSE5281_result$pathway\n",
    "\n",
    "# Create plot data for the RNA-Seq dataset\n",
    "GSE153873_result <- plots.enrichment.data[[\"GSE153873\"]]$res\n",
    "GSE153873_result$p.value <- GSE153873_result$pval\n",
    "GSE153873_result$ID <- GSE153873_result$pathway\n",
    "\n",
    "# Prepare plot data for the meta result\n",
    "metaESRes$p.value <- metaESRes$pval\n",
    "metaESRes$NES <- metaESRes$NES.combined\n",
    "metaESRes$ID <- metaESRes$pathway\n",
    "# Add the plot data to a list for the plot functions\n",
    "PAResults <- list(\"GSE5281\" = GSE5281_result, \"GSE153873\" = GSE153873_result, \"Meta-analysis\" = metaESRes)\n"
   ]
  },
  {
   "cell_type": "markdown",
   "id": "cbef95b3-5d79-4a83-b7b1-918e77b0c7fb",
   "metadata": {},
   "source": [
    "Now we can create a venn diagram and a heatmap that includes the meta-analysis result using the `plotVenn` function."
   ]
  },
  {
   "cell_type": "code",
   "execution_count": null,
   "id": "4180da54-a523-4a49-a51f-45c3e140a735",
   "metadata": {},
   "outputs": [],
   "source": [
    "options(repr.plot.width = 16, repr.plot.height = 10)\n",
    "# Create the Venn pathway for pathway results of different datasets.\n",
    "plotVenn(PAResults, useFDR = FALSE)"
   ]
  },
  {
   "cell_type": "markdown",
   "id": "17a87340-24da-48d3-9974-c22f868b6bd2",
   "metadata": {},
   "source": [
    "There are 69 common pathways amongs the pathway analysis results of the two datasets and the meta-pathway analysis result."
   ]
  },
  {
   "cell_type": "markdown",
   "id": "f8c37ed6-c548-4bdf-a78b-4b9a0fe39532",
   "metadata": {},
   "source": [
    "For heatmap plots of pathway analysis results, we can utilize the function below:"
   ]
  },
  {
   "cell_type": "code",
   "execution_count": null,
   "id": "dd2447a1-1595-4b94-98e5-cdc8e933fcc6",
   "metadata": {},
   "outputs": [],
   "source": [
    "#' @description This function generates a heatmap visualizing pathway analysis results.\n",
    "#'\n",
    "#' @param resultsList List of pathway analysis results.\n",
    "#' @param yAxis Column to be used for the y-axis of the heatmap (default is \"ID\").\n",
    "#' @param negLog10pValueLims Limits for the negative logarithm base 10 of p-values (default is c(0, 5)).\n",
    "#' @param useFDR Logical, whether to use False Discovery Rate (FDR) for p-values (default is TRUE).\n",
    "#' @param selectedPathways Vector of selected pathway IDs to include in the plot (default is NULL).\n",
    "#'\n",
    "#' @return The function returns the heatmap plot.\n",
    "\n",
    "plotPathwayHeatmap <- function(resultsList, yAxis = \"ID\", negLog10pValueLims = c(0, 5), useFDR = TRUE, selectedPathways = NULL) {\n",
    "    # Get the data for the pathway selected, make sure all the order of the results consistent\n",
    "    if (!is.null(selectedPathways)) {\n",
    "        resultsList <- lapply(resultsList, function(df) {\n",
    "            # Filter rows based on selectedPathways\n",
    "            df <- df[df$ID %in% selectedPathways, ]\n",
    "            # Get the indices of selectedPathways in the original order\n",
    "            indices <- match(df$ID, selectedPathways)\n",
    "            # Reorder the DataFrame based on the indices\n",
    "            df <- df[order(indices), ]           \n",
    "            df\n",
    "        })\n",
    "    }\n",
    "    \n",
    "    studyIDs <- names(resultsList)\n",
    "\n",
    "    if (any(sapply(studyIDs, is.null))) {\n",
    "        stop(\"The names of the input list should be specified.\")\n",
    "    }\n",
    "    \n",
    "    checkNS <- lapply(resultsList, function(data) c(\"NES\") %in% colnames(data))\n",
    "    \n",
    "    resultsList <- lapply(seq_along(checkNS), function(i) {\n",
    "      if (!checkNS[[i]]) {\n",
    "        df <- resultsList[[i]]\n",
    "        df$NES <- rep(.Machine$double.eps, nrow(df))\n",
    "        resultsList[[i]] <- df\n",
    "      } else {\n",
    "        resultsList[[i]]\n",
    "      }\n",
    "    })\n",
    "\n",
    "    cols_list <- lapply(resultsList, function(data) colnames(data))\n",
    "\n",
    "    if (!all(sapply(cols_list, function(x) c(\"ID\", \"NES\", \"p.value\") %in% x))) {\n",
    "        stop(\"All dataframes in the input list must have 'ID', 'NES', and 'p.value' columns.\")\n",
    "    }\n",
    "                    \n",
    "    rows_list <- lapply(resultsList, function(data) as.vector(unlist(data$ID)))\n",
    "    \n",
    "    if (!all(lengths(rows_list) == length(rows_list[[1]]))) {\n",
    "        stop(\"All dataframes in the input list must have the same number of rows.\")\n",
    "    }\n",
    "    \n",
    "    initial_names <- sort(as.vector(unlist(resultsList[[1]]$ID)))\n",
    "\n",
    "    if (!all(sapply(rows_list, function(x) all.equal(sort(x), initial_names)))) {\n",
    "        stop(\"All dataframes in the input list must have the same set of pathways.\")\n",
    "    }\n",
    "    # Prepare the data for plotting\n",
    "    plotData <- lapply(1:length(resultsList), function(i) {\n",
    "        data <- resultsList[[i]]\n",
    "        data <- data[, c(\"ID\", \"NES\", \"p.value\")]\n",
    "        data$dataset <- studyIDs[i]\n",
    "        data$Direction <- ifelse(data$NES <= 0, \"Negative\", \"Positive\")\n",
    "        data$abs.NES <- abs(as.vector(data$NES))\n",
    "        as.data.frame(data)\n",
    "    }) \n",
    "    plotData <- do.call(plotData, what = rbind)\n",
    "    \n",
    "    plotData$Direction <- factor(plotData$Direction, levels = c(\"Positive\", \"Negative\"))\n",
    "\n",
    "    \n",
    "    plotData$logP <- if (useFDR) -log10(plotData$pFDR) else -log10(plotData$p.value)\n",
    "\n",
    "    grouped_data <- arrange(\n",
    "        dplyr::summarize(\n",
    "            group_by(plotData, ID),\n",
    "            avgLogP = mean(logP, na.rm = TRUE)\n",
    "        ),\n",
    "        avgLogP\n",
    "    )\n",
    "    \n",
    "    pathwayOrder <- pull(grouped_data, ID)\n",
    "\n",
    "    plotData$dataset <- factor(plotData$dataset, levels = studyIDs)\n",
    "    plotData$ID <- factor(plotData$ID, levels = pathwayOrder)\n",
    "    yLabels <- pull(arrange(unique(select(plotData, \"ID\", sym(yAxis))), as.numeric(ID)), sym(yAxis))\n",
    "\n",
    "    scaleMinMax <- function(x, minx, maxx) {\n",
    "        x[x < minx] <- minx\n",
    "        x[x > maxx] <- maxx\n",
    "        x\n",
    "    }\n",
    "\n",
    "    if (yAxis == \"ID\") {\n",
    "        plotData$yLabel <- plotData$ID\n",
    "    }else {\n",
    "        plotData$yLabel <- plotData$name\n",
    "    }\n",
    "\n",
    "    plotData$p.value.scaled <- scaleMinMax(abs(log10(\n",
    "        if (useFDR) plotData$pFDR else plotData$p.value)), \n",
    "            negLog10pValueLims[1], negLog10pValueLims[2])\n",
    "\n",
    "    # Create the plot\n",
    "    ggplot(plotData, aes(y = .data$ID, x = factor(.data$dataset))) +\n",
    "        geom_tile(\n",
    "            aes(fill = .data$p.value.scaled)\n",
    "        ) +\n",
    "        scale_fill_continuous(\n",
    "            low = \"white\",\n",
    "            high = \"#CD5C5C\",\n",
    "            limits = c(negLog10pValueLims[1], negLog10pValueLims[2]),\n",
    "            breaks = c(negLog10pValueLims[1], (negLog10pValueLims[1] + negLog10pValueLims[2]) / 2, negLog10pValueLims[2]),\n",
    "        ) +\n",
    "        labs(fill = paste0(\"-log10\", ifelse(useFDR, \" pFDR\", \" p-value\"))) +\n",
    "\n",
    "        new_scale_fill() +\n",
    "        geom_point(\n",
    "            aes(\n",
    "                fill = .data$Direction,\n",
    "                size = .data$abs.NES\n",
    "            ),\n",
    "            shape = 21,\n",
    "            color = \"white\",\n",
    "            stroke = 0.5\n",
    "        ) +\n",
    "        scale_y_discrete(\n",
    "            labels = yLabels\n",
    "        ) +\n",
    "        scale_size_continuous(\n",
    "            guide = guide_legend(override.aes = list(shape = 21, fill = \"gray50\"))\n",
    "        ) +\n",
    "        scale_fill_manual(\n",
    "            values = c(\"Positive\" = \"#FFAA1D\", \"Negative\" = \"#72A0C1\"),\n",
    "            guide = guide_legend(override.aes = list(shape = 21, size = 8), title = element_text(\"Sign\"))\n",
    "        ) +\n",
    "        labs(\n",
    "            size = \"Normalized score\",\n",
    "            x = \"\",\n",
    "            y = \"\") +\n",
    "\n",
    "        theme_bw() + \n",
    "        \n",
    "      \n",
    "      ggplot2::theme(plot.title = element_text(hjust = 0.5))\n",
    "}"
   ]
  },
  {
   "cell_type": "code",
   "execution_count": null,
   "id": "48e92b25-80eb-4357-b98b-f63dc5a76d5e",
   "metadata": {},
   "outputs": [],
   "source": [
    "# Create a pathway list to plot, here we will use common pathways of three Alzheimer's datasets that have NES > 0.5 and p-value < 0.05\n",
    "\n",
    "plotDat <- lapply(PAResults, function(Res) {\n",
    "    filtered_df <- filter(data.frame(Res),\n",
    "        abs(.data[[\"NES\"]]) > 0.5 & (.data$p.value < 0.05)\n",
    "    )\n",
    "    filtered_df[[\"ID\"]]\n",
    "})\n",
    "# Select the common pathways between analyses result for plotting\n",
    "selectedPathways <- Reduce(intersect, plotDat)\n",
    "# The resulting pathways will be the same as common pathways in the venn diagram\n",
    "length(selectedPathways)"
   ]
  },
  {
   "cell_type": "code",
   "execution_count": null,
   "id": "675c61a6-3f91-41e9-b017-fda16b4711e0",
   "metadata": {},
   "outputs": [],
   "source": [
    "# Create the heatmap plot\n",
    "options(repr.plot.width = 16, repr.plot.height = 12)\n",
    "# Plot heatmap for common pathways\n",
    "plotPathwayHeatmap(PAResults, yAxis = \"ID\", useFDR = FALSE, selectedPathways = selectedPathways)"
   ]
  },
  {
   "cell_type": "markdown",
   "id": "6689ec42-f456-442b-a48f-44fc34c98dc7",
   "metadata": {},
   "source": [
    "# Conclusion"
   ]
  },
  {
   "cell_type": "markdown",
   "id": "25ae2dee-4300-4789-a096-f9ae008ada4e",
   "metadata": {},
   "source": [
    " In this course, we have successfully completed pathway analysis using omics data in five submodules that cover different aspects of bioinformatics analysis. The first submodule, Data Processing, introduces the fundamental concepts of preprocessing and quality control of microarray data obtained from the Gene Expression Omnibus. The second submodule, Differential Expression Analysis, focuses on how to analyze gene expression data to identify genes that are differentially expressed between two or more conditions. The third submodule, Gene Set and Pathway, shows us how to use different R libraries to obtain pathways and GO terms with associated gene lists. The fourth submodule, Enrichment Analysis, focuses on the identification of enriched biological pathways or functional categories within a set of genes of interest. Finally, the fifth submodule, Meta Analysis, covers the techniques of meta-analysis which is a statistical approach to combine the results of multiple independent studies. Overall, the cloud learning module provides a comprehensive and practical guide for researchers to analyze and interpret their genomic data using various bioinformatics tools and techniques."
   ]
  },
  {
   "cell_type": "markdown",
   "id": "17797183",
   "metadata": {},
   "source": [
    "## Clean Up\n",
    "\n",
    "Remember to shut down your instance if you are finished."
   ]
  },
  {
   "cell_type": "markdown",
   "id": "28341bbe",
   "metadata": {},
   "source": [
    "---"
   ]
  },
  {
   "cell_type": "code",
   "execution_count": null,
   "id": "87e833c8-b97d-4bc6-a0db-65047e2bb295",
   "metadata": {},
   "outputs": [],
   "source": [
    "sessionInfo()"
   ]
  },
  {
   "cell_type": "code",
   "execution_count": null,
   "id": "9f3eb52e-b7e9-4804-ae0f-120b3fa039c5",
   "metadata": {},
   "outputs": [],
   "source": []
  }
 ],
 "metadata": {
  "kernelspec": {
   "display_name": "R",
   "language": "R",
   "name": "ir"
  },
  "language_info": {
   "codemirror_mode": "r",
   "file_extension": ".r",
   "mimetype": "text/x-r-source",
   "name": "R",
   "pygments_lexer": "r",
   "version": "4.5.0"
  }
 },
 "nbformat": 4,
 "nbformat_minor": 5
}
