{
 "cells": [
  {
   "cell_type": "markdown",
   "id": "d3716dad",
   "metadata": {},
   "source": [
    "# Pathway Analysis\n",
    "![](./images/Module4/PathwayAnalysis.jpg)\n",
    "\n",
    "Enrichment analysis (EA) is a technique used to derive biological insight from lists of significantly altered genes. The list of genes can be obtained from Differential Expression (DE) analysis or users' interest. The EA methods rely on the knowledge databases (e.g. KEGG, GO, ...) to identify biological pathways or terms that are enriched in a gene list more than would be expected by chance. The outcome of the EA would be the in-depth and contextualized findings to help understand the mechanisms of disease, genes and proteins associated with the etiology of a specific disease or drug target.\n",
    "\n",
    "Over more than a decade, there are over 50 methods have been developed for EA. In this module, we will focus on pathway analysis using popular methods including Over Representation Analysis (ORA), Correlation Adjusted MEan RAnk (CAMERA), Kolmogorov-Smirnov (KS) test, Wilcoxon test, Fast Gene Set Enrichment Analysis (FGSEA), Gene Set Analysis (GSA), Significance Analysis of Function and Expression (SAFE), and Pathway Analysis with Down-weighting of Overlapping Genes (PADOG).\n",
    "\n",
    "## Learning Objectives\n",
    "1. Data preparation\n",
    "2. Perform enrichment analysis using ORA, CAMERA, KS, Wilcoxon, FGSEA, GSA, SAFE, and PADOG\n",
    "3. Visualize and interpret the outputs\n",
    "\n",
    "### Table of Contents\n",
    "\n",
    "1. [Enrichment Analysis using ORA](#ora-main)\n",
    "2. [Enrichment Analysis using CAMERA](#camera-main)\n",
    "3. [Enrichment Analysis using KS and Wilcoxon test](#ks-main)\n",
    "4. [Enrichment Analysis using FGSEA](#fgsea-main)\n",
    "5. [Enrichment Analysis using GSA](#gsa-main)\n",
    "6. [Enrichment Analysis using SAFE](#safe-main)\n",
    "7. [Enrichment Analysis using PADOG](#padog-main)\n",
    "\n",
    "\n",
    "<!-- \n",
    "## Necessary Files\n",
    "In this submodule, users will have to provide the following inputs: \n",
    "- (1) Gene expression/count matrix in which, rows are genes and columns are samples and a differential analysis result, also in the form of a matrix. We recommend using gene ID as gene SYMBOL. If users use other different gene ID types, please refer to [our first submodule](./Module01-Data_Preparation.ipynb). \n",
    "for the instructions for gene mapping.\n",
    "- (2) A table of sample information that has at least two columns: sample ID that matched the columns of the first input, and sample condition (e.g, control or disease)\n",
    "- (3) A list of gene sets to used for the enrichment analysis. Please check out our [previous submodule](./Module01-Data_Preparation.ipynb) for more information of the format for the gene sets.\n",
    "\n",
    "If users have been following our learning submodules, they only need to use the code available in the previous module to download the data from Google Cloud Bucket and load it for the analyses.\n",
    " -->\n",
    "\n"
   ]
  },
  {
   "cell_type": "code",
   "execution_count": 1,
   "id": "37ff2142-8b48-4250-bb3b-b47175b79f9c",
   "metadata": {},
   "outputs": [
    {
     "data": {
      "text/html": [
       "<iframe src=\"./Quizzes/Quiz_Submodule4-1.html\" width=100% height=250></iframe>"
      ]
     },
     "metadata": {},
     "output_type": "display_data"
    }
   ],
   "source": [
    "IRdisplay::display_html('<iframe src=\"./Quizzes/Quiz_Submodule4-1.html\" width=100% height=250></iframe>')"
   ]
  },
  {
   "cell_type": "markdown",
   "id": "556fb77f-6f07-4110-bb15-23814624d725",
   "metadata": {},
   "source": [
    "### Data downloading\n",
    "In this submodule, we will use the DE genes of `limma` analysis result of the `GSE5281` dataset from [**submodule 02** ](./Submodule02-DifferentialAnalysis.ipynb) and the `.gmt` files containing GO terms, KEGG pathways, REACTOME pathways gene sets created in [**submodule 03** ](./Submodule03-ProcessingPathwayInformation.ipynb) for performing enrichment analysis.\n",
    "We can use the following command to download the data from Google Cloud Bucket."
   ]
  },
  {
   "cell_type": "code",
   "execution_count": 2,
   "id": "71e404e8-1c47-49f1-a5e0-014bd63100e2",
   "metadata": {},
   "outputs": [],
   "source": [
    "# Download the GSE48350.rds file to the \"data\" folder in current directory\n",
    "system(\"gsutil cp gs://ccpa_bucket/GSE5281.rds ./data/\")\n",
    "\n",
    "# Download the GO_terms.gmt, KEGG_pathways.gmt, REACTOME_pathways.gmt files to the \"data\" folder in current directory\n",
    "system(\"gsutil cp gs://ccpa_bucket/GO_terms.gmt ./data/\")\n",
    "system(\"gsutil cp gs://ccpa_bucket/KEGG_pathways.gmt ./data/\")\n",
    "system(\"gsutil cp gs://ccpa_bucket/REACTOME_pathways.gmt ./data/\")"
   ]
  },
  {
   "cell_type": "markdown",
   "id": "3f600b3d-f556-4466-a9cd-195f4ce6be64",
   "metadata": {},
   "source": [
    "We can now load the DE analysis result using the following commands."
   ]
  },
  {
   "cell_type": "code",
   "execution_count": 3,
   "id": "5c0da12c",
   "metadata": {},
   "outputs": [
    {
     "data": {
      "text/html": [
       "<style>\n",
       ".list-inline {list-style: none; margin:0; padding: 0}\n",
       ".list-inline>li {display: inline-block}\n",
       ".list-inline>li:not(:last-child)::after {content: \"\\00b7\"; padding: 0 .5ex}\n",
       "</style>\n",
       "<ol class=list-inline><li>'expression_data'</li><li>'samples'</li><li>'genes'</li><li>'limma_results'</li><li>'tTest_results'</li><li>'edgeR_results'</li><li>'deseq2_results'</li></ol>\n"
      ],
      "text/latex": [
       "\\begin{enumerate*}\n",
       "\\item 'expression\\_data'\n",
       "\\item 'samples'\n",
       "\\item 'genes'\n",
       "\\item 'limma\\_results'\n",
       "\\item 'tTest\\_results'\n",
       "\\item 'edgeR\\_results'\n",
       "\\item 'deseq2\\_results'\n",
       "\\end{enumerate*}\n"
      ],
      "text/markdown": [
       "1. 'expression_data'\n",
       "2. 'samples'\n",
       "3. 'genes'\n",
       "4. 'limma_results'\n",
       "5. 'tTest_results'\n",
       "6. 'edgeR_results'\n",
       "7. 'deseq2_results'\n",
       "\n",
       "\n"
      ],
      "text/plain": [
       "[1] \"expression_data\" \"samples\"         \"genes\"           \"limma_results\"  \n",
       "[5] \"tTest_results\"   \"edgeR_results\"   \"deseq2_results\" "
      ]
     },
     "metadata": {},
     "output_type": "display_data"
    },
    {
     "data": {
      "text/html": [
       "<table class=\"dataframe\">\n",
       "<caption>A data.frame: 6 × 6</caption>\n",
       "<thead>\n",
       "\t<tr><th></th><th scope=col>SYMBOL</th><th scope=col>p.value</th><th scope=col>pFDR</th><th scope=col>statistic</th><th scope=col>logFC</th><th scope=col>avgExpr</th></tr>\n",
       "\t<tr><th></th><th scope=col>&lt;chr&gt;</th><th scope=col>&lt;dbl&gt;</th><th scope=col>&lt;dbl&gt;</th><th scope=col>&lt;dbl&gt;</th><th scope=col>&lt;dbl&gt;</th><th scope=col>&lt;dbl&gt;</th></tr>\n",
       "</thead>\n",
       "<tbody>\n",
       "\t<tr><th scope=row>TUBB</th><td>TUBB   </td><td>1.432179e-22</td><td>3.177289e-18</td><td>-11.36377</td><td>-1.631276</td><td> 9.123189</td></tr>\n",
       "\t<tr><th scope=row>PSMB3</th><td>PSMB3  </td><td>2.388997e-21</td><td>1.829653e-17</td><td>-10.92825</td><td>-1.408793</td><td> 8.736749</td></tr>\n",
       "\t<tr><th scope=row>TUBB4B</th><td>TUBB4B </td><td>2.474176e-21</td><td>1.829653e-17</td><td>-10.92281</td><td>-1.726316</td><td>10.297977</td></tr>\n",
       "\t<tr><th scope=row>SLC35E1</th><td>SLC35E1</td><td>7.401763e-21</td><td>4.105203e-17</td><td> 10.75253</td><td> 1.627450</td><td>11.470567</td></tr>\n",
       "\t<tr><th scope=row>ATP5F1C</th><td>ATP5F1C</td><td>9.950015e-21</td><td>4.414822e-17</td><td>-10.70648</td><td>-1.881757</td><td>10.012823</td></tr>\n",
       "\t<tr><th scope=row>ATP5F1B</th><td>ATP5F1B</td><td>2.802296e-20</td><td>1.036149e-16</td><td>-10.54504</td><td>-1.616196</td><td>10.576243</td></tr>\n",
       "</tbody>\n",
       "</table>\n"
      ],
      "text/latex": [
       "A data.frame: 6 × 6\n",
       "\\begin{tabular}{r|llllll}\n",
       "  & SYMBOL & p.value & pFDR & statistic & logFC & avgExpr\\\\\n",
       "  & <chr> & <dbl> & <dbl> & <dbl> & <dbl> & <dbl>\\\\\n",
       "\\hline\n",
       "\tTUBB & TUBB    & 1.432179e-22 & 3.177289e-18 & -11.36377 & -1.631276 &  9.123189\\\\\n",
       "\tPSMB3 & PSMB3   & 2.388997e-21 & 1.829653e-17 & -10.92825 & -1.408793 &  8.736749\\\\\n",
       "\tTUBB4B & TUBB4B  & 2.474176e-21 & 1.829653e-17 & -10.92281 & -1.726316 & 10.297977\\\\\n",
       "\tSLC35E1 & SLC35E1 & 7.401763e-21 & 4.105203e-17 &  10.75253 &  1.627450 & 11.470567\\\\\n",
       "\tATP5F1C & ATP5F1C & 9.950015e-21 & 4.414822e-17 & -10.70648 & -1.881757 & 10.012823\\\\\n",
       "\tATP5F1B & ATP5F1B & 2.802296e-20 & 1.036149e-16 & -10.54504 & -1.616196 & 10.576243\\\\\n",
       "\\end{tabular}\n"
      ],
      "text/markdown": [
       "\n",
       "A data.frame: 6 × 6\n",
       "\n",
       "| <!--/--> | SYMBOL &lt;chr&gt; | p.value &lt;dbl&gt; | pFDR &lt;dbl&gt; | statistic &lt;dbl&gt; | logFC &lt;dbl&gt; | avgExpr &lt;dbl&gt; |\n",
       "|---|---|---|---|---|---|---|\n",
       "| TUBB | TUBB    | 1.432179e-22 | 3.177289e-18 | -11.36377 | -1.631276 |  9.123189 |\n",
       "| PSMB3 | PSMB3   | 2.388997e-21 | 1.829653e-17 | -10.92825 | -1.408793 |  8.736749 |\n",
       "| TUBB4B | TUBB4B  | 2.474176e-21 | 1.829653e-17 | -10.92281 | -1.726316 | 10.297977 |\n",
       "| SLC35E1 | SLC35E1 | 7.401763e-21 | 4.105203e-17 |  10.75253 |  1.627450 | 11.470567 |\n",
       "| ATP5F1C | ATP5F1C | 9.950015e-21 | 4.414822e-17 | -10.70648 | -1.881757 | 10.012823 |\n",
       "| ATP5F1B | ATP5F1B | 2.802296e-20 | 1.036149e-16 | -10.54504 | -1.616196 | 10.576243 |\n",
       "\n"
      ],
      "text/plain": [
       "        SYMBOL  p.value      pFDR         statistic logFC     avgExpr  \n",
       "TUBB    TUBB    1.432179e-22 3.177289e-18 -11.36377 -1.631276  9.123189\n",
       "PSMB3   PSMB3   2.388997e-21 1.829653e-17 -10.92825 -1.408793  8.736749\n",
       "TUBB4B  TUBB4B  2.474176e-21 1.829653e-17 -10.92281 -1.726316 10.297977\n",
       "SLC35E1 SLC35E1 7.401763e-21 4.105203e-17  10.75253  1.627450 11.470567\n",
       "ATP5F1C ATP5F1C 9.950015e-21 4.414822e-17 -10.70648 -1.881757 10.012823\n",
       "ATP5F1B ATP5F1B 2.802296e-20 1.036149e-16 -10.54504 -1.616196 10.576243"
      ]
     },
     "metadata": {},
     "output_type": "display_data"
    }
   ],
   "source": [
    "# Load previously saved data\n",
    "data <- readRDS(\"./data/GSE5281.rds\")\n",
    "# To see what are available in data\n",
    "names(data)\n",
    "\n",
    "# Get DE results from the loaded data\n",
    "DE.df <- data$limma_results\n",
    "# Print some first row of the differential analysis result\n",
    "head(DE.df)"
   ]
  },
  {
   "cell_type": "markdown",
   "id": "8538d33d",
   "metadata": {},
   "source": [
    "<!-- headings -->\n",
    "<a id=\"ora-main\"></a>\n",
    "## 1. Enrichment Analysis Using Over-Representation Analysis\n",
    "Over-representation analysis (ORA) is a statistical method that determines whether genes from a pre-defined gene set of a specific GO term or KEGG pathway are presented more than would be expected (over-represented) in a subset of your data. In our learning module, this subset refers to the list of DE genes generated from the `limma` method. For each gene set, an enrichment *p-value* is calculated using the Binomial distribution, Hypergeometric distribution, the Fisher exact test, or the Chi-square test.  The hypergeometric distribution is a popular approach used to calculate enrichment p-value. The formula can be presented as follows:"
   ]
  },
  {
   "cell_type": "markdown",
   "id": "eca231f2",
   "metadata": {},
   "source": [
    "$$\n",
    "     P(X\\geq x) = 1 - P(X \\leq x-1) = 1 - \\sum\\limits_{i=0}^{x-1}\\frac{\\hphantom{}{M \\choose i }{N - M \\choose n-i}}{N \\choose n}\n",
    "$$"
   ]
  },
  {
   "cell_type": "markdown",
   "id": "1c18d887",
   "metadata": {},
   "source": [
    "where *N* is the number of background genes (all genes presented in the expression matrix), *n* is the number of “interesting” genes (DE genes), *M* is the number of genes that are annotated to a particular gene set *S* (list of genes in a specific KEGG pathway or GO term), and *x* is the number of “interesting” genes that are annotated to *S* (genes presented in DE genes list and a specific KEGG pathway or GO term)."
   ]
  },
  {
   "cell_type": "markdown",
   "id": "ccade46c",
   "metadata": {},
   "source": [
    "For example, suppose we have an expression matrix with 20,000 genes, of which 500 are differently expressed. Also, suppose that 100 of the 20,000 genes are annotated to a particular gene set S. Of these 100 genes, 20 are members of the DE genes list. The probability that 20 or more (up to 100) genes annotated to S are in the DE genes list by chance is given by"
   ]
  },
  {
   "cell_type": "markdown",
   "id": "ed50cd53",
   "metadata": {},
   "source": [
    "$$\n",
    "P(X\\geq 20) = 1 - P(X \\leq 19) = 1-\\sum \\limits_{i=0}^{19}\\frac{\\hphantom{}{100 \\choose i}{20000 - 100 \\choose 500-i}}{20000 \\choose 500} = 5.26 \\times 10^{-13}\n",
    "$$"
   ]
  },
  {
   "cell_type": "markdown",
   "id": "b2e2d72e",
   "metadata": {},
   "source": [
    "The *p-value* indicates that it is very rare to observe 20 of the 100 genes from this set are in the DE genes list by chance."
   ]
  },
  {
   "cell_type": "code",
   "execution_count": 4,
   "id": "2b0be768-1749-4752-b31f-bf5818b33be5",
   "metadata": {},
   "outputs": [
    {
     "data": {
      "text/html": [
       "<iframe src=\"./Quizzes/Quiz_Submodule4-2.html\" width=100% height=250></iframe>"
      ]
     },
     "metadata": {},
     "output_type": "display_data"
    }
   ],
   "source": [
    "IRdisplay::display_html('<iframe src=\"./Quizzes/Quiz_Submodule4-2.html\" width=100% height=250></iframe>')"
   ]
  },
  {
   "cell_type": "markdown",
   "id": "e332d07b",
   "metadata": {},
   "source": [
    "### Data preparation\n",
    "To conduct enrichment analysis using ORA, there are several input data that we need to prepare. First, we need to select a set of genes that\n",
    "are significantly altered (*p-value < 0.05*) in the DE genes generated from the `limma` method."
   ]
  },
  {
   "cell_type": "code",
   "execution_count": 5,
   "id": "b1b28353",
   "metadata": {},
   "outputs": [],
   "source": [
    "# Selecting a list of significant DE genes\n",
    "DEGenes <- DE.df[DE.df$pFDR <= 0.05, ]\n",
    "# Select the remaining genes \n",
    "DEGenes <- DEGenes$SYMBOL"
   ]
  },
  {
   "cell_type": "markdown",
   "id": "f0d9f75f",
   "metadata": {},
   "source": [
    "Next, we need to define a list of background genes. In this analysis, they are all the genes generated from the DE analysis."
   ]
  },
  {
   "cell_type": "code",
   "execution_count": 6,
   "id": "303d3696",
   "metadata": {},
   "outputs": [],
   "source": [
    "# Defining background genes\n",
    "backgroundSet <- DE.df$SYMBOL"
   ]
  },
  {
   "cell_type": "markdown",
   "id": "5f19e685",
   "metadata": {},
   "source": [
    "Then, we need to obtain a list of geneset from knowledge databases such as GO and KEGG. In this learning module, the geneset will be retrieved from\n",
    "the *.gmt* files that were processed from the [**submodule 03**](./Submodule03-ProcessingPathwayInformation.ipynb). To load the geneset, we will use the `gmt2geneset` function below:"
   ]
  },
  {
   "cell_type": "code",
   "execution_count": 7,
   "id": "348c3154-cffb-4586-ab59-51845f4c6a19",
   "metadata": {},
   "outputs": [],
   "source": [
    "#' @description This function read a GMT file to a gene sets list in R\n",
    "#'\n",
    "#' @param path The file path to the GMT file.\n",
    "#' @return A list containing the gene sets extracted from the GMT file.\n",
    "\n",
    "gmt2geneset <- function(path) {\n",
    "    # Read the lines from the file\n",
    "    lines <- readLines(path, warn = FALSE)\n",
    "\n",
    "    # Split each line into fields\n",
    "    gmt_data <- strsplit(lines, \"\\t\")\n",
    "\n",
    "    # Process each line and extract gene sets\n",
    "    gene_sets <- lapply(gmt_data, function(line) {\n",
    "        gene_set_name <- line[1]\n",
    "        description <- line[2]\n",
    "        genes <- line[-c(1, 2)]  # Exclude the first two elements (name and description)\n",
    "\n",
    "        list(\n",
    "            pathwayID = gene_set_name,\n",
    "            description = description,\n",
    "            genes = genes\n",
    "        )\n",
    "    })\n",
    "    # Convert list of gene sets to a named list\n",
    "    gs <- lapply(gene_sets, function(g) g$genes)\n",
    "    names(gs) <- lapply(gene_sets, function(g) g$pathwayID)\n",
    "\n",
    "    return(gs)\n",
    "}"
   ]
  },
  {
   "cell_type": "markdown",
   "id": "0042697a",
   "metadata": {},
   "source": [
    "Here, we also use a function called `runORA` to perform over-representation analysis based on the hyper-geometric testing formula presented above.\n",
    "It requires a list of gene sets (E.g. GO terms, KEGG, REACTOME, ...), a dataframe containing results of a DE analysis method and a p-value threshold for a gene to be considered differentially expressed. The `ORA` method will perform hyper-geometric testing for each geneset obtained from GO or KEGG using the function `phyper` available for the `stats` R base package. The output of the `.runORA` function is a table that contains a column of terms or pathway names and a column of *p-value*."
   ]
  },
  {
   "cell_type": "code",
   "execution_count": 8,
   "id": "d809f4b3",
   "metadata": {},
   "outputs": [],
   "source": [
    "#' @description This function performs gene set analysis based on ORA (Over Representation Analysis).\n",
    "#'\n",
    "#' @param DE_data The generated SummarizedExpriment object from DE analysis result.\n",
    "#' @param genesets The gene to use for the analysis, e.g. KEGG gene sets from gmt2geneset function.\n",
    "#' @param pThreshold The p.value cutoff threshold.\n",
    "#' @return A dataframe of geneset analysis results\n",
    "\n",
    "runORA <- function(DE_data, genesets, pThreshold = 0.05) {    \n",
    "    # Check if DE_data is not null and has dimensions\n",
    "    if (is.null(DE_data) |\n",
    "        dim(DE_data)[1] == 0 |\n",
    "        dim(DE_data)[2] == 0) {\n",
    "        stop(\"No differential analysis data is in input data.\")\n",
    "    }\n",
    "\n",
    "    # Extract genes with p-values below the threshold\n",
    "    DE.genes <- rownames(DE_data[DE_data$p.value <= pThreshold, ])\n",
    "        \n",
    "    # All genes in the background\n",
    "    background.genes <- rownames(DE_data)\n",
    "\n",
    "    # Calculate the overlap between genesets and background genes\n",
    "    GSOverlap <- sapply(genesets, function(gs) length(intersect(gs, background.genes)))\n",
    "    # Calculate the overlap between genesets and differentially expressed genes\n",
    "    DEOverlap <- sapply(genesets, function(gs) length(intersect(gs, DE.genes)))\n",
    "    # Calculate the number of non-differentially expressed genes in the background\n",
    "    NoneDEInBackground <- length(background.genes) - length(DE.genes)\n",
    "    # Calculate the expected overlap by chance\n",
    "    Expected <- GSOverlap * length(DE.genes) / length(background.genes)\n",
    "\n",
    "    # Calculate p-values using hypergeometric distribution\n",
    "    pvals <- 1 - phyper(DEOverlap - 1, length(DE.genes), NoneDEInBackground, GSOverlap)\n",
    "    # Calculate Enrichment Score (ES)\n",
    "    ES <- log2(DEOverlap / Expected)\n",
    "\n",
    "    # Create a dataframe with results\n",
    "    result_df <- data.frame(\n",
    "        ID = names(genesets),\n",
    "        p.value = pvals,\n",
    "        score = ES,\n",
    "        normalizedScore = ES, # For now, normalized score is the same as ES\n",
    "        stringsAsFactors = FALSE\n",
    "    )\n",
    "\n",
    "    return(result_df)\n",
    "}\n"
   ]
  },
  {
   "cell_type": "markdown",
   "id": "dedfa2a3",
   "metadata": {},
   "source": [
    "### Enrichment analysis using ORA and GO terms\n",
    "In this section, we will perform ORA using the list of gene sets obtained from the GO database and the function `ORA` defined above. The detailed code is presented below:"
   ]
  },
  {
   "cell_type": "code",
   "execution_count": 9,
   "id": "975e07c7",
   "metadata": {},
   "outputs": [
    {
     "data": {
      "text/html": [
       "<table class=\"dataframe\">\n",
       "<caption>A data.frame: 6 × 4</caption>\n",
       "<thead>\n",
       "\t<tr><th></th><th scope=col>ID</th><th scope=col>p.value</th><th scope=col>score</th><th scope=col>normalizedScore</th></tr>\n",
       "\t<tr><th></th><th scope=col>&lt;chr&gt;</th><th scope=col>&lt;dbl&gt;</th><th scope=col>&lt;dbl&gt;</th><th scope=col>&lt;dbl&gt;</th></tr>\n",
       "</thead>\n",
       "<tbody>\n",
       "\t<tr><th scope=row>GO:0006139</th><td>GO:0006139</td><td>0</td><td>0.2080449</td><td>0.2080449</td></tr>\n",
       "\t<tr><th scope=row>GO:0006412</th><td>GO:0006412</td><td>0</td><td>0.5071833</td><td>0.5071833</td></tr>\n",
       "\t<tr><th scope=row>GO:0006518</th><td>GO:0006518</td><td>0</td><td>0.4688192</td><td>0.4688192</td></tr>\n",
       "\t<tr><th scope=row>GO:0006725</th><td>GO:0006725</td><td>0</td><td>0.1971205</td><td>0.1971205</td></tr>\n",
       "\t<tr><th scope=row>GO:0006807</th><td>GO:0006807</td><td>0</td><td>0.2204049</td><td>0.2204049</td></tr>\n",
       "\t<tr><th scope=row>GO:0006810</th><td>GO:0006810</td><td>0</td><td>0.1916887</td><td>0.1916887</td></tr>\n",
       "</tbody>\n",
       "</table>\n"
      ],
      "text/latex": [
       "A data.frame: 6 × 4\n",
       "\\begin{tabular}{r|llll}\n",
       "  & ID & p.value & score & normalizedScore\\\\\n",
       "  & <chr> & <dbl> & <dbl> & <dbl>\\\\\n",
       "\\hline\n",
       "\tGO:0006139 & GO:0006139 & 0 & 0.2080449 & 0.2080449\\\\\n",
       "\tGO:0006412 & GO:0006412 & 0 & 0.5071833 & 0.5071833\\\\\n",
       "\tGO:0006518 & GO:0006518 & 0 & 0.4688192 & 0.4688192\\\\\n",
       "\tGO:0006725 & GO:0006725 & 0 & 0.1971205 & 0.1971205\\\\\n",
       "\tGO:0006807 & GO:0006807 & 0 & 0.2204049 & 0.2204049\\\\\n",
       "\tGO:0006810 & GO:0006810 & 0 & 0.1916887 & 0.1916887\\\\\n",
       "\\end{tabular}\n"
      ],
      "text/markdown": [
       "\n",
       "A data.frame: 6 × 4\n",
       "\n",
       "| <!--/--> | ID &lt;chr&gt; | p.value &lt;dbl&gt; | score &lt;dbl&gt; | normalizedScore &lt;dbl&gt; |\n",
       "|---|---|---|---|---|\n",
       "| GO:0006139 | GO:0006139 | 0 | 0.2080449 | 0.2080449 |\n",
       "| GO:0006412 | GO:0006412 | 0 | 0.5071833 | 0.5071833 |\n",
       "| GO:0006518 | GO:0006518 | 0 | 0.4688192 | 0.4688192 |\n",
       "| GO:0006725 | GO:0006725 | 0 | 0.1971205 | 0.1971205 |\n",
       "| GO:0006807 | GO:0006807 | 0 | 0.2204049 | 0.2204049 |\n",
       "| GO:0006810 | GO:0006810 | 0 | 0.1916887 | 0.1916887 |\n",
       "\n"
      ],
      "text/plain": [
       "           ID         p.value score     normalizedScore\n",
       "GO:0006139 GO:0006139 0       0.2080449 0.2080449      \n",
       "GO:0006412 GO:0006412 0       0.5071833 0.5071833      \n",
       "GO:0006518 GO:0006518 0       0.4688192 0.4688192      \n",
       "GO:0006725 GO:0006725 0       0.1971205 0.1971205      \n",
       "GO:0006807 GO:0006807 0       0.2204049 0.2204049      \n",
       "GO:0006810 GO:0006810 0       0.1916887 0.1916887      "
      ]
     },
     "metadata": {},
     "output_type": "display_data"
    }
   ],
   "source": [
    "# Loading GO terms\n",
    "suppressWarnings({suppressMessages({geneset <- gmt2geneset(\"./data/GO_terms.gmt\")})})\n",
    "# Perform ORA\n",
    "ORA_res <- runORA(DE_data = DE.df, genesets = geneset, pThreshold = 0.05)\n",
    "\n",
    "# Order the table based on the p-value\n",
    "ORA_res <- ORA_res[order(ORA_res$p.value), ]\n",
    "# View the most significant GO terms\n",
    "head(ORA_res)"
   ]
  },
  {
   "cell_type": "markdown",
   "id": "ae0d8278",
   "metadata": {},
   "source": [
    "From the result table, we might conclude that the pathways shown are key components of the disease in study."
   ]
  },
  {
   "cell_type": "markdown",
   "id": "cfa3dbd7",
   "metadata": {},
   "source": [
    "### Enrichment analysis using ORA and KEGG pathways"
   ]
  },
  {
   "cell_type": "markdown",
   "id": "69dc9176-9f21-4198-8873-c391fd58b1d2",
   "metadata": {},
   "source": [
    "We will perform the same steps as we did above with the GO terms."
   ]
  },
  {
   "cell_type": "code",
   "execution_count": 10,
   "id": "ee2d6ff9",
   "metadata": {},
   "outputs": [
    {
     "data": {
      "text/html": [
       "<table class=\"dataframe\">\n",
       "<caption>A data.frame: 6 × 4</caption>\n",
       "<thead>\n",
       "\t<tr><th></th><th scope=col>ID</th><th scope=col>p.value</th><th scope=col>score</th><th scope=col>normalizedScore</th></tr>\n",
       "\t<tr><th></th><th scope=col>&lt;chr&gt;</th><th scope=col>&lt;dbl&gt;</th><th scope=col>&lt;dbl&gt;</th><th scope=col>&lt;dbl&gt;</th></tr>\n",
       "</thead>\n",
       "<tbody>\n",
       "\t<tr><th scope=row>hsa05012</th><td>hsa05012</td><td>0.000000e+00</td><td>0.8215426</td><td>0.8215426</td></tr>\n",
       "\t<tr><th scope=row>hsa05014</th><td>hsa05014</td><td>0.000000e+00</td><td>0.6829997</td><td>0.6829997</td></tr>\n",
       "\t<tr><th scope=row>hsa05016</th><td>hsa05016</td><td>0.000000e+00</td><td>0.7605060</td><td>0.7605060</td></tr>\n",
       "\t<tr><th scope=row>hsa05022</th><td>hsa05022</td><td>4.440892e-16</td><td>0.5601445</td><td>0.5601445</td></tr>\n",
       "\t<tr><th scope=row>hsa05020</th><td>hsa05020</td><td>7.549517e-15</td><td>0.6837973</td><td>0.6837973</td></tr>\n",
       "\t<tr><th scope=row>hsa03050</th><td>hsa03050</td><td>2.984279e-13</td><td>1.2308632</td><td>1.2308632</td></tr>\n",
       "</tbody>\n",
       "</table>\n"
      ],
      "text/latex": [
       "A data.frame: 6 × 4\n",
       "\\begin{tabular}{r|llll}\n",
       "  & ID & p.value & score & normalizedScore\\\\\n",
       "  & <chr> & <dbl> & <dbl> & <dbl>\\\\\n",
       "\\hline\n",
       "\thsa05012 & hsa05012 & 0.000000e+00 & 0.8215426 & 0.8215426\\\\\n",
       "\thsa05014 & hsa05014 & 0.000000e+00 & 0.6829997 & 0.6829997\\\\\n",
       "\thsa05016 & hsa05016 & 0.000000e+00 & 0.7605060 & 0.7605060\\\\\n",
       "\thsa05022 & hsa05022 & 4.440892e-16 & 0.5601445 & 0.5601445\\\\\n",
       "\thsa05020 & hsa05020 & 7.549517e-15 & 0.6837973 & 0.6837973\\\\\n",
       "\thsa03050 & hsa03050 & 2.984279e-13 & 1.2308632 & 1.2308632\\\\\n",
       "\\end{tabular}\n"
      ],
      "text/markdown": [
       "\n",
       "A data.frame: 6 × 4\n",
       "\n",
       "| <!--/--> | ID &lt;chr&gt; | p.value &lt;dbl&gt; | score &lt;dbl&gt; | normalizedScore &lt;dbl&gt; |\n",
       "|---|---|---|---|---|\n",
       "| hsa05012 | hsa05012 | 0.000000e+00 | 0.8215426 | 0.8215426 |\n",
       "| hsa05014 | hsa05014 | 0.000000e+00 | 0.6829997 | 0.6829997 |\n",
       "| hsa05016 | hsa05016 | 0.000000e+00 | 0.7605060 | 0.7605060 |\n",
       "| hsa05022 | hsa05022 | 4.440892e-16 | 0.5601445 | 0.5601445 |\n",
       "| hsa05020 | hsa05020 | 7.549517e-15 | 0.6837973 | 0.6837973 |\n",
       "| hsa03050 | hsa03050 | 2.984279e-13 | 1.2308632 | 1.2308632 |\n",
       "\n"
      ],
      "text/plain": [
       "         ID       p.value      score     normalizedScore\n",
       "hsa05012 hsa05012 0.000000e+00 0.8215426 0.8215426      \n",
       "hsa05014 hsa05014 0.000000e+00 0.6829997 0.6829997      \n",
       "hsa05016 hsa05016 0.000000e+00 0.7605060 0.7605060      \n",
       "hsa05022 hsa05022 4.440892e-16 0.5601445 0.5601445      \n",
       "hsa05020 hsa05020 7.549517e-15 0.6837973 0.6837973      \n",
       "hsa03050 hsa03050 2.984279e-13 1.2308632 1.2308632      "
      ]
     },
     "metadata": {},
     "output_type": "display_data"
    }
   ],
   "source": [
    "# Loading KEGG pathways\n",
    "suppressWarnings({suppressMessages({geneset <- gmt2geneset(\"./data/KEGG_pathways.gmt\")})})\n",
    "\n",
    "# Perform Hyper-geometric testing\n",
    "ORA_res <- runORA(DE_data = DE.df, genesets = geneset, pThreshold = 0.05)\n",
    "\n",
    "# # Order the table based on the p-value\n",
    "ORA_res <- ORA_res[order(ORA_res$p.value), ]\n",
    "# View the most significant GO terms\n",
    "head(ORA_res)\n"
   ]
  },
  {
   "cell_type": "markdown",
   "id": "63818b96-1b67-49be-81d3-c45dae212ecc",
   "metadata": {},
   "source": [
    "### Enrichment analysis using ORA and REACTOME pathways\n",
    "\n",
    "We will perform similar steps as we did before with the GO terms and KEEG pathways."
   ]
  },
  {
   "cell_type": "code",
   "execution_count": 11,
   "id": "7a7baa26-8eb4-4762-bcd0-3ebaf18d8cc0",
   "metadata": {},
   "outputs": [
    {
     "data": {
      "text/html": [
       "<table class=\"dataframe\">\n",
       "<caption>A data.frame: 6 × 4</caption>\n",
       "<thead>\n",
       "\t<tr><th></th><th scope=col>ID</th><th scope=col>p.value</th><th scope=col>score</th><th scope=col>normalizedScore</th></tr>\n",
       "\t<tr><th></th><th scope=col>&lt;chr&gt;</th><th scope=col>&lt;dbl&gt;</th><th scope=col>&lt;dbl&gt;</th><th scope=col>&lt;dbl&gt;</th></tr>\n",
       "</thead>\n",
       "<tbody>\n",
       "\t<tr><th scope=row>R-HSA-72766</th><td>R-HSA-72766  </td><td>0</td><td>0.7507580</td><td>0.7507580</td></tr>\n",
       "\t<tr><th scope=row>R-HSA-163200</th><td>R-HSA-163200 </td><td>0</td><td>0.9698630</td><td>0.9698630</td></tr>\n",
       "\t<tr><th scope=row>R-HSA-199991</th><td>R-HSA-199991 </td><td>0</td><td>0.5353433</td><td>0.5353433</td></tr>\n",
       "\t<tr><th scope=row>R-HSA-392499</th><td>R-HSA-392499 </td><td>0</td><td>0.3888270</td><td>0.3888270</td></tr>\n",
       "\t<tr><th scope=row>R-HSA-611105</th><td>R-HSA-611105 </td><td>0</td><td>1.0542352</td><td>1.0542352</td></tr>\n",
       "\t<tr><th scope=row>R-HSA-1428517</th><td>R-HSA-1428517</td><td>0</td><td>0.8847324</td><td>0.8847324</td></tr>\n",
       "</tbody>\n",
       "</table>\n"
      ],
      "text/latex": [
       "A data.frame: 6 × 4\n",
       "\\begin{tabular}{r|llll}\n",
       "  & ID & p.value & score & normalizedScore\\\\\n",
       "  & <chr> & <dbl> & <dbl> & <dbl>\\\\\n",
       "\\hline\n",
       "\tR-HSA-72766 & R-HSA-72766   & 0 & 0.7507580 & 0.7507580\\\\\n",
       "\tR-HSA-163200 & R-HSA-163200  & 0 & 0.9698630 & 0.9698630\\\\\n",
       "\tR-HSA-199991 & R-HSA-199991  & 0 & 0.5353433 & 0.5353433\\\\\n",
       "\tR-HSA-392499 & R-HSA-392499  & 0 & 0.3888270 & 0.3888270\\\\\n",
       "\tR-HSA-611105 & R-HSA-611105  & 0 & 1.0542352 & 1.0542352\\\\\n",
       "\tR-HSA-1428517 & R-HSA-1428517 & 0 & 0.8847324 & 0.8847324\\\\\n",
       "\\end{tabular}\n"
      ],
      "text/markdown": [
       "\n",
       "A data.frame: 6 × 4\n",
       "\n",
       "| <!--/--> | ID &lt;chr&gt; | p.value &lt;dbl&gt; | score &lt;dbl&gt; | normalizedScore &lt;dbl&gt; |\n",
       "|---|---|---|---|---|\n",
       "| R-HSA-72766 | R-HSA-72766   | 0 | 0.7507580 | 0.7507580 |\n",
       "| R-HSA-163200 | R-HSA-163200  | 0 | 0.9698630 | 0.9698630 |\n",
       "| R-HSA-199991 | R-HSA-199991  | 0 | 0.5353433 | 0.5353433 |\n",
       "| R-HSA-392499 | R-HSA-392499  | 0 | 0.3888270 | 0.3888270 |\n",
       "| R-HSA-611105 | R-HSA-611105  | 0 | 1.0542352 | 1.0542352 |\n",
       "| R-HSA-1428517 | R-HSA-1428517 | 0 | 0.8847324 | 0.8847324 |\n",
       "\n"
      ],
      "text/plain": [
       "              ID            p.value score     normalizedScore\n",
       "R-HSA-72766   R-HSA-72766   0       0.7507580 0.7507580      \n",
       "R-HSA-163200  R-HSA-163200  0       0.9698630 0.9698630      \n",
       "R-HSA-199991  R-HSA-199991  0       0.5353433 0.5353433      \n",
       "R-HSA-392499  R-HSA-392499  0       0.3888270 0.3888270      \n",
       "R-HSA-611105  R-HSA-611105  0       1.0542352 1.0542352      \n",
       "R-HSA-1428517 R-HSA-1428517 0       0.8847324 0.8847324      "
      ]
     },
     "metadata": {},
     "output_type": "display_data"
    }
   ],
   "source": [
    "# Loading REACTOME pathways\n",
    "suppressWarnings({suppressMessages({geneset <- gmt2geneset(\"./data/REACTOME_pathways.gmt\")})})\n",
    "# Perform ORA\n",
    "ORA_res <- runORA(DE_data = DE.df, genesets = geneset, pThreshold = 0.05)\n",
    "\n",
    "# Order the table based on the p-value\n",
    "ORA_res <- ORA_res[order(ORA_res$p.value), ]\n",
    "# View the most significant GO terms\n",
    "head(ORA_res)"
   ]
  },
  {
   "cell_type": "markdown",
   "id": "fa3c8735-7167-460e-8fa2-c7dfb2953a65",
   "metadata": {},
   "source": [
    "<!-- headings -->\n",
    "<a id=\"camera-main\"></a>\n",
    "## 2. Enrichment Analysis using CAMERA\n",
    "\n",
    "Correlation Adjusted MEan RAnk (CAMERA) is a powerful gene set analysis method designed for high-throughput genomic data. It operates in two stages, first calculating gene-level statistics including fold change, t-statistic, moderated t-statistics, and a normalized moderated t-statistic using a linear model. In the second stage, The inter-gene correlation within gene sets is assessed through the computation of the variance inflation factor (VIF), and this information is then integrated into either parametric or rank-based hypothesis tests.\n",
    "\n",
    "Since we already had the gene-level statistics from DE analysis in submodule 2, We can utilize the `cameraPR` function integrated in `limma` package to perform the second stage of CAMERA. The `runCAMERA` function below is provided to perform analysis using CAMERA method."
   ]
  },
  {
   "cell_type": "code",
   "execution_count": 12,
   "id": "0b97f28f-7cd8-4fc0-9a58-fc42196f0f0c",
   "metadata": {},
   "outputs": [],
   "source": [
    "# Import the limma package\n",
    "library(limma)"
   ]
  },
  {
   "cell_type": "code",
   "execution_count": 13,
   "id": "8d43c1aa-59c8-45ba-8ab8-1eab77885940",
   "metadata": {},
   "outputs": [],
   "source": [
    "#' @description This function performs gene set analysis using CAMERA method.\n",
    "#'\n",
    "#' @param DE_data A dataframe containing the DE analysis result.\n",
    "#' @param genesets A list of gene sets to be analyzed.\n",
    "#' @param stat_col A character string specifying the name of a statistic column in DE_data\n",
    "#'                 to be used in the EA analysis.\n",
    "#' @param use.ranks A logical whether to use parametric or rank-based hypothesis test\n",
    "#' @return A dataframe containing the results of the tests for each gene set.\n",
    "\n",
    "runCAMERA <- function(DE_data, genesets, stat_col = \"statistic\", use.ranks = FALSE) {\n",
    "  \n",
    "    # Extract the statistics column from DE_data\n",
    "    stats <- DE_data[, stat_col]\n",
    "    # Set gene names as row names for stats\n",
    "    names(stats) <- rownames(DE_data)\n",
    "    # Run CAMERA analysis using cameraPR function\n",
    "    CAMERA_res <- cameraPR(statistic = stats, index = genesets, use.ranks = use.ranks)\n",
    "    # Create a dataframe with results\n",
    "    result_df <- data.frame(\n",
    "        ID = rownames(CAMERA_res),\n",
    "        p.value = CAMERA_res$PValue,\n",
    "        pFDR = CAMERA_res$FDR,\n",
    "        stringsAsFactors = FALSE\n",
    "    )\n",
    "    # Return the result dataframe\n",
    "    result_df\n",
    "}\n"
   ]
  },
  {
   "cell_type": "markdown",
   "id": "0857b479-a9bf-4b0e-b024-1c1b6f9897cd",
   "metadata": {},
   "source": [
    "### Enrichment analysis using CAMERA and GO terms\n",
    "We will use the `runCAMERA` function to perform gene set analysis with GO terms as follows:"
   ]
  },
  {
   "cell_type": "code",
   "execution_count": 14,
   "id": "509b83ad-666e-42bb-b2e8-6ef461c60df2",
   "metadata": {},
   "outputs": [
    {
     "data": {
      "text/html": [
       "<table class=\"dataframe\">\n",
       "<caption>A data.frame: 6 × 3</caption>\n",
       "<thead>\n",
       "\t<tr><th></th><th scope=col>ID</th><th scope=col>p.value</th><th scope=col>pFDR</th></tr>\n",
       "\t<tr><th></th><th scope=col>&lt;chr&gt;</th><th scope=col>&lt;dbl&gt;</th><th scope=col>&lt;dbl&gt;</th></tr>\n",
       "</thead>\n",
       "<tbody>\n",
       "\t<tr><th scope=row>1</th><td>GO:0042773</td><td>1.452114e-18</td><td>5.037383e-15</td></tr>\n",
       "\t<tr><th scope=row>2</th><td>GO:0042775</td><td>1.452114e-18</td><td>5.037383e-15</td></tr>\n",
       "\t<tr><th scope=row>3</th><td>GO:0015986</td><td>1.351633e-17</td><td>3.125877e-14</td></tr>\n",
       "\t<tr><th scope=row>4</th><td>GO:0019646</td><td>4.263260e-17</td><td>7.394624e-14</td></tr>\n",
       "\t<tr><th scope=row>5</th><td>GO:0009145</td><td>3.894336e-16</td><td>5.403781e-13</td></tr>\n",
       "\t<tr><th scope=row>6</th><td>GO:0032543</td><td>6.164403e-16</td><td>6.681384e-13</td></tr>\n",
       "</tbody>\n",
       "</table>\n"
      ],
      "text/latex": [
       "A data.frame: 6 × 3\n",
       "\\begin{tabular}{r|lll}\n",
       "  & ID & p.value & pFDR\\\\\n",
       "  & <chr> & <dbl> & <dbl>\\\\\n",
       "\\hline\n",
       "\t1 & GO:0042773 & 1.452114e-18 & 5.037383e-15\\\\\n",
       "\t2 & GO:0042775 & 1.452114e-18 & 5.037383e-15\\\\\n",
       "\t3 & GO:0015986 & 1.351633e-17 & 3.125877e-14\\\\\n",
       "\t4 & GO:0019646 & 4.263260e-17 & 7.394624e-14\\\\\n",
       "\t5 & GO:0009145 & 3.894336e-16 & 5.403781e-13\\\\\n",
       "\t6 & GO:0032543 & 6.164403e-16 & 6.681384e-13\\\\\n",
       "\\end{tabular}\n"
      ],
      "text/markdown": [
       "\n",
       "A data.frame: 6 × 3\n",
       "\n",
       "| <!--/--> | ID &lt;chr&gt; | p.value &lt;dbl&gt; | pFDR &lt;dbl&gt; |\n",
       "|---|---|---|---|\n",
       "| 1 | GO:0042773 | 1.452114e-18 | 5.037383e-15 |\n",
       "| 2 | GO:0042775 | 1.452114e-18 | 5.037383e-15 |\n",
       "| 3 | GO:0015986 | 1.351633e-17 | 3.125877e-14 |\n",
       "| 4 | GO:0019646 | 4.263260e-17 | 7.394624e-14 |\n",
       "| 5 | GO:0009145 | 3.894336e-16 | 5.403781e-13 |\n",
       "| 6 | GO:0032543 | 6.164403e-16 | 6.681384e-13 |\n",
       "\n"
      ],
      "text/plain": [
       "  ID         p.value      pFDR        \n",
       "1 GO:0042773 1.452114e-18 5.037383e-15\n",
       "2 GO:0042775 1.452114e-18 5.037383e-15\n",
       "3 GO:0015986 1.351633e-17 3.125877e-14\n",
       "4 GO:0019646 4.263260e-17 7.394624e-14\n",
       "5 GO:0009145 3.894336e-16 5.403781e-13\n",
       "6 GO:0032543 6.164403e-16 6.681384e-13"
      ]
     },
     "metadata": {},
     "output_type": "display_data"
    }
   ],
   "source": [
    "# Loading GO terms\n",
    "suppressWarnings({suppressMessages({geneset <- gmt2geneset(\"./data/GO_terms.gmt\")})})\n",
    "# Perform EA using CAMERA method\n",
    "CAMERA_res <- runCAMERA(DE_data = DE.df, genesets = geneset, stat_col = \"statistic\")\n",
    "head(CAMERA_res)"
   ]
  },
  {
   "cell_type": "markdown",
   "id": "3521d287-83bd-4f97-92b6-1f41a967e8bb",
   "metadata": {},
   "source": [
    "### Enrichment analysis using CAMERA and KEGG pathways\n",
    "\n",
    "To analyze the KEGG pathways using CAMERA, we can use the same above codes and simply replace GO terms with KEGG pathways."
   ]
  },
  {
   "cell_type": "code",
   "execution_count": 15,
   "id": "8d89e86b-06da-41ba-81ae-0270f9c79478",
   "metadata": {},
   "outputs": [
    {
     "data": {
      "text/html": [
       "<table class=\"dataframe\">\n",
       "<caption>A data.frame: 6 × 3</caption>\n",
       "<thead>\n",
       "\t<tr><th></th><th scope=col>ID</th><th scope=col>p.value</th><th scope=col>pFDR</th></tr>\n",
       "\t<tr><th></th><th scope=col>&lt;chr&gt;</th><th scope=col>&lt;dbl&gt;</th><th scope=col>&lt;dbl&gt;</th></tr>\n",
       "</thead>\n",
       "<tbody>\n",
       "\t<tr><th scope=row>1</th><td>hsa03050</td><td>2.620282e-21</td><td>9.039974e-19</td></tr>\n",
       "\t<tr><th scope=row>2</th><td>hsa00190</td><td>2.075698e-18</td><td>3.580579e-16</td></tr>\n",
       "\t<tr><th scope=row>3</th><td>hsa05012</td><td>4.282708e-15</td><td>4.925115e-13</td></tr>\n",
       "\t<tr><th scope=row>4</th><td>hsa05016</td><td>1.491982e-13</td><td>1.286834e-11</td></tr>\n",
       "\t<tr><th scope=row>5</th><td>hsa05020</td><td>1.004145e-12</td><td>6.928604e-11</td></tr>\n",
       "\t<tr><th scope=row>6</th><td>hsa05014</td><td>2.878336e-12</td><td>1.655043e-10</td></tr>\n",
       "</tbody>\n",
       "</table>\n"
      ],
      "text/latex": [
       "A data.frame: 6 × 3\n",
       "\\begin{tabular}{r|lll}\n",
       "  & ID & p.value & pFDR\\\\\n",
       "  & <chr> & <dbl> & <dbl>\\\\\n",
       "\\hline\n",
       "\t1 & hsa03050 & 2.620282e-21 & 9.039974e-19\\\\\n",
       "\t2 & hsa00190 & 2.075698e-18 & 3.580579e-16\\\\\n",
       "\t3 & hsa05012 & 4.282708e-15 & 4.925115e-13\\\\\n",
       "\t4 & hsa05016 & 1.491982e-13 & 1.286834e-11\\\\\n",
       "\t5 & hsa05020 & 1.004145e-12 & 6.928604e-11\\\\\n",
       "\t6 & hsa05014 & 2.878336e-12 & 1.655043e-10\\\\\n",
       "\\end{tabular}\n"
      ],
      "text/markdown": [
       "\n",
       "A data.frame: 6 × 3\n",
       "\n",
       "| <!--/--> | ID &lt;chr&gt; | p.value &lt;dbl&gt; | pFDR &lt;dbl&gt; |\n",
       "|---|---|---|---|\n",
       "| 1 | hsa03050 | 2.620282e-21 | 9.039974e-19 |\n",
       "| 2 | hsa00190 | 2.075698e-18 | 3.580579e-16 |\n",
       "| 3 | hsa05012 | 4.282708e-15 | 4.925115e-13 |\n",
       "| 4 | hsa05016 | 1.491982e-13 | 1.286834e-11 |\n",
       "| 5 | hsa05020 | 1.004145e-12 | 6.928604e-11 |\n",
       "| 6 | hsa05014 | 2.878336e-12 | 1.655043e-10 |\n",
       "\n"
      ],
      "text/plain": [
       "  ID       p.value      pFDR        \n",
       "1 hsa03050 2.620282e-21 9.039974e-19\n",
       "2 hsa00190 2.075698e-18 3.580579e-16\n",
       "3 hsa05012 4.282708e-15 4.925115e-13\n",
       "4 hsa05016 1.491982e-13 1.286834e-11\n",
       "5 hsa05020 1.004145e-12 6.928604e-11\n",
       "6 hsa05014 2.878336e-12 1.655043e-10"
      ]
     },
     "metadata": {},
     "output_type": "display_data"
    }
   ],
   "source": [
    "# Loading KEGG pathways\n",
    "suppressWarnings({suppressMessages({geneset <- gmt2geneset(\"./data/KEGG_pathways.gmt\")})})\n",
    "# Perform EA using CAMERA method\n",
    "CAMERA_res <- runCAMERA(DE_data = DE.df, genesets = geneset, stat_col = \"statistic\")\n",
    "head(CAMERA_res)"
   ]
  },
  {
   "cell_type": "markdown",
   "id": "64ecc421-a9eb-4694-ad3c-942ce3cdc3b3",
   "metadata": {},
   "source": [
    "### Enrichment analysis using CAMERA and REACTOME pathways\n",
    "\n",
    "Similar to GO terms and KEGG pathways, we just need to load and pass the REACTOME pathways to the `runCAMERA` function."
   ]
  },
  {
   "cell_type": "code",
   "execution_count": 16,
   "id": "52fb9944-c1c5-4523-853c-f96636f0f812",
   "metadata": {},
   "outputs": [
    {
     "data": {
      "text/html": [
       "<table class=\"dataframe\">\n",
       "<caption>A data.frame: 6 × 3</caption>\n",
       "<thead>\n",
       "\t<tr><th></th><th scope=col>ID</th><th scope=col>p.value</th><th scope=col>pFDR</th></tr>\n",
       "\t<tr><th></th><th scope=col>&lt;chr&gt;</th><th scope=col>&lt;dbl&gt;</th><th scope=col>&lt;dbl&gt;</th></tr>\n",
       "</thead>\n",
       "<tbody>\n",
       "\t<tr><th scope=row>1</th><td>R-HSA-9604323</td><td>2.644210e-22</td><td>6.941051e-19</td></tr>\n",
       "\t<tr><th scope=row>2</th><td>R-HSA-180585 </td><td>1.032521e-21</td><td>1.318308e-18</td></tr>\n",
       "\t<tr><th scope=row>3</th><td>R-HSA-9762114</td><td>1.506638e-21</td><td>1.318308e-18</td></tr>\n",
       "\t<tr><th scope=row>4</th><td>R-HSA-211733 </td><td>3.761629e-21</td><td>2.468569e-18</td></tr>\n",
       "\t<tr><th scope=row>5</th><td>R-HSA-8854050</td><td>1.726367e-20</td><td>8.870846e-18</td></tr>\n",
       "\t<tr><th scope=row>6</th><td>R-HSA-174113 </td><td>2.314618e-20</td><td>8.870846e-18</td></tr>\n",
       "</tbody>\n",
       "</table>\n"
      ],
      "text/latex": [
       "A data.frame: 6 × 3\n",
       "\\begin{tabular}{r|lll}\n",
       "  & ID & p.value & pFDR\\\\\n",
       "  & <chr> & <dbl> & <dbl>\\\\\n",
       "\\hline\n",
       "\t1 & R-HSA-9604323 & 2.644210e-22 & 6.941051e-19\\\\\n",
       "\t2 & R-HSA-180585  & 1.032521e-21 & 1.318308e-18\\\\\n",
       "\t3 & R-HSA-9762114 & 1.506638e-21 & 1.318308e-18\\\\\n",
       "\t4 & R-HSA-211733  & 3.761629e-21 & 2.468569e-18\\\\\n",
       "\t5 & R-HSA-8854050 & 1.726367e-20 & 8.870846e-18\\\\\n",
       "\t6 & R-HSA-174113  & 2.314618e-20 & 8.870846e-18\\\\\n",
       "\\end{tabular}\n"
      ],
      "text/markdown": [
       "\n",
       "A data.frame: 6 × 3\n",
       "\n",
       "| <!--/--> | ID &lt;chr&gt; | p.value &lt;dbl&gt; | pFDR &lt;dbl&gt; |\n",
       "|---|---|---|---|\n",
       "| 1 | R-HSA-9604323 | 2.644210e-22 | 6.941051e-19 |\n",
       "| 2 | R-HSA-180585  | 1.032521e-21 | 1.318308e-18 |\n",
       "| 3 | R-HSA-9762114 | 1.506638e-21 | 1.318308e-18 |\n",
       "| 4 | R-HSA-211733  | 3.761629e-21 | 2.468569e-18 |\n",
       "| 5 | R-HSA-8854050 | 1.726367e-20 | 8.870846e-18 |\n",
       "| 6 | R-HSA-174113  | 2.314618e-20 | 8.870846e-18 |\n",
       "\n"
      ],
      "text/plain": [
       "  ID            p.value      pFDR        \n",
       "1 R-HSA-9604323 2.644210e-22 6.941051e-19\n",
       "2 R-HSA-180585  1.032521e-21 1.318308e-18\n",
       "3 R-HSA-9762114 1.506638e-21 1.318308e-18\n",
       "4 R-HSA-211733  3.761629e-21 2.468569e-18\n",
       "5 R-HSA-8854050 1.726367e-20 8.870846e-18\n",
       "6 R-HSA-174113  2.314618e-20 8.870846e-18"
      ]
     },
     "metadata": {},
     "output_type": "display_data"
    }
   ],
   "source": [
    "# Loading REACTOME pathways\n",
    "suppressWarnings({suppressMessages({geneset <- gmt2geneset(\"./data/REACTOME_pathways.gmt\")})})\n",
    "# Perform EA using CAMERA method\n",
    "CAMERA_res <- runCAMERA(DE_data = DE.df, genesets = geneset, stat_col = \"statistic\")\n",
    "# Show some first rows of the result data frame\n",
    "head(CAMERA_res)"
   ]
  },
  {
   "cell_type": "markdown",
   "id": "72a138b4-a0aa-461b-b529-67e76c7767d6",
   "metadata": {},
   "source": [
    "<!-- headings -->\n",
    "<a id=\"ks-main\"></a>\n",
    "## 3. Enrichment Analysis using KS and Wilcoxon test\n",
    "\n",
    "The Kolmogorov-Smirnov (KS) test is a non-parametric test that compares the cumulative distribution functions of two datasets. In the context of enrichment analysis, it can be employed to assess whether the distribution of DE genes is significantly different from what would be expected by chance for a given gene set. The test produces a KS statistic and a corresponding p-value, indicating the degree of over-representation.\n",
    "\n",
    "The Wilcoxon test, also called the Mann-Whitney U test, helps us check if the ranks of certain genes (DE genes) are significantly different from the rest of the genes. It's a sturdy non-parametric method that doesn't rely on specific assumptions about data distribution. By looking at the ranks, it tells us if there are meaningful differences in how these genes are positioned compared to the overall set. In the context of enrichment analyses, the Wilcoxon test emerges as a valuable tool, elucidating critical variations in the hierarchical arrangement or ranking of genes within the dataset."
   ]
  },
  {
   "cell_type": "markdown",
   "id": "b2a98cfa-2b91-46a5-92ea-38ee1deb2eac",
   "metadata": {},
   "source": [
    "### Data preparation\n",
    "To conduct enrichment analysis using KS or Wilcoxon test, we will use the limma DE result as input. First, we can use the DE.df variable above and select a set of genes that\n",
    "are significantly altered (*p-value < 0.05*). "
   ]
  },
  {
   "cell_type": "code",
   "execution_count": 17,
   "id": "1135da3e-3277-408f-a4b2-7ec34d09a659",
   "metadata": {},
   "outputs": [
    {
     "data": {
      "text/html": [
       "<table class=\"dataframe\">\n",
       "<caption>A data.frame: 6 × 6</caption>\n",
       "<thead>\n",
       "\t<tr><th></th><th scope=col>SYMBOL</th><th scope=col>p.value</th><th scope=col>pFDR</th><th scope=col>statistic</th><th scope=col>logFC</th><th scope=col>avgExpr</th></tr>\n",
       "\t<tr><th></th><th scope=col>&lt;chr&gt;</th><th scope=col>&lt;dbl&gt;</th><th scope=col>&lt;dbl&gt;</th><th scope=col>&lt;dbl&gt;</th><th scope=col>&lt;dbl&gt;</th><th scope=col>&lt;dbl&gt;</th></tr>\n",
       "</thead>\n",
       "<tbody>\n",
       "\t<tr><th scope=row>TUBB</th><td>TUBB   </td><td>1.432179e-22</td><td>3.177289e-18</td><td>-11.36377</td><td>-1.631276</td><td> 9.123189</td></tr>\n",
       "\t<tr><th scope=row>PSMB3</th><td>PSMB3  </td><td>2.388997e-21</td><td>1.829653e-17</td><td>-10.92825</td><td>-1.408793</td><td> 8.736749</td></tr>\n",
       "\t<tr><th scope=row>TUBB4B</th><td>TUBB4B </td><td>2.474176e-21</td><td>1.829653e-17</td><td>-10.92281</td><td>-1.726316</td><td>10.297977</td></tr>\n",
       "\t<tr><th scope=row>SLC35E1</th><td>SLC35E1</td><td>7.401763e-21</td><td>4.105203e-17</td><td> 10.75253</td><td> 1.627450</td><td>11.470567</td></tr>\n",
       "\t<tr><th scope=row>ATP5F1C</th><td>ATP5F1C</td><td>9.950015e-21</td><td>4.414822e-17</td><td>-10.70648</td><td>-1.881757</td><td>10.012823</td></tr>\n",
       "\t<tr><th scope=row>ATP5F1B</th><td>ATP5F1B</td><td>2.802296e-20</td><td>1.036149e-16</td><td>-10.54504</td><td>-1.616196</td><td>10.576243</td></tr>\n",
       "</tbody>\n",
       "</table>\n"
      ],
      "text/latex": [
       "A data.frame: 6 × 6\n",
       "\\begin{tabular}{r|llllll}\n",
       "  & SYMBOL & p.value & pFDR & statistic & logFC & avgExpr\\\\\n",
       "  & <chr> & <dbl> & <dbl> & <dbl> & <dbl> & <dbl>\\\\\n",
       "\\hline\n",
       "\tTUBB & TUBB    & 1.432179e-22 & 3.177289e-18 & -11.36377 & -1.631276 &  9.123189\\\\\n",
       "\tPSMB3 & PSMB3   & 2.388997e-21 & 1.829653e-17 & -10.92825 & -1.408793 &  8.736749\\\\\n",
       "\tTUBB4B & TUBB4B  & 2.474176e-21 & 1.829653e-17 & -10.92281 & -1.726316 & 10.297977\\\\\n",
       "\tSLC35E1 & SLC35E1 & 7.401763e-21 & 4.105203e-17 &  10.75253 &  1.627450 & 11.470567\\\\\n",
       "\tATP5F1C & ATP5F1C & 9.950015e-21 & 4.414822e-17 & -10.70648 & -1.881757 & 10.012823\\\\\n",
       "\tATP5F1B & ATP5F1B & 2.802296e-20 & 1.036149e-16 & -10.54504 & -1.616196 & 10.576243\\\\\n",
       "\\end{tabular}\n"
      ],
      "text/markdown": [
       "\n",
       "A data.frame: 6 × 6\n",
       "\n",
       "| <!--/--> | SYMBOL &lt;chr&gt; | p.value &lt;dbl&gt; | pFDR &lt;dbl&gt; | statistic &lt;dbl&gt; | logFC &lt;dbl&gt; | avgExpr &lt;dbl&gt; |\n",
       "|---|---|---|---|---|---|---|\n",
       "| TUBB | TUBB    | 1.432179e-22 | 3.177289e-18 | -11.36377 | -1.631276 |  9.123189 |\n",
       "| PSMB3 | PSMB3   | 2.388997e-21 | 1.829653e-17 | -10.92825 | -1.408793 |  8.736749 |\n",
       "| TUBB4B | TUBB4B  | 2.474176e-21 | 1.829653e-17 | -10.92281 | -1.726316 | 10.297977 |\n",
       "| SLC35E1 | SLC35E1 | 7.401763e-21 | 4.105203e-17 |  10.75253 |  1.627450 | 11.470567 |\n",
       "| ATP5F1C | ATP5F1C | 9.950015e-21 | 4.414822e-17 | -10.70648 | -1.881757 | 10.012823 |\n",
       "| ATP5F1B | ATP5F1B | 2.802296e-20 | 1.036149e-16 | -10.54504 | -1.616196 | 10.576243 |\n",
       "\n"
      ],
      "text/plain": [
       "        SYMBOL  p.value      pFDR         statistic logFC     avgExpr  \n",
       "TUBB    TUBB    1.432179e-22 3.177289e-18 -11.36377 -1.631276  9.123189\n",
       "PSMB3   PSMB3   2.388997e-21 1.829653e-17 -10.92825 -1.408793  8.736749\n",
       "TUBB4B  TUBB4B  2.474176e-21 1.829653e-17 -10.92281 -1.726316 10.297977\n",
       "SLC35E1 SLC35E1 7.401763e-21 4.105203e-17  10.75253  1.627450 11.470567\n",
       "ATP5F1C ATP5F1C 9.950015e-21 4.414822e-17 -10.70648 -1.881757 10.012823\n",
       "ATP5F1B ATP5F1B 2.802296e-20 1.036149e-16 -10.54504 -1.616196 10.576243"
      ]
     },
     "metadata": {},
     "output_type": "display_data"
    }
   ],
   "source": [
    "# Select genes that are significantly altered\n",
    "kw_de <- DE.df[DE.df$pFDR <= 0.05, ]\n",
    "# Show some first rows\n",
    "head(kw_de)"
   ]
  },
  {
   "cell_type": "markdown",
   "id": "7fe00efa-e665-476b-8872-5482f4dafde1",
   "metadata": {},
   "source": [
    "Next, we will remove rows containing NA, dupicated symbols."
   ]
  },
  {
   "cell_type": "code",
   "execution_count": 18,
   "id": "47e8c745-2bc5-4991-979f-89e2d0d643e3",
   "metadata": {},
   "outputs": [
    {
     "data": {
      "text/html": [
       "<table class=\"dataframe\">\n",
       "<caption>A data.frame: 6 × 5</caption>\n",
       "<thead>\n",
       "\t<tr><th></th><th scope=col>p.value</th><th scope=col>pFDR</th><th scope=col>statistic</th><th scope=col>logFC</th><th scope=col>avgExpr</th></tr>\n",
       "\t<tr><th></th><th scope=col>&lt;dbl&gt;</th><th scope=col>&lt;dbl&gt;</th><th scope=col>&lt;dbl&gt;</th><th scope=col>&lt;dbl&gt;</th><th scope=col>&lt;dbl&gt;</th></tr>\n",
       "</thead>\n",
       "<tbody>\n",
       "\t<tr><th scope=row>TUBB</th><td>1.432179e-22</td><td>3.177289e-18</td><td>-11.36377</td><td>-1.631276</td><td> 9.123189</td></tr>\n",
       "\t<tr><th scope=row>PSMB3</th><td>2.388997e-21</td><td>1.829653e-17</td><td>-10.92825</td><td>-1.408793</td><td> 8.736749</td></tr>\n",
       "\t<tr><th scope=row>TUBB4B</th><td>2.474176e-21</td><td>1.829653e-17</td><td>-10.92281</td><td>-1.726316</td><td>10.297977</td></tr>\n",
       "\t<tr><th scope=row>SLC35E1</th><td>7.401763e-21</td><td>4.105203e-17</td><td> 10.75253</td><td> 1.627450</td><td>11.470567</td></tr>\n",
       "\t<tr><th scope=row>ATP5F1C</th><td>9.950015e-21</td><td>4.414822e-17</td><td>-10.70648</td><td>-1.881757</td><td>10.012823</td></tr>\n",
       "\t<tr><th scope=row>ATP5F1B</th><td>2.802296e-20</td><td>1.036149e-16</td><td>-10.54504</td><td>-1.616196</td><td>10.576243</td></tr>\n",
       "</tbody>\n",
       "</table>\n"
      ],
      "text/latex": [
       "A data.frame: 6 × 5\n",
       "\\begin{tabular}{r|lllll}\n",
       "  & p.value & pFDR & statistic & logFC & avgExpr\\\\\n",
       "  & <dbl> & <dbl> & <dbl> & <dbl> & <dbl>\\\\\n",
       "\\hline\n",
       "\tTUBB & 1.432179e-22 & 3.177289e-18 & -11.36377 & -1.631276 &  9.123189\\\\\n",
       "\tPSMB3 & 2.388997e-21 & 1.829653e-17 & -10.92825 & -1.408793 &  8.736749\\\\\n",
       "\tTUBB4B & 2.474176e-21 & 1.829653e-17 & -10.92281 & -1.726316 & 10.297977\\\\\n",
       "\tSLC35E1 & 7.401763e-21 & 4.105203e-17 &  10.75253 &  1.627450 & 11.470567\\\\\n",
       "\tATP5F1C & 9.950015e-21 & 4.414822e-17 & -10.70648 & -1.881757 & 10.012823\\\\\n",
       "\tATP5F1B & 2.802296e-20 & 1.036149e-16 & -10.54504 & -1.616196 & 10.576243\\\\\n",
       "\\end{tabular}\n"
      ],
      "text/markdown": [
       "\n",
       "A data.frame: 6 × 5\n",
       "\n",
       "| <!--/--> | p.value &lt;dbl&gt; | pFDR &lt;dbl&gt; | statistic &lt;dbl&gt; | logFC &lt;dbl&gt; | avgExpr &lt;dbl&gt; |\n",
       "|---|---|---|---|---|---|\n",
       "| TUBB | 1.432179e-22 | 3.177289e-18 | -11.36377 | -1.631276 |  9.123189 |\n",
       "| PSMB3 | 2.388997e-21 | 1.829653e-17 | -10.92825 | -1.408793 |  8.736749 |\n",
       "| TUBB4B | 2.474176e-21 | 1.829653e-17 | -10.92281 | -1.726316 | 10.297977 |\n",
       "| SLC35E1 | 7.401763e-21 | 4.105203e-17 |  10.75253 |  1.627450 | 11.470567 |\n",
       "| ATP5F1C | 9.950015e-21 | 4.414822e-17 | -10.70648 | -1.881757 | 10.012823 |\n",
       "| ATP5F1B | 2.802296e-20 | 1.036149e-16 | -10.54504 | -1.616196 | 10.576243 |\n",
       "\n"
      ],
      "text/plain": [
       "        p.value      pFDR         statistic logFC     avgExpr  \n",
       "TUBB    1.432179e-22 3.177289e-18 -11.36377 -1.631276  9.123189\n",
       "PSMB3   2.388997e-21 1.829653e-17 -10.92825 -1.408793  8.736749\n",
       "TUBB4B  2.474176e-21 1.829653e-17 -10.92281 -1.726316 10.297977\n",
       "SLC35E1 7.401763e-21 4.105203e-17  10.75253  1.627450 11.470567\n",
       "ATP5F1C 9.950015e-21 4.414822e-17 -10.70648 -1.881757 10.012823\n",
       "ATP5F1B 2.802296e-20 1.036149e-16 -10.54504 -1.616196 10.576243"
      ]
     },
     "metadata": {},
     "output_type": "display_data"
    }
   ],
   "source": [
    "# Remove NA value\n",
    "kw_de <- kw_de[!is.na(kw_de$SYMBOL), ]\n",
    "# Remove duplicated genes symbols\n",
    "kw_de <- kw_de[!duplicated(kw_de$SYMBOL, fromLast = FALSE), ]\n",
    "rownames(kw_de) <- kw_de$SYMBOL\n",
    "# remove the first column from the DE dataframe  \n",
    "kw_de <- kw_de[, !(names(kw_de) %in% c(\"SYMBOL\"))]\n",
    "# Show some first rows\n",
    "head(kw_de)"
   ]
  },
  {
   "cell_type": "markdown",
   "id": "610c0f93-6a3b-4221-bf0a-b93d65c4419c",
   "metadata": {},
   "source": [
    "To perform KS or Wilcoxon test, we will use the `runKsWilcox` function bellow."
   ]
  },
  {
   "cell_type": "code",
   "execution_count": 19,
   "id": "14a9698b-6464-451e-aa95-a7a13cbe2858",
   "metadata": {},
   "outputs": [],
   "source": [
    "#' Run Kolmogorov-Smirnov Wilcoxon rank-sum test on differential expression data\n",
    "#'\n",
    "#' @param DE_data A dataframe containing the DE analysis result.\n",
    "#' @param statCol A character string specifying the name of a statistic column in DE_data to be used in the EA analysis.\n",
    "#' @param genesets A list of gene sets to be analyzed.\n",
    "#' @param sTest The type of test to be used (\"ks\" for Kolmogorov-Smirnov, \"wilcox\" for Wilcoxon rank-sum).\n",
    "#' @return A dataframe containing the results of the tests for each gene set.\n",
    "\n",
    "runKsWilcox <- function(DE_data, genesets, statCol = \"statistic\", sTest = \"ks\") {\n",
    "    # remove rows that contain NA value in the column specified by the statCol argument\n",
    "    DE_data <- DE_data[!is.na(DE_data[[statCol]]), ]\n",
    "    # get the statistical values from DE_data to perform the test\n",
    "    ranks <- DE_data[[statCol]]\n",
    "    # set names of the DE genes\n",
    "    names(ranks) <- rownames(DE_data)\n",
    "\n",
    "    # choose the test to perform based on the sTest argument\n",
    "    test <- if (sTest == \"ks\") ks.test else wilcox.test\n",
    "    \n",
    "    background.genes <- rownames(DE_data)\n",
    "    # retrieve statistics for genes present in 'background.genes'\n",
    "    DEhit <- sapply(genesets, function(gs) ranks[background.genes[background.genes %in% gs]])\n",
    "    # retrieve statistics for genes not present in 'background.genes'\n",
    "    DEmiss <- sapply(genesets, function(gs) ranks[background.genes[!background.genes %in% gs]])\n",
    "\n",
    "    # Initialize an empty list to store results\n",
    "    PA_res_list <- lapply(1:length(DEhit), function(i) {\n",
    "        cur.DEhit <- DEhit[[i]]\n",
    "        cur.DEmiss <- DEmiss[[i]]\n",
    "    \n",
    "        # Check if either list is empty\n",
    "        if (length(cur.DEhit) == 0 | length(cur.DEmiss) == 0) return(1)\n",
    "    \n",
    "        # Perform the test and extract the p-value\n",
    "        test_result <- suppressWarnings(test(cur.DEhit, cur.DEmiss))\n",
    "        test_result$p.value\n",
    "    })\n",
    "    \n",
    "    # Combine the results into a data frame\n",
    "    PA_res <- data.frame(\n",
    "        ID = names(genesets),\n",
    "        p.value = unlist(PA_res_list),\n",
    "        stringsAsFactors = FALSE\n",
    "    )\n",
    "    \n",
    "    # Remove rows with missing values\n",
    "    PA_res <- PA_res[complete.cases(PA_res), ]\n",
    "\n",
    "    return(PA_res)\n",
    "}"
   ]
  },
  {
   "cell_type": "markdown",
   "id": "b1461242-eab0-40cc-8168-e99c577f08f5",
   "metadata": {},
   "source": [
    "### Enrichment analysis using KS and GO terms"
   ]
  },
  {
   "cell_type": "markdown",
   "id": "d7eb5e19-f357-4656-9632-02118bb129e9",
   "metadata": {},
   "source": [
    "We will conduct KS enrichment analysis with GO terms gene sets list using the provided code."
   ]
  },
  {
   "cell_type": "code",
   "execution_count": 20,
   "id": "b6aca88a-249c-4d46-bd99-ae3ad29415db",
   "metadata": {
    "scrolled": true
   },
   "outputs": [
    {
     "data": {
      "text/html": [
       "<table class=\"dataframe\">\n",
       "<caption>A data.frame: 6 × 2</caption>\n",
       "<thead>\n",
       "\t<tr><th></th><th scope=col>ID</th><th scope=col>p.value</th></tr>\n",
       "\t<tr><th></th><th scope=col>&lt;chr&gt;</th><th scope=col>&lt;dbl&gt;</th></tr>\n",
       "</thead>\n",
       "<tbody>\n",
       "\t<tr><th scope=row>632</th><td>GO:0006091</td><td>0</td></tr>\n",
       "\t<tr><th scope=row>1189</th><td>GO:0008150</td><td>0</td></tr>\n",
       "\t<tr><th scope=row>1254</th><td>GO:0009060</td><td>0</td></tr>\n",
       "\t<tr><th scope=row>3001</th><td>GO:0035239</td><td>0</td></tr>\n",
       "\t<tr><th scope=row>3011</th><td>GO:0035295</td><td>0</td></tr>\n",
       "\t<tr><th scope=row>3722</th><td>GO:0045333</td><td>0</td></tr>\n",
       "</tbody>\n",
       "</table>\n"
      ],
      "text/latex": [
       "A data.frame: 6 × 2\n",
       "\\begin{tabular}{r|ll}\n",
       "  & ID & p.value\\\\\n",
       "  & <chr> & <dbl>\\\\\n",
       "\\hline\n",
       "\t632 & GO:0006091 & 0\\\\\n",
       "\t1189 & GO:0008150 & 0\\\\\n",
       "\t1254 & GO:0009060 & 0\\\\\n",
       "\t3001 & GO:0035239 & 0\\\\\n",
       "\t3011 & GO:0035295 & 0\\\\\n",
       "\t3722 & GO:0045333 & 0\\\\\n",
       "\\end{tabular}\n"
      ],
      "text/markdown": [
       "\n",
       "A data.frame: 6 × 2\n",
       "\n",
       "| <!--/--> | ID &lt;chr&gt; | p.value &lt;dbl&gt; |\n",
       "|---|---|---|\n",
       "| 632 | GO:0006091 | 0 |\n",
       "| 1189 | GO:0008150 | 0 |\n",
       "| 1254 | GO:0009060 | 0 |\n",
       "| 3001 | GO:0035239 | 0 |\n",
       "| 3011 | GO:0035295 | 0 |\n",
       "| 3722 | GO:0045333 | 0 |\n",
       "\n"
      ],
      "text/plain": [
       "     ID         p.value\n",
       "632  GO:0006091 0      \n",
       "1189 GO:0008150 0      \n",
       "1254 GO:0009060 0      \n",
       "3001 GO:0035239 0      \n",
       "3011 GO:0035295 0      \n",
       "3722 GO:0045333 0      "
      ]
     },
     "metadata": {},
     "output_type": "display_data"
    }
   ],
   "source": [
    "# load the GO gene sets from saved gmt file\n",
    "suppressWarnings({suppressMessages({geneset <- gmt2geneset(\"./data/GO_terms.gmt\")})})\n",
    "# perform enrichment analysis using KS test\n",
    "suppressWarnings(k_results <- runKsWilcox(DE_data = kw_de, geneset = geneset, statCol = \"statistic\", sTest = \"ks\"))\n",
    "\n",
    "# order the results \n",
    "k_results <- k_results[order(k_results$p.value), ]\n",
    "# show some first rows of the result \n",
    "head(k_results)"
   ]
  },
  {
   "cell_type": "markdown",
   "id": "214d9285-55fa-4b53-a974-ea18096ffea8",
   "metadata": {},
   "source": [
    "### Enrichment analysis using KS and KEGG pathways\n",
    "To do the analysis with KEEG pathways, we will replace the GO gene sets list with the KEGG pathways."
   ]
  },
  {
   "cell_type": "code",
   "execution_count": 21,
   "id": "6b3d0d05-3bae-4b41-8ade-479d1985cf40",
   "metadata": {
    "tags": []
   },
   "outputs": [
    {
     "data": {
      "text/html": [
       "<table class=\"dataframe\">\n",
       "<caption>A data.frame: 6 × 2</caption>\n",
       "<thead>\n",
       "\t<tr><th></th><th scope=col>ID</th><th scope=col>p.value</th></tr>\n",
       "\t<tr><th></th><th scope=col>&lt;chr&gt;</th><th scope=col>&lt;dbl&gt;</th></tr>\n",
       "</thead>\n",
       "<tbody>\n",
       "\t<tr><th scope=row>15</th><td>hsa00190</td><td>0</td></tr>\n",
       "\t<tr><th scope=row>319</th><td>hsa05010</td><td>0</td></tr>\n",
       "\t<tr><th scope=row>320</th><td>hsa05012</td><td>0</td></tr>\n",
       "\t<tr><th scope=row>321</th><td>hsa05014</td><td>0</td></tr>\n",
       "\t<tr><th scope=row>322</th><td>hsa05016</td><td>0</td></tr>\n",
       "\t<tr><th scope=row>324</th><td>hsa05020</td><td>0</td></tr>\n",
       "</tbody>\n",
       "</table>\n"
      ],
      "text/latex": [
       "A data.frame: 6 × 2\n",
       "\\begin{tabular}{r|ll}\n",
       "  & ID & p.value\\\\\n",
       "  & <chr> & <dbl>\\\\\n",
       "\\hline\n",
       "\t15 & hsa00190 & 0\\\\\n",
       "\t319 & hsa05010 & 0\\\\\n",
       "\t320 & hsa05012 & 0\\\\\n",
       "\t321 & hsa05014 & 0\\\\\n",
       "\t322 & hsa05016 & 0\\\\\n",
       "\t324 & hsa05020 & 0\\\\\n",
       "\\end{tabular}\n"
      ],
      "text/markdown": [
       "\n",
       "A data.frame: 6 × 2\n",
       "\n",
       "| <!--/--> | ID &lt;chr&gt; | p.value &lt;dbl&gt; |\n",
       "|---|---|---|\n",
       "| 15 | hsa00190 | 0 |\n",
       "| 319 | hsa05010 | 0 |\n",
       "| 320 | hsa05012 | 0 |\n",
       "| 321 | hsa05014 | 0 |\n",
       "| 322 | hsa05016 | 0 |\n",
       "| 324 | hsa05020 | 0 |\n",
       "\n"
      ],
      "text/plain": [
       "    ID       p.value\n",
       "15  hsa00190 0      \n",
       "319 hsa05010 0      \n",
       "320 hsa05012 0      \n",
       "321 hsa05014 0      \n",
       "322 hsa05016 0      \n",
       "324 hsa05020 0      "
      ]
     },
     "metadata": {},
     "output_type": "display_data"
    }
   ],
   "source": [
    "# Loading the KEGG pathways from saved gmt file\n",
    "suppressWarnings({suppressMessages({geneset <- gmt2geneset(\"./data/KEGG_pathways.gmt\")})})\n",
    "# perform enrichment analysis using KS test\n",
    "k_results <- runKsWilcox(DE_data = kw_de, geneset = geneset, statCol = \"statistic\", sTest = \"ks\")\n",
    "\n",
    "# order the results \n",
    "k_results <- k_results[order(k_results$p.value), ]\n",
    "# show some first rows of the result \n",
    "head(k_results)"
   ]
  },
  {
   "cell_type": "markdown",
   "id": "036d1f5a-8292-442c-9e81-d6cdfd286ae5",
   "metadata": {},
   "source": [
    "### Enrichment analysis using KS and REACTOME pathways\n",
    "To do the analysis with REACTOME pathways, we will use the same steps as for GO terms and KEEG pathways."
   ]
  },
  {
   "cell_type": "code",
   "execution_count": 22,
   "id": "3a67eacd-72f8-4ac8-99b5-90048bcad9ec",
   "metadata": {
    "tags": []
   },
   "outputs": [
    {
     "data": {
      "text/html": [
       "<table class=\"dataframe\">\n",
       "<caption>A data.frame: 6 × 2</caption>\n",
       "<thead>\n",
       "\t<tr><th></th><th scope=col>ID</th><th scope=col>p.value</th></tr>\n",
       "\t<tr><th></th><th scope=col>&lt;chr&gt;</th><th scope=col>&lt;dbl&gt;</th></tr>\n",
       "</thead>\n",
       "<tbody>\n",
       "\t<tr><th scope=row>95</th><td>R-HSA-72766  </td><td>0.000000e+00</td></tr>\n",
       "\t<tr><th scope=row>742</th><td>R-HSA-392499 </td><td>0.000000e+00</td></tr>\n",
       "\t<tr><th scope=row>1079</th><td>R-HSA-1428517</td><td>0.000000e+00</td></tr>\n",
       "\t<tr><th scope=row>1080</th><td>R-HSA-1430728</td><td>0.000000e+00</td></tr>\n",
       "\t<tr><th scope=row>306</th><td>R-HSA-163200 </td><td>5.551115e-16</td></tr>\n",
       "\t<tr><th scope=row>2087</th><td>R-HSA-8953854</td><td>6.661338e-16</td></tr>\n",
       "</tbody>\n",
       "</table>\n"
      ],
      "text/latex": [
       "A data.frame: 6 × 2\n",
       "\\begin{tabular}{r|ll}\n",
       "  & ID & p.value\\\\\n",
       "  & <chr> & <dbl>\\\\\n",
       "\\hline\n",
       "\t95 & R-HSA-72766   & 0.000000e+00\\\\\n",
       "\t742 & R-HSA-392499  & 0.000000e+00\\\\\n",
       "\t1079 & R-HSA-1428517 & 0.000000e+00\\\\\n",
       "\t1080 & R-HSA-1430728 & 0.000000e+00\\\\\n",
       "\t306 & R-HSA-163200  & 5.551115e-16\\\\\n",
       "\t2087 & R-HSA-8953854 & 6.661338e-16\\\\\n",
       "\\end{tabular}\n"
      ],
      "text/markdown": [
       "\n",
       "A data.frame: 6 × 2\n",
       "\n",
       "| <!--/--> | ID &lt;chr&gt; | p.value &lt;dbl&gt; |\n",
       "|---|---|---|\n",
       "| 95 | R-HSA-72766   | 0.000000e+00 |\n",
       "| 742 | R-HSA-392499  | 0.000000e+00 |\n",
       "| 1079 | R-HSA-1428517 | 0.000000e+00 |\n",
       "| 1080 | R-HSA-1430728 | 0.000000e+00 |\n",
       "| 306 | R-HSA-163200  | 5.551115e-16 |\n",
       "| 2087 | R-HSA-8953854 | 6.661338e-16 |\n",
       "\n"
      ],
      "text/plain": [
       "     ID            p.value     \n",
       "95   R-HSA-72766   0.000000e+00\n",
       "742  R-HSA-392499  0.000000e+00\n",
       "1079 R-HSA-1428517 0.000000e+00\n",
       "1080 R-HSA-1430728 0.000000e+00\n",
       "306  R-HSA-163200  5.551115e-16\n",
       "2087 R-HSA-8953854 6.661338e-16"
      ]
     },
     "metadata": {},
     "output_type": "display_data"
    }
   ],
   "source": [
    "# Loading the KEGG pathways from saved gmt file\n",
    "suppressWarnings({suppressMessages({geneset <- gmt2geneset(\"./data/REACTOME_pathways.gmt\")})})\n",
    "# perform enrichment analysis using KS test\n",
    "k_results <- runKsWilcox(DE_data = kw_de, geneset = geneset, statCol = \"statistic\", sTest = \"ks\")\n",
    "\n",
    "# order the results \n",
    "k_results <- k_results[order(k_results$p.value), ]\n",
    "# show some first rows of the result table\n",
    "head(k_results)"
   ]
  },
  {
   "cell_type": "markdown",
   "id": "b9a069b0-0c79-455d-90b4-cfeaedcb4fb7",
   "metadata": {},
   "source": [
    "### Enrichment analysis using WILCOXON and GO terms\n",
    "\n",
    "For enrichment analysis with Wilcoxon test, we will pass the value \"wilcox\" to the *sTest* argument in the `runKsWilcox` function. We will do the same steps as KS test."
   ]
  },
  {
   "cell_type": "code",
   "execution_count": 23,
   "id": "7c3f6872-3317-43ac-bfe7-f57f991b7d56",
   "metadata": {},
   "outputs": [
    {
     "data": {
      "text/html": [
       "<table class=\"dataframe\">\n",
       "<caption>A data.frame: 6 × 2</caption>\n",
       "<thead>\n",
       "\t<tr><th></th><th scope=col>ID</th><th scope=col>p.value</th></tr>\n",
       "\t<tr><th></th><th scope=col>&lt;chr&gt;</th><th scope=col>&lt;dbl&gt;</th></tr>\n",
       "</thead>\n",
       "<tbody>\n",
       "\t<tr><th scope=row>6215</th><td>GO:1901566</td><td>2.439206e-22</td></tr>\n",
       "\t<tr><th scope=row>1189</th><td>GO:0008150</td><td>2.792448e-21</td></tr>\n",
       "\t<tr><th scope=row>6213</th><td>GO:1901564</td><td>1.790323e-20</td></tr>\n",
       "\t<tr><th scope=row>632</th><td>GO:0006091</td><td>7.886242e-20</td></tr>\n",
       "\t<tr><th scope=row>1254</th><td>GO:0009060</td><td>2.614517e-19</td></tr>\n",
       "\t<tr><th scope=row>3722</th><td>GO:0045333</td><td>4.302518e-19</td></tr>\n",
       "</tbody>\n",
       "</table>\n"
      ],
      "text/latex": [
       "A data.frame: 6 × 2\n",
       "\\begin{tabular}{r|ll}\n",
       "  & ID & p.value\\\\\n",
       "  & <chr> & <dbl>\\\\\n",
       "\\hline\n",
       "\t6215 & GO:1901566 & 2.439206e-22\\\\\n",
       "\t1189 & GO:0008150 & 2.792448e-21\\\\\n",
       "\t6213 & GO:1901564 & 1.790323e-20\\\\\n",
       "\t632 & GO:0006091 & 7.886242e-20\\\\\n",
       "\t1254 & GO:0009060 & 2.614517e-19\\\\\n",
       "\t3722 & GO:0045333 & 4.302518e-19\\\\\n",
       "\\end{tabular}\n"
      ],
      "text/markdown": [
       "\n",
       "A data.frame: 6 × 2\n",
       "\n",
       "| <!--/--> | ID &lt;chr&gt; | p.value &lt;dbl&gt; |\n",
       "|---|---|---|\n",
       "| 6215 | GO:1901566 | 2.439206e-22 |\n",
       "| 1189 | GO:0008150 | 2.792448e-21 |\n",
       "| 6213 | GO:1901564 | 1.790323e-20 |\n",
       "| 632 | GO:0006091 | 7.886242e-20 |\n",
       "| 1254 | GO:0009060 | 2.614517e-19 |\n",
       "| 3722 | GO:0045333 | 4.302518e-19 |\n",
       "\n"
      ],
      "text/plain": [
       "     ID         p.value     \n",
       "6215 GO:1901566 2.439206e-22\n",
       "1189 GO:0008150 2.792448e-21\n",
       "6213 GO:1901564 1.790323e-20\n",
       "632  GO:0006091 7.886242e-20\n",
       "1254 GO:0009060 2.614517e-19\n",
       "3722 GO:0045333 4.302518e-19"
      ]
     },
     "metadata": {},
     "output_type": "display_data"
    }
   ],
   "source": [
    "# load the GO gene sets from saved gmt file\n",
    "suppressWarnings({suppressMessages({geneset <- gmt2geneset(\"./data/GO_terms.gmt\")})})\n",
    "# perform enrichment analysis with Wilcoxon test \n",
    "w_results <- runKsWilcox(DE_data = kw_de, geneset = geneset, statCol = \"statistic\", sTest = \"wilcox\")\n",
    "\n",
    "# order the result  \n",
    "w_results <- w_results[order(w_results$p.value), ]\n",
    "# show some first rows of the result\n",
    "head(w_results)"
   ]
  },
  {
   "cell_type": "markdown",
   "id": "8b13fabf-227e-47d1-ad29-1cd5fbf81de7",
   "metadata": {},
   "source": [
    "### Enrichment analysis using WILCOXON and KEGG pathways\n",
    "To do the analysis with KEEG pathways, we will replace the GO gene sets with the KEGG pathways."
   ]
  },
  {
   "cell_type": "code",
   "execution_count": 24,
   "id": "bc304aaf-85f9-412a-8fb4-c0e6b6a391ce",
   "metadata": {},
   "outputs": [
    {
     "data": {
      "text/html": [
       "<table class=\"dataframe\">\n",
       "<caption>A data.frame: 6 × 2</caption>\n",
       "<thead>\n",
       "\t<tr><th></th><th scope=col>ID</th><th scope=col>p.value</th></tr>\n",
       "\t<tr><th></th><th scope=col>&lt;chr&gt;</th><th scope=col>&lt;dbl&gt;</th></tr>\n",
       "</thead>\n",
       "<tbody>\n",
       "\t<tr><th scope=row>320</th><td>hsa05012</td><td>3.658048e-24</td></tr>\n",
       "\t<tr><th scope=row>321</th><td>hsa05014</td><td>5.046947e-23</td></tr>\n",
       "\t<tr><th scope=row>325</th><td>hsa05022</td><td>5.577011e-23</td></tr>\n",
       "\t<tr><th scope=row>324</th><td>hsa05020</td><td>9.322701e-23</td></tr>\n",
       "\t<tr><th scope=row>322</th><td>hsa05016</td><td>1.345649e-22</td></tr>\n",
       "\t<tr><th scope=row>319</th><td>hsa05010</td><td>2.302652e-20</td></tr>\n",
       "</tbody>\n",
       "</table>\n"
      ],
      "text/latex": [
       "A data.frame: 6 × 2\n",
       "\\begin{tabular}{r|ll}\n",
       "  & ID & p.value\\\\\n",
       "  & <chr> & <dbl>\\\\\n",
       "\\hline\n",
       "\t320 & hsa05012 & 3.658048e-24\\\\\n",
       "\t321 & hsa05014 & 5.046947e-23\\\\\n",
       "\t325 & hsa05022 & 5.577011e-23\\\\\n",
       "\t324 & hsa05020 & 9.322701e-23\\\\\n",
       "\t322 & hsa05016 & 1.345649e-22\\\\\n",
       "\t319 & hsa05010 & 2.302652e-20\\\\\n",
       "\\end{tabular}\n"
      ],
      "text/markdown": [
       "\n",
       "A data.frame: 6 × 2\n",
       "\n",
       "| <!--/--> | ID &lt;chr&gt; | p.value &lt;dbl&gt; |\n",
       "|---|---|---|\n",
       "| 320 | hsa05012 | 3.658048e-24 |\n",
       "| 321 | hsa05014 | 5.046947e-23 |\n",
       "| 325 | hsa05022 | 5.577011e-23 |\n",
       "| 324 | hsa05020 | 9.322701e-23 |\n",
       "| 322 | hsa05016 | 1.345649e-22 |\n",
       "| 319 | hsa05010 | 2.302652e-20 |\n",
       "\n"
      ],
      "text/plain": [
       "    ID       p.value     \n",
       "320 hsa05012 3.658048e-24\n",
       "321 hsa05014 5.046947e-23\n",
       "325 hsa05022 5.577011e-23\n",
       "324 hsa05020 9.322701e-23\n",
       "322 hsa05016 1.345649e-22\n",
       "319 hsa05010 2.302652e-20"
      ]
     },
     "metadata": {},
     "output_type": "display_data"
    }
   ],
   "source": [
    "# Loading the KEGG pathways from saved gmt file\n",
    "suppressWarnings({suppressMessages({geneset <- gmt2geneset(\"./data/KEGG_pathways.gmt\")})})\n",
    "# perform enrichment analysis with Wilcoxon test \n",
    "w_results <- runKsWilcox(DE_data = kw_de, geneset = geneset, statCol = \"statistic\", sTest = \"wilcox\")\n",
    "\n",
    "# order the result  \n",
    "w_results <- w_results[order(w_results$p.value), ]\n",
    "# show some first rows of the result\n",
    "head(w_results)"
   ]
  },
  {
   "cell_type": "markdown",
   "id": "402f89b4-83d0-4dbb-af54-265cfb4cf314",
   "metadata": {},
   "source": [
    "### Enrichment analysis using WILCOXON and REACTOME pathways\n",
    "We can use the same code for REACTOME pathways."
   ]
  },
  {
   "cell_type": "code",
   "execution_count": 25,
   "id": "b5641e20-85d2-4ca8-9e66-4a1aabeb216b",
   "metadata": {},
   "outputs": [
    {
     "data": {
      "text/html": [
       "<table class=\"dataframe\">\n",
       "<caption>A data.frame: 6 × 2</caption>\n",
       "<thead>\n",
       "\t<tr><th></th><th scope=col>ID</th><th scope=col>p.value</th></tr>\n",
       "\t<tr><th></th><th scope=col>&lt;chr&gt;</th><th scope=col>&lt;dbl&gt;</th></tr>\n",
       "</thead>\n",
       "<tbody>\n",
       "\t<tr><th scope=row>742</th><td>R-HSA-392499 </td><td>1.197650e-27</td></tr>\n",
       "\t<tr><th scope=row>1080</th><td>R-HSA-1430728</td><td>6.594684e-24</td></tr>\n",
       "\t<tr><th scope=row>95</th><td>R-HSA-72766  </td><td>2.842158e-22</td></tr>\n",
       "\t<tr><th scope=row>1079</th><td>R-HSA-1428517</td><td>9.100725e-22</td></tr>\n",
       "\t<tr><th scope=row>306</th><td>R-HSA-163200 </td><td>8.775061e-18</td></tr>\n",
       "\t<tr><th scope=row>2087</th><td>R-HSA-8953854</td><td>6.387627e-16</td></tr>\n",
       "</tbody>\n",
       "</table>\n"
      ],
      "text/latex": [
       "A data.frame: 6 × 2\n",
       "\\begin{tabular}{r|ll}\n",
       "  & ID & p.value\\\\\n",
       "  & <chr> & <dbl>\\\\\n",
       "\\hline\n",
       "\t742 & R-HSA-392499  & 1.197650e-27\\\\\n",
       "\t1080 & R-HSA-1430728 & 6.594684e-24\\\\\n",
       "\t95 & R-HSA-72766   & 2.842158e-22\\\\\n",
       "\t1079 & R-HSA-1428517 & 9.100725e-22\\\\\n",
       "\t306 & R-HSA-163200  & 8.775061e-18\\\\\n",
       "\t2087 & R-HSA-8953854 & 6.387627e-16\\\\\n",
       "\\end{tabular}\n"
      ],
      "text/markdown": [
       "\n",
       "A data.frame: 6 × 2\n",
       "\n",
       "| <!--/--> | ID &lt;chr&gt; | p.value &lt;dbl&gt; |\n",
       "|---|---|---|\n",
       "| 742 | R-HSA-392499  | 1.197650e-27 |\n",
       "| 1080 | R-HSA-1430728 | 6.594684e-24 |\n",
       "| 95 | R-HSA-72766   | 2.842158e-22 |\n",
       "| 1079 | R-HSA-1428517 | 9.100725e-22 |\n",
       "| 306 | R-HSA-163200  | 8.775061e-18 |\n",
       "| 2087 | R-HSA-8953854 | 6.387627e-16 |\n",
       "\n"
      ],
      "text/plain": [
       "     ID            p.value     \n",
       "742  R-HSA-392499  1.197650e-27\n",
       "1080 R-HSA-1430728 6.594684e-24\n",
       "95   R-HSA-72766   2.842158e-22\n",
       "1079 R-HSA-1428517 9.100725e-22\n",
       "306  R-HSA-163200  8.775061e-18\n",
       "2087 R-HSA-8953854 6.387627e-16"
      ]
     },
     "metadata": {},
     "output_type": "display_data"
    }
   ],
   "source": [
    "# Loading the KEGG pathways from saved gmt file\n",
    "suppressWarnings({suppressMessages({geneset <- gmt2geneset(\"./data/REACTOME_pathways.gmt\")})})\n",
    "\n",
    "# perform enrichment analysis using KS test\n",
    "w_results <- runKsWilcox(DE_data = kw_de, geneset = geneset, statCol = \"statistic\", sTest = \"wilcox\")\n",
    "\n",
    "# order the results \n",
    "w_results <- w_results[order(w_results$p.value), ]\n",
    "# show some first rows of the result table\n",
    "head(w_results)"
   ]
  },
  {
   "cell_type": "markdown",
   "id": "9aa0e1c7",
   "metadata": {},
   "source": [
    "<!-- headings -->\n",
    "<a id=\"fgsea-main\"></a>\n",
    "## 4. Enrichment Analysis using FGSEA"
   ]
  },
  {
   "cell_type": "markdown",
   "id": "47b46d66",
   "metadata": {},
   "source": [
    "This section describes `FGSEA`, one of the methods for evaluating pathway enrichment in transcriptional data and it stands for Fast preranked Gene Set Enrichment Analysis (GSEA). `FGSEA` quickly calculates arbitrarily low GSEA P-values for a collection of gene sets and is based on an algorithm that allows  it to make more permutations and get accurate *p-values*.\n",
    "It extends the GSEA algorithm which calculates the enrichment score (the degree to which a set S is over-represented at the top or bottom of the ranked list L), estimates the p-value of the Enrichment Score using a permutation test and adjusts the estimated significance level to account for multiple hypotheses in addition to calculating the q-values for FDR control. Typically, GSEA requires inputs of a list of gene sets (GO term or pathway with a set of genes), a vector DE genes with statistic. In addition, users can limit the number of terms or pathways of interest by adjusting the `minSize` and `maxSize` parameters. \n",
    "\n",
    "The basic steps in performing FGSEA are as follows:\n",
    "\n",
    "1. Rank the genes according to a certain metric, such as gene expression or differential expression.\n",
    "2. Define a set of genes of interest, such as a pathway or a gene ontology term.\n",
    "3. Compute the enrichment score for each gene set based on the ranks of its member genes in the ranked list.\n",
    "4. Generate a null distribution of enrichment scores by permuting the gene labels in the ranked list.\n",
    "5. Compute the p-value for each gene set by comparing its observed enrichment score with the null distribution.\n",
    "6. Correct for multiple testing, for example, by using the false discovery rate (FDR) or the Bonferroni method.\n",
    "\n",
    "\n",
    "The code to install and load the FGSEA R package is shown below:"
   ]
  },
  {
   "cell_type": "code",
   "execution_count": 26,
   "id": "b9702a89",
   "metadata": {},
   "outputs": [],
   "source": [
    "# To perform enrichment analysis using FGSEA, we first install the fgsea package\n",
    "suppressMessages({\n",
    "    if (!require(\"BiocManager\", quietly = TRUE)) {\n",
    "        install.packages(\"BiocManager\")\n",
    "    }\n",
    "    suppressWarnings(BiocManager::install(\"fgsea\", update = F))\n",
    "    \n",
    "})\n",
    "# Loading the package\n",
    "suppressPackageStartupMessages({\n",
    "    library(\"fgsea\")\n",
    "})\n",
    "\n",
    "# Set number of permutation for FGSEA\n",
    "nperms <- 1000"
   ]
  },
  {
   "cell_type": "markdown",
   "id": "20d49b0d-5189-4fc8-8ee8-3a4e1e0b3425",
   "metadata": {},
   "source": [
    "For conducting pathway analysis using FGSEA, we can use the runFGSEA function written below. This function needs "
   ]
  },
  {
   "cell_type": "code",
   "execution_count": 27,
   "id": "92825f53-229c-4f6f-953f-dec89d9b2ac2",
   "metadata": {},
   "outputs": [],
   "source": [
    "#' @description This function performs gene set analysis using fgsea (fast gene set enrichment analysis).\n",
    "#'\n",
    "#' @param DE_data A dataframe containing the DE analysis result.\n",
    "#' @param genesets A list of gene sets to be analyzed, ex. KEGG genesets.\n",
    "#' @param statCol A character string specifying the name of a statistic column in DE_data to be used in the EA analysis.\n",
    "#' @param nperms An integer specifying the number of permutations for fgsea. \n",
    "#' @param ncores An integer specifying the number cpu cores for parallel processing.\n",
    "#' @return A list containing a dataframe of gene set analysis results and a statistic vector\n",
    "\n",
    "runFgsea <- function(DE_data, genesets, statCol = \"statistic\", nperms = 200, ncores = 0) {\n",
    "\n",
    "    if (is.null(DE_data) |\n",
    "        dim(DE_data)[1] == 0 |\n",
    "        dim(DE_data)[2] == 0) {\n",
    "        stop(\"No differential analysis data is in input data.\")\n",
    "    }\n",
    "\n",
    "    DE_data <- DE_data[!is.na(DE_data[[statCol]]),]\n",
    "\n",
    "    statistic <- unlist(DE_data[[statCol]]) \n",
    "    statistic <- as.vector(statistic)\n",
    "    names(statistic) <- rownames(DE_data)\n",
    "\n",
    "    suppressWarnings(fgsea_res <- fgsea::fgsea(pathways = genesets, stats = statistic, nperm = nperms, nproc = ncores))\n",
    "\n",
    "    fgsea_res <- fgsea_res[!is.na(fgsea_res[[\"pval\"]]), ]\n",
    "    \n",
    "    fgsea_res[, c(\"pathway\", \"pval\", \"padj\", \"ES\", \"NES\")]\n",
    "}"
   ]
  },
  {
   "cell_type": "code",
   "execution_count": 28,
   "id": "cdb41931-b689-4fb9-9c5d-0e1c443bfe00",
   "metadata": {},
   "outputs": [
    {
     "data": {
      "text/html": [
       "<iframe src=\"./Quizzes/Quiz_Submodule4-3.html\" width=100% height=250></iframe>"
      ]
     },
     "metadata": {},
     "output_type": "display_data"
    }
   ],
   "source": [
    "#Run the following command to take the quiz\n",
    "IRdisplay::display_html('<iframe src=\"./Quizzes/Quiz_Submodule4-3.html\" width=100% height=250></iframe>')"
   ]
  },
  {
   "cell_type": "markdown",
   "id": "fb6f9407",
   "metadata": {},
   "source": [
    "Next, we need to prepare a vector of DE genes with its statistic."
   ]
  },
  {
   "cell_type": "markdown",
   "id": "9950a6f6",
   "metadata": {},
   "source": [
    "### Enrichment analysis using FGSEA and GO terms"
   ]
  },
  {
   "cell_type": "markdown",
   "id": "c5093c0c",
   "metadata": {},
   "source": [
    "The package `fgsea` has its own function named `gmtPathways` to load the genesets from the `gmt` file. It is recommended to use this function for compatibility. We can load the GO terms geneset and view the first five GO terms with associated genes using the following command:"
   ]
  },
  {
   "cell_type": "code",
   "execution_count": 29,
   "id": "b2d3d20a",
   "metadata": {
    "scrolled": true
   },
   "outputs": [
    {
     "data": {
      "text/html": [
       "<dl>\n",
       "\t<dt>$`GO:0000002`</dt>\n",
       "\t\t<dd><style>\n",
       ".list-inline {list-style: none; margin:0; padding: 0}\n",
       ".list-inline>li {display: inline-block}\n",
       ".list-inline>li:not(:last-child)::after {content: \"\\00b7\"; padding: 0 .5ex}\n",
       "</style>\n",
       "<ol class=list-inline><li>'AKT3'</li><li>'DNA2'</li><li>'DNAJA3'</li><li>'ENDOG'</li><li>'FLCN'</li><li>'LIG3'</li></ol>\n",
       "</dd>\n",
       "\t<dt>$`GO:0000003`</dt>\n",
       "\t\t<dd><style>\n",
       ".list-inline {list-style: none; margin:0; padding: 0}\n",
       ".list-inline>li {display: inline-block}\n",
       ".list-inline>li:not(:last-child)::after {content: \"\\00b7\"; padding: 0 .5ex}\n",
       "</style>\n",
       "<ol class=list-inline><li>'A1CF'</li><li>'A2M'</li><li>'AAAS'</li><li>'ABAT'</li><li>'ABCC8'</li><li>'ABHD2'</li></ol>\n",
       "</dd>\n",
       "\t<dt>$`GO:0000012`</dt>\n",
       "\t\t<dd><style>\n",
       ".list-inline {list-style: none; margin:0; padding: 0}\n",
       ".list-inline>li {display: inline-block}\n",
       ".list-inline>li:not(:last-child)::after {content: \"\\00b7\"; padding: 0 .5ex}\n",
       "</style>\n",
       "<ol class=list-inline><li>'APLF'</li><li>'APTX'</li><li>'ERCC6'</li><li>'ERCC8'</li><li>'LIG4'</li><li>'PARP1'</li></ol>\n",
       "</dd>\n",
       "\t<dt>$`GO:0000018`</dt>\n",
       "\t\t<dd><style>\n",
       ".list-inline {list-style: none; margin:0; padding: 0}\n",
       ".list-inline>li {display: inline-block}\n",
       ".list-inline>li:not(:last-child)::after {content: \"\\00b7\"; padding: 0 .5ex}\n",
       "</style>\n",
       "<ol class=list-inline><li>'ABL1'</li><li>'ACTB'</li><li>'ACTL6A'</li><li>'ACTR2'</li><li>'ALYREF'</li><li>'ANKLE1'</li></ol>\n",
       "</dd>\n",
       "\t<dt>$`GO:0000022`</dt>\n",
       "\t\t<dd><style>\n",
       ".list-inline {list-style: none; margin:0; padding: 0}\n",
       ".list-inline>li {display: inline-block}\n",
       ".list-inline>li:not(:last-child)::after {content: \"\\00b7\"; padding: 0 .5ex}\n",
       "</style>\n",
       "<ol class=list-inline><li>'AURKB'</li><li>'AURKC'</li><li>'BIRC5'</li><li>'CDCA8'</li><li>'INCENP'</li><li>'KIF23'</li></ol>\n",
       "</dd>\n",
       "</dl>\n"
      ],
      "text/latex": [
       "\\begin{description}\n",
       "\\item[\\$`GO:0000002`] \\begin{enumerate*}\n",
       "\\item 'AKT3'\n",
       "\\item 'DNA2'\n",
       "\\item 'DNAJA3'\n",
       "\\item 'ENDOG'\n",
       "\\item 'FLCN'\n",
       "\\item 'LIG3'\n",
       "\\end{enumerate*}\n",
       "\n",
       "\\item[\\$`GO:0000003`] \\begin{enumerate*}\n",
       "\\item 'A1CF'\n",
       "\\item 'A2M'\n",
       "\\item 'AAAS'\n",
       "\\item 'ABAT'\n",
       "\\item 'ABCC8'\n",
       "\\item 'ABHD2'\n",
       "\\end{enumerate*}\n",
       "\n",
       "\\item[\\$`GO:0000012`] \\begin{enumerate*}\n",
       "\\item 'APLF'\n",
       "\\item 'APTX'\n",
       "\\item 'ERCC6'\n",
       "\\item 'ERCC8'\n",
       "\\item 'LIG4'\n",
       "\\item 'PARP1'\n",
       "\\end{enumerate*}\n",
       "\n",
       "\\item[\\$`GO:0000018`] \\begin{enumerate*}\n",
       "\\item 'ABL1'\n",
       "\\item 'ACTB'\n",
       "\\item 'ACTL6A'\n",
       "\\item 'ACTR2'\n",
       "\\item 'ALYREF'\n",
       "\\item 'ANKLE1'\n",
       "\\end{enumerate*}\n",
       "\n",
       "\\item[\\$`GO:0000022`] \\begin{enumerate*}\n",
       "\\item 'AURKB'\n",
       "\\item 'AURKC'\n",
       "\\item 'BIRC5'\n",
       "\\item 'CDCA8'\n",
       "\\item 'INCENP'\n",
       "\\item 'KIF23'\n",
       "\\end{enumerate*}\n",
       "\n",
       "\\end{description}\n"
      ],
      "text/markdown": [
       "$`GO:0000002`\n",
       ":   1. 'AKT3'\n",
       "2. 'DNA2'\n",
       "3. 'DNAJA3'\n",
       "4. 'ENDOG'\n",
       "5. 'FLCN'\n",
       "6. 'LIG3'\n",
       "\n",
       "\n",
       "\n",
       "$`GO:0000003`\n",
       ":   1. 'A1CF'\n",
       "2. 'A2M'\n",
       "3. 'AAAS'\n",
       "4. 'ABAT'\n",
       "5. 'ABCC8'\n",
       "6. 'ABHD2'\n",
       "\n",
       "\n",
       "\n",
       "$`GO:0000012`\n",
       ":   1. 'APLF'\n",
       "2. 'APTX'\n",
       "3. 'ERCC6'\n",
       "4. 'ERCC8'\n",
       "5. 'LIG4'\n",
       "6. 'PARP1'\n",
       "\n",
       "\n",
       "\n",
       "$`GO:0000018`\n",
       ":   1. 'ABL1'\n",
       "2. 'ACTB'\n",
       "3. 'ACTL6A'\n",
       "4. 'ACTR2'\n",
       "5. 'ALYREF'\n",
       "6. 'ANKLE1'\n",
       "\n",
       "\n",
       "\n",
       "$`GO:0000022`\n",
       ":   1. 'AURKB'\n",
       "2. 'AURKC'\n",
       "3. 'BIRC5'\n",
       "4. 'CDCA8'\n",
       "5. 'INCENP'\n",
       "6. 'KIF23'\n",
       "\n",
       "\n",
       "\n",
       "\n",
       "\n"
      ],
      "text/plain": [
       "$`GO:0000002`\n",
       "[1] \"AKT3\"   \"DNA2\"   \"DNAJA3\" \"ENDOG\"  \"FLCN\"   \"LIG3\"  \n",
       "\n",
       "$`GO:0000003`\n",
       "[1] \"A1CF\"  \"A2M\"   \"AAAS\"  \"ABAT\"  \"ABCC8\" \"ABHD2\"\n",
       "\n",
       "$`GO:0000012`\n",
       "[1] \"APLF\"  \"APTX\"  \"ERCC6\" \"ERCC8\" \"LIG4\"  \"PARP1\"\n",
       "\n",
       "$`GO:0000018`\n",
       "[1] \"ABL1\"   \"ACTB\"   \"ACTL6A\" \"ACTR2\"  \"ALYREF\" \"ANKLE1\"\n",
       "\n",
       "$`GO:0000022`\n",
       "[1] \"AURKB\"  \"AURKC\"  \"BIRC5\"  \"CDCA8\"  \"INCENP\" \"KIF23\" \n"
      ]
     },
     "metadata": {},
     "output_type": "display_data"
    }
   ],
   "source": [
    "# Load the pathways into a named list\n",
    "GO_term_hallmark <- gmtPathways(\"./data/GO_terms.gmt\")\n",
    "# Show the first few GO terms, and within those, show only the first few genes.\n",
    "tmp = lapply(GO_term_hallmark, head)\n",
    "tmp[1:5]"
   ]
  },
  {
   "cell_type": "markdown",
   "id": "d06027d9",
   "metadata": {},
   "source": [
    "Running the FGSEA can be done by calling the `fgsea` with two required inputs that we created from the two previous steps."
   ]
  },
  {
   "cell_type": "code",
   "execution_count": 30,
   "id": "6efd9f83",
   "metadata": {},
   "outputs": [
    {
     "name": "stdout",
     "output_type": "stream",
     "text": [
      "  |======================================================================| 100%\n",
      "\n"
     ]
    },
    {
     "data": {
      "text/html": [
       "<table class=\"dataframe\">\n",
       "<caption>A data.table: 6 × 4</caption>\n",
       "<thead>\n",
       "\t<tr><th scope=col>pathway</th><th scope=col>pval</th><th scope=col>ES</th><th scope=col>NES</th></tr>\n",
       "\t<tr><th scope=col>&lt;chr&gt;</th><th scope=col>&lt;dbl&gt;</th><th scope=col>&lt;dbl&gt;</th><th scope=col>&lt;dbl&gt;</th></tr>\n",
       "</thead>\n",
       "<tbody>\n",
       "\t<tr><td>GO:0000278</td><td>0.000999001</td><td>-0.3252192</td><td>-1.316335</td></tr>\n",
       "\t<tr><td>GO:0006082</td><td>0.000999001</td><td>-0.3615634</td><td>-1.464931</td></tr>\n",
       "\t<tr><td>GO:0006139</td><td>0.000999001</td><td>-0.2978175</td><td>-1.222879</td></tr>\n",
       "\t<tr><td>GO:0006259</td><td>0.000999001</td><td>-0.3202581</td><td>-1.300083</td></tr>\n",
       "\t<tr><td>GO:0006396</td><td>0.000999001</td><td>-0.4213091</td><td>-1.707225</td></tr>\n",
       "\t<tr><td>GO:0006508</td><td>0.000999001</td><td>-0.3294346</td><td>-1.344003</td></tr>\n",
       "</tbody>\n",
       "</table>\n"
      ],
      "text/latex": [
       "A data.table: 6 × 4\n",
       "\\begin{tabular}{llll}\n",
       " pathway & pval & ES & NES\\\\\n",
       " <chr> & <dbl> & <dbl> & <dbl>\\\\\n",
       "\\hline\n",
       "\t GO:0000278 & 0.000999001 & -0.3252192 & -1.316335\\\\\n",
       "\t GO:0006082 & 0.000999001 & -0.3615634 & -1.464931\\\\\n",
       "\t GO:0006139 & 0.000999001 & -0.2978175 & -1.222879\\\\\n",
       "\t GO:0006259 & 0.000999001 & -0.3202581 & -1.300083\\\\\n",
       "\t GO:0006396 & 0.000999001 & -0.4213091 & -1.707225\\\\\n",
       "\t GO:0006508 & 0.000999001 & -0.3294346 & -1.344003\\\\\n",
       "\\end{tabular}\n"
      ],
      "text/markdown": [
       "\n",
       "A data.table: 6 × 4\n",
       "\n",
       "| pathway &lt;chr&gt; | pval &lt;dbl&gt; | ES &lt;dbl&gt; | NES &lt;dbl&gt; |\n",
       "|---|---|---|---|\n",
       "| GO:0000278 | 0.000999001 | -0.3252192 | -1.316335 |\n",
       "| GO:0006082 | 0.000999001 | -0.3615634 | -1.464931 |\n",
       "| GO:0006139 | 0.000999001 | -0.2978175 | -1.222879 |\n",
       "| GO:0006259 | 0.000999001 | -0.3202581 | -1.300083 |\n",
       "| GO:0006396 | 0.000999001 | -0.4213091 | -1.707225 |\n",
       "| GO:0006508 | 0.000999001 | -0.3294346 | -1.344003 |\n",
       "\n"
      ],
      "text/plain": [
       "  pathway    pval        ES         NES      \n",
       "1 GO:0000278 0.000999001 -0.3252192 -1.316335\n",
       "2 GO:0006082 0.000999001 -0.3615634 -1.464931\n",
       "3 GO:0006139 0.000999001 -0.2978175 -1.222879\n",
       "4 GO:0006259 0.000999001 -0.3202581 -1.300083\n",
       "5 GO:0006396 0.000999001 -0.4213091 -1.707225\n",
       "6 GO:0006508 0.000999001 -0.3294346 -1.344003"
      ]
     },
     "metadata": {},
     "output_type": "display_data"
    }
   ],
   "source": [
    "# Running fgsea analysis\n",
    "geneset <- GO_term_hallmark\n",
    "fgsea_result <- runFgsea(DE_data = DE.df, genesets = geneset, nperms = nperms)\n",
    "# Show some first rows of the result table\n",
    "head(fgsea_result[order(fgsea_result$pval), c(\"pathway\", \"pval\", \"ES\", \"NES\")])"
   ]
  },
  {
   "cell_type": "markdown",
   "id": "c7866448",
   "metadata": {},
   "source": [
    "From the result table, we can select top five up regulated GO terms and top five down regulated GO terms. Then we can plot them using the built-in function `plotGseaTable`"
   ]
  },
  {
   "cell_type": "code",
   "execution_count": 31,
   "id": "f1b4ed14",
   "metadata": {
    "scrolled": true
   },
   "outputs": [
    {
     "data": {
      "image/png": "[encoded data removed]",
      "text/plain": [
       "plot without title"
      ]
     },
     "metadata": {
      "image/png": {
       "height": 420,
       "width": 420
      }
     },
     "output_type": "display_data"
    }
   ],
   "source": [
    "# Get the stats vector for the plotGseaTable\n",
    "stats <- DE.df$statistic\n",
    "stats <- as.vector(stats)\n",
    "names(stats) <- rownames(DE.df)\n",
    "\n",
    "# select the top five up-regulated pathways \n",
    "topPathwaysUp <- fgsea_result[ES > 0][head(order(pval), n = 5), pathway]\n",
    "# select the top five down-regulated pathways \n",
    "topPathwaysDown <- fgsea_result[ES < 0][head(order(pval), n = 5), pathway]\n",
    "# concatenate them for visualization\n",
    "topPathways <- c(topPathwaysUp, rev(topPathwaysDown))\n",
    "#Viewing the 5 most significantly up-regulated and down-regulated pathways each with the FGSEA internal plot function\n",
    "plotGseaTable(pathways = GO_term_hallmark[topPathways], stats = stats, \n",
    "              fgseaRes = fgsea_result, gseaParam = 0.5)"
   ]
  },
  {
   "cell_type": "markdown",
   "id": "86cfabed-97a6-4e5e-8cfa-5ffa01c57906",
   "metadata": {},
   "source": [
    "To use the `plotGseaTable` function, we need to pass the following arguments:\n",
    "\n",
    "- `pathways`: A list of pathways to plot table.\n",
    "- `stats`: A dataframe specifying gene-level stats.\n",
    "- `fgseaRes`: A dataframe of fgsea results.\n",
    "- `gseaParam`: A numeric value to adjust displayed statistic values, values closer to 0 flatten plots. Default = 1, value of 0.5 is a good choice too."
   ]
  },
  {
   "cell_type": "markdown",
   "id": "1ef50627",
   "metadata": {},
   "source": [
    "### Enrichment analysis using FGSEA and KEGG pathways\n",
    "We can perform enrichment analysis using FGSEA with KEGG pathway using the same procedure mentioned above. The only thing we need to change is the\n",
    "list of gene sets that are available in the KEGG database."
   ]
  },
  {
   "cell_type": "code",
   "execution_count": 32,
   "id": "93b11008",
   "metadata": {
    "scrolled": true
   },
   "outputs": [
    {
     "data": {
      "text/html": [
       "<dl>\n",
       "\t<dt>$hsa00010</dt>\n",
       "\t\t<dd><style>\n",
       ".list-inline {list-style: none; margin:0; padding: 0}\n",
       ".list-inline>li {display: inline-block}\n",
       ".list-inline>li:not(:last-child)::after {content: \"\\00b7\"; padding: 0 .5ex}\n",
       "</style>\n",
       "<ol class=list-inline><li>'HK3'</li><li>'HK1'</li><li>'HK2'</li><li>'HKDC1'</li><li>'GCK'</li><li>'GPI'</li></ol>\n",
       "</dd>\n",
       "\t<dt>$hsa00020</dt>\n",
       "\t\t<dd><style>\n",
       ".list-inline {list-style: none; margin:0; padding: 0}\n",
       ".list-inline>li {display: inline-block}\n",
       ".list-inline>li:not(:last-child)::after {content: \"\\00b7\"; padding: 0 .5ex}\n",
       "</style>\n",
       "<ol class=list-inline><li>'CS'</li><li>'ACLY'</li><li>'ACO2'</li><li>'ACO1'</li><li>'IDH1'</li><li>'IDH2'</li></ol>\n",
       "</dd>\n",
       "\t<dt>$hsa00030</dt>\n",
       "\t\t<dd><style>\n",
       ".list-inline {list-style: none; margin:0; padding: 0}\n",
       ".list-inline>li {display: inline-block}\n",
       ".list-inline>li:not(:last-child)::after {content: \"\\00b7\"; padding: 0 .5ex}\n",
       "</style>\n",
       "<ol class=list-inline><li>'GPI'</li><li>'G6PD'</li><li>'PGLS'</li><li>'H6PD'</li><li>'PGD'</li><li>'RPE'</li></ol>\n",
       "</dd>\n",
       "\t<dt>$hsa00040</dt>\n",
       "\t\t<dd><style>\n",
       ".list-inline {list-style: none; margin:0; padding: 0}\n",
       ".list-inline>li {display: inline-block}\n",
       ".list-inline>li:not(:last-child)::after {content: \"\\00b7\"; padding: 0 .5ex}\n",
       "</style>\n",
       "<ol class=list-inline><li>'GUSB'</li><li>'KL'</li><li>'UGT2A1'</li><li>'UGT2A3'</li><li>'UGT2B17'</li><li>'UGT2B11'</li></ol>\n",
       "</dd>\n",
       "\t<dt>$hsa00051</dt>\n",
       "\t\t<dd><style>\n",
       ".list-inline {list-style: none; margin:0; padding: 0}\n",
       ".list-inline>li {display: inline-block}\n",
       ".list-inline>li:not(:last-child)::after {content: \"\\00b7\"; padding: 0 .5ex}\n",
       "</style>\n",
       "<ol class=list-inline><li>'MPI'</li><li>'PMM2'</li><li>'PMM1'</li><li>'GMPPB'</li><li>'GMPPA'</li><li>'GMDS'</li></ol>\n",
       "</dd>\n",
       "</dl>\n"
      ],
      "text/latex": [
       "\\begin{description}\n",
       "\\item[\\$hsa00010] \\begin{enumerate*}\n",
       "\\item 'HK3'\n",
       "\\item 'HK1'\n",
       "\\item 'HK2'\n",
       "\\item 'HKDC1'\n",
       "\\item 'GCK'\n",
       "\\item 'GPI'\n",
       "\\end{enumerate*}\n",
       "\n",
       "\\item[\\$hsa00020] \\begin{enumerate*}\n",
       "\\item 'CS'\n",
       "\\item 'ACLY'\n",
       "\\item 'ACO2'\n",
       "\\item 'ACO1'\n",
       "\\item 'IDH1'\n",
       "\\item 'IDH2'\n",
       "\\end{enumerate*}\n",
       "\n",
       "\\item[\\$hsa00030] \\begin{enumerate*}\n",
       "\\item 'GPI'\n",
       "\\item 'G6PD'\n",
       "\\item 'PGLS'\n",
       "\\item 'H6PD'\n",
       "\\item 'PGD'\n",
       "\\item 'RPE'\n",
       "\\end{enumerate*}\n",
       "\n",
       "\\item[\\$hsa00040] \\begin{enumerate*}\n",
       "\\item 'GUSB'\n",
       "\\item 'KL'\n",
       "\\item 'UGT2A1'\n",
       "\\item 'UGT2A3'\n",
       "\\item 'UGT2B17'\n",
       "\\item 'UGT2B11'\n",
       "\\end{enumerate*}\n",
       "\n",
       "\\item[\\$hsa00051] \\begin{enumerate*}\n",
       "\\item 'MPI'\n",
       "\\item 'PMM2'\n",
       "\\item 'PMM1'\n",
       "\\item 'GMPPB'\n",
       "\\item 'GMPPA'\n",
       "\\item 'GMDS'\n",
       "\\end{enumerate*}\n",
       "\n",
       "\\end{description}\n"
      ],
      "text/markdown": [
       "$hsa00010\n",
       ":   1. 'HK3'\n",
       "2. 'HK1'\n",
       "3. 'HK2'\n",
       "4. 'HKDC1'\n",
       "5. 'GCK'\n",
       "6. 'GPI'\n",
       "\n",
       "\n",
       "\n",
       "$hsa00020\n",
       ":   1. 'CS'\n",
       "2. 'ACLY'\n",
       "3. 'ACO2'\n",
       "4. 'ACO1'\n",
       "5. 'IDH1'\n",
       "6. 'IDH2'\n",
       "\n",
       "\n",
       "\n",
       "$hsa00030\n",
       ":   1. 'GPI'\n",
       "2. 'G6PD'\n",
       "3. 'PGLS'\n",
       "4. 'H6PD'\n",
       "5. 'PGD'\n",
       "6. 'RPE'\n",
       "\n",
       "\n",
       "\n",
       "$hsa00040\n",
       ":   1. 'GUSB'\n",
       "2. 'KL'\n",
       "3. 'UGT2A1'\n",
       "4. 'UGT2A3'\n",
       "5. 'UGT2B17'\n",
       "6. 'UGT2B11'\n",
       "\n",
       "\n",
       "\n",
       "$hsa00051\n",
       ":   1. 'MPI'\n",
       "2. 'PMM2'\n",
       "3. 'PMM1'\n",
       "4. 'GMPPB'\n",
       "5. 'GMPPA'\n",
       "6. 'GMDS'\n",
       "\n",
       "\n",
       "\n",
       "\n",
       "\n"
      ],
      "text/plain": [
       "$hsa00010\n",
       "[1] \"HK3\"   \"HK1\"   \"HK2\"   \"HKDC1\" \"GCK\"   \"GPI\"  \n",
       "\n",
       "$hsa00020\n",
       "[1] \"CS\"   \"ACLY\" \"ACO2\" \"ACO1\" \"IDH1\" \"IDH2\"\n",
       "\n",
       "$hsa00030\n",
       "[1] \"GPI\"  \"G6PD\" \"PGLS\" \"H6PD\" \"PGD\"  \"RPE\" \n",
       "\n",
       "$hsa00040\n",
       "[1] \"GUSB\"    \"KL\"      \"UGT2A1\"  \"UGT2A3\"  \"UGT2B17\" \"UGT2B11\"\n",
       "\n",
       "$hsa00051\n",
       "[1] \"MPI\"   \"PMM2\"  \"PMM1\"  \"GMPPB\" \"GMPPA\" \"GMDS\" \n"
      ]
     },
     "metadata": {},
     "output_type": "display_data"
    }
   ],
   "source": [
    "# Load the pathways into a named list\n",
    "KEGG_hallmark <- gmtPathways(\"./data/KEGG_pathways.gmt\")\n",
    "# Show the first few GO terms, and within those, show only the first few genes.\n",
    "tmp = lapply(KEGG_hallmark, head)\n",
    "tmp[1:5]"
   ]
  },
  {
   "cell_type": "code",
   "execution_count": 33,
   "id": "9eb1ede2",
   "metadata": {},
   "outputs": [
    {
     "name": "stdout",
     "output_type": "stream",
     "text": [
      "  |======================================================================| 100%\n",
      "\n"
     ]
    },
    {
     "data": {
      "text/html": [
       "<table class=\"dataframe\">\n",
       "<caption>A data.table: 6 × 4</caption>\n",
       "<thead>\n",
       "\t<tr><th scope=col>pathway</th><th scope=col>pval</th><th scope=col>ES</th><th scope=col>NES</th></tr>\n",
       "\t<tr><th scope=col>&lt;chr&gt;</th><th scope=col>&lt;dbl&gt;</th><th scope=col>&lt;dbl&gt;</th><th scope=col>&lt;dbl&gt;</th></tr>\n",
       "</thead>\n",
       "<tbody>\n",
       "\t<tr><td>hsa05022</td><td>0.001011122</td><td>-0.5520668</td><td>-2.210939</td></tr>\n",
       "\t<tr><td>hsa05010</td><td>0.001020408</td><td>-0.5565766</td><td>-2.214624</td></tr>\n",
       "\t<tr><td>hsa05014</td><td>0.001023541</td><td>-0.6008541</td><td>-2.389612</td></tr>\n",
       "\t<tr><td>hsa05016</td><td>0.001035197</td><td>-0.6102203</td><td>-2.401021</td></tr>\n",
       "\t<tr><td>hsa05012</td><td>0.001047120</td><td>-0.6384297</td><td>-2.488182</td></tr>\n",
       "\t<tr><td>hsa05020</td><td>0.001047120</td><td>-0.6153209</td><td>-2.402092</td></tr>\n",
       "</tbody>\n",
       "</table>\n"
      ],
      "text/latex": [
       "A data.table: 6 × 4\n",
       "\\begin{tabular}{llll}\n",
       " pathway & pval & ES & NES\\\\\n",
       " <chr> & <dbl> & <dbl> & <dbl>\\\\\n",
       "\\hline\n",
       "\t hsa05022 & 0.001011122 & -0.5520668 & -2.210939\\\\\n",
       "\t hsa05010 & 0.001020408 & -0.5565766 & -2.214624\\\\\n",
       "\t hsa05014 & 0.001023541 & -0.6008541 & -2.389612\\\\\n",
       "\t hsa05016 & 0.001035197 & -0.6102203 & -2.401021\\\\\n",
       "\t hsa05012 & 0.001047120 & -0.6384297 & -2.488182\\\\\n",
       "\t hsa05020 & 0.001047120 & -0.6153209 & -2.402092\\\\\n",
       "\\end{tabular}\n"
      ],
      "text/markdown": [
       "\n",
       "A data.table: 6 × 4\n",
       "\n",
       "| pathway &lt;chr&gt; | pval &lt;dbl&gt; | ES &lt;dbl&gt; | NES &lt;dbl&gt; |\n",
       "|---|---|---|---|\n",
       "| hsa05022 | 0.001011122 | -0.5520668 | -2.210939 |\n",
       "| hsa05010 | 0.001020408 | -0.5565766 | -2.214624 |\n",
       "| hsa05014 | 0.001023541 | -0.6008541 | -2.389612 |\n",
       "| hsa05016 | 0.001035197 | -0.6102203 | -2.401021 |\n",
       "| hsa05012 | 0.001047120 | -0.6384297 | -2.488182 |\n",
       "| hsa05020 | 0.001047120 | -0.6153209 | -2.402092 |\n",
       "\n"
      ],
      "text/plain": [
       "  pathway  pval        ES         NES      \n",
       "1 hsa05022 0.001011122 -0.5520668 -2.210939\n",
       "2 hsa05010 0.001020408 -0.5565766 -2.214624\n",
       "3 hsa05014 0.001023541 -0.6008541 -2.389612\n",
       "4 hsa05016 0.001035197 -0.6102203 -2.401021\n",
       "5 hsa05012 0.001047120 -0.6384297 -2.488182\n",
       "6 hsa05020 0.001047120 -0.6153209 -2.402092"
      ]
     },
     "metadata": {},
     "output_type": "display_data"
    }
   ],
   "source": [
    "# Running fgsea analysis\n",
    "geneset <- KEGG_hallmark\n",
    "fgsea_result <- runFgsea(DE_data = DE.df, genesets = geneset, nperms = nperms)\n",
    "# Show some first rows of the result table\n",
    "head(fgsea_result[order(fgsea_result$pval), c(\"pathway\", \"pval\", \"ES\", \"NES\")])"
   ]
  },
  {
   "cell_type": "code",
   "execution_count": 34,
   "id": "a63408eb",
   "metadata": {
    "scrolled": true
   },
   "outputs": [
    {
     "data": {
      "image/png": "[encoded data removed]",
      "text/plain": [
       "plot without title"
      ]
     },
     "metadata": {
      "image/png": {
       "height": 420,
       "width": 420
      }
     },
     "output_type": "display_data"
    }
   ],
   "source": [
    "# Get the stats vector for the plotGseaTable\n",
    "stats <- DE.df$statistic\n",
    "stats <- as.vector(stats)\n",
    "names(stats) <- rownames(DE.df)\n",
    "\n",
    "# select the top five up-regulated pathways \n",
    "topPathwaysUp <- fgsea_result[ES > 0][head(order(pval), n = 5), pathway]\n",
    "# select the top five down-regulated pathways \n",
    "topPathwaysDown <- fgsea_result[ES < 0][head(order(pval), n = 5), pathway]\n",
    "# concatenate them for visualization\n",
    "topPathways <- c(topPathwaysUp, rev(topPathwaysDown))\n",
    "#Viewing the 5 most significantly up-regulated and down-regulated pathways each with the FGSEA internal plot function\n",
    "plotGseaTable(pathways = KEGG_hallmark[topPathways], stats = stats, \n",
    "              fgseaRes = fgsea_result, gseaParam = 0.5)"
   ]
  },
  {
   "cell_type": "markdown",
   "id": "29cbb971-2f26-42fa-92d1-3f7b8e6347ef",
   "metadata": {},
   "source": [
    "### Enrichment analysis using FGSEA and REACTOME pathways\n",
    "We can perform enrichment analysis using FGSEA with REACTOME pathways using the same procedure above. "
   ]
  },
  {
   "cell_type": "code",
   "execution_count": 35,
   "id": "ab574490-afc7-428d-8bd9-fc0a2514777e",
   "metadata": {
    "scrolled": true
   },
   "outputs": [
    {
     "data": {
      "text/html": [
       "<dl>\n",
       "\t<dt>$`R-HSA-15869`</dt>\n",
       "\t\t<dd><style>\n",
       ".list-inline {list-style: none; margin:0; padding: 0}\n",
       ".list-inline>li {display: inline-block}\n",
       ".list-inline>li:not(:last-child)::after {content: \"\\00b7\"; padding: 0 .5ex}\n",
       "</style>\n",
       "<ol class=list-inline><li>'RRM1'</li><li>'RR1'</li><li>'RRM2'</li><li>'RR2'</li><li>'GLRX'</li><li>'GRX'</li></ol>\n",
       "</dd>\n",
       "\t<dt>$`R-HSA-68616`</dt>\n",
       "\t\t<dd><style>\n",
       ".list-inline {list-style: none; margin:0; padding: 0}\n",
       ".list-inline>li {display: inline-block}\n",
       ".list-inline>li:not(:last-child)::after {content: \"\\00b7\"; padding: 0 .5ex}\n",
       "</style>\n",
       "<ol class=list-inline><li>'ORC1'</li><li>'ORC1L'</li><li>'PARC1'</li><li>'H4C1'</li><li>'H4/A'</li><li>'H4FA'</li></ol>\n",
       "</dd>\n",
       "\t<dt>$`R-HSA-68689`</dt>\n",
       "\t\t<dd><style>\n",
       ".list-inline {list-style: none; margin:0; padding: 0}\n",
       ".list-inline>li {display: inline-block}\n",
       ".list-inline>li:not(:last-child)::after {content: \"\\00b7\"; padding: 0 .5ex}\n",
       "</style>\n",
       "<ol class=list-inline><li>'ORC1'</li><li>'ORC1L'</li><li>'PARC1'</li><li>'ORC4'</li><li>'ORC4L'</li><li>'ORC5'</li></ol>\n",
       "</dd>\n",
       "\t<dt>$`R-HSA-68867`</dt>\n",
       "\t\t<dd><style>\n",
       ".list-inline {list-style: none; margin:0; padding: 0}\n",
       ".list-inline>li {display: inline-block}\n",
       ".list-inline>li:not(:last-child)::after {content: \"\\00b7\"; padding: 0 .5ex}\n",
       "</style>\n",
       "<ol class=list-inline><li>'ORC1'</li><li>'ORC1L'</li><li>'PARC1'</li><li>'ORC4'</li><li>'ORC4L'</li><li>'ORC5'</li></ol>\n",
       "</dd>\n",
       "\t<dt>$`R-HSA-68875`</dt>\n",
       "\t\t<dd><style>\n",
       ".list-inline {list-style: none; margin:0; padding: 0}\n",
       ".list-inline>li {display: inline-block}\n",
       ".list-inline>li:not(:last-child)::after {content: \"\\00b7\"; padding: 0 .5ex}\n",
       "</style>\n",
       "<ol class=list-inline><li>'PLK1'</li><li>'PLK'</li><li>'GOLGA2'</li><li>'GORASP1'</li><li>'GOLPH5'</li><li>'GRASP65'</li></ol>\n",
       "</dd>\n",
       "</dl>\n"
      ],
      "text/latex": [
       "\\begin{description}\n",
       "\\item[\\$`R-HSA-15869`] \\begin{enumerate*}\n",
       "\\item 'RRM1'\n",
       "\\item 'RR1'\n",
       "\\item 'RRM2'\n",
       "\\item 'RR2'\n",
       "\\item 'GLRX'\n",
       "\\item 'GRX'\n",
       "\\end{enumerate*}\n",
       "\n",
       "\\item[\\$`R-HSA-68616`] \\begin{enumerate*}\n",
       "\\item 'ORC1'\n",
       "\\item 'ORC1L'\n",
       "\\item 'PARC1'\n",
       "\\item 'H4C1'\n",
       "\\item 'H4/A'\n",
       "\\item 'H4FA'\n",
       "\\end{enumerate*}\n",
       "\n",
       "\\item[\\$`R-HSA-68689`] \\begin{enumerate*}\n",
       "\\item 'ORC1'\n",
       "\\item 'ORC1L'\n",
       "\\item 'PARC1'\n",
       "\\item 'ORC4'\n",
       "\\item 'ORC4L'\n",
       "\\item 'ORC5'\n",
       "\\end{enumerate*}\n",
       "\n",
       "\\item[\\$`R-HSA-68867`] \\begin{enumerate*}\n",
       "\\item 'ORC1'\n",
       "\\item 'ORC1L'\n",
       "\\item 'PARC1'\n",
       "\\item 'ORC4'\n",
       "\\item 'ORC4L'\n",
       "\\item 'ORC5'\n",
       "\\end{enumerate*}\n",
       "\n",
       "\\item[\\$`R-HSA-68875`] \\begin{enumerate*}\n",
       "\\item 'PLK1'\n",
       "\\item 'PLK'\n",
       "\\item 'GOLGA2'\n",
       "\\item 'GORASP1'\n",
       "\\item 'GOLPH5'\n",
       "\\item 'GRASP65'\n",
       "\\end{enumerate*}\n",
       "\n",
       "\\end{description}\n"
      ],
      "text/markdown": [
       "$`R-HSA-15869`\n",
       ":   1. 'RRM1'\n",
       "2. 'RR1'\n",
       "3. 'RRM2'\n",
       "4. 'RR2'\n",
       "5. 'GLRX'\n",
       "6. 'GRX'\n",
       "\n",
       "\n",
       "\n",
       "$`R-HSA-68616`\n",
       ":   1. 'ORC1'\n",
       "2. 'ORC1L'\n",
       "3. 'PARC1'\n",
       "4. 'H4C1'\n",
       "5. 'H4/A'\n",
       "6. 'H4FA'\n",
       "\n",
       "\n",
       "\n",
       "$`R-HSA-68689`\n",
       ":   1. 'ORC1'\n",
       "2. 'ORC1L'\n",
       "3. 'PARC1'\n",
       "4. 'ORC4'\n",
       "5. 'ORC4L'\n",
       "6. 'ORC5'\n",
       "\n",
       "\n",
       "\n",
       "$`R-HSA-68867`\n",
       ":   1. 'ORC1'\n",
       "2. 'ORC1L'\n",
       "3. 'PARC1'\n",
       "4. 'ORC4'\n",
       "5. 'ORC4L'\n",
       "6. 'ORC5'\n",
       "\n",
       "\n",
       "\n",
       "$`R-HSA-68875`\n",
       ":   1. 'PLK1'\n",
       "2. 'PLK'\n",
       "3. 'GOLGA2'\n",
       "4. 'GORASP1'\n",
       "5. 'GOLPH5'\n",
       "6. 'GRASP65'\n",
       "\n",
       "\n",
       "\n",
       "\n",
       "\n"
      ],
      "text/plain": [
       "$`R-HSA-15869`\n",
       "[1] \"RRM1\" \"RR1\"  \"RRM2\" \"RR2\"  \"GLRX\" \"GRX\" \n",
       "\n",
       "$`R-HSA-68616`\n",
       "[1] \"ORC1\"  \"ORC1L\" \"PARC1\" \"H4C1\"  \"H4/A\"  \"H4FA\" \n",
       "\n",
       "$`R-HSA-68689`\n",
       "[1] \"ORC1\"  \"ORC1L\" \"PARC1\" \"ORC4\"  \"ORC4L\" \"ORC5\" \n",
       "\n",
       "$`R-HSA-68867`\n",
       "[1] \"ORC1\"  \"ORC1L\" \"PARC1\" \"ORC4\"  \"ORC4L\" \"ORC5\" \n",
       "\n",
       "$`R-HSA-68875`\n",
       "[1] \"PLK1\"    \"PLK\"     \"GOLGA2\"  \"GORASP1\" \"GOLPH5\"  \"GRASP65\"\n"
      ]
     },
     "metadata": {},
     "output_type": "display_data"
    }
   ],
   "source": [
    "# Load the pathways into a named list\n",
    "REACTOME_hallmark <- gmtPathways(\"./data/REACTOME_pathways.gmt\")\n",
    "# Show the first few GO terms, and within those, show only the first few genes.\n",
    "tmp = lapply(REACTOME_hallmark, head)\n",
    "tmp[1:5]"
   ]
  },
  {
   "cell_type": "code",
   "execution_count": 36,
   "id": "8c812668-2971-4e80-b10d-7986b290574c",
   "metadata": {},
   "outputs": [
    {
     "name": "stdout",
     "output_type": "stream",
     "text": [
      "  |======================================================================| 100%\n",
      "\n"
     ]
    },
    {
     "data": {
      "text/html": [
       "<table class=\"dataframe\">\n",
       "<caption>A data.table: 6 × 4</caption>\n",
       "<thead>\n",
       "\t<tr><th scope=col>pathway</th><th scope=col>pval</th><th scope=col>ES</th><th scope=col>NES</th></tr>\n",
       "\t<tr><th scope=col>&lt;chr&gt;</th><th scope=col>&lt;dbl&gt;</th><th scope=col>&lt;dbl&gt;</th><th scope=col>&lt;dbl&gt;</th></tr>\n",
       "</thead>\n",
       "<tbody>\n",
       "\t<tr><td>R-HSA-73857  </td><td>0.000999001</td><td>-0.3136214</td><td>-1.276023</td></tr>\n",
       "\t<tr><td>R-HSA-74160  </td><td>0.000999001</td><td>-0.3127066</td><td>-1.272720</td></tr>\n",
       "\t<tr><td>R-HSA-212436 </td><td>0.000999001</td><td>-0.2989862</td><td>-1.216998</td></tr>\n",
       "\t<tr><td>R-HSA-392499 </td><td>0.000999001</td><td>-0.4449069</td><td>-1.816886</td></tr>\n",
       "\t<tr><td>R-HSA-597592 </td><td>0.000999001</td><td>-0.3838094</td><td>-1.561330</td></tr>\n",
       "\t<tr><td>R-HSA-1430728</td><td>0.000999001</td><td>-0.4081982</td><td>-1.667680</td></tr>\n",
       "</tbody>\n",
       "</table>\n"
      ],
      "text/latex": [
       "A data.table: 6 × 4\n",
       "\\begin{tabular}{llll}\n",
       " pathway & pval & ES & NES\\\\\n",
       " <chr> & <dbl> & <dbl> & <dbl>\\\\\n",
       "\\hline\n",
       "\t R-HSA-73857   & 0.000999001 & -0.3136214 & -1.276023\\\\\n",
       "\t R-HSA-74160   & 0.000999001 & -0.3127066 & -1.272720\\\\\n",
       "\t R-HSA-212436  & 0.000999001 & -0.2989862 & -1.216998\\\\\n",
       "\t R-HSA-392499  & 0.000999001 & -0.4449069 & -1.816886\\\\\n",
       "\t R-HSA-597592  & 0.000999001 & -0.3838094 & -1.561330\\\\\n",
       "\t R-HSA-1430728 & 0.000999001 & -0.4081982 & -1.667680\\\\\n",
       "\\end{tabular}\n"
      ],
      "text/markdown": [
       "\n",
       "A data.table: 6 × 4\n",
       "\n",
       "| pathway &lt;chr&gt; | pval &lt;dbl&gt; | ES &lt;dbl&gt; | NES &lt;dbl&gt; |\n",
       "|---|---|---|---|\n",
       "| R-HSA-73857   | 0.000999001 | -0.3136214 | -1.276023 |\n",
       "| R-HSA-74160   | 0.000999001 | -0.3127066 | -1.272720 |\n",
       "| R-HSA-212436  | 0.000999001 | -0.2989862 | -1.216998 |\n",
       "| R-HSA-392499  | 0.000999001 | -0.4449069 | -1.816886 |\n",
       "| R-HSA-597592  | 0.000999001 | -0.3838094 | -1.561330 |\n",
       "| R-HSA-1430728 | 0.000999001 | -0.4081982 | -1.667680 |\n",
       "\n"
      ],
      "text/plain": [
       "  pathway       pval        ES         NES      \n",
       "1 R-HSA-73857   0.000999001 -0.3136214 -1.276023\n",
       "2 R-HSA-74160   0.000999001 -0.3127066 -1.272720\n",
       "3 R-HSA-212436  0.000999001 -0.2989862 -1.216998\n",
       "4 R-HSA-392499  0.000999001 -0.4449069 -1.816886\n",
       "5 R-HSA-597592  0.000999001 -0.3838094 -1.561330\n",
       "6 R-HSA-1430728 0.000999001 -0.4081982 -1.667680"
      ]
     },
     "metadata": {},
     "output_type": "display_data"
    }
   ],
   "source": [
    "# Running fgsea analysis\n",
    "geneset <- REACTOME_hallmark\n",
    "fgsea_result <- runFgsea(DE_data = DE.df, genesets = geneset, nperms = nperms)\n",
    "# Show some first rows of the result table\n",
    "head(fgsea_result[order(fgsea_result$pval), c(\"pathway\", \"pval\", \"ES\", \"NES\")])"
   ]
  },
  {
   "cell_type": "code",
   "execution_count": 37,
   "id": "cb80919c-714f-4788-b266-6ee71146d0cf",
   "metadata": {
    "scrolled": true
   },
   "outputs": [
    {
     "data": {
      "image/png": "[encoded data removed]",
      "text/plain": [
       "plot without title"
      ]
     },
     "metadata": {
      "image/png": {
       "height": 420,
       "width": 420
      }
     },
     "output_type": "display_data"
    }
   ],
   "source": [
    "# Get the stats vector for the plotGseaTable\n",
    "stats <- DE.df$statistic\n",
    "stats <- as.vector(stats)\n",
    "names(stats) <- rownames(DE.df)\n",
    "\n",
    "# select the top five up-regulated pathways \n",
    "topPathwaysUp <- fgsea_result[ES > 0][head(order(pval), n = 5), pathway]\n",
    "# select the top five down-regulated pathways \n",
    "topPathwaysDown <- fgsea_result[ES < 0][head(order(pval), n = 5), pathway]\n",
    "# concatenate them for visualization\n",
    "topPathways <- c(topPathwaysUp, rev(topPathwaysDown))\n",
    "#Viewing the 5 most significantly up-regulated and down-regulated pathways each with the FGSEA internal plot function\n",
    "plotGseaTable(pathways = REACTOME_hallmark[topPathways], stats = stats, \n",
    "              fgseaRes = fgsea_result, gseaParam = 0.5)"
   ]
  },
  {
   "cell_type": "markdown",
   "id": "181989b1",
   "metadata": {},
   "source": [
    "<!-- headings -->\n",
    "<a id=\"gsa-main\"></a>\n",
    "## 5. Enrichment Analysis using GSA"
   ]
  },
  {
   "cell_type": "markdown",
   "id": "c2f471b1",
   "metadata": {},
   "source": [
    "Gene Set Analysis (GSA), an Enrichment Analysis, is a method that is commonly used to summarize high-dimensional gene expression data sets into sets according to their biological relevance. GSA takes the ranked gene lists from the initial stage of a gene expression analysis and aggregates the genes into sets based on shared biological or functional properties as specified by a reference knowledge base. Such databases often contain phenotype associations, molecular interactions and regulation and are referenced in the analysis of the resultant gene sets to find the relevance of the gene properties to the phenotype of interest."
   ]
  },
  {
   "cell_type": "code",
   "execution_count": 38,
   "id": "443e636c-265e-4829-85f3-1999eeff4385",
   "metadata": {},
   "outputs": [
    {
     "data": {
      "text/html": [
       "<iframe src=\"./Quizzes/Quiz_Submodule4-4.html\" width=100% height=250></iframe>"
      ]
     },
     "metadata": {},
     "output_type": "display_data"
    }
   ],
   "source": [
    "#Run the following command to take the quiz\n",
    "IRdisplay::display_html('<iframe src=\"./Quizzes/Quiz_Submodule4-4.html\" width=100% height=250></iframe>')"
   ]
  },
  {
   "cell_type": "markdown",
   "id": "0f0c9233",
   "metadata": {},
   "source": [
    "### Data preparation\n",
    "The GSA method is freely available as standalone package in CRAN repository. We can use the following code to install the package."
   ]
  },
  {
   "cell_type": "code",
   "execution_count": 39,
   "id": "c3efb930",
   "metadata": {},
   "outputs": [],
   "source": [
    "# Install GSA from CRAN\n",
    "suppressMessages({\n",
    "    suppressWarnings({\n",
    "        if (!require(\"GSA\")) install.packages(\"GSA\")\n",
    "    })\n",
    "})\n",
    "\n",
    "suppressMessages({\n",
    "    suppressWarnings({\n",
    "        library(GSA)\n",
    "    })\n",
    "})\n",
    "# Set the number of permutations\n",
    "nperms <- 1000"
   ]
  },
  {
   "cell_type": "markdown",
   "id": "0d5ceddc-ecf5-435c-917d-8588662a87a2",
   "metadata": {},
   "source": [
    "To perform enrichment analysis using GSA, we can use the `runGSA` function below."
   ]
  },
  {
   "cell_type": "code",
   "execution_count": 40,
   "id": "146cd2ae-578f-4605-a763-61e7904f4305",
   "metadata": {},
   "outputs": [],
   "source": [
    "#' @description This function performs enrichment analysis using the GSA method.\n",
    "#'\n",
    "#' @param exprsData A numeric matrix or a matrix-like object containing gene expression data. Rows represent genes, columns represent samples.\n",
    "#' @param genesets A list of gene sets to be analzyed.\n",
    "#' @param groups A factor indicating sample groups.\n",
    "#' @param parallel A boolean to choose between non-parallel and parallel processing.\n",
    "#'\n",
    "#' @return A list containing the GSA results data frame and the GSA object.\n",
    "\n",
    "runGSA <- function(exprsData, genesets, groups, nperms = 100) {\n",
    "    # Determine the number of classes in the group variable\n",
    "    num_classes <- length(unique(groups))\n",
    "    resp_type <- NULL\n",
    "\n",
    "    # Check the number of classes and set response type accordingly\n",
    "    if (num_classes == 1) {\n",
    "        stop(\"The group classes in the design matrix must be at least two.\")\n",
    "    } else if (num_classes == 2) {\n",
    "        resp_type <- \"Two class unpaired\"\n",
    "    } else {\n",
    "        resp_type <- \"Multiclass\"\n",
    "    }\n",
    "    # Run GSA analysis\n",
    "    gsa_res <- GSA::GSA(\n",
    "        x = exprsData,\n",
    "        y = groups,\n",
    "        genesets = genesets,\n",
    "        resp.type = resp_type,\n",
    "        genenames = rownames(exprsData),\n",
    "        nperms = nperms\n",
    "    )\n",
    "        \n",
    "    # Extract p-values and create result data frame\n",
    "    pvalues <- apply(cbind(gsa_res$pvalues.lo, gsa_res$pvalues.hi), 1, min)\n",
    "    res <- data.frame(ID = names(genesets), p.value = pvalues * 2, stringsAsFactors = FALSE)\n",
    "\n",
    "    # Create GSA result data frame\n",
    "    GSA_res <- data.frame(\n",
    "        ID = res$ID,\n",
    "        p.value = res$p.value,\n",
    "        score = gsa_res$GSA.scores,\n",
    "        normalizedScore = gsa_res$GSA.scores,\n",
    "        stringsAsFactors = FALSE\n",
    "    )\n",
    "    # Return a list containing GSA results\n",
    "    list(GSA_res = GSA_res[!is.na(GSA_res$p.value), ], GSA.obj = gsa_res)\n",
    "}\n"
   ]
  },
  {
   "cell_type": "markdown",
   "id": "e4a2ed98",
   "metadata": {},
   "source": [
    "The GSA method requires an expression matrix, a numeric vector containing the class of each sample and a vector of the genes inputs. We can easily get those inputs by loading the data that we processed in the [**submodule 01** ](./Submodule01-ProcessingExpressionData.ipynb). From the samples information, we can use the same code in [**submodule 02** ](./Submodule02-DifferentialAnalysis.ipynb) to create the groups information factor."
   ]
  },
  {
   "cell_type": "code",
   "execution_count": 41,
   "id": "4a06f16e-e68e-433f-bb30-6d6e66effae9",
   "metadata": {},
   "outputs": [
    {
     "data": {
      "text/html": [
       "<style>\n",
       ".list-inline {list-style: none; margin:0; padding: 0}\n",
       ".list-inline>li {display: inline-block}\n",
       ".list-inline>li:not(:last-child)::after {content: \"\\00b7\"; padding: 0 .5ex}\n",
       "</style>\n",
       "<ol class=list-inline><li>'expression_data'</li><li>'samples'</li><li>'genes'</li><li>'limma_results'</li><li>'tTest_results'</li><li>'edgeR_results'</li><li>'deseq2_results'</li></ol>\n"
      ],
      "text/latex": [
       "\\begin{enumerate*}\n",
       "\\item 'expression\\_data'\n",
       "\\item 'samples'\n",
       "\\item 'genes'\n",
       "\\item 'limma\\_results'\n",
       "\\item 'tTest\\_results'\n",
       "\\item 'edgeR\\_results'\n",
       "\\item 'deseq2\\_results'\n",
       "\\end{enumerate*}\n"
      ],
      "text/markdown": [
       "1. 'expression_data'\n",
       "2. 'samples'\n",
       "3. 'genes'\n",
       "4. 'limma_results'\n",
       "5. 'tTest_results'\n",
       "6. 'edgeR_results'\n",
       "7. 'deseq2_results'\n",
       "\n",
       "\n"
      ],
      "text/plain": [
       "[1] \"expression_data\" \"samples\"         \"genes\"           \"limma_results\"  \n",
       "[5] \"tTest_results\"   \"edgeR_results\"   \"deseq2_results\" "
      ]
     },
     "metadata": {},
     "output_type": "display_data"
    }
   ],
   "source": [
    "# Check names available in data\n",
    "names(data)"
   ]
  },
  {
   "cell_type": "code",
   "execution_count": 42,
   "id": "3982c128",
   "metadata": {},
   "outputs": [],
   "source": [
    "# Loading expression data and samples information\n",
    "expression_data <- data$expression_data\n",
    "samples <- data$samples\n"
   ]
  },
  {
   "cell_type": "markdown",
   "id": "1848114c-e852-46ec-91ae-ca19afc8ea8b",
   "metadata": {},
   "source": [
    "Get the groups information for GSA function."
   ]
  },
  {
   "cell_type": "code",
   "execution_count": 43,
   "id": "f0c546b9-aa93-43ad-a69f-ec9d53228feb",
   "metadata": {
    "scrolled": true
   },
   "outputs": [
    {
     "data": {
      "text/html": [
       "<style>\n",
       ".list-inline {list-style: none; margin:0; padding: 0}\n",
       ".list-inline>li {display: inline-block}\n",
       ".list-inline>li:not(:last-child)::after {content: \"\\00b7\"; padding: 0 .5ex}\n",
       "</style>\n",
       "<ol class=list-inline><li>c</li><li>c</li><li>c</li><li>c</li><li>c</li><li>c</li><li>c</li><li>c</li><li>c</li><li>c</li><li>c</li><li>c</li><li>c</li><li>c</li><li>c</li><li>c</li><li>c</li><li>c</li><li>c</li><li>c</li><li>c</li><li>c</li><li>c</li><li>c</li><li>c</li><li>c</li><li>c</li><li>c</li><li>c</li><li>c</li><li>c</li><li>c</li><li>c</li><li>c</li><li>c</li><li>c</li><li>c</li><li>c</li><li>c</li><li>c</li><li>c</li><li>c</li><li>c</li><li>c</li><li>c</li><li>c</li><li>c</li><li>c</li><li>c</li><li>c</li><li>c</li><li>c</li><li>c</li><li>c</li><li>c</li><li>c</li><li>c</li><li>c</li><li>c</li><li>c</li><li>c</li><li>c</li><li>c</li><li>c</li><li>c</li><li>c</li><li>c</li><li>c</li><li>c</li><li>c</li><li>c</li><li>c</li><li>c</li><li>c</li><li>d</li><li>d</li><li>d</li><li>d</li><li>d</li><li>d</li><li>d</li><li>d</li><li>d</li><li>d</li><li>d</li><li>d</li><li>d</li><li>d</li><li>d</li><li>d</li><li>d</li><li>d</li><li>d</li><li>d</li><li>d</li><li>d</li><li>d</li><li>d</li><li>d</li><li>d</li><li>d</li><li>d</li><li>d</li><li>d</li><li>d</li><li>d</li><li>d</li><li>d</li><li>d</li><li>d</li><li>d</li><li>d</li><li>d</li><li>d</li><li>d</li><li>d</li><li>d</li><li>d</li><li>d</li><li>d</li><li>d</li><li>d</li><li>d</li><li>d</li><li>d</li><li>d</li><li>d</li><li>d</li><li>d</li><li>d</li><li>d</li><li>d</li><li>d</li><li>d</li><li>d</li><li>d</li><li>d</li><li>d</li><li>d</li><li>d</li><li>d</li><li>d</li><li>d</li><li>d</li><li>d</li><li>d</li><li>d</li><li>d</li><li>d</li><li>d</li><li>d</li><li>d</li><li>d</li><li>d</li><li>d</li><li>d</li><li>d</li><li>d</li><li>d</li><li>d</li><li>d</li></ol>\n",
       "\n",
       "<details>\n",
       "\t<summary style=display:list-item;cursor:pointer>\n",
       "\t\t<strong>Levels</strong>:\n",
       "\t</summary>\n",
       "\t<style>\n",
       "\t.list-inline {list-style: none; margin:0; padding: 0}\n",
       "\t.list-inline>li {display: inline-block}\n",
       "\t.list-inline>li:not(:last-child)::after {content: \"\\00b7\"; padding: 0 .5ex}\n",
       "\t</style>\n",
       "\t<ol class=list-inline><li>'c'</li><li>'d'</li></ol>\n",
       "</details>"
      ],
      "text/latex": [
       "\\begin{enumerate*}\n",
       "\\item c\n",
       "\\item c\n",
       "\\item c\n",
       "\\item c\n",
       "\\item c\n",
       "\\item c\n",
       "\\item c\n",
       "\\item c\n",
       "\\item c\n",
       "\\item c\n",
       "\\item c\n",
       "\\item c\n",
       "\\item c\n",
       "\\item c\n",
       "\\item c\n",
       "\\item c\n",
       "\\item c\n",
       "\\item c\n",
       "\\item c\n",
       "\\item c\n",
       "\\item c\n",
       "\\item c\n",
       "\\item c\n",
       "\\item c\n",
       "\\item c\n",
       "\\item c\n",
       "\\item c\n",
       "\\item c\n",
       "\\item c\n",
       "\\item c\n",
       "\\item c\n",
       "\\item c\n",
       "\\item c\n",
       "\\item c\n",
       "\\item c\n",
       "\\item c\n",
       "\\item c\n",
       "\\item c\n",
       "\\item c\n",
       "\\item c\n",
       "\\item c\n",
       "\\item c\n",
       "\\item c\n",
       "\\item c\n",
       "\\item c\n",
       "\\item c\n",
       "\\item c\n",
       "\\item c\n",
       "\\item c\n",
       "\\item c\n",
       "\\item c\n",
       "\\item c\n",
       "\\item c\n",
       "\\item c\n",
       "\\item c\n",
       "\\item c\n",
       "\\item c\n",
       "\\item c\n",
       "\\item c\n",
       "\\item c\n",
       "\\item c\n",
       "\\item c\n",
       "\\item c\n",
       "\\item c\n",
       "\\item c\n",
       "\\item c\n",
       "\\item c\n",
       "\\item c\n",
       "\\item c\n",
       "\\item c\n",
       "\\item c\n",
       "\\item c\n",
       "\\item c\n",
       "\\item c\n",
       "\\item d\n",
       "\\item d\n",
       "\\item d\n",
       "\\item d\n",
       "\\item d\n",
       "\\item d\n",
       "\\item d\n",
       "\\item d\n",
       "\\item d\n",
       "\\item d\n",
       "\\item d\n",
       "\\item d\n",
       "\\item d\n",
       "\\item d\n",
       "\\item d\n",
       "\\item d\n",
       "\\item d\n",
       "\\item d\n",
       "\\item d\n",
       "\\item d\n",
       "\\item d\n",
       "\\item d\n",
       "\\item d\n",
       "\\item d\n",
       "\\item d\n",
       "\\item d\n",
       "\\item d\n",
       "\\item d\n",
       "\\item d\n",
       "\\item d\n",
       "\\item d\n",
       "\\item d\n",
       "\\item d\n",
       "\\item d\n",
       "\\item d\n",
       "\\item d\n",
       "\\item d\n",
       "\\item d\n",
       "\\item d\n",
       "\\item d\n",
       "\\item d\n",
       "\\item d\n",
       "\\item d\n",
       "\\item d\n",
       "\\item d\n",
       "\\item d\n",
       "\\item d\n",
       "\\item d\n",
       "\\item d\n",
       "\\item d\n",
       "\\item d\n",
       "\\item d\n",
       "\\item d\n",
       "\\item d\n",
       "\\item d\n",
       "\\item d\n",
       "\\item d\n",
       "\\item d\n",
       "\\item d\n",
       "\\item d\n",
       "\\item d\n",
       "\\item d\n",
       "\\item d\n",
       "\\item d\n",
       "\\item d\n",
       "\\item d\n",
       "\\item d\n",
       "\\item d\n",
       "\\item d\n",
       "\\item d\n",
       "\\item d\n",
       "\\item d\n",
       "\\item d\n",
       "\\item d\n",
       "\\item d\n",
       "\\item d\n",
       "\\item d\n",
       "\\item d\n",
       "\\item d\n",
       "\\item d\n",
       "\\item d\n",
       "\\item d\n",
       "\\item d\n",
       "\\item d\n",
       "\\item d\n",
       "\\item d\n",
       "\\item d\n",
       "\\end{enumerate*}\n",
       "\n",
       "\\emph{Levels}: \\begin{enumerate*}\n",
       "\\item 'c'\n",
       "\\item 'd'\n",
       "\\end{enumerate*}\n"
      ],
      "text/markdown": [
       "1. c\n",
       "2. c\n",
       "3. c\n",
       "4. c\n",
       "5. c\n",
       "6. c\n",
       "7. c\n",
       "8. c\n",
       "9. c\n",
       "10. c\n",
       "11. c\n",
       "12. c\n",
       "13. c\n",
       "14. c\n",
       "15. c\n",
       "16. c\n",
       "17. c\n",
       "18. c\n",
       "19. c\n",
       "20. c\n",
       "21. c\n",
       "22. c\n",
       "23. c\n",
       "24. c\n",
       "25. c\n",
       "26. c\n",
       "27. c\n",
       "28. c\n",
       "29. c\n",
       "30. c\n",
       "31. c\n",
       "32. c\n",
       "33. c\n",
       "34. c\n",
       "35. c\n",
       "36. c\n",
       "37. c\n",
       "38. c\n",
       "39. c\n",
       "40. c\n",
       "41. c\n",
       "42. c\n",
       "43. c\n",
       "44. c\n",
       "45. c\n",
       "46. c\n",
       "47. c\n",
       "48. c\n",
       "49. c\n",
       "50. c\n",
       "51. c\n",
       "52. c\n",
       "53. c\n",
       "54. c\n",
       "55. c\n",
       "56. c\n",
       "57. c\n",
       "58. c\n",
       "59. c\n",
       "60. c\n",
       "61. c\n",
       "62. c\n",
       "63. c\n",
       "64. c\n",
       "65. c\n",
       "66. c\n",
       "67. c\n",
       "68. c\n",
       "69. c\n",
       "70. c\n",
       "71. c\n",
       "72. c\n",
       "73. c\n",
       "74. c\n",
       "75. d\n",
       "76. d\n",
       "77. d\n",
       "78. d\n",
       "79. d\n",
       "80. d\n",
       "81. d\n",
       "82. d\n",
       "83. d\n",
       "84. d\n",
       "85. d\n",
       "86. d\n",
       "87. d\n",
       "88. d\n",
       "89. d\n",
       "90. d\n",
       "91. d\n",
       "92. d\n",
       "93. d\n",
       "94. d\n",
       "95. d\n",
       "96. d\n",
       "97. d\n",
       "98. d\n",
       "99. d\n",
       "100. d\n",
       "101. d\n",
       "102. d\n",
       "103. d\n",
       "104. d\n",
       "105. d\n",
       "106. d\n",
       "107. d\n",
       "108. d\n",
       "109. d\n",
       "110. d\n",
       "111. d\n",
       "112. d\n",
       "113. d\n",
       "114. d\n",
       "115. d\n",
       "116. d\n",
       "117. d\n",
       "118. d\n",
       "119. d\n",
       "120. d\n",
       "121. d\n",
       "122. d\n",
       "123. d\n",
       "124. d\n",
       "125. d\n",
       "126. d\n",
       "127. d\n",
       "128. d\n",
       "129. d\n",
       "130. d\n",
       "131. d\n",
       "132. d\n",
       "133. d\n",
       "134. d\n",
       "135. d\n",
       "136. d\n",
       "137. d\n",
       "138. d\n",
       "139. d\n",
       "140. d\n",
       "141. d\n",
       "142. d\n",
       "143. d\n",
       "144. d\n",
       "145. d\n",
       "146. d\n",
       "147. d\n",
       "148. d\n",
       "149. d\n",
       "150. d\n",
       "151. d\n",
       "152. d\n",
       "153. d\n",
       "154. d\n",
       "155. d\n",
       "156. d\n",
       "157. d\n",
       "158. d\n",
       "159. d\n",
       "160. d\n",
       "161. d\n",
       "\n",
       "\n",
       "\n",
       "**Levels**: 1. 'c'\n",
       "2. 'd'\n",
       "\n",
       "\n"
      ],
      "text/plain": [
       "  [1] c c c c c c c c c c c c c c c c c c c c c c c c c c c c c c c c c c c c c\n",
       " [38] c c c c c c c c c c c c c c c c c c c c c c c c c c c c c c c c c c c c c\n",
       " [75] d d d d d d d d d d d d d d d d d d d d d d d d d d d d d d d d d d d d d\n",
       "[112] d d d d d d d d d d d d d d d d d d d d d d d d d d d d d d d d d d d d d\n",
       "[149] d d d d d d d d d d d d d\n",
       "Levels: c d"
      ]
     },
     "metadata": {},
     "output_type": "display_data"
    }
   ],
   "source": [
    "groups <- samples$condition\n",
    "groups <- as.factor(groups)\n",
    "groups"
   ]
  },
  {
   "cell_type": "markdown",
   "id": "f8acf4f4",
   "metadata": {},
   "source": [
    "### Enrichment Analysis using GSA and GO Terms\n",
    "Using data obtained from the previous step, we can run the GSA method by calling the function `GSA`. We can reuse `GO_term_hallmark` and `KEGG_hallmark` loaded in FGSEA to perform analysis. The code details are shown below:"
   ]
  },
  {
   "cell_type": "code",
   "execution_count": 44,
   "id": "3c207752-fc0e-4f7b-924d-27ec6bbfc0e3",
   "metadata": {
    "scrolled": true
   },
   "outputs": [
    {
     "name": "stdout",
     "output_type": "stream",
     "text": [
      "perm= 10 / 1000 \n",
      "perm= 20 / 1000 \n",
      "perm= 30 / 1000 \n",
      "perm= 40 / 1000 \n",
      "perm= 50 / 1000 \n",
      "perm= 60 / 1000 \n",
      "perm= 70 / 1000 \n",
      "perm= 80 / 1000 \n",
      "perm= 90 / 1000 \n",
      "perm= 100 / 1000 \n",
      "perm= 110 / 1000 \n",
      "perm= 120 / 1000 \n",
      "perm= 130 / 1000 \n",
      "perm= 140 / 1000 \n",
      "perm= 150 / 1000 \n",
      "perm= 160 / 1000 \n",
      "perm= 170 / 1000 \n",
      "perm= 180 / 1000 \n",
      "perm= 190 / 1000 \n",
      "perm= 200 / 1000 \n",
      "perm= 210 / 1000 \n",
      "perm= 220 / 1000 \n",
      "perm= 230 / 1000 \n",
      "perm= 240 / 1000 \n",
      "perm= 250 / 1000 \n",
      "perm= 260 / 1000 \n",
      "perm= 270 / 1000 \n",
      "perm= 280 / 1000 \n",
      "perm= 290 / 1000 \n",
      "perm= 300 / 1000 \n",
      "perm= 310 / 1000 \n",
      "perm= 320 / 1000 \n",
      "perm= 330 / 1000 \n",
      "perm= 340 / 1000 \n",
      "perm= 350 / 1000 \n",
      "perm= 360 / 1000 \n",
      "perm= 370 / 1000 \n",
      "perm= 380 / 1000 \n",
      "perm= 390 / 1000 \n",
      "perm= 400 / 1000 \n",
      "perm= 410 / 1000 \n",
      "perm= 420 / 1000 \n",
      "perm= 430 / 1000 \n",
      "perm= 440 / 1000 \n",
      "perm= 450 / 1000 \n",
      "perm= 460 / 1000 \n",
      "perm= 470 / 1000 \n",
      "perm= 480 / 1000 \n",
      "perm= 490 / 1000 \n",
      "perm= 500 / 1000 \n",
      "perm= 510 / 1000 \n",
      "perm= 520 / 1000 \n",
      "perm= 530 / 1000 \n",
      "perm= 540 / 1000 \n",
      "perm= 550 / 1000 \n",
      "perm= 560 / 1000 \n",
      "perm= 570 / 1000 \n",
      "perm= 580 / 1000 \n",
      "perm= 590 / 1000 \n",
      "perm= 600 / 1000 \n",
      "perm= 610 / 1000 \n",
      "perm= 620 / 1000 \n",
      "perm= 630 / 1000 \n",
      "perm= 640 / 1000 \n",
      "perm= 650 / 1000 \n",
      "perm= 660 / 1000 \n",
      "perm= 670 / 1000 \n",
      "perm= 680 / 1000 \n",
      "perm= 690 / 1000 \n",
      "perm= 700 / 1000 \n",
      "perm= 710 / 1000 \n",
      "perm= 720 / 1000 \n",
      "perm= 730 / 1000 \n",
      "perm= 740 / 1000 \n",
      "perm= 750 / 1000 \n",
      "perm= 760 / 1000 \n",
      "perm= 770 / 1000 \n",
      "perm= 780 / 1000 \n",
      "perm= 790 / 1000 \n",
      "perm= 800 / 1000 \n",
      "perm= 810 / 1000 \n",
      "perm= 820 / 1000 \n",
      "perm= 830 / 1000 \n",
      "perm= 840 / 1000 \n",
      "perm= 850 / 1000 \n",
      "perm= 860 / 1000 \n",
      "perm= 870 / 1000 \n",
      "perm= 880 / 1000 \n",
      "perm= 890 / 1000 \n",
      "perm= 900 / 1000 \n",
      "perm= 910 / 1000 \n",
      "perm= 920 / 1000 \n",
      "perm= 930 / 1000 \n",
      "perm= 940 / 1000 \n",
      "perm= 950 / 1000 \n",
      "perm= 960 / 1000 \n",
      "perm= 970 / 1000 \n",
      "perm= 980 / 1000 \n",
      "perm= 990 / 1000 \n",
      "perm= 1000 / 1000 \n"
     ]
    }
   ],
   "source": [
    "genesets <- GO_term_hallmark\n",
    "GSA_output <- runGSA(as.matrix(expression_data), genesets = genesets, as.numeric(groups), nperms = nperms)\n",
    "# Get GSA_result dataframe and GSA object from output of the runGSA function\n",
    "GSA_result <- GSA_output$GSA_res\n",
    "GSA.obj <- GSA_output$GSA.obj"
   ]
  },
  {
   "cell_type": "code",
   "execution_count": 45,
   "id": "fee35ec6-490d-490c-a7c0-aa20716d40be",
   "metadata": {},
   "outputs": [
    {
     "data": {
      "text/html": [
       "<table class=\"dataframe\">\n",
       "<caption>A data.frame: 6 × 4</caption>\n",
       "<thead>\n",
       "\t<tr><th></th><th scope=col>ID</th><th scope=col>p.value</th><th scope=col>score</th><th scope=col>normalizedScore</th></tr>\n",
       "\t<tr><th></th><th scope=col>&lt;chr&gt;</th><th scope=col>&lt;dbl&gt;</th><th scope=col>&lt;dbl&gt;</th><th scope=col>&lt;dbl&gt;</th></tr>\n",
       "</thead>\n",
       "<tbody>\n",
       "\t<tr><th scope=row>114</th><td>GO:0001649</td><td>0</td><td> 0.2904266</td><td> 0.2904266</td></tr>\n",
       "\t<tr><th scope=row>123</th><td>GO:0001666</td><td>0</td><td> 0.2332024</td><td> 0.2332024</td></tr>\n",
       "\t<tr><th scope=row>168</th><td>GO:0001822</td><td>0</td><td> 0.2733661</td><td> 0.2733661</td></tr>\n",
       "\t<tr><th scope=row>178</th><td>GO:0001838</td><td>0</td><td> 0.3340554</td><td> 0.3340554</td></tr>\n",
       "\t<tr><th scope=row>650</th><td>GO:0006163</td><td>0</td><td>-0.4718038</td><td>-0.4718038</td></tr>\n",
       "\t<tr><th scope=row>651</th><td>GO:0006164</td><td>0</td><td>-0.6722688</td><td>-0.6722688</td></tr>\n",
       "</tbody>\n",
       "</table>\n"
      ],
      "text/latex": [
       "A data.frame: 6 × 4\n",
       "\\begin{tabular}{r|llll}\n",
       "  & ID & p.value & score & normalizedScore\\\\\n",
       "  & <chr> & <dbl> & <dbl> & <dbl>\\\\\n",
       "\\hline\n",
       "\t114 & GO:0001649 & 0 &  0.2904266 &  0.2904266\\\\\n",
       "\t123 & GO:0001666 & 0 &  0.2332024 &  0.2332024\\\\\n",
       "\t168 & GO:0001822 & 0 &  0.2733661 &  0.2733661\\\\\n",
       "\t178 & GO:0001838 & 0 &  0.3340554 &  0.3340554\\\\\n",
       "\t650 & GO:0006163 & 0 & -0.4718038 & -0.4718038\\\\\n",
       "\t651 & GO:0006164 & 0 & -0.6722688 & -0.6722688\\\\\n",
       "\\end{tabular}\n"
      ],
      "text/markdown": [
       "\n",
       "A data.frame: 6 × 4\n",
       "\n",
       "| <!--/--> | ID &lt;chr&gt; | p.value &lt;dbl&gt; | score &lt;dbl&gt; | normalizedScore &lt;dbl&gt; |\n",
       "|---|---|---|---|---|\n",
       "| 114 | GO:0001649 | 0 |  0.2904266 |  0.2904266 |\n",
       "| 123 | GO:0001666 | 0 |  0.2332024 |  0.2332024 |\n",
       "| 168 | GO:0001822 | 0 |  0.2733661 |  0.2733661 |\n",
       "| 178 | GO:0001838 | 0 |  0.3340554 |  0.3340554 |\n",
       "| 650 | GO:0006163 | 0 | -0.4718038 | -0.4718038 |\n",
       "| 651 | GO:0006164 | 0 | -0.6722688 | -0.6722688 |\n",
       "\n"
      ],
      "text/plain": [
       "    ID         p.value score      normalizedScore\n",
       "114 GO:0001649 0        0.2904266  0.2904266     \n",
       "123 GO:0001666 0        0.2332024  0.2332024     \n",
       "168 GO:0001822 0        0.2733661  0.2733661     \n",
       "178 GO:0001838 0        0.3340554  0.3340554     \n",
       "650 GO:0006163 0       -0.4718038 -0.4718038     \n",
       "651 GO:0006164 0       -0.6722688 -0.6722688     "
      ]
     },
     "metadata": {},
     "output_type": "display_data"
    }
   ],
   "source": [
    "head(GSA_result[order(GSA_result$p.value), ])"
   ]
  },
  {
   "cell_type": "markdown",
   "id": "0648ecb6-f0ec-41aa-b3e6-e812ba18d85c",
   "metadata": {},
   "source": [
    "<div class=\"alert alert-block alert-danger\">\n",
    "    <i class=\"fa fa-exclamation-circle\" aria-hidden=\"true\"></i>\n",
    "    <b>Alert: </b>  Please note that the outputs generated from GSA can be varied depending on R environments and software versions. Especially, when the users run the scripts using User-managed Notebooks instances which have a preinstalled suite of packages.\n",
    "</div>"
   ]
  },
  {
   "cell_type": "markdown",
   "id": "7a896181-0484-4df3-b879-f70c99bc0a4e",
   "metadata": {},
   "source": [
    "From the analysis result, we can now get the list positive and negative genes of the GSA analysis from the GSA object using the `GSA.listsets` function. "
   ]
  },
  {
   "cell_type": "code",
   "execution_count": 46,
   "id": "ebba9b67",
   "metadata": {},
   "outputs": [],
   "source": [
    "# List the results from a GSA analysis\n",
    "res <- GSA.listsets(GSA.obj = GSA.obj, geneset.names = names(genesets), FDRcut = .5)"
   ]
  },
  {
   "cell_type": "markdown",
   "id": "f280f564-9698-4896-9eb9-c22a5ac00399",
   "metadata": {},
   "source": [
    "To use the `GSA.listsets` function, we need to pass the following arguments:\n",
    "\n",
    "- `GSA.obj`: A GSA object returned by GSA function.\n",
    "- `geneset.names`: An optional vector of names for the gene sets.\n",
    "- `FDRcut`: A numeric value specifying the false discovery rate cutpoint for listed sets. A value of 1 will cause all sets to be listed.\n",
    "\n",
    "The `GSA.listsets` function returns a list of the results from the GSA call."
   ]
  },
  {
   "cell_type": "markdown",
   "id": "df55e53c",
   "metadata": {},
   "source": [
    "A table of the negative gene sets. “Negative” means that lower expression of most genes in the gene set correlates with higher values of the phenotype y. E.g., for two classes coded 1,2, lower expression correlates with class 2."
   ]
  },
  {
   "cell_type": "code",
   "execution_count": 47,
   "id": "ae97649e",
   "metadata": {},
   "outputs": [
    {
     "data": {
      "text/html": [
       "<table class=\"dataframe\">\n",
       "<caption>A matrix: 6 × 5 of type chr</caption>\n",
       "<thead>\n",
       "\t<tr><th scope=col>Gene_set</th><th scope=col>Gene_set_name</th><th scope=col>Score</th><th scope=col>p-value</th><th scope=col>FDR</th></tr>\n",
       "</thead>\n",
       "<tbody>\n",
       "\t<tr><td>650</td><td>GO:0006163</td><td>-0.4718</td><td>0</td><td>0</td></tr>\n",
       "\t<tr><td>651</td><td>GO:0006164</td><td>-0.6723</td><td>0</td><td>0</td></tr>\n",
       "\t<tr><td>724</td><td>GO:0006399</td><td>-0.5715</td><td>0</td><td>0</td></tr>\n",
       "\t<tr><td>770</td><td>GO:0006520</td><td>-0.3463</td><td>0</td><td>0</td></tr>\n",
       "\t<tr><td>864</td><td>GO:0006754</td><td>-1.267 </td><td>0</td><td>0</td></tr>\n",
       "\t<tr><td>981</td><td>GO:0007006</td><td>-0.6579</td><td>0</td><td>0</td></tr>\n",
       "</tbody>\n",
       "</table>\n"
      ],
      "text/latex": [
       "A matrix: 6 × 5 of type chr\n",
       "\\begin{tabular}{lllll}\n",
       " Gene\\_set & Gene\\_set\\_name & Score & p-value & FDR\\\\\n",
       "\\hline\n",
       "\t 650 & GO:0006163 & -0.4718 & 0 & 0\\\\\n",
       "\t 651 & GO:0006164 & -0.6723 & 0 & 0\\\\\n",
       "\t 724 & GO:0006399 & -0.5715 & 0 & 0\\\\\n",
       "\t 770 & GO:0006520 & -0.3463 & 0 & 0\\\\\n",
       "\t 864 & GO:0006754 & -1.267  & 0 & 0\\\\\n",
       "\t 981 & GO:0007006 & -0.6579 & 0 & 0\\\\\n",
       "\\end{tabular}\n"
      ],
      "text/markdown": [
       "\n",
       "A matrix: 6 × 5 of type chr\n",
       "\n",
       "| Gene_set | Gene_set_name | Score | p-value | FDR |\n",
       "|---|---|---|---|---|\n",
       "| 650 | GO:0006163 | -0.4718 | 0 | 0 |\n",
       "| 651 | GO:0006164 | -0.6723 | 0 | 0 |\n",
       "| 724 | GO:0006399 | -0.5715 | 0 | 0 |\n",
       "| 770 | GO:0006520 | -0.3463 | 0 | 0 |\n",
       "| 864 | GO:0006754 | -1.267  | 0 | 0 |\n",
       "| 981 | GO:0007006 | -0.6579 | 0 | 0 |\n",
       "\n"
      ],
      "text/plain": [
       "     Gene_set Gene_set_name Score   p-value FDR\n",
       "[1,] 650      GO:0006163    -0.4718 0       0  \n",
       "[2,] 651      GO:0006164    -0.6723 0       0  \n",
       "[3,] 724      GO:0006399    -0.5715 0       0  \n",
       "[4,] 770      GO:0006520    -0.3463 0       0  \n",
       "[5,] 864      GO:0006754    -1.267  0       0  \n",
       "[6,] 981      GO:0007006    -0.6579 0       0  "
      ]
     },
     "metadata": {},
     "output_type": "display_data"
    }
   ],
   "source": [
    "neg.table <- res$negative\n",
    "head(neg.table)"
   ]
  },
  {
   "cell_type": "markdown",
   "id": "c237dea8",
   "metadata": {},
   "source": [
    "A table of the positive gene sets. \"Positive\" means that higher expression of most genes in the gene set correlates with higher values of the phenotype y."
   ]
  },
  {
   "cell_type": "code",
   "execution_count": 48,
   "id": "e640ff47",
   "metadata": {},
   "outputs": [
    {
     "data": {
      "text/html": [
       "<table class=\"dataframe\">\n",
       "<caption>A matrix: 6 × 5 of type chr</caption>\n",
       "<thead>\n",
       "\t<tr><th scope=col>Gene_set</th><th scope=col>Gene_set_name</th><th scope=col>Score</th><th scope=col>p-value</th><th scope=col>FDR</th></tr>\n",
       "</thead>\n",
       "<tbody>\n",
       "\t<tr><td>114 </td><td>GO:0001649</td><td>0.2904</td><td>0</td><td>0</td></tr>\n",
       "\t<tr><td>123 </td><td>GO:0001666</td><td>0.2332</td><td>0</td><td>0</td></tr>\n",
       "\t<tr><td>168 </td><td>GO:0001822</td><td>0.2734</td><td>0</td><td>0</td></tr>\n",
       "\t<tr><td>178 </td><td>GO:0001838</td><td>0.3341</td><td>0</td><td>0</td></tr>\n",
       "\t<tr><td>1682</td><td>GO:0014013</td><td>0.4147</td><td>0</td><td>0</td></tr>\n",
       "\t<tr><td>1690</td><td>GO:0014044</td><td>0.7293</td><td>0</td><td>0</td></tr>\n",
       "</tbody>\n",
       "</table>\n"
      ],
      "text/latex": [
       "A matrix: 6 × 5 of type chr\n",
       "\\begin{tabular}{lllll}\n",
       " Gene\\_set & Gene\\_set\\_name & Score & p-value & FDR\\\\\n",
       "\\hline\n",
       "\t 114  & GO:0001649 & 0.2904 & 0 & 0\\\\\n",
       "\t 123  & GO:0001666 & 0.2332 & 0 & 0\\\\\n",
       "\t 168  & GO:0001822 & 0.2734 & 0 & 0\\\\\n",
       "\t 178  & GO:0001838 & 0.3341 & 0 & 0\\\\\n",
       "\t 1682 & GO:0014013 & 0.4147 & 0 & 0\\\\\n",
       "\t 1690 & GO:0014044 & 0.7293 & 0 & 0\\\\\n",
       "\\end{tabular}\n"
      ],
      "text/markdown": [
       "\n",
       "A matrix: 6 × 5 of type chr\n",
       "\n",
       "| Gene_set | Gene_set_name | Score | p-value | FDR |\n",
       "|---|---|---|---|---|\n",
       "| 114  | GO:0001649 | 0.2904 | 0 | 0 |\n",
       "| 123  | GO:0001666 | 0.2332 | 0 | 0 |\n",
       "| 168  | GO:0001822 | 0.2734 | 0 | 0 |\n",
       "| 178  | GO:0001838 | 0.3341 | 0 | 0 |\n",
       "| 1682 | GO:0014013 | 0.4147 | 0 | 0 |\n",
       "| 1690 | GO:0014044 | 0.7293 | 0 | 0 |\n",
       "\n"
      ],
      "text/plain": [
       "     Gene_set Gene_set_name Score  p-value FDR\n",
       "[1,] 114      GO:0001649    0.2904 0       0  \n",
       "[2,] 123      GO:0001666    0.2332 0       0  \n",
       "[3,] 168      GO:0001822    0.2734 0       0  \n",
       "[4,] 178      GO:0001838    0.3341 0       0  \n",
       "[5,] 1682     GO:0014013    0.4147 0       0  \n",
       "[6,] 1690     GO:0014044    0.7293 0       0  "
      ]
     },
     "metadata": {},
     "output_type": "display_data"
    }
   ],
   "source": [
    "pos.table <- res$positive\n",
    "head(pos.table)"
   ]
  },
  {
   "cell_type": "code",
   "execution_count": 49,
   "id": "79687f5d",
   "metadata": {
    "scrolled": true,
    "tags": []
   },
   "outputs": [
    {
     "data": {
      "text/html": [
       "<table class=\"dataframe\">\n",
       "<caption>A matrix: 0 × 2 of type dbl</caption>\n",
       "<thead>\n",
       "\t<tr><th scope=col>Gene</th><th scope=col>Score</th></tr>\n",
       "</thead>\n",
       "<tbody>\n",
       "</tbody>\n",
       "</table>\n"
      ],
      "text/latex": [
       "A matrix: 0 × 2 of type dbl\n",
       "\\begin{tabular}{ll}\n",
       " Gene & Score\\\\\n",
       "\\hline\n",
       "\\end{tabular}\n"
      ],
      "text/markdown": [
       "\n",
       "A matrix: 0 × 2 of type dbl\n",
       "\n",
       "| Gene | Score |\n",
       "|---|---|\n",
       "\n"
      ],
      "text/plain": [
       "     Gene Score"
      ]
     },
     "metadata": {},
     "output_type": "display_data"
    }
   ],
   "source": [
    "# Individual gene scores from a gene set analysis\n",
    "# look at 10th gene set\n",
    "GSA.genescores(geneset.number = 10, genesets = genesets, \n",
    "               GSA.obj = GSA.obj, genenames = GSA.obj$genenames)"
   ]
  },
  {
   "cell_type": "markdown",
   "id": "c77eafab-f0e9-4522-8306-496d91dec8d5",
   "metadata": {},
   "source": [
    "To use the `GSA.genescores` function, we need to pass the following arguments:\n",
    "\n",
    "- `geneset.number`: A number specifying which gene set is to be examined.\n",
    "- `genesets`: A list containing the gene set collection.\n",
    "- `GSA.obj`: A GSA object returned by the GSA function.\n",
    "- `genenames`: A vector containing gene names for genes in the expression dataset.\n",
    "\n",
    "The `GSA.genescores` returns a matrix of gene names and gene scores (eg t-statistics) for each gene in the gene set.\n"
   ]
  },
  {
   "cell_type": "code",
   "execution_count": 50,
   "id": "1cfde1f8",
   "metadata": {},
   "outputs": [
    {
     "data": {
      "image/png": "[encoded data removed]",
      "text/plain": [
       "plot without title"
      ]
     },
     "metadata": {
      "image/png": {
       "height": 420,
       "width": 420
      }
     },
     "output_type": "display_data"
    }
   ],
   "source": [
    "# Plot the result, this function makes a plot of the significant gene sets, based on a call to the GSA (Gene set analysis) function.\n",
    "suppressWarnings(GSA.plot(GSA.obj, fac = 1, FDRcut = 0.5))"
   ]
  },
  {
   "cell_type": "markdown",
   "id": "c2c644a4-e3c9-4ced-b343-78c64d6e9e16",
   "metadata": {},
   "source": [
    "To use the `GSA.plot` function, we need to pass the following arguments:\n",
    "\n",
    "- `GSA.obj`: A GSA object returned by the GSA function.\n",
    "- `fac`: A numeric value for jittering points in plot (\"factor\" in called to jitter()).\n",
    "- `FDRcut`: A numeric value specifying the false discovery rate cutpoint for sets to be plotted. A value of 1 (the default) will cause all sets to be plotted.\n",
    "\n"
   ]
  },
  {
   "cell_type": "markdown",
   "id": "7107ef92",
   "metadata": {},
   "source": [
    "### Enrichment Analysis using GSA and KEGG pathways\n",
    "We can use the same procedure to per enrichment analysis with the KEGG pathway. All the codes are similar but `genesets` are assigned from `KEGG_hallmark`. The code is shown below."
   ]
  },
  {
   "cell_type": "code",
   "execution_count": 51,
   "id": "361aff0b",
   "metadata": {
    "scrolled": true,
    "tags": []
   },
   "outputs": [
    {
     "name": "stdout",
     "output_type": "stream",
     "text": [
      "perm= 10 / 1000 \n",
      "perm= 20 / 1000 \n",
      "perm= 30 / 1000 \n",
      "perm= 40 / 1000 \n",
      "perm= 50 / 1000 \n",
      "perm= 60 / 1000 \n",
      "perm= 70 / 1000 \n",
      "perm= 80 / 1000 \n",
      "perm= 90 / 1000 \n",
      "perm= 100 / 1000 \n",
      "perm= 110 / 1000 \n",
      "perm= 120 / 1000 \n",
      "perm= 130 / 1000 \n",
      "perm= 140 / 1000 \n",
      "perm= 150 / 1000 \n",
      "perm= 160 / 1000 \n",
      "perm= 170 / 1000 \n",
      "perm= 180 / 1000 \n",
      "perm= 190 / 1000 \n",
      "perm= 200 / 1000 \n",
      "perm= 210 / 1000 \n",
      "perm= 220 / 1000 \n",
      "perm= 230 / 1000 \n",
      "perm= 240 / 1000 \n",
      "perm= 250 / 1000 \n",
      "perm= 260 / 1000 \n",
      "perm= 270 / 1000 \n",
      "perm= 280 / 1000 \n",
      "perm= 290 / 1000 \n",
      "perm= 300 / 1000 \n",
      "perm= 310 / 1000 \n",
      "perm= 320 / 1000 \n",
      "perm= 330 / 1000 \n",
      "perm= 340 / 1000 \n",
      "perm= 350 / 1000 \n",
      "perm= 360 / 1000 \n",
      "perm= 370 / 1000 \n",
      "perm= 380 / 1000 \n",
      "perm= 390 / 1000 \n",
      "perm= 400 / 1000 \n",
      "perm= 410 / 1000 \n",
      "perm= 420 / 1000 \n",
      "perm= 430 / 1000 \n",
      "perm= 440 / 1000 \n",
      "perm= 450 / 1000 \n",
      "perm= 460 / 1000 \n",
      "perm= 470 / 1000 \n",
      "perm= 480 / 1000 \n",
      "perm= 490 / 1000 \n",
      "perm= 500 / 1000 \n",
      "perm= 510 / 1000 \n",
      "perm= 520 / 1000 \n",
      "perm= 530 / 1000 \n",
      "perm= 540 / 1000 \n",
      "perm= 550 / 1000 \n",
      "perm= 560 / 1000 \n",
      "perm= 570 / 1000 \n",
      "perm= 580 / 1000 \n",
      "perm= 590 / 1000 \n",
      "perm= 600 / 1000 \n",
      "perm= 610 / 1000 \n",
      "perm= 620 / 1000 \n",
      "perm= 630 / 1000 \n",
      "perm= 640 / 1000 \n",
      "perm= 650 / 1000 \n",
      "perm= 660 / 1000 \n",
      "perm= 670 / 1000 \n",
      "perm= 680 / 1000 \n",
      "perm= 690 / 1000 \n",
      "perm= 700 / 1000 \n",
      "perm= 710 / 1000 \n",
      "perm= 720 / 1000 \n",
      "perm= 730 / 1000 \n",
      "perm= 740 / 1000 \n",
      "perm= 750 / 1000 \n",
      "perm= 760 / 1000 \n",
      "perm= 770 / 1000 \n",
      "perm= 780 / 1000 \n",
      "perm= 790 / 1000 \n",
      "perm= 800 / 1000 \n",
      "perm= 810 / 1000 \n",
      "perm= 820 / 1000 \n",
      "perm= 830 / 1000 \n",
      "perm= 840 / 1000 \n",
      "perm= 850 / 1000 \n",
      "perm= 860 / 1000 \n",
      "perm= 870 / 1000 \n",
      "perm= 880 / 1000 \n",
      "perm= 890 / 1000 \n",
      "perm= 900 / 1000 \n",
      "perm= 910 / 1000 \n",
      "perm= 920 / 1000 \n",
      "perm= 930 / 1000 \n",
      "perm= 940 / 1000 \n",
      "perm= 950 / 1000 \n",
      "perm= 960 / 1000 \n",
      "perm= 970 / 1000 \n",
      "perm= 980 / 1000 \n",
      "perm= 990 / 1000 \n",
      "perm= 1000 / 1000 \n"
     ]
    }
   ],
   "source": [
    "genesets <- KEGG_hallmark\n",
    "GSA_output <- runGSA(as.matrix(expression_data), genesets = genesets, as.numeric(groups), nperms = nperms)\n",
    "# Get GSA_result dataframe and GSA object from output of the runGSA function\n",
    "GSA_result <- GSA_output$GSA_res\n",
    "GSA.obj <- GSA_output$GSA.obj"
   ]
  },
  {
   "cell_type": "code",
   "execution_count": 52,
   "id": "76fd4be5-2607-47af-b271-0309430a29b6",
   "metadata": {},
   "outputs": [
    {
     "data": {
      "text/html": [
       "<table class=\"dataframe\">\n",
       "<caption>A data.frame: 6 × 4</caption>\n",
       "<thead>\n",
       "\t<tr><th></th><th scope=col>ID</th><th scope=col>p.value</th><th scope=col>score</th><th scope=col>normalizedScore</th></tr>\n",
       "\t<tr><th></th><th scope=col>&lt;chr&gt;</th><th scope=col>&lt;dbl&gt;</th><th scope=col>&lt;dbl&gt;</th><th scope=col>&lt;dbl&gt;</th></tr>\n",
       "</thead>\n",
       "<tbody>\n",
       "\t<tr><th scope=row>208</th><td>hsa04919</td><td>0.000</td><td> 0.2927360</td><td> 0.2927360</td></tr>\n",
       "\t<tr><th scope=row>293</th><td>hsa05165</td><td>0.000</td><td> 0.2114546</td><td> 0.2114546</td></tr>\n",
       "\t<tr><th scope=row>323</th><td>hsa05017</td><td>0.000</td><td>-0.6360607</td><td>-0.6360607</td></tr>\n",
       "\t<tr><th scope=row>89</th><td>hsa00970</td><td>0.002</td><td>-0.8201050</td><td>-0.8201050</td></tr>\n",
       "\t<tr><th scope=row>92</th><td>hsa03008</td><td>0.002</td><td>-0.5153641</td><td>-0.5153641</td></tr>\n",
       "\t<tr><th scope=row>98</th><td>hsa03050</td><td>0.002</td><td>-1.5573727</td><td>-1.5573727</td></tr>\n",
       "</tbody>\n",
       "</table>\n"
      ],
      "text/latex": [
       "A data.frame: 6 × 4\n",
       "\\begin{tabular}{r|llll}\n",
       "  & ID & p.value & score & normalizedScore\\\\\n",
       "  & <chr> & <dbl> & <dbl> & <dbl>\\\\\n",
       "\\hline\n",
       "\t208 & hsa04919 & 0.000 &  0.2927360 &  0.2927360\\\\\n",
       "\t293 & hsa05165 & 0.000 &  0.2114546 &  0.2114546\\\\\n",
       "\t323 & hsa05017 & 0.000 & -0.6360607 & -0.6360607\\\\\n",
       "\t89 & hsa00970 & 0.002 & -0.8201050 & -0.8201050\\\\\n",
       "\t92 & hsa03008 & 0.002 & -0.5153641 & -0.5153641\\\\\n",
       "\t98 & hsa03050 & 0.002 & -1.5573727 & -1.5573727\\\\\n",
       "\\end{tabular}\n"
      ],
      "text/markdown": [
       "\n",
       "A data.frame: 6 × 4\n",
       "\n",
       "| <!--/--> | ID &lt;chr&gt; | p.value &lt;dbl&gt; | score &lt;dbl&gt; | normalizedScore &lt;dbl&gt; |\n",
       "|---|---|---|---|---|\n",
       "| 208 | hsa04919 | 0.000 |  0.2927360 |  0.2927360 |\n",
       "| 293 | hsa05165 | 0.000 |  0.2114546 |  0.2114546 |\n",
       "| 323 | hsa05017 | 0.000 | -0.6360607 | -0.6360607 |\n",
       "| 89 | hsa00970 | 0.002 | -0.8201050 | -0.8201050 |\n",
       "| 92 | hsa03008 | 0.002 | -0.5153641 | -0.5153641 |\n",
       "| 98 | hsa03050 | 0.002 | -1.5573727 | -1.5573727 |\n",
       "\n"
      ],
      "text/plain": [
       "    ID       p.value score      normalizedScore\n",
       "208 hsa04919 0.000    0.2927360  0.2927360     \n",
       "293 hsa05165 0.000    0.2114546  0.2114546     \n",
       "323 hsa05017 0.000   -0.6360607 -0.6360607     \n",
       "89  hsa00970 0.002   -0.8201050 -0.8201050     \n",
       "92  hsa03008 0.002   -0.5153641 -0.5153641     \n",
       "98  hsa03050 0.002   -1.5573727 -1.5573727     "
      ]
     },
     "metadata": {},
     "output_type": "display_data"
    }
   ],
   "source": [
    "head(GSA_result[order(GSA_result$p.value), ])"
   ]
  },
  {
   "cell_type": "code",
   "execution_count": 53,
   "id": "00afb710",
   "metadata": {},
   "outputs": [],
   "source": [
    "# List the results from a GSA analysis\n",
    "res <- GSA.listsets(GSA.obj = GSA.obj, geneset.names = names(genesets), FDRcut = .5)"
   ]
  },
  {
   "cell_type": "markdown",
   "id": "e15cdae3",
   "metadata": {},
   "source": [
    "A table of the negative gene sets. \"Negative\" means that lower expression of most genes in the gene set correlates with higher values of the phenotype y. E.g., for two classes coded 1,2, lower expression correlates with class 2."
   ]
  },
  {
   "cell_type": "code",
   "execution_count": 54,
   "id": "c9e7aad4",
   "metadata": {},
   "outputs": [
    {
     "data": {
      "text/html": [
       "<table class=\"dataframe\">\n",
       "<caption>A matrix: 6 × 5 of type chr</caption>\n",
       "<thead>\n",
       "\t<tr><th scope=col>Gene_set</th><th scope=col>Gene_set_name</th><th scope=col>Score</th><th scope=col>p-value</th><th scope=col>FDR</th></tr>\n",
       "</thead>\n",
       "<tbody>\n",
       "\t<tr><td>323</td><td>hsa05017</td><td>-0.6361</td><td>0    </td><td>0     </td></tr>\n",
       "\t<tr><td>89 </td><td>hsa00970</td><td>-0.8201</td><td>0.001</td><td>0.0808</td></tr>\n",
       "\t<tr><td>92 </td><td>hsa03008</td><td>-0.5154</td><td>0.001</td><td>0.0808</td></tr>\n",
       "\t<tr><td>98 </td><td>hsa03050</td><td>-1.5574</td><td>0.001</td><td>0.0808</td></tr>\n",
       "\t<tr><td>2  </td><td>hsa00020</td><td>-1.0513</td><td>0.002</td><td>0.0923</td></tr>\n",
       "\t<tr><td>322</td><td>hsa05016</td><td>-0.7777</td><td>0.002</td><td>0.0923</td></tr>\n",
       "</tbody>\n",
       "</table>\n"
      ],
      "text/latex": [
       "A matrix: 6 × 5 of type chr\n",
       "\\begin{tabular}{lllll}\n",
       " Gene\\_set & Gene\\_set\\_name & Score & p-value & FDR\\\\\n",
       "\\hline\n",
       "\t 323 & hsa05017 & -0.6361 & 0     & 0     \\\\\n",
       "\t 89  & hsa00970 & -0.8201 & 0.001 & 0.0808\\\\\n",
       "\t 92  & hsa03008 & -0.5154 & 0.001 & 0.0808\\\\\n",
       "\t 98  & hsa03050 & -1.5574 & 0.001 & 0.0808\\\\\n",
       "\t 2   & hsa00020 & -1.0513 & 0.002 & 0.0923\\\\\n",
       "\t 322 & hsa05016 & -0.7777 & 0.002 & 0.0923\\\\\n",
       "\\end{tabular}\n"
      ],
      "text/markdown": [
       "\n",
       "A matrix: 6 × 5 of type chr\n",
       "\n",
       "| Gene_set | Gene_set_name | Score | p-value | FDR |\n",
       "|---|---|---|---|---|\n",
       "| 323 | hsa05017 | -0.6361 | 0     | 0      |\n",
       "| 89  | hsa00970 | -0.8201 | 0.001 | 0.0808 |\n",
       "| 92  | hsa03008 | -0.5154 | 0.001 | 0.0808 |\n",
       "| 98  | hsa03050 | -1.5574 | 0.001 | 0.0808 |\n",
       "| 2   | hsa00020 | -1.0513 | 0.002 | 0.0923 |\n",
       "| 322 | hsa05016 | -0.7777 | 0.002 | 0.0923 |\n",
       "\n"
      ],
      "text/plain": [
       "     Gene_set Gene_set_name Score   p-value FDR   \n",
       "[1,] 323      hsa05017      -0.6361 0       0     \n",
       "[2,] 89       hsa00970      -0.8201 0.001   0.0808\n",
       "[3,] 92       hsa03008      -0.5154 0.001   0.0808\n",
       "[4,] 98       hsa03050      -1.5574 0.001   0.0808\n",
       "[5,] 2        hsa00020      -1.0513 0.002   0.0923\n",
       "[6,] 322      hsa05016      -0.7777 0.002   0.0923"
      ]
     },
     "metadata": {},
     "output_type": "display_data"
    }
   ],
   "source": [
    "neg.table <- res$negative\n",
    "head(neg.table)"
   ]
  },
  {
   "cell_type": "markdown",
   "id": "e226ae92",
   "metadata": {},
   "source": [
    "A table of the positive gene sets. \"Positive\" means that higher expression of most genes in the gene set correlates with higher values of the phenotype y. See \"negative\" above for more info."
   ]
  },
  {
   "cell_type": "code",
   "execution_count": 55,
   "id": "bcd7ff3e",
   "metadata": {},
   "outputs": [
    {
     "data": {
      "text/html": [
       "<table class=\"dataframe\">\n",
       "<caption>A matrix: 6 × 5 of type chr</caption>\n",
       "<thead>\n",
       "\t<tr><th scope=col>Gene_set</th><th scope=col>Gene_set_name</th><th scope=col>Score</th><th scope=col>p-value</th><th scope=col>FDR</th></tr>\n",
       "</thead>\n",
       "<tbody>\n",
       "\t<tr><td>208</td><td>hsa04919</td><td>0.2927</td><td>0    </td><td>0     </td></tr>\n",
       "\t<tr><td>293</td><td>hsa05165</td><td>0.2115</td><td>0    </td><td>0     </td></tr>\n",
       "\t<tr><td>124</td><td>hsa04350</td><td>0.3973</td><td>0.001</td><td>0.1077</td></tr>\n",
       "\t<tr><td>256</td><td>hsa05206</td><td>0.3308</td><td>0.002</td><td>0.1615</td></tr>\n",
       "\t<tr><td>166</td><td>hsa04530</td><td>0.2212</td><td>0.004</td><td>0.1846</td></tr>\n",
       "\t<tr><td>196</td><td>hsa04920</td><td>0.3445</td><td>0.004</td><td>0.1846</td></tr>\n",
       "</tbody>\n",
       "</table>\n"
      ],
      "text/latex": [
       "A matrix: 6 × 5 of type chr\n",
       "\\begin{tabular}{lllll}\n",
       " Gene\\_set & Gene\\_set\\_name & Score & p-value & FDR\\\\\n",
       "\\hline\n",
       "\t 208 & hsa04919 & 0.2927 & 0     & 0     \\\\\n",
       "\t 293 & hsa05165 & 0.2115 & 0     & 0     \\\\\n",
       "\t 124 & hsa04350 & 0.3973 & 0.001 & 0.1077\\\\\n",
       "\t 256 & hsa05206 & 0.3308 & 0.002 & 0.1615\\\\\n",
       "\t 166 & hsa04530 & 0.2212 & 0.004 & 0.1846\\\\\n",
       "\t 196 & hsa04920 & 0.3445 & 0.004 & 0.1846\\\\\n",
       "\\end{tabular}\n"
      ],
      "text/markdown": [
       "\n",
       "A matrix: 6 × 5 of type chr\n",
       "\n",
       "| Gene_set | Gene_set_name | Score | p-value | FDR |\n",
       "|---|---|---|---|---|\n",
       "| 208 | hsa04919 | 0.2927 | 0     | 0      |\n",
       "| 293 | hsa05165 | 0.2115 | 0     | 0      |\n",
       "| 124 | hsa04350 | 0.3973 | 0.001 | 0.1077 |\n",
       "| 256 | hsa05206 | 0.3308 | 0.002 | 0.1615 |\n",
       "| 166 | hsa04530 | 0.2212 | 0.004 | 0.1846 |\n",
       "| 196 | hsa04920 | 0.3445 | 0.004 | 0.1846 |\n",
       "\n"
      ],
      "text/plain": [
       "     Gene_set Gene_set_name Score  p-value FDR   \n",
       "[1,] 208      hsa04919      0.2927 0       0     \n",
       "[2,] 293      hsa05165      0.2115 0       0     \n",
       "[3,] 124      hsa04350      0.3973 0.001   0.1077\n",
       "[4,] 256      hsa05206      0.3308 0.002   0.1615\n",
       "[5,] 166      hsa04530      0.2212 0.004   0.1846\n",
       "[6,] 196      hsa04920      0.3445 0.004   0.1846"
      ]
     },
     "metadata": {},
     "output_type": "display_data"
    }
   ],
   "source": [
    "pos.table <- res$positive\n",
    "head(pos.table)"
   ]
  },
  {
   "cell_type": "code",
   "execution_count": 56,
   "id": "0d676c13",
   "metadata": {
    "scrolled": true,
    "tags": []
   },
   "outputs": [
    {
     "data": {
      "text/html": [
       "<table class=\"dataframe\">\n",
       "<caption>A matrix: 0 × 2 of type dbl</caption>\n",
       "<thead>\n",
       "\t<tr><th scope=col>Gene</th><th scope=col>Score</th></tr>\n",
       "</thead>\n",
       "<tbody>\n",
       "</tbody>\n",
       "</table>\n"
      ],
      "text/latex": [
       "A matrix: 0 × 2 of type dbl\n",
       "\\begin{tabular}{ll}\n",
       " Gene & Score\\\\\n",
       "\\hline\n",
       "\\end{tabular}\n"
      ],
      "text/markdown": [
       "\n",
       "A matrix: 0 × 2 of type dbl\n",
       "\n",
       "| Gene | Score |\n",
       "|---|---|\n",
       "\n"
      ],
      "text/plain": [
       "     Gene Score"
      ]
     },
     "metadata": {},
     "output_type": "display_data"
    }
   ],
   "source": [
    "# Individual gene scores from a gene set analysis\n",
    "# look at 10th gene set\n",
    "GSA.genescores(geneset.number = 10, genesets = genesets, \n",
    "               GSA.obj = GSA.obj, genenames = GSA.obj$genenames)"
   ]
  },
  {
   "cell_type": "code",
   "execution_count": 57,
   "id": "2284bc1f",
   "metadata": {},
   "outputs": [
    {
     "data": {
      "image/png": "[encoded data removed]",
      "text/plain": [
       "plot without title"
      ]
     },
     "metadata": {
      "image/png": {
       "height": 420,
       "width": 420
      }
     },
     "output_type": "display_data"
    }
   ],
   "source": [
    "# Plot the result, this function makes a plot of the significant gene sets, based on a call to the GSA (Gene set analysis) function.\n",
    "suppressWarnings(GSA.plot(GSA.obj, fac = 1, FDRcut = 0.5))\n"
   ]
  },
  {
   "cell_type": "markdown",
   "id": "57c8b700-fe1f-40f0-b96e-97d3eedda337",
   "metadata": {},
   "source": [
    "### Enrichment Analysis using GSA and REACTOME pathways\n",
    "We can use the same procedure to per enrichment analysis with the REACTOME pathway. All the codes are similar but `genesets` are assigned from `REACTOME_hallmark`. The code is shown below."
   ]
  },
  {
   "cell_type": "code",
   "execution_count": 58,
   "id": "9f64fdfa-b967-4290-abe3-64e3d4487f58",
   "metadata": {
    "scrolled": true
   },
   "outputs": [
    {
     "name": "stdout",
     "output_type": "stream",
     "text": [
      "perm= 10 / 1000 \n",
      "perm= 20 / 1000 \n",
      "perm= 30 / 1000 \n",
      "perm= 40 / 1000 \n",
      "perm= 50 / 1000 \n",
      "perm= 60 / 1000 \n",
      "perm= 70 / 1000 \n",
      "perm= 80 / 1000 \n",
      "perm= 90 / 1000 \n",
      "perm= 100 / 1000 \n",
      "perm= 110 / 1000 \n",
      "perm= 120 / 1000 \n",
      "perm= 130 / 1000 \n",
      "perm= 140 / 1000 \n",
      "perm= 150 / 1000 \n",
      "perm= 160 / 1000 \n",
      "perm= 170 / 1000 \n",
      "perm= 180 / 1000 \n",
      "perm= 190 / 1000 \n",
      "perm= 200 / 1000 \n",
      "perm= 210 / 1000 \n",
      "perm= 220 / 1000 \n",
      "perm= 230 / 1000 \n",
      "perm= 240 / 1000 \n",
      "perm= 250 / 1000 \n",
      "perm= 260 / 1000 \n",
      "perm= 270 / 1000 \n",
      "perm= 280 / 1000 \n",
      "perm= 290 / 1000 \n",
      "perm= 300 / 1000 \n",
      "perm= 310 / 1000 \n",
      "perm= 320 / 1000 \n",
      "perm= 330 / 1000 \n",
      "perm= 340 / 1000 \n",
      "perm= 350 / 1000 \n",
      "perm= 360 / 1000 \n",
      "perm= 370 / 1000 \n",
      "perm= 380 / 1000 \n",
      "perm= 390 / 1000 \n",
      "perm= 400 / 1000 \n",
      "perm= 410 / 1000 \n",
      "perm= 420 / 1000 \n",
      "perm= 430 / 1000 \n",
      "perm= 440 / 1000 \n",
      "perm= 450 / 1000 \n",
      "perm= 460 / 1000 \n",
      "perm= 470 / 1000 \n",
      "perm= 480 / 1000 \n",
      "perm= 490 / 1000 \n",
      "perm= 500 / 1000 \n",
      "perm= 510 / 1000 \n",
      "perm= 520 / 1000 \n",
      "perm= 530 / 1000 \n",
      "perm= 540 / 1000 \n",
      "perm= 550 / 1000 \n",
      "perm= 560 / 1000 \n",
      "perm= 570 / 1000 \n",
      "perm= 580 / 1000 \n",
      "perm= 590 / 1000 \n",
      "perm= 600 / 1000 \n",
      "perm= 610 / 1000 \n",
      "perm= 620 / 1000 \n",
      "perm= 630 / 1000 \n",
      "perm= 640 / 1000 \n",
      "perm= 650 / 1000 \n",
      "perm= 660 / 1000 \n",
      "perm= 670 / 1000 \n",
      "perm= 680 / 1000 \n",
      "perm= 690 / 1000 \n",
      "perm= 700 / 1000 \n",
      "perm= 710 / 1000 \n",
      "perm= 720 / 1000 \n",
      "perm= 730 / 1000 \n",
      "perm= 740 / 1000 \n",
      "perm= 750 / 1000 \n",
      "perm= 760 / 1000 \n",
      "perm= 770 / 1000 \n",
      "perm= 780 / 1000 \n",
      "perm= 790 / 1000 \n",
      "perm= 800 / 1000 \n",
      "perm= 810 / 1000 \n",
      "perm= 820 / 1000 \n",
      "perm= 830 / 1000 \n",
      "perm= 840 / 1000 \n",
      "perm= 850 / 1000 \n",
      "perm= 860 / 1000 \n",
      "perm= 870 / 1000 \n",
      "perm= 880 / 1000 \n",
      "perm= 890 / 1000 \n",
      "perm= 900 / 1000 \n",
      "perm= 910 / 1000 \n",
      "perm= 920 / 1000 \n",
      "perm= 930 / 1000 \n",
      "perm= 940 / 1000 \n",
      "perm= 950 / 1000 \n",
      "perm= 960 / 1000 \n",
      "perm= 970 / 1000 \n",
      "perm= 980 / 1000 \n",
      "perm= 990 / 1000 \n",
      "perm= 1000 / 1000 \n"
     ]
    }
   ],
   "source": [
    "genesets <- REACTOME_hallmark\n",
    "GSA_output <- runGSA(as.matrix(expression_data), genesets = genesets, as.numeric(groups), nperms = nperms)\n",
    "# Get GSA_result dataframe and GSA object from output of the runGSA function\n",
    "GSA_result <- GSA_output$GSA_res\n",
    "GSA.obj <- GSA_output$GSA.obj"
   ]
  },
  {
   "cell_type": "code",
   "execution_count": 59,
   "id": "99aecfa8-ff7b-40af-b0a7-ba3fc914e71d",
   "metadata": {},
   "outputs": [
    {
     "data": {
      "text/html": [
       "<table class=\"dataframe\">\n",
       "<caption>A data.frame: 6 × 4</caption>\n",
       "<thead>\n",
       "\t<tr><th></th><th scope=col>ID</th><th scope=col>p.value</th><th scope=col>score</th><th scope=col>normalizedScore</th></tr>\n",
       "\t<tr><th></th><th scope=col>&lt;chr&gt;</th><th scope=col>&lt;dbl&gt;</th><th scope=col>&lt;dbl&gt;</th><th scope=col>&lt;dbl&gt;</th></tr>\n",
       "</thead>\n",
       "<tbody>\n",
       "\t<tr><th scope=row>12</th><td>R-HSA-68949 </td><td>0</td><td>-0.9963624</td><td>-0.9963624</td></tr>\n",
       "\t<tr><th scope=row>17</th><td>R-HSA-69052 </td><td>0</td><td>-0.7561771</td><td>-0.7561771</td></tr>\n",
       "\t<tr><th scope=row>33</th><td>R-HSA-69275 </td><td>0</td><td>-0.5155144</td><td>-0.5155144</td></tr>\n",
       "\t<tr><th scope=row>146</th><td>R-HSA-75815 </td><td>0</td><td>-1.2151492</td><td>-1.2151492</td></tr>\n",
       "\t<tr><th scope=row>464</th><td>R-HSA-180534</td><td>0</td><td>-1.2363423</td><td>-1.2363423</td></tr>\n",
       "\t<tr><th scope=row>646</th><td>R-HSA-349425</td><td>0</td><td>-1.2271178</td><td>-1.2271178</td></tr>\n",
       "</tbody>\n",
       "</table>\n"
      ],
      "text/latex": [
       "A data.frame: 6 × 4\n",
       "\\begin{tabular}{r|llll}\n",
       "  & ID & p.value & score & normalizedScore\\\\\n",
       "  & <chr> & <dbl> & <dbl> & <dbl>\\\\\n",
       "\\hline\n",
       "\t12 & R-HSA-68949  & 0 & -0.9963624 & -0.9963624\\\\\n",
       "\t17 & R-HSA-69052  & 0 & -0.7561771 & -0.7561771\\\\\n",
       "\t33 & R-HSA-69275  & 0 & -0.5155144 & -0.5155144\\\\\n",
       "\t146 & R-HSA-75815  & 0 & -1.2151492 & -1.2151492\\\\\n",
       "\t464 & R-HSA-180534 & 0 & -1.2363423 & -1.2363423\\\\\n",
       "\t646 & R-HSA-349425 & 0 & -1.2271178 & -1.2271178\\\\\n",
       "\\end{tabular}\n"
      ],
      "text/markdown": [
       "\n",
       "A data.frame: 6 × 4\n",
       "\n",
       "| <!--/--> | ID &lt;chr&gt; | p.value &lt;dbl&gt; | score &lt;dbl&gt; | normalizedScore &lt;dbl&gt; |\n",
       "|---|---|---|---|---|\n",
       "| 12 | R-HSA-68949  | 0 | -0.9963624 | -0.9963624 |\n",
       "| 17 | R-HSA-69052  | 0 | -0.7561771 | -0.7561771 |\n",
       "| 33 | R-HSA-69275  | 0 | -0.5155144 | -0.5155144 |\n",
       "| 146 | R-HSA-75815  | 0 | -1.2151492 | -1.2151492 |\n",
       "| 464 | R-HSA-180534 | 0 | -1.2363423 | -1.2363423 |\n",
       "| 646 | R-HSA-349425 | 0 | -1.2271178 | -1.2271178 |\n",
       "\n"
      ],
      "text/plain": [
       "    ID           p.value score      normalizedScore\n",
       "12  R-HSA-68949  0       -0.9963624 -0.9963624     \n",
       "17  R-HSA-69052  0       -0.7561771 -0.7561771     \n",
       "33  R-HSA-69275  0       -0.5155144 -0.5155144     \n",
       "146 R-HSA-75815  0       -1.2151492 -1.2151492     \n",
       "464 R-HSA-180534 0       -1.2363423 -1.2363423     \n",
       "646 R-HSA-349425 0       -1.2271178 -1.2271178     "
      ]
     },
     "metadata": {},
     "output_type": "display_data"
    }
   ],
   "source": [
    "head(GSA_result[order(GSA_result$p.value), ])\n"
   ]
  },
  {
   "cell_type": "code",
   "execution_count": 60,
   "id": "f47bfccc-ee95-4c5c-80df-a5233c3b82db",
   "metadata": {},
   "outputs": [],
   "source": [
    "# List the results from a GSA analysis\n",
    "res <- GSA.listsets(GSA.obj = GSA.obj, geneset.names = names(genesets), FDRcut = .5)"
   ]
  },
  {
   "cell_type": "code",
   "execution_count": 61,
   "id": "af79ff82-2352-4a01-9146-77318039a5bc",
   "metadata": {},
   "outputs": [
    {
     "data": {
      "text/html": [
       "<table class=\"dataframe\">\n",
       "<caption>A matrix: 6 × 5 of type chr</caption>\n",
       "<thead>\n",
       "\t<tr><th scope=col>Gene_set</th><th scope=col>Gene_set_name</th><th scope=col>Score</th><th scope=col>p-value</th><th scope=col>FDR</th></tr>\n",
       "</thead>\n",
       "<tbody>\n",
       "\t<tr><td>12 </td><td>R-HSA-68949 </td><td>-0.9964</td><td>0</td><td>0</td></tr>\n",
       "\t<tr><td>17 </td><td>R-HSA-69052 </td><td>-0.7562</td><td>0</td><td>0</td></tr>\n",
       "\t<tr><td>33 </td><td>R-HSA-69275 </td><td>-0.5155</td><td>0</td><td>0</td></tr>\n",
       "\t<tr><td>146</td><td>R-HSA-75815 </td><td>-1.2151</td><td>0</td><td>0</td></tr>\n",
       "\t<tr><td>464</td><td>R-HSA-180534</td><td>-1.2363</td><td>0</td><td>0</td></tr>\n",
       "\t<tr><td>646</td><td>R-HSA-349425</td><td>-1.2271</td><td>0</td><td>0</td></tr>\n",
       "</tbody>\n",
       "</table>\n"
      ],
      "text/latex": [
       "A matrix: 6 × 5 of type chr\n",
       "\\begin{tabular}{lllll}\n",
       " Gene\\_set & Gene\\_set\\_name & Score & p-value & FDR\\\\\n",
       "\\hline\n",
       "\t 12  & R-HSA-68949  & -0.9964 & 0 & 0\\\\\n",
       "\t 17  & R-HSA-69052  & -0.7562 & 0 & 0\\\\\n",
       "\t 33  & R-HSA-69275  & -0.5155 & 0 & 0\\\\\n",
       "\t 146 & R-HSA-75815  & -1.2151 & 0 & 0\\\\\n",
       "\t 464 & R-HSA-180534 & -1.2363 & 0 & 0\\\\\n",
       "\t 646 & R-HSA-349425 & -1.2271 & 0 & 0\\\\\n",
       "\\end{tabular}\n"
      ],
      "text/markdown": [
       "\n",
       "A matrix: 6 × 5 of type chr\n",
       "\n",
       "| Gene_set | Gene_set_name | Score | p-value | FDR |\n",
       "|---|---|---|---|---|\n",
       "| 12  | R-HSA-68949  | -0.9964 | 0 | 0 |\n",
       "| 17  | R-HSA-69052  | -0.7562 | 0 | 0 |\n",
       "| 33  | R-HSA-69275  | -0.5155 | 0 | 0 |\n",
       "| 146 | R-HSA-75815  | -1.2151 | 0 | 0 |\n",
       "| 464 | R-HSA-180534 | -1.2363 | 0 | 0 |\n",
       "| 646 | R-HSA-349425 | -1.2271 | 0 | 0 |\n",
       "\n"
      ],
      "text/plain": [
       "     Gene_set Gene_set_name Score   p-value FDR\n",
       "[1,] 12       R-HSA-68949   -0.9964 0       0  \n",
       "[2,] 17       R-HSA-69052   -0.7562 0       0  \n",
       "[3,] 33       R-HSA-69275   -0.5155 0       0  \n",
       "[4,] 146      R-HSA-75815   -1.2151 0       0  \n",
       "[5,] 464      R-HSA-180534  -1.2363 0       0  \n",
       "[6,] 646      R-HSA-349425  -1.2271 0       0  "
      ]
     },
     "metadata": {},
     "output_type": "display_data"
    }
   ],
   "source": [
    "neg.table <- res$negative\n",
    "head(neg.table)"
   ]
  },
  {
   "cell_type": "code",
   "execution_count": 62,
   "id": "e84d66dd-c9c9-48a8-b2cb-80b373e43648",
   "metadata": {},
   "outputs": [
    {
     "data": {
      "text/html": [
       "<table class=\"dataframe\">\n",
       "<caption>A matrix: 6 × 5 of type chr</caption>\n",
       "<thead>\n",
       "\t<tr><th scope=col>Gene_set</th><th scope=col>Gene_set_name</th><th scope=col>Score</th><th scope=col>p-value</th><th scope=col>FDR</th></tr>\n",
       "</thead>\n",
       "<tbody>\n",
       "\t<tr><td>647 </td><td>R-HSA-350054 </td><td>1.0291</td><td>0</td><td>0</td></tr>\n",
       "\t<tr><td>1181</td><td>R-HSA-1912399</td><td>1.8034</td><td>0</td><td>0</td></tr>\n",
       "\t<tr><td>1734</td><td>R-HSA-5633008</td><td>0.7252</td><td>0</td><td>0</td></tr>\n",
       "\t<tr><td>1933</td><td>R-HSA-6803207</td><td>1.6304</td><td>0</td><td>0</td></tr>\n",
       "\t<tr><td>1943</td><td>R-HSA-6804758</td><td>0.679 </td><td>0</td><td>0</td></tr>\n",
       "\t<tr><td>2159</td><td>R-HSA-9013406</td><td>0.5936</td><td>0</td><td>0</td></tr>\n",
       "</tbody>\n",
       "</table>\n"
      ],
      "text/latex": [
       "A matrix: 6 × 5 of type chr\n",
       "\\begin{tabular}{lllll}\n",
       " Gene\\_set & Gene\\_set\\_name & Score & p-value & FDR\\\\\n",
       "\\hline\n",
       "\t 647  & R-HSA-350054  & 1.0291 & 0 & 0\\\\\n",
       "\t 1181 & R-HSA-1912399 & 1.8034 & 0 & 0\\\\\n",
       "\t 1734 & R-HSA-5633008 & 0.7252 & 0 & 0\\\\\n",
       "\t 1933 & R-HSA-6803207 & 1.6304 & 0 & 0\\\\\n",
       "\t 1943 & R-HSA-6804758 & 0.679  & 0 & 0\\\\\n",
       "\t 2159 & R-HSA-9013406 & 0.5936 & 0 & 0\\\\\n",
       "\\end{tabular}\n"
      ],
      "text/markdown": [
       "\n",
       "A matrix: 6 × 5 of type chr\n",
       "\n",
       "| Gene_set | Gene_set_name | Score | p-value | FDR |\n",
       "|---|---|---|---|---|\n",
       "| 647  | R-HSA-350054  | 1.0291 | 0 | 0 |\n",
       "| 1181 | R-HSA-1912399 | 1.8034 | 0 | 0 |\n",
       "| 1734 | R-HSA-5633008 | 0.7252 | 0 | 0 |\n",
       "| 1933 | R-HSA-6803207 | 1.6304 | 0 | 0 |\n",
       "| 1943 | R-HSA-6804758 | 0.679  | 0 | 0 |\n",
       "| 2159 | R-HSA-9013406 | 0.5936 | 0 | 0 |\n",
       "\n"
      ],
      "text/plain": [
       "     Gene_set Gene_set_name Score  p-value FDR\n",
       "[1,] 647      R-HSA-350054  1.0291 0       0  \n",
       "[2,] 1181     R-HSA-1912399 1.8034 0       0  \n",
       "[3,] 1734     R-HSA-5633008 0.7252 0       0  \n",
       "[4,] 1933     R-HSA-6803207 1.6304 0       0  \n",
       "[5,] 1943     R-HSA-6804758 0.679  0       0  \n",
       "[6,] 2159     R-HSA-9013406 0.5936 0       0  "
      ]
     },
     "metadata": {},
     "output_type": "display_data"
    }
   ],
   "source": [
    "pos.table <- res$positive\n",
    "head(pos.table)"
   ]
  },
  {
   "cell_type": "code",
   "execution_count": 63,
   "id": "3700db02-950e-4f26-9682-233edf803d5b",
   "metadata": {
    "scrolled": true
   },
   "outputs": [
    {
     "data": {
      "text/html": [
       "<table class=\"dataframe\">\n",
       "<caption>A matrix: 0 × 2 of type dbl</caption>\n",
       "<thead>\n",
       "\t<tr><th scope=col>Gene</th><th scope=col>Score</th></tr>\n",
       "</thead>\n",
       "<tbody>\n",
       "</tbody>\n",
       "</table>\n"
      ],
      "text/latex": [
       "A matrix: 0 × 2 of type dbl\n",
       "\\begin{tabular}{ll}\n",
       " Gene & Score\\\\\n",
       "\\hline\n",
       "\\end{tabular}\n"
      ],
      "text/markdown": [
       "\n",
       "A matrix: 0 × 2 of type dbl\n",
       "\n",
       "| Gene | Score |\n",
       "|---|---|\n",
       "\n"
      ],
      "text/plain": [
       "     Gene Score"
      ]
     },
     "metadata": {},
     "output_type": "display_data"
    }
   ],
   "source": [
    "# Individual gene scores from a gene set analysis\n",
    "# look at 10th gene set\n",
    "GSA.genescores(geneset.number = 10, genesets = genesets, \n",
    "               GSA.obj = GSA.obj, genenames = GSA.obj$genenames)"
   ]
  },
  {
   "cell_type": "code",
   "execution_count": 64,
   "id": "dfcb5446-3ef1-4825-aad1-5cd331945c76",
   "metadata": {},
   "outputs": [
    {
     "data": {
      "image/png": "[encoded data removed]",
      "text/plain": [
       "plot without title"
      ]
     },
     "metadata": {
      "image/png": {
       "height": 420,
       "width": 420
      }
     },
     "output_type": "display_data"
    }
   ],
   "source": [
    "# Plot the result, this function makes a plot of the significant gene sets, based on a call to the GSA (Gene set analysis) function.\n",
    "suppressWarnings(GSA.plot(GSA.obj, fac = 1, FDRcut = 0.5))\n"
   ]
  },
  {
   "cell_type": "markdown",
   "id": "3abc3624-f0a4-4f47-a396-998876d1626e",
   "metadata": {},
   "source": [
    "<!-- headings -->\n",
    "<a id=\"safe-main\"></a>\n",
    "## 6. Enrichment Analysis using SAFE\n",
    "\n",
    "\n",
    "Similar to the CAMERA method, the Significance Analysis of Function and Expression (SAFE) method also has two stages. First, it calculates local statistics to measure the significance of each gene's association in the dataset, using tests like the Student’s t-test, Welch’s t-test, t-statistic from a linear model, etc. In the second stage, it computes global statistics to assess the significance of a competitive hypothesis test for each gene set or pathway. These global statistics, including Wilcoxon rank sum, Fisher’s Exact Test, Pearson’s Chi-squared type statistic, and a t-statistic for average difference, help compare various gene sets. To control the false positives rate, SAFE uses permutation of class labels.\n",
    "\n",
    "We can use the function `safe` from the bioconductor `safe` package to perform EA using this method. We first need to install and import the required packages."
   ]
  },
  {
   "cell_type": "code",
   "execution_count": 73,
   "id": "fd189651-f6ce-40f3-96a8-429f9f47e764",
   "metadata": {},
   "outputs": [],
   "source": [
    "# Install and import safe \n",
    "suppressWarnings({\n",
    "    suppressMessages({\n",
    "        if (!require(\"BiocManager\", quietly = TRUE))\n",
    "            install.packages(\"BiocManager\")\n",
    "        \n",
    "        BiocManager::install(\"safe\")\n",
    "        \n",
    "        library(safe)\n",
    "        library(hgu133plus2.db)\n",
    "    })\n",
    "})\n",
    "\n",
    "nperms <- 1000"
   ]
  },
  {
   "cell_type": "markdown",
   "id": "e83d840a-f287-4fbc-905d-155213c70f92",
   "metadata": {},
   "source": [
    "The `runSAFE` function below requires a gene expression matrix, a list of gene sets, and the group information of the expression matrix. It utilizes the `getCmatrix` and `safe` functions to perform enrichment analysis using the SAFE method. The `getCmatrix` function creates a matrix from a genes list of a dataset and a list of gene sets. This matrix will be used as an input of the `safe` function. "
   ]
  },
  {
   "cell_type": "code",
   "execution_count": 74,
   "id": "fcddfa69-e48a-426f-bfb8-908448f0919c",
   "metadata": {},
   "outputs": [],
   "source": [
    "#' @description This function performs enrichment analysis using the SAFE method.\n",
    "#'\n",
    "#' @param exprsData A numeric matrix or a matrix-like object containing gene expression data. Rows represent genes, columns represent samples.\n",
    "#' @param genesets A list of gene sets to be analyzed.\n",
    "#' @param groups A factor indicating sample groups.\n",
    "#' @param nperms An integer specifying the number of permutations for assessing significance (default is 1000).\n",
    "#' @param seed An integer specifying a seed for reproducibility of permutation results (default is 1).\n",
    "#'\n",
    "#' @return A data frame containing pathway IDs and corresponding p-values.\n",
    "runSAFE <- function(exprsData, geneSet, groups, nperms = 1000, seed = 42) { \n",
    "    set.seed(seed)\n",
    "    # Create the C matrix from the list of gene sets and list of gene IDs in the expression data\n",
    "    C.mat2<- getCmatrix(keyword.list = geneSet, present.genes = rownames(exprsData))\n",
    "    # Perform enrichment analysis using the safe function\n",
    "    results<- safe(as.matrix(exprsData), groups, C.mat = C.mat2, \n",
    "                   platform = \"hgu133plus2.db\", Pi.mat = nperms, \n",
    "                   print.it =FALSE)\n",
    "    # Extract the analysis result\n",
    "    res <- safe.toptable(results, number = length(geneset))\n",
    "    return(res)\n",
    "}"
   ]
  },
  {
   "cell_type": "markdown",
   "id": "a451afb4-a1b9-426b-a968-0068a284b1bf",
   "metadata": {},
   "source": [
    "### Enrichment Analysis using SAFE and GO terms \n",
    "We can perform SAFE enrichment analysis with GO terms using the following commands."
   ]
  },
  {
   "cell_type": "code",
   "execution_count": 75,
   "id": "e2b60576-f6ee-4f90-b147-9219dc89304c",
   "metadata": {},
   "outputs": [
    {
     "name": "stdout",
     "output_type": "stream",
     "text": [
      "6938 categories formed\n",
      "Warning: y.vec is not (0,1), thus Group 1 == c \n"
     ]
    },
    {
     "name": "stderr",
     "output_type": "stream",
     "text": [
      "Loading required package: GO.db\n",
      "\n",
      "\n",
      "\n"
     ]
    },
    {
     "data": {
      "text/html": [
       "<table class=\"dataframe\">\n",
       "<caption>A data.frame: 6 × 6</caption>\n",
       "<thead>\n",
       "\t<tr><th></th><th scope=col>GenesetID</th><th scope=col>Size</th><th scope=col>Statistic</th><th scope=col>P.value</th><th scope=col>Adj.p.value</th><th scope=col>Description</th></tr>\n",
       "\t<tr><th></th><th scope=col>&lt;chr&gt;</th><th scope=col>&lt;dbl&gt;</th><th scope=col>&lt;dbl&gt;</th><th scope=col>&lt;chr&gt;</th><th scope=col>&lt;chr&gt;</th><th scope=col>&lt;chr&gt;</th></tr>\n",
       "</thead>\n",
       "<tbody>\n",
       "\t<tr><th scope=row>1</th><td>GO:0008150</td><td>16607</td><td>192914032</td><td>0.001</td><td>0.0263</td><td>biological_process                 </td></tr>\n",
       "\t<tr><th scope=row>2</th><td>GO:0009987</td><td>15533</td><td>181224552</td><td>0.001</td><td>0.0263</td><td>cellular process                   </td></tr>\n",
       "\t<tr><th scope=row>3</th><td>GO:0065007</td><td>11519</td><td>132810292</td><td>0.001</td><td>0.0263</td><td>biological regulation              </td></tr>\n",
       "\t<tr><th scope=row>4</th><td>GO:0008152</td><td>10947</td><td>130302948</td><td>0.001</td><td>0.0263</td><td>metabolic process                  </td></tr>\n",
       "\t<tr><th scope=row>5</th><td>GO:0050789</td><td>11133</td><td>128366379</td><td>0.001</td><td>0.0263</td><td>regulation of biological process   </td></tr>\n",
       "\t<tr><th scope=row>6</th><td>GO:0071704</td><td>10471</td><td>124357436</td><td>0.001</td><td>0.0263</td><td>organic substance metabolic process</td></tr>\n",
       "</tbody>\n",
       "</table>\n"
      ],
      "text/latex": [
       "A data.frame: 6 × 6\n",
       "\\begin{tabular}{r|llllll}\n",
       "  & GenesetID & Size & Statistic & P.value & Adj.p.value & Description\\\\\n",
       "  & <chr> & <dbl> & <dbl> & <chr> & <chr> & <chr>\\\\\n",
       "\\hline\n",
       "\t1 & GO:0008150 & 16607 & 192914032 & 0.001 & 0.0263 & biological\\_process                 \\\\\n",
       "\t2 & GO:0009987 & 15533 & 181224552 & 0.001 & 0.0263 & cellular process                   \\\\\n",
       "\t3 & GO:0065007 & 11519 & 132810292 & 0.001 & 0.0263 & biological regulation              \\\\\n",
       "\t4 & GO:0008152 & 10947 & 130302948 & 0.001 & 0.0263 & metabolic process                  \\\\\n",
       "\t5 & GO:0050789 & 11133 & 128366379 & 0.001 & 0.0263 & regulation of biological process   \\\\\n",
       "\t6 & GO:0071704 & 10471 & 124357436 & 0.001 & 0.0263 & organic substance metabolic process\\\\\n",
       "\\end{tabular}\n"
      ],
      "text/markdown": [
       "\n",
       "A data.frame: 6 × 6\n",
       "\n",
       "| <!--/--> | GenesetID &lt;chr&gt; | Size &lt;dbl&gt; | Statistic &lt;dbl&gt; | P.value &lt;chr&gt; | Adj.p.value &lt;chr&gt; | Description &lt;chr&gt; |\n",
       "|---|---|---|---|---|---|---|\n",
       "| 1 | GO:0008150 | 16607 | 192914032 | 0.001 | 0.0263 | biological_process                  |\n",
       "| 2 | GO:0009987 | 15533 | 181224552 | 0.001 | 0.0263 | cellular process                    |\n",
       "| 3 | GO:0065007 | 11519 | 132810292 | 0.001 | 0.0263 | biological regulation               |\n",
       "| 4 | GO:0008152 | 10947 | 130302948 | 0.001 | 0.0263 | metabolic process                   |\n",
       "| 5 | GO:0050789 | 11133 | 128366379 | 0.001 | 0.0263 | regulation of biological process    |\n",
       "| 6 | GO:0071704 | 10471 | 124357436 | 0.001 | 0.0263 | organic substance metabolic process |\n",
       "\n"
      ],
      "text/plain": [
       "  GenesetID  Size  Statistic P.value Adj.p.value\n",
       "1 GO:0008150 16607 192914032 0.001   0.0263     \n",
       "2 GO:0009987 15533 181224552 0.001   0.0263     \n",
       "3 GO:0065007 11519 132810292 0.001   0.0263     \n",
       "4 GO:0008152 10947 130302948 0.001   0.0263     \n",
       "5 GO:0050789 11133 128366379 0.001   0.0263     \n",
       "6 GO:0071704 10471 124357436 0.001   0.0263     \n",
       "  Description                        \n",
       "1 biological_process                 \n",
       "2 cellular process                   \n",
       "3 biological regulation              \n",
       "4 metabolic process                  \n",
       "5 regulation of biological process   \n",
       "6 organic substance metabolic process"
      ]
     },
     "metadata": {},
     "output_type": "display_data"
    }
   ],
   "source": [
    "# Get the GO terms, which is previously loaded for the FGSEA method\n",
    "geneset <- GO_term_hallmark\n",
    "# Perform the analysis using SAFE\n",
    "res <- runSAFE(exprsData = expression_data, geneSet = geneset, groups = groups, nperms = nperms)\n",
    "head(res)"
   ]
  },
  {
   "cell_type": "markdown",
   "id": "c97c32de-8a04-4d6c-a6ff-7672a8cfc757",
   "metadata": {},
   "source": [
    "### Enrichment Analysis using SAFE and KEGG pathways\n",
    "We can use the same command as for GO terms. We just need to pass the KEGG pathways instead of GO terms."
   ]
  },
  {
   "cell_type": "code",
   "execution_count": 76,
   "id": "5e8339d8-58d5-4cea-877a-a21919ac7dcc",
   "metadata": {},
   "outputs": [
    {
     "name": "stdout",
     "output_type": "stream",
     "text": [
      "345 categories formed\n",
      "Warning: y.vec is not (0,1), thus Group 1 == c \n"
     ]
    },
    {
     "data": {
      "text/html": [
       "<table class=\"dataframe\">\n",
       "<caption>A data.frame: 6 × 6</caption>\n",
       "<thead>\n",
       "\t<tr><th></th><th scope=col>GenesetID</th><th scope=col>Size</th><th scope=col>Statistic</th><th scope=col>P.value</th><th scope=col>Adj.p.value</th><th scope=col>Description</th></tr>\n",
       "\t<tr><th></th><th scope=col>&lt;chr&gt;</th><th scope=col>&lt;dbl&gt;</th><th scope=col>&lt;dbl&gt;</th><th scope=col>&lt;chr&gt;</th><th scope=col>&lt;chr&gt;</th><th scope=col>&lt;chr&gt;</th></tr>\n",
       "</thead>\n",
       "<tbody>\n",
       "\t<tr><th scope=row>1</th><td>hsa05016</td><td>295</td><td>4537306</td><td>0.001</td><td>0.0265</td><td>NA</td></tr>\n",
       "\t<tr><th scope=row>2</th><td>hsa05012</td><td>258</td><td>4099081</td><td>0.001</td><td>0.0265</td><td>NA</td></tr>\n",
       "\t<tr><th scope=row>3</th><td>hsa04714</td><td>226</td><td>3313828</td><td>0.001</td><td>0.0265</td><td>NA</td></tr>\n",
       "\t<tr><th scope=row>4</th><td>hsa05132</td><td>246</td><td>3250270</td><td>0.001</td><td>0.0265</td><td>NA</td></tr>\n",
       "\t<tr><th scope=row>5</th><td>hsa04144</td><td>250</td><td>3170370</td><td>0.001</td><td>0.0265</td><td>NA</td></tr>\n",
       "\t<tr><th scope=row>6</th><td>hsa05017</td><td>141</td><td>2136820</td><td>0.001</td><td>0.0265</td><td>NA</td></tr>\n",
       "</tbody>\n",
       "</table>\n"
      ],
      "text/latex": [
       "A data.frame: 6 × 6\n",
       "\\begin{tabular}{r|llllll}\n",
       "  & GenesetID & Size & Statistic & P.value & Adj.p.value & Description\\\\\n",
       "  & <chr> & <dbl> & <dbl> & <chr> & <chr> & <chr>\\\\\n",
       "\\hline\n",
       "\t1 & hsa05016 & 295 & 4537306 & 0.001 & 0.0265 & NA\\\\\n",
       "\t2 & hsa05012 & 258 & 4099081 & 0.001 & 0.0265 & NA\\\\\n",
       "\t3 & hsa04714 & 226 & 3313828 & 0.001 & 0.0265 & NA\\\\\n",
       "\t4 & hsa05132 & 246 & 3250270 & 0.001 & 0.0265 & NA\\\\\n",
       "\t5 & hsa04144 & 250 & 3170370 & 0.001 & 0.0265 & NA\\\\\n",
       "\t6 & hsa05017 & 141 & 2136820 & 0.001 & 0.0265 & NA\\\\\n",
       "\\end{tabular}\n"
      ],
      "text/markdown": [
       "\n",
       "A data.frame: 6 × 6\n",
       "\n",
       "| <!--/--> | GenesetID &lt;chr&gt; | Size &lt;dbl&gt; | Statistic &lt;dbl&gt; | P.value &lt;chr&gt; | Adj.p.value &lt;chr&gt; | Description &lt;chr&gt; |\n",
       "|---|---|---|---|---|---|---|\n",
       "| 1 | hsa05016 | 295 | 4537306 | 0.001 | 0.0265 | NA |\n",
       "| 2 | hsa05012 | 258 | 4099081 | 0.001 | 0.0265 | NA |\n",
       "| 3 | hsa04714 | 226 | 3313828 | 0.001 | 0.0265 | NA |\n",
       "| 4 | hsa05132 | 246 | 3250270 | 0.001 | 0.0265 | NA |\n",
       "| 5 | hsa04144 | 250 | 3170370 | 0.001 | 0.0265 | NA |\n",
       "| 6 | hsa05017 | 141 | 2136820 | 0.001 | 0.0265 | NA |\n",
       "\n"
      ],
      "text/plain": [
       "  GenesetID Size Statistic P.value Adj.p.value Description\n",
       "1 hsa05016  295  4537306   0.001   0.0265      NA         \n",
       "2 hsa05012  258  4099081   0.001   0.0265      NA         \n",
       "3 hsa04714  226  3313828   0.001   0.0265      NA         \n",
       "4 hsa05132  246  3250270   0.001   0.0265      NA         \n",
       "5 hsa04144  250  3170370   0.001   0.0265      NA         \n",
       "6 hsa05017  141  2136820   0.001   0.0265      NA         "
      ]
     },
     "metadata": {},
     "output_type": "display_data"
    }
   ],
   "source": [
    "# Get the KEGG pathways\n",
    "geneset <- KEGG_hallmark\n",
    "# Perform the analysis using SAFE\n",
    "res <- runSAFE(exprsData = expression_data, geneSet = geneset, groups = groups, nperms = nperms)\n",
    "head(res)"
   ]
  },
  {
   "cell_type": "markdown",
   "id": "c77c851c-021a-4377-bb6a-00654ce459fa",
   "metadata": {},
   "source": [
    "### Enrichment Analysis using SAFE and REACTOME pathways \n",
    "We can do the same as GO terms and KEGG pathways. "
   ]
  },
  {
   "cell_type": "code",
   "execution_count": 77,
   "id": "def1946b-4057-401d-beb7-8e2146f17f56",
   "metadata": {},
   "outputs": [
    {
     "name": "stdout",
     "output_type": "stream",
     "text": [
      "2358 categories formed\n",
      "Warning: y.vec is not (0,1), thus Group 1 == c \n"
     ]
    },
    {
     "data": {
      "text/html": [
       "<table class=\"dataframe\">\n",
       "<caption>A data.frame: 6 × 6</caption>\n",
       "<thead>\n",
       "\t<tr><th></th><th scope=col>GenesetID</th><th scope=col>Size</th><th scope=col>Statistic</th><th scope=col>P.value</th><th scope=col>Adj.p.value</th><th scope=col>Description</th></tr>\n",
       "\t<tr><th></th><th scope=col>&lt;chr&gt;</th><th scope=col>&lt;dbl&gt;</th><th scope=col>&lt;dbl&gt;</th><th scope=col>&lt;chr&gt;</th><th scope=col>&lt;chr&gt;</th><th scope=col>&lt;chr&gt;</th></tr>\n",
       "</thead>\n",
       "<tbody>\n",
       "\t<tr><th scope=row>1</th><td>R-HSA-74160  </td><td>1543</td><td>19343870</td><td>0.001</td><td>0.0187</td><td>NA</td></tr>\n",
       "\t<tr><th scope=row>2</th><td>R-HSA-73857  </td><td>1372</td><td>17159119</td><td>0.001</td><td>0.0187</td><td>NA</td></tr>\n",
       "\t<tr><th scope=row>3</th><td>R-HSA-212436 </td><td>1249</td><td>15517696</td><td>0.001</td><td>0.0187</td><td>NA</td></tr>\n",
       "\t<tr><th scope=row>4</th><td>R-HSA-8953854</td><td> 733</td><td>10323614</td><td>0.001</td><td>0.0187</td><td>NA</td></tr>\n",
       "\t<tr><th scope=row>5</th><td>R-HSA-5653656</td><td> 710</td><td> 9248109</td><td>0.001</td><td>0.0187</td><td>NA</td></tr>\n",
       "\t<tr><th scope=row>6</th><td>R-HSA-1640170</td><td> 697</td><td> 8981615</td><td>0.001</td><td>0.0187</td><td>NA</td></tr>\n",
       "</tbody>\n",
       "</table>\n"
      ],
      "text/latex": [
       "A data.frame: 6 × 6\n",
       "\\begin{tabular}{r|llllll}\n",
       "  & GenesetID & Size & Statistic & P.value & Adj.p.value & Description\\\\\n",
       "  & <chr> & <dbl> & <dbl> & <chr> & <chr> & <chr>\\\\\n",
       "\\hline\n",
       "\t1 & R-HSA-74160   & 1543 & 19343870 & 0.001 & 0.0187 & NA\\\\\n",
       "\t2 & R-HSA-73857   & 1372 & 17159119 & 0.001 & 0.0187 & NA\\\\\n",
       "\t3 & R-HSA-212436  & 1249 & 15517696 & 0.001 & 0.0187 & NA\\\\\n",
       "\t4 & R-HSA-8953854 &  733 & 10323614 & 0.001 & 0.0187 & NA\\\\\n",
       "\t5 & R-HSA-5653656 &  710 &  9248109 & 0.001 & 0.0187 & NA\\\\\n",
       "\t6 & R-HSA-1640170 &  697 &  8981615 & 0.001 & 0.0187 & NA\\\\\n",
       "\\end{tabular}\n"
      ],
      "text/markdown": [
       "\n",
       "A data.frame: 6 × 6\n",
       "\n",
       "| <!--/--> | GenesetID &lt;chr&gt; | Size &lt;dbl&gt; | Statistic &lt;dbl&gt; | P.value &lt;chr&gt; | Adj.p.value &lt;chr&gt; | Description &lt;chr&gt; |\n",
       "|---|---|---|---|---|---|---|\n",
       "| 1 | R-HSA-74160   | 1543 | 19343870 | 0.001 | 0.0187 | NA |\n",
       "| 2 | R-HSA-73857   | 1372 | 17159119 | 0.001 | 0.0187 | NA |\n",
       "| 3 | R-HSA-212436  | 1249 | 15517696 | 0.001 | 0.0187 | NA |\n",
       "| 4 | R-HSA-8953854 |  733 | 10323614 | 0.001 | 0.0187 | NA |\n",
       "| 5 | R-HSA-5653656 |  710 |  9248109 | 0.001 | 0.0187 | NA |\n",
       "| 6 | R-HSA-1640170 |  697 |  8981615 | 0.001 | 0.0187 | NA |\n",
       "\n"
      ],
      "text/plain": [
       "  GenesetID     Size Statistic P.value Adj.p.value Description\n",
       "1 R-HSA-74160   1543 19343870  0.001   0.0187      NA         \n",
       "2 R-HSA-73857   1372 17159119  0.001   0.0187      NA         \n",
       "3 R-HSA-212436  1249 15517696  0.001   0.0187      NA         \n",
       "4 R-HSA-8953854  733 10323614  0.001   0.0187      NA         \n",
       "5 R-HSA-5653656  710  9248109  0.001   0.0187      NA         \n",
       "6 R-HSA-1640170  697  8981615  0.001   0.0187      NA         "
      ]
     },
     "metadata": {},
     "output_type": "display_data"
    }
   ],
   "source": [
    "# Get the REACTOME pathways\n",
    "geneset <- REACTOME_hallmark\n",
    "# Perform the analysis using SAFE\n",
    "res <- runSAFE(exprsData = expression_data, geneSet = geneset, groups = groups, nperms = nperms)\n",
    "head(res)\n",
    "\n"
   ]
  },
  {
   "cell_type": "markdown",
   "id": "36b0036d-b465-4b52-bef0-fa7f39bd40b3",
   "metadata": {},
   "source": [
    "<!-- headings -->\n",
    "<a id=\"padog-main\"></a>\n",
    "## 7. Enrichment Analysis using PADOG\n",
    "\n",
    "Pathway Analysis with Down-weighting of Overlapping Genes (PADOG) is a specialized method for enrichment analysis. Focused on deciphering the functional implications of differentially expressed genes in biological pathways, PADOG uniquely emphasizes the uniqueness of genes. Its down-weighting mechanism enhances precision by addressing challenges posed by overlapping genes, offering valuable insights into specific pathways influenced by gene expression changes.\n",
    "\n",
    "To perform PADOG enrichment analysis, we will use the \"PADOG\" package. We first need to install and load the package."
   ]
  },
  {
   "cell_type": "code",
   "execution_count": 78,
   "id": "b09bba68-4e7e-4259-aa48-52a2c36422b2",
   "metadata": {},
   "outputs": [],
   "source": [
    "suppressWarnings({\n",
    "    suppressMessages({\n",
    "        if (!require(\"BiocManager\", quietly = TRUE)) {\n",
    "            install.packages(\"BiocManager\")\n",
    "        }\n",
    "        BiocManager::install(\"PADOG\")\n",
    "    })\n",
    "})\n",
    "\n",
    "suppressWarnings({suppressMessages({library(PADOG)})})\n",
    "\n",
    "nperms <- 1000"
   ]
  },
  {
   "cell_type": "markdown",
   "id": "cc2a61f8-3108-4e7e-a245-0b5a2d7ec1c0",
   "metadata": {},
   "source": [
    "We will use the `runPadog` function below to perform enrichment analysis using `PADOG` package. This function requires a gene expression matrix, a list of gene sets to analyze and the group information of the dataset. It will return the analysis results in a dataframe."
   ]
  },
  {
   "cell_type": "code",
   "execution_count": 79,
   "id": "3b3155c3-0883-46b2-bc87-a7386bfd9576",
   "metadata": {},
   "outputs": [],
   "source": [
    "#' @description This function performs enrichment analysis using the PADOG method.\n",
    "#'\n",
    "#' @param exprsData A numeric matrix or a matrix-like object containing gene expression data. Rows represent genes, columns represent samples.\n",
    "#' @param genesets A list of gene sets to be analzyed.\n",
    "#' @param groups A factor indicating sample groups.\n",
    "#' @param nperms An integer specifying the number of permutations for assessing significance (default is 100).\n",
    "#' @param seed An integer specifying a seed for reproducibility of permutation results (default is 1).\n",
    "#' @param ncores An integer specifying the number of cores to use for parallel processing (default is 100).\n",
    "#'\n",
    "#' @return A data frame containing pathway IDs and corresponding p-values.\n",
    "\n",
    "runPadog <- function(exprsData, geneSet, groups, perm = 100, seed = 1, ncores = 1) {\n",
    "    # Run PADOG analysis\n",
    "    res <- PADOG::padog(\n",
    "        esetm = as.matrix(exprsData),\n",
    "        group = groups,\n",
    "        gslist = geneSet,\n",
    "        annotation = NULL,\n",
    "        gs.names = names(geneSet),\n",
    "        NI = nperms,\n",
    "        plots = FALSE,\n",
    "        targetgs = NULL,\n",
    "        dseed = seed,\n",
    "        parallel = TRUE,\n",
    "        ncr = ncores\n",
    "    )\n",
    "    # Extract relevant columns and rename\n",
    "    res <- res[, c('ID', 'Ppadog')]\n",
    "    colnames(res) <- c(\"pathway\", \"p.value\")\n",
    "    \n",
    "    return(res)\n",
    "}\n"
   ]
  },
  {
   "cell_type": "markdown",
   "id": "2ec13aac-5cea-4ce4-a469-714d94380a5d",
   "metadata": {},
   "source": [
    "The PADOG method requires inputs that are quite similar to the GSA method. Thus, to perform analysis using PADOG, we will use the previously preprocessed `new_expression_data` dataframe and `groups` information for the GSA method above."
   ]
  },
  {
   "cell_type": "markdown",
   "id": "d28b96e6-84ac-460c-9ff2-8c04f8f45235",
   "metadata": {},
   "source": [
    "### Enrichment Analysis using PADOG and GO terms"
   ]
  },
  {
   "cell_type": "code",
   "execution_count": 80,
   "id": "fc66fcc6-1696-4572-826c-1462ba7baf40",
   "metadata": {
    "scrolled": true
   },
   "outputs": [
    {
     "name": "stdout",
     "output_type": "stream",
     "text": [
      "Starting with 6938 gene sets!\n",
      "Analyzing 6938 gene sets with 3 or more genes!\n",
      "# of permutations used: 1000 \n"
     ]
    },
    {
     "data": {
      "text/html": [
       "<table class=\"dataframe\">\n",
       "<caption>A data.frame: 6 × 2</caption>\n",
       "<thead>\n",
       "\t<tr><th></th><th scope=col>pathway</th><th scope=col>p.value</th></tr>\n",
       "\t<tr><th></th><th scope=col>&lt;chr&gt;</th><th scope=col>&lt;dbl&gt;</th></tr>\n",
       "</thead>\n",
       "<tbody>\n",
       "\t<tr><th scope=row>GO:0009144</th><td>GO:0009144</td><td>1e-05</td></tr>\n",
       "\t<tr><th scope=row>GO:0007005</th><td>GO:0007005</td><td>1e-05</td></tr>\n",
       "\t<tr><th scope=row>GO:0009205</th><td>GO:0009205</td><td>1e-05</td></tr>\n",
       "\t<tr><th scope=row>GO:0009152</th><td>GO:0009152</td><td>1e-05</td></tr>\n",
       "\t<tr><th scope=row>GO:0009141</th><td>GO:0009141</td><td>1e-05</td></tr>\n",
       "\t<tr><th scope=row>GO:0009199</th><td>GO:0009199</td><td>1e-05</td></tr>\n",
       "</tbody>\n",
       "</table>\n"
      ],
      "text/latex": [
       "A data.frame: 6 × 2\n",
       "\\begin{tabular}{r|ll}\n",
       "  & pathway & p.value\\\\\n",
       "  & <chr> & <dbl>\\\\\n",
       "\\hline\n",
       "\tGO:0009144 & GO:0009144 & 1e-05\\\\\n",
       "\tGO:0007005 & GO:0007005 & 1e-05\\\\\n",
       "\tGO:0009205 & GO:0009205 & 1e-05\\\\\n",
       "\tGO:0009152 & GO:0009152 & 1e-05\\\\\n",
       "\tGO:0009141 & GO:0009141 & 1e-05\\\\\n",
       "\tGO:0009199 & GO:0009199 & 1e-05\\\\\n",
       "\\end{tabular}\n"
      ],
      "text/markdown": [
       "\n",
       "A data.frame: 6 × 2\n",
       "\n",
       "| <!--/--> | pathway &lt;chr&gt; | p.value &lt;dbl&gt; |\n",
       "|---|---|---|\n",
       "| GO:0009144 | GO:0009144 | 1e-05 |\n",
       "| GO:0007005 | GO:0007005 | 1e-05 |\n",
       "| GO:0009205 | GO:0009205 | 1e-05 |\n",
       "| GO:0009152 | GO:0009152 | 1e-05 |\n",
       "| GO:0009141 | GO:0009141 | 1e-05 |\n",
       "| GO:0009199 | GO:0009199 | 1e-05 |\n",
       "\n"
      ],
      "text/plain": [
       "           pathway    p.value\n",
       "GO:0009144 GO:0009144 1e-05  \n",
       "GO:0007005 GO:0007005 1e-05  \n",
       "GO:0009205 GO:0009205 1e-05  \n",
       "GO:0009152 GO:0009152 1e-05  \n",
       "GO:0009141 GO:0009141 1e-05  \n",
       "GO:0009199 GO:0009199 1e-05  "
      ]
     },
     "metadata": {},
     "output_type": "display_data"
    }
   ],
   "source": [
    "# Assign the geneset variable to GO_term_hallmark loaded in previous code\n",
    "geneset <- GO_term_hallmark\n",
    "# Perform PADOG enrichment analysis using the runPadog function\n",
    "PADOG_result <- runPadog(exprsData = expression_data, geneSet = geneset, \n",
    "                         groups = groups, perm = nperms, seed = 1)\n",
    "\n",
    "head(PADOG_result)"
   ]
  },
  {
   "cell_type": "markdown",
   "id": "60a039b9-b62e-4ab7-be15-656e36118110",
   "metadata": {},
   "source": [
    "### Enrichment Analysis using PADOG and KEGG pathways\n",
    "\n",
    "We can use the same procedure to perform enrichment analysis with the GO terms. All the codes are similar but the gene sets list is loaded from `KEGG`. The code is shown below."
   ]
  },
  {
   "cell_type": "code",
   "execution_count": 81,
   "id": "7ff3b556-d4d5-4384-888c-f69f98b79537",
   "metadata": {},
   "outputs": [
    {
     "name": "stdout",
     "output_type": "stream",
     "text": [
      "Starting with 345 gene sets!\n",
      "Analyzing 344 gene sets with 3 or more genes!\n",
      "# of permutations used: 1000 \n"
     ]
    },
    {
     "data": {
      "text/html": [
       "<table class=\"dataframe\">\n",
       "<caption>A data.frame: 6 × 2</caption>\n",
       "<thead>\n",
       "\t<tr><th></th><th scope=col>pathway</th><th scope=col>p.value</th></tr>\n",
       "\t<tr><th></th><th scope=col>&lt;chr&gt;</th><th scope=col>&lt;dbl&gt;</th></tr>\n",
       "</thead>\n",
       "<tbody>\n",
       "\t<tr><th scope=row>hsa05016</th><td>hsa05016</td><td>1e-05</td></tr>\n",
       "\t<tr><th scope=row>hsa05012</th><td>hsa05012</td><td>1e-05</td></tr>\n",
       "\t<tr><th scope=row>hsa05020</th><td>hsa05020</td><td>1e-05</td></tr>\n",
       "\t<tr><th scope=row>hsa05017</th><td>hsa05017</td><td>1e-05</td></tr>\n",
       "\t<tr><th scope=row>hsa03050</th><td>hsa03050</td><td>1e-03</td></tr>\n",
       "\t<tr><th scope=row>hsa05010</th><td>hsa05010</td><td>2e-03</td></tr>\n",
       "</tbody>\n",
       "</table>\n"
      ],
      "text/latex": [
       "A data.frame: 6 × 2\n",
       "\\begin{tabular}{r|ll}\n",
       "  & pathway & p.value\\\\\n",
       "  & <chr> & <dbl>\\\\\n",
       "\\hline\n",
       "\thsa05016 & hsa05016 & 1e-05\\\\\n",
       "\thsa05012 & hsa05012 & 1e-05\\\\\n",
       "\thsa05020 & hsa05020 & 1e-05\\\\\n",
       "\thsa05017 & hsa05017 & 1e-05\\\\\n",
       "\thsa03050 & hsa03050 & 1e-03\\\\\n",
       "\thsa05010 & hsa05010 & 2e-03\\\\\n",
       "\\end{tabular}\n"
      ],
      "text/markdown": [
       "\n",
       "A data.frame: 6 × 2\n",
       "\n",
       "| <!--/--> | pathway &lt;chr&gt; | p.value &lt;dbl&gt; |\n",
       "|---|---|---|\n",
       "| hsa05016 | hsa05016 | 1e-05 |\n",
       "| hsa05012 | hsa05012 | 1e-05 |\n",
       "| hsa05020 | hsa05020 | 1e-05 |\n",
       "| hsa05017 | hsa05017 | 1e-05 |\n",
       "| hsa03050 | hsa03050 | 1e-03 |\n",
       "| hsa05010 | hsa05010 | 2e-03 |\n",
       "\n"
      ],
      "text/plain": [
       "         pathway  p.value\n",
       "hsa05016 hsa05016 1e-05  \n",
       "hsa05012 hsa05012 1e-05  \n",
       "hsa05020 hsa05020 1e-05  \n",
       "hsa05017 hsa05017 1e-05  \n",
       "hsa03050 hsa03050 1e-03  \n",
       "hsa05010 hsa05010 2e-03  "
      ]
     },
     "metadata": {},
     "output_type": "display_data"
    }
   ],
   "source": [
    "# Assign the geneset variable to KEGG_hallmark loaded in previous code\n",
    "geneset <- KEGG_hallmark\n",
    "# Perform PADOG enrichment analysis using the runPadog function\n",
    "PADOG_result <- runPadog(exprsData = expression_data, geneSet = geneset, \n",
    "                         groups = groups, perm = nperms, seed = 1)\n",
    "\n",
    "head(PADOG_result)"
   ]
  },
  {
   "cell_type": "markdown",
   "id": "c29ad340-33ee-4a39-a8ae-cd7aa05926bc",
   "metadata": {},
   "source": [
    "### Enrichment Analysis using PADOG and REACTOME pathways\n",
    "\n",
    "We will apply the same code that has been used for the GO terms and KEGG pathways."
   ]
  },
  {
   "cell_type": "code",
   "execution_count": 82,
   "id": "c2b0002b-3c8e-4b7f-91f8-d2198e785100",
   "metadata": {},
   "outputs": [
    {
     "name": "stdout",
     "output_type": "stream",
     "text": [
      "Starting with 2673 gene sets!\n",
      "Analyzing 2234 gene sets with 3 or more genes!\n",
      "# of permutations used: 1000 \n"
     ]
    },
    {
     "data": {
      "text/html": [
       "<table class=\"dataframe\">\n",
       "<caption>A data.frame: 6 × 2</caption>\n",
       "<thead>\n",
       "\t<tr><th></th><th scope=col>pathway</th><th scope=col>p.value</th></tr>\n",
       "\t<tr><th></th><th scope=col>&lt;chr&gt;</th><th scope=col>&lt;dbl&gt;</th></tr>\n",
       "</thead>\n",
       "<tbody>\n",
       "\t<tr><th scope=row>R-HSA-69275</th><td>R-HSA-69275  </td><td>1e-05</td></tr>\n",
       "\t<tr><th scope=row>R-HSA-453274</th><td>R-HSA-453274 </td><td>1e-05</td></tr>\n",
       "\t<tr><th scope=row>R-HSA-5610787</th><td>R-HSA-5610787</td><td>1e-05</td></tr>\n",
       "\t<tr><th scope=row>R-HSA-162909</th><td>R-HSA-162909 </td><td>1e-05</td></tr>\n",
       "\t<tr><th scope=row>R-HSA-450531</th><td>R-HSA-450531 </td><td>1e-05</td></tr>\n",
       "\t<tr><th scope=row>R-HSA-69202</th><td>R-HSA-69202  </td><td>1e-05</td></tr>\n",
       "</tbody>\n",
       "</table>\n"
      ],
      "text/latex": [
       "A data.frame: 6 × 2\n",
       "\\begin{tabular}{r|ll}\n",
       "  & pathway & p.value\\\\\n",
       "  & <chr> & <dbl>\\\\\n",
       "\\hline\n",
       "\tR-HSA-69275 & R-HSA-69275   & 1e-05\\\\\n",
       "\tR-HSA-453274 & R-HSA-453274  & 1e-05\\\\\n",
       "\tR-HSA-5610787 & R-HSA-5610787 & 1e-05\\\\\n",
       "\tR-HSA-162909 & R-HSA-162909  & 1e-05\\\\\n",
       "\tR-HSA-450531 & R-HSA-450531  & 1e-05\\\\\n",
       "\tR-HSA-69202 & R-HSA-69202   & 1e-05\\\\\n",
       "\\end{tabular}\n"
      ],
      "text/markdown": [
       "\n",
       "A data.frame: 6 × 2\n",
       "\n",
       "| <!--/--> | pathway &lt;chr&gt; | p.value &lt;dbl&gt; |\n",
       "|---|---|---|\n",
       "| R-HSA-69275 | R-HSA-69275   | 1e-05 |\n",
       "| R-HSA-453274 | R-HSA-453274  | 1e-05 |\n",
       "| R-HSA-5610787 | R-HSA-5610787 | 1e-05 |\n",
       "| R-HSA-162909 | R-HSA-162909  | 1e-05 |\n",
       "| R-HSA-450531 | R-HSA-450531  | 1e-05 |\n",
       "| R-HSA-69202 | R-HSA-69202   | 1e-05 |\n",
       "\n"
      ],
      "text/plain": [
       "              pathway       p.value\n",
       "R-HSA-69275   R-HSA-69275   1e-05  \n",
       "R-HSA-453274  R-HSA-453274  1e-05  \n",
       "R-HSA-5610787 R-HSA-5610787 1e-05  \n",
       "R-HSA-162909  R-HSA-162909  1e-05  \n",
       "R-HSA-450531  R-HSA-450531  1e-05  \n",
       "R-HSA-69202   R-HSA-69202   1e-05  "
      ]
     },
     "metadata": {},
     "output_type": "display_data"
    }
   ],
   "source": [
    "# Assign the geneset variable to REACTOME_hallmark loaded in previous code\n",
    "geneset <- REACTOME_hallmark\n",
    "# Perform PADOG enrichment analysis using the runPadog function\n",
    "PADOG_result <- runPadog(exprsData = expression_data, geneSet = geneset, \n",
    "                         groups = groups, perm = nperms, seed = 1)\n",
    "\n",
    "head(PADOG_result)"
   ]
  },
  {
   "cell_type": "markdown",
   "id": "49fd3929-7d2e-401d-93c6-24572bec35f6",
   "metadata": {},
   "source": [
    "The next submodule will go indepth about meta analysis."
   ]
  },
  {
   "cell_type": "code",
   "execution_count": 83,
   "id": "e870e8eb-ee47-439b-8154-0a720927bd79",
   "metadata": {},
   "outputs": [
    {
     "data": {
      "text/plain": [
       "R version 4.3.2 (2023-10-31)\n",
       "Platform: x86_64-pc-linux-gnu (64-bit)\n",
       "Running under: Debian GNU/Linux 11 (bullseye)\n",
       "\n",
       "Matrix products: default\n",
       "BLAS:   /usr/lib/x86_64-linux-gnu/openblas-pthread/libblas.so.3 \n",
       "LAPACK: /usr/lib/x86_64-linux-gnu/openblas-pthread/libopenblasp-r0.3.13.so;  LAPACK version 3.9.0\n",
       "\n",
       "locale:\n",
       " [1] LC_CTYPE=C.UTF-8       LC_NUMERIC=C           LC_TIME=C.UTF-8       \n",
       " [4] LC_COLLATE=C.UTF-8     LC_MONETARY=C.UTF-8    LC_MESSAGES=C.UTF-8   \n",
       " [7] LC_PAPER=C.UTF-8       LC_NAME=C              LC_ADDRESS=C          \n",
       "[10] LC_TELEPHONE=C         LC_MEASUREMENT=C.UTF-8 LC_IDENTIFICATION=C   \n",
       "\n",
       "time zone: Etc/UTC\n",
       "tzcode source: system (glibc)\n",
       "\n",
       "attached base packages:\n",
       "[1] stats4    parallel  stats     graphics  grDevices utils     datasets \n",
       "[8] methods   base     \n",
       "\n",
       "other attached packages:\n",
       " [1] PADOG_1.44.0             KEGGdzPathwaysGEO_1.40.0 GO.db_3.18.0            \n",
       " [4] doRNG_1.8.6              rngtools_1.5.2           foreach_1.5.2           \n",
       " [7] hgu133plus2.db_3.13.0    org.Hs.eg.db_3.18.0      safe_3.42.0             \n",
       "[10] SparseM_1.81             AnnotationDbi_1.64.1     IRanges_2.36.0          \n",
       "[13] S4Vectors_0.40.2         Biobase_2.62.0           BiocGenerics_0.48.1     \n",
       "[16] GSA_1.03.2               fgsea_1.28.0             BiocManager_1.30.22     \n",
       "[19] limma_3.58.1            \n",
       "\n",
       "loaded via a namespace (and not attached):\n",
       " [1] tidyselect_1.2.0        IRdisplay_1.1           dplyr_1.1.4            \n",
       " [4] farver_2.1.1            blob_1.2.4              Biostrings_2.70.2      \n",
       " [7] fastmap_1.1.1           digest_0.6.34           lifecycle_1.0.4        \n",
       "[10] statmod_1.5.0           KEGGREST_1.42.0         RSQLite_2.3.5          \n",
       "[13] magrittr_2.0.3          compiler_4.3.2          rlang_1.1.3            \n",
       "[16] tools_4.3.2             utf8_1.2.4              data.table_1.15.0      \n",
       "[19] labeling_0.4.3          bit_4.0.5               repr_1.1.6             \n",
       "[22] BiocParallel_1.36.0     pbdZMQ_0.3-11           withr_3.0.0            \n",
       "[25] hgu133a.db_3.13.0       grid_4.3.2              fansi_1.0.6            \n",
       "[28] colorspace_2.1-0        ggplot2_3.5.0           scales_1.3.0           \n",
       "[31] iterators_1.0.14        cli_3.6.2               crayon_1.5.2           \n",
       "[34] generics_0.1.3          httr_1.4.7              DBI_1.2.1              \n",
       "[37] cachem_1.0.8            zlibbioc_1.48.0         XVector_0.42.0         \n",
       "[40] base64enc_0.1-3         vctrs_0.6.5             Matrix_1.6-1.1         \n",
       "[43] jsonlite_1.8.8          bit64_4.0.5             glue_1.7.0             \n",
       "[46] codetools_0.2-19        cowplot_1.1.3           gtable_0.3.4           \n",
       "[49] GenomeInfoDb_1.38.7     munsell_0.5.0           tibble_3.2.1           \n",
       "[52] pillar_1.9.0            htmltools_0.5.7         IRkernel_1.3.2         \n",
       "[55] GenomeInfoDbData_1.2.11 R6_2.5.1                doParallel_1.0.17      \n",
       "[58] evaluate_0.23           lattice_0.22-5          png_0.1-8              \n",
       "[61] memoise_2.0.1           Rcpp_1.0.12             uuid_1.2-0             \n",
       "[64] fastmatch_1.1-4         nlme_3.1-163            pkgconfig_2.0.3        "
      ]
     },
     "metadata": {},
     "output_type": "display_data"
    }
   ],
   "source": [
    "sessionInfo()"
   ]
  },
  {
   "cell_type": "code",
   "execution_count": null,
   "id": "ca1ba4ed-3e1c-4d5a-8554-40703527a4d5",
   "metadata": {},
   "outputs": [],
   "source": []
  },
  {
   "cell_type": "code",
   "execution_count": null,
   "id": "15f0ff04-d286-4689-8844-e0f8c570f63d",
   "metadata": {},
   "outputs": [],
   "source": []
  }
 ],
 "metadata": {
  "celltoolbar": "Tags",
  "environment": {
   "kernel": "ir",
   "name": ".m117",
   "type": "gcloud",
   "uri": "us-docker.pkg.dev/deeplearning-platform-release/gcr.io/:m117"
  },
  "kernelspec": {
   "display_name": "R",
   "language": "R",
   "name": "ir"
  },
  "language_info": {
   "codemirror_mode": "r",
   "file_extension": ".r",
   "mimetype": "text/x-r-source",
   "name": "R",
   "pygments_lexer": "r",
   "version": "4.3.2"
  },
  "toc-showcode": true,
  "widgets": {
   "application/vnd.jupyter.widget-state+json": {
    "state": {},
    "version_major": 2,
    "version_minor": 0
   }
  }
 },
 "nbformat": 4,
 "nbformat_minor": 5
}
