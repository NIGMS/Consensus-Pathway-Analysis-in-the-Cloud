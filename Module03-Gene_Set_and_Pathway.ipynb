{
 "cells": [
  {
   "cell_type": "markdown",
   "id": "f380fb8f-dc93-414c-b815-6ace422d7f90",
   "metadata": {
    "tags": []
   },
   "source": [
    "# Gene Set and Pathway\n",
    "\n",
    "![](./images/Module3/Workflow3.jpg)\n",
    "\n",
    "Differential expression (DE) analysis typically yields a list of genes or proteins. Our intention is to use such lists to gain novel insights about genes and proteins that may have roles in a given\n",
    "phenomenon, phenotype or disease progression. However, in many cases, gene lists generated from DE analysis are\n",
    "difficult to interpret due to their large size and lack of useful annotations. Hence, pathway analysis (also known\n",
    "as gene set analysis or over-representation analysis), aims to reduce the complexity of interpreting gene lists\n",
    "via mapping the listed genes to known (i.e. annotated) biological pathways, processes and functions.\n",
    "This learning submodule introduces common curated biological databases including Gene Ontology (GO) and the\n",
    "Kyoto Encyclopedia of Genes and Genomes (KEGG).\n",
    "\n",
    "## Learning Objectives:\n",
    "1. Introduction to Ontology and Gene Ontology.\n",
    "2. Introduction to KEGG Pathway Database.\n",
    "3. Download terms, pathway gene set from GO and KEGG.\n",
    "4. Save results to GMT file format."
   ]
  },
  {
   "cell_type": "code",
   "execution_count": null,
   "id": "7afff25e-ab25-42d7-abbf-1d8f58927ae2",
   "metadata": {},
   "outputs": [],
   "source": [
    "IRdisplay::display_html('<iframe src=\"./Quizzes/Quiz_Submodule3-1.html\" width=100% height=250></iframe>')"
   ]
  },
  {
   "cell_type": "markdown",
   "id": "1859736a",
   "metadata": {},
   "source": [
    "## Ontology and Gene Ontology\n",
    "### Overview\n",
    "In this section we will learn about the concept of gene ontology in bioinformatics. Ontology is set of concepts and categories defined by a shared vocabulary to denote  properties of the concepts, as well as the relationships between the concepts.\n",
    "Ontology plays an important role in the field of bioinformatics. Ontology enables unambiguous communication e.g.,\n",
    "a way to understand different groups’ annotations of various genomes. Also, it allows the knowledge to be structured to perform automated analyses by computer programs.\n",
    "\n",
    "The Gene Ontology (GO) database defines a structured, common, and controlled vocabulary to describe attributes of genes and gene products\n",
    "across organisms. Collaboration is key to build a consensus vocabulary. But the term gene ontology, or GO, is commonly used\n",
    "to refer to both the terms as well as the associations between genes, which is sometimes a source of potential confusion. In order to avoid this, here we will use the term “GO”\n",
    "to describe the set of terms and their hierarchical structure and “GO annotations” to describe the set of associations between\n",
    "genes and GO terms. The GO is divided into three categories to describe the genes and gene products from three different\n",
    "angles: Molecular Function, Biological Process, and Cellular Component.\n",
    "\n",
    "The structure of GO can be described in terms of into directed acyclic graphs (DAGs), where each GO term is a node,\n",
    "and the relationships between the terms are edges between the nodes. GO is loosely hierarchical, with ‘child’ terms\n",
    "being more specialized than their ‘parent’ terms, but unlike a strict hierarchy, a term may have more than one parent\n",
    "term (note that the parent/child model does not hold true for all types of relations). The structure of the controlled\n",
    "vocabularies are intended to reflect true, biological relationships. In contrast to strict hierarchies, DAGS allow\n",
    "multiple relationships between a more granular (child) term and a more general parent term. The relationship between\n",
    "terms affects how queries are made. For example,a query for all genes with binding activity would include transcription\n",
    "factors as well as genes with other types of binding activity (such as protein binding, ligand binding). The illustration\n",
    "of category and structure of GO is shown in the figure below:\n",
    "\n",
    "![](./images/Module3/GO_Structure.jpg)\n",
    "*(Source: https://www.ebi.ac.uk/, http://geneontology.org/)*\n",
    "\n",
    "### Gene ontology relationship\n",
    "In DAGs graph, *terms* are represented as *nodes* and *relations* (also known as *object properties*) between the *terms*\n",
    "are *edges*. There are commonly used relationships in GO such as *is a* (is a *subtype of*), *part of, has part, regulates,\n",
    "negatively regulates and positively regulates*. All terms (except from the root terms representing each aspect) have a sub-class relationship to another terms.\n",
    "\n",
    "Examples:"
   ]
  },
  {
   "cell_type": "markdown",
   "id": "7570a94c",
   "metadata": {},
   "source": [
    "<div class=\"alert alert-block alert-warning\">\n",
    "    <i class=\"fa fa-pencil\" aria-hidden=\"true\"></i>\n",
    "    <b>Example:</b>  \n",
    "    \n",
    "**GO:1904659:glucose transport** *is* a **GO:0015749:monosaccharide transport**.\n",
    "\n",
    "The *is a* relation forms the basic structure of GO. If we say A *is a* B, we mean that node A is a subtype of node B\n",
    "\n",
    "</div>"
   ]
  },
  {
   "cell_type": "markdown",
   "id": "dc7dca75",
   "metadata": {},
   "source": [
    "<div class=\"alert alert-block alert-warning\">\n",
    "    <i class=\"fa fa-pencil\" aria-hidden=\"true\"></i>\n",
    "    <b>Example:</b> \n",
    "    \n",
    "**GO:0031966:mitochondrial membrane** *is part of* **GO:0005740:mitochondrial envelope**\n",
    "\n",
    "The *part of* relation is used to represent part-whole relationships. A *part of* relation would only be added between\n",
    "A and B if B is **necessarily** *part of* A: wherever B exists, it is as *part of* A, and the presence of the B implies\n",
    "the presence of A. However, given the occurrence of A, we cannot say for certain that B exists.\n",
    "<div>"
   ]
  },
  {
   "cell_type": "markdown",
   "id": "e4097a15",
   "metadata": {},
   "source": [
    "<div class=\"alert alert-block alert-warning\">\n",
    "    <i class=\"fa fa-pencil\" aria-hidden=\"true\"></i>\n",
    "    <b>Example:</b> \n",
    "    \n",
    "**GO:0098689:latency-replication decision** *regulates* **GO:0019046:release from viral latency**\n",
    "\n",
    "A relation that describes a case in which one process directly affects the manifestation of another process or quality,\n",
    "i.e. the former *regulates* the latter.\n",
    "    <div>\n"
   ]
  },
  {
   "cell_type": "markdown",
   "id": "36bd1ccd",
   "metadata": {},
   "source": [
    "A more specific case with more nodes and edges can be seen at the figure below:\n",
    "<br>\n",
    "![](./images/Module3/GO_Relation.jpg)\n",
    "*(Source: https://advaitabio.com/)* <br>\n",
    "For more technical information about relations and their properties used in GO and other ontologies see the\n",
    "<a href=\"https://obofoundry.org/ontology/ro.html\">OBO Relations Ontology (RO)</a>\n"
   ]
  },
  {
   "cell_type": "code",
   "execution_count": null,
   "id": "de58632b-8af1-494f-bd43-bc88d3d31010",
   "metadata": {},
   "outputs": [],
   "source": [
    "#Run the following command to take the quiz\n",
    "IRdisplay::display_html('<iframe src=\"Quizzes/Quiz_Submodule3.html\" width=100% height=250></iframe>')"
   ]
  },
  {
   "cell_type": "markdown",
   "id": "c0d70e92",
   "metadata": {},
   "source": [
    "### GO storage file formats\n",
    "GO terms are updated monthly in the following formats:\n",
    "* OBO 1.4 files are human-readable (in addition to machine-readable) and can be opened in any text editor.\n",
    "* OWL files can be read by <a href=\"https://protege.stanford.edu/\">Protégé</a> text editor.\n",
    "\n",
    " In this learning submodule, we will only use \".OBO\" to obtain GO terms.The OBO file format is for representing ontologies and controlled vocabularies. The format itself attempts to achieve the following goals:\n",
    " * Human readability\n",
    " * Ease of parsing\n",
    " * Extensibility\n",
    " * Minimal redundancy\n",
    "\n",
    "The file structure can is shown in the following figure.\n",
    "\n",
    "\n",
    "![](./images/Module3/OBO_Format.jpg)\n",
    "\n",
    "The OBO file has a header, which is an unlabeled section at the beginning of the document. The header ends when the first term is encountered. Next, term is represented in labeled section with the tag *[Term]*. Under each term, we can find other information such as term ID, official name, category (namespace), term definition, synonym and relation to other GO terms.\n",
    "\n",
    "At this step, we still don't know what genes are related to which GO terms. In order to retrieve custom sets of gene ontology annotations for any list of genes from organisms, NCBI has published a Gene2GO database that obtain GO terms and the entrez gene ids related to those go terms. The database can be retrieve from <a href=\"https://ftp.ncbi.nih.gov/gene/DATA/gene2go.gz\">here</a> text editor. The Gene2GO database can be viewed using text editor, the file structure is presented in the figure below:\n",
    "\n",
    "![](./images/Module3/Gene2GO.jpg)\n",
    "\n",
    "The OBO and Gene2GO databases will be used in combination to obtain GO term and related genes for enrichment analysis."
   ]
  },
  {
   "cell_type": "markdown",
   "id": "5335d3b2",
   "metadata": {},
   "source": [
    "### Retrieving GO terms from DE gene list\n",
    "This section focuses on downloading related GO terms based on the DE genelist obtained from the DE analysis in the previous section.\n",
    "Here, we will use `topGO` and `hgu133plus2.db` R packages to obtain GO terms. The `topGO` package has built-in functions that use Gene2GO databases to retrieve GO terms from the gene ID give by DE analysis. Since the dataset we used in submodule 02 was generated for human, we will use `hgu133plus2.db` database to map probeIDs to gene symbols.\n",
    "The installation process of two package can be done by the script below:"
   ]
  },
  {
   "cell_type": "code",
   "execution_count": null,
   "id": "6055c53f",
   "metadata": {},
   "outputs": [],
   "source": [
    "# Installation of topGO and hgu133plus2.db package\n",
    "suppressMessages({if (!require(\"BiocManager\", quietly = TRUE))\n",
    "    install.packages(\"BiocManager\")\n",
    "  suppressWarnings(BiocManager::install(\"topGO\", update = F))\n",
    "  suppressWarnings(BiocManager::install(\"hgu133plus2.db\", update = F))\n",
    "  suppressWarnings(BiocManager::install(\"AnnotationDbi\", update = F))\n",
    "})"
   ]
  },
  {
   "cell_type": "code",
   "execution_count": null,
   "id": "1724cdf4",
   "metadata": {},
   "outputs": [],
   "source": [
    "# Loading the library\n",
    "suppressPackageStartupMessages({\n",
    "  suppressWarnings(library(\"topGO\"))\n",
    "  suppressWarnings(library(\"hgu133plus2.db\"))\n",
    "  suppressWarnings(library(\"AnnotationDbi\"))\n",
    "})"
   ]
  },
  {
   "cell_type": "markdown",
   "id": "bc0a8463",
   "metadata": {},
   "source": [
    "Load the DE genelist generated from the DE analysis using `limma`."
   ]
  },
  {
   "cell_type": "code",
   "execution_count": null,
   "id": "8554f2b2",
   "metadata": {},
   "outputs": [],
   "source": [
    "# Loading the DE result\n",
    "data = readRDS(\"./data/DE_genes.rds\")"
   ]
  },
  {
   "cell_type": "markdown",
   "id": "67b8b3e0",
   "metadata": {},
   "source": [
    "By default, the DE analysis performed by `limma` contains multiple features. However, adjusted *p-value* and gene ID are the most important features for enrichment analysis. We can use the following code to list of gene IDs and their *p-value*."
   ]
  },
  {
   "cell_type": "code",
   "execution_count": null,
   "id": "ecbba43f",
   "metadata": {},
   "outputs": [],
   "source": [
    "# Get p-value from DE results\n",
    "genelist <- data$adj.P.Val\n",
    "# Assign gene IDs to associated p-values\n",
    "names(genelist) <- data$PROBEID"
   ]
  },
  {
   "cell_type": "markdown",
   "id": "1e843171",
   "metadata": {},
   "source": [
    "After successfully obtaining the genelist, we need to map the gene IDs to the gene symbols using `hgu133plus2.db`."
   ]
  },
  {
   "cell_type": "code",
   "execution_count": null,
   "id": "ae87d2e9",
   "metadata": {},
   "outputs": [],
   "source": [
    "# Map gene IDs to gene symbols\n",
    "gene <- suppressMessages(AnnotationDbi::select(hgu133plus2.db, names(genelist), \"SYMBOL\"))"
   ]
  },
  {
   "cell_type": "code",
   "execution_count": null,
   "id": "a6ffaff9",
   "metadata": {},
   "outputs": [],
   "source": [
    "# Remove duplicated gene IDs\n",
    "gene <- gene[!duplicated(gene[,1]),]\n",
    "\n",
    "# Assign result to a new genlist with gene symbols\n",
    "geneList2 <- genelist\n",
    "names(geneList2) <- gene[,2]"
   ]
  },
  {
   "cell_type": "markdown",
   "id": "1abbc4dc",
   "metadata": {},
   "source": [
    "Now, we can search for related GO terms based on the new gene list using `topGO` package. First, we need to create a `topGOdata`\n",
    "object."
   ]
  },
  {
   "cell_type": "code",
   "execution_count": null,
   "id": "9f65ad1d",
   "metadata": {},
   "outputs": [],
   "source": [
    "# Retrieve all the GO terms related to the genelist obtained from the expression matrix\n",
    "GOdata <- new(\"topGOdata\", description = \"\",ontology = \"BP\",\n",
    "                    allGenes = geneList2, geneSel = function(x)x, nodeSize = 10,\n",
    "                    annot = annFUN.org, ID = \"alias\", mapping = \"org.Hs.eg\")"
   ]
  },
  {
   "cell_type": "markdown",
   "id": "6c2604ce",
   "metadata": {},
   "source": [
    "We can search for related GO terms using `geneInTerm` function and view the term with associated genes."
   ]
  },
  {
   "cell_type": "code",
   "execution_count": null,
   "id": "6c12b8cf",
   "metadata": {},
   "outputs": [],
   "source": [
    "# Obtain a list of genes for each GO term\n",
    "allGO = genesInTerm(GOdata)\n",
    "allGO[1:5]"
   ]
  },
  {
   "cell_type": "markdown",
   "id": "a490c445",
   "metadata": {},
   "source": [
    "Now, we already had GO terms with genes. However, we still do not know the meaning of GO terms related to biological process. We can use `GO.db` database to get a set of annotation maps describing the entire Gene Ontology assembled using data from GO. We can use the following code to install the `GO.db` R package."
   ]
  },
  {
   "cell_type": "code",
   "execution_count": null,
   "id": "c7623efa",
   "metadata": {},
   "outputs": [],
   "source": [
    "suppressMessages({if (!require(\"BiocManager\", quietly = TRUE))\n",
    "    install.packages(\"BiocManager\")\n",
    "  suppressWarnings(BiocManager::install(\"GO.db\", update = F))\n",
    "})"
   ]
  },
  {
   "cell_type": "code",
   "execution_count": null,
   "id": "51937111-d242-4bd4-8448-68f6f102144c",
   "metadata": {},
   "outputs": [],
   "source": [
    "library(GO.db)"
   ]
  },
  {
   "cell_type": "markdown",
   "id": "b1a67ea7",
   "metadata": {},
   "source": [
    "Then, we can use the following command to obtain the GO terms description."
   ]
  },
  {
   "cell_type": "code",
   "execution_count": null,
   "id": "d43fe956",
   "metadata": {},
   "outputs": [],
   "source": [
    "# Getting the name of each GO term\n",
    "terms <- names(allGO)\n",
    "# Getting the description of each GO term\n",
    "descriptions <-lapply(Term(terms), `[[`, 1)"
   ]
  },
  {
   "cell_type": "markdown",
   "id": "4d4cfd98",
   "metadata": {},
   "source": [
    "In order to perform enrichment analysis in later submodules, we need to save the GO terms and genesets to the standard output. One commonly used format is Gene Matrix Transposed file format *(\\*.gmt)*. The GMT file format is a tab delimited file format that describes gene sets. In the GMT format, each row represents a gene set; in the GMX format, each column represents a gene set. Here, we can save GO terms and genesets to the *\\*.gmt* using the following function:"
   ]
  },
  {
   "cell_type": "code",
   "execution_count": null,
   "id": "87443760",
   "metadata": {},
   "outputs": [],
   "source": [
    "# A function to save the GO terms with geneset to the local repository\n",
    "writeGMT <- function(genesets, descriptions, outfile) {\n",
    "\n",
    "  if (file.exists(outfile)) {\n",
    "    file.remove(outfile)\n",
    "  }\n",
    "  for (gs in names(genesets)) {\n",
    "    write(c(gs, gsub(\"\\t\", \" \", descriptions[[gs]]), genesets[[gs]]), file=outfile, sep=\"\\t\", append=TRUE, ncolumns=length(genesets[[gs]]) + 2)\n",
    "  }\n",
    "}\n",
    "outfile <- \"./data/GO_terms.gmt\"\n",
    "writeGMT(allGO, descriptions, outfile)"
   ]
  },
  {
   "cell_type": "code",
   "execution_count": null,
   "id": "3241cbe2-03b5-4ccd-9e16-ecd05ebc6d1e",
   "metadata": {},
   "outputs": [],
   "source": [
    "#replace <BUCKET_NAME> with name of your bucket that was perviously made in submodule 1\n",
    "system(\"gsutil cp ./data/GO_terms.gmt gs://<BUCKET_NAME>\", intern = TRUE)"
   ]
  },
  {
   "cell_type": "markdown",
   "id": "2543dea6",
   "metadata": {},
   "source": [
    "## Kyoto Encyclopedia of Genes and Genomes (KEGG)\n",
    "### Overview\n",
    "KEGG is a collection of databases dealing with genomes, biological pathways, diseases, drugs, and chemical substances. KEGG is utilized for bioinformatics research and education, including data analysis in genomics, metagenomics, metabolomics and other omics studies, modeling and simulation in systems biology, and translational research in drug development. The KEGG database project was initiated in 1995 by Minoru Kanehisa, professor at the Institute for Chemical Research, Kyoto University, under the then ongoing Japanese Human Genome Program. Foreseeing the need for a computerized resource that can be used for biological interpretation of genome sequence data, he started developing the KEGG PATHWAY database. It is a collection of manually drawn KEGG pathway maps representing experimental knowledge on metabolism and various other functions of the cell and the organism. Each pathway map contains a network of molecular interactions and reactions and is designed to link genes in the genome to gene products (mostly proteins) in the pathway. This has enabled the analysis called KEGG pathway mapping, whereby the gene content in the genome is compared with the KEGG PATHWAY database to examine which pathways and associated functions are likely to be encoded in the genome. KEGG is a \"computer representation\" of the biological system. It integrates building blocks and wiring diagrams of the system—more specifically, genetic building blocks of genes and proteins, chemical building blocks of small molecules and reactions, and wiring diagrams of molecular interaction and reaction networks. The illustrative structure of KEGG is presented as figure below.\n",
    "![](./images/Module3/KEGG.jpg)\n"
   ]
  },
  {
   "cell_type": "code",
   "execution_count": null,
   "id": "e3753d02-54e2-4f58-9484-5f697bbfc040",
   "metadata": {},
   "outputs": [],
   "source": [
    "#Run the following command to take the quiz\n",
    "IRdisplay::display_html('<iframe src=\"./Quizzes/Quiz_Submodule3-2.html\" width=100% height=250></iframe>')"
   ]
  },
  {
   "cell_type": "markdown",
   "id": "bc02ba6c",
   "metadata": {},
   "source": [
    "### Retrieving pathways from KEGG databases\n",
    "In this section, we will retrieve pathways and related genesets from the KEGG database using R command line. Here we will use `KEGGREST` R package that provides a client interface to the KEGG REST server. `KEGGREST` can be installed from the Bioconductor using following command."
   ]
  },
  {
   "cell_type": "code",
   "execution_count": null,
   "id": "52623d24",
   "metadata": {},
   "outputs": [],
   "source": [
    "suppressMessages({if (!require(\"BiocManager\", quietly = TRUE))\n",
    "    install.packages(\"BiocManager\")\n",
    "  suppressWarnings(BiocManager::install(\"KEGGREST\", update = F))\n",
    "})"
   ]
  },
  {
   "cell_type": "code",
   "execution_count": null,
   "id": "9c2dbd0f-6933-4dcd-b552-7d5a9b9b22a5",
   "metadata": {},
   "outputs": [],
   "source": [
    "suppressPackageStartupMessages({\n",
    "  library(KEGGREST)\n",
    "})"
   ]
  },
  {
   "cell_type": "markdown",
   "id": "1bb0e258",
   "metadata": {},
   "source": [
    "KEGG contains a number of databases. To get an idea of what is available, run `listDatabases()`:"
   ]
  },
  {
   "cell_type": "code",
   "execution_count": null,
   "id": "7628359f",
   "metadata": {},
   "outputs": [],
   "source": [
    "KEGGREST::listDatabases()"
   ]
  },
  {
   "cell_type": "markdown",
   "id": "2216acc1",
   "metadata": {},
   "source": [
    "We can use these databases in further queries. Note that in many cases you can also use a three-letter KEGG organism code or a “T number” (genome identifier) in the same place you would use one of these database names.\n",
    "\n",
    "We can obtain the list of organisms available in KEGG with the `keggList()` function:"
   ]
  },
  {
   "cell_type": "code",
   "execution_count": null,
   "id": "2a577ddb",
   "metadata": {},
   "outputs": [],
   "source": [
    "organism <- keggList(\"organism\")"
   ]
  },
  {
   "cell_type": "code",
   "execution_count": null,
   "id": "459b1e4d",
   "metadata": {},
   "outputs": [],
   "source": [
    "print(paste0(\"KEGG supports \",dim(organism)[1],\" organisms\"))"
   ]
  },
  {
   "cell_type": "markdown",
   "id": "73f1396b",
   "metadata": {},
   "source": [
    "To view the supported organisms we can use the following command:"
   ]
  },
  {
   "cell_type": "code",
   "execution_count": null,
   "id": "e89ee1aa",
   "metadata": {},
   "outputs": [],
   "source": [
    "# View several supported organism\n",
    "head(organism)"
   ]
  },
  {
   "cell_type": "markdown",
   "id": "d053d8cb",
   "metadata": {},
   "source": [
    "In submodule 02, we performed DE analysis on a human dataset. Therefore, we need to download pathways for humans. The abbreviation of human pathway in KEGG is `hsa` and we can use `keggList` function to get the pathway list."
   ]
  },
  {
   "cell_type": "code",
   "execution_count": null,
   "id": "c780749a-55ee-490d-afed-09bf11508670",
   "metadata": {},
   "outputs": [],
   "source": [
    "IRdisplay::display_html('<iframe src=\"./Quizzes/Quiz_Submodule3-3.html\" width=100% height=250></iframe>')"
   ]
  },
  {
   "cell_type": "code",
   "execution_count": null,
   "id": "029e2990",
   "metadata": {},
   "outputs": [],
   "source": [
    "# Obtain the pathways belong to human\n",
    "pathways.list <- keggList(\"pathway\", \"hsa\")"
   ]
  },
  {
   "cell_type": "markdown",
   "id": "0e587800",
   "metadata": {},
   "source": [
    "The pathway list contains pathway description and pathway code in a single line of text. To see the first five pathways that have to do with **carbohydrate metabolism** we will use the commands below."
   ]
  },
  {
   "cell_type": "code",
   "execution_count": null,
   "id": "85de2fd0-fb3b-4e3e-bf46-a1cc27e61704",
   "metadata": {},
   "outputs": [],
   "source": [
    "#list the specific pathways to view\n",
    "pathway_ids <- c(\"hsa00010\", \"hsa00020\", \"hsa00030\", \"hsa00040\", \"hsa00051\")\n",
    "#view their names\n",
    "pathways.list[pathway_ids]"
   ]
  },
  {
   "cell_type": "markdown",
   "id": "f01c2884-352c-4ebd-bd38-af667697d41a",
   "metadata": {},
   "source": [
    "To learn more about these pathways you can visit https://www.genome.jp/kegg/pathway.html. "
   ]
  },
  {
   "cell_type": "code",
   "execution_count": null,
   "id": "b81aecd9-42b5-4771-b9a5-a4d667fccd2a",
   "metadata": {
    "tags": []
   },
   "outputs": [],
   "source": [
    "#Run the following command to take the quiz\n",
    "IRdisplay::display_html('<iframe src=\"./Quizzes/Quiz_Submodule3-4.html\" width=100% height=250></iframe>')"
   ]
  },
  {
   "cell_type": "markdown",
   "id": "3cfb85cc",
   "metadata": {},
   "source": [
    "We can use the following command to check how many pathways are available for human."
   ]
  },
  {
   "cell_type": "code",
   "execution_count": null,
   "id": "80faa8d2-7b63-49ae-8273-0590bb4d6166",
   "metadata": {},
   "outputs": [],
   "source": [
    "# Retrieve all the pathway IDs belong to human\n",
    "pathway.codes <- sub(\"path:\", \"\", names(pathways.list))\n",
    "pathway.codes"
   ]
  },
  {
   "cell_type": "code",
   "execution_count": null,
   "id": "30012ac0",
   "metadata": {},
   "outputs": [],
   "source": [
    "print(paste0(\"Number of available pathways for human are: \", length(pathway.codes)))"
   ]
  },
  {
   "cell_type": "markdown",
   "id": "06c46c2b",
   "metadata": {},
   "source": [
    "We can see that, in each line, the text in the quotation mark contains pathway information while the later part contains pathway code leading by a prefix `path:`. To get pathway codes from the pathway list, we can use the following commands:"
   ]
  },
  {
   "cell_type": "markdown",
   "id": "cfa76c6c",
   "metadata": {},
   "source": [
    "The following code will help to get list of genes and pathway's description for all pathways available in human."
   ]
  },
  {
   "cell_type": "code",
   "execution_count": null,
   "id": "4a788472",
   "metadata": {
    "tags": []
   },
   "outputs": [],
   "source": [
    "# Function to get all the gene names for each pathway\n",
    "genes.by.pathway <- sapply(pathway.codes,\n",
    "                           function(pwid){\n",
    "                             pw <- keggGet(pwid)\n",
    "                             if (is.null(pw[[1]]$GENE)) return(NA)\n",
    "                             pw2 <- pw[[1]]$GENE[c(FALSE,TRUE)]\n",
    "                             pw2 <- unlist(lapply(strsplit(pw2, split = \";\", fixed = T), function(x)x[1]))\n",
    "                             return(pw2)\n",
    "                           }\n",
    ")\n",
    "# Function to get description for each pathway\n",
    "description.by.pathway <- sapply(pathway.codes,\n",
    "                                 function(pwid){\n",
    "                                   pw <- keggGet(pwid)\n",
    "                                   if (is.null(pw[[1]]$NAME)) return(NA)\n",
    "                                   pw2 <- pw[[1]]$NAME\n",
    "                                   return(pw2)\n",
    "                                 }\n",
    ")\n",
    "# Convert the pathway description to a list\n",
    "description.by.pathway <- as.list(description.by.pathway)"
   ]
  },
  {
   "cell_type": "markdown",
   "id": "2c6c0529-f861-4812-8725-1fa961014437",
   "metadata": {},
   "source": [
    "Something to note is that the KEGG database also provides pathways that hold many sub pathways so when we look up the pathways through keggGet they may not have any genes listed in that report. This can skew our results so the for loop below takes out any pathway that does not have a Gene section from the list."
   ]
  },
  {
   "cell_type": "markdown",
   "id": "bfcf06fe",
   "metadata": {},
   "source": [
    "We can view the first five pathways with their genesets using the following command"
   ]
  },
  {
   "cell_type": "code",
   "execution_count": null,
   "id": "ac62baff",
   "metadata": {
    "tags": []
   },
   "outputs": [],
   "source": [
    "# View the five pathways with the genesets\n",
    "genes.by.pathway <- genes.by.pathway[!is.na(genes.by.pathway)]\n",
    "genes.by.pathway[1:5]"
   ]
  },
  {
   "cell_type": "markdown",
   "id": "a3cf8b03",
   "metadata": {},
   "source": [
    "Use the following command to see the description of the first five pathways"
   ]
  },
  {
   "cell_type": "code",
   "execution_count": null,
   "id": "1f600459-2347-4d12-b988-6e0017198e82",
   "metadata": {},
   "outputs": [],
   "source": [
    "# View the description of the first five pathways\n",
    "description.by.pathway <- description.by.pathway[!is.na(description.by.pathway)]\n",
    "description.by.pathway[names(genes.by.pathway[1:5])]"
   ]
  },
  {
   "cell_type": "markdown",
   "id": "111091ca-161f-41b7-a863-7f1b9e8ab7c0",
   "metadata": {},
   "source": [
    "Taking a look at the file since the first 8 pathways do not have any genes listed we can remove those hsa ids."
   ]
  },
  {
   "cell_type": "code",
   "execution_count": null,
   "id": "94a98586-782d-4576-9a6c-6cd281c3c520",
   "metadata": {},
   "outputs": [],
   "source": [
    "# Saving the pathway information to the local repository\n",
    "outfile <- \"./data/KEGG_pathways.gmt\"\n",
    "writeGMT(genes.by.pathway, description.by.pathway, outfile)"
   ]
  },
  {
   "cell_type": "code",
   "execution_count": null,
   "id": "dafa08b2-de3b-4689-ad97-40973d13c315",
   "metadata": {},
   "outputs": [],
   "source": [
    "#replace <BUCKET_NAME> with name of your bucket that was perviously made in submodule 1\n",
    "system(\"gsutil cp ./data/KEGG_pathways.gmt gs://<BUCKET_NAME>\", intern = TRUE)"
   ]
  },
  {
   "cell_type": "markdown",
   "id": "0564328c",
   "metadata": {},
   "source": [
    "In the next submodule, we will do Pathway Analysis.\n"
   ]
  },
  {
   "cell_type": "code",
   "execution_count": null,
   "id": "72feb66c-fd96-4c6b-b8fd-98a52c9bba13",
   "metadata": {},
   "outputs": [],
   "source": [
    "sessionInfo()"
   ]
  },
  {
   "cell_type": "code",
   "execution_count": null,
   "id": "7f964b3d-e7b3-447a-9163-39c5a6ab24ea",
   "metadata": {},
   "outputs": [],
   "source": []
  }
 ],
 "metadata": {
  "celltoolbar": "Tags",
  "environment": {
   "kernel": "ir",
   "name": "r-cpu.4-2.m107",
   "type": "gcloud",
   "uri": "gcr.io/deeplearning-platform-release/r-cpu.4-2:m107"
  },
  "kernelspec": {
   "display_name": "R",
   "language": "R",
   "name": "ir"
  },
  "language_info": {
   "codemirror_mode": "r",
   "file_extension": ".r",
   "mimetype": "text/x-r-source",
   "name": "R",
   "pygments_lexer": "r",
   "version": "4.2.3"
  },
  "toc-showcode": true,
  "widgets": {
   "application/vnd.jupyter.widget-state+json": {
    "state": {},
    "version_major": 2,
    "version_minor": 0
   }
  }
 },
 "nbformat": 4,
 "nbformat_minor": 5
}
