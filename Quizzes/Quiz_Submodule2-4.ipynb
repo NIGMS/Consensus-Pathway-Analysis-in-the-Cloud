{
 "cells": [
  {
   "cell_type": "code",
   "execution_count": null,
   "id": "2d999ba7",
   "metadata": {},
   "outputs": [],
   "source": [
    "from jupyterquiz import display_quiz\n",
    "#SubModule 2 Quiz\n",
    "display_quiz(\"Questions/SubModule2-4.json\")"
   ]
  },
  {
   "cell_type": "code",
   "execution_count": null,
   "id": "3e3b176d",
   "metadata": {},
   "outputs": [],
   "source": []
  }
 ],
 "metadata": {},
 "nbformat": 4,
 "nbformat_minor": 5
}
