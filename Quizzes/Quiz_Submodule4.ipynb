{
 "cells": [
  {
   "cell_type": "code",
   "execution_count": null,
   "id": "2d999ba7",
   "metadata": {},
   "outputs": [],
   "source": [
    "from jupyterquiz import display_quiz\n",
    "#SubModule 4 Quiz\n",
    "display_quiz(\"Questions/SubModule4.json\")"
   ]
  },
  {
   "cell_type": "code",
   "execution_count": null,
   "id": "a9e1e063",
   "metadata": {},
   "outputs": [],
   "source": []
  }
 ],
 "metadata": {},
 "nbformat": 4,
 "nbformat_minor": 5
}
