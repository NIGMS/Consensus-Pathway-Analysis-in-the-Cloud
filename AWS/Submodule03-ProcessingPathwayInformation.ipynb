{
 "cells": [
  {
   "cell_type": "markdown",
   "id": "f16bbdfc-1396-4303-bcc7-7893295ea7bd",
   "metadata": {},
   "source": [
    "# Processing Pathway Information\n",
    "\n",
    "\n",
    "![](./images/Module3/Workflow3.png)\n",
    "\n",
    "## Overview\n",
    "\n",
    "Differential analysis typically yields a list of genes or proteins. Our intention is to use such lists to gain novel insights about genes and proteins that may have roles in a given\n",
    "phenomenon, phenotype or disease progression. However, in many cases, gene lists generated from DE analysis are\n",
    "difficult to interpret due to their large size and lack of useful annotations. Hence, pathway analysis (also known\n",
    "as gene set analysis or over-representation analysis), aims to reduce the complexity of interpreting gene lists\n",
    "via mapping the listed genes to known (i.e. annotated) biological pathways, processes and functions.\n",
    "This learning submodule introduces common curated biological databases including Gene Ontology (GO), the\n",
    "Kyoto Encyclopedia of Genes and Genomes (KEGG) and the database of reactions, pathways and biological processes (REACTOME). It also provides the guideline to retrieve the pathways information from the pathway databases, process, and save them in the appropriate format for the pathway analysis in the next submodule. \n",
    "\n",
    "\n",
    "## Learning Objectives\n",
    "1. Introduction to Ontology and Gene Ontology, KEGG Pathway Database, and REACTOME Pathway Database.\n",
    "2. Download and save terms, pathway gene set from GO, KEGG, and REACTOME.\n",
    "\n",
    "## Prerequisites\n",
    "\n",
    "**1. R Packages:**\n",
    "\n",
    "* `BiocManager`:  Required for installing packages from Bioconductor.\n",
    "* `topGO`: Used for Gene Ontology (GO) enrichment analysis.\n",
    "* `hgu133plus2.db`:  Annotation package for the hgu133plus2 microarray platform (used to link gene IDs to GO terms).\n",
    "* `AnnotationDbi`: Provides tools for working with annotation databases.\n",
    "* `GO.db`:  Annotation package for Gene Ontology.\n",
    "* `KEGGREST`: Client interface for the KEGG REST API.\n",
    "* `ReactomeContentService4R`:  Client interface for the Reactome Content Service API.\n",
    "* `magick`: Image processing package (dependency of ReactomeContentService4R). This also requires `libmagick++-dev`.\n",
    "\n",
    "\n",
    "\n",
    "**2. System dependency:**\n",
    "* `libmagick++-dev`: It is required for installation of `magick` package.\n",
    "\n",
    "## Get Started\n",
    "\n",
    "### Table of Contents\n",
    "\n",
    "1. [Ontology and Gene Ontology](#go-main)\n",
    "   -  1.1. [Overview](#go-overview)\n",
    "   -  1.2. [Retrieving GO terms](#go-retrieve)\n",
    "2. [Kyoto Encyclopedia of Genes and Genomes (KEGG)](#kegg-main)\n",
    "   -  2.1. [Overview](#kegg-overview)\n",
    "   -  2.2. [Retrieving pathways from KEGG database](#kegg-retrieve)\n",
    "3. [REACTOME Pathway Database](#reactome-main)\n",
    "   -  3.1. [Overview](#reactome-overview)\n",
    "   -  3.2. [Retrieving pathways from REACTOME database](#reactome-retrieve)\n",
    "\n",
    "\n",
    "**Note**: It is worth to note that the pathway information from the curated biological databases introduced in this learning submodule are regularly updated. While users have the downloaded pathway information saved in cloud storage and do not need to redownload it (rerun the notebook) every time they perform pathway analysis, it is advisable for them to refresh the saved pathway data frequently to ensure that the data is up-to-date."
   ]
  },
  {
   "cell_type": "code",
   "execution_count": null,
   "id": "7afff25e-ab25-42d7-abbf-1d8f58927ae2",
   "metadata": {},
   "outputs": [],
   "source": [
    "IRdisplay::display_html('<iframe src=\"../Quizzes/Quiz_Submodule3-1.html\" width=100% height=250></iframe>')"
   ]
  },
  {
   "cell_type": "markdown",
   "id": "1859736a",
   "metadata": {},
   "source": [
    "<!-- headings -->\n",
    "<a id=\"go-main\"></a>\n",
    "## 1. Ontology and Gene Ontology\n",
    "<!-- headings -->\n",
    "<a id=\"go-overview\"></a>\n",
    "### 1.1. Overview\n",
    "In this section, we will learn about the concept of gene ontology in bioinformatics. Ontology is a set of concepts and categories defined by a shared vocabulary to denote  properties of the concepts, as well as the relationships between the concepts.\n",
    "Ontology plays an important role in the field of bioinformatics. Ontology enables unambiguous communication e.g.,\n",
    "a way to understand different groups’ annotations of various genomes. Also, it allows the knowledge to be structured to perform automated analyses by computer programs.\n",
    "\n",
    "The Gene Ontology (GO) database defines a structured, common, and controlled vocabulary to describe attributes of genes and gene products\n",
    "across organisms. Collaboration is key to build a consensus vocabulary. But the term gene ontology, or GO, is commonly used\n",
    "to refer to both the terms as well as the associations between genes, which is sometimes a source of potential confusion. In order to avoid this, here we will use the term “GO”\n",
    "to describe the set of terms and their hierarchical structure and “GO annotations” to describe the set of associations between\n",
    "genes and GO terms. The GO is divided into three categories to describe the genes and gene products from three different\n",
    "angles: Molecular Function, Biological Process, and Cellular Component.\n",
    "\n",
    "The structure of GO can be described in terms of directed acyclic graphs (DAGs), where each GO term is a node,\n",
    "and the relationships between the terms are edges. GO is loosely hierarchical, with ‘child’ terms\n",
    "being more specialized than their ‘parent’ terms, but unlike a strict hierarchy, a term may have more than one parent\n",
    "term (note that the parent/child model does not hold for all types of relations). The structure of the controlled\n",
    "vocabularies is intended to reflect true, biological relationships. In contrast to strict hierarchies, DAGS allows\n",
    "multiple relationships between a more granular (child) term and a more general parent term. The relationship between\n",
    "terms affects how queries are made. For example, a query for all genes with binding activity would include transcription\n",
    "factors as well as genes with other types of binding activity (such as protein binding, ligand binding). The illustration\n",
    "of the category and structure of GO is shown in the figure below:\n",
    "\n",
    "![](./images/Module3/GO_Structure.jpg)\n",
    "*(Source: https://www.ebi.ac.uk/, http://geneontology.org/)*\n",
    "\n",
    "#### Gene ontology relationship\n",
    "In DAGs graph, *terms* are represented as *nodes* and *relations* (also known as *object properties*) between the *terms*\n",
    "are *edges*. There are commonly used relationships in GO such as *`is a`* (is a *`subtype of`*), *`part of`, `has part`, `regulates`,\n",
    "`negatively regulates` and `positively regulates`*. All terms (except for the root terms representing each aspect) have a sub-class relationship to another term.\n",
    "\n",
    "Examples:"
   ]
  },
  {
   "cell_type": "markdown",
   "id": "e734be7f-b73a-47f0-93d2-95b1430ebf91",
   "metadata": {},
   "source": [
    "> **Example:**\n",
    ">  \n",
    "> **GO:1904659:glucose transport** *`is a`* **GO:0015749:monosaccharide transport**.\n",
    ">  \n",
    "> The *`is a`* relation forms the basic structure of GO. If we say A *`is a`* B, we mean that node A is a subtype of node B\n"
   ]
  },
  {
   "cell_type": "markdown",
   "id": "2a74973a-9d3d-4ba8-82dc-4ff409fea031",
   "metadata": {},
   "source": [
    "> **Example:**\n",
    ">  \n",
    "> **GO:0031966:mitochondrial membrane** *`is part of`* **GO:0005740:mitochondrial envelope**\n",
    ">  \n",
    "> The *`part of`* relation is used to represent part-whole relationships. A *`part of`* relation would only be added between\n",
    "A and B if B is **necessarily** *`part of`* A: wherever B exists, it is as *`part of`* A, and the presence of the B implies\n",
    "the presence of A. However, given the occurrence of A, we cannot say for certain that B exists.\n"
   ]
  },
  {
   "cell_type": "markdown",
   "id": "e673bef7-d34b-4d8a-9096-541a7178599e",
   "metadata": {},
   "source": [
    "> **Example:**\n",
    ">  \n",
    "> **GO:0098689:latency-replication decision** *`regulates`* **GO:0019046:release from viral latency**\n",
    ">  \n",
    "> A relation that describes a case in which one process directly affects the manifestation of another process or quality,\n",
    "> i.e. the former *`regulates`* the latter.\n"
   ]
  },
  {
   "cell_type": "markdown",
   "id": "36bd1ccd",
   "metadata": {},
   "source": [
    "A more specific case with more nodes and edges can be seen in the figure below:\n",
    "<br>\n",
    "![](./images/Module3/GO_Relation.jpg)\n",
    "\n",
    "*(Source: https://advaitabio.com/)* <br>\n",
    "For more technical information about relations and their properties used in GO and other ontologies, see the\n",
    "<a href=\"https://obofoundry.org/ontology/ro.html\">OBO Relations Ontology (RO)</a>\n"
   ]
  },
  {
   "cell_type": "code",
   "execution_count": null,
   "id": "de58632b-8af1-494f-bd43-bc88d3d31010",
   "metadata": {},
   "outputs": [],
   "source": [
    "#Run the following command to take the quiz\n",
    "IRdisplay::display_html('<iframe src=\"../Quizzes/Quiz_Submodule3.html\" width=100% height=250></iframe>')"
   ]
  },
  {
   "cell_type": "markdown",
   "id": "c0d70e92",
   "metadata": {},
   "source": [
    "#### GO storage file formats\n",
    "GO terms are updated monthly in the following formats:\n",
    "* OBO 1.4 files are human-readable (in addition to machine-readable) and can be opened in any text editor.\n",
    "* OWL files can be read by <a href=\"https://protege.stanford.edu/\">Protégé</a> text editor.\n",
    "\n",
    " In this learning submodule, we will only use \".OBO\" to obtain GO terms. The OBO file format is for representing ontologies and controlled vocabularies. The format itself attempts to achieve the following goals:\n",
    " * Human readability\n",
    " * Ease of parsing\n",
    " * Extensibility\n",
    " * Minimal redundancy\n",
    "\n",
    "The file structure is shown in the following figure.\n",
    "\n",
    "\n",
    "![](./images/Module3/OBO_Format.jpg)\n",
    "\n",
    "The OBO file has a header, which is an unlabeled section at the beginning of the document. The header ends when the first term is encountered. Next, terms are represented in a labeled section with the tag *[Term]*. Under each term, we can find other information such as term ID, official name, category (namespace), term definition, synonym and relation to other GO terms.\n",
    "\n",
    "At this step, we still don't know what genes are related to which GO terms. In order to retrieve custom sets of gene ontology annotations for any list of genes from organisms, NCBI has published a Gene2GO database that obtains GO terms and the gene symbols related to those GO terms. The database can be retrieved from <a href=\"https://ftp.ncbi.nih.gov/gene/DATA/gene2go.gz\">here</a>. The Gene2GO database can be viewed using a text editor, the file structure is presented in the figure below:\n",
    "\n",
    "![](./images/Module3/Gene2GO.jpg)\n",
    "\n",
    "The OBO and Gene2GO databases will be used in combination to obtain GO terms and related genes for enrichment analysis."
   ]
  },
  {
   "cell_type": "markdown",
   "id": "5335d3b2",
   "metadata": {},
   "source": [
    "<!-- headings -->\n",
    "<a id=\"go-retrieve\"></a>\n",
    "### 1.2. Retrieving GO terms\n",
    "This section focuses on downloading related GO terms based on the DE gene list obtained from the DE analysis in the previous submodule.\n",
    "Here, we will use `topGO` and `hgu133plus2.db` R packages to obtain GO terms. The `topGO` package has built-in functions that use Gene2GO databases to retrieve GO terms from the gene ID given by DE analysis.\n",
    "The installation process of the packages can be done by the script below:"
   ]
  },
  {
   "cell_type": "code",
   "execution_count": null,
   "id": "6055c53f",
   "metadata": {},
   "outputs": [],
   "source": [
    "# Installation of topGO and hgu133plus2.db package\n",
    "suppressMessages({\n",
    "    if (!require(\"BiocManager\", quietly = TRUE)) {\n",
    "        install.packages(\"BiocManager\")\n",
    "    }\n",
    "    suppressWarnings(BiocManager::install(\"topGO\", update = F))\n",
    "    suppressWarnings(BiocManager::install(\"hgu133plus2.db\", update = F))\n",
    "    suppressWarnings(BiocManager::install(\"AnnotationDbi\", update = F))\n",
    "})"
   ]
  },
  {
   "cell_type": "code",
   "execution_count": null,
   "id": "1724cdf4",
   "metadata": {},
   "outputs": [],
   "source": [
    "# Importing the library\n",
    "suppressPackageStartupMessages({\n",
    "    suppressWarnings(library(\"topGO\"))\n",
    "    suppressWarnings(library(\"hgu133plus2.db\"))\n",
    "    suppressWarnings(library(\"AnnotationDbi\"))\n",
    "})"
   ]
  },
  {
   "cell_type": "markdown",
   "id": "bc0a8463",
   "metadata": {},
   "source": [
    "To get the DE gene list from the DE analysis in the previous submodules, we will first need to download the data saved from the cloud bucket. To do that, we can use the following commands."
   ]
  },
  {
   "cell_type": "code",
   "execution_count": null,
   "id": "8554f2b2",
   "metadata": {},
   "outputs": [],
   "source": [
    "# Download the limma_results.rds file to the \"data\" folder in current directory\n",
    "system(\"aws s3 cp s3://your-unique-name/GSE5281.rds ./data\")\n",
    "# Loading the DE result\n",
    "data = readRDS(\"./data/GSE5281.rds\")\n",
    "# Get the DE analysis from the loaded data\n",
    "limma_results <- data$limma_results"
   ]
  },
  {
   "cell_type": "code",
   "execution_count": null,
   "id": "ecbba43f",
   "metadata": {},
   "outputs": [],
   "source": [
    "# Get a numeric vector with names as gene ID from DE results for retrieving GO terms\n",
    "geneList <- limma_results$p.value\n",
    "# Assign gene id as names for the numeric vector\n",
    "names(geneList) <- rownames(limma_results)"
   ]
  },
  {
   "cell_type": "markdown",
   "id": "1abbc4dc",
   "metadata": {},
   "source": [
    "Now, we can search for related GO terms based on the new gene list using `topGO` package. First, we need to create a `topGOdata`\n",
    "object."
   ]
  },
  {
   "cell_type": "code",
   "execution_count": null,
   "id": "9f65ad1d",
   "metadata": {},
   "outputs": [],
   "source": [
    "# Retrieve all the GO terms related to the gene list obtained from the expression matrix\n",
    "GOdata <- new(\"topGOdata\", description = \"\", ontology = \"BP\", \n",
    "              allGenes = geneList, geneSel = function(x) x, nodeSize = 10, \n",
    "              annot = annFUN.org, ID = \"alias\", mapping = \"org.Hs.eg\")"
   ]
  },
  {
   "cell_type": "markdown",
   "id": "6c2604ce",
   "metadata": {},
   "source": [
    "We can search for related GO terms using `geneInTerm` function and view the term with associated genes."
   ]
  },
  {
   "cell_type": "code",
   "execution_count": null,
   "id": "6c12b8cf",
   "metadata": {},
   "outputs": [],
   "source": [
    "# Obtain a list of genes for each GO term\n",
    "allGO = genesInTerm(GOdata)\n",
    "# show the first 5 GO terms\n",
    "allGO[1:5]"
   ]
  },
  {
   "cell_type": "markdown",
   "id": "a490c445",
   "metadata": {},
   "source": [
    "Now, we already had GO terms with genes. However, we still do not know the meaning of GO terms related to biological processes. We can use `GO.db` database to get a set of annotation maps describing the entire Gene Ontology assembled using data from GO. We can use the following code to install the `GO.db` R package."
   ]
  },
  {
   "cell_type": "code",
   "execution_count": null,
   "id": "c7623efa",
   "metadata": {},
   "outputs": [],
   "source": [
    "# Install GO.db package\n",
    "suppressMessages({\n",
    "    if (!require(\"BiocManager\", quietly = TRUE)) {\n",
    "        install.packages(\"BiocManager\")\n",
    "        suppressWarnings(BiocManager::install(\"GO.db\", update = F))\n",
    "    }\n",
    "})\n",
    "\n",
    "# Import GO.db package\n",
    "library(GO.db)"
   ]
  },
  {
   "cell_type": "markdown",
   "id": "b1a67ea7",
   "metadata": {},
   "source": [
    "Then, we can use the following commands to obtain the GO terms description."
   ]
  },
  {
   "cell_type": "code",
   "execution_count": null,
   "id": "d43fe956",
   "metadata": {},
   "outputs": [],
   "source": [
    "# Getting the name of each GO term\n",
    "terms <- names(allGO)\n",
    "# Getting the description of each GO term\n",
    "descriptions <- lapply(Term(terms), function(go_term) go_term[[1]])"
   ]
  },
  {
   "cell_type": "code",
   "execution_count": null,
   "id": "4201d92e-f88c-4807-ad6c-5713b3776cac",
   "metadata": {},
   "outputs": [],
   "source": [
    "descriptions[1:10]"
   ]
  },
  {
   "cell_type": "markdown",
   "id": "4d4cfd98",
   "metadata": {},
   "source": [
    "In order to perform pathway analysis in later submodules, we need to save the GO terms using a standard format. One commonly used format is Gene Matrix Transposed file format *(\\*.gmt)*. The GMT file format is a tab delimited file format that describes gene sets. In the GMT format, each row represents a gene set; in the GMX format, each column represents a gene set. Here, we can save the GO terms and their associated genes to the *\\*.gmt* using the following `writeGMT` function. "
   ]
  },
  {
   "cell_type": "code",
   "execution_count": null,
   "id": "87443760",
   "metadata": {},
   "outputs": [],
   "source": [
    "#' Function to save Gene Ontology (GO) terms with gene sets to local storage in GMT format.\n",
    "#'\n",
    "#' @param genesets A list where each element corresponds to a gene set, named by the GO term. Each element contains a character vector of gene symbols belonging to that gene set.\n",
    "#' @param descriptions A list where each element corresponds to a gene set (GO term) description. It is indexed by the GO term names and contains character descriptions.\n",
    "#' @param outfile The path to the output file where the GMT-formatted data will be saved.\n",
    "#' @return This function is used for saving GO terms with gene sets to a GMT-formatted file.\n",
    "\n",
    "writeGMT <- function(genesets, descriptions, outfile = \"gene_sets.gmt\") {\n",
    "  # Check if the output file already exists, and remove it if it does\n",
    "  if (file.exists(outfile)) {\n",
    "    file.remove(outfile)\n",
    "  }\n",
    "\n",
    "  # Loop through each gene set (GO term) in the input genesets\n",
    "  for (gs in names(genesets)) {\n",
    "    # Prepare a line to write to the output file\n",
    "    line <- c(gs, gsub(\"\\t\", \" \", descriptions[[gs]]), genesets[[gs]])\n",
    "\n",
    "    # Write the line to the output file in GMT format\n",
    "    # The line contains GO term, description, and the associated gene symbols\n",
    "    write(line, file = outfile, sep = \"\\t\", append = TRUE, ncolumns = length(genesets[[gs]]) + 2)\n",
    "  }\n",
    "}\n",
    "\n",
    "\n",
    "# Specify the output file path\n",
    "outfile <- \"./data/GO_terms.gmt\"\n",
    "# Call the writeGMT function to save GO terms with genesets\n",
    "writeGMT(genesets = allGO, descriptions = descriptions, outfile = outfile)"
   ]
  },
  {
   "cell_type": "code",
   "execution_count": null,
   "id": "3241cbe2-03b5-4ccd-9e16-ecd05ebc6d1e",
   "metadata": {},
   "outputs": [],
   "source": [
    "# save the GO terms with genesets to Amazon S3 Bucket\n",
    "# replace <BUCKET_NAME> with name of your bucket that was previously made in submodule 1\n",
    "# system(\"aws s3 cp ./data/GO_terms.gmt s3://<BUCKET_NAME>\", intern = TRUE)\n",
    "system(\"aws s3 cp ./data/GO_terms.gmt s3://your-unique-name\", intern = TRUE)"
   ]
  },
  {
   "cell_type": "markdown",
   "id": "2543dea6",
   "metadata": {},
   "source": [
    "<!-- headings -->\n",
    "<a id=\"kegg-main\"></a>\n",
    "## 2. Kyoto Encyclopedia of Genes and Genomes (KEGG)\n",
    "<!-- headings -->\n",
    "<a id=\"kegg-overview\"></a>\n",
    "### 2.1. Overview\n",
    "KEGG is a collection of databases dealing with genomes, biological pathways, diseases, drugs, and chemical substances. KEGG is utilized for bioinformatics research and education, including data analysis in genomics, metagenomics, metabolomics and other omics studies, modeling and simulation in systems biology, and translational research in drug development. The KEGG database project was initiated in 1995 by Minoru Kanehisa, professor at the Institute for Chemical Research, Kyoto University, under the ongoing Japanese Human Genome Program. Foreseeing the need for a computerized resource that can be used for biological interpretation of genome sequence data, he started developing the KEGG PATHWAY database. It is a collection of manually drawn KEGG pathway maps representing experimental knowledge on metabolism and various other functions of the cell and the organism. Each pathway map contains a network of molecular interactions and reactions and is designed to link genes in the genome to gene products (mostly proteins) in the pathway. This has enabled the analysis called KEGG pathway mapping, whereby the gene content in the genome is compared with the KEGG PATHWAY database to examine which pathways and associated functions are likely to be encoded in the genome. KEGG is a \"computer representation\" of the biological system. It integrates building blocks and wiring diagrams of the system—more specifically, genetic building blocks of genes and proteins, chemical building blocks of small molecules and reactions, and wiring diagrams of molecular interaction and reaction networks. The illustrative structure of KEGG is presented as figure below.\n",
    "![](./images/Module3/KEGG.jpg)\n"
   ]
  },
  {
   "cell_type": "code",
   "execution_count": null,
   "id": "e3753d02-54e2-4f58-9484-5f697bbfc040",
   "metadata": {},
   "outputs": [],
   "source": [
    "#Run the following command to take the quiz\n",
    "IRdisplay::display_html('<iframe src=\"../Quizzes/Quiz_Submodule3-2.html\" width=100% height=250></iframe>')"
   ]
  },
  {
   "cell_type": "markdown",
   "id": "bc02ba6c",
   "metadata": {},
   "source": [
    "<!-- headings -->\n",
    "<a id=\"kegg-retrieve\"></a>\n",
    "### 2.2. Retrieving pathways from KEGG database\n",
    "In this section, we will retrieve pathways and related genesets from the KEGG database using R commands. Here we will use the `KEGGREST` R package that provides a client interface to the KEGG REST server. `KEGGREST` can be installed from the Bioconductor using the following command."
   ]
  },
  {
   "cell_type": "code",
   "execution_count": null,
   "id": "52623d24",
   "metadata": {},
   "outputs": [],
   "source": [
    "# Install KEGGREST package\n",
    "suppressMessages({\n",
    "    if (!require(\"BiocManager\", quietly = TRUE)) {\n",
    "        install.packages(\"BiocManager\")\n",
    "    }\n",
    "    suppressWarnings(BiocManager::install(\"KEGGREST\", update = F))\n",
    "})"
   ]
  },
  {
   "cell_type": "code",
   "execution_count": null,
   "id": "9c2dbd0f-6933-4dcd-b552-7d5a9b9b22a5",
   "metadata": {},
   "outputs": [],
   "source": [
    "# Import KEGGREST package\n",
    "suppressPackageStartupMessages({\n",
    "    library(KEGGREST)\n",
    "})"
   ]
  },
  {
   "cell_type": "markdown",
   "id": "1bb0e258",
   "metadata": {},
   "source": [
    "KEGG contains a number of databases. To get an idea of what is available, run `listDatabases()`:"
   ]
  },
  {
   "cell_type": "code",
   "execution_count": null,
   "id": "7628359f",
   "metadata": {},
   "outputs": [],
   "source": [
    "# List all available databases in KEGGREST\n",
    "KEGGREST::listDatabases()"
   ]
  },
  {
   "cell_type": "markdown",
   "id": "2216acc1",
   "metadata": {},
   "source": [
    "We can use these databases in further queries. Note that in many cases you can also use a three-letter KEGG organism code or a “T number” (genome identifier) in the same place you would use one of these database names.\n",
    "\n",
    "We can obtain the list of organisms available in KEGG with the `keggList()` function:"
   ]
  },
  {
   "cell_type": "code",
   "execution_count": null,
   "id": "2a577ddb",
   "metadata": {},
   "outputs": [],
   "source": [
    "# Get the list of organisms available in KEGG\n",
    "organism <- keggList(\"organism\")"
   ]
  },
  {
   "cell_type": "code",
   "execution_count": null,
   "id": "459b1e4d",
   "metadata": {},
   "outputs": [],
   "source": [
    "print(paste0(\"KEGG supports \", dim(organism)[1], \" organisms\"))"
   ]
  },
  {
   "cell_type": "markdown",
   "id": "73f1396b",
   "metadata": {},
   "source": [
    "To view the supported organisms we can use the following command:"
   ]
  },
  {
   "cell_type": "code",
   "execution_count": null,
   "id": "e89ee1aa",
   "metadata": {},
   "outputs": [],
   "source": [
    "# View several supported organism\n",
    "head(organism)"
   ]
  },
  {
   "cell_type": "code",
   "execution_count": null,
   "id": "c780749a-55ee-490d-afed-09bf11508670",
   "metadata": {},
   "outputs": [],
   "source": [
    "IRdisplay::display_html('<iframe src=\"../Quizzes/Quiz_Submodule3-3.html\" width=100% height=250></iframe>')"
   ]
  },
  {
   "cell_type": "markdown",
   "id": "550699c6-c262-4375-9939-249bd083af0f",
   "metadata": {},
   "source": [
    "In submodule 02, we performed DE analysis on a human dataset. Therefore, we need to download pathways for humans. The abbreviation of human pathway in KEGG is `hsa` and we can use the `keggList` function to get the pathway list."
   ]
  },
  {
   "cell_type": "code",
   "execution_count": null,
   "id": "029e2990",
   "metadata": {},
   "outputs": [],
   "source": [
    "# Obtain the pathways belong to human\n",
    "pathways.list <- keggList(\"pathway\", \"hsa\")"
   ]
  },
  {
   "cell_type": "markdown",
   "id": "0e587800",
   "metadata": {},
   "source": [
    "The pathway list contains pathway description and pathway code in a single line of text. To see the first five pathways related to **carbohydrate metabolism** we will use the commands below."
   ]
  },
  {
   "cell_type": "code",
   "execution_count": null,
   "id": "85de2fd0-fb3b-4e3e-bf46-a1cc27e61704",
   "metadata": {},
   "outputs": [],
   "source": [
    "#list the specific pathways to view\n",
    "pathway_ids <- c(\"hsa00010\", \"hsa00020\", \"hsa00030\", \"hsa00040\", \"hsa00051\")\n",
    "#view their names\n",
    "pathways.list[pathway_ids]"
   ]
  },
  {
   "cell_type": "markdown",
   "id": "f01c2884-352c-4ebd-bd38-af667697d41a",
   "metadata": {},
   "source": [
    "To learn more about these pathways you can visit https://www.genome.jp/kegg/pathway.html. "
   ]
  },
  {
   "cell_type": "code",
   "execution_count": null,
   "id": "b81aecd9-42b5-4771-b9a5-a4d667fccd2a",
   "metadata": {},
   "outputs": [],
   "source": [
    "#Run the following command to take the quiz\n",
    "IRdisplay::display_html('<iframe src=\"../Quizzes/Quiz_Submodule3-4.html\" width=100% height=250></iframe>')"
   ]
  },
  {
   "cell_type": "markdown",
   "id": "c1a8c415-aed3-455b-9d59-e8468f23255e",
   "metadata": {},
   "source": [
    "We can see that, in each line, the text in the quotation mark contains pathway information while the later part contains pathway code leading by a prefix `path:`. To get pathway codes from the pathway list, we can use the following commands:"
   ]
  },
  {
   "cell_type": "code",
   "execution_count": null,
   "id": "80faa8d2-7b63-49ae-8273-0590bb4d6166",
   "metadata": {},
   "outputs": [],
   "source": [
    "# Retrieve all the pathway IDs belong to human\n",
    "pathway.codes <- sub(\"path:\", \"\", names(pathways.list))\n",
    "pathway.codes"
   ]
  },
  {
   "cell_type": "markdown",
   "id": "a17edaa7-630b-4a28-8b91-254744d9c497",
   "metadata": {},
   "source": [
    "We can use the following command to check how many pathways are available for human."
   ]
  },
  {
   "cell_type": "code",
   "execution_count": null,
   "id": "a04ba7ce-6c41-4a90-8c3f-0225ed370651",
   "metadata": {},
   "outputs": [],
   "source": [
    "print(paste0(\"Number of available pathways for human are: \", length(pathway.codes)))"
   ]
  },
  {
   "cell_type": "markdown",
   "id": "1ef9cb86-a25c-4089-bbb7-7e6974eee57b",
   "metadata": {},
   "source": [
    "We will use the code below to obtain a list of genes and pathway descriptions for all available human pathways. We'll utilize the `keggGet` function for this task. Since this function can provide 10 results at a time, we will pass 10 pathway IDs as input at each step. \n",
    "\n",
    "Something to note is that the KEGG database may also provides pathways that hold many sub pathways so when we look up the pathways through keggGet, they may not have any genes listed in that report. This can skew our results so the for loop below takes out any pathway that does not have a Gene section from the list."
   ]
  },
  {
   "cell_type": "code",
   "execution_count": null,
   "id": "ffb8f1e4-a0cc-4495-b003-c7d94a5b4787",
   "metadata": {},
   "outputs": [],
   "source": [
    "# Create indexes for the outer loop\n",
    "idx4loop <- seq(from = 1, to = length(pathway.codes), by = 9)\n",
    "idx4loop <- c(idx4loop, length(pathway.codes))\n",
    "# Create list to store the gene sets\n",
    "genes.by.pathway <- list()\n",
    "description.by.pathway <- list()\n",
    "\n",
    "# Loop through the each index in idx4loop\n",
    "for (i in 1:length(idx4loop)) {\n",
    "    if (i < length(idx4loop)) {\n",
    "        # Get the ten pathways names to query using keggGet\n",
    "        pathways_names <- pathway.codes[idx4loop[i]: idx4loop[i+1]]\n",
    "        pw <- keggGet(pathways_names)\n",
    "        for (j in 1:length(pw)) {\n",
    "            pw2 <- pw[[j]]\n",
    "            # If the returned result of a pathway does not have the key \"GENE\", skip to the next pathway id\n",
    "            if (is.null(pw2$GENE)) next\n",
    "            description.by.pathway[[pathways_names[[j]]]] <-  pw2$NAME          \n",
    "\n",
    "            pw2 <- pw2$GENE[c(FALSE, TRUE)]\n",
    "            pw2 <- unlist(lapply(strsplit(pw2, split = \";\", fixed = T), function(x) x[1]))\n",
    "            genes.by.pathway[[pathways_names[[j]]]] <- pw2\n",
    "        } \n",
    "    } \n",
    "}\n",
    "                                 "
   ]
  },
  {
   "cell_type": "markdown",
   "id": "bfcf06fe",
   "metadata": {},
   "source": [
    "We can view the first five pathways with their genesets using the following command"
   ]
  },
  {
   "cell_type": "code",
   "execution_count": null,
   "id": "ac62baff",
   "metadata": {},
   "outputs": [],
   "source": [
    "# View the five pathways with the genesets\n",
    "genes.by.pathway[1:5]"
   ]
  },
  {
   "cell_type": "markdown",
   "id": "a3cf8b03",
   "metadata": {},
   "source": [
    "Use the following command to see the description of the first five pathways"
   ]
  },
  {
   "cell_type": "code",
   "execution_count": null,
   "id": "1f600459-2347-4d12-b988-6e0017198e82",
   "metadata": {},
   "outputs": [],
   "source": [
    "# View the description of the first five pathways\n",
    "description.by.pathway[names(genes.by.pathway[1:5])]"
   ]
  },
  {
   "cell_type": "markdown",
   "id": "111091ca-161f-41b7-a863-7f1b9e8ab7c0",
   "metadata": {},
   "source": [
    "Taking a look at the file since the first 8 pathways do not have any genes listed we can remove those hsa ids."
   ]
  },
  {
   "cell_type": "code",
   "execution_count": null,
   "id": "94a98586-782d-4576-9a6c-6cd281c3c520",
   "metadata": {},
   "outputs": [],
   "source": [
    "# Saving the pathway data to the local repository\n",
    "outfile <- \"./data/KEGG_pathways.gmt\"\n",
    "writeGMT(genesets = genes.by.pathway, descriptions = description.by.pathway, outfile = outfile)"
   ]
  },
  {
   "cell_type": "code",
   "execution_count": null,
   "id": "dafa08b2-de3b-4689-ad97-40973d13c315",
   "metadata": {},
   "outputs": [],
   "source": [
    "# Saving the pathway information to the Amazon S3 Bucket\n",
    "# replace <BUCKET_NAME> with name of your bucket that was previously made in submodule 1\n",
    "# system(\"aws s3 cp ./data/KEGG_pathways.gmt s3://<BUCKET_NAME>\", intern = TRUE)\n",
    "system(\"aws s3 cp ./data/KEGG_pathways.gmt s3://your-unique-name\", intern = TRUE)"
   ]
  },
  {
   "cell_type": "markdown",
   "id": "8a93dec3-6e16-4b7f-9874-9d709422d968",
   "metadata": {},
   "source": [
    "<!-- headings -->\n",
    "<a id=\"reactome-main\"></a>\n",
    "## 3. REACTOME Pathway Database\n",
    "<!-- headings -->\n",
    "<a id=\"reactome-overview\"></a>\n",
    "### 3.1. Overview\n",
    "\n",
    "REACTOME is an open-source, open-access pathway database that provides a valuable bioinformatics resource for the visualization, interpretation and analysis of biological pathways. Established in 2003, it is a collaborative project led by Lincoln Stein of OICR, Peter D’Eustachio of NYU Langone Health, Henning Hermjakob of EMBL-EBI, and Guanming Wu of OHSU. REACTOME focuses on reactions as its core unit, where entities like nucleic acids, proteins and small molecules contribute to form dynamic networks of interactions and are grouped into pathways. Covering species-specific pathways, each step undergoes rigorous experimental verification, ensuring reliability. This curation process mirrors the editing of a scientific review which requires the participation of multiple domain experts. REACTOME annotates human biological processes by breaking them down into molecular events, resembling classical chemical reactions. Each REACTOME event involves input entities interacting to produce output entities, encompassing reactions like metabolic conversions, binding events, complex formation, transport events, and protein activation. Events are organized into pathways and physical entities, whether small (e.g., glucose) or large (e.g., DNA), are cross-referenced to external databases. Since subcellular localization is crucial in human biological process regulations, Molecules within the Reactome database are linked to particular locations. Therefore, REACTOME treats its instances in different locations as distinct entities. This database uses Gene Ontology to control the vocabularies used to describe the subcellular locations of molecules and reactions, molecular functions, and the larger biological processes that a specific reaction is part of.\n",
    "\n",
    "REACTOME is broadly used by clinicians, geneticists, genomics researchers, and molecular biologists to interpret the findings of high-throughput experimental studies. It is also employed by computational biologists seeking to develop novel algorithms for leveraging knowledge from genetic research. Additionally, systems biologists use REACTOME to construct predictive models of normal and pathological pathways."
   ]
  },
  {
   "cell_type": "markdown",
   "id": "3df5fbfa-18d4-48a0-8ee0-8edd74337918",
   "metadata": {},
   "source": [
    "<!-- headings -->\n",
    "<a id=\"reactome-retrieve\"></a>\n",
    "### 3.2. Retrieving pathways from REACTOME database\n",
    "\n",
    "In this section, we'll employ the ReactomeContentService4R package to fetch pathways and their corresponding genes. The R package ReactomeContentService4R offers a convenient way to interact with the Reactome Content Service API. Its predefined functions enable users to access information and images containing proteins, pathways, and other molecules associated with a particular gene or entity in Reactome."
   ]
  },
  {
   "cell_type": "markdown",
   "id": "29bcc311-4557-4289-b843-6199bcf62538",
   "metadata": {},
   "source": [
    "We first need to install and import the `ReactomeContentService4R` package. If you encounter any error while installing this package in the notebook, you can still install it via the terminal. Normally, this package installation requires the `magick` package to be installed. We can either install the `magick` package via the terminal using this command: ```sudo apt-get install -y libmagick++-dev``` or use the `system` function to install it inside the notebook. To create a terminal in a Vertex AI notebook, you can click on File -> New -> Terminal. We will use the `system` function to install the package as follow:\n",
    "\n",
    "**Note**: Please be aware that the installation instructions provided here might change in the future with the release of new versions of the software or packages. It is advisable to check for the most up-to-date installation instructions on [CRAN official document page](https://cran.r-project.org/web/packages/magick/vignettes/intro.html). This ensures that you have the latest and most accurate information for installing the package. \n"
   ]
  },
  {
   "cell_type": "code",
   "execution_count": null,
   "id": "27d9ea54-929f-4d2d-88d5-6eaaa2a5e022",
   "metadata": {},
   "outputs": [],
   "source": [
    "# Install the magick package\n",
    "system(\"sudo apt-get install -y libmagick++-dev\", intern = TRUE, ignore.stdout = TRUE)"
   ]
  },
  {
   "cell_type": "code",
   "execution_count": null,
   "id": "daeea4df-538e-4105-b41f-f530c162a080",
   "metadata": {},
   "outputs": [],
   "source": [
    "# Install and load required packages with suppressWarnings and suppressMessages\n",
    "\n",
    "suppressWarnings({\n",
    "    suppressMessages({\n",
    "        if (!require(\"BiocManager\", quietly = TRUE))\n",
    "            install.packages(\"BiocManager\")\n",
    "\n",
    "        BiocManager::install(\"ReactomeContentService4R\", force = TRUE)\n",
    "    })\n",
    "})\n",
    "\n",
    "# Import the ReactomeContentService4R package\n",
    "library(\"ReactomeContentService4R\")"
   ]
  },
  {
   "cell_type": "markdown",
   "id": "f317436c-5848-4cf7-99a0-fd3585f80f20",
   "metadata": {},
   "source": [
    "To retrieve the infomation of pathways of specific species, we could use the `getSchemaClass` function. The `getSchemaClass` function fetch Instances by Class, to use this function, we need to pass the following arguments:\n",
    "\n",
    "- `class`: A character string specifying the schema class name.\n",
    "- `species`: A character string specifying the name or taxon id or dbId or abbreviation of species. Only Event and PhysicalEntity classes can specify species\n",
    "- `all`: A boolean to decide to return ALL entries or not, default is FALSE. \n",
    "\n",
    "This function returns a sorted dataframe containing entries that belong to the specified schema class.\n",
    "\n",
    "In the following code, we are getting all human pathways information."
   ]
  },
  {
   "cell_type": "code",
   "execution_count": null,
   "id": "b18c3da0-9803-47d2-99a0-5651dc6f3f61",
   "metadata": {},
   "outputs": [],
   "source": [
    "# Retrieve the pathways information using the getSchemaClass function\n",
    "pathways <- getSchemaClass(class = \"Pathway\", species = \"human\", all = TRUE)\n",
    "pathways[1:5]"
   ]
  },
  {
   "cell_type": "markdown",
   "id": "84a5a523-3026-42ae-a39d-86ffc38281fb",
   "metadata": {},
   "source": [
    "We will select only the pathway ID and their associated name column from the information dataframe."
   ]
  },
  {
   "cell_type": "code",
   "execution_count": null,
   "id": "bf977557-6ef7-4228-97ff-f747c64df85d",
   "metadata": {},
   "outputs": [],
   "source": [
    "# Get the pathway ID and the pathway description from the pathways information\n",
    "reactome_pathways <- pathways[, c(\"stId\", \"displayName\")]\n",
    "# Show some first row of the result table\n",
    "head(reactome_pathways)"
   ]
  },
  {
   "cell_type": "markdown",
   "id": "1e043308-5146-4b08-b01a-5ce77fe34e99",
   "metadata": {},
   "source": [
    "Next, We will get all genes ID for each pathway and store them in a list just like what we did with KEGG and GO Terms. To do that, we can use the code below."
   ]
  },
  {
   "cell_type": "code",
   "execution_count": null,
   "id": "020b4ec7-365e-4e6e-9087-e0d745f4854f",
   "metadata": {},
   "outputs": [],
   "source": [
    "# Create the geneset list \n",
    "rgenes.by.pathway <- sapply(reactome_pathways$stId, function (pathwayID) {\n",
    "    genesID <- event2Ids(event.id = pathwayID)\n",
    "    geneSymbol <- genesID[[\"geneSymbol\"]]\n",
    "    geneSymbol\n",
    "})\n",
    "\n",
    "# Get the description of the pathways list\n",
    "rdescription.by.pathway <- as.list(reactome_pathways$displayName)\n",
    "names(rdescription.by.pathway) <- reactome_pathways$stId"
   ]
  },
  {
   "cell_type": "code",
   "execution_count": null,
   "id": "20383b1c-0715-4376-95aa-bc1571af445e",
   "metadata": {},
   "outputs": [],
   "source": [
    "# Print out some first pathways and their genes IDs\n",
    "rgenes.by.pathway[1:5]"
   ]
  },
  {
   "cell_type": "code",
   "execution_count": null,
   "id": "fa55486d-f540-425a-b044-16718831267b",
   "metadata": {},
   "outputs": [],
   "source": [
    "# Print out some first pathways and their descriptions\n",
    "rdescription.by.pathway[1:10]"
   ]
  },
  {
   "cell_type": "markdown",
   "id": "a74e8194-db0c-42c3-b0c1-4ebac0fc1b18",
   "metadata": {},
   "source": [
    "Now, we can save the REACTOME pathways to a gmt file for later uses with the `writeGMT` function."
   ]
  },
  {
   "cell_type": "code",
   "execution_count": null,
   "id": "cd9dd8c5-2e0c-4f7a-984c-5d310e3df949",
   "metadata": {},
   "outputs": [],
   "source": [
    "# Saving the pathway information to the local repository\n",
    "outfile <- \"./data/REACTOME_pathways.gmt\"\n",
    "writeGMT(genesets = rgenes.by.pathway, descriptions = rdescription.by.pathway, outfile = outfile)\n"
   ]
  },
  {
   "cell_type": "code",
   "execution_count": null,
   "id": "c480eba3-2ec8-4299-ad1f-c1abdbdecf18",
   "metadata": {},
   "outputs": [],
   "source": [
    "# Saving the pathway information to the Amazon S3 Bucket\n",
    "# replace <BUCKET_NAME> with name of your bucket that was previously made in submodule 1\n",
    "# system(\"aws s3 cp ./data/REACTOME_pathways.gmt s3://<BUCKET_NAME>\", intern = TRUE)\n",
    "system(\"aws s3 cp ./data/REACTOME_pathways.gmt gs://your-unique-name\", intern = TRUE)"
   ]
  },
  {
   "cell_type": "markdown",
   "id": "0564328c",
   "metadata": {},
   "source": [
    "In the next submodule, we will do Pathway Analysis.\n"
   ]
  },
  {
   "cell_type": "markdown",
   "id": "90aec232",
   "metadata": {},
   "source": [
    "## Conclusion\n",
    "\n",
    "This notebook provided a comprehensive guide to retrieving and processing pathway information from three major biological databases: Gene Ontology (GO), Kyoto Encyclopedia of Genes and Genomes (KEGG), and REACTOME.  We explored the structure and organization of each database, learned how to access and query them using R, and importantly, formatted the resulting pathway gene sets into `.gmt` files for downstream analysis.  These curated gene sets, now stored locally and in Google Cloud Storage, are ready to be utilized for pathway enrichment analysis in the subsequent submodule, enabling us to interpret the biological significance of differentially expressed genes identified in previous analyses.  Remember that these databases are regularly updated; consider refreshing your downloaded data periodically to leverage the most current pathway annotations."
   ]
  },
  {
   "cell_type": "markdown",
   "id": "31a735bb",
   "metadata": {},
   "source": [
    "## Clean Up\n",
    "\n",
    "Remember to move to the next notebook or shut down your instance if you are finished."
   ]
  },
  {
   "cell_type": "markdown",
   "id": "b4de1c7c",
   "metadata": {},
   "source": [
    "---"
   ]
  },
  {
   "cell_type": "code",
   "execution_count": null,
   "id": "72feb66c-fd96-4c6b-b8fd-98a52c9bba13",
   "metadata": {},
   "outputs": [],
   "source": [
    "sessionInfo()"
   ]
  }
 ],
 "metadata": {},
 "nbformat": 4,
 "nbformat_minor": 5
}
