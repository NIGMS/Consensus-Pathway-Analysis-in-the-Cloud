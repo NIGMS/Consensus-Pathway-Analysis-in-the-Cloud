{
 "cells": [
  {
   "cell_type": "markdown",
   "id": "f380fb8f-dc93-414c-b815-6ace422d7f90",
   "metadata": {},
   "source": [
    "# Differential Analysis\n",
    "\n",
    "![](./images/Module2/DE_pipeline.png)\n",
    "\n",
    "## Overview\n",
    "\n",
    "The next step in the pathway analysis workflow is differential analysis (DE analysis). \n",
    "DE analysis is a fundamental method in genomics and bioinformatics that aims to identify genes or genomic elements exhibiting significant changes in expression levels between different experimental conditions. This analytical approach is crucial for understanding how gene expression patterns vary in response to different biological contexts, such as comparing healthy and diseased tissues or assessing the impact of various experimental treatments. The process typically includes data preprocessing, statistical analysis, multiple testing correction to control false discovery rates, and visualization techniques such as MA plots or volcano plots. \n",
    "This learning submodule demonstrates a computational workflow for the detection of DE genes using 2 example datasets of Microarray and RNA-Seq.\n",
    "\n",
    "## Learning Objectives\n",
    "1. Perform differential expression (DE) analysis using `limma`, `t-test`, `edgeR` and `DEseq` R packages.\n",
    "2. Filter and export the results table.\n",
    "3. Visualization of differential expression results.\n",
    "\n",
    "## Prerequisites\n",
    "\n",
    "\n",
    "**R Packages:** \n",
    "* `BiocManager`: For managing Bioconductor packages.\n",
    "* `limma`: For linear modeling and differential expression analysis of microarray and RNA-Seq data.\n",
    "* `matrixTests`:  Provides functions for performing t-tests on matrices.\n",
    "* `edgeR`:  For differential expression analysis of RNA-Seq data.\n",
    "* `DESeq2`:  Another package for differential expression analysis of RNA-Seq data.\n",
    "* `ggplot2`: For creating visualizations in R.\n",
    "* `gridExtra`:  For arranging multiple ggplot2 plots on a single page.\n",
    "* `ggvenn`:  For creating Venn diagrams.\n",
    "* `ggnewscale`: For using multiple fill and color scales in ggplot2.\n",
    "* `tidyr`:  For data manipulation and tidying.\n",
    "* `IRdisplay`:  To embed interactive quizzes. This is specific to displaying HTML within the R kernel of a Jupyter notebook.\n",
    "\n",
    "## Get Started\n",
    "\n",
    "### Table of Contents\n",
    "\n",
    "1. [Differential Analysis](#de-analysis)\n",
    "   -  1.1. [Differential Analysis using limma](#de-limma)\n",
    "   -  1.2. [Differential Analysis using t-test](#de-ttest)\n",
    "   -  1.3. [Differential Analysis using edgeR](#de-edger)\n",
    "   -  1.4. [Differential Analysis using DESeq2](#de-deseq2)\n",
    "2. [Differential Analysis Result Visualization](#visual-main)\n",
    "   -  2.1. [MA plot](#visual-ma)\n",
    "   -  2.2. [Volcano plot](#visual-vol)\n",
    "3. [Gene-level Consensus Analysis](#visual-cc)\n",
    "   -  3.1. [Venn diagram](#visual-venn)\n",
    "   -  3.2. [Heatmap plot](#visual-heat)\n",
    "\n",
    "\n",
    "<!-- ## Necessary Files\n",
    "In this submodule, users will have to provide the following inputs: \n",
    "- (1) Gene expression/count matrix in which, rows are genes and columns are samples. We recommend using gene ID as gene SYMBOL. If users use other different gene ID types, please refer to our [previous submodule](./Module01-Data_Preparation.ipynb) and the [Data downloading and gene mapping](#gene-mapping) subsection for the instructions of gene mapping.\n",
    "- (2) A table of sample information that has at least two columns: sample ID that matched the columns of the first input, and sample condition (e.g, control or disease) -->\n",
    "\n",
    "<!-- If users use the data prepared in the previous submodule, they only need to use the code available in the previous module to download the data from Google Cloud Bucket and load it for the analyses. -->\n",
    "\n"
   ]
  },
  {
   "cell_type": "code",
   "execution_count": null,
   "id": "4d184246-8f7b-4ba5-a830-821da1cbf90b",
   "metadata": {},
   "outputs": [],
   "source": [
    "#Run the following command to take the quiz\n",
    "IRdisplay::display_html('<iframe src=\"../Quizzes/Quiz_Submodule2-1.html\" width=100% height=250></iframe>')"
   ]
  },
  {
   "cell_type": "markdown",
   "id": "94432ff0-1ca5-41eb-a8ae-fa4d03d73967",
   "metadata": {},
   "source": [
    "<!-- headings -->\n",
    "<a id=\"gene-mapping\"></a>\n",
    "#### Data loading "
   ]
  },
  {
   "cell_type": "markdown",
   "id": "caf38c07-5bbe-4719-83ad-79815528ab78",
   "metadata": {},
   "source": [
    "In previous submodule, we saved expression data/count matrices and the sample's group information. We will use the following commands to download the data from Amazon S3 Bucket and load it."
   ]
  },
  {
   "cell_type": "code",
   "execution_count": null,
   "id": "b5b5ac65-91f5-4edc-95f5-0ab86c69bb11",
   "metadata": {},
   "outputs": [],
   "source": [
    "# Create the data folder if not exists\n",
    "dir.create(\"./data\", showWarnings = FALSE)\n",
    "# Download data from Amazon S3 Bucket to the data folder\n",
    "system(\"aws s3 cp s3://your-unique-name/GSE5281.rds ./data\")\n",
    "system(\"aws s3 cp s3://your-unique-name/GSE153873.rds ./data\")\n",
    "# Check the downloaded file in the data folder\n",
    "list.files(\"./data\")"
   ]
  },
  {
   "cell_type": "code",
   "execution_count": null,
   "id": "f51d8cb3-c282-478d-ab4f-c1df49d0bd10",
   "metadata": {},
   "outputs": [],
   "source": [
    "# Load previously saved data\n",
    "GSE5281Data <- readRDS(\"./data/GSE5281.rds\")\n",
    "# Get the expression data, sample informations and the gene id mapping table from the loaded data\n",
    "gse5281_expr <- GSE5281Data$expression_data\n",
    "gse5281_samples <- GSE5281Data$samples\n",
    "# Get the mapping table for the gene ID mapping from PROBEID to SYMBOL\n",
    "gse5281_genes <- GSE5281Data$genes"
   ]
  },
  {
   "cell_type": "code",
   "execution_count": null,
   "id": "ef48ccfa-e0c6-44ce-8438-d491c495ed4f",
   "metadata": {},
   "outputs": [],
   "source": [
    "# Load previously saved data\n",
    "GSE153873Data <- readRDS(\"./data/GSE153873.rds\")\n",
    "# Get the expression data, sample informations from the loaded data\n",
    "gse153873_count <- GSE153873Data$expression_data\n",
    "gse153873_samples <- GSE153873Data$samples"
   ]
  },
  {
   "cell_type": "code",
   "execution_count": null,
   "id": "70b9565c-0c73-4899-9d3d-e53eb7f15419",
   "metadata": {},
   "outputs": [],
   "source": [
    "# Show some first rows of the Microarray expression data\n",
    "head(gse5281_expr)\n",
    "# Show some first rows of the RNA-Seq count matrix\n",
    "head(gse153873_count)"
   ]
  },
  {
   "cell_type": "markdown",
   "id": "357d2769-8c1e-42e4-8d8c-c57b770515d1",
   "metadata": {},
   "source": [
    "To perform differential expression analysis, samples need to be grouped based on different conditions. In this case, since we are using the `GSE5281` and `GSA153873` datasets, the samples should be divided into two groups: \"c\" (\"normal/condition\") and \"d\" (\"alzheimer/disease\"). We already have this from the sample information saved in the previous submodule. The following codes can be used to extract the necessary data for the analyses."
   ]
  },
  {
   "cell_type": "code",
   "execution_count": null,
   "id": "93afbfa2-fab1-4c2f-8bd7-c4686dc2adff",
   "metadata": {},
   "outputs": [],
   "source": [
    "# Extract necessary data for Gene Differential Analysis of the GSE5281 dataset\n",
    "gse5281_anno <- data.frame(\n",
    "    sample = colnames(gse5281_expr),\n",
    "    group = gse5281_samples$condition,\n",
    "    row.names = colnames(gse5281_expr),\n",
    "    stringAsFactors = FALSE\n",
    ")\n",
    "\n",
    "# Extract necessary data for Gene Differential Analysis of the GSA153873 dataset\n",
    "gse153873_anno <- data.frame(\n",
    "    sample = colnames(gse153873_count),\n",
    "    group = gse153873_samples$condition,\n",
    "    row.names = colnames(gse153873_count),\n",
    "    stringAsFactors = FALSE\n",
    ")"
   ]
  },
  {
   "cell_type": "markdown",
   "id": "120ee1e6-d563-4877-8334-20e4909adece",
   "metadata": {},
   "source": [
    "To see the number of *normal* and *alzheimer*, we can use the following command:"
   ]
  },
  {
   "cell_type": "code",
   "execution_count": null,
   "id": "20e235e2-2230-4e19-b922-7ac0d66bbee1",
   "metadata": {},
   "outputs": [],
   "source": [
    "# show the number of normal (control) and alzheimer (disease) of the GSE5281 dataset\n",
    "table(gse5281_anno$group)"
   ]
  },
  {
   "cell_type": "markdown",
   "id": "312491c1-4dc0-4ac1-88dd-4d9b4c40abb9",
   "metadata": {},
   "source": [
    "<!-- headings -->\n",
    "<a id=\"de-analysis\"></a>\n",
    "## 1. Differential Analysis"
   ]
  },
  {
   "cell_type": "markdown",
   "id": "98a0bc3a",
   "metadata": {},
   "source": [
    "<!-- headings -->\n",
    "<a id=\"de-limma\"></a>\n",
    "### 1.1. Differential Analysis using limma\n",
    "By far, the most popular package for performing differential expression is `limma`. This package provides a flexible framework for the analysis of gene expression data, with a focus on detecting differentially expressed genes between two or more conditions.\n",
    "It offers a variety of statistical methods and models to handle different experimental designs, including single and multiple groups, paired samples, and time-series data. It also includes various normalization and quality control procedures to preprocess raw data and improve the accuracy and reproducibility of downstream analysis.\n",
    "\n",
    "\n",
    "Traditional approaches for analyzing gene expression data normally treat the variances of each gene as independent and estimate them based on the limited number of samples available. However, this can lead to inaccurate estimates due to the small sample size and high variability of gene expression data.\n",
    "To address this problem, in `limma`, the empirical Bayesian (EB) statistical methods are used to improve the estimation of gene-specific variances and fold changes in the analysis of gene expression data.\n",
    "These methods leverage information from other genes within the same dataset to enhance the accuracy of estimating gene-specific variances. This is achieved by initially estimating the overall distribution of variances across all genes and subsequently utilizing this distribution to estimate the variances for individual genes.\n",
    "By doing so, it can improve the detection of differentially expressed genes, particularly for genes with low expression levels or small sample sizes. The EB methods also provide more stable estimates of variances across multiple experiments, making it easier to compare results across different datasets."
   ]
  },
  {
   "cell_type": "code",
   "execution_count": null,
   "id": "fe4e6c03",
   "metadata": {},
   "outputs": [],
   "source": [
    "# Install limma package\n",
    "suppressMessages({\n",
    "    if (!require(\"BiocManager\", quietly = TRUE)) {\n",
    "        suppressWarnings(install.packages(\"BiocManager\"))\n",
    "    }\n",
    "    suppressWarnings(BiocManager::install(\"limma\", update = T))\n",
    "    \n",
    "})\n",
    "# Import limma package\n",
    "suppressPackageStartupMessages({\n",
    "    library(\"limma\")\n",
    "})"
   ]
  },
  {
   "cell_type": "markdown",
   "id": "d0f39a58-3ff1-408b-a591-cc8fe8477b2e",
   "metadata": {},
   "source": [
    "To perform the `limma` analysis, we will utilize the `runLimma` function provided below. This function requires a normalized expression matrix, a design matrix, and a contrast matrix as inputs to execute the `limma` test using the `lmFit` and `eBayes` functions. Subsequently, the `topTable` function from the limma package will be employed to generate a table of the top-ranked genes based on the fitted model. By default, `topTable` organizes genes from the smallest to the largest adjusted p-value, including associated gene information, log-FC, average log-CPM, moderated t-statistic, raw and adjusted p-values for each gene. The desired number of top genes to be displayed can be specified, where `number=Inf` includes all genes. Following the analysis, the `runLimma` function will return a dataframe containing the results of the analysis."
   ]
  },
  {
   "cell_type": "code",
   "execution_count": null,
   "id": "022b3559-b9ac-41d2-ad84-bd6395aa5e6a",
   "metadata": {},
   "outputs": [],
   "source": [
    "#' @description This function performs differential expression analysis using limma\n",
    "#'\n",
    "#' @param normExprs A matrix or data frame containing gene expression values. Rows represent genes, and columns represent samples.\n",
    "#' @param design A matrix or data frame specifying the experimental design for the linear model. Each column corresponds to a different experimental factor or covariate.\n",
    "#' @param contrast A matrix or data frame defining the contrasts of interest for the differential expression analysis. Each row represents a contrast.\n",
    "#' @return A list containing a limma-fitted model and an analysis result dataframe.\n",
    "\n",
    "runLimma <- function(normExprs, design, contrast) {\n",
    "    # if (max(normExprs) > 100) normExprs <- log2(normExprs + 1)\n",
    "    \n",
    "    # Fit a linear model\n",
    "    fit <- lmFit(object = normExprs, design = design) \n",
    "    # Specify contrasts for differential expression\n",
    "    fit <- contrasts.fit(fit = fit, contrasts = contrast) \n",
    "    # Empirical Bayes moderation of standard errors\n",
    "    fit <- eBayes(fit)\n",
    "    \n",
    "    # Extract results and additional information\n",
    "    DERes <- topTable(fit, coef = 1, number = nrow(normExprs), confint=TRUE)\n",
    "    \n",
    "    DERes$SYMBOL <- rownames(DERes)\n",
    "    DERes$p.value <- DERes$P.Value\n",
    "    DERes$statistic <- DERes$t\n",
    "    DERes$avgExpr <- DERes$AveExpr\n",
    "    DERes$pFDR <- DERes$adj.P.Val\n",
    "    \n",
    "    # Return a dataframe containing limma results\n",
    "    limma_res = DERes[, c(\"SYMBOL\", \"p.value\", \"pFDR\", \"statistic\", \"logFC\", \"avgExpr\")]\n",
    "   \n",
    "}"
   ]
  },
  {
   "cell_type": "markdown",
   "id": "edc6eee6-c6c9-48d5-9b8f-cd0a2eee05d6",
   "metadata": {},
   "source": [
    "#### Microarray dataset"
   ]
  },
  {
   "cell_type": "markdown",
   "id": "80dfe8ec-fd9b-4508-9680-af3dd3e0e84a",
   "metadata": {},
   "source": [
    "To use the `runLimma` function, we need to set up the design and contrast matrices. We can achieve this by separating our dataset's samples into the groups of interest. We will use the `model.matrix` function from `limma` package for this purpose. This function generates a design matrix with 0s and 1s, where each row corresponds to a sample, and each column represents a sample group. If there's a 1 in a cell, it indicates that the sample belongs to that specific group. For the GSE5281 dataset, we can create the groups, design and contrasts matrices as follows:"
   ]
  },
  {
   "cell_type": "code",
   "execution_count": null,
   "id": "e9175e41",
   "metadata": {},
   "outputs": [],
   "source": [
    "# Get the group information and convert it to factor\n",
    "gse5281_anno$group <- factor(gse5281_anno$group)\n",
    "\n",
    "# Create design matrix\n",
    "design <- model.matrix(object = ~0 + group, gse5281_anno)\n",
    "design"
   ]
  },
  {
   "cell_type": "markdown",
   "id": "7f451895-c5a2-4279-bf36-0b16a90199cf",
   "metadata": {},
   "source": [
    "To create the contrast matrix, we need to specify the comparison we're interested in. In this analysis, with two groups, we only have one contrast of interest. Multiple contrasts can be defined in the `makeContrasts` function.\n",
    "To use the `makeContrasts` function, we need to pass the following arguments:\n",
    "\n",
    "- `contrasts`: A character string specifying contrasts.\n",
    "- `levels`: A character vector or factor giving the names of the parameters of which contrasts are desired, or a design matrix or other object with the parameter names as column names.\n",
    "\n",
    "The `makeContrasts` function returns a matrix with columns corresponding to contrasts.\n"
   ]
  },
  {
   "cell_type": "code",
   "execution_count": null,
   "id": "38dd5879-6d95-4e59-9c29-c012f0eab4d4",
   "metadata": {},
   "outputs": [],
   "source": [
    "# Set up contrasts of interest and recalculate model coefficients\n",
    "cont.matrix <- limma::makeContrasts(\"groupd-groupc\", levels = design)\n",
    "cont.matrix"
   ]
  },
  {
   "cell_type": "markdown",
   "id": "f13a2895-2ca4-4a47-9a6b-df7e61c2e4b9",
   "metadata": {},
   "source": [
    "Now we can use the `runLimma` function to perform limma DE analysis on GSE5281 dataset."
   ]
  },
  {
   "cell_type": "code",
   "execution_count": null,
   "id": "a4aac001-550d-4319-a0b7-287b74738114",
   "metadata": {},
   "outputs": [],
   "source": [
    "# Run limma analysis using runLimma function\n",
    "gse5281LimmaRes <- runLimma(normExprs = gse5281_expr, design = design, contrast = cont.matrix)\n",
    "# Print some top genes of limma result\n",
    "head(gse5281LimmaRes[order(gse5281LimmaRes$pFDR), ])"
   ]
  },
  {
   "cell_type": "markdown",
   "id": "605cc2be-b159-462d-9721-570ab4067f34",
   "metadata": {},
   "source": [
    "#### RNA-Seq dataset"
   ]
  },
  {
   "cell_type": "markdown",
   "id": "7f7f962e-abb7-4745-88ed-097f0b82157c",
   "metadata": {},
   "source": [
    "For the GSE153873 dataset, we can do the similar steps as we did with the GSA5281 dataset."
   ]
  },
  {
   "cell_type": "code",
   "execution_count": null,
   "id": "e00a5ab4-78a0-404e-8457-4eae958e739f",
   "metadata": {},
   "outputs": [],
   "source": [
    "# Normalize the count matrix of the RNA-seq data for limma \n",
    "gse153873_count_normalized <- log2(gse153873_count + 1)\n",
    "# Get the group information and convert it to factor\n",
    "gse153873_anno$group <- factor(gse153873_anno$group)\n",
    "# Create design matrix\n",
    "design <- model.matrix(object = ~0 + group, gse153873_anno)\n",
    "# Set up contrasts of interest and recalculate model coefficients\n",
    "cont.matrix <- limma::makeContrasts(\"groupd-groupc\", levels = design)\n",
    "# Run limma analysis using runLimma function\n",
    "gse153873LimmaRes <- suppressWarnings(runLimma(normExprs = gse153873_count_normalized, design = design, contrast = cont.matrix))\n",
    "# Print some top genes of limma result\n",
    "head(gse153873LimmaRes[order(gse153873LimmaRes$pFDR), ])"
   ]
  },
  {
   "cell_type": "markdown",
   "id": "68287de2-eaa5-4ae3-80a8-0d948450bd2c",
   "metadata": {},
   "source": [
    "Now, we can save the DE analysis result to use in the later submodules."
   ]
  },
  {
   "cell_type": "code",
   "execution_count": null,
   "id": "a36d3aac",
   "metadata": {},
   "outputs": [],
   "source": [
    "# Save the data to the local disk using either rds or csv format\n",
    "# Save files in .rds fomat\n",
    "saveRDS(gse5281LimmaRes, file = \"./data/gse5281LimmaRes.rds\")\n",
    "saveRDS(gse153873LimmaRes, file = \"./data/gse153873LimmaRes.rds\")\n",
    "\n",
    "# Save files in .csv format\n",
    "write.csv(gse5281LimmaRes, file = \"./data/gse5281LimmaRes.csv\")\n",
    "write.csv(gse153873LimmaRes, file = \"./data/gse153873LimmaRes.csv\")\n",
    "\n",
    "# Add the limma result to the data list to save them all together in an rds file, we will do the same to other methods\n",
    "GSE5281Data$limma_results <- gse5281LimmaRes\n",
    "GSE153873Data$limma_results <- gse153873LimmaRes\n",
    "\n",
    "# Save files in Amazon S3 Bucket\n",
    "\n",
    "# Replace the <BUCKET_NAME> with the name of your bucket that was previously made in submodule 1\n",
    "# system(\"aws s3 cp ./data/limma_results.rds s3://<BUCKET_NAME>\", intern = TRUE)\n",
    "system(\"aws s3 cp ./data/gse5281LimmaRes.rds s3://your-unique-name\", intern = TRUE)\n",
    "system(\"aws s3 cp ./data/gse153873LimmaRes.rds s3://your-unique-name\", intern = TRUE)\n"
   ]
  },
  {
   "cell_type": "markdown",
   "id": "198055d2",
   "metadata": {},
   "source": [
    "<!-- headings -->\n",
    "<a id=\"de-ttest\"></a>\n",
    "### 1.2 Differential Analysis using t-test\n",
    "In gene expression analysis, t-test serves as a widely used statistical method for detecting differentially expressed (DE) genes. The fundamental concept underlying a t-test is to assess the difference in means relative to the variability within each group. A more substantial difference in means, in comparison to the variability within each group, suggests a higher likelihood of the difference being statistically significant.\n",
    "\n",
    "In the context of gene expression data, a t-test is typically applied to each gene separately. For each gene, the mean expression level in the treatment group is compared to the mean expression level in the control group. T-test produces a p-value that indicates the probability of observing the observed difference in means by chance.\n",
    "In order to identify DE genes, a significance threshold (or \"alpha value\") is chosen. Any gene with a p-value below this threshold is considered to be differentially expressed. The threshold is typically set at 0.05, meaning that there is a 5% chance of falsely identifying a gene as DE. We can use `row_t_welch` available in the `matrixTests` package to perform t-test between the two groups for each gene. Below is the code to install the necessary packages:"
   ]
  },
  {
   "cell_type": "code",
   "execution_count": null,
   "id": "7eaa2d7c",
   "metadata": {},
   "outputs": [],
   "source": [
    "# Install matrixTests package\n",
    "suppressMessages({\n",
    "    suppressWarnings(install.packages(\"matrixTests\", quiet = T))\n",
    "})\n",
    "\n",
    "# Import matrixTests package\n",
    "suppressPackageStartupMessages({library(\"matrixTests\")})"
   ]
  },
  {
   "cell_type": "markdown",
   "id": "67dd7f16",
   "metadata": {},
   "source": [
    "To conduct t-Test differential expression (DE) analysis, we can utilize the `runTtest` function in the provided code. The required inputs include an expression matrix, group information, and the type of alternative hypothesis for the test. The function will yield a dataframe containing the statistical results of the analysis."
   ]
  },
  {
   "cell_type": "code",
   "execution_count": null,
   "id": "31cb6cce",
   "metadata": {},
   "outputs": [],
   "source": [
    "#' @description This function performs differential expression analysis using t-test \n",
    "#'\n",
    "#' @param countMatrix A matrix of gene expression data where rows represent genes and columns represent samples.\n",
    "#' @param groups A vector specifying the grouping of samples. Should have the same length as the number of columns in countMatrix.\n",
    "#' @param alternative The type of alternative hypothesis for the t-test (\"two.sided\", \"less\", or \"greater\").\n",
    "#' @return A dataframe containing the result of the analysis.\n",
    "\n",
    "runTtest <- function(countMatrix, groups, alternative = \"two.sided\") {\n",
    "    # if (max(countMatrix) > 100) countMatrix <- log2(countMatrix + 1)\n",
    "\n",
    "    grUnique <- unique(groups)\n",
    "    # Divide the countMatrix matrix into two separate matrices X and Y. X is the control group and Y is the disease group\n",
    "    X <- countMatrix[, groups == grUnique[1]]\n",
    "    Y <- countMatrix[, groups == grUnique[2]]\n",
    "\n",
    "    # Perform Welch's t-test using row_t_welch function\n",
    "    tTest_res <- suppressWarnings(row_t_welch(x = X, y = Y, alternative = alternative, conf.level = 0.95))\n",
    "    \n",
    "    # Extract results and additional information    \n",
    "    tTest_res$SYMBOL <- rownames(tTest_res)\n",
    "    tTest_res$p.value <- tTest_res$pvalue\n",
    "    tTest_res$statistic <- tTest_res$statistic\n",
    "    tTest_res$logFC <- log2(tTest_res$mean.y) - log2(tTest_res$mean.x)\n",
    "    tTest_res$avgExpr <- rowMeans(countMatrix)\n",
    "    \n",
    "    # Adjust p-values for multiple testing using the false discovery rate (FDR)\n",
    "    tTest_res$pFDR <- p.adjust(tTest_res$p.value, method = \"fdr\")\n",
    "    \n",
    "    # Return the results with only important columns\n",
    "    tTest_res[, c(\"SYMBOL\", \"p.value\", \"pFDR\", \"statistic\", \"logFC\", \"avgExpr\")]\n",
    "}\n",
    "\n"
   ]
  },
  {
   "cell_type": "markdown",
   "id": "5d0e27b8-3182-4d1b-870e-28ba431e8482",
   "metadata": {},
   "source": [
    "#### Microarray dataset"
   ]
  },
  {
   "cell_type": "code",
   "execution_count": null,
   "id": "6f78389a-6d78-4b23-bf90-74687463df80",
   "metadata": {},
   "outputs": [],
   "source": [
    "# Run t-test analysis using runTtest function with GSE5281 dataset\n",
    "gse5281TtestRes <- runTtest(countMatrix = gse5281_expr, groups = as.factor(gse5281_anno$group))\n",
    "# Show some first rows of the result tables\n",
    "head(gse5281TtestRes)"
   ]
  },
  {
   "cell_type": "markdown",
   "id": "3008b32f-9ddf-4299-baaa-3280f4151384",
   "metadata": {},
   "source": [
    "#### RNA-Seq dataset"
   ]
  },
  {
   "cell_type": "code",
   "execution_count": null,
   "id": "eb55427f-8168-4636-8126-0cd79cbc75c9",
   "metadata": {},
   "outputs": [],
   "source": [
    "# Run t-test analysis using runTtest function with GSE153873 dataset\n",
    "gse153873TtestRes <- runTtest(countMatrix = gse153873_count_normalized, groups = as.factor(gse153873_anno$group))\n",
    "head(gse153873TtestRes)"
   ]
  },
  {
   "cell_type": "code",
   "execution_count": null,
   "id": "2c651ebe-1f61-49d2-8a1a-01fd4e59e31c",
   "metadata": {},
   "outputs": [],
   "source": [
    "# Save the data to the local disk using either rds or csv format\n",
    "# Save files in .rds fomat\n",
    "saveRDS(gse5281TtestRes, file = \"./data/gse5281TtestRes.rds\")\n",
    "saveRDS(gse153873TtestRes, file = \"./data/gse153873TtestRes.rds\")\n",
    "\n",
    "# Save files in .csv fomat\n",
    "write.csv(gse5281TtestRes, file = \"./data/gse5281TtestRes.csv\")\n",
    "write.csv(gse153873TtestRes, file = \"./data/gse153873TtestRes.csv\")\n",
    "\n",
    "# Add the t-test result to the data list to save them all together in an rds file\n",
    "GSE5281Data$tTest_results <- gse5281TtestRes\n",
    "GSE153873Data$tTest_results <- gse153873TtestRes\n",
    "\n",
    "# Save files in Amazon S3 Bucket\n",
    "# Replace the <BUCKET_NAME> with the name of your bucket that was previously made in submodule 1\n",
    "# system(\"aws s3 cp ./data/limma_results.rds s3://<BUCKET_NAME>\", intern = TRUE)\n",
    "system(\"aws s3 cp ./data/gse5281TtestRes.rds s3://your-unique-name\", intern = TRUE)\n",
    "system(\"aws s3 cp ./data/gse153873TtestRes.rds s3://your-unique-name\", intern = TRUE)\n"
   ]
  },
  {
   "cell_type": "markdown",
   "id": "b9ee0bdb",
   "metadata": {},
   "source": [
    "<!-- headings -->\n",
    "<a id=\"de-edger\"></a>\n",
    "### 1.3. Differential Analysis using edgeR\n",
    "\n",
    "edgeR is a popular R package for differential expression (DE) analysis of RNA sequencing (RNA-seq) data. The package uses empirical Bayesian methods to account for biological variability and gene-specific sequencing depth, making it a robust and powerful tool for identifying DE genes.\n",
    "\n",
    "\n",
    "The basic workflow for DE analysis using edgeR involves several steps:\n",
    "\n",
    "\n",
    "1. Data pre-processing: Raw sequencing reads are first pre-processed to filter out low-quality reads and align them to a reference genome. This step typically includes quality control, read trimming and alignment.\n",
    "\n",
    "\n",
    "2. Count matrix generation: A count matrix is generated by counting the number of reads that map to each gene in each sample. This matrix represents the raw gene expression data and is used as input for DE analysis.\n",
    "\n",
    "\n",
    "3. Normalization: edgeR applies a normalization method called trimmed mean of M-values (TMM) to adjust for differences in sequencing depth between samples. This method calculates scaling factors for each sample based on the mean and variance of the log ratios of gene expression levels between pairs of samples.\n",
    "\n",
    "\n",
    "4. Dispersion estimation: edgeR uses a negative binomial model to account for biological variability in gene expression data. This model estimates the dispersion of counts within and between samples, which reflects the amount of biological variability in gene expression data.\n",
    "\n",
    "\n",
    "5. Differential expression analysis: edgeR uses a statistical framework called generalized linear models (GLMs) to test for differential expression between two or more groups. This method models the relationship between gene expression and experimental factors (e.g., treatment, time, condition) to identify genes that are significantly differentially expressed.\n",
    "\n",
    "\n",
    "6. Multiple testing correction: To control for the high false positive rate associated with testing many genes simultaneously, edgeR applies a multiple testing correction method called the false discovery rate (FDR). This method adjusts p-values to control the expected proportion of false positives among all significant tests.\n",
    "\n",
    "\n",
    "Overall, edgeR is a powerful and widely used tool for DE analysis of RNA-seq data, offering a flexible framework for the detection of DE genes that accounts for biological variability and gene-specific sequencing depth. It also provides several visualization tools to help users explore and interpret the results."
   ]
  },
  {
   "cell_type": "code",
   "execution_count": null,
   "id": "f4322d97",
   "metadata": {},
   "outputs": [],
   "source": [
    "# Install edgeR package from Bioconductor\n",
    "suppressMessages({ \n",
    "    if (!require(\"BiocManager\", quietly = TRUE)) {\n",
    "        install.packages(\"BiocManager\")\n",
    "    }\n",
    "    suppressWarnings(BiocManager::install(\"edgeR\"))\n",
    "})\n",
    "# Import edgeR package\n",
    "suppressPackageStartupMessages({library(\"edgeR\")})\n"
   ]
  },
  {
   "cell_type": "markdown",
   "id": "761598c3-7b0b-4d60-a03f-d8b1251be7ac",
   "metadata": {},
   "source": [
    "To conduct differential expression (DE) analysis using the edgeR method, we can use the `runEdgeR` function. Similar to `runTtest`, `runEdgeR` function requires an expression matrix (countMatrix) and a groups factor (groups) and it will return a dataframe with essential statistical results for the edgeR DE analysis."
   ]
  },
  {
   "cell_type": "code",
   "execution_count": null,
   "id": "0ebc140b-c8d3-4f36-9ef3-5ee224b87100",
   "metadata": {},
   "outputs": [],
   "source": [
    "#' @description This function performs differential expression analysis using edgeR \n",
    "#'\n",
    "#' @param countMatrix A matrix of gene expression data where rows represent genes and columns represent samples.\n",
    "#' @param groups A vector specifying the grouping of samples. Should have the same length as the number of columns in countMatrix.\n",
    "#' @return A dataframe containing the result of the analysis.\n",
    "\n",
    "runEdgeR <- function(countMatrix, groups) {\n",
    "    \n",
    "    # Creates a DGEList object from a table of counts (rows=features, columns=samples), \n",
    "    # group indicator for each column, library size (optional) and a table of feature annotation (optional).\n",
    "    dge <- DGEList(counts = countMatrix, group = factor(groups))\n",
    "    \n",
    "    # Calculating the normalization factor\n",
    "    dge <- calcNormFactors(object = dge)\n",
    "    \n",
    "    # Estimate dispersion\n",
    "    dge <- suppressMessages(estimateDisp(y = dge))\n",
    "    \n",
    "    # Perform exact test\n",
    "    et <- exactTest(object = dge)\n",
    "    \n",
    "    # Getting top DE genes\n",
    "    top_degs <- topTags(object = et, n = \"Inf\")  \n",
    "    \n",
    "    # Extract results and additional information\n",
    "    top_degs$table$SYMBOL <- rownames(top_degs$table)\n",
    "    top_degs$table$p.value <- top_degs$table$PValue\n",
    "    top_degs$table$pFDR <- top_degs$table$FDR\n",
    "    top_degs$table$statistic <- top_degs$table$logFC\n",
    "    top_degs$table$avgExpr <- top_degs$table$logCPM\n",
    "    \n",
    "    # Return the results with only important columns\n",
    "    top_degs$table[, c(\"SYMBOL\", \"p.value\", \"pFDR\", \"statistic\", \"logFC\", \"avgExpr\")]\n",
    "}"
   ]
  },
  {
   "cell_type": "markdown",
   "id": "a4ad0901-35f6-420d-9bdc-7fe591105be8",
   "metadata": {},
   "source": [
    "Using the `runEdgeR` function, we can now conduct the `edgeR` differential analysis with the provided code."
   ]
  },
  {
   "cell_type": "markdown",
   "id": "c3aca417-8459-43fe-b717-1cf38f2d6fed",
   "metadata": {},
   "source": [
    "#### Microarray dataset"
   ]
  },
  {
   "cell_type": "code",
   "execution_count": null,
   "id": "d7a0196f-54b4-465e-90e0-da4b60ab4563",
   "metadata": {},
   "outputs": [],
   "source": [
    "# Run differential analysis using runEdgeR function with GSE5281 dataset\n",
    "gse5281EdgeRRes <- runEdgeR(countMatrix = gse5281_expr, groups = as.factor(gse5281_anno$group))\n",
    "head(gse5281EdgeRRes)"
   ]
  },
  {
   "cell_type": "markdown",
   "id": "ade8f9e6-0a9e-4a44-add2-d8af8b192a95",
   "metadata": {},
   "source": [
    "#### RNA-Seq dataset"
   ]
  },
  {
   "cell_type": "code",
   "execution_count": null,
   "id": "9fc8f4f2-20ff-4494-a508-e1597a6857c7",
   "metadata": {},
   "outputs": [],
   "source": [
    "# Run differential analysis using runEdgeR function with GSE153873 dataset\n",
    "gse153873EdgeRRes <- runEdgeR(countMatrix = gse153873_count, groups = as.factor(gse153873_anno$group))\n",
    "head(gse153873EdgeRRes)"
   ]
  },
  {
   "cell_type": "markdown",
   "id": "c82dcfd3-57ec-4b55-9f3f-8032d929bde2",
   "metadata": {},
   "source": [
    "Now, we can save the differential analysis result to use in the later submodules."
   ]
  },
  {
   "cell_type": "code",
   "execution_count": null,
   "id": "2e3dcb6c-82a2-46e5-8bfd-3db573495cf5",
   "metadata": {},
   "outputs": [],
   "source": [
    "# Save the data to the local disk using either rds or csv format\n",
    "# Save files in .rds format\n",
    "saveRDS(gse5281EdgeRRes, file = \"./data/gse5281EdgeRRes.rds\")\n",
    "saveRDS(gse153873EdgeRRes, file = \"./data/gse153873EdgeRRes.rds\")\n",
    "\n",
    "# Save files in .rds format\n",
    "write.csv(gse5281EdgeRRes, file = \"./data/gse5281EdgeRRes.csv\")\n",
    "write.csv(gse153873EdgeRRes, file = \"./data/gse153873EdgeRRes.csv\")\n",
    "\n",
    "# Add the edgeR result to the data list to save them all together in an rds file\n",
    "GSE5281Data$edgeR_results <- gse5281EdgeRRes\n",
    "GSE153873Data$edgeR_results <- gse153873EdgeRRes\n",
    "\n",
    "# Save files in Amazon S3 Bucket\n",
    "# Replace the <BUCKET_NAME> with the name of your bucket that was previously made in submodule 1\n",
    "# system(\"aws s3 cp ./data/limma_results.rds s3://<BUCKET_NAME>\", intern = TRUE)\n",
    "system(\"aws s3 cp ./data/gse5281EdgeRRes.rds s3://your-unique-name\", intern = TRUE)\n",
    "system(\"aws s3 cp ./data/gse153873EdgeRRes.rds s3://your-unique-name\", intern = TRUE)\n"
   ]
  },
  {
   "cell_type": "markdown",
   "id": "8a509764-57e5-4185-9bfe-62da6b7b136b",
   "metadata": {},
   "source": [
    "Similar to the two previous DE analysis methods, we will also visualize the DE result of edgeR with MA plots and volcano plots."
   ]
  },
  {
   "cell_type": "code",
   "execution_count": null,
   "id": "629d1d38-b685-4d1a-8e42-08bcbdc83aec",
   "metadata": {},
   "outputs": [],
   "source": [
    "# Run the following command to take the quiz\n",
    "IRdisplay::display_html('<iframe src=\"../Quizzes/Quiz_Submodule2-3.html\" width=100% height=250></iframe>')"
   ]
  },
  {
   "cell_type": "markdown",
   "id": "0bf63b53",
   "metadata": {},
   "source": [
    "<!-- headings -->\n",
    "<a id=\"de-deseq2\"></a>\n",
    "### 1.4. Differential Analysis using DESeq2\n",
    "DESeq2 is a popular R package for differential expression (DE) analysis of RNA sequencing (RNA-Seq) data. The package uses a negative binomial distribution to model the gene expression counts and applies shrinkage estimation to improve the accuracy of differential expression analysis.\n",
    "\n",
    "\n",
    "The basic workflow for DE analysis using DESeq2 involves several steps:\n",
    "\n",
    "\n",
    "1. Data pre-processing: Raw sequencing reads are first pre-processed to filter out low-quality reads and align them to a reference genome. This step typically includes quality control, read trimming, and alignment.\n",
    "\n",
    "\n",
    "2. Count matrix generation: A count matrix is generated by counting the number of reads that map to each gene in each sample. This matrix represents the raw gene expression data and is used as input for DE analysis.\n",
    "\n",
    "\n",
    "3. Normalization: DESeq2 applies a normalization method called size factors to adjust for differences in sequencing depth between samples. This method calculates scaling factors for each sample based on the total number of reads in each sample.\n",
    "\n",
    "\n",
    "4. Dispersion estimation: DESeq2 estimates the dispersion of counts within and between samples using a negative binomial distribution. This model accounts for biological variability in gene expression data and can handle low counts and overdispersion.\n",
    "\n",
    "\n",
    "5. Differential expression analysis: DESeq2 uses a statistical framework called the Wald test to test for differential expression between two or more groups. This method models the relationship between gene expression and experimental factors (e.g., treatment, time, condition) to identify genes that are significantly differentially expressed.\n",
    "\n",
    "\n",
    "6. Multiple testing correction: To control for the high false positive rate associated with testing many genes simultaneously, DESeq2 applies a multiple testing correction method called the Benjamini-Hochberg (BH) procedure. This method adjusts p-values to control the expected proportion of false positives among all significant tests.\n",
    "\n",
    "\n",
    "DESeq2 also includes several visualization tools, such as principal component analysis (PCA) and heatmaps, to help users explore and interpret the results.\n",
    "\n",
    "\n",
    "Overall, DESeq2 is a powerful and widely used tool for DE analysis of RNA-Seq data, offering a flexible framework for the detection of DE genes that accounts for biological variability and gene-specific sequencing depth. It is particularly useful for analyzing low-count genes and handling complex experimental designs."
   ]
  },
  {
   "cell_type": "code",
   "execution_count": null,
   "id": "062fae15",
   "metadata": {},
   "outputs": [],
   "source": [
    "# Install and import the ggplot2 package\n",
    "suppressWarnings({\n",
    "    suppressMessages({\n",
    "        install.packages(\"ggplot2\")\n",
    "        library(ggplot2)\n",
    "    })\n",
    "})\n",
    "\n",
    "# Installing and loading the library\n",
    "suppressMessages({ \n",
    "    if (!require(\"BiocManager\", quietly = TRUE)) {\n",
    "        install.packages(\"BiocManager\")\n",
    "    }\n",
    "    suppressWarnings(BiocManager::install(\"DESeq2\", update = F))\n",
    "    \n",
    "})\n",
    "\n",
    "# Import DESeq2 package\n",
    "suppressPackageStartupMessages({library(\"DESeq2\")})"
   ]
  },
  {
   "cell_type": "code",
   "execution_count": null,
   "id": "9fd5b127-e79e-4b6f-8f04-c5774675d905",
   "metadata": {},
   "outputs": [],
   "source": [
    "#' @description This function performs differential expression analysis using DESeq2\n",
    "#'\n",
    "#' @param countMatrix A matrix of gene expression data where rows represent genes and columns represent samples.\n",
    "#' @param groups A vector specifying the grouping of samples. It should have the same length as the number of columns in countMatrix.\n",
    "#' @return A dataframe containing the result of the analysis.\n",
    "\n",
    "runDESeq2 <- function(countMatrix, groups) {\n",
    "    \n",
    "    # Constructing a group table that contains information about group members for all patients.\n",
    "    coldata <- data.frame(\n",
    "        sample = colnames(countMatrix),\n",
    "        condition = as.factor(groups),\n",
    "        row.names = \"sample\" \n",
    "    )\n",
    "    \n",
    "    # Suppressing messages to avoid printing DESeq2 messages\n",
    "    suppressMessages({\n",
    "        # Create a DESeqDataSet object\n",
    "        dds <- DESeqDataSetFromMatrix(countData = round(countMatrix), colData = coldata,\n",
    "                                      design = ~condition)\n",
    "        # Relevel the 'condition' factor\n",
    "        dds$condition <- relevel(x = dds$condition, ref = \"c\")\n",
    "        #  # Filter out low-count rows\n",
    "        # dds <- dds[rowSums(counts(dds)) >= 10, ]\n",
    "        # Run DESeq analysis\n",
    "        dds <- suppressWarnings(DESeq(object = dds))\n",
    "    })\n",
    "\n",
    "    # Get names of results\n",
    "    resultsNames(object = dds)\n",
    "    \n",
    "    # Get differential expression results\n",
    "    res <- results(object = dds)\n",
    "    \n",
    "    # Drop na rows\n",
    "    res <- res[complete.cases(res), ]\n",
    "\n",
    "    # Order results by adjusted p-value\n",
    "    res <- as.data.frame(res[order(res$padj), ])\n",
    "\n",
    "    # Extract results and additional information\n",
    "    res$SYMBOL <- rownames(res)\n",
    "    res$p.value <- res$pvalue\n",
    "    res$statistic <- res$stat\n",
    "    res$logFC <- res$log2FoldChange\n",
    "    res$avgExpr <- log2(res$baseMean + 1)\n",
    "    res$pFDR <- p.adjust(res$p.value, method = \"fdr\")\n",
    "    \n",
    "    # Return the results with only important columns\n",
    "    res[, c(\"SYMBOL\", \"p.value\", \"pFDR\", \"statistic\", \"logFC\", \"avgExpr\")]\n",
    "}\n"
   ]
  },
  {
   "cell_type": "markdown",
   "id": "d25c03c3-821b-41a6-b80c-5e3396edd8d8",
   "metadata": {},
   "source": [
    "Now we can perform `DESeq2` analysis with the `runDESeq2` function. "
   ]
  },
  {
   "cell_type": "markdown",
   "id": "f68f4c2a-e0bb-4bc3-a8d8-4b9fbfad8530",
   "metadata": {},
   "source": [
    "#### Microarray dataset"
   ]
  },
  {
   "cell_type": "code",
   "execution_count": null,
   "id": "c067d87b-72eb-4d96-9c6c-0863df19fd8e",
   "metadata": {},
   "outputs": [],
   "source": [
    "# Run DESeq2 analysis using runDESeq2 function with GSE5281 dataset\n",
    "gse5281DESeq2Res <- runDESeq2(countMatrix = gse5281_expr, groups = as.factor(gse5281_anno$group))\n",
    "# Show some first rows of the result \n",
    "head(gse5281DESeq2Res)"
   ]
  },
  {
   "cell_type": "markdown",
   "id": "6b637783-9ae8-443e-9a2e-a3a629cfc050",
   "metadata": {},
   "source": [
    "#### RNA-Seq dataset"
   ]
  },
  {
   "cell_type": "code",
   "execution_count": null,
   "id": "8fd0c716-8ddf-4635-890c-5dda340f6818",
   "metadata": {},
   "outputs": [],
   "source": [
    "# Run DESeq2 analysis using runDESeq2 function with GSE153873 dataset\n",
    "gse153873DESeq2Res <- runDESeq2(countMatrix = gse153873_count, groups = as.factor(gse153873_anno$group))\n",
    "# Show some first rows of the result \n",
    "head(gse153873DESeq2Res)"
   ]
  },
  {
   "cell_type": "markdown",
   "id": "849ec8e0-92c2-478b-860b-c09a94e2627d",
   "metadata": {},
   "source": [
    "Now, we can save the DE analysis result to use in the later submodules."
   ]
  },
  {
   "cell_type": "code",
   "execution_count": null,
   "id": "028e586f-6cd7-4584-89dd-1a742bc7945f",
   "metadata": {},
   "outputs": [],
   "source": [
    "# Save the data to the local disk using either rds or csv format\n",
    "# Save in .rds format\n",
    "saveRDS(gse5281DESeq2Res, file = \"./data/gse5281DESeq2Res.rds\")\n",
    "saveRDS(gse153873DESeq2Res, file = \"./data/gse153873DESeq2Res.rds\")\n",
    "\n",
    "# Save in .csv format\n",
    "write.csv(gse5281DESeq2Res, file = \"./data/gse5281DESeq2Res.csv\")\n",
    "write.csv(gse153873DESeq2Res, file = \"./data/gse153873DESeq2Res.csv\")\n",
    "\n",
    "# Add the DESeq2 result to the data list to save them all together in an rds file\n",
    "GSE5281Data$deseq2_results <- gse5281DESeq2Res\n",
    "GSE153873Data$deseq2_results <- gse153873DESeq2Res\n",
    "\n",
    "# Save files in Amazon S3 Bucket\n",
    "# Replace the <BUCKET_NAME> with the name of your bucket that was previously made in submodule 1\n",
    "# system(\"aws s3 cp ./data/limma_results.rds s3://<BUCKET_NAME>\", intern = TRUE)\n",
    "system(\"aws s3 cp ./data/gse5281EdgeRRes.rds s3://your-unique-name\", intern = TRUE)\n",
    "system(\"aws s3 cp ./data/gse153873EdgeRRes.rds s3://your-unique-name\", intern = TRUE)"
   ]
  },
  {
   "cell_type": "code",
   "execution_count": null,
   "id": "aa6bf614-94b1-4f74-abae-9e6ef52c07d4",
   "metadata": {},
   "outputs": [],
   "source": [
    "# Run the following command to take the quiz\n",
    "IRdisplay::display_html('<iframe src=\"../Quizzes/Quiz_Submodule2-4.html\" width=100% height=250></iframe>')"
   ]
  },
  {
   "cell_type": "markdown",
   "id": "012dda47-a7fc-4f8f-8427-93628e797c43",
   "metadata": {},
   "source": [
    "After completing all the analysis methods, we can now save the results to a single RDS file for convenience in using them in submodules 4 and 5."
   ]
  },
  {
   "cell_type": "code",
   "execution_count": null,
   "id": "587f2247-2a43-435e-882c-18bc64cb059f",
   "metadata": {},
   "outputs": [],
   "source": [
    "# Save all data to .rds files\n",
    "saveRDS(GSE5281Data, file = \"./data/GSE5281.rds\")\n",
    "saveRDS(GSE153873Data, file = \"./data/GSE153873.rds\")"
   ]
  },
  {
   "cell_type": "code",
   "execution_count": null,
   "id": "fdea4d42-71e5-49a6-9b10-a0fcb12c5333",
   "metadata": {},
   "outputs": [],
   "source": [
    "# Save all data to Amazon S3 Bucket\n",
    "# Replace <BUCKET_NAME> with the name of your bucket that was previously made in submodule 1\n",
    "# system(\"aws s3 cp ./data/GSE5281.rds s3://<BUCKET_NAME>\", intern = TRUE)\n",
    "\n",
    "system(\"aws s3 cp ./data/GSE5281.rds s3://your-unique-name\", intern = TRUE)\n",
    "system(\"aws s3 cp ./data/GSE153873.rds s3://your-unique-name\", intern = TRUE)"
   ]
  },
  {
   "cell_type": "code",
   "execution_count": null,
   "id": "0d57b5d5-6faa-4466-bdc0-3eb183f3c570",
   "metadata": {},
   "outputs": [],
   "source": [
    "# Run the following command to take the quiz\n",
    "IRdisplay::display_html('<iframe src=\"../Quizzes/Quiz_Submodule2.html\" width=100% height=250></iframe>')"
   ]
  },
  {
   "cell_type": "markdown",
   "id": "4ed6d25a-45db-4d38-a51c-f57b7d5b985d",
   "metadata": {},
   "source": [
    " <!-- headings -->\n",
    " <a id=\"visual-main\"></a>\n",
    "## 2. Differential Analysis Result Visualization\n",
    "\n",
    "Visualizing DE results is pivotal for unraveling complex patterns within genomic data. As the outcomes of DE analysis often encompass numerous genes exhibiting diverse expression changes, employing effective visualization methods becomes essential to distill this information into interpretable and insightful representations. These visualizations not only assist in pinpointing significant gene expression differences but also contribute to uncovering broader trends and relationships. In this instruction, we will explore two specific visualization tools: the MA plot and the volcano plot. The MA plot compare the average expression level with the log2 fold-change while the volcano plot to compare the log2 fold-change with -log10 p-value. Together, these visualizations could enhance our understanding of the analysis results."
   ]
  },
  {
   "cell_type": "markdown",
   "id": "b055d178-0577-49ce-aaf4-a9f507fc2c18",
   "metadata": {},
   "source": [
    " <!-- headings -->\n",
    " <a id=\"visual-ma\"></a>\n",
    "### 2.1. MA plot\n",
    "To visually summarize results for all genes from the DE analysis methods, we can use MA plots, which displays the difference between the average expression level (x-axis) against the log2 fold-change (y-axis), with the differentially expressed genes highlighted. \n",
    "In a usual MA plot, most points gather around a line showing zero change. If any points move up or down, it means there's a problem in the data that needs to be corrected. \n",
    "To create an MA plot, we will use the `ggplot2` package and the `plotMA` function below."
   ]
  },
  {
   "cell_type": "code",
   "execution_count": null,
   "id": "34b9b369-6e79-4838-942b-7db8e857544a",
   "metadata": {},
   "outputs": [],
   "source": [
    "#' @description This function visualizes differential expression results with an MA plot\n",
    "#'\n",
    "#' @param DEResult A dataframe containing differential expression results, typically generated by a DE analysis function.\n",
    "#' @param pThreshold A numerical value specifying the threshold of p-values to filter DE genes (default: 0.05).\n",
    "#' @param useFDR A boolean indicating whether to use adjusted p-values (False Discovery Rate - FDR) for significance (default: TRUE).\n",
    "#' @param logFCThreshold A numerical value specifying the threshold for absolute log-fold change to consider genes as differentially expressed (default: 1).\n",
    "#' @param labels A vector of gene labels for highlighting specific genes (default: NULL).\n",
    "#' @param fitMethod A character string specifying the method for fitting the smooth curve in the MA plot (\"loess\" or \"lowess\", default: \"loess\").\n",
    "#' @return A plot visualizing the differential expression results with an MA plot.\n",
    "\n",
    "plotMA <- function(DEResult, pThreshold = 0.05, useFDR = TRUE, logFCThreshold = 0.5, labels = NULL, fitMethod = \"loess\") {\n",
    "    # Filter the DE genes for the plot\n",
    "    plotDat <- data.frame(\n",
    "        x = DEResult$avgExpr,\n",
    "        y = DEResult$logFC,\n",
    "        isSig = (\n",
    "            if (useFDR) {\n",
    "                DEResult$pFDR < pThreshold\n",
    "            } else {\n",
    "                DEResult$p.value < pThreshold\n",
    "            }\n",
    "        )\n",
    "    )\n",
    "    # assign color for each gene\n",
    "    plotDat$color <- factor(plotDat$isSig * (abs(plotDat$y) > logFCThreshold) * sign(plotDat$y), levels = c(1, -1, 0))\n",
    "\n",
    "    if (!is.null(labels)) {\n",
    "        plotDat$label <- labels[DEResult$PROBEID]\n",
    "    }\n",
    "    # Create the scatter plot using ggplot\n",
    "    pl <- ggplot(plotDat, aes(x = .data$x, y = .data$y, color = .data$color)) +\n",
    "        geom_point() +\n",
    "        theme_bw() +\n",
    "        theme_minimal() +\n",
    "        theme(\n",
    "            axis.line.x = element_blank(),\n",
    "            axis.line.y = element_blank(),\n",
    "        ) +\n",
    "        scale_color_manual(\n",
    "            values = c(\n",
    "                \"1\" = \"#B80F0A\",\n",
    "                \"-1\" = \"#004F98\",\n",
    "                \"0\" = \"darkgray\"\n",
    "            ),\n",
    "            labels = c(\n",
    "                \"1\" = paste0(\"Upregulated (\", sum(plotDat$color == 1, na.rm = TRUE), \")\"),\n",
    "                \"-1\" = paste0(\"Downregulated (\", sum(plotDat$color == -1, na.rm = TRUE), \")\"),\n",
    "                \"0\" = paste0(\"Not significant (\", sum(plotDat$color == 0, na.rm = TRUE), \")\")\n",
    "            ),\n",
    "            guide = guide_legend(override.aes = list(size = 3), title = \"Significance\")\n",
    "        ) +\n",
    "        theme(\n",
    "            legend.position = \"bottom\"\n",
    "        ) +\n",
    "        labs(\n",
    "            x = \"Average expression\",\n",
    "            y = \"Log2 fold change\"\n",
    "        ) +\n",
    "        geom_hline(yintercept = -logFCThreshold, linetype = \"dashed\") +\n",
    "        geom_hline(yintercept = logFCThreshold, linetype = \"dashed\")\n",
    "\n",
    "    if (!is.null(labels)) {\n",
    "        labelDat <- filter(plotDat, !is.na(.data$label))\n",
    "\n",
    "        pl <- pl + geom_label_repel(\n",
    "            labelDat,\n",
    "            mapping = aes(x = .data$x, y = .data$y, label = .data$label),\n",
    "            size = 3,\n",
    "            segment.size = 0.75,\n",
    "            segment.color = \"#888888\",\n",
    "            color = \"black\",\n",
    "            box.padding = 1,\n",
    "            force = 3,\n",
    "            point.size = NA\n",
    "        )\n",
    "    }\n",
    "    # Create the fit curve for the data\n",
    "    if (!is.null(fitMethod)) {\n",
    "        pl <- pl + geom_smooth(\n",
    "            formula = y ~ x,\n",
    "            method = fitMethod,\n",
    "            se = FALSE,\n",
    "            color = \"#228b22\"\n",
    "        ) +\n",
    "            geom_hline(yintercept = 0, color = \"#888888\")\n",
    "    }\n",
    "    # return the plot\n",
    "    pl\n",
    "\n",
    "}"
   ]
  },
  {
   "cell_type": "markdown",
   "id": "2f7dd380-5fe5-4694-baaa-6d1d101d82fc",
   "metadata": {},
   "source": [
    "To create MA plots for the limma analysis results of the GSE5281 and GSE153873 datasets, we will use the `plotMA` function as follows: "
   ]
  },
  {
   "cell_type": "code",
   "execution_count": null,
   "id": "f4131d4c",
   "metadata": {},
   "outputs": [],
   "source": [
    "# Install gridExtra package\n",
    "install.packages(\"gridExtra\")\n",
    "# Import gridExtra package\n",
    "library(gridExtra)"
   ]
  },
  {
   "cell_type": "code",
   "execution_count": null,
   "id": "3fa6a844-603a-427e-b48d-15c87fd3a1dd",
   "metadata": {},
   "outputs": [],
   "source": [
    "options(repr.plot.width = 6, repr.plot.height = 6)\n",
    "# Create a MA plot for the limma result of the GSE5281 dataset\n",
    "MA1 <- plotMA(DEResult = gse5281LimmaRes, pThreshold = 0.05, useFDR = FALSE, logFCThreshold = 0.5) + ggtitle(\"GSE5281\")\n",
    "# Create a MA plot for the limma result of the GSE153873 dataset\n",
    "MA2 <- plotMA(DEResult = gse153873LimmaRes, pThreshold = 0.05, useFDR = FALSE, logFCThreshold = 0.5) + ggtitle(\"GSE153873\")\n",
    "\n",
    "options(repr.plot.width = 12, repr.plot.height = 6)\n",
    "# Combine the two plots using grid.arrange function\n",
    "combinedMA <- gridExtra::grid.arrange(\n",
    "    MA1 + scale_x_continuous(expand = c(0.01, 0.01)), \n",
    "    MA2 + scale_x_continuous(expand = c(0.01, 0.01)),\n",
    "    ncol = 2\n",
    ")\n",
    "combinedMA"
   ]
  },
  {
   "cell_type": "markdown",
   "id": "47fa9dad-23a9-46cf-9c0c-74c3e5ec590a",
   "metadata": {},
   "source": [
    "We construct the MA plot by the significance defined using a p-value cutoff that is set at 5% by default. For the comparison between expression levels in *“disease”* (alzheimer) and *“control”* (normal), 3495 genes are found to be down-regulated and 2212 genes are up-regulated in the limma result of GSE5281 dataset. "
   ]
  },
  {
   "cell_type": "markdown",
   "id": "2a160d8e-bf23-4a0f-a27c-63d923abab62",
   "metadata": {},
   "source": [
    "For t-test results:"
   ]
  },
  {
   "cell_type": "code",
   "execution_count": null,
   "id": "d114135e-0a07-4bd5-945d-8611c803f687",
   "metadata": {},
   "outputs": [],
   "source": [
    "# Adjust size of the plot\n",
    "options(repr.plot.width = 6, repr.plot.height = 6)\n",
    "# Create a MA plot for the t-test result of the GSE5281 dataset\n",
    "MAplt1 <- plotMA(DEResult = gse5281TtestRes, pThreshold = 0.05, useFDR = FALSE, logFCThreshold = 0.5, labels = NULL) + ggtitle(\"GSE5281\")\n",
    "# Create a MA plot for the t-test result of the GSE153873 dataset\n",
    "MAplt2 <- plotMA(DEResult = gse153873TtestRes, pThreshold = 0.05, useFDR = FALSE, logFCThreshold = 0.5, labels = NULL) + ggtitle(\"GSE153873\")\n",
    "\n",
    "options(repr.plot.width = 12, repr.plot.height = 6)\n",
    "# Combine the two plots using grid.arrange function\n",
    "combinedMA <- suppressWarnings(gridExtra::grid.arrange(\n",
    "    MAplt1 + scale_x_continuous(expand = c(0.01, 0.01)), \n",
    "    MAplt2 + scale_x_continuous(expand = c(0.01, 0.01)),\n",
    "    ncol = 2\n",
    "))\n",
    "combinedMA"
   ]
  },
  {
   "cell_type": "markdown",
   "id": "6410ba3e-56f6-442c-b9a0-03ecf9d34f78",
   "metadata": {},
   "source": [
    "For edgeR results:"
   ]
  },
  {
   "cell_type": "code",
   "execution_count": null,
   "id": "b7a0392c-9e21-47d0-b47c-5ae26e3c8843",
   "metadata": {},
   "outputs": [],
   "source": [
    "# Adjust size of the plot\n",
    "options(repr.plot.width = 6, repr.plot.height = 6)\n",
    "# Create a MA plot for the limma result of the GSE5281 dataset\n",
    "MAplt1 <- plotMA(DEResult = gse5281EdgeRRes, pThreshold = 0.05, useFDR = TRUE, logFCThreshold = 0.5) + ggtitle(\"GSE5281\")\n",
    "# Create a MA plot for the limma result of the GSE153873 dataset\n",
    "MAplt2 <- plotMA(DEResult = gse153873EdgeRRes, pThreshold = 0.05, useFDR = TRUE, logFCThreshold = 0.5) + ggtitle(\"GSE153873\")\n",
    "\n",
    "# Adjust size of the plot\n",
    "options(repr.plot.width = 12, repr.plot.height = 6)\n",
    "# Combine the two plots using grid.arrange function\n",
    "combinedMA <- gridExtra::grid.arrange(\n",
    "    MAplt1 + scale_x_continuous(expand = c(0.01, 0.01)), \n",
    "    MAplt2 + scale_x_continuous(expand = c(0.01, 0.01)),\n",
    "    ncol = 2\n",
    ")\n",
    "combinedMA"
   ]
  },
  {
   "cell_type": "markdown",
   "id": "028b1f0a-36ac-4c07-b188-8e4c12f265a7",
   "metadata": {},
   "source": [
    "For DESeq2 results:"
   ]
  },
  {
   "cell_type": "code",
   "execution_count": null,
   "id": "1ecf375a-2783-4fa5-9c38-628f7cf038d2",
   "metadata": {},
   "outputs": [],
   "source": [
    "# Adjust size of the plot\n",
    "options(repr.plot.width = 6, repr.plot.height = 6)\n",
    "# Create a MA plot for the limma result of the GSE5281 dataset\n",
    "MAplt1 <- plotMA(DEResult = gse5281DESeq2Res, pThreshold = 0.05, useFDR = TRUE, logFCThreshold = 0.5) + ggtitle(\"GSE5281\")\n",
    "# Create a MA plot for the limma result of the GSE153873 dataset\n",
    "MAplt2 <- plotMA(DEResult = gse153873DESeq2Res, pThreshold = 0.05, useFDR = TRUE, logFCThreshold = 0.5) + ggtitle(\"GSE153873\")\n",
    "\n",
    "# Adjust size of the plot\n",
    "options(repr.plot.width = 12, repr.plot.height = 6)\n",
    "# Combine the two plots using grid.arrange function\n",
    "combinedMA <- gridExtra::grid.arrange(\n",
    "    MAplt1 + scale_x_continuous(expand = c(0.01, 0.01)), \n",
    "    MAplt2 + scale_x_continuous(expand = c(0.01, 0.01)),\n",
    "    ncol = 2\n",
    ")\n",
    "combinedMA"
   ]
  },
  {
   "cell_type": "code",
   "execution_count": null,
   "id": "9c293995-575f-4ae1-9a2f-f6caa4e1c7fd",
   "metadata": {},
   "outputs": [],
   "source": [
    "# Run the following command to take the quiz\n",
    "IRdisplay::display_html('<iframe src=\"../Quizzes/Quiz_Submodule2-2.html\" width=100% height=250></iframe>')"
   ]
  },
  {
   "cell_type": "markdown",
   "id": "660cea0d-4a02-40c1-b43d-b04847ba0f81",
   "metadata": {},
   "source": [
    "<!-- headings -->\n",
    " <a id=\"visual-vol\"></a>\n",
    "### 2.2. Volcano plot\n",
    "The volcano plot is a special type of scatterplot that is commonly used for visualizing the results of DE analyses. In a volcano plot, the *x* axis shows the *log-fold* change and the *y* axis is some measure of statistical significance, which in this case is the -log10 of the p-value. A characteristic “volcano” shape should be seen. To create a volcano plot, we can use the function `plotVolcanoDE` below."
   ]
  },
  {
   "cell_type": "code",
   "execution_count": null,
   "id": "99117ba6-0f6c-4979-ba58-59d2ad3d656e",
   "metadata": {},
   "outputs": [],
   "source": [
    "#' @description This function generates a volcano plot based on DE analysis results \n",
    "#'\n",
    "#' @param DEResult A dataframe containing differential expression results, typically generated by a DE analysis function.\n",
    "#' @param pThreshold A numerical value specifying the threshold for p-values to filter DE genes (default: 0.05).\n",
    "#' @param useFDR A boolean indicating whether to use adjusted p-values (False Discovery Rate - FDR) for significance (default: TRUE).\n",
    "#' @param logFCThreshold A numerical value specifying the threshold for absolute log-fold change to consider genes as differentially expressed (default: 1).\n",
    "#' @return A filtered dataframe containing significant differential expression results.\n",
    "#' @examples\n",
    "#' filtered_result <- filter_differential_expression(de_result, pThreshold = 0.05, useFDR = TRUE, logFCThreshold = 0.5)\n",
    "\n",
    "plotVolcanoDE <- function(DEResult, pThreshold = 0.05, useFDR = TRUE, logFCThreshold = 0.5) {\n",
    "\n",
    "    # Check if the required columns exist in the DEResult\n",
    "    if (!\"logFC\" %in% colnames(DEResult)) {\n",
    "        stop(\"The logFC column is not in the results data frame.\")\n",
    "    }\n",
    "\n",
    "    if (useFDR && !(\"pFDR\" %in% colnames(DEResult))) {\n",
    "        stop(\"The pFDR column is not in the results data frame.\")\n",
    "    } else if (!(\"p.value\" %in% colnames(DEResult))) {\n",
    "        stop(\"The p.value column is not in the results data frame.\")\n",
    "    }\n",
    "\n",
    "    pvalues <- if (useFDR) {\n",
    "        DEResult$pFDR\n",
    "    } else {\n",
    "        DEResult$p.value\n",
    "    }\n",
    "    # Filter out the DE Genes for plotting\n",
    "    plotDat <- data.frame(\n",
    "        x = DEResult$logFC,\n",
    "        y = -log10(pvalues),\n",
    "        color = ifelse(abs(DEResult$logFC) > logFCThreshold & pvalues < pThreshold,  DEResult$logFC, NA)\n",
    "    )\n",
    "\n",
    "    isNoSig <- FALSE\n",
    "    if (sum(is.na(plotDat$color)) == nrow(plotDat)) {\n",
    "        isNoSig <- TRUE\n",
    "        plotDat$color <- \"gray\"\n",
    "    }\n",
    "    # Create the plot\n",
    "    pl <- ggplot(plotDat, aes(x = .data$x, y = .data$y, color = .data$color)) +\n",
    "        geom_point() +\n",
    "        geom_hline(yintercept = -log10(pThreshold), linetype = \"dashed\", color = \"black\") +\n",
    "        geom_vline(xintercept = -logFCThreshold, linetype = \"dashed\") +\n",
    "        geom_vline(xintercept = logFCThreshold, linetype = \"dashed\") +\n",
    "        labs(\n",
    "            x = \"log2 fold change\",\n",
    "            y = if (useFDR) {\n",
    "                \"-log10 pFDR\"\n",
    "            } else {\n",
    "                \"-log10 p-value\"\n",
    "            }\n",
    "        ) +\n",
    "        theme_bw() +\n",
    "        theme(\n",
    "            panel.grid.minor = element_blank(),\n",
    "            panel.background = element_blank(),\n",
    "            axis.line.x = element_line(color = \"darkgray\"),\n",
    "            axis.line.y = element_line(color = \"darkgray\"),\n",
    "            plot.title = element_text(hjust = 0.5),\n",
    "            legend.position = \"none\"\n",
    "        )\n",
    "\n",
    "    \n",
    "    if (!isNoSig) {\n",
    "        pl <- pl + scale_color_gradient(low = \"blue\", high = \"red\", na.value = \"gray\")\n",
    "    } else {\n",
    "        pl <- pl + scale_color_manual(values = \"gray\")\n",
    "    }\n",
    "    # Return the plot\n",
    "    pl\n",
    "\n",
    "}"
   ]
  },
  {
   "cell_type": "markdown",
   "id": "b0dcd79c-f405-4ce3-92d4-c0575add2247",
   "metadata": {},
   "source": [
    "For the volcano plot of the limma analysis result, we will use the following code:"
   ]
  },
  {
   "cell_type": "code",
   "execution_count": null,
   "id": "5ea603e9-d540-44a8-90ad-36ed3dba8544",
   "metadata": {},
   "outputs": [],
   "source": [
    "# Create a MA plot for the limma result of the GSE5281 dataset\n",
    "Volplt1 <- plotVolcanoDE(DEResult = gse5281LimmaRes, pThreshold = 0.05, useFDR = FALSE, logFCThreshold = 0.5) + ggtitle(\"GSE5281\")\n",
    "\n",
    "# Create a MA plot for the limma result of the GSE153873 dataset\n",
    "Volplt2 <- plotVolcanoDE(DEResult = gse153873LimmaRes, pThreshold = 0.05, useFDR = FALSE, logFCThreshold = 0.5) + ggtitle(\"GSE153873\")\n",
    "\n",
    "# Adjust size of the plot\n",
    "options(repr.plot.width = 12, repr.plot.height = 6)\n",
    "# Combine the two plots using grid.arrange function\n",
    "combinedVol <- gridExtra::grid.arrange(\n",
    "    Volplt1 + scale_x_continuous(expand = c(0.01, 0.01)), \n",
    "    Volplt2 + scale_x_continuous(expand = c(0.01, 0.01)),\n",
    "    ncol = 2\n",
    ")\n",
    "combinedVol"
   ]
  },
  {
   "cell_type": "markdown",
   "id": "cfb14dec-ab02-4297-a52a-6b4b24bf48d9",
   "metadata": {},
   "source": [
    "For t-test results:"
   ]
  },
  {
   "cell_type": "code",
   "execution_count": null,
   "id": "48c9fa2b-0fb7-4bae-88ef-23508edaf83a",
   "metadata": {},
   "outputs": [],
   "source": [
    "# Create a MA plot for the t-test result of the GSE5281 dataset\n",
    "Volplt1 <- plotVolcanoDE(DEResult = gse5281TtestRes, pThreshold = 0.05, useFDR = FALSE, logFCThreshold = 0.5) + ggtitle(\"GSE5281\")\n",
    "\n",
    "# Create a MA plot for the t-test result of the GSE153873 dataset\n",
    "Volplt2 <- plotVolcanoDE(DEResult = gse153873TtestRes, pThreshold = 0.05, useFDR = FALSE, logFCThreshold = 0.5) + ggtitle(\"GSE153873\")\n",
    "\n",
    "# Adjust size of the plot\n",
    "options(repr.plot.width = 12, repr.plot.height = 6)\n",
    "# Combine the two plots using grid.arrange function\n",
    "combinedVol <- suppressWarnings(gridExtra::grid.arrange(\n",
    "    Volplt1 + scale_x_continuous(expand = c(0.01, 0.01)), \n",
    "    Volplt2 + scale_x_continuous(expand = c(0.01, 0.01)),\n",
    "    ncol = 2\n",
    "))\n",
    "combinedVol"
   ]
  },
  {
   "cell_type": "markdown",
   "id": "c1d32225-6fd2-446b-8d54-9d91dcddcfd4",
   "metadata": {},
   "source": [
    "For edgeR results:"
   ]
  },
  {
   "cell_type": "code",
   "execution_count": null,
   "id": "3723da07-f0b0-4af3-a6c1-dcec98c03396",
   "metadata": {},
   "outputs": [],
   "source": [
    "# Create a MA plot for the limma result of the GSE5281 dataset\n",
    "Volplt1 <- plotVolcanoDE(DEResult = gse5281EdgeRRes, pThreshold = 0.05, useFDR = FALSE, logFCThreshold = 0.5) + ggtitle(\"GSE5281\")\n",
    "\n",
    "# Create a MA plot for the limma result of the GSE153873 dataset\n",
    "Volplt2 <- plotVolcanoDE(DEResult = gse153873EdgeRRes, pThreshold = 0.05, useFDR = FALSE, logFCThreshold = 0.5) + ggtitle(\"GSE153873\")\n",
    "\n",
    "# Adjust size of the plot\n",
    "options(repr.plot.width = 12, repr.plot.height = 6)\n",
    "# Combine the two plots using grid.arrange function\n",
    "combinedVol <- gridExtra::grid.arrange(\n",
    "    Volplt1 + scale_x_continuous(expand = c(0.01, 0.01)), \n",
    "    Volplt2 + scale_x_continuous(expand = c(0.01, 0.01)),\n",
    "    ncol = 2\n",
    ")\n",
    "combinedVol"
   ]
  },
  {
   "cell_type": "markdown",
   "id": "1d5ab9ef-c4e7-4595-8b52-689aa7d782d0",
   "metadata": {},
   "source": [
    "For DESeq2 results:"
   ]
  },
  {
   "cell_type": "code",
   "execution_count": null,
   "id": "816d9fda-b695-4886-8f0d-c94e82d02351",
   "metadata": {},
   "outputs": [],
   "source": [
    "# Create a MA plot for the limma result of the GSE5281 dataset\n",
    "Volplt1 <- plotVolcanoDE(DEResult = gse5281DESeq2Res, pThreshold = 0.05, useFDR = TRUE, logFCThreshold = 0.5) + ggtitle(\"GSE5281\")\n",
    "\n",
    "# Create a MA plot for the limma result of the GSE153873 dataset\n",
    "Volplt2 <- plotVolcanoDE(DEResult = gse153873DESeq2Res, pThreshold = 0.05, useFDR = TRUE, logFCThreshold = 0.5) + ggtitle(\"GSE153873\")\n",
    "\n",
    "# Adjust size of the plot\n",
    "options(repr.plot.width = 12, repr.plot.height = 6)\n",
    "# Combine the two plots using grid.arrange function\n",
    "combinedVol <- gridExtra::grid.arrange(\n",
    "    Volplt1 + scale_x_continuous(expand = c(0.01, 0.01)), \n",
    "    Volplt2 + scale_x_continuous(expand = c(0.01, 0.01)),\n",
    "    ncol = 2\n",
    ")\n",
    "combinedVol"
   ]
  },
  {
   "cell_type": "markdown",
   "id": "5c717894-027c-44cf-b3cc-27ff11ea14a8",
   "metadata": {},
   "source": [
    "<!-- headings -->\n",
    " <a id=\"visual-cc\"></a>\n",
    "## 3. Gene-level Consensus Analysis\n",
    "\n",
    "To conduct a gene-level consensus analysis, we can visualize the relations between the results of different analysis methods. A Venn diagram, which uses overlapping circles or similar shapes to depict the logical relationships between two or multiple sets of items, can be utilized in this case. It will showcase the number of common DE genes among different analysis results. In addition, we can also use a heatmap to observe the differences between different differential analysis methods for a list of common DE genes. It visualizes the statistical value of each gene as a color and the magnitude of the value is depicted by the hue or the intensity of the color. "
   ]
  },
  {
   "cell_type": "code",
   "execution_count": null,
   "id": "f0e9865e-b64e-40bf-a634-39500c7a038b",
   "metadata": {},
   "outputs": [],
   "source": [
    "# Install and import packages\n",
    "suppressMessages({\n",
    "    suppressWarnings(if (!require(\"ggvenn\")) install.packages(\"ggvenn\"))\n",
    "    suppressWarnings(if (!require(\"ggnewscale\")) install.packages(\"ggnewscale\"))\n",
    "    suppressWarnings(if (!require(\"tidyr\")) install.packages(\"tidyr\"))\n",
    "                     \n",
    "    suppressPackageStartupMessages({library(ggvenn)})\n",
    "    suppressPackageStartupMessages({library(tidyr)})\n",
    "    suppressPackageStartupMessages({library(ggnewscale)})\n",
    "})"
   ]
  },
  {
   "cell_type": "markdown",
   "id": "e4e2b222-7072-45a8-892a-f97908f6dc95",
   "metadata": {},
   "source": [
    "<!-- headings -->\n",
    " <a id=\"visual-venn\"></a>\n",
    " ### 3.1 Venn diagram"
   ]
  },
  {
   "cell_type": "markdown",
   "id": "441e0ce6-7f52-49c9-9fa5-8b8b21667fd5",
   "metadata": {},
   "source": [
    "To generate a Venn diagram for the visualization of the differential analysis results, we can utilize the `plotVenn` below. This function requires a list of differential analysis results, each element of the list should be a result table that has the following columns: \n",
    "- (1) SYMBOL - the gene SYMBOL column;\n",
    "- (2) p.value - the p-value column;\n",
    "- (3) pFDR - the adjusted p-value column;\n",
    "- (4) logFC - the log2 fold change column;"
   ]
  },
  {
   "cell_type": "code",
   "execution_count": null,
   "id": "971f2994-54e3-4363-99c5-bdd5ba673237",
   "metadata": {},
   "outputs": [],
   "source": [
    "#' @ description This function generates a Venn diagram to visualize the overlap of differentially expressed genes or features\n",
    "#'                 between multiple sets of results.\n",
    "#'\n",
    "#' @param aResults A list containing multiple sets of differential expression analysis results.\n",
    "#'                 Each element in the list should be a data frame or a tibble with columns representing\n",
    "#'                 differentially expressed genes or features and relevant statistics.\n",
    "#' @param pThreshold A numerical value specifying the threshold for filtering differentially expressed genes (default: 0.05).\n",
    "#' @param useFDR A logical value indicating whether to use normal p-value or FDR p-value to filter out the DE genes (default: TRUE).\n",
    "#' @param stat A character string specifying the statistical metric to use for filtering genes (default: \"logFC\" for log-fold change).\n",
    "#' @param statThreshold A numerical value specifying the threshold value for the chosen statistical metric to filter differentially expressed genes (default: 0).\n",
    "#'\n",
    "#' @return A Venn diagram displaying the overlap of differentially expressed genes or features among the specified result sets.\n",
    "\n",
    "plotVenn <- function(aResults, pThreshold = 0.05, useFDR = TRUE, stat = \"logFC\", statThreshold = 0) {\n",
    "    # Check the input data requirements\n",
    "    if (length(aResults) < 2) {\n",
    "        stop(\"The number of DE results must be at least 2.\")\n",
    "    }\n",
    "\n",
    "    for (Res in aResults) {\n",
    "        if (useFDR && !(\"pFDR\" %in% colnames(Res))) {\n",
    "            stop(\"The F DR adjusted p-value column is not in the results data frame.\")\n",
    "        } else {\n",
    "            if (!(\"p.value\" %in% colnames(Res))) {\n",
    "                stop(\"The p.value column is not in the results data frame.\")\n",
    "            }\n",
    "        }\n",
    "\n",
    "        if (!stat %in% colnames(Res)) {\n",
    "            stop(\"The statistic column is not in the results data frame.\")\n",
    "        }\n",
    "    }\n",
    "    # Filter out DE Genes for the plot\n",
    "    plotDat <- lapply(aResults, function(Res) {\n",
    "            filtered_df <- filter(data.frame(Res),\n",
    "                abs(.data[[stat]]) > statThreshold & (\n",
    "                    if (useFDR) {\n",
    "                        .data$pFDR < pThreshold\n",
    "                    } else {\n",
    "                        .data$p.value < pThreshold\n",
    "                    }\n",
    "                )\n",
    "            )\n",
    "            filtered_df[[\"SYMBOL\"]]\n",
    "    })\n",
    "    \n",
    "    if (is.null(names(plotDat))) {\n",
    "        names(plotDat) <- paste0(\"Dataset \", seq_along(plotDat))\n",
    "    }\n",
    "    pR <- ggvenn::ggvenn(plotDat,\n",
    "           fill_color = c(\n",
    "               \"#316b9d\", \"#f77a65\",\n",
    "               \"#a6a1d0\", \"#fea9c4\",\n",
    "               \"#74e7bc\", \"#febb73\",\n",
    "               \"#1db4db\", \"#ffc5a6\",\n",
    "               \"#b6c9fa\", \"#ee5437\"),\n",
    "           stroke_size = 0.5,\n",
    "           set_name_size = 4,\n",
    "           fill_alpha = 0.75\n",
    "    ) \n",
    "    # Return the plot\n",
    "    return(pR)\n",
    "}\n"
   ]
  },
  {
   "cell_type": "markdown",
   "id": "b6059cd4-0d3e-4811-b89b-0c083452bc36",
   "metadata": {},
   "source": [
    "For the input of the `plotVennDE` function, we will create a list containing all the results of 4 different differential analysis methods."
   ]
  },
  {
   "cell_type": "code",
   "execution_count": null,
   "id": "53e4cc43-e3c5-45c1-8015-2e5f059a9544",
   "metadata": {},
   "outputs": [],
   "source": [
    "# Put all the result dataframes to a list for the plotVennDE function\n",
    "gse5281DEResults <- list(gse5281LimmaRes, gse5281TtestRes, gse5281EdgeRRes, gse5281DESeq2Res)\n",
    "names(gse5281DEResults) <- c(\"limma\", \"t-test\", \"edgeR\", \"DESeq2\")\n",
    "\n",
    "# Put all the result dataframes to a list for the plotVennDE function\n",
    "gse153873DEResults <- list(gse153873LimmaRes, gse153873TtestRes, gse153873EdgeRRes, gse153873DESeq2Res)\n",
    "names(gse153873DEResults) <- c(\"limma\", \"t-test\", \"edgeR\", \"DESeq2\")"
   ]
  },
  {
   "cell_type": "markdown",
   "id": "55453524-84ed-4763-8c70-34f985bbbec6",
   "metadata": {},
   "source": [
    "Now we can create a venn diagram for the results of each dataset using the commands below: "
   ]
  },
  {
   "cell_type": "code",
   "execution_count": null,
   "id": "b57471e1-ecea-4f16-9608-1202cdd4498e",
   "metadata": {},
   "outputs": [],
   "source": [
    "# Create a venn diagram for the microarray result\n",
    "Vennplt1 <- plotVenn(aResults = gse5281DEResults, pThreshold = 0.05, useFDR = TRUE, stat = \"logFC\", statThreshold = 0)\n",
    "Vennplt1 <- Vennplt1 + ggtitle(\"GSE5281\")\n",
    "# Create a venn diagram for the RNA-seq result\n",
    "Vennplt2 <- plotVenn(aResults = gse153873DEResults, pThreshold = 0.05, useFDR = TRUE, stat = \"logFC\", statThreshold = 0)\n",
    "Vennplt2 <- Vennplt2 + ggtitle(\"GSE153873\")\n",
    "# Adjust size of the plot\n",
    "options(repr.plot.width = 14, repr.plot.height = 7)\n",
    "# Combine the two plots using grid.arrange function\n",
    "combinedVenn <- gridExtra::grid.arrange(\n",
    "    Vennplt1, \n",
    "    Vennplt2,\n",
    "    ncol = 2\n",
    ")\n",
    "combinedVenn"
   ]
  },
  {
   "cell_type": "markdown",
   "id": "2c86322e-b885-42a1-a47c-4cc0a40541e2",
   "metadata": {},
   "source": [
    "For the microarray dataset (GSE5281), only 63 genes are identified as differentially expressed across 4 analysis methods. The limma and t-test results have and share more than 6600 DE genes while edgeR and DESeq2 found only 124 and 63 genes to be differentially expressed.\n",
    "\n",
    "For the RNA-seq dataset (GSE153873), 1035 DE genes are shared between 4 methods. Each method identifies more than 1700 DE genes.\n",
    "\n",
    "edgeR and DESeq2 seem to have poor performance with microarray data."
   ]
  },
  {
   "cell_type": "markdown",
   "id": "3089d8c4-f897-47bb-8791-ae927d866b2f",
   "metadata": {},
   "source": [
    "<!-- headings -->\n",
    "<a id=\"visual-heat\"></a>\n",
    "### 3.2 Heatmap plot"
   ]
  },
  {
   "cell_type": "markdown",
   "id": "9afc5620-6309-46b6-ac03-62259b529317",
   "metadata": {},
   "source": [
    "To generate a heatmap plot for the visualization of the differential analysis results, we can utilize the `plotDEGeneHeatmap` below.  This function requires a list of differential analysis results, each element of the list should be a result table that has the following columns: \n",
    "- (1) SYMBOL - the gene SYMBOL column;\n",
    "- (2) p.value - the p-value column;\n",
    "- (3) pFDR - the adjusted p-value column;\n",
    "- (4) logFC - the log2 fold change column;"
   ]
  },
  {
   "cell_type": "code",
   "execution_count": null,
   "id": "0890d84f-1ea0-416b-a7b9-8c7beb2e8464",
   "metadata": {},
   "outputs": [],
   "source": [
    "#' @description Generates a heatmap for differentially expressed genes (DEGs) based on log-fold change and p-values.\n",
    "#'\n",
    "#' @param DEResults A list of at least length two containing DE analysis results for multiple datasets.\n",
    "#' @param numGenes An integer specifying the number of common genes to plot\n",
    "#' @param useFDR A logical value indicating whether to use normal p-value or FDR p-value to filter out the DE genes (default: TRUE).#' @param labels A named vector of labels for genes. Default is `NULL`.\n",
    "#' @param logFCLims A numeric vector of length 2 specifying the limits for log-fold change. Default is c(-5, 5).\n",
    "#' @param negLog10pValueLims A numeric vector of length 2 specifying the limits for negative log10 p-value. Default is c(0, 5).\n",
    "#' @return A ggplot object representing the heatmap of DEGs.\n",
    "\n",
    "plotDEGeneHeatmap <- function(DEResults, numGenes = 30, useFDR = TRUE, logFCLims = c(-5, 5), negLog10pValueLims = c(0, 5)) {\n",
    "    commonGenes <- lapply(DEResults, function(x) x$SYMBOL) \n",
    "    commonGenes <- Reduce(intersect, commonGenes)[1:numGenes]\n",
    "    if (any(commonGenes == 0)) {\n",
    "        stop(\"No common genes found between the input genes and the genes in the DE results\")\n",
    "    }\n",
    "\n",
    "    DEdfs <- lapply(DEResults, function(x) x[match(commonGenes, x$SYMBOL),])\n",
    "\n",
    "    labels <- commonGenes\n",
    "\n",
    "    scaleMinMax <- function(x, minx, maxx) {\n",
    "        x[x < minx] <- minx\n",
    "        x[x > maxx] <- maxx\n",
    "        x\n",
    "    }\n",
    "\n",
    "    if (is.null(names(DEdfs))) {\n",
    "        names(DEdfs) <- paste0(\"Dataset \", seq_along(DEdfs))\n",
    "    }\n",
    "\n",
    "    plotData <- lapply(names(DEdfs), function(n) {\n",
    "            DEdf <- as.data.frame(DEdfs[[n]])\n",
    "            DEdf$p.value <- scaleMinMax(abs(log10(ifelse(rep(useFDR, nrow(DEdf)), DEdf$pFDR, DEdf$p.value))), negLog10pValueLims[1], negLog10pValueLims[2])\n",
    "            DEdf$logFC  <-scaleMinMax(DEdf$logFC, logFCLims[1], logFCLims[2])\n",
    "            DEdf$label <- factor(labels, levels = labels)\n",
    "            DEdf$dataset <- n\n",
    "            DEdf <- DEdf[, c(\"label\", \"logFC\", \"p.value\", \"dataset\")]\n",
    "            DEdf \n",
    "        \n",
    "        }) \n",
    "    plotData <- do.call(plotData, what = rbind) \n",
    "    plotData <- gather(plotData, \"type\", \"value\", -\"label\", -\"dataset\") \n",
    "    plotData$label <- factor(plotData$label, levels = labels)\n",
    "    plotData$dataset <- factor(plotData$dataset, levels = names(DEdfs))\n",
    "    plotData$type <- factor(plotData$type, levels = c(\"p.value\", \"logFC\"))\n",
    "    plotData$colOrder <- as.numeric(plotData$dataset) + as.numeric(plotData$type)*length(DEdfs) + as.numeric(plotData$dataset)*0.01 + as.numeric(plotData$type)*0.1\n",
    "\n",
    "    uniqueY <- sort(unique(plotData$colOrder))\n",
    "\n",
    "    x <- ggplot() +\n",
    "        geom_tile(data = plotData[plotData$type == \"logFC\",], aes(x = .data$label, y = .data$colOrder, fill = .data$value, width = 1, height = 1)) +\n",
    "        scale_fill_gradient2(\n",
    "            high = \"#B80F0A\",\n",
    "            low = \"#004F98\",\n",
    "            mid = \"white\",\n",
    "            na.value = \"white\",\n",
    "            limits = logFCLims,\n",
    "        ) +\n",
    "        labs(fill = \"log2 FC\") +\n",
    "                    \n",
    "        new_scale_fill() +\n",
    "        geom_tile(data = plotData[plotData$type == \"p.value\",], aes(x = .data$label, y = .data$colOrder, fill = .data$value, width = 1, height = 1)) +\n",
    "        scale_fill_gradient(\n",
    "            low = \"white\",\n",
    "            high = \"#B80F0A\",\n",
    "            na.value = \"white\",\n",
    "            limits = negLog10pValueLims,\n",
    "            guide = guide_colorbar(title = paste0(\"-log10\", ifelse(useFDR, \" pFDR\", \" p-value\")))\n",
    "        ) +\n",
    "        theme_minimal() +\n",
    "        coord_flip() +\n",
    "        theme(\n",
    "            axis.title.y = element_blank(),\n",
    "            axis.title.x = element_blank(),\n",
    "            axis.text.x.bottom = element_text(angle = 45, vjust = 1, hjust = 1),\n",
    "            panel.grid.major = element_blank(),\n",
    "            panel.grid.minor = element_blank()\n",
    "        ) +\n",
    "        scale_x_discrete(\n",
    "            labels = labels\n",
    "        ) +\n",
    "        scale_y_continuous(\n",
    "            breaks = uniqueY,\n",
    "            labels = rep(names(DEdfs), 2),\n",
    "            expand = c(0, 0),\n",
    "            sec.axis = sec_axis(~., breaks = sapply(seq_along(c(\n",
    "              paste0(\"-log10\", ifelse(useFDR, \" pFDR\", \" p-value\")),\n",
    "              \"log2 FC\"\n",
    "            )), function(i) mean(uniqueY[(i-1)*length(DEdfs) + 1:length(DEdfs)])), labels = c(\n",
    "              paste0(\"-log10\", ifelse(useFDR, \" pFDR\", \" p-value\")),\n",
    "              \"log2 FC\"\n",
    "            ))\n",
    "        )\n",
    "                                \n",
    "    return(x)\n",
    "}"
   ]
  },
  {
   "cell_type": "markdown",
   "id": "4f506382-29bd-41de-b02e-3238be585a5e",
   "metadata": {},
   "source": [
    "We will create a heat map for 30 genes common genes among 4 different DE analysis methods for the results of each dataset.  We can use the inputs prepared for the venn diagrams with the following codes."
   ]
  },
  {
   "cell_type": "code",
   "execution_count": null,
   "id": "df123bd1-6391-43f5-8952-c722dec0d7cf",
   "metadata": {},
   "outputs": [],
   "source": [
    "# Create a heat map for DE analysis results\n",
    "heatmap1 <- plotDEGeneHeatmap(gse5281DEResults, numGenes = 30, useFDR = TRUE,  logFCLims = c(-5, 5), negLog10pValueLims = c(0, 5))\n",
    "heatmap1 <- heatmap1 + ggtitle(\"GSE5281\")\n",
    "# Create a heat map for DE analysis results\n",
    "heatmap2 <- plotDEGeneHeatmap(gse153873DEResults, numGenes = 30, useFDR = TRUE,  logFCLims = c(-5, 5), negLog10pValueLims = c(0, 5))\n",
    "heatmap2 <- heatmap2 + ggtitle(\"GSE153873\")\n",
    "# Adjust size of the plot\n",
    "options(repr.plot.width = 14, repr.plot.height = 7)\n",
    "# Combine the two plots using grid.arrange function\n",
    "combinedPlt1 <- gridExtra::grid.arrange(\n",
    "    heatmap1, \n",
    "    heatmap2,\n",
    "    ncol = 2\n",
    ")"
   ]
  },
  {
   "cell_type": "markdown",
   "id": "19a9ccef-2504-4e40-8682-328abc066abe",
   "metadata": {},
   "source": [
    "From the above heatmaps, we can see that the common genes of limma and t-test result have similar p-value FDR for the microarray dataset (GSE5281) while those of the edgeR and DESeq2 results have similar p-value FDR for the RNA-seq dataset (GSE153873)."
   ]
  },
  {
   "cell_type": "markdown",
   "id": "9abadd81",
   "metadata": {},
   "source": [
    "The next submodule will show how to identify the pathways that these genes are involved in. \n"
   ]
  },
  {
   "cell_type": "markdown",
   "id": "5878f8e2",
   "metadata": {},
   "source": [
    "## Conclusion\n",
    "\n",
    "This notebook demonstrated differential expression (DE) analysis using `limma`, t-test, `edgeR`, and `DESeq2` in R, applying these methods to both microarray (GSE5281) and RNA-Seq (GSE153873) datasets.  The results were saved for later use and visualized using MA plots, volcano plots, Venn diagrams, and heatmaps.  The visualizations highlighted the differences in performance between methods and across data types, notably showing the limited overlap of DE genes identified by `edgeR` and `DESeq2` with `limma` and t-test in the microarray data, while greater concordance was observed in the RNA-Seq data. This analysis sets the stage for downstream pathway analysis in the next submodule, which will explore the biological functions and pathways associated with the identified DE genes. The saved results will enable further investigation of the biological significance of these expression changes in the context of Alzheimer's disease."
   ]
  },
  {
   "cell_type": "markdown",
   "id": "706b43f9",
   "metadata": {},
   "source": [
    "## Clean Up\n",
    "\n",
    "Remember to move to the next notebook or shut down your instance if you are finished."
   ]
  },
  {
   "cell_type": "markdown",
   "id": "7733a2f9",
   "metadata": {},
   "source": [
    "---"
   ]
  },
  {
   "cell_type": "code",
   "execution_count": null,
   "id": "0313705b-ba73-45bb-9758-0ccf6f2900d3",
   "metadata": {},
   "outputs": [],
   "source": [
    "sessionInfo()"
   ]
  }
 ],
 "metadata": {},
 "nbformat": 4,
 "nbformat_minor": 5
}
