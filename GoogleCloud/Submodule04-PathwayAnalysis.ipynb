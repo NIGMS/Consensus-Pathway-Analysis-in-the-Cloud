{
 "cells": [
  {
   "cell_type": "markdown",
   "id": "d3716dad",
   "metadata": {},
   "source": [
    "# Pathway Analysis\n",
    "![](./images/Module4/PathwayAnalysis.jpg)\n",
    "\n",
    "## Overview\n",
    "\n",
    "Enrichment analysis (EA) is a technique used to derive biological insight from lists of significantly altered genes. The list of genes can be obtained from Differential Expression (DE) analysis or users' interest. The EA methods rely on the knowledge databases (e.g. KEGG, GO, ...) to identify biological pathways or terms that are enriched in a gene list more than would be expected by chance. The outcome of the EA would be the in-depth and contextualized findings to help understand the mechanisms of disease, genes and proteins associated with the etiology of a specific disease or drug target.\n",
    "\n",
    "Over more than a decade, there are over 50 methods have been developed for EA. In this module, we will focus on pathway analysis using popular methods including Over Representation Analysis (ORA), Correlation Adjusted MEan RAnk (CAMERA), Kolmogorov-Smirnov (KS) test, Wilcoxon test, Fast Gene Set Enrichment Analysis (FGSEA), Gene Set Analysis (GSA), Significance Analysis of Function and Expression (SAFE), and Pathway Analysis with Down-weighting of Overlapping Genes (PADOG).\n",
    "\n",
    "## Learning Objectives\n",
    "1. Data preparation\n",
    "2. Perform enrichment analysis using ORA, CAMERA, KS, Wilcoxon, FGSEA, GSA, SAFE, and PADOG\n",
    "3. Visualize and interpret the outputs\n",
    "\n",
    "## Prerequisites\n",
    "\n",
    "**R Packages:**\n",
    "\n",
    "* `IRdisplay`: For displaying HTML (including quizzes).\n",
    "* `limma`:  For differential expression analysis and CAMERA pathway analysis.\n",
    "* `fgsea`: For Fast Gene Set Enrichment Analysis.\n",
    "* `GSA`: For Gene Set Analysis.\n",
    "* `safe`: For Significance Analysis of Function and Expression.\n",
    "* `PADOG`: For Pathway Analysis with Down-weighting of Overlapping Genes.\n",
    "* `hgu133plus2.db`: An annotation package for the hgu133plus2 microarray platform (used by `safe`).\n",
    "* `BiocManager`: For installing bioconductor packages.\n",
    "\n",
    "## Get Started\n",
    "### Table of Contents\n",
    "\n",
    "1. [Enrichment Analysis using ORA](#ora-main)\n",
    "2. [Enrichment Analysis using CAMERA](#camera-main)\n",
    "3. [Enrichment Analysis using KS and Wilcoxon test](#ks-main)\n",
    "4. [Enrichment Analysis using FGSEA](#fgsea-main)\n",
    "5. [Enrichment Analysis using GSA](#gsa-main)\n",
    "6. [Enrichment Analysis using SAFE](#safe-main)\n",
    "7. [Enrichment Analysis using PADOG](#padog-main)\n",
    "\n",
    "\n",
    "<!-- \n",
    "## Necessary Files\n",
    "In this submodule, users will have to provide the following inputs: \n",
    "- (1) Gene expression/count matrix in which, rows are genes and columns are samples and a differential analysis result, also in the form of a matrix. We recommend using gene ID as gene SYMBOL. If users use other different gene ID types, please refer to [our first submodule](./Module01-Data_Preparation.ipynb). \n",
    "for the instructions for gene mapping.\n",
    "- (2) A table of sample information that has at least two columns: sample ID that matched the columns of the first input, and sample condition (e.g, control or disease)\n",
    "- (3) A list of gene sets to used for the enrichment analysis. Please check out our [previous submodule](./Module01-Data_Preparation.ipynb) for more information of the format for the gene sets.\n",
    "\n",
    "If users have been following our learning submodules, they only need to use the code available in the previous module to download the data from Google Cloud Bucket and load it for the analyses.\n",
    " -->\n",
    "\n"
   ]
  },
  {
   "cell_type": "code",
   "execution_count": null,
   "id": "37ff2142-8b48-4250-bb3b-b47175b79f9c",
   "metadata": {},
   "outputs": [],
   "source": [
    "IRdisplay::display_html('<iframe src=\"../Quizzes/Quiz_Submodule4-1.html\" width=100% height=250></iframe>')"
   ]
  },
  {
   "cell_type": "markdown",
   "id": "556fb77f-6f07-4110-bb15-23814624d725",
   "metadata": {},
   "source": [
    "### Data downloading\n",
    "In this submodule, we will use the DE genes of `limma` analysis result of the `GSE5281` dataset from [**submodule 02** ](./Submodule02-DifferentialAnalysis.ipynb) and the `.gmt` files containing GO terms, KEGG pathways, REACTOME pathways gene sets created in [**submodule 03** ](./Submodule03-ProcessingPathwayInformation.ipynb) for performing enrichment analysis.\n",
    "We can use the following command to download the data from Google Cloud Bucket."
   ]
  },
  {
   "cell_type": "code",
   "execution_count": null,
   "id": "71e404e8-1c47-49f1-a5e0-014bd63100e2",
   "metadata": {},
   "outputs": [],
   "source": [
    "# Download the GSE48350.rds file to the \"data\" folder in current directory\n",
    "# replace <BUCKET_NAME> with name of your bucket that was previously made in submodule 1\n",
    "system(\"gsutil cp gs://<BUCKET_NAME>/GSE5281.rds ./data/\")\n",
    "\n",
    "# Download the GO_terms.gmt, KEGG_pathways.gmt, REACTOME_pathways.gmt files to the \"data\" folder in current directory\n",
    "# replace <BUCKET_NAME> with name of your bucket that was previously made in submodule 1\n",
    "system(\"gsutil cp gs://<BUCKET_NAME>/GO_terms.gmt ./data/\")\n",
    "system(\"gsutil cp gs://<BUCKET_NAME>/KEGG_pathways.gmt ./data/\")\n",
    "system(\"gsutil cp gs://<BUCKET_NAME>/REACTOME_pathways.gmt ./data/\")"
   ]
  },
  {
   "cell_type": "markdown",
   "id": "3f600b3d-f556-4466-a9cd-195f4ce6be64",
   "metadata": {},
   "source": [
    "We can now load the DE analysis result using the following commands."
   ]
  },
  {
   "cell_type": "code",
   "execution_count": null,
   "id": "5c0da12c",
   "metadata": {},
   "outputs": [],
   "source": [
    "# Load previously saved data\n",
    "data <- readRDS(\"./data/GSE5281.rds\")\n",
    "# To see what are available in data\n",
    "names(data)\n",
    "\n",
    "# Get DE results from the loaded data\n",
    "DE.df <- data$limma_results\n",
    "# Print some first row of the differential analysis result\n",
    "head(DE.df)"
   ]
  },
  {
   "cell_type": "markdown",
   "id": "8538d33d",
   "metadata": {},
   "source": [
    "<!-- headings -->\n",
    "<a id=\"ora-main\"></a>\n",
    "## 1. Enrichment Analysis Using Over-Representation Analysis\n",
    "Over-representation analysis (ORA) is a statistical method that determines whether genes from a pre-defined gene set of a specific GO term or KEGG pathway are presented more than would be expected (over-represented) in a subset of your data. In our learning module, this subset refers to the list of DE genes generated from the `limma` method. For each gene set, an enrichment *p-value* is calculated using the Binomial distribution, Hypergeometric distribution, the Fisher exact test, or the Chi-square test.  The hypergeometric distribution is a popular approach used to calculate enrichment p-value. The formula can be presented as follows:"
   ]
  },
  {
   "cell_type": "markdown",
   "id": "eca231f2",
   "metadata": {},
   "source": [
    "$$\n",
    "     P(X\\geq x) = 1 - P(X \\leq x-1) = 1 - \\sum\\limits_{i=0}^{x-1}\\frac{\\hphantom{}{M \\choose i }{N - M \\choose n-i}}{N \\choose n}\n",
    "$$"
   ]
  },
  {
   "cell_type": "markdown",
   "id": "1c18d887",
   "metadata": {},
   "source": [
    "where *N* is the number of background genes (all genes presented in the expression matrix), *n* is the number of “interesting” genes (DE genes), *M* is the number of genes that are annotated to a particular gene set *S* (list of genes in a specific KEGG pathway or GO term), and *x* is the number of “interesting” genes that are annotated to *S* (genes presented in DE genes list and a specific KEGG pathway or GO term)."
   ]
  },
  {
   "cell_type": "markdown",
   "id": "ccade46c",
   "metadata": {},
   "source": [
    "For example, suppose we have an expression matrix with 20,000 genes, of which 500 are differently expressed. Also, suppose that 100 of the 20,000 genes are annotated to a particular gene set S. Of these 100 genes, 20 are members of the DE genes list. The probability that 20 or more (up to 100) genes annotated to S are in the DE genes list by chance is given by"
   ]
  },
  {
   "cell_type": "markdown",
   "id": "ed50cd53",
   "metadata": {},
   "source": [
    "$$\n",
    "P(X\\geq 20) = 1 - P(X \\leq 19) = 1-\\sum \\limits_{i=0}^{19}\\frac{\\hphantom{}{100 \\choose i}{20000 - 100 \\choose 500-i}}{20000 \\choose 500} = 5.26 \\times 10^{-13}\n",
    "$$"
   ]
  },
  {
   "cell_type": "markdown",
   "id": "b2e2d72e",
   "metadata": {},
   "source": [
    "The *p-value* indicates that it is very rare to observe 20 of the 100 genes from this set are in the DE genes list by chance."
   ]
  },
  {
   "cell_type": "code",
   "execution_count": null,
   "id": "2b0be768-1749-4752-b31f-bf5818b33be5",
   "metadata": {},
   "outputs": [],
   "source": [
    "IRdisplay::display_html('<iframe src=\"../Quizzes/Quiz_Submodule4-2.html\" width=100% height=250></iframe>')"
   ]
  },
  {
   "cell_type": "markdown",
   "id": "e332d07b",
   "metadata": {},
   "source": [
    "### Data preparation\n",
    "To conduct enrichment analysis using ORA, there are several input data that we need to prepare. First, we need to select a set of genes that\n",
    "are significantly altered (*p-value < 0.05*) in the DE genes generated from the `limma` method."
   ]
  },
  {
   "cell_type": "code",
   "execution_count": null,
   "id": "b1b28353",
   "metadata": {},
   "outputs": [],
   "source": [
    "# Selecting a list of significant DE genes\n",
    "DEGenes <- DE.df[DE.df$pFDR <= 0.05, ]\n",
    "# Select the remaining genes \n",
    "DEGenes <- DEGenes$SYMBOL"
   ]
  },
  {
   "cell_type": "markdown",
   "id": "f0d9f75f",
   "metadata": {},
   "source": [
    "Next, we need to define a list of background genes. In this analysis, they are all the genes generated from the DE analysis."
   ]
  },
  {
   "cell_type": "code",
   "execution_count": null,
   "id": "303d3696",
   "metadata": {},
   "outputs": [],
   "source": [
    "# Defining background genes\n",
    "backgroundSet <- DE.df$SYMBOL"
   ]
  },
  {
   "cell_type": "markdown",
   "id": "5f19e685",
   "metadata": {},
   "source": [
    "Then, we need to obtain a list of geneset from knowledge databases such as GO and KEGG. In this learning module, the geneset will be retrieved from\n",
    "the *.gmt* files that were processed from the [**submodule 03**](./Submodule03-ProcessingPathwayInformation.ipynb). To load the geneset, we will use the `gmt2geneset` function below:"
   ]
  },
  {
   "cell_type": "code",
   "execution_count": null,
   "id": "348c3154-cffb-4586-ab59-51845f4c6a19",
   "metadata": {},
   "outputs": [],
   "source": [
    "#' @description This function read a GMT file to a gene sets list in R\n",
    "#'\n",
    "#' @param path The file path to the GMT file.\n",
    "#' @return A list containing the gene sets extracted from the GMT file.\n",
    "\n",
    "gmt2geneset <- function(path) {\n",
    "    # Read the lines from the file\n",
    "    lines <- readLines(path, warn = FALSE)\n",
    "\n",
    "    # Split each line into fields\n",
    "    gmt_data <- strsplit(lines, \"\\t\")\n",
    "\n",
    "    # Process each line and extract gene sets\n",
    "    gene_sets <- lapply(gmt_data, function(line) {\n",
    "        gene_set_name <- line[1]\n",
    "        description <- line[2]\n",
    "        genes <- line[-c(1, 2)]  # Exclude the first two elements (name and description)\n",
    "\n",
    "        list(\n",
    "            pathwayID = gene_set_name,\n",
    "            description = description,\n",
    "            genes = genes\n",
    "        )\n",
    "    })\n",
    "    # Convert list of gene sets to a named list\n",
    "    gs <- lapply(gene_sets, function(g) g$genes)\n",
    "    names(gs) <- lapply(gene_sets, function(g) g$pathwayID)\n",
    "\n",
    "    return(gs)\n",
    "}"
   ]
  },
  {
   "cell_type": "markdown",
   "id": "0042697a",
   "metadata": {},
   "source": [
    "Here, we also use a function called `runORA` to perform over-representation analysis based on the hyper-geometric testing formula presented above.\n",
    "It requires a list of gene sets (E.g. GO terms, KEGG, REACTOME, ...), a dataframe containing results of a DE analysis method and a p-value threshold for a gene to be considered differentially expressed. The `ORA` method will perform hyper-geometric testing for each geneset obtained from GO or KEGG using the function `phyper` available for the `stats` R base package. The output of the `.runORA` function is a table that contains a column of terms or pathway names and a column of *p-value*."
   ]
  },
  {
   "cell_type": "code",
   "execution_count": null,
   "id": "d809f4b3",
   "metadata": {},
   "outputs": [],
   "source": [
    "#' @description This function performs gene set analysis based on ORA (Over Representation Analysis).\n",
    "#'\n",
    "#' @param DE_data The generated SummarizedExpriment object from DE analysis result.\n",
    "#' @param genesets The gene to use for the analysis, e.g. KEGG gene sets from gmt2geneset function.\n",
    "#' @param pThreshold The p.value cutoff threshold.\n",
    "#' @return A dataframe of geneset analysis results\n",
    "\n",
    "runORA <- function(DE_data, genesets, pThreshold = 0.05) {    \n",
    "    # Check if DE_data is not null and has dimensions\n",
    "    if (is.null(DE_data) |\n",
    "        dim(DE_data)[1] == 0 |\n",
    "        dim(DE_data)[2] == 0) {\n",
    "        stop(\"No differential analysis data is in input data.\")\n",
    "    }\n",
    "\n",
    "    # Extract genes with p-values below the threshold\n",
    "    DE.genes <- rownames(DE_data[DE_data$p.value <= pThreshold, ])\n",
    "        \n",
    "    # All genes in the background\n",
    "    background.genes <- rownames(DE_data)\n",
    "\n",
    "    # Calculate the overlap between genesets and background genes\n",
    "    GSOverlap <- sapply(genesets, function(gs) length(intersect(gs, background.genes)))\n",
    "    # Calculate the overlap between genesets and differentially expressed genes\n",
    "    DEOverlap <- sapply(genesets, function(gs) length(intersect(gs, DE.genes)))\n",
    "    # Calculate the number of non-differentially expressed genes in the background\n",
    "    NoneDEInBackground <- length(background.genes) - length(DE.genes)\n",
    "    # Calculate the expected overlap by chance\n",
    "    Expected <- GSOverlap * length(DE.genes) / length(background.genes)\n",
    "\n",
    "    # Calculate p-values using hypergeometric distribution\n",
    "    pvals <- 1 - phyper(DEOverlap - 1, length(DE.genes), NoneDEInBackground, GSOverlap)\n",
    "    # Calculate Enrichment Score (ES)\n",
    "    ES <- log2(DEOverlap / Expected)\n",
    "\n",
    "    # Create a dataframe with results\n",
    "    result_df <- data.frame(\n",
    "        ID = names(genesets),\n",
    "        p.value = pvals,\n",
    "        score = ES,\n",
    "        normalizedScore = ES, # For now, normalized score is the same as ES\n",
    "        stringsAsFactors = FALSE\n",
    "    )\n",
    "\n",
    "    return(result_df)\n",
    "}\n"
   ]
  },
  {
   "cell_type": "markdown",
   "id": "dedfa2a3",
   "metadata": {},
   "source": [
    "### Enrichment analysis using ORA and GO terms\n",
    "In this section, we will perform ORA using the list of gene sets obtained from the GO database and the function `ORA` defined above. The detailed code is presented below:"
   ]
  },
  {
   "cell_type": "code",
   "execution_count": null,
   "id": "975e07c7",
   "metadata": {},
   "outputs": [],
   "source": [
    "# Loading GO terms\n",
    "suppressWarnings({suppressMessages({geneset <- gmt2geneset(\"./data/GO_terms.gmt\")})})\n",
    "# Perform ORA\n",
    "ORA_res <- runORA(DE_data = DE.df, genesets = geneset, pThreshold = 0.05)\n",
    "\n",
    "# Order the table based on the p-value\n",
    "ORA_res <- ORA_res[order(ORA_res$p.value), ]\n",
    "# View the most significant GO terms\n",
    "head(ORA_res)"
   ]
  },
  {
   "cell_type": "markdown",
   "id": "ae0d8278",
   "metadata": {},
   "source": [
    "From the result table, we might conclude that the pathways shown are key components of the disease in study."
   ]
  },
  {
   "cell_type": "markdown",
   "id": "cfa3dbd7",
   "metadata": {},
   "source": [
    "### Enrichment analysis using ORA and KEGG pathways"
   ]
  },
  {
   "cell_type": "markdown",
   "id": "69dc9176-9f21-4198-8873-c391fd58b1d2",
   "metadata": {},
   "source": [
    "We will perform the same steps as we did above with the GO terms."
   ]
  },
  {
   "cell_type": "code",
   "execution_count": null,
   "id": "ee2d6ff9",
   "metadata": {},
   "outputs": [],
   "source": [
    "# Loading KEGG pathways\n",
    "suppressWarnings({suppressMessages({geneset <- gmt2geneset(\"./data/KEGG_pathways.gmt\")})})\n",
    "\n",
    "# Perform Hyper-geometric testing\n",
    "ORA_res <- runORA(DE_data = DE.df, genesets = geneset, pThreshold = 0.05)\n",
    "\n",
    "# # Order the table based on the p-value\n",
    "ORA_res <- ORA_res[order(ORA_res$p.value), ]\n",
    "# View the most significant GO terms\n",
    "head(ORA_res)\n"
   ]
  },
  {
   "cell_type": "markdown",
   "id": "63818b96-1b67-49be-81d3-c45dae212ecc",
   "metadata": {},
   "source": [
    "### Enrichment analysis using ORA and REACTOME pathways\n",
    "\n",
    "We will perform similar steps as we did before with the GO terms and KEEG pathways."
   ]
  },
  {
   "cell_type": "code",
   "execution_count": null,
   "id": "7a7baa26-8eb4-4762-bcd0-3ebaf18d8cc0",
   "metadata": {},
   "outputs": [],
   "source": [
    "# Loading REACTOME pathways\n",
    "suppressWarnings({suppressMessages({geneset <- gmt2geneset(\"./data/REACTOME_pathways.gmt\")})})\n",
    "# Perform ORA\n",
    "ORA_res <- runORA(DE_data = DE.df, genesets = geneset, pThreshold = 0.05)\n",
    "\n",
    "# Order the table based on the p-value\n",
    "ORA_res <- ORA_res[order(ORA_res$p.value), ]\n",
    "# View the most significant GO terms\n",
    "head(ORA_res)"
   ]
  },
  {
   "cell_type": "markdown",
   "id": "fa3c8735-7167-460e-8fa2-c7dfb2953a65",
   "metadata": {},
   "source": [
    "<!-- headings -->\n",
    "<a id=\"camera-main\"></a>\n",
    "## 2. Enrichment Analysis using CAMERA\n",
    "\n",
    "Correlation Adjusted MEan RAnk (CAMERA) is a powerful gene set analysis method designed for high-throughput genomic data. It operates in two stages, first calculating gene-level statistics including fold change, t-statistic, moderated t-statistics, and a normalized moderated t-statistic using a linear model. In the second stage, The inter-gene correlation within gene sets is assessed through the computation of the variance inflation factor (VIF), and this information is then integrated into either parametric or rank-based hypothesis tests.\n",
    "\n",
    "Since we already had the gene-level statistics from DE analysis in submodule 2, We can utilize the `cameraPR` function integrated in `limma` package to perform the second stage of CAMERA. The `runCAMERA` function below is provided to perform analysis using CAMERA method."
   ]
  },
  {
   "cell_type": "code",
   "execution_count": null,
   "id": "0b97f28f-7cd8-4fc0-9a58-fc42196f0f0c",
   "metadata": {},
   "outputs": [],
   "source": [
    "# Install limma package\n",
    "suppressMessages({\n",
    "    if (!require(\"BiocManager\", quietly = TRUE)) {\n",
    "        suppressWarnings(install.packages(\"BiocManager\"))\n",
    "    }\n",
    "    suppressWarnings(BiocManager::install(\"limma\", update = T))\n",
    "    \n",
    "})\n",
    "# Import limma package\n",
    "suppressPackageStartupMessages({\n",
    "    library(\"limma\")\n",
    "})"
   ]
  },
  {
   "cell_type": "code",
   "execution_count": null,
   "id": "8d43c1aa-59c8-45ba-8ab8-1eab77885940",
   "metadata": {},
   "outputs": [],
   "source": [
    "#' @description This function performs gene set analysis using CAMERA method.\n",
    "#'\n",
    "#' @param DE_data A dataframe containing the DE analysis result.\n",
    "#' @param genesets A list of gene sets to be analyzed.\n",
    "#' @param stat_col A character string specifying the name of a statistic column in DE_data\n",
    "#'                 to be used in the EA analysis.\n",
    "#' @param use.ranks A logical whether to use parametric or rank-based hypothesis test\n",
    "#' @return A dataframe containing the results of the tests for each gene set.\n",
    "\n",
    "runCAMERA <- function(DE_data, genesets, stat_col = \"statistic\", use.ranks = FALSE) {\n",
    "  \n",
    "    # Extract the statistics column from DE_data\n",
    "    stats <- DE_data[, stat_col]\n",
    "    # Set gene names as row names for stats\n",
    "    names(stats) <- rownames(DE_data)\n",
    "    # Run CAMERA analysis using cameraPR function\n",
    "    CAMERA_res <- cameraPR(statistic = stats, index = genesets, use.ranks = use.ranks)\n",
    "    # Create a dataframe with results\n",
    "    result_df <- data.frame(\n",
    "        ID = rownames(CAMERA_res),\n",
    "        p.value = CAMERA_res$PValue,\n",
    "        pFDR = CAMERA_res$FDR,\n",
    "        stringsAsFactors = FALSE\n",
    "    )\n",
    "    # Return the result dataframe\n",
    "    result_df\n",
    "}\n"
   ]
  },
  {
   "cell_type": "markdown",
   "id": "0857b479-a9bf-4b0e-b024-1c1b6f9897cd",
   "metadata": {},
   "source": [
    "### Enrichment analysis using CAMERA and GO terms\n",
    "We will use the `runCAMERA` function to perform gene set analysis with GO terms as follows:"
   ]
  },
  {
   "cell_type": "code",
   "execution_count": null,
   "id": "509b83ad-666e-42bb-b2e8-6ef461c60df2",
   "metadata": {},
   "outputs": [],
   "source": [
    "# Loading GO terms\n",
    "suppressWarnings({suppressMessages({geneset <- gmt2geneset(\"./data/GO_terms.gmt\")})})\n",
    "# Perform EA using CAMERA method\n",
    "CAMERA_res <- runCAMERA(DE_data = DE.df, genesets = geneset, stat_col = \"statistic\")\n",
    "head(CAMERA_res)"
   ]
  },
  {
   "cell_type": "markdown",
   "id": "3521d287-83bd-4f97-92b6-1f41a967e8bb",
   "metadata": {},
   "source": [
    "### Enrichment analysis using CAMERA and KEGG pathways\n",
    "\n",
    "To analyze the KEGG pathways using CAMERA, we can use the same above codes and simply replace GO terms with KEGG pathways."
   ]
  },
  {
   "cell_type": "code",
   "execution_count": null,
   "id": "8d89e86b-06da-41ba-81ae-0270f9c79478",
   "metadata": {},
   "outputs": [],
   "source": [
    "# Loading KEGG pathways\n",
    "suppressWarnings({suppressMessages({geneset <- gmt2geneset(\"./data/KEGG_pathways.gmt\")})})\n",
    "# Perform EA using CAMERA method\n",
    "CAMERA_res <- runCAMERA(DE_data = DE.df, genesets = geneset, stat_col = \"statistic\")\n",
    "head(CAMERA_res)"
   ]
  },
  {
   "cell_type": "markdown",
   "id": "64ecc421-a9eb-4694-ad3c-942ce3cdc3b3",
   "metadata": {},
   "source": [
    "### Enrichment analysis using CAMERA and REACTOME pathways\n",
    "\n",
    "Similar to GO terms and KEGG pathways, we just need to load and pass the REACTOME pathways to the `runCAMERA` function."
   ]
  },
  {
   "cell_type": "code",
   "execution_count": null,
   "id": "52fb9944-c1c5-4523-853c-f96636f0f812",
   "metadata": {},
   "outputs": [],
   "source": [
    "# Loading REACTOME pathways\n",
    "suppressWarnings({suppressMessages({geneset <- gmt2geneset(\"./data/REACTOME_pathways.gmt\")})})\n",
    "# Perform EA using CAMERA method\n",
    "CAMERA_res <- runCAMERA(DE_data = DE.df, genesets = geneset, stat_col = \"statistic\")\n",
    "# Show some first rows of the result data frame\n",
    "head(CAMERA_res)"
   ]
  },
  {
   "cell_type": "markdown",
   "id": "72a138b4-a0aa-461b-b529-67e76c7767d6",
   "metadata": {},
   "source": [
    "<!-- headings -->\n",
    "<a id=\"ks-main\"></a>\n",
    "## 3. Enrichment Analysis using KS and Wilcoxon test\n",
    "\n",
    "The Kolmogorov-Smirnov (KS) test is a non-parametric test that compares the cumulative distribution functions of two datasets. In the context of enrichment analysis, it can be employed to assess whether the distribution of DE genes is significantly different from what would be expected by chance for a given gene set. The test produces a KS statistic and a corresponding p-value, indicating the degree of over-representation.\n",
    "\n",
    "The Wilcoxon test, also called the Mann-Whitney U test, helps us check if the ranks of certain genes (DE genes) are significantly different from the rest of the genes. It's a sturdy non-parametric method that doesn't rely on specific assumptions about data distribution. By looking at the ranks, it tells us if there are meaningful differences in how these genes are positioned compared to the overall set. In the context of enrichment analyses, the Wilcoxon test emerges as a valuable tool, elucidating critical variations in the hierarchical arrangement or ranking of genes within the dataset."
   ]
  },
  {
   "cell_type": "markdown",
   "id": "b2a98cfa-2b91-46a5-92ea-38ee1deb2eac",
   "metadata": {},
   "source": [
    "### Data preparation\n",
    "To conduct enrichment analysis using KS or Wilcoxon test, we will use the limma DE result as input. First, we can use the DE.df variable above and select a set of genes that\n",
    "are significantly altered (*p-value < 0.05*). "
   ]
  },
  {
   "cell_type": "code",
   "execution_count": null,
   "id": "1135da3e-3277-408f-a4b2-7ec34d09a659",
   "metadata": {},
   "outputs": [],
   "source": [
    "# Select genes that are significantly altered\n",
    "kw_de <- DE.df[DE.df$pFDR <= 0.05, ]\n",
    "# Show some first rows\n",
    "head(kw_de)"
   ]
  },
  {
   "cell_type": "markdown",
   "id": "7fe00efa-e665-476b-8872-5482f4dafde1",
   "metadata": {},
   "source": [
    "Next, we will remove rows containing NA, dupicated symbols."
   ]
  },
  {
   "cell_type": "code",
   "execution_count": null,
   "id": "47e8c745-2bc5-4991-979f-89e2d0d643e3",
   "metadata": {},
   "outputs": [],
   "source": [
    "# Remove NA value\n",
    "kw_de <- kw_de[!is.na(kw_de$SYMBOL), ]\n",
    "# Remove duplicated genes symbols\n",
    "kw_de <- kw_de[!duplicated(kw_de$SYMBOL, fromLast = FALSE), ]\n",
    "rownames(kw_de) <- kw_de$SYMBOL\n",
    "# remove the first column from the DE dataframe  \n",
    "kw_de <- kw_de[, !(names(kw_de) %in% c(\"SYMBOL\"))]\n",
    "# Show some first rows\n",
    "head(kw_de)"
   ]
  },
  {
   "cell_type": "markdown",
   "id": "610c0f93-6a3b-4221-bf0a-b93d65c4419c",
   "metadata": {},
   "source": [
    "To perform KS or Wilcoxon test, we will use the `runKsWilcox` function bellow."
   ]
  },
  {
   "cell_type": "code",
   "execution_count": null,
   "id": "14a9698b-6464-451e-aa95-a7a13cbe2858",
   "metadata": {},
   "outputs": [],
   "source": [
    "#' Run Kolmogorov-Smirnov Wilcoxon rank-sum test on differential expression data\n",
    "#'\n",
    "#' @param DE_data A dataframe containing the DE analysis result.\n",
    "#' @param statCol A character string specifying the name of a statistic column in DE_data to be used in the EA analysis.\n",
    "#' @param genesets A list of gene sets to be analyzed.\n",
    "#' @param sTest The type of test to be used (\"ks\" for Kolmogorov-Smirnov, \"wilcox\" for Wilcoxon rank-sum).\n",
    "#' @return A dataframe containing the results of the tests for each gene set.\n",
    "\n",
    "runKsWilcox <- function(DE_data, genesets, statCol = \"statistic\", sTest = \"ks\") {\n",
    "    # remove rows that contain NA value in the column specified by the statCol argument\n",
    "    DE_data <- DE_data[!is.na(DE_data[[statCol]]), ]\n",
    "    # get the statistical values from DE_data to perform the test\n",
    "    ranks <- DE_data[[statCol]]\n",
    "    # set names of the DE genes\n",
    "    names(ranks) <- rownames(DE_data)\n",
    "\n",
    "    # choose the test to perform based on the sTest argument\n",
    "    test <- if (sTest == \"ks\") ks.test else wilcox.test\n",
    "    \n",
    "    background.genes <- rownames(DE_data)\n",
    "    # retrieve statistics for genes present in 'background.genes'\n",
    "    DEhit <- sapply(genesets, function(gs) ranks[background.genes[background.genes %in% gs]])\n",
    "    # retrieve statistics for genes not present in 'background.genes'\n",
    "    DEmiss <- sapply(genesets, function(gs) ranks[background.genes[!background.genes %in% gs]])\n",
    "\n",
    "    # Initialize an empty list to store results\n",
    "    PA_res_list <- lapply(1:length(DEhit), function(i) {\n",
    "        cur.DEhit <- DEhit[[i]]\n",
    "        cur.DEmiss <- DEmiss[[i]]\n",
    "    \n",
    "        # Check if either list is empty\n",
    "        if (length(cur.DEhit) == 0 | length(cur.DEmiss) == 0) return(1)\n",
    "    \n",
    "        # Perform the test and extract the p-value\n",
    "        test_result <- suppressWarnings(test(cur.DEhit, cur.DEmiss))\n",
    "        test_result$p.value\n",
    "    })\n",
    "    \n",
    "    # Combine the results into a data frame\n",
    "    PA_res <- data.frame(\n",
    "        ID = names(genesets),\n",
    "        p.value = unlist(PA_res_list),\n",
    "        stringsAsFactors = FALSE\n",
    "    )\n",
    "    \n",
    "    # Remove rows with missing values\n",
    "    PA_res <- PA_res[complete.cases(PA_res), ]\n",
    "\n",
    "    return(PA_res)\n",
    "}"
   ]
  },
  {
   "cell_type": "markdown",
   "id": "b1461242-eab0-40cc-8168-e99c577f08f5",
   "metadata": {},
   "source": [
    "### Enrichment analysis using KS and GO terms"
   ]
  },
  {
   "cell_type": "markdown",
   "id": "d7eb5e19-f357-4656-9632-02118bb129e9",
   "metadata": {},
   "source": [
    "We will conduct KS enrichment analysis with GO terms gene sets list using the provided code."
   ]
  },
  {
   "cell_type": "code",
   "execution_count": null,
   "id": "b6aca88a-249c-4d46-bd99-ae3ad29415db",
   "metadata": {},
   "outputs": [],
   "source": [
    "# load the GO gene sets from saved gmt file\n",
    "suppressWarnings({suppressMessages({geneset <- gmt2geneset(\"./data/GO_terms.gmt\")})})\n",
    "# perform enrichment analysis using KS test\n",
    "suppressWarnings(k_results <- runKsWilcox(DE_data = kw_de, geneset = geneset, statCol = \"statistic\", sTest = \"ks\"))\n",
    "\n",
    "# order the results \n",
    "k_results <- k_results[order(k_results$p.value), ]\n",
    "# show some first rows of the result \n",
    "head(k_results)"
   ]
  },
  {
   "cell_type": "markdown",
   "id": "214d9285-55fa-4b53-a974-ea18096ffea8",
   "metadata": {},
   "source": [
    "### Enrichment analysis using KS and KEGG pathways\n",
    "To do the analysis with KEEG pathways, we will replace the GO gene sets list with the KEGG pathways."
   ]
  },
  {
   "cell_type": "code",
   "execution_count": null,
   "id": "6b3d0d05-3bae-4b41-8ade-479d1985cf40",
   "metadata": {},
   "outputs": [],
   "source": [
    "# Loading the KEGG pathways from saved gmt file\n",
    "suppressWarnings({suppressMessages({geneset <- gmt2geneset(\"./data/KEGG_pathways.gmt\")})})\n",
    "# perform enrichment analysis using KS test\n",
    "k_results <- runKsWilcox(DE_data = kw_de, geneset = geneset, statCol = \"statistic\", sTest = \"ks\")\n",
    "\n",
    "# order the results \n",
    "k_results <- k_results[order(k_results$p.value), ]\n",
    "# show some first rows of the result \n",
    "head(k_results)"
   ]
  },
  {
   "cell_type": "markdown",
   "id": "036d1f5a-8292-442c-9e81-d6cdfd286ae5",
   "metadata": {},
   "source": [
    "### Enrichment analysis using KS and REACTOME pathways\n",
    "To do the analysis with REACTOME pathways, we will use the same steps as for GO terms and KEEG pathways."
   ]
  },
  {
   "cell_type": "code",
   "execution_count": null,
   "id": "3a67eacd-72f8-4ac8-99b5-90048bcad9ec",
   "metadata": {},
   "outputs": [],
   "source": [
    "# Loading the KEGG pathways from saved gmt file\n",
    "suppressWarnings({suppressMessages({geneset <- gmt2geneset(\"./data/REACTOME_pathways.gmt\")})})\n",
    "# perform enrichment analysis using KS test\n",
    "k_results <- runKsWilcox(DE_data = kw_de, geneset = geneset, statCol = \"statistic\", sTest = \"ks\")\n",
    "\n",
    "# order the results \n",
    "k_results <- k_results[order(k_results$p.value), ]\n",
    "# show some first rows of the result table\n",
    "head(k_results)"
   ]
  },
  {
   "cell_type": "markdown",
   "id": "b9a069b0-0c79-455d-90b4-cfeaedcb4fb7",
   "metadata": {},
   "source": [
    "### Enrichment analysis using WILCOXON and GO terms\n",
    "\n",
    "For enrichment analysis with Wilcoxon test, we will pass the value \"wilcox\" to the *sTest* argument in the `runKsWilcox` function. We will do the same steps as KS test."
   ]
  },
  {
   "cell_type": "code",
   "execution_count": null,
   "id": "7c3f6872-3317-43ac-bfe7-f57f991b7d56",
   "metadata": {},
   "outputs": [],
   "source": [
    "# load the GO gene sets from saved gmt file\n",
    "suppressWarnings({suppressMessages({geneset <- gmt2geneset(\"./data/GO_terms.gmt\")})})\n",
    "# perform enrichment analysis with Wilcoxon test \n",
    "w_results <- runKsWilcox(DE_data = kw_de, geneset = geneset, statCol = \"statistic\", sTest = \"wilcox\")\n",
    "\n",
    "# order the result  \n",
    "w_results <- w_results[order(w_results$p.value), ]\n",
    "# show some first rows of the result\n",
    "head(w_results)"
   ]
  },
  {
   "cell_type": "markdown",
   "id": "8b13fabf-227e-47d1-ad29-1cd5fbf81de7",
   "metadata": {},
   "source": [
    "### Enrichment analysis using WILCOXON and KEGG pathways\n",
    "To do the analysis with KEEG pathways, we will replace the GO gene sets with the KEGG pathways."
   ]
  },
  {
   "cell_type": "code",
   "execution_count": null,
   "id": "bc304aaf-85f9-412a-8fb4-c0e6b6a391ce",
   "metadata": {},
   "outputs": [],
   "source": [
    "# Loading the KEGG pathways from saved gmt file\n",
    "suppressWarnings({suppressMessages({geneset <- gmt2geneset(\"./data/KEGG_pathways.gmt\")})})\n",
    "# perform enrichment analysis with Wilcoxon test \n",
    "w_results <- runKsWilcox(DE_data = kw_de, geneset = geneset, statCol = \"statistic\", sTest = \"wilcox\")\n",
    "\n",
    "# order the result  \n",
    "w_results <- w_results[order(w_results$p.value), ]\n",
    "# show some first rows of the result\n",
    "head(w_results)"
   ]
  },
  {
   "cell_type": "markdown",
   "id": "402f89b4-83d0-4dbb-af54-265cfb4cf314",
   "metadata": {},
   "source": [
    "### Enrichment analysis using WILCOXON and REACTOME pathways\n",
    "We can use the same code for REACTOME pathways."
   ]
  },
  {
   "cell_type": "code",
   "execution_count": null,
   "id": "b5641e20-85d2-4ca8-9e66-4a1aabeb216b",
   "metadata": {},
   "outputs": [],
   "source": [
    "# Loading the KEGG pathways from saved gmt file\n",
    "suppressWarnings({suppressMessages({geneset <- gmt2geneset(\"./data/REACTOME_pathways.gmt\")})})\n",
    "\n",
    "# perform enrichment analysis using KS test\n",
    "w_results <- runKsWilcox(DE_data = kw_de, geneset = geneset, statCol = \"statistic\", sTest = \"wilcox\")\n",
    "\n",
    "# order the results \n",
    "w_results <- w_results[order(w_results$p.value), ]\n",
    "# show some first rows of the result table\n",
    "head(w_results)"
   ]
  },
  {
   "cell_type": "markdown",
   "id": "9aa0e1c7",
   "metadata": {},
   "source": [
    "<!-- headings -->\n",
    "<a id=\"fgsea-main\"></a>\n",
    "## 4. Enrichment Analysis using FGSEA"
   ]
  },
  {
   "cell_type": "markdown",
   "id": "47b46d66",
   "metadata": {},
   "source": [
    "This section describes `FGSEA`, one of the methods for evaluating pathway enrichment in transcriptional data and it stands for Fast preranked Gene Set Enrichment Analysis (GSEA). `FGSEA` quickly calculates arbitrarily low GSEA P-values for a collection of gene sets and is based on an algorithm that allows  it to make more permutations and get accurate *p-values*.\n",
    "It extends the GSEA algorithm which calculates the enrichment score (the degree to which a set S is over-represented at the top or bottom of the ranked list L), estimates the p-value of the Enrichment Score using a permutation test and adjusts the estimated significance level to account for multiple hypotheses in addition to calculating the q-values for FDR control. Typically, GSEA requires inputs of a list of gene sets (GO term or pathway with a set of genes), a vector DE genes with statistic. In addition, users can limit the number of terms or pathways of interest by adjusting the `minSize` and `maxSize` parameters. \n",
    "\n",
    "The basic steps in performing FGSEA are as follows:\n",
    "\n",
    "1. Rank the genes according to a certain metric, such as gene expression or differential expression.\n",
    "2. Define a set of genes of interest, such as a pathway or a gene ontology term.\n",
    "3. Compute the enrichment score for each gene set based on the ranks of its member genes in the ranked list.\n",
    "4. Generate a null distribution of enrichment scores by permuting the gene labels in the ranked list.\n",
    "5. Compute the p-value for each gene set by comparing its observed enrichment score with the null distribution.\n",
    "6. Correct for multiple testing, for example, by using the false discovery rate (FDR) or the Bonferroni method.\n",
    "\n",
    "\n",
    "The code to install and load the FGSEA R package is shown below:"
   ]
  },
  {
   "cell_type": "code",
   "execution_count": null,
   "id": "b9702a89",
   "metadata": {},
   "outputs": [],
   "source": [
    "# To perform enrichment analysis using FGSEA, we first install the fgsea package\n",
    "library(devtools)\n",
    "install_github(\"ctlab/fgsea\")\n",
    "\n",
    "# Loading the package\n",
    "library(fgsea)\n",
    "\n",
    "# Set number of permutation for FGSEA\n",
    "nperms <- 1000"
   ]
  },
  {
   "cell_type": "markdown",
   "id": "20d49b0d-5189-4fc8-8ee8-3a4e1e0b3425",
   "metadata": {},
   "source": [
    "For conducting pathway analysis using FGSEA, we can use the runFGSEA function written below. This function needs "
   ]
  },
  {
   "cell_type": "code",
   "execution_count": null,
   "id": "92825f53-229c-4f6f-953f-dec89d9b2ac2",
   "metadata": {},
   "outputs": [],
   "source": [
    "#' @description This function performs gene set analysis using fgsea (fast gene set enrichment analysis).\n",
    "#'\n",
    "#' @param DE_data A dataframe containing the DE analysis result.\n",
    "#' @param genesets A list of gene sets to be analyzed, ex. KEGG genesets.\n",
    "#' @param statCol A character string specifying the name of a statistic column in DE_data to be used in the EA analysis.\n",
    "#' @param nperms An integer specifying the number of permutations for fgsea. \n",
    "#' @param ncores An integer specifying the number cpu cores for parallel processing.\n",
    "#' @return A list containing a dataframe of gene set analysis results and a statistic vector\n",
    "\n",
    "runFgsea <- function(DE_data, genesets, statCol = \"statistic\", nperms = 200, ncores = 0) {\n",
    "\n",
    "    if (is.null(DE_data) |\n",
    "        dim(DE_data)[1] == 0 |\n",
    "        dim(DE_data)[2] == 0) {\n",
    "        stop(\"No differential analysis data is in input data.\")\n",
    "    }\n",
    "\n",
    "    DE_data <- DE_data[!is.na(DE_data[[statCol]]),]\n",
    "\n",
    "    statistic <- unlist(DE_data[[statCol]]) \n",
    "    statistic <- as.vector(statistic)\n",
    "    names(statistic) <- rownames(DE_data)\n",
    "\n",
    "    suppressWarnings(fgsea_res <- fgsea::fgsea(pathways = genesets, stats = statistic, nperm = nperms, nproc = ncores))\n",
    "\n",
    "    fgsea_res <- fgsea_res[!is.na(fgsea_res[[\"pval\"]]), ]\n",
    "    \n",
    "    fgsea_res[, c(\"pathway\", \"pval\", \"padj\", \"ES\", \"NES\")]\n",
    "}"
   ]
  },
  {
   "cell_type": "code",
   "execution_count": null,
   "id": "cdb41931-b689-4fb9-9c5d-0e1c443bfe00",
   "metadata": {},
   "outputs": [],
   "source": [
    "#Run the following command to take the quiz\n",
    "IRdisplay::display_html('<iframe src=\"../Quizzes/Quiz_Submodule4-3.html\" width=100% height=250></iframe>')"
   ]
  },
  {
   "cell_type": "markdown",
   "id": "fb6f9407",
   "metadata": {},
   "source": [
    "Next, we need to prepare a vector of DE genes with its statistic."
   ]
  },
  {
   "cell_type": "markdown",
   "id": "9950a6f6",
   "metadata": {},
   "source": [
    "### Enrichment analysis using FGSEA and GO terms"
   ]
  },
  {
   "cell_type": "markdown",
   "id": "c5093c0c",
   "metadata": {},
   "source": [
    "The package `fgsea` has its own function named `gmtPathways` to load the genesets from the `gmt` file. It is recommended to use this function for compatibility. We can load the GO terms geneset and view the first five GO terms with associated genes using the following command:"
   ]
  },
  {
   "cell_type": "code",
   "execution_count": null,
   "id": "b2d3d20a",
   "metadata": {},
   "outputs": [],
   "source": [
    "# Load the pathways into a named list\n",
    "GO_term_hallmark <- gmtPathways(\"./data/GO_terms.gmt\")\n",
    "# Show the first few GO terms, and within those, show only the first few genes.\n",
    "tmp = lapply(GO_term_hallmark, head)\n",
    "tmp[1:5]"
   ]
  },
  {
   "cell_type": "markdown",
   "id": "d06027d9",
   "metadata": {},
   "source": [
    "Running the FGSEA can be done by calling the `fgsea` with two required inputs that we created from the two previous steps."
   ]
  },
  {
   "cell_type": "code",
   "execution_count": null,
   "id": "6efd9f83",
   "metadata": {},
   "outputs": [],
   "source": [
    "# Running fgsea analysis\n",
    "geneset <- GO_term_hallmark\n",
    "fgsea_result <- runFgsea(DE_data = DE.df, genesets = geneset, nperms = nperms)\n",
    "# Show some first rows of the result table\n",
    "head(fgsea_result[order(fgsea_result$pval), c(\"pathway\", \"pval\", \"ES\", \"NES\")])"
   ]
  },
  {
   "cell_type": "markdown",
   "id": "c7866448",
   "metadata": {},
   "source": [
    "From the result table, we can select top five up regulated GO terms and top five down regulated GO terms. Then we can plot them using the built-in function `plotGseaTable`"
   ]
  },
  {
   "cell_type": "code",
   "execution_count": null,
   "id": "f1b4ed14",
   "metadata": {},
   "outputs": [],
   "source": [
    "# Get the stats vector for the plotGseaTable\n",
    "stats <- DE.df$statistic\n",
    "stats <- as.vector(stats)\n",
    "names(stats) <- rownames(DE.df)\n",
    "\n",
    "# select the top five up-regulated pathways \n",
    "topPathwaysUp <- fgsea_result[ES > 0][head(order(pval), n = 5), pathway]\n",
    "# select the top five down-regulated pathways \n",
    "topPathwaysDown <- fgsea_result[ES < 0][head(order(pval), n = 5), pathway]\n",
    "# concatenate them for visualization\n",
    "topPathways <- c(topPathwaysUp, rev(topPathwaysDown))\n",
    "#Viewing the 5 most significantly up-regulated and down-regulated pathways each with the FGSEA internal plot function\n",
    "plotGseaTable(pathways = GO_term_hallmark[topPathways], stats = stats, \n",
    "              fgseaRes = fgsea_result, gseaParam = 0.5)"
   ]
  },
  {
   "cell_type": "markdown",
   "id": "86cfabed-97a6-4e5e-8cfa-5ffa01c57906",
   "metadata": {},
   "source": [
    "To use the `plotGseaTable` function, we need to pass the following arguments:\n",
    "\n",
    "- `pathways`: A list of pathways to plot table.\n",
    "- `stats`: A dataframe specifying gene-level stats.\n",
    "- `fgseaRes`: A dataframe of fgsea results.\n",
    "- `gseaParam`: A numeric value to adjust displayed statistic values, values closer to 0 flatten plots. Default = 1, value of 0.5 is a good choice too."
   ]
  },
  {
   "cell_type": "markdown",
   "id": "1ef50627",
   "metadata": {},
   "source": [
    "### Enrichment analysis using FGSEA and KEGG pathways\n",
    "We can perform enrichment analysis using FGSEA with KEGG pathway using the same procedure mentioned above. The only thing we need to change is the\n",
    "list of gene sets that are available in the KEGG database."
   ]
  },
  {
   "cell_type": "code",
   "execution_count": null,
   "id": "93b11008",
   "metadata": {},
   "outputs": [],
   "source": [
    "# Load the pathways into a named list\n",
    "KEGG_hallmark <- gmtPathways(\"./data/KEGG_pathways.gmt\")\n",
    "# Show the first few GO terms, and within those, show only the first few genes.\n",
    "tmp = lapply(KEGG_hallmark, head)\n",
    "tmp[1:5]"
   ]
  },
  {
   "cell_type": "code",
   "execution_count": null,
   "id": "9eb1ede2",
   "metadata": {},
   "outputs": [],
   "source": [
    "# Running fgsea analysis\n",
    "geneset <- KEGG_hallmark\n",
    "fgsea_result <- runFgsea(DE_data = DE.df, genesets = geneset, nperms = nperms)\n",
    "# Show some first rows of the result table\n",
    "head(fgsea_result[order(fgsea_result$pval), c(\"pathway\", \"pval\", \"ES\", \"NES\")])"
   ]
  },
  {
   "cell_type": "code",
   "execution_count": null,
   "id": "a63408eb",
   "metadata": {},
   "outputs": [],
   "source": [
    "# Get the stats vector for the plotGseaTable\n",
    "stats <- DE.df$statistic\n",
    "stats <- as.vector(stats)\n",
    "names(stats) <- rownames(DE.df)\n",
    "\n",
    "# select the top five up-regulated pathways \n",
    "topPathwaysUp <- fgsea_result[ES > 0][head(order(pval), n = 5), pathway]\n",
    "# select the top five down-regulated pathways \n",
    "topPathwaysDown <- fgsea_result[ES < 0][head(order(pval), n = 5), pathway]\n",
    "# concatenate them for visualization\n",
    "topPathways <- c(topPathwaysUp, rev(topPathwaysDown))\n",
    "#Viewing the 5 most significantly up-regulated and down-regulated pathways each with the FGSEA internal plot function\n",
    "plotGseaTable(pathways = KEGG_hallmark[topPathways], stats = stats, \n",
    "              fgseaRes = fgsea_result, gseaParam = 0.5)"
   ]
  },
  {
   "cell_type": "markdown",
   "id": "29cbb971-2f26-42fa-92d1-3f7b8e6347ef",
   "metadata": {},
   "source": [
    "### Enrichment analysis using FGSEA and REACTOME pathways\n",
    "We can perform enrichment analysis using FGSEA with REACTOME pathways using the same procedure above. "
   ]
  },
  {
   "cell_type": "code",
   "execution_count": null,
   "id": "ab574490-afc7-428d-8bd9-fc0a2514777e",
   "metadata": {},
   "outputs": [],
   "source": [
    "# Load the pathways into a named list\n",
    "REACTOME_hallmark <- gmtPathways(\"./data/REACTOME_pathways.gmt\")\n",
    "# Show the first few GO terms, and within those, show only the first few genes.\n",
    "tmp = lapply(REACTOME_hallmark, head)\n",
    "tmp[1:5]"
   ]
  },
  {
   "cell_type": "code",
   "execution_count": null,
   "id": "8c812668-2971-4e80-b10d-7986b290574c",
   "metadata": {},
   "outputs": [],
   "source": [
    "# Running fgsea analysis\n",
    "geneset <- REACTOME_hallmark\n",
    "fgsea_result <- runFgsea(DE_data = DE.df, genesets = geneset, nperms = nperms)\n",
    "# Show some first rows of the result table\n",
    "head(fgsea_result[order(fgsea_result$pval), c(\"pathway\", \"pval\", \"ES\", \"NES\")])"
   ]
  },
  {
   "cell_type": "code",
   "execution_count": null,
   "id": "cb80919c-714f-4788-b266-6ee71146d0cf",
   "metadata": {},
   "outputs": [],
   "source": [
    "# Get the stats vector for the plotGseaTable\n",
    "stats <- DE.df$statistic\n",
    "stats <- as.vector(stats)\n",
    "names(stats) <- rownames(DE.df)\n",
    "\n",
    "# select the top five up-regulated pathways \n",
    "topPathwaysUp <- fgsea_result[ES > 0][head(order(pval), n = 5), pathway]\n",
    "# select the top five down-regulated pathways \n",
    "topPathwaysDown <- fgsea_result[ES < 0][head(order(pval), n = 5), pathway]\n",
    "# concatenate them for visualization\n",
    "topPathways <- c(topPathwaysUp, rev(topPathwaysDown))\n",
    "#Viewing the 5 most significantly up-regulated and down-regulated pathways each with the FGSEA internal plot function\n",
    "plotGseaTable(pathways = REACTOME_hallmark[topPathways], stats = stats, \n",
    "              fgseaRes = fgsea_result, gseaParam = 0.5)"
   ]
  },
  {
   "cell_type": "markdown",
   "id": "181989b1",
   "metadata": {},
   "source": [
    "<!-- headings -->\n",
    "<a id=\"gsa-main\"></a>\n",
    "## 5. Enrichment Analysis using GSA"
   ]
  },
  {
   "cell_type": "markdown",
   "id": "c2f471b1",
   "metadata": {},
   "source": [
    "Gene Set Analysis (GSA), an Enrichment Analysis, is a method that is commonly used to summarize high-dimensional gene expression data sets into sets according to their biological relevance. GSA takes the ranked gene lists from the initial stage of a gene expression analysis and aggregates the genes into sets based on shared biological or functional properties as specified by a reference knowledge base. Such databases often contain phenotype associations, molecular interactions and regulation and are referenced in the analysis of the resultant gene sets to find the relevance of the gene properties to the phenotype of interest."
   ]
  },
  {
   "cell_type": "code",
   "execution_count": null,
   "id": "443e636c-265e-4829-85f3-1999eeff4385",
   "metadata": {},
   "outputs": [],
   "source": [
    "#Run the following command to take the quiz\n",
    "IRdisplay::display_html('<iframe src=\"../Quizzes/Quiz_Submodule4-4.html\" width=100% height=250></iframe>')"
   ]
  },
  {
   "cell_type": "markdown",
   "id": "0f0c9233",
   "metadata": {},
   "source": [
    "### Data preparation\n",
    "The GSA method is freely available as standalone package in CRAN repository. We can use the following code to install the package."
   ]
  },
  {
   "cell_type": "code",
   "execution_count": null,
   "id": "c3efb930",
   "metadata": {},
   "outputs": [],
   "source": [
    "# Install GSA from CRAN\n",
    "suppressMessages({\n",
    "    suppressWarnings({\n",
    "        if (!require(\"GSA\")) install.packages(\"GSA\")\n",
    "    })\n",
    "})\n",
    "\n",
    "suppressMessages({\n",
    "    suppressWarnings({\n",
    "        library(GSA)\n",
    "    })\n",
    "})\n",
    "# Set the number of permutations\n",
    "nperms <- 1000"
   ]
  },
  {
   "cell_type": "markdown",
   "id": "0d5ceddc-ecf5-435c-917d-8588662a87a2",
   "metadata": {},
   "source": [
    "To perform enrichment analysis using GSA, we can use the `runGSA` function below."
   ]
  },
  {
   "cell_type": "code",
   "execution_count": null,
   "id": "146cd2ae-578f-4605-a763-61e7904f4305",
   "metadata": {},
   "outputs": [],
   "source": [
    "#' @description This function performs enrichment analysis using the GSA method.\n",
    "#'\n",
    "#' @param exprsData A numeric matrix or a matrix-like object containing gene expression data. Rows represent genes, columns represent samples.\n",
    "#' @param genesets A list of gene sets to be analzyed.\n",
    "#' @param groups A factor indicating sample groups.\n",
    "#' @param parallel A boolean to choose between non-parallel and parallel processing.\n",
    "#'\n",
    "#' @return A list containing the GSA results data frame and the GSA object.\n",
    "\n",
    "runGSA <- function(exprsData, genesets, groups, nperms = 100) {\n",
    "    # Determine the number of classes in the group variable\n",
    "    num_classes <- length(unique(groups))\n",
    "    resp_type <- NULL\n",
    "\n",
    "    # Check the number of classes and set response type accordingly\n",
    "    if (num_classes == 1) {\n",
    "        stop(\"The group classes in the design matrix must be at least two.\")\n",
    "    } else if (num_classes == 2) {\n",
    "        resp_type <- \"Two class unpaired\"\n",
    "    } else {\n",
    "        resp_type <- \"Multiclass\"\n",
    "    }\n",
    "    # Run GSA analysis\n",
    "    gsa_res <- GSA::GSA(\n",
    "        x = exprsData,\n",
    "        y = groups,\n",
    "        genesets = genesets,\n",
    "        resp.type = resp_type,\n",
    "        genenames = rownames(exprsData),\n",
    "        nperms = nperms\n",
    "    )\n",
    "        \n",
    "    # Extract p-values and create result data frame\n",
    "    pvalues <- apply(cbind(gsa_res$pvalues.lo, gsa_res$pvalues.hi), 1, min)\n",
    "    res <- data.frame(ID = names(genesets), p.value = pvalues * 2, stringsAsFactors = FALSE)\n",
    "\n",
    "    # Create GSA result data frame\n",
    "    GSA_res <- data.frame(\n",
    "        ID = res$ID,\n",
    "        p.value = res$p.value,\n",
    "        score = gsa_res$GSA.scores,\n",
    "        normalizedScore = gsa_res$GSA.scores,\n",
    "        stringsAsFactors = FALSE\n",
    "    )\n",
    "    # Return a list containing GSA results\n",
    "    list(GSA_res = GSA_res[!is.na(GSA_res$p.value), ], GSA.obj = gsa_res)\n",
    "}\n"
   ]
  },
  {
   "cell_type": "markdown",
   "id": "e4a2ed98",
   "metadata": {},
   "source": [
    "The GSA method requires an expression matrix, a numeric vector containing the class of each sample and a vector of the genes inputs. We can easily get those inputs by loading the data that we processed in the [**submodule 01** ](./Submodule01-ProcessingExpressionData.ipynb). From the samples information, we can use the same code in [**submodule 02** ](./Submodule02-DifferentialAnalysis.ipynb) to create the groups information factor."
   ]
  },
  {
   "cell_type": "code",
   "execution_count": null,
   "id": "4a06f16e-e68e-433f-bb30-6d6e66effae9",
   "metadata": {},
   "outputs": [],
   "source": [
    "# Check names available in data\n",
    "names(data)"
   ]
  },
  {
   "cell_type": "code",
   "execution_count": null,
   "id": "3982c128",
   "metadata": {},
   "outputs": [],
   "source": [
    "# Loading expression data and samples information\n",
    "expression_data <- data$expression_data\n",
    "samples <- data$samples\n"
   ]
  },
  {
   "cell_type": "markdown",
   "id": "1848114c-e852-46ec-91ae-ca19afc8ea8b",
   "metadata": {},
   "source": [
    "Get the groups information for GSA function."
   ]
  },
  {
   "cell_type": "code",
   "execution_count": null,
   "id": "f0c546b9-aa93-43ad-a69f-ec9d53228feb",
   "metadata": {},
   "outputs": [],
   "source": [
    "groups <- samples$condition\n",
    "groups <- as.factor(groups)\n",
    "groups"
   ]
  },
  {
   "cell_type": "markdown",
   "id": "f8acf4f4",
   "metadata": {},
   "source": [
    "### Enrichment Analysis using GSA and GO Terms\n",
    "Using data obtained from the previous step, we can run the GSA method by calling the function `GSA`. We can reuse `GO_term_hallmark` and `KEGG_hallmark` loaded in FGSEA to perform analysis. The code details are shown below:"
   ]
  },
  {
   "cell_type": "code",
   "execution_count": null,
   "id": "3c207752-fc0e-4f7b-924d-27ec6bbfc0e3",
   "metadata": {},
   "outputs": [],
   "source": [
    "genesets <- GO_term_hallmark\n",
    "GSA_output <- runGSA(as.matrix(expression_data), genesets = genesets, as.numeric(groups), nperms = nperms)\n",
    "# Get GSA_result dataframe and GSA object from output of the runGSA function\n",
    "GSA_result <- GSA_output$GSA_res\n",
    "GSA.obj <- GSA_output$GSA.obj"
   ]
  },
  {
   "cell_type": "code",
   "execution_count": null,
   "id": "fee35ec6-490d-490c-a7c0-aa20716d40be",
   "metadata": {},
   "outputs": [],
   "source": [
    "head(GSA_result[order(GSA_result$p.value), ])"
   ]
  },
  {
   "cell_type": "markdown",
   "id": "0648ecb6-f0ec-41aa-b3e6-e812ba18d85c",
   "metadata": {},
   "source": [
    "<div class=\"alert alert-block alert-danger\">\n",
    "    <i class=\"fa fa-exclamation-circle\" aria-hidden=\"true\"></i>\n",
    "    <b>Alert: </b>  Please note that the outputs generated from GSA can be varied depending on R environments and software versions. Especially, when the users run the scripts using User-managed Notebooks instances which have a preinstalled suite of packages.\n",
    "</div>"
   ]
  },
  {
   "cell_type": "markdown",
   "id": "7a896181-0484-4df3-b879-f70c99bc0a4e",
   "metadata": {},
   "source": [
    "From the analysis result, we can now get the list positive and negative genes of the GSA analysis from the GSA object using the `GSA.listsets` function. "
   ]
  },
  {
   "cell_type": "code",
   "execution_count": null,
   "id": "ebba9b67",
   "metadata": {},
   "outputs": [],
   "source": [
    "# List the results from a GSA analysis\n",
    "res <- GSA.listsets(GSA.obj = GSA.obj, geneset.names = names(genesets), FDRcut = .5)"
   ]
  },
  {
   "cell_type": "markdown",
   "id": "f280f564-9698-4896-9eb9-c22a5ac00399",
   "metadata": {},
   "source": [
    "To use the `GSA.listsets` function, we need to pass the following arguments:\n",
    "\n",
    "- `GSA.obj`: A GSA object returned by GSA function.\n",
    "- `geneset.names`: An optional vector of names for the gene sets.\n",
    "- `FDRcut`: A numeric value specifying the false discovery rate cutpoint for listed sets. A value of 1 will cause all sets to be listed.\n",
    "\n",
    "The `GSA.listsets` function returns a list of the results from the GSA call."
   ]
  },
  {
   "cell_type": "markdown",
   "id": "df55e53c",
   "metadata": {},
   "source": [
    "A table of the negative gene sets. “Negative” means that lower expression of most genes in the gene set correlates with higher values of the phenotype y. E.g., for two classes coded 1,2, lower expression correlates with class 2."
   ]
  },
  {
   "cell_type": "code",
   "execution_count": null,
   "id": "ae97649e",
   "metadata": {},
   "outputs": [],
   "source": [
    "neg.table <- res$negative\n",
    "head(neg.table)"
   ]
  },
  {
   "cell_type": "markdown",
   "id": "c237dea8",
   "metadata": {},
   "source": [
    "A table of the positive gene sets. \"Positive\" means that higher expression of most genes in the gene set correlates with higher values of the phenotype y."
   ]
  },
  {
   "cell_type": "code",
   "execution_count": null,
   "id": "e640ff47",
   "metadata": {},
   "outputs": [],
   "source": [
    "pos.table <- res$positive\n",
    "head(pos.table)"
   ]
  },
  {
   "cell_type": "code",
   "execution_count": null,
   "id": "79687f5d",
   "metadata": {},
   "outputs": [],
   "source": [
    "# Individual gene scores from a gene set analysis\n",
    "# look at 10th gene set\n",
    "GSA.genescores(geneset.number = 10, genesets = genesets, \n",
    "               GSA.obj = GSA.obj, genenames = GSA.obj$genenames)"
   ]
  },
  {
   "cell_type": "markdown",
   "id": "c77eafab-f0e9-4522-8306-496d91dec8d5",
   "metadata": {},
   "source": [
    "To use the `GSA.genescores` function, we need to pass the following arguments:\n",
    "\n",
    "- `geneset.number`: A number specifying which gene set is to be examined.\n",
    "- `genesets`: A list containing the gene set collection.\n",
    "- `GSA.obj`: A GSA object returned by the GSA function.\n",
    "- `genenames`: A vector containing gene names for genes in the expression dataset.\n",
    "\n",
    "The `GSA.genescores` returns a matrix of gene names and gene scores (eg t-statistics) for each gene in the gene set.\n"
   ]
  },
  {
   "cell_type": "code",
   "execution_count": null,
   "id": "1cfde1f8",
   "metadata": {},
   "outputs": [],
   "source": [
    "# Plot the result, this function makes a plot of the significant gene sets, based on a call to the GSA (Gene set analysis) function.\n",
    "suppressWarnings(GSA.plot(GSA.obj, fac = 1, FDRcut = 0.5))"
   ]
  },
  {
   "cell_type": "markdown",
   "id": "c2c644a4-e3c9-4ced-b343-78c64d6e9e16",
   "metadata": {},
   "source": [
    "To use the `GSA.plot` function, we need to pass the following arguments:\n",
    "\n",
    "- `GSA.obj`: A GSA object returned by the GSA function.\n",
    "- `fac`: A numeric value for jittering points in plot (\"factor\" in called to jitter()).\n",
    "- `FDRcut`: A numeric value specifying the false discovery rate cutpoint for sets to be plotted. A value of 1 (the default) will cause all sets to be plotted.\n",
    "\n"
   ]
  },
  {
   "cell_type": "markdown",
   "id": "7107ef92",
   "metadata": {},
   "source": [
    "### Enrichment Analysis using GSA and KEGG pathways\n",
    "We can use the same procedure to per enrichment analysis with the KEGG pathway. All the codes are similar but `genesets` are assigned from `KEGG_hallmark`. The code is shown below."
   ]
  },
  {
   "cell_type": "code",
   "execution_count": null,
   "id": "361aff0b",
   "metadata": {},
   "outputs": [],
   "source": [
    "genesets <- KEGG_hallmark\n",
    "GSA_output <- runGSA(as.matrix(expression_data), genesets = genesets, as.numeric(groups), nperms = nperms)\n",
    "# Get GSA_result dataframe and GSA object from output of the runGSA function\n",
    "GSA_result <- GSA_output$GSA_res\n",
    "GSA.obj <- GSA_output$GSA.obj"
   ]
  },
  {
   "cell_type": "code",
   "execution_count": null,
   "id": "76fd4be5-2607-47af-b271-0309430a29b6",
   "metadata": {},
   "outputs": [],
   "source": [
    "head(GSA_result[order(GSA_result$p.value), ])"
   ]
  },
  {
   "cell_type": "code",
   "execution_count": null,
   "id": "00afb710",
   "metadata": {},
   "outputs": [],
   "source": [
    "# List the results from a GSA analysis\n",
    "res <- GSA.listsets(GSA.obj = GSA.obj, geneset.names = names(genesets), FDRcut = .5)"
   ]
  },
  {
   "cell_type": "markdown",
   "id": "e15cdae3",
   "metadata": {},
   "source": [
    "A table of the negative gene sets. \"Negative\" means that lower expression of most genes in the gene set correlates with higher values of the phenotype y. E.g., for two classes coded 1,2, lower expression correlates with class 2."
   ]
  },
  {
   "cell_type": "code",
   "execution_count": null,
   "id": "c9e7aad4",
   "metadata": {},
   "outputs": [],
   "source": [
    "neg.table <- res$negative\n",
    "head(neg.table)"
   ]
  },
  {
   "cell_type": "markdown",
   "id": "e226ae92",
   "metadata": {},
   "source": [
    "A table of the positive gene sets. \"Positive\" means that higher expression of most genes in the gene set correlates with higher values of the phenotype y. See \"negative\" above for more info."
   ]
  },
  {
   "cell_type": "code",
   "execution_count": null,
   "id": "bcd7ff3e",
   "metadata": {},
   "outputs": [],
   "source": [
    "pos.table <- res$positive\n",
    "head(pos.table)"
   ]
  },
  {
   "cell_type": "code",
   "execution_count": null,
   "id": "0d676c13",
   "metadata": {},
   "outputs": [],
   "source": [
    "# Individual gene scores from a gene set analysis\n",
    "# look at 10th gene set\n",
    "GSA.genescores(geneset.number = 10, genesets = genesets, \n",
    "               GSA.obj = GSA.obj, genenames = GSA.obj$genenames)"
   ]
  },
  {
   "cell_type": "code",
   "execution_count": null,
   "id": "2284bc1f",
   "metadata": {},
   "outputs": [],
   "source": [
    "# Plot the result, this function makes a plot of the significant gene sets, based on a call to the GSA (Gene set analysis) function.\n",
    "suppressWarnings(GSA.plot(GSA.obj, fac = 1, FDRcut = 0.5))\n"
   ]
  },
  {
   "cell_type": "markdown",
   "id": "57c8b700-fe1f-40f0-b96e-97d3eedda337",
   "metadata": {},
   "source": [
    "### Enrichment Analysis using GSA and REACTOME pathways\n",
    "We can use the same procedure to per enrichment analysis with the REACTOME pathway. All the codes are similar but `genesets` are assigned from `REACTOME_hallmark`. The code is shown below."
   ]
  },
  {
   "cell_type": "code",
   "execution_count": null,
   "id": "9f64fdfa-b967-4290-abe3-64e3d4487f58",
   "metadata": {},
   "outputs": [],
   "source": [
    "genesets <- REACTOME_hallmark\n",
    "GSA_output <- runGSA(as.matrix(expression_data), genesets = genesets, as.numeric(groups), nperms = nperms)\n",
    "# Get GSA_result dataframe and GSA object from output of the runGSA function\n",
    "GSA_result <- GSA_output$GSA_res\n",
    "GSA.obj <- GSA_output$GSA.obj"
   ]
  },
  {
   "cell_type": "code",
   "execution_count": null,
   "id": "99aecfa8-ff7b-40af-b0a7-ba3fc914e71d",
   "metadata": {},
   "outputs": [],
   "source": [
    "head(GSA_result[order(GSA_result$p.value), ])\n"
   ]
  },
  {
   "cell_type": "code",
   "execution_count": null,
   "id": "f47bfccc-ee95-4c5c-80df-a5233c3b82db",
   "metadata": {},
   "outputs": [],
   "source": [
    "# List the results from a GSA analysis\n",
    "res <- GSA.listsets(GSA.obj = GSA.obj, geneset.names = names(genesets), FDRcut = .5)"
   ]
  },
  {
   "cell_type": "code",
   "execution_count": null,
   "id": "af79ff82-2352-4a01-9146-77318039a5bc",
   "metadata": {},
   "outputs": [],
   "source": [
    "neg.table <- res$negative\n",
    "head(neg.table)"
   ]
  },
  {
   "cell_type": "code",
   "execution_count": null,
   "id": "e84d66dd-c9c9-48a8-b2cb-80b373e43648",
   "metadata": {},
   "outputs": [],
   "source": [
    "pos.table <- res$positive\n",
    "head(pos.table)"
   ]
  },
  {
   "cell_type": "code",
   "execution_count": null,
   "id": "3700db02-950e-4f26-9682-233edf803d5b",
   "metadata": {},
   "outputs": [],
   "source": [
    "# Individual gene scores from a gene set analysis\n",
    "# look at 10th gene set\n",
    "GSA.genescores(geneset.number = 10, genesets = genesets, \n",
    "               GSA.obj = GSA.obj, genenames = GSA.obj$genenames)"
   ]
  },
  {
   "cell_type": "code",
   "execution_count": null,
   "id": "dfcb5446-3ef1-4825-aad1-5cd331945c76",
   "metadata": {},
   "outputs": [],
   "source": [
    "# Plot the result, this function makes a plot of the significant gene sets, based on a call to the GSA (Gene set analysis) function.\n",
    "suppressWarnings(GSA.plot(GSA.obj, fac = 1, FDRcut = 0.5))\n"
   ]
  },
  {
   "cell_type": "markdown",
   "id": "3abc3624-f0a4-4f47-a396-998876d1626e",
   "metadata": {},
   "source": [
    "<!-- headings -->\n",
    "<a id=\"safe-main\"></a>\n",
    "## 6. Enrichment Analysis using SAFE\n",
    "\n",
    "\n",
    "Similar to the CAMERA method, the Significance Analysis of Function and Expression (SAFE) method also has two stages. First, it calculates local statistics to measure the significance of each gene's association in the dataset, using tests like the Student’s t-test, Welch’s t-test, t-statistic from a linear model, etc. In the second stage, it computes global statistics to assess the significance of a competitive hypothesis test for each gene set or pathway. These global statistics, including Wilcoxon rank sum, Fisher’s Exact Test, Pearson’s Chi-squared type statistic, and a t-statistic for average difference, help compare various gene sets. To control the false positives rate, SAFE uses permutation of class labels.\n",
    "\n",
    "We can use the function `safe` from the bioconductor `safe` package to perform EA using this method. We first need to install and import the required packages."
   ]
  },
  {
   "cell_type": "code",
   "execution_count": null,
   "id": "fd189651-f6ce-40f3-96a8-429f9f47e764",
   "metadata": {},
   "outputs": [],
   "source": [
    "# Install and import safe \n",
    "suppressWarnings({\n",
    "    suppressMessages({\n",
    "        if (!require(\"BiocManager\", quietly = TRUE))\n",
    "            install.packages(\"BiocManager\")\n",
    "        \n",
    "        BiocManager::install(\"safe\")\n",
    "        BiocManager::install(\"hgu133plus2.db\")\n",
    "        \n",
    "        library(safe)\n",
    "        library(hgu133plus2.db)\n",
    "    })\n",
    "})\n",
    "\n",
    "nperms <- 1000"
   ]
  },
  {
   "cell_type": "markdown",
   "id": "e83d840a-f287-4fbc-905d-155213c70f92",
   "metadata": {},
   "source": [
    "The `runSAFE` function below requires a gene expression matrix, a list of gene sets, and the group information of the expression matrix. It utilizes the `getCmatrix` and `safe` functions to perform enrichment analysis using the SAFE method. The `getCmatrix` function creates a matrix from a genes list of a dataset and a list of gene sets. This matrix will be used as an input of the `safe` function. "
   ]
  },
  {
   "cell_type": "code",
   "execution_count": null,
   "id": "fcddfa69-e48a-426f-bfb8-908448f0919c",
   "metadata": {},
   "outputs": [],
   "source": [
    "#' @description This function performs enrichment analysis using the SAFE method.\n",
    "#'\n",
    "#' @param exprsData A numeric matrix or a matrix-like object containing gene expression data. Rows represent genes, columns represent samples.\n",
    "#' @param genesets A list of gene sets to be analyzed.\n",
    "#' @param groups A factor indicating sample groups.\n",
    "#' @param nperms An integer specifying the number of permutations for assessing significance (default is 1000).\n",
    "#' @param seed An integer specifying a seed for reproducibility of permutation results (default is 1).\n",
    "#'\n",
    "#' @return A data frame containing pathway IDs and corresponding p-values.\n",
    "runSAFE <- function(exprsData, geneSet, groups, nperms = 1000, seed = 42) { \n",
    "    set.seed(seed)\n",
    "    # Create the C matrix from the list of gene sets and list of gene IDs in the expression data\n",
    "    C.mat2<- getCmatrix(keyword.list = geneSet, present.genes = rownames(exprsData))\n",
    "    # Perform enrichment analysis using the safe function\n",
    "    results<- safe(as.matrix(exprsData), groups, C.mat = C.mat2, \n",
    "                   platform = \"hgu133plus2.db\", Pi.mat = nperms, \n",
    "                   print.it =FALSE)\n",
    "    # Extract the analysis result\n",
    "    res <- safe.toptable(results, number = length(geneset))\n",
    "    return(res)\n",
    "}"
   ]
  },
  {
   "cell_type": "markdown",
   "id": "a451afb4-a1b9-426b-a968-0068a284b1bf",
   "metadata": {},
   "source": [
    "### Enrichment Analysis using SAFE and GO terms \n",
    "We can perform SAFE enrichment analysis with GO terms using the following commands."
   ]
  },
  {
   "cell_type": "code",
   "execution_count": null,
   "id": "e2b60576-f6ee-4f90-b147-9219dc89304c",
   "metadata": {},
   "outputs": [],
   "source": [
    "# Get the GO terms, which is previously loaded for the FGSEA method\n",
    "geneset <- GO_term_hallmark\n",
    "# Perform the analysis using SAFE\n",
    "res <- runSAFE(exprsData = expression_data, geneSet = geneset, groups = groups, nperms = nperms)\n",
    "head(res)"
   ]
  },
  {
   "cell_type": "markdown",
   "id": "c97c32de-8a04-4d6c-a6ff-7672a8cfc757",
   "metadata": {},
   "source": [
    "### Enrichment Analysis using SAFE and KEGG pathways\n",
    "We can use the same command as for GO terms. We just need to pass the KEGG pathways instead of GO terms."
   ]
  },
  {
   "cell_type": "code",
   "execution_count": null,
   "id": "5e8339d8-58d5-4cea-877a-a21919ac7dcc",
   "metadata": {},
   "outputs": [],
   "source": [
    "# Get the KEGG pathways\n",
    "geneset <- KEGG_hallmark\n",
    "# Perform the analysis using SAFE\n",
    "res <- runSAFE(exprsData = expression_data, geneSet = geneset, groups = groups, nperms = nperms)\n",
    "head(res)"
   ]
  },
  {
   "cell_type": "markdown",
   "id": "c77c851c-021a-4377-bb6a-00654ce459fa",
   "metadata": {},
   "source": [
    "### Enrichment Analysis using SAFE and REACTOME pathways \n",
    "We can do the same as GO terms and KEGG pathways. "
   ]
  },
  {
   "cell_type": "code",
   "execution_count": null,
   "id": "def1946b-4057-401d-beb7-8e2146f17f56",
   "metadata": {},
   "outputs": [],
   "source": [
    "# Get the REACTOME pathways\n",
    "geneset <- REACTOME_hallmark\n",
    "# Perform the analysis using SAFE\n",
    "res <- runSAFE(exprsData = expression_data, geneSet = geneset, groups = groups, nperms = nperms)\n",
    "head(res)\n",
    "\n"
   ]
  },
  {
   "cell_type": "markdown",
   "id": "36b0036d-b465-4b52-bef0-fa7f39bd40b3",
   "metadata": {},
   "source": [
    "<!-- headings -->\n",
    "<a id=\"padog-main\"></a>\n",
    "## 7. Enrichment Analysis using PADOG\n",
    "\n",
    "Pathway Analysis with Down-weighting of Overlapping Genes (PADOG) is a specialized method for enrichment analysis. Focused on deciphering the functional implications of differentially expressed genes in biological pathways, PADOG uniquely emphasizes the uniqueness of genes. Its down-weighting mechanism enhances precision by addressing challenges posed by overlapping genes, offering valuable insights into specific pathways influenced by gene expression changes.\n",
    "\n",
    "To perform PADOG enrichment analysis, we will use the \"PADOG\" package. We first need to install and load the package."
   ]
  },
  {
   "cell_type": "code",
   "execution_count": null,
   "id": "b09bba68-4e7e-4259-aa48-52a2c36422b2",
   "metadata": {},
   "outputs": [],
   "source": [
    "suppressWarnings({\n",
    "    suppressMessages({\n",
    "        if (!require(\"BiocManager\", quietly = TRUE)) {\n",
    "            install.packages(\"BiocManager\")\n",
    "        }\n",
    "        BiocManager::install(\"PADOG\")\n",
    "    })\n",
    "})\n",
    "\n",
    "suppressWarnings({suppressMessages({library(PADOG)})})\n",
    "\n",
    "nperms <- 1000"
   ]
  },
  {
   "cell_type": "markdown",
   "id": "cc2a61f8-3108-4e7e-a245-0b5a2d7ec1c0",
   "metadata": {},
   "source": [
    "We will use the `runPadog` function below to perform enrichment analysis using `PADOG` package. This function requires a gene expression matrix, a list of gene sets to analyze and the group information of the dataset. It will return the analysis results in a dataframe."
   ]
  },
  {
   "cell_type": "code",
   "execution_count": null,
   "id": "3b3155c3-0883-46b2-bc87-a7386bfd9576",
   "metadata": {},
   "outputs": [],
   "source": [
    "#' @description This function performs enrichment analysis using the PADOG method.\n",
    "#'\n",
    "#' @param exprsData A numeric matrix or a matrix-like object containing gene expression data. Rows represent genes, columns represent samples.\n",
    "#' @param genesets A list of gene sets to be analzyed.\n",
    "#' @param groups A factor indicating sample groups.\n",
    "#' @param nperms An integer specifying the number of permutations for assessing significance (default is 100).\n",
    "#' @param seed An integer specifying a seed for reproducibility of permutation results (default is 1).\n",
    "#' @param ncores An integer specifying the number of cores to use for parallel processing (default is 100).\n",
    "#'\n",
    "#' @return A data frame containing pathway IDs and corresponding p-values.\n",
    "\n",
    "runPadog <- function(exprsData, geneSet, groups, perm = 100, seed = 1, ncores = 1) {\n",
    "    # Run PADOG analysis\n",
    "    res <- PADOG::padog(\n",
    "        esetm = as.matrix(exprsData),\n",
    "        group = groups,\n",
    "        gslist = geneSet,\n",
    "        annotation = NULL,\n",
    "        gs.names = names(geneSet),\n",
    "        NI = nperms,\n",
    "        plots = FALSE,\n",
    "        targetgs = NULL,\n",
    "        dseed = seed,\n",
    "        parallel = TRUE,\n",
    "        ncr = ncores\n",
    "    )\n",
    "    # Extract relevant columns and rename\n",
    "    res <- res[, c('ID', 'Ppadog')]\n",
    "    colnames(res) <- c(\"pathway\", \"p.value\")\n",
    "    \n",
    "    return(res)\n",
    "}\n"
   ]
  },
  {
   "cell_type": "markdown",
   "id": "2ec13aac-5cea-4ce4-a469-714d94380a5d",
   "metadata": {},
   "source": [
    "The PADOG method requires inputs that are quite similar to the GSA method. Thus, to perform analysis using PADOG, we will use the previously preprocessed `new_expression_data` dataframe and `groups` information for the GSA method above."
   ]
  },
  {
   "cell_type": "markdown",
   "id": "d28b96e6-84ac-460c-9ff2-8c04f8f45235",
   "metadata": {},
   "source": [
    "### Enrichment Analysis using PADOG and GO terms"
   ]
  },
  {
   "cell_type": "code",
   "execution_count": null,
   "id": "fc66fcc6-1696-4572-826c-1462ba7baf40",
   "metadata": {},
   "outputs": [],
   "source": [
    "# Assign the geneset variable to GO_term_hallmark loaded in previous code\n",
    "geneset <- GO_term_hallmark\n",
    "# Perform PADOG enrichment analysis using the runPadog function\n",
    "PADOG_result <- runPadog(exprsData = expression_data, geneSet = geneset, \n",
    "                         groups = groups, perm = nperms, seed = 1)\n",
    "\n",
    "head(PADOG_result)"
   ]
  },
  {
   "cell_type": "markdown",
   "id": "60a039b9-b62e-4ab7-be15-656e36118110",
   "metadata": {},
   "source": [
    "### Enrichment Analysis using PADOG and KEGG pathways\n",
    "\n",
    "We can use the same procedure to perform enrichment analysis with the GO terms. All the codes are similar but the gene sets list is loaded from `KEGG`. The code is shown below."
   ]
  },
  {
   "cell_type": "code",
   "execution_count": null,
   "id": "7ff3b556-d4d5-4384-888c-f69f98b79537",
   "metadata": {},
   "outputs": [],
   "source": [
    "# Assign the geneset variable to KEGG_hallmark loaded in previous code\n",
    "geneset <- KEGG_hallmark\n",
    "# Perform PADOG enrichment analysis using the runPadog function\n",
    "PADOG_result <- runPadog(exprsData = expression_data, geneSet = geneset, \n",
    "                         groups = groups, perm = nperms, seed = 1)\n",
    "\n",
    "head(PADOG_result)"
   ]
  },
  {
   "cell_type": "markdown",
   "id": "c29ad340-33ee-4a39-a8ae-cd7aa05926bc",
   "metadata": {},
   "source": [
    "### Enrichment Analysis using PADOG and REACTOME pathways\n",
    "\n",
    "We will apply the same code that has been used for the GO terms and KEGG pathways."
   ]
  },
  {
   "cell_type": "code",
   "execution_count": null,
   "id": "c2b0002b-3c8e-4b7f-91f8-d2198e785100",
   "metadata": {},
   "outputs": [],
   "source": [
    "# Assign the geneset variable to REACTOME_hallmark loaded in previous code\n",
    "geneset <- REACTOME_hallmark\n",
    "# Perform PADOG enrichment analysis using the runPadog function\n",
    "PADOG_result <- runPadog(exprsData = expression_data, geneSet = geneset, \n",
    "                         groups = groups, perm = nperms, seed = 1)\n",
    "\n",
    "head(PADOG_result)"
   ]
  },
  {
   "cell_type": "markdown",
   "id": "49fd3929-7d2e-401d-93c6-24572bec35f6",
   "metadata": {},
   "source": [
    "The next submodule will go indepth about meta analysis."
   ]
  },
  {
   "cell_type": "markdown",
   "id": "e342edce",
   "metadata": {},
   "source": [
    "## Conclusion\n",
    "\n",
    "This notebook explored a variety of pathway analysis methods, including ORA, CAMERA, KS test, Wilcoxon test, FGSEA, GSA, SAFE, and PADOG.  Each method was demonstrated using a consistent dataset and gene sets derived from GO, KEGG, and REACTOME databases, allowing for a direct comparison of their outputs.  We examined the strengths and weaknesses of each approach, highlighting the importance of data preparation and interpretation of the results.  By providing practical examples and code implementations, this notebook equips researchers with the necessary tools to perform comprehensive pathway analysis and gain deeper insights into the biological processes underlying their data.  The next module will delve into meta-analysis techniques."
   ]
  },
  {
   "cell_type": "markdown",
   "id": "82a18c7d",
   "metadata": {},
   "source": [
    "## Clean Up\n",
    "\n",
    "Remember to move to the next notebook or shut down your instance if you are finished."
   ]
  },
  {
   "cell_type": "markdown",
   "id": "610ebb73",
   "metadata": {},
   "source": [
    "---"
   ]
  },
  {
   "cell_type": "code",
   "execution_count": null,
   "id": "e870e8eb-ee47-439b-8154-0a720927bd79",
   "metadata": {},
   "outputs": [],
   "source": [
    "sessionInfo()"
   ]
  }
 ],
 "metadata": {},
 "nbformat": 4,
 "nbformat_minor": 5
}
