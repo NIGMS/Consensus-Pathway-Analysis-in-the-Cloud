{
 "cells": [
  {
   "cell_type": "markdown",
   "id": "f380fb8f-dc93-414c-b815-6ace422d7f90",
   "metadata": {
    "tags": []
   },
   "source": [
    "#   Differential Gene Expression Analysis\n",
    "\n",
    "![](./images/Module2/DE_pipeline.jpg)\n",
    "\n",
    "The next step in the pathway analysis workflow is differential expression (DE)  analysis. The goal of DE testing is to determine which genes are expressed at different levels between two or more biological conditions. These genes can offer biological insight into the processes affected by the condition(s) of interest. DE analysis means taking the normalized read count data and performing statistical analysis to discover quantitative changes in expression levels between experimental groups. For example, we use statistical testing to decide whether, for a given gene, an observed difference in read counts is significant: that is, whether it is greater than what would be expected just due to natural random variation. This learning submodule demonstrates a computational workflow for the detection of DE genes from RNA-Seq data.\n",
    "\n",
    "## Learning Objectives:\n",
    "1. Assign samples into groups and set up design matrix.\n",
    "2. Perform differential expression (DE) analysis using `limma`, `t-test`, `edgeR` and `DEseq` R packages.\n",
    "3. Filter and export the results table.\n",
    "4. Visualization of differential expression results."
   ]
  },
  {
   "cell_type": "code",
   "execution_count": null,
   "id": "4d184246-8f7b-4ba5-a830-821da1cbf90b",
   "metadata": {},
   "outputs": [],
   "source": [
    "#Run the following command to take the quiz\n",
    "IRdisplay::display_html('<iframe src=\"./Quizzes/Quiz_Submodule2-1.html\" width=100% height=250></iframe>')"
   ]
  },
  {
   "cell_type": "markdown",
   "id": "71672fd7",
   "metadata": {},
   "source": [
    "## Loading the Dataset\n",
    "In this section we will perform differential expression (DE) analysis to analyze the `GSE48350` dataset that we have used in the previous submodule.\n",
    "Recall from the [**GEO Data processing** ](./Module01-GEO_Data_Processing.ipynb) section, `GSE48350` contains\n",
    "sequenced data of Human Alzheimer's Disease using microarray sequencing technology collected from 4 brain regions.\n",
    "We have already created two groups: *disease* and *control* from the Entorhinal Cortex region. First, we need to load the data that has been saved from submodule 1."
   ]
  },
  {
   "cell_type": "code",
   "execution_count": null,
   "id": "d029ce5f",
   "metadata": {
    "pycharm": {
     "is_executing": true
    }
   },
   "outputs": [],
   "source": [
    "# Loading data from the rds file\n",
    "data <- readRDS(\"./data/GSE48350.rds\")\n",
    "expression_data <- data$expression_data\n",
    "norm_expression_data <- data$norm_expression_data\n",
    "groups <- data$groups"
   ]
  },
  {
   "cell_type": "markdown",
   "id": "7a338420",
   "metadata": {},
   "source": [
    "Now we have all the data needed to perform DE analysis. We will be using 4 different methods to test differential expression: `limma`, t-tests, `edgeR`, and `DESeq2`."
   ]
  },
  {
   "cell_type": "markdown",
   "id": "98a0bc3a",
   "metadata": {},
   "source": [
    "## DE Analysis and Visualization Using limma.\n",
    "By far, the most-popular package for performing differential expression is `limma`. The package provides a flexible framework for the analysis of gene expression data, with a focus on detecting differentially expressed genes between two or more conditions.\n",
    "\n",
    "\n",
    "The package offers a variety of statistical methods and models to handle different experimental designs, including single and multiple groups, paired samples, and time-series data. It also includes various normalization and quality control procedures to preprocess raw data and improve the accuracy and reproducibility of downstream analysis.\n",
    "\n",
    "\n",
    "The empirical Bayesian (EB) statistical methods in the `limma` R package refer to a set of techniques used to improve the estimation of gene-specific variances and fold changes in the analysis of gene expression data.\n",
    "\n",
    "\n",
    "The traditional approach to the analysis of gene expression data is to treat the variances of each gene as independent and estimate them based on the limited number of samples available. However, this can lead to inaccurate estimates due to the small sample size and high variability of gene expression data.\n",
    "\n",
    "\n",
    "The EB methods in `limma` package instead borrow information from other genes in the same dataset to provide a more accurate estimate of the gene-specific variances. This is accomplished by first estimating the overall distribution of variances across all genes and then using this distribution to estimate the variances of individual genes.\n",
    "\n",
    "\n",
    "One of the key advantages of the EB methods in `limma` is that they can improve the detection of differentially expressed genes, particularly for genes with low expression levels or small sample sizes. The EB methods also provide more stable estimates of variances across multiple experiments, making it easier to compare results across different datasets."
   ]
  },
  {
   "cell_type": "code",
   "execution_count": null,
   "id": "fe4e6c03",
   "metadata": {},
   "outputs": [],
   "source": [
    "suppressMessages({if (!require(\"BiocManager\", quietly = TRUE))\n",
    "    suppressWarnings(install.packages(\"BiocManager\"))\n",
    "  suppressWarnings(BiocManager::install(\"limma\", update = T))\n",
    "})"
   ]
  },
  {
   "cell_type": "code",
   "execution_count": null,
   "id": "2802d811",
   "metadata": {},
   "outputs": [],
   "source": [
    "suppressPackageStartupMessages({\n",
    "  library(\"limma\")\n",
    "})"
   ]
  },
  {
   "cell_type": "markdown",
   "id": "524bc78f",
   "metadata": {},
   "source": [
    "The first step of DE analysis using `limma` is to separate the samples in our dataset to the sample groups of interest. A useful function is `model.matrix`, which will create a design matrix of *0* and *1s*; one row for each sample and one column for each sample group. A *1* in a particular row and column indicates that a given sample (the row) belongs to a given group (column)."
   ]
  },
  {
   "cell_type": "code",
   "execution_count": null,
   "id": "e9175e41",
   "metadata": {},
   "outputs": [],
   "source": [
    "groups <- factor(groups$groups)\n",
    "# Create design matrix with no intercept\n",
    "design <- model.matrix(~0 + groups)\n",
    "colnames(design) <- levels(groups)\n",
    "head(design)"
   ]
  },
  {
   "cell_type": "markdown",
   "id": "c9674190",
   "metadata": {},
   "source": [
    "The `lmFit` function is used to fit the model to the data. The result of which is to estimate the expression level of each gene in each of the groups that we specified."
   ]
  },
  {
   "cell_type": "code",
   "execution_count": null,
   "id": "ea94fd18",
   "metadata": {},
   "outputs": [],
   "source": [
    "fit <- lmFit(norm_expression_data, design)  # fit linear model"
   ]
  },
  {
   "cell_type": "markdown",
   "id": "81e29320",
   "metadata": {},
   "source": [
    "In order to perform the *differential analysis*, we have to define the contrast that we are interested in. In our case we only have two groups and one contrast of interest. Multiple contrasts can be defined in the `makeContrasts` function."
   ]
  },
  {
   "cell_type": "code",
   "execution_count": null,
   "id": "843409fb",
   "metadata": {},
   "outputs": [],
   "source": [
    "# set up contrasts of interest and recalculate model coefficients\n",
    "cts <- paste(\"c\", \"d\", sep=\"-\")\n",
    "cont.matrix <- makeContrasts(contrasts=cts, levels=design)\n",
    "cont.matrix"
   ]
  },
  {
   "cell_type": "markdown",
   "id": "8b75f12b",
   "metadata": {},
   "source": [
    "Fit the contrast matrix:"
   ]
  },
  {
   "cell_type": "code",
   "execution_count": null,
   "id": "4465088b",
   "metadata": {},
   "outputs": [],
   "source": [
    "fit2 <- contrasts.fit(fit, cont.matrix)"
   ]
  },
  {
   "cell_type": "markdown",
   "id": "a3b00e33",
   "metadata": {},
   "source": [
    "Finally, apply the *empirical Bayes’* step to get our differential expression statistics and p-values. This step uses Bayesian statistics to infer the probability distribution using the observed expression levels. It can then calculate the log-fold changes in expression between experimental groups and the p-value:"
   ]
  },
  {
   "cell_type": "code",
   "execution_count": null,
   "id": "4b0ed961",
   "metadata": {},
   "outputs": [],
   "source": [
    "# compute statistics and table of top significant genes\n",
    "fit2 <- eBayes(fit2, 0.01)"
   ]
  },
  {
   "cell_type": "markdown",
   "id": "dafe866a",
   "metadata": {},
   "source": [
    "To see the number of significantly up- and down-regulated genes, we can use the code below to generate the summary table."
   ]
  },
  {
   "cell_type": "code",
   "execution_count": null,
   "id": "b8b3df76",
   "metadata": {},
   "outputs": [],
   "source": [
    "dt <- decideTests(fit2,p.value=0.05)\n",
    "summary(dt)"
   ]
  },
  {
   "cell_type": "markdown",
   "id": "6f11300d",
   "metadata": {},
   "source": [
    "Here, significance is defined using an adjusted p-value cutoff that is set at 5% by default. For the comparison between expression levels in *“disease”* (d) and *“control”* (c), 293 genes are found to be down-regulated and 489 genes are up-regulated. We also can extract a table of the top-ranked genes from a linear model fit using `topTable` function. By default, `topTable` arranges genes from smallest to largest adjusted p-value with associated gene information, log-FC, average log-CPM, moderated t-statistic, raw and adjusted p-value for each gene. The number of top genes displayed can be specified, where `number=Inf` includes all genes."
   ]
  },
  {
   "cell_type": "code",
   "execution_count": null,
   "id": "75772bfa-6113-42ce-819f-8e9656f7706d",
   "metadata": {},
   "outputs": [],
   "source": [
    "#Run the following command to take the quiz\n",
    "IRdisplay::display_html('<iframe src=\"./Quizzes/Quiz_Submodule2-2.html\" width=100% height=250></iframe>')"
   ]
  },
  {
   "cell_type": "code",
   "execution_count": null,
   "id": "17fa5204",
   "metadata": {},
   "outputs": [],
   "source": [
    "top_genes <- topTable(fit2, adjust=\"fdr\", sort.by=\"B\", number=Inf)"
   ]
  },
  {
   "cell_type": "code",
   "execution_count": null,
   "id": "a25af71f",
   "metadata": {},
   "outputs": [],
   "source": [
    "head(top_genes)"
   ]
  },
  {
   "cell_type": "markdown",
   "id": "61e4229b",
   "metadata": {},
   "source": [
    "In order to perform pathway and enrichment analyses, we only focus on the genes that are statistically significant and the probe IDs that have gene symbols. We can select those genes using the following command:"
   ]
  },
  {
   "cell_type": "code",
   "execution_count": null,
   "id": "8cb7805e",
   "metadata": {},
   "outputs": [],
   "source": [
    "DE_Gene <- top_genes[which(top_genes$adj.P.Val<0.05),]\n",
    "head(DE_Gene)"
   ]
  },
  {
   "cell_type": "markdown",
   "id": "d92ff94a",
   "metadata": {},
   "source": [
    "Now, we can use the following script to save the DE analysis result to use in the later submodules.\n"
   ]
  },
  {
   "cell_type": "code",
   "execution_count": null,
   "id": "a36d3aac",
   "metadata": {},
   "outputs": [],
   "source": [
    "# Add one column to store the probe IDs\n",
    "top_genes <- tibble::rownames_to_column(top_genes,\"PROBEID\")\n",
    "saveRDS(top_genes, file=\"./data/DE_genes.rds\")"
   ]
  },
  {
   "cell_type": "code",
   "execution_count": null,
   "id": "aa4ce5f8-9fd9-4c53-9ed4-a515e48d543a",
   "metadata": {},
   "outputs": [],
   "source": [
    "#replace your <BUCKET_NAME> with name of your bucket that was perviously made in submodule 1\n",
    "system(\"gsutil cp ./data/DE_genes.rds gs://<BUCKET_NAME>\", intern = TRUE)"
   ]
  },
  {
   "cell_type": "markdown",
   "id": "198055d2",
   "metadata": {},
   "source": [
    "## DE Analysis Using t-test\n",
    "A `t-test` is a common statistical method used to identify differentially expressed (DE) genes in gene expression data. In the context of gene expression analysis, a t-test compares the mean expression level of a gene between two groups, typically a treatment group and a control group.\n",
    "\n",
    "\n",
    "The basic idea behind a t-test is to compare the difference in means between the two groups to the variability within each group. A larger difference in means relative to the variability within each group indicates a higher likelihood that the difference is statistically significant.\n",
    "\n",
    "\n",
    "In the context of gene expression data, a t-test is typically applied to each gene separately. For each gene, the mean expression level in the treatment group is compared to the mean expression level in the control group. The t-test produces a p-value that indicates the probability of observing the observed difference in means by chance.\n",
    "\n",
    "\n",
    "In order to identify DE genes, a significance threshold (or \"alpha value\") is chosen. Any gene with a p-value below this threshold is considered to be differentially expressed. The threshold is typically set at 0.05, meaning that there is a 5% chance of falsely identifying a gene as DE. We can use `row_t_equalvar` available in the `matrixTests` package to perform t-test between the two groups for each gene. Below is the code to install the necessary packages:"
   ]
  },
  {
   "cell_type": "code",
   "execution_count": null,
   "id": "7eaa2d7c",
   "metadata": {},
   "outputs": [],
   "source": [
    "suppressMessages({\n",
    "  suppressWarnings(install.packages(\"matrixTests\",quiet= T))\n",
    "})"
   ]
  },
  {
   "cell_type": "code",
   "execution_count": null,
   "id": "086523fc-b3ee-4561-a416-875d8b947336",
   "metadata": {},
   "outputs": [],
   "source": [
    "# Load matrixTests package\n",
    "suppressPackageStartupMessages({library(\"matrixTests\")})"
   ]
  },
  {
   "cell_type": "markdown",
   "id": "67dd7f16",
   "metadata": {},
   "source": [
    "First we need to create two different expression matrices belong to two groups."
   ]
  },
  {
   "cell_type": "code",
   "execution_count": null,
   "id": "31cb6cce",
   "metadata": {},
   "outputs": [],
   "source": [
    "# Assign expression matrix to the count\n",
    "count <- expression_data\n",
    "# Divide the count matrix into two separate matrices X and Y. X is control group and Y is the disease group\n",
    "X <- count[,groups==\"c\"]\n",
    "Y <- count[,groups==\"d\"]"
   ]
  },
  {
   "cell_type": "code",
   "execution_count": null,
   "id": "84f0805b",
   "metadata": {},
   "outputs": [],
   "source": [
    "# Perform t-test\n",
    "res <- row_t_equalvar(X,Y,alternative = \"two.sided\", conf.level = 0.95)"
   ]
  },
  {
   "cell_type": "markdown",
   "id": "58b8a484",
   "metadata": {},
   "source": [
    "The output is a table where rows are genes and columns are statistical information of the test. In DE analysis, we only care for the genes that are significantly different. Therefore, we will rank the genes based on *p-value* and remove insignificant genes."
   ]
  },
  {
   "cell_type": "code",
   "execution_count": null,
   "id": "d453b2b8",
   "metadata": {},
   "outputs": [],
   "source": [
    "# Order the results based on the p-value\n",
    "res <- res[order(res$pvalue),]\n",
    "# Remove insignificant genes\n",
    "res <- res[res$pvalue<0.05,]\n",
    "# Show the result of top genes\n",
    "head(res)"
   ]
  },
  {
   "cell_type": "markdown",
   "id": "14109c8b",
   "metadata": {},
   "source": [
    "To see how many genes left, we can use the following command"
   ]
  },
  {
   "cell_type": "code",
   "execution_count": null,
   "id": "431c9568",
   "metadata": {},
   "outputs": [],
   "source": [
    "dim(res)"
   ]
  },
  {
   "cell_type": "code",
   "execution_count": null,
   "id": "c1be0aeb",
   "metadata": {},
   "outputs": [],
   "source": [
    "# Saving the result to local folder\n",
    "write.csv(res, file=\"./data/t-Test_Results.csv\")\n",
    "saveRDS(res, file=\"./data/t-Test_Results.rds\")"
   ]
  },
  {
   "cell_type": "code",
   "execution_count": null,
   "id": "5dd02937-4a49-4cee-ba81-7c2bd16c9c8e",
   "metadata": {},
   "outputs": [],
   "source": [
    "#replace <BUCKET_NAME> with name of your bucket that was perviously made in submodule 1\n",
    "system(\"gsutil cp ./data/t-Test_Results.csv gs://<BUCKET_NAME>\", intern = TRUE)\n",
    "\n",
    "system(\"gsutil cp ./data/t-Test_Results.rds gs://<BUCKET_NAME>\", intern = TRUE)"
   ]
  },
  {
   "cell_type": "markdown",
   "id": "b9ee0bdb",
   "metadata": {},
   "source": [
    "## DE Analysis Using edgeR\n",
    "\n",
    "edgeR is a popular R package for differential expression (DE) analysis of RNA sequencing (RNA-seq) data. The package uses empirical Bayesian methods to account for biological variability and gene-specific sequencing depth, making it a robust and powerful tool for identifying DE genes.\n",
    "\n",
    "\n",
    "The basic workflow for DE analysis using edgeR involves several steps:\n",
    "\n",
    "\n",
    "1. Data pre-processing: Raw sequencing reads are first pre-processed to filter out low-quality reads and align them to a reference genome. This step typically includes quality control, read trimming, and alignment.\n",
    "\n",
    "\n",
    "2. Count matrix generation: A count matrix is generated by counting the number of reads that map to each gene in each sample. This matrix represents the raw gene expression data and is used as input for DE analysis.\n",
    "\n",
    "\n",
    "3. Normalization: edgeR applies a normalization method called trimmed mean of M-values (TMM) to adjust for differences in sequencing depth between samples. This method calculates scaling factors for each sample based on the mean and variance of the log-ratios of gene expression levels between pairs of samples.\n",
    "\n",
    "\n",
    "4. Dispersion estimation: edgeR uses a negative binomial model to account for biological variability in gene expression data. This model estimates the dispersion of counts within and between samples, which reflects the amount of biological variability in gene expression data.\n",
    "\n",
    "\n",
    "5. Differential expression analysis: edgeR uses a statistical framework called generalized linear models (GLMs) to test for differential expression between two or more groups. This method models the relationship between gene expression and experimental factors (e.g., treatment, time, condition) to identify genes that are significantly differentially expressed.\n",
    "\n",
    "\n",
    "6. Multiple testing correction: To control for the high false positive rate associated with testing many genes simultaneously, edgeR applies a multiple testing correction method called the false discovery rate (FDR). This method adjusts p-values to control the expected proportion of false positives among all significant tests.\n",
    "\n",
    "\n",
    "Overall, edgeR is a powerful and widely used tool for DE analysis of RNA-seq data, offering a flexible framework for the detection of DE genes that accounts for biological variability and gene-specific sequencing depth. It also provides several visualization tools to help users explore and interpret the results."
   ]
  },
  {
   "cell_type": "code",
   "execution_count": null,
   "id": "f4322d97",
   "metadata": {},
   "outputs": [],
   "source": [
    "# Install edgeR package from Bioconductor\n",
    "suppressMessages({ if (!require(\"BiocManager\", quietly = TRUE))\n",
    "  install.packages(\"BiocManager\")\n",
    "  suppressWarnings(BiocManager::install(\"edgeR\", update = F))\n",
    "})"
   ]
  },
  {
   "cell_type": "code",
   "execution_count": null,
   "id": "5de8b6a9",
   "metadata": {},
   "outputs": [],
   "source": [
    "# Load edgeR package\n",
    "suppressPackageStartupMessages({library(\"edgeR\")})"
   ]
  },
  {
   "cell_type": "code",
   "execution_count": null,
   "id": "7d70782a",
   "metadata": {},
   "outputs": [],
   "source": [
    "# Assigning expression matrix to count\n",
    "count <- expression_data"
   ]
  },
  {
   "cell_type": "code",
   "execution_count": null,
   "id": "0073fef1",
   "metadata": {},
   "outputs": [],
   "source": [
    "# Perform DE analysis using DGEList function\n",
    "dge <- DGEList(counts = count, group = factor(groups))\n",
    "# Calculating the normalize factor\n",
    "dge <- calcNormFactors(object = dge)\n",
    "dge <- estimateDisp(y = dge)\n",
    "# Perform Fisher-exact test\n",
    "et <- exactTest(object = dge)\n",
    "# Getting top DE genes\n",
    "top_degs = topTags(object = et, n = \"Inf\")"
   ]
  },
  {
   "cell_type": "code",
   "execution_count": null,
   "id": "f1d513dd",
   "metadata": {},
   "outputs": [],
   "source": [
    "head(top_degs$table)"
   ]
  },
  {
   "cell_type": "code",
   "execution_count": null,
   "id": "629d1d38-b685-4d1a-8e42-08bcbdc83aec",
   "metadata": {},
   "outputs": [],
   "source": [
    "#Run the following command to take the quiz\n",
    "IRdisplay::display_html('<iframe src=\"./Quizzes/Quiz_Submodule2-3.html\" width=100% height=250></iframe>')"
   ]
  },
  {
   "cell_type": "code",
   "execution_count": null,
   "id": "381d4b3b",
   "metadata": {},
   "outputs": [],
   "source": [
    "# Saving the result to local folder\n",
    "write.csv(et$table, file=\"./data/edgeR_Results.csv\")\n",
    "saveRDS(et$table, file=\"./data/edgeR_Results.rds\")"
   ]
  },
  {
   "cell_type": "markdown",
   "id": "ad0df164",
   "metadata": {},
   "source": [
    "Command to save to Google Cloud Bucket"
   ]
  },
  {
   "cell_type": "code",
   "execution_count": null,
   "id": "fe4fe971-14ec-4f7a-b477-5112ff0e69e9",
   "metadata": {},
   "outputs": [],
   "source": [
    "#replace <BUCKET_NAME> with name of your bucket that was perviously made in submodule 1\n",
    "system(\"gsutil cp ./data/edgeR_Results.csv gs://<BUCKET_NAME>\", intern = TRUE)\n",
    "\n",
    "system(\"gsutil cp ./data/edgeR_Results.rds gs://<BUCKET_NAME>\", intern = TRUE)"
   ]
  },
  {
   "cell_type": "markdown",
   "id": "0bf63b53",
   "metadata": {},
   "source": [
    "## DE Analysis Using DESeq2\n",
    "DESeq2 is a popular R package for differential expression (DE) analysis of RNA sequencing (RNA-seq) data. The package uses a negative binomial distribution to model the gene expression counts and applies shrinkage estimation to improve the accuracy of differential expression analysis.\n",
    "\n",
    "\n",
    "The basic workflow for DE analysis using DESeq2 involves several steps:\n",
    "\n",
    "\n",
    "1. Data pre-processing: Raw sequencing reads are first pre-processed to filter out low-quality reads and align them to a reference genome. This step typically includes quality control, read trimming, and alignment.\n",
    "\n",
    "\n",
    "2. Count matrix generation: A count matrix is generated by counting the number of reads that map to each gene in each sample. This matrix represents the raw gene expression data and is used as input for DE analysis.\n",
    "\n",
    "\n",
    "3. Normalization: DESeq2 applies a normalization method called size factors to adjust for differences in sequencing depth between samples. This method calculates scaling factors for each sample based on the total number of reads in each sample.\n",
    "\n",
    "\n",
    "4. Dispersion estimation: DESeq2 estimates the dispersion of counts within and between samples using a negative binomial distribution. This model accounts for biological variability in gene expression data and can handle low counts and overdispersion.\n",
    "\n",
    "\n",
    "5. Differential expression analysis: DESeq2 uses a statistical framework called the Wald test to test for differential expression between two or more groups. This method models the relationship between gene expression and experimental factors (e.g., treatment, time, condition) to identify genes that are significantly differentially expressed.\n",
    "\n",
    "\n",
    "6. Multiple testing correction: To control for the high false positive rate associated with testing many genes simultaneously, DESeq2 applies a multiple testing correction method called the Benjamini-Hochberg (BH) procedure. This method adjusts p-values to control the expected proportion of false positives among all significant tests.\n",
    "\n",
    "\n",
    "DESeq2 also includes several visualization tools, such as principal component analysis (PCA) and heatmaps, to help users explore and interpret the results.\n",
    "\n",
    "\n",
    "Overall, DESeq2 is a powerful and widely used tool for DE analysis of RNA-seq data, offering a flexible framework for the detection of DE genes that accounts for biological variability and gene-specific sequencing depth. It is particularly useful for analyzing low-count genes and handling complex experimental designs."
   ]
  },
  {
   "cell_type": "code",
   "execution_count": null,
   "id": "062fae15",
   "metadata": {},
   "outputs": [],
   "source": [
    "# Installing and loading the library\n",
    "suppressMessages({ if (!require(\"BiocManager\", quietly = TRUE))\n",
    "  install.packages(\"BiocManager\")\n",
    "  suppressWarnings(BiocManager::install(\"DESeq2\", update = F))\n",
    "})"
   ]
  },
  {
   "cell_type": "code",
   "execution_count": null,
   "id": "2889c103-85ce-449f-a5b9-55a53673b598",
   "metadata": {},
   "outputs": [],
   "source": [
    "suppressPackageStartupMessages({library(\"DESeq2\")})"
   ]
  },
  {
   "cell_type": "code",
   "execution_count": null,
   "id": "f7adaeec",
   "metadata": {},
   "outputs": [],
   "source": [
    "# Contructing a group table that has information of group members for all patients.\n",
    "coldata <- data.frame(\n",
    "  sample = colnames(expression_data),\n",
    "  condition = as.factor(groups),\n",
    "  row.names = \"sample\" )"
   ]
  },
  {
   "cell_type": "code",
   "execution_count": null,
   "id": "79942f0a",
   "metadata": {},
   "outputs": [],
   "source": [
    "# Checking the group information of few first patients\n",
    "head(coldata)"
   ]
  },
  {
   "cell_type": "code",
   "execution_count": null,
   "id": "97faa3f0",
   "metadata": {},
   "outputs": [],
   "source": [
    "# Perform DE analysis using DESeqDataSetFromMatrix function\n",
    "suppressMessages({\n",
    "  dds <- DESeqDataSetFromMatrix(countData = round(count), colData = coldata,\n",
    "                              design = ~ condition)\n",
    "  dds <- dds[rowSums(counts(dds)) >= 10,]\n",
    "  dds$condition <- relevel(dds$condition, ref = \"c\")\n",
    "  dds <- DESeq(dds)\n",
    "  resultsNames(dds)\n",
    "  res <- results(dds)\n",
    "  res <- as.data.frame(res[order(res$padj),])\n",
    "})"
   ]
  },
  {
   "cell_type": "code",
   "execution_count": null,
   "id": "d2704259",
   "metadata": {},
   "outputs": [],
   "source": [
    "head(res)"
   ]
  },
  {
   "cell_type": "code",
   "execution_count": null,
   "id": "aa6bf614-94b1-4f74-abae-9e6ef52c07d4",
   "metadata": {},
   "outputs": [],
   "source": [
    "#Run the following command to take the quiz\n",
    "IRdisplay::display_html('<iframe src=\"./Quizzes/Quiz_Submodule2-4.html\" width=100% height=250></iframe>')"
   ]
  },
  {
   "cell_type": "code",
   "execution_count": null,
   "id": "2f4055b1",
   "metadata": {},
   "outputs": [],
   "source": [
    "# Saving the result to local storage\n",
    "write.csv(res, file=\"./data/DESeq2_Results.csv\")\n",
    "saveRDS(res, file=\"./data/DESeq2_Results.rds\")"
   ]
  },
  {
   "cell_type": "code",
   "execution_count": null,
   "id": "b4cd0473-89db-4730-a7d6-8979372f60df",
   "metadata": {},
   "outputs": [],
   "source": [
    "#replace <BUCKET_NAME> with name of your bucket that was perviously made in submodule 1\n",
    "system(\"gsutil cp ./data/DESeq2_Results.csv gs://<BUCKET_NAME>\", intern = TRUE)\n",
    "\n",
    "system(\"gsutil cp ./data/DESeq2_Results.rds gs://<BUCKET_NAME>\", intern = TRUE)"
   ]
  },
  {
   "cell_type": "markdown",
   "id": "d2788e7d",
   "metadata": {},
   "source": [
    "## Visualization of Differential Expression Results.\n",
    "To visually summarize results for all genes from the `limma` analysis we can generate a mean-difference plot using the `plotMD` function in `limma` package, which displays log-fold changes from the linear model fit against the average log-CPM values, with the differentially expressed genes highlighted. The function `plotMD` uses `fit2` object generated from DE analysis using `limma` in the above section."
   ]
  },
  {
   "cell_type": "code",
   "execution_count": null,
   "id": "e185c295",
   "metadata": {},
   "outputs": [],
   "source": [
    "plotMD(fit2, column=1, status=dt[,1], main=colnames(fit2)[1],\n",
    "       xlim=c(-8,13),pch=20, cex=1)\n",
    "abline(h=0)"
   ]
  },
  {
   "cell_type": "markdown",
   "id": "4b65ac5e",
   "metadata": {},
   "source": [
    "We can visualize the adjusted p-value distribution for all gene using a histogram plot:"
   ]
  },
  {
   "cell_type": "code",
   "execution_count": null,
   "id": "bc2f35c7-0a9e-4d5b-9901-d42dd52b3f5c",
   "metadata": {},
   "outputs": [],
   "source": [
    "# Visualize and quality control test results.\n",
    "# Build histogram of P-values for all genes. \n",
    "#Normal test assumption is that most genes are not differentially expressed.\n",
    "tT2 <- topTable(fit2, adjust=\"fdr\", sort.by=\"B\", number=Inf)\n",
    "hist(tT2$adj.P.Val, col = \"grey\", border = \"white\", xlab = \"P-adj\",\n",
    "     ylab = \"Number of genes\", main = \"P-adj value distribution\")"
   ]
  },
  {
   "cell_type": "markdown",
   "id": "8037f32c-ca98-44b2-abab-c9ea927f38be",
   "metadata": {},
   "source": [
    "Many statistical tests work on the assumption that the data follows a normal distribution. If this assumption is not met, then we must choose a different test that does not require normally distributed data. A Q-Q plot allows researchers to visually assess whether the distribution of the moderated t-statistic follows the normal distribution. In a Q-Q plot for the moderated t-statistic, the expected quantiles of a normal distribution are plotted against the observed quantiles of the moderated t-statistic. If the distribution of moderated t-statistic follows the normal distribution, then the points on the Q-Q plot will fall along a straight line. Deviations from a straight line may indicate departures from normality."
   ]
  },
  {
   "cell_type": "code",
   "execution_count": null,
   "id": "329e6ca9-f0ca-4ed1-b585-639717e19202",
   "metadata": {},
   "outputs": [],
   "source": [
    "# create Q-Q plot for t-statistic\n",
    "t.good <- which(!is.na(fit2$F)) # filter out bad probes\n",
    "qqt(fit2$t[t.good], fit2$df.total[t.good], main=\"Moderated t statistic\")"
   ]
  },
  {
   "cell_type": "markdown",
   "id": "d005a183",
   "metadata": {},
   "source": [
    "A volcano plot is a special scatterplot that is a common way of visualising the results of a DE analysis. The *x* axis shows the *log-fold* change and the *y* axis is some measure of statistical significance, which in this case is the log-odds, or “B” statistic. A characteristic “volcano” shape should be seen."
   ]
  },
  {
   "cell_type": "code",
   "execution_count": null,
   "id": "a92ff556-1e27-455d-83f0-755bc70e08d2",
   "metadata": {},
   "outputs": [],
   "source": [
    "# volcano plot (log P-value vs log fold change)\n",
    "dT <- decideTests(fit2, adjust.method=\"fdr\", p.value=0.05)\n",
    "colnames(fit2) # list contrast names\n",
    "ct <- 1        # choose contrast of interest\n",
    "volcanoplot(fit2, coef=ct, main=colnames(fit2)[ct], pch=20,\n",
    "            highlight=length(which(dT[,ct]!=0)), names=rep('+', nrow(fit2)))\n"
   ]
  },
  {
   "cell_type": "code",
   "execution_count": null,
   "id": "0d57b5d5-6faa-4466-bdc0-3eb183f3c570",
   "metadata": {},
   "outputs": [],
   "source": [
    "#Run the following command to take the quiz\n",
    "IRdisplay::display_html('<iframe src=\"./Quizzes/Quiz_Submodule2.html\" width=100% height=250></iframe>')"
   ]
  },
  {
   "cell_type": "markdown",
   "id": "9abadd81",
   "metadata": {},
   "source": [
    "The next submodule will show how to identify the pathways that these genes are involved in. \n"
   ]
  },
  {
   "cell_type": "code",
   "execution_count": null,
   "id": "0313705b-ba73-45bb-9758-0ccf6f2900d3",
   "metadata": {},
   "outputs": [],
   "source": [
    "sessionInfo()"
   ]
  },
  {
   "cell_type": "code",
   "execution_count": null,
   "id": "a7cc4437-cc15-4c45-90ed-778eadec7dd1",
   "metadata": {},
   "outputs": [],
   "source": []
  }
 ],
 "metadata": {
  "celltoolbar": "Tags",
  "environment": {
   "kernel": "ir",
   "name": "r-cpu.4-2.m107",
   "type": "gcloud",
   "uri": "gcr.io/deeplearning-platform-release/r-cpu.4-2:m107"
  },
  "kernelspec": {
   "display_name": "R",
   "language": "R",
   "name": "ir"
  },
  "language_info": {
   "codemirror_mode": "r",
   "file_extension": ".r",
   "mimetype": "text/x-r-source",
   "name": "R",
   "pygments_lexer": "r",
   "version": "4.2.3"
  },
  "toc-showcode": true
 },
 "nbformat": 4,
 "nbformat_minor": 5
}
