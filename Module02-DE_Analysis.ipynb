{
 "cells": [
  {
   "cell_type": "markdown",
   "id": "f380fb8f-dc93-414c-b815-6ace422d7f90",
   "metadata": {
    "tags": []
   },
   "source": [
    "#   Differential Gene Expression Analysis\n",
    "\n",
    "![](./images/Module2/DE_pipeline.jpg)\n",
    "\n",
    "The next step in the pathway analysis workflow is differential expression (DE)  analysis. The goal of DE testing is to determine which genes are expressed at different levels between two or more biological conditions. These genes can offer biological insight into the processes affected by the condition(s) of interest. DE analysis means taking the normalized read count data and performing statistical analysis to discover quantitative changes in expression levels between experimental groups. For example, we use statistical testing to decide whether, for a given gene, an observed difference in read counts is significant: that is, whether it is greater than what would be expected just due to natural random variation. This learning submodule demonstrates a computational workflow for the detection of DE genes from RNA-Seq data.\n",
    "\n",
    "## Learning Objectives:\n",
    "1. Assign samples into groups and set up design matrix.\n",
    "2. Perform differential expression (DE) analysis using `limma`, `t-test`, `edgeR` and `DEseq` R packages.\n",
    "3. Filter and export the results table.\n",
    "4. Visualization of differential expression results."
   ]
  },
  {
   "cell_type": "code",
   "execution_count": 1,
   "id": "4d184246-8f7b-4ba5-a830-821da1cbf90b",
   "metadata": {},
   "outputs": [
    {
     "data": {
      "text/html": [
       "<iframe src=\"./Quizzes/Quiz_Submodule2-1.html\" width=100% height=250></iframe>"
      ]
     },
     "metadata": {},
     "output_type": "display_data"
    }
   ],
   "source": [
    "#Run the following command to take the quiz\n",
    "IRdisplay::display_html('<iframe src=\"./Quizzes/Quiz_Submodule2-1.html\" width=100% height=250></iframe>')"
   ]
  },
  {
   "cell_type": "markdown",
   "id": "71672fd7",
   "metadata": {},
   "source": [
    "## Loading the Dataset\n",
    "In this section we will perform differential expression (DE) analysis to analyze the `GSE48350` dataset that we have used in the previous submodule.\n",
    "Recall from the [**GEO Data processing** ](./Module01-GEO_Data_Processing.ipynb) section, `GSE48350` contains\n",
    "sequenced data of Human Alzheimer's Disease using microarray sequencing technology collected from 4 brain regions.\n",
    "We have already created two groups: *disease* and *control* from the Entorhinal Cortex region. First, we need to load the data that has been saved from submodule 1."
   ]
  },
  {
   "cell_type": "code",
   "execution_count": 1,
   "id": "d029ce5f",
   "metadata": {
    "pycharm": {
     "is_executing": true
    }
   },
   "outputs": [],
   "source": [
    "# Loading data from the rds file\n",
    "data <- readRDS(\"./data/GSE48350.rds\")\n",
    "expression_data <- data$expression_data\n",
    "norm_expression_data <- data$norm_expression_data\n",
    "groups <- data$groups"
   ]
  },
  {
   "cell_type": "markdown",
   "id": "7a338420",
   "metadata": {},
   "source": [
    "Now we have all the data needed to perform DE analysis. We will be using 4 different methods to test differential expression: `limma`, t-tests, `edgeR`, and `DESeq2`."
   ]
  },
  {
   "cell_type": "markdown",
   "id": "98a0bc3a",
   "metadata": {},
   "source": [
    "## DE Analysis and Visualization Using limma.\n",
    "By far, the most popular package for performing differential expression is `limma`. The package provides a flexible framework for the analysis of gene expression data, with a focus on detecting differentially expressed genes between two or more conditions.\n",
    "\n",
    "\n",
    "The package offers a variety of statistical methods and models to handle different experimental designs, including single and multiple groups, paired samples, and time-series data. It also includes various normalization and quality control procedures to preprocess raw data and improve the accuracy and reproducibility of downstream analysis.\n",
    "\n",
    "\n",
    "The empirical Bayesian (EB) statistical methods in the `limma` R package refer to a set of techniques used to improve the estimation of gene-specific variances and fold changes in the analysis of gene expression data.\n",
    "\n",
    "\n",
    "The traditional approach to the analysis of gene expression data is to treat the variances of each gene as independent and estimate them based on the limited number of samples available. However, this can lead to inaccurate estimates due to the small sample size and high variability of gene expression data.\n",
    "\n",
    "\n",
    "The EB methods in `limma` package instead borrow information from other genes in the same dataset to provide a more accurate estimate of the gene-specific variances. This is accomplished by first estimating the overall distribution of variances across all genes and then using this distribution to estimate the variances of individual genes.\n",
    "\n",
    "\n",
    "One of the key advantages of the EB methods in `limma` is that they can improve the detection of differentially expressed genes, particularly for genes with low expression levels or small sample sizes. The EB methods also provide more stable estimates of variances across multiple experiments, making it easier to compare results across different datasets."
   ]
  },
  {
   "cell_type": "code",
   "execution_count": 5,
   "id": "fe4e6c03",
   "metadata": {},
   "outputs": [],
   "source": [
    "suppressMessages({if (!require(\"BiocManager\", quietly = TRUE))\n",
    "    suppressWarnings(install.packages(\"BiocManager\"))\n",
    "  suppressWarnings(BiocManager::install(\"limma\", update = T))\n",
    "})"
   ]
  },
  {
   "cell_type": "code",
   "execution_count": 6,
   "id": "2802d811",
   "metadata": {},
   "outputs": [],
   "source": [
    "suppressPackageStartupMessages({\n",
    "  library(\"limma\")\n",
    "})"
   ]
  },
  {
   "cell_type": "markdown",
   "id": "524bc78f",
   "metadata": {},
   "source": [
    "The first step of DE analysis using `limma` is to separate the samples in our dataset into the sample groups of interest. A useful function is `model.matrix`, which will create a design matrix of *0* and *1s*; one row for each sample and one column for each sample group. A *1* in a particular row and column indicates that a given sample (the row) belongs to a given group (column)."
   ]
  },
  {
   "cell_type": "code",
   "execution_count": 7,
   "id": "e9175e41",
   "metadata": {},
   "outputs": [
    {
     "data": {
      "text/html": [
       "<table class=\"dataframe\">\n",
       "<caption>A matrix: 6 × 2 of type dbl</caption>\n",
       "<thead>\n",
       "\t<tr><th></th><th scope=col>c</th><th scope=col>d</th></tr>\n",
       "</thead>\n",
       "<tbody>\n",
       "\t<tr><th scope=row>1</th><td>1</td><td>0</td></tr>\n",
       "\t<tr><th scope=row>2</th><td>1</td><td>0</td></tr>\n",
       "\t<tr><th scope=row>3</th><td>1</td><td>0</td></tr>\n",
       "\t<tr><th scope=row>4</th><td>1</td><td>0</td></tr>\n",
       "\t<tr><th scope=row>5</th><td>1</td><td>0</td></tr>\n",
       "\t<tr><th scope=row>6</th><td>1</td><td>0</td></tr>\n",
       "</tbody>\n",
       "</table>\n"
      ],
      "text/latex": [
       "A matrix: 6 × 2 of type dbl\n",
       "\\begin{tabular}{r|ll}\n",
       "  & c & d\\\\\n",
       "\\hline\n",
       "\t1 & 1 & 0\\\\\n",
       "\t2 & 1 & 0\\\\\n",
       "\t3 & 1 & 0\\\\\n",
       "\t4 & 1 & 0\\\\\n",
       "\t5 & 1 & 0\\\\\n",
       "\t6 & 1 & 0\\\\\n",
       "\\end{tabular}\n"
      ],
      "text/markdown": [
       "\n",
       "A matrix: 6 × 2 of type dbl\n",
       "\n",
       "| <!--/--> | c | d |\n",
       "|---|---|---|\n",
       "| 1 | 1 | 0 |\n",
       "| 2 | 1 | 0 |\n",
       "| 3 | 1 | 0 |\n",
       "| 4 | 1 | 0 |\n",
       "| 5 | 1 | 0 |\n",
       "| 6 | 1 | 0 |\n",
       "\n"
      ],
      "text/plain": [
       "  c d\n",
       "1 1 0\n",
       "2 1 0\n",
       "3 1 0\n",
       "4 1 0\n",
       "5 1 0\n",
       "6 1 0"
      ]
     },
     "metadata": {},
     "output_type": "display_data"
    }
   ],
   "source": [
    "groups <- factor(groups$groups)\n",
    "# Create design matrix with no intercept\n",
    "design <- model.matrix(~0 + groups)\n",
    "colnames(design) <- levels(groups)\n",
    "head(design)"
   ]
  },
  {
   "cell_type": "markdown",
   "id": "c9674190",
   "metadata": {},
   "source": [
    "The `lmFit` function is used to fit the model to the data. The result of which is to estimate the expression level of each gene in each of the groups that we specified."
   ]
  },
  {
   "cell_type": "code",
   "execution_count": 8,
   "id": "ea94fd18",
   "metadata": {},
   "outputs": [],
   "source": [
    "fit <- lmFit(object = norm_expression_data, design = design)  # fit linear model"
   ]
  },
  {
   "cell_type": "markdown",
   "id": "81e29320",
   "metadata": {},
   "source": [
    "In order to perform the *differential analysis*, we have to define the contrast that we are interested in. In our case we only have two groups and one contrast of interest. Multiple contrasts can be defined in the `makeContrasts` function."
   ]
  },
  {
   "cell_type": "code",
   "execution_count": 9,
   "id": "843409fb",
   "metadata": {},
   "outputs": [
    {
     "data": {
      "text/html": [
       "<table class=\"dataframe\">\n",
       "<caption>A matrix: 2 × 1 of type dbl</caption>\n",
       "<thead>\n",
       "\t<tr><th></th><th scope=col>c-d</th></tr>\n",
       "</thead>\n",
       "<tbody>\n",
       "\t<tr><th scope=row>c</th><td> 1</td></tr>\n",
       "\t<tr><th scope=row>d</th><td>-1</td></tr>\n",
       "</tbody>\n",
       "</table>\n"
      ],
      "text/latex": [
       "A matrix: 2 × 1 of type dbl\n",
       "\\begin{tabular}{r|l}\n",
       "  & c-d\\\\\n",
       "\\hline\n",
       "\tc &  1\\\\\n",
       "\td & -1\\\\\n",
       "\\end{tabular}\n"
      ],
      "text/markdown": [
       "\n",
       "A matrix: 2 × 1 of type dbl\n",
       "\n",
       "| <!--/--> | c-d |\n",
       "|---|---|\n",
       "| c |  1 |\n",
       "| d | -1 |\n",
       "\n"
      ],
      "text/plain": [
       "      Contrasts\n",
       "Levels c-d\n",
       "     c  1 \n",
       "     d -1 "
      ]
     },
     "metadata": {},
     "output_type": "display_data"
    }
   ],
   "source": [
    "# set up contrasts of interest and recalculate model coefficients\n",
    "cts <- paste(\"c\", \"d\", sep=\"-\")\n",
    "cont.matrix <- makeContrasts(contrasts = cts, levels = design)\n",
    "cont.matrix"
   ]
  },
  {
   "cell_type": "markdown",
   "id": "8b75f12b",
   "metadata": {},
   "source": [
    "Fit the contrast matrix:"
   ]
  },
  {
   "cell_type": "code",
   "execution_count": 18,
   "id": "4465088b",
   "metadata": {},
   "outputs": [],
   "source": [
    "fit2 <- contrasts.fit(fit, cont.matrix)"
   ]
  },
  {
   "cell_type": "markdown",
   "id": "a3b00e33",
   "metadata": {},
   "source": [
    "Finally, apply the *empirical Bayes’* step to get our differential expression statistics and p-values. This step uses Bayesian statistics to infer the probability distribution using the observed expression levels. It can then calculate the log-fold changes in expression between experimental groups and the p-value:"
   ]
  },
  {
   "cell_type": "code",
   "execution_count": 21,
   "id": "4b0ed961",
   "metadata": {},
   "outputs": [],
   "source": [
    "# compute statistics and table of top significant genes\n",
    "fit2 <- eBayes(fit = fit2, proportion = 0.01)"
   ]
  },
  {
   "cell_type": "markdown",
   "id": "dafe866a",
   "metadata": {},
   "source": [
    "To see the number of significantly up- and down-regulated genes, we can use the code below to generate the summary table."
   ]
  },
  {
   "cell_type": "code",
   "execution_count": 22,
   "id": "b8b3df76",
   "metadata": {},
   "outputs": [
    {
     "data": {
      "text/plain": [
       "         c-d\n",
       "Down     277\n",
       "NotSig 54015\n",
       "Up       383"
      ]
     },
     "metadata": {},
     "output_type": "display_data"
    }
   ],
   "source": [
    "dt <- decideTests(object = fit2, p.value = 0.05)\n",
    "summary(dt)"
   ]
  },
  {
   "cell_type": "markdown",
   "id": "6f11300d",
   "metadata": {},
   "source": [
    "Here, significance is defined using an adjusted p-value cutoff that is set at 5% by default. For the comparison between expression levels in *“disease”* (d) and *“control”* (c), 293 genes are found to be down-regulated and 489 genes are up-regulated. We also can extract a table of the top-ranked genes from a linear model fit using `topTable` function. By default, `topTable` arranges genes from smallest to largest adjusted p-value with associated gene information, log-FC, average log-CPM, moderated t-statistic, raw and adjusted p-value for each gene. The number of top genes displayed can be specified, where `number=Inf` includes all genes."
   ]
  },
  {
   "cell_type": "code",
   "execution_count": 24,
   "id": "75772bfa-6113-42ce-819f-8e9656f7706d",
   "metadata": {},
   "outputs": [
    {
     "data": {
      "text/html": [
       "<iframe src=\"./Quizzes/Quiz_Submodule2-2.html\" width=100% height=250></iframe>"
      ]
     },
     "metadata": {},
     "output_type": "display_data"
    }
   ],
   "source": [
    "#Run the following command to take the quiz\n",
    "IRdisplay::display_html('<iframe src=\"./Quizzes/Quiz_Submodule2-2.html\" width=100% height=250></iframe>')"
   ]
  },
  {
   "cell_type": "code",
   "execution_count": 39,
   "id": "17fa5204",
   "metadata": {},
   "outputs": [],
   "source": [
    "top_genes <- topTable(fit = fit2, adjust = \"fdr\", sort.by = \"B\", number = Inf)"
   ]
  },
  {
   "cell_type": "code",
   "execution_count": 40,
   "id": "a25af71f",
   "metadata": {},
   "outputs": [
    {
     "data": {
      "text/html": [
       "<table class=\"dataframe\">\n",
       "<caption>A data.frame: 6 × 6</caption>\n",
       "<thead>\n",
       "\t<tr><th></th><th scope=col>logFC</th><th scope=col>AveExpr</th><th scope=col>t</th><th scope=col>P.Value</th><th scope=col>adj.P.Val</th><th scope=col>B</th></tr>\n",
       "\t<tr><th></th><th scope=col>&lt;dbl&gt;</th><th scope=col>&lt;dbl&gt;</th><th scope=col>&lt;dbl&gt;</th><th scope=col>&lt;dbl&gt;</th><th scope=col>&lt;dbl&gt;</th><th scope=col>&lt;dbl&gt;</th></tr>\n",
       "</thead>\n",
       "<tbody>\n",
       "\t<tr><th scope=row>222178_s_at</th><td>-0.4473780</td><td>0.3653633</td><td>-73.01106</td><td>4.019112e-55</td><td>2.197450e-50</td><td>81.05538</td></tr>\n",
       "\t<tr><th scope=row>224687_at</th><td>-4.1431631</td><td>2.2572347</td><td>-48.92036</td><td>5.489424e-46</td><td>1.500671e-41</td><td>74.18354</td></tr>\n",
       "\t<tr><th scope=row>207488_at</th><td>-0.4017530</td><td>0.6243144</td><td>-39.29933</td><td>4.735684e-41</td><td>8.630785e-37</td><td>68.83493</td></tr>\n",
       "\t<tr><th scope=row>239226_at</th><td> 0.4483302</td><td>1.3245501</td><td> 28.36499</td><td>7.626558e-34</td><td>1.042455e-29</td><td>58.84908</td></tr>\n",
       "\t<tr><th scope=row>234109_x_at</th><td>-0.2289726</td><td>0.7508256</td><td>-27.67010</td><td>2.635337e-33</td><td>2.881741e-29</td><td>58.00438</td></tr>\n",
       "\t<tr><th scope=row>212833_at</th><td>-2.5976592</td><td>1.7308944</td><td>-24.01172</td><td>2.914912e-30</td><td>2.656213e-26</td><td>52.99567</td></tr>\n",
       "</tbody>\n",
       "</table>\n"
      ],
      "text/latex": [
       "A data.frame: 6 × 6\n",
       "\\begin{tabular}{r|llllll}\n",
       "  & logFC & AveExpr & t & P.Value & adj.P.Val & B\\\\\n",
       "  & <dbl> & <dbl> & <dbl> & <dbl> & <dbl> & <dbl>\\\\\n",
       "\\hline\n",
       "\t222178\\_s\\_at & -0.4473780 & 0.3653633 & -73.01106 & 4.019112e-55 & 2.197450e-50 & 81.05538\\\\\n",
       "\t224687\\_at & -4.1431631 & 2.2572347 & -48.92036 & 5.489424e-46 & 1.500671e-41 & 74.18354\\\\\n",
       "\t207488\\_at & -0.4017530 & 0.6243144 & -39.29933 & 4.735684e-41 & 8.630785e-37 & 68.83493\\\\\n",
       "\t239226\\_at &  0.4483302 & 1.3245501 &  28.36499 & 7.626558e-34 & 1.042455e-29 & 58.84908\\\\\n",
       "\t234109\\_x\\_at & -0.2289726 & 0.7508256 & -27.67010 & 2.635337e-33 & 2.881741e-29 & 58.00438\\\\\n",
       "\t212833\\_at & -2.5976592 & 1.7308944 & -24.01172 & 2.914912e-30 & 2.656213e-26 & 52.99567\\\\\n",
       "\\end{tabular}\n"
      ],
      "text/markdown": [
       "\n",
       "A data.frame: 6 × 6\n",
       "\n",
       "| <!--/--> | logFC &lt;dbl&gt; | AveExpr &lt;dbl&gt; | t &lt;dbl&gt; | P.Value &lt;dbl&gt; | adj.P.Val &lt;dbl&gt; | B &lt;dbl&gt; |\n",
       "|---|---|---|---|---|---|---|\n",
       "| 222178_s_at | -0.4473780 | 0.3653633 | -73.01106 | 4.019112e-55 | 2.197450e-50 | 81.05538 |\n",
       "| 224687_at | -4.1431631 | 2.2572347 | -48.92036 | 5.489424e-46 | 1.500671e-41 | 74.18354 |\n",
       "| 207488_at | -0.4017530 | 0.6243144 | -39.29933 | 4.735684e-41 | 8.630785e-37 | 68.83493 |\n",
       "| 239226_at |  0.4483302 | 1.3245501 |  28.36499 | 7.626558e-34 | 1.042455e-29 | 58.84908 |\n",
       "| 234109_x_at | -0.2289726 | 0.7508256 | -27.67010 | 2.635337e-33 | 2.881741e-29 | 58.00438 |\n",
       "| 212833_at | -2.5976592 | 1.7308944 | -24.01172 | 2.914912e-30 | 2.656213e-26 | 52.99567 |\n",
       "\n"
      ],
      "text/plain": [
       "            logFC      AveExpr   t         P.Value      adj.P.Val    B       \n",
       "222178_s_at -0.4473780 0.3653633 -73.01106 4.019112e-55 2.197450e-50 81.05538\n",
       "224687_at   -4.1431631 2.2572347 -48.92036 5.489424e-46 1.500671e-41 74.18354\n",
       "207488_at   -0.4017530 0.6243144 -39.29933 4.735684e-41 8.630785e-37 68.83493\n",
       "239226_at    0.4483302 1.3245501  28.36499 7.626558e-34 1.042455e-29 58.84908\n",
       "234109_x_at -0.2289726 0.7508256 -27.67010 2.635337e-33 2.881741e-29 58.00438\n",
       "212833_at   -2.5976592 1.7308944 -24.01172 2.914912e-30 2.656213e-26 52.99567"
      ]
     },
     "metadata": {},
     "output_type": "display_data"
    }
   ],
   "source": [
    "head(top_genes)"
   ]
  },
  {
   "cell_type": "markdown",
   "id": "61e4229b",
   "metadata": {},
   "source": [
    "In order to perform pathway and enrichment analyses, we only focus on the genes that are statistically significant and the probe IDs that have gene symbols. We can select those genes using the following command:"
   ]
  },
  {
   "cell_type": "code",
   "execution_count": 41,
   "id": "8cb7805e",
   "metadata": {},
   "outputs": [
    {
     "data": {
      "text/html": [
       "<table class=\"dataframe\">\n",
       "<caption>A data.frame: 6 × 6</caption>\n",
       "<thead>\n",
       "\t<tr><th></th><th scope=col>logFC</th><th scope=col>AveExpr</th><th scope=col>t</th><th scope=col>P.Value</th><th scope=col>adj.P.Val</th><th scope=col>B</th></tr>\n",
       "\t<tr><th></th><th scope=col>&lt;dbl&gt;</th><th scope=col>&lt;dbl&gt;</th><th scope=col>&lt;dbl&gt;</th><th scope=col>&lt;dbl&gt;</th><th scope=col>&lt;dbl&gt;</th><th scope=col>&lt;dbl&gt;</th></tr>\n",
       "</thead>\n",
       "<tbody>\n",
       "\t<tr><th scope=row>222178_s_at</th><td>-0.4473780</td><td>0.3653633</td><td>-73.01106</td><td>4.019112e-55</td><td>2.197450e-50</td><td>81.05538</td></tr>\n",
       "\t<tr><th scope=row>224687_at</th><td>-4.1431631</td><td>2.2572347</td><td>-48.92036</td><td>5.489424e-46</td><td>1.500671e-41</td><td>74.18354</td></tr>\n",
       "\t<tr><th scope=row>207488_at</th><td>-0.4017530</td><td>0.6243144</td><td>-39.29933</td><td>4.735684e-41</td><td>8.630785e-37</td><td>68.83493</td></tr>\n",
       "\t<tr><th scope=row>239226_at</th><td> 0.4483302</td><td>1.3245501</td><td> 28.36499</td><td>7.626558e-34</td><td>1.042455e-29</td><td>58.84908</td></tr>\n",
       "\t<tr><th scope=row>234109_x_at</th><td>-0.2289726</td><td>0.7508256</td><td>-27.67010</td><td>2.635337e-33</td><td>2.881741e-29</td><td>58.00438</td></tr>\n",
       "\t<tr><th scope=row>212833_at</th><td>-2.5976592</td><td>1.7308944</td><td>-24.01172</td><td>2.914912e-30</td><td>2.656213e-26</td><td>52.99567</td></tr>\n",
       "</tbody>\n",
       "</table>\n"
      ],
      "text/latex": [
       "A data.frame: 6 × 6\n",
       "\\begin{tabular}{r|llllll}\n",
       "  & logFC & AveExpr & t & P.Value & adj.P.Val & B\\\\\n",
       "  & <dbl> & <dbl> & <dbl> & <dbl> & <dbl> & <dbl>\\\\\n",
       "\\hline\n",
       "\t222178\\_s\\_at & -0.4473780 & 0.3653633 & -73.01106 & 4.019112e-55 & 2.197450e-50 & 81.05538\\\\\n",
       "\t224687\\_at & -4.1431631 & 2.2572347 & -48.92036 & 5.489424e-46 & 1.500671e-41 & 74.18354\\\\\n",
       "\t207488\\_at & -0.4017530 & 0.6243144 & -39.29933 & 4.735684e-41 & 8.630785e-37 & 68.83493\\\\\n",
       "\t239226\\_at &  0.4483302 & 1.3245501 &  28.36499 & 7.626558e-34 & 1.042455e-29 & 58.84908\\\\\n",
       "\t234109\\_x\\_at & -0.2289726 & 0.7508256 & -27.67010 & 2.635337e-33 & 2.881741e-29 & 58.00438\\\\\n",
       "\t212833\\_at & -2.5976592 & 1.7308944 & -24.01172 & 2.914912e-30 & 2.656213e-26 & 52.99567\\\\\n",
       "\\end{tabular}\n"
      ],
      "text/markdown": [
       "\n",
       "A data.frame: 6 × 6\n",
       "\n",
       "| <!--/--> | logFC &lt;dbl&gt; | AveExpr &lt;dbl&gt; | t &lt;dbl&gt; | P.Value &lt;dbl&gt; | adj.P.Val &lt;dbl&gt; | B &lt;dbl&gt; |\n",
       "|---|---|---|---|---|---|---|\n",
       "| 222178_s_at | -0.4473780 | 0.3653633 | -73.01106 | 4.019112e-55 | 2.197450e-50 | 81.05538 |\n",
       "| 224687_at | -4.1431631 | 2.2572347 | -48.92036 | 5.489424e-46 | 1.500671e-41 | 74.18354 |\n",
       "| 207488_at | -0.4017530 | 0.6243144 | -39.29933 | 4.735684e-41 | 8.630785e-37 | 68.83493 |\n",
       "| 239226_at |  0.4483302 | 1.3245501 |  28.36499 | 7.626558e-34 | 1.042455e-29 | 58.84908 |\n",
       "| 234109_x_at | -0.2289726 | 0.7508256 | -27.67010 | 2.635337e-33 | 2.881741e-29 | 58.00438 |\n",
       "| 212833_at | -2.5976592 | 1.7308944 | -24.01172 | 2.914912e-30 | 2.656213e-26 | 52.99567 |\n",
       "\n"
      ],
      "text/plain": [
       "            logFC      AveExpr   t         P.Value      adj.P.Val    B       \n",
       "222178_s_at -0.4473780 0.3653633 -73.01106 4.019112e-55 2.197450e-50 81.05538\n",
       "224687_at   -4.1431631 2.2572347 -48.92036 5.489424e-46 1.500671e-41 74.18354\n",
       "207488_at   -0.4017530 0.6243144 -39.29933 4.735684e-41 8.630785e-37 68.83493\n",
       "239226_at    0.4483302 1.3245501  28.36499 7.626558e-34 1.042455e-29 58.84908\n",
       "234109_x_at -0.2289726 0.7508256 -27.67010 2.635337e-33 2.881741e-29 58.00438\n",
       "212833_at   -2.5976592 1.7308944 -24.01172 2.914912e-30 2.656213e-26 52.99567"
      ]
     },
     "metadata": {},
     "output_type": "display_data"
    }
   ],
   "source": [
    "DE_Gene <- top_genes[which(top_genes$adj.P.Val<0.05), ]\n",
    "head(DE_Gene)"
   ]
  },
  {
   "cell_type": "markdown",
   "id": "d92ff94a",
   "metadata": {},
   "source": [
    "Now, we can use the following script to save the DE analysis result to use in the later submodules.\n"
   ]
  },
  {
   "cell_type": "code",
   "execution_count": 42,
   "id": "a36d3aac",
   "metadata": {
    "scrolled": true
   },
   "outputs": [],
   "source": [
    "# Save the data to the local disk using rds format\n",
    "# Add one column to store the probe IDs\n",
    "top_genes <- tibble::rownames_to_column(top_genes, \"PROBEID\")\n",
    "saveRDS(top_genes, file=\"./data/DE_genes.rds\")"
   ]
  },
  {
   "cell_type": "code",
   "execution_count": null,
   "id": "aa4ce5f8-9fd9-4c53-9ed4-a515e48d543a",
   "metadata": {},
   "outputs": [],
   "source": [
    "# save files in Google Cloud Bucket\n",
    "# replace the <BUCKET_NAME> with the name of your bucket that was previously made in submodule 1\n",
    "system(\"gsutil cp ./data/DE_genes.rds gs://<BUCKET_NAME>\", intern = TRUE)"
   ]
  },
  {
   "cell_type": "markdown",
   "id": "198055d2",
   "metadata": {},
   "source": [
    "## DE Analysis Using t-test\n",
    "A `t-test` is a common statistical method used to identify differentially expressed (DE) genes in gene expression data. In the context of gene expression analysis, a t-test compares the mean expression level of a gene between two groups, typically a treatment group and a control group.\n",
    "\n",
    "\n",
    "The basic idea behind a t-test is to compare the difference in means between the two groups to the variability within each group. A larger difference in means relative to the variability within each group indicates a higher likelihood that the difference is statistically significant.\n",
    "\n",
    "\n",
    "In the context of gene expression data, a t-test is typically applied to each gene separately. For each gene, the mean expression level in the treatment group is compared to the mean expression level in the control group. The t-test produces a p-value that indicates the probability of observing the observed difference in means by chance.\n",
    "\n",
    "\n",
    "In order to identify DE genes, a significance threshold (or \"alpha value\") is chosen. Any gene with a p-value below this threshold is considered to be differentially expressed. The threshold is typically set at 0.05, meaning that there is a 5% chance of falsely identifying a gene as DE. We can use `row_t_equalvar` available in the `matrixTests` package to perform t-test between the two groups for each gene. Below is the code to install the necessary packages:"
   ]
  },
  {
   "cell_type": "code",
   "execution_count": 32,
   "id": "7eaa2d7c",
   "metadata": {},
   "outputs": [
    {
     "name": "stdout",
     "output_type": "stream",
     "text": [
      "package 'matrixTests' successfully unpacked and MD5 sums checked\n"
     ]
    }
   ],
   "source": [
    "suppressMessages({\n",
    "  suppressWarnings(install.packages(\"matrixTests\", quiet = T))\n",
    "})"
   ]
  },
  {
   "cell_type": "code",
   "execution_count": 33,
   "id": "086523fc-b3ee-4561-a416-875d8b947336",
   "metadata": {},
   "outputs": [],
   "source": [
    "# Load matrixTests package\n",
    "suppressPackageStartupMessages({library(\"matrixTests\")})"
   ]
  },
  {
   "cell_type": "markdown",
   "id": "67dd7f16",
   "metadata": {},
   "source": [
    "First we need to create two different expression matrices belong to two groups."
   ]
  },
  {
   "cell_type": "code",
   "execution_count": 34,
   "id": "31cb6cce",
   "metadata": {},
   "outputs": [],
   "source": [
    "# Assign expression matrix to the count\n",
    "count <- expression_data\n",
    "# Divide the count matrix into two separate matrices X and Y. X is the control group and Y is the disease group\n",
    "X <- count[, groups==\"c\"]\n",
    "Y <- count[, groups==\"d\"]"
   ]
  },
  {
   "cell_type": "code",
   "execution_count": 35,
   "id": "84f0805b",
   "metadata": {},
   "outputs": [],
   "source": [
    "# Perform t-test\n",
    "res <- row_t_equalvar(x = X, y = Y, alternative = \"two.sided\", conf.level = 0.95)"
   ]
  },
  {
   "cell_type": "markdown",
   "id": "58b8a484",
   "metadata": {},
   "source": [
    "The output is a table where rows are genes and columns are statistical information of the test. In DE analysis, we only care for the genes that are significantly different. Therefore, we will rank them based on *p-value* and remove insignificant one."
   ]
  },
  {
   "cell_type": "code",
   "execution_count": 36,
   "id": "d453b2b8",
   "metadata": {},
   "outputs": [
    {
     "data": {
      "text/html": [
       "<table class=\"dataframe\">\n",
       "<caption>A data.frame: 6 × 18</caption>\n",
       "<thead>\n",
       "\t<tr><th></th><th scope=col>obs.x</th><th scope=col>obs.y</th><th scope=col>obs.tot</th><th scope=col>mean.x</th><th scope=col>mean.y</th><th scope=col>mean.diff</th><th scope=col>var.x</th><th scope=col>var.y</th><th scope=col>var.pooled</th><th scope=col>stderr</th><th scope=col>df</th><th scope=col>statistic</th><th scope=col>pvalue</th><th scope=col>conf.low</th><th scope=col>conf.high</th><th scope=col>mean.null</th><th scope=col>alternative</th><th scope=col>conf.level</th></tr>\n",
       "\t<tr><th></th><th scope=col>&lt;int&gt;</th><th scope=col>&lt;int&gt;</th><th scope=col>&lt;int&gt;</th><th scope=col>&lt;dbl&gt;</th><th scope=col>&lt;dbl&gt;</th><th scope=col>&lt;dbl&gt;</th><th scope=col>&lt;dbl&gt;</th><th scope=col>&lt;dbl&gt;</th><th scope=col>&lt;dbl&gt;</th><th scope=col>&lt;dbl&gt;</th><th scope=col>&lt;dbl&gt;</th><th scope=col>&lt;dbl&gt;</th><th scope=col>&lt;dbl&gt;</th><th scope=col>&lt;dbl&gt;</th><th scope=col>&lt;dbl&gt;</th><th scope=col>&lt;dbl&gt;</th><th scope=col>&lt;chr&gt;</th><th scope=col>&lt;dbl&gt;</th></tr>\n",
       "</thead>\n",
       "<tbody>\n",
       "\t<tr><th scope=row>222178_s_at</th><td>39</td><td>15</td><td>54</td><td>0.1819268</td><td>0.6117714</td><td>-0.4298446</td><td>9.737616e-05</td><td>0.0006820712</td><td>0.0002547941</td><td>0.004849686</td><td>52</td><td>-88.63350</td><td>2.040469e-58</td><td>-0.4395762</td><td>-0.4201130</td><td>0</td><td>two.sided</td><td>0.95</td></tr>\n",
       "\t<tr><th scope=row>207488_at</th><td>39</td><td>15</td><td>54</td><td>0.4270298</td><td>0.8854517</td><td>-0.4584219</td><td>9.008167e-04</td><td>0.0023830695</td><td>0.0012998848</td><td>0.010953966</td><td>52</td><td>-41.84985</td><td>1.012965e-41</td><td>-0.4804026</td><td>-0.4364411</td><td>0</td><td>two.sided</td><td>0.95</td></tr>\n",
       "\t<tr><th scope=row>234109_x_at</th><td>39</td><td>15</td><td>54</td><td>0.6103878</td><td>0.8874354</td><td>-0.2770476</td><td>6.857523e-04</td><td>0.0012171635</td><td>0.0008288245</td><td>0.008746821</td><td>52</td><td>-31.67409</td><td>1.151538e-35</td><td>-0.2945994</td><td>-0.2594958</td><td>0</td><td>two.sided</td><td>0.95</td></tr>\n",
       "\t<tr><th scope=row>239226_at</th><td>39</td><td>15</td><td>54</td><td>1.7324948</td><td>1.0013784</td><td> 0.7311164</td><td>1.243088e-02</td><td>0.0014187732</td><td>0.0094660800</td><td>0.029559973</td><td>52</td><td> 24.73332</td><td>2.009417e-30</td><td> 0.6718000</td><td> 0.7904328</td><td>0</td><td>two.sided</td><td>0.95</td></tr>\n",
       "\t<tr><th scope=row>216530_at</th><td>39</td><td>15</td><td>54</td><td>0.8361470</td><td>0.5620650</td><td> 0.2740821</td><td>1.299243e-03</td><td>0.0021199336</td><td>0.0015201978</td><td>0.011845926</td><td>52</td><td> 23.13724</td><td>4.856399e-29</td><td> 0.2503115</td><td> 0.2978526</td><td>0</td><td>two.sided</td><td>0.95</td></tr>\n",
       "\t<tr><th scope=row>216490_x_at</th><td>39</td><td>15</td><td>54</td><td>1.0243812</td><td>0.4847202</td><td> 0.5396610</td><td>8.683469e-03</td><td>0.0025726176</td><td>0.0070382400</td><td>0.025488894</td><td>52</td><td> 21.17240</td><td>3.173331e-27</td><td> 0.4885138</td><td> 0.5908082</td><td>0</td><td>two.sided</td><td>0.95</td></tr>\n",
       "</tbody>\n",
       "</table>\n"
      ],
      "text/latex": [
       "A data.frame: 6 × 18\n",
       "\\begin{tabular}{r|llllllllllllllllll}\n",
       "  & obs.x & obs.y & obs.tot & mean.x & mean.y & mean.diff & var.x & var.y & var.pooled & stderr & df & statistic & pvalue & conf.low & conf.high & mean.null & alternative & conf.level\\\\\n",
       "  & <int> & <int> & <int> & <dbl> & <dbl> & <dbl> & <dbl> & <dbl> & <dbl> & <dbl> & <dbl> & <dbl> & <dbl> & <dbl> & <dbl> & <dbl> & <chr> & <dbl>\\\\\n",
       "\\hline\n",
       "\t222178\\_s\\_at & 39 & 15 & 54 & 0.1819268 & 0.6117714 & -0.4298446 & 9.737616e-05 & 0.0006820712 & 0.0002547941 & 0.004849686 & 52 & -88.63350 & 2.040469e-58 & -0.4395762 & -0.4201130 & 0 & two.sided & 0.95\\\\\n",
       "\t207488\\_at & 39 & 15 & 54 & 0.4270298 & 0.8854517 & -0.4584219 & 9.008167e-04 & 0.0023830695 & 0.0012998848 & 0.010953966 & 52 & -41.84985 & 1.012965e-41 & -0.4804026 & -0.4364411 & 0 & two.sided & 0.95\\\\\n",
       "\t234109\\_x\\_at & 39 & 15 & 54 & 0.6103878 & 0.8874354 & -0.2770476 & 6.857523e-04 & 0.0012171635 & 0.0008288245 & 0.008746821 & 52 & -31.67409 & 1.151538e-35 & -0.2945994 & -0.2594958 & 0 & two.sided & 0.95\\\\\n",
       "\t239226\\_at & 39 & 15 & 54 & 1.7324948 & 1.0013784 &  0.7311164 & 1.243088e-02 & 0.0014187732 & 0.0094660800 & 0.029559973 & 52 &  24.73332 & 2.009417e-30 &  0.6718000 &  0.7904328 & 0 & two.sided & 0.95\\\\\n",
       "\t216530\\_at & 39 & 15 & 54 & 0.8361470 & 0.5620650 &  0.2740821 & 1.299243e-03 & 0.0021199336 & 0.0015201978 & 0.011845926 & 52 &  23.13724 & 4.856399e-29 &  0.2503115 &  0.2978526 & 0 & two.sided & 0.95\\\\\n",
       "\t216490\\_x\\_at & 39 & 15 & 54 & 1.0243812 & 0.4847202 &  0.5396610 & 8.683469e-03 & 0.0025726176 & 0.0070382400 & 0.025488894 & 52 &  21.17240 & 3.173331e-27 &  0.4885138 &  0.5908082 & 0 & two.sided & 0.95\\\\\n",
       "\\end{tabular}\n"
      ],
      "text/markdown": [
       "\n",
       "A data.frame: 6 × 18\n",
       "\n",
       "| <!--/--> | obs.x &lt;int&gt; | obs.y &lt;int&gt; | obs.tot &lt;int&gt; | mean.x &lt;dbl&gt; | mean.y &lt;dbl&gt; | mean.diff &lt;dbl&gt; | var.x &lt;dbl&gt; | var.y &lt;dbl&gt; | var.pooled &lt;dbl&gt; | stderr &lt;dbl&gt; | df &lt;dbl&gt; | statistic &lt;dbl&gt; | pvalue &lt;dbl&gt; | conf.low &lt;dbl&gt; | conf.high &lt;dbl&gt; | mean.null &lt;dbl&gt; | alternative &lt;chr&gt; | conf.level &lt;dbl&gt; |\n",
       "|---|---|---|---|---|---|---|---|---|---|---|---|---|---|---|---|---|---|---|\n",
       "| 222178_s_at | 39 | 15 | 54 | 0.1819268 | 0.6117714 | -0.4298446 | 9.737616e-05 | 0.0006820712 | 0.0002547941 | 0.004849686 | 52 | -88.63350 | 2.040469e-58 | -0.4395762 | -0.4201130 | 0 | two.sided | 0.95 |\n",
       "| 207488_at | 39 | 15 | 54 | 0.4270298 | 0.8854517 | -0.4584219 | 9.008167e-04 | 0.0023830695 | 0.0012998848 | 0.010953966 | 52 | -41.84985 | 1.012965e-41 | -0.4804026 | -0.4364411 | 0 | two.sided | 0.95 |\n",
       "| 234109_x_at | 39 | 15 | 54 | 0.6103878 | 0.8874354 | -0.2770476 | 6.857523e-04 | 0.0012171635 | 0.0008288245 | 0.008746821 | 52 | -31.67409 | 1.151538e-35 | -0.2945994 | -0.2594958 | 0 | two.sided | 0.95 |\n",
       "| 239226_at | 39 | 15 | 54 | 1.7324948 | 1.0013784 |  0.7311164 | 1.243088e-02 | 0.0014187732 | 0.0094660800 | 0.029559973 | 52 |  24.73332 | 2.009417e-30 |  0.6718000 |  0.7904328 | 0 | two.sided | 0.95 |\n",
       "| 216530_at | 39 | 15 | 54 | 0.8361470 | 0.5620650 |  0.2740821 | 1.299243e-03 | 0.0021199336 | 0.0015201978 | 0.011845926 | 52 |  23.13724 | 4.856399e-29 |  0.2503115 |  0.2978526 | 0 | two.sided | 0.95 |\n",
       "| 216490_x_at | 39 | 15 | 54 | 1.0243812 | 0.4847202 |  0.5396610 | 8.683469e-03 | 0.0025726176 | 0.0070382400 | 0.025488894 | 52 |  21.17240 | 3.173331e-27 |  0.4885138 |  0.5908082 | 0 | two.sided | 0.95 |\n",
       "\n"
      ],
      "text/plain": [
       "            obs.x obs.y obs.tot mean.x    mean.y    mean.diff  var.x       \n",
       "222178_s_at 39    15    54      0.1819268 0.6117714 -0.4298446 9.737616e-05\n",
       "207488_at   39    15    54      0.4270298 0.8854517 -0.4584219 9.008167e-04\n",
       "234109_x_at 39    15    54      0.6103878 0.8874354 -0.2770476 6.857523e-04\n",
       "239226_at   39    15    54      1.7324948 1.0013784  0.7311164 1.243088e-02\n",
       "216530_at   39    15    54      0.8361470 0.5620650  0.2740821 1.299243e-03\n",
       "216490_x_at 39    15    54      1.0243812 0.4847202  0.5396610 8.683469e-03\n",
       "            var.y        var.pooled   stderr      df statistic pvalue      \n",
       "222178_s_at 0.0006820712 0.0002547941 0.004849686 52 -88.63350 2.040469e-58\n",
       "207488_at   0.0023830695 0.0012998848 0.010953966 52 -41.84985 1.012965e-41\n",
       "234109_x_at 0.0012171635 0.0008288245 0.008746821 52 -31.67409 1.151538e-35\n",
       "239226_at   0.0014187732 0.0094660800 0.029559973 52  24.73332 2.009417e-30\n",
       "216530_at   0.0021199336 0.0015201978 0.011845926 52  23.13724 4.856399e-29\n",
       "216490_x_at 0.0025726176 0.0070382400 0.025488894 52  21.17240 3.173331e-27\n",
       "            conf.low   conf.high  mean.null alternative conf.level\n",
       "222178_s_at -0.4395762 -0.4201130 0         two.sided   0.95      \n",
       "207488_at   -0.4804026 -0.4364411 0         two.sided   0.95      \n",
       "234109_x_at -0.2945994 -0.2594958 0         two.sided   0.95      \n",
       "239226_at    0.6718000  0.7904328 0         two.sided   0.95      \n",
       "216530_at    0.2503115  0.2978526 0         two.sided   0.95      \n",
       "216490_x_at  0.4885138  0.5908082 0         two.sided   0.95      "
      ]
     },
     "metadata": {},
     "output_type": "display_data"
    }
   ],
   "source": [
    "# Order the results based on the p-value\n",
    "res <- res[order(res$pvalue), ]\n",
    "# Remove insignificant genes\n",
    "res <- res[res$pvalue<0.05, ]\n",
    "# Show the result of top genes\n",
    "head(res)"
   ]
  },
  {
   "cell_type": "markdown",
   "id": "14109c8b",
   "metadata": {},
   "source": [
    "To see how many genes are left, we can use the following command"
   ]
  },
  {
   "cell_type": "code",
   "execution_count": 37,
   "id": "431c9568",
   "metadata": {},
   "outputs": [
    {
     "data": {
      "text/html": [
       "<style>\n",
       ".list-inline {list-style: none; margin:0; padding: 0}\n",
       ".list-inline>li {display: inline-block}\n",
       ".list-inline>li:not(:last-child)::after {content: \"\\00b7\"; padding: 0 .5ex}\n",
       "</style>\n",
       "<ol class=list-inline><li>9286</li><li>18</li></ol>\n"
      ],
      "text/latex": [
       "\\begin{enumerate*}\n",
       "\\item 9286\n",
       "\\item 18\n",
       "\\end{enumerate*}\n"
      ],
      "text/markdown": [
       "1. 9286\n",
       "2. 18\n",
       "\n",
       "\n"
      ],
      "text/plain": [
       "[1] 9286   18"
      ]
     },
     "metadata": {},
     "output_type": "display_data"
    }
   ],
   "source": [
    "dim(res)"
   ]
  },
  {
   "cell_type": "markdown",
   "id": "1e6db405-21e5-4ab3-acb5-eee585cd5aa6",
   "metadata": {},
   "source": [
    "Now, we can save the DE analysis result to use in the later submodule"
   ]
  },
  {
   "cell_type": "code",
   "execution_count": 43,
   "id": "c1be0aeb",
   "metadata": {},
   "outputs": [],
   "source": [
    "# Saving the result to local folder\n",
    "write.csv(res, file=\"./data/t-Test_Results.csv\")\n",
    "saveRDS(res, file=\"./data/t-Test_Results.rds\")"
   ]
  },
  {
   "cell_type": "code",
   "execution_count": null,
   "id": "5dd02937-4a49-4cee-ba81-7c2bd16c9c8e",
   "metadata": {},
   "outputs": [],
   "source": [
    "# Saving the result to Google Cloud Bucket\n",
    "# replace <BUCKET_NAME> with name of your bucket that was perviously made in submodule 1\n",
    "system(\"gsutil cp ./data/t-Test_Results.csv gs://<BUCKET_NAME>\", intern = TRUE)\n",
    "\n",
    "system(\"gsutil cp ./data/t-Test_Results.rds gs://<BUCKET_NAME>\", intern = TRUE)"
   ]
  },
  {
   "cell_type": "markdown",
   "id": "b9ee0bdb",
   "metadata": {},
   "source": [
    "## DE Analysis Using edgeR\n",
    "\n",
    "edgeR is a popular R package for differential expression (DE) analysis of RNA sequencing (RNA-seq) data. The package uses empirical Bayesian methods to account for biological variability and gene-specific sequencing depth, making it a robust and powerful tool for identifying DE genes.\n",
    "\n",
    "\n",
    "The basic workflow for DE analysis using edgeR involves several steps:\n",
    "\n",
    "\n",
    "1. Data pre-processing: Raw sequencing reads are first pre-processed to filter out low-quality reads and align them to a reference genome. This step typically includes quality control, read trimming and alignment.\n",
    "\n",
    "\n",
    "2. Count matrix generation: A count matrix is generated by counting the number of reads that map to each gene in each sample. This matrix represents the raw gene expression data and is used as input for DE analysis.\n",
    "\n",
    "\n",
    "3. Normalization: edgeR applies a normalization method called trimmed mean of M-values (TMM) to adjust for differences in sequencing depth between samples. This method calculates scaling factors for each sample based on the mean and variance of the log ratios of gene expression levels between pairs of samples.\n",
    "\n",
    "\n",
    "4. Dispersion estimation: edgeR uses a negative binomial model to account for biological variability in gene expression data. This model estimates the dispersion of counts within and between samples, which reflects the amount of biological variability in gene expression data.\n",
    "\n",
    "\n",
    "5. Differential expression analysis: edgeR uses a statistical framework called generalized linear models (GLMs) to test for differential expression between two or more groups. This method models the relationship between gene expression and experimental factors (e.g., treatment, time, condition) to identify genes that are significantly differentially expressed.\n",
    "\n",
    "\n",
    "6. Multiple testing correction: To control for the high false positive rate associated with testing many genes simultaneously, edgeR applies a multiple testing correction method called the false discovery rate (FDR). This method adjusts p-values to control the expected proportion of false positives among all significant tests.\n",
    "\n",
    "\n",
    "Overall, edgeR is a powerful and widely used tool for DE analysis of RNA-seq data, offering a flexible framework for the detection of DE genes that accounts for biological variability and gene-specific sequencing depth. It also provides several visualization tools to help users explore and interpret the results."
   ]
  },
  {
   "cell_type": "code",
   "execution_count": 44,
   "id": "f4322d97",
   "metadata": {},
   "outputs": [
    {
     "name": "stdout",
     "output_type": "stream",
     "text": [
      "package 'locfit' successfully unpacked and MD5 sums checked\n",
      "package 'edgeR' successfully unpacked and MD5 sums checked\n",
      "\n",
      "The downloaded binary packages are in\n",
      "\tC:\\Users\\ASUS\\AppData\\Local\\Temp\\Rtmpey6iXc\\downloaded_packages\n"
     ]
    }
   ],
   "source": [
    "# Install edgeR package from Bioconductor\n",
    "suppressMessages({ if (!require(\"BiocManager\", quietly = TRUE))\n",
    "  install.packages(\"BiocManager\")\n",
    "  suppressWarnings(BiocManager::install(\"edgeR\", update = F))\n",
    "})"
   ]
  },
  {
   "cell_type": "code",
   "execution_count": 45,
   "id": "5de8b6a9",
   "metadata": {},
   "outputs": [],
   "source": [
    "# Load edgeR package\n",
    "suppressPackageStartupMessages({library(\"edgeR\")})"
   ]
  },
  {
   "cell_type": "code",
   "execution_count": 46,
   "id": "7d70782a",
   "metadata": {},
   "outputs": [],
   "source": [
    "# Assigning expression matrix to count\n",
    "count <- expression_data"
   ]
  },
  {
   "cell_type": "code",
   "execution_count": 47,
   "id": "0073fef1",
   "metadata": {},
   "outputs": [
    {
     "name": "stderr",
     "output_type": "stream",
     "text": [
      "Using classic mode.\n",
      "\n"
     ]
    }
   ],
   "source": [
    "# Perform DE analysis using DGEList function\n",
    "dge <- DGEList(counts = count, group = factor(groups))\n",
    "# Calculating the normalize factor\n",
    "dge <- calcNormFactors(object = dge)\n",
    "dge <- estimateDisp(y = dge)\n",
    "# Perform Fisher-exact test\n",
    "et <- exactTest(object = dge)\n",
    "# Getting top DE genes\n",
    "top_degs = topTags(object = et, n = \"Inf\")"
   ]
  },
  {
   "cell_type": "code",
   "execution_count": 48,
   "id": "f1d513dd",
   "metadata": {},
   "outputs": [
    {
     "data": {
      "text/html": [
       "<table class=\"dataframe\">\n",
       "<caption>A data.frame: 6 × 4</caption>\n",
       "<thead>\n",
       "\t<tr><th></th><th scope=col>logFC</th><th scope=col>logCPM</th><th scope=col>PValue</th><th scope=col>FDR</th></tr>\n",
       "\t<tr><th></th><th scope=col>&lt;dbl&gt;</th><th scope=col>&lt;dbl&gt;</th><th scope=col>&lt;dbl&gt;</th><th scope=col>&lt;dbl&gt;</th></tr>\n",
       "</thead>\n",
       "<tbody>\n",
       "\t<tr><th scope=row>224687_at</th><td> 4.904976</td><td>8.019088</td><td>4.463490e-158</td><td>2.440413e-153</td></tr>\n",
       "\t<tr><th scope=row>212833_at</th><td> 3.363579</td><td>6.860991</td><td> 1.652705e-51</td><td> 4.518082e-47</td></tr>\n",
       "\t<tr><th scope=row>1558620_at</th><td> 2.841310</td><td>6.619830</td><td> 2.269510e-37</td><td> 4.136182e-33</td></tr>\n",
       "\t<tr><th scope=row>211318_s_at</th><td>-2.788104</td><td>7.033454</td><td> 6.724743e-22</td><td> 9.191883e-18</td></tr>\n",
       "\t<tr><th scope=row>206552_s_at</th><td> 3.236385</td><td>7.042412</td><td> 1.493408e-15</td><td> 1.633042e-11</td></tr>\n",
       "\t<tr><th scope=row>1553191_at</th><td> 1.158600</td><td>6.798425</td><td> 1.489697e-06</td><td> 1.357487e-02</td></tr>\n",
       "</tbody>\n",
       "</table>\n"
      ],
      "text/latex": [
       "A data.frame: 6 × 4\n",
       "\\begin{tabular}{r|llll}\n",
       "  & logFC & logCPM & PValue & FDR\\\\\n",
       "  & <dbl> & <dbl> & <dbl> & <dbl>\\\\\n",
       "\\hline\n",
       "\t224687\\_at &  4.904976 & 8.019088 & 4.463490e-158 & 2.440413e-153\\\\\n",
       "\t212833\\_at &  3.363579 & 6.860991 &  1.652705e-51 &  4.518082e-47\\\\\n",
       "\t1558620\\_at &  2.841310 & 6.619830 &  2.269510e-37 &  4.136182e-33\\\\\n",
       "\t211318\\_s\\_at & -2.788104 & 7.033454 &  6.724743e-22 &  9.191883e-18\\\\\n",
       "\t206552\\_s\\_at &  3.236385 & 7.042412 &  1.493408e-15 &  1.633042e-11\\\\\n",
       "\t1553191\\_at &  1.158600 & 6.798425 &  1.489697e-06 &  1.357487e-02\\\\\n",
       "\\end{tabular}\n"
      ],
      "text/markdown": [
       "\n",
       "A data.frame: 6 × 4\n",
       "\n",
       "| <!--/--> | logFC &lt;dbl&gt; | logCPM &lt;dbl&gt; | PValue &lt;dbl&gt; | FDR &lt;dbl&gt; |\n",
       "|---|---|---|---|---|\n",
       "| 224687_at |  4.904976 | 8.019088 | 4.463490e-158 | 2.440413e-153 |\n",
       "| 212833_at |  3.363579 | 6.860991 |  1.652705e-51 |  4.518082e-47 |\n",
       "| 1558620_at |  2.841310 | 6.619830 |  2.269510e-37 |  4.136182e-33 |\n",
       "| 211318_s_at | -2.788104 | 7.033454 |  6.724743e-22 |  9.191883e-18 |\n",
       "| 206552_s_at |  3.236385 | 7.042412 |  1.493408e-15 |  1.633042e-11 |\n",
       "| 1553191_at |  1.158600 | 6.798425 |  1.489697e-06 |  1.357487e-02 |\n",
       "\n"
      ],
      "text/plain": [
       "            logFC     logCPM   PValue        FDR          \n",
       "224687_at    4.904976 8.019088 4.463490e-158 2.440413e-153\n",
       "212833_at    3.363579 6.860991  1.652705e-51  4.518082e-47\n",
       "1558620_at   2.841310 6.619830  2.269510e-37  4.136182e-33\n",
       "211318_s_at -2.788104 7.033454  6.724743e-22  9.191883e-18\n",
       "206552_s_at  3.236385 7.042412  1.493408e-15  1.633042e-11\n",
       "1553191_at   1.158600 6.798425  1.489697e-06  1.357487e-02"
      ]
     },
     "metadata": {},
     "output_type": "display_data"
    }
   ],
   "source": [
    "head(top_degs$table)"
   ]
  },
  {
   "cell_type": "code",
   "execution_count": 49,
   "id": "629d1d38-b685-4d1a-8e42-08bcbdc83aec",
   "metadata": {},
   "outputs": [
    {
     "data": {
      "text/html": [
       "<iframe src=\"./Quizzes/Quiz_Submodule2-3.html\" width=100% height=250></iframe>"
      ]
     },
     "metadata": {},
     "output_type": "display_data"
    }
   ],
   "source": [
    "#Run the following command to take the quiz\n",
    "IRdisplay::display_html('<iframe src=\"./Quizzes/Quiz_Submodule2-3.html\" width=100% height=250></iframe>')"
   ]
  },
  {
   "cell_type": "markdown",
   "id": "ff7c50f2-473d-4f3d-ac0d-a76e126f5582",
   "metadata": {},
   "source": [
    "Now, we can save the DE analysis result to use in the later submodule"
   ]
  },
  {
   "cell_type": "code",
   "execution_count": 50,
   "id": "381d4b3b",
   "metadata": {},
   "outputs": [],
   "source": [
    "# Saving the result to local folder\n",
    "write.csv(et$table, file=\"./data/edgeR_Results.csv\")\n",
    "saveRDS(et$table, file=\"./data/edgeR_Results.rds\")"
   ]
  },
  {
   "cell_type": "code",
   "execution_count": null,
   "id": "fe4fe971-14ec-4f7a-b477-5112ff0e69e9",
   "metadata": {},
   "outputs": [],
   "source": [
    "# Saving the result to Google Cloud Bucket\n",
    "#replace <BUCKET_NAME> with the name of your bucket that was previously made in submodule 1\n",
    "system(\"gsutil cp ./data/edgeR_Results.csv gs://<BUCKET_NAME>\", intern = TRUE)\n",
    "\n",
    "system(\"gsutil cp ./data/edgeR_Results.rds gs://<BUCKET_NAME>\", intern = TRUE)"
   ]
  },
  {
   "cell_type": "markdown",
   "id": "0bf63b53",
   "metadata": {},
   "source": [
    "## DE Analysis Using DESeq2\n",
    "DESeq2 is a popular R package for differential expression (DE) analysis of RNA sequencing (RNA-seq) data. The package uses a negative binomial distribution to model the gene expression counts and applies shrinkage estimation to improve the accuracy of differential expression analysis.\n",
    "\n",
    "\n",
    "The basic workflow for DE analysis using DESeq2 involves several steps:\n",
    "\n",
    "\n",
    "1. Data pre-processing: Raw sequencing reads are first pre-processed to filter out low-quality reads and align them to a reference genome. This step typically includes quality control, read trimming, and alignment.\n",
    "\n",
    "\n",
    "2. Count matrix generation: A count matrix is generated by counting the number of reads that map to each gene in each sample. This matrix represents the raw gene expression data and is used as input for DE analysis.\n",
    "\n",
    "\n",
    "3. Normalization: DESeq2 applies a normalization method called size factors to adjust for differences in sequencing depth between samples. This method calculates scaling factors for each sample based on the total number of reads in each sample.\n",
    "\n",
    "\n",
    "4. Dispersion estimation: DESeq2 estimates the dispersion of counts within and between samples using a negative binomial distribution. This model accounts for biological variability in gene expression data and can handle low counts and overdispersion.\n",
    "\n",
    "\n",
    "5. Differential expression analysis: DESeq2 uses a statistical framework called the Wald test to test for differential expression between two or more groups. This method models the relationship between gene expression and experimental factors (e.g., treatment, time, condition) to identify genes that are significantly differentially expressed.\n",
    "\n",
    "\n",
    "6. Multiple testing correction: To control for the high false positive rate associated with testing many genes simultaneously, DESeq2 applies a multiple testing correction method called the Benjamini-Hochberg (BH) procedure. This method adjusts p-values to control the expected proportion of false positives among all significant tests.\n",
    "\n",
    "\n",
    "DESeq2 also includes several visualization tools, such as principal component analysis (PCA) and heatmaps, to help users explore and interpret the results.\n",
    "\n",
    "\n",
    "Overall, DESeq2 is a powerful and widely used tool for DE analysis of RNA-seq data, offering a flexible framework for the detection of DE genes that accounts for biological variability and gene-specific sequencing depth. It is particularly useful for analyzing low-count genes and handling complex experimental designs."
   ]
  },
  {
   "cell_type": "code",
   "execution_count": 51,
   "id": "062fae15",
   "metadata": {},
   "outputs": [
    {
     "name": "stdout",
     "output_type": "stream",
     "text": [
      "package 'formatR' successfully unpacked and MD5 sums checked\n",
      "package 'abind' successfully unpacked and MD5 sums checked\n",
      "package 'SparseArray' successfully unpacked and MD5 sums checked\n",
      "package 'lambda.r' successfully unpacked and MD5 sums checked\n",
      "package 'futile.options' successfully unpacked and MD5 sums checked\n",
      "package 'S4Arrays' successfully unpacked and MD5 sums checked\n",
      "package 'DelayedArray' successfully unpacked and MD5 sums checked\n",
      "package 'futile.logger' successfully unpacked and MD5 sums checked\n",
      "package 'snow' successfully unpacked and MD5 sums checked\n",
      "package 'GenomicRanges' successfully unpacked and MD5 sums checked\n",
      "package 'SummarizedExperiment' successfully unpacked and MD5 sums checked\n",
      "package 'BiocParallel' successfully unpacked and MD5 sums checked\n",
      "package 'MatrixGenerics' successfully unpacked and MD5 sums checked\n",
      "package 'DESeq2' successfully unpacked and MD5 sums checked\n",
      "\n",
      "The downloaded binary packages are in\n",
      "\tC:\\Users\\ASUS\\AppData\\Local\\Temp\\Rtmpey6iXc\\downloaded_packages\n"
     ]
    }
   ],
   "source": [
    "# Installing and loading the library\n",
    "suppressMessages({ if (!require(\"BiocManager\", quietly = TRUE))\n",
    "  install.packages(\"BiocManager\")\n",
    "  suppressWarnings(BiocManager::install(\"DESeq2\", update = F))\n",
    "})"
   ]
  },
  {
   "cell_type": "code",
   "execution_count": 52,
   "id": "2889c103-85ce-449f-a5b9-55a53673b598",
   "metadata": {},
   "outputs": [],
   "source": [
    "suppressPackageStartupMessages({library(\"DESeq2\")})"
   ]
  },
  {
   "cell_type": "code",
   "execution_count": 53,
   "id": "f7adaeec",
   "metadata": {},
   "outputs": [],
   "source": [
    "# Contructing a group table that has information of group members for all patients.\n",
    "coldata <- data.frame(\n",
    "  sample = colnames(expression_data),\n",
    "  condition = as.factor(groups),\n",
    "  row.names = \"sample\" )"
   ]
  },
  {
   "cell_type": "code",
   "execution_count": 54,
   "id": "79942f0a",
   "metadata": {},
   "outputs": [
    {
     "data": {
      "text/html": [
       "<table class=\"dataframe\">\n",
       "<caption>A data.frame: 6 × 1</caption>\n",
       "<thead>\n",
       "\t<tr><th></th><th scope=col>condition</th></tr>\n",
       "\t<tr><th></th><th scope=col>&lt;fct&gt;</th></tr>\n",
       "</thead>\n",
       "<tbody>\n",
       "\t<tr><th scope=row>GSM300173</th><td>c</td></tr>\n",
       "\t<tr><th scope=row>GSM300177</th><td>c</td></tr>\n",
       "\t<tr><th scope=row>GSM300181</th><td>c</td></tr>\n",
       "\t<tr><th scope=row>GSM300186</th><td>c</td></tr>\n",
       "\t<tr><th scope=row>GSM300189</th><td>c</td></tr>\n",
       "\t<tr><th scope=row>GSM300192</th><td>c</td></tr>\n",
       "</tbody>\n",
       "</table>\n"
      ],
      "text/latex": [
       "A data.frame: 6 × 1\n",
       "\\begin{tabular}{r|l}\n",
       "  & condition\\\\\n",
       "  & <fct>\\\\\n",
       "\\hline\n",
       "\tGSM300173 & c\\\\\n",
       "\tGSM300177 & c\\\\\n",
       "\tGSM300181 & c\\\\\n",
       "\tGSM300186 & c\\\\\n",
       "\tGSM300189 & c\\\\\n",
       "\tGSM300192 & c\\\\\n",
       "\\end{tabular}\n"
      ],
      "text/markdown": [
       "\n",
       "A data.frame: 6 × 1\n",
       "\n",
       "| <!--/--> | condition &lt;fct&gt; |\n",
       "|---|---|\n",
       "| GSM300173 | c |\n",
       "| GSM300177 | c |\n",
       "| GSM300181 | c |\n",
       "| GSM300186 | c |\n",
       "| GSM300189 | c |\n",
       "| GSM300192 | c |\n",
       "\n"
      ],
      "text/plain": [
       "          condition\n",
       "GSM300173 c        \n",
       "GSM300177 c        \n",
       "GSM300181 c        \n",
       "GSM300186 c        \n",
       "GSM300189 c        \n",
       "GSM300192 c        "
      ]
     },
     "metadata": {},
     "output_type": "display_data"
    }
   ],
   "source": [
    "# Checking the group information of a few first patients\n",
    "head(coldata)"
   ]
  },
  {
   "cell_type": "code",
   "execution_count": 55,
   "id": "97faa3f0",
   "metadata": {},
   "outputs": [],
   "source": [
    "# Perform DE analysis using DESeqDataSetFromMatrix function\n",
    "suppressMessages({\n",
    "  dds <- DESeqDataSetFromMatrix(countData = round(count), colData = coldata,\n",
    "                              design = ~ condition)\n",
    "  dds <- dds[rowSums(counts(dds)) >= 10, ]\n",
    "  dds$condition <- relevel(x = dds$condition, ref = \"c\")\n",
    "  dds <- DESeq(object = dds)\n",
    "  resultsNames(dds)\n",
    "  res <- results(dds)\n",
    "  res <- as.data.frame(res[order(res$padj), ])\n",
    "})"
   ]
  },
  {
   "cell_type": "code",
   "execution_count": 56,
   "id": "d2704259",
   "metadata": {},
   "outputs": [
    {
     "data": {
      "text/html": [
       "<table class=\"dataframe\">\n",
       "<caption>A data.frame: 6 × 6</caption>\n",
       "<thead>\n",
       "\t<tr><th></th><th scope=col>baseMean</th><th scope=col>log2FoldChange</th><th scope=col>lfcSE</th><th scope=col>stat</th><th scope=col>pvalue</th><th scope=col>padj</th></tr>\n",
       "\t<tr><th></th><th scope=col>&lt;dbl&gt;</th><th scope=col>&lt;dbl&gt;</th><th scope=col>&lt;dbl&gt;</th><th scope=col>&lt;dbl&gt;</th><th scope=col>&lt;dbl&gt;</th><th scope=col>&lt;dbl&gt;</th></tr>\n",
       "</thead>\n",
       "<tbody>\n",
       "\t<tr><th scope=row>224687_at</th><td>11.590865</td><td> 5.089289</td><td>0.2647166</td><td>19.225425</td><td>2.267736e-82</td><td>1.154096e-77</td></tr>\n",
       "\t<tr><th scope=row>212833_at</th><td> 4.138384</td><td> 3.430013</td><td>0.2842036</td><td>12.068860</td><td>1.542556e-33</td><td>3.925188e-29</td></tr>\n",
       "\t<tr><th scope=row>1558620_at</th><td> 3.162742</td><td> 2.979229</td><td>0.2892637</td><td>10.299352</td><td>7.093785e-25</td><td>1.203390e-20</td></tr>\n",
       "\t<tr><th scope=row>206552_s_at</th><td> 4.890227</td><td> 3.353613</td><td>0.4815026</td><td> 6.964891</td><td>3.286586e-12</td><td>4.181523e-08</td></tr>\n",
       "\t<tr><th scope=row>211318_s_at</th><td> 4.936976</td><td>-2.681179</td><td>0.3982190</td><td>-6.732927</td><td>1.662830e-11</td><td>1.692495e-07</td></tr>\n",
       "\t<tr><th scope=row>1553191_at</th><td> 3.876015</td><td> 1.176570</td><td>0.2596787</td><td> 4.530866</td><td>5.874237e-06</td><td>4.982528e-02</td></tr>\n",
       "</tbody>\n",
       "</table>\n"
      ],
      "text/latex": [
       "A data.frame: 6 × 6\n",
       "\\begin{tabular}{r|llllll}\n",
       "  & baseMean & log2FoldChange & lfcSE & stat & pvalue & padj\\\\\n",
       "  & <dbl> & <dbl> & <dbl> & <dbl> & <dbl> & <dbl>\\\\\n",
       "\\hline\n",
       "\t224687\\_at & 11.590865 &  5.089289 & 0.2647166 & 19.225425 & 2.267736e-82 & 1.154096e-77\\\\\n",
       "\t212833\\_at &  4.138384 &  3.430013 & 0.2842036 & 12.068860 & 1.542556e-33 & 3.925188e-29\\\\\n",
       "\t1558620\\_at &  3.162742 &  2.979229 & 0.2892637 & 10.299352 & 7.093785e-25 & 1.203390e-20\\\\\n",
       "\t206552\\_s\\_at &  4.890227 &  3.353613 & 0.4815026 &  6.964891 & 3.286586e-12 & 4.181523e-08\\\\\n",
       "\t211318\\_s\\_at &  4.936976 & -2.681179 & 0.3982190 & -6.732927 & 1.662830e-11 & 1.692495e-07\\\\\n",
       "\t1553191\\_at &  3.876015 &  1.176570 & 0.2596787 &  4.530866 & 5.874237e-06 & 4.982528e-02\\\\\n",
       "\\end{tabular}\n"
      ],
      "text/markdown": [
       "\n",
       "A data.frame: 6 × 6\n",
       "\n",
       "| <!--/--> | baseMean &lt;dbl&gt; | log2FoldChange &lt;dbl&gt; | lfcSE &lt;dbl&gt; | stat &lt;dbl&gt; | pvalue &lt;dbl&gt; | padj &lt;dbl&gt; |\n",
       "|---|---|---|---|---|---|---|\n",
       "| 224687_at | 11.590865 |  5.089289 | 0.2647166 | 19.225425 | 2.267736e-82 | 1.154096e-77 |\n",
       "| 212833_at |  4.138384 |  3.430013 | 0.2842036 | 12.068860 | 1.542556e-33 | 3.925188e-29 |\n",
       "| 1558620_at |  3.162742 |  2.979229 | 0.2892637 | 10.299352 | 7.093785e-25 | 1.203390e-20 |\n",
       "| 206552_s_at |  4.890227 |  3.353613 | 0.4815026 |  6.964891 | 3.286586e-12 | 4.181523e-08 |\n",
       "| 211318_s_at |  4.936976 | -2.681179 | 0.3982190 | -6.732927 | 1.662830e-11 | 1.692495e-07 |\n",
       "| 1553191_at |  3.876015 |  1.176570 | 0.2596787 |  4.530866 | 5.874237e-06 | 4.982528e-02 |\n",
       "\n"
      ],
      "text/plain": [
       "            baseMean  log2FoldChange lfcSE     stat      pvalue      \n",
       "224687_at   11.590865  5.089289      0.2647166 19.225425 2.267736e-82\n",
       "212833_at    4.138384  3.430013      0.2842036 12.068860 1.542556e-33\n",
       "1558620_at   3.162742  2.979229      0.2892637 10.299352 7.093785e-25\n",
       "206552_s_at  4.890227  3.353613      0.4815026  6.964891 3.286586e-12\n",
       "211318_s_at  4.936976 -2.681179      0.3982190 -6.732927 1.662830e-11\n",
       "1553191_at   3.876015  1.176570      0.2596787  4.530866 5.874237e-06\n",
       "            padj        \n",
       "224687_at   1.154096e-77\n",
       "212833_at   3.925188e-29\n",
       "1558620_at  1.203390e-20\n",
       "206552_s_at 4.181523e-08\n",
       "211318_s_at 1.692495e-07\n",
       "1553191_at  4.982528e-02"
      ]
     },
     "metadata": {},
     "output_type": "display_data"
    }
   ],
   "source": [
    "head(res)"
   ]
  },
  {
   "cell_type": "code",
   "execution_count": 57,
   "id": "aa6bf614-94b1-4f74-abae-9e6ef52c07d4",
   "metadata": {
    "scrolled": true
   },
   "outputs": [
    {
     "data": {
      "text/html": [
       "<iframe src=\"./Quizzes/Quiz_Submodule2-4.html\" width=100% height=250></iframe>"
      ]
     },
     "metadata": {},
     "output_type": "display_data"
    }
   ],
   "source": [
    "#Run the following command to take the quiz\n",
    "IRdisplay::display_html('<iframe src=\"./Quizzes/Quiz_Submodule2-4.html\" width=100% height=250></iframe>')"
   ]
  },
  {
   "cell_type": "markdown",
   "id": "e6bb54e5-08fd-40cc-ab99-e1e64eb4528e",
   "metadata": {},
   "source": [
    "Now, we can save the DE analysis result to use in the later submodule"
   ]
  },
  {
   "cell_type": "code",
   "execution_count": 58,
   "id": "2f4055b1",
   "metadata": {},
   "outputs": [],
   "source": [
    "# Saving the result to local storage\n",
    "write.csv(res, file=\"./data/DESeq2_Results.csv\")\n",
    "saveRDS(res, file=\"./data/DESeq2_Results.rds\")"
   ]
  },
  {
   "cell_type": "code",
   "execution_count": null,
   "id": "b4cd0473-89db-4730-a7d6-8979372f60df",
   "metadata": {},
   "outputs": [],
   "source": [
    "#replace <BUCKET_NAME> with the name of your bucket that was previously made in submodule 1\n",
    "system(\"gsutil cp ./data/DESeq2_Results.csv gs://<BUCKET_NAME>\", intern = TRUE)\n",
    "\n",
    "system(\"gsutil cp ./data/DESeq2_Results.rds gs://<BUCKET_NAME>\", intern = TRUE)"
   ]
  },
  {
   "cell_type": "markdown",
   "id": "d2788e7d",
   "metadata": {},
   "source": [
    "## Visualization of Differential Expression Results.\n",
    "To visually summarize results for all genes from the `limma` analysis we can generate a mean-difference plot using the `plotMD` function in `limma` package, which displays log-fold changes from the linear model fit against the average log-CPM values, with the differentially expressed genes highlighted. The function `plotMD` uses `fit2` object generated from DE analysis using `limma` in the above section."
   ]
  },
  {
   "cell_type": "code",
   "execution_count": 59,
   "id": "e185c295",
   "metadata": {},
   "outputs": [
    {
     "data": {
      "image/png": "[encoded data removed]",
      "text/plain": [
       "Plot with title \"c-d\""
      ]
     },
     "metadata": {
      "image/png": {
       "height": 420,
       "width": 420
      }
     },
     "output_type": "display_data"
    }
   ],
   "source": [
    "plotMD(fit2, column = 1, status = dt[, 1], main = colnames(fit2)[1],\n",
    "       xlim=c(-8, 13), pch=20, cex=1)\n",
    "abline(h=0)"
   ]
  },
  {
   "cell_type": "markdown",
   "id": "4b65ac5e",
   "metadata": {},
   "source": [
    "We can visualize the adjusted p-value distribution for all gene using a histogram plot:"
   ]
  },
  {
   "cell_type": "code",
   "execution_count": 60,
   "id": "bc2f35c7-0a9e-4d5b-9901-d42dd52b3f5c",
   "metadata": {},
   "outputs": [
    {
     "data": {
      "image/png": "[encoded data removed]",
      "text/plain": [
       "Plot with title \"P-adj value distribution\""
      ]
     },
     "metadata": {
      "image/png": {
       "height": 420,
       "width": 420
      }
     },
     "output_type": "display_data"
    }
   ],
   "source": [
    "# Visualize and quality control test results.\n",
    "# Build histogram of P-values for all genes. \n",
    "#Normal test assumption is that most genes are not differentially expressed.\n",
    "tT2 <- topTable(fit2, adjust = \"fdr\", sort.by = \"B\", number = Inf)\n",
    "hist(tT2$adj.P.Val, col = \"grey\", border = \"white\", xlab = \"P-adj\",\n",
    "     ylab = \"Number of genes\", main = \"P-adj value distribution\")"
   ]
  },
  {
   "cell_type": "markdown",
   "id": "8037f32c-ca98-44b2-abab-c9ea927f38be",
   "metadata": {},
   "source": [
    "Many statistical tests work on the assumption that the data follows a normal distribution. If this assumption is not met, then we must choose a different test that does not require normally distributed data. A Q-Q plot allows researchers to visually assess whether the distribution of the moderated t-statistic follows the normal distribution. In a Q-Q plot for the moderated t-statistic, the expected quantiles of a normal distribution are plotted against the observed quantiles of the moderated t-statistic. If the distribution of moderated t-statistic follows the normal distribution, then the points on the Q-Q plot will fall along a straight line. Deviations from a straight line may indicate departures from normality."
   ]
  },
  {
   "cell_type": "code",
   "execution_count": 61,
   "id": "329e6ca9-f0ca-4ed1-b585-639717e19202",
   "metadata": {},
   "outputs": [
    {
     "data": {
      "image/png": "[encoded data removed]",
      "text/plain": [
       "Plot with title \"Moderated t statistic\""
      ]
     },
     "metadata": {
      "image/png": {
       "height": 420,
       "width": 420
      }
     },
     "output_type": "display_data"
    }
   ],
   "source": [
    "# create Q-Q plot for t-statistic\n",
    "t.good <- which(!is.na(fit2$F)) # filter out bad probes\n",
    "qqt(fit2$t[t.good], fit2$df.total[t.good], main=\"Moderated t statistic\")"
   ]
  },
  {
   "cell_type": "markdown",
   "id": "d005a183",
   "metadata": {},
   "source": [
    "A volcano plot is a special scatterplot that is a common way of visualising the results of a DE analysis. The *x* axis shows the *log-fold* change and the *y* axis is some measure of statistical significance, which in this case is the log-odds, or “B” statistic. A characteristic “volcano” shape should be seen."
   ]
  },
  {
   "cell_type": "code",
   "execution_count": 62,
   "id": "a92ff556-1e27-455d-83f0-755bc70e08d2",
   "metadata": {},
   "outputs": [
    {
     "data": {
      "text/html": [
       "'c-d'"
      ],
      "text/latex": [
       "'c-d'"
      ],
      "text/markdown": [
       "'c-d'"
      ],
      "text/plain": [
       "[1] \"c-d\""
      ]
     },
     "metadata": {},
     "output_type": "display_data"
    },
    {
     "data": {
      "image/png": "[encoded data removed]",
      "text/plain": [
       "Plot with title \"c-d\""
      ]
     },
     "metadata": {
      "image/png": {
       "height": 420,
       "width": 420
      }
     },
     "output_type": "display_data"
    }
   ],
   "source": [
    "# volcano plot (log P-value vs log fold change)\n",
    "dT <- decideTests(fit2, adjust.method = \"fdr\", p.value = 0.05)\n",
    "colnames(fit2) # list contrast names\n",
    "ct <- 1        # choose contrast of interest\n",
    "volcanoplot(fit2, coef = ct, main=colnames(fit2)[ct], pch=20,\n",
    "            highlight=length(which(dT[, ct]!=0)), names=rep('+', nrow(fit2)))\n"
   ]
  },
  {
   "cell_type": "code",
   "execution_count": 63,
   "id": "0d57b5d5-6faa-4466-bdc0-3eb183f3c570",
   "metadata": {},
   "outputs": [
    {
     "data": {
      "text/html": [
       "<iframe src=\"./Quizzes/Quiz_Submodule2.html\" width=100% height=250></iframe>"
      ]
     },
     "metadata": {},
     "output_type": "display_data"
    }
   ],
   "source": [
    "#Run the following command to take the quiz\n",
    "IRdisplay::display_html('<iframe src=\"./Quizzes/Quiz_Submodule2.html\" width=100% height=250></iframe>')"
   ]
  },
  {
   "cell_type": "markdown",
   "id": "9abadd81",
   "metadata": {},
   "source": [
    "The next submodule will show how to identify the pathways that these genes are involved in. \n"
   ]
  },
  {
   "cell_type": "code",
   "execution_count": null,
   "id": "0313705b-ba73-45bb-9758-0ccf6f2900d3",
   "metadata": {},
   "outputs": [],
   "source": [
    "sessionInfo()"
   ]
  },
  {
   "cell_type": "code",
   "execution_count": null,
   "id": "a7cc4437-cc15-4c45-90ed-778eadec7dd1",
   "metadata": {},
   "outputs": [],
   "source": []
  }
 ],
 "metadata": {
  "celltoolbar": "Tags",
  "environment": {
   "kernel": "ir",
   "name": "r-cpu.4-2.m107",
   "type": "gcloud",
   "uri": "gcr.io/deeplearning-platform-release/r-cpu.4-2:m107"
  },
  "kernelspec": {
   "display_name": "R",
   "language": "R",
   "name": "ir"
  },
  "language_info": {
   "codemirror_mode": "r",
   "file_extension": ".r",
   "mimetype": "text/x-r-source",
   "name": "R",
   "pygments_lexer": "r",
   "version": "4.3.2"
  },
  "toc-showcode": true
 },
 "nbformat": 4,
 "nbformat_minor": 5
}
