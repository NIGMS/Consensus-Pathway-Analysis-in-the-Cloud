{
 "cells": [
  {
   "cell_type": "markdown",
   "id": "d3716dad",
   "metadata": {},
   "source": [
    "# Enrichment Analysis\n",
    "\n",
    "Enrichment analysis (EA) is a technique used to derive biological insight from lists of significantly altered genes. The list of genes can be obtained from Differential Expression (DE) analysis or users' interest. The EA methods rely on the knowledge databases (e.g. KEGG and GO) to identify biological pathways or terms that are enriched in a gene list more than would be expected by chance. The outcome of the EA would be the in-depth and contextualized findings to help understand the mechanisms of disease, genes and proteins associated with the etiology of a specific disease or drug target.\n",
    "\n",
    "Over more than a decade, there are over 50 methods have been developed for EA. In this module, we will focus on pathway analysis using three popular methods including Over Representation Analysis (ORA), Fast Gene Set Enrichment Analysis (FGSEA), and Gene Set Analysis (GSA).\n",
    "\n",
    "## Learning Objectives:\n",
    "1. Data preparation\n",
    "2. Perform enrichment analysis using ORA, FGSEA and GSA\n",
    "3. Visualize and interpret the outputs"
   ]
  },
  {
   "cell_type": "code",
   "execution_count": null,
   "id": "37ff2142-8b48-4250-bb3b-b47175b79f9c",
   "metadata": {},
   "outputs": [],
   "source": [
    "IRdisplay::display_html('<iframe src=\"./Quizzes/Quiz_Submodule4-1.html\" width=100% height=250></iframe>')"
   ]
  },
  {
   "cell_type": "markdown",
   "id": "4731471e",
   "metadata": {},
   "source": [
    "## Gene Mapping\n",
    "In this module, we will use the DE genes with statistic generated in the [**submodule 02** ](./Module02-DE_Analysis.ipynb) using `limma` R package. We can use the following command to load DE analysis result."
   ]
  },
  {
   "cell_type": "code",
   "execution_count": null,
   "id": "5c0da12c",
   "metadata": {},
   "outputs": [],
   "source": [
    "DE.df <- readRDS(\"./data/DE_genes.rds\")\n",
    "rownames(DE.df) <- DE.df$PROBEID\n",
    "head(DE.df)"
   ]
  },
  {
   "cell_type": "markdown",
   "id": "722ce8e2",
   "metadata": {},
   "source": [
    "We can see that the genes are saved with probe IDs, we need to convert them into gene symbols so that they can be analyzed using enrichment analysis method later in this module. We will use the same approach presented in the [**submodule 01** ](./Module01-GEO_Data_Processing.ipynb) with `hgu133plus2.db` and `AnnotationDbi` databases."
   ]
  },
  {
   "cell_type": "code",
   "execution_count": null,
   "id": "0cb1e8f5-4142-49e5-89cc-1df2da15e1e7",
   "metadata": {
    "tags": []
   },
   "outputs": [],
   "source": [
    "IRdisplay::display_html('<iframe src=\"./Quizzes/Quiz_Submodule4.html\" width=100% height=250></iframe>')"
   ]
  },
  {
   "cell_type": "code",
   "execution_count": null,
   "id": "84f28dcf",
   "metadata": {},
   "outputs": [],
   "source": [
    "# Load the databases\n",
    "suppressMessages({\n",
    "  library(hgu133plus2.db)\n",
    "  library(AnnotationDbi)\n",
    "})"
   ]
  },
  {
   "cell_type": "markdown",
   "id": "f51c9e14",
   "metadata": {},
   "source": [
    "Then, we can retrieve vector of probe IDs to perform gene symbol mapping using the following command:"
   ]
  },
  {
   "cell_type": "code",
   "execution_count": null,
   "id": "f04cf4fe",
   "metadata": {},
   "outputs": [],
   "source": [
    "probeIDs = DE.df$PROBEID\n",
    "suppressMessages({\n",
    "annotLookup <- AnnotationDbi::select(hgu133plus2.db, keys = probeIDs, columns = c('PROBEID','GENENAME','SYMBOL'))\n",
    "})\n",
    "# View the first few genes in the mapping table\n",
    "head(annotLookup)"
   ]
  },
  {
   "cell_type": "markdown",
   "id": "8ed42b60",
   "metadata": {},
   "source": [
    "Now, we can merge DE data frame with annotation table by the `PROBEID` and remove NA gene symbols using the following command:"
   ]
  },
  {
   "cell_type": "code",
   "execution_count": null,
   "id": "5c5ac1b5",
   "metadata": {},
   "outputs": [],
   "source": [
    "DE.df = merge(annotLookup, DE.df, by=\"PROBEID\")"
   ]
  },
  {
   "cell_type": "code",
   "execution_count": null,
   "id": "3bef4b3d",
   "metadata": {},
   "outputs": [],
   "source": [
    "# Remove NA gene symbol\n",
    "DE.df = DE.df[!is.na(DE.df$SYMBOL),]\n",
    "# Remove duplicated genes\n",
    "DE.df = DE.df[!duplicated(DE.df$SYMBOL,fromLast=FALSE),]\n",
    "head(DE.df)"
   ]
  },
  {
   "cell_type": "markdown",
   "id": "adf678d9",
   "metadata": {},
   "source": [
    "At the result, we obtain the new DE table with two more columns containing gene names and gene symbols. The use of this DE table can be varied based on the selected enrichment analysis tools."
   ]
  },
  {
   "cell_type": "markdown",
   "id": "8538d33d",
   "metadata": {},
   "source": [
    "## Enrichment Analysis Using Over-Representation Analysis\n",
    "Over-representation analysis (ORA) is a statistical method that determines whether genes from pre-defined gene set of a specific GO term or KEGG pathway are presented more than would be expected (over-represented) in a subset of your data. In our learning module, this subset refers to the list of DE gene generated from `limma` method. For each gene set, an enrichment *p-value* is calculated using the Binomial distribution, Hypergeometric distribution, the Fisher exact test, or the Chi-square test.  Hypergeometric distribution is a popular approach used to calculate enrichment p-value. The formula can be presented as follows:"
   ]
  },
  {
   "cell_type": "markdown",
   "id": "eca231f2",
   "metadata": {},
   "source": [
    "$$\n",
    "     P(X\\geq x) = 1 - P(X \\leq x-1) = 1 - \\sum\\limits_{i=0}^{x-1}\\frac{\\hphantom{}{M \\choose i }{N - M \\choose n-i}}{N \\choose n}\n",
    "$$"
   ]
  },
  {
   "cell_type": "markdown",
   "id": "1c18d887",
   "metadata": {},
   "source": [
    "where *N* is the number of background genes (all genes presented in the expression matrix), *n* is the number of “interesting” genes (DE genes), *M* is the number of genes that are annotated to a particular gene set *S* (list of genes in a specific KEGG pathway or GO term), and *x* is the number of “interesting” genes that are annotated to *S* (genes presented in DE genes list and a specific KEGG pathway or GO term)."
   ]
  },
  {
   "cell_type": "markdown",
   "id": "ccade46c",
   "metadata": {},
   "source": [
    "For example, suppose we have an expression matrix with 20,000 genes, of which 500 are differently expressed. Also suppose that 100 of the 20,000 genes are annotated to a particular gene set S. Of these 100 genes, 20 are members of DE genes list. The probability that 20 or more (up to 100) genes annotated to S are in DE genes list by chance is given by"
   ]
  },
  {
   "cell_type": "markdown",
   "id": "ed50cd53",
   "metadata": {},
   "source": [
    "$$\n",
    "P(X\\geq 20) = 1 - P(X \\leq 19) = 1-\\sum \\limits_{i=0}^{19}\\frac{\\hphantom{}{100 \\choose i}{20000 - 100 \\choose 500-i}}{20000 \\choose 500} = 5.26 \\times 10^{-13}\n",
    "$$"
   ]
  },
  {
   "cell_type": "markdown",
   "id": "b2e2d72e",
   "metadata": {},
   "source": [
    "The *p-value* indicates it is very rare to observe 20 of the 100 genes from this set are in the DE genes list by chance."
   ]
  },
  {
   "cell_type": "code",
   "execution_count": null,
   "id": "2b0be768-1749-4752-b31f-bf5818b33be5",
   "metadata": {},
   "outputs": [],
   "source": [
    "IRdisplay::display_html('<iframe src=\"./Quizzes/Quiz_Submodule4-2.html\" width=100% height=250></iframe>')"
   ]
  },
  {
   "cell_type": "markdown",
   "id": "e332d07b",
   "metadata": {},
   "source": [
    "### Data preparation\n",
    "To conduct enrichment analysis using ORA, there are several input data that we need to prepare. First, we need to select a set of genes that\n",
    "are significantly altered (*p-value < 0.05*) in the DE genes generated from `limma` method."
   ]
  },
  {
   "cell_type": "code",
   "execution_count": null,
   "id": "b1b28353",
   "metadata": {},
   "outputs": [],
   "source": [
    "# Selecting a list of significant DE genes\n",
    "DEGenes <- DE.df[DE.df$adj.P.Val <= 0.05,]\n",
    "# Select genes with symbol\n",
    "DEGenes <- DEGenes$SYMBOL"
   ]
  },
  {
   "cell_type": "markdown",
   "id": "f0d9f75f",
   "metadata": {},
   "source": [
    "Next, we need to define a list of background genes. In this analysis, they are all the genes generated from the DE analysis."
   ]
  },
  {
   "cell_type": "code",
   "execution_count": null,
   "id": "303d3696",
   "metadata": {},
   "outputs": [],
   "source": [
    "#Defining background genes\n",
    "backgroundSet <- DE.df$SYMBOL"
   ]
  },
  {
   "cell_type": "markdown",
   "id": "5f19e685",
   "metadata": {},
   "source": [
    "Then, we need to obtain a list of geneset from knowledge databases such as GO and KEGG. In this learning module, the geneset will be retrieved from\n",
    "the *.gmt* files that were processed from the [**submodule 03**](./Module03-Gene_Set_and_Pathway.ipynb). To load the geneset, we will use `gmt2geneset`\n",
    "below:"
   ]
  },
  {
   "cell_type": "code",
   "execution_count": null,
   "id": "d05545e7",
   "metadata": {},
   "outputs": [],
   "source": [
    "# install tidyverse\n",
    "suppressWarnings({\n",
    "  install.packages(\"tidyverse\")\n",
    "})"
   ]
  },
  {
   "cell_type": "code",
   "execution_count": null,
   "id": "79cc3d74",
   "metadata": {},
   "outputs": [],
   "source": [
    "# Loading tidyverse library that provides a function to read the .gmt file\n",
    "suppressMessages({\n",
    "  library(tidyverse)\n",
    "})"
   ]
  },
  {
   "cell_type": "markdown",
   "id": "0042697a",
   "metadata": {},
   "source": [
    "Here, we also write a function to perform over representation analysis based on the hyper-geometric testing formula presented above. The `ORA` method will perform\n",
    "hyper-geometric testing for each geneset obtained from GO or KEGG using the function `phyper` available for `stats` R base package. The output of the `ORA` function is the table that\n",
    "contains a column of terms or pathway names and a column of *p-value*."
   ]
  },
  {
   "cell_type": "code",
   "execution_count": null,
   "id": "38686455",
   "metadata": {},
   "outputs": [],
   "source": [
    "# A customized function to prase a gmt file to a list of genesets\n",
    "gmt2geneset <- function(path){\n",
    "  genesets <- read_tsv(path, col_names = F) %>% apply(MARGIN = 1, function(r){\n",
    "    genes = unique(r[-(1:2)])\n",
    "    list(\n",
    "      id = r[1],\n",
    "      description = r[2],\n",
    "      genes = genes[!is.na(genes)]\n",
    "    )\n",
    "  })\n",
    "\n",
    "  gs <- lapply(genesets, function(g) g$genes %>% as.character())\n",
    "  names(gs) <- lapply(genesets, function(g) g$description)\n",
    "  gs\n",
    "}"
   ]
  },
  {
   "cell_type": "code",
   "execution_count": null,
   "id": "d809f4b3",
   "metadata": {},
   "outputs": [],
   "source": [
    "ORA <- function(geneset,DEGenes,backgroundSet,DE.df){\n",
    "    res <- sapply(geneset, function(gs){\n",
    "    wBallDraw <- intersect(gs, DEGenes) %>%  length() - 1\n",
    "    if (wBallDraw < 0) return(1)\n",
    "    wBall <- length(DEGenes)\n",
    "    bBall <- nrow(DE.df) - length(DEGenes)\n",
    "    ballDraw <- length(intersect(gs, backgroundSet))\n",
    "    1 - phyper(wBallDraw, wBall, bBall, ballDraw)\n",
    "  })\n",
    "  res\n",
    "}"
   ]
  },
  {
   "cell_type": "markdown",
   "id": "dedfa2a3",
   "metadata": {},
   "source": [
    "### Enrichment analysis using ORA and GO terms\n",
    "In this section, we will perform ORA using genesets obtained from the GO database and the function `ORA` defined above. The detailed code is presented below:"
   ]
  },
  {
   "cell_type": "code",
   "execution_count": null,
   "id": "975e07c7",
   "metadata": {},
   "outputs": [],
   "source": [
    "# Loading geneset from GO database\n",
    "suppressWarnings({suppressMessages({geneset <- gmt2geneset(\"./data/GO_terms.gmt\")})})\n",
    "# Perform ORA\n",
    "res.ORA <- ORA(geneset,DEGenes,backgroundSet,DE.df)\n",
    "# Save the result to a table where the first column is GO term name and the second column is the p-value\n",
    "res.df <- data.frame(\n",
    "  GOterms = names(res.ORA),\n",
    "  pvalue = res.ORA\n",
    ")\n",
    "# Order the table based on the p-value\n",
    "res.df <- res.df[order(res.df$pvalue),]\n",
    "# View the most significant GO terms\n",
    "head(res.df)"
   ]
  },
  {
   "cell_type": "markdown",
   "id": "ae0d8278",
   "metadata": {},
   "source": [
    "From the result table we might conclude that the pathways shown are key components of the disease in study."
   ]
  },
  {
   "cell_type": "markdown",
   "id": "cfa3dbd7",
   "metadata": {},
   "source": [
    "### Enrichment analysis using ORA and KEGG pathways"
   ]
  },
  {
   "cell_type": "markdown",
   "id": "69dc9176-9f21-4198-8873-c391fd58b1d2",
   "metadata": {},
   "source": [
    "We will performing the same steps as we did above for the GO terms."
   ]
  },
  {
   "cell_type": "code",
   "execution_count": null,
   "id": "7c31dbde",
   "metadata": {},
   "outputs": [],
   "source": [
    "# Loading the KEGG pathways\n",
    "suppressWarnings({suppressMessages({geneset <- gmt2geneset(\"./data/KEGG_pathways.gmt\")})})"
   ]
  },
  {
   "cell_type": "code",
   "execution_count": null,
   "id": "ee2d6ff9",
   "metadata": {},
   "outputs": [],
   "source": [
    "# Perform Hyper-geometric testing\n",
    "res.ORA <- ORA(geneset,DEGenes,backgroundSet,DE.df)\n",
    "# Save the results to a data frame\n",
    "res.df <- data.frame(\n",
    "  pathways = names(res.ORA ),\n",
    "  pvalue = res.ORA\n",
    ")\n",
    "\n",
    "res.df <- res.df[order(res.df$pvalue),]\n",
    "head(res.df)"
   ]
  },
  {
   "cell_type": "markdown",
   "id": "9aa0e1c7",
   "metadata": {},
   "source": [
    "## Enrichment Analysis using FGSEA"
   ]
  },
  {
   "cell_type": "markdown",
   "id": "47b46d66",
   "metadata": {},
   "source": [
    "This submodule describes `FGSEA`, one of the methods for evaluating pathway enrichment in transcriptional data and it stands for Fast preranked Gene Set Enrichment Analysis (GSEA). `FGSEA` quickly calculates arbitrarily low GSEA P-values for a collection of gene sets and is based on an algorithm that allows  it to make more permutations and get accurate *p-values*.\n",
    "It extends the GSEA algorithm which calculates the enrichment score (the degree to which a set S is over-represented at the top or bottom of the ranked list L), estimates the p-value of the Enrichment Score using a permutation test and adjusts the estimated significance level to account for multiple hypotheses in addition to calculating the q-values for FDR control. Typically, GSEA requires inputs of a list of gene sets (GO term or pathway with a set of genes), a vector DE genes with statistic. In addition, user can limit the number of terms or pathways of interest by adjusting `minSize` and `maxSize` parameters. The code to install and load FGSEA R package is shown below:"
   ]
  },
  {
   "cell_type": "code",
   "execution_count": null,
   "id": "b9702a89",
   "metadata": {},
   "outputs": [],
   "source": [
    "# To perform enrichment analysis using FGSEA, we first install the fgsea package\n",
    "suppressMessages({if (!require(\"BiocManager\", quietly = TRUE))\n",
    "        install.packages(\"BiocManager\")\n",
    "  suppressWarnings(BiocManager::install(\"fgsea\", update = F))\n",
    "})"
   ]
  },
  {
   "cell_type": "code",
   "execution_count": null,
   "id": "52f7aae1-0bd8-4ff4-86f2-041eb6e41db4",
   "metadata": {},
   "outputs": [],
   "source": [
    "# Loading the package\n",
    "suppressPackageStartupMessages({\n",
    "  library(\"fgsea\")\n",
    "})"
   ]
  },
  {
   "cell_type": "code",
   "execution_count": null,
   "id": "cdb41931-b689-4fb9-9c5d-0e1c443bfe00",
   "metadata": {},
   "outputs": [],
   "source": [
    "#Run the following command to take the quiz\n",
    "IRdisplay::display_html('<iframe src=\"./Quizzes/Quiz_Submodule4-3.html\" width=100% height=250></iframe>')"
   ]
  },
  {
   "cell_type": "markdown",
   "id": "fb6f9407",
   "metadata": {},
   "source": [
    "Next, we need to prepare a vector of DE genes with its statistic."
   ]
  },
  {
   "cell_type": "code",
   "execution_count": null,
   "id": "38d25313",
   "metadata": {},
   "outputs": [],
   "source": [
    "# Get the gene list and their statistic from DE results\n",
    "stats = DE.df$adj.P.Val\n",
    "names(stats) = DE.df$SYMBOL\n",
    "head(stats)"
   ]
  },
  {
   "cell_type": "markdown",
   "id": "9950a6f6",
   "metadata": {},
   "source": [
    "### Enrichment analysis using FGSEA and GO terms"
   ]
  },
  {
   "cell_type": "markdown",
   "id": "c5093c0c",
   "metadata": {},
   "source": [
    "The package `fgsea` has its own function named `gmtPathways` to load the genesets from the `gmt` file. It is recommended to use this function for compatibility. We can load GO terms geneset and view the first five GO terms with associated genes using the following command:"
   ]
  },
  {
   "cell_type": "code",
   "execution_count": null,
   "id": "b2d3d20a",
   "metadata": {},
   "outputs": [],
   "source": [
    "# Load the pathways into a named list\n",
    "GO_term_hallmark <- gmtPathways(\"./data/GO_terms.gmt\")\n",
    "# Show the first few GO terms, and within those, show only the first few genes.\n",
    "tmp = lapply(GO_term_hallmark,head)\n",
    "tmp[1:5]"
   ]
  },
  {
   "cell_type": "markdown",
   "id": "d06027d9",
   "metadata": {},
   "source": [
    "Running the FGSEA can be done by calling the `fgsea` with two required inputs that we created from the two previous steps."
   ]
  },
  {
   "cell_type": "code",
   "execution_count": null,
   "id": "6efd9f83",
   "metadata": {},
   "outputs": [],
   "source": [
    "# Running fgsea\n",
    "suppressWarnings(fgseaRes <- fgsea(pathways = GO_term_hallmark,\n",
    "                  stats    = stats\n",
    "                  ))"
   ]
  },
  {
   "cell_type": "markdown",
   "id": "ad26fa54",
   "metadata": {},
   "source": [
    "The output of the FGSEA method is a table where rows are GO terms IDs or pathway IDs. The columns are *p-values*, *adjusted p-values*, *Enrichment Score*, etc."
   ]
  },
  {
   "cell_type": "code",
   "execution_count": null,
   "id": "f90ac106",
   "metadata": {},
   "outputs": [],
   "source": [
    "head(fgseaRes[order(pval), ][,-8])"
   ]
  },
  {
   "cell_type": "markdown",
   "id": "c7866448",
   "metadata": {},
   "source": [
    "From the result table, we can select top five up regulated GO terms and top five down regulated GO terms. Then we can plot them using the built-in function `plotGseaTable`"
   ]
  },
  {
   "cell_type": "code",
   "execution_count": null,
   "id": "f1b4ed14",
   "metadata": {},
   "outputs": [],
   "source": [
    "topGOUp <- fgseaRes[ES > 0][head(order(pval), n=5), pathway]\n",
    "topGODown <- fgseaRes[ES < 0][head(order(pval), n=5), pathway]\n",
    "topGO <- c(topGOUp, rev(topGODown))\n",
    "plotGseaTable(GO_term_hallmark[topGO], stats, fgseaRes,\n",
    "              gseaParam=0.5)"
   ]
  },
  {
   "cell_type": "markdown",
   "id": "1ef50627",
   "metadata": {},
   "source": [
    "### Enrichment analysis using FGSEA and KEGG pathways\n",
    "We can perform enrichment analysis using FGSEA with KEGG pathway using the same procedure mentioned above. The only thing we need to change is the\n",
    "list of geneset that available in KEGG database."
   ]
  },
  {
   "cell_type": "code",
   "execution_count": null,
   "id": "93b11008",
   "metadata": {},
   "outputs": [],
   "source": [
    "# Load the pathways into a named list\n",
    "KEGG_hallmark <- gmtPathways(\"./data/KEGG_pathways.gmt\")\n",
    "# Show the first few GO terms, and within those, show only the first few genes.\n",
    "tmp = lapply(KEGG_hallmark,head)\n",
    "tmp[1:5]"
   ]
  },
  {
   "cell_type": "code",
   "execution_count": null,
   "id": "9eb1ede2",
   "metadata": {},
   "outputs": [],
   "source": [
    "# Running fgsea\n",
    "suppressWarnings(fgseaRes <- fgsea(pathways = KEGG_hallmark,\n",
    "                  stats    = stats))"
   ]
  },
  {
   "cell_type": "code",
   "execution_count": null,
   "id": "cbe55bb6",
   "metadata": {},
   "outputs": [],
   "source": [
    "head(fgseaRes[order(pval), ][,-8])"
   ]
  },
  {
   "cell_type": "code",
   "execution_count": null,
   "id": "a63408eb",
   "metadata": {},
   "outputs": [],
   "source": [
    "topPathwaysUp <- fgseaRes[ES > 0][head(order(pval), n=5), pathway]\n",
    "topPathwaysDown <- fgseaRes[ES < 0][head(order(pval), n=5), pathway]\n",
    "topPathways <- c(topPathwaysUp, rev(topPathwaysDown))\n",
    "#Viewing the 5 most significantly up-regulated and down-regulated pathways each with the FGSEA internal plot function\n",
    "plotGseaTable(KEGG_hallmark[topPathways], stats, fgseaRes,\n",
    "              gseaParam=0.5)"
   ]
  },
  {
   "cell_type": "markdown",
   "id": "181989b1",
   "metadata": {},
   "source": [
    "## Gene Set Enrichment Analysis using GSA"
   ]
  },
  {
   "cell_type": "markdown",
   "id": "c2f471b1",
   "metadata": {},
   "source": [
    "Gene Set Analysis (GSA), an Enrichment Analysis, is a method that is commonly used to summarize high-dimensional gene expression data sets into sets according to its biological relevance. GSA takes the ranked gene lists from the initial stage of a gene expression analysis and aggregates the genes into sets based on shared biological or functional properties as specified by a reference knowledge base. Such databases often contain phenotype associations, molecular interactions and regulation and are referenced in the analysis of the resultant gene sets to find the relevance of the gene properties to the phenotype of interest."
   ]
  },
  {
   "cell_type": "code",
   "execution_count": null,
   "id": "443e636c-265e-4829-85f3-1999eeff4385",
   "metadata": {},
   "outputs": [],
   "source": [
    "#Run the following command to take the quiz\n",
    "IRdisplay::display_html('<iframe src=\"./Quizzes/Quiz_Submodule4-4.html\" width=100% height=250></iframe>')"
   ]
  },
  {
   "cell_type": "markdown",
   "id": "0f0c9233",
   "metadata": {},
   "source": [
    "### Data preparation\n",
    "The GSA method is freely available as standalone package in CRAN repository. We can use the following code to install the package."
   ]
  },
  {
   "cell_type": "code",
   "execution_count": null,
   "id": "c3efb930",
   "metadata": {},
   "outputs": [],
   "source": [
    "# Install GSA from CRAN\n",
    "suppressMessages({if (!require(\"GSA\"))\n",
    "        suppressWarnings(install.packages(\"GSA\"))\n",
    "})"
   ]
  },
  {
   "cell_type": "code",
   "execution_count": null,
   "id": "ee423bc8-1c31-46b5-8955-5d89f6f1a745",
   "metadata": {},
   "outputs": [],
   "source": [
    "suppressMessages({\n",
    "  library(GSA)\n",
    "})"
   ]
  },
  {
   "cell_type": "markdown",
   "id": "e4a2ed98",
   "metadata": {},
   "source": [
    "The GSA method require an expression matrix, a numeric vector containing class of each sample and a vector of genes the inputs. We can easily get those inputs by load the data that we processed in the [**Module 01** ](./Module01-GEO_Data_Processing.ipynb)."
   ]
  },
  {
   "cell_type": "code",
   "execution_count": null,
   "id": "3982c128",
   "metadata": {},
   "outputs": [],
   "source": [
    "# Loading expression data with groups\n",
    "data <- readRDS(\"./data/GSE48350.rds\")\n",
    "expression_data <- data$expression_data\n",
    "norm_expression_data <- data$norm_expression_data\n",
    "groups <- data$groups"
   ]
  },
  {
   "cell_type": "markdown",
   "id": "ad173974",
   "metadata": {},
   "source": [
    "We can also use the sample approach available in the [**Module 01** ](./Module01-GEO_Data_Processing.ipynb) to map the probe IDs to gene symbols. The step-by-step coding instruction is shown below:"
   ]
  },
  {
   "cell_type": "code",
   "execution_count": null,
   "id": "e0d1acf4",
   "metadata": {},
   "outputs": [],
   "source": [
    "# Get the probe IDs\n",
    "expression_data$PROBEID <- rownames(expression_data)\n",
    "probeIDs <- rownames(expression_data)\n",
    "# Perform gene mapping\n",
    "suppressMessages({\n",
    "  annotLookup <- AnnotationDbi::select(hgu133plus2.db, keys = probeIDs, columns = c('PROBEID', 'GENENAME', 'SYMBOL'))\n",
    "})\n",
    "# Merge DE result  data frame with annotation table\n",
    "new_expression_data = merge(annotLookup, expression_data, by=\"PROBEID\")\n",
    "# Remove NA value\n",
    "new_expression_data <- new_expression_data[!is.na(new_expression_data$SYMBOL),]\n",
    "# Remove duplicated genes symbol\n",
    "new_expression_data <-  new_expression_data[!duplicated(new_expression_data$SYMBOL,fromLast=FALSE),]\n",
    "rownames(new_expression_data) <- new_expression_data$SYMBOL\n",
    "# Drop PROBEID, GENENAME, and SYMBOL columns\n",
    "new_expression_data <- new_expression_data[,-c(1:3)]\n",
    "genenames= rownames(new_expression_data)"
   ]
  },
  {
   "cell_type": "markdown",
   "id": "f8acf4f4",
   "metadata": {},
   "source": [
    "### GSA Enrichment Analysis using GO Terms\n",
    "Using data obtained from the previous step, we can run the GSA method by calling the function `GSA`. We can reuse `GO_term_hallmark` and `KEGG_hallmark` loaded in FGSEA to perform analysis. The code details are shown below:"
   ]
  },
  {
   "cell_type": "markdown",
   "id": "0648ecb6-f0ec-41aa-b3e6-e812ba18d85c",
   "metadata": {},
   "source": [
    "<div class=\"alert alert-block alert-danger\">\n",
    "    <i class=\"fa fa-exclamation-circle\" aria-hidden=\"true\"></i>\n",
    "    <b>Alert: </b>  Please note that the outputs generated from GSA can be varied depending on R environments and software versions. Especially, when the users run the scripts using User-managed Notebooks instances which have a preinstalled suite of packages.\n",
    "</div>"
   ]
  },
  {
   "cell_type": "code",
   "execution_count": null,
   "id": "e026aa03",
   "metadata": {},
   "outputs": [],
   "source": [
    "# Getting \n",
    "genesets = GO_term_hallmark\n",
    "GSA.obj<-GSA(as.matrix(new_expression_data),as.numeric(groups$groups), genenames=genenames, genesets=genesets, resp.type=\"Two class unpaired\",nperms=100,random.seed=1)"
   ]
  },
  {
   "cell_type": "code",
   "execution_count": null,
   "id": "ebba9b67",
   "metadata": {},
   "outputs": [],
   "source": [
    "# List the results from a GSA analysis\n",
    "res <- GSA.listsets(GSA.obj, geneset.names=names(genesets),FDRcut=.5)"
   ]
  },
  {
   "cell_type": "markdown",
   "id": "df55e53c",
   "metadata": {},
   "source": [
    "A table of the negative gene sets. “Negative” means that lower expression of most genes in the gene set correlates with higher values of the phenotype y. E.g., for two classes coded 1,2, lower expression correlates with class 2."
   ]
  },
  {
   "cell_type": "code",
   "execution_count": null,
   "id": "ae97649e",
   "metadata": {},
   "outputs": [],
   "source": [
    "neg.table <-res$negative\n",
    "head(neg.table)"
   ]
  },
  {
   "cell_type": "markdown",
   "id": "c237dea8",
   "metadata": {},
   "source": [
    "A table of the positive gene sets. \"Positive\" means that higher expression of most genes in the gene set correlates with higher values of the phenotype y."
   ]
  },
  {
   "cell_type": "code",
   "execution_count": null,
   "id": "e640ff47",
   "metadata": {},
   "outputs": [],
   "source": [
    "pos.table <-res$positive\n",
    "head(pos.table)"
   ]
  },
  {
   "cell_type": "code",
   "execution_count": null,
   "id": "79687f5d",
   "metadata": {
    "scrolled": true,
    "tags": []
   },
   "outputs": [],
   "source": [
    "# Individual gene scores from a gene set analysis\n",
    "# look at 10th gene set\n",
    "GSA.genescores(10, genesets, GSA.obj, genenames)"
   ]
  },
  {
   "cell_type": "code",
   "execution_count": null,
   "id": "1cfde1f8",
   "metadata": {},
   "outputs": [],
   "source": [
    "# Plot the result, this function makes a plot of the significant gene sets, based on a call to the GSA (Gene set analysis) function.\n",
    "suppressWarnings(GSA.plot(GSA.obj, fac=1, FDRcut = 0.5))"
   ]
  },
  {
   "cell_type": "markdown",
   "id": "7107ef92",
   "metadata": {},
   "source": [
    "### GSA Enrichment analysis using KEGG pathways\n",
    "We can use the same procedure to per enrichment analysis with KEGG pathway. All the codes are similar but `genesets` are assigned from `KEGG_hallmark`. The code is shown below."
   ]
  },
  {
   "cell_type": "code",
   "execution_count": null,
   "id": "361aff0b",
   "metadata": {},
   "outputs": [],
   "source": [
    "genesets = KEGG_hallmark\n",
    "GSA.obj<-GSA(as.matrix(new_expression_data),as.numeric(groups$groups), genenames=genenames, genesets=genesets, resp.type=\"Two class unpaired\", nperms=100, random.seed=1)"
   ]
  },
  {
   "cell_type": "code",
   "execution_count": null,
   "id": "00afb710",
   "metadata": {},
   "outputs": [],
   "source": [
    "# List the results from a GSA analysis\n",
    "res <- GSA.listsets(GSA.obj, geneset.names=names(genesets),FDRcut=.5)"
   ]
  },
  {
   "cell_type": "markdown",
   "id": "e15cdae3",
   "metadata": {},
   "source": [
    "A table of the negative gene sets. \"Negative\" means that lower expression of most genes in the gene set correlates with higher values of the phenotype y. E.g., for two classes coded 1,2, lower expression correlates with class 2."
   ]
  },
  {
   "cell_type": "code",
   "execution_count": null,
   "id": "c9e7aad4",
   "metadata": {},
   "outputs": [],
   "source": [
    "neg.table <-res$negative\n",
    "head(neg.table)"
   ]
  },
  {
   "cell_type": "markdown",
   "id": "e226ae92",
   "metadata": {},
   "source": [
    "A table of the positive gene sets. \"Positive\" means that higher expression of most genes in the gene set correlates with higher values of the phenotype y. See \"negative\" above for more info."
   ]
  },
  {
   "cell_type": "code",
   "execution_count": null,
   "id": "bcd7ff3e",
   "metadata": {},
   "outputs": [],
   "source": [
    "pos.table <-res$positive\n",
    "head(pos.table)"
   ]
  },
  {
   "cell_type": "code",
   "execution_count": null,
   "id": "0d676c13",
   "metadata": {
    "scrolled": true,
    "tags": []
   },
   "outputs": [],
   "source": [
    "# Individual gene scores from a gene set analysis\n",
    "# look at 10th gene set\n",
    "GSA.genescores(10, genesets, GSA.obj, genenames)"
   ]
  },
  {
   "cell_type": "code",
   "execution_count": null,
   "id": "2284bc1f",
   "metadata": {},
   "outputs": [],
   "source": [
    "# Plot the result, this function makes a plot of the significant gene sets, based on a call to the GSA (Gene set analysis) function.\n",
    "suppressWarnings(GSA.plot(GSA.obj, fac=1, FDRcut = 0.5))\n"
   ]
  },
  {
   "cell_type": "markdown",
   "id": "49fd3929-7d2e-401d-93c6-24572bec35f6",
   "metadata": {},
   "source": [
    "The next submodule will go indepth about meta analysis."
   ]
  },
  {
   "cell_type": "code",
   "execution_count": null,
   "id": "e870e8eb-ee47-439b-8154-0a720927bd79",
   "metadata": {},
   "outputs": [],
   "source": [
    "sessionInfo()"
   ]
  },
  {
   "cell_type": "code",
   "execution_count": null,
   "id": "ca1ba4ed-3e1c-4d5a-8554-40703527a4d5",
   "metadata": {},
   "outputs": [],
   "source": []
  }
 ],
 "metadata": {
  "celltoolbar": "Tags",
  "environment": {
   "kernel": "ir",
   "name": "r-cpu.4-2.m107",
   "type": "gcloud",
   "uri": "gcr.io/deeplearning-platform-release/r-cpu.4-2:m107"
  },
  "kernelspec": {
   "display_name": "R",
   "language": "R",
   "name": "ir"
  },
  "language_info": {
   "codemirror_mode": "r",
   "file_extension": ".r",
   "mimetype": "text/x-r-source",
   "name": "R",
   "pygments_lexer": "r",
   "version": "4.2.3"
  },
  "toc-showcode": true,
  "widgets": {
   "application/vnd.jupyter.widget-state+json": {
    "state": {},
    "version_major": 2,
    "version_minor": 0
   }
  }
 },
 "nbformat": 4,
 "nbformat_minor": 5
}
