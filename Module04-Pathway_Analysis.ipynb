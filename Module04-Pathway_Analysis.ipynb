{
 "cells": [
  {
   "cell_type": "markdown",
   "id": "d3716dad",
   "metadata": {},
   "source": [
    "# Enrichment Analysis\n",
    "\n",
    "Enrichment analysis (EA) is a technique used to derive biological insight from lists of significantly altered genes. The list of genes can be obtained from Differential Expression (DE) analysis or users' interest. The EA methods rely on the knowledge databases (e.g. KEGG and GO) to identify biological pathways or terms that are enriched in a gene list more than would be expected by chance. The outcome of the EA would be the in-depth and contextualized findings to help understand the mechanisms of disease, genes and proteins associated with the etiology of a specific disease or drug target.\n",
    "\n",
    "Over more than a decade, there are over 50 methods have been developed for EA. In this module, we will focus on pathway analysis using three popular methods including Over Representation Analysis (ORA), Fast Gene Set Enrichment Analysis (FGSEA), and Gene Set Analysis (GSA).\n",
    "\n",
    "## Learning Objectives:\n",
    "1. Data preparation\n",
    "2. Perform enrichment analysis using ORA, FGSEA and GSA\n",
    "3. Visualize and interpret the outputs"
   ]
  },
  {
   "cell_type": "code",
   "execution_count": 1,
   "id": "37ff2142-8b48-4250-bb3b-b47175b79f9c",
   "metadata": {},
   "outputs": [
    {
     "data": {
      "text/html": [
       "<iframe src=\"./Quizzes/Quiz_Submodule4-1.html\" width=100% height=250></iframe>"
      ]
     },
     "metadata": {},
     "output_type": "display_data"
    }
   ],
   "source": [
    "IRdisplay::display_html('<iframe src=\"./Quizzes/Quiz_Submodule4-1.html\" width=100% height=250></iframe>')"
   ]
  },
  {
   "cell_type": "markdown",
   "id": "4731471e",
   "metadata": {},
   "source": [
    "## Gene Mapping\n",
    "In this module, we will use the DE genes with statistic generated in the [**submodule 02** ](./Module02-DE_Analysis.ipynb) using `limma` R package. We can use the following command to load the DE analysis result."
   ]
  },
  {
   "cell_type": "code",
   "execution_count": 2,
   "id": "5c0da12c",
   "metadata": {},
   "outputs": [
    {
     "data": {
      "text/html": [
       "<table class=\"dataframe\">\n",
       "<caption>A data.frame: 6 × 7</caption>\n",
       "<thead>\n",
       "\t<tr><th></th><th scope=col>PROBEID</th><th scope=col>logFC</th><th scope=col>AveExpr</th><th scope=col>t</th><th scope=col>P.Value</th><th scope=col>adj.P.Val</th><th scope=col>B</th></tr>\n",
       "\t<tr><th></th><th scope=col>&lt;chr&gt;</th><th scope=col>&lt;dbl&gt;</th><th scope=col>&lt;dbl&gt;</th><th scope=col>&lt;dbl&gt;</th><th scope=col>&lt;dbl&gt;</th><th scope=col>&lt;dbl&gt;</th><th scope=col>&lt;dbl&gt;</th></tr>\n",
       "</thead>\n",
       "<tbody>\n",
       "\t<tr><th scope=row>222178_s_at</th><td>222178_s_at</td><td>-0.4473780</td><td>0.3653633</td><td>-73.01106</td><td>4.019112e-55</td><td>2.197450e-50</td><td>81.05538</td></tr>\n",
       "\t<tr><th scope=row>224687_at</th><td>224687_at  </td><td>-4.1431631</td><td>2.2572347</td><td>-48.92036</td><td>5.489424e-46</td><td>1.500671e-41</td><td>74.18354</td></tr>\n",
       "\t<tr><th scope=row>207488_at</th><td>207488_at  </td><td>-0.4017530</td><td>0.6243144</td><td>-39.29933</td><td>4.735684e-41</td><td>8.630785e-37</td><td>68.83493</td></tr>\n",
       "\t<tr><th scope=row>239226_at</th><td>239226_at  </td><td> 0.4483302</td><td>1.3245501</td><td> 28.36499</td><td>7.626558e-34</td><td>1.042455e-29</td><td>58.84908</td></tr>\n",
       "\t<tr><th scope=row>234109_x_at</th><td>234109_x_at</td><td>-0.2289726</td><td>0.7508256</td><td>-27.67010</td><td>2.635337e-33</td><td>2.881741e-29</td><td>58.00438</td></tr>\n",
       "\t<tr><th scope=row>212833_at</th><td>212833_at  </td><td>-2.5976592</td><td>1.7308944</td><td>-24.01172</td><td>2.914912e-30</td><td>2.656213e-26</td><td>52.99567</td></tr>\n",
       "</tbody>\n",
       "</table>\n"
      ],
      "text/latex": [
       "A data.frame: 6 × 7\n",
       "\\begin{tabular}{r|lllllll}\n",
       "  & PROBEID & logFC & AveExpr & t & P.Value & adj.P.Val & B\\\\\n",
       "  & <chr> & <dbl> & <dbl> & <dbl> & <dbl> & <dbl> & <dbl>\\\\\n",
       "\\hline\n",
       "\t222178\\_s\\_at & 222178\\_s\\_at & -0.4473780 & 0.3653633 & -73.01106 & 4.019112e-55 & 2.197450e-50 & 81.05538\\\\\n",
       "\t224687\\_at & 224687\\_at   & -4.1431631 & 2.2572347 & -48.92036 & 5.489424e-46 & 1.500671e-41 & 74.18354\\\\\n",
       "\t207488\\_at & 207488\\_at   & -0.4017530 & 0.6243144 & -39.29933 & 4.735684e-41 & 8.630785e-37 & 68.83493\\\\\n",
       "\t239226\\_at & 239226\\_at   &  0.4483302 & 1.3245501 &  28.36499 & 7.626558e-34 & 1.042455e-29 & 58.84908\\\\\n",
       "\t234109\\_x\\_at & 234109\\_x\\_at & -0.2289726 & 0.7508256 & -27.67010 & 2.635337e-33 & 2.881741e-29 & 58.00438\\\\\n",
       "\t212833\\_at & 212833\\_at   & -2.5976592 & 1.7308944 & -24.01172 & 2.914912e-30 & 2.656213e-26 & 52.99567\\\\\n",
       "\\end{tabular}\n"
      ],
      "text/markdown": [
       "\n",
       "A data.frame: 6 × 7\n",
       "\n",
       "| <!--/--> | PROBEID &lt;chr&gt; | logFC &lt;dbl&gt; | AveExpr &lt;dbl&gt; | t &lt;dbl&gt; | P.Value &lt;dbl&gt; | adj.P.Val &lt;dbl&gt; | B &lt;dbl&gt; |\n",
       "|---|---|---|---|---|---|---|---|\n",
       "| 222178_s_at | 222178_s_at | -0.4473780 | 0.3653633 | -73.01106 | 4.019112e-55 | 2.197450e-50 | 81.05538 |\n",
       "| 224687_at | 224687_at   | -4.1431631 | 2.2572347 | -48.92036 | 5.489424e-46 | 1.500671e-41 | 74.18354 |\n",
       "| 207488_at | 207488_at   | -0.4017530 | 0.6243144 | -39.29933 | 4.735684e-41 | 8.630785e-37 | 68.83493 |\n",
       "| 239226_at | 239226_at   |  0.4483302 | 1.3245501 |  28.36499 | 7.626558e-34 | 1.042455e-29 | 58.84908 |\n",
       "| 234109_x_at | 234109_x_at | -0.2289726 | 0.7508256 | -27.67010 | 2.635337e-33 | 2.881741e-29 | 58.00438 |\n",
       "| 212833_at | 212833_at   | -2.5976592 | 1.7308944 | -24.01172 | 2.914912e-30 | 2.656213e-26 | 52.99567 |\n",
       "\n"
      ],
      "text/plain": [
       "            PROBEID     logFC      AveExpr   t         P.Value     \n",
       "222178_s_at 222178_s_at -0.4473780 0.3653633 -73.01106 4.019112e-55\n",
       "224687_at   224687_at   -4.1431631 2.2572347 -48.92036 5.489424e-46\n",
       "207488_at   207488_at   -0.4017530 0.6243144 -39.29933 4.735684e-41\n",
       "239226_at   239226_at    0.4483302 1.3245501  28.36499 7.626558e-34\n",
       "234109_x_at 234109_x_at -0.2289726 0.7508256 -27.67010 2.635337e-33\n",
       "212833_at   212833_at   -2.5976592 1.7308944 -24.01172 2.914912e-30\n",
       "            adj.P.Val    B       \n",
       "222178_s_at 2.197450e-50 81.05538\n",
       "224687_at   1.500671e-41 74.18354\n",
       "207488_at   8.630785e-37 68.83493\n",
       "239226_at   1.042455e-29 58.84908\n",
       "234109_x_at 2.881741e-29 58.00438\n",
       "212833_at   2.656213e-26 52.99567"
      ]
     },
     "metadata": {},
     "output_type": "display_data"
    }
   ],
   "source": [
    "# Load previously saved data\n",
    "DE.df <- readRDS(\"./data/DE_genes.rds\")\n",
    "rownames(DE.df) <- DE.df$PROBEID\n",
    "head(DE.df)"
   ]
  },
  {
   "cell_type": "markdown",
   "id": "722ce8e2",
   "metadata": {},
   "source": [
    "We can see that the genes are saved with probe IDs, we need to convert them into gene symbols so that they can be analyzed using the enrichment analysis method later in this module. We will use the same approach presented in the [**submodule 01** ](./Module01-GEO_Data_Processing.ipynb) with `hgu133plus2.db` and `AnnotationDbi` databases."
   ]
  },
  {
   "cell_type": "code",
   "execution_count": 3,
   "id": "0cb1e8f5-4142-49e5-89cc-1df2da15e1e7",
   "metadata": {
    "tags": []
   },
   "outputs": [
    {
     "data": {
      "text/html": [
       "<iframe src=\"./Quizzes/Quiz_Submodule4.html\" width=100% height=250></iframe>"
      ]
     },
     "metadata": {},
     "output_type": "display_data"
    }
   ],
   "source": [
    "IRdisplay::display_html('<iframe src=\"./Quizzes/Quiz_Submodule4.html\" width=100% height=250></iframe>')"
   ]
  },
  {
   "cell_type": "code",
   "execution_count": 4,
   "id": "84f28dcf",
   "metadata": {},
   "outputs": [],
   "source": [
    "# Load the databases\n",
    "suppressMessages({\n",
    "  library(hgu133plus2.db)\n",
    "  library(AnnotationDbi)\n",
    "})"
   ]
  },
  {
   "cell_type": "markdown",
   "id": "f51c9e14",
   "metadata": {},
   "source": [
    "Then, we can retrieve vector of probe IDs to perform gene symbol mapping using the following command:"
   ]
  },
  {
   "cell_type": "code",
   "execution_count": 5,
   "id": "f04cf4fe",
   "metadata": {},
   "outputs": [
    {
     "data": {
      "text/html": [
       "<table class=\"dataframe\">\n",
       "<caption>A data.frame: 6 × 3</caption>\n",
       "<thead>\n",
       "\t<tr><th></th><th scope=col>PROBEID</th><th scope=col>GENENAME</th><th scope=col>SYMBOL</th></tr>\n",
       "\t<tr><th></th><th scope=col>&lt;chr&gt;</th><th scope=col>&lt;chr&gt;</th><th scope=col>&lt;chr&gt;</th></tr>\n",
       "</thead>\n",
       "<tbody>\n",
       "\t<tr><th scope=row>1</th><td>222178_s_at</td><td>NA                                        </td><td>NA      </td></tr>\n",
       "\t<tr><th scope=row>2</th><td>224687_at  </td><td>ankyrin repeat and IBR domain containing 1</td><td>ANKIB1  </td></tr>\n",
       "\t<tr><th scope=row>3</th><td>207488_at  </td><td>NA                                        </td><td>NA      </td></tr>\n",
       "\t<tr><th scope=row>4</th><td>239226_at  </td><td>NA                                        </td><td>NA      </td></tr>\n",
       "\t<tr><th scope=row>5</th><td>234109_x_at</td><td>one cut homeobox 3                        </td><td>ONECUT3 </td></tr>\n",
       "\t<tr><th scope=row>6</th><td>212833_at  </td><td>solute carrier family 25 member 46        </td><td>SLC25A46</td></tr>\n",
       "</tbody>\n",
       "</table>\n"
      ],
      "text/latex": [
       "A data.frame: 6 × 3\n",
       "\\begin{tabular}{r|lll}\n",
       "  & PROBEID & GENENAME & SYMBOL\\\\\n",
       "  & <chr> & <chr> & <chr>\\\\\n",
       "\\hline\n",
       "\t1 & 222178\\_s\\_at & NA                                         & NA      \\\\\n",
       "\t2 & 224687\\_at   & ankyrin repeat and IBR domain containing 1 & ANKIB1  \\\\\n",
       "\t3 & 207488\\_at   & NA                                         & NA      \\\\\n",
       "\t4 & 239226\\_at   & NA                                         & NA      \\\\\n",
       "\t5 & 234109\\_x\\_at & one cut homeobox 3                         & ONECUT3 \\\\\n",
       "\t6 & 212833\\_at   & solute carrier family 25 member 46         & SLC25A46\\\\\n",
       "\\end{tabular}\n"
      ],
      "text/markdown": [
       "\n",
       "A data.frame: 6 × 3\n",
       "\n",
       "| <!--/--> | PROBEID &lt;chr&gt; | GENENAME &lt;chr&gt; | SYMBOL &lt;chr&gt; |\n",
       "|---|---|---|---|\n",
       "| 1 | 222178_s_at | NA                                         | NA       |\n",
       "| 2 | 224687_at   | ankyrin repeat and IBR domain containing 1 | ANKIB1   |\n",
       "| 3 | 207488_at   | NA                                         | NA       |\n",
       "| 4 | 239226_at   | NA                                         | NA       |\n",
       "| 5 | 234109_x_at | one cut homeobox 3                         | ONECUT3  |\n",
       "| 6 | 212833_at   | solute carrier family 25 member 46         | SLC25A46 |\n",
       "\n"
      ],
      "text/plain": [
       "  PROBEID     GENENAME                                   SYMBOL  \n",
       "1 222178_s_at NA                                         NA      \n",
       "2 224687_at   ankyrin repeat and IBR domain containing 1 ANKIB1  \n",
       "3 207488_at   NA                                         NA      \n",
       "4 239226_at   NA                                         NA      \n",
       "5 234109_x_at one cut homeobox 3                         ONECUT3 \n",
       "6 212833_at   solute carrier family 25 member 46         SLC25A46"
      ]
     },
     "metadata": {},
     "output_type": "display_data"
    }
   ],
   "source": [
    "probeIDs = DE.df$PROBEID\n",
    "# Map probe IDs to their symbols\n",
    "suppressMessages({\n",
    "annotLookup <- AnnotationDbi::select(hgu133plus2.db, keys = probeIDs, columns = c('PROBEID','GENENAME','SYMBOL'))\n",
    "})\n",
    "# View the first few genes in the mapping table\n",
    "head(annotLookup)"
   ]
  },
  {
   "cell_type": "markdown",
   "id": "8ed42b60",
   "metadata": {},
   "source": [
    "Now, we can merge DE data frame with annotation table by the `PROBEID` and remove NA gene symbols using the following command:"
   ]
  },
  {
   "cell_type": "code",
   "execution_count": 6,
   "id": "5c5ac1b5",
   "metadata": {},
   "outputs": [],
   "source": [
    "DE.df = merge(annotLookup, DE.df, by=\"PROBEID\")"
   ]
  },
  {
   "cell_type": "code",
   "execution_count": 7,
   "id": "3bef4b3d",
   "metadata": {},
   "outputs": [
    {
     "data": {
      "text/html": [
       "<table class=\"dataframe\">\n",
       "<caption>A data.frame: 6 × 9</caption>\n",
       "<thead>\n",
       "\t<tr><th></th><th scope=col>PROBEID</th><th scope=col>GENENAME</th><th scope=col>SYMBOL</th><th scope=col>logFC</th><th scope=col>AveExpr</th><th scope=col>t</th><th scope=col>P.Value</th><th scope=col>adj.P.Val</th><th scope=col>B</th></tr>\n",
       "\t<tr><th></th><th scope=col>&lt;chr&gt;</th><th scope=col>&lt;chr&gt;</th><th scope=col>&lt;chr&gt;</th><th scope=col>&lt;dbl&gt;</th><th scope=col>&lt;dbl&gt;</th><th scope=col>&lt;dbl&gt;</th><th scope=col>&lt;dbl&gt;</th><th scope=col>&lt;dbl&gt;</th><th scope=col>&lt;dbl&gt;</th></tr>\n",
       "</thead>\n",
       "<tbody>\n",
       "\t<tr><th scope=row>1</th><td>1007_s_at</td><td>discoidin domain receptor tyrosine kinase 1 </td><td>DDR1  </td><td>-0.23858465</td><td>1.0967772</td><td>-2.08257585</td><td>0.04210211</td><td>0.2531265</td><td>-4.284228</td></tr>\n",
       "\t<tr><th scope=row>2</th><td>1053_at  </td><td>replication factor C subunit 2              </td><td>RFC2  </td><td> 0.05830367</td><td>0.9657758</td><td> 1.42311356</td><td>0.16052793</td><td>0.4674726</td><td>-5.359907</td></tr>\n",
       "\t<tr><th scope=row>3</th><td>117_at   </td><td>heat shock protein family A (Hsp70) member 6</td><td>HSPA6 </td><td>-0.01138494</td><td>1.1501582</td><td>-0.08100885</td><td>0.93573821</td><td>0.9861536</td><td>-6.337785</td></tr>\n",
       "\t<tr><th scope=row>4</th><td>121_at   </td><td>paired box 8                                </td><td>PAX8  </td><td> 0.02301084</td><td>1.0581847</td><td> 0.87166663</td><td>0.38729816</td><td>0.7236528</td><td>-5.968512</td></tr>\n",
       "\t<tr><th scope=row>5</th><td>1255_g_at</td><td>guanylate cyclase activator 1A              </td><td>GUCA1A</td><td> 0.36999950</td><td>1.4080351</td><td> 1.78615022</td><td>0.07976123</td><td>0.3351480</td><td>-4.812134</td></tr>\n",
       "\t<tr><th scope=row>6</th><td>1294_at  </td><td>ubiquitin like modifier activating enzyme 7 </td><td>UBA7  </td><td>-0.11221434</td><td>1.0859983</td><td>-1.61593670</td><td>0.11200995</td><td>0.3925252</td><td>-5.082923</td></tr>\n",
       "</tbody>\n",
       "</table>\n"
      ],
      "text/latex": [
       "A data.frame: 6 × 9\n",
       "\\begin{tabular}{r|lllllllll}\n",
       "  & PROBEID & GENENAME & SYMBOL & logFC & AveExpr & t & P.Value & adj.P.Val & B\\\\\n",
       "  & <chr> & <chr> & <chr> & <dbl> & <dbl> & <dbl> & <dbl> & <dbl> & <dbl>\\\\\n",
       "\\hline\n",
       "\t1 & 1007\\_s\\_at & discoidin domain receptor tyrosine kinase 1  & DDR1   & -0.23858465 & 1.0967772 & -2.08257585 & 0.04210211 & 0.2531265 & -4.284228\\\\\n",
       "\t2 & 1053\\_at   & replication factor C subunit 2               & RFC2   &  0.05830367 & 0.9657758 &  1.42311356 & 0.16052793 & 0.4674726 & -5.359907\\\\\n",
       "\t3 & 117\\_at    & heat shock protein family A (Hsp70) member 6 & HSPA6  & -0.01138494 & 1.1501582 & -0.08100885 & 0.93573821 & 0.9861536 & -6.337785\\\\\n",
       "\t4 & 121\\_at    & paired box 8                                 & PAX8   &  0.02301084 & 1.0581847 &  0.87166663 & 0.38729816 & 0.7236528 & -5.968512\\\\\n",
       "\t5 & 1255\\_g\\_at & guanylate cyclase activator 1A               & GUCA1A &  0.36999950 & 1.4080351 &  1.78615022 & 0.07976123 & 0.3351480 & -4.812134\\\\\n",
       "\t6 & 1294\\_at   & ubiquitin like modifier activating enzyme 7  & UBA7   & -0.11221434 & 1.0859983 & -1.61593670 & 0.11200995 & 0.3925252 & -5.082923\\\\\n",
       "\\end{tabular}\n"
      ],
      "text/markdown": [
       "\n",
       "A data.frame: 6 × 9\n",
       "\n",
       "| <!--/--> | PROBEID &lt;chr&gt; | GENENAME &lt;chr&gt; | SYMBOL &lt;chr&gt; | logFC &lt;dbl&gt; | AveExpr &lt;dbl&gt; | t &lt;dbl&gt; | P.Value &lt;dbl&gt; | adj.P.Val &lt;dbl&gt; | B &lt;dbl&gt; |\n",
       "|---|---|---|---|---|---|---|---|---|---|\n",
       "| 1 | 1007_s_at | discoidin domain receptor tyrosine kinase 1  | DDR1   | -0.23858465 | 1.0967772 | -2.08257585 | 0.04210211 | 0.2531265 | -4.284228 |\n",
       "| 2 | 1053_at   | replication factor C subunit 2               | RFC2   |  0.05830367 | 0.9657758 |  1.42311356 | 0.16052793 | 0.4674726 | -5.359907 |\n",
       "| 3 | 117_at    | heat shock protein family A (Hsp70) member 6 | HSPA6  | -0.01138494 | 1.1501582 | -0.08100885 | 0.93573821 | 0.9861536 | -6.337785 |\n",
       "| 4 | 121_at    | paired box 8                                 | PAX8   |  0.02301084 | 1.0581847 |  0.87166663 | 0.38729816 | 0.7236528 | -5.968512 |\n",
       "| 5 | 1255_g_at | guanylate cyclase activator 1A               | GUCA1A |  0.36999950 | 1.4080351 |  1.78615022 | 0.07976123 | 0.3351480 | -4.812134 |\n",
       "| 6 | 1294_at   | ubiquitin like modifier activating enzyme 7  | UBA7   | -0.11221434 | 1.0859983 | -1.61593670 | 0.11200995 | 0.3925252 | -5.082923 |\n",
       "\n"
      ],
      "text/plain": [
       "  PROBEID   GENENAME                                     SYMBOL logFC      \n",
       "1 1007_s_at discoidin domain receptor tyrosine kinase 1  DDR1   -0.23858465\n",
       "2 1053_at   replication factor C subunit 2               RFC2    0.05830367\n",
       "3 117_at    heat shock protein family A (Hsp70) member 6 HSPA6  -0.01138494\n",
       "4 121_at    paired box 8                                 PAX8    0.02301084\n",
       "5 1255_g_at guanylate cyclase activator 1A               GUCA1A  0.36999950\n",
       "6 1294_at   ubiquitin like modifier activating enzyme 7  UBA7   -0.11221434\n",
       "  AveExpr   t           P.Value    adj.P.Val B        \n",
       "1 1.0967772 -2.08257585 0.04210211 0.2531265 -4.284228\n",
       "2 0.9657758  1.42311356 0.16052793 0.4674726 -5.359907\n",
       "3 1.1501582 -0.08100885 0.93573821 0.9861536 -6.337785\n",
       "4 1.0581847  0.87166663 0.38729816 0.7236528 -5.968512\n",
       "5 1.4080351  1.78615022 0.07976123 0.3351480 -4.812134\n",
       "6 1.0859983 -1.61593670 0.11200995 0.3925252 -5.082923"
      ]
     },
     "metadata": {},
     "output_type": "display_data"
    }
   ],
   "source": [
    "# Remove NA gene symbol\n",
    "DE.df = DE.df[!is.na(DE.df$SYMBOL), ]\n",
    "# Remove duplicated genes\n",
    "DE.df = DE.df[!duplicated(DE.df$SYMBOL, fromLast=FALSE),]\n",
    "head(DE.df)"
   ]
  },
  {
   "cell_type": "markdown",
   "id": "adf678d9",
   "metadata": {},
   "source": [
    "As a result, we obtained the new DE table with two more columns containing gene names and gene symbols. The use of this DE table can be varied based on the selected enrichment analysis tools."
   ]
  },
  {
   "cell_type": "markdown",
   "id": "8538d33d",
   "metadata": {},
   "source": [
    "## Enrichment Analysis Using Over-Representation Analysis\n",
    "Over-representation analysis (ORA) is a statistical method that determines whether genes from a pre-defined gene set of a specific GO term or KEGG pathway are presented more than would be expected (over-represented) in a subset of your data. In our learning module, this subset refers to the list of DE genes generated from the `limma` method. For each gene set, an enrichment *p-value* is calculated using the Binomial distribution, Hypergeometric distribution, the Fisher exact test, or the Chi-square test.  The hypergeometric distribution is a popular approach used to calculate enrichment p-value. The formula can be presented as follows:"
   ]
  },
  {
   "cell_type": "markdown",
   "id": "eca231f2",
   "metadata": {},
   "source": [
    "$$\n",
    "     P(X\\geq x) = 1 - P(X \\leq x-1) = 1 - \\sum\\limits_{i=0}^{x-1}\\frac{\\hphantom{}{M \\choose i }{N - M \\choose n-i}}{N \\choose n}\n",
    "$$"
   ]
  },
  {
   "cell_type": "markdown",
   "id": "1c18d887",
   "metadata": {},
   "source": [
    "where *N* is the number of background genes (all genes presented in the expression matrix), *n* is the number of “interesting” genes (DE genes), *M* is the number of genes that are annotated to a particular gene set *S* (list of genes in a specific KEGG pathway or GO term), and *x* is the number of “interesting” genes that are annotated to *S* (genes presented in DE genes list and a specific KEGG pathway or GO term)."
   ]
  },
  {
   "cell_type": "markdown",
   "id": "ccade46c",
   "metadata": {},
   "source": [
    "For example, suppose we have an expression matrix with 20,000 genes, of which 500 are differently expressed. Also, suppose that 100 of the 20,000 genes are annotated to a particular gene set S. Of these 100 genes, 20 are members of the DE genes list. The probability that 20 or more (up to 100) genes annotated to S are in the DE genes list by chance is given by"
   ]
  },
  {
   "cell_type": "markdown",
   "id": "ed50cd53",
   "metadata": {},
   "source": [
    "$$\n",
    "P(X\\geq 20) = 1 - P(X \\leq 19) = 1-\\sum \\limits_{i=0}^{19}\\frac{\\hphantom{}{100 \\choose i}{20000 - 100 \\choose 500-i}}{20000 \\choose 500} = 5.26 \\times 10^{-13}\n",
    "$$"
   ]
  },
  {
   "cell_type": "markdown",
   "id": "b2e2d72e",
   "metadata": {},
   "source": [
    "The *p-value* indicates that it is very rare to observe 20 of the 100 genes from this set are in the DE genes list by chance."
   ]
  },
  {
   "cell_type": "code",
   "execution_count": 8,
   "id": "2b0be768-1749-4752-b31f-bf5818b33be5",
   "metadata": {},
   "outputs": [
    {
     "data": {
      "text/html": [
       "<iframe src=\"./Quizzes/Quiz_Submodule4-2.html\" width=100% height=250></iframe>"
      ]
     },
     "metadata": {},
     "output_type": "display_data"
    }
   ],
   "source": [
    "IRdisplay::display_html('<iframe src=\"./Quizzes/Quiz_Submodule4-2.html\" width=100% height=250></iframe>')"
   ]
  },
  {
   "cell_type": "markdown",
   "id": "e332d07b",
   "metadata": {},
   "source": [
    "### Data preparation\n",
    "To conduct enrichment analysis using ORA, there are several input data that we need to prepare. First, we need to select a set of genes that\n",
    "are significantly altered (*p-value < 0.05*) in the DE genes generated from the `limma` method."
   ]
  },
  {
   "cell_type": "code",
   "execution_count": 10,
   "id": "b1b28353",
   "metadata": {},
   "outputs": [],
   "source": [
    "# Selecting a list of significant DE genes\n",
    "DEGenes <- DE.df[DE.df$adj.P.Val <= 0.05, ]\n",
    "# Select genes with symbol\n",
    "DEGenes <- DEGenes$SYMBOL"
   ]
  },
  {
   "cell_type": "markdown",
   "id": "f0d9f75f",
   "metadata": {},
   "source": [
    "Next, we need to define a list of background genes. In this analysis, they are all the genes generated from the DE analysis."
   ]
  },
  {
   "cell_type": "code",
   "execution_count": 11,
   "id": "303d3696",
   "metadata": {},
   "outputs": [],
   "source": [
    "#Defining background genes\n",
    "backgroundSet <- DE.df$SYMBOL"
   ]
  },
  {
   "cell_type": "markdown",
   "id": "5f19e685",
   "metadata": {},
   "source": [
    "Then, we need to obtain a list of geneset from knowledge databases such as GO and KEGG. In this learning module, the geneset will be retrieved from\n",
    "the *.gmt* files that were processed from the [**submodule 03**](./Module03-Gene_Set_and_Pathway.ipynb). To load the geneset, we will use the `gmt2geneset` function below:"
   ]
  },
  {
   "cell_type": "code",
   "execution_count": 12,
   "id": "d05545e7",
   "metadata": {},
   "outputs": [
    {
     "name": "stderr",
     "output_type": "stream",
     "text": [
      "Installing package into 'C:/Users/ASUS/AppData/Local/R/win-library/4.3'\n",
      "(as 'lib' is unspecified)\n",
      "\n"
     ]
    },
    {
     "name": "stdout",
     "output_type": "stream",
     "text": [
      "package 'tidyverse' successfully unpacked and MD5 sums checked\n",
      "\n",
      "The downloaded binary packages are in\n",
      "\tC:\\Users\\ASUS\\AppData\\Local\\Temp\\RtmpC4cJMm\\downloaded_packages\n"
     ]
    }
   ],
   "source": [
    "# install tidyverse\n",
    "suppressWarnings({\n",
    "  install.packages(\"tidyverse\")\n",
    "})"
   ]
  },
  {
   "cell_type": "code",
   "execution_count": 13,
   "id": "79cc3d74",
   "metadata": {},
   "outputs": [],
   "source": [
    "# Loading tidyverse library that provides a function to read the .gmt file\n",
    "suppressMessages({\n",
    "  library(tidyverse)\n",
    "})"
   ]
  },
  {
   "cell_type": "markdown",
   "id": "0042697a",
   "metadata": {},
   "source": [
    "Here, we also write a function to perform over-representation analysis based on the hyper-geometric testing formula presented above. The `ORA` method will perform\n",
    "hyper-geometric testing for each geneset obtained from GO or KEGG using the function `phyper` available for the `stats` R base package. The output of the `ORA` function is a table that contains a column of terms or pathway names and a column of *p-value*."
   ]
  },
  {
   "cell_type": "code",
   "execution_count": 14,
   "id": "38686455",
   "metadata": {},
   "outputs": [],
   "source": [
    "# A customized function to parse a gmt file to a list of genesets\n",
    "gmt2geneset <- function(path) {\n",
    "  # Read the GMT file and create a list of gene sets\n",
    "  genesets <- read_tsv(path, col_names = F) %>% apply(MARGIN = 1, function(r) {\n",
    "    # Extract unique genes from the current row (excluding the first two elements)\n",
    "    genes = unique(r[-(1:2)]) \n",
    "    # Create a list for each gene set with ID, description, and non-NA genes\n",
    "    list(\n",
    "      id = r[1],\n",
    "      description = r[2],\n",
    "      genes = genes[!is.na(genes)]\n",
    "    )\n",
    "  })\n",
    "  # Extract the gene sets from the list and convert gene vectors to character\n",
    "  gs <- lapply(genesets, function(g) g$genes %>% as.character())\n",
    "  # Set names for the gene sets based on their descriptions\n",
    "  names(gs) <- lapply(genesets, function(g) g$description)\n",
    "  # Return the resulting list of gene sets\n",
    "  gs\n",
    "}\n"
   ]
  },
  {
   "cell_type": "markdown",
   "id": "5c891d7f-4d97-48e3-aab8-7068c9b6c448",
   "metadata": {},
   "source": [
    "**Arguments** of the `ORA` function:\n",
    "\n",
    "- `geneset` (*list*): A list of gene sets to be analyzed.\n",
    "- `DEGenes` (*vector*): A vector of differentially expressed genes.\n",
    "- `backgroundSet` (*vector*): A set of genes representing the background.\n",
    "- `DE.df` (*data.frame*): A data frame containing information about differentially expressed genes."
   ]
  },
  {
   "cell_type": "code",
   "execution_count": 15,
   "id": "d809f4b3",
   "metadata": {},
   "outputs": [],
   "source": [
    "# Over-Representation Analysis (ORA) Function\n",
    "ORA <- function(geneset, DEGenes, backgroundSet, DE.df) {\n",
    "  # Initialize an empty vector to store the results of the analysis\n",
    "  res <- sapply(geneset, function(gs) {\n",
    "    # Count the number of differentially expressed genes in the current gene set (gs)\n",
    "    wBallDraw <- intersect(gs, DEGenes) %>% length() - 1\n",
    "    # Check for a potential issue with the intersection count being negative\n",
    "    if (wBallDraw < 0) return(1)\n",
    "    # Total number of differentially expressed genes\n",
    "    wBall <- length(DEGenes)\n",
    "    # Remaining genes in the background set\n",
    "    bBall <- nrow(DE.df) - length(DEGenes)\n",
    "    # Number of genes in the current gene set that are in the background set\n",
    "    ballDraw <- length(intersect(gs, backgroundSet))\n",
    "    # Calculate the hypergeometric probability using the phyper function\n",
    "    hypergeo_prob <- phyper(wBallDraw, wBall, bBall, ballDraw)\n",
    "    # Calculate the complementary probability (1 - hypergeometric probability)\n",
    "    1 - hypergeo_prob\n",
    "  })\n",
    "  # Return the vector of results (p-values)\n",
    "  res\n",
    "}\n"
   ]
  },
  {
   "cell_type": "markdown",
   "id": "dedfa2a3",
   "metadata": {},
   "source": [
    "### Enrichment analysis using ORA and GO terms\n",
    "In this section, we will perform ORA using genesets obtained from the GO database and the function `ORA` defined above. The detailed code is presented below:"
   ]
  },
  {
   "cell_type": "code",
   "execution_count": 16,
   "id": "975e07c7",
   "metadata": {},
   "outputs": [
    {
     "data": {
      "text/html": [
       "<table class=\"dataframe\">\n",
       "<caption>A data.frame: 6 × 2</caption>\n",
       "<thead>\n",
       "\t<tr><th></th><th scope=col>GOterms</th><th scope=col>pvalue</th></tr>\n",
       "\t<tr><th></th><th scope=col>&lt;chr&gt;</th><th scope=col>&lt;dbl&gt;</th></tr>\n",
       "</thead>\n",
       "<tbody>\n",
       "\t<tr><th scope=row>mitochondrial electron transport, cytochrome c to oxygen</th><td>mitochondrial electron transport, cytochrome c to oxygen</td><td>0.0001704211</td></tr>\n",
       "\t<tr><th scope=row>aerobic electron transport chain</th><td>aerobic electron transport chain                        </td><td>0.0004551632</td></tr>\n",
       "\t<tr><th scope=row>respiratory electron transport chain</th><td>respiratory electron transport chain                    </td><td>0.0004551632</td></tr>\n",
       "\t<tr><th scope=row>ATP synthesis coupled electron transport</th><td>ATP synthesis coupled electron transport                </td><td>0.0004551632</td></tr>\n",
       "\t<tr><th scope=row>mitochondrial ATP synthesis coupled electron transport</th><td>mitochondrial ATP synthesis coupled electron transport  </td><td>0.0004551632</td></tr>\n",
       "\t<tr><th scope=row>inner dynein arm assembly</th><td>inner dynein arm assembly                               </td><td>0.0010416338</td></tr>\n",
       "</tbody>\n",
       "</table>\n"
      ],
      "text/latex": [
       "A data.frame: 6 × 2\n",
       "\\begin{tabular}{r|ll}\n",
       "  & GOterms & pvalue\\\\\n",
       "  & <chr> & <dbl>\\\\\n",
       "\\hline\n",
       "\tmitochondrial electron transport, cytochrome c to oxygen & mitochondrial electron transport, cytochrome c to oxygen & 0.0001704211\\\\\n",
       "\taerobic electron transport chain & aerobic electron transport chain                         & 0.0004551632\\\\\n",
       "\trespiratory electron transport chain & respiratory electron transport chain                     & 0.0004551632\\\\\n",
       "\tATP synthesis coupled electron transport & ATP synthesis coupled electron transport                 & 0.0004551632\\\\\n",
       "\tmitochondrial ATP synthesis coupled electron transport & mitochondrial ATP synthesis coupled electron transport   & 0.0004551632\\\\\n",
       "\tinner dynein arm assembly & inner dynein arm assembly                                & 0.0010416338\\\\\n",
       "\\end{tabular}\n"
      ],
      "text/markdown": [
       "\n",
       "A data.frame: 6 × 2\n",
       "\n",
       "| <!--/--> | GOterms &lt;chr&gt; | pvalue &lt;dbl&gt; |\n",
       "|---|---|---|\n",
       "| mitochondrial electron transport, cytochrome c to oxygen | mitochondrial electron transport, cytochrome c to oxygen | 0.0001704211 |\n",
       "| aerobic electron transport chain | aerobic electron transport chain                         | 0.0004551632 |\n",
       "| respiratory electron transport chain | respiratory electron transport chain                     | 0.0004551632 |\n",
       "| ATP synthesis coupled electron transport | ATP synthesis coupled electron transport                 | 0.0004551632 |\n",
       "| mitochondrial ATP synthesis coupled electron transport | mitochondrial ATP synthesis coupled electron transport   | 0.0004551632 |\n",
       "| inner dynein arm assembly | inner dynein arm assembly                                | 0.0010416338 |\n",
       "\n"
      ],
      "text/plain": [
       "                                                         GOterms                                                 \n",
       "mitochondrial electron transport, cytochrome c to oxygen mitochondrial electron transport, cytochrome c to oxygen\n",
       "aerobic electron transport chain                         aerobic electron transport chain                        \n",
       "respiratory electron transport chain                     respiratory electron transport chain                    \n",
       "ATP synthesis coupled electron transport                 ATP synthesis coupled electron transport                \n",
       "mitochondrial ATP synthesis coupled electron transport   mitochondrial ATP synthesis coupled electron transport  \n",
       "inner dynein arm assembly                                inner dynein arm assembly                               \n",
       "                                                         pvalue      \n",
       "mitochondrial electron transport, cytochrome c to oxygen 0.0001704211\n",
       "aerobic electron transport chain                         0.0004551632\n",
       "respiratory electron transport chain                     0.0004551632\n",
       "ATP synthesis coupled electron transport                 0.0004551632\n",
       "mitochondrial ATP synthesis coupled electron transport   0.0004551632\n",
       "inner dynein arm assembly                                0.0010416338"
      ]
     },
     "metadata": {},
     "output_type": "display_data"
    }
   ],
   "source": [
    "# Loading geneset from GO database\n",
    "suppressWarnings({suppressMessages({geneset <- gmt2geneset(\"./data/GO_terms.gmt\")})})\n",
    "# Perform ORA\n",
    "res.ORA <- ORA(geneset = geneset, DEGenes = DEGenes, backgroundSet = backgroundSet, DE.df = DE.df)\n",
    "# Save the result to a table where the first column is GO term name and the second column is the p-value\n",
    "res.df <- data.frame(\n",
    "  GOterms = names(res.ORA),\n",
    "  pvalue = res.ORA\n",
    ")\n",
    "# Order the table based on the p-value\n",
    "res.df <- res.df[order(res.df$pvalue),]\n",
    "# View the most significant GO terms\n",
    "head(res.df)"
   ]
  },
  {
   "cell_type": "markdown",
   "id": "ae0d8278",
   "metadata": {},
   "source": [
    "From the result table, we might conclude that the pathways shown are key components of the disease in study."
   ]
  },
  {
   "cell_type": "markdown",
   "id": "cfa3dbd7",
   "metadata": {},
   "source": [
    "### Enrichment analysis using ORA and KEGG pathways"
   ]
  },
  {
   "cell_type": "markdown",
   "id": "69dc9176-9f21-4198-8873-c391fd58b1d2",
   "metadata": {},
   "source": [
    "We will perform the same steps as we did above for the GO terms."
   ]
  },
  {
   "cell_type": "code",
   "execution_count": 17,
   "id": "7c31dbde",
   "metadata": {},
   "outputs": [],
   "source": [
    "# Loading the KEGG pathways\n",
    "suppressWarnings({suppressMessages({geneset <- gmt2geneset(\"./data/KEGG_pathways.gmt\")})})"
   ]
  },
  {
   "cell_type": "code",
   "execution_count": 18,
   "id": "ee2d6ff9",
   "metadata": {},
   "outputs": [
    {
     "data": {
      "text/html": [
       "<table class=\"dataframe\">\n",
       "<caption>A data.frame: 6 × 2</caption>\n",
       "<thead>\n",
       "\t<tr><th></th><th scope=col>pathways</th><th scope=col>pvalue</th></tr>\n",
       "\t<tr><th></th><th scope=col>&lt;chr&gt;</th><th scope=col>&lt;dbl&gt;</th></tr>\n",
       "</thead>\n",
       "<tbody>\n",
       "\t<tr><th scope=row>Purine metabolism - Homo sapiens (human)</th><td>Purine metabolism - Homo sapiens (human)                  </td><td>0.03779064</td></tr>\n",
       "\t<tr><th scope=row>AMPK signaling pathway - Homo sapiens (human)</th><td>AMPK signaling pathway - Homo sapiens (human)             </td><td>0.03926858</td></tr>\n",
       "\t<tr><th scope=row>Complement and coagulation cascades - Homo sapiens (human)</th><td>Complement and coagulation cascades - Homo sapiens (human)</td><td>0.03926858</td></tr>\n",
       "\t<tr><th scope=row>Primary immunodeficiency - Homo sapiens (human)</th><td>Primary immunodeficiency - Homo sapiens (human)           </td><td>0.06601342</td></tr>\n",
       "\t<tr><th scope=row>Proteasome - Homo sapiens (human)</th><td>Proteasome - Homo sapiens (human)                         </td><td>0.09258568</td></tr>\n",
       "\t<tr><th scope=row>Virion - Herpesvirus - Homo sapiens (human)</th><td>Virion - Herpesvirus - Homo sapiens (human)               </td><td>0.09772411</td></tr>\n",
       "</tbody>\n",
       "</table>\n"
      ],
      "text/latex": [
       "A data.frame: 6 × 2\n",
       "\\begin{tabular}{r|ll}\n",
       "  & pathways & pvalue\\\\\n",
       "  & <chr> & <dbl>\\\\\n",
       "\\hline\n",
       "\tPurine metabolism - Homo sapiens (human) & Purine metabolism - Homo sapiens (human)                   & 0.03779064\\\\\n",
       "\tAMPK signaling pathway - Homo sapiens (human) & AMPK signaling pathway - Homo sapiens (human)              & 0.03926858\\\\\n",
       "\tComplement and coagulation cascades - Homo sapiens (human) & Complement and coagulation cascades - Homo sapiens (human) & 0.03926858\\\\\n",
       "\tPrimary immunodeficiency - Homo sapiens (human) & Primary immunodeficiency - Homo sapiens (human)            & 0.06601342\\\\\n",
       "\tProteasome - Homo sapiens (human) & Proteasome - Homo sapiens (human)                          & 0.09258568\\\\\n",
       "\tVirion - Herpesvirus - Homo sapiens (human) & Virion - Herpesvirus - Homo sapiens (human)                & 0.09772411\\\\\n",
       "\\end{tabular}\n"
      ],
      "text/markdown": [
       "\n",
       "A data.frame: 6 × 2\n",
       "\n",
       "| <!--/--> | pathways &lt;chr&gt; | pvalue &lt;dbl&gt; |\n",
       "|---|---|---|\n",
       "| Purine metabolism - Homo sapiens (human) | Purine metabolism - Homo sapiens (human)                   | 0.03779064 |\n",
       "| AMPK signaling pathway - Homo sapiens (human) | AMPK signaling pathway - Homo sapiens (human)              | 0.03926858 |\n",
       "| Complement and coagulation cascades - Homo sapiens (human) | Complement and coagulation cascades - Homo sapiens (human) | 0.03926858 |\n",
       "| Primary immunodeficiency - Homo sapiens (human) | Primary immunodeficiency - Homo sapiens (human)            | 0.06601342 |\n",
       "| Proteasome - Homo sapiens (human) | Proteasome - Homo sapiens (human)                          | 0.09258568 |\n",
       "| Virion - Herpesvirus - Homo sapiens (human) | Virion - Herpesvirus - Homo sapiens (human)                | 0.09772411 |\n",
       "\n"
      ],
      "text/plain": [
       "                                                           pathways                                                  \n",
       "Purine metabolism - Homo sapiens (human)                   Purine metabolism - Homo sapiens (human)                  \n",
       "AMPK signaling pathway - Homo sapiens (human)              AMPK signaling pathway - Homo sapiens (human)             \n",
       "Complement and coagulation cascades - Homo sapiens (human) Complement and coagulation cascades - Homo sapiens (human)\n",
       "Primary immunodeficiency - Homo sapiens (human)            Primary immunodeficiency - Homo sapiens (human)           \n",
       "Proteasome - Homo sapiens (human)                          Proteasome - Homo sapiens (human)                         \n",
       "Virion - Herpesvirus - Homo sapiens (human)                Virion - Herpesvirus - Homo sapiens (human)               \n",
       "                                                           pvalue    \n",
       "Purine metabolism - Homo sapiens (human)                   0.03779064\n",
       "AMPK signaling pathway - Homo sapiens (human)              0.03926858\n",
       "Complement and coagulation cascades - Homo sapiens (human) 0.03926858\n",
       "Primary immunodeficiency - Homo sapiens (human)            0.06601342\n",
       "Proteasome - Homo sapiens (human)                          0.09258568\n",
       "Virion - Herpesvirus - Homo sapiens (human)                0.09772411"
      ]
     },
     "metadata": {},
     "output_type": "display_data"
    }
   ],
   "source": [
    "# Perform Hyper-geometric testing\n",
    "res.ORA <- ORA(geneset = geneset, DEGenes = DEGenes, backgroundSet = backgroundSet, DE.df = DE.df)\n",
    "# Save the results to a data frame\n",
    "res.df <- data.frame(\n",
    "  pathways = names(res.ORA),\n",
    "  pvalue = res.ORA\n",
    ")\n",
    "\n",
    "res.df <- res.df[order(res.df$pvalue),]\n",
    "head(res.df)"
   ]
  },
  {
   "cell_type": "markdown",
   "id": "9aa0e1c7",
   "metadata": {},
   "source": [
    "## Enrichment Analysis using FGSEA"
   ]
  },
  {
   "cell_type": "markdown",
   "id": "47b46d66",
   "metadata": {},
   "source": [
    "This submodule describes `FGSEA`, one of the methods for evaluating pathway enrichment in transcriptional data and it stands for Fast preranked Gene Set Enrichment Analysis (GSEA). `FGSEA` quickly calculates arbitrarily low GSEA P-values for a collection of gene sets and is based on an algorithm that allows  it to make more permutations and get accurate *p-values*.\n",
    "It extends the GSEA algorithm which calculates the enrichment score (the degree to which a set S is over-represented at the top or bottom of the ranked list L), estimates the p-value of the Enrichment Score using a permutation test and adjusts the estimated significance level to account for multiple hypotheses in addition to calculating the q-values for FDR control. Typically, GSEA requires inputs of a list of gene sets (GO term or pathway with a set of genes), a vector DE genes with statistic. In addition, users can limit the number of terms or pathways of interest by adjusting the `minSize` and `maxSize` parameters. The code to install and load the FGSEA R package is shown below:"
   ]
  },
  {
   "cell_type": "code",
   "execution_count": 19,
   "id": "b9702a89",
   "metadata": {},
   "outputs": [],
   "source": [
    "# To perform enrichment analysis using FGSEA, we first install the fgsea package\n",
    "suppressMessages({if (!require(\"BiocManager\", quietly = TRUE))\n",
    "        install.packages(\"BiocManager\")\n",
    "  suppressWarnings(BiocManager::install(\"fgsea\", update = F))\n",
    "})"
   ]
  },
  {
   "cell_type": "code",
   "execution_count": 20,
   "id": "52f7aae1-0bd8-4ff4-86f2-041eb6e41db4",
   "metadata": {},
   "outputs": [],
   "source": [
    "# Loading the package\n",
    "suppressPackageStartupMessages({\n",
    "  library(\"fgsea\")\n",
    "})"
   ]
  },
  {
   "cell_type": "code",
   "execution_count": 21,
   "id": "cdb41931-b689-4fb9-9c5d-0e1c443bfe00",
   "metadata": {},
   "outputs": [
    {
     "data": {
      "text/html": [
       "<iframe src=\"./Quizzes/Quiz_Submodule4-3.html\" width=100% height=250></iframe>"
      ]
     },
     "metadata": {},
     "output_type": "display_data"
    }
   ],
   "source": [
    "#Run the following command to take the quiz\n",
    "IRdisplay::display_html('<iframe src=\"./Quizzes/Quiz_Submodule4-3.html\" width=100% height=250></iframe>')"
   ]
  },
  {
   "cell_type": "markdown",
   "id": "fb6f9407",
   "metadata": {},
   "source": [
    "Next, we need to prepare a vector of DE genes with its statistic."
   ]
  },
  {
   "cell_type": "code",
   "execution_count": 22,
   "id": "38d25313",
   "metadata": {},
   "outputs": [
    {
     "data": {
      "text/html": [
       "<style>\n",
       ".dl-inline {width: auto; margin:0; padding: 0}\n",
       ".dl-inline>dt, .dl-inline>dd {float: none; width: auto; display: inline-block}\n",
       ".dl-inline>dt::after {content: \":\\0020\"; padding-right: .5ex}\n",
       ".dl-inline>dt:not(:first-of-type) {padding-left: .5ex}\n",
       "</style><dl class=dl-inline><dt>DDR1</dt><dd>0.25312654919025</dd><dt>RFC2</dt><dd>0.467472580609517</dd><dt>HSPA6</dt><dd>0.986153555292704</dd><dt>PAX8</dt><dd>0.723652752171903</dd><dt>GUCA1A</dt><dd>0.335147977832318</dd><dt>UBA7</dt><dd>0.392525231374342</dd></dl>\n"
      ],
      "text/latex": [
       "\\begin{description*}\n",
       "\\item[DDR1] 0.25312654919025\n",
       "\\item[RFC2] 0.467472580609517\n",
       "\\item[HSPA6] 0.986153555292704\n",
       "\\item[PAX8] 0.723652752171903\n",
       "\\item[GUCA1A] 0.335147977832318\n",
       "\\item[UBA7] 0.392525231374342\n",
       "\\end{description*}\n"
      ],
      "text/markdown": [
       "DDR1\n",
       ":   0.25312654919025RFC2\n",
       ":   0.467472580609517HSPA6\n",
       ":   0.986153555292704PAX8\n",
       ":   0.723652752171903GUCA1A\n",
       ":   0.335147977832318UBA7\n",
       ":   0.392525231374342\n",
       "\n"
      ],
      "text/plain": [
       "     DDR1      RFC2     HSPA6      PAX8    GUCA1A      UBA7 \n",
       "0.2531265 0.4674726 0.9861536 0.7236528 0.3351480 0.3925252 "
      ]
     },
     "metadata": {},
     "output_type": "display_data"
    }
   ],
   "source": [
    "# Get the gene list and their statistic from DE results\n",
    "stats = DE.df$adj.P.Val\n",
    "names(stats) = DE.df$SYMBOL\n",
    "head(stats)"
   ]
  },
  {
   "cell_type": "markdown",
   "id": "9950a6f6",
   "metadata": {},
   "source": [
    "### Enrichment analysis using FGSEA and GO terms"
   ]
  },
  {
   "cell_type": "markdown",
   "id": "c5093c0c",
   "metadata": {},
   "source": [
    "The package `fgsea` has its own function named `gmtPathways` to load the genesets from the `gmt` file. It is recommended to use this function for compatibility. We can load the GO terms geneset and view the first five GO terms with associated genes using the following command:"
   ]
  },
  {
   "cell_type": "code",
   "execution_count": 23,
   "id": "b2d3d20a",
   "metadata": {},
   "outputs": [
    {
     "data": {
      "text/html": [
       "<dl>\n",
       "\t<dt>$`GO:0000002`</dt>\n",
       "\t\t<dd><style>\n",
       ".list-inline {list-style: none; margin:0; padding: 0}\n",
       ".list-inline>li {display: inline-block}\n",
       ".list-inline>li:not(:last-child)::after {content: \"\\00b7\"; padding: 0 .5ex}\n",
       "</style>\n",
       "<ol class=list-inline><li>'AKT3'</li><li>'DNA2'</li><li>'DNAJA3'</li><li>'ENDOG'</li><li>'FLCN'</li><li>'LIG3'</li></ol>\n",
       "</dd>\n",
       "\t<dt>$`GO:0000003`</dt>\n",
       "\t\t<dd><style>\n",
       ".list-inline {list-style: none; margin:0; padding: 0}\n",
       ".list-inline>li {display: inline-block}\n",
       ".list-inline>li:not(:last-child)::after {content: \"\\00b7\"; padding: 0 .5ex}\n",
       "</style>\n",
       "<ol class=list-inline><li>'A1CF'</li><li>'A2M'</li><li>'AAAS'</li><li>'ABAT'</li><li>'ABCC8'</li><li>'ABHD2'</li></ol>\n",
       "</dd>\n",
       "\t<dt>$`GO:0000012`</dt>\n",
       "\t\t<dd><style>\n",
       ".list-inline {list-style: none; margin:0; padding: 0}\n",
       ".list-inline>li {display: inline-block}\n",
       ".list-inline>li:not(:last-child)::after {content: \"\\00b7\"; padding: 0 .5ex}\n",
       "</style>\n",
       "<ol class=list-inline><li>'APLF'</li><li>'APTX'</li><li>'ERCC6'</li><li>'ERCC8'</li><li>'LIG4'</li><li>'PARP1'</li></ol>\n",
       "</dd>\n",
       "\t<dt>$`GO:0000018`</dt>\n",
       "\t\t<dd><style>\n",
       ".list-inline {list-style: none; margin:0; padding: 0}\n",
       ".list-inline>li {display: inline-block}\n",
       ".list-inline>li:not(:last-child)::after {content: \"\\00b7\"; padding: 0 .5ex}\n",
       "</style>\n",
       "<ol class=list-inline><li>'ABL1'</li><li>'ACTB'</li><li>'ACTL6A'</li><li>'ACTR2'</li><li>'ALYREF'</li><li>'ANKLE1'</li></ol>\n",
       "</dd>\n",
       "\t<dt>$`GO:0000022`</dt>\n",
       "\t\t<dd><style>\n",
       ".list-inline {list-style: none; margin:0; padding: 0}\n",
       ".list-inline>li {display: inline-block}\n",
       ".list-inline>li:not(:last-child)::after {content: \"\\00b7\"; padding: 0 .5ex}\n",
       "</style>\n",
       "<ol class=list-inline><li>'AURKB'</li><li>'AURKC'</li><li>'BIRC5'</li><li>'CDCA8'</li><li>'INCENP'</li><li>'KIF23'</li></ol>\n",
       "</dd>\n",
       "</dl>\n"
      ],
      "text/latex": [
       "\\begin{description}\n",
       "\\item[\\$`GO:0000002`] \\begin{enumerate*}\n",
       "\\item 'AKT3'\n",
       "\\item 'DNA2'\n",
       "\\item 'DNAJA3'\n",
       "\\item 'ENDOG'\n",
       "\\item 'FLCN'\n",
       "\\item 'LIG3'\n",
       "\\end{enumerate*}\n",
       "\n",
       "\\item[\\$`GO:0000003`] \\begin{enumerate*}\n",
       "\\item 'A1CF'\n",
       "\\item 'A2M'\n",
       "\\item 'AAAS'\n",
       "\\item 'ABAT'\n",
       "\\item 'ABCC8'\n",
       "\\item 'ABHD2'\n",
       "\\end{enumerate*}\n",
       "\n",
       "\\item[\\$`GO:0000012`] \\begin{enumerate*}\n",
       "\\item 'APLF'\n",
       "\\item 'APTX'\n",
       "\\item 'ERCC6'\n",
       "\\item 'ERCC8'\n",
       "\\item 'LIG4'\n",
       "\\item 'PARP1'\n",
       "\\end{enumerate*}\n",
       "\n",
       "\\item[\\$`GO:0000018`] \\begin{enumerate*}\n",
       "\\item 'ABL1'\n",
       "\\item 'ACTB'\n",
       "\\item 'ACTL6A'\n",
       "\\item 'ACTR2'\n",
       "\\item 'ALYREF'\n",
       "\\item 'ANKLE1'\n",
       "\\end{enumerate*}\n",
       "\n",
       "\\item[\\$`GO:0000022`] \\begin{enumerate*}\n",
       "\\item 'AURKB'\n",
       "\\item 'AURKC'\n",
       "\\item 'BIRC5'\n",
       "\\item 'CDCA8'\n",
       "\\item 'INCENP'\n",
       "\\item 'KIF23'\n",
       "\\end{enumerate*}\n",
       "\n",
       "\\end{description}\n"
      ],
      "text/markdown": [
       "$`GO:0000002`\n",
       ":   1. 'AKT3'\n",
       "2. 'DNA2'\n",
       "3. 'DNAJA3'\n",
       "4. 'ENDOG'\n",
       "5. 'FLCN'\n",
       "6. 'LIG3'\n",
       "\n",
       "\n",
       "\n",
       "$`GO:0000003`\n",
       ":   1. 'A1CF'\n",
       "2. 'A2M'\n",
       "3. 'AAAS'\n",
       "4. 'ABAT'\n",
       "5. 'ABCC8'\n",
       "6. 'ABHD2'\n",
       "\n",
       "\n",
       "\n",
       "$`GO:0000012`\n",
       ":   1. 'APLF'\n",
       "2. 'APTX'\n",
       "3. 'ERCC6'\n",
       "4. 'ERCC8'\n",
       "5. 'LIG4'\n",
       "6. 'PARP1'\n",
       "\n",
       "\n",
       "\n",
       "$`GO:0000018`\n",
       ":   1. 'ABL1'\n",
       "2. 'ACTB'\n",
       "3. 'ACTL6A'\n",
       "4. 'ACTR2'\n",
       "5. 'ALYREF'\n",
       "6. 'ANKLE1'\n",
       "\n",
       "\n",
       "\n",
       "$`GO:0000022`\n",
       ":   1. 'AURKB'\n",
       "2. 'AURKC'\n",
       "3. 'BIRC5'\n",
       "4. 'CDCA8'\n",
       "5. 'INCENP'\n",
       "6. 'KIF23'\n",
       "\n",
       "\n",
       "\n",
       "\n",
       "\n"
      ],
      "text/plain": [
       "$`GO:0000002`\n",
       "[1] \"AKT3\"   \"DNA2\"   \"DNAJA3\" \"ENDOG\"  \"FLCN\"   \"LIG3\"  \n",
       "\n",
       "$`GO:0000003`\n",
       "[1] \"A1CF\"  \"A2M\"   \"AAAS\"  \"ABAT\"  \"ABCC8\" \"ABHD2\"\n",
       "\n",
       "$`GO:0000012`\n",
       "[1] \"APLF\"  \"APTX\"  \"ERCC6\" \"ERCC8\" \"LIG4\"  \"PARP1\"\n",
       "\n",
       "$`GO:0000018`\n",
       "[1] \"ABL1\"   \"ACTB\"   \"ACTL6A\" \"ACTR2\"  \"ALYREF\" \"ANKLE1\"\n",
       "\n",
       "$`GO:0000022`\n",
       "[1] \"AURKB\"  \"AURKC\"  \"BIRC5\"  \"CDCA8\"  \"INCENP\" \"KIF23\" \n"
      ]
     },
     "metadata": {},
     "output_type": "display_data"
    }
   ],
   "source": [
    "# Load the pathways into a named list\n",
    "GO_term_hallmark <- gmtPathways(\"./data/GO_terms.gmt\")\n",
    "# Show the first few GO terms, and within those, show only the first few genes.\n",
    "tmp = lapply(GO_term_hallmark, head)\n",
    "tmp[1:5]"
   ]
  },
  {
   "cell_type": "markdown",
   "id": "d06027d9",
   "metadata": {},
   "source": [
    "Running the FGSEA can be done by calling the `fgsea` with two required inputs that we created from the two previous steps.\n",
    "\n",
    "Used **arguments** of the `fgsea` function:\n",
    "- `pathways` (*list*): List of gene sets to check.\n",
    "- `stats` (*numeric vector*): Named vector of gene-level stats. Names should be the same as in 'pathways'."
   ]
  },
  {
   "cell_type": "code",
   "execution_count": 24,
   "id": "6efd9f83",
   "metadata": {},
   "outputs": [],
   "source": [
    "# Running fgsea\n",
    "suppressWarnings(fgseaRes <- fgsea(pathways = GO_term_hallmark,\n",
    "                  stats = stats\n",
    "                  ))"
   ]
  },
  {
   "cell_type": "markdown",
   "id": "ad26fa54",
   "metadata": {},
   "source": [
    "The output of the FGSEA method is a table where rows are GO terms IDs or pathway IDs. The columns are *p-values*, *adjusted p-values*, *Enrichment Score*, etc."
   ]
  },
  {
   "cell_type": "code",
   "execution_count": 29,
   "id": "f90ac106",
   "metadata": {},
   "outputs": [
    {
     "data": {
      "text/html": [
       "<table class=\"dataframe\">\n",
       "<caption>A data.table: 6 × 7</caption>\n",
       "<thead>\n",
       "\t<tr><th scope=col>pathway</th><th scope=col>pval</th><th scope=col>padj</th><th scope=col>log2err</th><th scope=col>ES</th><th scope=col>NES</th><th scope=col>size</th></tr>\n",
       "\t<tr><th scope=col>&lt;chr&gt;</th><th scope=col>&lt;dbl&gt;</th><th scope=col>&lt;dbl&gt;</th><th scope=col>&lt;dbl&gt;</th><th scope=col>&lt;dbl&gt;</th><th scope=col>&lt;dbl&gt;</th><th scope=col>&lt;int&gt;</th></tr>\n",
       "</thead>\n",
       "<tbody>\n",
       "\t<tr><td>GO:0006122</td><td>8.953719e-06</td><td>0.04648262</td><td>0.5933255</td><td>-0.7106070</td><td>-2.576761</td><td> 11</td></tr>\n",
       "\t<tr><td>GO:0050907</td><td>1.940800e-05</td><td>0.04648262</td><td>0.5756103</td><td> 0.3788597</td><td> 1.572075</td><td>132</td></tr>\n",
       "\t<tr><td>GO:0060390</td><td>2.028628e-05</td><td>0.04648262</td><td>0.5756103</td><td> 0.4911948</td><td> 1.855808</td><td> 46</td></tr>\n",
       "\t<tr><td>GO:0007606</td><td>8.178477e-05</td><td>0.12802215</td><td>0.5384341</td><td> 0.3450003</td><td> 1.465727</td><td>182</td></tr>\n",
       "\t<tr><td>GO:0050911</td><td>1.167654e-04</td><td>0.12802215</td><td>0.5384341</td><td> 0.3929034</td><td> 1.584887</td><td> 94</td></tr>\n",
       "\t<tr><td>GO:0030850</td><td>1.235671e-04</td><td>0.12802215</td><td>0.5188481</td><td> 0.4547892</td><td> 1.738423</td><td> 51</td></tr>\n",
       "</tbody>\n",
       "</table>\n"
      ],
      "text/latex": [
       "A data.table: 6 × 7\n",
       "\\begin{tabular}{lllllll}\n",
       " pathway & pval & padj & log2err & ES & NES & size\\\\\n",
       " <chr> & <dbl> & <dbl> & <dbl> & <dbl> & <dbl> & <int>\\\\\n",
       "\\hline\n",
       "\t GO:0006122 & 8.953719e-06 & 0.04648262 & 0.5933255 & -0.7106070 & -2.576761 &  11\\\\\n",
       "\t GO:0050907 & 1.940800e-05 & 0.04648262 & 0.5756103 &  0.3788597 &  1.572075 & 132\\\\\n",
       "\t GO:0060390 & 2.028628e-05 & 0.04648262 & 0.5756103 &  0.4911948 &  1.855808 &  46\\\\\n",
       "\t GO:0007606 & 8.178477e-05 & 0.12802215 & 0.5384341 &  0.3450003 &  1.465727 & 182\\\\\n",
       "\t GO:0050911 & 1.167654e-04 & 0.12802215 & 0.5384341 &  0.3929034 &  1.584887 &  94\\\\\n",
       "\t GO:0030850 & 1.235671e-04 & 0.12802215 & 0.5188481 &  0.4547892 &  1.738423 &  51\\\\\n",
       "\\end{tabular}\n"
      ],
      "text/markdown": [
       "\n",
       "A data.table: 6 × 7\n",
       "\n",
       "| pathway &lt;chr&gt; | pval &lt;dbl&gt; | padj &lt;dbl&gt; | log2err &lt;dbl&gt; | ES &lt;dbl&gt; | NES &lt;dbl&gt; | size &lt;int&gt; |\n",
       "|---|---|---|---|---|---|---|\n",
       "| GO:0006122 | 8.953719e-06 | 0.04648262 | 0.5933255 | -0.7106070 | -2.576761 |  11 |\n",
       "| GO:0050907 | 1.940800e-05 | 0.04648262 | 0.5756103 |  0.3788597 |  1.572075 | 132 |\n",
       "| GO:0060390 | 2.028628e-05 | 0.04648262 | 0.5756103 |  0.4911948 |  1.855808 |  46 |\n",
       "| GO:0007606 | 8.178477e-05 | 0.12802215 | 0.5384341 |  0.3450003 |  1.465727 | 182 |\n",
       "| GO:0050911 | 1.167654e-04 | 0.12802215 | 0.5384341 |  0.3929034 |  1.584887 |  94 |\n",
       "| GO:0030850 | 1.235671e-04 | 0.12802215 | 0.5188481 |  0.4547892 |  1.738423 |  51 |\n",
       "\n"
      ],
      "text/plain": [
       "  pathway    pval         padj       log2err   ES         NES       size\n",
       "1 GO:0006122 8.953719e-06 0.04648262 0.5933255 -0.7106070 -2.576761  11 \n",
       "2 GO:0050907 1.940800e-05 0.04648262 0.5756103  0.3788597  1.572075 132 \n",
       "3 GO:0060390 2.028628e-05 0.04648262 0.5756103  0.4911948  1.855808  46 \n",
       "4 GO:0007606 8.178477e-05 0.12802215 0.5384341  0.3450003  1.465727 182 \n",
       "5 GO:0050911 1.167654e-04 0.12802215 0.5384341  0.3929034  1.584887  94 \n",
       "6 GO:0030850 1.235671e-04 0.12802215 0.5188481  0.4547892  1.738423  51 "
      ]
     },
     "metadata": {},
     "output_type": "display_data"
    }
   ],
   "source": [
    "head(fgseaRes[order(pval), ][, -8])"
   ]
  },
  {
   "cell_type": "markdown",
   "id": "c7866448",
   "metadata": {},
   "source": [
    "From the result table, we can select top five up regulated GO terms and top five down regulated GO terms. Then we can plot them using the built-in function `plotGseaTable`\n",
    "\n",
    "Used **arguments** of the `plotGseaTable` function:\n",
    "\n",
    "- `pathways` (*list*): Pathways to plot table.\n",
    "- `stats` (*data.frame*): Gene-level stats.\n",
    "- `fgseaRes` (*data.frame*): Table with fgsea results.\n",
    "- `gseaParam` (*numeric*): GSEA-like parameter. Adjusts displayed statistic values, values closer to 0 flatten plots. Default = 1, value of 0.5 is a good choice too."
   ]
  },
  {
   "cell_type": "code",
   "execution_count": 30,
   "id": "f1b4ed14",
   "metadata": {},
   "outputs": [
    {
     "data": {
      "image/png": "[encoded data removed]",
      "text/plain": [
       "plot without title"
      ]
     },
     "metadata": {
      "image/png": {
       "height": 420,
       "width": 420
      }
     },
     "output_type": "display_data"
    }
   ],
   "source": [
    "topGOUp <- fgseaRes[ES > 0][head(order(pval), n=5), pathway]\n",
    "topGODown <- fgseaRes[ES < 0][head(order(pval), n=5), pathway]\n",
    "topGO <- c(topGOUp, rev(topGODown))\n",
    "# create the plot\n",
    "plotGseaTable(pathways = GO_term_hallmark[topGO], stats = stats, fgseaRes = fgseaRes,\n",
    "              gseaParam = 0.5)"
   ]
  },
  {
   "cell_type": "markdown",
   "id": "1ef50627",
   "metadata": {},
   "source": [
    "### Enrichment analysis using FGSEA and KEGG pathways\n",
    "We can perform enrichment analysis using FGSEA with KEGG pathway using the same procedure mentioned above. The only thing we need to change is the\n",
    "list of genesets that are available in the KEGG database."
   ]
  },
  {
   "cell_type": "code",
   "execution_count": 31,
   "id": "93b11008",
   "metadata": {},
   "outputs": [
    {
     "data": {
      "text/html": [
       "<dl>\n",
       "\t<dt>$hsa00010</dt>\n",
       "\t\t<dd><style>\n",
       ".list-inline {list-style: none; margin:0; padding: 0}\n",
       ".list-inline>li {display: inline-block}\n",
       ".list-inline>li:not(:last-child)::after {content: \"\\00b7\"; padding: 0 .5ex}\n",
       "</style>\n",
       "<ol class=list-inline><li>'HK3'</li><li>'HK1'</li><li>'HK2'</li><li>'HKDC1'</li><li>'GCK'</li><li>'GPI'</li></ol>\n",
       "</dd>\n",
       "\t<dt>$hsa00020</dt>\n",
       "\t\t<dd><style>\n",
       ".list-inline {list-style: none; margin:0; padding: 0}\n",
       ".list-inline>li {display: inline-block}\n",
       ".list-inline>li:not(:last-child)::after {content: \"\\00b7\"; padding: 0 .5ex}\n",
       "</style>\n",
       "<ol class=list-inline><li>'CS'</li><li>'ACLY'</li><li>'ACO2'</li><li>'ACO1'</li><li>'IDH1'</li><li>'IDH2'</li></ol>\n",
       "</dd>\n",
       "\t<dt>$hsa00030</dt>\n",
       "\t\t<dd><style>\n",
       ".list-inline {list-style: none; margin:0; padding: 0}\n",
       ".list-inline>li {display: inline-block}\n",
       ".list-inline>li:not(:last-child)::after {content: \"\\00b7\"; padding: 0 .5ex}\n",
       "</style>\n",
       "<ol class=list-inline><li>'GPI'</li><li>'G6PD'</li><li>'PGLS'</li><li>'H6PD'</li><li>'PGD'</li><li>'RPE'</li></ol>\n",
       "</dd>\n",
       "\t<dt>$hsa00040</dt>\n",
       "\t\t<dd><style>\n",
       ".list-inline {list-style: none; margin:0; padding: 0}\n",
       ".list-inline>li {display: inline-block}\n",
       ".list-inline>li:not(:last-child)::after {content: \"\\00b7\"; padding: 0 .5ex}\n",
       "</style>\n",
       "<ol class=list-inline><li>'GUSB'</li><li>'KL'</li><li>'UGT2A1'</li><li>'UGT2A3'</li><li>'UGT2B17'</li><li>'UGT2B11'</li></ol>\n",
       "</dd>\n",
       "\t<dt>$hsa00051</dt>\n",
       "\t\t<dd><style>\n",
       ".list-inline {list-style: none; margin:0; padding: 0}\n",
       ".list-inline>li {display: inline-block}\n",
       ".list-inline>li:not(:last-child)::after {content: \"\\00b7\"; padding: 0 .5ex}\n",
       "</style>\n",
       "<ol class=list-inline><li>'MPI'</li><li>'PMM2'</li><li>'PMM1'</li><li>'GMPPB'</li><li>'GMPPA'</li><li>'GMDS'</li></ol>\n",
       "</dd>\n",
       "</dl>\n"
      ],
      "text/latex": [
       "\\begin{description}\n",
       "\\item[\\$hsa00010] \\begin{enumerate*}\n",
       "\\item 'HK3'\n",
       "\\item 'HK1'\n",
       "\\item 'HK2'\n",
       "\\item 'HKDC1'\n",
       "\\item 'GCK'\n",
       "\\item 'GPI'\n",
       "\\end{enumerate*}\n",
       "\n",
       "\\item[\\$hsa00020] \\begin{enumerate*}\n",
       "\\item 'CS'\n",
       "\\item 'ACLY'\n",
       "\\item 'ACO2'\n",
       "\\item 'ACO1'\n",
       "\\item 'IDH1'\n",
       "\\item 'IDH2'\n",
       "\\end{enumerate*}\n",
       "\n",
       "\\item[\\$hsa00030] \\begin{enumerate*}\n",
       "\\item 'GPI'\n",
       "\\item 'G6PD'\n",
       "\\item 'PGLS'\n",
       "\\item 'H6PD'\n",
       "\\item 'PGD'\n",
       "\\item 'RPE'\n",
       "\\end{enumerate*}\n",
       "\n",
       "\\item[\\$hsa00040] \\begin{enumerate*}\n",
       "\\item 'GUSB'\n",
       "\\item 'KL'\n",
       "\\item 'UGT2A1'\n",
       "\\item 'UGT2A3'\n",
       "\\item 'UGT2B17'\n",
       "\\item 'UGT2B11'\n",
       "\\end{enumerate*}\n",
       "\n",
       "\\item[\\$hsa00051] \\begin{enumerate*}\n",
       "\\item 'MPI'\n",
       "\\item 'PMM2'\n",
       "\\item 'PMM1'\n",
       "\\item 'GMPPB'\n",
       "\\item 'GMPPA'\n",
       "\\item 'GMDS'\n",
       "\\end{enumerate*}\n",
       "\n",
       "\\end{description}\n"
      ],
      "text/markdown": [
       "$hsa00010\n",
       ":   1. 'HK3'\n",
       "2. 'HK1'\n",
       "3. 'HK2'\n",
       "4. 'HKDC1'\n",
       "5. 'GCK'\n",
       "6. 'GPI'\n",
       "\n",
       "\n",
       "\n",
       "$hsa00020\n",
       ":   1. 'CS'\n",
       "2. 'ACLY'\n",
       "3. 'ACO2'\n",
       "4. 'ACO1'\n",
       "5. 'IDH1'\n",
       "6. 'IDH2'\n",
       "\n",
       "\n",
       "\n",
       "$hsa00030\n",
       ":   1. 'GPI'\n",
       "2. 'G6PD'\n",
       "3. 'PGLS'\n",
       "4. 'H6PD'\n",
       "5. 'PGD'\n",
       "6. 'RPE'\n",
       "\n",
       "\n",
       "\n",
       "$hsa00040\n",
       ":   1. 'GUSB'\n",
       "2. 'KL'\n",
       "3. 'UGT2A1'\n",
       "4. 'UGT2A3'\n",
       "5. 'UGT2B17'\n",
       "6. 'UGT2B11'\n",
       "\n",
       "\n",
       "\n",
       "$hsa00051\n",
       ":   1. 'MPI'\n",
       "2. 'PMM2'\n",
       "3. 'PMM1'\n",
       "4. 'GMPPB'\n",
       "5. 'GMPPA'\n",
       "6. 'GMDS'\n",
       "\n",
       "\n",
       "\n",
       "\n",
       "\n"
      ],
      "text/plain": [
       "$hsa00010\n",
       "[1] \"HK3\"   \"HK1\"   \"HK2\"   \"HKDC1\" \"GCK\"   \"GPI\"  \n",
       "\n",
       "$hsa00020\n",
       "[1] \"CS\"   \"ACLY\" \"ACO2\" \"ACO1\" \"IDH1\" \"IDH2\"\n",
       "\n",
       "$hsa00030\n",
       "[1] \"GPI\"  \"G6PD\" \"PGLS\" \"H6PD\" \"PGD\"  \"RPE\" \n",
       "\n",
       "$hsa00040\n",
       "[1] \"GUSB\"    \"KL\"      \"UGT2A1\"  \"UGT2A3\"  \"UGT2B17\" \"UGT2B11\"\n",
       "\n",
       "$hsa00051\n",
       "[1] \"MPI\"   \"PMM2\"  \"PMM1\"  \"GMPPB\" \"GMPPA\" \"GMDS\" \n"
      ]
     },
     "metadata": {},
     "output_type": "display_data"
    }
   ],
   "source": [
    "# Load the pathways into a named list\n",
    "KEGG_hallmark <- gmtPathways(\"./data/KEGG_pathways.gmt\")\n",
    "# Show the first few GO terms, and within those, show only the first few genes.\n",
    "tmp = lapply(KEGG_hallmark, head)\n",
    "tmp[1:5]"
   ]
  },
  {
   "cell_type": "code",
   "execution_count": 32,
   "id": "9eb1ede2",
   "metadata": {},
   "outputs": [],
   "source": [
    "# Running fgsea\n",
    "suppressWarnings(fgseaRes <- fgsea(pathways = KEGG_hallmark,\n",
    "                  stats    = stats))"
   ]
  },
  {
   "cell_type": "code",
   "execution_count": 33,
   "id": "cbe55bb6",
   "metadata": {},
   "outputs": [
    {
     "data": {
      "text/html": [
       "<table class=\"dataframe\">\n",
       "<caption>A data.table: 6 × 7</caption>\n",
       "<thead>\n",
       "\t<tr><th scope=col>pathway</th><th scope=col>pval</th><th scope=col>padj</th><th scope=col>log2err</th><th scope=col>ES</th><th scope=col>NES</th><th scope=col>size</th></tr>\n",
       "\t<tr><th scope=col>&lt;chr&gt;</th><th scope=col>&lt;dbl&gt;</th><th scope=col>&lt;dbl&gt;</th><th scope=col>&lt;dbl&gt;</th><th scope=col>&lt;dbl&gt;</th><th scope=col>&lt;dbl&gt;</th><th scope=col>&lt;int&gt;</th></tr>\n",
       "</thead>\n",
       "<tbody>\n",
       "\t<tr><td>hsa04060</td><td>3.181473e-06</td><td>0.001081701</td><td>0.6272567</td><td>0.3356103</td><td>1.457547</td><td>293</td></tr>\n",
       "\t<tr><td>hsa04740</td><td>1.058477e-03</td><td>0.179941158</td><td>0.4550599</td><td>0.3409007</td><td>1.414354</td><td>132</td></tr>\n",
       "\t<tr><td>hsa04061</td><td>2.497384e-03</td><td>0.283036864</td><td>0.4317077</td><td>0.3528680</td><td>1.439385</td><td> 98</td></tr>\n",
       "\t<tr><td>hsa04080</td><td>7.547702e-03</td><td>0.639029354</td><td>0.4070179</td><td>0.2778361</td><td>1.214380</td><td>358</td></tr>\n",
       "\t<tr><td>hsa00500</td><td>9.397490e-03</td><td>0.639029354</td><td>0.3807304</td><td>0.4184500</td><td>1.539228</td><td> 36</td></tr>\n",
       "\t<tr><td>hsa05340</td><td>1.195356e-02</td><td>0.677368355</td><td>0.3807304</td><td>0.4011639</td><td>1.480033</td><td> 37</td></tr>\n",
       "</tbody>\n",
       "</table>\n"
      ],
      "text/latex": [
       "A data.table: 6 × 7\n",
       "\\begin{tabular}{lllllll}\n",
       " pathway & pval & padj & log2err & ES & NES & size\\\\\n",
       " <chr> & <dbl> & <dbl> & <dbl> & <dbl> & <dbl> & <int>\\\\\n",
       "\\hline\n",
       "\t hsa04060 & 3.181473e-06 & 0.001081701 & 0.6272567 & 0.3356103 & 1.457547 & 293\\\\\n",
       "\t hsa04740 & 1.058477e-03 & 0.179941158 & 0.4550599 & 0.3409007 & 1.414354 & 132\\\\\n",
       "\t hsa04061 & 2.497384e-03 & 0.283036864 & 0.4317077 & 0.3528680 & 1.439385 &  98\\\\\n",
       "\t hsa04080 & 7.547702e-03 & 0.639029354 & 0.4070179 & 0.2778361 & 1.214380 & 358\\\\\n",
       "\t hsa00500 & 9.397490e-03 & 0.639029354 & 0.3807304 & 0.4184500 & 1.539228 &  36\\\\\n",
       "\t hsa05340 & 1.195356e-02 & 0.677368355 & 0.3807304 & 0.4011639 & 1.480033 &  37\\\\\n",
       "\\end{tabular}\n"
      ],
      "text/markdown": [
       "\n",
       "A data.table: 6 × 7\n",
       "\n",
       "| pathway &lt;chr&gt; | pval &lt;dbl&gt; | padj &lt;dbl&gt; | log2err &lt;dbl&gt; | ES &lt;dbl&gt; | NES &lt;dbl&gt; | size &lt;int&gt; |\n",
       "|---|---|---|---|---|---|---|\n",
       "| hsa04060 | 3.181473e-06 | 0.001081701 | 0.6272567 | 0.3356103 | 1.457547 | 293 |\n",
       "| hsa04740 | 1.058477e-03 | 0.179941158 | 0.4550599 | 0.3409007 | 1.414354 | 132 |\n",
       "| hsa04061 | 2.497384e-03 | 0.283036864 | 0.4317077 | 0.3528680 | 1.439385 |  98 |\n",
       "| hsa04080 | 7.547702e-03 | 0.639029354 | 0.4070179 | 0.2778361 | 1.214380 | 358 |\n",
       "| hsa00500 | 9.397490e-03 | 0.639029354 | 0.3807304 | 0.4184500 | 1.539228 |  36 |\n",
       "| hsa05340 | 1.195356e-02 | 0.677368355 | 0.3807304 | 0.4011639 | 1.480033 |  37 |\n",
       "\n"
      ],
      "text/plain": [
       "  pathway  pval         padj        log2err   ES        NES      size\n",
       "1 hsa04060 3.181473e-06 0.001081701 0.6272567 0.3356103 1.457547 293 \n",
       "2 hsa04740 1.058477e-03 0.179941158 0.4550599 0.3409007 1.414354 132 \n",
       "3 hsa04061 2.497384e-03 0.283036864 0.4317077 0.3528680 1.439385  98 \n",
       "4 hsa04080 7.547702e-03 0.639029354 0.4070179 0.2778361 1.214380 358 \n",
       "5 hsa00500 9.397490e-03 0.639029354 0.3807304 0.4184500 1.539228  36 \n",
       "6 hsa05340 1.195356e-02 0.677368355 0.3807304 0.4011639 1.480033  37 "
      ]
     },
     "metadata": {},
     "output_type": "display_data"
    }
   ],
   "source": [
    "head(fgseaRes[order(pval), ][, -8])"
   ]
  },
  {
   "cell_type": "code",
   "execution_count": 34,
   "id": "a63408eb",
   "metadata": {},
   "outputs": [
    {
     "data": {
      "image/png": "[encoded data removed]",
      "text/plain": [
       "plot without title"
      ]
     },
     "metadata": {
      "image/png": {
       "height": 420,
       "width": 420
      }
     },
     "output_type": "display_data"
    }
   ],
   "source": [
    "# select the top five up-regulated pathways \n",
    "topPathwaysUp <- fgseaRes[ES > 0][head(order(pval), n=5), pathway]\n",
    "# select the top five down-regulated pathways \n",
    "topPathwaysDown <- fgseaRes[ES < 0][head(order(pval), n=5), pathway]\n",
    "# concatenate them for visualization\n",
    "topPathways <- c(topPathwaysUp, rev(topPathwaysDown))\n",
    "#Viewing the 5 most significantly up-regulated and down-regulated pathways each with the FGSEA internal plot function\n",
    "plotGseaTable(pathways = KEGG_hallmark[topPathways], stats = stats, fgseaRes = fgseaRes,\n",
    "              gseaParam = 0.5)"
   ]
  },
  {
   "cell_type": "markdown",
   "id": "181989b1",
   "metadata": {},
   "source": [
    "## Gene Set Enrichment Analysis using GSA"
   ]
  },
  {
   "cell_type": "markdown",
   "id": "c2f471b1",
   "metadata": {},
   "source": [
    "Gene Set Analysis (GSA), an Enrichment Analysis, is a method that is commonly used to summarize high-dimensional gene expression data sets into sets according to their biological relevance. GSA takes the ranked gene lists from the initial stage of a gene expression analysis and aggregates the genes into sets based on shared biological or functional properties as specified by a reference knowledge base. Such databases often contain phenotype associations, molecular interactions and regulation and are referenced in the analysis of the resultant gene sets to find the relevance of the gene properties to the phenotype of interest."
   ]
  },
  {
   "cell_type": "code",
   "execution_count": 31,
   "id": "443e636c-265e-4829-85f3-1999eeff4385",
   "metadata": {},
   "outputs": [
    {
     "data": {
      "text/html": [
       "<iframe src=\"./Quizzes/Quiz_Submodule4-4.html\" width=100% height=250></iframe>"
      ]
     },
     "metadata": {},
     "output_type": "display_data"
    }
   ],
   "source": [
    "#Run the following command to take the quiz\n",
    "IRdisplay::display_html('<iframe src=\"./Quizzes/Quiz_Submodule4-4.html\" width=100% height=250></iframe>')"
   ]
  },
  {
   "cell_type": "markdown",
   "id": "0f0c9233",
   "metadata": {},
   "source": [
    "### Data preparation\n",
    "The GSA method is freely available as standalone package in CRAN repository. We can use the following code to install the package."
   ]
  },
  {
   "cell_type": "code",
   "execution_count": 35,
   "id": "c3efb930",
   "metadata": {},
   "outputs": [],
   "source": [
    "# Install GSA from CRAN\n",
    "suppressMessages({if (!require(\"GSA\"))\n",
    "        suppressWarnings(install.packages(\"GSA\"))\n",
    "})"
   ]
  },
  {
   "cell_type": "code",
   "execution_count": 36,
   "id": "ee423bc8-1c31-46b5-8955-5d89f6f1a745",
   "metadata": {},
   "outputs": [],
   "source": [
    "suppressMessages({\n",
    "  library(GSA)\n",
    "})"
   ]
  },
  {
   "cell_type": "markdown",
   "id": "e4a2ed98",
   "metadata": {},
   "source": [
    "The GSA method requires an expression matrix, a numeric vector containing the class of each sample and a vector of genes the inputs. We can easily get those inputs by loading the data that we processed in the [**Module 01** ](./Module01-GEO_Data_Processing.ipynb)."
   ]
  },
  {
   "cell_type": "code",
   "execution_count": 37,
   "id": "3982c128",
   "metadata": {},
   "outputs": [],
   "source": [
    "# Loading expression data with groups\n",
    "data <- readRDS(\"./data/GSE48350.rds\")\n",
    "expression_data <- data$expression_data\n",
    "norm_expression_data <- data$norm_expression_data\n",
    "groups <- data$groups"
   ]
  },
  {
   "cell_type": "markdown",
   "id": "ad173974",
   "metadata": {},
   "source": [
    "We can also use the sample approach available in the [**Module 01** ](./Module01-GEO_Data_Processing.ipynb) to map the probe IDs to gene symbols. The step-by-step coding instruction is shown below:"
   ]
  },
  {
   "cell_type": "code",
   "execution_count": 38,
   "id": "e0d1acf4",
   "metadata": {},
   "outputs": [],
   "source": [
    "# Get the probe IDs\n",
    "expression_data$PROBEID <- rownames(expression_data)\n",
    "probeIDs <- rownames(expression_data)\n",
    "# Perform gene mapping\n",
    "suppressMessages({\n",
    "  annotLookup <- AnnotationDbi::select(hgu133plus2.db, keys = probeIDs, columns = c('PROBEID', 'GENENAME', 'SYMBOL'))\n",
    "})\n",
    "# Merge DE result  data frame with annotation table\n",
    "new_expression_data = merge(annotLookup, expression_data, by=\"PROBEID\")\n",
    "# Remove NA value\n",
    "new_expression_data <- new_expression_data[!is.na(new_expression_data$SYMBOL),]\n",
    "# Remove duplicated genes symbol\n",
    "new_expression_data <-  new_expression_data[!duplicated(new_expression_data$SYMBOL,fromLast=FALSE),]\n",
    "rownames(new_expression_data) <- new_expression_data$SYMBOL\n",
    "# Drop PROBEID, GENENAME, and SYMBOL columns\n",
    "new_expression_data <- new_expression_data[,-c(1:3)]\n",
    "genenames= rownames(new_expression_data)"
   ]
  },
  {
   "cell_type": "markdown",
   "id": "f8acf4f4",
   "metadata": {},
   "source": [
    "### GSA Enrichment Analysis using GO Terms\n",
    "Using data obtained from the previous step, we can run the GSA method by calling the function `GSA`. We can reuse `GO_term_hallmark` and `KEGG_hallmark` loaded in FGSEA to perform analysis. The code details are shown below:"
   ]
  },
  {
   "cell_type": "markdown",
   "id": "d60c66b0-038f-4645-8076-10fb60436a69",
   "metadata": {},
   "source": [
    "Used **arguments** of the `GSA` function:\n",
    "- `x` (*matrix*): Data x: p by n matrix of features (expression values), one observation per column (missing values allowed); y: n-vector of outcome measurements.\n",
    "- `y` (*numeric vector*): Vector of response values: 1,2 for two class problem, or 1,2,3 ... for multiclass problem, or real numbers for quantitative or survival problems\n",
    "- `genesets` (*list*): Gene set collection.\n",
    "- `genenames` (*vector*): Vector of genenames in expression dataset.\n",
    "- `resp.type` (*character*): Problem type: \"quantitative\" for a continuous parameter; \"Two class unpaired\" ; \"Survival\" for censored survival outcome; \"Multiclass\" : more than 2 groups, coded 1,2,3...; \"Two class paired\" for paired outcomes, coded -1,1 (first pair), -2,2 (second pair), etc.\n",
    "- `nperms` (*numeric*): Number of permutations used to estimate false discovery rates.\n",
    "- `random.seed` (*integer*): Optional initial seed for random number generator."
   ]
  },
  {
   "cell_type": "markdown",
   "id": "0648ecb6-f0ec-41aa-b3e6-e812ba18d85c",
   "metadata": {},
   "source": [
    "<div class=\"alert alert-block alert-danger\">\n",
    "    <i class=\"fa fa-exclamation-circle\" aria-hidden=\"true\"></i>\n",
    "    <b>Alert: </b>  Please note that the outputs generated from GSA can be varied depending on R environments and software versions. Especially, when the users run the scripts using User-managed Notebooks instances which have a preinstalled suite of packages.\n",
    "</div>"
   ]
  },
  {
   "cell_type": "code",
   "execution_count": 41,
   "id": "e026aa03",
   "metadata": {},
   "outputs": [
    {
     "name": "stdout",
     "output_type": "stream",
     "text": [
      "perm= 10 / 100 \n",
      "perm= 20 / 100 \n",
      "perm= 30 / 100 \n",
      "perm= 40 / 100 \n",
      "perm= 50 / 100 \n",
      "perm= 60 / 100 \n",
      "perm= 70 / 100 \n",
      "perm= 80 / 100 \n",
      "perm= 90 / 100 \n",
      "perm= 100 / 100 \n"
     ]
    }
   ],
   "source": [
    "# Getting \n",
    "genesets = GO_term_hallmark\n",
    "GSA.obj<-GSA(x = as.matrix(new_expression_data), y = as.numeric(groups$groups), genenames = genenames, genesets = genesets, resp.type = \"Two class unpaired\", nperms = 100, random.seed = 1)"
   ]
  },
  {
   "cell_type": "markdown",
   "id": "dd369a1f-3475-43c9-8583-ba577770bd45",
   "metadata": {},
   "source": [
    "Used **arguments** of the `GSA.listsets` method:\n",
    "\n",
    "- `GSA.obj` (*GSA object*): Object returned by GSA function.\n",
    "- `geneset.names` (*vector*): Optional vector of names for the gene sets.\n",
    "- `FDRcut` (*numeric*): False discovery rate cutpoint for listed sets. A value of 1 will cause all sets to be listed."
   ]
  },
  {
   "cell_type": "code",
   "execution_count": 43,
   "id": "ebba9b67",
   "metadata": {},
   "outputs": [],
   "source": [
    "# List the results from a GSA analysis\n",
    "res <- GSA.listsets(GSA.obj = GSA.obj, geneset.names = names(genesets), FDRcut = .5)"
   ]
  },
  {
   "cell_type": "markdown",
   "id": "df55e53c",
   "metadata": {},
   "source": [
    "A table of the negative gene sets. “Negative” means that lower expression of most genes in the gene set correlates with higher values of the phenotype y. E.g., for two classes coded 1,2, lower expression correlates with class 2."
   ]
  },
  {
   "cell_type": "code",
   "execution_count": 44,
   "id": "ae97649e",
   "metadata": {},
   "outputs": [
    {
     "data": {
      "text/html": [
       "<table class=\"dataframe\">\n",
       "<caption>A matrix: 6 × 5 of type chr</caption>\n",
       "<thead>\n",
       "\t<tr><th scope=col>Gene_set</th><th scope=col>Gene_set_name</th><th scope=col>Score</th><th scope=col>p-value</th><th scope=col>FDR</th></tr>\n",
       "</thead>\n",
       "<tbody>\n",
       "\t<tr><td>57 </td><td>GO:0000422</td><td>-0.4838</td><td>0</td><td>0</td></tr>\n",
       "\t<tr><td>641</td><td>GO:0006123</td><td>-1.3695</td><td>0</td><td>0</td></tr>\n",
       "\t<tr><td>893</td><td>GO:0006851</td><td>-0.802 </td><td>0</td><td>0</td></tr>\n",
       "\t<tr><td>925</td><td>GO:0006906</td><td>-0.4592</td><td>0</td><td>0</td></tr>\n",
       "\t<tr><td>976</td><td>GO:0007007</td><td>-1.2636</td><td>0</td><td>0</td></tr>\n",
       "\t<tr><td>987</td><td>GO:0007029</td><td>-0.5442</td><td>0</td><td>0</td></tr>\n",
       "</tbody>\n",
       "</table>\n"
      ],
      "text/latex": [
       "A matrix: 6 × 5 of type chr\n",
       "\\begin{tabular}{lllll}\n",
       " Gene\\_set & Gene\\_set\\_name & Score & p-value & FDR\\\\\n",
       "\\hline\n",
       "\t 57  & GO:0000422 & -0.4838 & 0 & 0\\\\\n",
       "\t 641 & GO:0006123 & -1.3695 & 0 & 0\\\\\n",
       "\t 893 & GO:0006851 & -0.802  & 0 & 0\\\\\n",
       "\t 925 & GO:0006906 & -0.4592 & 0 & 0\\\\\n",
       "\t 976 & GO:0007007 & -1.2636 & 0 & 0\\\\\n",
       "\t 987 & GO:0007029 & -0.5442 & 0 & 0\\\\\n",
       "\\end{tabular}\n"
      ],
      "text/markdown": [
       "\n",
       "A matrix: 6 × 5 of type chr\n",
       "\n",
       "| Gene_set | Gene_set_name | Score | p-value | FDR |\n",
       "|---|---|---|---|---|\n",
       "| 57  | GO:0000422 | -0.4838 | 0 | 0 |\n",
       "| 641 | GO:0006123 | -1.3695 | 0 | 0 |\n",
       "| 893 | GO:0006851 | -0.802  | 0 | 0 |\n",
       "| 925 | GO:0006906 | -0.4592 | 0 | 0 |\n",
       "| 976 | GO:0007007 | -1.2636 | 0 | 0 |\n",
       "| 987 | GO:0007029 | -0.5442 | 0 | 0 |\n",
       "\n"
      ],
      "text/plain": [
       "     Gene_set Gene_set_name Score   p-value FDR\n",
       "[1,] 57       GO:0000422    -0.4838 0       0  \n",
       "[2,] 641      GO:0006123    -1.3695 0       0  \n",
       "[3,] 893      GO:0006851    -0.802  0       0  \n",
       "[4,] 925      GO:0006906    -0.4592 0       0  \n",
       "[5,] 976      GO:0007007    -1.2636 0       0  \n",
       "[6,] 987      GO:0007029    -0.5442 0       0  "
      ]
     },
     "metadata": {},
     "output_type": "display_data"
    }
   ],
   "source": [
    "neg.table <-res$negative\n",
    "head(neg.table)"
   ]
  },
  {
   "cell_type": "markdown",
   "id": "c237dea8",
   "metadata": {},
   "source": [
    "A table of the positive gene sets. \"Positive\" means that higher expression of most genes in the gene set correlates with higher values of the phenotype y."
   ]
  },
  {
   "cell_type": "code",
   "execution_count": 45,
   "id": "e640ff47",
   "metadata": {},
   "outputs": [
    {
     "data": {
      "text/html": [
       "<table class=\"dataframe\">\n",
       "<caption>A matrix: 6 × 5 of type chr</caption>\n",
       "<thead>\n",
       "\t<tr><th scope=col>Gene_set</th><th scope=col>Gene_set_name</th><th scope=col>Score</th><th scope=col>p-value</th><th scope=col>FDR</th></tr>\n",
       "</thead>\n",
       "<tbody>\n",
       "\t<tr><td>1681</td><td>GO:0014037</td><td>0.7351</td><td>0</td><td>0</td></tr>\n",
       "\t<tr><td>1682</td><td>GO:0014044</td><td>0.9529</td><td>0</td><td>0</td></tr>\n",
       "\t<tr><td>1713</td><td>GO:0014855</td><td>0.3543</td><td>0</td><td>0</td></tr>\n",
       "\t<tr><td>1729</td><td>GO:0014912</td><td>0.6334</td><td>0</td><td>0</td></tr>\n",
       "\t<tr><td>1877</td><td>GO:0017145</td><td>0.5308</td><td>0</td><td>0</td></tr>\n",
       "\t<tr><td>2009</td><td>GO:0021533</td><td>0.596 </td><td>0</td><td>0</td></tr>\n",
       "</tbody>\n",
       "</table>\n"
      ],
      "text/latex": [
       "A matrix: 6 × 5 of type chr\n",
       "\\begin{tabular}{lllll}\n",
       " Gene\\_set & Gene\\_set\\_name & Score & p-value & FDR\\\\\n",
       "\\hline\n",
       "\t 1681 & GO:0014037 & 0.7351 & 0 & 0\\\\\n",
       "\t 1682 & GO:0014044 & 0.9529 & 0 & 0\\\\\n",
       "\t 1713 & GO:0014855 & 0.3543 & 0 & 0\\\\\n",
       "\t 1729 & GO:0014912 & 0.6334 & 0 & 0\\\\\n",
       "\t 1877 & GO:0017145 & 0.5308 & 0 & 0\\\\\n",
       "\t 2009 & GO:0021533 & 0.596  & 0 & 0\\\\\n",
       "\\end{tabular}\n"
      ],
      "text/markdown": [
       "\n",
       "A matrix: 6 × 5 of type chr\n",
       "\n",
       "| Gene_set | Gene_set_name | Score | p-value | FDR |\n",
       "|---|---|---|---|---|\n",
       "| 1681 | GO:0014037 | 0.7351 | 0 | 0 |\n",
       "| 1682 | GO:0014044 | 0.9529 | 0 | 0 |\n",
       "| 1713 | GO:0014855 | 0.3543 | 0 | 0 |\n",
       "| 1729 | GO:0014912 | 0.6334 | 0 | 0 |\n",
       "| 1877 | GO:0017145 | 0.5308 | 0 | 0 |\n",
       "| 2009 | GO:0021533 | 0.596  | 0 | 0 |\n",
       "\n"
      ],
      "text/plain": [
       "     Gene_set Gene_set_name Score  p-value FDR\n",
       "[1,] 1681     GO:0014037    0.7351 0       0  \n",
       "[2,] 1682     GO:0014044    0.9529 0       0  \n",
       "[3,] 1713     GO:0014855    0.3543 0       0  \n",
       "[4,] 1729     GO:0014912    0.6334 0       0  \n",
       "[5,] 1877     GO:0017145    0.5308 0       0  \n",
       "[6,] 2009     GO:0021533    0.596  0       0  "
      ]
     },
     "metadata": {},
     "output_type": "display_data"
    }
   ],
   "source": [
    "pos.table <-res$positive\n",
    "head(pos.table)"
   ]
  },
  {
   "cell_type": "markdown",
   "id": "bffb3bdc-7ec1-4d1e-9012-fe6cbe70b9e8",
   "metadata": {},
   "source": [
    "Used **arguments** of the `GSA.genescores` method:\n",
    "- `geneset.number` (*numeric*): Number indicating which gene set is to examined.\n",
    "- `genesets` (*list*): The gene set collection.\n",
    "- `GSA.obj` (*GSA obj*ect): Object returned by function GSA.\n",
    "- `genenames` (*vector*): Vector of gene names for gene in expression dataset.\n"
   ]
  },
  {
   "cell_type": "code",
   "execution_count": 52,
   "id": "79687f5d",
   "metadata": {
    "scrolled": true,
    "tags": []
   },
   "outputs": [
    {
     "data": {
      "text/html": [
       "<table class=\"dataframe\">\n",
       "<caption>A matrix: 114 × 2 of type chr</caption>\n",
       "<thead>\n",
       "\t<tr><th scope=col>Gene</th><th scope=col>Score</th></tr>\n",
       "</thead>\n",
       "<tbody>\n",
       "\t<tr><td>SH3GLB1  </td><td>2.729</td></tr>\n",
       "\t<tr><td>IFT88    </td><td>2.491</td></tr>\n",
       "\t<tr><td>MTMR3    </td><td>2.271</td></tr>\n",
       "\t<tr><td>TP53INP1 </td><td>2.134</td></tr>\n",
       "\t<tr><td>ATG16L2  </td><td>1.973</td></tr>\n",
       "\t<tr><td>ATG2B    </td><td>1.944</td></tr>\n",
       "\t<tr><td>ATG14    </td><td>1.935</td></tr>\n",
       "\t<tr><td>ATG7     </td><td>1.597</td></tr>\n",
       "\t<tr><td>STING1   </td><td>1.457</td></tr>\n",
       "\t<tr><td>MAP1LC3B2</td><td>1.385</td></tr>\n",
       "\t<tr><td>ATG9B    </td><td>1.105</td></tr>\n",
       "\t<tr><td>TBC1D12  </td><td>1.061</td></tr>\n",
       "\t<tr><td>FEZ1     </td><td>1    </td></tr>\n",
       "\t<tr><td>EPHB2    </td><td>0.888</td></tr>\n",
       "\t<tr><td>NUPR1    </td><td>0.822</td></tr>\n",
       "\t<tr><td>ATG4C    </td><td>0.784</td></tr>\n",
       "\t<tr><td>WDR45B   </td><td>0.775</td></tr>\n",
       "\t<tr><td>TMEM39A  </td><td>0.751</td></tr>\n",
       "\t<tr><td>PIP4K2A  </td><td>0.659</td></tr>\n",
       "\t<tr><td>ATG2A    </td><td>0.622</td></tr>\n",
       "\t<tr><td>RAB7A    </td><td>0.588</td></tr>\n",
       "\t<tr><td>EFNB1    </td><td>0.571</td></tr>\n",
       "\t<tr><td>RNF186   </td><td>0.551</td></tr>\n",
       "\t<tr><td>UBXN2A   </td><td>0.516</td></tr>\n",
       "\t<tr><td>WIPI2    </td><td>0.464</td></tr>\n",
       "\t<tr><td>BECN1    </td><td>0.392</td></tr>\n",
       "\t<tr><td>IFT20    </td><td>0.389</td></tr>\n",
       "\t<tr><td>TBC1D14  </td><td>0.381</td></tr>\n",
       "\t<tr><td>WIPI1    </td><td>0.352</td></tr>\n",
       "\t<tr><td>SNX18    </td><td>0.35 </td></tr>\n",
       "\t<tr><td>⋮</td><td>⋮</td></tr>\n",
       "\t<tr><td>SCFD1    </td><td>-1.858</td></tr>\n",
       "\t<tr><td>LRSAM1   </td><td>-1.899</td></tr>\n",
       "\t<tr><td>UBXN2B   </td><td>-1.922</td></tr>\n",
       "\t<tr><td>RAB3GAP1 </td><td>-1.924</td></tr>\n",
       "\t<tr><td>GABARAPL3</td><td>-1.988</td></tr>\n",
       "\t<tr><td>MAP1LC3B </td><td>-2.017</td></tr>\n",
       "\t<tr><td>MTOR     </td><td>-2.019</td></tr>\n",
       "\t<tr><td>RNF5     </td><td>-2.026</td></tr>\n",
       "\t<tr><td>VMP1     </td><td>-2.122</td></tr>\n",
       "\t<tr><td>SMURF1   </td><td>-2.124</td></tr>\n",
       "\t<tr><td>RAB1A    </td><td>-2.16 </td></tr>\n",
       "\t<tr><td>TRAF6    </td><td>-2.232</td></tr>\n",
       "\t<tr><td>RAB3GAP2 </td><td>-2.265</td></tr>\n",
       "\t<tr><td>PHF23    </td><td>-2.39 </td></tr>\n",
       "\t<tr><td>ATP2A2   </td><td>-2.517</td></tr>\n",
       "\t<tr><td>ATG5     </td><td>-2.518</td></tr>\n",
       "\t<tr><td>RALB     </td><td>-2.528</td></tr>\n",
       "\t<tr><td>STX12    </td><td>-2.608</td></tr>\n",
       "\t<tr><td>MOAP1    </td><td>-2.609</td></tr>\n",
       "\t<tr><td>ATG4D    </td><td>-2.669</td></tr>\n",
       "\t<tr><td>PIP4K2C  </td><td>-2.684</td></tr>\n",
       "\t<tr><td>MAP1LC3A </td><td>-2.716</td></tr>\n",
       "\t<tr><td>PINK1    </td><td>-2.797</td></tr>\n",
       "\t<tr><td>UBQLN1   </td><td>-2.802</td></tr>\n",
       "\t<tr><td>EMC6     </td><td>-2.957</td></tr>\n",
       "\t<tr><td>ATG9A    </td><td>-2.995</td></tr>\n",
       "\t<tr><td>ARFIP2   </td><td>-3.055</td></tr>\n",
       "\t<tr><td>SMC2     </td><td>-3.079</td></tr>\n",
       "\t<tr><td>SEC22B   </td><td>-3.088</td></tr>\n",
       "\t<tr><td>RB1CC1   </td><td>-4.001</td></tr>\n",
       "</tbody>\n",
       "</table>\n"
      ],
      "text/latex": [
       "A matrix: 114 × 2 of type chr\n",
       "\\begin{tabular}{ll}\n",
       " Gene & Score\\\\\n",
       "\\hline\n",
       "\t SH3GLB1   & 2.729\\\\\n",
       "\t IFT88     & 2.491\\\\\n",
       "\t MTMR3     & 2.271\\\\\n",
       "\t TP53INP1  & 2.134\\\\\n",
       "\t ATG16L2   & 1.973\\\\\n",
       "\t ATG2B     & 1.944\\\\\n",
       "\t ATG14     & 1.935\\\\\n",
       "\t ATG7      & 1.597\\\\\n",
       "\t STING1    & 1.457\\\\\n",
       "\t MAP1LC3B2 & 1.385\\\\\n",
       "\t ATG9B     & 1.105\\\\\n",
       "\t TBC1D12   & 1.061\\\\\n",
       "\t FEZ1      & 1    \\\\\n",
       "\t EPHB2     & 0.888\\\\\n",
       "\t NUPR1     & 0.822\\\\\n",
       "\t ATG4C     & 0.784\\\\\n",
       "\t WDR45B    & 0.775\\\\\n",
       "\t TMEM39A   & 0.751\\\\\n",
       "\t PIP4K2A   & 0.659\\\\\n",
       "\t ATG2A     & 0.622\\\\\n",
       "\t RAB7A     & 0.588\\\\\n",
       "\t EFNB1     & 0.571\\\\\n",
       "\t RNF186    & 0.551\\\\\n",
       "\t UBXN2A    & 0.516\\\\\n",
       "\t WIPI2     & 0.464\\\\\n",
       "\t BECN1     & 0.392\\\\\n",
       "\t IFT20     & 0.389\\\\\n",
       "\t TBC1D14   & 0.381\\\\\n",
       "\t WIPI1     & 0.352\\\\\n",
       "\t SNX18     & 0.35 \\\\\n",
       "\t ⋮ & ⋮\\\\\n",
       "\t SCFD1     & -1.858\\\\\n",
       "\t LRSAM1    & -1.899\\\\\n",
       "\t UBXN2B    & -1.922\\\\\n",
       "\t RAB3GAP1  & -1.924\\\\\n",
       "\t GABARAPL3 & -1.988\\\\\n",
       "\t MAP1LC3B  & -2.017\\\\\n",
       "\t MTOR      & -2.019\\\\\n",
       "\t RNF5      & -2.026\\\\\n",
       "\t VMP1      & -2.122\\\\\n",
       "\t SMURF1    & -2.124\\\\\n",
       "\t RAB1A     & -2.16 \\\\\n",
       "\t TRAF6     & -2.232\\\\\n",
       "\t RAB3GAP2  & -2.265\\\\\n",
       "\t PHF23     & -2.39 \\\\\n",
       "\t ATP2A2    & -2.517\\\\\n",
       "\t ATG5      & -2.518\\\\\n",
       "\t RALB      & -2.528\\\\\n",
       "\t STX12     & -2.608\\\\\n",
       "\t MOAP1     & -2.609\\\\\n",
       "\t ATG4D     & -2.669\\\\\n",
       "\t PIP4K2C   & -2.684\\\\\n",
       "\t MAP1LC3A  & -2.716\\\\\n",
       "\t PINK1     & -2.797\\\\\n",
       "\t UBQLN1    & -2.802\\\\\n",
       "\t EMC6      & -2.957\\\\\n",
       "\t ATG9A     & -2.995\\\\\n",
       "\t ARFIP2    & -3.055\\\\\n",
       "\t SMC2      & -3.079\\\\\n",
       "\t SEC22B    & -3.088\\\\\n",
       "\t RB1CC1    & -4.001\\\\\n",
       "\\end{tabular}\n"
      ],
      "text/markdown": [
       "\n",
       "A matrix: 114 × 2 of type chr\n",
       "\n",
       "| Gene | Score |\n",
       "|---|---|\n",
       "| SH3GLB1   | 2.729 |\n",
       "| IFT88     | 2.491 |\n",
       "| MTMR3     | 2.271 |\n",
       "| TP53INP1  | 2.134 |\n",
       "| ATG16L2   | 1.973 |\n",
       "| ATG2B     | 1.944 |\n",
       "| ATG14     | 1.935 |\n",
       "| ATG7      | 1.597 |\n",
       "| STING1    | 1.457 |\n",
       "| MAP1LC3B2 | 1.385 |\n",
       "| ATG9B     | 1.105 |\n",
       "| TBC1D12   | 1.061 |\n",
       "| FEZ1      | 1     |\n",
       "| EPHB2     | 0.888 |\n",
       "| NUPR1     | 0.822 |\n",
       "| ATG4C     | 0.784 |\n",
       "| WDR45B    | 0.775 |\n",
       "| TMEM39A   | 0.751 |\n",
       "| PIP4K2A   | 0.659 |\n",
       "| ATG2A     | 0.622 |\n",
       "| RAB7A     | 0.588 |\n",
       "| EFNB1     | 0.571 |\n",
       "| RNF186    | 0.551 |\n",
       "| UBXN2A    | 0.516 |\n",
       "| WIPI2     | 0.464 |\n",
       "| BECN1     | 0.392 |\n",
       "| IFT20     | 0.389 |\n",
       "| TBC1D14   | 0.381 |\n",
       "| WIPI1     | 0.352 |\n",
       "| SNX18     | 0.35  |\n",
       "| ⋮ | ⋮ |\n",
       "| SCFD1     | -1.858 |\n",
       "| LRSAM1    | -1.899 |\n",
       "| UBXN2B    | -1.922 |\n",
       "| RAB3GAP1  | -1.924 |\n",
       "| GABARAPL3 | -1.988 |\n",
       "| MAP1LC3B  | -2.017 |\n",
       "| MTOR      | -2.019 |\n",
       "| RNF5      | -2.026 |\n",
       "| VMP1      | -2.122 |\n",
       "| SMURF1    | -2.124 |\n",
       "| RAB1A     | -2.16  |\n",
       "| TRAF6     | -2.232 |\n",
       "| RAB3GAP2  | -2.265 |\n",
       "| PHF23     | -2.39  |\n",
       "| ATP2A2    | -2.517 |\n",
       "| ATG5      | -2.518 |\n",
       "| RALB      | -2.528 |\n",
       "| STX12     | -2.608 |\n",
       "| MOAP1     | -2.609 |\n",
       "| ATG4D     | -2.669 |\n",
       "| PIP4K2C   | -2.684 |\n",
       "| MAP1LC3A  | -2.716 |\n",
       "| PINK1     | -2.797 |\n",
       "| UBQLN1    | -2.802 |\n",
       "| EMC6      | -2.957 |\n",
       "| ATG9A     | -2.995 |\n",
       "| ARFIP2    | -3.055 |\n",
       "| SMC2      | -3.079 |\n",
       "| SEC22B    | -3.088 |\n",
       "| RB1CC1    | -4.001 |\n",
       "\n"
      ],
      "text/plain": [
       "      Gene      Score \n",
       " [1,] SH3GLB1   2.729 \n",
       " [2,] IFT88     2.491 \n",
       " [3,] MTMR3     2.271 \n",
       " [4,] TP53INP1  2.134 \n",
       " [5,] ATG16L2   1.973 \n",
       " [6,] ATG2B     1.944 \n",
       " [7,] ATG14     1.935 \n",
       " [8,] ATG7      1.597 \n",
       " [9,] STING1    1.457 \n",
       "[10,] MAP1LC3B2 1.385 \n",
       "[11,] ATG9B     1.105 \n",
       "[12,] TBC1D12   1.061 \n",
       "[13,] FEZ1      1     \n",
       "[14,] EPHB2     0.888 \n",
       "[15,] NUPR1     0.822 \n",
       "[16,] ATG4C     0.784 \n",
       "[17,] WDR45B    0.775 \n",
       "[18,] TMEM39A   0.751 \n",
       "[19,] PIP4K2A   0.659 \n",
       "[20,] ATG2A     0.622 \n",
       "[21,] RAB7A     0.588 \n",
       "[22,] EFNB1     0.571 \n",
       "[23,] RNF186    0.551 \n",
       "[24,] UBXN2A    0.516 \n",
       "[25,] WIPI2     0.464 \n",
       "[26,] BECN1     0.392 \n",
       "[27,] IFT20     0.389 \n",
       "[28,] TBC1D14   0.381 \n",
       "[29,] WIPI1     0.352 \n",
       "[30,] SNX18     0.35  \n",
       "[31,] ⋮         ⋮     \n",
       "[32,] SCFD1     -1.858\n",
       "[33,] LRSAM1    -1.899\n",
       "[34,] UBXN2B    -1.922\n",
       "[35,] RAB3GAP1  -1.924\n",
       "[36,] GABARAPL3 -1.988\n",
       "[37,] MAP1LC3B  -2.017\n",
       "[38,] MTOR      -2.019\n",
       "[39,] RNF5      -2.026\n",
       "[40,] VMP1      -2.122\n",
       "[41,] SMURF1    -2.124\n",
       "[42,] RAB1A     -2.16 \n",
       "[43,] TRAF6     -2.232\n",
       "[44,] RAB3GAP2  -2.265\n",
       "[45,] PHF23     -2.39 \n",
       "[46,] ATP2A2    -2.517\n",
       "[47,] ATG5      -2.518\n",
       "[48,] RALB      -2.528\n",
       "[49,] STX12     -2.608\n",
       "[50,] MOAP1     -2.609\n",
       "[51,] ATG4D     -2.669\n",
       "[52,] PIP4K2C   -2.684\n",
       "[53,] MAP1LC3A  -2.716\n",
       "[54,] PINK1     -2.797\n",
       "[55,] UBQLN1    -2.802\n",
       "[56,] EMC6      -2.957\n",
       "[57,] ATG9A     -2.995\n",
       "[58,] ARFIP2    -3.055\n",
       "[59,] SMC2      -3.079\n",
       "[60,] SEC22B    -3.088\n",
       "[61,] RB1CC1    -4.001"
      ]
     },
     "metadata": {},
     "output_type": "display_data"
    }
   ],
   "source": [
    "# Individual gene scores from a gene set analysis\n",
    "# look at 10th gene set\n",
    "GSA.genescores(geneset.number = 10, genesets = genesets, GSA.obj = GSA.obj, genenames = genenames)"
   ]
  },
  {
   "cell_type": "markdown",
   "id": "7d76b9c0-d891-4622-8b3e-1311ab6b85b7",
   "metadata": {},
   "source": [
    "Used **argument** of `GSA.plot` method:\n",
    "- `GSA.obj` (*GSA object*): Object returned by GSA function.\n",
    "- `fac` (*numeric*): value for jittering points in plot (\"factor\" in called to jitter()).\n",
    "- `FDRcut` (*numeric*): False discovery rate cutpoint for sets to be plotted. A value of 1 (the default) will cause all sets to be plotted.plotted\r\n",
    "\r\n"
   ]
  },
  {
   "cell_type": "code",
   "execution_count": 53,
   "id": "1cfde1f8",
   "metadata": {},
   "outputs": [
    {
     "data": {
      "image/png": "[encoded data removed]",
      "text/plain": [
       "plot without title"
      ]
     },
     "metadata": {
      "image/png": {
       "height": 420,
       "width": 420
      }
     },
     "output_type": "display_data"
    }
   ],
   "source": [
    "# Plot the result, this function makes a plot of the significant gene sets, based on a call to the GSA (Gene set analysis) function.\n",
    "suppressWarnings(GSA.plot(GSA.obj, fac=1, FDRcut = 0.5))"
   ]
  },
  {
   "cell_type": "markdown",
   "id": "7107ef92",
   "metadata": {},
   "source": [
    "### GSA Enrichment analysis using KEGG pathways\n",
    "We can use the same procedure to per enrichment analysis with the KEGG pathway. All the codes are similar but `genesets` are assigned from `KEGG_hallmark`. The code is shown below."
   ]
  },
  {
   "cell_type": "code",
   "execution_count": 54,
   "id": "361aff0b",
   "metadata": {},
   "outputs": [
    {
     "name": "stdout",
     "output_type": "stream",
     "text": [
      "perm= 10 / 100 \n",
      "perm= 20 / 100 \n",
      "perm= 30 / 100 \n",
      "perm= 40 / 100 \n",
      "perm= 50 / 100 \n",
      "perm= 60 / 100 \n",
      "perm= 70 / 100 \n",
      "perm= 80 / 100 \n",
      "perm= 90 / 100 \n",
      "perm= 100 / 100 \n"
     ]
    }
   ],
   "source": [
    "genesets = KEGG_hallmark\n",
    "GSA.obj<-GSA(x = as.matrix(new_expression_data), y = as.numeric(groups$groups), genenames=genenames, genesets=genesets, resp.type=\"Two class unpaired\", nperms=100, random.seed=1)"
   ]
  },
  {
   "cell_type": "code",
   "execution_count": 55,
   "id": "00afb710",
   "metadata": {},
   "outputs": [],
   "source": [
    "# List the results from a GSA analysis\n",
    "res <- GSA.listsets(GSA.obj = GSA.obj, geneset.names = names(genesets), FDRcut = .5)"
   ]
  },
  {
   "cell_type": "markdown",
   "id": "e15cdae3",
   "metadata": {},
   "source": [
    "A table of the negative gene sets. \"Negative\" means that lower expression of most genes in the gene set correlates with higher values of the phenotype y. E.g., for two classes coded 1,2, lower expression correlates with class 2."
   ]
  },
  {
   "cell_type": "code",
   "execution_count": 56,
   "id": "c9e7aad4",
   "metadata": {},
   "outputs": [
    {
     "data": {
      "text/html": [
       "<table class=\"dataframe\">\n",
       "<caption>A matrix: 6 × 5 of type chr</caption>\n",
       "<thead>\n",
       "\t<tr><th scope=col>Gene_set</th><th scope=col>Gene_set_name</th><th scope=col>Score</th><th scope=col>p-value</th><th scope=col>FDR</th></tr>\n",
       "</thead>\n",
       "<tbody>\n",
       "\t<tr><td>214</td><td>hsa04260</td><td>-0.6732</td><td>0   </td><td>0     </td></tr>\n",
       "\t<tr><td>239</td><td>hsa04723</td><td>-0.703 </td><td>0   </td><td>0     </td></tr>\n",
       "\t<tr><td>15 </td><td>hsa00190</td><td>-1.0477</td><td>0.01</td><td>0.2485</td></tr>\n",
       "\t<tr><td>89 </td><td>hsa00970</td><td>-0.8305</td><td>0.01</td><td>0.2485</td></tr>\n",
       "\t<tr><td>252</td><td>hsa04714</td><td>-0.523 </td><td>0.01</td><td>0.2485</td></tr>\n",
       "\t<tr><td>318</td><td>hsa05010</td><td>-0.497 </td><td>0.01</td><td>0.2485</td></tr>\n",
       "</tbody>\n",
       "</table>\n"
      ],
      "text/latex": [
       "A matrix: 6 × 5 of type chr\n",
       "\\begin{tabular}{lllll}\n",
       " Gene\\_set & Gene\\_set\\_name & Score & p-value & FDR\\\\\n",
       "\\hline\n",
       "\t 214 & hsa04260 & -0.6732 & 0    & 0     \\\\\n",
       "\t 239 & hsa04723 & -0.703  & 0    & 0     \\\\\n",
       "\t 15  & hsa00190 & -1.0477 & 0.01 & 0.2485\\\\\n",
       "\t 89  & hsa00970 & -0.8305 & 0.01 & 0.2485\\\\\n",
       "\t 252 & hsa04714 & -0.523  & 0.01 & 0.2485\\\\\n",
       "\t 318 & hsa05010 & -0.497  & 0.01 & 0.2485\\\\\n",
       "\\end{tabular}\n"
      ],
      "text/markdown": [
       "\n",
       "A matrix: 6 × 5 of type chr\n",
       "\n",
       "| Gene_set | Gene_set_name | Score | p-value | FDR |\n",
       "|---|---|---|---|---|\n",
       "| 214 | hsa04260 | -0.6732 | 0    | 0      |\n",
       "| 239 | hsa04723 | -0.703  | 0    | 0      |\n",
       "| 15  | hsa00190 | -1.0477 | 0.01 | 0.2485 |\n",
       "| 89  | hsa00970 | -0.8305 | 0.01 | 0.2485 |\n",
       "| 252 | hsa04714 | -0.523  | 0.01 | 0.2485 |\n",
       "| 318 | hsa05010 | -0.497  | 0.01 | 0.2485 |\n",
       "\n"
      ],
      "text/plain": [
       "     Gene_set Gene_set_name Score   p-value FDR   \n",
       "[1,] 214      hsa04260      -0.6732 0       0     \n",
       "[2,] 239      hsa04723      -0.703  0       0     \n",
       "[3,] 15       hsa00190      -1.0477 0.01    0.2485\n",
       "[4,] 89       hsa00970      -0.8305 0.01    0.2485\n",
       "[5,] 252      hsa04714      -0.523  0.01    0.2485\n",
       "[6,] 318      hsa05010      -0.497  0.01    0.2485"
      ]
     },
     "metadata": {},
     "output_type": "display_data"
    }
   ],
   "source": [
    "neg.table <- res$negative\n",
    "head(neg.table)"
   ]
  },
  {
   "cell_type": "markdown",
   "id": "e226ae92",
   "metadata": {},
   "source": [
    "A table of the positive gene sets. \"Positive\" means that higher expression of most genes in the gene set correlates with higher values of the phenotype y. See \"negative\" above for more info."
   ]
  },
  {
   "cell_type": "code",
   "execution_count": 57,
   "id": "bcd7ff3e",
   "metadata": {},
   "outputs": [
    {
     "data": {
      "text/html": [
       "<table class=\"dataframe\">\n",
       "<caption>A matrix: 3 × 5 of type chr</caption>\n",
       "<thead>\n",
       "\t<tr><th scope=col>Gene_set</th><th scope=col>Gene_set_name</th><th scope=col>Score</th><th scope=col>p-value</th><th scope=col>FDR</th></tr>\n",
       "</thead>\n",
       "<tbody>\n",
       "\t<tr><td>7  </td><td>hsa00053</td><td>0.7726</td><td>0</td><td>0</td></tr>\n",
       "\t<tr><td>164</td><td>hsa04520</td><td>0.474 </td><td>0</td><td>0</td></tr>\n",
       "\t<tr><td>169</td><td>hsa04810</td><td>0.2231</td><td>0</td><td>0</td></tr>\n",
       "</tbody>\n",
       "</table>\n"
      ],
      "text/latex": [
       "A matrix: 3 × 5 of type chr\n",
       "\\begin{tabular}{lllll}\n",
       " Gene\\_set & Gene\\_set\\_name & Score & p-value & FDR\\\\\n",
       "\\hline\n",
       "\t 7   & hsa00053 & 0.7726 & 0 & 0\\\\\n",
       "\t 164 & hsa04520 & 0.474  & 0 & 0\\\\\n",
       "\t 169 & hsa04810 & 0.2231 & 0 & 0\\\\\n",
       "\\end{tabular}\n"
      ],
      "text/markdown": [
       "\n",
       "A matrix: 3 × 5 of type chr\n",
       "\n",
       "| Gene_set | Gene_set_name | Score | p-value | FDR |\n",
       "|---|---|---|---|---|\n",
       "| 7   | hsa00053 | 0.7726 | 0 | 0 |\n",
       "| 164 | hsa04520 | 0.474  | 0 | 0 |\n",
       "| 169 | hsa04810 | 0.2231 | 0 | 0 |\n",
       "\n"
      ],
      "text/plain": [
       "     Gene_set Gene_set_name Score  p-value FDR\n",
       "[1,] 7        hsa00053      0.7726 0       0  \n",
       "[2,] 164      hsa04520      0.474  0       0  \n",
       "[3,] 169      hsa04810      0.2231 0       0  "
      ]
     },
     "metadata": {},
     "output_type": "display_data"
    }
   ],
   "source": [
    "pos.table <- res$positive\n",
    "head(pos.table)"
   ]
  },
  {
   "cell_type": "code",
   "execution_count": 58,
   "id": "0d676c13",
   "metadata": {
    "scrolled": true,
    "tags": []
   },
   "outputs": [
    {
     "data": {
      "text/html": [
       "<table class=\"dataframe\">\n",
       "<caption>A matrix: 47 × 2 of type chr</caption>\n",
       "<thead>\n",
       "\t<tr><th scope=col>Gene</th><th scope=col>Score</th></tr>\n",
       "</thead>\n",
       "<tbody>\n",
       "\t<tr><td>ALDH9A1</td><td>2.707 </td></tr>\n",
       "\t<tr><td>ACSS1  </td><td>2.612 </td></tr>\n",
       "\t<tr><td>ADH1B  </td><td>1.513 </td></tr>\n",
       "\t<tr><td>GRHPR  </td><td>0.854 </td></tr>\n",
       "\t<tr><td>ALDH2  </td><td>0.768 </td></tr>\n",
       "\t<tr><td>ALDH3A2</td><td>0.726 </td></tr>\n",
       "\t<tr><td>ALDH7A1</td><td>0.64  </td></tr>\n",
       "\t<tr><td>ACACB  </td><td>0.455 </td></tr>\n",
       "\t<tr><td>ADH6   </td><td>0.346 </td></tr>\n",
       "\t<tr><td>LDHAL6B</td><td>0.22  </td></tr>\n",
       "\t<tr><td>LDHD   </td><td>0.22  </td></tr>\n",
       "\t<tr><td>ADH4   </td><td>0.186 </td></tr>\n",
       "\t<tr><td>ADH1C  </td><td>0.146 </td></tr>\n",
       "\t<tr><td>ADH5   </td><td>0.136 </td></tr>\n",
       "\t<tr><td>ACSS2  </td><td>0.053 </td></tr>\n",
       "\t<tr><td>PKLR   </td><td>0.045 </td></tr>\n",
       "\t<tr><td>PCK1   </td><td>-0.022</td></tr>\n",
       "\t<tr><td>ADH1A  </td><td>-0.123</td></tr>\n",
       "\t<tr><td>PCK2   </td><td>-0.16 </td></tr>\n",
       "\t<tr><td>PC     </td><td>-0.213</td></tr>\n",
       "\t<tr><td>PDHA2  </td><td>-0.239</td></tr>\n",
       "\t<tr><td>ADH7   </td><td>-0.378</td></tr>\n",
       "\t<tr><td>ACOT12 </td><td>-0.533</td></tr>\n",
       "\t<tr><td>AKR1A1 </td><td>-0.559</td></tr>\n",
       "\t<tr><td>ALDH1B1</td><td>-0.623</td></tr>\n",
       "\t<tr><td>ACAT1  </td><td>-0.689</td></tr>\n",
       "\t<tr><td>LDHC   </td><td>-0.882</td></tr>\n",
       "\t<tr><td>LDHAL6A</td><td>-0.939</td></tr>\n",
       "\t<tr><td>PDHB   </td><td>-1.449</td></tr>\n",
       "\t<tr><td>DLD    </td><td>-1.453</td></tr>\n",
       "\t<tr><td>LDHB   </td><td>-1.481</td></tr>\n",
       "\t<tr><td>ME2    </td><td>-1.546</td></tr>\n",
       "\t<tr><td>ACAT2  </td><td>-1.793</td></tr>\n",
       "\t<tr><td>PKM    </td><td>-1.877</td></tr>\n",
       "\t<tr><td>HAGH   </td><td>-1.899</td></tr>\n",
       "\t<tr><td>DLAT   </td><td>-1.904</td></tr>\n",
       "\t<tr><td>ME3    </td><td>-2.031</td></tr>\n",
       "\t<tr><td>MDH1   </td><td>-2.045</td></tr>\n",
       "\t<tr><td>ACYP2  </td><td>-2.244</td></tr>\n",
       "\t<tr><td>GLO1   </td><td>-2.309</td></tr>\n",
       "\t<tr><td>FH     </td><td>-2.453</td></tr>\n",
       "\t<tr><td>MDH2   </td><td>-2.547</td></tr>\n",
       "\t<tr><td>LDHA   </td><td>-2.576</td></tr>\n",
       "\t<tr><td>ACYP1  </td><td>-2.677</td></tr>\n",
       "\t<tr><td>ME1    </td><td>-2.688</td></tr>\n",
       "\t<tr><td>PDHA1  </td><td>-3.078</td></tr>\n",
       "\t<tr><td>ACACA  </td><td>-3.324</td></tr>\n",
       "</tbody>\n",
       "</table>\n"
      ],
      "text/latex": [
       "A matrix: 47 × 2 of type chr\n",
       "\\begin{tabular}{ll}\n",
       " Gene & Score\\\\\n",
       "\\hline\n",
       "\t ALDH9A1 & 2.707 \\\\\n",
       "\t ACSS1   & 2.612 \\\\\n",
       "\t ADH1B   & 1.513 \\\\\n",
       "\t GRHPR   & 0.854 \\\\\n",
       "\t ALDH2   & 0.768 \\\\\n",
       "\t ALDH3A2 & 0.726 \\\\\n",
       "\t ALDH7A1 & 0.64  \\\\\n",
       "\t ACACB   & 0.455 \\\\\n",
       "\t ADH6    & 0.346 \\\\\n",
       "\t LDHAL6B & 0.22  \\\\\n",
       "\t LDHD    & 0.22  \\\\\n",
       "\t ADH4    & 0.186 \\\\\n",
       "\t ADH1C   & 0.146 \\\\\n",
       "\t ADH5    & 0.136 \\\\\n",
       "\t ACSS2   & 0.053 \\\\\n",
       "\t PKLR    & 0.045 \\\\\n",
       "\t PCK1    & -0.022\\\\\n",
       "\t ADH1A   & -0.123\\\\\n",
       "\t PCK2    & -0.16 \\\\\n",
       "\t PC      & -0.213\\\\\n",
       "\t PDHA2   & -0.239\\\\\n",
       "\t ADH7    & -0.378\\\\\n",
       "\t ACOT12  & -0.533\\\\\n",
       "\t AKR1A1  & -0.559\\\\\n",
       "\t ALDH1B1 & -0.623\\\\\n",
       "\t ACAT1   & -0.689\\\\\n",
       "\t LDHC    & -0.882\\\\\n",
       "\t LDHAL6A & -0.939\\\\\n",
       "\t PDHB    & -1.449\\\\\n",
       "\t DLD     & -1.453\\\\\n",
       "\t LDHB    & -1.481\\\\\n",
       "\t ME2     & -1.546\\\\\n",
       "\t ACAT2   & -1.793\\\\\n",
       "\t PKM     & -1.877\\\\\n",
       "\t HAGH    & -1.899\\\\\n",
       "\t DLAT    & -1.904\\\\\n",
       "\t ME3     & -2.031\\\\\n",
       "\t MDH1    & -2.045\\\\\n",
       "\t ACYP2   & -2.244\\\\\n",
       "\t GLO1    & -2.309\\\\\n",
       "\t FH      & -2.453\\\\\n",
       "\t MDH2    & -2.547\\\\\n",
       "\t LDHA    & -2.576\\\\\n",
       "\t ACYP1   & -2.677\\\\\n",
       "\t ME1     & -2.688\\\\\n",
       "\t PDHA1   & -3.078\\\\\n",
       "\t ACACA   & -3.324\\\\\n",
       "\\end{tabular}\n"
      ],
      "text/markdown": [
       "\n",
       "A matrix: 47 × 2 of type chr\n",
       "\n",
       "| Gene | Score |\n",
       "|---|---|\n",
       "| ALDH9A1 | 2.707  |\n",
       "| ACSS1   | 2.612  |\n",
       "| ADH1B   | 1.513  |\n",
       "| GRHPR   | 0.854  |\n",
       "| ALDH2   | 0.768  |\n",
       "| ALDH3A2 | 0.726  |\n",
       "| ALDH7A1 | 0.64   |\n",
       "| ACACB   | 0.455  |\n",
       "| ADH6    | 0.346  |\n",
       "| LDHAL6B | 0.22   |\n",
       "| LDHD    | 0.22   |\n",
       "| ADH4    | 0.186  |\n",
       "| ADH1C   | 0.146  |\n",
       "| ADH5    | 0.136  |\n",
       "| ACSS2   | 0.053  |\n",
       "| PKLR    | 0.045  |\n",
       "| PCK1    | -0.022 |\n",
       "| ADH1A   | -0.123 |\n",
       "| PCK2    | -0.16  |\n",
       "| PC      | -0.213 |\n",
       "| PDHA2   | -0.239 |\n",
       "| ADH7    | -0.378 |\n",
       "| ACOT12  | -0.533 |\n",
       "| AKR1A1  | -0.559 |\n",
       "| ALDH1B1 | -0.623 |\n",
       "| ACAT1   | -0.689 |\n",
       "| LDHC    | -0.882 |\n",
       "| LDHAL6A | -0.939 |\n",
       "| PDHB    | -1.449 |\n",
       "| DLD     | -1.453 |\n",
       "| LDHB    | -1.481 |\n",
       "| ME2     | -1.546 |\n",
       "| ACAT2   | -1.793 |\n",
       "| PKM     | -1.877 |\n",
       "| HAGH    | -1.899 |\n",
       "| DLAT    | -1.904 |\n",
       "| ME3     | -2.031 |\n",
       "| MDH1    | -2.045 |\n",
       "| ACYP2   | -2.244 |\n",
       "| GLO1    | -2.309 |\n",
       "| FH      | -2.453 |\n",
       "| MDH2    | -2.547 |\n",
       "| LDHA    | -2.576 |\n",
       "| ACYP1   | -2.677 |\n",
       "| ME1     | -2.688 |\n",
       "| PDHA1   | -3.078 |\n",
       "| ACACA   | -3.324 |\n",
       "\n"
      ],
      "text/plain": [
       "      Gene    Score \n",
       " [1,] ALDH9A1 2.707 \n",
       " [2,] ACSS1   2.612 \n",
       " [3,] ADH1B   1.513 \n",
       " [4,] GRHPR   0.854 \n",
       " [5,] ALDH2   0.768 \n",
       " [6,] ALDH3A2 0.726 \n",
       " [7,] ALDH7A1 0.64  \n",
       " [8,] ACACB   0.455 \n",
       " [9,] ADH6    0.346 \n",
       "[10,] LDHAL6B 0.22  \n",
       "[11,] LDHD    0.22  \n",
       "[12,] ADH4    0.186 \n",
       "[13,] ADH1C   0.146 \n",
       "[14,] ADH5    0.136 \n",
       "[15,] ACSS2   0.053 \n",
       "[16,] PKLR    0.045 \n",
       "[17,] PCK1    -0.022\n",
       "[18,] ADH1A   -0.123\n",
       "[19,] PCK2    -0.16 \n",
       "[20,] PC      -0.213\n",
       "[21,] PDHA2   -0.239\n",
       "[22,] ADH7    -0.378\n",
       "[23,] ACOT12  -0.533\n",
       "[24,] AKR1A1  -0.559\n",
       "[25,] ALDH1B1 -0.623\n",
       "[26,] ACAT1   -0.689\n",
       "[27,] LDHC    -0.882\n",
       "[28,] LDHAL6A -0.939\n",
       "[29,] PDHB    -1.449\n",
       "[30,] DLD     -1.453\n",
       "[31,] LDHB    -1.481\n",
       "[32,] ME2     -1.546\n",
       "[33,] ACAT2   -1.793\n",
       "[34,] PKM     -1.877\n",
       "[35,] HAGH    -1.899\n",
       "[36,] DLAT    -1.904\n",
       "[37,] ME3     -2.031\n",
       "[38,] MDH1    -2.045\n",
       "[39,] ACYP2   -2.244\n",
       "[40,] GLO1    -2.309\n",
       "[41,] FH      -2.453\n",
       "[42,] MDH2    -2.547\n",
       "[43,] LDHA    -2.576\n",
       "[44,] ACYP1   -2.677\n",
       "[45,] ME1     -2.688\n",
       "[46,] PDHA1   -3.078\n",
       "[47,] ACACA   -3.324"
      ]
     },
     "metadata": {},
     "output_type": "display_data"
    }
   ],
   "source": [
    "# Individual gene scores from a gene set analysis\n",
    "# look at 10th gene set\n",
    "GSA.genescores(geneset.number = 10, genesets = genesets, GSA.obj = GSA.obj, genenames = genenames)"
   ]
  },
  {
   "cell_type": "code",
   "execution_count": 59,
   "id": "2284bc1f",
   "metadata": {},
   "outputs": [
    {
     "data": {
      "image/png": "[encoded data removed]",
      "text/plain": [
       "plot without title"
      ]
     },
     "metadata": {
      "image/png": {
       "height": 420,
       "width": 420
      }
     },
     "output_type": "display_data"
    }
   ],
   "source": [
    "# Plot the result, this function makes a plot of the significant gene sets, based on a call to the GSA (Gene set analysis) function.\n",
    "suppressWarnings(GSA.plot(GSA.obj, fac=1, FDRcut = 0.5))\n"
   ]
  },
  {
   "cell_type": "markdown",
   "id": "49fd3929-7d2e-401d-93c6-24572bec35f6",
   "metadata": {},
   "source": [
    "The next submodule will go indepth about meta analysis."
   ]
  },
  {
   "cell_type": "code",
   "execution_count": 60,
   "id": "e870e8eb-ee47-439b-8154-0a720927bd79",
   "metadata": {},
   "outputs": [
    {
     "data": {
      "text/plain": [
       "R version 4.3.2 (2023-10-31 ucrt)\n",
       "Platform: x86_64-w64-mingw32/x64 (64-bit)\n",
       "Running under: Windows 10 x64 (build 19045)\n",
       "\n",
       "Matrix products: default\n",
       "\n",
       "\n",
       "locale:\n",
       "[1] LC_COLLATE=English_United States.utf8 \n",
       "[2] LC_CTYPE=English_United States.utf8   \n",
       "[3] LC_MONETARY=English_United States.utf8\n",
       "[4] LC_NUMERIC=C                          \n",
       "[5] LC_TIME=English_United States.utf8    \n",
       "\n",
       "time zone: America/Chicago\n",
       "tzcode source: internal\n",
       "\n",
       "attached base packages:\n",
       "[1] stats4    stats     graphics  grDevices utils     datasets  methods  \n",
       "[8] base     \n",
       "\n",
       "other attached packages:\n",
       " [1] GSA_1.03.2            fgsea_1.28.0          BiocManager_1.30.22  \n",
       " [4] lubridate_1.9.3       forcats_1.0.0         stringr_1.5.1        \n",
       " [7] dplyr_1.1.4           purrr_1.0.2           readr_2.1.4          \n",
       "[10] tidyr_1.3.0           tibble_3.2.1          ggplot2_3.4.4        \n",
       "[13] tidyverse_2.0.0       hgu133plus2.db_3.13.0 org.Hs.eg.db_3.18.0  \n",
       "[16] AnnotationDbi_1.64.1  IRanges_2.36.0        S4Vectors_0.40.2     \n",
       "[19] Biobase_2.62.0        BiocGenerics_0.48.1  \n",
       "\n",
       "loaded via a namespace (and not attached):\n",
       " [1] tidyselect_1.2.0        IRdisplay_1.1           farver_2.1.1           \n",
       " [4] blob_1.2.4              Biostrings_2.70.1       bitops_1.0-7           \n",
       " [7] fastmap_1.1.1           RCurl_1.98-1.13         digest_0.6.33          \n",
       "[10] timechange_0.2.0        lifecycle_1.0.4         KEGGREST_1.42.0        \n",
       "[13] RSQLite_2.3.4           magrittr_2.0.3          compiler_4.3.2         \n",
       "[16] rlang_1.1.2             tools_4.3.2             utf8_1.2.4             \n",
       "[19] data.table_1.14.10      labeling_0.4.3          bit_4.0.5              \n",
       "[22] repr_1.1.6              BiocParallel_1.36.0     pbdZMQ_0.3-10          \n",
       "[25] withr_2.5.2             grid_4.3.2              fansi_1.0.6            \n",
       "[28] colorspace_2.1-0        scales_1.3.0            cli_3.6.2              \n",
       "[31] crayon_1.5.2            generics_0.1.3          httr_1.4.7             \n",
       "[34] tzdb_0.4.0              DBI_1.2.0               cachem_1.0.8           \n",
       "[37] zlibbioc_1.48.0         parallel_4.3.2          XVector_0.42.0         \n",
       "[40] base64enc_0.1-3         vctrs_0.6.5             Matrix_1.6-1.1         \n",
       "[43] jsonlite_1.8.8          hms_1.1.3               bit64_4.0.5            \n",
       "[46] snow_0.4-4              glue_1.6.2              codetools_0.2-19       \n",
       "[49] cowplot_1.1.2           stringi_1.8.3           gtable_0.3.4           \n",
       "[52] GenomeInfoDb_1.38.2     munsell_0.5.0           pillar_1.9.0           \n",
       "[55] htmltools_0.5.7         IRkernel_1.3.2          GenomeInfoDbData_1.2.11\n",
       "[58] R6_2.5.1                vroom_1.6.5             evaluate_0.23          \n",
       "[61] lattice_0.21-9          png_0.1-8               memoise_2.0.1          \n",
       "[64] Rcpp_1.0.11             uuid_1.1-1              fastmatch_1.1-4        \n",
       "[67] pkgconfig_2.0.3        "
      ]
     },
     "metadata": {},
     "output_type": "display_data"
    }
   ],
   "source": [
    "sessionInfo()"
   ]
  },
  {
   "cell_type": "code",
   "execution_count": null,
   "id": "ca1ba4ed-3e1c-4d5a-8554-40703527a4d5",
   "metadata": {},
   "outputs": [],
   "source": []
  },
  {
   "cell_type": "code",
   "execution_count": null,
   "id": "cff8e552-9979-4d45-9fbd-debe85a17f62",
   "metadata": {},
   "outputs": [],
   "source": []
  }
 ],
 "metadata": {
  "celltoolbar": "Tags",
  "environment": {
   "kernel": "ir",
   "name": "r-cpu.4-2.m107",
   "type": "gcloud",
   "uri": "gcr.io/deeplearning-platform-release/r-cpu.4-2:m107"
  },
  "kernelspec": {
   "display_name": "R",
   "language": "R",
   "name": "ir"
  },
  "language_info": {
   "codemirror_mode": "r",
   "file_extension": ".r",
   "mimetype": "text/x-r-source",
   "name": "R",
   "pygments_lexer": "r",
   "version": "4.3.2"
  },
  "toc-showcode": true,
  "widgets": {
   "application/vnd.jupyter.widget-state+json": {
    "state": {},
    "version_major": 2,
    "version_minor": 0
   }
  }
 },
 "nbformat": 4,
 "nbformat_minor": 5
}
