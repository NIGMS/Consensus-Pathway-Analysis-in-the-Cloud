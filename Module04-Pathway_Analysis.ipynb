{
 "cells": [
  {
   "cell_type": "markdown",
   "id": "d3716dad",
   "metadata": {},
   "source": [
    "# Enrichment Analysis\n",
    "\n",
    "Enrichment analysis (EA) is a technique used to derive biological insight from lists of significantly altered genes. The list of genes can be obtained from Differential Expression (DE) analysis or users' interest. The EA methods rely on the knowledge databases (e.g. KEGG and GO) to identify biological pathways or terms that are enriched in a gene list more than would be expected by chance. The outcome of the EA would be the in-depth and contextualized findings to help understand the mechanisms of disease, genes and proteins associated with the etiology of a specific disease or drug target.\n",
    "\n",
    "Over more than a decade, there are over 50 methods have been developed for EA. In this module, we will focus on pathway analysis using three popular methods including Over Representation Analysis (ORA), Fast Gene Set Enrichment Analysis (FGSEA), and Gene Set Analysis (GSA).\n",
    "\n",
    "## Learning Objectives:\n",
    "1. Data preparation\n",
    "2. Perform enrichment analysis using ORA, FGSEA and GSA\n",
    "3. Visualize and interpret the outputs"
   ]
  },
  {
   "cell_type": "code",
   "execution_count": 1,
   "id": "37ff2142-8b48-4250-bb3b-b47175b79f9c",
   "metadata": {},
   "outputs": [
    {
     "data": {
      "text/html": [
       "<iframe src=\"./Quizzes/Quiz_Submodule4-1.html\" width=100% height=250></iframe>"
      ]
     },
     "metadata": {},
     "output_type": "display_data"
    }
   ],
   "source": [
    "IRdisplay::display_html('<iframe src=\"./Quizzes/Quiz_Submodule4-1.html\" width=100% height=250></iframe>')"
   ]
  },
  {
   "cell_type": "markdown",
   "id": "4731471e",
   "metadata": {},
   "source": [
    "## Gene Mapping\n",
    "In this module, we will use the DE genes with statistic generated in the [**submodule 02** ](./Module02-DE_Analysis.ipynb) using `limma` R package. We can use the following command to load the DE analysis result."
   ]
  },
  {
   "cell_type": "code",
   "execution_count": 2,
   "id": "5c0da12c",
   "metadata": {},
   "outputs": [
    {
     "data": {
      "text/html": [
       "<table class=\"dataframe\">\n",
       "<caption>A data.frame: 6 × 6</caption>\n",
       "<thead>\n",
       "\t<tr><th></th><th scope=col>PROBEID</th><th scope=col>p.value</th><th scope=col>pFDR</th><th scope=col>statistic</th><th scope=col>logFC</th><th scope=col>avgExpr</th></tr>\n",
       "\t<tr><th></th><th scope=col>&lt;chr&gt;</th><th scope=col>&lt;dbl&gt;</th><th scope=col>&lt;dbl&gt;</th><th scope=col>&lt;dbl&gt;</th><th scope=col>&lt;dbl&gt;</th><th scope=col>&lt;dbl&gt;</th></tr>\n",
       "</thead>\n",
       "<tbody>\n",
       "\t<tr><th scope=row>222178_s_at</th><td>222178_s_at</td><td>4.019112e-55</td><td>2.197450e-50</td><td>-73.01106</td><td>-0.4473780</td><td>0.3653633</td></tr>\n",
       "\t<tr><th scope=row>224687_at</th><td>224687_at  </td><td>5.489424e-46</td><td>1.500671e-41</td><td>-48.92036</td><td>-4.1431631</td><td>2.2572347</td></tr>\n",
       "\t<tr><th scope=row>207488_at</th><td>207488_at  </td><td>4.735684e-41</td><td>8.630785e-37</td><td>-39.29933</td><td>-0.4017530</td><td>0.6243144</td></tr>\n",
       "\t<tr><th scope=row>239226_at</th><td>239226_at  </td><td>7.626558e-34</td><td>1.042455e-29</td><td> 28.36499</td><td> 0.4483302</td><td>1.3245501</td></tr>\n",
       "\t<tr><th scope=row>234109_x_at</th><td>234109_x_at</td><td>2.635337e-33</td><td>2.881741e-29</td><td>-27.67010</td><td>-0.2289726</td><td>0.7508256</td></tr>\n",
       "\t<tr><th scope=row>212833_at</th><td>212833_at  </td><td>2.914912e-30</td><td>2.656213e-26</td><td>-24.01172</td><td>-2.5976592</td><td>1.7308944</td></tr>\n",
       "</tbody>\n",
       "</table>\n"
      ],
      "text/latex": [
       "A data.frame: 6 × 6\n",
       "\\begin{tabular}{r|llllll}\n",
       "  & PROBEID & p.value & pFDR & statistic & logFC & avgExpr\\\\\n",
       "  & <chr> & <dbl> & <dbl> & <dbl> & <dbl> & <dbl>\\\\\n",
       "\\hline\n",
       "\t222178\\_s\\_at & 222178\\_s\\_at & 4.019112e-55 & 2.197450e-50 & -73.01106 & -0.4473780 & 0.3653633\\\\\n",
       "\t224687\\_at & 224687\\_at   & 5.489424e-46 & 1.500671e-41 & -48.92036 & -4.1431631 & 2.2572347\\\\\n",
       "\t207488\\_at & 207488\\_at   & 4.735684e-41 & 8.630785e-37 & -39.29933 & -0.4017530 & 0.6243144\\\\\n",
       "\t239226\\_at & 239226\\_at   & 7.626558e-34 & 1.042455e-29 &  28.36499 &  0.4483302 & 1.3245501\\\\\n",
       "\t234109\\_x\\_at & 234109\\_x\\_at & 2.635337e-33 & 2.881741e-29 & -27.67010 & -0.2289726 & 0.7508256\\\\\n",
       "\t212833\\_at & 212833\\_at   & 2.914912e-30 & 2.656213e-26 & -24.01172 & -2.5976592 & 1.7308944\\\\\n",
       "\\end{tabular}\n"
      ],
      "text/markdown": [
       "\n",
       "A data.frame: 6 × 6\n",
       "\n",
       "| <!--/--> | PROBEID &lt;chr&gt; | p.value &lt;dbl&gt; | pFDR &lt;dbl&gt; | statistic &lt;dbl&gt; | logFC &lt;dbl&gt; | avgExpr &lt;dbl&gt; |\n",
       "|---|---|---|---|---|---|---|\n",
       "| 222178_s_at | 222178_s_at | 4.019112e-55 | 2.197450e-50 | -73.01106 | -0.4473780 | 0.3653633 |\n",
       "| 224687_at | 224687_at   | 5.489424e-46 | 1.500671e-41 | -48.92036 | -4.1431631 | 2.2572347 |\n",
       "| 207488_at | 207488_at   | 4.735684e-41 | 8.630785e-37 | -39.29933 | -0.4017530 | 0.6243144 |\n",
       "| 239226_at | 239226_at   | 7.626558e-34 | 1.042455e-29 |  28.36499 |  0.4483302 | 1.3245501 |\n",
       "| 234109_x_at | 234109_x_at | 2.635337e-33 | 2.881741e-29 | -27.67010 | -0.2289726 | 0.7508256 |\n",
       "| 212833_at | 212833_at   | 2.914912e-30 | 2.656213e-26 | -24.01172 | -2.5976592 | 1.7308944 |\n",
       "\n"
      ],
      "text/plain": [
       "            PROBEID     p.value      pFDR         statistic logFC     \n",
       "222178_s_at 222178_s_at 4.019112e-55 2.197450e-50 -73.01106 -0.4473780\n",
       "224687_at   224687_at   5.489424e-46 1.500671e-41 -48.92036 -4.1431631\n",
       "207488_at   207488_at   4.735684e-41 8.630785e-37 -39.29933 -0.4017530\n",
       "239226_at   239226_at   7.626558e-34 1.042455e-29  28.36499  0.4483302\n",
       "234109_x_at 234109_x_at 2.635337e-33 2.881741e-29 -27.67010 -0.2289726\n",
       "212833_at   212833_at   2.914912e-30 2.656213e-26 -24.01172 -2.5976592\n",
       "            avgExpr  \n",
       "222178_s_at 0.3653633\n",
       "224687_at   2.2572347\n",
       "207488_at   0.6243144\n",
       "239226_at   1.3245501\n",
       "234109_x_at 0.7508256\n",
       "212833_at   1.7308944"
      ]
     },
     "metadata": {},
     "output_type": "display_data"
    }
   ],
   "source": [
    "# Load previously saved data\n",
    "data <- readRDS(\"./data/GSE48350.rds\")\n",
    "DE.df <- data$limma_results\n",
    "annotLookup <- data$annotLookup\n",
    "rownames(DE.df) <- DE.df$PROBEID\n",
    "head(DE.df)"
   ]
  },
  {
   "cell_type": "markdown",
   "id": "722ce8e2",
   "metadata": {},
   "source": [
    "We can see that the genes are saved with probe IDs, we need to convert them into gene symbols so that they can be analyzed using the enrichment analysis method later in this module. We will use the mapping table saved in the [**submodule 01** ](./Module01-GEO_Data_Processing.ipynb) and the `map_identifiers` function below to do that."
   ]
  },
  {
   "cell_type": "code",
   "execution_count": 3,
   "id": "0cb1e8f5-4142-49e5-89cc-1df2da15e1e7",
   "metadata": {
    "tags": []
   },
   "outputs": [
    {
     "data": {
      "text/html": [
       "<iframe src=\"./Quizzes/Quiz_Submodule4.html\" width=100% height=250></iframe>"
      ]
     },
     "metadata": {},
     "output_type": "display_data"
    }
   ],
   "source": [
    "IRdisplay::display_html('<iframe src=\"./Quizzes/Quiz_Submodule4.html\" width=100% height=250></iframe>')"
   ]
  },
  {
   "cell_type": "code",
   "execution_count": 4,
   "id": "d2c7ed63-6fe4-4402-aacc-7f9afad459ad",
   "metadata": {},
   "outputs": [],
   "source": [
    "#' @description This function maps identifiers in a dataframe using a mapping dataframe.\n",
    "#'\n",
    "#' @param data_df The dataframe containing the data to be mapped.\n",
    "#' @param mapping_df The dataframe containing the mapping information.\n",
    "#' @param data_source_col The column name in data_df containing the identifiers to be mapped (default: \"PROBEID\").\n",
    "#' @param data_target_col The column name to use for the mapped results in the output dataframe. If NULL, it uses the same name as data_source_col.\n",
    "#' @param data_result_col The optional column name to use for the mapped results in the output dataframe. If provided, it will replace data_target_col.\n",
    "#' @return A dataframe with mapped identifiers.\n",
    "#'\n",
    "# Function to map identifiers, such as probe IDs, to gene symbols using a mapping dataframe.\n",
    "map_identifiers <- function(data_df, mapping_df, data_source_col = \"PROBEID\", data_target_col = \"SYMBOL\", data_result_col = NULL) {\n",
    "\n",
    "    # Merge data_df with mapping_df based on data_source_col\n",
    "    data_df = merge(mapping_df, data_df, by = data_source_col)\n",
    "    # Remove rows with NA values in the data_target_col\n",
    "    data_df <- data_df[!is.na(data_df[, data_target_col]), ]\n",
    "    # Remove duplicated gene symbols, keeping the first occurrence\n",
    "    data_df <- data_df[!duplicated(data_df[[data_target_col]], fromLast = FALSE), ]\n",
    "    # Set row names to the values in data_target_col\n",
    "    rownames(data_df) <- data_df[[data_target_col]]\n",
    "    \n",
    "    # Drop columns from mapping_df that are merged into the result dataframe\n",
    "    if (!is.null(data_result_col)) {\n",
    "        data_df[[data_result_col]] <- data_df[[data_target_col]]\n",
    "        \n",
    "        # Check if data_result_col is the same as data_target_col\n",
    "        if (data_result_col == data_target_col) {\n",
    "            data_df <- data_df[, !(names(data_df) %in% colnames(mapping_df)[1:2])]\n",
    "        } else {\n",
    "            data_df <- data_df[, !(names(data_df) %in% colnames(mapping_df))]\n",
    "        }  \n",
    "    }\n",
    "    \n",
    "    return(data_df)\n",
    "}\n"
   ]
  },
  {
   "cell_type": "markdown",
   "id": "f51c9e14",
   "metadata": {},
   "source": [
    "Then, we can retrieve vector of probe IDs to perform symbols mapping using the following command, by using the `map_identifiers` function, we also remove all NA symbols and duplicated symbols."
   ]
  },
  {
   "cell_type": "code",
   "execution_count": 5,
   "id": "996354bf-6122-4937-b1af-56e4d74000bb",
   "metadata": {},
   "outputs": [
    {
     "data": {
      "text/html": [
       "<style>\n",
       ".list-inline {list-style: none; margin:0; padding: 0}\n",
       ".list-inline>li {display: inline-block}\n",
       ".list-inline>li:not(:last-child)::after {content: \"\\00b7\"; padding: 0 .5ex}\n",
       "</style>\n",
       "<ol class=list-inline><li>22185</li><li>6</li></ol>\n"
      ],
      "text/latex": [
       "\\begin{enumerate*}\n",
       "\\item 22185\n",
       "\\item 6\n",
       "\\end{enumerate*}\n"
      ],
      "text/markdown": [
       "1. 22185\n",
       "2. 6\n",
       "\n",
       "\n"
      ],
      "text/plain": [
       "[1] 22185     6"
      ]
     },
     "metadata": {},
     "output_type": "display_data"
    }
   ],
   "source": [
    "DE.df <- map_identifiers(data_df = DE.df, mapping_df = annotLookup, \n",
    "                         data_source_col = \"PROBEID\", data_target_col = \"SYMBOL\", data_result_col = \"SYMBOL\")\n",
    "dim(DE.df)"
   ]
  },
  {
   "cell_type": "code",
   "execution_count": 6,
   "id": "3bef4b3d",
   "metadata": {},
   "outputs": [
    {
     "data": {
      "text/html": [
       "<table class=\"dataframe\">\n",
       "<caption>A data.frame: 6 × 6</caption>\n",
       "<thead>\n",
       "\t<tr><th></th><th scope=col>SYMBOL</th><th scope=col>p.value</th><th scope=col>pFDR</th><th scope=col>statistic</th><th scope=col>logFC</th><th scope=col>avgExpr</th></tr>\n",
       "\t<tr><th></th><th scope=col>&lt;chr&gt;</th><th scope=col>&lt;dbl&gt;</th><th scope=col>&lt;dbl&gt;</th><th scope=col>&lt;dbl&gt;</th><th scope=col>&lt;dbl&gt;</th><th scope=col>&lt;dbl&gt;</th></tr>\n",
       "</thead>\n",
       "<tbody>\n",
       "\t<tr><th scope=row>DDR1</th><td>DDR1  </td><td>0.04210211</td><td>0.2531265</td><td>-2.08257585</td><td>-0.23858465</td><td>1.0967772</td></tr>\n",
       "\t<tr><th scope=row>RFC2</th><td>RFC2  </td><td>0.16052793</td><td>0.4674726</td><td> 1.42311356</td><td> 0.05830367</td><td>0.9657758</td></tr>\n",
       "\t<tr><th scope=row>HSPA6</th><td>HSPA6 </td><td>0.93573821</td><td>0.9861536</td><td>-0.08100885</td><td>-0.01138494</td><td>1.1501582</td></tr>\n",
       "\t<tr><th scope=row>PAX8</th><td>PAX8  </td><td>0.38729816</td><td>0.7236528</td><td> 0.87166663</td><td> 0.02301084</td><td>1.0581847</td></tr>\n",
       "\t<tr><th scope=row>GUCA1A</th><td>GUCA1A</td><td>0.07976123</td><td>0.3351480</td><td> 1.78615022</td><td> 0.36999950</td><td>1.4080351</td></tr>\n",
       "\t<tr><th scope=row>UBA7</th><td>UBA7  </td><td>0.11200995</td><td>0.3925252</td><td>-1.61593670</td><td>-0.11221434</td><td>1.0859983</td></tr>\n",
       "</tbody>\n",
       "</table>\n"
      ],
      "text/latex": [
       "A data.frame: 6 × 6\n",
       "\\begin{tabular}{r|llllll}\n",
       "  & SYMBOL & p.value & pFDR & statistic & logFC & avgExpr\\\\\n",
       "  & <chr> & <dbl> & <dbl> & <dbl> & <dbl> & <dbl>\\\\\n",
       "\\hline\n",
       "\tDDR1 & DDR1   & 0.04210211 & 0.2531265 & -2.08257585 & -0.23858465 & 1.0967772\\\\\n",
       "\tRFC2 & RFC2   & 0.16052793 & 0.4674726 &  1.42311356 &  0.05830367 & 0.9657758\\\\\n",
       "\tHSPA6 & HSPA6  & 0.93573821 & 0.9861536 & -0.08100885 & -0.01138494 & 1.1501582\\\\\n",
       "\tPAX8 & PAX8   & 0.38729816 & 0.7236528 &  0.87166663 &  0.02301084 & 1.0581847\\\\\n",
       "\tGUCA1A & GUCA1A & 0.07976123 & 0.3351480 &  1.78615022 &  0.36999950 & 1.4080351\\\\\n",
       "\tUBA7 & UBA7   & 0.11200995 & 0.3925252 & -1.61593670 & -0.11221434 & 1.0859983\\\\\n",
       "\\end{tabular}\n"
      ],
      "text/markdown": [
       "\n",
       "A data.frame: 6 × 6\n",
       "\n",
       "| <!--/--> | SYMBOL &lt;chr&gt; | p.value &lt;dbl&gt; | pFDR &lt;dbl&gt; | statistic &lt;dbl&gt; | logFC &lt;dbl&gt; | avgExpr &lt;dbl&gt; |\n",
       "|---|---|---|---|---|---|---|\n",
       "| DDR1 | DDR1   | 0.04210211 | 0.2531265 | -2.08257585 | -0.23858465 | 1.0967772 |\n",
       "| RFC2 | RFC2   | 0.16052793 | 0.4674726 |  1.42311356 |  0.05830367 | 0.9657758 |\n",
       "| HSPA6 | HSPA6  | 0.93573821 | 0.9861536 | -0.08100885 | -0.01138494 | 1.1501582 |\n",
       "| PAX8 | PAX8   | 0.38729816 | 0.7236528 |  0.87166663 |  0.02301084 | 1.0581847 |\n",
       "| GUCA1A | GUCA1A | 0.07976123 | 0.3351480 |  1.78615022 |  0.36999950 | 1.4080351 |\n",
       "| UBA7 | UBA7   | 0.11200995 | 0.3925252 | -1.61593670 | -0.11221434 | 1.0859983 |\n",
       "\n"
      ],
      "text/plain": [
       "       SYMBOL p.value    pFDR      statistic   logFC       avgExpr  \n",
       "DDR1   DDR1   0.04210211 0.2531265 -2.08257585 -0.23858465 1.0967772\n",
       "RFC2   RFC2   0.16052793 0.4674726  1.42311356  0.05830367 0.9657758\n",
       "HSPA6  HSPA6  0.93573821 0.9861536 -0.08100885 -0.01138494 1.1501582\n",
       "PAX8   PAX8   0.38729816 0.7236528  0.87166663  0.02301084 1.0581847\n",
       "GUCA1A GUCA1A 0.07976123 0.3351480  1.78615022  0.36999950 1.4080351\n",
       "UBA7   UBA7   0.11200995 0.3925252 -1.61593670 -0.11221434 1.0859983"
      ]
     },
     "metadata": {},
     "output_type": "display_data"
    }
   ],
   "source": [
    "head(DE.df)"
   ]
  },
  {
   "cell_type": "markdown",
   "id": "adf678d9",
   "metadata": {},
   "source": [
    "As a result, we obtained the new DE table with two more columns containing gene names and gene symbols. The use of this DE table can be varied based on the selected enrichment analysis tools."
   ]
  },
  {
   "cell_type": "markdown",
   "id": "8538d33d",
   "metadata": {},
   "source": [
    "## Enrichment Analysis Using Over-Representation Analysis\n",
    "Over-representation analysis (ORA) is a statistical method that determines whether genes from a pre-defined gene set of a specific GO term or KEGG pathway are presented more than would be expected (over-represented) in a subset of your data. In our learning module, this subset refers to the list of DE genes generated from the `limma` method. For each gene set, an enrichment *p-value* is calculated using the Binomial distribution, Hypergeometric distribution, the Fisher exact test, or the Chi-square test.  The hypergeometric distribution is a popular approach used to calculate enrichment p-value. The formula can be presented as follows:"
   ]
  },
  {
   "cell_type": "markdown",
   "id": "eca231f2",
   "metadata": {},
   "source": [
    "$$\n",
    "     P(X\\geq x) = 1 - P(X \\leq x-1) = 1 - \\sum\\limits_{i=0}^{x-1}\\frac{\\hphantom{}{M \\choose i }{N - M \\choose n-i}}{N \\choose n}\n",
    "$$"
   ]
  },
  {
   "cell_type": "markdown",
   "id": "1c18d887",
   "metadata": {},
   "source": [
    "where *N* is the number of background genes (all genes presented in the expression matrix), *n* is the number of “interesting” genes (DE genes), *M* is the number of genes that are annotated to a particular gene set *S* (list of genes in a specific KEGG pathway or GO term), and *x* is the number of “interesting” genes that are annotated to *S* (genes presented in DE genes list and a specific KEGG pathway or GO term)."
   ]
  },
  {
   "cell_type": "markdown",
   "id": "ccade46c",
   "metadata": {},
   "source": [
    "For example, suppose we have an expression matrix with 20,000 genes, of which 500 are differently expressed. Also, suppose that 100 of the 20,000 genes are annotated to a particular gene set S. Of these 100 genes, 20 are members of the DE genes list. The probability that 20 or more (up to 100) genes annotated to S are in the DE genes list by chance is given by"
   ]
  },
  {
   "cell_type": "markdown",
   "id": "ed50cd53",
   "metadata": {},
   "source": [
    "$$\n",
    "P(X\\geq 20) = 1 - P(X \\leq 19) = 1-\\sum \\limits_{i=0}^{19}\\frac{\\hphantom{}{100 \\choose i}{20000 - 100 \\choose 500-i}}{20000 \\choose 500} = 5.26 \\times 10^{-13}\n",
    "$$"
   ]
  },
  {
   "cell_type": "markdown",
   "id": "b2e2d72e",
   "metadata": {},
   "source": [
    "The *p-value* indicates that it is very rare to observe 20 of the 100 genes from this set are in the DE genes list by chance."
   ]
  },
  {
   "cell_type": "code",
   "execution_count": 7,
   "id": "2b0be768-1749-4752-b31f-bf5818b33be5",
   "metadata": {},
   "outputs": [
    {
     "data": {
      "text/html": [
       "<iframe src=\"./Quizzes/Quiz_Submodule4-2.html\" width=100% height=250></iframe>"
      ]
     },
     "metadata": {},
     "output_type": "display_data"
    }
   ],
   "source": [
    "IRdisplay::display_html('<iframe src=\"./Quizzes/Quiz_Submodule4-2.html\" width=100% height=250></iframe>')"
   ]
  },
  {
   "cell_type": "markdown",
   "id": "e332d07b",
   "metadata": {},
   "source": [
    "### Data preparation\n",
    "To conduct enrichment analysis using ORA, there are several input data that we need to prepare. First, we need to select a set of genes that\n",
    "are significantly altered (*p-value < 0.05*) in the DE genes generated from the `limma` method."
   ]
  },
  {
   "cell_type": "code",
   "execution_count": 8,
   "id": "b1b28353",
   "metadata": {},
   "outputs": [],
   "source": [
    "# Selecting a list of significant DE genes\n",
    "DEGenes <- DE.df[DE.df$pFDR <= 0.05, ]\n",
    "# Select the remaining genes \n",
    "DEGenes <- DEGenes$SYMBOL"
   ]
  },
  {
   "cell_type": "markdown",
   "id": "f0d9f75f",
   "metadata": {},
   "source": [
    "Next, we need to define a list of background genes. In this analysis, they are all the genes generated from the DE analysis."
   ]
  },
  {
   "cell_type": "code",
   "execution_count": 9,
   "id": "303d3696",
   "metadata": {},
   "outputs": [],
   "source": [
    "# Defining background genes\n",
    "backgroundSet <- DE.df$SYMBOL"
   ]
  },
  {
   "cell_type": "markdown",
   "id": "5f19e685",
   "metadata": {},
   "source": [
    "Then, we need to obtain a list of geneset from knowledge databases such as GO and KEGG. In this learning module, the geneset will be retrieved from\n",
    "the *.gmt* files that were processed from the [**submodule 03**](./Module03-Gene_Set_and_Pathway.ipynb). To load the geneset, we will use the `gmt2geneset` function below:"
   ]
  },
  {
   "cell_type": "code",
   "execution_count": 10,
   "id": "348c3154-cffb-4586-ab59-51845f4c6a19",
   "metadata": {},
   "outputs": [],
   "source": [
    "#' @description This function read a GMT file to a geneset list in R\n",
    "#'\n",
    "#' @param path The file path to the GMT file.\n",
    "#' @return A list representing the geneset extracted from the GMT file.\n",
    "\n",
    "gmt2geneset <- function(path) {\n",
    "    # Read the lines from the file\n",
    "    lines <- readLines(path, warn = FALSE)\n",
    "\n",
    "    # Split each line into fields\n",
    "    gmt_data <- strsplit(lines, \"\\t\")\n",
    "\n",
    "    # Process each line and extract gene sets\n",
    "    gene_sets <- lapply(gmt_data, function(line) {\n",
    "        gene_set_name <- line[1]\n",
    "        description <- line[2]\n",
    "        genes <- line[-c(1, 2)]  # Exclude the first two elements (name and description)\n",
    "\n",
    "        list(\n",
    "            pathwayID = gene_set_name,\n",
    "            description = description,\n",
    "            genes = genes\n",
    "        )\n",
    "    })\n",
    "    # Convert list of gene sets to a named list\n",
    "    gs <- lapply(gene_sets, function(g) g$genes)\n",
    "    names(gs) <- lapply(gene_sets, function(g) g$pathwayID)\n",
    "\n",
    "    return(gs)\n",
    "}"
   ]
  },
  {
   "cell_type": "markdown",
   "id": "0042697a",
   "metadata": {},
   "source": [
    "Here, we also write a function called `.runORA` to perform over-representation analysis based on the hyper-geometric testing formula presented above.\n",
    "It takes in a geneset (Eg. GO terms, KEGG, REACTOME, ...), a list of the differentially expressed genes by a DE analysis method, a list of all the genes, and a dataframe containing results of a DE analysis method. The `ORA` method will perform hyper-geometric testing for each geneset obtained from GO or KEGG using the function `phyper` available for the `stats` R base package. The output of the `.runORA` function is a table that contains a column of terms or pathway names and a column of *p-value*."
   ]
  },
  {
   "cell_type": "code",
   "execution_count": 11,
   "id": "d809f4b3",
   "metadata": {},
   "outputs": [],
   "source": [
    "#' @description This function performs geneset analysis based on ORA (Over Representation Analysis).\n",
    "#'\n",
    "#' @param DE_data The generated SummarizedExpriment object from DE analysis result.\n",
    "#' @param genesets The genesets definition, ex. KEGG genesets from getGeneSets function.\n",
    "#' @param pThreshold The p.value cutoff threashold.\n",
    "#' @return A dataframe of geneset analysis results\n",
    "\n",
    "runORA <- function(DE_data, genesets, pThreshold) {    \n",
    "    # Check if DE_data is not null and has dimensions\n",
    "    if (is.null(DE_data) |\n",
    "        dim(DE_data)[1] == 0 |\n",
    "        dim(DE_data)[2] == 0) {\n",
    "        stop(\"No differential analysis data is in input data.\")\n",
    "    }\n",
    "\n",
    "    # Extract genes with p-values below the threshold\n",
    "    DE.genes <- rownames(DE_data[DE_data$p.value <= pThreshold, ])\n",
    "        \n",
    "    # All genes in the background\n",
    "    background.genes <- rownames(DE_data)\n",
    "\n",
    "    # Calculate the overlap between genesets and background genes\n",
    "    GSOverlap <- sapply(genesets, function(gs) length(intersect(gs, background.genes)))\n",
    "    # Calculate the overlap between genesets and differentially expressed genes\n",
    "    DEOverlap <- sapply(genesets, function(gs) length(intersect(gs, DE.genes)))\n",
    "    # Calculate the number of non-differentially expressed genes in the background\n",
    "    NoneDEInBackground <- length(background.genes) - length(DE.genes)\n",
    "    # Calculate the expected overlap by chance\n",
    "    Expected <- GSOverlap * length(DE.genes) / length(background.genes)\n",
    "\n",
    "    # Calculate p-values using hypergeometric distribution\n",
    "    pvals <- 1 - phyper(DEOverlap - 1, length(DE.genes), NoneDEInBackground, GSOverlap)\n",
    "    # Calculate Enrichment Score (ES)\n",
    "    ES <- log2(DEOverlap / Expected)\n",
    "\n",
    "    # Create a dataframe with results\n",
    "    result_df <- data.frame(\n",
    "        ID = names(genesets),\n",
    "        p.value = pvals,\n",
    "        score = ES,\n",
    "        normalizedScore = ES, # For now, normalized score is the same as ES\n",
    "        stringsAsFactors = FALSE\n",
    "    )\n",
    "\n",
    "    return(result_df)\n",
    "}\n"
   ]
  },
  {
   "cell_type": "markdown",
   "id": "dedfa2a3",
   "metadata": {},
   "source": [
    "### Enrichment analysis using ORA and GO terms\n",
    "In this section, we will perform ORA using genesets obtained from the GO database and the function `ORA` defined above. The detailed code is presented below:"
   ]
  },
  {
   "cell_type": "code",
   "execution_count": 12,
   "id": "4c86d3da-1c11-4fbc-b083-7c006b947740",
   "metadata": {},
   "outputs": [],
   "source": [
    "suppressWarnings({suppressMessages({geneset <- gmt2geneset(\"./data/REACTOME_pathways.gmt\")})})"
   ]
  },
  {
   "cell_type": "code",
   "execution_count": 13,
   "id": "975e07c7",
   "metadata": {},
   "outputs": [
    {
     "data": {
      "text/html": [
       "<table class=\"dataframe\">\n",
       "<caption>A data.frame: 6 × 4</caption>\n",
       "<thead>\n",
       "\t<tr><th></th><th scope=col>ID</th><th scope=col>p.value</th><th scope=col>score</th><th scope=col>normalizedScore</th></tr>\n",
       "\t<tr><th></th><th scope=col>&lt;chr&gt;</th><th scope=col>&lt;dbl&gt;</th><th scope=col>&lt;dbl&gt;</th><th scope=col>&lt;dbl&gt;</th></tr>\n",
       "</thead>\n",
       "<tbody>\n",
       "\t<tr><th scope=row>GO:0006091</th><td>GO:0006091</td><td>0</td><td>0.9055412</td><td>0.9055412</td></tr>\n",
       "\t<tr><th scope=row>GO:0006119</th><td>GO:0006119</td><td>0</td><td>1.4114368</td><td>1.4114368</td></tr>\n",
       "\t<tr><th scope=row>GO:0006810</th><td>GO:0006810</td><td>0</td><td>0.3030171</td><td>0.3030171</td></tr>\n",
       "\t<tr><th scope=row>GO:0006996</th><td>GO:0006996</td><td>0</td><td>0.4258278</td><td>0.4258278</td></tr>\n",
       "\t<tr><th scope=row>GO:0007005</th><td>GO:0007005</td><td>0</td><td>0.8467919</td><td>0.8467919</td></tr>\n",
       "\t<tr><th scope=row>GO:0008104</th><td>GO:0008104</td><td>0</td><td>0.4210971</td><td>0.4210971</td></tr>\n",
       "</tbody>\n",
       "</table>\n"
      ],
      "text/latex": [
       "A data.frame: 6 × 4\n",
       "\\begin{tabular}{r|llll}\n",
       "  & ID & p.value & score & normalizedScore\\\\\n",
       "  & <chr> & <dbl> & <dbl> & <dbl>\\\\\n",
       "\\hline\n",
       "\tGO:0006091 & GO:0006091 & 0 & 0.9055412 & 0.9055412\\\\\n",
       "\tGO:0006119 & GO:0006119 & 0 & 1.4114368 & 1.4114368\\\\\n",
       "\tGO:0006810 & GO:0006810 & 0 & 0.3030171 & 0.3030171\\\\\n",
       "\tGO:0006996 & GO:0006996 & 0 & 0.4258278 & 0.4258278\\\\\n",
       "\tGO:0007005 & GO:0007005 & 0 & 0.8467919 & 0.8467919\\\\\n",
       "\tGO:0008104 & GO:0008104 & 0 & 0.4210971 & 0.4210971\\\\\n",
       "\\end{tabular}\n"
      ],
      "text/markdown": [
       "\n",
       "A data.frame: 6 × 4\n",
       "\n",
       "| <!--/--> | ID &lt;chr&gt; | p.value &lt;dbl&gt; | score &lt;dbl&gt; | normalizedScore &lt;dbl&gt; |\n",
       "|---|---|---|---|---|\n",
       "| GO:0006091 | GO:0006091 | 0 | 0.9055412 | 0.9055412 |\n",
       "| GO:0006119 | GO:0006119 | 0 | 1.4114368 | 1.4114368 |\n",
       "| GO:0006810 | GO:0006810 | 0 | 0.3030171 | 0.3030171 |\n",
       "| GO:0006996 | GO:0006996 | 0 | 0.4258278 | 0.4258278 |\n",
       "| GO:0007005 | GO:0007005 | 0 | 0.8467919 | 0.8467919 |\n",
       "| GO:0008104 | GO:0008104 | 0 | 0.4210971 | 0.4210971 |\n",
       "\n"
      ],
      "text/plain": [
       "           ID         p.value score     normalizedScore\n",
       "GO:0006091 GO:0006091 0       0.9055412 0.9055412      \n",
       "GO:0006119 GO:0006119 0       1.4114368 1.4114368      \n",
       "GO:0006810 GO:0006810 0       0.3030171 0.3030171      \n",
       "GO:0006996 GO:0006996 0       0.4258278 0.4258278      \n",
       "GO:0007005 GO:0007005 0       0.8467919 0.8467919      \n",
       "GO:0008104 GO:0008104 0       0.4210971 0.4210971      "
      ]
     },
     "metadata": {},
     "output_type": "display_data"
    }
   ],
   "source": [
    "# Loading geneset from GO database\n",
    "suppressWarnings({suppressMessages({geneset <- gmt2geneset(\"./data/GO_terms.gmt\")})})\n",
    "# Perform ORA\n",
    "ORA_res <- runORA(DE_data = DE.df, genesets = geneset, pThreshold = 0.05)\n",
    "\n",
    "# Order the table based on the p-value\n",
    "ORA_res <- ORA_res[order(ORA_res$p.value), ]\n",
    "# View the most significant GO terms\n",
    "head(ORA_res)"
   ]
  },
  {
   "cell_type": "markdown",
   "id": "ae0d8278",
   "metadata": {},
   "source": [
    "From the result table, we might conclude that the pathways shown are key components of the disease in study."
   ]
  },
  {
   "cell_type": "markdown",
   "id": "cfa3dbd7",
   "metadata": {},
   "source": [
    "### Enrichment analysis using ORA and KEGG pathways"
   ]
  },
  {
   "cell_type": "markdown",
   "id": "69dc9176-9f21-4198-8873-c391fd58b1d2",
   "metadata": {},
   "source": [
    "We will perform the same steps as we did above for the GO terms."
   ]
  },
  {
   "cell_type": "code",
   "execution_count": 14,
   "id": "ee2d6ff9",
   "metadata": {},
   "outputs": [
    {
     "data": {
      "text/html": [
       "<table class=\"dataframe\">\n",
       "<caption>A data.frame: 6 × 4</caption>\n",
       "<thead>\n",
       "\t<tr><th></th><th scope=col>ID</th><th scope=col>p.value</th><th scope=col>score</th><th scope=col>normalizedScore</th></tr>\n",
       "\t<tr><th></th><th scope=col>&lt;chr&gt;</th><th scope=col>&lt;dbl&gt;</th><th scope=col>&lt;dbl&gt;</th><th scope=col>&lt;dbl&gt;</th></tr>\n",
       "</thead>\n",
       "<tbody>\n",
       "\t<tr><th scope=row>hsa00190</th><td>hsa00190</td><td>0</td><td>1.6009906</td><td>1.6009906</td></tr>\n",
       "\t<tr><th scope=row>hsa05010</th><td>hsa05010</td><td>0</td><td>0.9713195</td><td>0.9713195</td></tr>\n",
       "\t<tr><th scope=row>hsa05012</th><td>hsa05012</td><td>0</td><td>1.2751278</td><td>1.2751278</td></tr>\n",
       "\t<tr><th scope=row>hsa05014</th><td>hsa05014</td><td>0</td><td>1.0260450</td><td>1.0260450</td></tr>\n",
       "\t<tr><th scope=row>hsa05016</th><td>hsa05016</td><td>0</td><td>1.2422486</td><td>1.2422486</td></tr>\n",
       "\t<tr><th scope=row>hsa05020</th><td>hsa05020</td><td>0</td><td>1.2105993</td><td>1.2105993</td></tr>\n",
       "</tbody>\n",
       "</table>\n"
      ],
      "text/latex": [
       "A data.frame: 6 × 4\n",
       "\\begin{tabular}{r|llll}\n",
       "  & ID & p.value & score & normalizedScore\\\\\n",
       "  & <chr> & <dbl> & <dbl> & <dbl>\\\\\n",
       "\\hline\n",
       "\thsa00190 & hsa00190 & 0 & 1.6009906 & 1.6009906\\\\\n",
       "\thsa05010 & hsa05010 & 0 & 0.9713195 & 0.9713195\\\\\n",
       "\thsa05012 & hsa05012 & 0 & 1.2751278 & 1.2751278\\\\\n",
       "\thsa05014 & hsa05014 & 0 & 1.0260450 & 1.0260450\\\\\n",
       "\thsa05016 & hsa05016 & 0 & 1.2422486 & 1.2422486\\\\\n",
       "\thsa05020 & hsa05020 & 0 & 1.2105993 & 1.2105993\\\\\n",
       "\\end{tabular}\n"
      ],
      "text/markdown": [
       "\n",
       "A data.frame: 6 × 4\n",
       "\n",
       "| <!--/--> | ID &lt;chr&gt; | p.value &lt;dbl&gt; | score &lt;dbl&gt; | normalizedScore &lt;dbl&gt; |\n",
       "|---|---|---|---|---|\n",
       "| hsa00190 | hsa00190 | 0 | 1.6009906 | 1.6009906 |\n",
       "| hsa05010 | hsa05010 | 0 | 0.9713195 | 0.9713195 |\n",
       "| hsa05012 | hsa05012 | 0 | 1.2751278 | 1.2751278 |\n",
       "| hsa05014 | hsa05014 | 0 | 1.0260450 | 1.0260450 |\n",
       "| hsa05016 | hsa05016 | 0 | 1.2422486 | 1.2422486 |\n",
       "| hsa05020 | hsa05020 | 0 | 1.2105993 | 1.2105993 |\n",
       "\n"
      ],
      "text/plain": [
       "         ID       p.value score     normalizedScore\n",
       "hsa00190 hsa00190 0       1.6009906 1.6009906      \n",
       "hsa05010 hsa05010 0       0.9713195 0.9713195      \n",
       "hsa05012 hsa05012 0       1.2751278 1.2751278      \n",
       "hsa05014 hsa05014 0       1.0260450 1.0260450      \n",
       "hsa05016 hsa05016 0       1.2422486 1.2422486      \n",
       "hsa05020 hsa05020 0       1.2105993 1.2105993      "
      ]
     },
     "metadata": {},
     "output_type": "display_data"
    }
   ],
   "source": [
    "suppressWarnings({suppressMessages({geneset <- gmt2geneset(\"./data/KEGG_pathways.gmt\")})})\n",
    "\n",
    "# Perform Hyper-geometric testing\n",
    "ORA_res <- runORA(DE_data = DE.df, genesets = geneset, pThreshold = 0.05)\n",
    "\n",
    "# # Order the table based on the p-value\n",
    "ORA_res <- ORA_res[order(ORA_res$p.value), ]\n",
    "# View the most significant GO terms\n",
    "head(ORA_res)\n"
   ]
  },
  {
   "cell_type": "code",
   "execution_count": 17,
   "id": "6a947d22-c7b9-47ff-99e5-fb4781fad0b2",
   "metadata": {},
   "outputs": [
    {
     "name": "stdout",
     "output_type": "stream",
     "text": [
      " [1] \"ADAM10\" \"ADAM17\" \"APP\"    \"NAE1\"   \"APBB1\"  \"GAPDH\"  \"BACE1\"  \"BACE2\" \n",
      " [9] \"RTN3\"   \"RTN4\"   \"PSENEN\" \"PSEN1\"  \"PSEN2\"  \"NCSTN\"  \"APH1A\"  \"APH1B\" \n",
      "[17] \"IDE\"    \"MME\"    \"MAPT\"   \"ND1\"    \"ND2\"    \"ND3\"    \"ND4\"    \"ND4L\"  \n",
      "[25] \"ND5\"    \"ND6\"    \"NDUFV1\" \"NDUFV2\" \"NDUFV3\" \"NDUFA1\"\n"
     ]
    }
   ],
   "source": [
    "print(geneset$`hsa05010`[1:30])"
   ]
  },
  {
   "cell_type": "markdown",
   "id": "63818b96-1b67-49be-81d3-c45dae212ecc",
   "metadata": {},
   "source": [
    "### Enrichment analysis using ORA and REACTOME pathways\n",
    "\n",
    "We will perform the same steps as we did above for the GO terms and KEEG pathways."
   ]
  },
  {
   "cell_type": "code",
   "execution_count": 15,
   "id": "7a7baa26-8eb4-4762-bcd0-3ebaf18d8cc0",
   "metadata": {},
   "outputs": [
    {
     "data": {
      "text/html": [
       "<table class=\"dataframe\">\n",
       "<caption>A data.frame: 6 × 4</caption>\n",
       "<thead>\n",
       "\t<tr><th></th><th scope=col>ID</th><th scope=col>p.value</th><th scope=col>score</th><th scope=col>normalizedScore</th></tr>\n",
       "\t<tr><th></th><th scope=col>&lt;chr&gt;</th><th scope=col>&lt;dbl&gt;</th><th scope=col>&lt;dbl&gt;</th><th scope=col>&lt;dbl&gt;</th></tr>\n",
       "</thead>\n",
       "<tbody>\n",
       "\t<tr><th scope=row>R-HSA-163200</th><td>R-HSA-163200 </td><td>0.000000e+00</td><td>1.5601369</td><td>1.5601369</td></tr>\n",
       "\t<tr><th scope=row>R-HSA-611105</th><td>R-HSA-611105 </td><td>0.000000e+00</td><td>1.6348084</td><td>1.6348084</td></tr>\n",
       "\t<tr><th scope=row>R-HSA-1428517</th><td>R-HSA-1428517</td><td>0.000000e+00</td><td>1.4326425</td><td>1.4326425</td></tr>\n",
       "\t<tr><th scope=row>R-HSA-1852241</th><td>R-HSA-1852241</td><td>4.660716e-13</td><td>0.9502682</td><td>0.9502682</td></tr>\n",
       "\t<tr><th scope=row>R-HSA-389957</th><td>R-HSA-389957 </td><td>1.574163e-11</td><td>2.0436140</td><td>2.0436140</td></tr>\n",
       "\t<tr><th scope=row>R-HSA-6799198</th><td>R-HSA-6799198</td><td>1.477440e-10</td><td>1.6101776</td><td>1.6101776</td></tr>\n",
       "</tbody>\n",
       "</table>\n"
      ],
      "text/latex": [
       "A data.frame: 6 × 4\n",
       "\\begin{tabular}{r|llll}\n",
       "  & ID & p.value & score & normalizedScore\\\\\n",
       "  & <chr> & <dbl> & <dbl> & <dbl>\\\\\n",
       "\\hline\n",
       "\tR-HSA-163200 & R-HSA-163200  & 0.000000e+00 & 1.5601369 & 1.5601369\\\\\n",
       "\tR-HSA-611105 & R-HSA-611105  & 0.000000e+00 & 1.6348084 & 1.6348084\\\\\n",
       "\tR-HSA-1428517 & R-HSA-1428517 & 0.000000e+00 & 1.4326425 & 1.4326425\\\\\n",
       "\tR-HSA-1852241 & R-HSA-1852241 & 4.660716e-13 & 0.9502682 & 0.9502682\\\\\n",
       "\tR-HSA-389957 & R-HSA-389957  & 1.574163e-11 & 2.0436140 & 2.0436140\\\\\n",
       "\tR-HSA-6799198 & R-HSA-6799198 & 1.477440e-10 & 1.6101776 & 1.6101776\\\\\n",
       "\\end{tabular}\n"
      ],
      "text/markdown": [
       "\n",
       "A data.frame: 6 × 4\n",
       "\n",
       "| <!--/--> | ID &lt;chr&gt; | p.value &lt;dbl&gt; | score &lt;dbl&gt; | normalizedScore &lt;dbl&gt; |\n",
       "|---|---|---|---|---|\n",
       "| R-HSA-163200 | R-HSA-163200  | 0.000000e+00 | 1.5601369 | 1.5601369 |\n",
       "| R-HSA-611105 | R-HSA-611105  | 0.000000e+00 | 1.6348084 | 1.6348084 |\n",
       "| R-HSA-1428517 | R-HSA-1428517 | 0.000000e+00 | 1.4326425 | 1.4326425 |\n",
       "| R-HSA-1852241 | R-HSA-1852241 | 4.660716e-13 | 0.9502682 | 0.9502682 |\n",
       "| R-HSA-389957 | R-HSA-389957  | 1.574163e-11 | 2.0436140 | 2.0436140 |\n",
       "| R-HSA-6799198 | R-HSA-6799198 | 1.477440e-10 | 1.6101776 | 1.6101776 |\n",
       "\n"
      ],
      "text/plain": [
       "              ID            p.value      score     normalizedScore\n",
       "R-HSA-163200  R-HSA-163200  0.000000e+00 1.5601369 1.5601369      \n",
       "R-HSA-611105  R-HSA-611105  0.000000e+00 1.6348084 1.6348084      \n",
       "R-HSA-1428517 R-HSA-1428517 0.000000e+00 1.4326425 1.4326425      \n",
       "R-HSA-1852241 R-HSA-1852241 4.660716e-13 0.9502682 0.9502682      \n",
       "R-HSA-389957  R-HSA-389957  1.574163e-11 2.0436140 2.0436140      \n",
       "R-HSA-6799198 R-HSA-6799198 1.477440e-10 1.6101776 1.6101776      "
      ]
     },
     "metadata": {},
     "output_type": "display_data"
    }
   ],
   "source": [
    "# Loading geneset from GO database\n",
    "suppressWarnings({suppressMessages({geneset <- gmt2geneset(\"./data/REACTOME_pathways.gmt\")})})\n",
    "# Perform ORA\n",
    "ORA_res <- runORA(DE_data = DE.df, genesets = geneset, pThreshold = 0.05)\n",
    "\n",
    "# # Order the table based on the p-value\n",
    "ORA_res <- ORA_res[order(ORA_res$p.value), ]\n",
    "# View the most significant GO terms\n",
    "head(ORA_res)"
   ]
  },
  {
   "cell_type": "markdown",
   "id": "72a138b4-a0aa-461b-b529-67e76c7767d6",
   "metadata": {},
   "source": [
    "# Enrichment analysis using KS and Wilcoxon test\n",
    "\n",
    "The Kolmogorov-Smirnov (KS) test is a non-parametric test that compares the cumulative distribution functions of two datasets. In the context of enrichment analysis, it can be employed to assess whether the distribution of DE genes is significantly different from what would be expected by chance for a given gene set. The test produces a KS statistic and a corresponding p-value, indicating the degree of over-representation.\n",
    "\n",
    "The Wilcoxon test, also known as the Mann-Whitney U test, is another non-parametric test used in enrichment analysis. It assesses whether there is a significant difference in the ranks of genes between the DE gene set and the rest of the genes."
   ]
  },
  {
   "cell_type": "markdown",
   "id": "b2a98cfa-2b91-46a5-92ea-38ee1deb2eac",
   "metadata": {},
   "source": [
    "### Data preparation\n",
    "To conduct enrichment analysis using KS or Wilcoxon test, we will use the limma DE result as input. First, we can use the DE.df variable above and select a set of genes that\n",
    "are significantly altered (*p-value < 0.05*). "
   ]
  },
  {
   "cell_type": "code",
   "execution_count": 16,
   "id": "1135da3e-3277-408f-a4b2-7ec34d09a659",
   "metadata": {},
   "outputs": [
    {
     "data": {
      "text/html": [
       "<table class=\"dataframe\">\n",
       "<caption>A data.frame: 6 × 6</caption>\n",
       "<thead>\n",
       "\t<tr><th></th><th scope=col>SYMBOL</th><th scope=col>p.value</th><th scope=col>pFDR</th><th scope=col>statistic</th><th scope=col>logFC</th><th scope=col>avgExpr</th></tr>\n",
       "\t<tr><th></th><th scope=col>&lt;chr&gt;</th><th scope=col>&lt;dbl&gt;</th><th scope=col>&lt;dbl&gt;</th><th scope=col>&lt;dbl&gt;</th><th scope=col>&lt;dbl&gt;</th><th scope=col>&lt;dbl&gt;</th></tr>\n",
       "</thead>\n",
       "<tbody>\n",
       "\t<tr><th scope=row>DSCR10</th><td>DSCR10</td><td>4.778227e-04</td><td>4.325324e-02</td><td> 3.721644</td><td> 0.07632117</td><td>1.1024122</td></tr>\n",
       "\t<tr><th scope=row>GAMT</th><td>GAMT  </td><td>3.402464e-04</td><td>3.481091e-02</td><td> 3.829094</td><td> 0.12655694</td><td>1.0378989</td></tr>\n",
       "\t<tr><th scope=row>WBP2NL</th><td>WBP2NL</td><td>5.031544e-04</td><td>4.458666e-02</td><td>-3.705169</td><td>-0.43701990</td><td>1.2072571</td></tr>\n",
       "\t<tr><th scope=row>ART5</th><td>ART5  </td><td>7.601467e-07</td><td>3.172597e-04</td><td>-5.601889</td><td>-0.15248106</td><td>1.2214668</td></tr>\n",
       "\t<tr><th scope=row>GAS2L2</th><td>GAS2L2</td><td>4.578441e-11</td><td>4.490998e-08</td><td> 8.231539</td><td> 0.09704702</td><td>0.9937790</td></tr>\n",
       "\t<tr><th scope=row>CAMKK1</th><td>CAMKK1</td><td>2.057635e-04</td><td>2.541044e-02</td><td> 3.985720</td><td> 0.07873062</td><td>0.8284583</td></tr>\n",
       "</tbody>\n",
       "</table>\n"
      ],
      "text/latex": [
       "A data.frame: 6 × 6\n",
       "\\begin{tabular}{r|llllll}\n",
       "  & SYMBOL & p.value & pFDR & statistic & logFC & avgExpr\\\\\n",
       "  & <chr> & <dbl> & <dbl> & <dbl> & <dbl> & <dbl>\\\\\n",
       "\\hline\n",
       "\tDSCR10 & DSCR10 & 4.778227e-04 & 4.325324e-02 &  3.721644 &  0.07632117 & 1.1024122\\\\\n",
       "\tGAMT & GAMT   & 3.402464e-04 & 3.481091e-02 &  3.829094 &  0.12655694 & 1.0378989\\\\\n",
       "\tWBP2NL & WBP2NL & 5.031544e-04 & 4.458666e-02 & -3.705169 & -0.43701990 & 1.2072571\\\\\n",
       "\tART5 & ART5   & 7.601467e-07 & 3.172597e-04 & -5.601889 & -0.15248106 & 1.2214668\\\\\n",
       "\tGAS2L2 & GAS2L2 & 4.578441e-11 & 4.490998e-08 &  8.231539 &  0.09704702 & 0.9937790\\\\\n",
       "\tCAMKK1 & CAMKK1 & 2.057635e-04 & 2.541044e-02 &  3.985720 &  0.07873062 & 0.8284583\\\\\n",
       "\\end{tabular}\n"
      ],
      "text/markdown": [
       "\n",
       "A data.frame: 6 × 6\n",
       "\n",
       "| <!--/--> | SYMBOL &lt;chr&gt; | p.value &lt;dbl&gt; | pFDR &lt;dbl&gt; | statistic &lt;dbl&gt; | logFC &lt;dbl&gt; | avgExpr &lt;dbl&gt; |\n",
       "|---|---|---|---|---|---|---|\n",
       "| DSCR10 | DSCR10 | 4.778227e-04 | 4.325324e-02 |  3.721644 |  0.07632117 | 1.1024122 |\n",
       "| GAMT | GAMT   | 3.402464e-04 | 3.481091e-02 |  3.829094 |  0.12655694 | 1.0378989 |\n",
       "| WBP2NL | WBP2NL | 5.031544e-04 | 4.458666e-02 | -3.705169 | -0.43701990 | 1.2072571 |\n",
       "| ART5 | ART5   | 7.601467e-07 | 3.172597e-04 | -5.601889 | -0.15248106 | 1.2214668 |\n",
       "| GAS2L2 | GAS2L2 | 4.578441e-11 | 4.490998e-08 |  8.231539 |  0.09704702 | 0.9937790 |\n",
       "| CAMKK1 | CAMKK1 | 2.057635e-04 | 2.541044e-02 |  3.985720 |  0.07873062 | 0.8284583 |\n",
       "\n"
      ],
      "text/plain": [
       "       SYMBOL p.value      pFDR         statistic logFC       avgExpr  \n",
       "DSCR10 DSCR10 4.778227e-04 4.325324e-02  3.721644  0.07632117 1.1024122\n",
       "GAMT   GAMT   3.402464e-04 3.481091e-02  3.829094  0.12655694 1.0378989\n",
       "WBP2NL WBP2NL 5.031544e-04 4.458666e-02 -3.705169 -0.43701990 1.2072571\n",
       "ART5   ART5   7.601467e-07 3.172597e-04 -5.601889 -0.15248106 1.2214668\n",
       "GAS2L2 GAS2L2 4.578441e-11 4.490998e-08  8.231539  0.09704702 0.9937790\n",
       "CAMKK1 CAMKK1 2.057635e-04 2.541044e-02  3.985720  0.07873062 0.8284583"
      ]
     },
     "metadata": {},
     "output_type": "display_data"
    }
   ],
   "source": [
    "# Select genes that are significantly altered\n",
    "kw_de <- DE.df[DE.df$pFDR <= 0.05, ]\n",
    "head(kw_de)"
   ]
  },
  {
   "cell_type": "markdown",
   "id": "7fe00efa-e665-476b-8872-5482f4dafde1",
   "metadata": {},
   "source": [
    "Next, we will remove rows containing NA, dupicated symbols."
   ]
  },
  {
   "cell_type": "code",
   "execution_count": 17,
   "id": "47e8c745-2bc5-4991-979f-89e2d0d643e3",
   "metadata": {},
   "outputs": [
    {
     "data": {
      "text/html": [
       "<table class=\"dataframe\">\n",
       "<caption>A data.frame: 6 × 5</caption>\n",
       "<thead>\n",
       "\t<tr><th></th><th scope=col>p.value</th><th scope=col>pFDR</th><th scope=col>statistic</th><th scope=col>logFC</th><th scope=col>avgExpr</th></tr>\n",
       "\t<tr><th></th><th scope=col>&lt;dbl&gt;</th><th scope=col>&lt;dbl&gt;</th><th scope=col>&lt;dbl&gt;</th><th scope=col>&lt;dbl&gt;</th><th scope=col>&lt;dbl&gt;</th></tr>\n",
       "</thead>\n",
       "<tbody>\n",
       "\t<tr><th scope=row>DSCR10</th><td>4.778227e-04</td><td>4.325324e-02</td><td> 3.721644</td><td> 0.07632117</td><td>1.1024122</td></tr>\n",
       "\t<tr><th scope=row>GAMT</th><td>3.402464e-04</td><td>3.481091e-02</td><td> 3.829094</td><td> 0.12655694</td><td>1.0378989</td></tr>\n",
       "\t<tr><th scope=row>WBP2NL</th><td>5.031544e-04</td><td>4.458666e-02</td><td>-3.705169</td><td>-0.43701990</td><td>1.2072571</td></tr>\n",
       "\t<tr><th scope=row>ART5</th><td>7.601467e-07</td><td>3.172597e-04</td><td>-5.601889</td><td>-0.15248106</td><td>1.2214668</td></tr>\n",
       "\t<tr><th scope=row>GAS2L2</th><td>4.578441e-11</td><td>4.490998e-08</td><td> 8.231539</td><td> 0.09704702</td><td>0.9937790</td></tr>\n",
       "\t<tr><th scope=row>CAMKK1</th><td>2.057635e-04</td><td>2.541044e-02</td><td> 3.985720</td><td> 0.07873062</td><td>0.8284583</td></tr>\n",
       "</tbody>\n",
       "</table>\n"
      ],
      "text/latex": [
       "A data.frame: 6 × 5\n",
       "\\begin{tabular}{r|lllll}\n",
       "  & p.value & pFDR & statistic & logFC & avgExpr\\\\\n",
       "  & <dbl> & <dbl> & <dbl> & <dbl> & <dbl>\\\\\n",
       "\\hline\n",
       "\tDSCR10 & 4.778227e-04 & 4.325324e-02 &  3.721644 &  0.07632117 & 1.1024122\\\\\n",
       "\tGAMT & 3.402464e-04 & 3.481091e-02 &  3.829094 &  0.12655694 & 1.0378989\\\\\n",
       "\tWBP2NL & 5.031544e-04 & 4.458666e-02 & -3.705169 & -0.43701990 & 1.2072571\\\\\n",
       "\tART5 & 7.601467e-07 & 3.172597e-04 & -5.601889 & -0.15248106 & 1.2214668\\\\\n",
       "\tGAS2L2 & 4.578441e-11 & 4.490998e-08 &  8.231539 &  0.09704702 & 0.9937790\\\\\n",
       "\tCAMKK1 & 2.057635e-04 & 2.541044e-02 &  3.985720 &  0.07873062 & 0.8284583\\\\\n",
       "\\end{tabular}\n"
      ],
      "text/markdown": [
       "\n",
       "A data.frame: 6 × 5\n",
       "\n",
       "| <!--/--> | p.value &lt;dbl&gt; | pFDR &lt;dbl&gt; | statistic &lt;dbl&gt; | logFC &lt;dbl&gt; | avgExpr &lt;dbl&gt; |\n",
       "|---|---|---|---|---|---|\n",
       "| DSCR10 | 4.778227e-04 | 4.325324e-02 |  3.721644 |  0.07632117 | 1.1024122 |\n",
       "| GAMT | 3.402464e-04 | 3.481091e-02 |  3.829094 |  0.12655694 | 1.0378989 |\n",
       "| WBP2NL | 5.031544e-04 | 4.458666e-02 | -3.705169 | -0.43701990 | 1.2072571 |\n",
       "| ART5 | 7.601467e-07 | 3.172597e-04 | -5.601889 | -0.15248106 | 1.2214668 |\n",
       "| GAS2L2 | 4.578441e-11 | 4.490998e-08 |  8.231539 |  0.09704702 | 0.9937790 |\n",
       "| CAMKK1 | 2.057635e-04 | 2.541044e-02 |  3.985720 |  0.07873062 | 0.8284583 |\n",
       "\n"
      ],
      "text/plain": [
       "       p.value      pFDR         statistic logFC       avgExpr  \n",
       "DSCR10 4.778227e-04 4.325324e-02  3.721644  0.07632117 1.1024122\n",
       "GAMT   3.402464e-04 3.481091e-02  3.829094  0.12655694 1.0378989\n",
       "WBP2NL 5.031544e-04 4.458666e-02 -3.705169 -0.43701990 1.2072571\n",
       "ART5   7.601467e-07 3.172597e-04 -5.601889 -0.15248106 1.2214668\n",
       "GAS2L2 4.578441e-11 4.490998e-08  8.231539  0.09704702 0.9937790\n",
       "CAMKK1 2.057635e-04 2.541044e-02  3.985720  0.07873062 0.8284583"
      ]
     },
     "metadata": {},
     "output_type": "display_data"
    }
   ],
   "source": [
    "# Remove NA value\n",
    "kw_de <- kw_de[!is.na(kw_de$SYMBOL), ]\n",
    "# Remove duplicated genes symbols\n",
    "kw_de <- kw_de[!duplicated(kw_de$SYMBOL, fromLast = FALSE), ]\n",
    "rownames(kw_de) <- kw_de$SYMBOL\n",
    "# remove the first column from the DE dataframe  \n",
    "kw_de <- kw_de[, !(names(kw_de) %in% c(\"SYMBOL\"))]\n",
    "\n",
    "head(kw_de)"
   ]
  },
  {
   "cell_type": "markdown",
   "id": "610c0f93-6a3b-4221-bf0a-b93d65c4419c",
   "metadata": {},
   "source": [
    "To perform KS or Wilcoxon test, we will use the `.runKsWilcox` function bellow."
   ]
  },
  {
   "cell_type": "code",
   "execution_count": 18,
   "id": "14a9698b-6464-451e-aa95-a7a13cbe2858",
   "metadata": {},
   "outputs": [],
   "source": [
    "#' Run Kolmogorov-Smirnov Wilcoxon rank-sum test on differential expression data\n",
    "#'\n",
    "#' @param DE.df Dataframe containing differential expression information.\n",
    "#' @param statCol Name of the column in DE.df containing the test statistic values.\n",
    "#' @param genesets List of gene sets to be analyzed.\n",
    "#' @param sTest The type of test to be used (\"ks\" for Kolmogorov-Smirnov, \"wilcox\" for Wilcoxon rank-sum).\n",
    "#' @return A dataframe containing the results of the tests for each gene set.\n",
    "\n",
    "runKsWilcox <- function(DE_data, statCol, genesets, sTest) {\n",
    "    # remove rows that contain NA value in the column specified by the statCol argument\n",
    "    DE_data <- DE_data[!is.na(DE_data[[statCol]]), ]\n",
    "    # get the statistical values from DE.df to perform the test\n",
    "    ranks <- DE_data[[statCol]]\n",
    "    # set names of the DE genes\n",
    "    names(ranks) <- rownames(DE_data)\n",
    "\n",
    "    # choose the test to perform based on the sTest argument\n",
    "    test <- if (sTest == \"ks\") ks.test else wilcox.test\n",
    "    \n",
    "    background.genes <- rownames(DE_data)\n",
    "\n",
    "    DEhit <- sapply(genesets, function(gs) ranks[background.genes[background.genes %in% gs]])\n",
    "    DEmiss <- sapply(genesets, function(gs) ranks[background.genes[!background.genes %in% gs]])\n",
    "\n",
    "    # Initialize an empty list to store results\n",
    "    PA_res_list <- lapply(1:length(DEhit), function(i) {\n",
    "        cur.DEhit <- DEhit[[i]]\n",
    "        cur.DEmiss <- DEmiss[[i]]\n",
    "    \n",
    "        # Check if either list is empty\n",
    "        if (length(cur.DEhit) == 0 | length(cur.DEmiss) == 0) return(1)\n",
    "    \n",
    "        # Perform the test and extract the p-value\n",
    "        test_result <- test(cur.DEhit, cur.DEmiss)\n",
    "        test_result$p.value\n",
    "    })\n",
    "    \n",
    "    # Combine the results into a data frame\n",
    "    PA_res <- data.frame(\n",
    "        ID = names(genesets),\n",
    "        p.value = unlist(PA_res_list),\n",
    "        stringsAsFactors = FALSE\n",
    "    )\n",
    "    \n",
    "    # Remove rows with missing values\n",
    "    PA_res <- PA_res[complete.cases(PA_res), ]\n",
    "    # # Ensure row names are unique\n",
    "    # PA_res$ID <- make.unique(PA_res$ID)\n",
    "    # # Set row names\n",
    "    # rownames(PA_res) <- PA_res$ID\n",
    "    \n",
    "    return(PA_res)\n",
    "}"
   ]
  },
  {
   "cell_type": "markdown",
   "id": "0245522a-5d4e-4d40-8bc8-b04af61a2358",
   "metadata": {},
   "source": [
    "To use the `.runKsWilcox` function, we need to pass the following arguments:\n",
    "\n",
    "- `DE.df`: A dataframe containing information about differentially expressed genes.\n",
    "- `statCol`: A character string specifying the column in the DE.df data frame that contains the statistical values (e.g., p-value, adjusted p-values) associated with each gene.\n",
    "- `geneset`: A list of gene sets to be analyzed.\n",
    "- `sTest`: A character string specifying the testing method to be used; it can take either \"ks\" for the Kolmogorov-Smirnov test or \"wilcox\" for the Wilcoxon test.\r\n",
    "\n",
    "The `.runKsWilcox` function returns a dataframe of the analysis result.\n"
   ]
  },
  {
   "cell_type": "markdown",
   "id": "b1461242-eab0-40cc-8168-e99c577f08f5",
   "metadata": {},
   "source": [
    "### Enrichment analysis using KS and GO terms"
   ]
  },
  {
   "cell_type": "markdown",
   "id": "d7eb5e19-f357-4656-9632-02118bb129e9",
   "metadata": {},
   "source": [
    "We will need a gene set to perform enrichment analysis using KS/Wilcoxon test. Here, we will use the GO terms saved in the \"GO_terms.gmt\" file in module 3."
   ]
  },
  {
   "cell_type": "code",
   "execution_count": 19,
   "id": "b6aca88a-249c-4d46-bd99-ae3ad29415db",
   "metadata": {
    "scrolled": true
   },
   "outputs": [
    {
     "data": {
      "text/html": [
       "<table class=\"dataframe\">\n",
       "<caption>A data.frame: 6 × 2</caption>\n",
       "<thead>\n",
       "\t<tr><th></th><th scope=col>ID</th><th scope=col>p.value</th></tr>\n",
       "\t<tr><th></th><th scope=col>&lt;chr&gt;</th><th scope=col>&lt;dbl&gt;</th></tr>\n",
       "</thead>\n",
       "<tbody>\n",
       "\t<tr><th scope=row>5701</th><td>GO:0090303</td><td>0.001745399</td></tr>\n",
       "\t<tr><th scope=row>6399</th><td>GO:1903036</td><td>0.001745399</td></tr>\n",
       "\t<tr><th scope=row>3846</th><td>GO:0045893</td><td>0.003520434</td></tr>\n",
       "\t<tr><th scope=row>4519</th><td>GO:0051254</td><td>0.003520434</td></tr>\n",
       "\t<tr><th scope=row>6352</th><td>GO:1902680</td><td>0.003520434</td></tr>\n",
       "\t<tr><th scope=row>3864</th><td>GO:0045935</td><td>0.008010724</td></tr>\n",
       "</tbody>\n",
       "</table>\n"
      ],
      "text/latex": [
       "A data.frame: 6 × 2\n",
       "\\begin{tabular}{r|ll}\n",
       "  & ID & p.value\\\\\n",
       "  & <chr> & <dbl>\\\\\n",
       "\\hline\n",
       "\t5701 & GO:0090303 & 0.001745399\\\\\n",
       "\t6399 & GO:1903036 & 0.001745399\\\\\n",
       "\t3846 & GO:0045893 & 0.003520434\\\\\n",
       "\t4519 & GO:0051254 & 0.003520434\\\\\n",
       "\t6352 & GO:1902680 & 0.003520434\\\\\n",
       "\t3864 & GO:0045935 & 0.008010724\\\\\n",
       "\\end{tabular}\n"
      ],
      "text/markdown": [
       "\n",
       "A data.frame: 6 × 2\n",
       "\n",
       "| <!--/--> | ID &lt;chr&gt; | p.value &lt;dbl&gt; |\n",
       "|---|---|---|\n",
       "| 5701 | GO:0090303 | 0.001745399 |\n",
       "| 6399 | GO:1903036 | 0.001745399 |\n",
       "| 3846 | GO:0045893 | 0.003520434 |\n",
       "| 4519 | GO:0051254 | 0.003520434 |\n",
       "| 6352 | GO:1902680 | 0.003520434 |\n",
       "| 3864 | GO:0045935 | 0.008010724 |\n",
       "\n"
      ],
      "text/plain": [
       "     ID         p.value    \n",
       "5701 GO:0090303 0.001745399\n",
       "6399 GO:1903036 0.001745399\n",
       "3846 GO:0045893 0.003520434\n",
       "4519 GO:0051254 0.003520434\n",
       "6352 GO:1902680 0.003520434\n",
       "3864 GO:0045935 0.008010724"
      ]
     },
     "metadata": {},
     "output_type": "display_data"
    }
   ],
   "source": [
    "# load the GO gene sets from saved gmt file\n",
    "suppressWarnings({suppressMessages({geneset <- gmt2geneset(\"./data/GO_terms.gmt\")})})\n",
    "# perform enrichment analysis using KS test\n",
    "suppressWarnings(k_results <- runKsWilcox(DE_data = kw_de, statCol = \"statistic\", geneset = geneset, sTest = \"ks\"))\n",
    "\n",
    "# order the results \n",
    "k_results <- k_results[order(k_results$p.value), ]\n",
    "# show some first rows of the result table\n",
    "head(k_results)"
   ]
  },
  {
   "cell_type": "markdown",
   "id": "214d9285-55fa-4b53-a974-ea18096ffea8",
   "metadata": {},
   "source": [
    "### Enrichment analysis using KS and KEGG pathways\n",
    "To do the analysis with KEEG pathways, we will replace the GO gene sets with the KEGG pathways."
   ]
  },
  {
   "cell_type": "code",
   "execution_count": 20,
   "id": "6b3d0d05-3bae-4b41-8ade-479d1985cf40",
   "metadata": {},
   "outputs": [
    {
     "data": {
      "text/html": [
       "<table class=\"dataframe\">\n",
       "<caption>A data.frame: 6 × 2</caption>\n",
       "<thead>\n",
       "\t<tr><th></th><th scope=col>ID</th><th scope=col>p.value</th></tr>\n",
       "\t<tr><th></th><th scope=col>&lt;chr&gt;</th><th scope=col>&lt;dbl&gt;</th></tr>\n",
       "</thead>\n",
       "<tbody>\n",
       "\t<tr><th scope=row>171</th><td>hsa04610</td><td>0.003411117</td></tr>\n",
       "\t<tr><th scope=row>164</th><td>hsa04520</td><td>0.031746032</td></tr>\n",
       "\t<tr><th scope=row>288</th><td>hsa05168</td><td>0.043373174</td></tr>\n",
       "\t<tr><th scope=row>206</th><td>hsa04918</td><td>0.055555556</td></tr>\n",
       "\t<tr><th scope=row>170</th><td>hsa04640</td><td>0.071333713</td></tr>\n",
       "\t<tr><th scope=row>180</th><td>hsa04612</td><td>0.071333713</td></tr>\n",
       "</tbody>\n",
       "</table>\n"
      ],
      "text/latex": [
       "A data.frame: 6 × 2\n",
       "\\begin{tabular}{r|ll}\n",
       "  & ID & p.value\\\\\n",
       "  & <chr> & <dbl>\\\\\n",
       "\\hline\n",
       "\t171 & hsa04610 & 0.003411117\\\\\n",
       "\t164 & hsa04520 & 0.031746032\\\\\n",
       "\t288 & hsa05168 & 0.043373174\\\\\n",
       "\t206 & hsa04918 & 0.055555556\\\\\n",
       "\t170 & hsa04640 & 0.071333713\\\\\n",
       "\t180 & hsa04612 & 0.071333713\\\\\n",
       "\\end{tabular}\n"
      ],
      "text/markdown": [
       "\n",
       "A data.frame: 6 × 2\n",
       "\n",
       "| <!--/--> | ID &lt;chr&gt; | p.value &lt;dbl&gt; |\n",
       "|---|---|---|\n",
       "| 171 | hsa04610 | 0.003411117 |\n",
       "| 164 | hsa04520 | 0.031746032 |\n",
       "| 288 | hsa05168 | 0.043373174 |\n",
       "| 206 | hsa04918 | 0.055555556 |\n",
       "| 170 | hsa04640 | 0.071333713 |\n",
       "| 180 | hsa04612 | 0.071333713 |\n",
       "\n"
      ],
      "text/plain": [
       "    ID       p.value    \n",
       "171 hsa04610 0.003411117\n",
       "164 hsa04520 0.031746032\n",
       "288 hsa05168 0.043373174\n",
       "206 hsa04918 0.055555556\n",
       "170 hsa04640 0.071333713\n",
       "180 hsa04612 0.071333713"
      ]
     },
     "metadata": {},
     "output_type": "display_data"
    }
   ],
   "source": [
    "# Loading the KEGG pathways from saved gmt file\n",
    "suppressWarnings({suppressMessages({geneset <- gmt2geneset(\"./data/KEGG_pathways.gmt\")})})\n",
    "# perform enrichment analysis using KS test\n",
    "k_results <- runKsWilcox(DE_data = kw_de, statCol = \"statistic\", geneset = geneset, sTest = \"ks\")\n",
    "\n",
    "# order the results \n",
    "k_results <- k_results[order(k_results$p.value), ]\n",
    "# show some first rows of the result table\n",
    "head(k_results)"
   ]
  },
  {
   "cell_type": "markdown",
   "id": "036d1f5a-8292-442c-9e81-d6cdfd286ae5",
   "metadata": {},
   "source": [
    "### Enrichment analysis using KS and REACTOME pathways\n",
    "To do the analysis with REACTOME pathways, we will use the same steps as for GO terms and KEEG pathways."
   ]
  },
  {
   "cell_type": "code",
   "execution_count": 21,
   "id": "3a67eacd-72f8-4ac8-99b5-90048bcad9ec",
   "metadata": {},
   "outputs": [
    {
     "data": {
      "text/html": [
       "<table class=\"dataframe\">\n",
       "<caption>A data.frame: 6 × 2</caption>\n",
       "<thead>\n",
       "\t<tr><th></th><th scope=col>ID</th><th scope=col>p.value</th></tr>\n",
       "\t<tr><th></th><th scope=col>&lt;chr&gt;</th><th scope=col>&lt;dbl&gt;</th></tr>\n",
       "</thead>\n",
       "<tbody>\n",
       "\t<tr><th scope=row>612</th><td>R-HSA-210744 </td><td>0.007936508</td></tr>\n",
       "\t<tr><th scope=row>615</th><td>R-HSA-210747 </td><td>0.007936508</td></tr>\n",
       "\t<tr><th scope=row>1870</th><td>R-HSA-5690714</td><td>0.008089547</td></tr>\n",
       "\t<tr><th scope=row>797</th><td>R-HSA-425366 </td><td>0.015873016</td></tr>\n",
       "\t<tr><th scope=row>801</th><td>R-HSA-425407 </td><td>0.015873016</td></tr>\n",
       "\t<tr><th scope=row>855</th><td>R-HSA-444411 </td><td>0.015873016</td></tr>\n",
       "</tbody>\n",
       "</table>\n"
      ],
      "text/latex": [
       "A data.frame: 6 × 2\n",
       "\\begin{tabular}{r|ll}\n",
       "  & ID & p.value\\\\\n",
       "  & <chr> & <dbl>\\\\\n",
       "\\hline\n",
       "\t612 & R-HSA-210744  & 0.007936508\\\\\n",
       "\t615 & R-HSA-210747  & 0.007936508\\\\\n",
       "\t1870 & R-HSA-5690714 & 0.008089547\\\\\n",
       "\t797 & R-HSA-425366  & 0.015873016\\\\\n",
       "\t801 & R-HSA-425407  & 0.015873016\\\\\n",
       "\t855 & R-HSA-444411  & 0.015873016\\\\\n",
       "\\end{tabular}\n"
      ],
      "text/markdown": [
       "\n",
       "A data.frame: 6 × 2\n",
       "\n",
       "| <!--/--> | ID &lt;chr&gt; | p.value &lt;dbl&gt; |\n",
       "|---|---|---|\n",
       "| 612 | R-HSA-210744  | 0.007936508 |\n",
       "| 615 | R-HSA-210747  | 0.007936508 |\n",
       "| 1870 | R-HSA-5690714 | 0.008089547 |\n",
       "| 797 | R-HSA-425366  | 0.015873016 |\n",
       "| 801 | R-HSA-425407  | 0.015873016 |\n",
       "| 855 | R-HSA-444411  | 0.015873016 |\n",
       "\n"
      ],
      "text/plain": [
       "     ID            p.value    \n",
       "612  R-HSA-210744  0.007936508\n",
       "615  R-HSA-210747  0.007936508\n",
       "1870 R-HSA-5690714 0.008089547\n",
       "797  R-HSA-425366  0.015873016\n",
       "801  R-HSA-425407  0.015873016\n",
       "855  R-HSA-444411  0.015873016"
      ]
     },
     "metadata": {},
     "output_type": "display_data"
    }
   ],
   "source": [
    "# Loading the KEGG pathways from saved gmt file\n",
    "suppressWarnings({suppressMessages({geneset <- gmt2geneset(\"./data/REACTOME_pathways.gmt\")})})\n",
    "# perform enrichment analysis using KS test\n",
    "k_results <- runKsWilcox(DE_data = kw_de, statCol = \"statistic\", geneset = geneset, sTest = \"ks\")\n",
    "\n",
    "# order the results \n",
    "k_results <- k_results[order(k_results$p.value), ]\n",
    "# show some first rows of the result table\n",
    "head(k_results)"
   ]
  },
  {
   "cell_type": "markdown",
   "id": "b9a069b0-0c79-455d-90b4-cfeaedcb4fb7",
   "metadata": {},
   "source": [
    "### Enrichment analysis using WILCOXON and GO terms\n",
    "\n",
    "For enrichment analysis with Wilcoxon test, we will pass the value \"wilcox\" to the *sTest* argument in the `.runKsWilcox` function. We will do the same steps as KS test."
   ]
  },
  {
   "cell_type": "code",
   "execution_count": 22,
   "id": "7c3f6872-3317-43ac-bfe7-f57f991b7d56",
   "metadata": {},
   "outputs": [
    {
     "data": {
      "text/html": [
       "<table class=\"dataframe\">\n",
       "<caption>A data.frame: 6 × 2</caption>\n",
       "<thead>\n",
       "\t<tr><th></th><th scope=col>ID</th><th scope=col>p.value</th></tr>\n",
       "\t<tr><th></th><th scope=col>&lt;chr&gt;</th><th scope=col>&lt;dbl&gt;</th></tr>\n",
       "</thead>\n",
       "<tbody>\n",
       "\t<tr><th scope=row>3864</th><td>GO:0045935</td><td>0.007026383</td></tr>\n",
       "\t<tr><th scope=row>5701</th><td>GO:0090303</td><td>0.007074130</td></tr>\n",
       "\t<tr><th scope=row>6399</th><td>GO:1903036</td><td>0.007074130</td></tr>\n",
       "\t<tr><th scope=row>5446</th><td>GO:0071840</td><td>0.007700341</td></tr>\n",
       "\t<tr><th scope=row>3846</th><td>GO:0045893</td><td>0.008484490</td></tr>\n",
       "\t<tr><th scope=row>4519</th><td>GO:0051254</td><td>0.008484490</td></tr>\n",
       "</tbody>\n",
       "</table>\n"
      ],
      "text/latex": [
       "A data.frame: 6 × 2\n",
       "\\begin{tabular}{r|ll}\n",
       "  & ID & p.value\\\\\n",
       "  & <chr> & <dbl>\\\\\n",
       "\\hline\n",
       "\t3864 & GO:0045935 & 0.007026383\\\\\n",
       "\t5701 & GO:0090303 & 0.007074130\\\\\n",
       "\t6399 & GO:1903036 & 0.007074130\\\\\n",
       "\t5446 & GO:0071840 & 0.007700341\\\\\n",
       "\t3846 & GO:0045893 & 0.008484490\\\\\n",
       "\t4519 & GO:0051254 & 0.008484490\\\\\n",
       "\\end{tabular}\n"
      ],
      "text/markdown": [
       "\n",
       "A data.frame: 6 × 2\n",
       "\n",
       "| <!--/--> | ID &lt;chr&gt; | p.value &lt;dbl&gt; |\n",
       "|---|---|---|\n",
       "| 3864 | GO:0045935 | 0.007026383 |\n",
       "| 5701 | GO:0090303 | 0.007074130 |\n",
       "| 6399 | GO:1903036 | 0.007074130 |\n",
       "| 5446 | GO:0071840 | 0.007700341 |\n",
       "| 3846 | GO:0045893 | 0.008484490 |\n",
       "| 4519 | GO:0051254 | 0.008484490 |\n",
       "\n"
      ],
      "text/plain": [
       "     ID         p.value    \n",
       "3864 GO:0045935 0.007026383\n",
       "5701 GO:0090303 0.007074130\n",
       "6399 GO:1903036 0.007074130\n",
       "5446 GO:0071840 0.007700341\n",
       "3846 GO:0045893 0.008484490\n",
       "4519 GO:0051254 0.008484490"
      ]
     },
     "metadata": {},
     "output_type": "display_data"
    }
   ],
   "source": [
    "# load the GO gene sets from saved gmt file\n",
    "suppressWarnings({suppressMessages({geneset <- gmt2geneset(\"./data/GO_terms.gmt\")})})\n",
    "# perform enrichment analysis with Wilcoxon test \n",
    "w_results <- runKsWilcox(DE_data = kw_de, statCol = \"statistic\", geneset = geneset, sTest = \"wilcox\")\n",
    "\n",
    "# order the result  \n",
    "w_results <- w_results[order(w_results$p.value), ]\n",
    "# show some first rows of the result\n",
    "head(w_results)"
   ]
  },
  {
   "cell_type": "markdown",
   "id": "8b13fabf-227e-47d1-ad29-1cd5fbf81de7",
   "metadata": {},
   "source": [
    "### Enrichment analysis using WILCOXON and KEGG pathways\n",
    "To do the analysis with KEEG pathways, we will replace the GO gene sets with the KEGG pathways."
   ]
  },
  {
   "cell_type": "code",
   "execution_count": 23,
   "id": "bc304aaf-85f9-412a-8fb4-c0e6b6a391ce",
   "metadata": {},
   "outputs": [
    {
     "data": {
      "text/html": [
       "<table class=\"dataframe\">\n",
       "<caption>A data.frame: 6 × 2</caption>\n",
       "<thead>\n",
       "\t<tr><th></th><th scope=col>ID</th><th scope=col>p.value</th></tr>\n",
       "\t<tr><th></th><th scope=col>&lt;chr&gt;</th><th scope=col>&lt;dbl&gt;</th></tr>\n",
       "</thead>\n",
       "<tbody>\n",
       "\t<tr><th scope=row>171</th><td>hsa04610</td><td>0.01234620</td></tr>\n",
       "\t<tr><th scope=row>288</th><td>hsa05168</td><td>0.04057075</td></tr>\n",
       "\t<tr><th scope=row>180</th><td>hsa04612</td><td>0.05563734</td></tr>\n",
       "\t<tr><th scope=row>302</th><td>hsa05152</td><td>0.05563734</td></tr>\n",
       "\t<tr><th scope=row>170</th><td>hsa04640</td><td>0.09105652</td></tr>\n",
       "\t<tr><th scope=row>164</th><td>hsa04520</td><td>0.09352453</td></tr>\n",
       "</tbody>\n",
       "</table>\n"
      ],
      "text/latex": [
       "A data.frame: 6 × 2\n",
       "\\begin{tabular}{r|ll}\n",
       "  & ID & p.value\\\\\n",
       "  & <chr> & <dbl>\\\\\n",
       "\\hline\n",
       "\t171 & hsa04610 & 0.01234620\\\\\n",
       "\t288 & hsa05168 & 0.04057075\\\\\n",
       "\t180 & hsa04612 & 0.05563734\\\\\n",
       "\t302 & hsa05152 & 0.05563734\\\\\n",
       "\t170 & hsa04640 & 0.09105652\\\\\n",
       "\t164 & hsa04520 & 0.09352453\\\\\n",
       "\\end{tabular}\n"
      ],
      "text/markdown": [
       "\n",
       "A data.frame: 6 × 2\n",
       "\n",
       "| <!--/--> | ID &lt;chr&gt; | p.value &lt;dbl&gt; |\n",
       "|---|---|---|\n",
       "| 171 | hsa04610 | 0.01234620 |\n",
       "| 288 | hsa05168 | 0.04057075 |\n",
       "| 180 | hsa04612 | 0.05563734 |\n",
       "| 302 | hsa05152 | 0.05563734 |\n",
       "| 170 | hsa04640 | 0.09105652 |\n",
       "| 164 | hsa04520 | 0.09352453 |\n",
       "\n"
      ],
      "text/plain": [
       "    ID       p.value   \n",
       "171 hsa04610 0.01234620\n",
       "288 hsa05168 0.04057075\n",
       "180 hsa04612 0.05563734\n",
       "302 hsa05152 0.05563734\n",
       "170 hsa04640 0.09105652\n",
       "164 hsa04520 0.09352453"
      ]
     },
     "metadata": {},
     "output_type": "display_data"
    }
   ],
   "source": [
    "# Loading the KEGG pathways from saved gmt file\n",
    "suppressWarnings({suppressMessages({geneset <- gmt2geneset(\"./data/KEGG_pathways.gmt\")})})\n",
    "# perform enrichment analysis with Wilcoxon test \n",
    "w_results <- runKsWilcox(DE_data = kw_de, statCol = \"statistic\", geneset = geneset, sTest = \"wilcox\")\n",
    "\n",
    "# order the result  \n",
    "w_results <- w_results[order(w_results$p.value), ]\n",
    "# show some first rows of the result\n",
    "head(w_results)"
   ]
  },
  {
   "cell_type": "markdown",
   "id": "402f89b4-83d0-4dbb-af54-265cfb4cf314",
   "metadata": {},
   "source": [
    "### Enrichment analysis using WILCOXON and REACTOME pathways\n",
    "We can use the same code for REACTOME pathways, we will replace the GO gene sets with the REACTOME pathways."
   ]
  },
  {
   "cell_type": "code",
   "execution_count": 24,
   "id": "b5641e20-85d2-4ca8-9e66-4a1aabeb216b",
   "metadata": {},
   "outputs": [
    {
     "data": {
      "text/html": [
       "<table class=\"dataframe\">\n",
       "<caption>A data.frame: 6 × 2</caption>\n",
       "<thead>\n",
       "\t<tr><th></th><th scope=col>ID</th><th scope=col>p.value</th></tr>\n",
       "\t<tr><th></th><th scope=col>&lt;chr&gt;</th><th scope=col>&lt;dbl&gt;</th></tr>\n",
       "</thead>\n",
       "<tbody>\n",
       "\t<tr><th scope=row>1870</th><td>R-HSA-5690714</td><td>0.01795096</td></tr>\n",
       "\t<tr><th scope=row>999</th><td>R-HSA-983695 </td><td>0.02620906</td></tr>\n",
       "\t<tr><th scope=row>2440</th><td>R-HSA-9679191</td><td>0.02620906</td></tr>\n",
       "\t<tr><th scope=row>1138</th><td>R-HSA-1640170</td><td>0.03103296</td></tr>\n",
       "\t<tr><th scope=row>1139</th><td>R-HSA-1643685</td><td>0.03490709</td></tr>\n",
       "\t<tr><th scope=row>874</th><td>R-HSA-446728 </td><td>0.04057075</td></tr>\n",
       "</tbody>\n",
       "</table>\n"
      ],
      "text/latex": [
       "A data.frame: 6 × 2\n",
       "\\begin{tabular}{r|ll}\n",
       "  & ID & p.value\\\\\n",
       "  & <chr> & <dbl>\\\\\n",
       "\\hline\n",
       "\t1870 & R-HSA-5690714 & 0.01795096\\\\\n",
       "\t999 & R-HSA-983695  & 0.02620906\\\\\n",
       "\t2440 & R-HSA-9679191 & 0.02620906\\\\\n",
       "\t1138 & R-HSA-1640170 & 0.03103296\\\\\n",
       "\t1139 & R-HSA-1643685 & 0.03490709\\\\\n",
       "\t874 & R-HSA-446728  & 0.04057075\\\\\n",
       "\\end{tabular}\n"
      ],
      "text/markdown": [
       "\n",
       "A data.frame: 6 × 2\n",
       "\n",
       "| <!--/--> | ID &lt;chr&gt; | p.value &lt;dbl&gt; |\n",
       "|---|---|---|\n",
       "| 1870 | R-HSA-5690714 | 0.01795096 |\n",
       "| 999 | R-HSA-983695  | 0.02620906 |\n",
       "| 2440 | R-HSA-9679191 | 0.02620906 |\n",
       "| 1138 | R-HSA-1640170 | 0.03103296 |\n",
       "| 1139 | R-HSA-1643685 | 0.03490709 |\n",
       "| 874 | R-HSA-446728  | 0.04057075 |\n",
       "\n"
      ],
      "text/plain": [
       "     ID            p.value   \n",
       "1870 R-HSA-5690714 0.01795096\n",
       "999  R-HSA-983695  0.02620906\n",
       "2440 R-HSA-9679191 0.02620906\n",
       "1138 R-HSA-1640170 0.03103296\n",
       "1139 R-HSA-1643685 0.03490709\n",
       "874  R-HSA-446728  0.04057075"
      ]
     },
     "metadata": {},
     "output_type": "display_data"
    }
   ],
   "source": [
    "# Loading the KEGG pathways from saved gmt file\n",
    "suppressWarnings({suppressMessages({geneset <- gmt2geneset(\"./data/REACTOME_pathways.gmt\")})})\n",
    "\n",
    "# perform enrichment analysis using KS test\n",
    "w_results <- runKsWilcox(DE_data = kw_de, statCol = \"statistic\", geneset = geneset, sTest = \"wilcox\")\n",
    "\n",
    "# order the results \n",
    "w_results <- w_results[order(w_results$p.value), ]\n",
    "# show some first rows of the result table\n",
    "head(w_results)"
   ]
  },
  {
   "cell_type": "markdown",
   "id": "9aa0e1c7",
   "metadata": {},
   "source": [
    "## Enrichment Analysis using FGSEA"
   ]
  },
  {
   "cell_type": "markdown",
   "id": "47b46d66",
   "metadata": {},
   "source": [
    "This submodule describes `FGSEA`, one of the methods for evaluating pathway enrichment in transcriptional data and it stands for Fast preranked Gene Set Enrichment Analysis (GSEA). `FGSEA` quickly calculates arbitrarily low GSEA P-values for a collection of gene sets and is based on an algorithm that allows  it to make more permutations and get accurate *p-values*.\n",
    "It extends the GSEA algorithm which calculates the enrichment score (the degree to which a set S is over-represented at the top or bottom of the ranked list L), estimates the p-value of the Enrichment Score using a permutation test and adjusts the estimated significance level to account for multiple hypotheses in addition to calculating the q-values for FDR control. Typically, GSEA requires inputs of a list of gene sets (GO term or pathway with a set of genes), a vector DE genes with statistic. In addition, users can limit the number of terms or pathways of interest by adjusting the `minSize` and `maxSize` parameters. The code to install and load the FGSEA R package is shown below:"
   ]
  },
  {
   "cell_type": "code",
   "execution_count": 25,
   "id": "b9702a89",
   "metadata": {},
   "outputs": [],
   "source": [
    "# To perform enrichment analysis using FGSEA, we first install the fgsea package\n",
    "suppressMessages({\n",
    "    if (!require(\"BiocManager\", quietly = TRUE)) {\n",
    "        install.packages(\"BiocManager\")\n",
    "    }\n",
    "    suppressWarnings(BiocManager::install(\"fgsea\", update = F))\n",
    "    \n",
    "})\n",
    "# Loading the package\n",
    "suppressPackageStartupMessages({\n",
    "    library(\"fgsea\")\n",
    "})"
   ]
  },
  {
   "cell_type": "markdown",
   "id": "20d49b0d-5189-4fc8-8ee8-3a4e1e0b3425",
   "metadata": {},
   "source": [
    "For conducting pathway analysis using FGSEA, we can use the runFGSEA function written below. This function needs "
   ]
  },
  {
   "cell_type": "code",
   "execution_count": 26,
   "id": "92825f53-229c-4f6f-953f-dec89d9b2ac2",
   "metadata": {},
   "outputs": [],
   "source": [
    "#' @description This function performs geneset analysis using fgsea (fast geneset enrichment analysis).\n",
    "#'\n",
    "#' @param DE_data The generated dataframe from DE analysis result.\n",
    "#' @param genesets The genesets definition, ex. KEGG genesets from getGeneSets function.\n",
    "#' @param ... A list of other passed arguments to fgsea. See fgsea function.\n",
    "#' @return A list containing a dataframe of geneset analysis results and a statistic vector\n",
    "\n",
    "runFgsea <- function(DE_data, genesets) {\n",
    "\n",
    "    if (is.null(DE_data) |\n",
    "        dim(DE_data)[1] == 0 |\n",
    "        dim(DE_data)[2] == 0) {\n",
    "        stop(\"No differential analysis data is in input data.\")\n",
    "    }\n",
    "\n",
    "    DE_data <- DE_data[!is.na(DE_data$statistic),]\n",
    "\n",
    "    statistic <- unlist(DE_data$statistic) \n",
    "    statistic <- as.vector(statistic)\n",
    "    names(statistic) <- rownames(DE_data)\n",
    "\n",
    "    suppressWarnings(fgsea_res <- fgsea::fgsea(pathways = genesets, stats = statistic))\n",
    "\n",
    "    fgsea_res <- fgsea_res[!is.na(fgsea_res[[\"pval\"]]), ]\n",
    "    fgsea_res$ID <- fgsea_res$pathway\n",
    "    fgsea_res$p.value <- fgsea_res$pval\n",
    "    fgsea_res$score <- fgsea_res$ES\n",
    "    fgsea_res$normalizedScore <- fgsea_res$NES\n",
    "    \n",
    "    # fgsea_res <- data.frame(\n",
    "    #     ID = res$pathway,\n",
    "    #     p.value = res$pval,\n",
    "    #     score = res$ES,\n",
    "    #     normalizedScore = res$NES,\n",
    "    #     stringsAsFactors = FALSE\n",
    "    # )\n",
    "\n",
    "    list(fgsea_res = fgsea_res, stats = statistic)\n",
    "}"
   ]
  },
  {
   "cell_type": "code",
   "execution_count": 27,
   "id": "cdb41931-b689-4fb9-9c5d-0e1c443bfe00",
   "metadata": {},
   "outputs": [
    {
     "data": {
      "text/html": [
       "<iframe src=\"./Quizzes/Quiz_Submodule4-3.html\" width=100% height=250></iframe>"
      ]
     },
     "metadata": {},
     "output_type": "display_data"
    }
   ],
   "source": [
    "#Run the following command to take the quiz\n",
    "IRdisplay::display_html('<iframe src=\"./Quizzes/Quiz_Submodule4-3.html\" width=100% height=250></iframe>')"
   ]
  },
  {
   "cell_type": "markdown",
   "id": "fb6f9407",
   "metadata": {},
   "source": [
    "Next, we need to prepare a vector of DE genes with its statistic."
   ]
  },
  {
   "cell_type": "markdown",
   "id": "9950a6f6",
   "metadata": {},
   "source": [
    "### Enrichment analysis using FGSEA and GO terms"
   ]
  },
  {
   "cell_type": "markdown",
   "id": "c5093c0c",
   "metadata": {},
   "source": [
    "The package `fgsea` has its own function named `gmtPathways` to load the genesets from the `gmt` file. It is recommended to use this function for compatibility. We can load the GO terms geneset and view the first five GO terms with associated genes using the following command:"
   ]
  },
  {
   "cell_type": "code",
   "execution_count": 28,
   "id": "b2d3d20a",
   "metadata": {
    "scrolled": true
   },
   "outputs": [
    {
     "data": {
      "text/html": [
       "<dl>\n",
       "\t<dt>$`GO:0000002`</dt>\n",
       "\t\t<dd><style>\n",
       ".list-inline {list-style: none; margin:0; padding: 0}\n",
       ".list-inline>li {display: inline-block}\n",
       ".list-inline>li:not(:last-child)::after {content: \"\\00b7\"; padding: 0 .5ex}\n",
       "</style>\n",
       "<ol class=list-inline><li>'AKT3'</li><li>'DNA2'</li><li>'DNAJA3'</li><li>'ENDOG'</li><li>'FLCN'</li><li>'LIG3'</li></ol>\n",
       "</dd>\n",
       "\t<dt>$`GO:0000003`</dt>\n",
       "\t\t<dd><style>\n",
       ".list-inline {list-style: none; margin:0; padding: 0}\n",
       ".list-inline>li {display: inline-block}\n",
       ".list-inline>li:not(:last-child)::after {content: \"\\00b7\"; padding: 0 .5ex}\n",
       "</style>\n",
       "<ol class=list-inline><li>'A1CF'</li><li>'A2M'</li><li>'AAAS'</li><li>'ABAT'</li><li>'ABCC8'</li><li>'ABHD2'</li></ol>\n",
       "</dd>\n",
       "\t<dt>$`GO:0000012`</dt>\n",
       "\t\t<dd><style>\n",
       ".list-inline {list-style: none; margin:0; padding: 0}\n",
       ".list-inline>li {display: inline-block}\n",
       ".list-inline>li:not(:last-child)::after {content: \"\\00b7\"; padding: 0 .5ex}\n",
       "</style>\n",
       "<ol class=list-inline><li>'APLF'</li><li>'APTX'</li><li>'ERCC6'</li><li>'ERCC8'</li><li>'LIG4'</li><li>'PARP1'</li></ol>\n",
       "</dd>\n",
       "\t<dt>$`GO:0000018`</dt>\n",
       "\t\t<dd><style>\n",
       ".list-inline {list-style: none; margin:0; padding: 0}\n",
       ".list-inline>li {display: inline-block}\n",
       ".list-inline>li:not(:last-child)::after {content: \"\\00b7\"; padding: 0 .5ex}\n",
       "</style>\n",
       "<ol class=list-inline><li>'ABL1'</li><li>'ACTB'</li><li>'ACTL6A'</li><li>'ACTR2'</li><li>'ALYREF'</li><li>'ANKLE1'</li></ol>\n",
       "</dd>\n",
       "\t<dt>$`GO:0000022`</dt>\n",
       "\t\t<dd><style>\n",
       ".list-inline {list-style: none; margin:0; padding: 0}\n",
       ".list-inline>li {display: inline-block}\n",
       ".list-inline>li:not(:last-child)::after {content: \"\\00b7\"; padding: 0 .5ex}\n",
       "</style>\n",
       "<ol class=list-inline><li>'AURKB'</li><li>'AURKC'</li><li>'BIRC5'</li><li>'CDCA8'</li><li>'INCENP'</li><li>'KIF23'</li></ol>\n",
       "</dd>\n",
       "</dl>\n"
      ],
      "text/latex": [
       "\\begin{description}\n",
       "\\item[\\$`GO:0000002`] \\begin{enumerate*}\n",
       "\\item 'AKT3'\n",
       "\\item 'DNA2'\n",
       "\\item 'DNAJA3'\n",
       "\\item 'ENDOG'\n",
       "\\item 'FLCN'\n",
       "\\item 'LIG3'\n",
       "\\end{enumerate*}\n",
       "\n",
       "\\item[\\$`GO:0000003`] \\begin{enumerate*}\n",
       "\\item 'A1CF'\n",
       "\\item 'A2M'\n",
       "\\item 'AAAS'\n",
       "\\item 'ABAT'\n",
       "\\item 'ABCC8'\n",
       "\\item 'ABHD2'\n",
       "\\end{enumerate*}\n",
       "\n",
       "\\item[\\$`GO:0000012`] \\begin{enumerate*}\n",
       "\\item 'APLF'\n",
       "\\item 'APTX'\n",
       "\\item 'ERCC6'\n",
       "\\item 'ERCC8'\n",
       "\\item 'LIG4'\n",
       "\\item 'PARP1'\n",
       "\\end{enumerate*}\n",
       "\n",
       "\\item[\\$`GO:0000018`] \\begin{enumerate*}\n",
       "\\item 'ABL1'\n",
       "\\item 'ACTB'\n",
       "\\item 'ACTL6A'\n",
       "\\item 'ACTR2'\n",
       "\\item 'ALYREF'\n",
       "\\item 'ANKLE1'\n",
       "\\end{enumerate*}\n",
       "\n",
       "\\item[\\$`GO:0000022`] \\begin{enumerate*}\n",
       "\\item 'AURKB'\n",
       "\\item 'AURKC'\n",
       "\\item 'BIRC5'\n",
       "\\item 'CDCA8'\n",
       "\\item 'INCENP'\n",
       "\\item 'KIF23'\n",
       "\\end{enumerate*}\n",
       "\n",
       "\\end{description}\n"
      ],
      "text/markdown": [
       "$`GO:0000002`\n",
       ":   1. 'AKT3'\n",
       "2. 'DNA2'\n",
       "3. 'DNAJA3'\n",
       "4. 'ENDOG'\n",
       "5. 'FLCN'\n",
       "6. 'LIG3'\n",
       "\n",
       "\n",
       "\n",
       "$`GO:0000003`\n",
       ":   1. 'A1CF'\n",
       "2. 'A2M'\n",
       "3. 'AAAS'\n",
       "4. 'ABAT'\n",
       "5. 'ABCC8'\n",
       "6. 'ABHD2'\n",
       "\n",
       "\n",
       "\n",
       "$`GO:0000012`\n",
       ":   1. 'APLF'\n",
       "2. 'APTX'\n",
       "3. 'ERCC6'\n",
       "4. 'ERCC8'\n",
       "5. 'LIG4'\n",
       "6. 'PARP1'\n",
       "\n",
       "\n",
       "\n",
       "$`GO:0000018`\n",
       ":   1. 'ABL1'\n",
       "2. 'ACTB'\n",
       "3. 'ACTL6A'\n",
       "4. 'ACTR2'\n",
       "5. 'ALYREF'\n",
       "6. 'ANKLE1'\n",
       "\n",
       "\n",
       "\n",
       "$`GO:0000022`\n",
       ":   1. 'AURKB'\n",
       "2. 'AURKC'\n",
       "3. 'BIRC5'\n",
       "4. 'CDCA8'\n",
       "5. 'INCENP'\n",
       "6. 'KIF23'\n",
       "\n",
       "\n",
       "\n",
       "\n",
       "\n"
      ],
      "text/plain": [
       "$`GO:0000002`\n",
       "[1] \"AKT3\"   \"DNA2\"   \"DNAJA3\" \"ENDOG\"  \"FLCN\"   \"LIG3\"  \n",
       "\n",
       "$`GO:0000003`\n",
       "[1] \"A1CF\"  \"A2M\"   \"AAAS\"  \"ABAT\"  \"ABCC8\" \"ABHD2\"\n",
       "\n",
       "$`GO:0000012`\n",
       "[1] \"APLF\"  \"APTX\"  \"ERCC6\" \"ERCC8\" \"LIG4\"  \"PARP1\"\n",
       "\n",
       "$`GO:0000018`\n",
       "[1] \"ABL1\"   \"ACTB\"   \"ACTL6A\" \"ACTR2\"  \"ALYREF\" \"ANKLE1\"\n",
       "\n",
       "$`GO:0000022`\n",
       "[1] \"AURKB\"  \"AURKC\"  \"BIRC5\"  \"CDCA8\"  \"INCENP\" \"KIF23\" \n"
      ]
     },
     "metadata": {},
     "output_type": "display_data"
    }
   ],
   "source": [
    "# Load the pathways into a named list\n",
    "GO_term_hallmark <- gmtPathways(\"./data/GO_terms.gmt\")\n",
    "# Show the first few GO terms, and within those, show only the first few genes.\n",
    "tmp = lapply(GO_term_hallmark, head)\n",
    "tmp[1:5]"
   ]
  },
  {
   "cell_type": "markdown",
   "id": "d06027d9",
   "metadata": {},
   "source": [
    "Running the FGSEA can be done by calling the `fgsea` with two required inputs that we created from the two previous steps."
   ]
  },
  {
   "cell_type": "code",
   "execution_count": 29,
   "id": "6efd9f83",
   "metadata": {},
   "outputs": [
    {
     "data": {
      "text/html": [
       "<table class=\"dataframe\">\n",
       "<caption>A data.table: 6 × 4</caption>\n",
       "<thead>\n",
       "\t<tr><th scope=col>ID</th><th scope=col>p.value</th><th scope=col>score</th><th scope=col>normalizedScore</th></tr>\n",
       "\t<tr><th scope=col>&lt;chr&gt;</th><th scope=col>&lt;dbl&gt;</th><th scope=col>&lt;dbl&gt;</th><th scope=col>&lt;dbl&gt;</th></tr>\n",
       "</thead>\n",
       "<tbody>\n",
       "\t<tr><td>GO:0008150</td><td>1.000000e-50</td><td>0.3355582</td><td>1.502525</td></tr>\n",
       "\t<tr><td>GO:0009987</td><td>1.539270e-45</td><td>0.3213365</td><td>1.440744</td></tr>\n",
       "\t<tr><td>GO:1901564</td><td>6.019468e-25</td><td>0.3124417</td><td>1.399807</td></tr>\n",
       "\t<tr><td>GO:0071840</td><td>1.387425e-24</td><td>0.3066287</td><td>1.373488</td></tr>\n",
       "\t<tr><td>GO:0008152</td><td>1.874523e-21</td><td>0.2888158</td><td>1.296055</td></tr>\n",
       "\t<tr><td>GO:0016043</td><td>3.479596e-21</td><td>0.3015394</td><td>1.350854</td></tr>\n",
       "</tbody>\n",
       "</table>\n"
      ],
      "text/latex": [
       "A data.table: 6 × 4\n",
       "\\begin{tabular}{llll}\n",
       " ID & p.value & score & normalizedScore\\\\\n",
       " <chr> & <dbl> & <dbl> & <dbl>\\\\\n",
       "\\hline\n",
       "\t GO:0008150 & 1.000000e-50 & 0.3355582 & 1.502525\\\\\n",
       "\t GO:0009987 & 1.539270e-45 & 0.3213365 & 1.440744\\\\\n",
       "\t GO:1901564 & 6.019468e-25 & 0.3124417 & 1.399807\\\\\n",
       "\t GO:0071840 & 1.387425e-24 & 0.3066287 & 1.373488\\\\\n",
       "\t GO:0008152 & 1.874523e-21 & 0.2888158 & 1.296055\\\\\n",
       "\t GO:0016043 & 3.479596e-21 & 0.3015394 & 1.350854\\\\\n",
       "\\end{tabular}\n"
      ],
      "text/markdown": [
       "\n",
       "A data.table: 6 × 4\n",
       "\n",
       "| ID &lt;chr&gt; | p.value &lt;dbl&gt; | score &lt;dbl&gt; | normalizedScore &lt;dbl&gt; |\n",
       "|---|---|---|---|\n",
       "| GO:0008150 | 1.000000e-50 | 0.3355582 | 1.502525 |\n",
       "| GO:0009987 | 1.539270e-45 | 0.3213365 | 1.440744 |\n",
       "| GO:1901564 | 6.019468e-25 | 0.3124417 | 1.399807 |\n",
       "| GO:0071840 | 1.387425e-24 | 0.3066287 | 1.373488 |\n",
       "| GO:0008152 | 1.874523e-21 | 0.2888158 | 1.296055 |\n",
       "| GO:0016043 | 3.479596e-21 | 0.3015394 | 1.350854 |\n",
       "\n"
      ],
      "text/plain": [
       "  ID         p.value      score     normalizedScore\n",
       "1 GO:0008150 1.000000e-50 0.3355582 1.502525       \n",
       "2 GO:0009987 1.539270e-45 0.3213365 1.440744       \n",
       "3 GO:1901564 6.019468e-25 0.3124417 1.399807       \n",
       "4 GO:0071840 1.387425e-24 0.3066287 1.373488       \n",
       "5 GO:0008152 1.874523e-21 0.2888158 1.296055       \n",
       "6 GO:0016043 3.479596e-21 0.3015394 1.350854       "
      ]
     },
     "metadata": {},
     "output_type": "display_data"
    }
   ],
   "source": [
    "# Running fgsea analysis\n",
    "geneset <- GO_term_hallmark\n",
    "fgsea_output <- runFgsea(DE_data = DE.df, genesets = geneset)\n",
    "# Get result and stats from output of runFgsea function\n",
    "fgsea_result <- fgsea_output$fgsea_res\n",
    "stats <- fgsea_output$stats\n",
    "\n",
    "head(fgsea_result[order(fgsea_result$p.value), c(\"ID\", \"p.value\", \"score\", \"normalizedScore\")])"
   ]
  },
  {
   "cell_type": "markdown",
   "id": "c7866448",
   "metadata": {},
   "source": [
    "From the result table, we can select top five up regulated GO terms and top five down regulated GO terms. Then we can plot them using the built-in function `plotGseaTable`"
   ]
  },
  {
   "cell_type": "code",
   "execution_count": 30,
   "id": "f1b4ed14",
   "metadata": {
    "scrolled": true
   },
   "outputs": [
    {
     "data": {
      "image/png": "[encoded data removed]",
      "text/plain": [
       "plot without title"
      ]
     },
     "metadata": {
      "image/png": {
       "height": 420,
       "width": 420
      }
     },
     "output_type": "display_data"
    }
   ],
   "source": [
    "# select the top five up-regulated pathways \n",
    "topPathwaysUp <- fgsea_result[ES > 0][head(order(pval), n = 5), pathway]\n",
    "# select the top five down-regulated pathways \n",
    "topPathwaysDown <- fgsea_result[ES < 0][head(order(pval), n = 5), pathway]\n",
    "# concatenate them for visualization\n",
    "topPathways <- c(topPathwaysUp, rev(topPathwaysDown))\n",
    "#Viewing the 5 most significantly up-regulated and down-regulated pathways each with the FGSEA internal plot function\n",
    "plotGseaTable(pathways = GO_term_hallmark[topPathways], stats = stats, \n",
    "              fgseaRes = fgsea_result, gseaParam = 0.5)"
   ]
  },
  {
   "cell_type": "markdown",
   "id": "86cfabed-97a6-4e5e-8cfa-5ffa01c57906",
   "metadata": {},
   "source": [
    "To use the `plotGseaTable` function, we need to pass the following arguments:\n",
    "\n",
    "- `pathways`: A list of pathways to plot table.\n",
    "- `stats`: A dataframe specifying gene-level stats.\n",
    "- `fgseaRes`: A dataframe of fgsea results.\n",
    "- `gseaParam`: A numeric value to adjust displayed statistic values, values closer to 0 flatten plots. Default = 1, value of 0.5 is a good choice too."
   ]
  },
  {
   "cell_type": "markdown",
   "id": "1ef50627",
   "metadata": {},
   "source": [
    "### Enrichment analysis using FGSEA and KEGG pathways\n",
    "We can perform enrichment analysis using FGSEA with KEGG pathway using the same procedure mentioned above. The only thing we need to change is the\n",
    "list of genesets that are available in the KEGG database."
   ]
  },
  {
   "cell_type": "code",
   "execution_count": 31,
   "id": "93b11008",
   "metadata": {
    "scrolled": true
   },
   "outputs": [
    {
     "data": {
      "text/html": [
       "<dl>\n",
       "\t<dt>$hsa00010</dt>\n",
       "\t\t<dd><style>\n",
       ".list-inline {list-style: none; margin:0; padding: 0}\n",
       ".list-inline>li {display: inline-block}\n",
       ".list-inline>li:not(:last-child)::after {content: \"\\00b7\"; padding: 0 .5ex}\n",
       "</style>\n",
       "<ol class=list-inline><li>'HK3'</li><li>'HK1'</li><li>'HK2'</li><li>'HKDC1'</li><li>'GCK'</li><li>'GPI'</li></ol>\n",
       "</dd>\n",
       "\t<dt>$hsa00020</dt>\n",
       "\t\t<dd><style>\n",
       ".list-inline {list-style: none; margin:0; padding: 0}\n",
       ".list-inline>li {display: inline-block}\n",
       ".list-inline>li:not(:last-child)::after {content: \"\\00b7\"; padding: 0 .5ex}\n",
       "</style>\n",
       "<ol class=list-inline><li>'CS'</li><li>'ACLY'</li><li>'ACO2'</li><li>'ACO1'</li><li>'IDH1'</li><li>'IDH2'</li></ol>\n",
       "</dd>\n",
       "\t<dt>$hsa00030</dt>\n",
       "\t\t<dd><style>\n",
       ".list-inline {list-style: none; margin:0; padding: 0}\n",
       ".list-inline>li {display: inline-block}\n",
       ".list-inline>li:not(:last-child)::after {content: \"\\00b7\"; padding: 0 .5ex}\n",
       "</style>\n",
       "<ol class=list-inline><li>'GPI'</li><li>'G6PD'</li><li>'PGLS'</li><li>'H6PD'</li><li>'PGD'</li><li>'RPE'</li></ol>\n",
       "</dd>\n",
       "\t<dt>$hsa00040</dt>\n",
       "\t\t<dd><style>\n",
       ".list-inline {list-style: none; margin:0; padding: 0}\n",
       ".list-inline>li {display: inline-block}\n",
       ".list-inline>li:not(:last-child)::after {content: \"\\00b7\"; padding: 0 .5ex}\n",
       "</style>\n",
       "<ol class=list-inline><li>'GUSB'</li><li>'KL'</li><li>'UGT2A1'</li><li>'UGT2A3'</li><li>'UGT2B17'</li><li>'UGT2B11'</li></ol>\n",
       "</dd>\n",
       "\t<dt>$hsa00051</dt>\n",
       "\t\t<dd><style>\n",
       ".list-inline {list-style: none; margin:0; padding: 0}\n",
       ".list-inline>li {display: inline-block}\n",
       ".list-inline>li:not(:last-child)::after {content: \"\\00b7\"; padding: 0 .5ex}\n",
       "</style>\n",
       "<ol class=list-inline><li>'MPI'</li><li>'PMM2'</li><li>'PMM1'</li><li>'GMPPB'</li><li>'GMPPA'</li><li>'GMDS'</li></ol>\n",
       "</dd>\n",
       "</dl>\n"
      ],
      "text/latex": [
       "\\begin{description}\n",
       "\\item[\\$hsa00010] \\begin{enumerate*}\n",
       "\\item 'HK3'\n",
       "\\item 'HK1'\n",
       "\\item 'HK2'\n",
       "\\item 'HKDC1'\n",
       "\\item 'GCK'\n",
       "\\item 'GPI'\n",
       "\\end{enumerate*}\n",
       "\n",
       "\\item[\\$hsa00020] \\begin{enumerate*}\n",
       "\\item 'CS'\n",
       "\\item 'ACLY'\n",
       "\\item 'ACO2'\n",
       "\\item 'ACO1'\n",
       "\\item 'IDH1'\n",
       "\\item 'IDH2'\n",
       "\\end{enumerate*}\n",
       "\n",
       "\\item[\\$hsa00030] \\begin{enumerate*}\n",
       "\\item 'GPI'\n",
       "\\item 'G6PD'\n",
       "\\item 'PGLS'\n",
       "\\item 'H6PD'\n",
       "\\item 'PGD'\n",
       "\\item 'RPE'\n",
       "\\end{enumerate*}\n",
       "\n",
       "\\item[\\$hsa00040] \\begin{enumerate*}\n",
       "\\item 'GUSB'\n",
       "\\item 'KL'\n",
       "\\item 'UGT2A1'\n",
       "\\item 'UGT2A3'\n",
       "\\item 'UGT2B17'\n",
       "\\item 'UGT2B11'\n",
       "\\end{enumerate*}\n",
       "\n",
       "\\item[\\$hsa00051] \\begin{enumerate*}\n",
       "\\item 'MPI'\n",
       "\\item 'PMM2'\n",
       "\\item 'PMM1'\n",
       "\\item 'GMPPB'\n",
       "\\item 'GMPPA'\n",
       "\\item 'GMDS'\n",
       "\\end{enumerate*}\n",
       "\n",
       "\\end{description}\n"
      ],
      "text/markdown": [
       "$hsa00010\n",
       ":   1. 'HK3'\n",
       "2. 'HK1'\n",
       "3. 'HK2'\n",
       "4. 'HKDC1'\n",
       "5. 'GCK'\n",
       "6. 'GPI'\n",
       "\n",
       "\n",
       "\n",
       "$hsa00020\n",
       ":   1. 'CS'\n",
       "2. 'ACLY'\n",
       "3. 'ACO2'\n",
       "4. 'ACO1'\n",
       "5. 'IDH1'\n",
       "6. 'IDH2'\n",
       "\n",
       "\n",
       "\n",
       "$hsa00030\n",
       ":   1. 'GPI'\n",
       "2. 'G6PD'\n",
       "3. 'PGLS'\n",
       "4. 'H6PD'\n",
       "5. 'PGD'\n",
       "6. 'RPE'\n",
       "\n",
       "\n",
       "\n",
       "$hsa00040\n",
       ":   1. 'GUSB'\n",
       "2. 'KL'\n",
       "3. 'UGT2A1'\n",
       "4. 'UGT2A3'\n",
       "5. 'UGT2B17'\n",
       "6. 'UGT2B11'\n",
       "\n",
       "\n",
       "\n",
       "$hsa00051\n",
       ":   1. 'MPI'\n",
       "2. 'PMM2'\n",
       "3. 'PMM1'\n",
       "4. 'GMPPB'\n",
       "5. 'GMPPA'\n",
       "6. 'GMDS'\n",
       "\n",
       "\n",
       "\n",
       "\n",
       "\n"
      ],
      "text/plain": [
       "$hsa00010\n",
       "[1] \"HK3\"   \"HK1\"   \"HK2\"   \"HKDC1\" \"GCK\"   \"GPI\"  \n",
       "\n",
       "$hsa00020\n",
       "[1] \"CS\"   \"ACLY\" \"ACO2\" \"ACO1\" \"IDH1\" \"IDH2\"\n",
       "\n",
       "$hsa00030\n",
       "[1] \"GPI\"  \"G6PD\" \"PGLS\" \"H6PD\" \"PGD\"  \"RPE\" \n",
       "\n",
       "$hsa00040\n",
       "[1] \"GUSB\"    \"KL\"      \"UGT2A1\"  \"UGT2A3\"  \"UGT2B17\" \"UGT2B11\"\n",
       "\n",
       "$hsa00051\n",
       "[1] \"MPI\"   \"PMM2\"  \"PMM1\"  \"GMPPB\" \"GMPPA\" \"GMDS\" \n"
      ]
     },
     "metadata": {},
     "output_type": "display_data"
    }
   ],
   "source": [
    "# Load the pathways into a named list\n",
    "KEGG_hallmark <- gmtPathways(\"./data/KEGG_pathways.gmt\")\n",
    "# Show the first few GO terms, and within those, show only the first few genes.\n",
    "tmp = lapply(KEGG_hallmark, head)\n",
    "tmp[1:5]"
   ]
  },
  {
   "cell_type": "code",
   "execution_count": 32,
   "id": "9eb1ede2",
   "metadata": {},
   "outputs": [
    {
     "data": {
      "text/html": [
       "<table class=\"dataframe\">\n",
       "<caption>A data.table: 6 × 4</caption>\n",
       "<thead>\n",
       "\t<tr><th scope=col>ID</th><th scope=col>p.value</th><th scope=col>score</th><th scope=col>normalizedScore</th></tr>\n",
       "\t<tr><th scope=col>&lt;chr&gt;</th><th scope=col>&lt;dbl&gt;</th><th scope=col>&lt;dbl&gt;</th><th scope=col>&lt;dbl&gt;</th></tr>\n",
       "</thead>\n",
       "<tbody>\n",
       "\t<tr><td>hsa05022</td><td>1.509961e-26</td><td>0.5151351</td><td>2.231820</td></tr>\n",
       "\t<tr><td>hsa05010</td><td>1.879516e-22</td><td>0.5186173</td><td>2.229776</td></tr>\n",
       "\t<tr><td>hsa05016</td><td>1.906784e-22</td><td>0.5530733</td><td>2.345721</td></tr>\n",
       "\t<tr><td>hsa05012</td><td>3.662985e-21</td><td>0.5612790</td><td>2.364849</td></tr>\n",
       "\t<tr><td>hsa05020</td><td>1.920605e-20</td><td>0.5561393</td><td>2.348529</td></tr>\n",
       "\t<tr><td>hsa05014</td><td>2.117721e-20</td><td>0.5112350</td><td>2.187962</td></tr>\n",
       "</tbody>\n",
       "</table>\n"
      ],
      "text/latex": [
       "A data.table: 6 × 4\n",
       "\\begin{tabular}{llll}\n",
       " ID & p.value & score & normalizedScore\\\\\n",
       " <chr> & <dbl> & <dbl> & <dbl>\\\\\n",
       "\\hline\n",
       "\t hsa05022 & 1.509961e-26 & 0.5151351 & 2.231820\\\\\n",
       "\t hsa05010 & 1.879516e-22 & 0.5186173 & 2.229776\\\\\n",
       "\t hsa05016 & 1.906784e-22 & 0.5530733 & 2.345721\\\\\n",
       "\t hsa05012 & 3.662985e-21 & 0.5612790 & 2.364849\\\\\n",
       "\t hsa05020 & 1.920605e-20 & 0.5561393 & 2.348529\\\\\n",
       "\t hsa05014 & 2.117721e-20 & 0.5112350 & 2.187962\\\\\n",
       "\\end{tabular}\n"
      ],
      "text/markdown": [
       "\n",
       "A data.table: 6 × 4\n",
       "\n",
       "| ID &lt;chr&gt; | p.value &lt;dbl&gt; | score &lt;dbl&gt; | normalizedScore &lt;dbl&gt; |\n",
       "|---|---|---|---|\n",
       "| hsa05022 | 1.509961e-26 | 0.5151351 | 2.231820 |\n",
       "| hsa05010 | 1.879516e-22 | 0.5186173 | 2.229776 |\n",
       "| hsa05016 | 1.906784e-22 | 0.5530733 | 2.345721 |\n",
       "| hsa05012 | 3.662985e-21 | 0.5612790 | 2.364849 |\n",
       "| hsa05020 | 1.920605e-20 | 0.5561393 | 2.348529 |\n",
       "| hsa05014 | 2.117721e-20 | 0.5112350 | 2.187962 |\n",
       "\n"
      ],
      "text/plain": [
       "  ID       p.value      score     normalizedScore\n",
       "1 hsa05022 1.509961e-26 0.5151351 2.231820       \n",
       "2 hsa05010 1.879516e-22 0.5186173 2.229776       \n",
       "3 hsa05016 1.906784e-22 0.5530733 2.345721       \n",
       "4 hsa05012 3.662985e-21 0.5612790 2.364849       \n",
       "5 hsa05020 1.920605e-20 0.5561393 2.348529       \n",
       "6 hsa05014 2.117721e-20 0.5112350 2.187962       "
      ]
     },
     "metadata": {},
     "output_type": "display_data"
    }
   ],
   "source": [
    "# Running fgsea analysis\n",
    "geneset <- KEGG_hallmark\n",
    "fgsea_output <- runFgsea(DE_data = DE.df, genesets = geneset)\n",
    "# Get result and stats from output of runFgsea function\n",
    "fgsea_result <- fgsea_output$fgsea_res\n",
    "stats <- fgsea_output$stats\n",
    "\n",
    "head(fgsea_result[order(fgsea_result$p.value), c(\"ID\", \"p.value\", \"score\", \"normalizedScore\")])"
   ]
  },
  {
   "cell_type": "code",
   "execution_count": 33,
   "id": "a63408eb",
   "metadata": {
    "scrolled": true
   },
   "outputs": [
    {
     "data": {
      "image/png": "[encoded data removed]",
      "text/plain": [
       "plot without title"
      ]
     },
     "metadata": {
      "image/png": {
       "height": 420,
       "width": 420
      }
     },
     "output_type": "display_data"
    }
   ],
   "source": [
    "# select the top five up-regulated pathways \n",
    "topPathwaysUp <- fgsea_result[ES > 0][head(order(pval), n = 5), pathway]\n",
    "# select the top five down-regulated pathways \n",
    "topPathwaysDown <- fgsea_result[ES < 0][head(order(pval), n = 5), pathway]\n",
    "# concatenate them for visualization\n",
    "topPathways <- c(topPathwaysUp, rev(topPathwaysDown))\n",
    "#Viewing the 5 most significantly up-regulated and down-regulated pathways each with the FGSEA internal plot function\n",
    "plotGseaTable(pathways = KEGG_hallmark[topPathways], stats = stats, \n",
    "              fgseaRes = fgsea_result, gseaParam = 0.5)"
   ]
  },
  {
   "cell_type": "markdown",
   "id": "29cbb971-2f26-42fa-92d1-3f7b8e6347ef",
   "metadata": {},
   "source": [
    "### Enrichment analysis using FGSEA and REACTOME pathways\n",
    "We can perform enrichment analysis using FGSEA with REACTOME pathways using the same procedure mentioned above. "
   ]
  },
  {
   "cell_type": "code",
   "execution_count": 34,
   "id": "ab574490-afc7-428d-8bd9-fc0a2514777e",
   "metadata": {
    "scrolled": true
   },
   "outputs": [
    {
     "data": {
      "text/html": [
       "<dl>\n",
       "\t<dt>$`R-HSA-15869`</dt>\n",
       "\t\t<dd><style>\n",
       ".list-inline {list-style: none; margin:0; padding: 0}\n",
       ".list-inline>li {display: inline-block}\n",
       ".list-inline>li:not(:last-child)::after {content: \"\\00b7\"; padding: 0 .5ex}\n",
       "</style>\n",
       "<ol class=list-inline><li>'RRM1'</li><li>'RR1'</li><li>'RRM2'</li><li>'RR2'</li><li>'GLRX'</li><li>'GRX'</li></ol>\n",
       "</dd>\n",
       "\t<dt>$`R-HSA-68616`</dt>\n",
       "\t\t<dd><style>\n",
       ".list-inline {list-style: none; margin:0; padding: 0}\n",
       ".list-inline>li {display: inline-block}\n",
       ".list-inline>li:not(:last-child)::after {content: \"\\00b7\"; padding: 0 .5ex}\n",
       "</style>\n",
       "<ol class=list-inline><li>'ORC1'</li><li>'ORC1L'</li><li>'PARC1'</li><li>'H4C1'</li><li>'H4/A'</li><li>'H4FA'</li></ol>\n",
       "</dd>\n",
       "\t<dt>$`R-HSA-68689`</dt>\n",
       "\t\t<dd><style>\n",
       ".list-inline {list-style: none; margin:0; padding: 0}\n",
       ".list-inline>li {display: inline-block}\n",
       ".list-inline>li:not(:last-child)::after {content: \"\\00b7\"; padding: 0 .5ex}\n",
       "</style>\n",
       "<ol class=list-inline><li>'ORC1'</li><li>'ORC1L'</li><li>'PARC1'</li><li>'ORC4'</li><li>'ORC4L'</li><li>'ORC5'</li></ol>\n",
       "</dd>\n",
       "\t<dt>$`R-HSA-68867`</dt>\n",
       "\t\t<dd><style>\n",
       ".list-inline {list-style: none; margin:0; padding: 0}\n",
       ".list-inline>li {display: inline-block}\n",
       ".list-inline>li:not(:last-child)::after {content: \"\\00b7\"; padding: 0 .5ex}\n",
       "</style>\n",
       "<ol class=list-inline><li>'ORC1'</li><li>'ORC1L'</li><li>'PARC1'</li><li>'ORC4'</li><li>'ORC4L'</li><li>'ORC5'</li></ol>\n",
       "</dd>\n",
       "\t<dt>$`R-HSA-68875`</dt>\n",
       "\t\t<dd><style>\n",
       ".list-inline {list-style: none; margin:0; padding: 0}\n",
       ".list-inline>li {display: inline-block}\n",
       ".list-inline>li:not(:last-child)::after {content: \"\\00b7\"; padding: 0 .5ex}\n",
       "</style>\n",
       "<ol class=list-inline><li>'PLK1'</li><li>'PLK'</li><li>'GOLGA2'</li><li>'GORASP1'</li><li>'GOLPH5'</li><li>'GRASP65'</li></ol>\n",
       "</dd>\n",
       "</dl>\n"
      ],
      "text/latex": [
       "\\begin{description}\n",
       "\\item[\\$`R-HSA-15869`] \\begin{enumerate*}\n",
       "\\item 'RRM1'\n",
       "\\item 'RR1'\n",
       "\\item 'RRM2'\n",
       "\\item 'RR2'\n",
       "\\item 'GLRX'\n",
       "\\item 'GRX'\n",
       "\\end{enumerate*}\n",
       "\n",
       "\\item[\\$`R-HSA-68616`] \\begin{enumerate*}\n",
       "\\item 'ORC1'\n",
       "\\item 'ORC1L'\n",
       "\\item 'PARC1'\n",
       "\\item 'H4C1'\n",
       "\\item 'H4/A'\n",
       "\\item 'H4FA'\n",
       "\\end{enumerate*}\n",
       "\n",
       "\\item[\\$`R-HSA-68689`] \\begin{enumerate*}\n",
       "\\item 'ORC1'\n",
       "\\item 'ORC1L'\n",
       "\\item 'PARC1'\n",
       "\\item 'ORC4'\n",
       "\\item 'ORC4L'\n",
       "\\item 'ORC5'\n",
       "\\end{enumerate*}\n",
       "\n",
       "\\item[\\$`R-HSA-68867`] \\begin{enumerate*}\n",
       "\\item 'ORC1'\n",
       "\\item 'ORC1L'\n",
       "\\item 'PARC1'\n",
       "\\item 'ORC4'\n",
       "\\item 'ORC4L'\n",
       "\\item 'ORC5'\n",
       "\\end{enumerate*}\n",
       "\n",
       "\\item[\\$`R-HSA-68875`] \\begin{enumerate*}\n",
       "\\item 'PLK1'\n",
       "\\item 'PLK'\n",
       "\\item 'GOLGA2'\n",
       "\\item 'GORASP1'\n",
       "\\item 'GOLPH5'\n",
       "\\item 'GRASP65'\n",
       "\\end{enumerate*}\n",
       "\n",
       "\\end{description}\n"
      ],
      "text/markdown": [
       "$`R-HSA-15869`\n",
       ":   1. 'RRM1'\n",
       "2. 'RR1'\n",
       "3. 'RRM2'\n",
       "4. 'RR2'\n",
       "5. 'GLRX'\n",
       "6. 'GRX'\n",
       "\n",
       "\n",
       "\n",
       "$`R-HSA-68616`\n",
       ":   1. 'ORC1'\n",
       "2. 'ORC1L'\n",
       "3. 'PARC1'\n",
       "4. 'H4C1'\n",
       "5. 'H4/A'\n",
       "6. 'H4FA'\n",
       "\n",
       "\n",
       "\n",
       "$`R-HSA-68689`\n",
       ":   1. 'ORC1'\n",
       "2. 'ORC1L'\n",
       "3. 'PARC1'\n",
       "4. 'ORC4'\n",
       "5. 'ORC4L'\n",
       "6. 'ORC5'\n",
       "\n",
       "\n",
       "\n",
       "$`R-HSA-68867`\n",
       ":   1. 'ORC1'\n",
       "2. 'ORC1L'\n",
       "3. 'PARC1'\n",
       "4. 'ORC4'\n",
       "5. 'ORC4L'\n",
       "6. 'ORC5'\n",
       "\n",
       "\n",
       "\n",
       "$`R-HSA-68875`\n",
       ":   1. 'PLK1'\n",
       "2. 'PLK'\n",
       "3. 'GOLGA2'\n",
       "4. 'GORASP1'\n",
       "5. 'GOLPH5'\n",
       "6. 'GRASP65'\n",
       "\n",
       "\n",
       "\n",
       "\n",
       "\n"
      ],
      "text/plain": [
       "$`R-HSA-15869`\n",
       "[1] \"RRM1\" \"RR1\"  \"RRM2\" \"RR2\"  \"GLRX\" \"GRX\" \n",
       "\n",
       "$`R-HSA-68616`\n",
       "[1] \"ORC1\"  \"ORC1L\" \"PARC1\" \"H4C1\"  \"H4/A\"  \"H4FA\" \n",
       "\n",
       "$`R-HSA-68689`\n",
       "[1] \"ORC1\"  \"ORC1L\" \"PARC1\" \"ORC4\"  \"ORC4L\" \"ORC5\" \n",
       "\n",
       "$`R-HSA-68867`\n",
       "[1] \"ORC1\"  \"ORC1L\" \"PARC1\" \"ORC4\"  \"ORC4L\" \"ORC5\" \n",
       "\n",
       "$`R-HSA-68875`\n",
       "[1] \"PLK1\"    \"PLK\"     \"GOLGA2\"  \"GORASP1\" \"GOLPH5\"  \"GRASP65\"\n"
      ]
     },
     "metadata": {},
     "output_type": "display_data"
    }
   ],
   "source": [
    "# Load the pathways into a named list\n",
    "REACTOME_hallmark <- gmtPathways(\"./data/REACTOME_pathways.gmt\")\n",
    "# Show the first few GO terms, and within those, show only the first few genes.\n",
    "tmp = lapply(REACTOME_hallmark, head)\n",
    "tmp[1:5]"
   ]
  },
  {
   "cell_type": "code",
   "execution_count": 35,
   "id": "8c812668-2971-4e80-b10d-7986b290574c",
   "metadata": {},
   "outputs": [
    {
     "data": {
      "text/html": [
       "<table class=\"dataframe\">\n",
       "<caption>A data.table: 6 × 4</caption>\n",
       "<thead>\n",
       "\t<tr><th scope=col>ID</th><th scope=col>p.value</th><th scope=col>score</th><th scope=col>normalizedScore</th></tr>\n",
       "\t<tr><th scope=col>&lt;chr&gt;</th><th scope=col>&lt;dbl&gt;</th><th scope=col>&lt;dbl&gt;</th><th scope=col>&lt;dbl&gt;</th></tr>\n",
       "</thead>\n",
       "<tbody>\n",
       "\t<tr><td>R-HSA-1428517</td><td>1.580422e-24</td><td>0.6390720</td><td>2.578756</td></tr>\n",
       "\t<tr><td>R-HSA-163200 </td><td>2.755238e-21</td><td>0.6775255</td><td>2.654722</td></tr>\n",
       "\t<tr><td>R-HSA-392499 </td><td>4.503374e-20</td><td>0.3509028</td><td>1.556999</td></tr>\n",
       "\t<tr><td>R-HSA-611105 </td><td>1.196161e-19</td><td>0.7057548</td><td>2.701227</td></tr>\n",
       "\t<tr><td>R-HSA-112316 </td><td>1.035536e-17</td><td>0.4740030</td><td>2.025547</td></tr>\n",
       "\t<tr><td>R-HSA-5368287</td><td>7.427725e-15</td><td>0.6542727</td><td>2.508365</td></tr>\n",
       "</tbody>\n",
       "</table>\n"
      ],
      "text/latex": [
       "A data.table: 6 × 4\n",
       "\\begin{tabular}{llll}\n",
       " ID & p.value & score & normalizedScore\\\\\n",
       " <chr> & <dbl> & <dbl> & <dbl>\\\\\n",
       "\\hline\n",
       "\t R-HSA-1428517 & 1.580422e-24 & 0.6390720 & 2.578756\\\\\n",
       "\t R-HSA-163200  & 2.755238e-21 & 0.6775255 & 2.654722\\\\\n",
       "\t R-HSA-392499  & 4.503374e-20 & 0.3509028 & 1.556999\\\\\n",
       "\t R-HSA-611105  & 1.196161e-19 & 0.7057548 & 2.701227\\\\\n",
       "\t R-HSA-112316  & 1.035536e-17 & 0.4740030 & 2.025547\\\\\n",
       "\t R-HSA-5368287 & 7.427725e-15 & 0.6542727 & 2.508365\\\\\n",
       "\\end{tabular}\n"
      ],
      "text/markdown": [
       "\n",
       "A data.table: 6 × 4\n",
       "\n",
       "| ID &lt;chr&gt; | p.value &lt;dbl&gt; | score &lt;dbl&gt; | normalizedScore &lt;dbl&gt; |\n",
       "|---|---|---|---|\n",
       "| R-HSA-1428517 | 1.580422e-24 | 0.6390720 | 2.578756 |\n",
       "| R-HSA-163200  | 2.755238e-21 | 0.6775255 | 2.654722 |\n",
       "| R-HSA-392499  | 4.503374e-20 | 0.3509028 | 1.556999 |\n",
       "| R-HSA-611105  | 1.196161e-19 | 0.7057548 | 2.701227 |\n",
       "| R-HSA-112316  | 1.035536e-17 | 0.4740030 | 2.025547 |\n",
       "| R-HSA-5368287 | 7.427725e-15 | 0.6542727 | 2.508365 |\n",
       "\n"
      ],
      "text/plain": [
       "  ID            p.value      score     normalizedScore\n",
       "1 R-HSA-1428517 1.580422e-24 0.6390720 2.578756       \n",
       "2 R-HSA-163200  2.755238e-21 0.6775255 2.654722       \n",
       "3 R-HSA-392499  4.503374e-20 0.3509028 1.556999       \n",
       "4 R-HSA-611105  1.196161e-19 0.7057548 2.701227       \n",
       "5 R-HSA-112316  1.035536e-17 0.4740030 2.025547       \n",
       "6 R-HSA-5368287 7.427725e-15 0.6542727 2.508365       "
      ]
     },
     "metadata": {},
     "output_type": "display_data"
    }
   ],
   "source": [
    "# Running fgsea analysis\n",
    "geneset <- REACTOME_hallmark\n",
    "fgsea_output <- runFgsea(DE_data = DE.df, genesets = geneset)\n",
    "# Get result and stats from output of runFgsea function\n",
    "fgsea_result <- fgsea_output$fgsea_res\n",
    "stats <- fgsea_output$stats\n",
    "\n",
    "head(fgsea_result[order(fgsea_result$p.value), c(\"ID\", \"p.value\", \"score\", \"normalizedScore\")])"
   ]
  },
  {
   "cell_type": "code",
   "execution_count": 36,
   "id": "cb80919c-714f-4788-b266-6ee71146d0cf",
   "metadata": {
    "scrolled": true
   },
   "outputs": [
    {
     "data": {
      "image/png": "[encoded data removed]",
      "text/plain": [
       "plot without title"
      ]
     },
     "metadata": {
      "image/png": {
       "height": 420,
       "width": 420
      }
     },
     "output_type": "display_data"
    }
   ],
   "source": [
    "# select the top five up-regulated pathways \n",
    "topPathwaysUp <- fgsea_result[ES > 0][head(order(pval), n = 5), pathway]\n",
    "# select the top five down-regulated pathways \n",
    "topPathwaysDown <- fgsea_result[ES < 0][head(order(pval), n = 5), pathway]\n",
    "# concatenate them for visualization\n",
    "topPathways <- c(topPathwaysUp, rev(topPathwaysDown))\n",
    "#Viewing the 5 most significantly up-regulated and down-regulated pathways each with the FGSEA internal plot function\n",
    "plotGseaTable(pathways = REACTOME_hallmark[topPathways], stats = stats, \n",
    "              fgseaRes = fgsea_result, gseaParam = 0.5)"
   ]
  },
  {
   "cell_type": "markdown",
   "id": "181989b1",
   "metadata": {},
   "source": [
    "## Gene Set Enrichment Analysis using GSA"
   ]
  },
  {
   "cell_type": "markdown",
   "id": "c2f471b1",
   "metadata": {},
   "source": [
    "Gene Set Analysis (GSA), an Enrichment Analysis, is a method that is commonly used to summarize high-dimensional gene expression data sets into sets according to their biological relevance. GSA takes the ranked gene lists from the initial stage of a gene expression analysis and aggregates the genes into sets based on shared biological or functional properties as specified by a reference knowledge base. Such databases often contain phenotype associations, molecular interactions and regulation and are referenced in the analysis of the resultant gene sets to find the relevance of the gene properties to the phenotype of interest."
   ]
  },
  {
   "cell_type": "code",
   "execution_count": 37,
   "id": "443e636c-265e-4829-85f3-1999eeff4385",
   "metadata": {},
   "outputs": [
    {
     "data": {
      "text/html": [
       "<iframe src=\"./Quizzes/Quiz_Submodule4-4.html\" width=100% height=250></iframe>"
      ]
     },
     "metadata": {},
     "output_type": "display_data"
    }
   ],
   "source": [
    "#Run the following command to take the quiz\n",
    "IRdisplay::display_html('<iframe src=\"./Quizzes/Quiz_Submodule4-4.html\" width=100% height=250></iframe>')"
   ]
  },
  {
   "cell_type": "markdown",
   "id": "0f0c9233",
   "metadata": {},
   "source": [
    "### Data preparation\n",
    "The GSA method is freely available as standalone package in CRAN repository. We can use the following code to install the package."
   ]
  },
  {
   "cell_type": "code",
   "execution_count": 38,
   "id": "c3efb930",
   "metadata": {},
   "outputs": [],
   "source": [
    "# Install GSA from CRAN\n",
    "suppressMessages({\n",
    "    if (!require(\"GSA\")) suppressWarnings(install.packages(\"GSA\"))\n",
    "})\n",
    "\n",
    "suppressMessages({\n",
    "    suppressWarnings({\n",
    "        library(GSA)\n",
    "    })\n",
    "})"
   ]
  },
  {
   "cell_type": "code",
   "execution_count": 39,
   "id": "146cd2ae-578f-4605-a763-61e7904f4305",
   "metadata": {},
   "outputs": [],
   "source": [
    "#' @description This function performs enrichment analysis using the GSA method.\n",
    "#'\n",
    "#' @param exprsData Numeric matrix or matrix-like object containing gene expression data. Rows represent genes, columns represent samples.\n",
    "#' @param genesets List of gene sets for pathway analysis.\n",
    "#' @param groups Factor indicating sample groups.\n",
    "#' @param nperms Number of permutations for assessing significance (default is 100).\n",
    "#'\n",
    "#' @return A list containing the GSA results data frame and the GSA object.\n",
    "\n",
    "runGSA <- function(exprsData, genesets, groups, nperms = 100) {\n",
    "    # Determine the number of classes in the group variable\n",
    "    num_classes <- length(unique(groups))\n",
    "    resp_type <- NULL\n",
    "\n",
    "    # Check the number of classes and set response type accordingly\n",
    "    if (num_classes == 1) {\n",
    "        stop(\"The group classes in the design matrix must be at least two.\")\n",
    "    } else if (num_classes == 2) {\n",
    "        resp_type <- \"Two class unpaired\"\n",
    "    } else {\n",
    "        resp_type <- \"Multiclass\"\n",
    "    }\n",
    "\n",
    "    # Run GSA analysis\n",
    "    gsa_res <- GSA::GSA(\n",
    "        x = exprsData,\n",
    "        y = groups,\n",
    "        genesets = genesets,\n",
    "        resp.type = resp_type,\n",
    "        genenames = rownames(exprsData),\n",
    "        nperms = nperms\n",
    "    )\n",
    "\n",
    "    # Extract p-values and create result data frame\n",
    "    pvalues <- apply(cbind(gsa_res$pvalues.lo, gsa_res$pvalues.hi), 1, min)\n",
    "    res <- data.frame(ID = names(genesets), p.value = pvalues * 2, stringsAsFactors = FALSE)\n",
    "\n",
    "    # Create GSA result data frame\n",
    "    GSA_res <- data.frame(\n",
    "        ID = res$ID,\n",
    "        p.value = res$p.value,\n",
    "        score = gsa_res$GSA.scores,\n",
    "        normalizedScore = gsa_res$GSA.scores,\n",
    "        stringsAsFactors = FALSE\n",
    "    )\n",
    "\n",
    "    # Return a list containing GSA results\n",
    "    list(GSA_res = GSA_res[!is.na(GSA_res$p.value), ], GSA.obj = gsa_res)\n",
    "}\n"
   ]
  },
  {
   "cell_type": "markdown",
   "id": "e4a2ed98",
   "metadata": {},
   "source": [
    "The GSA method requires an expression matrix, a numeric vector containing the class of each sample and a vector of the genes inputs. We can easily get those inputs by loading the data that we processed in the [**Module 01** ](./Module01-GEO_Data_Processing.ipynb). From the samples information, we can use the same code in [**Module 02** ](./Module02-DE_Analysis.ipynb) to create the groups information factor."
   ]
  },
  {
   "cell_type": "code",
   "execution_count": 40,
   "id": "3982c128",
   "metadata": {},
   "outputs": [],
   "source": [
    "# Loading expression data and samples information\n",
    "expression_data <- data$expression_data\n",
    "norm_expression_data <- data$norm_expression_data\n",
    "samples <- data$samples\n"
   ]
  },
  {
   "cell_type": "markdown",
   "id": "1848114c-e852-46ec-91ae-ca19afc8ea8b",
   "metadata": {},
   "source": [
    "Get the groups information for GSA function."
   ]
  },
  {
   "cell_type": "code",
   "execution_count": 41,
   "id": "f0c546b9-aa93-43ad-a69f-ec9d53228feb",
   "metadata": {
    "scrolled": true
   },
   "outputs": [
    {
     "data": {
      "text/html": [
       "<style>\n",
       ".list-inline {list-style: none; margin:0; padding: 0}\n",
       ".list-inline>li {display: inline-block}\n",
       ".list-inline>li:not(:last-child)::after {content: \"\\00b7\"; padding: 0 .5ex}\n",
       "</style>\n",
       "<ol class=list-inline><li>c</li><li>c</li><li>c</li><li>c</li><li>c</li><li>c</li><li>c</li><li>c</li><li>c</li><li>c</li><li>c</li><li>c</li><li>c</li><li>c</li><li>c</li><li>c</li><li>c</li><li>c</li><li>c</li><li>c</li><li>c</li><li>c</li><li>c</li><li>c</li><li>c</li><li>c</li><li>c</li><li>c</li><li>c</li><li>c</li><li>c</li><li>c</li><li>c</li><li>c</li><li>c</li><li>c</li><li>c</li><li>c</li><li>c</li><li>d</li><li>d</li><li>d</li><li>d</li><li>d</li><li>d</li><li>d</li><li>d</li><li>d</li><li>d</li><li>d</li><li>d</li><li>d</li><li>d</li><li>d</li></ol>\n",
       "\n",
       "<details>\n",
       "\t<summary style=display:list-item;cursor:pointer>\n",
       "\t\t<strong>Levels</strong>:\n",
       "\t</summary>\n",
       "\t<style>\n",
       "\t.list-inline {list-style: none; margin:0; padding: 0}\n",
       "\t.list-inline>li {display: inline-block}\n",
       "\t.list-inline>li:not(:last-child)::after {content: \"\\00b7\"; padding: 0 .5ex}\n",
       "\t</style>\n",
       "\t<ol class=list-inline><li>'c'</li><li>'d'</li></ol>\n",
       "</details>"
      ],
      "text/latex": [
       "\\begin{enumerate*}\n",
       "\\item c\n",
       "\\item c\n",
       "\\item c\n",
       "\\item c\n",
       "\\item c\n",
       "\\item c\n",
       "\\item c\n",
       "\\item c\n",
       "\\item c\n",
       "\\item c\n",
       "\\item c\n",
       "\\item c\n",
       "\\item c\n",
       "\\item c\n",
       "\\item c\n",
       "\\item c\n",
       "\\item c\n",
       "\\item c\n",
       "\\item c\n",
       "\\item c\n",
       "\\item c\n",
       "\\item c\n",
       "\\item c\n",
       "\\item c\n",
       "\\item c\n",
       "\\item c\n",
       "\\item c\n",
       "\\item c\n",
       "\\item c\n",
       "\\item c\n",
       "\\item c\n",
       "\\item c\n",
       "\\item c\n",
       "\\item c\n",
       "\\item c\n",
       "\\item c\n",
       "\\item c\n",
       "\\item c\n",
       "\\item c\n",
       "\\item d\n",
       "\\item d\n",
       "\\item d\n",
       "\\item d\n",
       "\\item d\n",
       "\\item d\n",
       "\\item d\n",
       "\\item d\n",
       "\\item d\n",
       "\\item d\n",
       "\\item d\n",
       "\\item d\n",
       "\\item d\n",
       "\\item d\n",
       "\\item d\n",
       "\\end{enumerate*}\n",
       "\n",
       "\\emph{Levels}: \\begin{enumerate*}\n",
       "\\item 'c'\n",
       "\\item 'd'\n",
       "\\end{enumerate*}\n"
      ],
      "text/markdown": [
       "1. c\n",
       "2. c\n",
       "3. c\n",
       "4. c\n",
       "5. c\n",
       "6. c\n",
       "7. c\n",
       "8. c\n",
       "9. c\n",
       "10. c\n",
       "11. c\n",
       "12. c\n",
       "13. c\n",
       "14. c\n",
       "15. c\n",
       "16. c\n",
       "17. c\n",
       "18. c\n",
       "19. c\n",
       "20. c\n",
       "21. c\n",
       "22. c\n",
       "23. c\n",
       "24. c\n",
       "25. c\n",
       "26. c\n",
       "27. c\n",
       "28. c\n",
       "29. c\n",
       "30. c\n",
       "31. c\n",
       "32. c\n",
       "33. c\n",
       "34. c\n",
       "35. c\n",
       "36. c\n",
       "37. c\n",
       "38. c\n",
       "39. c\n",
       "40. d\n",
       "41. d\n",
       "42. d\n",
       "43. d\n",
       "44. d\n",
       "45. d\n",
       "46. d\n",
       "47. d\n",
       "48. d\n",
       "49. d\n",
       "50. d\n",
       "51. d\n",
       "52. d\n",
       "53. d\n",
       "54. d\n",
       "\n",
       "\n",
       "\n",
       "**Levels**: 1. 'c'\n",
       "2. 'd'\n",
       "\n",
       "\n"
      ],
      "text/plain": [
       " [1] c c c c c c c c c c c c c c c c c c c c c c c c c c c c c c c c c c c c c c\n",
       "[39] c d d d d d d d d d d d d d d d\n",
       "Levels: c d"
      ]
     },
     "metadata": {},
     "output_type": "display_data"
    }
   ],
   "source": [
    "# Select disease samples\n",
    "disease_idx <- grep(\"AD\", samples$source_name_ch1)\n",
    "# Create a vector to store the label\n",
    "groups <- rep(\"X\", nrow(samples))\n",
    "# Annotate disease samples as \"d\"\n",
    "groups[disease_idx] <- \"d\"\n",
    "# Control samples are labeled as \"c\"\n",
    "groups[which(groups != \"d\")] <- \"c\"\n",
    "groups <- factor(groups)\n",
    "groups"
   ]
  },
  {
   "cell_type": "markdown",
   "id": "ad173974",
   "metadata": {},
   "source": [
    "We can also use the same approach to map the probe IDs to symbols using the `map_identifiers` function and the annotLookup table saved in [**Module 01** ](./Module01-GEO_Data_Processing.ipynb). The step-by-step coding instruction is shown below:"
   ]
  },
  {
   "cell_type": "code",
   "execution_count": 42,
   "id": "5dc7b436-8e52-4403-8408-248686f0b0c1",
   "metadata": {},
   "outputs": [
    {
     "data": {
      "text/html": [
       "<table class=\"dataframe\">\n",
       "<caption>A data.frame: 6 × 54</caption>\n",
       "<thead>\n",
       "\t<tr><th></th><th scope=col>GSM300173</th><th scope=col>GSM300177</th><th scope=col>GSM300181</th><th scope=col>GSM300186</th><th scope=col>GSM300189</th><th scope=col>GSM300192</th><th scope=col>GSM300196</th><th scope=col>GSM300204</th><th scope=col>GSM300208</th><th scope=col>GSM300214</th><th scope=col>⋯</th><th scope=col>GSM1176201</th><th scope=col>GSM1176202</th><th scope=col>GSM1176203</th><th scope=col>GSM1176204</th><th scope=col>GSM1176205</th><th scope=col>GSM1176206</th><th scope=col>GSM1176207</th><th scope=col>GSM1176208</th><th scope=col>GSM1176209</th><th scope=col>GSM1176210</th></tr>\n",
       "\t<tr><th></th><th scope=col>&lt;dbl&gt;</th><th scope=col>&lt;dbl&gt;</th><th scope=col>&lt;dbl&gt;</th><th scope=col>&lt;dbl&gt;</th><th scope=col>&lt;dbl&gt;</th><th scope=col>&lt;dbl&gt;</th><th scope=col>&lt;dbl&gt;</th><th scope=col>&lt;dbl&gt;</th><th scope=col>&lt;dbl&gt;</th><th scope=col>&lt;dbl&gt;</th><th scope=col>⋯</th><th scope=col>&lt;dbl&gt;</th><th scope=col>&lt;dbl&gt;</th><th scope=col>&lt;dbl&gt;</th><th scope=col>&lt;dbl&gt;</th><th scope=col>&lt;dbl&gt;</th><th scope=col>&lt;dbl&gt;</th><th scope=col>&lt;dbl&gt;</th><th scope=col>&lt;dbl&gt;</th><th scope=col>&lt;dbl&gt;</th><th scope=col>&lt;dbl&gt;</th></tr>\n",
       "</thead>\n",
       "<tbody>\n",
       "\t<tr><th scope=row>DDR1</th><td>0.6085351</td><td>0.8513945</td><td>1.1591995</td><td>2.0921063</td><td>1.2385797</td><td>0.8326798</td><td>0.8034588</td><td>0.6996407</td><td>1.3955209</td><td>1.1198790</td><td>⋯</td><td>1.1563261</td><td>1.6152382</td><td>1.1901788</td><td>1.4972300</td><td>0.6329609</td><td>1.4160284</td><td>1.2335104</td><td>1.2999401</td><td>0.8595833</td><td>1.2998189</td></tr>\n",
       "\t<tr><th scope=row>RFC2</th><td>0.9081397</td><td>0.9336113</td><td>0.8563885</td><td>1.0015364</td><td>0.7332213</td><td>0.8570584</td><td>1.0210657</td><td>0.9641521</td><td>0.8585522</td><td>0.8584299</td><td>⋯</td><td>0.8848516</td><td>0.9385835</td><td>1.0359085</td><td>0.9225201</td><td>1.0405487</td><td>0.8187565</td><td>0.9541863</td><td>0.9855680</td><td>1.1704986</td><td>0.9924505</td></tr>\n",
       "\t<tr><th scope=row>HSPA6</th><td>0.8674964</td><td>0.8385732</td><td>0.9956165</td><td>0.9797408</td><td>3.5688195</td><td>1.0145685</td><td>1.1729818</td><td>1.0208826</td><td>0.8163447</td><td>0.8572931</td><td>⋯</td><td>0.9469172</td><td>1.3414407</td><td>0.9509885</td><td>1.3277143</td><td>1.0712911</td><td>0.9801153</td><td>0.9847162</td><td>1.4585433</td><td>1.2102244</td><td>0.9023996</td></tr>\n",
       "\t<tr><th scope=row>PAX8</th><td>1.1053528</td><td>1.0432043</td><td>1.0137772</td><td>1.0931698</td><td>1.0356631</td><td>0.9435998</td><td>1.1165266</td><td>1.0960624</td><td>1.0099041</td><td>1.0553276</td><td>⋯</td><td>1.0055602</td><td>0.8999849</td><td>0.9461904</td><td>1.2250262</td><td>1.0535747</td><td>0.9321033</td><td>1.0115234</td><td>1.0048561</td><td>1.1175232</td><td>1.0730404</td></tr>\n",
       "\t<tr><th scope=row>GUCA1A</th><td>1.2764652</td><td>0.8625501</td><td>1.0411838</td><td>1.0323309</td><td>0.8504494</td><td>1.3334491</td><td>1.1356378</td><td>1.0168769</td><td>0.9045680</td><td>0.8634836</td><td>⋯</td><td>1.3178803</td><td>0.8809971</td><td>0.9128050</td><td>1.0231747</td><td>1.0368457</td><td>0.9140167</td><td>1.0870208</td><td>0.9601511</td><td>3.4069852</td><td>1.0806457</td></tr>\n",
       "\t<tr><th scope=row>UBA7</th><td>0.8337133</td><td>1.0081274</td><td>1.0330204</td><td>1.5409547</td><td>0.8751729</td><td>1.0063332</td><td>0.7226255</td><td>0.9519509</td><td>0.8132348</td><td>1.0214182</td><td>⋯</td><td>1.2466778</td><td>1.8324052</td><td>0.8732074</td><td>1.4028883</td><td>0.9107665</td><td>0.9586981</td><td>1.1221024</td><td>1.1861940</td><td>1.0770138</td><td>1.2797908</td></tr>\n",
       "</tbody>\n",
       "</table>\n"
      ],
      "text/latex": [
       "A data.frame: 6 × 54\n",
       "\\begin{tabular}{r|lllllllllllllllllllll}\n",
       "  & GSM300173 & GSM300177 & GSM300181 & GSM300186 & GSM300189 & GSM300192 & GSM300196 & GSM300204 & GSM300208 & GSM300214 & ⋯ & GSM1176201 & GSM1176202 & GSM1176203 & GSM1176204 & GSM1176205 & GSM1176206 & GSM1176207 & GSM1176208 & GSM1176209 & GSM1176210\\\\\n",
       "  & <dbl> & <dbl> & <dbl> & <dbl> & <dbl> & <dbl> & <dbl> & <dbl> & <dbl> & <dbl> & ⋯ & <dbl> & <dbl> & <dbl> & <dbl> & <dbl> & <dbl> & <dbl> & <dbl> & <dbl> & <dbl>\\\\\n",
       "\\hline\n",
       "\tDDR1 & 0.6085351 & 0.8513945 & 1.1591995 & 2.0921063 & 1.2385797 & 0.8326798 & 0.8034588 & 0.6996407 & 1.3955209 & 1.1198790 & ⋯ & 1.1563261 & 1.6152382 & 1.1901788 & 1.4972300 & 0.6329609 & 1.4160284 & 1.2335104 & 1.2999401 & 0.8595833 & 1.2998189\\\\\n",
       "\tRFC2 & 0.9081397 & 0.9336113 & 0.8563885 & 1.0015364 & 0.7332213 & 0.8570584 & 1.0210657 & 0.9641521 & 0.8585522 & 0.8584299 & ⋯ & 0.8848516 & 0.9385835 & 1.0359085 & 0.9225201 & 1.0405487 & 0.8187565 & 0.9541863 & 0.9855680 & 1.1704986 & 0.9924505\\\\\n",
       "\tHSPA6 & 0.8674964 & 0.8385732 & 0.9956165 & 0.9797408 & 3.5688195 & 1.0145685 & 1.1729818 & 1.0208826 & 0.8163447 & 0.8572931 & ⋯ & 0.9469172 & 1.3414407 & 0.9509885 & 1.3277143 & 1.0712911 & 0.9801153 & 0.9847162 & 1.4585433 & 1.2102244 & 0.9023996\\\\\n",
       "\tPAX8 & 1.1053528 & 1.0432043 & 1.0137772 & 1.0931698 & 1.0356631 & 0.9435998 & 1.1165266 & 1.0960624 & 1.0099041 & 1.0553276 & ⋯ & 1.0055602 & 0.8999849 & 0.9461904 & 1.2250262 & 1.0535747 & 0.9321033 & 1.0115234 & 1.0048561 & 1.1175232 & 1.0730404\\\\\n",
       "\tGUCA1A & 1.2764652 & 0.8625501 & 1.0411838 & 1.0323309 & 0.8504494 & 1.3334491 & 1.1356378 & 1.0168769 & 0.9045680 & 0.8634836 & ⋯ & 1.3178803 & 0.8809971 & 0.9128050 & 1.0231747 & 1.0368457 & 0.9140167 & 1.0870208 & 0.9601511 & 3.4069852 & 1.0806457\\\\\n",
       "\tUBA7 & 0.8337133 & 1.0081274 & 1.0330204 & 1.5409547 & 0.8751729 & 1.0063332 & 0.7226255 & 0.9519509 & 0.8132348 & 1.0214182 & ⋯ & 1.2466778 & 1.8324052 & 0.8732074 & 1.4028883 & 0.9107665 & 0.9586981 & 1.1221024 & 1.1861940 & 1.0770138 & 1.2797908\\\\\n",
       "\\end{tabular}\n"
      ],
      "text/markdown": [
       "\n",
       "A data.frame: 6 × 54\n",
       "\n",
       "| <!--/--> | GSM300173 &lt;dbl&gt; | GSM300177 &lt;dbl&gt; | GSM300181 &lt;dbl&gt; | GSM300186 &lt;dbl&gt; | GSM300189 &lt;dbl&gt; | GSM300192 &lt;dbl&gt; | GSM300196 &lt;dbl&gt; | GSM300204 &lt;dbl&gt; | GSM300208 &lt;dbl&gt; | GSM300214 &lt;dbl&gt; | ⋯ ⋯ | GSM1176201 &lt;dbl&gt; | GSM1176202 &lt;dbl&gt; | GSM1176203 &lt;dbl&gt; | GSM1176204 &lt;dbl&gt; | GSM1176205 &lt;dbl&gt; | GSM1176206 &lt;dbl&gt; | GSM1176207 &lt;dbl&gt; | GSM1176208 &lt;dbl&gt; | GSM1176209 &lt;dbl&gt; | GSM1176210 &lt;dbl&gt; |\n",
       "|---|---|---|---|---|---|---|---|---|---|---|---|---|---|---|---|---|---|---|---|---|---|\n",
       "| DDR1 | 0.6085351 | 0.8513945 | 1.1591995 | 2.0921063 | 1.2385797 | 0.8326798 | 0.8034588 | 0.6996407 | 1.3955209 | 1.1198790 | ⋯ | 1.1563261 | 1.6152382 | 1.1901788 | 1.4972300 | 0.6329609 | 1.4160284 | 1.2335104 | 1.2999401 | 0.8595833 | 1.2998189 |\n",
       "| RFC2 | 0.9081397 | 0.9336113 | 0.8563885 | 1.0015364 | 0.7332213 | 0.8570584 | 1.0210657 | 0.9641521 | 0.8585522 | 0.8584299 | ⋯ | 0.8848516 | 0.9385835 | 1.0359085 | 0.9225201 | 1.0405487 | 0.8187565 | 0.9541863 | 0.9855680 | 1.1704986 | 0.9924505 |\n",
       "| HSPA6 | 0.8674964 | 0.8385732 | 0.9956165 | 0.9797408 | 3.5688195 | 1.0145685 | 1.1729818 | 1.0208826 | 0.8163447 | 0.8572931 | ⋯ | 0.9469172 | 1.3414407 | 0.9509885 | 1.3277143 | 1.0712911 | 0.9801153 | 0.9847162 | 1.4585433 | 1.2102244 | 0.9023996 |\n",
       "| PAX8 | 1.1053528 | 1.0432043 | 1.0137772 | 1.0931698 | 1.0356631 | 0.9435998 | 1.1165266 | 1.0960624 | 1.0099041 | 1.0553276 | ⋯ | 1.0055602 | 0.8999849 | 0.9461904 | 1.2250262 | 1.0535747 | 0.9321033 | 1.0115234 | 1.0048561 | 1.1175232 | 1.0730404 |\n",
       "| GUCA1A | 1.2764652 | 0.8625501 | 1.0411838 | 1.0323309 | 0.8504494 | 1.3334491 | 1.1356378 | 1.0168769 | 0.9045680 | 0.8634836 | ⋯ | 1.3178803 | 0.8809971 | 0.9128050 | 1.0231747 | 1.0368457 | 0.9140167 | 1.0870208 | 0.9601511 | 3.4069852 | 1.0806457 |\n",
       "| UBA7 | 0.8337133 | 1.0081274 | 1.0330204 | 1.5409547 | 0.8751729 | 1.0063332 | 0.7226255 | 0.9519509 | 0.8132348 | 1.0214182 | ⋯ | 1.2466778 | 1.8324052 | 0.8732074 | 1.4028883 | 0.9107665 | 0.9586981 | 1.1221024 | 1.1861940 | 1.0770138 | 1.2797908 |\n",
       "\n"
      ],
      "text/plain": [
       "       GSM300173 GSM300177 GSM300181 GSM300186 GSM300189 GSM300192 GSM300196\n",
       "DDR1   0.6085351 0.8513945 1.1591995 2.0921063 1.2385797 0.8326798 0.8034588\n",
       "RFC2   0.9081397 0.9336113 0.8563885 1.0015364 0.7332213 0.8570584 1.0210657\n",
       "HSPA6  0.8674964 0.8385732 0.9956165 0.9797408 3.5688195 1.0145685 1.1729818\n",
       "PAX8   1.1053528 1.0432043 1.0137772 1.0931698 1.0356631 0.9435998 1.1165266\n",
       "GUCA1A 1.2764652 0.8625501 1.0411838 1.0323309 0.8504494 1.3334491 1.1356378\n",
       "UBA7   0.8337133 1.0081274 1.0330204 1.5409547 0.8751729 1.0063332 0.7226255\n",
       "       GSM300204 GSM300208 GSM300214 ⋯ GSM1176201 GSM1176202 GSM1176203\n",
       "DDR1   0.6996407 1.3955209 1.1198790 ⋯ 1.1563261  1.6152382  1.1901788 \n",
       "RFC2   0.9641521 0.8585522 0.8584299 ⋯ 0.8848516  0.9385835  1.0359085 \n",
       "HSPA6  1.0208826 0.8163447 0.8572931 ⋯ 0.9469172  1.3414407  0.9509885 \n",
       "PAX8   1.0960624 1.0099041 1.0553276 ⋯ 1.0055602  0.8999849  0.9461904 \n",
       "GUCA1A 1.0168769 0.9045680 0.8634836 ⋯ 1.3178803  0.8809971  0.9128050 \n",
       "UBA7   0.9519509 0.8132348 1.0214182 ⋯ 1.2466778  1.8324052  0.8732074 \n",
       "       GSM1176204 GSM1176205 GSM1176206 GSM1176207 GSM1176208 GSM1176209\n",
       "DDR1   1.4972300  0.6329609  1.4160284  1.2335104  1.2999401  0.8595833 \n",
       "RFC2   0.9225201  1.0405487  0.8187565  0.9541863  0.9855680  1.1704986 \n",
       "HSPA6  1.3277143  1.0712911  0.9801153  0.9847162  1.4585433  1.2102244 \n",
       "PAX8   1.2250262  1.0535747  0.9321033  1.0115234  1.0048561  1.1175232 \n",
       "GUCA1A 1.0231747  1.0368457  0.9140167  1.0870208  0.9601511  3.4069852 \n",
       "UBA7   1.4028883  0.9107665  0.9586981  1.1221024  1.1861940  1.0770138 \n",
       "       GSM1176210\n",
       "DDR1   1.2998189 \n",
       "RFC2   0.9924505 \n",
       "HSPA6  0.9023996 \n",
       "PAX8   1.0730404 \n",
       "GUCA1A 1.0806457 \n",
       "UBA7   1.2797908 "
      ]
     },
     "metadata": {},
     "output_type": "display_data"
    }
   ],
   "source": [
    "# Assign a new variable for expression data and create a PROBEID column \n",
    "new_expression_data <- norm_expression_data\n",
    "new_expression_data$PROBEID <- rownames(new_expression_data) \n",
    "# Map all the probe id to symbols\n",
    "new_expression_data <- map_identifiers(data_df = new_expression_data, mapping_df = annotLookup, \n",
    "                                       data_source_col = \"PROBEID\", data_target_col =\"SYMBOL\", data_result_col = NULL)\n",
    "# Remove the PROBEID, GENENAME, SYMBOL columns\n",
    "new_expression_data <- new_expression_data[, !(names(new_expression_data) %in% colnames(annotLookup))]\n",
    "# Create a list of gene names for the GSA function\n",
    "genenames <- rownames(new_expression_data)\n",
    "\n",
    "head(new_expression_data)\n"
   ]
  },
  {
   "cell_type": "markdown",
   "id": "f8acf4f4",
   "metadata": {},
   "source": [
    "### Enrichment Analysis using GSA and GO Terms\n",
    "Using data obtained from the previous step, we can run the GSA method by calling the function `GSA`. We can reuse `GO_term_hallmark` and `KEGG_hallmark` loaded in FGSEA to perform analysis. The code details are shown below:"
   ]
  },
  {
   "cell_type": "code",
   "execution_count": 43,
   "id": "3c207752-fc0e-4f7b-924d-27ec6bbfc0e3",
   "metadata": {},
   "outputs": [
    {
     "name": "stdout",
     "output_type": "stream",
     "text": [
      "perm= 10 / 200 \n",
      "perm= 20 / 200 \n",
      "perm= 30 / 200 \n",
      "perm= 40 / 200 \n",
      "perm= 50 / 200 \n",
      "perm= 60 / 200 \n",
      "perm= 70 / 200 \n",
      "perm= 80 / 200 \n",
      "perm= 90 / 200 \n",
      "perm= 100 / 200 \n",
      "perm= 110 / 200 \n",
      "perm= 120 / 200 \n",
      "perm= 130 / 200 \n",
      "perm= 140 / 200 \n",
      "perm= 150 / 200 \n",
      "perm= 160 / 200 \n",
      "perm= 170 / 200 \n",
      "perm= 180 / 200 \n",
      "perm= 190 / 200 \n",
      "perm= 200 / 200 \n"
     ]
    }
   ],
   "source": [
    "genesets <- GO_term_hallmark\n",
    "GSA_output <- runGSA(as.matrix(new_expression_data), genesets = genesets, as.numeric(groups), nperms = 200)\n",
    "# Get GSA_result dataframe and GSA object from output of the runGSA function\n",
    "GSA_result <- GSA_output$GSA_res\n",
    "GSA.obj <- GSA_output$GSA.obj"
   ]
  },
  {
   "cell_type": "code",
   "execution_count": 44,
   "id": "fee35ec6-490d-490c-a7c0-aa20716d40be",
   "metadata": {},
   "outputs": [
    {
     "data": {
      "text/html": [
       "<table class=\"dataframe\">\n",
       "<caption>A data.frame: 6 × 4</caption>\n",
       "<thead>\n",
       "\t<tr><th></th><th scope=col>ID</th><th scope=col>p.value</th><th scope=col>score</th><th scope=col>normalizedScore</th></tr>\n",
       "\t<tr><th></th><th scope=col>&lt;chr&gt;</th><th scope=col>&lt;dbl&gt;</th><th scope=col>&lt;dbl&gt;</th><th scope=col>&lt;dbl&gt;</th></tr>\n",
       "</thead>\n",
       "<tbody>\n",
       "\t<tr><th scope=row>641</th><td>GO:0006123</td><td>0</td><td>-1.3870070</td><td>-1.3870070</td></tr>\n",
       "\t<tr><th scope=row>797</th><td>GO:0006620</td><td>0</td><td>-0.8565230</td><td>-0.8565230</td></tr>\n",
       "\t<tr><th scope=row>921</th><td>GO:0006900</td><td>0</td><td>-0.5908528</td><td>-0.5908528</td></tr>\n",
       "\t<tr><th scope=row>922</th><td>GO:0006901</td><td>0</td><td>-0.7466031</td><td>-0.7466031</td></tr>\n",
       "\t<tr><th scope=row>976</th><td>GO:0007007</td><td>0</td><td>-1.2667252</td><td>-1.2667252</td></tr>\n",
       "\t<tr><th scope=row>987</th><td>GO:0007029</td><td>0</td><td>-0.5343627</td><td>-0.5343627</td></tr>\n",
       "</tbody>\n",
       "</table>\n"
      ],
      "text/latex": [
       "A data.frame: 6 × 4\n",
       "\\begin{tabular}{r|llll}\n",
       "  & ID & p.value & score & normalizedScore\\\\\n",
       "  & <chr> & <dbl> & <dbl> & <dbl>\\\\\n",
       "\\hline\n",
       "\t641 & GO:0006123 & 0 & -1.3870070 & -1.3870070\\\\\n",
       "\t797 & GO:0006620 & 0 & -0.8565230 & -0.8565230\\\\\n",
       "\t921 & GO:0006900 & 0 & -0.5908528 & -0.5908528\\\\\n",
       "\t922 & GO:0006901 & 0 & -0.7466031 & -0.7466031\\\\\n",
       "\t976 & GO:0007007 & 0 & -1.2667252 & -1.2667252\\\\\n",
       "\t987 & GO:0007029 & 0 & -0.5343627 & -0.5343627\\\\\n",
       "\\end{tabular}\n"
      ],
      "text/markdown": [
       "\n",
       "A data.frame: 6 × 4\n",
       "\n",
       "| <!--/--> | ID &lt;chr&gt; | p.value &lt;dbl&gt; | score &lt;dbl&gt; | normalizedScore &lt;dbl&gt; |\n",
       "|---|---|---|---|---|\n",
       "| 641 | GO:0006123 | 0 | -1.3870070 | -1.3870070 |\n",
       "| 797 | GO:0006620 | 0 | -0.8565230 | -0.8565230 |\n",
       "| 921 | GO:0006900 | 0 | -0.5908528 | -0.5908528 |\n",
       "| 922 | GO:0006901 | 0 | -0.7466031 | -0.7466031 |\n",
       "| 976 | GO:0007007 | 0 | -1.2667252 | -1.2667252 |\n",
       "| 987 | GO:0007029 | 0 | -0.5343627 | -0.5343627 |\n",
       "\n"
      ],
      "text/plain": [
       "    ID         p.value score      normalizedScore\n",
       "641 GO:0006123 0       -1.3870070 -1.3870070     \n",
       "797 GO:0006620 0       -0.8565230 -0.8565230     \n",
       "921 GO:0006900 0       -0.5908528 -0.5908528     \n",
       "922 GO:0006901 0       -0.7466031 -0.7466031     \n",
       "976 GO:0007007 0       -1.2667252 -1.2667252     \n",
       "987 GO:0007029 0       -0.5343627 -0.5343627     "
      ]
     },
     "metadata": {},
     "output_type": "display_data"
    }
   ],
   "source": [
    "head(GSA_result[order(GSA_result$p.value), ])"
   ]
  },
  {
   "cell_type": "markdown",
   "id": "0648ecb6-f0ec-41aa-b3e6-e812ba18d85c",
   "metadata": {},
   "source": [
    "<div class=\"alert alert-block alert-danger\">\n",
    "    <i class=\"fa fa-exclamation-circle\" aria-hidden=\"true\"></i>\n",
    "    <b>Alert: </b>  Please note that the outputs generated from GSA can be varied depending on R environments and software versions. Especially, when the users run the scripts using User-managed Notebooks instances which have a preinstalled suite of packages.\n",
    "</div>"
   ]
  },
  {
   "cell_type": "markdown",
   "id": "7a896181-0484-4df3-b879-f70c99bc0a4e",
   "metadata": {},
   "source": [
    "From the analysis result, we can now get the list positive and negative genes of the GSA analysis from the GSA object using the `GSA.listsets` function. "
   ]
  },
  {
   "cell_type": "code",
   "execution_count": 45,
   "id": "ebba9b67",
   "metadata": {},
   "outputs": [],
   "source": [
    "# List the results from a GSA analysis\n",
    "res <- GSA.listsets(GSA.obj = GSA.obj, geneset.names = names(genesets), FDRcut = .5)"
   ]
  },
  {
   "cell_type": "markdown",
   "id": "f280f564-9698-4896-9eb9-c22a5ac00399",
   "metadata": {},
   "source": [
    "To use the `GSA.listsets` function, we need to pass the following arguments:\n",
    "\n",
    "- `GSA.obj`: A GSA object returned by GSA function.\n",
    "- `geneset.names`: An optional vector of names for the gene sets.\n",
    "- `FDRcut`: A numeric value specifying the false discovery rate cutpoint for listed sets. A value of 1 will cause all sets to be listed.\n",
    "\n",
    "The `GSA.listsets` function returns a list of the results from the GSA call."
   ]
  },
  {
   "cell_type": "markdown",
   "id": "df55e53c",
   "metadata": {},
   "source": [
    "A table of the negative gene sets. “Negative” means that lower expression of most genes in the gene set correlates with higher values of the phenotype y. E.g., for two classes coded 1,2, lower expression correlates with class 2."
   ]
  },
  {
   "cell_type": "code",
   "execution_count": 46,
   "id": "ae97649e",
   "metadata": {},
   "outputs": [
    {
     "data": {
      "text/html": [
       "<table class=\"dataframe\">\n",
       "<caption>A matrix: 6 × 5 of type chr</caption>\n",
       "<thead>\n",
       "\t<tr><th scope=col>Gene_set</th><th scope=col>Gene_set_name</th><th scope=col>Score</th><th scope=col>p-value</th><th scope=col>FDR</th></tr>\n",
       "</thead>\n",
       "<tbody>\n",
       "\t<tr><td>641</td><td>GO:0006123</td><td>-1.387 </td><td>0</td><td>0</td></tr>\n",
       "\t<tr><td>797</td><td>GO:0006620</td><td>-0.8565</td><td>0</td><td>0</td></tr>\n",
       "\t<tr><td>921</td><td>GO:0006900</td><td>-0.5909</td><td>0</td><td>0</td></tr>\n",
       "\t<tr><td>922</td><td>GO:0006901</td><td>-0.7466</td><td>0</td><td>0</td></tr>\n",
       "\t<tr><td>976</td><td>GO:0007007</td><td>-1.2667</td><td>0</td><td>0</td></tr>\n",
       "\t<tr><td>987</td><td>GO:0007029</td><td>-0.5344</td><td>0</td><td>0</td></tr>\n",
       "</tbody>\n",
       "</table>\n"
      ],
      "text/latex": [
       "A matrix: 6 × 5 of type chr\n",
       "\\begin{tabular}{lllll}\n",
       " Gene\\_set & Gene\\_set\\_name & Score & p-value & FDR\\\\\n",
       "\\hline\n",
       "\t 641 & GO:0006123 & -1.387  & 0 & 0\\\\\n",
       "\t 797 & GO:0006620 & -0.8565 & 0 & 0\\\\\n",
       "\t 921 & GO:0006900 & -0.5909 & 0 & 0\\\\\n",
       "\t 922 & GO:0006901 & -0.7466 & 0 & 0\\\\\n",
       "\t 976 & GO:0007007 & -1.2667 & 0 & 0\\\\\n",
       "\t 987 & GO:0007029 & -0.5344 & 0 & 0\\\\\n",
       "\\end{tabular}\n"
      ],
      "text/markdown": [
       "\n",
       "A matrix: 6 × 5 of type chr\n",
       "\n",
       "| Gene_set | Gene_set_name | Score | p-value | FDR |\n",
       "|---|---|---|---|---|\n",
       "| 641 | GO:0006123 | -1.387  | 0 | 0 |\n",
       "| 797 | GO:0006620 | -0.8565 | 0 | 0 |\n",
       "| 921 | GO:0006900 | -0.5909 | 0 | 0 |\n",
       "| 922 | GO:0006901 | -0.7466 | 0 | 0 |\n",
       "| 976 | GO:0007007 | -1.2667 | 0 | 0 |\n",
       "| 987 | GO:0007029 | -0.5344 | 0 | 0 |\n",
       "\n"
      ],
      "text/plain": [
       "     Gene_set Gene_set_name Score   p-value FDR\n",
       "[1,] 641      GO:0006123    -1.387  0       0  \n",
       "[2,] 797      GO:0006620    -0.8565 0       0  \n",
       "[3,] 921      GO:0006900    -0.5909 0       0  \n",
       "[4,] 922      GO:0006901    -0.7466 0       0  \n",
       "[5,] 976      GO:0007007    -1.2667 0       0  \n",
       "[6,] 987      GO:0007029    -0.5344 0       0  "
      ]
     },
     "metadata": {},
     "output_type": "display_data"
    }
   ],
   "source": [
    "neg.table <- res$negative\n",
    "head(neg.table)"
   ]
  },
  {
   "cell_type": "markdown",
   "id": "c237dea8",
   "metadata": {},
   "source": [
    "A table of the positive gene sets. \"Positive\" means that higher expression of most genes in the gene set correlates with higher values of the phenotype y."
   ]
  },
  {
   "cell_type": "code",
   "execution_count": 47,
   "id": "e640ff47",
   "metadata": {},
   "outputs": [
    {
     "data": {
      "text/html": [
       "<table class=\"dataframe\">\n",
       "<caption>A matrix: 6 × 5 of type chr</caption>\n",
       "<thead>\n",
       "\t<tr><th scope=col>Gene_set</th><th scope=col>Gene_set_name</th><th scope=col>Score</th><th scope=col>p-value</th><th scope=col>FDR</th></tr>\n",
       "</thead>\n",
       "<tbody>\n",
       "\t<tr><td>1016</td><td>GO:0007097</td><td>0.6381</td><td>0</td><td>0</td></tr>\n",
       "\t<tr><td>1117</td><td>GO:0007422</td><td>0.5245</td><td>0</td><td>0</td></tr>\n",
       "\t<tr><td>1222</td><td>GO:0008535</td><td>0.8558</td><td>0</td><td>0</td></tr>\n",
       "\t<tr><td>1681</td><td>GO:0014037</td><td>1.0559</td><td>0</td><td>0</td></tr>\n",
       "\t<tr><td>1682</td><td>GO:0014044</td><td>1.3361</td><td>0</td><td>0</td></tr>\n",
       "\t<tr><td>2009</td><td>GO:0021533</td><td>1.0827</td><td>0</td><td>0</td></tr>\n",
       "</tbody>\n",
       "</table>\n"
      ],
      "text/latex": [
       "A matrix: 6 × 5 of type chr\n",
       "\\begin{tabular}{lllll}\n",
       " Gene\\_set & Gene\\_set\\_name & Score & p-value & FDR\\\\\n",
       "\\hline\n",
       "\t 1016 & GO:0007097 & 0.6381 & 0 & 0\\\\\n",
       "\t 1117 & GO:0007422 & 0.5245 & 0 & 0\\\\\n",
       "\t 1222 & GO:0008535 & 0.8558 & 0 & 0\\\\\n",
       "\t 1681 & GO:0014037 & 1.0559 & 0 & 0\\\\\n",
       "\t 1682 & GO:0014044 & 1.3361 & 0 & 0\\\\\n",
       "\t 2009 & GO:0021533 & 1.0827 & 0 & 0\\\\\n",
       "\\end{tabular}\n"
      ],
      "text/markdown": [
       "\n",
       "A matrix: 6 × 5 of type chr\n",
       "\n",
       "| Gene_set | Gene_set_name | Score | p-value | FDR |\n",
       "|---|---|---|---|---|\n",
       "| 1016 | GO:0007097 | 0.6381 | 0 | 0 |\n",
       "| 1117 | GO:0007422 | 0.5245 | 0 | 0 |\n",
       "| 1222 | GO:0008535 | 0.8558 | 0 | 0 |\n",
       "| 1681 | GO:0014037 | 1.0559 | 0 | 0 |\n",
       "| 1682 | GO:0014044 | 1.3361 | 0 | 0 |\n",
       "| 2009 | GO:0021533 | 1.0827 | 0 | 0 |\n",
       "\n"
      ],
      "text/plain": [
       "     Gene_set Gene_set_name Score  p-value FDR\n",
       "[1,] 1016     GO:0007097    0.6381 0       0  \n",
       "[2,] 1117     GO:0007422    0.5245 0       0  \n",
       "[3,] 1222     GO:0008535    0.8558 0       0  \n",
       "[4,] 1681     GO:0014037    1.0559 0       0  \n",
       "[5,] 1682     GO:0014044    1.3361 0       0  \n",
       "[6,] 2009     GO:0021533    1.0827 0       0  "
      ]
     },
     "metadata": {},
     "output_type": "display_data"
    }
   ],
   "source": [
    "pos.table <- res$positive\n",
    "head(pos.table)"
   ]
  },
  {
   "cell_type": "code",
   "execution_count": 48,
   "id": "79687f5d",
   "metadata": {
    "scrolled": true,
    "tags": []
   },
   "outputs": [
    {
     "data": {
      "text/html": [
       "<table class=\"dataframe\">\n",
       "<caption>A matrix: 114 × 2 of type chr</caption>\n",
       "<thead>\n",
       "\t<tr><th scope=col>Gene</th><th scope=col>Score</th></tr>\n",
       "</thead>\n",
       "<tbody>\n",
       "\t<tr><td>SH3GLB1  </td><td>2.814</td></tr>\n",
       "\t<tr><td>IFT88    </td><td>2.468</td></tr>\n",
       "\t<tr><td>TP53INP1 </td><td>2.353</td></tr>\n",
       "\t<tr><td>MTMR3    </td><td>2.168</td></tr>\n",
       "\t<tr><td>ATG16L2  </td><td>1.947</td></tr>\n",
       "\t<tr><td>ATG14    </td><td>1.908</td></tr>\n",
       "\t<tr><td>ATG2B    </td><td>1.789</td></tr>\n",
       "\t<tr><td>ATG7     </td><td>1.648</td></tr>\n",
       "\t<tr><td>NUPR1    </td><td>1.578</td></tr>\n",
       "\t<tr><td>MAP1LC3B2</td><td>1.311</td></tr>\n",
       "\t<tr><td>FEZ1     </td><td>1.207</td></tr>\n",
       "\t<tr><td>ATG9B    </td><td>1.095</td></tr>\n",
       "\t<tr><td>STING1   </td><td>1.088</td></tr>\n",
       "\t<tr><td>TBC1D12  </td><td>0.986</td></tr>\n",
       "\t<tr><td>PIP4K2A  </td><td>0.959</td></tr>\n",
       "\t<tr><td>WDR45B   </td><td>0.888</td></tr>\n",
       "\t<tr><td>EPHB2    </td><td>0.847</td></tr>\n",
       "\t<tr><td>TMEM39A  </td><td>0.784</td></tr>\n",
       "\t<tr><td>ATG4C    </td><td>0.74 </td></tr>\n",
       "\t<tr><td>BAG3     </td><td>0.671</td></tr>\n",
       "\t<tr><td>ATG2A    </td><td>0.599</td></tr>\n",
       "\t<tr><td>UBXN2A   </td><td>0.592</td></tr>\n",
       "\t<tr><td>RNF186   </td><td>0.55 </td></tr>\n",
       "\t<tr><td>EFNB1    </td><td>0.525</td></tr>\n",
       "\t<tr><td>RAB7A    </td><td>0.52 </td></tr>\n",
       "\t<tr><td>BECN1    </td><td>0.434</td></tr>\n",
       "\t<tr><td>C9orf72  </td><td>0.426</td></tr>\n",
       "\t<tr><td>WIPI2    </td><td>0.422</td></tr>\n",
       "\t<tr><td>WIPI1    </td><td>0.378</td></tr>\n",
       "\t<tr><td>SNX18    </td><td>0.36 </td></tr>\n",
       "\t<tr><td>⋮</td><td>⋮</td></tr>\n",
       "\t<tr><td>UBXN2B   </td><td>-1.843</td></tr>\n",
       "\t<tr><td>LRSAM1   </td><td>-1.934</td></tr>\n",
       "\t<tr><td>GABARAPL3</td><td>-1.946</td></tr>\n",
       "\t<tr><td>RAB3GAP1 </td><td>-1.972</td></tr>\n",
       "\t<tr><td>MTOR     </td><td>-1.991</td></tr>\n",
       "\t<tr><td>MAP1LC3B </td><td>-2.029</td></tr>\n",
       "\t<tr><td>RAB1A    </td><td>-2.071</td></tr>\n",
       "\t<tr><td>RNF5     </td><td>-2.077</td></tr>\n",
       "\t<tr><td>SMURF1   </td><td>-2.111</td></tr>\n",
       "\t<tr><td>ATG101   </td><td>-2.197</td></tr>\n",
       "\t<tr><td>VMP1     </td><td>-2.263</td></tr>\n",
       "\t<tr><td>TRAF6    </td><td>-2.266</td></tr>\n",
       "\t<tr><td>RAB3GAP2 </td><td>-2.269</td></tr>\n",
       "\t<tr><td>ATG5     </td><td>-2.44 </td></tr>\n",
       "\t<tr><td>ATP2A2   </td><td>-2.461</td></tr>\n",
       "\t<tr><td>PHF23    </td><td>-2.483</td></tr>\n",
       "\t<tr><td>RALB     </td><td>-2.536</td></tr>\n",
       "\t<tr><td>MOAP1    </td><td>-2.59 </td></tr>\n",
       "\t<tr><td>STX12    </td><td>-2.599</td></tr>\n",
       "\t<tr><td>ATG4D    </td><td>-2.602</td></tr>\n",
       "\t<tr><td>PIP4K2C  </td><td>-2.656</td></tr>\n",
       "\t<tr><td>MAP1LC3A </td><td>-2.835</td></tr>\n",
       "\t<tr><td>EMC6     </td><td>-2.892</td></tr>\n",
       "\t<tr><td>PINK1    </td><td>-2.915</td></tr>\n",
       "\t<tr><td>ATG9A    </td><td>-2.956</td></tr>\n",
       "\t<tr><td>ARFIP2   </td><td>-3.042</td></tr>\n",
       "\t<tr><td>SEC22B   </td><td>-3.047</td></tr>\n",
       "\t<tr><td>UBQLN1   </td><td>-3.061</td></tr>\n",
       "\t<tr><td>SMC2     </td><td>-3.225</td></tr>\n",
       "\t<tr><td>RB1CC1   </td><td>-3.855</td></tr>\n",
       "</tbody>\n",
       "</table>\n"
      ],
      "text/latex": [
       "A matrix: 114 × 2 of type chr\n",
       "\\begin{tabular}{ll}\n",
       " Gene & Score\\\\\n",
       "\\hline\n",
       "\t SH3GLB1   & 2.814\\\\\n",
       "\t IFT88     & 2.468\\\\\n",
       "\t TP53INP1  & 2.353\\\\\n",
       "\t MTMR3     & 2.168\\\\\n",
       "\t ATG16L2   & 1.947\\\\\n",
       "\t ATG14     & 1.908\\\\\n",
       "\t ATG2B     & 1.789\\\\\n",
       "\t ATG7      & 1.648\\\\\n",
       "\t NUPR1     & 1.578\\\\\n",
       "\t MAP1LC3B2 & 1.311\\\\\n",
       "\t FEZ1      & 1.207\\\\\n",
       "\t ATG9B     & 1.095\\\\\n",
       "\t STING1    & 1.088\\\\\n",
       "\t TBC1D12   & 0.986\\\\\n",
       "\t PIP4K2A   & 0.959\\\\\n",
       "\t WDR45B    & 0.888\\\\\n",
       "\t EPHB2     & 0.847\\\\\n",
       "\t TMEM39A   & 0.784\\\\\n",
       "\t ATG4C     & 0.74 \\\\\n",
       "\t BAG3      & 0.671\\\\\n",
       "\t ATG2A     & 0.599\\\\\n",
       "\t UBXN2A    & 0.592\\\\\n",
       "\t RNF186    & 0.55 \\\\\n",
       "\t EFNB1     & 0.525\\\\\n",
       "\t RAB7A     & 0.52 \\\\\n",
       "\t BECN1     & 0.434\\\\\n",
       "\t C9orf72   & 0.426\\\\\n",
       "\t WIPI2     & 0.422\\\\\n",
       "\t WIPI1     & 0.378\\\\\n",
       "\t SNX18     & 0.36 \\\\\n",
       "\t ⋮ & ⋮\\\\\n",
       "\t UBXN2B    & -1.843\\\\\n",
       "\t LRSAM1    & -1.934\\\\\n",
       "\t GABARAPL3 & -1.946\\\\\n",
       "\t RAB3GAP1  & -1.972\\\\\n",
       "\t MTOR      & -1.991\\\\\n",
       "\t MAP1LC3B  & -2.029\\\\\n",
       "\t RAB1A     & -2.071\\\\\n",
       "\t RNF5      & -2.077\\\\\n",
       "\t SMURF1    & -2.111\\\\\n",
       "\t ATG101    & -2.197\\\\\n",
       "\t VMP1      & -2.263\\\\\n",
       "\t TRAF6     & -2.266\\\\\n",
       "\t RAB3GAP2  & -2.269\\\\\n",
       "\t ATG5      & -2.44 \\\\\n",
       "\t ATP2A2    & -2.461\\\\\n",
       "\t PHF23     & -2.483\\\\\n",
       "\t RALB      & -2.536\\\\\n",
       "\t MOAP1     & -2.59 \\\\\n",
       "\t STX12     & -2.599\\\\\n",
       "\t ATG4D     & -2.602\\\\\n",
       "\t PIP4K2C   & -2.656\\\\\n",
       "\t MAP1LC3A  & -2.835\\\\\n",
       "\t EMC6      & -2.892\\\\\n",
       "\t PINK1     & -2.915\\\\\n",
       "\t ATG9A     & -2.956\\\\\n",
       "\t ARFIP2    & -3.042\\\\\n",
       "\t SEC22B    & -3.047\\\\\n",
       "\t UBQLN1    & -3.061\\\\\n",
       "\t SMC2      & -3.225\\\\\n",
       "\t RB1CC1    & -3.855\\\\\n",
       "\\end{tabular}\n"
      ],
      "text/markdown": [
       "\n",
       "A matrix: 114 × 2 of type chr\n",
       "\n",
       "| Gene | Score |\n",
       "|---|---|\n",
       "| SH3GLB1   | 2.814 |\n",
       "| IFT88     | 2.468 |\n",
       "| TP53INP1  | 2.353 |\n",
       "| MTMR3     | 2.168 |\n",
       "| ATG16L2   | 1.947 |\n",
       "| ATG14     | 1.908 |\n",
       "| ATG2B     | 1.789 |\n",
       "| ATG7      | 1.648 |\n",
       "| NUPR1     | 1.578 |\n",
       "| MAP1LC3B2 | 1.311 |\n",
       "| FEZ1      | 1.207 |\n",
       "| ATG9B     | 1.095 |\n",
       "| STING1    | 1.088 |\n",
       "| TBC1D12   | 0.986 |\n",
       "| PIP4K2A   | 0.959 |\n",
       "| WDR45B    | 0.888 |\n",
       "| EPHB2     | 0.847 |\n",
       "| TMEM39A   | 0.784 |\n",
       "| ATG4C     | 0.74  |\n",
       "| BAG3      | 0.671 |\n",
       "| ATG2A     | 0.599 |\n",
       "| UBXN2A    | 0.592 |\n",
       "| RNF186    | 0.55  |\n",
       "| EFNB1     | 0.525 |\n",
       "| RAB7A     | 0.52  |\n",
       "| BECN1     | 0.434 |\n",
       "| C9orf72   | 0.426 |\n",
       "| WIPI2     | 0.422 |\n",
       "| WIPI1     | 0.378 |\n",
       "| SNX18     | 0.36  |\n",
       "| ⋮ | ⋮ |\n",
       "| UBXN2B    | -1.843 |\n",
       "| LRSAM1    | -1.934 |\n",
       "| GABARAPL3 | -1.946 |\n",
       "| RAB3GAP1  | -1.972 |\n",
       "| MTOR      | -1.991 |\n",
       "| MAP1LC3B  | -2.029 |\n",
       "| RAB1A     | -2.071 |\n",
       "| RNF5      | -2.077 |\n",
       "| SMURF1    | -2.111 |\n",
       "| ATG101    | -2.197 |\n",
       "| VMP1      | -2.263 |\n",
       "| TRAF6     | -2.266 |\n",
       "| RAB3GAP2  | -2.269 |\n",
       "| ATG5      | -2.44  |\n",
       "| ATP2A2    | -2.461 |\n",
       "| PHF23     | -2.483 |\n",
       "| RALB      | -2.536 |\n",
       "| MOAP1     | -2.59  |\n",
       "| STX12     | -2.599 |\n",
       "| ATG4D     | -2.602 |\n",
       "| PIP4K2C   | -2.656 |\n",
       "| MAP1LC3A  | -2.835 |\n",
       "| EMC6      | -2.892 |\n",
       "| PINK1     | -2.915 |\n",
       "| ATG9A     | -2.956 |\n",
       "| ARFIP2    | -3.042 |\n",
       "| SEC22B    | -3.047 |\n",
       "| UBQLN1    | -3.061 |\n",
       "| SMC2      | -3.225 |\n",
       "| RB1CC1    | -3.855 |\n",
       "\n"
      ],
      "text/plain": [
       "      Gene      Score \n",
       " [1,] SH3GLB1   2.814 \n",
       " [2,] IFT88     2.468 \n",
       " [3,] TP53INP1  2.353 \n",
       " [4,] MTMR3     2.168 \n",
       " [5,] ATG16L2   1.947 \n",
       " [6,] ATG14     1.908 \n",
       " [7,] ATG2B     1.789 \n",
       " [8,] ATG7      1.648 \n",
       " [9,] NUPR1     1.578 \n",
       "[10,] MAP1LC3B2 1.311 \n",
       "[11,] FEZ1      1.207 \n",
       "[12,] ATG9B     1.095 \n",
       "[13,] STING1    1.088 \n",
       "[14,] TBC1D12   0.986 \n",
       "[15,] PIP4K2A   0.959 \n",
       "[16,] WDR45B    0.888 \n",
       "[17,] EPHB2     0.847 \n",
       "[18,] TMEM39A   0.784 \n",
       "[19,] ATG4C     0.74  \n",
       "[20,] BAG3      0.671 \n",
       "[21,] ATG2A     0.599 \n",
       "[22,] UBXN2A    0.592 \n",
       "[23,] RNF186    0.55  \n",
       "[24,] EFNB1     0.525 \n",
       "[25,] RAB7A     0.52  \n",
       "[26,] BECN1     0.434 \n",
       "[27,] C9orf72   0.426 \n",
       "[28,] WIPI2     0.422 \n",
       "[29,] WIPI1     0.378 \n",
       "[30,] SNX18     0.36  \n",
       "[31,] ⋮         ⋮     \n",
       "[32,] UBXN2B    -1.843\n",
       "[33,] LRSAM1    -1.934\n",
       "[34,] GABARAPL3 -1.946\n",
       "[35,] RAB3GAP1  -1.972\n",
       "[36,] MTOR      -1.991\n",
       "[37,] MAP1LC3B  -2.029\n",
       "[38,] RAB1A     -2.071\n",
       "[39,] RNF5      -2.077\n",
       "[40,] SMURF1    -2.111\n",
       "[41,] ATG101    -2.197\n",
       "[42,] VMP1      -2.263\n",
       "[43,] TRAF6     -2.266\n",
       "[44,] RAB3GAP2  -2.269\n",
       "[45,] ATG5      -2.44 \n",
       "[46,] ATP2A2    -2.461\n",
       "[47,] PHF23     -2.483\n",
       "[48,] RALB      -2.536\n",
       "[49,] MOAP1     -2.59 \n",
       "[50,] STX12     -2.599\n",
       "[51,] ATG4D     -2.602\n",
       "[52,] PIP4K2C   -2.656\n",
       "[53,] MAP1LC3A  -2.835\n",
       "[54,] EMC6      -2.892\n",
       "[55,] PINK1     -2.915\n",
       "[56,] ATG9A     -2.956\n",
       "[57,] ARFIP2    -3.042\n",
       "[58,] SEC22B    -3.047\n",
       "[59,] UBQLN1    -3.061\n",
       "[60,] SMC2      -3.225\n",
       "[61,] RB1CC1    -3.855"
      ]
     },
     "metadata": {},
     "output_type": "display_data"
    }
   ],
   "source": [
    "# Individual gene scores from a gene set analysis\n",
    "# look at 10th gene set\n",
    "GSA.genescores(geneset.number = 10, genesets = genesets, \n",
    "               GSA.obj = GSA.obj, genenames = genenames)"
   ]
  },
  {
   "cell_type": "markdown",
   "id": "c77eafab-f0e9-4522-8306-496d91dec8d5",
   "metadata": {},
   "source": [
    "To use the `GSA.genescores` function, we need to pass the following arguments:\n",
    "\n",
    "- `geneset.number`: A number specifying which gene set is to be examined.\n",
    "- `genesets`: A list containing the gene set collection.\n",
    "- `GSA.obj`: A GSA object returned by the GSA function.\n",
    "- `genenames`: A vector containing gene names for genes in the expression dataset.\n",
    "\n",
    "The `GSA.genescores` returns a matrix of gene names and gene scores (eg t-statistics) for each gene in the gene set.\r\n"
   ]
  },
  {
   "cell_type": "code",
   "execution_count": 49,
   "id": "1cfde1f8",
   "metadata": {},
   "outputs": [
    {
     "data": {
      "image/png": "[encoded data removed]",
      "text/plain": [
       "plot without title"
      ]
     },
     "metadata": {
      "image/png": {
       "height": 420,
       "width": 420
      }
     },
     "output_type": "display_data"
    }
   ],
   "source": [
    "# Plot the result, this function makes a plot of the significant gene sets, based on a call to the GSA (Gene set analysis) function.\n",
    "suppressWarnings(GSA.plot(GSA.obj, fac = 1, FDRcut = 0.5))"
   ]
  },
  {
   "cell_type": "markdown",
   "id": "c2c644a4-e3c9-4ced-b343-78c64d6e9e16",
   "metadata": {},
   "source": [
    "To use the `GSA.plot` function, we need to pass the following arguments:\n",
    "\n",
    "- `GSA.obj`: A GSA object returned by the GSA function.\n",
    "- `fac`: A numeric value for jittering points in plot (\"factor\" in called to jitter()).\n",
    "- `FDRcut`: A numeric value specifying the false discovery rate cutpoint for sets to be plotted. A value of 1 (the default) will cause all sets to be plotted.\n",
    "\n"
   ]
  },
  {
   "cell_type": "markdown",
   "id": "7107ef92",
   "metadata": {},
   "source": [
    "### Enrichment analysis using GSA and KEGG pathways\n",
    "We can use the same procedure to per enrichment analysis with the KEGG pathway. All the codes are similar but `genesets` are assigned from `KEGG_hallmark`. The code is shown below."
   ]
  },
  {
   "cell_type": "code",
   "execution_count": 50,
   "id": "361aff0b",
   "metadata": {},
   "outputs": [
    {
     "name": "stdout",
     "output_type": "stream",
     "text": [
      "perm= 10 / 200 \n",
      "perm= 20 / 200 \n",
      "perm= 30 / 200 \n",
      "perm= 40 / 200 \n",
      "perm= 50 / 200 \n",
      "perm= 60 / 200 \n",
      "perm= 70 / 200 \n",
      "perm= 80 / 200 \n",
      "perm= 90 / 200 \n",
      "perm= 100 / 200 \n",
      "perm= 110 / 200 \n",
      "perm= 120 / 200 \n",
      "perm= 130 / 200 \n",
      "perm= 140 / 200 \n",
      "perm= 150 / 200 \n",
      "perm= 160 / 200 \n",
      "perm= 170 / 200 \n",
      "perm= 180 / 200 \n",
      "perm= 190 / 200 \n",
      "perm= 200 / 200 \n"
     ]
    }
   ],
   "source": [
    "genesets <- KEGG_hallmark\n",
    "GSA_output <- runGSA(as.matrix(new_expression_data), genesets = genesets, as.numeric(groups), nperms = 200)\n",
    "# Get GSA_result dataframe and GSA object from output of the runGSA function\n",
    "GSA_result <- GSA_output$GSA_res\n",
    "GSA.obj <- GSA_output$GSA.obj"
   ]
  },
  {
   "cell_type": "code",
   "execution_count": 51,
   "id": "76fd4be5-2607-47af-b271-0309430a29b6",
   "metadata": {},
   "outputs": [
    {
     "data": {
      "text/html": [
       "<table class=\"dataframe\">\n",
       "<caption>A data.frame: 6 × 4</caption>\n",
       "<thead>\n",
       "\t<tr><th></th><th scope=col>ID</th><th scope=col>p.value</th><th scope=col>score</th><th scope=col>normalizedScore</th></tr>\n",
       "\t<tr><th></th><th scope=col>&lt;chr&gt;</th><th scope=col>&lt;dbl&gt;</th><th scope=col>&lt;dbl&gt;</th><th scope=col>&lt;dbl&gt;</th></tr>\n",
       "</thead>\n",
       "<tbody>\n",
       "\t<tr><th scope=row>15</th><td>hsa00190</td><td>0</td><td>-1.0618901</td><td>-1.0618901</td></tr>\n",
       "\t<tr><th scope=row>89</th><td>hsa00970</td><td>0</td><td>-0.8230090</td><td>-0.8230090</td></tr>\n",
       "\t<tr><th scope=row>164</th><td>hsa04520</td><td>0</td><td> 0.4226582</td><td> 0.4226582</td></tr>\n",
       "\t<tr><th scope=row>169</th><td>hsa04810</td><td>0</td><td> 0.2382996</td><td> 0.2382996</td></tr>\n",
       "\t<tr><th scope=row>214</th><td>hsa04260</td><td>0</td><td>-0.6794162</td><td>-0.6794162</td></tr>\n",
       "\t<tr><th scope=row>318</th><td>hsa05010</td><td>0</td><td>-0.5042647</td><td>-0.5042647</td></tr>\n",
       "</tbody>\n",
       "</table>\n"
      ],
      "text/latex": [
       "A data.frame: 6 × 4\n",
       "\\begin{tabular}{r|llll}\n",
       "  & ID & p.value & score & normalizedScore\\\\\n",
       "  & <chr> & <dbl> & <dbl> & <dbl>\\\\\n",
       "\\hline\n",
       "\t15 & hsa00190 & 0 & -1.0618901 & -1.0618901\\\\\n",
       "\t89 & hsa00970 & 0 & -0.8230090 & -0.8230090\\\\\n",
       "\t164 & hsa04520 & 0 &  0.4226582 &  0.4226582\\\\\n",
       "\t169 & hsa04810 & 0 &  0.2382996 &  0.2382996\\\\\n",
       "\t214 & hsa04260 & 0 & -0.6794162 & -0.6794162\\\\\n",
       "\t318 & hsa05010 & 0 & -0.5042647 & -0.5042647\\\\\n",
       "\\end{tabular}\n"
      ],
      "text/markdown": [
       "\n",
       "A data.frame: 6 × 4\n",
       "\n",
       "| <!--/--> | ID &lt;chr&gt; | p.value &lt;dbl&gt; | score &lt;dbl&gt; | normalizedScore &lt;dbl&gt; |\n",
       "|---|---|---|---|---|\n",
       "| 15 | hsa00190 | 0 | -1.0618901 | -1.0618901 |\n",
       "| 89 | hsa00970 | 0 | -0.8230090 | -0.8230090 |\n",
       "| 164 | hsa04520 | 0 |  0.4226582 |  0.4226582 |\n",
       "| 169 | hsa04810 | 0 |  0.2382996 |  0.2382996 |\n",
       "| 214 | hsa04260 | 0 | -0.6794162 | -0.6794162 |\n",
       "| 318 | hsa05010 | 0 | -0.5042647 | -0.5042647 |\n",
       "\n"
      ],
      "text/plain": [
       "    ID       p.value score      normalizedScore\n",
       "15  hsa00190 0       -1.0618901 -1.0618901     \n",
       "89  hsa00970 0       -0.8230090 -0.8230090     \n",
       "164 hsa04520 0        0.4226582  0.4226582     \n",
       "169 hsa04810 0        0.2382996  0.2382996     \n",
       "214 hsa04260 0       -0.6794162 -0.6794162     \n",
       "318 hsa05010 0       -0.5042647 -0.5042647     "
      ]
     },
     "metadata": {},
     "output_type": "display_data"
    }
   ],
   "source": [
    "head(GSA_result[order(GSA_result$p.value), ])"
   ]
  },
  {
   "cell_type": "code",
   "execution_count": 52,
   "id": "00afb710",
   "metadata": {},
   "outputs": [],
   "source": [
    "# List the results from a GSA analysis\n",
    "res <- GSA.listsets(GSA.obj = GSA.obj, geneset.names = names(genesets), FDRcut = .5)"
   ]
  },
  {
   "cell_type": "markdown",
   "id": "e15cdae3",
   "metadata": {},
   "source": [
    "A table of the negative gene sets. \"Negative\" means that lower expression of most genes in the gene set correlates with higher values of the phenotype y. E.g., for two classes coded 1,2, lower expression correlates with class 2."
   ]
  },
  {
   "cell_type": "code",
   "execution_count": 53,
   "id": "c9e7aad4",
   "metadata": {},
   "outputs": [
    {
     "data": {
      "text/html": [
       "<table class=\"dataframe\">\n",
       "<caption>A matrix: 6 × 5 of type chr</caption>\n",
       "<thead>\n",
       "\t<tr><th scope=col>Gene_set</th><th scope=col>Gene_set_name</th><th scope=col>Score</th><th scope=col>p-value</th><th scope=col>FDR</th></tr>\n",
       "</thead>\n",
       "<tbody>\n",
       "\t<tr><td>15 </td><td>hsa00190</td><td>-1.0619</td><td>0</td><td>0</td></tr>\n",
       "\t<tr><td>89 </td><td>hsa00970</td><td>-0.823 </td><td>0</td><td>0</td></tr>\n",
       "\t<tr><td>214</td><td>hsa04260</td><td>-0.6794</td><td>0</td><td>0</td></tr>\n",
       "\t<tr><td>318</td><td>hsa05010</td><td>-0.5043</td><td>0</td><td>0</td></tr>\n",
       "\t<tr><td>319</td><td>hsa05012</td><td>-0.7494</td><td>0</td><td>0</td></tr>\n",
       "\t<tr><td>321</td><td>hsa05016</td><td>-0.7273</td><td>0</td><td>0</td></tr>\n",
       "</tbody>\n",
       "</table>\n"
      ],
      "text/latex": [
       "A matrix: 6 × 5 of type chr\n",
       "\\begin{tabular}{lllll}\n",
       " Gene\\_set & Gene\\_set\\_name & Score & p-value & FDR\\\\\n",
       "\\hline\n",
       "\t 15  & hsa00190 & -1.0619 & 0 & 0\\\\\n",
       "\t 89  & hsa00970 & -0.823  & 0 & 0\\\\\n",
       "\t 214 & hsa04260 & -0.6794 & 0 & 0\\\\\n",
       "\t 318 & hsa05010 & -0.5043 & 0 & 0\\\\\n",
       "\t 319 & hsa05012 & -0.7494 & 0 & 0\\\\\n",
       "\t 321 & hsa05016 & -0.7273 & 0 & 0\\\\\n",
       "\\end{tabular}\n"
      ],
      "text/markdown": [
       "\n",
       "A matrix: 6 × 5 of type chr\n",
       "\n",
       "| Gene_set | Gene_set_name | Score | p-value | FDR |\n",
       "|---|---|---|---|---|\n",
       "| 15  | hsa00190 | -1.0619 | 0 | 0 |\n",
       "| 89  | hsa00970 | -0.823  | 0 | 0 |\n",
       "| 214 | hsa04260 | -0.6794 | 0 | 0 |\n",
       "| 318 | hsa05010 | -0.5043 | 0 | 0 |\n",
       "| 319 | hsa05012 | -0.7494 | 0 | 0 |\n",
       "| 321 | hsa05016 | -0.7273 | 0 | 0 |\n",
       "\n"
      ],
      "text/plain": [
       "     Gene_set Gene_set_name Score   p-value FDR\n",
       "[1,] 15       hsa00190      -1.0619 0       0  \n",
       "[2,] 89       hsa00970      -0.823  0       0  \n",
       "[3,] 214      hsa04260      -0.6794 0       0  \n",
       "[4,] 318      hsa05010      -0.5043 0       0  \n",
       "[5,] 319      hsa05012      -0.7494 0       0  \n",
       "[6,] 321      hsa05016      -0.7273 0       0  "
      ]
     },
     "metadata": {},
     "output_type": "display_data"
    }
   ],
   "source": [
    "neg.table <- res$negative\n",
    "head(neg.table)"
   ]
  },
  {
   "cell_type": "markdown",
   "id": "e226ae92",
   "metadata": {},
   "source": [
    "A table of the positive gene sets. \"Positive\" means that higher expression of most genes in the gene set correlates with higher values of the phenotype y. See \"negative\" above for more info."
   ]
  },
  {
   "cell_type": "code",
   "execution_count": 54,
   "id": "bcd7ff3e",
   "metadata": {},
   "outputs": [
    {
     "data": {
      "text/html": [
       "<table class=\"dataframe\">\n",
       "<caption>A matrix: 2 × 5 of type chr</caption>\n",
       "<thead>\n",
       "\t<tr><th scope=col>Gene_set</th><th scope=col>Gene_set_name</th><th scope=col>Score</th><th scope=col>p-value</th><th scope=col>FDR</th></tr>\n",
       "</thead>\n",
       "<tbody>\n",
       "\t<tr><td>164</td><td>hsa04520</td><td>0.4227</td><td>0</td><td>0</td></tr>\n",
       "\t<tr><td>169</td><td>hsa04810</td><td>0.2383</td><td>0</td><td>0</td></tr>\n",
       "</tbody>\n",
       "</table>\n"
      ],
      "text/latex": [
       "A matrix: 2 × 5 of type chr\n",
       "\\begin{tabular}{lllll}\n",
       " Gene\\_set & Gene\\_set\\_name & Score & p-value & FDR\\\\\n",
       "\\hline\n",
       "\t 164 & hsa04520 & 0.4227 & 0 & 0\\\\\n",
       "\t 169 & hsa04810 & 0.2383 & 0 & 0\\\\\n",
       "\\end{tabular}\n"
      ],
      "text/markdown": [
       "\n",
       "A matrix: 2 × 5 of type chr\n",
       "\n",
       "| Gene_set | Gene_set_name | Score | p-value | FDR |\n",
       "|---|---|---|---|---|\n",
       "| 164 | hsa04520 | 0.4227 | 0 | 0 |\n",
       "| 169 | hsa04810 | 0.2383 | 0 | 0 |\n",
       "\n"
      ],
      "text/plain": [
       "     Gene_set Gene_set_name Score  p-value FDR\n",
       "[1,] 164      hsa04520      0.4227 0       0  \n",
       "[2,] 169      hsa04810      0.2383 0       0  "
      ]
     },
     "metadata": {},
     "output_type": "display_data"
    }
   ],
   "source": [
    "pos.table <- res$positive\n",
    "head(pos.table)"
   ]
  },
  {
   "cell_type": "code",
   "execution_count": 55,
   "id": "0d676c13",
   "metadata": {
    "scrolled": true,
    "tags": []
   },
   "outputs": [
    {
     "data": {
      "text/html": [
       "<table class=\"dataframe\">\n",
       "<caption>A matrix: 47 × 2 of type chr</caption>\n",
       "<thead>\n",
       "\t<tr><th scope=col>Gene</th><th scope=col>Score</th></tr>\n",
       "</thead>\n",
       "<tbody>\n",
       "\t<tr><td>ALDH9A1</td><td>2.825 </td></tr>\n",
       "\t<tr><td>ACSS1  </td><td>2.499 </td></tr>\n",
       "\t<tr><td>ADH1B  </td><td>1.97  </td></tr>\n",
       "\t<tr><td>GRHPR  </td><td>1.02  </td></tr>\n",
       "\t<tr><td>ALDH7A1</td><td>0.977 </td></tr>\n",
       "\t<tr><td>ALDH2  </td><td>0.86  </td></tr>\n",
       "\t<tr><td>ALDH3A2</td><td>0.762 </td></tr>\n",
       "\t<tr><td>ACACB  </td><td>0.515 </td></tr>\n",
       "\t<tr><td>ADH6   </td><td>0.341 </td></tr>\n",
       "\t<tr><td>LDHAL6B</td><td>0.215 </td></tr>\n",
       "\t<tr><td>ACSS2  </td><td>0.212 </td></tr>\n",
       "\t<tr><td>ADH5   </td><td>0.182 </td></tr>\n",
       "\t<tr><td>ADH1C  </td><td>0.169 </td></tr>\n",
       "\t<tr><td>ADH4   </td><td>0.114 </td></tr>\n",
       "\t<tr><td>LDHD   </td><td>0.083 </td></tr>\n",
       "\t<tr><td>PKLR   </td><td>0.073 </td></tr>\n",
       "\t<tr><td>PCK2   </td><td>-0.055</td></tr>\n",
       "\t<tr><td>ADH1A  </td><td>-0.082</td></tr>\n",
       "\t<tr><td>PC     </td><td>-0.119</td></tr>\n",
       "\t<tr><td>PDHA2  </td><td>-0.234</td></tr>\n",
       "\t<tr><td>ADH7   </td><td>-0.343</td></tr>\n",
       "\t<tr><td>PCK1   </td><td>-0.437</td></tr>\n",
       "\t<tr><td>ACOT12 </td><td>-0.455</td></tr>\n",
       "\t<tr><td>AKR1A1 </td><td>-0.583</td></tr>\n",
       "\t<tr><td>ACAT1  </td><td>-0.626</td></tr>\n",
       "\t<tr><td>LDHC   </td><td>-0.822</td></tr>\n",
       "\t<tr><td>ALDH1B1</td><td>-0.89 </td></tr>\n",
       "\t<tr><td>LDHAL6A</td><td>-0.906</td></tr>\n",
       "\t<tr><td>LDHB   </td><td>-1.345</td></tr>\n",
       "\t<tr><td>PDHB   </td><td>-1.431</td></tr>\n",
       "\t<tr><td>DLD    </td><td>-1.492</td></tr>\n",
       "\t<tr><td>ME2    </td><td>-1.566</td></tr>\n",
       "\t<tr><td>ACAT2  </td><td>-1.749</td></tr>\n",
       "\t<tr><td>HAGH   </td><td>-1.843</td></tr>\n",
       "\t<tr><td>PKM    </td><td>-1.864</td></tr>\n",
       "\t<tr><td>ME3    </td><td>-1.942</td></tr>\n",
       "\t<tr><td>DLAT   </td><td>-1.999</td></tr>\n",
       "\t<tr><td>MDH1   </td><td>-2.021</td></tr>\n",
       "\t<tr><td>ACYP2  </td><td>-2.12 </td></tr>\n",
       "\t<tr><td>GLO1   </td><td>-2.293</td></tr>\n",
       "\t<tr><td>FH     </td><td>-2.413</td></tr>\n",
       "\t<tr><td>LDHA   </td><td>-2.561</td></tr>\n",
       "\t<tr><td>MDH2   </td><td>-2.572</td></tr>\n",
       "\t<tr><td>ACYP1  </td><td>-2.615</td></tr>\n",
       "\t<tr><td>ME1    </td><td>-2.815</td></tr>\n",
       "\t<tr><td>PDHA1  </td><td>-3.119</td></tr>\n",
       "\t<tr><td>ACACA  </td><td>-3.215</td></tr>\n",
       "</tbody>\n",
       "</table>\n"
      ],
      "text/latex": [
       "A matrix: 47 × 2 of type chr\n",
       "\\begin{tabular}{ll}\n",
       " Gene & Score\\\\\n",
       "\\hline\n",
       "\t ALDH9A1 & 2.825 \\\\\n",
       "\t ACSS1   & 2.499 \\\\\n",
       "\t ADH1B   & 1.97  \\\\\n",
       "\t GRHPR   & 1.02  \\\\\n",
       "\t ALDH7A1 & 0.977 \\\\\n",
       "\t ALDH2   & 0.86  \\\\\n",
       "\t ALDH3A2 & 0.762 \\\\\n",
       "\t ACACB   & 0.515 \\\\\n",
       "\t ADH6    & 0.341 \\\\\n",
       "\t LDHAL6B & 0.215 \\\\\n",
       "\t ACSS2   & 0.212 \\\\\n",
       "\t ADH5    & 0.182 \\\\\n",
       "\t ADH1C   & 0.169 \\\\\n",
       "\t ADH4    & 0.114 \\\\\n",
       "\t LDHD    & 0.083 \\\\\n",
       "\t PKLR    & 0.073 \\\\\n",
       "\t PCK2    & -0.055\\\\\n",
       "\t ADH1A   & -0.082\\\\\n",
       "\t PC      & -0.119\\\\\n",
       "\t PDHA2   & -0.234\\\\\n",
       "\t ADH7    & -0.343\\\\\n",
       "\t PCK1    & -0.437\\\\\n",
       "\t ACOT12  & -0.455\\\\\n",
       "\t AKR1A1  & -0.583\\\\\n",
       "\t ACAT1   & -0.626\\\\\n",
       "\t LDHC    & -0.822\\\\\n",
       "\t ALDH1B1 & -0.89 \\\\\n",
       "\t LDHAL6A & -0.906\\\\\n",
       "\t LDHB    & -1.345\\\\\n",
       "\t PDHB    & -1.431\\\\\n",
       "\t DLD     & -1.492\\\\\n",
       "\t ME2     & -1.566\\\\\n",
       "\t ACAT2   & -1.749\\\\\n",
       "\t HAGH    & -1.843\\\\\n",
       "\t PKM     & -1.864\\\\\n",
       "\t ME3     & -1.942\\\\\n",
       "\t DLAT    & -1.999\\\\\n",
       "\t MDH1    & -2.021\\\\\n",
       "\t ACYP2   & -2.12 \\\\\n",
       "\t GLO1    & -2.293\\\\\n",
       "\t FH      & -2.413\\\\\n",
       "\t LDHA    & -2.561\\\\\n",
       "\t MDH2    & -2.572\\\\\n",
       "\t ACYP1   & -2.615\\\\\n",
       "\t ME1     & -2.815\\\\\n",
       "\t PDHA1   & -3.119\\\\\n",
       "\t ACACA   & -3.215\\\\\n",
       "\\end{tabular}\n"
      ],
      "text/markdown": [
       "\n",
       "A matrix: 47 × 2 of type chr\n",
       "\n",
       "| Gene | Score |\n",
       "|---|---|\n",
       "| ALDH9A1 | 2.825  |\n",
       "| ACSS1   | 2.499  |\n",
       "| ADH1B   | 1.97   |\n",
       "| GRHPR   | 1.02   |\n",
       "| ALDH7A1 | 0.977  |\n",
       "| ALDH2   | 0.86   |\n",
       "| ALDH3A2 | 0.762  |\n",
       "| ACACB   | 0.515  |\n",
       "| ADH6    | 0.341  |\n",
       "| LDHAL6B | 0.215  |\n",
       "| ACSS2   | 0.212  |\n",
       "| ADH5    | 0.182  |\n",
       "| ADH1C   | 0.169  |\n",
       "| ADH4    | 0.114  |\n",
       "| LDHD    | 0.083  |\n",
       "| PKLR    | 0.073  |\n",
       "| PCK2    | -0.055 |\n",
       "| ADH1A   | -0.082 |\n",
       "| PC      | -0.119 |\n",
       "| PDHA2   | -0.234 |\n",
       "| ADH7    | -0.343 |\n",
       "| PCK1    | -0.437 |\n",
       "| ACOT12  | -0.455 |\n",
       "| AKR1A1  | -0.583 |\n",
       "| ACAT1   | -0.626 |\n",
       "| LDHC    | -0.822 |\n",
       "| ALDH1B1 | -0.89  |\n",
       "| LDHAL6A | -0.906 |\n",
       "| LDHB    | -1.345 |\n",
       "| PDHB    | -1.431 |\n",
       "| DLD     | -1.492 |\n",
       "| ME2     | -1.566 |\n",
       "| ACAT2   | -1.749 |\n",
       "| HAGH    | -1.843 |\n",
       "| PKM     | -1.864 |\n",
       "| ME3     | -1.942 |\n",
       "| DLAT    | -1.999 |\n",
       "| MDH1    | -2.021 |\n",
       "| ACYP2   | -2.12  |\n",
       "| GLO1    | -2.293 |\n",
       "| FH      | -2.413 |\n",
       "| LDHA    | -2.561 |\n",
       "| MDH2    | -2.572 |\n",
       "| ACYP1   | -2.615 |\n",
       "| ME1     | -2.815 |\n",
       "| PDHA1   | -3.119 |\n",
       "| ACACA   | -3.215 |\n",
       "\n"
      ],
      "text/plain": [
       "      Gene    Score \n",
       " [1,] ALDH9A1 2.825 \n",
       " [2,] ACSS1   2.499 \n",
       " [3,] ADH1B   1.97  \n",
       " [4,] GRHPR   1.02  \n",
       " [5,] ALDH7A1 0.977 \n",
       " [6,] ALDH2   0.86  \n",
       " [7,] ALDH3A2 0.762 \n",
       " [8,] ACACB   0.515 \n",
       " [9,] ADH6    0.341 \n",
       "[10,] LDHAL6B 0.215 \n",
       "[11,] ACSS2   0.212 \n",
       "[12,] ADH5    0.182 \n",
       "[13,] ADH1C   0.169 \n",
       "[14,] ADH4    0.114 \n",
       "[15,] LDHD    0.083 \n",
       "[16,] PKLR    0.073 \n",
       "[17,] PCK2    -0.055\n",
       "[18,] ADH1A   -0.082\n",
       "[19,] PC      -0.119\n",
       "[20,] PDHA2   -0.234\n",
       "[21,] ADH7    -0.343\n",
       "[22,] PCK1    -0.437\n",
       "[23,] ACOT12  -0.455\n",
       "[24,] AKR1A1  -0.583\n",
       "[25,] ACAT1   -0.626\n",
       "[26,] LDHC    -0.822\n",
       "[27,] ALDH1B1 -0.89 \n",
       "[28,] LDHAL6A -0.906\n",
       "[29,] LDHB    -1.345\n",
       "[30,] PDHB    -1.431\n",
       "[31,] DLD     -1.492\n",
       "[32,] ME2     -1.566\n",
       "[33,] ACAT2   -1.749\n",
       "[34,] HAGH    -1.843\n",
       "[35,] PKM     -1.864\n",
       "[36,] ME3     -1.942\n",
       "[37,] DLAT    -1.999\n",
       "[38,] MDH1    -2.021\n",
       "[39,] ACYP2   -2.12 \n",
       "[40,] GLO1    -2.293\n",
       "[41,] FH      -2.413\n",
       "[42,] LDHA    -2.561\n",
       "[43,] MDH2    -2.572\n",
       "[44,] ACYP1   -2.615\n",
       "[45,] ME1     -2.815\n",
       "[46,] PDHA1   -3.119\n",
       "[47,] ACACA   -3.215"
      ]
     },
     "metadata": {},
     "output_type": "display_data"
    }
   ],
   "source": [
    "# Individual gene scores from a gene set analysis\n",
    "# look at 10th gene set\n",
    "GSA.genescores(geneset.number = 10, genesets = genesets, \n",
    "               GSA.obj = GSA.obj, genenames = genenames)"
   ]
  },
  {
   "cell_type": "code",
   "execution_count": 56,
   "id": "2284bc1f",
   "metadata": {},
   "outputs": [
    {
     "data": {
      "image/png": "[encoded data removed]",
      "text/plain": [
       "plot without title"
      ]
     },
     "metadata": {
      "image/png": {
       "height": 420,
       "width": 420
      }
     },
     "output_type": "display_data"
    }
   ],
   "source": [
    "# Plot the result, this function makes a plot of the significant gene sets, based on a call to the GSA (Gene set analysis) function.\n",
    "suppressWarnings(GSA.plot(GSA.obj, fac = 1, FDRcut = 0.5))\n"
   ]
  },
  {
   "cell_type": "markdown",
   "id": "57c8b700-fe1f-40f0-b96e-97d3eedda337",
   "metadata": {},
   "source": [
    "### Enrichment analysis using GSA and REACTOME pathways\n",
    "We can use the same procedure to per enrichment analysis with the REACTOME pathway. All the codes are similar but `genesets` are assigned from `REACTOME_hallmark`. The code is shown below."
   ]
  },
  {
   "cell_type": "code",
   "execution_count": 57,
   "id": "9f64fdfa-b967-4290-abe3-64e3d4487f58",
   "metadata": {
    "scrolled": true
   },
   "outputs": [
    {
     "name": "stdout",
     "output_type": "stream",
     "text": [
      "perm= 10 / 200 \n",
      "perm= 20 / 200 \n",
      "perm= 30 / 200 \n",
      "perm= 40 / 200 \n",
      "perm= 50 / 200 \n",
      "perm= 60 / 200 \n",
      "perm= 70 / 200 \n",
      "perm= 80 / 200 \n",
      "perm= 90 / 200 \n",
      "perm= 100 / 200 \n",
      "perm= 110 / 200 \n",
      "perm= 120 / 200 \n",
      "perm= 130 / 200 \n",
      "perm= 140 / 200 \n",
      "perm= 150 / 200 \n",
      "perm= 160 / 200 \n",
      "perm= 170 / 200 \n",
      "perm= 180 / 200 \n",
      "perm= 190 / 200 \n",
      "perm= 200 / 200 \n"
     ]
    }
   ],
   "source": [
    "genesets <- REACTOME_hallmark\n",
    "GSA_output <- runGSA(as.matrix(new_expression_data), genesets = genesets, as.numeric(groups), nperms = 200)\n",
    "# Get GSA_result dataframe and GSA object from output of the runGSA function\n",
    "GSA_result <- GSA_output$GSA_res\n",
    "GSA.obj <- GSA_output$GSA.obj"
   ]
  },
  {
   "cell_type": "code",
   "execution_count": 58,
   "id": "99aecfa8-ff7b-40af-b0a7-ba3fc914e71d",
   "metadata": {},
   "outputs": [
    {
     "data": {
      "text/html": [
       "<table class=\"dataframe\">\n",
       "<caption>A data.frame: 6 × 4</caption>\n",
       "<thead>\n",
       "\t<tr><th></th><th scope=col>ID</th><th scope=col>p.value</th><th scope=col>score</th><th scope=col>normalizedScore</th></tr>\n",
       "\t<tr><th></th><th scope=col>&lt;chr&gt;</th><th scope=col>&lt;dbl&gt;</th><th scope=col>&lt;dbl&gt;</th><th scope=col>&lt;dbl&gt;</th></tr>\n",
       "</thead>\n",
       "<tbody>\n",
       "\t<tr><th scope=row>33</th><td>R-HSA-69275 </td><td>0</td><td>-0.3816028</td><td>-0.3816028</td></tr>\n",
       "\t<tr><th scope=row>176</th><td>R-HSA-77387 </td><td>0</td><td>-0.6624510</td><td>-0.6624510</td></tr>\n",
       "\t<tr><th scope=row>477</th><td>R-HSA-186712</td><td>0</td><td> 1.3126050</td><td> 1.3126050</td></tr>\n",
       "\t<tr><th scope=row>612</th><td>R-HSA-210744</td><td>0</td><td> 3.6748999</td><td> 3.6748999</td></tr>\n",
       "\t<tr><th scope=row>615</th><td>R-HSA-210747</td><td>0</td><td> 5.5610582</td><td> 5.5610582</td></tr>\n",
       "\t<tr><th scope=row>677</th><td>R-HSA-379724</td><td>0</td><td>-0.7460525</td><td>-0.7460525</td></tr>\n",
       "</tbody>\n",
       "</table>\n"
      ],
      "text/latex": [
       "A data.frame: 6 × 4\n",
       "\\begin{tabular}{r|llll}\n",
       "  & ID & p.value & score & normalizedScore\\\\\n",
       "  & <chr> & <dbl> & <dbl> & <dbl>\\\\\n",
       "\\hline\n",
       "\t33 & R-HSA-69275  & 0 & -0.3816028 & -0.3816028\\\\\n",
       "\t176 & R-HSA-77387  & 0 & -0.6624510 & -0.6624510\\\\\n",
       "\t477 & R-HSA-186712 & 0 &  1.3126050 &  1.3126050\\\\\n",
       "\t612 & R-HSA-210744 & 0 &  3.6748999 &  3.6748999\\\\\n",
       "\t615 & R-HSA-210747 & 0 &  5.5610582 &  5.5610582\\\\\n",
       "\t677 & R-HSA-379724 & 0 & -0.7460525 & -0.7460525\\\\\n",
       "\\end{tabular}\n"
      ],
      "text/markdown": [
       "\n",
       "A data.frame: 6 × 4\n",
       "\n",
       "| <!--/--> | ID &lt;chr&gt; | p.value &lt;dbl&gt; | score &lt;dbl&gt; | normalizedScore &lt;dbl&gt; |\n",
       "|---|---|---|---|---|\n",
       "| 33 | R-HSA-69275  | 0 | -0.3816028 | -0.3816028 |\n",
       "| 176 | R-HSA-77387  | 0 | -0.6624510 | -0.6624510 |\n",
       "| 477 | R-HSA-186712 | 0 |  1.3126050 |  1.3126050 |\n",
       "| 612 | R-HSA-210744 | 0 |  3.6748999 |  3.6748999 |\n",
       "| 615 | R-HSA-210747 | 0 |  5.5610582 |  5.5610582 |\n",
       "| 677 | R-HSA-379724 | 0 | -0.7460525 | -0.7460525 |\n",
       "\n"
      ],
      "text/plain": [
       "    ID           p.value score      normalizedScore\n",
       "33  R-HSA-69275  0       -0.3816028 -0.3816028     \n",
       "176 R-HSA-77387  0       -0.6624510 -0.6624510     \n",
       "477 R-HSA-186712 0        1.3126050  1.3126050     \n",
       "612 R-HSA-210744 0        3.6748999  3.6748999     \n",
       "615 R-HSA-210747 0        5.5610582  5.5610582     \n",
       "677 R-HSA-379724 0       -0.7460525 -0.7460525     "
      ]
     },
     "metadata": {},
     "output_type": "display_data"
    }
   ],
   "source": [
    "head(GSA_result[order(GSA_result$p.value), ])\n"
   ]
  },
  {
   "cell_type": "code",
   "execution_count": 59,
   "id": "f47bfccc-ee95-4c5c-80df-a5233c3b82db",
   "metadata": {},
   "outputs": [],
   "source": [
    "# List the results from a GSA analysis\n",
    "res <- GSA.listsets(GSA.obj = GSA.obj, geneset.names = names(genesets), FDRcut = .5)"
   ]
  },
  {
   "cell_type": "code",
   "execution_count": 60,
   "id": "af79ff82-2352-4a01-9146-77318039a5bc",
   "metadata": {},
   "outputs": [
    {
     "data": {
      "text/html": [
       "<table class=\"dataframe\">\n",
       "<caption>A matrix: 6 × 5 of type chr</caption>\n",
       "<thead>\n",
       "\t<tr><th scope=col>Gene_set</th><th scope=col>Gene_set_name</th><th scope=col>Score</th><th scope=col>p-value</th><th scope=col>FDR</th></tr>\n",
       "</thead>\n",
       "<tbody>\n",
       "\t<tr><td>33 </td><td>R-HSA-69275 </td><td>-0.3816</td><td>0</td><td>0</td></tr>\n",
       "\t<tr><td>176</td><td>R-HSA-77387 </td><td>-0.6625</td><td>0</td><td>0</td></tr>\n",
       "\t<tr><td>677</td><td>R-HSA-379724</td><td>-0.7461</td><td>0</td><td>0</td></tr>\n",
       "\t<tr><td>718</td><td>R-HSA-389957</td><td>-1.4672</td><td>0</td><td>0</td></tr>\n",
       "\t<tr><td>719</td><td>R-HSA-389958</td><td>-1.288 </td><td>0</td><td>0</td></tr>\n",
       "\t<tr><td>720</td><td>R-HSA-389960</td><td>-1.2352</td><td>0</td><td>0</td></tr>\n",
       "</tbody>\n",
       "</table>\n"
      ],
      "text/latex": [
       "A matrix: 6 × 5 of type chr\n",
       "\\begin{tabular}{lllll}\n",
       " Gene\\_set & Gene\\_set\\_name & Score & p-value & FDR\\\\\n",
       "\\hline\n",
       "\t 33  & R-HSA-69275  & -0.3816 & 0 & 0\\\\\n",
       "\t 176 & R-HSA-77387  & -0.6625 & 0 & 0\\\\\n",
       "\t 677 & R-HSA-379724 & -0.7461 & 0 & 0\\\\\n",
       "\t 718 & R-HSA-389957 & -1.4672 & 0 & 0\\\\\n",
       "\t 719 & R-HSA-389958 & -1.288  & 0 & 0\\\\\n",
       "\t 720 & R-HSA-389960 & -1.2352 & 0 & 0\\\\\n",
       "\\end{tabular}\n"
      ],
      "text/markdown": [
       "\n",
       "A matrix: 6 × 5 of type chr\n",
       "\n",
       "| Gene_set | Gene_set_name | Score | p-value | FDR |\n",
       "|---|---|---|---|---|\n",
       "| 33  | R-HSA-69275  | -0.3816 | 0 | 0 |\n",
       "| 176 | R-HSA-77387  | -0.6625 | 0 | 0 |\n",
       "| 677 | R-HSA-379724 | -0.7461 | 0 | 0 |\n",
       "| 718 | R-HSA-389957 | -1.4672 | 0 | 0 |\n",
       "| 719 | R-HSA-389958 | -1.288  | 0 | 0 |\n",
       "| 720 | R-HSA-389960 | -1.2352 | 0 | 0 |\n",
       "\n"
      ],
      "text/plain": [
       "     Gene_set Gene_set_name Score   p-value FDR\n",
       "[1,] 33       R-HSA-69275   -0.3816 0       0  \n",
       "[2,] 176      R-HSA-77387   -0.6625 0       0  \n",
       "[3,] 677      R-HSA-379724  -0.7461 0       0  \n",
       "[4,] 718      R-HSA-389957  -1.4672 0       0  \n",
       "[5,] 719      R-HSA-389958  -1.288  0       0  \n",
       "[6,] 720      R-HSA-389960  -1.2352 0       0  "
      ]
     },
     "metadata": {},
     "output_type": "display_data"
    }
   ],
   "source": [
    "neg.table <- res$negative\n",
    "head(neg.table)"
   ]
  },
  {
   "cell_type": "code",
   "execution_count": 61,
   "id": "e84d66dd-c9c9-48a8-b2cb-80b373e43648",
   "metadata": {},
   "outputs": [
    {
     "data": {
      "text/html": [
       "<table class=\"dataframe\">\n",
       "<caption>A matrix: 4 × 5 of type chr</caption>\n",
       "<thead>\n",
       "\t<tr><th scope=col>Gene_set</th><th scope=col>Gene_set_name</th><th scope=col>Score</th><th scope=col>p-value</th><th scope=col>FDR</th></tr>\n",
       "</thead>\n",
       "<tbody>\n",
       "\t<tr><td>477</td><td>R-HSA-186712</td><td>1.3126</td><td>0</td><td>0</td></tr>\n",
       "\t<tr><td>612</td><td>R-HSA-210744</td><td>3.6749</td><td>0</td><td>0</td></tr>\n",
       "\t<tr><td>615</td><td>R-HSA-210747</td><td>5.5611</td><td>0</td><td>0</td></tr>\n",
       "\t<tr><td>784</td><td>R-HSA-418990</td><td>0.3782</td><td>0</td><td>0</td></tr>\n",
       "</tbody>\n",
       "</table>\n"
      ],
      "text/latex": [
       "A matrix: 4 × 5 of type chr\n",
       "\\begin{tabular}{lllll}\n",
       " Gene\\_set & Gene\\_set\\_name & Score & p-value & FDR\\\\\n",
       "\\hline\n",
       "\t 477 & R-HSA-186712 & 1.3126 & 0 & 0\\\\\n",
       "\t 612 & R-HSA-210744 & 3.6749 & 0 & 0\\\\\n",
       "\t 615 & R-HSA-210747 & 5.5611 & 0 & 0\\\\\n",
       "\t 784 & R-HSA-418990 & 0.3782 & 0 & 0\\\\\n",
       "\\end{tabular}\n"
      ],
      "text/markdown": [
       "\n",
       "A matrix: 4 × 5 of type chr\n",
       "\n",
       "| Gene_set | Gene_set_name | Score | p-value | FDR |\n",
       "|---|---|---|---|---|\n",
       "| 477 | R-HSA-186712 | 1.3126 | 0 | 0 |\n",
       "| 612 | R-HSA-210744 | 3.6749 | 0 | 0 |\n",
       "| 615 | R-HSA-210747 | 5.5611 | 0 | 0 |\n",
       "| 784 | R-HSA-418990 | 0.3782 | 0 | 0 |\n",
       "\n"
      ],
      "text/plain": [
       "     Gene_set Gene_set_name Score  p-value FDR\n",
       "[1,] 477      R-HSA-186712  1.3126 0       0  \n",
       "[2,] 612      R-HSA-210744  3.6749 0       0  \n",
       "[3,] 615      R-HSA-210747  5.5611 0       0  \n",
       "[4,] 784      R-HSA-418990  0.3782 0       0  "
      ]
     },
     "metadata": {},
     "output_type": "display_data"
    }
   ],
   "source": [
    "pos.table <- res$positive\n",
    "head(pos.table)"
   ]
  },
  {
   "cell_type": "code",
   "execution_count": 62,
   "id": "3700db02-950e-4f26-9682-233edf803d5b",
   "metadata": {
    "scrolled": true
   },
   "outputs": [
    {
     "data": {
      "text/html": [
       "<table class=\"dataframe\">\n",
       "<caption>A matrix: 421 × 2 of type chr</caption>\n",
       "<thead>\n",
       "\t<tr><th scope=col>Gene</th><th scope=col>Score</th></tr>\n",
       "</thead>\n",
       "<tbody>\n",
       "\t<tr><td>SMC1A   </td><td>2.971</td></tr>\n",
       "\t<tr><td>CEP131  </td><td>2.834</td></tr>\n",
       "\t<tr><td>STAG2   </td><td>2.768</td></tr>\n",
       "\t<tr><td>STAG1   </td><td>2.698</td></tr>\n",
       "\t<tr><td>NUP188  </td><td>2.654</td></tr>\n",
       "\t<tr><td>NUP107  </td><td>2.618</td></tr>\n",
       "\t<tr><td>H3-3B   </td><td>2.471</td></tr>\n",
       "\t<tr><td>NINL    </td><td>2.406</td></tr>\n",
       "\t<tr><td>HAUS8   </td><td>2.351</td></tr>\n",
       "\t<tr><td>CAPG    </td><td>2.235</td></tr>\n",
       "\t<tr><td>NEK8    </td><td>2.134</td></tr>\n",
       "\t<tr><td>CNTRL   </td><td>2.044</td></tr>\n",
       "\t<tr><td>TPR     </td><td>2.043</td></tr>\n",
       "\t<tr><td>NEDD1   </td><td>2.027</td></tr>\n",
       "\t<tr><td>B9D2    </td><td>2.007</td></tr>\n",
       "\t<tr><td>PLK1    </td><td>1.907</td></tr>\n",
       "\t<tr><td>NEK9    </td><td>1.905</td></tr>\n",
       "\t<tr><td>HAUS2   </td><td>1.901</td></tr>\n",
       "\t<tr><td>H2AC4   </td><td>1.763</td></tr>\n",
       "\t<tr><td>AAAS    </td><td>1.693</td></tr>\n",
       "\t<tr><td>NUP160  </td><td>1.691</td></tr>\n",
       "\t<tr><td>NDE1    </td><td>1.688</td></tr>\n",
       "\t<tr><td>ANAPC16 </td><td>1.678</td></tr>\n",
       "\t<tr><td>BLZF1   </td><td>1.671</td></tr>\n",
       "\t<tr><td>GORASP1 </td><td>1.645</td></tr>\n",
       "\t<tr><td>NCAPH   </td><td>1.612</td></tr>\n",
       "\t<tr><td>PCM1    </td><td>1.583</td></tr>\n",
       "\t<tr><td>DYNC1LI2</td><td>1.564</td></tr>\n",
       "\t<tr><td>H2BC4   </td><td>1.558</td></tr>\n",
       "\t<tr><td>ALMS1   </td><td>1.538</td></tr>\n",
       "\t<tr><td>⋮</td><td>⋮</td></tr>\n",
       "\t<tr><td>PSMB7 </td><td>-2.683</td></tr>\n",
       "\t<tr><td>UBB   </td><td>-2.695</td></tr>\n",
       "\t<tr><td>DCTN1 </td><td>-2.717</td></tr>\n",
       "\t<tr><td>TUBA3C</td><td>-2.738</td></tr>\n",
       "\t<tr><td>TUBA3C</td><td>-2.738</td></tr>\n",
       "\t<tr><td>NDEL1 </td><td>-2.75 </td></tr>\n",
       "\t<tr><td>TUBG1 </td><td>-2.759</td></tr>\n",
       "\t<tr><td>TUBB4B</td><td>-2.784</td></tr>\n",
       "\t<tr><td>YWHAG </td><td>-2.802</td></tr>\n",
       "\t<tr><td>NCAPH2</td><td>-2.843</td></tr>\n",
       "\t<tr><td>RAN   </td><td>-2.858</td></tr>\n",
       "\t<tr><td>CEP43 </td><td>-2.893</td></tr>\n",
       "\t<tr><td>PSMD12</td><td>-2.929</td></tr>\n",
       "\t<tr><td>TUBB2A</td><td>-2.933</td></tr>\n",
       "\t<tr><td>DYNLL1</td><td>-2.939</td></tr>\n",
       "\t<tr><td>H4C9  </td><td>-2.958</td></tr>\n",
       "\t<tr><td>SEH1L </td><td>-2.963</td></tr>\n",
       "\t<tr><td>SEH1L </td><td>-2.963</td></tr>\n",
       "\t<tr><td>PPP2CA</td><td>-2.964</td></tr>\n",
       "\t<tr><td>VPS4A </td><td>-2.986</td></tr>\n",
       "\t<tr><td>NUP42 </td><td>-2.992</td></tr>\n",
       "\t<tr><td>TUBA3D</td><td>-3.137</td></tr>\n",
       "\t<tr><td>TUBA3D</td><td>-3.137</td></tr>\n",
       "\t<tr><td>PSMF1 </td><td>-3.146</td></tr>\n",
       "\t<tr><td>SMC2  </td><td>-3.225</td></tr>\n",
       "\t<tr><td>TUBB4A</td><td>-3.234</td></tr>\n",
       "\t<tr><td>PSMD2 </td><td>-3.336</td></tr>\n",
       "\t<tr><td>DCTN3 </td><td>-3.337</td></tr>\n",
       "\t<tr><td>CCNB1 </td><td>-3.463</td></tr>\n",
       "\t<tr><td>PSMD4 </td><td>-3.712</td></tr>\n",
       "</tbody>\n",
       "</table>\n"
      ],
      "text/latex": [
       "A matrix: 421 × 2 of type chr\n",
       "\\begin{tabular}{ll}\n",
       " Gene & Score\\\\\n",
       "\\hline\n",
       "\t SMC1A    & 2.971\\\\\n",
       "\t CEP131   & 2.834\\\\\n",
       "\t STAG2    & 2.768\\\\\n",
       "\t STAG1    & 2.698\\\\\n",
       "\t NUP188   & 2.654\\\\\n",
       "\t NUP107   & 2.618\\\\\n",
       "\t H3-3B    & 2.471\\\\\n",
       "\t NINL     & 2.406\\\\\n",
       "\t HAUS8    & 2.351\\\\\n",
       "\t CAPG     & 2.235\\\\\n",
       "\t NEK8     & 2.134\\\\\n",
       "\t CNTRL    & 2.044\\\\\n",
       "\t TPR      & 2.043\\\\\n",
       "\t NEDD1    & 2.027\\\\\n",
       "\t B9D2     & 2.007\\\\\n",
       "\t PLK1     & 1.907\\\\\n",
       "\t NEK9     & 1.905\\\\\n",
       "\t HAUS2    & 1.901\\\\\n",
       "\t H2AC4    & 1.763\\\\\n",
       "\t AAAS     & 1.693\\\\\n",
       "\t NUP160   & 1.691\\\\\n",
       "\t NDE1     & 1.688\\\\\n",
       "\t ANAPC16  & 1.678\\\\\n",
       "\t BLZF1    & 1.671\\\\\n",
       "\t GORASP1  & 1.645\\\\\n",
       "\t NCAPH    & 1.612\\\\\n",
       "\t PCM1     & 1.583\\\\\n",
       "\t DYNC1LI2 & 1.564\\\\\n",
       "\t H2BC4    & 1.558\\\\\n",
       "\t ALMS1    & 1.538\\\\\n",
       "\t ⋮ & ⋮\\\\\n",
       "\t PSMB7  & -2.683\\\\\n",
       "\t UBB    & -2.695\\\\\n",
       "\t DCTN1  & -2.717\\\\\n",
       "\t TUBA3C & -2.738\\\\\n",
       "\t TUBA3C & -2.738\\\\\n",
       "\t NDEL1  & -2.75 \\\\\n",
       "\t TUBG1  & -2.759\\\\\n",
       "\t TUBB4B & -2.784\\\\\n",
       "\t YWHAG  & -2.802\\\\\n",
       "\t NCAPH2 & -2.843\\\\\n",
       "\t RAN    & -2.858\\\\\n",
       "\t CEP43  & -2.893\\\\\n",
       "\t PSMD12 & -2.929\\\\\n",
       "\t TUBB2A & -2.933\\\\\n",
       "\t DYNLL1 & -2.939\\\\\n",
       "\t H4C9   & -2.958\\\\\n",
       "\t SEH1L  & -2.963\\\\\n",
       "\t SEH1L  & -2.963\\\\\n",
       "\t PPP2CA & -2.964\\\\\n",
       "\t VPS4A  & -2.986\\\\\n",
       "\t NUP42  & -2.992\\\\\n",
       "\t TUBA3D & -3.137\\\\\n",
       "\t TUBA3D & -3.137\\\\\n",
       "\t PSMF1  & -3.146\\\\\n",
       "\t SMC2   & -3.225\\\\\n",
       "\t TUBB4A & -3.234\\\\\n",
       "\t PSMD2  & -3.336\\\\\n",
       "\t DCTN3  & -3.337\\\\\n",
       "\t CCNB1  & -3.463\\\\\n",
       "\t PSMD4  & -3.712\\\\\n",
       "\\end{tabular}\n"
      ],
      "text/markdown": [
       "\n",
       "A matrix: 421 × 2 of type chr\n",
       "\n",
       "| Gene | Score |\n",
       "|---|---|\n",
       "| SMC1A    | 2.971 |\n",
       "| CEP131   | 2.834 |\n",
       "| STAG2    | 2.768 |\n",
       "| STAG1    | 2.698 |\n",
       "| NUP188   | 2.654 |\n",
       "| NUP107   | 2.618 |\n",
       "| H3-3B    | 2.471 |\n",
       "| NINL     | 2.406 |\n",
       "| HAUS8    | 2.351 |\n",
       "| CAPG     | 2.235 |\n",
       "| NEK8     | 2.134 |\n",
       "| CNTRL    | 2.044 |\n",
       "| TPR      | 2.043 |\n",
       "| NEDD1    | 2.027 |\n",
       "| B9D2     | 2.007 |\n",
       "| PLK1     | 1.907 |\n",
       "| NEK9     | 1.905 |\n",
       "| HAUS2    | 1.901 |\n",
       "| H2AC4    | 1.763 |\n",
       "| AAAS     | 1.693 |\n",
       "| NUP160   | 1.691 |\n",
       "| NDE1     | 1.688 |\n",
       "| ANAPC16  | 1.678 |\n",
       "| BLZF1    | 1.671 |\n",
       "| GORASP1  | 1.645 |\n",
       "| NCAPH    | 1.612 |\n",
       "| PCM1     | 1.583 |\n",
       "| DYNC1LI2 | 1.564 |\n",
       "| H2BC4    | 1.558 |\n",
       "| ALMS1    | 1.538 |\n",
       "| ⋮ | ⋮ |\n",
       "| PSMB7  | -2.683 |\n",
       "| UBB    | -2.695 |\n",
       "| DCTN1  | -2.717 |\n",
       "| TUBA3C | -2.738 |\n",
       "| TUBA3C | -2.738 |\n",
       "| NDEL1  | -2.75  |\n",
       "| TUBG1  | -2.759 |\n",
       "| TUBB4B | -2.784 |\n",
       "| YWHAG  | -2.802 |\n",
       "| NCAPH2 | -2.843 |\n",
       "| RAN    | -2.858 |\n",
       "| CEP43  | -2.893 |\n",
       "| PSMD12 | -2.929 |\n",
       "| TUBB2A | -2.933 |\n",
       "| DYNLL1 | -2.939 |\n",
       "| H4C9   | -2.958 |\n",
       "| SEH1L  | -2.963 |\n",
       "| SEH1L  | -2.963 |\n",
       "| PPP2CA | -2.964 |\n",
       "| VPS4A  | -2.986 |\n",
       "| NUP42  | -2.992 |\n",
       "| TUBA3D | -3.137 |\n",
       "| TUBA3D | -3.137 |\n",
       "| PSMF1  | -3.146 |\n",
       "| SMC2   | -3.225 |\n",
       "| TUBB4A | -3.234 |\n",
       "| PSMD2  | -3.336 |\n",
       "| DCTN3  | -3.337 |\n",
       "| CCNB1  | -3.463 |\n",
       "| PSMD4  | -3.712 |\n",
       "\n"
      ],
      "text/plain": [
       "      Gene     Score \n",
       " [1,] SMC1A    2.971 \n",
       " [2,] CEP131   2.834 \n",
       " [3,] STAG2    2.768 \n",
       " [4,] STAG1    2.698 \n",
       " [5,] NUP188   2.654 \n",
       " [6,] NUP107   2.618 \n",
       " [7,] H3-3B    2.471 \n",
       " [8,] NINL     2.406 \n",
       " [9,] HAUS8    2.351 \n",
       "[10,] CAPG     2.235 \n",
       "[11,] NEK8     2.134 \n",
       "[12,] CNTRL    2.044 \n",
       "[13,] TPR      2.043 \n",
       "[14,] NEDD1    2.027 \n",
       "[15,] B9D2     2.007 \n",
       "[16,] PLK1     1.907 \n",
       "[17,] NEK9     1.905 \n",
       "[18,] HAUS2    1.901 \n",
       "[19,] H2AC4    1.763 \n",
       "[20,] AAAS     1.693 \n",
       "[21,] NUP160   1.691 \n",
       "[22,] NDE1     1.688 \n",
       "[23,] ANAPC16  1.678 \n",
       "[24,] BLZF1    1.671 \n",
       "[25,] GORASP1  1.645 \n",
       "[26,] NCAPH    1.612 \n",
       "[27,] PCM1     1.583 \n",
       "[28,] DYNC1LI2 1.564 \n",
       "[29,] H2BC4    1.558 \n",
       "[30,] ALMS1    1.538 \n",
       "[31,] ⋮        ⋮     \n",
       "[32,] PSMB7    -2.683\n",
       "[33,] UBB      -2.695\n",
       "[34,] DCTN1    -2.717\n",
       "[35,] TUBA3C   -2.738\n",
       "[36,] TUBA3C   -2.738\n",
       "[37,] NDEL1    -2.75 \n",
       "[38,] TUBG1    -2.759\n",
       "[39,] TUBB4B   -2.784\n",
       "[40,] YWHAG    -2.802\n",
       "[41,] NCAPH2   -2.843\n",
       "[42,] RAN      -2.858\n",
       "[43,] CEP43    -2.893\n",
       "[44,] PSMD12   -2.929\n",
       "[45,] TUBB2A   -2.933\n",
       "[46,] DYNLL1   -2.939\n",
       "[47,] H4C9     -2.958\n",
       "[48,] SEH1L    -2.963\n",
       "[49,] SEH1L    -2.963\n",
       "[50,] PPP2CA   -2.964\n",
       "[51,] VPS4A    -2.986\n",
       "[52,] NUP42    -2.992\n",
       "[53,] TUBA3D   -3.137\n",
       "[54,] TUBA3D   -3.137\n",
       "[55,] PSMF1    -3.146\n",
       "[56,] SMC2     -3.225\n",
       "[57,] TUBB4A   -3.234\n",
       "[58,] PSMD2    -3.336\n",
       "[59,] DCTN3    -3.337\n",
       "[60,] CCNB1    -3.463\n",
       "[61,] PSMD4    -3.712"
      ]
     },
     "metadata": {},
     "output_type": "display_data"
    }
   ],
   "source": [
    "# Individual gene scores from a gene set analysis\n",
    "# look at 10th gene set\n",
    "GSA.genescores(geneset.number = 10, genesets = genesets, \n",
    "               GSA.obj = GSA.obj, genenames = genenames)"
   ]
  },
  {
   "cell_type": "code",
   "execution_count": 63,
   "id": "dfcb5446-3ef1-4825-aad1-5cd331945c76",
   "metadata": {},
   "outputs": [
    {
     "data": {
      "image/png": "[encoded data removed]",
      "text/plain": [
       "plot without title"
      ]
     },
     "metadata": {
      "image/png": {
       "height": 420,
       "width": 420
      }
     },
     "output_type": "display_data"
    }
   ],
   "source": [
    "# Plot the result, this function makes a plot of the significant gene sets, based on a call to the GSA (Gene set analysis) function.\n",
    "suppressWarnings(GSA.plot(GSA.obj, fac = 1, FDRcut = 0.5))\n"
   ]
  },
  {
   "cell_type": "markdown",
   "id": "36b0036d-b465-4b52-bef0-fa7f39bd40b3",
   "metadata": {},
   "source": [
    "# Enrichment analysis using PADOG\n",
    "\n",
    "Pathway Analysis with Down-weighting of Overlapping Genes (PADOG) is a specialized method for enrichment analysis. Focused on deciphering the functional implications of differentially expressed genes in biological pathways, PADOG uniquely emphasizes the uniqueness of genes. Its down-weighting mechanism enhances precision by addressing challenges posed by overlapping genes, offering valuable insights into specific pathways influenced by gene expression changes.\n",
    "\n",
    "To perform PADOG enrichment analysis, we will use the \"PADOG\" package. We first need to install and load the package."
   ]
  },
  {
   "cell_type": "code",
   "execution_count": 64,
   "id": "b09bba68-4e7e-4259-aa48-52a2c36422b2",
   "metadata": {},
   "outputs": [],
   "source": [
    "suppressWarnings({\n",
    "    suppressMessages({\n",
    "        if (!require(\"BiocManager\", quietly = TRUE)) {\n",
    "            install.packages(\"BiocManager\")\n",
    "        }\n",
    "        BiocManager::install(\"PADOG\")\n",
    "    })\n",
    "})\n",
    "\n",
    "suppressWarnings({suppressMessages({library(PADOG)})})\n"
   ]
  },
  {
   "cell_type": "markdown",
   "id": "cc2a61f8-3108-4e7e-a245-0b5a2d7ec1c0",
   "metadata": {},
   "source": [
    "We will use the `runPadog` function below to perform enrichment analysis using `PADOG` package. This function requires a normalized expression matrix, a gene set to analyze and the group information of the dataset. It will return the analysis results in a dataframe."
   ]
  },
  {
   "cell_type": "code",
   "execution_count": 65,
   "id": "3b3155c3-0883-46b2-bc87-a7386bfd9576",
   "metadata": {},
   "outputs": [],
   "source": [
    "#' @description This function performs enrichment analysis using the PADOG method.\n",
    "#'\n",
    "#' @param exprsData Numeric matrix or matrix-like object containing gene expression data. Rows represent genes, columns represent samples.\n",
    "#' @param geneSet List of gene sets for pathway analysis.\n",
    "#' @param groups Factor indicating sample groups.\n",
    "#' @param perm Number of permutations for assessing significance (default is 100).\n",
    "#' @param seed Seed for reproducibility of permutation results (default is 1).\n",
    "#' @param ncore Number of cores to use for parallel processing (default is 1).\n",
    "#'\n",
    "#' @return A data frame containing pathway IDs and corresponding p-values.\n",
    "\n",
    "runPadog <- function(exprsData, geneSet, groups, perm = 100, seed = 1, ncore = 1) {\n",
    "    # Run PADOG analysis\n",
    "    res <- PADOG::padog(\n",
    "        esetm = as.matrix(exprsData),\n",
    "        group = groups,\n",
    "        gslist = geneSet,\n",
    "        annotation = NULL,\n",
    "        gs.names = names(geneSet),\n",
    "        NI = perm,\n",
    "        plots = FALSE,\n",
    "        targetgs = NULL,\n",
    "        dseed = seed,\n",
    "        parallel = TRUE,\n",
    "        ncr = ncore\n",
    "    )\n",
    "    print(colnames(res))\n",
    "    # Extract relevant columns and rename\n",
    "    res <- res[, c('ID', 'Ppadog')]\n",
    "    colnames(res) <- c(\"pathway\", \"p.value\")\n",
    "    \n",
    "    return(res)\n",
    "}\n"
   ]
  },
  {
   "cell_type": "markdown",
   "id": "cbae06eb-3102-4ff8-8bf4-ad718f0a1d37",
   "metadata": {},
   "source": [
    "## Data Preparation"
   ]
  },
  {
   "cell_type": "markdown",
   "id": "2ec13aac-5cea-4ce4-a469-714d94380a5d",
   "metadata": {},
   "source": [
    "The PADOG method requires inputs that are quite similar to GSA method. Therefore, to perform analysis using PADOG, we will use the previously preprocessed `new_expression_data` dataframe and `groups` information for the GSA method above."
   ]
  },
  {
   "cell_type": "markdown",
   "id": "d28b96e6-84ac-460c-9ff2-8c04f8f45235",
   "metadata": {},
   "source": [
    "### Enrichment analysis using PADOG and GO terms"
   ]
  },
  {
   "cell_type": "code",
   "execution_count": 66,
   "id": "fc66fcc6-1696-4572-826c-1462ba7baf40",
   "metadata": {
    "scrolled": true
   },
   "outputs": [
    {
     "name": "stdout",
     "output_type": "stream",
     "text": [
      "Starting with 6909 gene sets!\n",
      "Analyzing 6909 gene sets with 3 or more genes!\n",
      "# of permutations used: 100 \n",
      "[1] \"Name\"      \"ID\"        \"Size\"      \"meanAbsT0\" \"padog0\"    \"PmeanAbsT\"\n",
      "[7] \"Ppadog\"   \n"
     ]
    },
    {
     "data": {
      "text/html": [
       "<table class=\"dataframe\">\n",
       "<caption>A data.frame: 6 × 2</caption>\n",
       "<thead>\n",
       "\t<tr><th></th><th scope=col>pathway</th><th scope=col>p.value</th></tr>\n",
       "\t<tr><th></th><th scope=col>&lt;chr&gt;</th><th scope=col>&lt;dbl&gt;</th></tr>\n",
       "</thead>\n",
       "<tbody>\n",
       "\t<tr><th scope=row>GO:0065003</th><td>GO:0065003</td><td>1e-04</td></tr>\n",
       "\t<tr><th scope=row>GO:0007005</th><td>GO:0007005</td><td>1e-04</td></tr>\n",
       "\t<tr><th scope=row>GO:0042773</th><td>GO:0042773</td><td>1e-04</td></tr>\n",
       "\t<tr><th scope=row>GO:0042775</th><td>GO:0042775</td><td>1e-04</td></tr>\n",
       "\t<tr><th scope=row>GO:0007007</th><td>GO:0007007</td><td>1e-04</td></tr>\n",
       "\t<tr><th scope=row>GO:0042407</th><td>GO:0042407</td><td>1e-04</td></tr>\n",
       "</tbody>\n",
       "</table>\n"
      ],
      "text/latex": [
       "A data.frame: 6 × 2\n",
       "\\begin{tabular}{r|ll}\n",
       "  & pathway & p.value\\\\\n",
       "  & <chr> & <dbl>\\\\\n",
       "\\hline\n",
       "\tGO:0065003 & GO:0065003 & 1e-04\\\\\n",
       "\tGO:0007005 & GO:0007005 & 1e-04\\\\\n",
       "\tGO:0042773 & GO:0042773 & 1e-04\\\\\n",
       "\tGO:0042775 & GO:0042775 & 1e-04\\\\\n",
       "\tGO:0007007 & GO:0007007 & 1e-04\\\\\n",
       "\tGO:0042407 & GO:0042407 & 1e-04\\\\\n",
       "\\end{tabular}\n"
      ],
      "text/markdown": [
       "\n",
       "A data.frame: 6 × 2\n",
       "\n",
       "| <!--/--> | pathway &lt;chr&gt; | p.value &lt;dbl&gt; |\n",
       "|---|---|---|\n",
       "| GO:0065003 | GO:0065003 | 1e-04 |\n",
       "| GO:0007005 | GO:0007005 | 1e-04 |\n",
       "| GO:0042773 | GO:0042773 | 1e-04 |\n",
       "| GO:0042775 | GO:0042775 | 1e-04 |\n",
       "| GO:0007007 | GO:0007007 | 1e-04 |\n",
       "| GO:0042407 | GO:0042407 | 1e-04 |\n",
       "\n"
      ],
      "text/plain": [
       "           pathway    p.value\n",
       "GO:0065003 GO:0065003 1e-04  \n",
       "GO:0007005 GO:0007005 1e-04  \n",
       "GO:0042773 GO:0042773 1e-04  \n",
       "GO:0042775 GO:0042775 1e-04  \n",
       "GO:0007007 GO:0007007 1e-04  \n",
       "GO:0042407 GO:0042407 1e-04  "
      ]
     },
     "metadata": {},
     "output_type": "display_data"
    }
   ],
   "source": [
    "# Assign the geneset variable to GO_term_hallmark loaded in previous code\n",
    "geneset <- GO_term_hallmark\n",
    "# Perform PADOG enrichment analysis using the runPadog function\n",
    "PADOG_result <- runPadog(exprsData = new_expression_data, geneSet = geneset, \n",
    "                         groups = groups, perm = 100, seed = 1, ncore = 1)\n",
    "\n",
    "head(PADOG_result)"
   ]
  },
  {
   "cell_type": "markdown",
   "id": "60a039b9-b62e-4ab7-be15-656e36118110",
   "metadata": {},
   "source": [
    "### Enrichment analysis using PADOG and KEGG pathways\n",
    "\n",
    "We can use the same procedure to per enrichment analysis with the KEGG pathway. All the codes are similar but the gene set is loaded from `KEGG`. The code is shown below."
   ]
  },
  {
   "cell_type": "code",
   "execution_count": 67,
   "id": "7ff3b556-d4d5-4384-888c-f69f98b79537",
   "metadata": {},
   "outputs": [
    {
     "name": "stdout",
     "output_type": "stream",
     "text": [
      "Starting with 344 gene sets!\n",
      "Analyzing 344 gene sets with 3 or more genes!\n",
      "# of permutations used: 100 \n",
      "[1] \"Name\"      \"ID\"        \"Size\"      \"meanAbsT0\" \"padog0\"    \"PmeanAbsT\"\n",
      "[7] \"Ppadog\"   \n"
     ]
    },
    {
     "data": {
      "text/html": [
       "<table class=\"dataframe\">\n",
       "<caption>A data.frame: 6 × 2</caption>\n",
       "<thead>\n",
       "\t<tr><th></th><th scope=col>pathway</th><th scope=col>p.value</th></tr>\n",
       "\t<tr><th></th><th scope=col>&lt;chr&gt;</th><th scope=col>&lt;dbl&gt;</th></tr>\n",
       "</thead>\n",
       "<tbody>\n",
       "\t<tr><th scope=row>hsa05016</th><td>hsa05016</td><td>1e-04</td></tr>\n",
       "\t<tr><th scope=row>hsa05022</th><td>hsa05022</td><td>1e-04</td></tr>\n",
       "\t<tr><th scope=row>hsa05012</th><td>hsa05012</td><td>1e-04</td></tr>\n",
       "\t<tr><th scope=row>hsa00190</th><td>hsa00190</td><td>1e-04</td></tr>\n",
       "\t<tr><th scope=row>hsa05020</th><td>hsa05020</td><td>1e-04</td></tr>\n",
       "\t<tr><th scope=row>hsa05010</th><td>hsa05010</td><td>1e-04</td></tr>\n",
       "</tbody>\n",
       "</table>\n"
      ],
      "text/latex": [
       "A data.frame: 6 × 2\n",
       "\\begin{tabular}{r|ll}\n",
       "  & pathway & p.value\\\\\n",
       "  & <chr> & <dbl>\\\\\n",
       "\\hline\n",
       "\thsa05016 & hsa05016 & 1e-04\\\\\n",
       "\thsa05022 & hsa05022 & 1e-04\\\\\n",
       "\thsa05012 & hsa05012 & 1e-04\\\\\n",
       "\thsa00190 & hsa00190 & 1e-04\\\\\n",
       "\thsa05020 & hsa05020 & 1e-04\\\\\n",
       "\thsa05010 & hsa05010 & 1e-04\\\\\n",
       "\\end{tabular}\n"
      ],
      "text/markdown": [
       "\n",
       "A data.frame: 6 × 2\n",
       "\n",
       "| <!--/--> | pathway &lt;chr&gt; | p.value &lt;dbl&gt; |\n",
       "|---|---|---|\n",
       "| hsa05016 | hsa05016 | 1e-04 |\n",
       "| hsa05022 | hsa05022 | 1e-04 |\n",
       "| hsa05012 | hsa05012 | 1e-04 |\n",
       "| hsa00190 | hsa00190 | 1e-04 |\n",
       "| hsa05020 | hsa05020 | 1e-04 |\n",
       "| hsa05010 | hsa05010 | 1e-04 |\n",
       "\n"
      ],
      "text/plain": [
       "         pathway  p.value\n",
       "hsa05016 hsa05016 1e-04  \n",
       "hsa05022 hsa05022 1e-04  \n",
       "hsa05012 hsa05012 1e-04  \n",
       "hsa00190 hsa00190 1e-04  \n",
       "hsa05020 hsa05020 1e-04  \n",
       "hsa05010 hsa05010 1e-04  "
      ]
     },
     "metadata": {},
     "output_type": "display_data"
    }
   ],
   "source": [
    "# Assign the geneset variable to KEGG_hallmark loaded in previous code\n",
    "geneset <- KEGG_hallmark\n",
    "# Perform PADOG enrichment analysis using the runPadog function\n",
    "PADOG_result <- runPadog(exprsData = new_expression_data, geneSet = geneset, \n",
    "                         groups = groups, perm = 100, seed = 1, ncore = 1)\n",
    "\n",
    "head(PADOG_result)"
   ]
  },
  {
   "cell_type": "markdown",
   "id": "c29ad340-33ee-4a39-a8ae-cd7aa05926bc",
   "metadata": {},
   "source": [
    "### Enrichment analysis using PADOG and REACTOME pathways\n",
    "\n",
    "We can use the same procedure to per enrichment analysis with the KEGG pathway. All the codes are similar but the gene set is loaded from `REACTOME`."
   ]
  },
  {
   "cell_type": "code",
   "execution_count": 68,
   "id": "c2b0002b-3c8e-4b7f-91f8-d2198e785100",
   "metadata": {},
   "outputs": [
    {
     "name": "stdout",
     "output_type": "stream",
     "text": [
      "Starting with 2673 gene sets!\n",
      "Analyzing 2234 gene sets with 3 or more genes!\n",
      "# of permutations used: 100 \n",
      "[1] \"Name\"      \"ID\"        \"Size\"      \"meanAbsT0\" \"padog0\"    \"PmeanAbsT\"\n",
      "[7] \"Ppadog\"   \n"
     ]
    },
    {
     "data": {
      "text/html": [
       "<table class=\"dataframe\">\n",
       "<caption>A data.frame: 6 × 2</caption>\n",
       "<thead>\n",
       "\t<tr><th></th><th scope=col>pathway</th><th scope=col>p.value</th></tr>\n",
       "\t<tr><th></th><th scope=col>&lt;chr&gt;</th><th scope=col>&lt;dbl&gt;</th></tr>\n",
       "</thead>\n",
       "<tbody>\n",
       "\t<tr><th scope=row>R-HSA-210747</th><td>R-HSA-210747 </td><td>1e-04</td></tr>\n",
       "\t<tr><th scope=row>R-HSA-1428517</th><td>R-HSA-1428517</td><td>1e-04</td></tr>\n",
       "\t<tr><th scope=row>R-HSA-210744</th><td>R-HSA-210744 </td><td>1e-04</td></tr>\n",
       "\t<tr><th scope=row>R-HSA-444411</th><td>R-HSA-444411 </td><td>1e-04</td></tr>\n",
       "\t<tr><th scope=row>R-HSA-1852241</th><td>R-HSA-1852241</td><td>1e-04</td></tr>\n",
       "\t<tr><th scope=row>R-HSA-5617833</th><td>R-HSA-5617833</td><td>1e-04</td></tr>\n",
       "</tbody>\n",
       "</table>\n"
      ],
      "text/latex": [
       "A data.frame: 6 × 2\n",
       "\\begin{tabular}{r|ll}\n",
       "  & pathway & p.value\\\\\n",
       "  & <chr> & <dbl>\\\\\n",
       "\\hline\n",
       "\tR-HSA-210747 & R-HSA-210747  & 1e-04\\\\\n",
       "\tR-HSA-1428517 & R-HSA-1428517 & 1e-04\\\\\n",
       "\tR-HSA-210744 & R-HSA-210744  & 1e-04\\\\\n",
       "\tR-HSA-444411 & R-HSA-444411  & 1e-04\\\\\n",
       "\tR-HSA-1852241 & R-HSA-1852241 & 1e-04\\\\\n",
       "\tR-HSA-5617833 & R-HSA-5617833 & 1e-04\\\\\n",
       "\\end{tabular}\n"
      ],
      "text/markdown": [
       "\n",
       "A data.frame: 6 × 2\n",
       "\n",
       "| <!--/--> | pathway &lt;chr&gt; | p.value &lt;dbl&gt; |\n",
       "|---|---|---|\n",
       "| R-HSA-210747 | R-HSA-210747  | 1e-04 |\n",
       "| R-HSA-1428517 | R-HSA-1428517 | 1e-04 |\n",
       "| R-HSA-210744 | R-HSA-210744  | 1e-04 |\n",
       "| R-HSA-444411 | R-HSA-444411  | 1e-04 |\n",
       "| R-HSA-1852241 | R-HSA-1852241 | 1e-04 |\n",
       "| R-HSA-5617833 | R-HSA-5617833 | 1e-04 |\n",
       "\n"
      ],
      "text/plain": [
       "              pathway       p.value\n",
       "R-HSA-210747  R-HSA-210747  1e-04  \n",
       "R-HSA-1428517 R-HSA-1428517 1e-04  \n",
       "R-HSA-210744  R-HSA-210744  1e-04  \n",
       "R-HSA-444411  R-HSA-444411  1e-04  \n",
       "R-HSA-1852241 R-HSA-1852241 1e-04  \n",
       "R-HSA-5617833 R-HSA-5617833 1e-04  "
      ]
     },
     "metadata": {},
     "output_type": "display_data"
    }
   ],
   "source": [
    "# Assign the geneset variable to KEGG_hallmark loaded in previous code\n",
    "geneset <- REACTOME_hallmark\n",
    "# Perform PADOG enrichment analysis using the runPadog function\n",
    "PADOG_result <- runPadog(exprsData = new_expression_data, geneSet = geneset, \n",
    "                         groups = groups, perm = 100, seed = 1, ncore = 1)\n",
    "\n",
    "head(PADOG_result)"
   ]
  },
  {
   "cell_type": "markdown",
   "id": "49fd3929-7d2e-401d-93c6-24572bec35f6",
   "metadata": {},
   "source": [
    "The next submodule will go indepth about meta analysis."
   ]
  },
  {
   "cell_type": "code",
   "execution_count": 69,
   "id": "e870e8eb-ee47-439b-8154-0a720927bd79",
   "metadata": {},
   "outputs": [
    {
     "data": {
      "text/plain": [
       "R version 4.3.2 (2023-10-31)\n",
       "Platform: x86_64-apple-darwin20 (64-bit)\n",
       "Running under: macOS Ventura 13.6.3\n",
       "\n",
       "Matrix products: default\n",
       "BLAS:   /Library/Frameworks/R.framework/Versions/4.3-x86_64/Resources/lib/libRblas.0.dylib \n",
       "LAPACK: /Library/Frameworks/R.framework/Versions/4.3-x86_64/Resources/lib/libRlapack.dylib;  LAPACK version 3.11.0\n",
       "\n",
       "locale:\n",
       "[1] en_US.UTF-8/en_US.UTF-8/en_US.UTF-8/C/en_US.UTF-8/en_US.UTF-8\n",
       "\n",
       "time zone: America/Chicago\n",
       "tzcode source: internal\n",
       "\n",
       "attached base packages:\n",
       "[1] stats     graphics  grDevices utils     datasets  methods   base     \n",
       "\n",
       "other attached packages:\n",
       "[1] PADOG_1.44.0             Biobase_2.62.0           BiocGenerics_0.48.1     \n",
       "[4] KEGGdzPathwaysGEO_1.40.0 GSA_1.03.2               fgsea_1.28.0            \n",
       "[7] BiocManager_1.30.22     \n",
       "\n",
       "loaded via a namespace (and not attached):\n",
       " [1] tidyselect_1.2.0        IRdisplay_1.1           dplyr_1.1.4            \n",
       " [4] farver_2.1.1            blob_1.2.4              Biostrings_2.70.1      \n",
       " [7] bitops_1.0-7            fastmap_1.1.1           RCurl_1.98-1.14        \n",
       "[10] digest_0.6.33           lifecycle_1.0.4         statmod_1.5.0          \n",
       "[13] KEGGREST_1.42.0         RSQLite_2.3.4           magrittr_2.0.3         \n",
       "[16] compiler_4.3.2          rlang_1.1.2             rngtools_1.5.2         \n",
       "[19] tools_4.3.2             utf8_1.2.4              data.table_1.14.10     \n",
       "[22] labeling_0.4.3          doRNG_1.8.6             bit_4.0.5              \n",
       "[25] repr_1.1.6              BiocParallel_1.36.0     pbdZMQ_0.3-10          \n",
       "[28] withr_2.5.2             hgu133a.db_3.13.0       grid_4.3.2             \n",
       "[31] stats4_4.3.2            fansi_1.0.6             colorspace_2.1-0       \n",
       "[34] ggplot2_3.4.4           scales_1.3.0            iterators_1.0.14       \n",
       "[37] cli_3.6.2               crayon_1.5.2            generics_0.1.3         \n",
       "[40] httr_1.4.7              DBI_1.2.0               cachem_1.0.8           \n",
       "[43] zlibbioc_1.48.0         parallel_4.3.2          AnnotationDbi_1.64.1   \n",
       "[46] XVector_0.42.0          base64enc_0.1-3         vctrs_0.6.5            \n",
       "[49] Matrix_1.6-1.1          jsonlite_1.8.8          IRanges_2.36.0         \n",
       "[52] S4Vectors_0.40.2        bit64_4.0.5             foreach_1.5.2          \n",
       "[55] limma_3.58.1            glue_1.6.2              codetools_0.2-19       \n",
       "[58] cowplot_1.1.2           gtable_0.3.4            GenomeInfoDb_1.38.5    \n",
       "[61] munsell_0.5.0           tibble_3.2.1            pillar_1.9.0           \n",
       "[64] htmltools_0.5.7         IRkernel_1.3.2          GenomeInfoDbData_1.2.11\n",
       "[67] R6_2.5.1                doParallel_1.0.17       evaluate_0.23          \n",
       "[70] lattice_0.21-9          hgu133plus2.db_3.13.0   png_0.1-8              \n",
       "[73] memoise_2.0.1           Rcpp_1.0.11             uuid_1.1-1             \n",
       "[76] fastmatch_1.1-4         nlme_3.1-163            pkgconfig_2.0.3        "
      ]
     },
     "metadata": {},
     "output_type": "display_data"
    }
   ],
   "source": [
    "sessionInfo()"
   ]
  },
  {
   "cell_type": "code",
   "execution_count": null,
   "id": "ca1ba4ed-3e1c-4d5a-8554-40703527a4d5",
   "metadata": {},
   "outputs": [],
   "source": []
  },
  {
   "cell_type": "code",
   "execution_count": null,
   "id": "15f0ff04-d286-4689-8844-e0f8c570f63d",
   "metadata": {},
   "outputs": [],
   "source": []
  }
 ],
 "metadata": {
  "celltoolbar": "Tags",
  "environment": {
   "kernel": "ir",
   "name": "r-cpu.4-2.m107",
   "type": "gcloud",
   "uri": "gcr.io/deeplearning-platform-release/r-cpu.4-2:m107"
  },
  "kernelspec": {
   "display_name": "R",
   "language": "R",
   "name": "ir"
  },
  "language_info": {
   "codemirror_mode": "r",
   "file_extension": ".r",
   "mimetype": "text/x-r-source",
   "name": "R",
   "pygments_lexer": "r",
   "version": "4.3.2"
  },
  "toc-showcode": true,
  "widgets": {
   "application/vnd.jupyter.widget-state+json": {
    "state": {},
    "version_major": 2,
    "version_minor": 0
   }
  }
 },
 "nbformat": 4,
 "nbformat_minor": 5
}
