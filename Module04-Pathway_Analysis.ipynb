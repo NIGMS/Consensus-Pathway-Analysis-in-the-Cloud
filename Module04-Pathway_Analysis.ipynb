{
 "cells": [
  {
   "cell_type": "markdown",
   "id": "d3716dad",
   "metadata": {},
   "source": [
    "# Enrichment Analysis\n",
    "![](./images/Module4/PathwayAnalysis.jpg)\n",
    "\n",
    "Enrichment analysis (EA) is a technique used to derive biological insight from lists of significantly altered genes. The list of genes can be obtained from Differential Expression (DE) analysis or users' interest. The EA methods rely on the knowledge databases (e.g. KEGG, GO, ...) to identify biological pathways or terms that are enriched in a gene list more than would be expected by chance. The outcome of the EA would be the in-depth and contextualized findings to help understand the mechanisms of disease, genes and proteins associated with the etiology of a specific disease or drug target.\n",
    "\n",
    "Over more than a decade, there are over 50 methods have been developed for EA. In this module, we will focus on pathway analysis using popular methods including Over Representation Analysis (ORA), Correlation Adjusted MEan RAnk (CAMERA), Kolmogorov-Smirnov (KS) test, Wilcoxon test, Fast Gene Set Enrichment Analysis (FGSEA), Gene Set Analysis (GSA), Significance Analysis of Function and Expression (SAFE), and Pathway Analysis with Down-weighting of Overlapping Genes (PADOG).\n",
    "\n",
    "## Learning Objectives\n",
    "1. Data preparation\n",
    "2. Perform enrichment analysis using ORA, CAMERA, KS, Wilcoxon, FGSEA, GSA, SAFE, and PADOG\n",
    "3. Visualize and interpret the outputs\n",
    "\n",
    "## Necessary Files\n",
    "In this submodule, users will have to provide the following inputs: \n",
    "- (1) Gene expression/count matrix in which, rows are genes and columns are samples and a differential analysis result, also in the form of a matrix. We recommend using gene ID as gene SYMBOL. If users use other different gene ID types, please refer to [our first submodule](./Module01-Data_Preparation.ipynb). \n",
    "for the instructions for gene mapping.\n",
    "- (2) A table of sample information that has at least two columns: sample ID that matched the columns of the first input, and sample condition (e.g, control or disease)\n",
    "- (3) A list of gene sets to used for the enrichment analysis. Please check out our [previous submodule](./Module01-Data_Preparation.ipynb) for more information of the format for the gene sets.\n",
    "\n",
    "If users have been following our learning submodules, they only need to use the code available in the previous module to download the data from Google Cloud Bucket and load it for the analyses.\n",
    "\n",
    "### Table of Contents\n",
    "\n",
    "1. [Enrichment Analysis Using Over-Representation Analysis](#ora-main)\n",
    "2. [Enrichment analysis using CAMERA](#camera-main)\n",
    "3. [Enrichment analysis using KS and Wilcoxon test](#ks-main)\n",
    "4. [Enrichment Analysis using FGSEA](#fgsea-main)\n",
    "5. [Enrichment Analysis using GSA](#gsa-main)\n",
    "6. [Enrichment analysis using SAFE](#safe-main)\n",
    "7. [Enrichment analysis using PADOG](#padog-main)\n",
    "\n"
   ]
  },
  {
   "cell_type": "code",
   "execution_count": 84,
   "id": "37ff2142-8b48-4250-bb3b-b47175b79f9c",
   "metadata": {},
   "outputs": [
    {
     "data": {
      "text/html": [
       "<iframe src=\"./Quizzes/Quiz_Submodule4-1.html\" width=100% height=250></iframe>"
      ]
     },
     "metadata": {},
     "output_type": "display_data"
    }
   ],
   "source": [
    "IRdisplay::display_html('<iframe src=\"./Quizzes/Quiz_Submodule4-1.html\" width=100% height=250></iframe>')"
   ]
  },
  {
   "cell_type": "markdown",
   "id": "556fb77f-6f07-4110-bb15-23814624d725",
   "metadata": {},
   "source": [
    "### Data downloading\n",
    "In this submodule, we will use the DE genes of `limma` analysis result of the `GSE5281` dataset from [**submodule 02** ](./Module02-DE_Analysis.ipynb) and the `.gmt` files containing GO terms, KEGG pathways, REACTOME pathways gene sets created in [**submodule 03** ](./Module03-Gene_Set_and_Pathway.ipynb) for performing enrichment analysis.\n",
    "We can use the following command to download the data from Google Cloud Bucket."
   ]
  },
  {
   "cell_type": "code",
   "execution_count": 85,
   "id": "71e404e8-1c47-49f1-a5e0-014bd63100e2",
   "metadata": {},
   "outputs": [
    {
     "name": "stderr",
     "output_type": "stream",
     "text": [
      "Warning message in system(\"gsutil cp gs://ccpa_bucket/GSE48350.rds ./data/\"):\n",
      "“error in running command”\n",
      "Warning message in system(\"gsutil cp gs://ccpa_bucket/GO_terms.gmt ./data/\"):\n",
      "“error in running command”\n",
      "Warning message in system(\"gsutil cp gs://ccpa_bucket/KEGG_pathways.gmt ./data/\"):\n",
      "“error in running command”\n",
      "Warning message in system(\"gsutil cp gs://ccpa_bucket/REACTOME_pathways.gmt ./data/\"):\n",
      "“error in running command”\n"
     ]
    }
   ],
   "source": [
    "# Download the GSE48350.rds file to the \"data\" folder in current directory\n",
    "system(\"gsutil cp gs://ccpa_bucket/GSE5281.rds ./data/\")\n",
    "\n",
    "# Download the GO_terms.gmt, KEGG_pathways.gmt, REACTOME_pathways.gmt files to the \"data\" folder in current directory\n",
    "system(\"gsutil cp gs://ccpa_bucket/GO_terms.gmt ./data/\")\n",
    "system(\"gsutil cp gs://ccpa_bucket/KEGG_pathways.gmt ./data/\")\n",
    "system(\"gsutil cp gs://ccpa_bucket/REACTOME_pathways.gmt ./data/\")"
   ]
  },
  {
   "cell_type": "markdown",
   "id": "3f600b3d-f556-4466-a9cd-195f4ce6be64",
   "metadata": {},
   "source": [
    "We can now load the DE analysis result using the following commands."
   ]
  },
  {
   "cell_type": "code",
   "execution_count": 49,
   "id": "5c0da12c",
   "metadata": {},
   "outputs": [
    {
     "data": {
      "text/html": [
       "<style>\n",
       ".list-inline {list-style: none; margin:0; padding: 0}\n",
       ".list-inline>li {display: inline-block}\n",
       ".list-inline>li:not(:last-child)::after {content: \"\\00b7\"; padding: 0 .5ex}\n",
       "</style>\n",
       "<ol class=list-inline><li>'expression_data'</li><li>'samples'</li><li>'genes'</li><li>'limma_results'</li><li>'tTest_results'</li><li>'edgeR_results'</li><li>'deseq2_results'</li></ol>\n"
      ],
      "text/latex": [
       "\\begin{enumerate*}\n",
       "\\item 'expression\\_data'\n",
       "\\item 'samples'\n",
       "\\item 'genes'\n",
       "\\item 'limma\\_results'\n",
       "\\item 'tTest\\_results'\n",
       "\\item 'edgeR\\_results'\n",
       "\\item 'deseq2\\_results'\n",
       "\\end{enumerate*}\n"
      ],
      "text/markdown": [
       "1. 'expression_data'\n",
       "2. 'samples'\n",
       "3. 'genes'\n",
       "4. 'limma_results'\n",
       "5. 'tTest_results'\n",
       "6. 'edgeR_results'\n",
       "7. 'deseq2_results'\n",
       "\n",
       "\n"
      ],
      "text/plain": [
       "[1] \"expression_data\" \"samples\"         \"genes\"           \"limma_results\"  \n",
       "[5] \"tTest_results\"   \"edgeR_results\"   \"deseq2_results\" "
      ]
     },
     "metadata": {},
     "output_type": "display_data"
    },
    {
     "data": {
      "text/html": [
       "<table class=\"dataframe\">\n",
       "<caption>A data.frame: 6 × 6</caption>\n",
       "<thead>\n",
       "\t<tr><th></th><th scope=col>SYMBOL</th><th scope=col>p.value</th><th scope=col>pFDR</th><th scope=col>statistic</th><th scope=col>logFC</th><th scope=col>avgExpr</th></tr>\n",
       "\t<tr><th></th><th scope=col>&lt;chr&gt;</th><th scope=col>&lt;dbl&gt;</th><th scope=col>&lt;dbl&gt;</th><th scope=col>&lt;dbl&gt;</th><th scope=col>&lt;dbl&gt;</th><th scope=col>&lt;dbl&gt;</th></tr>\n",
       "</thead>\n",
       "<tbody>\n",
       "\t<tr><th scope=row>TUBB</th><td>TUBB   </td><td>1.432179e-22</td><td>3.177289e-18</td><td>-11.36377</td><td>-1.631276</td><td> 9.123189</td></tr>\n",
       "\t<tr><th scope=row>PSMB3</th><td>PSMB3  </td><td>2.388997e-21</td><td>1.829653e-17</td><td>-10.92825</td><td>-1.408793</td><td> 8.736749</td></tr>\n",
       "\t<tr><th scope=row>TUBB4B</th><td>TUBB4B </td><td>2.474176e-21</td><td>1.829653e-17</td><td>-10.92281</td><td>-1.726316</td><td>10.297977</td></tr>\n",
       "\t<tr><th scope=row>SLC35E1</th><td>SLC35E1</td><td>7.401763e-21</td><td>4.105203e-17</td><td> 10.75253</td><td> 1.627450</td><td>11.470567</td></tr>\n",
       "\t<tr><th scope=row>ATP5F1C</th><td>ATP5F1C</td><td>9.950015e-21</td><td>4.414822e-17</td><td>-10.70648</td><td>-1.881757</td><td>10.012823</td></tr>\n",
       "\t<tr><th scope=row>ATP5F1B</th><td>ATP5F1B</td><td>2.802296e-20</td><td>1.036149e-16</td><td>-10.54504</td><td>-1.616196</td><td>10.576243</td></tr>\n",
       "</tbody>\n",
       "</table>\n"
      ],
      "text/latex": [
       "A data.frame: 6 × 6\n",
       "\\begin{tabular}{r|llllll}\n",
       "  & SYMBOL & p.value & pFDR & statistic & logFC & avgExpr\\\\\n",
       "  & <chr> & <dbl> & <dbl> & <dbl> & <dbl> & <dbl>\\\\\n",
       "\\hline\n",
       "\tTUBB & TUBB    & 1.432179e-22 & 3.177289e-18 & -11.36377 & -1.631276 &  9.123189\\\\\n",
       "\tPSMB3 & PSMB3   & 2.388997e-21 & 1.829653e-17 & -10.92825 & -1.408793 &  8.736749\\\\\n",
       "\tTUBB4B & TUBB4B  & 2.474176e-21 & 1.829653e-17 & -10.92281 & -1.726316 & 10.297977\\\\\n",
       "\tSLC35E1 & SLC35E1 & 7.401763e-21 & 4.105203e-17 &  10.75253 &  1.627450 & 11.470567\\\\\n",
       "\tATP5F1C & ATP5F1C & 9.950015e-21 & 4.414822e-17 & -10.70648 & -1.881757 & 10.012823\\\\\n",
       "\tATP5F1B & ATP5F1B & 2.802296e-20 & 1.036149e-16 & -10.54504 & -1.616196 & 10.576243\\\\\n",
       "\\end{tabular}\n"
      ],
      "text/markdown": [
       "\n",
       "A data.frame: 6 × 6\n",
       "\n",
       "| <!--/--> | SYMBOL &lt;chr&gt; | p.value &lt;dbl&gt; | pFDR &lt;dbl&gt; | statistic &lt;dbl&gt; | logFC &lt;dbl&gt; | avgExpr &lt;dbl&gt; |\n",
       "|---|---|---|---|---|---|---|\n",
       "| TUBB | TUBB    | 1.432179e-22 | 3.177289e-18 | -11.36377 | -1.631276 |  9.123189 |\n",
       "| PSMB3 | PSMB3   | 2.388997e-21 | 1.829653e-17 | -10.92825 | -1.408793 |  8.736749 |\n",
       "| TUBB4B | TUBB4B  | 2.474176e-21 | 1.829653e-17 | -10.92281 | -1.726316 | 10.297977 |\n",
       "| SLC35E1 | SLC35E1 | 7.401763e-21 | 4.105203e-17 |  10.75253 |  1.627450 | 11.470567 |\n",
       "| ATP5F1C | ATP5F1C | 9.950015e-21 | 4.414822e-17 | -10.70648 | -1.881757 | 10.012823 |\n",
       "| ATP5F1B | ATP5F1B | 2.802296e-20 | 1.036149e-16 | -10.54504 | -1.616196 | 10.576243 |\n",
       "\n"
      ],
      "text/plain": [
       "        SYMBOL  p.value      pFDR         statistic logFC     avgExpr  \n",
       "TUBB    TUBB    1.432179e-22 3.177289e-18 -11.36377 -1.631276  9.123189\n",
       "PSMB3   PSMB3   2.388997e-21 1.829653e-17 -10.92825 -1.408793  8.736749\n",
       "TUBB4B  TUBB4B  2.474176e-21 1.829653e-17 -10.92281 -1.726316 10.297977\n",
       "SLC35E1 SLC35E1 7.401763e-21 4.105203e-17  10.75253  1.627450 11.470567\n",
       "ATP5F1C ATP5F1C 9.950015e-21 4.414822e-17 -10.70648 -1.881757 10.012823\n",
       "ATP5F1B ATP5F1B 2.802296e-20 1.036149e-16 -10.54504 -1.616196 10.576243"
      ]
     },
     "metadata": {},
     "output_type": "display_data"
    }
   ],
   "source": [
    "# Load previously saved data\n",
    "data <- readRDS(\"./data/GSE5281.rds\")\n",
    "# To see what are available in data\n",
    "names(data)\n",
    "DE.df <- data$limma_results\n",
    "# Print some first row of the differential analysis result\n",
    "head(DE.df)"
   ]
  },
  {
   "cell_type": "markdown",
   "id": "8538d33d",
   "metadata": {},
   "source": [
    "<!-- headings -->\n",
    "<a id=\"ora-main\"></a>\n",
    "## 1. Enrichment Analysis Using Over-Representation Analysis\n",
    "Over-representation analysis (ORA) is a statistical method that determines whether genes from a pre-defined gene set of a specific GO term or KEGG pathway are presented more than would be expected (over-represented) in a subset of your data. In our learning module, this subset refers to the list of DE genes generated from the `limma` method. For each gene set, an enrichment *p-value* is calculated using the Binomial distribution, Hypergeometric distribution, the Fisher exact test, or the Chi-square test.  The hypergeometric distribution is a popular approach used to calculate enrichment p-value. The formula can be presented as follows:"
   ]
  },
  {
   "cell_type": "markdown",
   "id": "eca231f2",
   "metadata": {},
   "source": [
    "$$\n",
    "     P(X\\geq x) = 1 - P(X \\leq x-1) = 1 - \\sum\\limits_{i=0}^{x-1}\\frac{\\hphantom{}{M \\choose i }{N - M \\choose n-i}}{N \\choose n}\n",
    "$$"
   ]
  },
  {
   "cell_type": "markdown",
   "id": "1c18d887",
   "metadata": {},
   "source": [
    "where *N* is the number of background genes (all genes presented in the expression matrix), *n* is the number of “interesting” genes (DE genes), *M* is the number of genes that are annotated to a particular gene set *S* (list of genes in a specific KEGG pathway or GO term), and *x* is the number of “interesting” genes that are annotated to *S* (genes presented in DE genes list and a specific KEGG pathway or GO term)."
   ]
  },
  {
   "cell_type": "markdown",
   "id": "ccade46c",
   "metadata": {},
   "source": [
    "For example, suppose we have an expression matrix with 20,000 genes, of which 500 are differently expressed. Also, suppose that 100 of the 20,000 genes are annotated to a particular gene set S. Of these 100 genes, 20 are members of the DE genes list. The probability that 20 or more (up to 100) genes annotated to S are in the DE genes list by chance is given by"
   ]
  },
  {
   "cell_type": "markdown",
   "id": "ed50cd53",
   "metadata": {},
   "source": [
    "$$\n",
    "P(X\\geq 20) = 1 - P(X \\leq 19) = 1-\\sum \\limits_{i=0}^{19}\\frac{\\hphantom{}{100 \\choose i}{20000 - 100 \\choose 500-i}}{20000 \\choose 500} = 5.26 \\times 10^{-13}\n",
    "$$"
   ]
  },
  {
   "cell_type": "markdown",
   "id": "b2e2d72e",
   "metadata": {},
   "source": [
    "The *p-value* indicates that it is very rare to observe 20 of the 100 genes from this set are in the DE genes list by chance."
   ]
  },
  {
   "cell_type": "code",
   "execution_count": 7,
   "id": "2b0be768-1749-4752-b31f-bf5818b33be5",
   "metadata": {},
   "outputs": [
    {
     "data": {
      "text/html": [
       "<iframe src=\"./Quizzes/Quiz_Submodule4-2.html\" width=100% height=250></iframe>"
      ]
     },
     "metadata": {},
     "output_type": "display_data"
    }
   ],
   "source": [
    "IRdisplay::display_html('<iframe src=\"./Quizzes/Quiz_Submodule4-2.html\" width=100% height=250></iframe>')"
   ]
  },
  {
   "cell_type": "markdown",
   "id": "e332d07b",
   "metadata": {},
   "source": [
    "### Data preparation\n",
    "To conduct enrichment analysis using ORA, there are several input data that we need to prepare. First, we need to select a set of genes that\n",
    "are significantly altered (*p-value < 0.05*) in the DE genes generated from the `limma` method."
   ]
  },
  {
   "cell_type": "code",
   "execution_count": 8,
   "id": "b1b28353",
   "metadata": {},
   "outputs": [],
   "source": [
    "# Selecting a list of significant DE genes\n",
    "DEGenes <- DE.df[DE.df$pFDR <= 0.05, ]\n",
    "# Select the remaining genes \n",
    "DEGenes <- DEGenes$SYMBOL"
   ]
  },
  {
   "cell_type": "markdown",
   "id": "f0d9f75f",
   "metadata": {},
   "source": [
    "Next, we need to define a list of background genes. In this analysis, they are all the genes generated from the DE analysis."
   ]
  },
  {
   "cell_type": "code",
   "execution_count": 9,
   "id": "303d3696",
   "metadata": {},
   "outputs": [],
   "source": [
    "# Defining background genes\n",
    "backgroundSet <- DE.df$SYMBOL"
   ]
  },
  {
   "cell_type": "markdown",
   "id": "5f19e685",
   "metadata": {},
   "source": [
    "Then, we need to obtain a list of geneset from knowledge databases such as GO and KEGG. In this learning module, the geneset will be retrieved from\n",
    "the *.gmt* files that were processed from the [**submodule 03**](./Module03-Gene_Set_and_Pathway.ipynb). To load the geneset, we will use the `gmt2geneset` function below:"
   ]
  },
  {
   "cell_type": "code",
   "execution_count": 10,
   "id": "348c3154-cffb-4586-ab59-51845f4c6a19",
   "metadata": {},
   "outputs": [],
   "source": [
    "#' @description This function read a GMT file to a gene sets list in R\n",
    "#'\n",
    "#' @param path The file path to the GMT file.\n",
    "#' @return A list containing the gene sets extracted from the GMT file.\n",
    "\n",
    "gmt2geneset <- function(path) {\n",
    "    # Read the lines from the file\n",
    "    lines <- readLines(path, warn = FALSE)\n",
    "\n",
    "    # Split each line into fields\n",
    "    gmt_data <- strsplit(lines, \"\\t\")\n",
    "\n",
    "    # Process each line and extract gene sets\n",
    "    gene_sets <- lapply(gmt_data, function(line) {\n",
    "        gene_set_name <- line[1]\n",
    "        description <- line[2]\n",
    "        genes <- line[-c(1, 2)]  # Exclude the first two elements (name and description)\n",
    "\n",
    "        list(\n",
    "            pathwayID = gene_set_name,\n",
    "            description = description,\n",
    "            genes = genes\n",
    "        )\n",
    "    })\n",
    "    # Convert list of gene sets to a named list\n",
    "    gs <- lapply(gene_sets, function(g) g$genes)\n",
    "    names(gs) <- lapply(gene_sets, function(g) g$pathwayID)\n",
    "\n",
    "    return(gs)\n",
    "}"
   ]
  },
  {
   "cell_type": "markdown",
   "id": "0042697a",
   "metadata": {},
   "source": [
    "Here, we also use a function called `runORA` to perform over-representation analysis based on the hyper-geometric testing formula presented above.\n",
    "It requires a list of gene sets (E.g. GO terms, KEGG, REACTOME, ...), a dataframe containing results of a DE analysis method and a p-value threshold for a gene to be considered differentially expressed. The `ORA` method will perform hyper-geometric testing for each geneset obtained from GO or KEGG using the function `phyper` available for the `stats` R base package. The output of the `.runORA` function is a table that contains a column of terms or pathway names and a column of *p-value*."
   ]
  },
  {
   "cell_type": "code",
   "execution_count": 11,
   "id": "d809f4b3",
   "metadata": {},
   "outputs": [],
   "source": [
    "#' @description This function performs gene set analysis based on ORA (Over Representation Analysis).\n",
    "#'\n",
    "#' @param DE_data The generated SummarizedExpriment object from DE analysis result.\n",
    "#' @param genesets The gene to use for the analysis, e.g. KEGG gene sets from gmt2geneset function.\n",
    "#' @param pThreshold The p.value cutoff threshold.\n",
    "#' @return A dataframe of geneset analysis results\n",
    "\n",
    "runORA <- function(DE_data, genesets, pThreshold = 0.05) {    \n",
    "    # Check if DE_data is not null and has dimensions\n",
    "    if (is.null(DE_data) |\n",
    "        dim(DE_data)[1] == 0 |\n",
    "        dim(DE_data)[2] == 0) {\n",
    "        stop(\"No differential analysis data is in input data.\")\n",
    "    }\n",
    "\n",
    "    # Extract genes with p-values below the threshold\n",
    "    DE.genes <- rownames(DE_data[DE_data$p.value <= pThreshold, ])\n",
    "        \n",
    "    # All genes in the background\n",
    "    background.genes <- rownames(DE_data)\n",
    "\n",
    "    # Calculate the overlap between genesets and background genes\n",
    "    GSOverlap <- sapply(genesets, function(gs) length(intersect(gs, background.genes)))\n",
    "    # Calculate the overlap between genesets and differentially expressed genes\n",
    "    DEOverlap <- sapply(genesets, function(gs) length(intersect(gs, DE.genes)))\n",
    "    # Calculate the number of non-differentially expressed genes in the background\n",
    "    NoneDEInBackground <- length(background.genes) - length(DE.genes)\n",
    "    # Calculate the expected overlap by chance\n",
    "    Expected <- GSOverlap * length(DE.genes) / length(background.genes)\n",
    "\n",
    "    # Calculate p-values using hypergeometric distribution\n",
    "    pvals <- 1 - phyper(DEOverlap - 1, length(DE.genes), NoneDEInBackground, GSOverlap)\n",
    "    # Calculate Enrichment Score (ES)\n",
    "    ES <- log2(DEOverlap / Expected)\n",
    "\n",
    "    # Create a dataframe with results\n",
    "    result_df <- data.frame(\n",
    "        ID = names(genesets),\n",
    "        p.value = pvals,\n",
    "        score = ES,\n",
    "        normalizedScore = ES, # For now, normalized score is the same as ES\n",
    "        stringsAsFactors = FALSE\n",
    "    )\n",
    "\n",
    "    return(result_df)\n",
    "}\n"
   ]
  },
  {
   "cell_type": "markdown",
   "id": "dedfa2a3",
   "metadata": {},
   "source": [
    "### Enrichment analysis using ORA and GO terms\n",
    "In this section, we will perform ORA using the list of gene sets obtained from the GO database and the function `ORA` defined above. The detailed code is presented below:"
   ]
  },
  {
   "cell_type": "code",
   "execution_count": 12,
   "id": "4c86d3da-1c11-4fbc-b083-7c006b947740",
   "metadata": {},
   "outputs": [],
   "source": [
    "suppressWarnings({suppressMessages({geneset <- gmt2geneset(\"./data/REACTOME_pathways.gmt\")})})"
   ]
  },
  {
   "cell_type": "code",
   "execution_count": 13,
   "id": "975e07c7",
   "metadata": {},
   "outputs": [
    {
     "data": {
      "text/html": [
       "<table class=\"dataframe\">\n",
       "<caption>A data.frame: 6 × 4</caption>\n",
       "<thead>\n",
       "\t<tr><th></th><th scope=col>ID</th><th scope=col>p.value</th><th scope=col>score</th><th scope=col>normalizedScore</th></tr>\n",
       "\t<tr><th></th><th scope=col>&lt;chr&gt;</th><th scope=col>&lt;dbl&gt;</th><th scope=col>&lt;dbl&gt;</th><th scope=col>&lt;dbl&gt;</th></tr>\n",
       "</thead>\n",
       "<tbody>\n",
       "\t<tr><th scope=row>GO:0006139</th><td>GO:0006139</td><td>0</td><td>0.2141292</td><td>0.2141292</td></tr>\n",
       "\t<tr><th scope=row>GO:0006396</th><td>GO:0006396</td><td>0</td><td>0.4125171</td><td>0.4125171</td></tr>\n",
       "\t<tr><th scope=row>GO:0006412</th><td>GO:0006412</td><td>0</td><td>0.5070574</td><td>0.5070574</td></tr>\n",
       "\t<tr><th scope=row>GO:0006518</th><td>GO:0006518</td><td>0</td><td>0.4704241</td><td>0.4704241</td></tr>\n",
       "\t<tr><th scope=row>GO:0006725</th><td>GO:0006725</td><td>0</td><td>0.2036541</td><td>0.2036541</td></tr>\n",
       "\t<tr><th scope=row>GO:0006807</th><td>GO:0006807</td><td>0</td><td>0.2242210</td><td>0.2242210</td></tr>\n",
       "</tbody>\n",
       "</table>\n"
      ],
      "text/latex": [
       "A data.frame: 6 × 4\n",
       "\\begin{tabular}{r|llll}\n",
       "  & ID & p.value & score & normalizedScore\\\\\n",
       "  & <chr> & <dbl> & <dbl> & <dbl>\\\\\n",
       "\\hline\n",
       "\tGO:0006139 & GO:0006139 & 0 & 0.2141292 & 0.2141292\\\\\n",
       "\tGO:0006396 & GO:0006396 & 0 & 0.4125171 & 0.4125171\\\\\n",
       "\tGO:0006412 & GO:0006412 & 0 & 0.5070574 & 0.5070574\\\\\n",
       "\tGO:0006518 & GO:0006518 & 0 & 0.4704241 & 0.4704241\\\\\n",
       "\tGO:0006725 & GO:0006725 & 0 & 0.2036541 & 0.2036541\\\\\n",
       "\tGO:0006807 & GO:0006807 & 0 & 0.2242210 & 0.2242210\\\\\n",
       "\\end{tabular}\n"
      ],
      "text/markdown": [
       "\n",
       "A data.frame: 6 × 4\n",
       "\n",
       "| <!--/--> | ID &lt;chr&gt; | p.value &lt;dbl&gt; | score &lt;dbl&gt; | normalizedScore &lt;dbl&gt; |\n",
       "|---|---|---|---|---|\n",
       "| GO:0006139 | GO:0006139 | 0 | 0.2141292 | 0.2141292 |\n",
       "| GO:0006396 | GO:0006396 | 0 | 0.4125171 | 0.4125171 |\n",
       "| GO:0006412 | GO:0006412 | 0 | 0.5070574 | 0.5070574 |\n",
       "| GO:0006518 | GO:0006518 | 0 | 0.4704241 | 0.4704241 |\n",
       "| GO:0006725 | GO:0006725 | 0 | 0.2036541 | 0.2036541 |\n",
       "| GO:0006807 | GO:0006807 | 0 | 0.2242210 | 0.2242210 |\n",
       "\n"
      ],
      "text/plain": [
       "           ID         p.value score     normalizedScore\n",
       "GO:0006139 GO:0006139 0       0.2141292 0.2141292      \n",
       "GO:0006396 GO:0006396 0       0.4125171 0.4125171      \n",
       "GO:0006412 GO:0006412 0       0.5070574 0.5070574      \n",
       "GO:0006518 GO:0006518 0       0.4704241 0.4704241      \n",
       "GO:0006725 GO:0006725 0       0.2036541 0.2036541      \n",
       "GO:0006807 GO:0006807 0       0.2242210 0.2242210      "
      ]
     },
     "metadata": {},
     "output_type": "display_data"
    }
   ],
   "source": [
    "# Loading GO terms\n",
    "suppressWarnings({suppressMessages({geneset <- gmt2geneset(\"./data/GO_terms.gmt\")})})\n",
    "# Perform ORA\n",
    "ORA_res <- runORA(DE_data = DE.df, genesets = geneset, pThreshold = 0.05)\n",
    "\n",
    "# Order the table based on the p-value\n",
    "ORA_res <- ORA_res[order(ORA_res$p.value), ]\n",
    "# View the most significant GO terms\n",
    "head(ORA_res)"
   ]
  },
  {
   "cell_type": "markdown",
   "id": "ae0d8278",
   "metadata": {},
   "source": [
    "From the result table, we might conclude that the pathways shown are key components of the disease in study."
   ]
  },
  {
   "cell_type": "markdown",
   "id": "cfa3dbd7",
   "metadata": {},
   "source": [
    "### Enrichment analysis using ORA and KEGG pathways"
   ]
  },
  {
   "cell_type": "markdown",
   "id": "69dc9176-9f21-4198-8873-c391fd58b1d2",
   "metadata": {},
   "source": [
    "We will perform the same steps as we did above with the GO terms."
   ]
  },
  {
   "cell_type": "code",
   "execution_count": 14,
   "id": "ee2d6ff9",
   "metadata": {},
   "outputs": [
    {
     "data": {
      "text/html": [
       "<table class=\"dataframe\">\n",
       "<caption>A data.frame: 6 × 4</caption>\n",
       "<thead>\n",
       "\t<tr><th></th><th scope=col>ID</th><th scope=col>p.value</th><th scope=col>score</th><th scope=col>normalizedScore</th></tr>\n",
       "\t<tr><th></th><th scope=col>&lt;chr&gt;</th><th scope=col>&lt;dbl&gt;</th><th scope=col>&lt;dbl&gt;</th><th scope=col>&lt;dbl&gt;</th></tr>\n",
       "</thead>\n",
       "<tbody>\n",
       "\t<tr><th scope=row>hsa05012</th><td>hsa05012</td><td>0.000000e+00</td><td>0.8215426</td><td>0.8215426</td></tr>\n",
       "\t<tr><th scope=row>hsa05014</th><td>hsa05014</td><td>0.000000e+00</td><td>0.6829997</td><td>0.6829997</td></tr>\n",
       "\t<tr><th scope=row>hsa05016</th><td>hsa05016</td><td>0.000000e+00</td><td>0.7605060</td><td>0.7605060</td></tr>\n",
       "\t<tr><th scope=row>hsa05022</th><td>hsa05022</td><td>4.440892e-16</td><td>0.5601445</td><td>0.5601445</td></tr>\n",
       "\t<tr><th scope=row>hsa05020</th><td>hsa05020</td><td>7.549517e-15</td><td>0.6837973</td><td>0.6837973</td></tr>\n",
       "\t<tr><th scope=row>hsa03050</th><td>hsa03050</td><td>2.984279e-13</td><td>1.2308632</td><td>1.2308632</td></tr>\n",
       "</tbody>\n",
       "</table>\n"
      ],
      "text/latex": [
       "A data.frame: 6 × 4\n",
       "\\begin{tabular}{r|llll}\n",
       "  & ID & p.value & score & normalizedScore\\\\\n",
       "  & <chr> & <dbl> & <dbl> & <dbl>\\\\\n",
       "\\hline\n",
       "\thsa05012 & hsa05012 & 0.000000e+00 & 0.8215426 & 0.8215426\\\\\n",
       "\thsa05014 & hsa05014 & 0.000000e+00 & 0.6829997 & 0.6829997\\\\\n",
       "\thsa05016 & hsa05016 & 0.000000e+00 & 0.7605060 & 0.7605060\\\\\n",
       "\thsa05022 & hsa05022 & 4.440892e-16 & 0.5601445 & 0.5601445\\\\\n",
       "\thsa05020 & hsa05020 & 7.549517e-15 & 0.6837973 & 0.6837973\\\\\n",
       "\thsa03050 & hsa03050 & 2.984279e-13 & 1.2308632 & 1.2308632\\\\\n",
       "\\end{tabular}\n"
      ],
      "text/markdown": [
       "\n",
       "A data.frame: 6 × 4\n",
       "\n",
       "| <!--/--> | ID &lt;chr&gt; | p.value &lt;dbl&gt; | score &lt;dbl&gt; | normalizedScore &lt;dbl&gt; |\n",
       "|---|---|---|---|---|\n",
       "| hsa05012 | hsa05012 | 0.000000e+00 | 0.8215426 | 0.8215426 |\n",
       "| hsa05014 | hsa05014 | 0.000000e+00 | 0.6829997 | 0.6829997 |\n",
       "| hsa05016 | hsa05016 | 0.000000e+00 | 0.7605060 | 0.7605060 |\n",
       "| hsa05022 | hsa05022 | 4.440892e-16 | 0.5601445 | 0.5601445 |\n",
       "| hsa05020 | hsa05020 | 7.549517e-15 | 0.6837973 | 0.6837973 |\n",
       "| hsa03050 | hsa03050 | 2.984279e-13 | 1.2308632 | 1.2308632 |\n",
       "\n"
      ],
      "text/plain": [
       "         ID       p.value      score     normalizedScore\n",
       "hsa05012 hsa05012 0.000000e+00 0.8215426 0.8215426      \n",
       "hsa05014 hsa05014 0.000000e+00 0.6829997 0.6829997      \n",
       "hsa05016 hsa05016 0.000000e+00 0.7605060 0.7605060      \n",
       "hsa05022 hsa05022 4.440892e-16 0.5601445 0.5601445      \n",
       "hsa05020 hsa05020 7.549517e-15 0.6837973 0.6837973      \n",
       "hsa03050 hsa03050 2.984279e-13 1.2308632 1.2308632      "
      ]
     },
     "metadata": {},
     "output_type": "display_data"
    }
   ],
   "source": [
    "# Loading KEGG pathways\n",
    "suppressWarnings({suppressMessages({geneset <- gmt2geneset(\"./data/KEGG_pathways.gmt\")})})\n",
    "\n",
    "# Perform Hyper-geometric testing\n",
    "ORA_res <- runORA(DE_data = DE.df, genesets = geneset, pThreshold = 0.05)\n",
    "\n",
    "# # Order the table based on the p-value\n",
    "ORA_res <- ORA_res[order(ORA_res$p.value), ]\n",
    "# View the most significant GO terms\n",
    "head(ORA_res)\n"
   ]
  },
  {
   "cell_type": "markdown",
   "id": "63818b96-1b67-49be-81d3-c45dae212ecc",
   "metadata": {},
   "source": [
    "### Enrichment analysis using ORA and REACTOME pathways\n",
    "\n",
    "We will perform similar steps as we did before with the GO terms and KEEG pathways."
   ]
  },
  {
   "cell_type": "code",
   "execution_count": 15,
   "id": "7a7baa26-8eb4-4762-bcd0-3ebaf18d8cc0",
   "metadata": {},
   "outputs": [
    {
     "data": {
      "text/html": [
       "<table class=\"dataframe\">\n",
       "<caption>A data.frame: 6 × 4</caption>\n",
       "<thead>\n",
       "\t<tr><th></th><th scope=col>ID</th><th scope=col>p.value</th><th scope=col>score</th><th scope=col>normalizedScore</th></tr>\n",
       "\t<tr><th></th><th scope=col>&lt;chr&gt;</th><th scope=col>&lt;dbl&gt;</th><th scope=col>&lt;dbl&gt;</th><th scope=col>&lt;dbl&gt;</th></tr>\n",
       "</thead>\n",
       "<tbody>\n",
       "\t<tr><th scope=row>R-HSA-72766</th><td>R-HSA-72766  </td><td>0</td><td>0.7507580</td><td>0.7507580</td></tr>\n",
       "\t<tr><th scope=row>R-HSA-163200</th><td>R-HSA-163200 </td><td>0</td><td>0.9698630</td><td>0.9698630</td></tr>\n",
       "\t<tr><th scope=row>R-HSA-199991</th><td>R-HSA-199991 </td><td>0</td><td>0.5353433</td><td>0.5353433</td></tr>\n",
       "\t<tr><th scope=row>R-HSA-392499</th><td>R-HSA-392499 </td><td>0</td><td>0.3888270</td><td>0.3888270</td></tr>\n",
       "\t<tr><th scope=row>R-HSA-611105</th><td>R-HSA-611105 </td><td>0</td><td>1.0542352</td><td>1.0542352</td></tr>\n",
       "\t<tr><th scope=row>R-HSA-1428517</th><td>R-HSA-1428517</td><td>0</td><td>0.8847324</td><td>0.8847324</td></tr>\n",
       "</tbody>\n",
       "</table>\n"
      ],
      "text/latex": [
       "A data.frame: 6 × 4\n",
       "\\begin{tabular}{r|llll}\n",
       "  & ID & p.value & score & normalizedScore\\\\\n",
       "  & <chr> & <dbl> & <dbl> & <dbl>\\\\\n",
       "\\hline\n",
       "\tR-HSA-72766 & R-HSA-72766   & 0 & 0.7507580 & 0.7507580\\\\\n",
       "\tR-HSA-163200 & R-HSA-163200  & 0 & 0.9698630 & 0.9698630\\\\\n",
       "\tR-HSA-199991 & R-HSA-199991  & 0 & 0.5353433 & 0.5353433\\\\\n",
       "\tR-HSA-392499 & R-HSA-392499  & 0 & 0.3888270 & 0.3888270\\\\\n",
       "\tR-HSA-611105 & R-HSA-611105  & 0 & 1.0542352 & 1.0542352\\\\\n",
       "\tR-HSA-1428517 & R-HSA-1428517 & 0 & 0.8847324 & 0.8847324\\\\\n",
       "\\end{tabular}\n"
      ],
      "text/markdown": [
       "\n",
       "A data.frame: 6 × 4\n",
       "\n",
       "| <!--/--> | ID &lt;chr&gt; | p.value &lt;dbl&gt; | score &lt;dbl&gt; | normalizedScore &lt;dbl&gt; |\n",
       "|---|---|---|---|---|\n",
       "| R-HSA-72766 | R-HSA-72766   | 0 | 0.7507580 | 0.7507580 |\n",
       "| R-HSA-163200 | R-HSA-163200  | 0 | 0.9698630 | 0.9698630 |\n",
       "| R-HSA-199991 | R-HSA-199991  | 0 | 0.5353433 | 0.5353433 |\n",
       "| R-HSA-392499 | R-HSA-392499  | 0 | 0.3888270 | 0.3888270 |\n",
       "| R-HSA-611105 | R-HSA-611105  | 0 | 1.0542352 | 1.0542352 |\n",
       "| R-HSA-1428517 | R-HSA-1428517 | 0 | 0.8847324 | 0.8847324 |\n",
       "\n"
      ],
      "text/plain": [
       "              ID            p.value score     normalizedScore\n",
       "R-HSA-72766   R-HSA-72766   0       0.7507580 0.7507580      \n",
       "R-HSA-163200  R-HSA-163200  0       0.9698630 0.9698630      \n",
       "R-HSA-199991  R-HSA-199991  0       0.5353433 0.5353433      \n",
       "R-HSA-392499  R-HSA-392499  0       0.3888270 0.3888270      \n",
       "R-HSA-611105  R-HSA-611105  0       1.0542352 1.0542352      \n",
       "R-HSA-1428517 R-HSA-1428517 0       0.8847324 0.8847324      "
      ]
     },
     "metadata": {},
     "output_type": "display_data"
    }
   ],
   "source": [
    "# Loading REACTOME pathways\n",
    "suppressWarnings({suppressMessages({geneset <- gmt2geneset(\"./data/REACTOME_pathways.gmt\")})})\n",
    "# Perform ORA\n",
    "ORA_res <- runORA(DE_data = DE.df, genesets = geneset, pThreshold = 0.05)\n",
    "\n",
    "# # Order the table based on the p-value\n",
    "ORA_res <- ORA_res[order(ORA_res$p.value), ]\n",
    "# View the most significant GO terms\n",
    "head(ORA_res)"
   ]
  },
  {
   "cell_type": "markdown",
   "id": "fa3c8735-7167-460e-8fa2-c7dfb2953a65",
   "metadata": {},
   "source": [
    "<!-- headings -->\n",
    "<a id=\"camera-main\"></a>\n",
    "## 2. Enrichment analysis using CAMERA\n",
    "\n",
    "Correlation Adjusted MEan RAnk (CAMERA) is a powerful gene set analysis method designed for high-throughput genomic data. It operates in two stages, first calculating gene-level statistics including fold change, t-statistic, moderated t-statistics, and a normalized moderated t-statistic using a linear model. In the second stage, The inter-gene correlation within gene sets is assessed through the computation of the variance inflation factor (VIF), and this information is then integrated into either parametric or rank-based hypothesis tests.\n",
    "\n",
    "Since we already had the gene-level statistics from DE analysis in submodule 2, We can utilize the `cameraPR` function integrated in `limma` package to perform the second stage of CAMERA. The `runCAMERA` function below is provided to perform analysis using CAMERA method."
   ]
  },
  {
   "cell_type": "code",
   "execution_count": 14,
   "id": "0b97f28f-7cd8-4fc0-9a58-fc42196f0f0c",
   "metadata": {},
   "outputs": [],
   "source": [
    "# Import the limma package\n",
    "library(limma)"
   ]
  },
  {
   "cell_type": "code",
   "execution_count": 15,
   "id": "8d43c1aa-59c8-45ba-8ab8-1eab77885940",
   "metadata": {},
   "outputs": [],
   "source": [
    "#' @description This function performs gene set analysis using CAMERA method.\n",
    "#'\n",
    "#' @param DE_data A dataframe containing the DE analysis result.\n",
    "#' @param genesets A list of gene sets to be analyzed.\n",
    "#' @param stat_col A character string specifying the name of a statistic column in DE_data\n",
    "#'                 to be used in the EA analysis.\n",
    "#' @param use.ranks A logical whether to use parametric or rank-based hypothesis test\n",
    "#' @return A dataframe containing the results of the tests for each gene set.\n",
    "\n",
    "runCAMERA <- function(DE_data, genesets, stat_col = \"statistic\", use.ranks = FALSE) {\n",
    "  \n",
    "    # Extract the statistics column from DE_data\n",
    "    stats <- DE_data[, stat_col]\n",
    "    # Set gene names as row names for stats\n",
    "    names(stats) <- rownames(DE_data)\n",
    "    # Run CAMERA analysis using cameraPR function\n",
    "    CAMERA_res <- cameraPR(statistic = stats, index = genesets, use.ranks = use.ranks)\n",
    "    # Create a dataframe with results\n",
    "    result_df <- data.frame(\n",
    "        ID = rownames(CAMERA_res),\n",
    "        p.value = CAMERA_res$PValue,\n",
    "        pFDR = CAMERA_res$FDR,\n",
    "        stringsAsFactors = FALSE\n",
    "    )\n",
    "    # Return the result dataframe\n",
    "    result_df\n",
    "}\n"
   ]
  },
  {
   "cell_type": "markdown",
   "id": "0857b479-a9bf-4b0e-b024-1c1b6f9897cd",
   "metadata": {},
   "source": [
    "### Enrichment analysis using CAMERA and GO terms\n",
    "We will use the `runCAMERA` function to perform gene set analysis with GO terms as follows:"
   ]
  },
  {
   "cell_type": "code",
   "execution_count": 16,
   "id": "509b83ad-666e-42bb-b2e8-6ef461c60df2",
   "metadata": {},
   "outputs": [
    {
     "data": {
      "text/html": [
       "<table class=\"dataframe\">\n",
       "<caption>A data.frame: 6 × 3</caption>\n",
       "<thead>\n",
       "\t<tr><th></th><th scope=col>ID</th><th scope=col>p.value</th><th scope=col>pFDR</th></tr>\n",
       "\t<tr><th></th><th scope=col>&lt;chr&gt;</th><th scope=col>&lt;dbl&gt;</th><th scope=col>&lt;dbl&gt;</th></tr>\n",
       "</thead>\n",
       "<tbody>\n",
       "\t<tr><th scope=row>1</th><td>GO:0042773</td><td>7.796607e-19</td><td>2.693338e-15</td></tr>\n",
       "\t<tr><th scope=row>2</th><td>GO:0042775</td><td>7.796607e-19</td><td>2.693338e-15</td></tr>\n",
       "\t<tr><th scope=row>3</th><td>GO:0015986</td><td>1.351633e-17</td><td>3.112811e-14</td></tr>\n",
       "\t<tr><th scope=row>4</th><td>GO:0019646</td><td>2.311338e-17</td><td>3.992258e-14</td></tr>\n",
       "\t<tr><th scope=row>5</th><td>GO:0009145</td><td>3.894336e-16</td><td>5.381194e-13</td></tr>\n",
       "\t<tr><th scope=row>6</th><td>GO:0006754</td><td>6.802849e-16</td><td>6.415202e-13</td></tr>\n",
       "</tbody>\n",
       "</table>\n"
      ],
      "text/latex": [
       "A data.frame: 6 × 3\n",
       "\\begin{tabular}{r|lll}\n",
       "  & ID & p.value & pFDR\\\\\n",
       "  & <chr> & <dbl> & <dbl>\\\\\n",
       "\\hline\n",
       "\t1 & GO:0042773 & 7.796607e-19 & 2.693338e-15\\\\\n",
       "\t2 & GO:0042775 & 7.796607e-19 & 2.693338e-15\\\\\n",
       "\t3 & GO:0015986 & 1.351633e-17 & 3.112811e-14\\\\\n",
       "\t4 & GO:0019646 & 2.311338e-17 & 3.992258e-14\\\\\n",
       "\t5 & GO:0009145 & 3.894336e-16 & 5.381194e-13\\\\\n",
       "\t6 & GO:0006754 & 6.802849e-16 & 6.415202e-13\\\\\n",
       "\\end{tabular}\n"
      ],
      "text/markdown": [
       "\n",
       "A data.frame: 6 × 3\n",
       "\n",
       "| <!--/--> | ID &lt;chr&gt; | p.value &lt;dbl&gt; | pFDR &lt;dbl&gt; |\n",
       "|---|---|---|---|\n",
       "| 1 | GO:0042773 | 7.796607e-19 | 2.693338e-15 |\n",
       "| 2 | GO:0042775 | 7.796607e-19 | 2.693338e-15 |\n",
       "| 3 | GO:0015986 | 1.351633e-17 | 3.112811e-14 |\n",
       "| 4 | GO:0019646 | 2.311338e-17 | 3.992258e-14 |\n",
       "| 5 | GO:0009145 | 3.894336e-16 | 5.381194e-13 |\n",
       "| 6 | GO:0006754 | 6.802849e-16 | 6.415202e-13 |\n",
       "\n"
      ],
      "text/plain": [
       "  ID         p.value      pFDR        \n",
       "1 GO:0042773 7.796607e-19 2.693338e-15\n",
       "2 GO:0042775 7.796607e-19 2.693338e-15\n",
       "3 GO:0015986 1.351633e-17 3.112811e-14\n",
       "4 GO:0019646 2.311338e-17 3.992258e-14\n",
       "5 GO:0009145 3.894336e-16 5.381194e-13\n",
       "6 GO:0006754 6.802849e-16 6.415202e-13"
      ]
     },
     "metadata": {},
     "output_type": "display_data"
    }
   ],
   "source": [
    "camera_start <- Sys.time()\n",
    "# Loading GO terms\n",
    "suppressWarnings({suppressMessages({geneset <- gmt2geneset(\"./data/GO_terms.gmt\")})})\n",
    "# Perform EA using CAMERA method\n",
    "CAMERA_res <- runCAMERA(DE_data = DE.df, genesets = geneset, stat_col = \"statistic\")\n",
    "head(CAMERA_res)"
   ]
  },
  {
   "cell_type": "markdown",
   "id": "3521d287-83bd-4f97-92b6-1f41a967e8bb",
   "metadata": {},
   "source": [
    "### Enrichment analysis using CAMERA and KEGG pathways\n",
    "\n",
    "To analyze the KEGG pathways using CAMERA, we can use the same above codes and simply replace GO terms with KEGG pathways."
   ]
  },
  {
   "cell_type": "code",
   "execution_count": 19,
   "id": "8d89e86b-06da-41ba-81ae-0270f9c79478",
   "metadata": {},
   "outputs": [
    {
     "data": {
      "text/html": [
       "<table class=\"dataframe\">\n",
       "<caption>A data.frame: 6 × 3</caption>\n",
       "<thead>\n",
       "\t<tr><th></th><th scope=col>ID</th><th scope=col>p.value</th><th scope=col>pFDR</th></tr>\n",
       "\t<tr><th></th><th scope=col>&lt;chr&gt;</th><th scope=col>&lt;dbl&gt;</th><th scope=col>&lt;dbl&gt;</th></tr>\n",
       "</thead>\n",
       "<tbody>\n",
       "\t<tr><th scope=row>1</th><td>hsa03050</td><td>2.620282e-21</td><td>9.013771e-19</td></tr>\n",
       "\t<tr><th scope=row>2</th><td>hsa00190</td><td>2.075698e-18</td><td>3.570201e-16</td></tr>\n",
       "\t<tr><th scope=row>3</th><td>hsa05012</td><td>4.282708e-15</td><td>4.910839e-13</td></tr>\n",
       "\t<tr><th scope=row>4</th><td>hsa05016</td><td>1.491982e-13</td><td>1.283104e-11</td></tr>\n",
       "\t<tr><th scope=row>5</th><td>hsa05020</td><td>1.004145e-12</td><td>6.908521e-11</td></tr>\n",
       "\t<tr><th scope=row>6</th><td>hsa05014</td><td>2.878336e-12</td><td>1.650246e-10</td></tr>\n",
       "</tbody>\n",
       "</table>\n"
      ],
      "text/latex": [
       "A data.frame: 6 × 3\n",
       "\\begin{tabular}{r|lll}\n",
       "  & ID & p.value & pFDR\\\\\n",
       "  & <chr> & <dbl> & <dbl>\\\\\n",
       "\\hline\n",
       "\t1 & hsa03050 & 2.620282e-21 & 9.013771e-19\\\\\n",
       "\t2 & hsa00190 & 2.075698e-18 & 3.570201e-16\\\\\n",
       "\t3 & hsa05012 & 4.282708e-15 & 4.910839e-13\\\\\n",
       "\t4 & hsa05016 & 1.491982e-13 & 1.283104e-11\\\\\n",
       "\t5 & hsa05020 & 1.004145e-12 & 6.908521e-11\\\\\n",
       "\t6 & hsa05014 & 2.878336e-12 & 1.650246e-10\\\\\n",
       "\\end{tabular}\n"
      ],
      "text/markdown": [
       "\n",
       "A data.frame: 6 × 3\n",
       "\n",
       "| <!--/--> | ID &lt;chr&gt; | p.value &lt;dbl&gt; | pFDR &lt;dbl&gt; |\n",
       "|---|---|---|---|\n",
       "| 1 | hsa03050 | 2.620282e-21 | 9.013771e-19 |\n",
       "| 2 | hsa00190 | 2.075698e-18 | 3.570201e-16 |\n",
       "| 3 | hsa05012 | 4.282708e-15 | 4.910839e-13 |\n",
       "| 4 | hsa05016 | 1.491982e-13 | 1.283104e-11 |\n",
       "| 5 | hsa05020 | 1.004145e-12 | 6.908521e-11 |\n",
       "| 6 | hsa05014 | 2.878336e-12 | 1.650246e-10 |\n",
       "\n"
      ],
      "text/plain": [
       "  ID       p.value      pFDR        \n",
       "1 hsa03050 2.620282e-21 9.013771e-19\n",
       "2 hsa00190 2.075698e-18 3.570201e-16\n",
       "3 hsa05012 4.282708e-15 4.910839e-13\n",
       "4 hsa05016 1.491982e-13 1.283104e-11\n",
       "5 hsa05020 1.004145e-12 6.908521e-11\n",
       "6 hsa05014 2.878336e-12 1.650246e-10"
      ]
     },
     "metadata": {},
     "output_type": "display_data"
    }
   ],
   "source": [
    "# Loading KEGG pathways\n",
    "suppressWarnings({suppressMessages({geneset <- gmt2geneset(\"./data/KEGG_pathways.gmt\")})})\n",
    "# Perform EA using CAMERA method\n",
    "CAMERA_res <- runCAMERA(DE_data = DE.df, genesets = geneset, stat_col = \"statistic\")\n",
    "head(CAMERA_res)"
   ]
  },
  {
   "cell_type": "markdown",
   "id": "64ecc421-a9eb-4694-ad3c-942ce3cdc3b3",
   "metadata": {},
   "source": [
    "### Enrichment analysis using CAMERA and REACTOME pathways\n",
    "\n",
    "Similar to GO terms and KEGG pathways, we just need to load and pass the REACTOME pathways to the `runCAMERA` function."
   ]
  },
  {
   "cell_type": "code",
   "execution_count": 20,
   "id": "52fb9944-c1c5-4523-853c-f96636f0f812",
   "metadata": {},
   "outputs": [
    {
     "data": {
      "text/html": [
       "<table class=\"dataframe\">\n",
       "<caption>A data.frame: 6 × 3</caption>\n",
       "<thead>\n",
       "\t<tr><th></th><th scope=col>ID</th><th scope=col>p.value</th><th scope=col>pFDR</th></tr>\n",
       "\t<tr><th></th><th scope=col>&lt;chr&gt;</th><th scope=col>&lt;dbl&gt;</th><th scope=col>&lt;dbl&gt;</th></tr>\n",
       "</thead>\n",
       "<tbody>\n",
       "\t<tr><th scope=row>1</th><td>R-HSA-9604323</td><td>2.644210e-22</td><td>6.941051e-19</td></tr>\n",
       "\t<tr><th scope=row>2</th><td>R-HSA-180585 </td><td>1.032521e-21</td><td>1.318308e-18</td></tr>\n",
       "\t<tr><th scope=row>3</th><td>R-HSA-9762114</td><td>1.506638e-21</td><td>1.318308e-18</td></tr>\n",
       "\t<tr><th scope=row>4</th><td>R-HSA-211733 </td><td>3.761629e-21</td><td>2.468569e-18</td></tr>\n",
       "\t<tr><th scope=row>5</th><td>R-HSA-8854050</td><td>1.726367e-20</td><td>8.870846e-18</td></tr>\n",
       "\t<tr><th scope=row>6</th><td>R-HSA-174113 </td><td>2.314618e-20</td><td>8.870846e-18</td></tr>\n",
       "</tbody>\n",
       "</table>\n"
      ],
      "text/latex": [
       "A data.frame: 6 × 3\n",
       "\\begin{tabular}{r|lll}\n",
       "  & ID & p.value & pFDR\\\\\n",
       "  & <chr> & <dbl> & <dbl>\\\\\n",
       "\\hline\n",
       "\t1 & R-HSA-9604323 & 2.644210e-22 & 6.941051e-19\\\\\n",
       "\t2 & R-HSA-180585  & 1.032521e-21 & 1.318308e-18\\\\\n",
       "\t3 & R-HSA-9762114 & 1.506638e-21 & 1.318308e-18\\\\\n",
       "\t4 & R-HSA-211733  & 3.761629e-21 & 2.468569e-18\\\\\n",
       "\t5 & R-HSA-8854050 & 1.726367e-20 & 8.870846e-18\\\\\n",
       "\t6 & R-HSA-174113  & 2.314618e-20 & 8.870846e-18\\\\\n",
       "\\end{tabular}\n"
      ],
      "text/markdown": [
       "\n",
       "A data.frame: 6 × 3\n",
       "\n",
       "| <!--/--> | ID &lt;chr&gt; | p.value &lt;dbl&gt; | pFDR &lt;dbl&gt; |\n",
       "|---|---|---|---|\n",
       "| 1 | R-HSA-9604323 | 2.644210e-22 | 6.941051e-19 |\n",
       "| 2 | R-HSA-180585  | 1.032521e-21 | 1.318308e-18 |\n",
       "| 3 | R-HSA-9762114 | 1.506638e-21 | 1.318308e-18 |\n",
       "| 4 | R-HSA-211733  | 3.761629e-21 | 2.468569e-18 |\n",
       "| 5 | R-HSA-8854050 | 1.726367e-20 | 8.870846e-18 |\n",
       "| 6 | R-HSA-174113  | 2.314618e-20 | 8.870846e-18 |\n",
       "\n"
      ],
      "text/plain": [
       "  ID            p.value      pFDR        \n",
       "1 R-HSA-9604323 2.644210e-22 6.941051e-19\n",
       "2 R-HSA-180585  1.032521e-21 1.318308e-18\n",
       "3 R-HSA-9762114 1.506638e-21 1.318308e-18\n",
       "4 R-HSA-211733  3.761629e-21 2.468569e-18\n",
       "5 R-HSA-8854050 1.726367e-20 8.870846e-18\n",
       "6 R-HSA-174113  2.314618e-20 8.870846e-18"
      ]
     },
     "metadata": {},
     "output_type": "display_data"
    }
   ],
   "source": [
    "# Loading REACTOME pathways\n",
    "suppressWarnings({suppressMessages({geneset <- gmt2geneset(\"./data/REACTOME_pathways.gmt\")})})\n",
    "# Perform EA using CAMERA method\n",
    "CAMERA_res <- runCAMERA(DE_data = DE.df, genesets = geneset, stat_col = \"statistic\")\n",
    "head(CAMERA_res)\n",
    "\n",
    "camera_time <- Sys.time() - camera_start"
   ]
  },
  {
   "cell_type": "markdown",
   "id": "72a138b4-a0aa-461b-b529-67e76c7767d6",
   "metadata": {},
   "source": [
    "<!-- headings -->\n",
    "<a id=\"ks-main\"></a>\n",
    "## 3. Enrichment analysis using KS and Wilcoxon test\n",
    "\n",
    "The Kolmogorov-Smirnov (KS) test is a non-parametric test that compares the cumulative distribution functions of two datasets. In the context of enrichment analysis, it can be employed to assess whether the distribution of DE genes is significantly different from what would be expected by chance for a given gene set. The test produces a KS statistic and a corresponding p-value, indicating the degree of over-representation.\n",
    "\n",
    "The Wilcoxon test, also called the Mann-Whitney U test, helps us check if the ranks of certain genes (DE genes) are significantly different from the rest of the genes. It's a sturdy non-parametric method that doesn't rely on specific assumptions about data distribution. By looking at the ranks, it tells us if there are meaningful differences in how these genes are positioned compared to the overall set. In the context of enrichment analyses, the Wilcoxon test emerges as a valuable tool, elucidating critical variations in the hierarchical arrangement or ranking of genes within the dataset."
   ]
  },
  {
   "cell_type": "markdown",
   "id": "b2a98cfa-2b91-46a5-92ea-38ee1deb2eac",
   "metadata": {},
   "source": [
    "### Data preparation\n",
    "To conduct enrichment analysis using KS or Wilcoxon test, we will use the limma DE result as input. First, we can use the DE.df variable above and select a set of genes that\n",
    "are significantly altered (*p-value < 0.05*). "
   ]
  },
  {
   "cell_type": "code",
   "execution_count": 21,
   "id": "1135da3e-3277-408f-a4b2-7ec34d09a659",
   "metadata": {},
   "outputs": [
    {
     "data": {
      "text/html": [
       "<table class=\"dataframe\">\n",
       "<caption>A data.frame: 6 × 6</caption>\n",
       "<thead>\n",
       "\t<tr><th></th><th scope=col>SYMBOL</th><th scope=col>p.value</th><th scope=col>pFDR</th><th scope=col>statistic</th><th scope=col>logFC</th><th scope=col>avgExpr</th></tr>\n",
       "\t<tr><th></th><th scope=col>&lt;chr&gt;</th><th scope=col>&lt;dbl&gt;</th><th scope=col>&lt;dbl&gt;</th><th scope=col>&lt;dbl&gt;</th><th scope=col>&lt;dbl&gt;</th><th scope=col>&lt;dbl&gt;</th></tr>\n",
       "</thead>\n",
       "<tbody>\n",
       "\t<tr><th scope=row>TUBB</th><td>TUBB   </td><td>1.432179e-22</td><td>3.177289e-18</td><td>-11.36377</td><td>-1.631276</td><td> 9.123189</td></tr>\n",
       "\t<tr><th scope=row>PSMB3</th><td>PSMB3  </td><td>2.388997e-21</td><td>1.829653e-17</td><td>-10.92825</td><td>-1.408793</td><td> 8.736749</td></tr>\n",
       "\t<tr><th scope=row>TUBB4B</th><td>TUBB4B </td><td>2.474176e-21</td><td>1.829653e-17</td><td>-10.92281</td><td>-1.726316</td><td>10.297977</td></tr>\n",
       "\t<tr><th scope=row>SLC35E1</th><td>SLC35E1</td><td>7.401763e-21</td><td>4.105203e-17</td><td> 10.75253</td><td> 1.627450</td><td>11.470567</td></tr>\n",
       "\t<tr><th scope=row>ATP5F1C</th><td>ATP5F1C</td><td>9.950015e-21</td><td>4.414822e-17</td><td>-10.70648</td><td>-1.881757</td><td>10.012823</td></tr>\n",
       "\t<tr><th scope=row>ATP5F1B</th><td>ATP5F1B</td><td>2.802296e-20</td><td>1.036149e-16</td><td>-10.54504</td><td>-1.616196</td><td>10.576243</td></tr>\n",
       "</tbody>\n",
       "</table>\n"
      ],
      "text/latex": [
       "A data.frame: 6 × 6\n",
       "\\begin{tabular}{r|llllll}\n",
       "  & SYMBOL & p.value & pFDR & statistic & logFC & avgExpr\\\\\n",
       "  & <chr> & <dbl> & <dbl> & <dbl> & <dbl> & <dbl>\\\\\n",
       "\\hline\n",
       "\tTUBB & TUBB    & 1.432179e-22 & 3.177289e-18 & -11.36377 & -1.631276 &  9.123189\\\\\n",
       "\tPSMB3 & PSMB3   & 2.388997e-21 & 1.829653e-17 & -10.92825 & -1.408793 &  8.736749\\\\\n",
       "\tTUBB4B & TUBB4B  & 2.474176e-21 & 1.829653e-17 & -10.92281 & -1.726316 & 10.297977\\\\\n",
       "\tSLC35E1 & SLC35E1 & 7.401763e-21 & 4.105203e-17 &  10.75253 &  1.627450 & 11.470567\\\\\n",
       "\tATP5F1C & ATP5F1C & 9.950015e-21 & 4.414822e-17 & -10.70648 & -1.881757 & 10.012823\\\\\n",
       "\tATP5F1B & ATP5F1B & 2.802296e-20 & 1.036149e-16 & -10.54504 & -1.616196 & 10.576243\\\\\n",
       "\\end{tabular}\n"
      ],
      "text/markdown": [
       "\n",
       "A data.frame: 6 × 6\n",
       "\n",
       "| <!--/--> | SYMBOL &lt;chr&gt; | p.value &lt;dbl&gt; | pFDR &lt;dbl&gt; | statistic &lt;dbl&gt; | logFC &lt;dbl&gt; | avgExpr &lt;dbl&gt; |\n",
       "|---|---|---|---|---|---|---|\n",
       "| TUBB | TUBB    | 1.432179e-22 | 3.177289e-18 | -11.36377 | -1.631276 |  9.123189 |\n",
       "| PSMB3 | PSMB3   | 2.388997e-21 | 1.829653e-17 | -10.92825 | -1.408793 |  8.736749 |\n",
       "| TUBB4B | TUBB4B  | 2.474176e-21 | 1.829653e-17 | -10.92281 | -1.726316 | 10.297977 |\n",
       "| SLC35E1 | SLC35E1 | 7.401763e-21 | 4.105203e-17 |  10.75253 |  1.627450 | 11.470567 |\n",
       "| ATP5F1C | ATP5F1C | 9.950015e-21 | 4.414822e-17 | -10.70648 | -1.881757 | 10.012823 |\n",
       "| ATP5F1B | ATP5F1B | 2.802296e-20 | 1.036149e-16 | -10.54504 | -1.616196 | 10.576243 |\n",
       "\n"
      ],
      "text/plain": [
       "        SYMBOL  p.value      pFDR         statistic logFC     avgExpr  \n",
       "TUBB    TUBB    1.432179e-22 3.177289e-18 -11.36377 -1.631276  9.123189\n",
       "PSMB3   PSMB3   2.388997e-21 1.829653e-17 -10.92825 -1.408793  8.736749\n",
       "TUBB4B  TUBB4B  2.474176e-21 1.829653e-17 -10.92281 -1.726316 10.297977\n",
       "SLC35E1 SLC35E1 7.401763e-21 4.105203e-17  10.75253  1.627450 11.470567\n",
       "ATP5F1C ATP5F1C 9.950015e-21 4.414822e-17 -10.70648 -1.881757 10.012823\n",
       "ATP5F1B ATP5F1B 2.802296e-20 1.036149e-16 -10.54504 -1.616196 10.576243"
      ]
     },
     "metadata": {},
     "output_type": "display_data"
    }
   ],
   "source": [
    "# Select genes that are significantly altered\n",
    "kw_de <- DE.df[DE.df$pFDR <= 0.05, ]\n",
    "head(kw_de)"
   ]
  },
  {
   "cell_type": "markdown",
   "id": "7fe00efa-e665-476b-8872-5482f4dafde1",
   "metadata": {},
   "source": [
    "Next, we will remove rows containing NA, dupicated symbols."
   ]
  },
  {
   "cell_type": "code",
   "execution_count": 22,
   "id": "47e8c745-2bc5-4991-979f-89e2d0d643e3",
   "metadata": {},
   "outputs": [
    {
     "data": {
      "text/html": [
       "<table class=\"dataframe\">\n",
       "<caption>A data.frame: 6 × 5</caption>\n",
       "<thead>\n",
       "\t<tr><th></th><th scope=col>p.value</th><th scope=col>pFDR</th><th scope=col>statistic</th><th scope=col>logFC</th><th scope=col>avgExpr</th></tr>\n",
       "\t<tr><th></th><th scope=col>&lt;dbl&gt;</th><th scope=col>&lt;dbl&gt;</th><th scope=col>&lt;dbl&gt;</th><th scope=col>&lt;dbl&gt;</th><th scope=col>&lt;dbl&gt;</th></tr>\n",
       "</thead>\n",
       "<tbody>\n",
       "\t<tr><th scope=row>TUBB</th><td>1.432179e-22</td><td>3.177289e-18</td><td>-11.36377</td><td>-1.631276</td><td> 9.123189</td></tr>\n",
       "\t<tr><th scope=row>PSMB3</th><td>2.388997e-21</td><td>1.829653e-17</td><td>-10.92825</td><td>-1.408793</td><td> 8.736749</td></tr>\n",
       "\t<tr><th scope=row>TUBB4B</th><td>2.474176e-21</td><td>1.829653e-17</td><td>-10.92281</td><td>-1.726316</td><td>10.297977</td></tr>\n",
       "\t<tr><th scope=row>SLC35E1</th><td>7.401763e-21</td><td>4.105203e-17</td><td> 10.75253</td><td> 1.627450</td><td>11.470567</td></tr>\n",
       "\t<tr><th scope=row>ATP5F1C</th><td>9.950015e-21</td><td>4.414822e-17</td><td>-10.70648</td><td>-1.881757</td><td>10.012823</td></tr>\n",
       "\t<tr><th scope=row>ATP5F1B</th><td>2.802296e-20</td><td>1.036149e-16</td><td>-10.54504</td><td>-1.616196</td><td>10.576243</td></tr>\n",
       "</tbody>\n",
       "</table>\n"
      ],
      "text/latex": [
       "A data.frame: 6 × 5\n",
       "\\begin{tabular}{r|lllll}\n",
       "  & p.value & pFDR & statistic & logFC & avgExpr\\\\\n",
       "  & <dbl> & <dbl> & <dbl> & <dbl> & <dbl>\\\\\n",
       "\\hline\n",
       "\tTUBB & 1.432179e-22 & 3.177289e-18 & -11.36377 & -1.631276 &  9.123189\\\\\n",
       "\tPSMB3 & 2.388997e-21 & 1.829653e-17 & -10.92825 & -1.408793 &  8.736749\\\\\n",
       "\tTUBB4B & 2.474176e-21 & 1.829653e-17 & -10.92281 & -1.726316 & 10.297977\\\\\n",
       "\tSLC35E1 & 7.401763e-21 & 4.105203e-17 &  10.75253 &  1.627450 & 11.470567\\\\\n",
       "\tATP5F1C & 9.950015e-21 & 4.414822e-17 & -10.70648 & -1.881757 & 10.012823\\\\\n",
       "\tATP5F1B & 2.802296e-20 & 1.036149e-16 & -10.54504 & -1.616196 & 10.576243\\\\\n",
       "\\end{tabular}\n"
      ],
      "text/markdown": [
       "\n",
       "A data.frame: 6 × 5\n",
       "\n",
       "| <!--/--> | p.value &lt;dbl&gt; | pFDR &lt;dbl&gt; | statistic &lt;dbl&gt; | logFC &lt;dbl&gt; | avgExpr &lt;dbl&gt; |\n",
       "|---|---|---|---|---|---|\n",
       "| TUBB | 1.432179e-22 | 3.177289e-18 | -11.36377 | -1.631276 |  9.123189 |\n",
       "| PSMB3 | 2.388997e-21 | 1.829653e-17 | -10.92825 | -1.408793 |  8.736749 |\n",
       "| TUBB4B | 2.474176e-21 | 1.829653e-17 | -10.92281 | -1.726316 | 10.297977 |\n",
       "| SLC35E1 | 7.401763e-21 | 4.105203e-17 |  10.75253 |  1.627450 | 11.470567 |\n",
       "| ATP5F1C | 9.950015e-21 | 4.414822e-17 | -10.70648 | -1.881757 | 10.012823 |\n",
       "| ATP5F1B | 2.802296e-20 | 1.036149e-16 | -10.54504 | -1.616196 | 10.576243 |\n",
       "\n"
      ],
      "text/plain": [
       "        p.value      pFDR         statistic logFC     avgExpr  \n",
       "TUBB    1.432179e-22 3.177289e-18 -11.36377 -1.631276  9.123189\n",
       "PSMB3   2.388997e-21 1.829653e-17 -10.92825 -1.408793  8.736749\n",
       "TUBB4B  2.474176e-21 1.829653e-17 -10.92281 -1.726316 10.297977\n",
       "SLC35E1 7.401763e-21 4.105203e-17  10.75253  1.627450 11.470567\n",
       "ATP5F1C 9.950015e-21 4.414822e-17 -10.70648 -1.881757 10.012823\n",
       "ATP5F1B 2.802296e-20 1.036149e-16 -10.54504 -1.616196 10.576243"
      ]
     },
     "metadata": {},
     "output_type": "display_data"
    }
   ],
   "source": [
    "# Remove NA value\n",
    "kw_de <- kw_de[!is.na(kw_de$SYMBOL), ]\n",
    "# Remove duplicated genes symbols\n",
    "kw_de <- kw_de[!duplicated(kw_de$SYMBOL, fromLast = FALSE), ]\n",
    "rownames(kw_de) <- kw_de$SYMBOL\n",
    "# remove the first column from the DE dataframe  \n",
    "kw_de <- kw_de[, !(names(kw_de) %in% c(\"SYMBOL\"))]\n",
    "\n",
    "head(kw_de)"
   ]
  },
  {
   "cell_type": "markdown",
   "id": "610c0f93-6a3b-4221-bf0a-b93d65c4419c",
   "metadata": {},
   "source": [
    "To perform KS or Wilcoxon test, we will use the `runKsWilcox` function bellow."
   ]
  },
  {
   "cell_type": "code",
   "execution_count": 23,
   "id": "14a9698b-6464-451e-aa95-a7a13cbe2858",
   "metadata": {},
   "outputs": [],
   "source": [
    "#' Run Kolmogorov-Smirnov Wilcoxon rank-sum test on differential expression data\n",
    "#'\n",
    "#' @param DE_data A dataframe containing the DE analysis result.\n",
    "#' @param statCol A character string specifying the name of a statistic column in DE_data to be used in the EA analysis.\n",
    "#' @param genesets A list of gene sets to be analyzed.\n",
    "#' @param sTest The type of test to be used (\"ks\" for Kolmogorov-Smirnov, \"wilcox\" for Wilcoxon rank-sum).\n",
    "#' @return A dataframe containing the results of the tests for each gene set.\n",
    "\n",
    "runKsWilcox <- function(DE_data, genesets, statCol = \"statistic\", sTest = \"ks\") {\n",
    "    # remove rows that contain NA value in the column specified by the statCol argument\n",
    "    DE_data <- DE_data[!is.na(DE_data[[statCol]]), ]\n",
    "    # get the statistical values from DE_data to perform the test\n",
    "    ranks <- DE_data[[statCol]]\n",
    "    # set names of the DE genes\n",
    "    names(ranks) <- rownames(DE_data)\n",
    "\n",
    "    # choose the test to perform based on the sTest argument\n",
    "    test <- if (sTest == \"ks\") ks.test else wilcox.test\n",
    "    \n",
    "    background.genes <- rownames(DE_data)\n",
    "\n",
    "    DEhit <- sapply(genesets, function(gs) ranks[background.genes[background.genes %in% gs]])\n",
    "    DEmiss <- sapply(genesets, function(gs) ranks[background.genes[!background.genes %in% gs]])\n",
    "\n",
    "    # Initialize an empty list to store results\n",
    "    PA_res_list <- lapply(1:length(DEhit), function(i) {\n",
    "        cur.DEhit <- DEhit[[i]]\n",
    "        cur.DEmiss <- DEmiss[[i]]\n",
    "    \n",
    "        # Check if either list is empty\n",
    "        if (length(cur.DEhit) == 0 | length(cur.DEmiss) == 0) return(1)\n",
    "    \n",
    "        # Perform the test and extract the p-value\n",
    "        test_result <- test(cur.DEhit, cur.DEmiss)\n",
    "        test_result$p.value\n",
    "    })\n",
    "    \n",
    "    # Combine the results into a data frame\n",
    "    PA_res <- data.frame(\n",
    "        ID = names(genesets),\n",
    "        p.value = unlist(PA_res_list),\n",
    "        stringsAsFactors = FALSE\n",
    "    )\n",
    "    \n",
    "    # Remove rows with missing values\n",
    "    PA_res <- PA_res[complete.cases(PA_res), ]\n",
    "\n",
    "    return(PA_res)\n",
    "}"
   ]
  },
  {
   "cell_type": "markdown",
   "id": "b1461242-eab0-40cc-8168-e99c577f08f5",
   "metadata": {},
   "source": [
    "### Enrichment analysis using KS and GO terms"
   ]
  },
  {
   "cell_type": "markdown",
   "id": "d7eb5e19-f357-4656-9632-02118bb129e9",
   "metadata": {},
   "source": [
    "We will conduct KS enrichment analysis with GO terms gene sets list using the provided code."
   ]
  },
  {
   "cell_type": "code",
   "execution_count": 24,
   "id": "b6aca88a-249c-4d46-bd99-ae3ad29415db",
   "metadata": {
    "scrolled": true
   },
   "outputs": [
    {
     "data": {
      "text/html": [
       "<table class=\"dataframe\">\n",
       "<caption>A data.frame: 6 × 2</caption>\n",
       "<thead>\n",
       "\t<tr><th></th><th scope=col>ID</th><th scope=col>p.value</th></tr>\n",
       "\t<tr><th></th><th scope=col>&lt;chr&gt;</th><th scope=col>&lt;dbl&gt;</th></tr>\n",
       "</thead>\n",
       "<tbody>\n",
       "\t<tr><th scope=row>628</th><td>GO:0006091</td><td>0</td></tr>\n",
       "\t<tr><th scope=row>1183</th><td>GO:0008150</td><td>0</td></tr>\n",
       "\t<tr><th scope=row>1248</th><td>GO:0009060</td><td>0</td></tr>\n",
       "\t<tr><th scope=row>2989</th><td>GO:0035239</td><td>0</td></tr>\n",
       "\t<tr><th scope=row>2999</th><td>GO:0035295</td><td>0</td></tr>\n",
       "\t<tr><th scope=row>3708</th><td>GO:0045333</td><td>0</td></tr>\n",
       "</tbody>\n",
       "</table>\n"
      ],
      "text/latex": [
       "A data.frame: 6 × 2\n",
       "\\begin{tabular}{r|ll}\n",
       "  & ID & p.value\\\\\n",
       "  & <chr> & <dbl>\\\\\n",
       "\\hline\n",
       "\t628 & GO:0006091 & 0\\\\\n",
       "\t1183 & GO:0008150 & 0\\\\\n",
       "\t1248 & GO:0009060 & 0\\\\\n",
       "\t2989 & GO:0035239 & 0\\\\\n",
       "\t2999 & GO:0035295 & 0\\\\\n",
       "\t3708 & GO:0045333 & 0\\\\\n",
       "\\end{tabular}\n"
      ],
      "text/markdown": [
       "\n",
       "A data.frame: 6 × 2\n",
       "\n",
       "| <!--/--> | ID &lt;chr&gt; | p.value &lt;dbl&gt; |\n",
       "|---|---|---|\n",
       "| 628 | GO:0006091 | 0 |\n",
       "| 1183 | GO:0008150 | 0 |\n",
       "| 1248 | GO:0009060 | 0 |\n",
       "| 2989 | GO:0035239 | 0 |\n",
       "| 2999 | GO:0035295 | 0 |\n",
       "| 3708 | GO:0045333 | 0 |\n",
       "\n"
      ],
      "text/plain": [
       "     ID         p.value\n",
       "628  GO:0006091 0      \n",
       "1183 GO:0008150 0      \n",
       "1248 GO:0009060 0      \n",
       "2989 GO:0035239 0      \n",
       "2999 GO:0035295 0      \n",
       "3708 GO:0045333 0      "
      ]
     },
     "metadata": {},
     "output_type": "display_data"
    }
   ],
   "source": [
    "# load the GO gene sets from saved gmt file\n",
    "suppressWarnings({suppressMessages({geneset <- gmt2geneset(\"./data/GO_terms.gmt\")})})\n",
    "# perform enrichment analysis using KS test\n",
    "suppressWarnings(k_results <- runKsWilcox(DE_data = kw_de, geneset = geneset, statCol = \"statistic\", sTest = \"ks\"))\n",
    "\n",
    "# order the results \n",
    "k_results <- k_results[order(k_results$p.value), ]\n",
    "# show some first rows of the result table\n",
    "head(k_results)"
   ]
  },
  {
   "cell_type": "markdown",
   "id": "214d9285-55fa-4b53-a974-ea18096ffea8",
   "metadata": {},
   "source": [
    "### Enrichment analysis using KS and KEGG pathways\n",
    "To do the analysis with KEEG pathways, we will replace the GO gene sets list with the KEGG pathways."
   ]
  },
  {
   "cell_type": "code",
   "execution_count": 110,
   "id": "6b3d0d05-3bae-4b41-8ade-479d1985cf40",
   "metadata": {},
   "outputs": [
    {
     "data": {
      "text/html": [
       "<table class=\"dataframe\">\n",
       "<caption>A data.frame: 6 × 2</caption>\n",
       "<thead>\n",
       "\t<tr><th></th><th scope=col>ID</th><th scope=col>p.value</th></tr>\n",
       "\t<tr><th></th><th scope=col>&lt;chr&gt;</th><th scope=col>&lt;dbl&gt;</th></tr>\n",
       "</thead>\n",
       "<tbody>\n",
       "\t<tr><th scope=row>172</th><td>hsa04610</td><td>0.003411117</td></tr>\n",
       "\t<tr><th scope=row>165</th><td>hsa04520</td><td>0.031746032</td></tr>\n",
       "\t<tr><th scope=row>289</th><td>hsa05168</td><td>0.043373174</td></tr>\n",
       "\t<tr><th scope=row>207</th><td>hsa04918</td><td>0.055555556</td></tr>\n",
       "\t<tr><th scope=row>171</th><td>hsa04640</td><td>0.071333713</td></tr>\n",
       "\t<tr><th scope=row>181</th><td>hsa04612</td><td>0.071333713</td></tr>\n",
       "</tbody>\n",
       "</table>\n"
      ],
      "text/latex": [
       "A data.frame: 6 × 2\n",
       "\\begin{tabular}{r|ll}\n",
       "  & ID & p.value\\\\\n",
       "  & <chr> & <dbl>\\\\\n",
       "\\hline\n",
       "\t172 & hsa04610 & 0.003411117\\\\\n",
       "\t165 & hsa04520 & 0.031746032\\\\\n",
       "\t289 & hsa05168 & 0.043373174\\\\\n",
       "\t207 & hsa04918 & 0.055555556\\\\\n",
       "\t171 & hsa04640 & 0.071333713\\\\\n",
       "\t181 & hsa04612 & 0.071333713\\\\\n",
       "\\end{tabular}\n"
      ],
      "text/markdown": [
       "\n",
       "A data.frame: 6 × 2\n",
       "\n",
       "| <!--/--> | ID &lt;chr&gt; | p.value &lt;dbl&gt; |\n",
       "|---|---|---|\n",
       "| 172 | hsa04610 | 0.003411117 |\n",
       "| 165 | hsa04520 | 0.031746032 |\n",
       "| 289 | hsa05168 | 0.043373174 |\n",
       "| 207 | hsa04918 | 0.055555556 |\n",
       "| 171 | hsa04640 | 0.071333713 |\n",
       "| 181 | hsa04612 | 0.071333713 |\n",
       "\n"
      ],
      "text/plain": [
       "    ID       p.value    \n",
       "172 hsa04610 0.003411117\n",
       "165 hsa04520 0.031746032\n",
       "289 hsa05168 0.043373174\n",
       "207 hsa04918 0.055555556\n",
       "171 hsa04640 0.071333713\n",
       "181 hsa04612 0.071333713"
      ]
     },
     "metadata": {},
     "output_type": "display_data"
    }
   ],
   "source": [
    "# Loading the KEGG pathways from saved gmt file\n",
    "suppressWarnings({suppressMessages({geneset <- gmt2geneset(\"./data/KEGG_pathways.gmt\")})})\n",
    "# perform enrichment analysis using KS test\n",
    "k_results <- runKsWilcox(DE_data = kw_de, geneset = geneset, statCol = \"statistic\", sTest = \"ks\")\n",
    "\n",
    "# order the results \n",
    "k_results <- k_results[order(k_results$p.value), ]\n",
    "# show some first rows of the result table\n",
    "head(k_results)"
   ]
  },
  {
   "cell_type": "markdown",
   "id": "036d1f5a-8292-442c-9e81-d6cdfd286ae5",
   "metadata": {},
   "source": [
    "### Enrichment analysis using KS and REACTOME pathways\n",
    "To do the analysis with REACTOME pathways, we will use the same steps as for GO terms and KEEG pathways."
   ]
  },
  {
   "cell_type": "code",
   "execution_count": 111,
   "id": "3a67eacd-72f8-4ac8-99b5-90048bcad9ec",
   "metadata": {},
   "outputs": [
    {
     "data": {
      "text/html": [
       "<table class=\"dataframe\">\n",
       "<caption>A data.frame: 6 × 2</caption>\n",
       "<thead>\n",
       "\t<tr><th></th><th scope=col>ID</th><th scope=col>p.value</th></tr>\n",
       "\t<tr><th></th><th scope=col>&lt;chr&gt;</th><th scope=col>&lt;dbl&gt;</th></tr>\n",
       "</thead>\n",
       "<tbody>\n",
       "\t<tr><th scope=row>612</th><td>R-HSA-210744 </td><td>0.007936508</td></tr>\n",
       "\t<tr><th scope=row>615</th><td>R-HSA-210747 </td><td>0.007936508</td></tr>\n",
       "\t<tr><th scope=row>1870</th><td>R-HSA-5690714</td><td>0.008089547</td></tr>\n",
       "\t<tr><th scope=row>797</th><td>R-HSA-425366 </td><td>0.015873016</td></tr>\n",
       "\t<tr><th scope=row>801</th><td>R-HSA-425407 </td><td>0.015873016</td></tr>\n",
       "\t<tr><th scope=row>855</th><td>R-HSA-444411 </td><td>0.015873016</td></tr>\n",
       "</tbody>\n",
       "</table>\n"
      ],
      "text/latex": [
       "A data.frame: 6 × 2\n",
       "\\begin{tabular}{r|ll}\n",
       "  & ID & p.value\\\\\n",
       "  & <chr> & <dbl>\\\\\n",
       "\\hline\n",
       "\t612 & R-HSA-210744  & 0.007936508\\\\\n",
       "\t615 & R-HSA-210747  & 0.007936508\\\\\n",
       "\t1870 & R-HSA-5690714 & 0.008089547\\\\\n",
       "\t797 & R-HSA-425366  & 0.015873016\\\\\n",
       "\t801 & R-HSA-425407  & 0.015873016\\\\\n",
       "\t855 & R-HSA-444411  & 0.015873016\\\\\n",
       "\\end{tabular}\n"
      ],
      "text/markdown": [
       "\n",
       "A data.frame: 6 × 2\n",
       "\n",
       "| <!--/--> | ID &lt;chr&gt; | p.value &lt;dbl&gt; |\n",
       "|---|---|---|\n",
       "| 612 | R-HSA-210744  | 0.007936508 |\n",
       "| 615 | R-HSA-210747  | 0.007936508 |\n",
       "| 1870 | R-HSA-5690714 | 0.008089547 |\n",
       "| 797 | R-HSA-425366  | 0.015873016 |\n",
       "| 801 | R-HSA-425407  | 0.015873016 |\n",
       "| 855 | R-HSA-444411  | 0.015873016 |\n",
       "\n"
      ],
      "text/plain": [
       "     ID            p.value    \n",
       "612  R-HSA-210744  0.007936508\n",
       "615  R-HSA-210747  0.007936508\n",
       "1870 R-HSA-5690714 0.008089547\n",
       "797  R-HSA-425366  0.015873016\n",
       "801  R-HSA-425407  0.015873016\n",
       "855  R-HSA-444411  0.015873016"
      ]
     },
     "metadata": {},
     "output_type": "display_data"
    }
   ],
   "source": [
    "# Loading the KEGG pathways from saved gmt file\n",
    "suppressWarnings({suppressMessages({geneset <- gmt2geneset(\"./data/REACTOME_pathways.gmt\")})})\n",
    "# perform enrichment analysis using KS test\n",
    "k_results <- runKsWilcox(DE_data = kw_de, geneset = geneset, statCol = \"statistic\", sTest = \"ks\")\n",
    "\n",
    "# order the results \n",
    "k_results <- k_results[order(k_results$p.value), ]\n",
    "# show some first rows of the result table\n",
    "head(k_results)"
   ]
  },
  {
   "cell_type": "markdown",
   "id": "b9a069b0-0c79-455d-90b4-cfeaedcb4fb7",
   "metadata": {},
   "source": [
    "### Enrichment analysis using WILCOXON and GO terms\n",
    "\n",
    "For enrichment analysis with Wilcoxon test, we will pass the value \"wilcox\" to the *sTest* argument in the `runKsWilcox` function. We will do the same steps as KS test."
   ]
  },
  {
   "cell_type": "code",
   "execution_count": 112,
   "id": "7c3f6872-3317-43ac-bfe7-f57f991b7d56",
   "metadata": {},
   "outputs": [
    {
     "data": {
      "text/html": [
       "<table class=\"dataframe\">\n",
       "<caption>A data.frame: 6 × 2</caption>\n",
       "<thead>\n",
       "\t<tr><th></th><th scope=col>ID</th><th scope=col>p.value</th></tr>\n",
       "\t<tr><th></th><th scope=col>&lt;chr&gt;</th><th scope=col>&lt;dbl&gt;</th></tr>\n",
       "</thead>\n",
       "<tbody>\n",
       "\t<tr><th scope=row>3864</th><td>GO:0045935</td><td>0.007026383</td></tr>\n",
       "\t<tr><th scope=row>5701</th><td>GO:0090303</td><td>0.007074130</td></tr>\n",
       "\t<tr><th scope=row>6399</th><td>GO:1903036</td><td>0.007074130</td></tr>\n",
       "\t<tr><th scope=row>5446</th><td>GO:0071840</td><td>0.007700341</td></tr>\n",
       "\t<tr><th scope=row>3846</th><td>GO:0045893</td><td>0.008484490</td></tr>\n",
       "\t<tr><th scope=row>4519</th><td>GO:0051254</td><td>0.008484490</td></tr>\n",
       "</tbody>\n",
       "</table>\n"
      ],
      "text/latex": [
       "A data.frame: 6 × 2\n",
       "\\begin{tabular}{r|ll}\n",
       "  & ID & p.value\\\\\n",
       "  & <chr> & <dbl>\\\\\n",
       "\\hline\n",
       "\t3864 & GO:0045935 & 0.007026383\\\\\n",
       "\t5701 & GO:0090303 & 0.007074130\\\\\n",
       "\t6399 & GO:1903036 & 0.007074130\\\\\n",
       "\t5446 & GO:0071840 & 0.007700341\\\\\n",
       "\t3846 & GO:0045893 & 0.008484490\\\\\n",
       "\t4519 & GO:0051254 & 0.008484490\\\\\n",
       "\\end{tabular}\n"
      ],
      "text/markdown": [
       "\n",
       "A data.frame: 6 × 2\n",
       "\n",
       "| <!--/--> | ID &lt;chr&gt; | p.value &lt;dbl&gt; |\n",
       "|---|---|---|\n",
       "| 3864 | GO:0045935 | 0.007026383 |\n",
       "| 5701 | GO:0090303 | 0.007074130 |\n",
       "| 6399 | GO:1903036 | 0.007074130 |\n",
       "| 5446 | GO:0071840 | 0.007700341 |\n",
       "| 3846 | GO:0045893 | 0.008484490 |\n",
       "| 4519 | GO:0051254 | 0.008484490 |\n",
       "\n"
      ],
      "text/plain": [
       "     ID         p.value    \n",
       "3864 GO:0045935 0.007026383\n",
       "5701 GO:0090303 0.007074130\n",
       "6399 GO:1903036 0.007074130\n",
       "5446 GO:0071840 0.007700341\n",
       "3846 GO:0045893 0.008484490\n",
       "4519 GO:0051254 0.008484490"
      ]
     },
     "metadata": {},
     "output_type": "display_data"
    }
   ],
   "source": [
    "# load the GO gene sets from saved gmt file\n",
    "suppressWarnings({suppressMessages({geneset <- gmt2geneset(\"./data/GO_terms.gmt\")})})\n",
    "# perform enrichment analysis with Wilcoxon test \n",
    "w_results <- runKsWilcox(DE_data = kw_de, geneset = geneset, statCol = \"statistic\", sTest = \"wilcox\")\n",
    "\n",
    "# order the result  \n",
    "w_results <- w_results[order(w_results$p.value), ]\n",
    "# show some first rows of the result\n",
    "head(w_results)"
   ]
  },
  {
   "cell_type": "markdown",
   "id": "8b13fabf-227e-47d1-ad29-1cd5fbf81de7",
   "metadata": {},
   "source": [
    "### Enrichment analysis using WILCOXON and KEGG pathways\n",
    "To do the analysis with KEEG pathways, we will replace the GO gene sets with the KEGG pathways."
   ]
  },
  {
   "cell_type": "code",
   "execution_count": 113,
   "id": "bc304aaf-85f9-412a-8fb4-c0e6b6a391ce",
   "metadata": {},
   "outputs": [
    {
     "data": {
      "text/html": [
       "<table class=\"dataframe\">\n",
       "<caption>A data.frame: 6 × 2</caption>\n",
       "<thead>\n",
       "\t<tr><th></th><th scope=col>ID</th><th scope=col>p.value</th></tr>\n",
       "\t<tr><th></th><th scope=col>&lt;chr&gt;</th><th scope=col>&lt;dbl&gt;</th></tr>\n",
       "</thead>\n",
       "<tbody>\n",
       "\t<tr><th scope=row>172</th><td>hsa04610</td><td>0.01234620</td></tr>\n",
       "\t<tr><th scope=row>289</th><td>hsa05168</td><td>0.04057075</td></tr>\n",
       "\t<tr><th scope=row>181</th><td>hsa04612</td><td>0.05563734</td></tr>\n",
       "\t<tr><th scope=row>303</th><td>hsa05152</td><td>0.05563734</td></tr>\n",
       "\t<tr><th scope=row>171</th><td>hsa04640</td><td>0.09105652</td></tr>\n",
       "\t<tr><th scope=row>165</th><td>hsa04520</td><td>0.09352453</td></tr>\n",
       "</tbody>\n",
       "</table>\n"
      ],
      "text/latex": [
       "A data.frame: 6 × 2\n",
       "\\begin{tabular}{r|ll}\n",
       "  & ID & p.value\\\\\n",
       "  & <chr> & <dbl>\\\\\n",
       "\\hline\n",
       "\t172 & hsa04610 & 0.01234620\\\\\n",
       "\t289 & hsa05168 & 0.04057075\\\\\n",
       "\t181 & hsa04612 & 0.05563734\\\\\n",
       "\t303 & hsa05152 & 0.05563734\\\\\n",
       "\t171 & hsa04640 & 0.09105652\\\\\n",
       "\t165 & hsa04520 & 0.09352453\\\\\n",
       "\\end{tabular}\n"
      ],
      "text/markdown": [
       "\n",
       "A data.frame: 6 × 2\n",
       "\n",
       "| <!--/--> | ID &lt;chr&gt; | p.value &lt;dbl&gt; |\n",
       "|---|---|---|\n",
       "| 172 | hsa04610 | 0.01234620 |\n",
       "| 289 | hsa05168 | 0.04057075 |\n",
       "| 181 | hsa04612 | 0.05563734 |\n",
       "| 303 | hsa05152 | 0.05563734 |\n",
       "| 171 | hsa04640 | 0.09105652 |\n",
       "| 165 | hsa04520 | 0.09352453 |\n",
       "\n"
      ],
      "text/plain": [
       "    ID       p.value   \n",
       "172 hsa04610 0.01234620\n",
       "289 hsa05168 0.04057075\n",
       "181 hsa04612 0.05563734\n",
       "303 hsa05152 0.05563734\n",
       "171 hsa04640 0.09105652\n",
       "165 hsa04520 0.09352453"
      ]
     },
     "metadata": {},
     "output_type": "display_data"
    }
   ],
   "source": [
    "# Loading the KEGG pathways from saved gmt file\n",
    "suppressWarnings({suppressMessages({geneset <- gmt2geneset(\"./data/KEGG_pathways.gmt\")})})\n",
    "# perform enrichment analysis with Wilcoxon test \n",
    "w_results <- runKsWilcox(DE_data = kw_de, geneset = geneset, statCol = \"statistic\", sTest = \"wilcox\")\n",
    "\n",
    "# order the result  \n",
    "w_results <- w_results[order(w_results$p.value), ]\n",
    "# show some first rows of the result\n",
    "head(w_results)"
   ]
  },
  {
   "cell_type": "markdown",
   "id": "402f89b4-83d0-4dbb-af54-265cfb4cf314",
   "metadata": {},
   "source": [
    "### Enrichment analysis using WILCOXON and REACTOME pathways\n",
    "We can use the same code for REACTOME pathways."
   ]
  },
  {
   "cell_type": "code",
   "execution_count": 114,
   "id": "b5641e20-85d2-4ca8-9e66-4a1aabeb216b",
   "metadata": {},
   "outputs": [
    {
     "data": {
      "text/html": [
       "<table class=\"dataframe\">\n",
       "<caption>A data.frame: 6 × 2</caption>\n",
       "<thead>\n",
       "\t<tr><th></th><th scope=col>ID</th><th scope=col>p.value</th></tr>\n",
       "\t<tr><th></th><th scope=col>&lt;chr&gt;</th><th scope=col>&lt;dbl&gt;</th></tr>\n",
       "</thead>\n",
       "<tbody>\n",
       "\t<tr><th scope=row>1870</th><td>R-HSA-5690714</td><td>0.01795096</td></tr>\n",
       "\t<tr><th scope=row>999</th><td>R-HSA-983695 </td><td>0.02620906</td></tr>\n",
       "\t<tr><th scope=row>2440</th><td>R-HSA-9679191</td><td>0.02620906</td></tr>\n",
       "\t<tr><th scope=row>1138</th><td>R-HSA-1640170</td><td>0.03103296</td></tr>\n",
       "\t<tr><th scope=row>1139</th><td>R-HSA-1643685</td><td>0.03490709</td></tr>\n",
       "\t<tr><th scope=row>874</th><td>R-HSA-446728 </td><td>0.04057075</td></tr>\n",
       "</tbody>\n",
       "</table>\n"
      ],
      "text/latex": [
       "A data.frame: 6 × 2\n",
       "\\begin{tabular}{r|ll}\n",
       "  & ID & p.value\\\\\n",
       "  & <chr> & <dbl>\\\\\n",
       "\\hline\n",
       "\t1870 & R-HSA-5690714 & 0.01795096\\\\\n",
       "\t999 & R-HSA-983695  & 0.02620906\\\\\n",
       "\t2440 & R-HSA-9679191 & 0.02620906\\\\\n",
       "\t1138 & R-HSA-1640170 & 0.03103296\\\\\n",
       "\t1139 & R-HSA-1643685 & 0.03490709\\\\\n",
       "\t874 & R-HSA-446728  & 0.04057075\\\\\n",
       "\\end{tabular}\n"
      ],
      "text/markdown": [
       "\n",
       "A data.frame: 6 × 2\n",
       "\n",
       "| <!--/--> | ID &lt;chr&gt; | p.value &lt;dbl&gt; |\n",
       "|---|---|---|\n",
       "| 1870 | R-HSA-5690714 | 0.01795096 |\n",
       "| 999 | R-HSA-983695  | 0.02620906 |\n",
       "| 2440 | R-HSA-9679191 | 0.02620906 |\n",
       "| 1138 | R-HSA-1640170 | 0.03103296 |\n",
       "| 1139 | R-HSA-1643685 | 0.03490709 |\n",
       "| 874 | R-HSA-446728  | 0.04057075 |\n",
       "\n"
      ],
      "text/plain": [
       "     ID            p.value   \n",
       "1870 R-HSA-5690714 0.01795096\n",
       "999  R-HSA-983695  0.02620906\n",
       "2440 R-HSA-9679191 0.02620906\n",
       "1138 R-HSA-1640170 0.03103296\n",
       "1139 R-HSA-1643685 0.03490709\n",
       "874  R-HSA-446728  0.04057075"
      ]
     },
     "metadata": {},
     "output_type": "display_data"
    }
   ],
   "source": [
    "# Loading the KEGG pathways from saved gmt file\n",
    "suppressWarnings({suppressMessages({geneset <- gmt2geneset(\"./data/REACTOME_pathways.gmt\")})})\n",
    "\n",
    "# perform enrichment analysis using KS test\n",
    "w_results <- runKsWilcox(DE_data = kw_de, geneset = geneset, statCol = \"statistic\", sTest = \"wilcox\")\n",
    "\n",
    "# order the results \n",
    "w_results <- w_results[order(w_results$p.value), ]\n",
    "# show some first rows of the result table\n",
    "head(w_results)"
   ]
  },
  {
   "cell_type": "markdown",
   "id": "9aa0e1c7",
   "metadata": {},
   "source": [
    "<!-- headings -->\n",
    "<a id=\"fgsea-main\"></a>\n",
    "## 4. Enrichment Analysis using FGSEA"
   ]
  },
  {
   "cell_type": "markdown",
   "id": "47b46d66",
   "metadata": {},
   "source": [
    "This section describes `FGSEA`, one of the methods for evaluating pathway enrichment in transcriptional data and it stands for Fast preranked Gene Set Enrichment Analysis (GSEA). `FGSEA` quickly calculates arbitrarily low GSEA P-values for a collection of gene sets and is based on an algorithm that allows  it to make more permutations and get accurate *p-values*.\n",
    "It extends the GSEA algorithm which calculates the enrichment score (the degree to which a set S is over-represented at the top or bottom of the ranked list L), estimates the p-value of the Enrichment Score using a permutation test and adjusts the estimated significance level to account for multiple hypotheses in addition to calculating the q-values for FDR control. Typically, GSEA requires inputs of a list of gene sets (GO term or pathway with a set of genes), a vector DE genes with statistic. In addition, users can limit the number of terms or pathways of interest by adjusting the `minSize` and `maxSize` parameters. The code to install and load the FGSEA R package is shown below:"
   ]
  },
  {
   "cell_type": "code",
   "execution_count": 17,
   "id": "b9702a89",
   "metadata": {},
   "outputs": [],
   "source": [
    "# To perform enrichment analysis using FGSEA, we first install the fgsea package\n",
    "suppressMessages({\n",
    "    if (!require(\"BiocManager\", quietly = TRUE)) {\n",
    "        install.packages(\"BiocManager\")\n",
    "    }\n",
    "    suppressWarnings(BiocManager::install(\"fgsea\", update = F))\n",
    "    \n",
    "})\n",
    "# Loading the package\n",
    "suppressPackageStartupMessages({\n",
    "    library(\"fgsea\")\n",
    "})\n",
    "\n",
    "# Get the number of maximum cores for parallel processing\n",
    "library(parallel)\n",
    "ncores <- detectCores()\n",
    "\n",
    "# Set number of permutation for FGSEA\n",
    "nperms <- 2000"
   ]
  },
  {
   "cell_type": "markdown",
   "id": "20d49b0d-5189-4fc8-8ee8-3a4e1e0b3425",
   "metadata": {},
   "source": [
    "For conducting pathway analysis using FGSEA, we can use the runFGSEA function written below. This function needs "
   ]
  },
  {
   "cell_type": "code",
   "execution_count": 18,
   "id": "92825f53-229c-4f6f-953f-dec89d9b2ac2",
   "metadata": {},
   "outputs": [],
   "source": [
    "#' @description This function performs gene set analysis using fgsea (fast gene set enrichment analysis).\n",
    "#'\n",
    "#' @param DE_data A dataframe containing the DE analysis result.\n",
    "#' @param genesets A list of gene sets to be analyzed, ex. KEGG genesets.\n",
    "#' @param statCol A character string specifying the name of a statistic column in DE_data to be used in the EA analysis.\n",
    "#' @param nperms An integer specifying the number of permutations for fgsea. \n",
    "#' @param ncores An integer specifying the number cpu cores for parallel processing.\n",
    "#' @return A list containing a dataframe of gene set analysis results and a statistic vector\n",
    "\n",
    "runFgsea <- function(DE_data, genesets, statCol = \"statistic\", nperms = 200, ncores = 0) {\n",
    "\n",
    "    if (is.null(DE_data) |\n",
    "        dim(DE_data)[1] == 0 |\n",
    "        dim(DE_data)[2] == 0) {\n",
    "        stop(\"No differential analysis data is in input data.\")\n",
    "    }\n",
    "\n",
    "    DE_data <- DE_data[!is.na(DE_data[[statCol]]),]\n",
    "\n",
    "    statistic <- unlist(DE_data[[statCol]]) \n",
    "    statistic <- as.vector(statistic)\n",
    "    names(statistic) <- rownames(DE_data)\n",
    "\n",
    "    suppressWarnings(fgsea_res <- fgsea::fgsea(pathways = genesets, stats = statistic, nperm = nperms, nproc = ncores))\n",
    "\n",
    "    fgsea_res <- fgsea_res[!is.na(fgsea_res[[\"pval\"]]), ]\n",
    "    fgsea_res$ID <- fgsea_res$pathway\n",
    "    fgsea_res$p.value <- fgsea_res$pval\n",
    "    fgsea_res$score <- fgsea_res$ES\n",
    "    fgsea_res$normalizedScore <- fgsea_res$NES\n",
    "    \n",
    "    list(fgsea_res = fgsea_res, stats = statistic)\n",
    "}"
   ]
  },
  {
   "cell_type": "code",
   "execution_count": 19,
   "id": "cdb41931-b689-4fb9-9c5d-0e1c443bfe00",
   "metadata": {},
   "outputs": [
    {
     "data": {
      "text/html": [
       "<iframe src=\"./Quizzes/Quiz_Submodule4-3.html\" width=100% height=250></iframe>"
      ]
     },
     "metadata": {},
     "output_type": "display_data"
    }
   ],
   "source": [
    "#Run the following command to take the quiz\n",
    "IRdisplay::display_html('<iframe src=\"./Quizzes/Quiz_Submodule4-3.html\" width=100% height=250></iframe>')"
   ]
  },
  {
   "cell_type": "markdown",
   "id": "fb6f9407",
   "metadata": {},
   "source": [
    "Next, we need to prepare a vector of DE genes with its statistic."
   ]
  },
  {
   "cell_type": "markdown",
   "id": "9950a6f6",
   "metadata": {},
   "source": [
    "### Enrichment analysis using FGSEA and GO terms"
   ]
  },
  {
   "cell_type": "markdown",
   "id": "c5093c0c",
   "metadata": {},
   "source": [
    "The package `fgsea` has its own function named `gmtPathways` to load the genesets from the `gmt` file. It is recommended to use this function for compatibility. We can load the GO terms geneset and view the first five GO terms with associated genes using the following command:"
   ]
  },
  {
   "cell_type": "code",
   "execution_count": 20,
   "id": "b2d3d20a",
   "metadata": {
    "scrolled": true
   },
   "outputs": [
    {
     "data": {
      "text/html": [
       "<dl>\n",
       "\t<dt>$`GO:0000002`</dt>\n",
       "\t\t<dd><style>\n",
       ".list-inline {list-style: none; margin:0; padding: 0}\n",
       ".list-inline>li {display: inline-block}\n",
       ".list-inline>li:not(:last-child)::after {content: \"\\00b7\"; padding: 0 .5ex}\n",
       "</style>\n",
       "<ol class=list-inline><li>'AKT3'</li><li>'DNA2'</li><li>'DNAJA3'</li><li>'ENDOG'</li><li>'FLCN'</li><li>'LIG3'</li></ol>\n",
       "</dd>\n",
       "\t<dt>$`GO:0000003`</dt>\n",
       "\t\t<dd><style>\n",
       ".list-inline {list-style: none; margin:0; padding: 0}\n",
       ".list-inline>li {display: inline-block}\n",
       ".list-inline>li:not(:last-child)::after {content: \"\\00b7\"; padding: 0 .5ex}\n",
       "</style>\n",
       "<ol class=list-inline><li>'A1CF'</li><li>'A2M'</li><li>'AAAS'</li><li>'ABAT'</li><li>'ABCC8'</li><li>'ABHD2'</li></ol>\n",
       "</dd>\n",
       "\t<dt>$`GO:0000012`</dt>\n",
       "\t\t<dd><style>\n",
       ".list-inline {list-style: none; margin:0; padding: 0}\n",
       ".list-inline>li {display: inline-block}\n",
       ".list-inline>li:not(:last-child)::after {content: \"\\00b7\"; padding: 0 .5ex}\n",
       "</style>\n",
       "<ol class=list-inline><li>'APLF'</li><li>'APTX'</li><li>'ERCC6'</li><li>'ERCC8'</li><li>'LIG4'</li><li>'PARP1'</li></ol>\n",
       "</dd>\n",
       "\t<dt>$`GO:0000018`</dt>\n",
       "\t\t<dd><style>\n",
       ".list-inline {list-style: none; margin:0; padding: 0}\n",
       ".list-inline>li {display: inline-block}\n",
       ".list-inline>li:not(:last-child)::after {content: \"\\00b7\"; padding: 0 .5ex}\n",
       "</style>\n",
       "<ol class=list-inline><li>'ABL1'</li><li>'ACTB'</li><li>'ACTL6A'</li><li>'ACTR2'</li><li>'ALYREF'</li><li>'ANKLE1'</li></ol>\n",
       "</dd>\n",
       "\t<dt>$`GO:0000022`</dt>\n",
       "\t\t<dd><style>\n",
       ".list-inline {list-style: none; margin:0; padding: 0}\n",
       ".list-inline>li {display: inline-block}\n",
       ".list-inline>li:not(:last-child)::after {content: \"\\00b7\"; padding: 0 .5ex}\n",
       "</style>\n",
       "<ol class=list-inline><li>'AURKB'</li><li>'AURKC'</li><li>'BIRC5'</li><li>'CDCA8'</li><li>'INCENP'</li><li>'KIF23'</li></ol>\n",
       "</dd>\n",
       "</dl>\n"
      ],
      "text/latex": [
       "\\begin{description}\n",
       "\\item[\\$`GO:0000002`] \\begin{enumerate*}\n",
       "\\item 'AKT3'\n",
       "\\item 'DNA2'\n",
       "\\item 'DNAJA3'\n",
       "\\item 'ENDOG'\n",
       "\\item 'FLCN'\n",
       "\\item 'LIG3'\n",
       "\\end{enumerate*}\n",
       "\n",
       "\\item[\\$`GO:0000003`] \\begin{enumerate*}\n",
       "\\item 'A1CF'\n",
       "\\item 'A2M'\n",
       "\\item 'AAAS'\n",
       "\\item 'ABAT'\n",
       "\\item 'ABCC8'\n",
       "\\item 'ABHD2'\n",
       "\\end{enumerate*}\n",
       "\n",
       "\\item[\\$`GO:0000012`] \\begin{enumerate*}\n",
       "\\item 'APLF'\n",
       "\\item 'APTX'\n",
       "\\item 'ERCC6'\n",
       "\\item 'ERCC8'\n",
       "\\item 'LIG4'\n",
       "\\item 'PARP1'\n",
       "\\end{enumerate*}\n",
       "\n",
       "\\item[\\$`GO:0000018`] \\begin{enumerate*}\n",
       "\\item 'ABL1'\n",
       "\\item 'ACTB'\n",
       "\\item 'ACTL6A'\n",
       "\\item 'ACTR2'\n",
       "\\item 'ALYREF'\n",
       "\\item 'ANKLE1'\n",
       "\\end{enumerate*}\n",
       "\n",
       "\\item[\\$`GO:0000022`] \\begin{enumerate*}\n",
       "\\item 'AURKB'\n",
       "\\item 'AURKC'\n",
       "\\item 'BIRC5'\n",
       "\\item 'CDCA8'\n",
       "\\item 'INCENP'\n",
       "\\item 'KIF23'\n",
       "\\end{enumerate*}\n",
       "\n",
       "\\end{description}\n"
      ],
      "text/markdown": [
       "$`GO:0000002`\n",
       ":   1. 'AKT3'\n",
       "2. 'DNA2'\n",
       "3. 'DNAJA3'\n",
       "4. 'ENDOG'\n",
       "5. 'FLCN'\n",
       "6. 'LIG3'\n",
       "\n",
       "\n",
       "\n",
       "$`GO:0000003`\n",
       ":   1. 'A1CF'\n",
       "2. 'A2M'\n",
       "3. 'AAAS'\n",
       "4. 'ABAT'\n",
       "5. 'ABCC8'\n",
       "6. 'ABHD2'\n",
       "\n",
       "\n",
       "\n",
       "$`GO:0000012`\n",
       ":   1. 'APLF'\n",
       "2. 'APTX'\n",
       "3. 'ERCC6'\n",
       "4. 'ERCC8'\n",
       "5. 'LIG4'\n",
       "6. 'PARP1'\n",
       "\n",
       "\n",
       "\n",
       "$`GO:0000018`\n",
       ":   1. 'ABL1'\n",
       "2. 'ACTB'\n",
       "3. 'ACTL6A'\n",
       "4. 'ACTR2'\n",
       "5. 'ALYREF'\n",
       "6. 'ANKLE1'\n",
       "\n",
       "\n",
       "\n",
       "$`GO:0000022`\n",
       ":   1. 'AURKB'\n",
       "2. 'AURKC'\n",
       "3. 'BIRC5'\n",
       "4. 'CDCA8'\n",
       "5. 'INCENP'\n",
       "6. 'KIF23'\n",
       "\n",
       "\n",
       "\n",
       "\n",
       "\n"
      ],
      "text/plain": [
       "$`GO:0000002`\n",
       "[1] \"AKT3\"   \"DNA2\"   \"DNAJA3\" \"ENDOG\"  \"FLCN\"   \"LIG3\"  \n",
       "\n",
       "$`GO:0000003`\n",
       "[1] \"A1CF\"  \"A2M\"   \"AAAS\"  \"ABAT\"  \"ABCC8\" \"ABHD2\"\n",
       "\n",
       "$`GO:0000012`\n",
       "[1] \"APLF\"  \"APTX\"  \"ERCC6\" \"ERCC8\" \"LIG4\"  \"PARP1\"\n",
       "\n",
       "$`GO:0000018`\n",
       "[1] \"ABL1\"   \"ACTB\"   \"ACTL6A\" \"ACTR2\"  \"ALYREF\" \"ANKLE1\"\n",
       "\n",
       "$`GO:0000022`\n",
       "[1] \"AURKB\"  \"AURKC\"  \"BIRC5\"  \"CDCA8\"  \"INCENP\" \"KIF23\" \n"
      ]
     },
     "metadata": {},
     "output_type": "display_data"
    }
   ],
   "source": [
    "# Load the pathways into a named list\n",
    "GO_term_hallmark <- gmtPathways(\"./data/GO_terms.gmt\")\n",
    "# Show the first few GO terms, and within those, show only the first few genes.\n",
    "tmp = lapply(GO_term_hallmark, head)\n",
    "tmp[1:5]"
   ]
  },
  {
   "cell_type": "markdown",
   "id": "d06027d9",
   "metadata": {},
   "source": [
    "Running the FGSEA can be done by calling the `fgsea` with two required inputs that we created from the two previous steps."
   ]
  },
  {
   "cell_type": "code",
   "execution_count": 119,
   "id": "6efd9f83",
   "metadata": {},
   "outputs": [],
   "source": [
    "# Running fgsea analysis\n",
    "geneset <- GO_term_hallmark\n",
    "fgsea_output <- runFgsea(DE_data = DE.df, genesets = geneset, nperms = nperms, ncores = ncores)\n",
    "# Get result and stats from output of runFgsea function\n",
    "fgsea_result <- fgsea_output$fgsea_res\n",
    "stats <- fgsea_output$stats\n",
    "\n",
    "head(fgsea_result[order(fgsea_result$p.value), c(\"ID\", \"p.value\", \"score\", \"normalizedScore\")])"
   ]
  },
  {
   "cell_type": "markdown",
   "id": "c7866448",
   "metadata": {},
   "source": [
    "From the result table, we can select top five up regulated GO terms and top five down regulated GO terms. Then we can plot them using the built-in function `plotGseaTable`"
   ]
  },
  {
   "cell_type": "code",
   "execution_count": 120,
   "id": "f1b4ed14",
   "metadata": {
    "scrolled": true
   },
   "outputs": [],
   "source": [
    "# select the top five up-regulated pathways \n",
    "topPathwaysUp <- fgsea_result[ES > 0][head(order(pval), n = 5), pathway]\n",
    "# select the top five down-regulated pathways \n",
    "topPathwaysDown <- fgsea_result[ES < 0][head(order(pval), n = 5), pathway]\n",
    "# concatenate them for visualization\n",
    "topPathways <- c(topPathwaysUp, rev(topPathwaysDown))\n",
    "#Viewing the 5 most significantly up-regulated and down-regulated pathways each with the FGSEA internal plot function\n",
    "plotGseaTable(pathways = GO_term_hallmark[topPathways], stats = stats, \n",
    "              fgseaRes = fgsea_result, gseaParam = 0.5)"
   ]
  },
  {
   "cell_type": "markdown",
   "id": "86cfabed-97a6-4e5e-8cfa-5ffa01c57906",
   "metadata": {},
   "source": [
    "To use the `plotGseaTable` function, we need to pass the following arguments:\n",
    "\n",
    "- `pathways`: A list of pathways to plot table.\n",
    "- `stats`: A dataframe specifying gene-level stats.\n",
    "- `fgseaRes`: A dataframe of fgsea results.\n",
    "- `gseaParam`: A numeric value to adjust displayed statistic values, values closer to 0 flatten plots. Default = 1, value of 0.5 is a good choice too."
   ]
  },
  {
   "cell_type": "markdown",
   "id": "1ef50627",
   "metadata": {},
   "source": [
    "### Enrichment analysis using FGSEA and KEGG pathways\n",
    "We can perform enrichment analysis using FGSEA with KEGG pathway using the same procedure mentioned above. The only thing we need to change is the\n",
    "list of gene sets that are available in the KEGG database."
   ]
  },
  {
   "cell_type": "code",
   "execution_count": 121,
   "id": "93b11008",
   "metadata": {
    "scrolled": true
   },
   "outputs": [],
   "source": [
    "# Load the pathways into a named list\n",
    "KEGG_hallmark <- gmtPathways(\"./data/KEGG_pathways.gmt\")\n",
    "# Show the first few GO terms, and within those, show only the first few genes.\n",
    "tmp = lapply(KEGG_hallmark, head)\n",
    "tmp[1:5]"
   ]
  },
  {
   "cell_type": "code",
   "execution_count": 122,
   "id": "9eb1ede2",
   "metadata": {},
   "outputs": [],
   "source": [
    "# Running fgsea analysis\n",
    "geneset <- KEGG_hallmark\n",
    "fgsea_output <- runFgsea(DE_data = DE.df, genesets = geneset, nperms = nperms, ncores = ncores)\n",
    "# Get result and stats from output of runFgsea function\n",
    "fgsea_result <- fgsea_output$fgsea_res\n",
    "stats <- fgsea_output$stats\n",
    "\n",
    "head(fgsea_result[order(fgsea_result$p.value), c(\"ID\", \"p.value\", \"score\", \"normalizedScore\")])"
   ]
  },
  {
   "cell_type": "code",
   "execution_count": 123,
   "id": "a63408eb",
   "metadata": {
    "scrolled": true
   },
   "outputs": [],
   "source": [
    "# select the top five up-regulated pathways \n",
    "topPathwaysUp <- fgsea_result[ES > 0][head(order(pval), n = 5), pathway]\n",
    "# select the top five down-regulated pathways \n",
    "topPathwaysDown <- fgsea_result[ES < 0][head(order(pval), n = 5), pathway]\n",
    "# concatenate them for visualization\n",
    "topPathways <- c(topPathwaysUp, rev(topPathwaysDown))\n",
    "#Viewing the 5 most significantly up-regulated and down-regulated pathways each with the FGSEA internal plot function\n",
    "plotGseaTable(pathways = KEGG_hallmark[topPathways], stats = stats, \n",
    "              fgseaRes = fgsea_result, gseaParam = 0.5)"
   ]
  },
  {
   "cell_type": "markdown",
   "id": "29cbb971-2f26-42fa-92d1-3f7b8e6347ef",
   "metadata": {},
   "source": [
    "### Enrichment analysis using FGSEA and REACTOME pathways\n",
    "We can perform enrichment analysis using FGSEA with REACTOME pathways using the same procedure above. "
   ]
  },
  {
   "cell_type": "code",
   "execution_count": 124,
   "id": "ab574490-afc7-428d-8bd9-fc0a2514777e",
   "metadata": {
    "scrolled": true
   },
   "outputs": [],
   "source": [
    "# Load the pathways into a named list\n",
    "REACTOME_hallmark <- gmtPathways(\"./data/REACTOME_pathways.gmt\")\n",
    "# Show the first few GO terms, and within those, show only the first few genes.\n",
    "tmp = lapply(REACTOME_hallmark, head)\n",
    "tmp[1:5]"
   ]
  },
  {
   "cell_type": "code",
   "execution_count": 125,
   "id": "8c812668-2971-4e80-b10d-7986b290574c",
   "metadata": {},
   "outputs": [],
   "source": [
    "# Running fgsea analysis\n",
    "geneset <- REACTOME_hallmark\n",
    "fgsea_output <- runFgsea(DE_data = DE.df, genesets = geneset, nperms = nperms, ncores = ncores)\n",
    "# Get result and stats from output of runFgsea function\n",
    "fgsea_result <- fgsea_output$fgsea_res\n",
    "stats <- fgsea_output$stats\n",
    "\n",
    "head(fgsea_result[order(fgsea_result$p.value), c(\"ID\", \"p.value\", \"score\", \"normalizedScore\")])"
   ]
  },
  {
   "cell_type": "code",
   "execution_count": 126,
   "id": "cb80919c-714f-4788-b266-6ee71146d0cf",
   "metadata": {
    "scrolled": true
   },
   "outputs": [],
   "source": [
    "# select the top five up-regulated pathways \n",
    "topPathwaysUp <- fgsea_result[ES > 0][head(order(pval), n = 5), pathway]\n",
    "# select the top five down-regulated pathways \n",
    "topPathwaysDown <- fgsea_result[ES < 0][head(order(pval), n = 5), pathway]\n",
    "# concatenate them for visualization\n",
    "topPathways <- c(topPathwaysUp, rev(topPathwaysDown))\n",
    "#Viewing the 5 most significantly up-regulated and down-regulated pathways each with the FGSEA internal plot function\n",
    "plotGseaTable(pathways = REACTOME_hallmark[topPathways], stats = stats, \n",
    "              fgseaRes = fgsea_result, gseaParam = 0.5)"
   ]
  },
  {
   "cell_type": "markdown",
   "id": "181989b1",
   "metadata": {},
   "source": [
    "<!-- headings -->\n",
    "<a id=\"gsa-main\"></a>\n",
    "## 5. Enrichment Analysis using GSA"
   ]
  },
  {
   "cell_type": "markdown",
   "id": "c2f471b1",
   "metadata": {},
   "source": [
    "Gene Set Analysis (GSA), an Enrichment Analysis, is a method that is commonly used to summarize high-dimensional gene expression data sets into sets according to their biological relevance. GSA takes the ranked gene lists from the initial stage of a gene expression analysis and aggregates the genes into sets based on shared biological or functional properties as specified by a reference knowledge base. Such databases often contain phenotype associations, molecular interactions and regulation and are referenced in the analysis of the resultant gene sets to find the relevance of the gene properties to the phenotype of interest."
   ]
  },
  {
   "cell_type": "code",
   "execution_count": 21,
   "id": "443e636c-265e-4829-85f3-1999eeff4385",
   "metadata": {},
   "outputs": [
    {
     "data": {
      "text/html": [
       "<iframe src=\"./Quizzes/Quiz_Submodule4-4.html\" width=100% height=250></iframe>"
      ]
     },
     "metadata": {},
     "output_type": "display_data"
    }
   ],
   "source": [
    "#Run the following command to take the quiz\n",
    "IRdisplay::display_html('<iframe src=\"./Quizzes/Quiz_Submodule4-4.html\" width=100% height=250></iframe>')"
   ]
  },
  {
   "cell_type": "markdown",
   "id": "0f0c9233",
   "metadata": {},
   "source": [
    "### Data preparation\n",
    "The GSA method is freely available as standalone package in CRAN repository. We can use the following code to install the package."
   ]
  },
  {
   "cell_type": "code",
   "execution_count": 40,
   "id": "c3efb930",
   "metadata": {},
   "outputs": [],
   "source": [
    "# Install GSA from CRAN\n",
    "suppressMessages({\n",
    "    suppressWarnings({\n",
    "        if (!require(\"GSA\")) install.packages(\"GSA\")\n",
    "    })\n",
    "})\n",
    "\n",
    "suppressMessages({\n",
    "    suppressWarnings({\n",
    "        library(GSA)\n",
    "    })\n",
    "})\n"
   ]
  },
  {
   "cell_type": "markdown",
   "id": "cf4141be-2d12-41a2-af07-9ba384979efa",
   "metadata": {},
   "source": [
    "GSA employs a permutation model to estimate p-values for each gene set. The precision of these estimates increases with a larger number of permutations, but this also necessitates longer running times. The GSA package available on CRAN lacks parallel processing support for this task. To address this, we've modified the original GSA function within the GSA package to enable multi-core processing for p-value estimation using the permutation model. The updated code is stored in the GSAMC.R script and can be imported using the following commands:"
   ]
  },
  {
   "cell_type": "code",
   "execution_count": 41,
   "id": "8c1b74db-41bc-482b-bc62-0142479c3aef",
   "metadata": {},
   "outputs": [],
   "source": [
    "# GSA function for parallel processing\n",
    "source(\"./GSAMC.R\")\n",
    "nperms <- 2000\n"
   ]
  },
  {
   "cell_type": "code",
   "execution_count": 42,
   "id": "146cd2ae-578f-4605-a763-61e7904f4305",
   "metadata": {},
   "outputs": [],
   "source": [
    "#' @description This function performs enrichment analysis using the GSA method.\n",
    "#'\n",
    "#' @param exprsData A numeric matrix or a matrix-like object containing gene expression data. Rows represent genes, columns represent samples.\n",
    "#' @param genesets A list of gene sets to be analzyed.\n",
    "#' @param groups A factor indicating sample groups.\n",
    "#' @param parallel A boolean to choose between non-parallel and parallel processing.\n",
    "#' @param ncores An integer specifying the number of cores to use for parallel processing (default is 100).\n",
    "#' @param nperms An integer specifying the number of permutations for assessing significance (default is 100).\n",
    "#'\n",
    "#' @return A list containing the GSA results data frame and the GSA object.\n",
    "\n",
    "runGSA <- function(exprsData, genesets, groups, parallel = FALSE, ncores = 2, nperms = 100) {\n",
    "    # Determine the number of classes in the group variable\n",
    "    num_classes <- length(unique(groups))\n",
    "    resp_type <- NULL\n",
    "\n",
    "    # Check the number of classes and set response type accordingly\n",
    "    if (num_classes == 1) {\n",
    "        stop(\"The group classes in the design matrix must be at least two.\")\n",
    "    } else if (num_classes == 2) {\n",
    "        resp_type <- \"Two class unpaired\"\n",
    "    } else {\n",
    "        resp_type <- \"Multiclass\"\n",
    "    }\n",
    "    # Run GSA analysis\n",
    "    if (parallel) {\n",
    "        gsa_res <- GSAMC(\n",
    "            x = exprsData,\n",
    "            y = groups,\n",
    "            genesets = genesets,\n",
    "            resp.type = resp_type,\n",
    "            genenames = rownames(exprsData),\n",
    "            nperms = nperms,\n",
    "            ncores = ncores\n",
    "        )\n",
    "    } else {\n",
    "        gsa_res <- GSA::GSA(\n",
    "            x = exprsData,\n",
    "            y = groups,\n",
    "            genesets = genesets,\n",
    "            resp.type = resp_type,\n",
    "            genenames = rownames(exprsData),\n",
    "            nperms = nperms\n",
    "        )\n",
    "    }\n",
    "    # Extract p-values and create result data frame\n",
    "    pvalues <- apply(cbind(gsa_res$pvalues.lo, gsa_res$pvalues.hi), 1, min)\n",
    "    res <- data.frame(ID = names(genesets), p.value = pvalues * 2, stringsAsFactors = FALSE)\n",
    "\n",
    "    # Create GSA result data frame\n",
    "    GSA_res <- data.frame(\n",
    "        ID = res$ID,\n",
    "        p.value = res$p.value,\n",
    "        score = gsa_res$GSA.scores,\n",
    "        normalizedScore = gsa_res$GSA.scores,\n",
    "        stringsAsFactors = FALSE\n",
    "    )\n",
    "    # Return a list containing GSA results\n",
    "    list(GSA_res = GSA_res[!is.na(GSA_res$p.value), ], GSA.obj = gsa_res)\n",
    "}\n"
   ]
  },
  {
   "cell_type": "markdown",
   "id": "e4a2ed98",
   "metadata": {},
   "source": [
    "The GSA method requires an expression matrix, a numeric vector containing the class of each sample and a vector of the genes inputs. We can easily get those inputs by loading the data that we processed in the [**submodule 01** ](./Module01-GEO_Data_Processing.ipynb). From the samples information, we can use the same code in [**submodule 02** ](./Module02-DE_Analysis.ipynb) to create the groups information factor."
   ]
  },
  {
   "cell_type": "code",
   "execution_count": 43,
   "id": "4a06f16e-e68e-433f-bb30-6d6e66effae9",
   "metadata": {},
   "outputs": [
    {
     "data": {
      "text/html": [
       "<style>\n",
       ".list-inline {list-style: none; margin:0; padding: 0}\n",
       ".list-inline>li {display: inline-block}\n",
       ".list-inline>li:not(:last-child)::after {content: \"\\00b7\"; padding: 0 .5ex}\n",
       "</style>\n",
       "<ol class=list-inline><li>'expression_data'</li><li>'samples'</li><li>'genes'</li><li>'limma_results'</li><li>'tTest_results'</li><li>'edgeR_results'</li><li>'deseq2_results'</li></ol>\n"
      ],
      "text/latex": [
       "\\begin{enumerate*}\n",
       "\\item 'expression\\_data'\n",
       "\\item 'samples'\n",
       "\\item 'genes'\n",
       "\\item 'limma\\_results'\n",
       "\\item 'tTest\\_results'\n",
       "\\item 'edgeR\\_results'\n",
       "\\item 'deseq2\\_results'\n",
       "\\end{enumerate*}\n"
      ],
      "text/markdown": [
       "1. 'expression_data'\n",
       "2. 'samples'\n",
       "3. 'genes'\n",
       "4. 'limma_results'\n",
       "5. 'tTest_results'\n",
       "6. 'edgeR_results'\n",
       "7. 'deseq2_results'\n",
       "\n",
       "\n"
      ],
      "text/plain": [
       "[1] \"expression_data\" \"samples\"         \"genes\"           \"limma_results\"  \n",
       "[5] \"tTest_results\"   \"edgeR_results\"   \"deseq2_results\" "
      ]
     },
     "metadata": {},
     "output_type": "display_data"
    }
   ],
   "source": [
    "names(data)"
   ]
  },
  {
   "cell_type": "code",
   "execution_count": 44,
   "id": "3982c128",
   "metadata": {},
   "outputs": [],
   "source": [
    "# Loading expression data and samples information\n",
    "expression_data <- data$expression_data\n",
    "norm_expression_data <- log2(expression_data + 1)\n",
    "samples <- data$samples\n"
   ]
  },
  {
   "cell_type": "markdown",
   "id": "1848114c-e852-46ec-91ae-ca19afc8ea8b",
   "metadata": {},
   "source": [
    "Get the groups information for GSA function."
   ]
  },
  {
   "cell_type": "code",
   "execution_count": 45,
   "id": "f0c546b9-aa93-43ad-a69f-ec9d53228feb",
   "metadata": {
    "scrolled": true
   },
   "outputs": [
    {
     "data": {
      "text/html": [
       "<style>\n",
       ".list-inline {list-style: none; margin:0; padding: 0}\n",
       ".list-inline>li {display: inline-block}\n",
       ".list-inline>li:not(:last-child)::after {content: \"\\00b7\"; padding: 0 .5ex}\n",
       "</style>\n",
       "<ol class=list-inline><li>c</li><li>c</li><li>c</li><li>c</li><li>c</li><li>c</li><li>c</li><li>c</li><li>c</li><li>c</li><li>c</li><li>c</li><li>c</li><li>c</li><li>c</li><li>c</li><li>c</li><li>c</li><li>c</li><li>c</li><li>c</li><li>c</li><li>c</li><li>c</li><li>c</li><li>c</li><li>c</li><li>c</li><li>c</li><li>c</li><li>c</li><li>c</li><li>c</li><li>c</li><li>c</li><li>c</li><li>c</li><li>c</li><li>c</li><li>c</li><li>c</li><li>c</li><li>c</li><li>c</li><li>c</li><li>c</li><li>c</li><li>c</li><li>c</li><li>c</li><li>c</li><li>c</li><li>c</li><li>c</li><li>c</li><li>c</li><li>c</li><li>c</li><li>c</li><li>c</li><li>c</li><li>c</li><li>c</li><li>c</li><li>c</li><li>c</li><li>c</li><li>c</li><li>c</li><li>c</li><li>c</li><li>c</li><li>c</li><li>c</li><li>d</li><li>d</li><li>d</li><li>d</li><li>d</li><li>d</li><li>d</li><li>d</li><li>d</li><li>d</li><li>d</li><li>d</li><li>d</li><li>d</li><li>d</li><li>d</li><li>d</li><li>d</li><li>d</li><li>d</li><li>d</li><li>d</li><li>d</li><li>d</li><li>d</li><li>d</li><li>d</li><li>d</li><li>d</li><li>d</li><li>d</li><li>d</li><li>d</li><li>d</li><li>d</li><li>d</li><li>d</li><li>d</li><li>d</li><li>d</li><li>d</li><li>d</li><li>d</li><li>d</li><li>d</li><li>d</li><li>d</li><li>d</li><li>d</li><li>d</li><li>d</li><li>d</li><li>d</li><li>d</li><li>d</li><li>d</li><li>d</li><li>d</li><li>d</li><li>d</li><li>d</li><li>d</li><li>d</li><li>d</li><li>d</li><li>d</li><li>d</li><li>d</li><li>d</li><li>d</li><li>d</li><li>d</li><li>d</li><li>d</li><li>d</li><li>d</li><li>d</li><li>d</li><li>d</li><li>d</li><li>d</li><li>d</li><li>d</li><li>d</li><li>d</li><li>d</li><li>d</li></ol>\n",
       "\n",
       "<details>\n",
       "\t<summary style=display:list-item;cursor:pointer>\n",
       "\t\t<strong>Levels</strong>:\n",
       "\t</summary>\n",
       "\t<style>\n",
       "\t.list-inline {list-style: none; margin:0; padding: 0}\n",
       "\t.list-inline>li {display: inline-block}\n",
       "\t.list-inline>li:not(:last-child)::after {content: \"\\00b7\"; padding: 0 .5ex}\n",
       "\t</style>\n",
       "\t<ol class=list-inline><li>'c'</li><li>'d'</li></ol>\n",
       "</details>"
      ],
      "text/latex": [
       "\\begin{enumerate*}\n",
       "\\item c\n",
       "\\item c\n",
       "\\item c\n",
       "\\item c\n",
       "\\item c\n",
       "\\item c\n",
       "\\item c\n",
       "\\item c\n",
       "\\item c\n",
       "\\item c\n",
       "\\item c\n",
       "\\item c\n",
       "\\item c\n",
       "\\item c\n",
       "\\item c\n",
       "\\item c\n",
       "\\item c\n",
       "\\item c\n",
       "\\item c\n",
       "\\item c\n",
       "\\item c\n",
       "\\item c\n",
       "\\item c\n",
       "\\item c\n",
       "\\item c\n",
       "\\item c\n",
       "\\item c\n",
       "\\item c\n",
       "\\item c\n",
       "\\item c\n",
       "\\item c\n",
       "\\item c\n",
       "\\item c\n",
       "\\item c\n",
       "\\item c\n",
       "\\item c\n",
       "\\item c\n",
       "\\item c\n",
       "\\item c\n",
       "\\item c\n",
       "\\item c\n",
       "\\item c\n",
       "\\item c\n",
       "\\item c\n",
       "\\item c\n",
       "\\item c\n",
       "\\item c\n",
       "\\item c\n",
       "\\item c\n",
       "\\item c\n",
       "\\item c\n",
       "\\item c\n",
       "\\item c\n",
       "\\item c\n",
       "\\item c\n",
       "\\item c\n",
       "\\item c\n",
       "\\item c\n",
       "\\item c\n",
       "\\item c\n",
       "\\item c\n",
       "\\item c\n",
       "\\item c\n",
       "\\item c\n",
       "\\item c\n",
       "\\item c\n",
       "\\item c\n",
       "\\item c\n",
       "\\item c\n",
       "\\item c\n",
       "\\item c\n",
       "\\item c\n",
       "\\item c\n",
       "\\item c\n",
       "\\item d\n",
       "\\item d\n",
       "\\item d\n",
       "\\item d\n",
       "\\item d\n",
       "\\item d\n",
       "\\item d\n",
       "\\item d\n",
       "\\item d\n",
       "\\item d\n",
       "\\item d\n",
       "\\item d\n",
       "\\item d\n",
       "\\item d\n",
       "\\item d\n",
       "\\item d\n",
       "\\item d\n",
       "\\item d\n",
       "\\item d\n",
       "\\item d\n",
       "\\item d\n",
       "\\item d\n",
       "\\item d\n",
       "\\item d\n",
       "\\item d\n",
       "\\item d\n",
       "\\item d\n",
       "\\item d\n",
       "\\item d\n",
       "\\item d\n",
       "\\item d\n",
       "\\item d\n",
       "\\item d\n",
       "\\item d\n",
       "\\item d\n",
       "\\item d\n",
       "\\item d\n",
       "\\item d\n",
       "\\item d\n",
       "\\item d\n",
       "\\item d\n",
       "\\item d\n",
       "\\item d\n",
       "\\item d\n",
       "\\item d\n",
       "\\item d\n",
       "\\item d\n",
       "\\item d\n",
       "\\item d\n",
       "\\item d\n",
       "\\item d\n",
       "\\item d\n",
       "\\item d\n",
       "\\item d\n",
       "\\item d\n",
       "\\item d\n",
       "\\item d\n",
       "\\item d\n",
       "\\item d\n",
       "\\item d\n",
       "\\item d\n",
       "\\item d\n",
       "\\item d\n",
       "\\item d\n",
       "\\item d\n",
       "\\item d\n",
       "\\item d\n",
       "\\item d\n",
       "\\item d\n",
       "\\item d\n",
       "\\item d\n",
       "\\item d\n",
       "\\item d\n",
       "\\item d\n",
       "\\item d\n",
       "\\item d\n",
       "\\item d\n",
       "\\item d\n",
       "\\item d\n",
       "\\item d\n",
       "\\item d\n",
       "\\item d\n",
       "\\item d\n",
       "\\item d\n",
       "\\item d\n",
       "\\item d\n",
       "\\item d\n",
       "\\end{enumerate*}\n",
       "\n",
       "\\emph{Levels}: \\begin{enumerate*}\n",
       "\\item 'c'\n",
       "\\item 'd'\n",
       "\\end{enumerate*}\n"
      ],
      "text/markdown": [
       "1. c\n",
       "2. c\n",
       "3. c\n",
       "4. c\n",
       "5. c\n",
       "6. c\n",
       "7. c\n",
       "8. c\n",
       "9. c\n",
       "10. c\n",
       "11. c\n",
       "12. c\n",
       "13. c\n",
       "14. c\n",
       "15. c\n",
       "16. c\n",
       "17. c\n",
       "18. c\n",
       "19. c\n",
       "20. c\n",
       "21. c\n",
       "22. c\n",
       "23. c\n",
       "24. c\n",
       "25. c\n",
       "26. c\n",
       "27. c\n",
       "28. c\n",
       "29. c\n",
       "30. c\n",
       "31. c\n",
       "32. c\n",
       "33. c\n",
       "34. c\n",
       "35. c\n",
       "36. c\n",
       "37. c\n",
       "38. c\n",
       "39. c\n",
       "40. c\n",
       "41. c\n",
       "42. c\n",
       "43. c\n",
       "44. c\n",
       "45. c\n",
       "46. c\n",
       "47. c\n",
       "48. c\n",
       "49. c\n",
       "50. c\n",
       "51. c\n",
       "52. c\n",
       "53. c\n",
       "54. c\n",
       "55. c\n",
       "56. c\n",
       "57. c\n",
       "58. c\n",
       "59. c\n",
       "60. c\n",
       "61. c\n",
       "62. c\n",
       "63. c\n",
       "64. c\n",
       "65. c\n",
       "66. c\n",
       "67. c\n",
       "68. c\n",
       "69. c\n",
       "70. c\n",
       "71. c\n",
       "72. c\n",
       "73. c\n",
       "74. c\n",
       "75. d\n",
       "76. d\n",
       "77. d\n",
       "78. d\n",
       "79. d\n",
       "80. d\n",
       "81. d\n",
       "82. d\n",
       "83. d\n",
       "84. d\n",
       "85. d\n",
       "86. d\n",
       "87. d\n",
       "88. d\n",
       "89. d\n",
       "90. d\n",
       "91. d\n",
       "92. d\n",
       "93. d\n",
       "94. d\n",
       "95. d\n",
       "96. d\n",
       "97. d\n",
       "98. d\n",
       "99. d\n",
       "100. d\n",
       "101. d\n",
       "102. d\n",
       "103. d\n",
       "104. d\n",
       "105. d\n",
       "106. d\n",
       "107. d\n",
       "108. d\n",
       "109. d\n",
       "110. d\n",
       "111. d\n",
       "112. d\n",
       "113. d\n",
       "114. d\n",
       "115. d\n",
       "116. d\n",
       "117. d\n",
       "118. d\n",
       "119. d\n",
       "120. d\n",
       "121. d\n",
       "122. d\n",
       "123. d\n",
       "124. d\n",
       "125. d\n",
       "126. d\n",
       "127. d\n",
       "128. d\n",
       "129. d\n",
       "130. d\n",
       "131. d\n",
       "132. d\n",
       "133. d\n",
       "134. d\n",
       "135. d\n",
       "136. d\n",
       "137. d\n",
       "138. d\n",
       "139. d\n",
       "140. d\n",
       "141. d\n",
       "142. d\n",
       "143. d\n",
       "144. d\n",
       "145. d\n",
       "146. d\n",
       "147. d\n",
       "148. d\n",
       "149. d\n",
       "150. d\n",
       "151. d\n",
       "152. d\n",
       "153. d\n",
       "154. d\n",
       "155. d\n",
       "156. d\n",
       "157. d\n",
       "158. d\n",
       "159. d\n",
       "160. d\n",
       "161. d\n",
       "\n",
       "\n",
       "\n",
       "**Levels**: 1. 'c'\n",
       "2. 'd'\n",
       "\n",
       "\n"
      ],
      "text/plain": [
       "  [1] c c c c c c c c c c c c c c c c c c c c c c c c c c c c c c c c c c c c c\n",
       " [38] c c c c c c c c c c c c c c c c c c c c c c c c c c c c c c c c c c c c c\n",
       " [75] d d d d d d d d d d d d d d d d d d d d d d d d d d d d d d d d d d d d d\n",
       "[112] d d d d d d d d d d d d d d d d d d d d d d d d d d d d d d d d d d d d d\n",
       "[149] d d d d d d d d d d d d d\n",
       "Levels: c d"
      ]
     },
     "metadata": {},
     "output_type": "display_data"
    }
   ],
   "source": [
    "groups <- samples$condition\n",
    "groups <- as.factor(groups)\n",
    "groups"
   ]
  },
  {
   "cell_type": "markdown",
   "id": "f8acf4f4",
   "metadata": {},
   "source": [
    "### Enrichment Analysis using GSA and GO Terms\n",
    "Using data obtained from the previous step, we can run the GSA method by calling the function `GSA`. We can reuse `GO_term_hallmark` and `KEGG_hallmark` loaded in FGSEA to perform analysis. The code details are shown below:"
   ]
  },
  {
   "cell_type": "code",
   "execution_count": 46,
   "id": "3c207752-fc0e-4f7b-924d-27ec6bbfc0e3",
   "metadata": {
    "scrolled": true
   },
   "outputs": [],
   "source": [
    "genesets <- GO_term_hallmark\n",
    "GSA_output <- runGSA(as.matrix(norm_expression_data), genesets = genesets, as.numeric(groups), parallel = TRUE, ncores = ncores, nperms = nperms)\n",
    "# Get GSA_result dataframe and GSA object from output of the runGSA function\n",
    "GSA_result <- GSA_output$GSA_res\n",
    "GSA.obj <- GSA_output$GSA.obj"
   ]
  },
  {
   "cell_type": "code",
   "execution_count": 135,
   "id": "fee35ec6-490d-490c-a7c0-aa20716d40be",
   "metadata": {},
   "outputs": [],
   "source": [
    "head(GSA_result[order(GSA_result$p.value), ])"
   ]
  },
  {
   "cell_type": "markdown",
   "id": "0648ecb6-f0ec-41aa-b3e6-e812ba18d85c",
   "metadata": {},
   "source": [
    "<div class=\"alert alert-block alert-danger\">\n",
    "    <i class=\"fa fa-exclamation-circle\" aria-hidden=\"true\"></i>\n",
    "    <b>Alert: </b>  Please note that the outputs generated from GSA can be varied depending on R environments and software versions. Especially, when the users run the scripts using User-managed Notebooks instances which have a preinstalled suite of packages.\n",
    "</div>"
   ]
  },
  {
   "cell_type": "markdown",
   "id": "7a896181-0484-4df3-b879-f70c99bc0a4e",
   "metadata": {},
   "source": [
    "From the analysis result, we can now get the list positive and negative genes of the GSA analysis from the GSA object using the `GSA.listsets` function. "
   ]
  },
  {
   "cell_type": "code",
   "execution_count": 136,
   "id": "ebba9b67",
   "metadata": {},
   "outputs": [],
   "source": [
    "# List the results from a GSA analysis\n",
    "res <- GSA.listsets(GSA.obj = GSA.obj, geneset.names = names(genesets), FDRcut = .5)"
   ]
  },
  {
   "cell_type": "markdown",
   "id": "f280f564-9698-4896-9eb9-c22a5ac00399",
   "metadata": {},
   "source": [
    "To use the `GSA.listsets` function, we need to pass the following arguments:\n",
    "\n",
    "- `GSA.obj`: A GSA object returned by GSA function.\n",
    "- `geneset.names`: An optional vector of names for the gene sets.\n",
    "- `FDRcut`: A numeric value specifying the false discovery rate cutpoint for listed sets. A value of 1 will cause all sets to be listed.\n",
    "\n",
    "The `GSA.listsets` function returns a list of the results from the GSA call."
   ]
  },
  {
   "cell_type": "markdown",
   "id": "df55e53c",
   "metadata": {},
   "source": [
    "A table of the negative gene sets. “Negative” means that lower expression of most genes in the gene set correlates with higher values of the phenotype y. E.g., for two classes coded 1,2, lower expression correlates with class 2."
   ]
  },
  {
   "cell_type": "code",
   "execution_count": 137,
   "id": "ae97649e",
   "metadata": {},
   "outputs": [],
   "source": [
    "neg.table <- res$negative\n",
    "head(neg.table)"
   ]
  },
  {
   "cell_type": "markdown",
   "id": "c237dea8",
   "metadata": {},
   "source": [
    "A table of the positive gene sets. \"Positive\" means that higher expression of most genes in the gene set correlates with higher values of the phenotype y."
   ]
  },
  {
   "cell_type": "code",
   "execution_count": 138,
   "id": "e640ff47",
   "metadata": {},
   "outputs": [],
   "source": [
    "pos.table <- res$positive\n",
    "head(pos.table)"
   ]
  },
  {
   "cell_type": "code",
   "execution_count": 139,
   "id": "79687f5d",
   "metadata": {
    "scrolled": true,
    "tags": []
   },
   "outputs": [],
   "source": [
    "# Individual gene scores from a gene set analysis\n",
    "# look at 10th gene set\n",
    "GSA.genescores(geneset.number = 10, genesets = genesets, \n",
    "               GSA.obj = GSA.obj, genenames = genenames)"
   ]
  },
  {
   "cell_type": "markdown",
   "id": "c77eafab-f0e9-4522-8306-496d91dec8d5",
   "metadata": {},
   "source": [
    "To use the `GSA.genescores` function, we need to pass the following arguments:\n",
    "\n",
    "- `geneset.number`: A number specifying which gene set is to be examined.\n",
    "- `genesets`: A list containing the gene set collection.\n",
    "- `GSA.obj`: A GSA object returned by the GSA function.\n",
    "- `genenames`: A vector containing gene names for genes in the expression dataset.\n",
    "\n",
    "The `GSA.genescores` returns a matrix of gene names and gene scores (eg t-statistics) for each gene in the gene set.\n"
   ]
  },
  {
   "cell_type": "code",
   "execution_count": 140,
   "id": "1cfde1f8",
   "metadata": {},
   "outputs": [],
   "source": [
    "# Plot the result, this function makes a plot of the significant gene sets, based on a call to the GSA (Gene set analysis) function.\n",
    "suppressWarnings(GSA.plot(GSA.obj, fac = 1, FDRcut = 0.5))"
   ]
  },
  {
   "cell_type": "markdown",
   "id": "c2c644a4-e3c9-4ced-b343-78c64d6e9e16",
   "metadata": {},
   "source": [
    "To use the `GSA.plot` function, we need to pass the following arguments:\n",
    "\n",
    "- `GSA.obj`: A GSA object returned by the GSA function.\n",
    "- `fac`: A numeric value for jittering points in plot (\"factor\" in called to jitter()).\n",
    "- `FDRcut`: A numeric value specifying the false discovery rate cutpoint for sets to be plotted. A value of 1 (the default) will cause all sets to be plotted.\n",
    "\n"
   ]
  },
  {
   "cell_type": "markdown",
   "id": "7107ef92",
   "metadata": {},
   "source": [
    "### Enrichment analysis using GSA and KEGG pathways\n",
    "We can use the same procedure to per enrichment analysis with the KEGG pathway. All the codes are similar but `genesets` are assigned from `KEGG_hallmark`. The code is shown below."
   ]
  },
  {
   "cell_type": "code",
   "execution_count": 141,
   "id": "361aff0b",
   "metadata": {
    "scrolled": true,
    "tags": []
   },
   "outputs": [],
   "source": [
    "genesets <- KEGG_hallmark\n",
    "GSA_output <- runGSA(as.matrix(new_expression_data), genesets = genesets, as.numeric(groups), parallel = TRUE, nperms = nperms)\n",
    "# Get GSA_result dataframe and GSA object from output of the runGSA function\n",
    "GSA_result <- GSA_output$GSA_res\n",
    "GSA.obj <- GSA_output$GSA.obj"
   ]
  },
  {
   "cell_type": "code",
   "execution_count": 142,
   "id": "76fd4be5-2607-47af-b271-0309430a29b6",
   "metadata": {},
   "outputs": [
    {
     "data": {
      "text/html": [
       "<table class=\"dataframe\">\n",
       "<caption>A data.frame: 6 × 4</caption>\n",
       "<thead>\n",
       "\t<tr><th></th><th scope=col>ID</th><th scope=col>p.value</th><th scope=col>score</th><th scope=col>normalizedScore</th></tr>\n",
       "\t<tr><th></th><th scope=col>&lt;chr&gt;</th><th scope=col>&lt;dbl&gt;</th><th scope=col>&lt;dbl&gt;</th><th scope=col>&lt;dbl&gt;</th></tr>\n",
       "</thead>\n",
       "<tbody>\n",
       "\t<tr><th scope=row>2</th><td>R-HSA-68616</td><td>0</td><td> 0.1565245</td><td> 0.1565245</td></tr>\n",
       "\t<tr><th scope=row>5</th><td>R-HSA-68875</td><td>0</td><td> 0.1172641</td><td> 0.1172641</td></tr>\n",
       "\t<tr><th scope=row>9</th><td>R-HSA-68884</td><td>0</td><td> 1.0225575</td><td> 1.0225575</td></tr>\n",
       "\t<tr><th scope=row>12</th><td>R-HSA-68949</td><td>0</td><td>-0.5636263</td><td>-0.5636263</td></tr>\n",
       "\t<tr><th scope=row>16</th><td>R-HSA-69017</td><td>0</td><td>-0.6209957</td><td>-0.6209957</td></tr>\n",
       "\t<tr><th scope=row>17</th><td>R-HSA-69052</td><td>0</td><td>-0.5047678</td><td>-0.5047678</td></tr>\n",
       "</tbody>\n",
       "</table>\n"
      ],
      "text/latex": [
       "A data.frame: 6 × 4\n",
       "\\begin{tabular}{r|llll}\n",
       "  & ID & p.value & score & normalizedScore\\\\\n",
       "  & <chr> & <dbl> & <dbl> & <dbl>\\\\\n",
       "\\hline\n",
       "\t2 & R-HSA-68616 & 0 &  0.1565245 &  0.1565245\\\\\n",
       "\t5 & R-HSA-68875 & 0 &  0.1172641 &  0.1172641\\\\\n",
       "\t9 & R-HSA-68884 & 0 &  1.0225575 &  1.0225575\\\\\n",
       "\t12 & R-HSA-68949 & 0 & -0.5636263 & -0.5636263\\\\\n",
       "\t16 & R-HSA-69017 & 0 & -0.6209957 & -0.6209957\\\\\n",
       "\t17 & R-HSA-69052 & 0 & -0.5047678 & -0.5047678\\\\\n",
       "\\end{tabular}\n"
      ],
      "text/markdown": [
       "\n",
       "A data.frame: 6 × 4\n",
       "\n",
       "| <!--/--> | ID &lt;chr&gt; | p.value &lt;dbl&gt; | score &lt;dbl&gt; | normalizedScore &lt;dbl&gt; |\n",
       "|---|---|---|---|---|\n",
       "| 2 | R-HSA-68616 | 0 |  0.1565245 |  0.1565245 |\n",
       "| 5 | R-HSA-68875 | 0 |  0.1172641 |  0.1172641 |\n",
       "| 9 | R-HSA-68884 | 0 |  1.0225575 |  1.0225575 |\n",
       "| 12 | R-HSA-68949 | 0 | -0.5636263 | -0.5636263 |\n",
       "| 16 | R-HSA-69017 | 0 | -0.6209957 | -0.6209957 |\n",
       "| 17 | R-HSA-69052 | 0 | -0.5047678 | -0.5047678 |\n",
       "\n"
      ],
      "text/plain": [
       "   ID          p.value score      normalizedScore\n",
       "2  R-HSA-68616 0        0.1565245  0.1565245     \n",
       "5  R-HSA-68875 0        0.1172641  0.1172641     \n",
       "9  R-HSA-68884 0        1.0225575  1.0225575     \n",
       "12 R-HSA-68949 0       -0.5636263 -0.5636263     \n",
       "16 R-HSA-69017 0       -0.6209957 -0.6209957     \n",
       "17 R-HSA-69052 0       -0.5047678 -0.5047678     "
      ]
     },
     "metadata": {},
     "output_type": "display_data"
    }
   ],
   "source": [
    "head(GSA_result[order(GSA_result$p.value), ])"
   ]
  },
  {
   "cell_type": "code",
   "execution_count": 143,
   "id": "00afb710",
   "metadata": {},
   "outputs": [],
   "source": [
    "# List the results from a GSA analysis\n",
    "res <- GSA.listsets(GSA.obj = GSA.obj, geneset.names = names(genesets), FDRcut = .5)"
   ]
  },
  {
   "cell_type": "markdown",
   "id": "e15cdae3",
   "metadata": {},
   "source": [
    "A table of the negative gene sets. \"Negative\" means that lower expression of most genes in the gene set correlates with higher values of the phenotype y. E.g., for two classes coded 1,2, lower expression correlates with class 2."
   ]
  },
  {
   "cell_type": "code",
   "execution_count": 144,
   "id": "c9e7aad4",
   "metadata": {},
   "outputs": [],
   "source": [
    "neg.table <- res$negative\n",
    "head(neg.table)"
   ]
  },
  {
   "cell_type": "markdown",
   "id": "e226ae92",
   "metadata": {},
   "source": [
    "A table of the positive gene sets. \"Positive\" means that higher expression of most genes in the gene set correlates with higher values of the phenotype y. See \"negative\" above for more info."
   ]
  },
  {
   "cell_type": "code",
   "execution_count": 145,
   "id": "bcd7ff3e",
   "metadata": {},
   "outputs": [],
   "source": [
    "pos.table <- res$positive\n",
    "head(pos.table)"
   ]
  },
  {
   "cell_type": "code",
   "execution_count": 146,
   "id": "0d676c13",
   "metadata": {
    "scrolled": true,
    "tags": []
   },
   "outputs": [],
   "source": [
    "# Individual gene scores from a gene set analysis\n",
    "# look at 10th gene set\n",
    "GSA.genescores(geneset.number = 10, genesets = genesets, \n",
    "               GSA.obj = GSA.obj, genenames = genenames)"
   ]
  },
  {
   "cell_type": "code",
   "execution_count": 147,
   "id": "2284bc1f",
   "metadata": {},
   "outputs": [],
   "source": [
    "# Plot the result, this function makes a plot of the significant gene sets, based on a call to the GSA (Gene set analysis) function.\n",
    "suppressWarnings(GSA.plot(GSA.obj, fac = 1, FDRcut = 0.5))\n"
   ]
  },
  {
   "cell_type": "markdown",
   "id": "57c8b700-fe1f-40f0-b96e-97d3eedda337",
   "metadata": {},
   "source": [
    "### Enrichment analysis using GSA and REACTOME pathways\n",
    "We can use the same procedure to per enrichment analysis with the REACTOME pathway. All the codes are similar but `genesets` are assigned from `REACTOME_hallmark`. The code is shown below."
   ]
  },
  {
   "cell_type": "code",
   "execution_count": 148,
   "id": "9f64fdfa-b967-4290-abe3-64e3d4487f58",
   "metadata": {
    "scrolled": true
   },
   "outputs": [],
   "source": [
    "genesets <- REACTOME_hallmark\n",
    "GSA_output <- runGSA(as.matrix(new_expression_data), genesets = genesets, as.numeric(groups), parallel = TRUE, nperms = nperms)\n",
    "# Get GSA_result dataframe and GSA object from output of the runGSA function\n",
    "GSA_result <- GSA_output$GSA_res\n",
    "GSA.obj <- GSA_output$GSA.obj"
   ]
  },
  {
   "cell_type": "code",
   "execution_count": 149,
   "id": "99aecfa8-ff7b-40af-b0a7-ba3fc914e71d",
   "metadata": {},
   "outputs": [],
   "source": [
    "head(GSA_result[order(GSA_result$p.value), ])\n"
   ]
  },
  {
   "cell_type": "code",
   "execution_count": 150,
   "id": "f47bfccc-ee95-4c5c-80df-a5233c3b82db",
   "metadata": {},
   "outputs": [],
   "source": [
    "# List the results from a GSA analysis\n",
    "res <- GSA.listsets(GSA.obj = GSA.obj, geneset.names = names(genesets), FDRcut = .5)"
   ]
  },
  {
   "cell_type": "code",
   "execution_count": 151,
   "id": "af79ff82-2352-4a01-9146-77318039a5bc",
   "metadata": {},
   "outputs": [],
   "source": [
    "neg.table <- res$negative\n",
    "head(neg.table)"
   ]
  },
  {
   "cell_type": "code",
   "execution_count": 152,
   "id": "e84d66dd-c9c9-48a8-b2cb-80b373e43648",
   "metadata": {},
   "outputs": [],
   "source": [
    "pos.table <- res$positive\n",
    "head(pos.table)"
   ]
  },
  {
   "cell_type": "code",
   "execution_count": 153,
   "id": "3700db02-950e-4f26-9682-233edf803d5b",
   "metadata": {
    "scrolled": true
   },
   "outputs": [],
   "source": [
    "# Individual gene scores from a gene set analysis\n",
    "# look at 10th gene set\n",
    "GSA.genescores(geneset.number = 10, genesets = genesets, \n",
    "               GSA.obj = GSA.obj, genenames = genenames)"
   ]
  },
  {
   "cell_type": "code",
   "execution_count": 154,
   "id": "dfcb5446-3ef1-4825-aad1-5cd331945c76",
   "metadata": {},
   "outputs": [],
   "source": [
    "# Plot the result, this function makes a plot of the significant gene sets, based on a call to the GSA (Gene set analysis) function.\n",
    "suppressWarnings(GSA.plot(GSA.obj, fac = 1, FDRcut = 0.5))\n"
   ]
  },
  {
   "cell_type": "markdown",
   "id": "3abc3624-f0a4-4f47-a396-998876d1626e",
   "metadata": {},
   "source": [
    "<!-- headings -->\n",
    "<a id=\"safe-main\"></a>\n",
    "## 6. Enrichment analysis using SAFE\n",
    "\n",
    "\n",
    "Similar to the CAMERA method, the Significance Analysis of Function and Expression (SAFE) method also has two stages. First, it calculates local statistics to measure the significance of each gene's association in the dataset, using tests like the Student’s t-test, Welch’s t-test, t-statistic from a linear model, etc. In the second stage, it computes global statistics to assess the significance of a competitive hypothesis test for each gene set or pathway. These global statistics, including Wilcoxon rank sum, Fisher’s Exact Test, Pearson’s Chi-squared type statistic, and a t-statistic for average difference, help compare various gene sets. To control the false positives rate, SAFE uses permutation of class labels.\n",
    "\n",
    "We can use the function `safe` from the bioconductor `safe` package to perform EA using this method. We first need to install and import the required packages."
   ]
  },
  {
   "cell_type": "code",
   "execution_count": 155,
   "id": "fd189651-f6ce-40f3-96a8-429f9f47e764",
   "metadata": {},
   "outputs": [],
   "source": [
    "# Install and import safe \n",
    "suppressWarnings({\n",
    "    suppressMessages({\n",
    "        if (!require(\"BiocManager\", quietly = TRUE))\n",
    "            install.packages(\"BiocManager\")\n",
    "        \n",
    "        BiocManager::install(\"safe\")\n",
    "        \n",
    "        library(safe)\n",
    "        library(hgu133plus2.db)\n",
    "    })\n",
    "})\n",
    "library(doParallel) \n",
    "\n",
    "registerDoParallel(cores = ncores)\n",
    "nperms <- 2000"
   ]
  },
  {
   "cell_type": "markdown",
   "id": "e83d840a-f287-4fbc-905d-155213c70f92",
   "metadata": {},
   "source": [
    "The `runSAFE` function below requires a gene expression matrix, a list of gene sets, and the group information of the expression matrix. It utilizes the `getCmatrix` and `safe` functions to perform enrichment analysis using the SAFE method. The `getCmatrix` function creates a matrix from a genes list of a dataset and a list of gene sets. This matrix will be used as an input of the `safe` function. "
   ]
  },
  {
   "cell_type": "code",
   "execution_count": 156,
   "id": "fcddfa69-e48a-426f-bfb8-908448f0919c",
   "metadata": {},
   "outputs": [],
   "source": [
    "#' @description This function performs enrichment analysis using the SAFE method.\n",
    "#'\n",
    "#' @param exprsData A numeric matrix or a matrix-like object containing gene expression data. Rows represent genes, columns represent samples.\n",
    "#' @param genesets A list of gene sets to be analyzed.\n",
    "#' @param groups A factor indicating sample groups.\n",
    "#' @param nperms An integer specifying the number of permutations for assessing significance (default is 1000).\n",
    "#' @param seed An integer specifying a seed for reproducibility of permutation results (default is 1).\n",
    "#'\n",
    "#' @return A data frame containing pathway IDs and corresponding p-values.\n",
    "runSAFE <- function(exprsData, geneSet, groups, nperms = 1000, parallel = TRUE, seed = 42) { \n",
    "    set.seed(seed)\n",
    "    # Create the C matrix from the list of gene sets and list of gene IDs in the expression data\n",
    "    C.mat2<- getCmatrix(keyword.list = geneSet, present.genes = rownames(exprsData))\n",
    "    # Perform enrichment analysis using the safe function\n",
    "    results<- safe(as.matrix(exprsData), groups, C.mat = C.mat2, \n",
    "                   platform = \"hgu133plus2.db\", Pi.mat = nperms, \n",
    "                   parallel = parallel, print.it =FALSE)\n",
    "    # Extract the analysis result\n",
    "    res <- safe.toptable(results, number = length(geneset))\n",
    "    return(res)\n",
    "}"
   ]
  },
  {
   "cell_type": "markdown",
   "id": "a451afb4-a1b9-426b-a968-0068a284b1bf",
   "metadata": {},
   "source": [
    "### Enrichment analysis using SAFE and GO terms \n",
    "We can perform SAFE enrichment analysis with GO terms using the following commands."
   ]
  },
  {
   "cell_type": "code",
   "execution_count": 157,
   "id": "e2b60576-f6ee-4f90-b147-9219dc89304c",
   "metadata": {},
   "outputs": [
    {
     "name": "stdout",
     "output_type": "stream",
     "text": [
      "6909 categories formed\n",
      "Warning: y.vec is not (0,1), thus Group 1 == c \n"
     ]
    },
    {
     "data": {
      "text/html": [
       "<table class=\"dataframe\">\n",
       "<caption>A data.frame: 6 × 6</caption>\n",
       "<thead>\n",
       "\t<tr><th></th><th scope=col>GenesetID</th><th scope=col>Size</th><th scope=col>Statistic</th><th scope=col>P.value</th><th scope=col>Adj.p.value</th><th scope=col>Description</th></tr>\n",
       "\t<tr><th></th><th scope=col>&lt;chr&gt;</th><th scope=col>&lt;dbl&gt;</th><th scope=col>&lt;dbl&gt;</th><th scope=col>&lt;chr&gt;</th><th scope=col>&lt;chr&gt;</th><th scope=col>&lt;chr&gt;</th></tr>\n",
       "</thead>\n",
       "<tbody>\n",
       "\t<tr><th scope=row>1</th><td>GO:0006793</td><td>2569</td><td>31148494</td><td>0.1</td><td>0.8793</td><td>phosphorus metabolic process                   </td></tr>\n",
       "\t<tr><th scope=row>2</th><td>GO:0006796</td><td>2542</td><td>30819767</td><td>0.1</td><td>0.8793</td><td>phosphate-containing compound metabolic process</td></tr>\n",
       "\t<tr><th scope=row>3</th><td>GO:0044281</td><td>1869</td><td>22335985</td><td>0.1</td><td>0.8793</td><td>small molecule metabolic process               </td></tr>\n",
       "\t<tr><th scope=row>4</th><td>GO:0044093</td><td>1291</td><td>15547409</td><td>0.1</td><td>0.8793</td><td>positive regulation of molecular function      </td></tr>\n",
       "\t<tr><th scope=row>5</th><td>GO:0051174</td><td>1198</td><td>14368506</td><td>0.1</td><td>0.8793</td><td>regulation of phosphorus metabolic process     </td></tr>\n",
       "\t<tr><th scope=row>6</th><td>GO:0019220</td><td>1197</td><td>14363314</td><td>0.1</td><td>0.8793</td><td>regulation of phosphate metabolic process      </td></tr>\n",
       "</tbody>\n",
       "</table>\n"
      ],
      "text/latex": [
       "A data.frame: 6 × 6\n",
       "\\begin{tabular}{r|llllll}\n",
       "  & GenesetID & Size & Statistic & P.value & Adj.p.value & Description\\\\\n",
       "  & <chr> & <dbl> & <dbl> & <chr> & <chr> & <chr>\\\\\n",
       "\\hline\n",
       "\t1 & GO:0006793 & 2569 & 31148494 & 0.1 & 0.8793 & phosphorus metabolic process                   \\\\\n",
       "\t2 & GO:0006796 & 2542 & 30819767 & 0.1 & 0.8793 & phosphate-containing compound metabolic process\\\\\n",
       "\t3 & GO:0044281 & 1869 & 22335985 & 0.1 & 0.8793 & small molecule metabolic process               \\\\\n",
       "\t4 & GO:0044093 & 1291 & 15547409 & 0.1 & 0.8793 & positive regulation of molecular function      \\\\\n",
       "\t5 & GO:0051174 & 1198 & 14368506 & 0.1 & 0.8793 & regulation of phosphorus metabolic process     \\\\\n",
       "\t6 & GO:0019220 & 1197 & 14363314 & 0.1 & 0.8793 & regulation of phosphate metabolic process      \\\\\n",
       "\\end{tabular}\n"
      ],
      "text/markdown": [
       "\n",
       "A data.frame: 6 × 6\n",
       "\n",
       "| <!--/--> | GenesetID &lt;chr&gt; | Size &lt;dbl&gt; | Statistic &lt;dbl&gt; | P.value &lt;chr&gt; | Adj.p.value &lt;chr&gt; | Description &lt;chr&gt; |\n",
       "|---|---|---|---|---|---|---|\n",
       "| 1 | GO:0006793 | 2569 | 31148494 | 0.1 | 0.8793 | phosphorus metabolic process                    |\n",
       "| 2 | GO:0006796 | 2542 | 30819767 | 0.1 | 0.8793 | phosphate-containing compound metabolic process |\n",
       "| 3 | GO:0044281 | 1869 | 22335985 | 0.1 | 0.8793 | small molecule metabolic process                |\n",
       "| 4 | GO:0044093 | 1291 | 15547409 | 0.1 | 0.8793 | positive regulation of molecular function       |\n",
       "| 5 | GO:0051174 | 1198 | 14368506 | 0.1 | 0.8793 | regulation of phosphorus metabolic process      |\n",
       "| 6 | GO:0019220 | 1197 | 14363314 | 0.1 | 0.8793 | regulation of phosphate metabolic process       |\n",
       "\n"
      ],
      "text/plain": [
       "  GenesetID  Size Statistic P.value Adj.p.value\n",
       "1 GO:0006793 2569 31148494  0.1     0.8793     \n",
       "2 GO:0006796 2542 30819767  0.1     0.8793     \n",
       "3 GO:0044281 1869 22335985  0.1     0.8793     \n",
       "4 GO:0044093 1291 15547409  0.1     0.8793     \n",
       "5 GO:0051174 1198 14368506  0.1     0.8793     \n",
       "6 GO:0019220 1197 14363314  0.1     0.8793     \n",
       "  Description                                    \n",
       "1 phosphorus metabolic process                   \n",
       "2 phosphate-containing compound metabolic process\n",
       "3 small molecule metabolic process               \n",
       "4 positive regulation of molecular function      \n",
       "5 regulation of phosphorus metabolic process     \n",
       "6 regulation of phosphate metabolic process      "
      ]
     },
     "metadata": {},
     "output_type": "display_data"
    }
   ],
   "source": [
    "# Get the GO terms, which is previously loaded for the FGSEA method\n",
    "geneset <- GO_term_hallmark\n",
    "# Perform the analysis using SAFE\n",
    "res <- runSAFE(exprsData = new_expression_data, geneSet = geneset, groups = groups, nperms = nperms)\n",
    "head(res)"
   ]
  },
  {
   "cell_type": "markdown",
   "id": "c97c32de-8a04-4d6c-a6ff-7672a8cfc757",
   "metadata": {},
   "source": [
    "### Enrichment analysis using SAFE and KEGG pathways\n",
    "We can use the same command as for GO terms. We just need to pass the KEGG pathways instead of GO terms."
   ]
  },
  {
   "cell_type": "code",
   "execution_count": 158,
   "id": "5e8339d8-58d5-4cea-877a-a21919ac7dcc",
   "metadata": {},
   "outputs": [
    {
     "name": "stdout",
     "output_type": "stream",
     "text": [
      "345 categories formed\n",
      "Warning: y.vec is not (0,1), thus Group 1 == c \n"
     ]
    },
    {
     "data": {
      "text/html": [
       "<table class=\"dataframe\">\n",
       "<caption>A data.frame: 6 × 6</caption>\n",
       "<thead>\n",
       "\t<tr><th></th><th scope=col>GenesetID</th><th scope=col>Size</th><th scope=col>Statistic</th><th scope=col>P.value</th><th scope=col>Adj.p.value</th><th scope=col>Description</th></tr>\n",
       "\t<tr><th></th><th scope=col>&lt;chr&gt;</th><th scope=col>&lt;dbl&gt;</th><th scope=col>&lt;dbl&gt;</th><th scope=col>&lt;chr&gt;</th><th scope=col>&lt;chr&gt;</th><th scope=col>&lt;chr&gt;</th></tr>\n",
       "</thead>\n",
       "<tbody>\n",
       "\t<tr><th scope=row>1</th><td>hsa05022</td><td>463</td><td>6393856</td><td>0.1</td><td>0.8086</td><td>NA</td></tr>\n",
       "\t<tr><th scope=row>2</th><td>hsa05010</td><td>372</td><td>5119770</td><td>0.1</td><td>0.8086</td><td>NA</td></tr>\n",
       "\t<tr><th scope=row>3</th><td>hsa05014</td><td>353</td><td>4929517</td><td>0.1</td><td>0.8086</td><td>NA</td></tr>\n",
       "\t<tr><th scope=row>4</th><td>hsa05016</td><td>295</td><td>4436718</td><td>0.1</td><td>0.8086</td><td>NA</td></tr>\n",
       "\t<tr><th scope=row>5</th><td>hsa05020</td><td>263</td><td>3896002</td><td>0.1</td><td>0.8086</td><td>NA</td></tr>\n",
       "\t<tr><th scope=row>6</th><td>hsa05012</td><td>258</td><td>3876468</td><td>0.1</td><td>0.8086</td><td>NA</td></tr>\n",
       "</tbody>\n",
       "</table>\n"
      ],
      "text/latex": [
       "A data.frame: 6 × 6\n",
       "\\begin{tabular}{r|llllll}\n",
       "  & GenesetID & Size & Statistic & P.value & Adj.p.value & Description\\\\\n",
       "  & <chr> & <dbl> & <dbl> & <chr> & <chr> & <chr>\\\\\n",
       "\\hline\n",
       "\t1 & hsa05022 & 463 & 6393856 & 0.1 & 0.8086 & NA\\\\\n",
       "\t2 & hsa05010 & 372 & 5119770 & 0.1 & 0.8086 & NA\\\\\n",
       "\t3 & hsa05014 & 353 & 4929517 & 0.1 & 0.8086 & NA\\\\\n",
       "\t4 & hsa05016 & 295 & 4436718 & 0.1 & 0.8086 & NA\\\\\n",
       "\t5 & hsa05020 & 263 & 3896002 & 0.1 & 0.8086 & NA\\\\\n",
       "\t6 & hsa05012 & 258 & 3876468 & 0.1 & 0.8086 & NA\\\\\n",
       "\\end{tabular}\n"
      ],
      "text/markdown": [
       "\n",
       "A data.frame: 6 × 6\n",
       "\n",
       "| <!--/--> | GenesetID &lt;chr&gt; | Size &lt;dbl&gt; | Statistic &lt;dbl&gt; | P.value &lt;chr&gt; | Adj.p.value &lt;chr&gt; | Description &lt;chr&gt; |\n",
       "|---|---|---|---|---|---|---|\n",
       "| 1 | hsa05022 | 463 | 6393856 | 0.1 | 0.8086 | NA |\n",
       "| 2 | hsa05010 | 372 | 5119770 | 0.1 | 0.8086 | NA |\n",
       "| 3 | hsa05014 | 353 | 4929517 | 0.1 | 0.8086 | NA |\n",
       "| 4 | hsa05016 | 295 | 4436718 | 0.1 | 0.8086 | NA |\n",
       "| 5 | hsa05020 | 263 | 3896002 | 0.1 | 0.8086 | NA |\n",
       "| 6 | hsa05012 | 258 | 3876468 | 0.1 | 0.8086 | NA |\n",
       "\n"
      ],
      "text/plain": [
       "  GenesetID Size Statistic P.value Adj.p.value Description\n",
       "1 hsa05022  463  6393856   0.1     0.8086      NA         \n",
       "2 hsa05010  372  5119770   0.1     0.8086      NA         \n",
       "3 hsa05014  353  4929517   0.1     0.8086      NA         \n",
       "4 hsa05016  295  4436718   0.1     0.8086      NA         \n",
       "5 hsa05020  263  3896002   0.1     0.8086      NA         \n",
       "6 hsa05012  258  3876468   0.1     0.8086      NA         "
      ]
     },
     "metadata": {},
     "output_type": "display_data"
    }
   ],
   "source": [
    "# Get the KEGG pathways\n",
    "geneset <- KEGG_hallmark\n",
    "# Perform the analysis using SAFE\n",
    "res <- runSAFE(exprsData = new_expression_data, geneSet = geneset, groups = groups, nperms = nperms)\n",
    "head(res)"
   ]
  },
  {
   "cell_type": "markdown",
   "id": "c77c851c-021a-4377-bb6a-00654ce459fa",
   "metadata": {},
   "source": [
    "### Enrichment analysis using SAFE and REACTOME pathways \n",
    "We can do the same as GO terms and KEGG pathways. "
   ]
  },
  {
   "cell_type": "code",
   "execution_count": 159,
   "id": "def1946b-4057-401d-beb7-8e2146f17f56",
   "metadata": {},
   "outputs": [
    {
     "name": "stdout",
     "output_type": "stream",
     "text": [
      "2358 categories formed\n",
      "Warning: y.vec is not (0,1), thus Group 1 == c \n"
     ]
    },
    {
     "data": {
      "text/html": [
       "<table class=\"dataframe\">\n",
       "<caption>A data.frame: 6 × 6</caption>\n",
       "<thead>\n",
       "\t<tr><th></th><th scope=col>GenesetID</th><th scope=col>Size</th><th scope=col>Statistic</th><th scope=col>P.value</th><th scope=col>Adj.p.value</th><th scope=col>Description</th></tr>\n",
       "\t<tr><th></th><th scope=col>&lt;chr&gt;</th><th scope=col>&lt;dbl&gt;</th><th scope=col>&lt;dbl&gt;</th><th scope=col>&lt;chr&gt;</th><th scope=col>&lt;chr&gt;</th><th scope=col>&lt;chr&gt;</th></tr>\n",
       "</thead>\n",
       "<tbody>\n",
       "\t<tr><th scope=row>1</th><td>R-HSA-1280218</td><td>816</td><td>10081887</td><td>0.1</td><td>0.7060</td><td>NA</td></tr>\n",
       "\t<tr><th scope=row>2</th><td>R-HSA-5653656</td><td>710</td><td> 8699864</td><td>0.1</td><td>0.7060</td><td>NA</td></tr>\n",
       "\t<tr><th scope=row>3</th><td>R-HSA-983169 </td><td>387</td><td> 5007410</td><td>0.1</td><td>0.7060</td><td>NA</td></tr>\n",
       "\t<tr><th scope=row>4</th><td>R-HSA-3700989</td><td>370</td><td> 4586424</td><td>0.1</td><td>0.7060</td><td>NA</td></tr>\n",
       "\t<tr><th scope=row>5</th><td>R-HSA-983168 </td><td>313</td><td> 4181108</td><td>0.1</td><td>0.7060</td><td>NA</td></tr>\n",
       "\t<tr><th scope=row>6</th><td>R-HSA-195721 </td><td>328</td><td> 4150579</td><td>0.1</td><td>0.7060</td><td>NA</td></tr>\n",
       "</tbody>\n",
       "</table>\n"
      ],
      "text/latex": [
       "A data.frame: 6 × 6\n",
       "\\begin{tabular}{r|llllll}\n",
       "  & GenesetID & Size & Statistic & P.value & Adj.p.value & Description\\\\\n",
       "  & <chr> & <dbl> & <dbl> & <chr> & <chr> & <chr>\\\\\n",
       "\\hline\n",
       "\t1 & R-HSA-1280218 & 816 & 10081887 & 0.1 & 0.7060 & NA\\\\\n",
       "\t2 & R-HSA-5653656 & 710 &  8699864 & 0.1 & 0.7060 & NA\\\\\n",
       "\t3 & R-HSA-983169  & 387 &  5007410 & 0.1 & 0.7060 & NA\\\\\n",
       "\t4 & R-HSA-3700989 & 370 &  4586424 & 0.1 & 0.7060 & NA\\\\\n",
       "\t5 & R-HSA-983168  & 313 &  4181108 & 0.1 & 0.7060 & NA\\\\\n",
       "\t6 & R-HSA-195721  & 328 &  4150579 & 0.1 & 0.7060 & NA\\\\\n",
       "\\end{tabular}\n"
      ],
      "text/markdown": [
       "\n",
       "A data.frame: 6 × 6\n",
       "\n",
       "| <!--/--> | GenesetID &lt;chr&gt; | Size &lt;dbl&gt; | Statistic &lt;dbl&gt; | P.value &lt;chr&gt; | Adj.p.value &lt;chr&gt; | Description &lt;chr&gt; |\n",
       "|---|---|---|---|---|---|---|\n",
       "| 1 | R-HSA-1280218 | 816 | 10081887 | 0.1 | 0.7060 | NA |\n",
       "| 2 | R-HSA-5653656 | 710 |  8699864 | 0.1 | 0.7060 | NA |\n",
       "| 3 | R-HSA-983169  | 387 |  5007410 | 0.1 | 0.7060 | NA |\n",
       "| 4 | R-HSA-3700989 | 370 |  4586424 | 0.1 | 0.7060 | NA |\n",
       "| 5 | R-HSA-983168  | 313 |  4181108 | 0.1 | 0.7060 | NA |\n",
       "| 6 | R-HSA-195721  | 328 |  4150579 | 0.1 | 0.7060 | NA |\n",
       "\n"
      ],
      "text/plain": [
       "  GenesetID     Size Statistic P.value Adj.p.value Description\n",
       "1 R-HSA-1280218 816  10081887  0.1     0.7060      NA         \n",
       "2 R-HSA-5653656 710   8699864  0.1     0.7060      NA         \n",
       "3 R-HSA-983169  387   5007410  0.1     0.7060      NA         \n",
       "4 R-HSA-3700989 370   4586424  0.1     0.7060      NA         \n",
       "5 R-HSA-983168  313   4181108  0.1     0.7060      NA         \n",
       "6 R-HSA-195721  328   4150579  0.1     0.7060      NA         "
      ]
     },
     "metadata": {},
     "output_type": "display_data"
    }
   ],
   "source": [
    "# Get the REACTOME pathways\n",
    "geneset <- REACTOME_hallmark\n",
    "# Perform the analysis using SAFE\n",
    "res <- runSAFE(exprsData = new_expression_data, geneSet = geneset, groups = groups, nperms = nperms)\n",
    "head(res)\n",
    "\n"
   ]
  },
  {
   "cell_type": "markdown",
   "id": "36b0036d-b465-4b52-bef0-fa7f39bd40b3",
   "metadata": {},
   "source": [
    "<!-- headings -->\n",
    "<a id=\"padog-main\"></a>\n",
    "## 7. Enrichment analysis using PADOG\n",
    "\n",
    "Pathway Analysis with Down-weighting of Overlapping Genes (PADOG) is a specialized method for enrichment analysis. Focused on deciphering the functional implications of differentially expressed genes in biological pathways, PADOG uniquely emphasizes the uniqueness of genes. Its down-weighting mechanism enhances precision by addressing challenges posed by overlapping genes, offering valuable insights into specific pathways influenced by gene expression changes.\n",
    "\n",
    "To perform PADOG enrichment analysis, we will use the \"PADOG\" package. We first need to install and load the package."
   ]
  },
  {
   "cell_type": "code",
   "execution_count": 160,
   "id": "b09bba68-4e7e-4259-aa48-52a2c36422b2",
   "metadata": {},
   "outputs": [],
   "source": [
    "suppressWarnings({\n",
    "    suppressMessages({\n",
    "        if (!require(\"BiocManager\", quietly = TRUE)) {\n",
    "            install.packages(\"BiocManager\")\n",
    "        }\n",
    "        BiocManager::install(\"PADOG\")\n",
    "    })\n",
    "})\n",
    "\n",
    "suppressWarnings({suppressMessages({library(PADOG)})})\n",
    "\n",
    "nperms <- 2000"
   ]
  },
  {
   "cell_type": "markdown",
   "id": "cc2a61f8-3108-4e7e-a245-0b5a2d7ec1c0",
   "metadata": {},
   "source": [
    "We will use the `runPadog` function below to perform enrichment analysis using `PADOG` package. This function requires a gene expression matrix, a list of gene sets to analyze and the group information of the dataset. It will return the analysis results in a dataframe."
   ]
  },
  {
   "cell_type": "code",
   "execution_count": 161,
   "id": "3b3155c3-0883-46b2-bc87-a7386bfd9576",
   "metadata": {},
   "outputs": [],
   "source": [
    "#' @description This function performs enrichment analysis using the PADOG method.\n",
    "#'\n",
    "#' @param exprsData A numeric matrix or a matrix-like object containing gene expression data. Rows represent genes, columns represent samples.\n",
    "#' @param genesets A list of gene sets to be analzyed.\n",
    "#' @param groups A factor indicating sample groups.\n",
    "#' @param nperms An integer specifying the number of permutations for assessing significance (default is 100).\n",
    "#' @param seed An integer specifying a seed for reproducibility of permutation results (default is 1).\n",
    "#' @param ncores An integer specifying the number of cores to use for parallel processing (default is 100).\n",
    "#'\n",
    "#' @return A data frame containing pathway IDs and corresponding p-values.\n",
    "\n",
    "runPadog <- function(exprsData, geneSet, groups, perm = 100, seed = 1, ncores = 1) {\n",
    "    # Run PADOG analysis\n",
    "    res <- PADOG::padog(\n",
    "        esetm = as.matrix(exprsData),\n",
    "        group = groups,\n",
    "        gslist = geneSet,\n",
    "        annotation = NULL,\n",
    "        gs.names = names(geneSet),\n",
    "        NI = nperms,\n",
    "        plots = FALSE,\n",
    "        targetgs = NULL,\n",
    "        dseed = seed,\n",
    "        parallel = TRUE,\n",
    "        ncr = ncores\n",
    "    )\n",
    "    # Extract relevant columns and rename\n",
    "    res <- res[, c('ID', 'Ppadog')]\n",
    "    colnames(res) <- c(\"pathway\", \"p.value\")\n",
    "    \n",
    "    return(res)\n",
    "}\n"
   ]
  },
  {
   "cell_type": "markdown",
   "id": "2ec13aac-5cea-4ce4-a469-714d94380a5d",
   "metadata": {},
   "source": [
    "The PADOG method requires inputs that are quite similar to the GSA method. Thus, to perform analysis using PADOG, we will use the previously preprocessed `new_expression_data` dataframe and `groups` information for the GSA method above."
   ]
  },
  {
   "cell_type": "markdown",
   "id": "d28b96e6-84ac-460c-9ff2-8c04f8f45235",
   "metadata": {},
   "source": [
    "### Enrichment analysis using PADOG and GO terms"
   ]
  },
  {
   "cell_type": "code",
   "execution_count": 162,
   "id": "fc66fcc6-1696-4572-826c-1462ba7baf40",
   "metadata": {
    "scrolled": true
   },
   "outputs": [],
   "source": [
    "# Assign the geneset variable to GO_term_hallmark loaded in previous code\n",
    "geneset <- GO_term_hallmark\n",
    "# Perform PADOG enrichment analysis using the runPadog function\n",
    "PADOG_result <- runPadog(exprsData = new_expression_data, geneSet = geneset, \n",
    "                         groups = groups, perm = nperms, seed = 1, ncore = ncores)\n",
    "\n",
    "head(PADOG_result)"
   ]
  },
  {
   "cell_type": "markdown",
   "id": "60a039b9-b62e-4ab7-be15-656e36118110",
   "metadata": {},
   "source": [
    "### Enrichment analysis using PADOG and KEGG pathways\n",
    "\n",
    "We can use the same procedure to perform enrichment analysis with the GO terms. All the codes are similar but the gene sets list is loaded from `KEGG`. The code is shown below."
   ]
  },
  {
   "cell_type": "code",
   "execution_count": 163,
   "id": "7ff3b556-d4d5-4384-888c-f69f98b79537",
   "metadata": {},
   "outputs": [],
   "source": [
    "# Assign the geneset variable to KEGG_hallmark loaded in previous code\n",
    "geneset <- KEGG_hallmark\n",
    "# Perform PADOG enrichment analysis using the runPadog function\n",
    "PADOG_result <- runPadog(exprsData = new_expression_data, geneSet = geneset, \n",
    "                         groups = groups, perm = nperms, seed = 1, ncore = ncores)\n",
    "\n",
    "head(PADOG_result)"
   ]
  },
  {
   "cell_type": "markdown",
   "id": "c29ad340-33ee-4a39-a8ae-cd7aa05926bc",
   "metadata": {},
   "source": [
    "### Enrichment analysis using PADOG and REACTOME pathways\n",
    "\n",
    "We will apply the same code that has been used for the GO terms and KEGG pathways."
   ]
  },
  {
   "cell_type": "code",
   "execution_count": 164,
   "id": "c2b0002b-3c8e-4b7f-91f8-d2198e785100",
   "metadata": {},
   "outputs": [],
   "source": [
    "# Assign the geneset variable to REACTOME_hallmark loaded in previous code\n",
    "geneset <- REACTOME_hallmark\n",
    "# Perform PADOG enrichment analysis using the runPadog function\n",
    "PADOG_result <- runPadog(exprsData = new_expression_data, geneSet = geneset, \n",
    "                         groups = groups, perm = nperms, seed = 1, ncore = ncores)\n",
    "\n",
    "head(PADOG_result)"
   ]
  },
  {
   "cell_type": "markdown",
   "id": "49fd3929-7d2e-401d-93c6-24572bec35f6",
   "metadata": {},
   "source": [
    "The next submodule will go indepth about meta analysis."
   ]
  },
  {
   "cell_type": "code",
   "execution_count": 166,
   "id": "e870e8eb-ee47-439b-8154-0a720927bd79",
   "metadata": {},
   "outputs": [
    {
     "data": {
      "text/plain": [
       "R version 4.3.2 (2023-10-31)\n",
       "Platform: x86_64-apple-darwin20 (64-bit)\n",
       "Running under: macOS Ventura 13.6.4\n",
       "\n",
       "Matrix products: default\n",
       "BLAS:   /Library/Frameworks/R.framework/Versions/4.3-x86_64/Resources/lib/libRblas.0.dylib \n",
       "LAPACK: /Library/Frameworks/R.framework/Versions/4.3-x86_64/Resources/lib/libRlapack.dylib;  LAPACK version 3.11.0\n",
       "\n",
       "locale:\n",
       "[1] en_US.UTF-8/en_US.UTF-8/en_US.UTF-8/C/en_US.UTF-8/en_US.UTF-8\n",
       "\n",
       "time zone: America/Chicago\n",
       "tzcode source: internal\n",
       "\n",
       "attached base packages:\n",
       "[1] stats4    parallel  stats     graphics  grDevices utils     datasets \n",
       "[8] methods   base     \n",
       "\n",
       "other attached packages:\n",
       " [1] PADOG_1.44.0             KEGGdzPathwaysGEO_1.40.0 GO.db_3.18.0            \n",
       " [4] doRNG_1.8.6              rngtools_1.5.2           hgu133plus2.db_3.13.0   \n",
       " [7] org.Hs.eg.db_3.18.0      safe_3.42.0              SparseM_1.81            \n",
       "[10] AnnotationDbi_1.64.1     IRanges_2.36.0           S4Vectors_0.40.2        \n",
       "[13] Biobase_2.62.0           BiocGenerics_0.48.1      doParallel_1.0.17       \n",
       "[16] iterators_1.0.14         foreach_1.5.2            GSA_1.03.2              \n",
       "[19] fgsea_1.28.0             BiocManager_1.30.22      limma_3.58.1            \n",
       "\n",
       "loaded via a namespace (and not attached):\n",
       " [1] tidyselect_1.2.0        IRdisplay_1.1           dplyr_1.1.4            \n",
       " [4] farver_2.1.1            blob_1.2.4              Biostrings_2.70.2      \n",
       " [7] bitops_1.0-7            fastmap_1.1.1           RCurl_1.98-1.14        \n",
       "[10] digest_0.6.34           lifecycle_1.0.4         Cairo_1.6-2            \n",
       "[13] statmod_1.5.0           KEGGREST_1.42.0         RSQLite_2.3.5          \n",
       "[16] magrittr_2.0.3          compiler_4.3.2          rlang_1.1.3            \n",
       "[19] tools_4.3.2             utf8_1.2.4              data.table_1.15.0      \n",
       "[22] labeling_0.4.3          bit_4.0.5               repr_1.1.6             \n",
       "[25] BiocParallel_1.36.0     pbdZMQ_0.3-11           hgu133a.db_3.13.0      \n",
       "[28] withr_3.0.0             grid_4.3.2              fansi_1.0.6            \n",
       "[31] colorspace_2.1-0        ggplot2_3.4.4           scales_1.3.0           \n",
       "[34] cli_3.6.2               crayon_1.5.2            generics_0.1.3         \n",
       "[37] httr_1.4.7              DBI_1.2.2               cachem_1.0.8           \n",
       "[40] zlibbioc_1.48.0         XVector_0.42.0          base64enc_0.1-3        \n",
       "[43] vctrs_0.6.5             Matrix_1.6-5            jsonlite_1.8.8         \n",
       "[46] bit64_4.0.5             glue_1.7.0              codetools_0.2-19       \n",
       "[49] cowplot_1.1.3           gtable_0.3.4            GenomeInfoDb_1.38.6    \n",
       "[52] munsell_0.5.0           tibble_3.2.1            pillar_1.9.0           \n",
       "[55] htmltools_0.5.7         IRkernel_1.3.2          GenomeInfoDbData_1.2.11\n",
       "[58] R6_2.5.1                evaluate_0.23           lattice_0.22-5         \n",
       "[61] png_0.1-8               memoise_2.0.1           Rcpp_1.0.12            \n",
       "[64] uuid_1.2-0              fastmatch_1.1-4         nlme_3.1-164           \n",
       "[67] pkgconfig_2.0.3        "
      ]
     },
     "metadata": {},
     "output_type": "display_data"
    }
   ],
   "source": [
    "sessionInfo()"
   ]
  },
  {
   "cell_type": "code",
   "execution_count": null,
   "id": "ca1ba4ed-3e1c-4d5a-8554-40703527a4d5",
   "metadata": {},
   "outputs": [],
   "source": []
  },
  {
   "cell_type": "code",
   "execution_count": null,
   "id": "15f0ff04-d286-4689-8844-e0f8c570f63d",
   "metadata": {},
   "outputs": [],
   "source": []
  }
 ],
 "metadata": {
  "celltoolbar": "Tags",
  "environment": {
   "kernel": "ir",
   "name": ".m114",
   "type": "gcloud",
   "uri": "gcr.io/deeplearning-platform-release/:m114"
  },
  "kernelspec": {
   "display_name": "R",
   "language": "R",
   "name": "ir"
  },
  "language_info": {
   "codemirror_mode": "r",
   "file_extension": ".r",
   "mimetype": "text/x-r-source",
   "name": "R",
   "pygments_lexer": "r",
   "version": "4.3.2"
  },
  "toc-showcode": true,
  "widgets": {
   "application/vnd.jupyter.widget-state+json": {
    "state": {},
    "version_major": 2,
    "version_minor": 0
   }
  }
 },
 "nbformat": 4,
 "nbformat_minor": 5
}
